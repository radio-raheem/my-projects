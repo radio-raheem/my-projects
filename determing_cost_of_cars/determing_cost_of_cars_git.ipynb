{
 "cells": [
  {
   "cell_type": "markdown",
   "metadata": {},
   "source": [
    "# Определение стоимости автомобилей"
   ]
  },
  {
   "cell_type": "markdown",
   "metadata": {},
   "source": [
    "Сервис по продаже автомобилей с пробегом разрабатывает приложение для привлечения новых клиентов. В нём можно быстро узнать рыночную стоимость своего автомобиля. В нашем распоряжении исторические данные: технические характеристики, комплектации и цены автомобилей. Нам нужно построить модель для определения стоимости. \n",
    "\n",
    "Заказчику важны:\n",
    "\n",
    "- качество предсказания;\n",
    "- скорость предсказания;\n",
    "- время обучения."
   ]
  },
  {
   "cell_type": "markdown",
   "metadata": {},
   "source": [
    "Основными этапами нашего проекта станут:\n",
    "\n",
    "* Загрузка и подготовка данных\n",
    "* Обучение разных моделей. Регулировка гиперпараметров\n",
    "* Анализ скорости работы моделей и их качества\n",
    "  \n",
    "Проект выполнен в **Jupyter Notebook**, версия сервера блокнотов: 6.1.4. Версия **Python** 3.7.8.\n",
    "В проекте использованы библиотеки: \n",
    "* **Pandas**\n",
    "* **NumPy**\n",
    "* **scikit-learn**\n",
    "* **MatPlotLib**\n",
    "* **Seaborn**\n",
    "* **Light GBM**\n",
    "* **IPython**\n",
    "* **re**\n",
    "* **time**"
   ]
  },
  {
   "cell_type": "markdown",
   "metadata": {},
   "source": [
    "## Подготовка данных"
   ]
  },
  {
   "cell_type": "code",
   "execution_count": 1,
   "metadata": {},
   "outputs": [
    {
     "name": "stdout",
     "output_type": "stream",
     "text": [
      "\u001b[33mWARNING: Ignoring invalid distribution -eaborn (/opt/conda/lib/python3.9/site-packages)\u001b[0m\n",
      "\u001b[33mWARNING: Ignoring invalid distribution -eaborn (/opt/conda/lib/python3.9/site-packages)\u001b[0m\n",
      "Collecting seaborn==0.11.2\n",
      "  Using cached seaborn-0.11.2-py3-none-any.whl (292 kB)\n",
      "Requirement already satisfied: scipy>=1.0 in /opt/conda/lib/python3.9/site-packages (from seaborn==0.11.2) (1.8.0)\n",
      "Requirement already satisfied: pandas>=0.23 in /opt/conda/lib/python3.9/site-packages (from seaborn==0.11.2) (1.2.4)\n",
      "Requirement already satisfied: numpy>=1.15 in /opt/conda/lib/python3.9/site-packages (from seaborn==0.11.2) (1.21.1)\n",
      "Requirement already satisfied: matplotlib>=2.2 in /opt/conda/lib/python3.9/site-packages (from seaborn==0.11.2) (3.3.4)\n",
      "Requirement already satisfied: python-dateutil>=2.1 in /opt/conda/lib/python3.9/site-packages (from matplotlib>=2.2->seaborn==0.11.2) (2.8.1)\n",
      "Requirement already satisfied: cycler>=0.10 in /opt/conda/lib/python3.9/site-packages (from matplotlib>=2.2->seaborn==0.11.2) (0.11.0)\n",
      "Requirement already satisfied: pillow>=6.2.0 in /opt/conda/lib/python3.9/site-packages (from matplotlib>=2.2->seaborn==0.11.2) (8.4.0)\n",
      "Requirement already satisfied: pyparsing!=2.0.4,!=2.1.2,!=2.1.6,>=2.0.3 in /opt/conda/lib/python3.9/site-packages (from matplotlib>=2.2->seaborn==0.11.2) (2.4.7)\n",
      "Requirement already satisfied: kiwisolver>=1.0.1 in /opt/conda/lib/python3.9/site-packages (from matplotlib>=2.2->seaborn==0.11.2) (1.4.0)\n",
      "Requirement already satisfied: pytz>=2017.3 in /opt/conda/lib/python3.9/site-packages (from pandas>=0.23->seaborn==0.11.2) (2021.1)\n",
      "Requirement already satisfied: six>=1.5 in /opt/conda/lib/python3.9/site-packages (from python-dateutil>=2.1->matplotlib>=2.2->seaborn==0.11.2) (1.16.0)\n",
      "\u001b[33mWARNING: Ignoring invalid distribution -eaborn (/opt/conda/lib/python3.9/site-packages)\u001b[0m\n",
      "Installing collected packages: seaborn\n",
      "  Attempting uninstall: seaborn\n",
      "\u001b[33m    WARNING: Ignoring invalid distribution -eaborn (/opt/conda/lib/python3.9/site-packages)\u001b[0m\n",
      "    Found existing installation: seaborn 0.11.1\n",
      "    Uninstalling seaborn-0.11.1:\n",
      "\u001b[31mERROR: Could not install packages due to an OSError: [Errno 13] Permission denied: 'LICENSE'\n",
      "Consider using the `--user` option or check the permissions.\n",
      "\u001b[0m\n",
      "\u001b[33mWARNING: Ignoring invalid distribution -eaborn (/opt/conda/lib/python3.9/site-packages)\u001b[0m\n",
      "\u001b[33mWARNING: Ignoring invalid distribution -eaborn (/opt/conda/lib/python3.9/site-packages)\u001b[0m\n",
      "\u001b[33mWARNING: Ignoring invalid distribution -eaborn (/opt/conda/lib/python3.9/site-packages)\u001b[0m\n",
      "Note: you may need to restart the kernel to use updated packages.\n"
     ]
    }
   ],
   "source": [
    "pip install seaborn==0.11.2"
   ]
  },
  {
   "cell_type": "code",
   "execution_count": 2,
   "metadata": {
    "scrolled": false
   },
   "outputs": [
    {
     "name": "stdout",
     "output_type": "stream",
     "text": [
      "\u001b[1mТаблица № 1. Информация об исходном датасете\n",
      "<class 'pandas.core.frame.DataFrame'>\n",
      "RangeIndex: 354369 entries, 0 to 354368\n",
      "Data columns (total 16 columns):\n",
      " #   Column             Non-Null Count   Dtype \n",
      "---  ------             --------------   ----- \n",
      " 0   DateCrawled        354369 non-null  object\n",
      " 1   Price              354369 non-null  int64 \n",
      " 2   VehicleType        316879 non-null  object\n",
      " 3   RegistrationYear   354369 non-null  int64 \n",
      " 4   Gearbox            334536 non-null  object\n",
      " 5   Power              354369 non-null  int64 \n",
      " 6   Model              334664 non-null  object\n",
      " 7   Kilometer          354369 non-null  int64 \n",
      " 8   RegistrationMonth  354369 non-null  int64 \n",
      " 9   FuelType           321474 non-null  object\n",
      " 10  Brand              354369 non-null  object\n",
      " 11  NotRepaired        283215 non-null  object\n",
      " 12  DateCreated        354369 non-null  object\n",
      " 13  NumberOfPictures   354369 non-null  int64 \n",
      " 14  PostalCode         354369 non-null  int64 \n",
      " 15  LastSeen           354369 non-null  object\n",
      "dtypes: int64(7), object(9)\n",
      "memory usage: 43.3+ MB\n",
      "\u001b[1mТаблица № 2. Исходный датасет\n"
     ]
    },
    {
     "data": {
      "text/html": [
       "<div>\n",
       "<style scoped>\n",
       "    .dataframe tbody tr th:only-of-type {\n",
       "        vertical-align: middle;\n",
       "    }\n",
       "\n",
       "    .dataframe tbody tr th {\n",
       "        vertical-align: top;\n",
       "    }\n",
       "\n",
       "    .dataframe thead th {\n",
       "        text-align: right;\n",
       "    }\n",
       "</style>\n",
       "<table border=\"1\" class=\"dataframe\">\n",
       "  <thead>\n",
       "    <tr style=\"text-align: right;\">\n",
       "      <th></th>\n",
       "      <th>DateCrawled</th>\n",
       "      <th>Price</th>\n",
       "      <th>VehicleType</th>\n",
       "      <th>RegistrationYear</th>\n",
       "      <th>Gearbox</th>\n",
       "      <th>Power</th>\n",
       "      <th>Model</th>\n",
       "      <th>Kilometer</th>\n",
       "      <th>RegistrationMonth</th>\n",
       "      <th>FuelType</th>\n",
       "      <th>Brand</th>\n",
       "      <th>NotRepaired</th>\n",
       "      <th>DateCreated</th>\n",
       "      <th>NumberOfPictures</th>\n",
       "      <th>PostalCode</th>\n",
       "      <th>LastSeen</th>\n",
       "    </tr>\n",
       "  </thead>\n",
       "  <tbody>\n",
       "    <tr>\n",
       "      <th>0</th>\n",
       "      <td>2016-03-24 11:52:17</td>\n",
       "      <td>480</td>\n",
       "      <td>NaN</td>\n",
       "      <td>1993</td>\n",
       "      <td>manual</td>\n",
       "      <td>0</td>\n",
       "      <td>golf</td>\n",
       "      <td>150000</td>\n",
       "      <td>0</td>\n",
       "      <td>petrol</td>\n",
       "      <td>volkswagen</td>\n",
       "      <td>NaN</td>\n",
       "      <td>2016-03-24 00:00:00</td>\n",
       "      <td>0</td>\n",
       "      <td>70435</td>\n",
       "      <td>2016-04-07 03:16:57</td>\n",
       "    </tr>\n",
       "    <tr>\n",
       "      <th>1</th>\n",
       "      <td>2016-03-24 10:58:45</td>\n",
       "      <td>18300</td>\n",
       "      <td>coupe</td>\n",
       "      <td>2011</td>\n",
       "      <td>manual</td>\n",
       "      <td>190</td>\n",
       "      <td>NaN</td>\n",
       "      <td>125000</td>\n",
       "      <td>5</td>\n",
       "      <td>gasoline</td>\n",
       "      <td>audi</td>\n",
       "      <td>yes</td>\n",
       "      <td>2016-03-24 00:00:00</td>\n",
       "      <td>0</td>\n",
       "      <td>66954</td>\n",
       "      <td>2016-04-07 01:46:50</td>\n",
       "    </tr>\n",
       "    <tr>\n",
       "      <th>2</th>\n",
       "      <td>2016-03-14 12:52:21</td>\n",
       "      <td>9800</td>\n",
       "      <td>suv</td>\n",
       "      <td>2004</td>\n",
       "      <td>auto</td>\n",
       "      <td>163</td>\n",
       "      <td>grand</td>\n",
       "      <td>125000</td>\n",
       "      <td>8</td>\n",
       "      <td>gasoline</td>\n",
       "      <td>jeep</td>\n",
       "      <td>NaN</td>\n",
       "      <td>2016-03-14 00:00:00</td>\n",
       "      <td>0</td>\n",
       "      <td>90480</td>\n",
       "      <td>2016-04-05 12:47:46</td>\n",
       "    </tr>\n",
       "    <tr>\n",
       "      <th>3</th>\n",
       "      <td>2016-03-17 16:54:04</td>\n",
       "      <td>1500</td>\n",
       "      <td>small</td>\n",
       "      <td>2001</td>\n",
       "      <td>manual</td>\n",
       "      <td>75</td>\n",
       "      <td>golf</td>\n",
       "      <td>150000</td>\n",
       "      <td>6</td>\n",
       "      <td>petrol</td>\n",
       "      <td>volkswagen</td>\n",
       "      <td>no</td>\n",
       "      <td>2016-03-17 00:00:00</td>\n",
       "      <td>0</td>\n",
       "      <td>91074</td>\n",
       "      <td>2016-03-17 17:40:17</td>\n",
       "    </tr>\n",
       "    <tr>\n",
       "      <th>4</th>\n",
       "      <td>2016-03-31 17:25:20</td>\n",
       "      <td>3600</td>\n",
       "      <td>small</td>\n",
       "      <td>2008</td>\n",
       "      <td>manual</td>\n",
       "      <td>69</td>\n",
       "      <td>fabia</td>\n",
       "      <td>90000</td>\n",
       "      <td>7</td>\n",
       "      <td>gasoline</td>\n",
       "      <td>skoda</td>\n",
       "      <td>no</td>\n",
       "      <td>2016-03-31 00:00:00</td>\n",
       "      <td>0</td>\n",
       "      <td>60437</td>\n",
       "      <td>2016-04-06 10:17:21</td>\n",
       "    </tr>\n",
       "    <tr>\n",
       "      <th>...</th>\n",
       "      <td>...</td>\n",
       "      <td>...</td>\n",
       "      <td>...</td>\n",
       "      <td>...</td>\n",
       "      <td>...</td>\n",
       "      <td>...</td>\n",
       "      <td>...</td>\n",
       "      <td>...</td>\n",
       "      <td>...</td>\n",
       "      <td>...</td>\n",
       "      <td>...</td>\n",
       "      <td>...</td>\n",
       "      <td>...</td>\n",
       "      <td>...</td>\n",
       "      <td>...</td>\n",
       "      <td>...</td>\n",
       "    </tr>\n",
       "    <tr>\n",
       "      <th>354364</th>\n",
       "      <td>2016-03-21 09:50:58</td>\n",
       "      <td>0</td>\n",
       "      <td>NaN</td>\n",
       "      <td>2005</td>\n",
       "      <td>manual</td>\n",
       "      <td>0</td>\n",
       "      <td>colt</td>\n",
       "      <td>150000</td>\n",
       "      <td>7</td>\n",
       "      <td>petrol</td>\n",
       "      <td>mitsubishi</td>\n",
       "      <td>yes</td>\n",
       "      <td>2016-03-21 00:00:00</td>\n",
       "      <td>0</td>\n",
       "      <td>2694</td>\n",
       "      <td>2016-03-21 10:42:49</td>\n",
       "    </tr>\n",
       "    <tr>\n",
       "      <th>354365</th>\n",
       "      <td>2016-03-14 17:48:27</td>\n",
       "      <td>2200</td>\n",
       "      <td>NaN</td>\n",
       "      <td>2005</td>\n",
       "      <td>NaN</td>\n",
       "      <td>0</td>\n",
       "      <td>NaN</td>\n",
       "      <td>20000</td>\n",
       "      <td>1</td>\n",
       "      <td>NaN</td>\n",
       "      <td>sonstige_autos</td>\n",
       "      <td>NaN</td>\n",
       "      <td>2016-03-14 00:00:00</td>\n",
       "      <td>0</td>\n",
       "      <td>39576</td>\n",
       "      <td>2016-04-06 00:46:52</td>\n",
       "    </tr>\n",
       "    <tr>\n",
       "      <th>354366</th>\n",
       "      <td>2016-03-05 19:56:21</td>\n",
       "      <td>1199</td>\n",
       "      <td>convertible</td>\n",
       "      <td>2000</td>\n",
       "      <td>auto</td>\n",
       "      <td>101</td>\n",
       "      <td>fortwo</td>\n",
       "      <td>125000</td>\n",
       "      <td>3</td>\n",
       "      <td>petrol</td>\n",
       "      <td>smart</td>\n",
       "      <td>no</td>\n",
       "      <td>2016-03-05 00:00:00</td>\n",
       "      <td>0</td>\n",
       "      <td>26135</td>\n",
       "      <td>2016-03-11 18:17:12</td>\n",
       "    </tr>\n",
       "    <tr>\n",
       "      <th>354367</th>\n",
       "      <td>2016-03-19 18:57:12</td>\n",
       "      <td>9200</td>\n",
       "      <td>bus</td>\n",
       "      <td>1996</td>\n",
       "      <td>manual</td>\n",
       "      <td>102</td>\n",
       "      <td>transporter</td>\n",
       "      <td>150000</td>\n",
       "      <td>3</td>\n",
       "      <td>gasoline</td>\n",
       "      <td>volkswagen</td>\n",
       "      <td>no</td>\n",
       "      <td>2016-03-19 00:00:00</td>\n",
       "      <td>0</td>\n",
       "      <td>87439</td>\n",
       "      <td>2016-04-07 07:15:26</td>\n",
       "    </tr>\n",
       "    <tr>\n",
       "      <th>354368</th>\n",
       "      <td>2016-03-20 19:41:08</td>\n",
       "      <td>3400</td>\n",
       "      <td>wagon</td>\n",
       "      <td>2002</td>\n",
       "      <td>manual</td>\n",
       "      <td>100</td>\n",
       "      <td>golf</td>\n",
       "      <td>150000</td>\n",
       "      <td>6</td>\n",
       "      <td>gasoline</td>\n",
       "      <td>volkswagen</td>\n",
       "      <td>NaN</td>\n",
       "      <td>2016-03-20 00:00:00</td>\n",
       "      <td>0</td>\n",
       "      <td>40764</td>\n",
       "      <td>2016-03-24 12:45:21</td>\n",
       "    </tr>\n",
       "  </tbody>\n",
       "</table>\n",
       "<p>354369 rows × 16 columns</p>\n",
       "</div>"
      ],
      "text/plain": [
       "                DateCrawled  Price  VehicleType  RegistrationYear Gearbox  \\\n",
       "0       2016-03-24 11:52:17    480          NaN              1993  manual   \n",
       "1       2016-03-24 10:58:45  18300        coupe              2011  manual   \n",
       "2       2016-03-14 12:52:21   9800          suv              2004    auto   \n",
       "3       2016-03-17 16:54:04   1500        small              2001  manual   \n",
       "4       2016-03-31 17:25:20   3600        small              2008  manual   \n",
       "...                     ...    ...          ...               ...     ...   \n",
       "354364  2016-03-21 09:50:58      0          NaN              2005  manual   \n",
       "354365  2016-03-14 17:48:27   2200          NaN              2005     NaN   \n",
       "354366  2016-03-05 19:56:21   1199  convertible              2000    auto   \n",
       "354367  2016-03-19 18:57:12   9200          bus              1996  manual   \n",
       "354368  2016-03-20 19:41:08   3400        wagon              2002  manual   \n",
       "\n",
       "        Power        Model  Kilometer  RegistrationMonth  FuelType  \\\n",
       "0           0         golf     150000                  0    petrol   \n",
       "1         190          NaN     125000                  5  gasoline   \n",
       "2         163        grand     125000                  8  gasoline   \n",
       "3          75         golf     150000                  6    petrol   \n",
       "4          69        fabia      90000                  7  gasoline   \n",
       "...       ...          ...        ...                ...       ...   \n",
       "354364      0         colt     150000                  7    petrol   \n",
       "354365      0          NaN      20000                  1       NaN   \n",
       "354366    101       fortwo     125000                  3    petrol   \n",
       "354367    102  transporter     150000                  3  gasoline   \n",
       "354368    100         golf     150000                  6  gasoline   \n",
       "\n",
       "                 Brand NotRepaired          DateCreated  NumberOfPictures  \\\n",
       "0           volkswagen         NaN  2016-03-24 00:00:00                 0   \n",
       "1                 audi         yes  2016-03-24 00:00:00                 0   \n",
       "2                 jeep         NaN  2016-03-14 00:00:00                 0   \n",
       "3           volkswagen          no  2016-03-17 00:00:00                 0   \n",
       "4                skoda          no  2016-03-31 00:00:00                 0   \n",
       "...                ...         ...                  ...               ...   \n",
       "354364      mitsubishi         yes  2016-03-21 00:00:00                 0   \n",
       "354365  sonstige_autos         NaN  2016-03-14 00:00:00                 0   \n",
       "354366           smart          no  2016-03-05 00:00:00                 0   \n",
       "354367      volkswagen          no  2016-03-19 00:00:00                 0   \n",
       "354368      volkswagen         NaN  2016-03-20 00:00:00                 0   \n",
       "\n",
       "        PostalCode             LastSeen  \n",
       "0            70435  2016-04-07 03:16:57  \n",
       "1            66954  2016-04-07 01:46:50  \n",
       "2            90480  2016-04-05 12:47:46  \n",
       "3            91074  2016-03-17 17:40:17  \n",
       "4            60437  2016-04-06 10:17:21  \n",
       "...            ...                  ...  \n",
       "354364        2694  2016-03-21 10:42:49  \n",
       "354365       39576  2016-04-06 00:46:52  \n",
       "354366       26135  2016-03-11 18:17:12  \n",
       "354367       87439  2016-04-07 07:15:26  \n",
       "354368       40764  2016-03-24 12:45:21  \n",
       "\n",
       "[354369 rows x 16 columns]"
      ]
     },
     "metadata": {},
     "output_type": "display_data"
    }
   ],
   "source": [
    "# Загрузим необходимые для выполнения проекта библиотеки и модули.\n",
    "import pandas as pd\n",
    "import numpy as np\n",
    "import seaborn as sns\n",
    "import matplotlib.pyplot as plt\n",
    "from IPython.display import display\n",
    "from sklearn.model_selection import train_test_split\n",
    "import lightgbm as lgb\n",
    "from sklearn.linear_model import SGDRegressor\n",
    "from sklearn.linear_model import LinearRegression\n",
    "from sklearn.ensemble import RandomForestRegressor\n",
    "from sklearn.tree import DecisionTreeRegressor\n",
    "from sklearn.dummy import DummyRegressor\n",
    "from sklearn.metrics import mean_squared_error, r2_score\n",
    "from sklearn.metrics import mean_absolute_error, make_scorer\n",
    "from sklearn.preprocessing import StandardScaler\n",
    "from sklearn.model_selection import cross_val_score\n",
    "from sklearn.model_selection import GridSearchCV\n",
    "import re\n",
    "import time\n",
    "\n",
    "import warnings\n",
    "warnings.simplefilter(action='ignore', category=FutureWarning)\n",
    "\n",
    "# Загрузим данные\n",
    "data = pd.read_csv('/datasets/autos.csv')\n",
    "# Изучим их\n",
    "print('\\033[1m' + 'Таблица № 1. Информация об исходном датасете')\n",
    "data.info()\n",
    "print('\\033[1m' + 'Таблица № 2. Исходный датасет')\n",
    "display(data)"
   ]
  },
  {
   "cell_type": "code",
   "execution_count": 3,
   "metadata": {
    "scrolled": false
   },
   "outputs": [
    {
     "name": "stdout",
     "output_type": "stream",
     "text": [
      "\u001b[1mТаблица № 3. Информация о датасете с измененными названиями столбцов\n",
      "<class 'pandas.core.frame.DataFrame'>\n",
      "RangeIndex: 354369 entries, 0 to 354368\n",
      "Data columns (total 16 columns):\n",
      " #   Column              Non-Null Count   Dtype \n",
      "---  ------              --------------   ----- \n",
      " 0   date_crawled        354369 non-null  object\n",
      " 1   price               354369 non-null  int64 \n",
      " 2   vehicle_type        316879 non-null  object\n",
      " 3   registration_year   354369 non-null  int64 \n",
      " 4   gearbox             334536 non-null  object\n",
      " 5   power               354369 non-null  int64 \n",
      " 6   model               334664 non-null  object\n",
      " 7   kilometer           354369 non-null  int64 \n",
      " 8   registration_month  354369 non-null  int64 \n",
      " 9   fuel_type           321474 non-null  object\n",
      " 10  brand               354369 non-null  object\n",
      " 11  not_repaired        283215 non-null  object\n",
      " 12  date_created        354369 non-null  object\n",
      " 13  number_of_pictures  354369 non-null  int64 \n",
      " 14  postal_code         354369 non-null  int64 \n",
      " 15  last_seen           354369 non-null  object\n",
      "dtypes: int64(7), object(9)\n",
      "memory usage: 43.3+ MB\n"
     ]
    }
   ],
   "source": [
    "# Напишем функцию column_renamer, позволяющуюю\n",
    "# изменить регистр букв названий столбцов и \n",
    "# разделить слова нижними подчеркиваниями.\n",
    "def column_renamer(data):\n",
    "    new_names_list = []\n",
    "    for column in data.columns:\n",
    "        # Напишем регулярное выражение\n",
    "        name = re.sub('(?!^)([A-Z]+)', r'_\\1', column).lower()\n",
    "        new_names_list.append(name)\n",
    "    return new_names_list\n",
    "\n",
    "data.columns = column_renamer(data)\n",
    "print('\\033[1m' + \n",
    "      'Таблица № 3. Информация о датасете с измененными названиями столбцов')\n",
    "data.info()"
   ]
  },
  {
   "cell_type": "code",
   "execution_count": 4,
   "metadata": {},
   "outputs": [
    {
     "name": "stdout",
     "output_type": "stream",
     "text": [
      "\u001b[1mТаблица № 4. Количество уникальных значений в столбце number_of_pictures\n"
     ]
    },
    {
     "data": {
      "text/plain": [
       "0    354369\n",
       "Name: number_of_pictures, dtype: int64"
      ]
     },
     "metadata": {},
     "output_type": "display_data"
    },
    {
     "name": "stdout",
     "output_type": "stream",
     "text": [
      "\u001b[1mТаблица № 5. Информация о датасете после удаления лишних столбцов\n",
      "<class 'pandas.core.frame.DataFrame'>\n",
      "RangeIndex: 354369 entries, 0 to 354368\n",
      "Data columns (total 12 columns):\n",
      " #   Column             Non-Null Count   Dtype \n",
      "---  ------             --------------   ----- \n",
      " 0   price              354369 non-null  int64 \n",
      " 1   vehicle_type       316879 non-null  object\n",
      " 2   registration_year  354369 non-null  int64 \n",
      " 3   gearbox            334536 non-null  object\n",
      " 4   power              354369 non-null  int64 \n",
      " 5   model              334664 non-null  object\n",
      " 6   kilometer          354369 non-null  int64 \n",
      " 7   fuel_type          321474 non-null  object\n",
      " 8   brand              354369 non-null  object\n",
      " 9   not_repaired       283215 non-null  object\n",
      " 10  date_created       354369 non-null  object\n",
      " 11  postal_code        354369 non-null  int64 \n",
      "dtypes: int64(5), object(7)\n",
      "memory usage: 32.4+ MB\n"
     ]
    }
   ],
   "source": [
    "# Столбцы date_crawled, registration_month,\n",
    "# last_seen никак не пригодятся нам для обучения модели.\n",
    "# Уберём их.\n",
    "data = data.drop(\n",
    "    ['date_crawled', 'registration_month', 'last_seen'], \n",
    "    axis=1\n",
    ")\n",
    "# Кажется, в столбце number_of_pictures одни нули.\n",
    "# Если так, то он нам не нужен.\n",
    "print('\\033[1m' + \n",
    "      'Таблица № 4. Количество уникальных значений в столбце number_of_pictures')\n",
    "display(data['number_of_pictures'].value_counts())\n",
    "# Избавимся и от него.\n",
    "data = data.drop(['number_of_pictures'], axis=1)\n",
    "print('\\033[1m' + \n",
    "      'Таблица № 5. Информация о датасете после удаления лишних столбцов')\n",
    "data.info()"
   ]
  },
  {
   "cell_type": "code",
   "execution_count": 5,
   "metadata": {},
   "outputs": [
    {
     "name": "stdout",
     "output_type": "stream",
     "text": [
      "\u001b[1mТаблица № 6. Датасет, после переформатирования столбца date_created и его переименования на month_created\n"
     ]
    },
    {
     "data": {
      "text/html": [
       "<div>\n",
       "<style scoped>\n",
       "    .dataframe tbody tr th:only-of-type {\n",
       "        vertical-align: middle;\n",
       "    }\n",
       "\n",
       "    .dataframe tbody tr th {\n",
       "        vertical-align: top;\n",
       "    }\n",
       "\n",
       "    .dataframe thead th {\n",
       "        text-align: right;\n",
       "    }\n",
       "</style>\n",
       "<table border=\"1\" class=\"dataframe\">\n",
       "  <thead>\n",
       "    <tr style=\"text-align: right;\">\n",
       "      <th></th>\n",
       "      <th>price</th>\n",
       "      <th>vehicle_type</th>\n",
       "      <th>registration_year</th>\n",
       "      <th>gearbox</th>\n",
       "      <th>power</th>\n",
       "      <th>model</th>\n",
       "      <th>kilometer</th>\n",
       "      <th>fuel_type</th>\n",
       "      <th>brand</th>\n",
       "      <th>not_repaired</th>\n",
       "      <th>month_created</th>\n",
       "      <th>postal_code</th>\n",
       "    </tr>\n",
       "  </thead>\n",
       "  <tbody>\n",
       "    <tr>\n",
       "      <th>0</th>\n",
       "      <td>480</td>\n",
       "      <td>NaN</td>\n",
       "      <td>1993</td>\n",
       "      <td>manual</td>\n",
       "      <td>0</td>\n",
       "      <td>golf</td>\n",
       "      <td>150000</td>\n",
       "      <td>petrol</td>\n",
       "      <td>volkswagen</td>\n",
       "      <td>NaN</td>\n",
       "      <td>3</td>\n",
       "      <td>70435</td>\n",
       "    </tr>\n",
       "    <tr>\n",
       "      <th>1</th>\n",
       "      <td>18300</td>\n",
       "      <td>coupe</td>\n",
       "      <td>2011</td>\n",
       "      <td>manual</td>\n",
       "      <td>190</td>\n",
       "      <td>NaN</td>\n",
       "      <td>125000</td>\n",
       "      <td>gasoline</td>\n",
       "      <td>audi</td>\n",
       "      <td>yes</td>\n",
       "      <td>3</td>\n",
       "      <td>66954</td>\n",
       "    </tr>\n",
       "    <tr>\n",
       "      <th>2</th>\n",
       "      <td>9800</td>\n",
       "      <td>suv</td>\n",
       "      <td>2004</td>\n",
       "      <td>auto</td>\n",
       "      <td>163</td>\n",
       "      <td>grand</td>\n",
       "      <td>125000</td>\n",
       "      <td>gasoline</td>\n",
       "      <td>jeep</td>\n",
       "      <td>NaN</td>\n",
       "      <td>3</td>\n",
       "      <td>90480</td>\n",
       "    </tr>\n",
       "    <tr>\n",
       "      <th>3</th>\n",
       "      <td>1500</td>\n",
       "      <td>small</td>\n",
       "      <td>2001</td>\n",
       "      <td>manual</td>\n",
       "      <td>75</td>\n",
       "      <td>golf</td>\n",
       "      <td>150000</td>\n",
       "      <td>petrol</td>\n",
       "      <td>volkswagen</td>\n",
       "      <td>no</td>\n",
       "      <td>3</td>\n",
       "      <td>91074</td>\n",
       "    </tr>\n",
       "    <tr>\n",
       "      <th>4</th>\n",
       "      <td>3600</td>\n",
       "      <td>small</td>\n",
       "      <td>2008</td>\n",
       "      <td>manual</td>\n",
       "      <td>69</td>\n",
       "      <td>fabia</td>\n",
       "      <td>90000</td>\n",
       "      <td>gasoline</td>\n",
       "      <td>skoda</td>\n",
       "      <td>no</td>\n",
       "      <td>3</td>\n",
       "      <td>60437</td>\n",
       "    </tr>\n",
       "    <tr>\n",
       "      <th>...</th>\n",
       "      <td>...</td>\n",
       "      <td>...</td>\n",
       "      <td>...</td>\n",
       "      <td>...</td>\n",
       "      <td>...</td>\n",
       "      <td>...</td>\n",
       "      <td>...</td>\n",
       "      <td>...</td>\n",
       "      <td>...</td>\n",
       "      <td>...</td>\n",
       "      <td>...</td>\n",
       "      <td>...</td>\n",
       "    </tr>\n",
       "    <tr>\n",
       "      <th>354364</th>\n",
       "      <td>0</td>\n",
       "      <td>NaN</td>\n",
       "      <td>2005</td>\n",
       "      <td>manual</td>\n",
       "      <td>0</td>\n",
       "      <td>colt</td>\n",
       "      <td>150000</td>\n",
       "      <td>petrol</td>\n",
       "      <td>mitsubishi</td>\n",
       "      <td>yes</td>\n",
       "      <td>3</td>\n",
       "      <td>2694</td>\n",
       "    </tr>\n",
       "    <tr>\n",
       "      <th>354365</th>\n",
       "      <td>2200</td>\n",
       "      <td>NaN</td>\n",
       "      <td>2005</td>\n",
       "      <td>NaN</td>\n",
       "      <td>0</td>\n",
       "      <td>NaN</td>\n",
       "      <td>20000</td>\n",
       "      <td>NaN</td>\n",
       "      <td>sonstige_autos</td>\n",
       "      <td>NaN</td>\n",
       "      <td>3</td>\n",
       "      <td>39576</td>\n",
       "    </tr>\n",
       "    <tr>\n",
       "      <th>354366</th>\n",
       "      <td>1199</td>\n",
       "      <td>convertible</td>\n",
       "      <td>2000</td>\n",
       "      <td>auto</td>\n",
       "      <td>101</td>\n",
       "      <td>fortwo</td>\n",
       "      <td>125000</td>\n",
       "      <td>petrol</td>\n",
       "      <td>smart</td>\n",
       "      <td>no</td>\n",
       "      <td>3</td>\n",
       "      <td>26135</td>\n",
       "    </tr>\n",
       "    <tr>\n",
       "      <th>354367</th>\n",
       "      <td>9200</td>\n",
       "      <td>bus</td>\n",
       "      <td>1996</td>\n",
       "      <td>manual</td>\n",
       "      <td>102</td>\n",
       "      <td>transporter</td>\n",
       "      <td>150000</td>\n",
       "      <td>gasoline</td>\n",
       "      <td>volkswagen</td>\n",
       "      <td>no</td>\n",
       "      <td>3</td>\n",
       "      <td>87439</td>\n",
       "    </tr>\n",
       "    <tr>\n",
       "      <th>354368</th>\n",
       "      <td>3400</td>\n",
       "      <td>wagon</td>\n",
       "      <td>2002</td>\n",
       "      <td>manual</td>\n",
       "      <td>100</td>\n",
       "      <td>golf</td>\n",
       "      <td>150000</td>\n",
       "      <td>gasoline</td>\n",
       "      <td>volkswagen</td>\n",
       "      <td>NaN</td>\n",
       "      <td>3</td>\n",
       "      <td>40764</td>\n",
       "    </tr>\n",
       "  </tbody>\n",
       "</table>\n",
       "<p>354369 rows × 12 columns</p>\n",
       "</div>"
      ],
      "text/plain": [
       "        price vehicle_type  registration_year gearbox  power        model  \\\n",
       "0         480          NaN               1993  manual      0         golf   \n",
       "1       18300        coupe               2011  manual    190          NaN   \n",
       "2        9800          suv               2004    auto    163        grand   \n",
       "3        1500        small               2001  manual     75         golf   \n",
       "4        3600        small               2008  manual     69        fabia   \n",
       "...       ...          ...                ...     ...    ...          ...   \n",
       "354364      0          NaN               2005  manual      0         colt   \n",
       "354365   2200          NaN               2005     NaN      0          NaN   \n",
       "354366   1199  convertible               2000    auto    101       fortwo   \n",
       "354367   9200          bus               1996  manual    102  transporter   \n",
       "354368   3400        wagon               2002  manual    100         golf   \n",
       "\n",
       "        kilometer fuel_type           brand not_repaired  month_created  \\\n",
       "0          150000    petrol      volkswagen          NaN              3   \n",
       "1          125000  gasoline            audi          yes              3   \n",
       "2          125000  gasoline            jeep          NaN              3   \n",
       "3          150000    petrol      volkswagen           no              3   \n",
       "4           90000  gasoline           skoda           no              3   \n",
       "...           ...       ...             ...          ...            ...   \n",
       "354364     150000    petrol      mitsubishi          yes              3   \n",
       "354365      20000       NaN  sonstige_autos          NaN              3   \n",
       "354366     125000    petrol           smart           no              3   \n",
       "354367     150000  gasoline      volkswagen           no              3   \n",
       "354368     150000  gasoline      volkswagen          NaN              3   \n",
       "\n",
       "        postal_code  \n",
       "0             70435  \n",
       "1             66954  \n",
       "2             90480  \n",
       "3             91074  \n",
       "4             60437  \n",
       "...             ...  \n",
       "354364         2694  \n",
       "354365        39576  \n",
       "354366        26135  \n",
       "354367        87439  \n",
       "354368        40764  \n",
       "\n",
       "[354369 rows x 12 columns]"
      ]
     },
     "metadata": {},
     "output_type": "display_data"
    }
   ],
   "source": [
    "# Переводим столбец date_created в формат даты и времени.\n",
    "data['date_created'] = pd.to_datetime(\n",
    "    data['date_created'], \n",
    "    format='%Y.%m.%d'\n",
    ")\n",
    "# Выделяем месяц.\n",
    "data['date_created'] = pd.DatetimeIndex(data['date_created']).month\n",
    "# Имеет смысл переименовать столбец\n",
    "data.rename(columns={'date_created':'month_created'}, inplace=True)\n",
    "print('\\033[1m' + \n",
    "      'Таблица № 6. Датасет, после переформатирования столбца date_created' +\n",
    "     ' и его переименования на month_created')\n",
    "display(data)"
   ]
  },
  {
   "cell_type": "code",
   "execution_count": 6,
   "metadata": {},
   "outputs": [],
   "source": [
    "# Напишем функцию для изучения данных.\n",
    "sns.set_theme(style='whitegrid')\n",
    "def explore(data, column, bins):\n",
    "    sns.displot(\n",
    "        data[column],\n",
    "        kind='hist',\n",
    "        bins=bins, \n",
    "        height=6, \n",
    "        aspect=13.5/6, \n",
    "        kde=True\n",
    "    )\n",
    "    plt.xlabel('Количество')\n",
    "    plt.ylabel('Значение')\n",
    "    plt.title('Гистограмма распределения значений параметра ' + str(column))\n",
    "    plt.figure(figsize=(17,3))\n",
    "    sns.boxplot(data[column])\n",
    "    plt.xlabel('Значение')\n",
    "    plt.title('Диаграмма размаха значений параметра ' + str(column))\n",
    "    plt.show()\n",
    "    print('\\033[1m' + 'Статистическое описание данных столбца ' + str(column))\n",
    "    display(data[column].describe())\n",
    "    print('\\033[1m' + 'Количество уникальных значений столбца ' + str(column))\n",
    "    display(data[column].value_counts())"
   ]
  },
  {
   "cell_type": "code",
   "execution_count": 7,
   "metadata": {},
   "outputs": [
    {
     "data": {
      "image/png": "[encoded data removed]",
      "text/plain": [
       "<Figure size 972x432 with 1 Axes>"
      ]
     },
     "metadata": {},
     "output_type": "display_data"
    },
    {
     "data": {
      "image/png": "[encoded data removed]",
      "text/plain": [
       "<Figure size 1224x216 with 1 Axes>"
      ]
     },
     "metadata": {},
     "output_type": "display_data"
    },
    {
     "name": "stdout",
     "output_type": "stream",
     "text": [
      "\u001b[1mСтатистическое описание данных столбца price\n"
     ]
    },
    {
     "data": {
      "text/plain": [
       "count    354369.000000\n",
       "mean       4416.656776\n",
       "std        4514.158514\n",
       "min           0.000000\n",
       "25%        1050.000000\n",
       "50%        2700.000000\n",
       "75%        6400.000000\n",
       "max       20000.000000\n",
       "Name: price, dtype: float64"
      ]
     },
     "metadata": {},
     "output_type": "display_data"
    },
    {
     "name": "stdout",
     "output_type": "stream",
     "text": [
      "\u001b[1mКоличество уникальных значений столбца price\n"
     ]
    },
    {
     "data": {
      "text/plain": [
       "0        10772\n",
       "500       5670\n",
       "1500      5394\n",
       "1000      4649\n",
       "1200      4594\n",
       "         ...  \n",
       "13180        1\n",
       "10879        1\n",
       "2683         1\n",
       "634          1\n",
       "8188         1\n",
       "Name: price, Length: 3731, dtype: int64"
      ]
     },
     "metadata": {},
     "output_type": "display_data"
    }
   ],
   "source": [
    "explore(data, 'price', 200)"
   ]
  },
  {
   "cell_type": "code",
   "execution_count": 8,
   "metadata": {},
   "outputs": [
    {
     "name": "stdout",
     "output_type": "stream",
     "text": [
      "\u001b[1mТаблица № 7. Датасет с установленным фильтром в столбце price равном 0\n"
     ]
    },
    {
     "data": {
      "text/html": [
       "<div>\n",
       "<style scoped>\n",
       "    .dataframe tbody tr th:only-of-type {\n",
       "        vertical-align: middle;\n",
       "    }\n",
       "\n",
       "    .dataframe tbody tr th {\n",
       "        vertical-align: top;\n",
       "    }\n",
       "\n",
       "    .dataframe thead th {\n",
       "        text-align: right;\n",
       "    }\n",
       "</style>\n",
       "<table border=\"1\" class=\"dataframe\">\n",
       "  <thead>\n",
       "    <tr style=\"text-align: right;\">\n",
       "      <th></th>\n",
       "      <th>price</th>\n",
       "      <th>vehicle_type</th>\n",
       "      <th>registration_year</th>\n",
       "      <th>gearbox</th>\n",
       "      <th>power</th>\n",
       "      <th>model</th>\n",
       "      <th>kilometer</th>\n",
       "      <th>fuel_type</th>\n",
       "      <th>brand</th>\n",
       "      <th>not_repaired</th>\n",
       "      <th>month_created</th>\n",
       "      <th>postal_code</th>\n",
       "    </tr>\n",
       "  </thead>\n",
       "  <tbody>\n",
       "    <tr>\n",
       "      <th>7</th>\n",
       "      <td>0</td>\n",
       "      <td>sedan</td>\n",
       "      <td>1980</td>\n",
       "      <td>manual</td>\n",
       "      <td>50</td>\n",
       "      <td>other</td>\n",
       "      <td>40000</td>\n",
       "      <td>petrol</td>\n",
       "      <td>volkswagen</td>\n",
       "      <td>no</td>\n",
       "      <td>3</td>\n",
       "      <td>19348</td>\n",
       "    </tr>\n",
       "    <tr>\n",
       "      <th>40</th>\n",
       "      <td>0</td>\n",
       "      <td>NaN</td>\n",
       "      <td>1990</td>\n",
       "      <td>NaN</td>\n",
       "      <td>0</td>\n",
       "      <td>corsa</td>\n",
       "      <td>150000</td>\n",
       "      <td>petrol</td>\n",
       "      <td>opel</td>\n",
       "      <td>NaN</td>\n",
       "      <td>3</td>\n",
       "      <td>56412</td>\n",
       "    </tr>\n",
       "    <tr>\n",
       "      <th>111</th>\n",
       "      <td>0</td>\n",
       "      <td>NaN</td>\n",
       "      <td>2017</td>\n",
       "      <td>manual</td>\n",
       "      <td>0</td>\n",
       "      <td>golf</td>\n",
       "      <td>5000</td>\n",
       "      <td>petrol</td>\n",
       "      <td>volkswagen</td>\n",
       "      <td>NaN</td>\n",
       "      <td>3</td>\n",
       "      <td>21698</td>\n",
       "    </tr>\n",
       "    <tr>\n",
       "      <th>115</th>\n",
       "      <td>0</td>\n",
       "      <td>small</td>\n",
       "      <td>1999</td>\n",
       "      <td>NaN</td>\n",
       "      <td>0</td>\n",
       "      <td>NaN</td>\n",
       "      <td>5000</td>\n",
       "      <td>petrol</td>\n",
       "      <td>volkswagen</td>\n",
       "      <td>NaN</td>\n",
       "      <td>3</td>\n",
       "      <td>37520</td>\n",
       "    </tr>\n",
       "    <tr>\n",
       "      <th>152</th>\n",
       "      <td>0</td>\n",
       "      <td>bus</td>\n",
       "      <td>2004</td>\n",
       "      <td>manual</td>\n",
       "      <td>101</td>\n",
       "      <td>meriva</td>\n",
       "      <td>150000</td>\n",
       "      <td>lpg</td>\n",
       "      <td>opel</td>\n",
       "      <td>yes</td>\n",
       "      <td>3</td>\n",
       "      <td>27432</td>\n",
       "    </tr>\n",
       "    <tr>\n",
       "      <th>...</th>\n",
       "      <td>...</td>\n",
       "      <td>...</td>\n",
       "      <td>...</td>\n",
       "      <td>...</td>\n",
       "      <td>...</td>\n",
       "      <td>...</td>\n",
       "      <td>...</td>\n",
       "      <td>...</td>\n",
       "      <td>...</td>\n",
       "      <td>...</td>\n",
       "      <td>...</td>\n",
       "      <td>...</td>\n",
       "    </tr>\n",
       "    <tr>\n",
       "      <th>354205</th>\n",
       "      <td>0</td>\n",
       "      <td>NaN</td>\n",
       "      <td>2000</td>\n",
       "      <td>manual</td>\n",
       "      <td>65</td>\n",
       "      <td>corsa</td>\n",
       "      <td>150000</td>\n",
       "      <td>NaN</td>\n",
       "      <td>opel</td>\n",
       "      <td>yes</td>\n",
       "      <td>3</td>\n",
       "      <td>23758</td>\n",
       "    </tr>\n",
       "    <tr>\n",
       "      <th>354238</th>\n",
       "      <td>0</td>\n",
       "      <td>small</td>\n",
       "      <td>2002</td>\n",
       "      <td>manual</td>\n",
       "      <td>60</td>\n",
       "      <td>fiesta</td>\n",
       "      <td>150000</td>\n",
       "      <td>petrol</td>\n",
       "      <td>ford</td>\n",
       "      <td>NaN</td>\n",
       "      <td>3</td>\n",
       "      <td>33659</td>\n",
       "    </tr>\n",
       "    <tr>\n",
       "      <th>354248</th>\n",
       "      <td>0</td>\n",
       "      <td>small</td>\n",
       "      <td>1999</td>\n",
       "      <td>manual</td>\n",
       "      <td>53</td>\n",
       "      <td>swift</td>\n",
       "      <td>150000</td>\n",
       "      <td>petrol</td>\n",
       "      <td>suzuki</td>\n",
       "      <td>NaN</td>\n",
       "      <td>3</td>\n",
       "      <td>42329</td>\n",
       "    </tr>\n",
       "    <tr>\n",
       "      <th>354277</th>\n",
       "      <td>0</td>\n",
       "      <td>small</td>\n",
       "      <td>1999</td>\n",
       "      <td>manual</td>\n",
       "      <td>37</td>\n",
       "      <td>arosa</td>\n",
       "      <td>150000</td>\n",
       "      <td>petrol</td>\n",
       "      <td>seat</td>\n",
       "      <td>yes</td>\n",
       "      <td>3</td>\n",
       "      <td>22559</td>\n",
       "    </tr>\n",
       "    <tr>\n",
       "      <th>354364</th>\n",
       "      <td>0</td>\n",
       "      <td>NaN</td>\n",
       "      <td>2005</td>\n",
       "      <td>manual</td>\n",
       "      <td>0</td>\n",
       "      <td>colt</td>\n",
       "      <td>150000</td>\n",
       "      <td>petrol</td>\n",
       "      <td>mitsubishi</td>\n",
       "      <td>yes</td>\n",
       "      <td>3</td>\n",
       "      <td>2694</td>\n",
       "    </tr>\n",
       "  </tbody>\n",
       "</table>\n",
       "<p>10772 rows × 12 columns</p>\n",
       "</div>"
      ],
      "text/plain": [
       "        price vehicle_type  registration_year gearbox  power   model  \\\n",
       "7           0        sedan               1980  manual     50   other   \n",
       "40          0          NaN               1990     NaN      0   corsa   \n",
       "111         0          NaN               2017  manual      0    golf   \n",
       "115         0        small               1999     NaN      0     NaN   \n",
       "152         0          bus               2004  manual    101  meriva   \n",
       "...       ...          ...                ...     ...    ...     ...   \n",
       "354205      0          NaN               2000  manual     65   corsa   \n",
       "354238      0        small               2002  manual     60  fiesta   \n",
       "354248      0        small               1999  manual     53   swift   \n",
       "354277      0        small               1999  manual     37   arosa   \n",
       "354364      0          NaN               2005  manual      0    colt   \n",
       "\n",
       "        kilometer fuel_type       brand not_repaired  month_created  \\\n",
       "7           40000    petrol  volkswagen           no              3   \n",
       "40         150000    petrol        opel          NaN              3   \n",
       "111          5000    petrol  volkswagen          NaN              3   \n",
       "115          5000    petrol  volkswagen          NaN              3   \n",
       "152        150000       lpg        opel          yes              3   \n",
       "...           ...       ...         ...          ...            ...   \n",
       "354205     150000       NaN        opel          yes              3   \n",
       "354238     150000    petrol        ford          NaN              3   \n",
       "354248     150000    petrol      suzuki          NaN              3   \n",
       "354277     150000    petrol        seat          yes              3   \n",
       "354364     150000    petrol  mitsubishi          yes              3   \n",
       "\n",
       "        postal_code  \n",
       "7             19348  \n",
       "40            56412  \n",
       "111           21698  \n",
       "115           37520  \n",
       "152           27432  \n",
       "...             ...  \n",
       "354205        23758  \n",
       "354238        33659  \n",
       "354248        42329  \n",
       "354277        22559  \n",
       "354364         2694  \n",
       "\n",
       "[10772 rows x 12 columns]"
      ]
     },
     "metadata": {},
     "output_type": "display_data"
    },
    {
     "name": "stdout",
     "output_type": "stream",
     "text": [
      "\u001b[1mТаблица № 8. Датасет с удаленными нулевыми значениям в столбце price\n"
     ]
    },
    {
     "data": {
      "text/html": [
       "<div>\n",
       "<style scoped>\n",
       "    .dataframe tbody tr th:only-of-type {\n",
       "        vertical-align: middle;\n",
       "    }\n",
       "\n",
       "    .dataframe tbody tr th {\n",
       "        vertical-align: top;\n",
       "    }\n",
       "\n",
       "    .dataframe thead th {\n",
       "        text-align: right;\n",
       "    }\n",
       "</style>\n",
       "<table border=\"1\" class=\"dataframe\">\n",
       "  <thead>\n",
       "    <tr style=\"text-align: right;\">\n",
       "      <th></th>\n",
       "      <th>price</th>\n",
       "      <th>vehicle_type</th>\n",
       "      <th>registration_year</th>\n",
       "      <th>gearbox</th>\n",
       "      <th>power</th>\n",
       "      <th>model</th>\n",
       "      <th>kilometer</th>\n",
       "      <th>fuel_type</th>\n",
       "      <th>brand</th>\n",
       "      <th>not_repaired</th>\n",
       "      <th>month_created</th>\n",
       "      <th>postal_code</th>\n",
       "    </tr>\n",
       "  </thead>\n",
       "  <tbody>\n",
       "    <tr>\n",
       "      <th>0</th>\n",
       "      <td>480</td>\n",
       "      <td>NaN</td>\n",
       "      <td>1993</td>\n",
       "      <td>manual</td>\n",
       "      <td>0</td>\n",
       "      <td>golf</td>\n",
       "      <td>150000</td>\n",
       "      <td>petrol</td>\n",
       "      <td>volkswagen</td>\n",
       "      <td>NaN</td>\n",
       "      <td>3</td>\n",
       "      <td>70435</td>\n",
       "    </tr>\n",
       "    <tr>\n",
       "      <th>1</th>\n",
       "      <td>18300</td>\n",
       "      <td>coupe</td>\n",
       "      <td>2011</td>\n",
       "      <td>manual</td>\n",
       "      <td>190</td>\n",
       "      <td>NaN</td>\n",
       "      <td>125000</td>\n",
       "      <td>gasoline</td>\n",
       "      <td>audi</td>\n",
       "      <td>yes</td>\n",
       "      <td>3</td>\n",
       "      <td>66954</td>\n",
       "    </tr>\n",
       "    <tr>\n",
       "      <th>2</th>\n",
       "      <td>9800</td>\n",
       "      <td>suv</td>\n",
       "      <td>2004</td>\n",
       "      <td>auto</td>\n",
       "      <td>163</td>\n",
       "      <td>grand</td>\n",
       "      <td>125000</td>\n",
       "      <td>gasoline</td>\n",
       "      <td>jeep</td>\n",
       "      <td>NaN</td>\n",
       "      <td>3</td>\n",
       "      <td>90480</td>\n",
       "    </tr>\n",
       "    <tr>\n",
       "      <th>3</th>\n",
       "      <td>1500</td>\n",
       "      <td>small</td>\n",
       "      <td>2001</td>\n",
       "      <td>manual</td>\n",
       "      <td>75</td>\n",
       "      <td>golf</td>\n",
       "      <td>150000</td>\n",
       "      <td>petrol</td>\n",
       "      <td>volkswagen</td>\n",
       "      <td>no</td>\n",
       "      <td>3</td>\n",
       "      <td>91074</td>\n",
       "    </tr>\n",
       "    <tr>\n",
       "      <th>4</th>\n",
       "      <td>3600</td>\n",
       "      <td>small</td>\n",
       "      <td>2008</td>\n",
       "      <td>manual</td>\n",
       "      <td>69</td>\n",
       "      <td>fabia</td>\n",
       "      <td>90000</td>\n",
       "      <td>gasoline</td>\n",
       "      <td>skoda</td>\n",
       "      <td>no</td>\n",
       "      <td>3</td>\n",
       "      <td>60437</td>\n",
       "    </tr>\n",
       "    <tr>\n",
       "      <th>...</th>\n",
       "      <td>...</td>\n",
       "      <td>...</td>\n",
       "      <td>...</td>\n",
       "      <td>...</td>\n",
       "      <td>...</td>\n",
       "      <td>...</td>\n",
       "      <td>...</td>\n",
       "      <td>...</td>\n",
       "      <td>...</td>\n",
       "      <td>...</td>\n",
       "      <td>...</td>\n",
       "      <td>...</td>\n",
       "    </tr>\n",
       "    <tr>\n",
       "      <th>343592</th>\n",
       "      <td>1150</td>\n",
       "      <td>bus</td>\n",
       "      <td>2000</td>\n",
       "      <td>manual</td>\n",
       "      <td>0</td>\n",
       "      <td>zafira</td>\n",
       "      <td>150000</td>\n",
       "      <td>petrol</td>\n",
       "      <td>opel</td>\n",
       "      <td>no</td>\n",
       "      <td>3</td>\n",
       "      <td>26624</td>\n",
       "    </tr>\n",
       "    <tr>\n",
       "      <th>343593</th>\n",
       "      <td>2200</td>\n",
       "      <td>NaN</td>\n",
       "      <td>2005</td>\n",
       "      <td>NaN</td>\n",
       "      <td>0</td>\n",
       "      <td>NaN</td>\n",
       "      <td>20000</td>\n",
       "      <td>NaN</td>\n",
       "      <td>sonstige_autos</td>\n",
       "      <td>NaN</td>\n",
       "      <td>3</td>\n",
       "      <td>39576</td>\n",
       "    </tr>\n",
       "    <tr>\n",
       "      <th>343594</th>\n",
       "      <td>1199</td>\n",
       "      <td>convertible</td>\n",
       "      <td>2000</td>\n",
       "      <td>auto</td>\n",
       "      <td>101</td>\n",
       "      <td>fortwo</td>\n",
       "      <td>125000</td>\n",
       "      <td>petrol</td>\n",
       "      <td>smart</td>\n",
       "      <td>no</td>\n",
       "      <td>3</td>\n",
       "      <td>26135</td>\n",
       "    </tr>\n",
       "    <tr>\n",
       "      <th>343595</th>\n",
       "      <td>9200</td>\n",
       "      <td>bus</td>\n",
       "      <td>1996</td>\n",
       "      <td>manual</td>\n",
       "      <td>102</td>\n",
       "      <td>transporter</td>\n",
       "      <td>150000</td>\n",
       "      <td>gasoline</td>\n",
       "      <td>volkswagen</td>\n",
       "      <td>no</td>\n",
       "      <td>3</td>\n",
       "      <td>87439</td>\n",
       "    </tr>\n",
       "    <tr>\n",
       "      <th>343596</th>\n",
       "      <td>3400</td>\n",
       "      <td>wagon</td>\n",
       "      <td>2002</td>\n",
       "      <td>manual</td>\n",
       "      <td>100</td>\n",
       "      <td>golf</td>\n",
       "      <td>150000</td>\n",
       "      <td>gasoline</td>\n",
       "      <td>volkswagen</td>\n",
       "      <td>NaN</td>\n",
       "      <td>3</td>\n",
       "      <td>40764</td>\n",
       "    </tr>\n",
       "  </tbody>\n",
       "</table>\n",
       "<p>343597 rows × 12 columns</p>\n",
       "</div>"
      ],
      "text/plain": [
       "        price vehicle_type  registration_year gearbox  power        model  \\\n",
       "0         480          NaN               1993  manual      0         golf   \n",
       "1       18300        coupe               2011  manual    190          NaN   \n",
       "2        9800          suv               2004    auto    163        grand   \n",
       "3        1500        small               2001  manual     75         golf   \n",
       "4        3600        small               2008  manual     69        fabia   \n",
       "...       ...          ...                ...     ...    ...          ...   \n",
       "343592   1150          bus               2000  manual      0       zafira   \n",
       "343593   2200          NaN               2005     NaN      0          NaN   \n",
       "343594   1199  convertible               2000    auto    101       fortwo   \n",
       "343595   9200          bus               1996  manual    102  transporter   \n",
       "343596   3400        wagon               2002  manual    100         golf   \n",
       "\n",
       "        kilometer fuel_type           brand not_repaired  month_created  \\\n",
       "0          150000    petrol      volkswagen          NaN              3   \n",
       "1          125000  gasoline            audi          yes              3   \n",
       "2          125000  gasoline            jeep          NaN              3   \n",
       "3          150000    petrol      volkswagen           no              3   \n",
       "4           90000  gasoline           skoda           no              3   \n",
       "...           ...       ...             ...          ...            ...   \n",
       "343592     150000    petrol            opel           no              3   \n",
       "343593      20000       NaN  sonstige_autos          NaN              3   \n",
       "343594     125000    petrol           smart           no              3   \n",
       "343595     150000  gasoline      volkswagen           no              3   \n",
       "343596     150000  gasoline      volkswagen          NaN              3   \n",
       "\n",
       "        postal_code  \n",
       "0             70435  \n",
       "1             66954  \n",
       "2             90480  \n",
       "3             91074  \n",
       "4             60437  \n",
       "...             ...  \n",
       "343592        26624  \n",
       "343593        39576  \n",
       "343594        26135  \n",
       "343595        87439  \n",
       "343596        40764  \n",
       "\n",
       "[343597 rows x 12 columns]"
      ]
     },
     "metadata": {},
     "output_type": "display_data"
    }
   ],
   "source": [
    "# Посмотрим на таблицу при нулевых значениях в столбце price.\n",
    "print('\\033[1m' + 'Таблица № 7. Датасет с установленным фильтром ' + \n",
    "      'в столбце price равном 0')\n",
    "display(data.query('price == 0'))\n",
    "# Rорректно заменить нули не получится.\n",
    "# Избавимся от строк с нулями в этом столбце, чтобы не\n",
    "# путать модель.\n",
    "data = data.loc[data['price'] != 0].reset_index(drop=True)\n",
    "print('\\033[1m' + 'Таблица № 8. Датасет с удаленными нулевыми ' + \n",
    "      'значениям в столбце price')\n",
    "display(data)"
   ]
  },
  {
   "cell_type": "code",
   "execution_count": 9,
   "metadata": {},
   "outputs": [
    {
     "data": {
      "image/png": "[encoded data removed]",
      "text/plain": [
       "<Figure size 972x432 with 1 Axes>"
      ]
     },
     "metadata": {},
     "output_type": "display_data"
    },
    {
     "data": {
      "image/png": "[encoded data removed]",
      "text/plain": [
       "<Figure size 1224x216 with 1 Axes>"
      ]
     },
     "metadata": {},
     "output_type": "display_data"
    },
    {
     "name": "stdout",
     "output_type": "stream",
     "text": [
      "\u001b[1mСтатистическое описание данных столбца price\n"
     ]
    },
    {
     "data": {
      "text/plain": [
       "count    343597.000000\n",
       "mean       4555.121974\n",
       "std        4515.058553\n",
       "min           1.000000\n",
       "25%        1200.000000\n",
       "50%        2890.000000\n",
       "75%        6500.000000\n",
       "max       20000.000000\n",
       "Name: price, dtype: float64"
      ]
     },
     "metadata": {},
     "output_type": "display_data"
    },
    {
     "name": "stdout",
     "output_type": "stream",
     "text": [
      "\u001b[1mКоличество уникальных значений столбца price\n"
     ]
    },
    {
     "data": {
      "text/plain": [
       "500      5670\n",
       "1500     5394\n",
       "1000     4649\n",
       "1200     4594\n",
       "2500     4438\n",
       "         ... \n",
       "5240        1\n",
       "13180       1\n",
       "10879       1\n",
       "2683        1\n",
       "8188        1\n",
       "Name: price, Length: 3730, dtype: int64"
      ]
     },
     "metadata": {},
     "output_type": "display_data"
    }
   ],
   "source": [
    "# Взглянем теперь на распределение данных.\n",
    "explore(data, 'price', 200)"
   ]
  },
  {
   "cell_type": "markdown",
   "metadata": {},
   "source": [
    "Обнаружена подозрительная цена — 1 евро. Дополнительно проверим цены. Проанализирова данные с сайтов\n",
    "auto.ru и avito.ru, мы приходим к выводу, что\n",
    "машины не продают меньше чем за 30000 руб. или 390 евро\n",
    "по курсу 2016 года"
   ]
  },
  {
   "cell_type": "code",
   "execution_count": 10,
   "metadata": {},
   "outputs": [
    {
     "name": "stdout",
     "output_type": "stream",
     "text": [
      "\u001b[1mТаблица № 9. Датасет с установленным фильтром в столбце price. Отображаются только цены в промежутке от 1 до 390 евро\n"
     ]
    },
    {
     "data": {
      "text/html": [
       "<div>\n",
       "<style scoped>\n",
       "    .dataframe tbody tr th:only-of-type {\n",
       "        vertical-align: middle;\n",
       "    }\n",
       "\n",
       "    .dataframe tbody tr th {\n",
       "        vertical-align: top;\n",
       "    }\n",
       "\n",
       "    .dataframe thead th {\n",
       "        text-align: right;\n",
       "    }\n",
       "</style>\n",
       "<table border=\"1\" class=\"dataframe\">\n",
       "  <thead>\n",
       "    <tr style=\"text-align: right;\">\n",
       "      <th></th>\n",
       "      <th>price</th>\n",
       "      <th>vehicle_type</th>\n",
       "      <th>registration_year</th>\n",
       "      <th>gearbox</th>\n",
       "      <th>power</th>\n",
       "      <th>model</th>\n",
       "      <th>kilometer</th>\n",
       "      <th>fuel_type</th>\n",
       "      <th>brand</th>\n",
       "      <th>not_repaired</th>\n",
       "      <th>month_created</th>\n",
       "      <th>postal_code</th>\n",
       "    </tr>\n",
       "  </thead>\n",
       "  <tbody>\n",
       "    <tr>\n",
       "      <th>15</th>\n",
       "      <td>300</td>\n",
       "      <td>NaN</td>\n",
       "      <td>2016</td>\n",
       "      <td>NaN</td>\n",
       "      <td>60</td>\n",
       "      <td>polo</td>\n",
       "      <td>150000</td>\n",
       "      <td>petrol</td>\n",
       "      <td>volkswagen</td>\n",
       "      <td>NaN</td>\n",
       "      <td>4</td>\n",
       "      <td>38871</td>\n",
       "    </tr>\n",
       "    <tr>\n",
       "      <th>31</th>\n",
       "      <td>245</td>\n",
       "      <td>sedan</td>\n",
       "      <td>1994</td>\n",
       "      <td>NaN</td>\n",
       "      <td>0</td>\n",
       "      <td>golf</td>\n",
       "      <td>150000</td>\n",
       "      <td>petrol</td>\n",
       "      <td>volkswagen</td>\n",
       "      <td>no</td>\n",
       "      <td>3</td>\n",
       "      <td>44145</td>\n",
       "    </tr>\n",
       "    <tr>\n",
       "      <th>34</th>\n",
       "      <td>350</td>\n",
       "      <td>NaN</td>\n",
       "      <td>2016</td>\n",
       "      <td>manual</td>\n",
       "      <td>75</td>\n",
       "      <td>golf</td>\n",
       "      <td>150000</td>\n",
       "      <td>petrol</td>\n",
       "      <td>volkswagen</td>\n",
       "      <td>no</td>\n",
       "      <td>3</td>\n",
       "      <td>19386</td>\n",
       "    </tr>\n",
       "    <tr>\n",
       "      <th>57</th>\n",
       "      <td>1</td>\n",
       "      <td>suv</td>\n",
       "      <td>1994</td>\n",
       "      <td>manual</td>\n",
       "      <td>286</td>\n",
       "      <td>NaN</td>\n",
       "      <td>150000</td>\n",
       "      <td>NaN</td>\n",
       "      <td>sonstige_autos</td>\n",
       "      <td>NaN</td>\n",
       "      <td>3</td>\n",
       "      <td>53721</td>\n",
       "    </tr>\n",
       "    <tr>\n",
       "      <th>58</th>\n",
       "      <td>200</td>\n",
       "      <td>coupe</td>\n",
       "      <td>1995</td>\n",
       "      <td>manual</td>\n",
       "      <td>102</td>\n",
       "      <td>3er</td>\n",
       "      <td>150000</td>\n",
       "      <td>petrol</td>\n",
       "      <td>bmw</td>\n",
       "      <td>NaN</td>\n",
       "      <td>3</td>\n",
       "      <td>23560</td>\n",
       "    </tr>\n",
       "    <tr>\n",
       "      <th>...</th>\n",
       "      <td>...</td>\n",
       "      <td>...</td>\n",
       "      <td>...</td>\n",
       "      <td>...</td>\n",
       "      <td>...</td>\n",
       "      <td>...</td>\n",
       "      <td>...</td>\n",
       "      <td>...</td>\n",
       "      <td>...</td>\n",
       "      <td>...</td>\n",
       "      <td>...</td>\n",
       "      <td>...</td>\n",
       "    </tr>\n",
       "    <tr>\n",
       "      <th>343503</th>\n",
       "      <td>150</td>\n",
       "      <td>small</td>\n",
       "      <td>1993</td>\n",
       "      <td>manual</td>\n",
       "      <td>55</td>\n",
       "      <td>astra</td>\n",
       "      <td>150000</td>\n",
       "      <td>petrol</td>\n",
       "      <td>opel</td>\n",
       "      <td>yes</td>\n",
       "      <td>3</td>\n",
       "      <td>66424</td>\n",
       "    </tr>\n",
       "    <tr>\n",
       "      <th>343538</th>\n",
       "      <td>99</td>\n",
       "      <td>small</td>\n",
       "      <td>1999</td>\n",
       "      <td>manual</td>\n",
       "      <td>60</td>\n",
       "      <td>arosa</td>\n",
       "      <td>150000</td>\n",
       "      <td>petrol</td>\n",
       "      <td>seat</td>\n",
       "      <td>yes</td>\n",
       "      <td>3</td>\n",
       "      <td>91301</td>\n",
       "    </tr>\n",
       "    <tr>\n",
       "      <th>343558</th>\n",
       "      <td>350</td>\n",
       "      <td>small</td>\n",
       "      <td>1996</td>\n",
       "      <td>NaN</td>\n",
       "      <td>65</td>\n",
       "      <td>punto</td>\n",
       "      <td>150000</td>\n",
       "      <td>NaN</td>\n",
       "      <td>fiat</td>\n",
       "      <td>NaN</td>\n",
       "      <td>3</td>\n",
       "      <td>25436</td>\n",
       "    </tr>\n",
       "    <tr>\n",
       "      <th>343564</th>\n",
       "      <td>390</td>\n",
       "      <td>small</td>\n",
       "      <td>1997</td>\n",
       "      <td>auto</td>\n",
       "      <td>0</td>\n",
       "      <td>corsa</td>\n",
       "      <td>100000</td>\n",
       "      <td>petrol</td>\n",
       "      <td>opel</td>\n",
       "      <td>yes</td>\n",
       "      <td>4</td>\n",
       "      <td>17509</td>\n",
       "    </tr>\n",
       "    <tr>\n",
       "      <th>343567</th>\n",
       "      <td>180</td>\n",
       "      <td>NaN</td>\n",
       "      <td>1995</td>\n",
       "      <td>NaN</td>\n",
       "      <td>0</td>\n",
       "      <td>NaN</td>\n",
       "      <td>125000</td>\n",
       "      <td>petrol</td>\n",
       "      <td>opel</td>\n",
       "      <td>NaN</td>\n",
       "      <td>3</td>\n",
       "      <td>41470</td>\n",
       "    </tr>\n",
       "  </tbody>\n",
       "</table>\n",
       "<p>18706 rows × 12 columns</p>\n",
       "</div>"
      ],
      "text/plain": [
       "        price vehicle_type  registration_year gearbox  power  model  \\\n",
       "15        300          NaN               2016     NaN     60   polo   \n",
       "31        245        sedan               1994     NaN      0   golf   \n",
       "34        350          NaN               2016  manual     75   golf   \n",
       "57          1          suv               1994  manual    286    NaN   \n",
       "58        200        coupe               1995  manual    102    3er   \n",
       "...       ...          ...                ...     ...    ...    ...   \n",
       "343503    150        small               1993  manual     55  astra   \n",
       "343538     99        small               1999  manual     60  arosa   \n",
       "343558    350        small               1996     NaN     65  punto   \n",
       "343564    390        small               1997    auto      0  corsa   \n",
       "343567    180          NaN               1995     NaN      0    NaN   \n",
       "\n",
       "        kilometer fuel_type           brand not_repaired  month_created  \\\n",
       "15         150000    petrol      volkswagen          NaN              4   \n",
       "31         150000    petrol      volkswagen           no              3   \n",
       "34         150000    petrol      volkswagen           no              3   \n",
       "57         150000       NaN  sonstige_autos          NaN              3   \n",
       "58         150000    petrol             bmw          NaN              3   \n",
       "...           ...       ...             ...          ...            ...   \n",
       "343503     150000    petrol            opel          yes              3   \n",
       "343538     150000    petrol            seat          yes              3   \n",
       "343558     150000       NaN            fiat          NaN              3   \n",
       "343564     100000    petrol            opel          yes              4   \n",
       "343567     125000    petrol            opel          NaN              3   \n",
       "\n",
       "        postal_code  \n",
       "15            38871  \n",
       "31            44145  \n",
       "34            19386  \n",
       "57            53721  \n",
       "58            23560  \n",
       "...             ...  \n",
       "343503        66424  \n",
       "343538        91301  \n",
       "343558        25436  \n",
       "343564        17509  \n",
       "343567        41470  \n",
       "\n",
       "[18706 rows x 12 columns]"
      ]
     },
     "metadata": {},
     "output_type": "display_data"
    },
    {
     "name": "stdout",
     "output_type": "stream",
     "text": [
      "\u001b[1mТаблица № 10. Датасет с удаленными строками, имеющими значения от 1 по 390 в столбце price\n"
     ]
    },
    {
     "data": {
      "text/html": [
       "<div>\n",
       "<style scoped>\n",
       "    .dataframe tbody tr th:only-of-type {\n",
       "        vertical-align: middle;\n",
       "    }\n",
       "\n",
       "    .dataframe tbody tr th {\n",
       "        vertical-align: top;\n",
       "    }\n",
       "\n",
       "    .dataframe thead th {\n",
       "        text-align: right;\n",
       "    }\n",
       "</style>\n",
       "<table border=\"1\" class=\"dataframe\">\n",
       "  <thead>\n",
       "    <tr style=\"text-align: right;\">\n",
       "      <th></th>\n",
       "      <th>price</th>\n",
       "      <th>vehicle_type</th>\n",
       "      <th>registration_year</th>\n",
       "      <th>gearbox</th>\n",
       "      <th>power</th>\n",
       "      <th>model</th>\n",
       "      <th>kilometer</th>\n",
       "      <th>fuel_type</th>\n",
       "      <th>brand</th>\n",
       "      <th>not_repaired</th>\n",
       "      <th>month_created</th>\n",
       "      <th>postal_code</th>\n",
       "    </tr>\n",
       "  </thead>\n",
       "  <tbody>\n",
       "    <tr>\n",
       "      <th>0</th>\n",
       "      <td>480</td>\n",
       "      <td>NaN</td>\n",
       "      <td>1993</td>\n",
       "      <td>manual</td>\n",
       "      <td>0</td>\n",
       "      <td>golf</td>\n",
       "      <td>150000</td>\n",
       "      <td>petrol</td>\n",
       "      <td>volkswagen</td>\n",
       "      <td>NaN</td>\n",
       "      <td>3</td>\n",
       "      <td>70435</td>\n",
       "    </tr>\n",
       "    <tr>\n",
       "      <th>1</th>\n",
       "      <td>18300</td>\n",
       "      <td>coupe</td>\n",
       "      <td>2011</td>\n",
       "      <td>manual</td>\n",
       "      <td>190</td>\n",
       "      <td>NaN</td>\n",
       "      <td>125000</td>\n",
       "      <td>gasoline</td>\n",
       "      <td>audi</td>\n",
       "      <td>yes</td>\n",
       "      <td>3</td>\n",
       "      <td>66954</td>\n",
       "    </tr>\n",
       "    <tr>\n",
       "      <th>2</th>\n",
       "      <td>9800</td>\n",
       "      <td>suv</td>\n",
       "      <td>2004</td>\n",
       "      <td>auto</td>\n",
       "      <td>163</td>\n",
       "      <td>grand</td>\n",
       "      <td>125000</td>\n",
       "      <td>gasoline</td>\n",
       "      <td>jeep</td>\n",
       "      <td>NaN</td>\n",
       "      <td>3</td>\n",
       "      <td>90480</td>\n",
       "    </tr>\n",
       "    <tr>\n",
       "      <th>3</th>\n",
       "      <td>1500</td>\n",
       "      <td>small</td>\n",
       "      <td>2001</td>\n",
       "      <td>manual</td>\n",
       "      <td>75</td>\n",
       "      <td>golf</td>\n",
       "      <td>150000</td>\n",
       "      <td>petrol</td>\n",
       "      <td>volkswagen</td>\n",
       "      <td>no</td>\n",
       "      <td>3</td>\n",
       "      <td>91074</td>\n",
       "    </tr>\n",
       "    <tr>\n",
       "      <th>4</th>\n",
       "      <td>3600</td>\n",
       "      <td>small</td>\n",
       "      <td>2008</td>\n",
       "      <td>manual</td>\n",
       "      <td>69</td>\n",
       "      <td>fabia</td>\n",
       "      <td>90000</td>\n",
       "      <td>gasoline</td>\n",
       "      <td>skoda</td>\n",
       "      <td>no</td>\n",
       "      <td>3</td>\n",
       "      <td>60437</td>\n",
       "    </tr>\n",
       "    <tr>\n",
       "      <th>...</th>\n",
       "      <td>...</td>\n",
       "      <td>...</td>\n",
       "      <td>...</td>\n",
       "      <td>...</td>\n",
       "      <td>...</td>\n",
       "      <td>...</td>\n",
       "      <td>...</td>\n",
       "      <td>...</td>\n",
       "      <td>...</td>\n",
       "      <td>...</td>\n",
       "      <td>...</td>\n",
       "      <td>...</td>\n",
       "    </tr>\n",
       "    <tr>\n",
       "      <th>324886</th>\n",
       "      <td>1150</td>\n",
       "      <td>bus</td>\n",
       "      <td>2000</td>\n",
       "      <td>manual</td>\n",
       "      <td>0</td>\n",
       "      <td>zafira</td>\n",
       "      <td>150000</td>\n",
       "      <td>petrol</td>\n",
       "      <td>opel</td>\n",
       "      <td>no</td>\n",
       "      <td>3</td>\n",
       "      <td>26624</td>\n",
       "    </tr>\n",
       "    <tr>\n",
       "      <th>324887</th>\n",
       "      <td>2200</td>\n",
       "      <td>NaN</td>\n",
       "      <td>2005</td>\n",
       "      <td>NaN</td>\n",
       "      <td>0</td>\n",
       "      <td>NaN</td>\n",
       "      <td>20000</td>\n",
       "      <td>NaN</td>\n",
       "      <td>sonstige_autos</td>\n",
       "      <td>NaN</td>\n",
       "      <td>3</td>\n",
       "      <td>39576</td>\n",
       "    </tr>\n",
       "    <tr>\n",
       "      <th>324888</th>\n",
       "      <td>1199</td>\n",
       "      <td>convertible</td>\n",
       "      <td>2000</td>\n",
       "      <td>auto</td>\n",
       "      <td>101</td>\n",
       "      <td>fortwo</td>\n",
       "      <td>125000</td>\n",
       "      <td>petrol</td>\n",
       "      <td>smart</td>\n",
       "      <td>no</td>\n",
       "      <td>3</td>\n",
       "      <td>26135</td>\n",
       "    </tr>\n",
       "    <tr>\n",
       "      <th>324889</th>\n",
       "      <td>9200</td>\n",
       "      <td>bus</td>\n",
       "      <td>1996</td>\n",
       "      <td>manual</td>\n",
       "      <td>102</td>\n",
       "      <td>transporter</td>\n",
       "      <td>150000</td>\n",
       "      <td>gasoline</td>\n",
       "      <td>volkswagen</td>\n",
       "      <td>no</td>\n",
       "      <td>3</td>\n",
       "      <td>87439</td>\n",
       "    </tr>\n",
       "    <tr>\n",
       "      <th>324890</th>\n",
       "      <td>3400</td>\n",
       "      <td>wagon</td>\n",
       "      <td>2002</td>\n",
       "      <td>manual</td>\n",
       "      <td>100</td>\n",
       "      <td>golf</td>\n",
       "      <td>150000</td>\n",
       "      <td>gasoline</td>\n",
       "      <td>volkswagen</td>\n",
       "      <td>NaN</td>\n",
       "      <td>3</td>\n",
       "      <td>40764</td>\n",
       "    </tr>\n",
       "  </tbody>\n",
       "</table>\n",
       "<p>324891 rows × 12 columns</p>\n",
       "</div>"
      ],
      "text/plain": [
       "        price vehicle_type  registration_year gearbox  power        model  \\\n",
       "0         480          NaN               1993  manual      0         golf   \n",
       "1       18300        coupe               2011  manual    190          NaN   \n",
       "2        9800          suv               2004    auto    163        grand   \n",
       "3        1500        small               2001  manual     75         golf   \n",
       "4        3600        small               2008  manual     69        fabia   \n",
       "...       ...          ...                ...     ...    ...          ...   \n",
       "324886   1150          bus               2000  manual      0       zafira   \n",
       "324887   2200          NaN               2005     NaN      0          NaN   \n",
       "324888   1199  convertible               2000    auto    101       fortwo   \n",
       "324889   9200          bus               1996  manual    102  transporter   \n",
       "324890   3400        wagon               2002  manual    100         golf   \n",
       "\n",
       "        kilometer fuel_type           brand not_repaired  month_created  \\\n",
       "0          150000    petrol      volkswagen          NaN              3   \n",
       "1          125000  gasoline            audi          yes              3   \n",
       "2          125000  gasoline            jeep          NaN              3   \n",
       "3          150000    petrol      volkswagen           no              3   \n",
       "4           90000  gasoline           skoda           no              3   \n",
       "...           ...       ...             ...          ...            ...   \n",
       "324886     150000    petrol            opel           no              3   \n",
       "324887      20000       NaN  sonstige_autos          NaN              3   \n",
       "324888     125000    petrol           smart           no              3   \n",
       "324889     150000  gasoline      volkswagen           no              3   \n",
       "324890     150000  gasoline      volkswagen          NaN              3   \n",
       "\n",
       "        postal_code  \n",
       "0             70435  \n",
       "1             66954  \n",
       "2             90480  \n",
       "3             91074  \n",
       "4             60437  \n",
       "...             ...  \n",
       "324886        26624  \n",
       "324887        39576  \n",
       "324888        26135  \n",
       "324889        87439  \n",
       "324890        40764  \n",
       "\n",
       "[324891 rows x 12 columns]"
      ]
     },
     "metadata": {},
     "output_type": "display_data"
    }
   ],
   "source": [
    "print('\\033[1m' + 'Таблица № 9. Датасет с установленным фильтром ' + \n",
    "      'в столбце price. Отображаются только цены ' + \n",
    "     'в промежутке от 1 до 390 евро')\n",
    "display(data.query('1 <= price <= 390'))\n",
    "# Избавимся от строк с ценами меньше 390 евро.\n",
    "data = data.loc[data['price'] > 390].reset_index(drop=True)\n",
    "print('\\033[1m' + 'Таблица № 10. Датасет с удаленными строками, ' +\n",
    "     'имеющими значения от 1 по 390 в столбце price')\n",
    "display(data)"
   ]
  },
  {
   "cell_type": "code",
   "execution_count": 11,
   "metadata": {
    "scrolled": false
   },
   "outputs": [
    {
     "data": {
      "image/png": "[encoded data removed]",
      "text/plain": [
       "<Figure size 972x432 with 1 Axes>"
      ]
     },
     "metadata": {},
     "output_type": "display_data"
    },
    {
     "data": {
      "image/png": "[encoded data removed]",
      "text/plain": [
       "<Figure size 1224x216 with 1 Axes>"
      ]
     },
     "metadata": {},
     "output_type": "display_data"
    },
    {
     "name": "stdout",
     "output_type": "stream",
     "text": [
      "\u001b[1mСтатистическое описание данных столбца price\n"
     ]
    },
    {
     "data": {
      "text/plain": [
       "count    324891.000000\n",
       "mean       4804.789671\n",
       "std        4518.170210\n",
       "min         393.000000\n",
       "25%        1400.000000\n",
       "50%        3099.000000\n",
       "75%        6900.000000\n",
       "max       20000.000000\n",
       "Name: price, dtype: float64"
      ]
     },
     "metadata": {},
     "output_type": "display_data"
    },
    {
     "name": "stdout",
     "output_type": "stream",
     "text": [
      "\u001b[1mКоличество уникальных значений столбца price\n"
     ]
    },
    {
     "data": {
      "text/plain": [
       "500     5670\n",
       "1500    5394\n",
       "1000    4649\n",
       "1200    4594\n",
       "2500    4438\n",
       "        ... \n",
       "6996       1\n",
       "1879       1\n",
       "6235       1\n",
       "7349       1\n",
       "8188       1\n",
       "Name: price, Length: 3514, dtype: int64"
      ]
     },
     "metadata": {},
     "output_type": "display_data"
    }
   ],
   "source": [
    "# Вновь взглянем на распределение данных.\n",
    "explore(data, 'price', 200)"
   ]
  },
  {
   "cell_type": "code",
   "execution_count": 12,
   "metadata": {
    "scrolled": false
   },
   "outputs": [
    {
     "name": "stdout",
     "output_type": "stream",
     "text": [
      "\u001b[1mТаблица № 11. Автомобили с пропущенным видом автомобильного кузова\n"
     ]
    },
    {
     "data": {
      "text/html": [
       "<div>\n",
       "<style scoped>\n",
       "    .dataframe tbody tr th:only-of-type {\n",
       "        vertical-align: middle;\n",
       "    }\n",
       "\n",
       "    .dataframe tbody tr th {\n",
       "        vertical-align: top;\n",
       "    }\n",
       "\n",
       "    .dataframe thead th {\n",
       "        text-align: right;\n",
       "    }\n",
       "</style>\n",
       "<table border=\"1\" class=\"dataframe\">\n",
       "  <thead>\n",
       "    <tr style=\"text-align: right;\">\n",
       "      <th></th>\n",
       "      <th>price</th>\n",
       "      <th>vehicle_type</th>\n",
       "      <th>registration_year</th>\n",
       "      <th>gearbox</th>\n",
       "      <th>power</th>\n",
       "      <th>model</th>\n",
       "      <th>kilometer</th>\n",
       "      <th>fuel_type</th>\n",
       "      <th>brand</th>\n",
       "      <th>not_repaired</th>\n",
       "      <th>month_created</th>\n",
       "      <th>postal_code</th>\n",
       "    </tr>\n",
       "  </thead>\n",
       "  <tbody>\n",
       "    <tr>\n",
       "      <th>0</th>\n",
       "      <td>480</td>\n",
       "      <td>NaN</td>\n",
       "      <td>1993</td>\n",
       "      <td>manual</td>\n",
       "      <td>0</td>\n",
       "      <td>golf</td>\n",
       "      <td>150000</td>\n",
       "      <td>petrol</td>\n",
       "      <td>volkswagen</td>\n",
       "      <td>NaN</td>\n",
       "      <td>3</td>\n",
       "      <td>70435</td>\n",
       "    </tr>\n",
       "    <tr>\n",
       "      <th>20</th>\n",
       "      <td>2900</td>\n",
       "      <td>NaN</td>\n",
       "      <td>2018</td>\n",
       "      <td>manual</td>\n",
       "      <td>90</td>\n",
       "      <td>meriva</td>\n",
       "      <td>150000</td>\n",
       "      <td>petrol</td>\n",
       "      <td>opel</td>\n",
       "      <td>no</td>\n",
       "      <td>3</td>\n",
       "      <td>49716</td>\n",
       "    </tr>\n",
       "    <tr>\n",
       "      <th>24</th>\n",
       "      <td>5555</td>\n",
       "      <td>NaN</td>\n",
       "      <td>2017</td>\n",
       "      <td>manual</td>\n",
       "      <td>125</td>\n",
       "      <td>c4</td>\n",
       "      <td>125000</td>\n",
       "      <td>NaN</td>\n",
       "      <td>citroen</td>\n",
       "      <td>no</td>\n",
       "      <td>3</td>\n",
       "      <td>31139</td>\n",
       "    </tr>\n",
       "    <tr>\n",
       "      <th>29</th>\n",
       "      <td>899</td>\n",
       "      <td>NaN</td>\n",
       "      <td>2016</td>\n",
       "      <td>manual</td>\n",
       "      <td>60</td>\n",
       "      <td>clio</td>\n",
       "      <td>150000</td>\n",
       "      <td>petrol</td>\n",
       "      <td>renault</td>\n",
       "      <td>NaN</td>\n",
       "      <td>3</td>\n",
       "      <td>37075</td>\n",
       "    </tr>\n",
       "    <tr>\n",
       "      <th>33</th>\n",
       "      <td>1500</td>\n",
       "      <td>NaN</td>\n",
       "      <td>2016</td>\n",
       "      <td>NaN</td>\n",
       "      <td>0</td>\n",
       "      <td>kangoo</td>\n",
       "      <td>150000</td>\n",
       "      <td>gasoline</td>\n",
       "      <td>renault</td>\n",
       "      <td>no</td>\n",
       "      <td>3</td>\n",
       "      <td>46483</td>\n",
       "    </tr>\n",
       "    <tr>\n",
       "      <th>...</th>\n",
       "      <td>...</td>\n",
       "      <td>...</td>\n",
       "      <td>...</td>\n",
       "      <td>...</td>\n",
       "      <td>...</td>\n",
       "      <td>...</td>\n",
       "      <td>...</td>\n",
       "      <td>...</td>\n",
       "      <td>...</td>\n",
       "      <td>...</td>\n",
       "      <td>...</td>\n",
       "      <td>...</td>\n",
       "    </tr>\n",
       "    <tr>\n",
       "      <th>324860</th>\n",
       "      <td>3299</td>\n",
       "      <td>NaN</td>\n",
       "      <td>2005</td>\n",
       "      <td>auto</td>\n",
       "      <td>0</td>\n",
       "      <td>outlander</td>\n",
       "      <td>150000</td>\n",
       "      <td>petrol</td>\n",
       "      <td>mitsubishi</td>\n",
       "      <td>NaN</td>\n",
       "      <td>3</td>\n",
       "      <td>17034</td>\n",
       "    </tr>\n",
       "    <tr>\n",
       "      <th>324869</th>\n",
       "      <td>2600</td>\n",
       "      <td>NaN</td>\n",
       "      <td>2005</td>\n",
       "      <td>auto</td>\n",
       "      <td>0</td>\n",
       "      <td>c_klasse</td>\n",
       "      <td>150000</td>\n",
       "      <td>NaN</td>\n",
       "      <td>mercedes_benz</td>\n",
       "      <td>NaN</td>\n",
       "      <td>3</td>\n",
       "      <td>61169</td>\n",
       "    </tr>\n",
       "    <tr>\n",
       "      <th>324874</th>\n",
       "      <td>1900</td>\n",
       "      <td>NaN</td>\n",
       "      <td>2000</td>\n",
       "      <td>manual</td>\n",
       "      <td>110</td>\n",
       "      <td>NaN</td>\n",
       "      <td>150000</td>\n",
       "      <td>NaN</td>\n",
       "      <td>volkswagen</td>\n",
       "      <td>no</td>\n",
       "      <td>3</td>\n",
       "      <td>87700</td>\n",
       "    </tr>\n",
       "    <tr>\n",
       "      <th>324884</th>\n",
       "      <td>5250</td>\n",
       "      <td>NaN</td>\n",
       "      <td>2016</td>\n",
       "      <td>auto</td>\n",
       "      <td>150</td>\n",
       "      <td>159</td>\n",
       "      <td>150000</td>\n",
       "      <td>NaN</td>\n",
       "      <td>alfa_romeo</td>\n",
       "      <td>no</td>\n",
       "      <td>3</td>\n",
       "      <td>51371</td>\n",
       "    </tr>\n",
       "    <tr>\n",
       "      <th>324887</th>\n",
       "      <td>2200</td>\n",
       "      <td>NaN</td>\n",
       "      <td>2005</td>\n",
       "      <td>NaN</td>\n",
       "      <td>0</td>\n",
       "      <td>NaN</td>\n",
       "      <td>20000</td>\n",
       "      <td>NaN</td>\n",
       "      <td>sonstige_autos</td>\n",
       "      <td>NaN</td>\n",
       "      <td>3</td>\n",
       "      <td>39576</td>\n",
       "    </tr>\n",
       "  </tbody>\n",
       "</table>\n",
       "<p>28514 rows × 12 columns</p>\n",
       "</div>"
      ],
      "text/plain": [
       "        price vehicle_type  registration_year gearbox  power      model  \\\n",
       "0         480          NaN               1993  manual      0       golf   \n",
       "20       2900          NaN               2018  manual     90     meriva   \n",
       "24       5555          NaN               2017  manual    125         c4   \n",
       "29        899          NaN               2016  manual     60       clio   \n",
       "33       1500          NaN               2016     NaN      0     kangoo   \n",
       "...       ...          ...                ...     ...    ...        ...   \n",
       "324860   3299          NaN               2005    auto      0  outlander   \n",
       "324869   2600          NaN               2005    auto      0   c_klasse   \n",
       "324874   1900          NaN               2000  manual    110        NaN   \n",
       "324884   5250          NaN               2016    auto    150        159   \n",
       "324887   2200          NaN               2005     NaN      0        NaN   \n",
       "\n",
       "        kilometer fuel_type           brand not_repaired  month_created  \\\n",
       "0          150000    petrol      volkswagen          NaN              3   \n",
       "20         150000    petrol            opel           no              3   \n",
       "24         125000       NaN         citroen           no              3   \n",
       "29         150000    petrol         renault          NaN              3   \n",
       "33         150000  gasoline         renault           no              3   \n",
       "...           ...       ...             ...          ...            ...   \n",
       "324860     150000    petrol      mitsubishi          NaN              3   \n",
       "324869     150000       NaN   mercedes_benz          NaN              3   \n",
       "324874     150000       NaN      volkswagen           no              3   \n",
       "324884     150000       NaN      alfa_romeo           no              3   \n",
       "324887      20000       NaN  sonstige_autos          NaN              3   \n",
       "\n",
       "        postal_code  \n",
       "0             70435  \n",
       "20            49716  \n",
       "24            31139  \n",
       "29            37075  \n",
       "33            46483  \n",
       "...             ...  \n",
       "324860        17034  \n",
       "324869        61169  \n",
       "324874        87700  \n",
       "324884        51371  \n",
       "324887        39576  \n",
       "\n",
       "[28514 rows x 12 columns]"
      ]
     },
     "metadata": {},
     "output_type": "display_data"
    },
    {
     "name": "stdout",
     "output_type": "stream",
     "text": [
      "\u001b[1mТаблица № 12. Количество уникальных значений столбца model\n"
     ]
    },
    {
     "data": {
      "text/plain": [
       "golf                  26761\n",
       "other                 22441\n",
       "3er                   18684\n",
       "polo                  11106\n",
       "corsa                 10380\n",
       "                      ...  \n",
       "samara                    6\n",
       "rangerover                4\n",
       "serie_3                   3\n",
       "range_rover_evoque        2\n",
       "serie_1                   1\n",
       "Name: model, Length: 250, dtype: int64"
      ]
     },
     "metadata": {},
     "output_type": "display_data"
    },
    {
     "name": "stdout",
     "output_type": "stream",
     "text": [
      "\u001b[1mТаблица № 13. Виды кузова у модели golf\n"
     ]
    },
    {
     "data": {
      "text/html": [
       "<div>\n",
       "<style scoped>\n",
       "    .dataframe tbody tr th:only-of-type {\n",
       "        vertical-align: middle;\n",
       "    }\n",
       "\n",
       "    .dataframe tbody tr th {\n",
       "        vertical-align: top;\n",
       "    }\n",
       "\n",
       "    .dataframe thead th {\n",
       "        text-align: right;\n",
       "    }\n",
       "</style>\n",
       "<table border=\"1\" class=\"dataframe\">\n",
       "  <thead>\n",
       "    <tr style=\"text-align: right;\">\n",
       "      <th></th>\n",
       "      <th>price</th>\n",
       "      <th>vehicle_type</th>\n",
       "      <th>registration_year</th>\n",
       "      <th>gearbox</th>\n",
       "      <th>power</th>\n",
       "      <th>model</th>\n",
       "      <th>kilometer</th>\n",
       "      <th>fuel_type</th>\n",
       "      <th>brand</th>\n",
       "      <th>not_repaired</th>\n",
       "      <th>month_created</th>\n",
       "      <th>postal_code</th>\n",
       "    </tr>\n",
       "  </thead>\n",
       "  <tbody>\n",
       "    <tr>\n",
       "      <th>0</th>\n",
       "      <td>480</td>\n",
       "      <td>NaN</td>\n",
       "      <td>1993</td>\n",
       "      <td>manual</td>\n",
       "      <td>0</td>\n",
       "      <td>golf</td>\n",
       "      <td>150000</td>\n",
       "      <td>petrol</td>\n",
       "      <td>volkswagen</td>\n",
       "      <td>NaN</td>\n",
       "      <td>3</td>\n",
       "      <td>70435</td>\n",
       "    </tr>\n",
       "    <tr>\n",
       "      <th>3</th>\n",
       "      <td>1500</td>\n",
       "      <td>small</td>\n",
       "      <td>2001</td>\n",
       "      <td>manual</td>\n",
       "      <td>75</td>\n",
       "      <td>golf</td>\n",
       "      <td>150000</td>\n",
       "      <td>petrol</td>\n",
       "      <td>volkswagen</td>\n",
       "      <td>no</td>\n",
       "      <td>3</td>\n",
       "      <td>91074</td>\n",
       "    </tr>\n",
       "    <tr>\n",
       "      <th>8</th>\n",
       "      <td>999</td>\n",
       "      <td>small</td>\n",
       "      <td>1998</td>\n",
       "      <td>manual</td>\n",
       "      <td>101</td>\n",
       "      <td>golf</td>\n",
       "      <td>150000</td>\n",
       "      <td>NaN</td>\n",
       "      <td>volkswagen</td>\n",
       "      <td>NaN</td>\n",
       "      <td>3</td>\n",
       "      <td>27472</td>\n",
       "    </tr>\n",
       "    <tr>\n",
       "      <th>43</th>\n",
       "      <td>7750</td>\n",
       "      <td>NaN</td>\n",
       "      <td>2017</td>\n",
       "      <td>manual</td>\n",
       "      <td>80</td>\n",
       "      <td>golf</td>\n",
       "      <td>100000</td>\n",
       "      <td>petrol</td>\n",
       "      <td>volkswagen</td>\n",
       "      <td>NaN</td>\n",
       "      <td>3</td>\n",
       "      <td>48499</td>\n",
       "    </tr>\n",
       "    <tr>\n",
       "      <th>53</th>\n",
       "      <td>1000</td>\n",
       "      <td>sedan</td>\n",
       "      <td>1998</td>\n",
       "      <td>manual</td>\n",
       "      <td>101</td>\n",
       "      <td>golf</td>\n",
       "      <td>150000</td>\n",
       "      <td>petrol</td>\n",
       "      <td>volkswagen</td>\n",
       "      <td>no</td>\n",
       "      <td>3</td>\n",
       "      <td>39624</td>\n",
       "    </tr>\n",
       "    <tr>\n",
       "      <th>67</th>\n",
       "      <td>6600</td>\n",
       "      <td>sedan</td>\n",
       "      <td>2006</td>\n",
       "      <td>manual</td>\n",
       "      <td>105</td>\n",
       "      <td>golf</td>\n",
       "      <td>150000</td>\n",
       "      <td>gasoline</td>\n",
       "      <td>volkswagen</td>\n",
       "      <td>no</td>\n",
       "      <td>3</td>\n",
       "      <td>41812</td>\n",
       "    </tr>\n",
       "    <tr>\n",
       "      <th>70</th>\n",
       "      <td>800</td>\n",
       "      <td>NaN</td>\n",
       "      <td>2000</td>\n",
       "      <td>manual</td>\n",
       "      <td>90</td>\n",
       "      <td>golf</td>\n",
       "      <td>150000</td>\n",
       "      <td>gasoline</td>\n",
       "      <td>volkswagen</td>\n",
       "      <td>NaN</td>\n",
       "      <td>3</td>\n",
       "      <td>32584</td>\n",
       "    </tr>\n",
       "    <tr>\n",
       "      <th>98</th>\n",
       "      <td>6300</td>\n",
       "      <td>sedan</td>\n",
       "      <td>2002</td>\n",
       "      <td>manual</td>\n",
       "      <td>265</td>\n",
       "      <td>golf</td>\n",
       "      <td>150000</td>\n",
       "      <td>petrol</td>\n",
       "      <td>volkswagen</td>\n",
       "      <td>no</td>\n",
       "      <td>3</td>\n",
       "      <td>56759</td>\n",
       "    </tr>\n",
       "    <tr>\n",
       "      <th>108</th>\n",
       "      <td>1000</td>\n",
       "      <td>sedan</td>\n",
       "      <td>1990</td>\n",
       "      <td>manual</td>\n",
       "      <td>54</td>\n",
       "      <td>golf</td>\n",
       "      <td>150000</td>\n",
       "      <td>petrol</td>\n",
       "      <td>volkswagen</td>\n",
       "      <td>no</td>\n",
       "      <td>3</td>\n",
       "      <td>47447</td>\n",
       "    </tr>\n",
       "    <tr>\n",
       "      <th>110</th>\n",
       "      <td>8000</td>\n",
       "      <td>NaN</td>\n",
       "      <td>2009</td>\n",
       "      <td>manual</td>\n",
       "      <td>0</td>\n",
       "      <td>golf</td>\n",
       "      <td>100000</td>\n",
       "      <td>petrol</td>\n",
       "      <td>volkswagen</td>\n",
       "      <td>no</td>\n",
       "      <td>3</td>\n",
       "      <td>94139</td>\n",
       "    </tr>\n",
       "    <tr>\n",
       "      <th>119</th>\n",
       "      <td>4300</td>\n",
       "      <td>sedan</td>\n",
       "      <td>2005</td>\n",
       "      <td>manual</td>\n",
       "      <td>90</td>\n",
       "      <td>golf</td>\n",
       "      <td>150000</td>\n",
       "      <td>gasoline</td>\n",
       "      <td>volkswagen</td>\n",
       "      <td>NaN</td>\n",
       "      <td>4</td>\n",
       "      <td>28779</td>\n",
       "    </tr>\n",
       "    <tr>\n",
       "      <th>127</th>\n",
       "      <td>1000</td>\n",
       "      <td>small</td>\n",
       "      <td>1996</td>\n",
       "      <td>manual</td>\n",
       "      <td>75</td>\n",
       "      <td>golf</td>\n",
       "      <td>150000</td>\n",
       "      <td>petrol</td>\n",
       "      <td>volkswagen</td>\n",
       "      <td>no</td>\n",
       "      <td>3</td>\n",
       "      <td>38640</td>\n",
       "    </tr>\n",
       "    <tr>\n",
       "      <th>136</th>\n",
       "      <td>800</td>\n",
       "      <td>sedan</td>\n",
       "      <td>1993</td>\n",
       "      <td>manual</td>\n",
       "      <td>0</td>\n",
       "      <td>golf</td>\n",
       "      <td>10000</td>\n",
       "      <td>petrol</td>\n",
       "      <td>volkswagen</td>\n",
       "      <td>yes</td>\n",
       "      <td>4</td>\n",
       "      <td>65929</td>\n",
       "    </tr>\n",
       "    <tr>\n",
       "      <th>141</th>\n",
       "      <td>850</td>\n",
       "      <td>sedan</td>\n",
       "      <td>1989</td>\n",
       "      <td>manual</td>\n",
       "      <td>69</td>\n",
       "      <td>golf</td>\n",
       "      <td>125000</td>\n",
       "      <td>petrol</td>\n",
       "      <td>volkswagen</td>\n",
       "      <td>no</td>\n",
       "      <td>3</td>\n",
       "      <td>95485</td>\n",
       "    </tr>\n",
       "    <tr>\n",
       "      <th>164</th>\n",
       "      <td>4900</td>\n",
       "      <td>bus</td>\n",
       "      <td>2006</td>\n",
       "      <td>manual</td>\n",
       "      <td>102</td>\n",
       "      <td>golf</td>\n",
       "      <td>150000</td>\n",
       "      <td>petrol</td>\n",
       "      <td>volkswagen</td>\n",
       "      <td>yes</td>\n",
       "      <td>3</td>\n",
       "      <td>4288</td>\n",
       "    </tr>\n",
       "    <tr>\n",
       "      <th>165</th>\n",
       "      <td>11299</td>\n",
       "      <td>sedan</td>\n",
       "      <td>2006</td>\n",
       "      <td>auto</td>\n",
       "      <td>250</td>\n",
       "      <td>golf</td>\n",
       "      <td>150000</td>\n",
       "      <td>petrol</td>\n",
       "      <td>volkswagen</td>\n",
       "      <td>no</td>\n",
       "      <td>3</td>\n",
       "      <td>22083</td>\n",
       "    </tr>\n",
       "    <tr>\n",
       "      <th>166</th>\n",
       "      <td>550</td>\n",
       "      <td>other</td>\n",
       "      <td>1997</td>\n",
       "      <td>manual</td>\n",
       "      <td>75</td>\n",
       "      <td>golf</td>\n",
       "      <td>150000</td>\n",
       "      <td>petrol</td>\n",
       "      <td>volkswagen</td>\n",
       "      <td>no</td>\n",
       "      <td>4</td>\n",
       "      <td>96175</td>\n",
       "    </tr>\n",
       "    <tr>\n",
       "      <th>170</th>\n",
       "      <td>1800</td>\n",
       "      <td>wagon</td>\n",
       "      <td>1999</td>\n",
       "      <td>manual</td>\n",
       "      <td>90</td>\n",
       "      <td>golf</td>\n",
       "      <td>150000</td>\n",
       "      <td>gasoline</td>\n",
       "      <td>volkswagen</td>\n",
       "      <td>no</td>\n",
       "      <td>3</td>\n",
       "      <td>1920</td>\n",
       "    </tr>\n",
       "    <tr>\n",
       "      <th>184</th>\n",
       "      <td>8500</td>\n",
       "      <td>sedan</td>\n",
       "      <td>2010</td>\n",
       "      <td>manual</td>\n",
       "      <td>80</td>\n",
       "      <td>golf</td>\n",
       "      <td>50000</td>\n",
       "      <td>petrol</td>\n",
       "      <td>volkswagen</td>\n",
       "      <td>no</td>\n",
       "      <td>4</td>\n",
       "      <td>34385</td>\n",
       "    </tr>\n",
       "    <tr>\n",
       "      <th>186</th>\n",
       "      <td>500</td>\n",
       "      <td>small</td>\n",
       "      <td>1994</td>\n",
       "      <td>manual</td>\n",
       "      <td>75</td>\n",
       "      <td>golf</td>\n",
       "      <td>150000</td>\n",
       "      <td>petrol</td>\n",
       "      <td>volkswagen</td>\n",
       "      <td>no</td>\n",
       "      <td>3</td>\n",
       "      <td>23879</td>\n",
       "    </tr>\n",
       "  </tbody>\n",
       "</table>\n",
       "</div>"
      ],
      "text/plain": [
       "     price vehicle_type  registration_year gearbox  power model  kilometer  \\\n",
       "0      480          NaN               1993  manual      0  golf     150000   \n",
       "3     1500        small               2001  manual     75  golf     150000   \n",
       "8      999        small               1998  manual    101  golf     150000   \n",
       "43    7750          NaN               2017  manual     80  golf     100000   \n",
       "53    1000        sedan               1998  manual    101  golf     150000   \n",
       "67    6600        sedan               2006  manual    105  golf     150000   \n",
       "70     800          NaN               2000  manual     90  golf     150000   \n",
       "98    6300        sedan               2002  manual    265  golf     150000   \n",
       "108   1000        sedan               1990  manual     54  golf     150000   \n",
       "110   8000          NaN               2009  manual      0  golf     100000   \n",
       "119   4300        sedan               2005  manual     90  golf     150000   \n",
       "127   1000        small               1996  manual     75  golf     150000   \n",
       "136    800        sedan               1993  manual      0  golf      10000   \n",
       "141    850        sedan               1989  manual     69  golf     125000   \n",
       "164   4900          bus               2006  manual    102  golf     150000   \n",
       "165  11299        sedan               2006    auto    250  golf     150000   \n",
       "166    550        other               1997  manual     75  golf     150000   \n",
       "170   1800        wagon               1999  manual     90  golf     150000   \n",
       "184   8500        sedan               2010  manual     80  golf      50000   \n",
       "186    500        small               1994  manual     75  golf     150000   \n",
       "\n",
       "    fuel_type       brand not_repaired  month_created  postal_code  \n",
       "0      petrol  volkswagen          NaN              3        70435  \n",
       "3      petrol  volkswagen           no              3        91074  \n",
       "8         NaN  volkswagen          NaN              3        27472  \n",
       "43     petrol  volkswagen          NaN              3        48499  \n",
       "53     petrol  volkswagen           no              3        39624  \n",
       "67   gasoline  volkswagen           no              3        41812  \n",
       "70   gasoline  volkswagen          NaN              3        32584  \n",
       "98     petrol  volkswagen           no              3        56759  \n",
       "108    petrol  volkswagen           no              3        47447  \n",
       "110    petrol  volkswagen           no              3        94139  \n",
       "119  gasoline  volkswagen          NaN              4        28779  \n",
       "127    petrol  volkswagen           no              3        38640  \n",
       "136    petrol  volkswagen          yes              4        65929  \n",
       "141    petrol  volkswagen           no              3        95485  \n",
       "164    petrol  volkswagen          yes              3         4288  \n",
       "165    petrol  volkswagen           no              3        22083  \n",
       "166    petrol  volkswagen           no              4        96175  \n",
       "170  gasoline  volkswagen           no              3         1920  \n",
       "184    petrol  volkswagen           no              4        34385  \n",
       "186    petrol  volkswagen           no              3        23879  "
      ]
     },
     "metadata": {},
     "output_type": "display_data"
    },
    {
     "name": "stdout",
     "output_type": "stream",
     "text": [
      "\u001b[1mТаблица № 14. Виды кузова у модели other\n"
     ]
    },
    {
     "data": {
      "text/html": [
       "<div>\n",
       "<style scoped>\n",
       "    .dataframe tbody tr th:only-of-type {\n",
       "        vertical-align: middle;\n",
       "    }\n",
       "\n",
       "    .dataframe tbody tr th {\n",
       "        vertical-align: top;\n",
       "    }\n",
       "\n",
       "    .dataframe thead th {\n",
       "        text-align: right;\n",
       "    }\n",
       "</style>\n",
       "<table border=\"1\" class=\"dataframe\">\n",
       "  <thead>\n",
       "    <tr style=\"text-align: right;\">\n",
       "      <th></th>\n",
       "      <th>price</th>\n",
       "      <th>vehicle_type</th>\n",
       "      <th>registration_year</th>\n",
       "      <th>gearbox</th>\n",
       "      <th>power</th>\n",
       "      <th>model</th>\n",
       "      <th>kilometer</th>\n",
       "      <th>fuel_type</th>\n",
       "      <th>brand</th>\n",
       "      <th>not_repaired</th>\n",
       "      <th>month_created</th>\n",
       "      <th>postal_code</th>\n",
       "    </tr>\n",
       "  </thead>\n",
       "  <tbody>\n",
       "    <tr>\n",
       "      <th>22</th>\n",
       "      <td>500</td>\n",
       "      <td>sedan</td>\n",
       "      <td>1990</td>\n",
       "      <td>manual</td>\n",
       "      <td>118</td>\n",
       "      <td>other</td>\n",
       "      <td>150000</td>\n",
       "      <td>petrol</td>\n",
       "      <td>mercedes_benz</td>\n",
       "      <td>yes</td>\n",
       "      <td>3</td>\n",
       "      <td>35390</td>\n",
       "    </tr>\n",
       "    <tr>\n",
       "      <th>34</th>\n",
       "      <td>11900</td>\n",
       "      <td>other</td>\n",
       "      <td>2002</td>\n",
       "      <td>manual</td>\n",
       "      <td>129</td>\n",
       "      <td>other</td>\n",
       "      <td>150000</td>\n",
       "      <td>gasoline</td>\n",
       "      <td>volkswagen</td>\n",
       "      <td>no</td>\n",
       "      <td>4</td>\n",
       "      <td>10551</td>\n",
       "    </tr>\n",
       "    <tr>\n",
       "      <th>35</th>\n",
       "      <td>1500</td>\n",
       "      <td>bus</td>\n",
       "      <td>1984</td>\n",
       "      <td>manual</td>\n",
       "      <td>70</td>\n",
       "      <td>other</td>\n",
       "      <td>150000</td>\n",
       "      <td>gasoline</td>\n",
       "      <td>mercedes_benz</td>\n",
       "      <td>no</td>\n",
       "      <td>3</td>\n",
       "      <td>22767</td>\n",
       "    </tr>\n",
       "    <tr>\n",
       "      <th>47</th>\n",
       "      <td>1400</td>\n",
       "      <td>NaN</td>\n",
       "      <td>2016</td>\n",
       "      <td>manual</td>\n",
       "      <td>55</td>\n",
       "      <td>other</td>\n",
       "      <td>5000</td>\n",
       "      <td>NaN</td>\n",
       "      <td>hyundai</td>\n",
       "      <td>NaN</td>\n",
       "      <td>4</td>\n",
       "      <td>34454</td>\n",
       "    </tr>\n",
       "    <tr>\n",
       "      <th>52</th>\n",
       "      <td>2399</td>\n",
       "      <td>NaN</td>\n",
       "      <td>2018</td>\n",
       "      <td>manual</td>\n",
       "      <td>64</td>\n",
       "      <td>other</td>\n",
       "      <td>125000</td>\n",
       "      <td>NaN</td>\n",
       "      <td>seat</td>\n",
       "      <td>no</td>\n",
       "      <td>3</td>\n",
       "      <td>33397</td>\n",
       "    </tr>\n",
       "    <tr>\n",
       "      <th>60</th>\n",
       "      <td>2100</td>\n",
       "      <td>suv</td>\n",
       "      <td>2000</td>\n",
       "      <td>manual</td>\n",
       "      <td>105</td>\n",
       "      <td>other</td>\n",
       "      <td>150000</td>\n",
       "      <td>petrol</td>\n",
       "      <td>honda</td>\n",
       "      <td>no</td>\n",
       "      <td>2</td>\n",
       "      <td>85244</td>\n",
       "    </tr>\n",
       "    <tr>\n",
       "      <th>61</th>\n",
       "      <td>1280</td>\n",
       "      <td>sedan</td>\n",
       "      <td>1992</td>\n",
       "      <td>auto</td>\n",
       "      <td>109</td>\n",
       "      <td>other</td>\n",
       "      <td>150000</td>\n",
       "      <td>petrol</td>\n",
       "      <td>mercedes_benz</td>\n",
       "      <td>NaN</td>\n",
       "      <td>3</td>\n",
       "      <td>86163</td>\n",
       "    </tr>\n",
       "    <tr>\n",
       "      <th>76</th>\n",
       "      <td>1800</td>\n",
       "      <td>bus</td>\n",
       "      <td>2001</td>\n",
       "      <td>manual</td>\n",
       "      <td>87</td>\n",
       "      <td>other</td>\n",
       "      <td>150000</td>\n",
       "      <td>gasoline</td>\n",
       "      <td>mitsubishi</td>\n",
       "      <td>no</td>\n",
       "      <td>3</td>\n",
       "      <td>24116</td>\n",
       "    </tr>\n",
       "    <tr>\n",
       "      <th>80</th>\n",
       "      <td>1222</td>\n",
       "      <td>sedan</td>\n",
       "      <td>1984</td>\n",
       "      <td>auto</td>\n",
       "      <td>180</td>\n",
       "      <td>other</td>\n",
       "      <td>150000</td>\n",
       "      <td>petrol</td>\n",
       "      <td>opel</td>\n",
       "      <td>NaN</td>\n",
       "      <td>4</td>\n",
       "      <td>57290</td>\n",
       "    </tr>\n",
       "    <tr>\n",
       "      <th>99</th>\n",
       "      <td>3500</td>\n",
       "      <td>coupe</td>\n",
       "      <td>1991</td>\n",
       "      <td>manual</td>\n",
       "      <td>160</td>\n",
       "      <td>other</td>\n",
       "      <td>150000</td>\n",
       "      <td>petrol</td>\n",
       "      <td>volkswagen</td>\n",
       "      <td>no</td>\n",
       "      <td>4</td>\n",
       "      <td>66111</td>\n",
       "    </tr>\n",
       "    <tr>\n",
       "      <th>180</th>\n",
       "      <td>999</td>\n",
       "      <td>sedan</td>\n",
       "      <td>1995</td>\n",
       "      <td>manual</td>\n",
       "      <td>75</td>\n",
       "      <td>other</td>\n",
       "      <td>150000</td>\n",
       "      <td>petrol</td>\n",
       "      <td>volkswagen</td>\n",
       "      <td>no</td>\n",
       "      <td>3</td>\n",
       "      <td>76597</td>\n",
       "    </tr>\n",
       "    <tr>\n",
       "      <th>204</th>\n",
       "      <td>1000</td>\n",
       "      <td>suv</td>\n",
       "      <td>1982</td>\n",
       "      <td>manual</td>\n",
       "      <td>41</td>\n",
       "      <td>other</td>\n",
       "      <td>150000</td>\n",
       "      <td>petrol</td>\n",
       "      <td>suzuki</td>\n",
       "      <td>NaN</td>\n",
       "      <td>3</td>\n",
       "      <td>56337</td>\n",
       "    </tr>\n",
       "    <tr>\n",
       "      <th>206</th>\n",
       "      <td>1440</td>\n",
       "      <td>bus</td>\n",
       "      <td>2003</td>\n",
       "      <td>manual</td>\n",
       "      <td>109</td>\n",
       "      <td>other</td>\n",
       "      <td>150000</td>\n",
       "      <td>gasoline</td>\n",
       "      <td>lancia</td>\n",
       "      <td>no</td>\n",
       "      <td>3</td>\n",
       "      <td>83317</td>\n",
       "    </tr>\n",
       "    <tr>\n",
       "      <th>213</th>\n",
       "      <td>800</td>\n",
       "      <td>bus</td>\n",
       "      <td>2001</td>\n",
       "      <td>auto</td>\n",
       "      <td>114</td>\n",
       "      <td>other</td>\n",
       "      <td>150000</td>\n",
       "      <td>petrol</td>\n",
       "      <td>mazda</td>\n",
       "      <td>yes</td>\n",
       "      <td>3</td>\n",
       "      <td>35043</td>\n",
       "    </tr>\n",
       "    <tr>\n",
       "      <th>214</th>\n",
       "      <td>10200</td>\n",
       "      <td>coupe</td>\n",
       "      <td>2008</td>\n",
       "      <td>manual</td>\n",
       "      <td>0</td>\n",
       "      <td>other</td>\n",
       "      <td>90000</td>\n",
       "      <td>petrol</td>\n",
       "      <td>nissan</td>\n",
       "      <td>NaN</td>\n",
       "      <td>3</td>\n",
       "      <td>71131</td>\n",
       "    </tr>\n",
       "    <tr>\n",
       "      <th>247</th>\n",
       "      <td>6000</td>\n",
       "      <td>coupe</td>\n",
       "      <td>1995</td>\n",
       "      <td>manual</td>\n",
       "      <td>286</td>\n",
       "      <td>other</td>\n",
       "      <td>150000</td>\n",
       "      <td>petrol</td>\n",
       "      <td>mitsubishi</td>\n",
       "      <td>no</td>\n",
       "      <td>3</td>\n",
       "      <td>36093</td>\n",
       "    </tr>\n",
       "    <tr>\n",
       "      <th>264</th>\n",
       "      <td>2899</td>\n",
       "      <td>bus</td>\n",
       "      <td>1996</td>\n",
       "      <td>manual</td>\n",
       "      <td>69</td>\n",
       "      <td>other</td>\n",
       "      <td>150000</td>\n",
       "      <td>gasoline</td>\n",
       "      <td>mitsubishi</td>\n",
       "      <td>no</td>\n",
       "      <td>3</td>\n",
       "      <td>13409</td>\n",
       "    </tr>\n",
       "    <tr>\n",
       "      <th>289</th>\n",
       "      <td>2600</td>\n",
       "      <td>coupe</td>\n",
       "      <td>1998</td>\n",
       "      <td>manual</td>\n",
       "      <td>170</td>\n",
       "      <td>other</td>\n",
       "      <td>150000</td>\n",
       "      <td>petrol</td>\n",
       "      <td>toyota</td>\n",
       "      <td>no</td>\n",
       "      <td>3</td>\n",
       "      <td>9437</td>\n",
       "    </tr>\n",
       "    <tr>\n",
       "      <th>290</th>\n",
       "      <td>11700</td>\n",
       "      <td>wagon</td>\n",
       "      <td>2008</td>\n",
       "      <td>manual</td>\n",
       "      <td>170</td>\n",
       "      <td>other</td>\n",
       "      <td>150000</td>\n",
       "      <td>gasoline</td>\n",
       "      <td>mercedes_benz</td>\n",
       "      <td>no</td>\n",
       "      <td>3</td>\n",
       "      <td>91717</td>\n",
       "    </tr>\n",
       "    <tr>\n",
       "      <th>303</th>\n",
       "      <td>3550</td>\n",
       "      <td>sedan</td>\n",
       "      <td>1993</td>\n",
       "      <td>manual</td>\n",
       "      <td>0</td>\n",
       "      <td>other</td>\n",
       "      <td>125000</td>\n",
       "      <td>petrol</td>\n",
       "      <td>chevrolet</td>\n",
       "      <td>NaN</td>\n",
       "      <td>3</td>\n",
       "      <td>54634</td>\n",
       "    </tr>\n",
       "  </tbody>\n",
       "</table>\n",
       "</div>"
      ],
      "text/plain": [
       "     price vehicle_type  registration_year gearbox  power  model  kilometer  \\\n",
       "22     500        sedan               1990  manual    118  other     150000   \n",
       "34   11900        other               2002  manual    129  other     150000   \n",
       "35    1500          bus               1984  manual     70  other     150000   \n",
       "47    1400          NaN               2016  manual     55  other       5000   \n",
       "52    2399          NaN               2018  manual     64  other     125000   \n",
       "60    2100          suv               2000  manual    105  other     150000   \n",
       "61    1280        sedan               1992    auto    109  other     150000   \n",
       "76    1800          bus               2001  manual     87  other     150000   \n",
       "80    1222        sedan               1984    auto    180  other     150000   \n",
       "99    3500        coupe               1991  manual    160  other     150000   \n",
       "180    999        sedan               1995  manual     75  other     150000   \n",
       "204   1000          suv               1982  manual     41  other     150000   \n",
       "206   1440          bus               2003  manual    109  other     150000   \n",
       "213    800          bus               2001    auto    114  other     150000   \n",
       "214  10200        coupe               2008  manual      0  other      90000   \n",
       "247   6000        coupe               1995  manual    286  other     150000   \n",
       "264   2899          bus               1996  manual     69  other     150000   \n",
       "289   2600        coupe               1998  manual    170  other     150000   \n",
       "290  11700        wagon               2008  manual    170  other     150000   \n",
       "303   3550        sedan               1993  manual      0  other     125000   \n",
       "\n",
       "    fuel_type          brand not_repaired  month_created  postal_code  \n",
       "22     petrol  mercedes_benz          yes              3        35390  \n",
       "34   gasoline     volkswagen           no              4        10551  \n",
       "35   gasoline  mercedes_benz           no              3        22767  \n",
       "47        NaN        hyundai          NaN              4        34454  \n",
       "52        NaN           seat           no              3        33397  \n",
       "60     petrol          honda           no              2        85244  \n",
       "61     petrol  mercedes_benz          NaN              3        86163  \n",
       "76   gasoline     mitsubishi           no              3        24116  \n",
       "80     petrol           opel          NaN              4        57290  \n",
       "99     petrol     volkswagen           no              4        66111  \n",
       "180    petrol     volkswagen           no              3        76597  \n",
       "204    petrol         suzuki          NaN              3        56337  \n",
       "206  gasoline         lancia           no              3        83317  \n",
       "213    petrol          mazda          yes              3        35043  \n",
       "214    petrol         nissan          NaN              3        71131  \n",
       "247    petrol     mitsubishi           no              3        36093  \n",
       "264  gasoline     mitsubishi           no              3        13409  \n",
       "289    petrol         toyota           no              3         9437  \n",
       "290  gasoline  mercedes_benz           no              3        91717  \n",
       "303    petrol      chevrolet          NaN              3        54634  "
      ]
     },
     "metadata": {},
     "output_type": "display_data"
    },
    {
     "name": "stdout",
     "output_type": "stream",
     "text": [
      "\u001b[1mТаблица № 15. Виды кузова у модели 3er\n"
     ]
    },
    {
     "data": {
      "text/html": [
       "<div>\n",
       "<style scoped>\n",
       "    .dataframe tbody tr th:only-of-type {\n",
       "        vertical-align: middle;\n",
       "    }\n",
       "\n",
       "    .dataframe tbody tr th {\n",
       "        vertical-align: top;\n",
       "    }\n",
       "\n",
       "    .dataframe thead th {\n",
       "        text-align: right;\n",
       "    }\n",
       "</style>\n",
       "<table border=\"1\" class=\"dataframe\">\n",
       "  <thead>\n",
       "    <tr style=\"text-align: right;\">\n",
       "      <th></th>\n",
       "      <th>price</th>\n",
       "      <th>vehicle_type</th>\n",
       "      <th>registration_year</th>\n",
       "      <th>gearbox</th>\n",
       "      <th>power</th>\n",
       "      <th>model</th>\n",
       "      <th>kilometer</th>\n",
       "      <th>fuel_type</th>\n",
       "      <th>brand</th>\n",
       "      <th>not_repaired</th>\n",
       "      <th>month_created</th>\n",
       "      <th>postal_code</th>\n",
       "    </tr>\n",
       "  </thead>\n",
       "  <tbody>\n",
       "    <tr>\n",
       "      <th>5</th>\n",
       "      <td>650</td>\n",
       "      <td>sedan</td>\n",
       "      <td>1995</td>\n",
       "      <td>manual</td>\n",
       "      <td>102</td>\n",
       "      <td>3er</td>\n",
       "      <td>150000</td>\n",
       "      <td>petrol</td>\n",
       "      <td>bmw</td>\n",
       "      <td>yes</td>\n",
       "      <td>4</td>\n",
       "      <td>33775</td>\n",
       "    </tr>\n",
       "    <tr>\n",
       "      <th>30</th>\n",
       "      <td>18000</td>\n",
       "      <td>sedan</td>\n",
       "      <td>2007</td>\n",
       "      <td>auto</td>\n",
       "      <td>218</td>\n",
       "      <td>3er</td>\n",
       "      <td>20000</td>\n",
       "      <td>petrol</td>\n",
       "      <td>bmw</td>\n",
       "      <td>no</td>\n",
       "      <td>3</td>\n",
       "      <td>39179</td>\n",
       "    </tr>\n",
       "    <tr>\n",
       "      <th>48</th>\n",
       "      <td>7999</td>\n",
       "      <td>sedan</td>\n",
       "      <td>2008</td>\n",
       "      <td>auto</td>\n",
       "      <td>143</td>\n",
       "      <td>3er</td>\n",
       "      <td>150000</td>\n",
       "      <td>gasoline</td>\n",
       "      <td>bmw</td>\n",
       "      <td>NaN</td>\n",
       "      <td>3</td>\n",
       "      <td>71083</td>\n",
       "    </tr>\n",
       "    <tr>\n",
       "      <th>57</th>\n",
       "      <td>14999</td>\n",
       "      <td>convertible</td>\n",
       "      <td>2007</td>\n",
       "      <td>manual</td>\n",
       "      <td>218</td>\n",
       "      <td>3er</td>\n",
       "      <td>50000</td>\n",
       "      <td>petrol</td>\n",
       "      <td>bmw</td>\n",
       "      <td>no</td>\n",
       "      <td>3</td>\n",
       "      <td>1129</td>\n",
       "    </tr>\n",
       "    <tr>\n",
       "      <th>91</th>\n",
       "      <td>650</td>\n",
       "      <td>sedan</td>\n",
       "      <td>1997</td>\n",
       "      <td>auto</td>\n",
       "      <td>102</td>\n",
       "      <td>3er</td>\n",
       "      <td>150000</td>\n",
       "      <td>petrol</td>\n",
       "      <td>bmw</td>\n",
       "      <td>NaN</td>\n",
       "      <td>3</td>\n",
       "      <td>13357</td>\n",
       "    </tr>\n",
       "    <tr>\n",
       "      <th>100</th>\n",
       "      <td>5950</td>\n",
       "      <td>sedan</td>\n",
       "      <td>2006</td>\n",
       "      <td>manual</td>\n",
       "      <td>163</td>\n",
       "      <td>3er</td>\n",
       "      <td>150000</td>\n",
       "      <td>gasoline</td>\n",
       "      <td>bmw</td>\n",
       "      <td>yes</td>\n",
       "      <td>3</td>\n",
       "      <td>63526</td>\n",
       "    </tr>\n",
       "    <tr>\n",
       "      <th>113</th>\n",
       "      <td>3390</td>\n",
       "      <td>NaN</td>\n",
       "      <td>2000</td>\n",
       "      <td>NaN</td>\n",
       "      <td>0</td>\n",
       "      <td>3er</td>\n",
       "      <td>150000</td>\n",
       "      <td>NaN</td>\n",
       "      <td>bmw</td>\n",
       "      <td>NaN</td>\n",
       "      <td>3</td>\n",
       "      <td>45739</td>\n",
       "    </tr>\n",
       "    <tr>\n",
       "      <th>126</th>\n",
       "      <td>4200</td>\n",
       "      <td>wagon</td>\n",
       "      <td>2003</td>\n",
       "      <td>auto</td>\n",
       "      <td>204</td>\n",
       "      <td>3er</td>\n",
       "      <td>150000</td>\n",
       "      <td>gasoline</td>\n",
       "      <td>bmw</td>\n",
       "      <td>no</td>\n",
       "      <td>4</td>\n",
       "      <td>53757</td>\n",
       "    </tr>\n",
       "    <tr>\n",
       "      <th>147</th>\n",
       "      <td>2900</td>\n",
       "      <td>coupe</td>\n",
       "      <td>2000</td>\n",
       "      <td>auto</td>\n",
       "      <td>170</td>\n",
       "      <td>3er</td>\n",
       "      <td>150000</td>\n",
       "      <td>petrol</td>\n",
       "      <td>bmw</td>\n",
       "      <td>no</td>\n",
       "      <td>3</td>\n",
       "      <td>53332</td>\n",
       "    </tr>\n",
       "    <tr>\n",
       "      <th>155</th>\n",
       "      <td>2999</td>\n",
       "      <td>wagon</td>\n",
       "      <td>2001</td>\n",
       "      <td>manual</td>\n",
       "      <td>0</td>\n",
       "      <td>3er</td>\n",
       "      <td>150000</td>\n",
       "      <td>petrol</td>\n",
       "      <td>bmw</td>\n",
       "      <td>NaN</td>\n",
       "      <td>3</td>\n",
       "      <td>45891</td>\n",
       "    </tr>\n",
       "    <tr>\n",
       "      <th>163</th>\n",
       "      <td>13400</td>\n",
       "      <td>sedan</td>\n",
       "      <td>2008</td>\n",
       "      <td>manual</td>\n",
       "      <td>170</td>\n",
       "      <td>3er</td>\n",
       "      <td>100000</td>\n",
       "      <td>petrol</td>\n",
       "      <td>bmw</td>\n",
       "      <td>no</td>\n",
       "      <td>3</td>\n",
       "      <td>64289</td>\n",
       "    </tr>\n",
       "    <tr>\n",
       "      <th>182</th>\n",
       "      <td>10500</td>\n",
       "      <td>sedan</td>\n",
       "      <td>2010</td>\n",
       "      <td>manual</td>\n",
       "      <td>143</td>\n",
       "      <td>3er</td>\n",
       "      <td>150000</td>\n",
       "      <td>gasoline</td>\n",
       "      <td>bmw</td>\n",
       "      <td>no</td>\n",
       "      <td>3</td>\n",
       "      <td>29683</td>\n",
       "    </tr>\n",
       "    <tr>\n",
       "      <th>190</th>\n",
       "      <td>8600</td>\n",
       "      <td>coupe</td>\n",
       "      <td>2007</td>\n",
       "      <td>manual</td>\n",
       "      <td>197</td>\n",
       "      <td>3er</td>\n",
       "      <td>150000</td>\n",
       "      <td>gasoline</td>\n",
       "      <td>bmw</td>\n",
       "      <td>no</td>\n",
       "      <td>3</td>\n",
       "      <td>72116</td>\n",
       "    </tr>\n",
       "    <tr>\n",
       "      <th>194</th>\n",
       "      <td>11800</td>\n",
       "      <td>sedan</td>\n",
       "      <td>2005</td>\n",
       "      <td>auto</td>\n",
       "      <td>218</td>\n",
       "      <td>3er</td>\n",
       "      <td>150000</td>\n",
       "      <td>petrol</td>\n",
       "      <td>bmw</td>\n",
       "      <td>no</td>\n",
       "      <td>4</td>\n",
       "      <td>88255</td>\n",
       "    </tr>\n",
       "    <tr>\n",
       "      <th>203</th>\n",
       "      <td>5500</td>\n",
       "      <td>sedan</td>\n",
       "      <td>2000</td>\n",
       "      <td>manual</td>\n",
       "      <td>170</td>\n",
       "      <td>3er</td>\n",
       "      <td>150000</td>\n",
       "      <td>petrol</td>\n",
       "      <td>bmw</td>\n",
       "      <td>no</td>\n",
       "      <td>3</td>\n",
       "      <td>41470</td>\n",
       "    </tr>\n",
       "    <tr>\n",
       "      <th>209</th>\n",
       "      <td>899</td>\n",
       "      <td>coupe</td>\n",
       "      <td>1995</td>\n",
       "      <td>manual</td>\n",
       "      <td>102</td>\n",
       "      <td>3er</td>\n",
       "      <td>150000</td>\n",
       "      <td>petrol</td>\n",
       "      <td>bmw</td>\n",
       "      <td>no</td>\n",
       "      <td>3</td>\n",
       "      <td>85640</td>\n",
       "    </tr>\n",
       "    <tr>\n",
       "      <th>210</th>\n",
       "      <td>9200</td>\n",
       "      <td>wagon</td>\n",
       "      <td>2006</td>\n",
       "      <td>manual</td>\n",
       "      <td>150</td>\n",
       "      <td>3er</td>\n",
       "      <td>150000</td>\n",
       "      <td>petrol</td>\n",
       "      <td>bmw</td>\n",
       "      <td>no</td>\n",
       "      <td>4</td>\n",
       "      <td>85659</td>\n",
       "    </tr>\n",
       "    <tr>\n",
       "      <th>226</th>\n",
       "      <td>800</td>\n",
       "      <td>wagon</td>\n",
       "      <td>2000</td>\n",
       "      <td>manual</td>\n",
       "      <td>118</td>\n",
       "      <td>3er</td>\n",
       "      <td>150000</td>\n",
       "      <td>petrol</td>\n",
       "      <td>bmw</td>\n",
       "      <td>yes</td>\n",
       "      <td>3</td>\n",
       "      <td>51647</td>\n",
       "    </tr>\n",
       "    <tr>\n",
       "      <th>254</th>\n",
       "      <td>2400</td>\n",
       "      <td>sedan</td>\n",
       "      <td>1989</td>\n",
       "      <td>manual</td>\n",
       "      <td>102</td>\n",
       "      <td>3er</td>\n",
       "      <td>150000</td>\n",
       "      <td>petrol</td>\n",
       "      <td>bmw</td>\n",
       "      <td>no</td>\n",
       "      <td>3</td>\n",
       "      <td>95364</td>\n",
       "    </tr>\n",
       "    <tr>\n",
       "      <th>294</th>\n",
       "      <td>8499</td>\n",
       "      <td>convertible</td>\n",
       "      <td>2006</td>\n",
       "      <td>manual</td>\n",
       "      <td>150</td>\n",
       "      <td>3er</td>\n",
       "      <td>150000</td>\n",
       "      <td>petrol</td>\n",
       "      <td>bmw</td>\n",
       "      <td>no</td>\n",
       "      <td>3</td>\n",
       "      <td>51515</td>\n",
       "    </tr>\n",
       "  </tbody>\n",
       "</table>\n",
       "</div>"
      ],
      "text/plain": [
       "     price vehicle_type  registration_year gearbox  power model  kilometer  \\\n",
       "5      650        sedan               1995  manual    102   3er     150000   \n",
       "30   18000        sedan               2007    auto    218   3er      20000   \n",
       "48    7999        sedan               2008    auto    143   3er     150000   \n",
       "57   14999  convertible               2007  manual    218   3er      50000   \n",
       "91     650        sedan               1997    auto    102   3er     150000   \n",
       "100   5950        sedan               2006  manual    163   3er     150000   \n",
       "113   3390          NaN               2000     NaN      0   3er     150000   \n",
       "126   4200        wagon               2003    auto    204   3er     150000   \n",
       "147   2900        coupe               2000    auto    170   3er     150000   \n",
       "155   2999        wagon               2001  manual      0   3er     150000   \n",
       "163  13400        sedan               2008  manual    170   3er     100000   \n",
       "182  10500        sedan               2010  manual    143   3er     150000   \n",
       "190   8600        coupe               2007  manual    197   3er     150000   \n",
       "194  11800        sedan               2005    auto    218   3er     150000   \n",
       "203   5500        sedan               2000  manual    170   3er     150000   \n",
       "209    899        coupe               1995  manual    102   3er     150000   \n",
       "210   9200        wagon               2006  manual    150   3er     150000   \n",
       "226    800        wagon               2000  manual    118   3er     150000   \n",
       "254   2400        sedan               1989  manual    102   3er     150000   \n",
       "294   8499  convertible               2006  manual    150   3er     150000   \n",
       "\n",
       "    fuel_type brand not_repaired  month_created  postal_code  \n",
       "5      petrol   bmw          yes              4        33775  \n",
       "30     petrol   bmw           no              3        39179  \n",
       "48   gasoline   bmw          NaN              3        71083  \n",
       "57     petrol   bmw           no              3         1129  \n",
       "91     petrol   bmw          NaN              3        13357  \n",
       "100  gasoline   bmw          yes              3        63526  \n",
       "113       NaN   bmw          NaN              3        45739  \n",
       "126  gasoline   bmw           no              4        53757  \n",
       "147    petrol   bmw           no              3        53332  \n",
       "155    petrol   bmw          NaN              3        45891  \n",
       "163    petrol   bmw           no              3        64289  \n",
       "182  gasoline   bmw           no              3        29683  \n",
       "190  gasoline   bmw           no              3        72116  \n",
       "194    petrol   bmw           no              4        88255  \n",
       "203    petrol   bmw           no              3        41470  \n",
       "209    petrol   bmw           no              3        85640  \n",
       "210    petrol   bmw           no              4        85659  \n",
       "226    petrol   bmw          yes              3        51647  \n",
       "254    petrol   bmw           no              3        95364  \n",
       "294    petrol   bmw           no              3        51515  "
      ]
     },
     "metadata": {},
     "output_type": "display_data"
    },
    {
     "name": "stdout",
     "output_type": "stream",
     "text": [
      "\u001b[1mТаблица № 16. Виды кузова у модели polo\n"
     ]
    },
    {
     "data": {
      "text/html": [
       "<div>\n",
       "<style scoped>\n",
       "    .dataframe tbody tr th:only-of-type {\n",
       "        vertical-align: middle;\n",
       "    }\n",
       "\n",
       "    .dataframe tbody tr th {\n",
       "        vertical-align: top;\n",
       "    }\n",
       "\n",
       "    .dataframe thead th {\n",
       "        text-align: right;\n",
       "    }\n",
       "</style>\n",
       "<table border=\"1\" class=\"dataframe\">\n",
       "  <thead>\n",
       "    <tr style=\"text-align: right;\">\n",
       "      <th></th>\n",
       "      <th>price</th>\n",
       "      <th>vehicle_type</th>\n",
       "      <th>registration_year</th>\n",
       "      <th>gearbox</th>\n",
       "      <th>power</th>\n",
       "      <th>model</th>\n",
       "      <th>kilometer</th>\n",
       "      <th>fuel_type</th>\n",
       "      <th>brand</th>\n",
       "      <th>not_repaired</th>\n",
       "      <th>month_created</th>\n",
       "      <th>postal_code</th>\n",
       "    </tr>\n",
       "  </thead>\n",
       "  <tbody>\n",
       "    <tr>\n",
       "      <th>63</th>\n",
       "      <td>800</td>\n",
       "      <td>small</td>\n",
       "      <td>1993</td>\n",
       "      <td>manual</td>\n",
       "      <td>0</td>\n",
       "      <td>polo</td>\n",
       "      <td>150000</td>\n",
       "      <td>petrol</td>\n",
       "      <td>volkswagen</td>\n",
       "      <td>no</td>\n",
       "      <td>3</td>\n",
       "      <td>8258</td>\n",
       "    </tr>\n",
       "    <tr>\n",
       "      <th>104</th>\n",
       "      <td>9290</td>\n",
       "      <td>small</td>\n",
       "      <td>2010</td>\n",
       "      <td>manual</td>\n",
       "      <td>86</td>\n",
       "      <td>polo</td>\n",
       "      <td>40000</td>\n",
       "      <td>petrol</td>\n",
       "      <td>volkswagen</td>\n",
       "      <td>no</td>\n",
       "      <td>3</td>\n",
       "      <td>35630</td>\n",
       "    </tr>\n",
       "    <tr>\n",
       "      <th>158</th>\n",
       "      <td>5999</td>\n",
       "      <td>small</td>\n",
       "      <td>2009</td>\n",
       "      <td>manual</td>\n",
       "      <td>80</td>\n",
       "      <td>polo</td>\n",
       "      <td>125000</td>\n",
       "      <td>petrol</td>\n",
       "      <td>volkswagen</td>\n",
       "      <td>no</td>\n",
       "      <td>3</td>\n",
       "      <td>65529</td>\n",
       "    </tr>\n",
       "    <tr>\n",
       "      <th>219</th>\n",
       "      <td>950</td>\n",
       "      <td>small</td>\n",
       "      <td>1995</td>\n",
       "      <td>manual</td>\n",
       "      <td>54</td>\n",
       "      <td>polo</td>\n",
       "      <td>150000</td>\n",
       "      <td>petrol</td>\n",
       "      <td>volkswagen</td>\n",
       "      <td>no</td>\n",
       "      <td>3</td>\n",
       "      <td>34270</td>\n",
       "    </tr>\n",
       "    <tr>\n",
       "      <th>223</th>\n",
       "      <td>11919</td>\n",
       "      <td>small</td>\n",
       "      <td>2012</td>\n",
       "      <td>auto</td>\n",
       "      <td>90</td>\n",
       "      <td>polo</td>\n",
       "      <td>30000</td>\n",
       "      <td>petrol</td>\n",
       "      <td>volkswagen</td>\n",
       "      <td>no</td>\n",
       "      <td>3</td>\n",
       "      <td>6110</td>\n",
       "    </tr>\n",
       "    <tr>\n",
       "      <th>251</th>\n",
       "      <td>9500</td>\n",
       "      <td>sedan</td>\n",
       "      <td>2012</td>\n",
       "      <td>manual</td>\n",
       "      <td>69</td>\n",
       "      <td>polo</td>\n",
       "      <td>50000</td>\n",
       "      <td>petrol</td>\n",
       "      <td>volkswagen</td>\n",
       "      <td>NaN</td>\n",
       "      <td>3</td>\n",
       "      <td>91722</td>\n",
       "    </tr>\n",
       "    <tr>\n",
       "      <th>346</th>\n",
       "      <td>2950</td>\n",
       "      <td>small</td>\n",
       "      <td>2004</td>\n",
       "      <td>manual</td>\n",
       "      <td>54</td>\n",
       "      <td>polo</td>\n",
       "      <td>90000</td>\n",
       "      <td>petrol</td>\n",
       "      <td>volkswagen</td>\n",
       "      <td>NaN</td>\n",
       "      <td>3</td>\n",
       "      <td>41812</td>\n",
       "    </tr>\n",
       "    <tr>\n",
       "      <th>416</th>\n",
       "      <td>4490</td>\n",
       "      <td>small</td>\n",
       "      <td>2008</td>\n",
       "      <td>manual</td>\n",
       "      <td>60</td>\n",
       "      <td>polo</td>\n",
       "      <td>100000</td>\n",
       "      <td>petrol</td>\n",
       "      <td>volkswagen</td>\n",
       "      <td>no</td>\n",
       "      <td>3</td>\n",
       "      <td>1993</td>\n",
       "    </tr>\n",
       "    <tr>\n",
       "      <th>467</th>\n",
       "      <td>500</td>\n",
       "      <td>small</td>\n",
       "      <td>1996</td>\n",
       "      <td>manual</td>\n",
       "      <td>45</td>\n",
       "      <td>polo</td>\n",
       "      <td>150000</td>\n",
       "      <td>petrol</td>\n",
       "      <td>volkswagen</td>\n",
       "      <td>no</td>\n",
       "      <td>3</td>\n",
       "      <td>19303</td>\n",
       "    </tr>\n",
       "    <tr>\n",
       "      <th>601</th>\n",
       "      <td>2100</td>\n",
       "      <td>small</td>\n",
       "      <td>2005</td>\n",
       "      <td>manual</td>\n",
       "      <td>64</td>\n",
       "      <td>polo</td>\n",
       "      <td>150000</td>\n",
       "      <td>petrol</td>\n",
       "      <td>volkswagen</td>\n",
       "      <td>no</td>\n",
       "      <td>3</td>\n",
       "      <td>84307</td>\n",
       "    </tr>\n",
       "    <tr>\n",
       "      <th>616</th>\n",
       "      <td>950</td>\n",
       "      <td>small</td>\n",
       "      <td>1999</td>\n",
       "      <td>manual</td>\n",
       "      <td>60</td>\n",
       "      <td>polo</td>\n",
       "      <td>150000</td>\n",
       "      <td>petrol</td>\n",
       "      <td>volkswagen</td>\n",
       "      <td>no</td>\n",
       "      <td>3</td>\n",
       "      <td>49078</td>\n",
       "    </tr>\n",
       "    <tr>\n",
       "      <th>665</th>\n",
       "      <td>3100</td>\n",
       "      <td>sedan</td>\n",
       "      <td>2004</td>\n",
       "      <td>manual</td>\n",
       "      <td>101</td>\n",
       "      <td>polo</td>\n",
       "      <td>150000</td>\n",
       "      <td>NaN</td>\n",
       "      <td>volkswagen</td>\n",
       "      <td>no</td>\n",
       "      <td>3</td>\n",
       "      <td>12627</td>\n",
       "    </tr>\n",
       "    <tr>\n",
       "      <th>705</th>\n",
       "      <td>550</td>\n",
       "      <td>small</td>\n",
       "      <td>1995</td>\n",
       "      <td>manual</td>\n",
       "      <td>45</td>\n",
       "      <td>polo</td>\n",
       "      <td>5000</td>\n",
       "      <td>petrol</td>\n",
       "      <td>volkswagen</td>\n",
       "      <td>NaN</td>\n",
       "      <td>4</td>\n",
       "      <td>45309</td>\n",
       "    </tr>\n",
       "    <tr>\n",
       "      <th>710</th>\n",
       "      <td>3500</td>\n",
       "      <td>NaN</td>\n",
       "      <td>2016</td>\n",
       "      <td>manual</td>\n",
       "      <td>64</td>\n",
       "      <td>polo</td>\n",
       "      <td>100000</td>\n",
       "      <td>petrol</td>\n",
       "      <td>volkswagen</td>\n",
       "      <td>no</td>\n",
       "      <td>3</td>\n",
       "      <td>52353</td>\n",
       "    </tr>\n",
       "    <tr>\n",
       "      <th>716</th>\n",
       "      <td>1200</td>\n",
       "      <td>small</td>\n",
       "      <td>2000</td>\n",
       "      <td>manual</td>\n",
       "      <td>75</td>\n",
       "      <td>polo</td>\n",
       "      <td>150000</td>\n",
       "      <td>petrol</td>\n",
       "      <td>volkswagen</td>\n",
       "      <td>no</td>\n",
       "      <td>3</td>\n",
       "      <td>93059</td>\n",
       "    </tr>\n",
       "    <tr>\n",
       "      <th>735</th>\n",
       "      <td>2799</td>\n",
       "      <td>small</td>\n",
       "      <td>2001</td>\n",
       "      <td>manual</td>\n",
       "      <td>75</td>\n",
       "      <td>polo</td>\n",
       "      <td>90000</td>\n",
       "      <td>petrol</td>\n",
       "      <td>volkswagen</td>\n",
       "      <td>no</td>\n",
       "      <td>3</td>\n",
       "      <td>25421</td>\n",
       "    </tr>\n",
       "    <tr>\n",
       "      <th>754</th>\n",
       "      <td>4800</td>\n",
       "      <td>small</td>\n",
       "      <td>2007</td>\n",
       "      <td>manual</td>\n",
       "      <td>80</td>\n",
       "      <td>polo</td>\n",
       "      <td>100000</td>\n",
       "      <td>petrol</td>\n",
       "      <td>volkswagen</td>\n",
       "      <td>no</td>\n",
       "      <td>3</td>\n",
       "      <td>4600</td>\n",
       "    </tr>\n",
       "    <tr>\n",
       "      <th>847</th>\n",
       "      <td>2000</td>\n",
       "      <td>NaN</td>\n",
       "      <td>2016</td>\n",
       "      <td>manual</td>\n",
       "      <td>59</td>\n",
       "      <td>polo</td>\n",
       "      <td>100000</td>\n",
       "      <td>petrol</td>\n",
       "      <td>volkswagen</td>\n",
       "      <td>yes</td>\n",
       "      <td>3</td>\n",
       "      <td>22047</td>\n",
       "    </tr>\n",
       "    <tr>\n",
       "      <th>900</th>\n",
       "      <td>650</td>\n",
       "      <td>small</td>\n",
       "      <td>1996</td>\n",
       "      <td>manual</td>\n",
       "      <td>60</td>\n",
       "      <td>polo</td>\n",
       "      <td>150000</td>\n",
       "      <td>petrol</td>\n",
       "      <td>volkswagen</td>\n",
       "      <td>NaN</td>\n",
       "      <td>3</td>\n",
       "      <td>47918</td>\n",
       "    </tr>\n",
       "    <tr>\n",
       "      <th>916</th>\n",
       "      <td>750</td>\n",
       "      <td>wagon</td>\n",
       "      <td>2000</td>\n",
       "      <td>manual</td>\n",
       "      <td>60</td>\n",
       "      <td>polo</td>\n",
       "      <td>150000</td>\n",
       "      <td>petrol</td>\n",
       "      <td>volkswagen</td>\n",
       "      <td>yes</td>\n",
       "      <td>3</td>\n",
       "      <td>48157</td>\n",
       "    </tr>\n",
       "  </tbody>\n",
       "</table>\n",
       "</div>"
      ],
      "text/plain": [
       "     price vehicle_type  registration_year gearbox  power model  kilometer  \\\n",
       "63     800        small               1993  manual      0  polo     150000   \n",
       "104   9290        small               2010  manual     86  polo      40000   \n",
       "158   5999        small               2009  manual     80  polo     125000   \n",
       "219    950        small               1995  manual     54  polo     150000   \n",
       "223  11919        small               2012    auto     90  polo      30000   \n",
       "251   9500        sedan               2012  manual     69  polo      50000   \n",
       "346   2950        small               2004  manual     54  polo      90000   \n",
       "416   4490        small               2008  manual     60  polo     100000   \n",
       "467    500        small               1996  manual     45  polo     150000   \n",
       "601   2100        small               2005  manual     64  polo     150000   \n",
       "616    950        small               1999  manual     60  polo     150000   \n",
       "665   3100        sedan               2004  manual    101  polo     150000   \n",
       "705    550        small               1995  manual     45  polo       5000   \n",
       "710   3500          NaN               2016  manual     64  polo     100000   \n",
       "716   1200        small               2000  manual     75  polo     150000   \n",
       "735   2799        small               2001  manual     75  polo      90000   \n",
       "754   4800        small               2007  manual     80  polo     100000   \n",
       "847   2000          NaN               2016  manual     59  polo     100000   \n",
       "900    650        small               1996  manual     60  polo     150000   \n",
       "916    750        wagon               2000  manual     60  polo     150000   \n",
       "\n",
       "    fuel_type       brand not_repaired  month_created  postal_code  \n",
       "63     petrol  volkswagen           no              3         8258  \n",
       "104    petrol  volkswagen           no              3        35630  \n",
       "158    petrol  volkswagen           no              3        65529  \n",
       "219    petrol  volkswagen           no              3        34270  \n",
       "223    petrol  volkswagen           no              3         6110  \n",
       "251    petrol  volkswagen          NaN              3        91722  \n",
       "346    petrol  volkswagen          NaN              3        41812  \n",
       "416    petrol  volkswagen           no              3         1993  \n",
       "467    petrol  volkswagen           no              3        19303  \n",
       "601    petrol  volkswagen           no              3        84307  \n",
       "616    petrol  volkswagen           no              3        49078  \n",
       "665       NaN  volkswagen           no              3        12627  \n",
       "705    petrol  volkswagen          NaN              4        45309  \n",
       "710    petrol  volkswagen           no              3        52353  \n",
       "716    petrol  volkswagen           no              3        93059  \n",
       "735    petrol  volkswagen           no              3        25421  \n",
       "754    petrol  volkswagen           no              3         4600  \n",
       "847    petrol  volkswagen          yes              3        22047  \n",
       "900    petrol  volkswagen          NaN              3        47918  \n",
       "916    petrol  volkswagen          yes              3        48157  "
      ]
     },
     "metadata": {},
     "output_type": "display_data"
    },
    {
     "name": "stdout",
     "output_type": "stream",
     "text": [
      "\u001b[1mТаблица № 17. Виды кузова у модели corsa\n"
     ]
    },
    {
     "data": {
      "text/html": [
       "<div>\n",
       "<style scoped>\n",
       "    .dataframe tbody tr th:only-of-type {\n",
       "        vertical-align: middle;\n",
       "    }\n",
       "\n",
       "    .dataframe tbody tr th {\n",
       "        vertical-align: top;\n",
       "    }\n",
       "\n",
       "    .dataframe thead th {\n",
       "        text-align: right;\n",
       "    }\n",
       "</style>\n",
       "<table border=\"1\" class=\"dataframe\">\n",
       "  <thead>\n",
       "    <tr style=\"text-align: right;\">\n",
       "      <th></th>\n",
       "      <th>price</th>\n",
       "      <th>vehicle_type</th>\n",
       "      <th>registration_year</th>\n",
       "      <th>gearbox</th>\n",
       "      <th>power</th>\n",
       "      <th>model</th>\n",
       "      <th>kilometer</th>\n",
       "      <th>fuel_type</th>\n",
       "      <th>brand</th>\n",
       "      <th>not_repaired</th>\n",
       "      <th>month_created</th>\n",
       "      <th>postal_code</th>\n",
       "    </tr>\n",
       "  </thead>\n",
       "  <tbody>\n",
       "    <tr>\n",
       "      <th>198</th>\n",
       "      <td>900</td>\n",
       "      <td>NaN</td>\n",
       "      <td>2017</td>\n",
       "      <td>manual</td>\n",
       "      <td>60</td>\n",
       "      <td>corsa</td>\n",
       "      <td>150000</td>\n",
       "      <td>petrol</td>\n",
       "      <td>opel</td>\n",
       "      <td>no</td>\n",
       "      <td>3</td>\n",
       "      <td>33602</td>\n",
       "    </tr>\n",
       "    <tr>\n",
       "      <th>222</th>\n",
       "      <td>500</td>\n",
       "      <td>small</td>\n",
       "      <td>1999</td>\n",
       "      <td>manual</td>\n",
       "      <td>56</td>\n",
       "      <td>corsa</td>\n",
       "      <td>150000</td>\n",
       "      <td>petrol</td>\n",
       "      <td>opel</td>\n",
       "      <td>no</td>\n",
       "      <td>3</td>\n",
       "      <td>32756</td>\n",
       "    </tr>\n",
       "    <tr>\n",
       "      <th>249</th>\n",
       "      <td>590</td>\n",
       "      <td>sedan</td>\n",
       "      <td>1996</td>\n",
       "      <td>manual</td>\n",
       "      <td>0</td>\n",
       "      <td>corsa</td>\n",
       "      <td>150000</td>\n",
       "      <td>NaN</td>\n",
       "      <td>opel</td>\n",
       "      <td>NaN</td>\n",
       "      <td>3</td>\n",
       "      <td>32052</td>\n",
       "    </tr>\n",
       "    <tr>\n",
       "      <th>311</th>\n",
       "      <td>500</td>\n",
       "      <td>small</td>\n",
       "      <td>1996</td>\n",
       "      <td>manual</td>\n",
       "      <td>45</td>\n",
       "      <td>corsa</td>\n",
       "      <td>70000</td>\n",
       "      <td>petrol</td>\n",
       "      <td>opel</td>\n",
       "      <td>NaN</td>\n",
       "      <td>4</td>\n",
       "      <td>8496</td>\n",
       "    </tr>\n",
       "    <tr>\n",
       "      <th>318</th>\n",
       "      <td>9999</td>\n",
       "      <td>small</td>\n",
       "      <td>2014</td>\n",
       "      <td>manual</td>\n",
       "      <td>90</td>\n",
       "      <td>corsa</td>\n",
       "      <td>20000</td>\n",
       "      <td>petrol</td>\n",
       "      <td>opel</td>\n",
       "      <td>no</td>\n",
       "      <td>3</td>\n",
       "      <td>55294</td>\n",
       "    </tr>\n",
       "    <tr>\n",
       "      <th>347</th>\n",
       "      <td>400</td>\n",
       "      <td>NaN</td>\n",
       "      <td>2017</td>\n",
       "      <td>manual</td>\n",
       "      <td>65</td>\n",
       "      <td>corsa</td>\n",
       "      <td>150000</td>\n",
       "      <td>petrol</td>\n",
       "      <td>opel</td>\n",
       "      <td>yes</td>\n",
       "      <td>4</td>\n",
       "      <td>56479</td>\n",
       "    </tr>\n",
       "    <tr>\n",
       "      <th>358</th>\n",
       "      <td>500</td>\n",
       "      <td>small</td>\n",
       "      <td>1995</td>\n",
       "      <td>manual</td>\n",
       "      <td>45</td>\n",
       "      <td>corsa</td>\n",
       "      <td>150000</td>\n",
       "      <td>petrol</td>\n",
       "      <td>opel</td>\n",
       "      <td>no</td>\n",
       "      <td>3</td>\n",
       "      <td>85748</td>\n",
       "    </tr>\n",
       "    <tr>\n",
       "      <th>362</th>\n",
       "      <td>650</td>\n",
       "      <td>small</td>\n",
       "      <td>1997</td>\n",
       "      <td>manual</td>\n",
       "      <td>45</td>\n",
       "      <td>corsa</td>\n",
       "      <td>150000</td>\n",
       "      <td>petrol</td>\n",
       "      <td>opel</td>\n",
       "      <td>no</td>\n",
       "      <td>3</td>\n",
       "      <td>48683</td>\n",
       "    </tr>\n",
       "    <tr>\n",
       "      <th>364</th>\n",
       "      <td>444</td>\n",
       "      <td>small</td>\n",
       "      <td>1995</td>\n",
       "      <td>manual</td>\n",
       "      <td>45</td>\n",
       "      <td>corsa</td>\n",
       "      <td>150000</td>\n",
       "      <td>petrol</td>\n",
       "      <td>opel</td>\n",
       "      <td>no</td>\n",
       "      <td>3</td>\n",
       "      <td>58452</td>\n",
       "    </tr>\n",
       "    <tr>\n",
       "      <th>384</th>\n",
       "      <td>1690</td>\n",
       "      <td>small</td>\n",
       "      <td>2001</td>\n",
       "      <td>manual</td>\n",
       "      <td>75</td>\n",
       "      <td>corsa</td>\n",
       "      <td>150000</td>\n",
       "      <td>petrol</td>\n",
       "      <td>opel</td>\n",
       "      <td>no</td>\n",
       "      <td>4</td>\n",
       "      <td>63263</td>\n",
       "    </tr>\n",
       "    <tr>\n",
       "      <th>410</th>\n",
       "      <td>2238</td>\n",
       "      <td>small</td>\n",
       "      <td>2003</td>\n",
       "      <td>manual</td>\n",
       "      <td>75</td>\n",
       "      <td>corsa</td>\n",
       "      <td>125000</td>\n",
       "      <td>petrol</td>\n",
       "      <td>opel</td>\n",
       "      <td>no</td>\n",
       "      <td>3</td>\n",
       "      <td>1067</td>\n",
       "    </tr>\n",
       "    <tr>\n",
       "      <th>431</th>\n",
       "      <td>1099</td>\n",
       "      <td>small</td>\n",
       "      <td>1995</td>\n",
       "      <td>manual</td>\n",
       "      <td>45</td>\n",
       "      <td>corsa</td>\n",
       "      <td>30000</td>\n",
       "      <td>petrol</td>\n",
       "      <td>opel</td>\n",
       "      <td>no</td>\n",
       "      <td>3</td>\n",
       "      <td>15732</td>\n",
       "    </tr>\n",
       "    <tr>\n",
       "      <th>476</th>\n",
       "      <td>2700</td>\n",
       "      <td>small</td>\n",
       "      <td>2003</td>\n",
       "      <td>manual</td>\n",
       "      <td>75</td>\n",
       "      <td>corsa</td>\n",
       "      <td>125000</td>\n",
       "      <td>petrol</td>\n",
       "      <td>opel</td>\n",
       "      <td>no</td>\n",
       "      <td>3</td>\n",
       "      <td>34369</td>\n",
       "    </tr>\n",
       "    <tr>\n",
       "      <th>492</th>\n",
       "      <td>800</td>\n",
       "      <td>small</td>\n",
       "      <td>2005</td>\n",
       "      <td>manual</td>\n",
       "      <td>70</td>\n",
       "      <td>corsa</td>\n",
       "      <td>150000</td>\n",
       "      <td>gasoline</td>\n",
       "      <td>opel</td>\n",
       "      <td>yes</td>\n",
       "      <td>3</td>\n",
       "      <td>34414</td>\n",
       "    </tr>\n",
       "    <tr>\n",
       "      <th>495</th>\n",
       "      <td>2400</td>\n",
       "      <td>small</td>\n",
       "      <td>2004</td>\n",
       "      <td>manual</td>\n",
       "      <td>69</td>\n",
       "      <td>corsa</td>\n",
       "      <td>150000</td>\n",
       "      <td>gasoline</td>\n",
       "      <td>opel</td>\n",
       "      <td>no</td>\n",
       "      <td>3</td>\n",
       "      <td>96271</td>\n",
       "    </tr>\n",
       "    <tr>\n",
       "      <th>544</th>\n",
       "      <td>1650</td>\n",
       "      <td>small</td>\n",
       "      <td>2006</td>\n",
       "      <td>manual</td>\n",
       "      <td>69</td>\n",
       "      <td>corsa</td>\n",
       "      <td>150000</td>\n",
       "      <td>gasoline</td>\n",
       "      <td>opel</td>\n",
       "      <td>no</td>\n",
       "      <td>3</td>\n",
       "      <td>42853</td>\n",
       "    </tr>\n",
       "    <tr>\n",
       "      <th>579</th>\n",
       "      <td>1650</td>\n",
       "      <td>NaN</td>\n",
       "      <td>2017</td>\n",
       "      <td>manual</td>\n",
       "      <td>60</td>\n",
       "      <td>corsa</td>\n",
       "      <td>125000</td>\n",
       "      <td>NaN</td>\n",
       "      <td>opel</td>\n",
       "      <td>NaN</td>\n",
       "      <td>3</td>\n",
       "      <td>95359</td>\n",
       "    </tr>\n",
       "    <tr>\n",
       "      <th>656</th>\n",
       "      <td>8200</td>\n",
       "      <td>small</td>\n",
       "      <td>2013</td>\n",
       "      <td>manual</td>\n",
       "      <td>75</td>\n",
       "      <td>corsa</td>\n",
       "      <td>80000</td>\n",
       "      <td>gasoline</td>\n",
       "      <td>opel</td>\n",
       "      <td>no</td>\n",
       "      <td>3</td>\n",
       "      <td>33378</td>\n",
       "    </tr>\n",
       "    <tr>\n",
       "      <th>750</th>\n",
       "      <td>1850</td>\n",
       "      <td>small</td>\n",
       "      <td>2002</td>\n",
       "      <td>manual</td>\n",
       "      <td>75</td>\n",
       "      <td>corsa</td>\n",
       "      <td>100000</td>\n",
       "      <td>gasoline</td>\n",
       "      <td>opel</td>\n",
       "      <td>no</td>\n",
       "      <td>3</td>\n",
       "      <td>12355</td>\n",
       "    </tr>\n",
       "    <tr>\n",
       "      <th>753</th>\n",
       "      <td>3950</td>\n",
       "      <td>NaN</td>\n",
       "      <td>2007</td>\n",
       "      <td>manual</td>\n",
       "      <td>0</td>\n",
       "      <td>corsa</td>\n",
       "      <td>150000</td>\n",
       "      <td>NaN</td>\n",
       "      <td>opel</td>\n",
       "      <td>no</td>\n",
       "      <td>3</td>\n",
       "      <td>52372</td>\n",
       "    </tr>\n",
       "  </tbody>\n",
       "</table>\n",
       "</div>"
      ],
      "text/plain": [
       "     price vehicle_type  registration_year gearbox  power  model  kilometer  \\\n",
       "198    900          NaN               2017  manual     60  corsa     150000   \n",
       "222    500        small               1999  manual     56  corsa     150000   \n",
       "249    590        sedan               1996  manual      0  corsa     150000   \n",
       "311    500        small               1996  manual     45  corsa      70000   \n",
       "318   9999        small               2014  manual     90  corsa      20000   \n",
       "347    400          NaN               2017  manual     65  corsa     150000   \n",
       "358    500        small               1995  manual     45  corsa     150000   \n",
       "362    650        small               1997  manual     45  corsa     150000   \n",
       "364    444        small               1995  manual     45  corsa     150000   \n",
       "384   1690        small               2001  manual     75  corsa     150000   \n",
       "410   2238        small               2003  manual     75  corsa     125000   \n",
       "431   1099        small               1995  manual     45  corsa      30000   \n",
       "476   2700        small               2003  manual     75  corsa     125000   \n",
       "492    800        small               2005  manual     70  corsa     150000   \n",
       "495   2400        small               2004  manual     69  corsa     150000   \n",
       "544   1650        small               2006  manual     69  corsa     150000   \n",
       "579   1650          NaN               2017  manual     60  corsa     125000   \n",
       "656   8200        small               2013  manual     75  corsa      80000   \n",
       "750   1850        small               2002  manual     75  corsa     100000   \n",
       "753   3950          NaN               2007  manual      0  corsa     150000   \n",
       "\n",
       "    fuel_type brand not_repaired  month_created  postal_code  \n",
       "198    petrol  opel           no              3        33602  \n",
       "222    petrol  opel           no              3        32756  \n",
       "249       NaN  opel          NaN              3        32052  \n",
       "311    petrol  opel          NaN              4         8496  \n",
       "318    petrol  opel           no              3        55294  \n",
       "347    petrol  opel          yes              4        56479  \n",
       "358    petrol  opel           no              3        85748  \n",
       "362    petrol  opel           no              3        48683  \n",
       "364    petrol  opel           no              3        58452  \n",
       "384    petrol  opel           no              4        63263  \n",
       "410    petrol  opel           no              3         1067  \n",
       "431    petrol  opel           no              3        15732  \n",
       "476    petrol  opel           no              3        34369  \n",
       "492  gasoline  opel          yes              3        34414  \n",
       "495  gasoline  opel           no              3        96271  \n",
       "544  gasoline  opel           no              3        42853  \n",
       "579       NaN  opel          NaN              3        95359  \n",
       "656  gasoline  opel           no              3        33378  \n",
       "750  gasoline  opel           no              3        12355  \n",
       "753       NaN  opel           no              3        52372  "
      ]
     },
     "metadata": {},
     "output_type": "display_data"
    }
   ],
   "source": [
    "# Теперь изучим столбец vehicle_type.\n",
    "# Исследуем пропуски.\n",
    "print('\\033[1m' + 'Таблица № 11. Автомобили с пропущенным видом ' + \n",
    "      'автомобильного кузова')\n",
    "display(data.loc[data['vehicle_type'] != data['vehicle_type']])\n",
    "# Теперь посмотрим, какие модели представлены.\n",
    "print('\\033[1m' + 'Таблица № 12. Количество уникальных значений ' +\n",
    "     'столбца model')\n",
    "display(data['model'].value_counts())\n",
    "# Чаще всего представлены golf, other, 3er, polo, corsa.\n",
    "# Посмотрим, какие встречаются типы автомобильного кузова.\n",
    "models = ['golf', 'other', '3er', 'polo', 'corsa']\n",
    "for model, i in zip(models, range(13,18)):\n",
    "    print('\\033[1m' + 'Таблица № ' + str(i) + '. Виды кузова у модели', model)\n",
    "    display(data.loc[data['model'] == model].head(20))"
   ]
  },
  {
   "cell_type": "code",
   "execution_count": 13,
   "metadata": {
    "scrolled": false
   },
   "outputs": [
    {
     "name": "stdout",
     "output_type": "stream",
     "text": [
      "\u001b[1mТаблица № 18. Датасет после удаления строк с пропущенными значениями в столбце vehicle_type\n"
     ]
    },
    {
     "data": {
      "text/html": [
       "<div>\n",
       "<style scoped>\n",
       "    .dataframe tbody tr th:only-of-type {\n",
       "        vertical-align: middle;\n",
       "    }\n",
       "\n",
       "    .dataframe tbody tr th {\n",
       "        vertical-align: top;\n",
       "    }\n",
       "\n",
       "    .dataframe thead th {\n",
       "        text-align: right;\n",
       "    }\n",
       "</style>\n",
       "<table border=\"1\" class=\"dataframe\">\n",
       "  <thead>\n",
       "    <tr style=\"text-align: right;\">\n",
       "      <th></th>\n",
       "      <th>price</th>\n",
       "      <th>vehicle_type</th>\n",
       "      <th>registration_year</th>\n",
       "      <th>gearbox</th>\n",
       "      <th>power</th>\n",
       "      <th>model</th>\n",
       "      <th>kilometer</th>\n",
       "      <th>fuel_type</th>\n",
       "      <th>brand</th>\n",
       "      <th>not_repaired</th>\n",
       "      <th>month_created</th>\n",
       "      <th>postal_code</th>\n",
       "    </tr>\n",
       "  </thead>\n",
       "  <tbody>\n",
       "    <tr>\n",
       "      <th>0</th>\n",
       "      <td>18300</td>\n",
       "      <td>coupe</td>\n",
       "      <td>2011</td>\n",
       "      <td>manual</td>\n",
       "      <td>190</td>\n",
       "      <td>NaN</td>\n",
       "      <td>125000</td>\n",
       "      <td>gasoline</td>\n",
       "      <td>audi</td>\n",
       "      <td>yes</td>\n",
       "      <td>3</td>\n",
       "      <td>66954</td>\n",
       "    </tr>\n",
       "    <tr>\n",
       "      <th>1</th>\n",
       "      <td>9800</td>\n",
       "      <td>suv</td>\n",
       "      <td>2004</td>\n",
       "      <td>auto</td>\n",
       "      <td>163</td>\n",
       "      <td>grand</td>\n",
       "      <td>125000</td>\n",
       "      <td>gasoline</td>\n",
       "      <td>jeep</td>\n",
       "      <td>NaN</td>\n",
       "      <td>3</td>\n",
       "      <td>90480</td>\n",
       "    </tr>\n",
       "    <tr>\n",
       "      <th>2</th>\n",
       "      <td>1500</td>\n",
       "      <td>small</td>\n",
       "      <td>2001</td>\n",
       "      <td>manual</td>\n",
       "      <td>75</td>\n",
       "      <td>golf</td>\n",
       "      <td>150000</td>\n",
       "      <td>petrol</td>\n",
       "      <td>volkswagen</td>\n",
       "      <td>no</td>\n",
       "      <td>3</td>\n",
       "      <td>91074</td>\n",
       "    </tr>\n",
       "    <tr>\n",
       "      <th>3</th>\n",
       "      <td>3600</td>\n",
       "      <td>small</td>\n",
       "      <td>2008</td>\n",
       "      <td>manual</td>\n",
       "      <td>69</td>\n",
       "      <td>fabia</td>\n",
       "      <td>90000</td>\n",
       "      <td>gasoline</td>\n",
       "      <td>skoda</td>\n",
       "      <td>no</td>\n",
       "      <td>3</td>\n",
       "      <td>60437</td>\n",
       "    </tr>\n",
       "    <tr>\n",
       "      <th>4</th>\n",
       "      <td>650</td>\n",
       "      <td>sedan</td>\n",
       "      <td>1995</td>\n",
       "      <td>manual</td>\n",
       "      <td>102</td>\n",
       "      <td>3er</td>\n",
       "      <td>150000</td>\n",
       "      <td>petrol</td>\n",
       "      <td>bmw</td>\n",
       "      <td>yes</td>\n",
       "      <td>4</td>\n",
       "      <td>33775</td>\n",
       "    </tr>\n",
       "    <tr>\n",
       "      <th>...</th>\n",
       "      <td>...</td>\n",
       "      <td>...</td>\n",
       "      <td>...</td>\n",
       "      <td>...</td>\n",
       "      <td>...</td>\n",
       "      <td>...</td>\n",
       "      <td>...</td>\n",
       "      <td>...</td>\n",
       "      <td>...</td>\n",
       "      <td>...</td>\n",
       "      <td>...</td>\n",
       "      <td>...</td>\n",
       "    </tr>\n",
       "    <tr>\n",
       "      <th>296372</th>\n",
       "      <td>3200</td>\n",
       "      <td>sedan</td>\n",
       "      <td>2004</td>\n",
       "      <td>manual</td>\n",
       "      <td>225</td>\n",
       "      <td>leon</td>\n",
       "      <td>150000</td>\n",
       "      <td>petrol</td>\n",
       "      <td>seat</td>\n",
       "      <td>yes</td>\n",
       "      <td>3</td>\n",
       "      <td>96465</td>\n",
       "    </tr>\n",
       "    <tr>\n",
       "      <th>296373</th>\n",
       "      <td>1150</td>\n",
       "      <td>bus</td>\n",
       "      <td>2000</td>\n",
       "      <td>manual</td>\n",
       "      <td>0</td>\n",
       "      <td>zafira</td>\n",
       "      <td>150000</td>\n",
       "      <td>petrol</td>\n",
       "      <td>opel</td>\n",
       "      <td>no</td>\n",
       "      <td>3</td>\n",
       "      <td>26624</td>\n",
       "    </tr>\n",
       "    <tr>\n",
       "      <th>296374</th>\n",
       "      <td>1199</td>\n",
       "      <td>convertible</td>\n",
       "      <td>2000</td>\n",
       "      <td>auto</td>\n",
       "      <td>101</td>\n",
       "      <td>fortwo</td>\n",
       "      <td>125000</td>\n",
       "      <td>petrol</td>\n",
       "      <td>smart</td>\n",
       "      <td>no</td>\n",
       "      <td>3</td>\n",
       "      <td>26135</td>\n",
       "    </tr>\n",
       "    <tr>\n",
       "      <th>296375</th>\n",
       "      <td>9200</td>\n",
       "      <td>bus</td>\n",
       "      <td>1996</td>\n",
       "      <td>manual</td>\n",
       "      <td>102</td>\n",
       "      <td>transporter</td>\n",
       "      <td>150000</td>\n",
       "      <td>gasoline</td>\n",
       "      <td>volkswagen</td>\n",
       "      <td>no</td>\n",
       "      <td>3</td>\n",
       "      <td>87439</td>\n",
       "    </tr>\n",
       "    <tr>\n",
       "      <th>296376</th>\n",
       "      <td>3400</td>\n",
       "      <td>wagon</td>\n",
       "      <td>2002</td>\n",
       "      <td>manual</td>\n",
       "      <td>100</td>\n",
       "      <td>golf</td>\n",
       "      <td>150000</td>\n",
       "      <td>gasoline</td>\n",
       "      <td>volkswagen</td>\n",
       "      <td>NaN</td>\n",
       "      <td>3</td>\n",
       "      <td>40764</td>\n",
       "    </tr>\n",
       "  </tbody>\n",
       "</table>\n",
       "<p>296377 rows × 12 columns</p>\n",
       "</div>"
      ],
      "text/plain": [
       "        price vehicle_type  registration_year gearbox  power        model  \\\n",
       "0       18300        coupe               2011  manual    190          NaN   \n",
       "1        9800          suv               2004    auto    163        grand   \n",
       "2        1500        small               2001  manual     75         golf   \n",
       "3        3600        small               2008  manual     69        fabia   \n",
       "4         650        sedan               1995  manual    102          3er   \n",
       "...       ...          ...                ...     ...    ...          ...   \n",
       "296372   3200        sedan               2004  manual    225         leon   \n",
       "296373   1150          bus               2000  manual      0       zafira   \n",
       "296374   1199  convertible               2000    auto    101       fortwo   \n",
       "296375   9200          bus               1996  manual    102  transporter   \n",
       "296376   3400        wagon               2002  manual    100         golf   \n",
       "\n",
       "        kilometer fuel_type       brand not_repaired  month_created  \\\n",
       "0          125000  gasoline        audi          yes              3   \n",
       "1          125000  gasoline        jeep          NaN              3   \n",
       "2          150000    petrol  volkswagen           no              3   \n",
       "3           90000  gasoline       skoda           no              3   \n",
       "4          150000    petrol         bmw          yes              4   \n",
       "...           ...       ...         ...          ...            ...   \n",
       "296372     150000    petrol        seat          yes              3   \n",
       "296373     150000    petrol        opel           no              3   \n",
       "296374     125000    petrol       smart           no              3   \n",
       "296375     150000  gasoline  volkswagen           no              3   \n",
       "296376     150000  gasoline  volkswagen          NaN              3   \n",
       "\n",
       "        postal_code  \n",
       "0             66954  \n",
       "1             90480  \n",
       "2             91074  \n",
       "3             60437  \n",
       "4             33775  \n",
       "...             ...  \n",
       "296372        96465  \n",
       "296373        26624  \n",
       "296374        26135  \n",
       "296375        87439  \n",
       "296376        40764  \n",
       "\n",
       "[296377 rows x 12 columns]"
      ]
     },
     "metadata": {},
     "output_type": "display_data"
    }
   ],
   "source": [
    "# По таблицам №№ 13-17 мы видим, что модели могут иметь\n",
    "# самые разные кузовы. Удалим пропуски.\n",
    "data = data.dropna(subset=['vehicle_type']).reset_index(drop=True)\n",
    "print('\\033[1m' + 'Таблица № 18. Датасет после удаления строк ' +\n",
    "     'с пропущенными значениями в столбце vehicle_type')\n",
    "display(data)"
   ]
  },
  {
   "cell_type": "code",
   "execution_count": 14,
   "metadata": {},
   "outputs": [
    {
     "data": {
      "image/png": "[encoded data removed]",
      "text/plain": [
       "<Figure size 972x432 with 1 Axes>"
      ]
     },
     "metadata": {},
     "output_type": "display_data"
    },
    {
     "data": {
      "image/png": "[encoded data removed]",
      "text/plain": [
       "<Figure size 1224x216 with 1 Axes>"
      ]
     },
     "metadata": {},
     "output_type": "display_data"
    },
    {
     "name": "stdout",
     "output_type": "stream",
     "text": [
      "\u001b[1mСтатистическое описание данных столбца registration_year\n"
     ]
    },
    {
     "data": {
      "text/plain": [
       "count    296377.000000\n",
       "mean       2002.577646\n",
       "std           6.454517\n",
       "min        1910.000000\n",
       "25%        1999.000000\n",
       "50%        2003.000000\n",
       "75%        2007.000000\n",
       "max        2018.000000\n",
       "Name: registration_year, dtype: float64"
      ]
     },
     "metadata": {},
     "output_type": "display_data"
    },
    {
     "name": "stdout",
     "output_type": "stream",
     "text": [
      "\u001b[1mКоличество уникальных значений столбца registration_year\n"
     ]
    },
    {
     "data": {
      "text/plain": [
       "1999    20236\n",
       "2006    19329\n",
       "2003    19304\n",
       "2005    19282\n",
       "2004    19197\n",
       "        ...  \n",
       "1949        1\n",
       "1946        1\n",
       "1931        1\n",
       "1927        1\n",
       "1925        1\n",
       "Name: registration_year, Length: 94, dtype: int64"
      ]
     },
     "metadata": {},
     "output_type": "display_data"
    }
   ],
   "source": [
    "# Изучим столбец registration_year.\n",
    "explore(data, 'registration_year', 100)"
   ]
  },
  {
   "cell_type": "code",
   "execution_count": 15,
   "metadata": {
    "scrolled": false
   },
   "outputs": [
    {
     "name": "stdout",
     "output_type": "stream",
     "text": [
      "\u001b[1mТаблица № 19. Датасет с установленным фильтром в столбце registration_year с условием меньше 1960\n"
     ]
    },
    {
     "data": {
      "text/html": [
       "<div>\n",
       "<style scoped>\n",
       "    .dataframe tbody tr th:only-of-type {\n",
       "        vertical-align: middle;\n",
       "    }\n",
       "\n",
       "    .dataframe tbody tr th {\n",
       "        vertical-align: top;\n",
       "    }\n",
       "\n",
       "    .dataframe thead th {\n",
       "        text-align: right;\n",
       "    }\n",
       "</style>\n",
       "<table border=\"1\" class=\"dataframe\">\n",
       "  <thead>\n",
       "    <tr style=\"text-align: right;\">\n",
       "      <th></th>\n",
       "      <th>price</th>\n",
       "      <th>vehicle_type</th>\n",
       "      <th>registration_year</th>\n",
       "      <th>gearbox</th>\n",
       "      <th>power</th>\n",
       "      <th>model</th>\n",
       "      <th>kilometer</th>\n",
       "      <th>fuel_type</th>\n",
       "      <th>brand</th>\n",
       "      <th>not_repaired</th>\n",
       "      <th>month_created</th>\n",
       "      <th>postal_code</th>\n",
       "    </tr>\n",
       "  </thead>\n",
       "  <tbody>\n",
       "    <tr>\n",
       "      <th>13</th>\n",
       "      <td>450</td>\n",
       "      <td>small</td>\n",
       "      <td>1910</td>\n",
       "      <td>NaN</td>\n",
       "      <td>0</td>\n",
       "      <td>ka</td>\n",
       "      <td>5000</td>\n",
       "      <td>petrol</td>\n",
       "      <td>ford</td>\n",
       "      <td>NaN</td>\n",
       "      <td>3</td>\n",
       "      <td>24148</td>\n",
       "    </tr>\n",
       "    <tr>\n",
       "      <th>1589</th>\n",
       "      <td>7000</td>\n",
       "      <td>suv</td>\n",
       "      <td>1945</td>\n",
       "      <td>manual</td>\n",
       "      <td>48</td>\n",
       "      <td>other</td>\n",
       "      <td>150000</td>\n",
       "      <td>petrol</td>\n",
       "      <td>volkswagen</td>\n",
       "      <td>no</td>\n",
       "      <td>3</td>\n",
       "      <td>58135</td>\n",
       "    </tr>\n",
       "    <tr>\n",
       "      <th>1872</th>\n",
       "      <td>1800</td>\n",
       "      <td>convertible</td>\n",
       "      <td>1925</td>\n",
       "      <td>NaN</td>\n",
       "      <td>0</td>\n",
       "      <td>NaN</td>\n",
       "      <td>5000</td>\n",
       "      <td>NaN</td>\n",
       "      <td>sonstige_autos</td>\n",
       "      <td>no</td>\n",
       "      <td>3</td>\n",
       "      <td>79288</td>\n",
       "    </tr>\n",
       "    <tr>\n",
       "      <th>2756</th>\n",
       "      <td>10500</td>\n",
       "      <td>sedan</td>\n",
       "      <td>1955</td>\n",
       "      <td>manual</td>\n",
       "      <td>30</td>\n",
       "      <td>other</td>\n",
       "      <td>60000</td>\n",
       "      <td>petrol</td>\n",
       "      <td>ford</td>\n",
       "      <td>NaN</td>\n",
       "      <td>3</td>\n",
       "      <td>53498</td>\n",
       "    </tr>\n",
       "    <tr>\n",
       "      <th>10787</th>\n",
       "      <td>11000</td>\n",
       "      <td>other</td>\n",
       "      <td>1955</td>\n",
       "      <td>manual</td>\n",
       "      <td>40</td>\n",
       "      <td>NaN</td>\n",
       "      <td>50000</td>\n",
       "      <td>petrol</td>\n",
       "      <td>sonstige_autos</td>\n",
       "      <td>no</td>\n",
       "      <td>3</td>\n",
       "      <td>59556</td>\n",
       "    </tr>\n",
       "    <tr>\n",
       "      <th>...</th>\n",
       "      <td>...</td>\n",
       "      <td>...</td>\n",
       "      <td>...</td>\n",
       "      <td>...</td>\n",
       "      <td>...</td>\n",
       "      <td>...</td>\n",
       "      <td>...</td>\n",
       "      <td>...</td>\n",
       "      <td>...</td>\n",
       "      <td>...</td>\n",
       "      <td>...</td>\n",
       "      <td>...</td>\n",
       "    </tr>\n",
       "    <tr>\n",
       "      <th>291794</th>\n",
       "      <td>11000</td>\n",
       "      <td>suv</td>\n",
       "      <td>1950</td>\n",
       "      <td>manual</td>\n",
       "      <td>0</td>\n",
       "      <td>other</td>\n",
       "      <td>5000</td>\n",
       "      <td>petrol</td>\n",
       "      <td>chevrolet</td>\n",
       "      <td>no</td>\n",
       "      <td>4</td>\n",
       "      <td>79098</td>\n",
       "    </tr>\n",
       "    <tr>\n",
       "      <th>293694</th>\n",
       "      <td>17500</td>\n",
       "      <td>sedan</td>\n",
       "      <td>1954</td>\n",
       "      <td>manual</td>\n",
       "      <td>52</td>\n",
       "      <td>other</td>\n",
       "      <td>20000</td>\n",
       "      <td>petrol</td>\n",
       "      <td>citroen</td>\n",
       "      <td>no</td>\n",
       "      <td>3</td>\n",
       "      <td>55270</td>\n",
       "    </tr>\n",
       "    <tr>\n",
       "      <th>293786</th>\n",
       "      <td>5500</td>\n",
       "      <td>bus</td>\n",
       "      <td>1956</td>\n",
       "      <td>manual</td>\n",
       "      <td>37</td>\n",
       "      <td>NaN</td>\n",
       "      <td>60000</td>\n",
       "      <td>petrol</td>\n",
       "      <td>sonstige_autos</td>\n",
       "      <td>no</td>\n",
       "      <td>3</td>\n",
       "      <td>1900</td>\n",
       "    </tr>\n",
       "    <tr>\n",
       "      <th>295664</th>\n",
       "      <td>6000</td>\n",
       "      <td>sedan</td>\n",
       "      <td>1937</td>\n",
       "      <td>manual</td>\n",
       "      <td>38</td>\n",
       "      <td>other</td>\n",
       "      <td>5000</td>\n",
       "      <td>petrol</td>\n",
       "      <td>mercedes_benz</td>\n",
       "      <td>NaN</td>\n",
       "      <td>3</td>\n",
       "      <td>23936</td>\n",
       "    </tr>\n",
       "    <tr>\n",
       "      <th>296333</th>\n",
       "      <td>3300</td>\n",
       "      <td>coupe</td>\n",
       "      <td>1957</td>\n",
       "      <td>manual</td>\n",
       "      <td>40</td>\n",
       "      <td>other</td>\n",
       "      <td>100000</td>\n",
       "      <td>petrol</td>\n",
       "      <td>trabant</td>\n",
       "      <td>no</td>\n",
       "      <td>3</td>\n",
       "      <td>10317</td>\n",
       "    </tr>\n",
       "  </tbody>\n",
       "</table>\n",
       "<p>227 rows × 12 columns</p>\n",
       "</div>"
      ],
      "text/plain": [
       "        price vehicle_type  registration_year gearbox  power  model  \\\n",
       "13        450        small               1910     NaN      0     ka   \n",
       "1589     7000          suv               1945  manual     48  other   \n",
       "1872     1800  convertible               1925     NaN      0    NaN   \n",
       "2756    10500        sedan               1955  manual     30  other   \n",
       "10787   11000        other               1955  manual     40    NaN   \n",
       "...       ...          ...                ...     ...    ...    ...   \n",
       "291794  11000          suv               1950  manual      0  other   \n",
       "293694  17500        sedan               1954  manual     52  other   \n",
       "293786   5500          bus               1956  manual     37    NaN   \n",
       "295664   6000        sedan               1937  manual     38  other   \n",
       "296333   3300        coupe               1957  manual     40  other   \n",
       "\n",
       "        kilometer fuel_type           brand not_repaired  month_created  \\\n",
       "13           5000    petrol            ford          NaN              3   \n",
       "1589       150000    petrol      volkswagen           no              3   \n",
       "1872         5000       NaN  sonstige_autos           no              3   \n",
       "2756        60000    petrol            ford          NaN              3   \n",
       "10787       50000    petrol  sonstige_autos           no              3   \n",
       "...           ...       ...             ...          ...            ...   \n",
       "291794       5000    petrol       chevrolet           no              4   \n",
       "293694      20000    petrol         citroen           no              3   \n",
       "293786      60000    petrol  sonstige_autos           no              3   \n",
       "295664       5000    petrol   mercedes_benz          NaN              3   \n",
       "296333     100000    petrol         trabant           no              3   \n",
       "\n",
       "        postal_code  \n",
       "13            24148  \n",
       "1589          58135  \n",
       "1872          79288  \n",
       "2756          53498  \n",
       "10787         59556  \n",
       "...             ...  \n",
       "291794        79098  \n",
       "293694        55270  \n",
       "293786         1900  \n",
       "295664        23936  \n",
       "296333        10317  \n",
       "\n",
       "[227 rows x 12 columns]"
      ]
     },
     "metadata": {},
     "output_type": "display_data"
    },
    {
     "name": "stdout",
     "output_type": "stream",
     "text": [
      "\u001b[1mТаблица № 20. Уникальные значения столбца model в отфильтрованной таблице before_1960\n"
     ]
    },
    {
     "data": {
      "text/plain": [
       "other       120\n",
       "kaefer        6\n",
       "500           4\n",
       "kadett        2\n",
       "c3            2\n",
       "beetle        1\n",
       "b_klasse      1\n",
       "agila         1\n",
       "espace        1\n",
       "ka            1\n",
       "passat        1\n",
       "astra         1\n",
       "2_reihe       1\n",
       "Name: model, dtype: int64"
      ]
     },
     "metadata": {},
     "output_type": "display_data"
    }
   ],
   "source": [
    "# В столбце registration_year подозрительно много машин\n",
    "# зарегистрировано ранее 1960 года. Рассмотрим их.\n",
    "before_1960 = data.query('registration_year < 1960')\n",
    "print('\\033[1m' + 'Таблица № 19. Датасет с установленным фильтром ' +\n",
    "     'в столбце registration_year с условием меньше 1960')\n",
    "display(before_1960)\n",
    "# Изучим модели.\n",
    "print('\\033[1m' + 'Таблица № 20. Уникальные значения столбца model ' +\n",
    "     'в отфильтрованной таблице before_1960')\n",
    "display(before_1960['model'].value_counts())\n",
    "# Сохраним названия моделей в отдельный список.\n",
    "# Модели группы Other сохранять в списке не будем.\n",
    "# Рассмотрим их отдельно позже.\n",
    "old_models = before_1960['model'].value_counts().index[1:]"
   ]
  },
  {
   "cell_type": "markdown",
   "metadata": {},
   "source": [
    "У нас есть список моделей, и мы можем найти годы выхода на рынок данных моделей в интернете. Так мы выясним, где указаны корректные данные о годе регистрации и некорректные."
   ]
  },
  {
   "cell_type": "code",
   "execution_count": 16,
   "metadata": {
    "scrolled": false
   },
   "outputs": [
    {
     "name": "stdout",
     "output_type": "stream",
     "text": [
      "\u001b[1mТаблица № 21. Годы регистрации и бренды моделей до 1960 года, обозначенных как other\n"
     ]
    },
    {
     "data": {
      "text/html": [
       "<div>\n",
       "<style scoped>\n",
       "    .dataframe tbody tr th:only-of-type {\n",
       "        vertical-align: middle;\n",
       "    }\n",
       "\n",
       "    .dataframe tbody tr th {\n",
       "        vertical-align: top;\n",
       "    }\n",
       "\n",
       "    .dataframe thead th {\n",
       "        text-align: right;\n",
       "    }\n",
       "</style>\n",
       "<table border=\"1\" class=\"dataframe\">\n",
       "  <thead>\n",
       "    <tr style=\"text-align: right;\">\n",
       "      <th></th>\n",
       "      <th>registration_year</th>\n",
       "      <th>brand</th>\n",
       "    </tr>\n",
       "  </thead>\n",
       "  <tbody>\n",
       "    <tr>\n",
       "      <th>250773</th>\n",
       "      <td>1927</td>\n",
       "      <td>ford</td>\n",
       "    </tr>\n",
       "    <tr>\n",
       "      <th>149864</th>\n",
       "      <td>1928</td>\n",
       "      <td>citroen</td>\n",
       "    </tr>\n",
       "    <tr>\n",
       "      <th>196834</th>\n",
       "      <td>1928</td>\n",
       "      <td>ford</td>\n",
       "    </tr>\n",
       "    <tr>\n",
       "      <th>281103</th>\n",
       "      <td>1929</td>\n",
       "      <td>bmw</td>\n",
       "    </tr>\n",
       "    <tr>\n",
       "      <th>114967</th>\n",
       "      <td>1929</td>\n",
       "      <td>bmw</td>\n",
       "    </tr>\n",
       "    <tr>\n",
       "      <th>192256</th>\n",
       "      <td>1929</td>\n",
       "      <td>bmw</td>\n",
       "    </tr>\n",
       "    <tr>\n",
       "      <th>102859</th>\n",
       "      <td>1930</td>\n",
       "      <td>peugeot</td>\n",
       "    </tr>\n",
       "    <tr>\n",
       "      <th>256233</th>\n",
       "      <td>1930</td>\n",
       "      <td>ford</td>\n",
       "    </tr>\n",
       "    <tr>\n",
       "      <th>220378</th>\n",
       "      <td>1931</td>\n",
       "      <td>ford</td>\n",
       "    </tr>\n",
       "    <tr>\n",
       "      <th>209929</th>\n",
       "      <td>1932</td>\n",
       "      <td>peugeot</td>\n",
       "    </tr>\n",
       "    <tr>\n",
       "      <th>56993</th>\n",
       "      <td>1932</td>\n",
       "      <td>bmw</td>\n",
       "    </tr>\n",
       "    <tr>\n",
       "      <th>182454</th>\n",
       "      <td>1932</td>\n",
       "      <td>ford</td>\n",
       "    </tr>\n",
       "    <tr>\n",
       "      <th>258881</th>\n",
       "      <td>1933</td>\n",
       "      <td>opel</td>\n",
       "    </tr>\n",
       "    <tr>\n",
       "      <th>89472</th>\n",
       "      <td>1933</td>\n",
       "      <td>ford</td>\n",
       "    </tr>\n",
       "    <tr>\n",
       "      <th>132172</th>\n",
       "      <td>1934</td>\n",
       "      <td>opel</td>\n",
       "    </tr>\n",
       "    <tr>\n",
       "      <th>235063</th>\n",
       "      <td>1935</td>\n",
       "      <td>opel</td>\n",
       "    </tr>\n",
       "    <tr>\n",
       "      <th>138209</th>\n",
       "      <td>1935</td>\n",
       "      <td>opel</td>\n",
       "    </tr>\n",
       "    <tr>\n",
       "      <th>253710</th>\n",
       "      <td>1936</td>\n",
       "      <td>citroen</td>\n",
       "    </tr>\n",
       "    <tr>\n",
       "      <th>145735</th>\n",
       "      <td>1936</td>\n",
       "      <td>opel</td>\n",
       "    </tr>\n",
       "    <tr>\n",
       "      <th>28325</th>\n",
       "      <td>1937</td>\n",
       "      <td>ford</td>\n",
       "    </tr>\n",
       "    <tr>\n",
       "      <th>27976</th>\n",
       "      <td>1937</td>\n",
       "      <td>opel</td>\n",
       "    </tr>\n",
       "    <tr>\n",
       "      <th>282746</th>\n",
       "      <td>1937</td>\n",
       "      <td>ford</td>\n",
       "    </tr>\n",
       "    <tr>\n",
       "      <th>31562</th>\n",
       "      <td>1937</td>\n",
       "      <td>ford</td>\n",
       "    </tr>\n",
       "    <tr>\n",
       "      <th>206611</th>\n",
       "      <td>1937</td>\n",
       "      <td>opel</td>\n",
       "    </tr>\n",
       "    <tr>\n",
       "      <th>295664</th>\n",
       "      <td>1937</td>\n",
       "      <td>mercedes_benz</td>\n",
       "    </tr>\n",
       "    <tr>\n",
       "      <th>64056</th>\n",
       "      <td>1937</td>\n",
       "      <td>mercedes_benz</td>\n",
       "    </tr>\n",
       "    <tr>\n",
       "      <th>157489</th>\n",
       "      <td>1941</td>\n",
       "      <td>jeep</td>\n",
       "    </tr>\n",
       "    <tr>\n",
       "      <th>73669</th>\n",
       "      <td>1942</td>\n",
       "      <td>jeep</td>\n",
       "    </tr>\n",
       "    <tr>\n",
       "      <th>192755</th>\n",
       "      <td>1942</td>\n",
       "      <td>jeep</td>\n",
       "    </tr>\n",
       "    <tr>\n",
       "      <th>289385</th>\n",
       "      <td>1943</td>\n",
       "      <td>volkswagen</td>\n",
       "    </tr>\n",
       "    <tr>\n",
       "      <th>120528</th>\n",
       "      <td>1943</td>\n",
       "      <td>jeep</td>\n",
       "    </tr>\n",
       "    <tr>\n",
       "      <th>139925</th>\n",
       "      <td>1943</td>\n",
       "      <td>volkswagen</td>\n",
       "    </tr>\n",
       "    <tr>\n",
       "      <th>1589</th>\n",
       "      <td>1945</td>\n",
       "      <td>volkswagen</td>\n",
       "    </tr>\n",
       "    <tr>\n",
       "      <th>62707</th>\n",
       "      <td>1945</td>\n",
       "      <td>volkswagen</td>\n",
       "    </tr>\n",
       "    <tr>\n",
       "      <th>272829</th>\n",
       "      <td>1947</td>\n",
       "      <td>chrysler</td>\n",
       "    </tr>\n",
       "    <tr>\n",
       "      <th>249979</th>\n",
       "      <td>1947</td>\n",
       "      <td>ford</td>\n",
       "    </tr>\n",
       "    <tr>\n",
       "      <th>22919</th>\n",
       "      <td>1949</td>\n",
       "      <td>chrysler</td>\n",
       "    </tr>\n",
       "    <tr>\n",
       "      <th>288037</th>\n",
       "      <td>1950</td>\n",
       "      <td>chevrolet</td>\n",
       "    </tr>\n",
       "    <tr>\n",
       "      <th>212833</th>\n",
       "      <td>1950</td>\n",
       "      <td>ford</td>\n",
       "    </tr>\n",
       "    <tr>\n",
       "      <th>243368</th>\n",
       "      <td>1950</td>\n",
       "      <td>jeep</td>\n",
       "    </tr>\n",
       "    <tr>\n",
       "      <th>62515</th>\n",
       "      <td>1950</td>\n",
       "      <td>mercedes_benz</td>\n",
       "    </tr>\n",
       "    <tr>\n",
       "      <th>218790</th>\n",
       "      <td>1950</td>\n",
       "      <td>opel</td>\n",
       "    </tr>\n",
       "    <tr>\n",
       "      <th>267439</th>\n",
       "      <td>1950</td>\n",
       "      <td>opel</td>\n",
       "    </tr>\n",
       "    <tr>\n",
       "      <th>209876</th>\n",
       "      <td>1950</td>\n",
       "      <td>chevrolet</td>\n",
       "    </tr>\n",
       "    <tr>\n",
       "      <th>291794</th>\n",
       "      <td>1950</td>\n",
       "      <td>chevrolet</td>\n",
       "    </tr>\n",
       "    <tr>\n",
       "      <th>86394</th>\n",
       "      <td>1950</td>\n",
       "      <td>alfa_romeo</td>\n",
       "    </tr>\n",
       "    <tr>\n",
       "      <th>155046</th>\n",
       "      <td>1951</td>\n",
       "      <td>opel</td>\n",
       "    </tr>\n",
       "    <tr>\n",
       "      <th>58554</th>\n",
       "      <td>1951</td>\n",
       "      <td>opel</td>\n",
       "    </tr>\n",
       "    <tr>\n",
       "      <th>136402</th>\n",
       "      <td>1951</td>\n",
       "      <td>jeep</td>\n",
       "    </tr>\n",
       "    <tr>\n",
       "      <th>93240</th>\n",
       "      <td>1951</td>\n",
       "      <td>ford</td>\n",
       "    </tr>\n",
       "    <tr>\n",
       "      <th>73391</th>\n",
       "      <td>1951</td>\n",
       "      <td>citroen</td>\n",
       "    </tr>\n",
       "    <tr>\n",
       "      <th>108090</th>\n",
       "      <td>1951</td>\n",
       "      <td>chevrolet</td>\n",
       "    </tr>\n",
       "    <tr>\n",
       "      <th>131989</th>\n",
       "      <td>1951</td>\n",
       "      <td>citroen</td>\n",
       "    </tr>\n",
       "    <tr>\n",
       "      <th>28256</th>\n",
       "      <td>1951</td>\n",
       "      <td>fiat</td>\n",
       "    </tr>\n",
       "    <tr>\n",
       "      <th>89757</th>\n",
       "      <td>1952</td>\n",
       "      <td>opel</td>\n",
       "    </tr>\n",
       "    <tr>\n",
       "      <th>55652</th>\n",
       "      <td>1952</td>\n",
       "      <td>mercedes_benz</td>\n",
       "    </tr>\n",
       "    <tr>\n",
       "      <th>59023</th>\n",
       "      <td>1952</td>\n",
       "      <td>fiat</td>\n",
       "    </tr>\n",
       "    <tr>\n",
       "      <th>28769</th>\n",
       "      <td>1953</td>\n",
       "      <td>jeep</td>\n",
       "    </tr>\n",
       "    <tr>\n",
       "      <th>208680</th>\n",
       "      <td>1953</td>\n",
       "      <td>opel</td>\n",
       "    </tr>\n",
       "    <tr>\n",
       "      <th>254936</th>\n",
       "      <td>1953</td>\n",
       "      <td>peugeot</td>\n",
       "    </tr>\n",
       "  </tbody>\n",
       "</table>\n",
       "</div>"
      ],
      "text/plain": [
       "        registration_year          brand\n",
       "250773               1927           ford\n",
       "149864               1928        citroen\n",
       "196834               1928           ford\n",
       "281103               1929            bmw\n",
       "114967               1929            bmw\n",
       "192256               1929            bmw\n",
       "102859               1930        peugeot\n",
       "256233               1930           ford\n",
       "220378               1931           ford\n",
       "209929               1932        peugeot\n",
       "56993                1932            bmw\n",
       "182454               1932           ford\n",
       "258881               1933           opel\n",
       "89472                1933           ford\n",
       "132172               1934           opel\n",
       "235063               1935           opel\n",
       "138209               1935           opel\n",
       "253710               1936        citroen\n",
       "145735               1936           opel\n",
       "28325                1937           ford\n",
       "27976                1937           opel\n",
       "282746               1937           ford\n",
       "31562                1937           ford\n",
       "206611               1937           opel\n",
       "295664               1937  mercedes_benz\n",
       "64056                1937  mercedes_benz\n",
       "157489               1941           jeep\n",
       "73669                1942           jeep\n",
       "192755               1942           jeep\n",
       "289385               1943     volkswagen\n",
       "120528               1943           jeep\n",
       "139925               1943     volkswagen\n",
       "1589                 1945     volkswagen\n",
       "62707                1945     volkswagen\n",
       "272829               1947       chrysler\n",
       "249979               1947           ford\n",
       "22919                1949       chrysler\n",
       "288037               1950      chevrolet\n",
       "212833               1950           ford\n",
       "243368               1950           jeep\n",
       "62515                1950  mercedes_benz\n",
       "218790               1950           opel\n",
       "267439               1950           opel\n",
       "209876               1950      chevrolet\n",
       "291794               1950      chevrolet\n",
       "86394                1950     alfa_romeo\n",
       "155046               1951           opel\n",
       "58554                1951           opel\n",
       "136402               1951           jeep\n",
       "93240                1951           ford\n",
       "73391                1951        citroen\n",
       "108090               1951      chevrolet\n",
       "131989               1951        citroen\n",
       "28256                1951           fiat\n",
       "89757                1952           opel\n",
       "55652                1952  mercedes_benz\n",
       "59023                1952           fiat\n",
       "28769                1953           jeep\n",
       "208680               1953           opel\n",
       "254936               1953        peugeot"
      ]
     },
     "metadata": {},
     "output_type": "display_data"
    }
   ],
   "source": [
    "# Для начала посмотрим на группу моделей other.\n",
    "# Выделим её в отдельный срез.\n",
    "other = before_1960.loc[data['model'] == 'other']\n",
    "# А теперь посмотрим соответствуют исторические данные о создании\n",
    "# брендов данным из таблицы.\n",
    "print('\\033[1m' + 'Таблица № 21. Годы регистрации и бренды моделей ' +\n",
    "     'до 1960 года, обозначенных как other')\n",
    "display(other[['registration_year', 'brand']].\n",
    "        sort_values(\n",
    "            by=['registration_year'], ascending=True\n",
    "        ).head(60))"
   ]
  },
  {
   "cell_type": "code",
   "execution_count": 17,
   "metadata": {},
   "outputs": [
    {
     "name": "stdout",
     "output_type": "stream",
     "text": [
      "\u001b[1mТаблица № 22. Годы регистрации и бренды остальных моделей до 1960 года\n"
     ]
    },
    {
     "data": {
      "text/html": [
       "<div>\n",
       "<style scoped>\n",
       "    .dataframe tbody tr th:only-of-type {\n",
       "        vertical-align: middle;\n",
       "    }\n",
       "\n",
       "    .dataframe tbody tr th {\n",
       "        vertical-align: top;\n",
       "    }\n",
       "\n",
       "    .dataframe thead th {\n",
       "        text-align: right;\n",
       "    }\n",
       "</style>\n",
       "<table border=\"1\" class=\"dataframe\">\n",
       "  <thead>\n",
       "    <tr style=\"text-align: right;\">\n",
       "      <th></th>\n",
       "      <th>price</th>\n",
       "      <th>vehicle_type</th>\n",
       "      <th>registration_year</th>\n",
       "      <th>gearbox</th>\n",
       "      <th>power</th>\n",
       "      <th>model</th>\n",
       "      <th>kilometer</th>\n",
       "      <th>fuel_type</th>\n",
       "      <th>brand</th>\n",
       "      <th>not_repaired</th>\n",
       "      <th>month_created</th>\n",
       "      <th>postal_code</th>\n",
       "    </tr>\n",
       "  </thead>\n",
       "  <tbody>\n",
       "    <tr>\n",
       "      <th>13</th>\n",
       "      <td>450</td>\n",
       "      <td>small</td>\n",
       "      <td>1910</td>\n",
       "      <td>NaN</td>\n",
       "      <td>0</td>\n",
       "      <td>ka</td>\n",
       "      <td>5000</td>\n",
       "      <td>petrol</td>\n",
       "      <td>ford</td>\n",
       "      <td>NaN</td>\n",
       "      <td>3</td>\n",
       "      <td>24148</td>\n",
       "    </tr>\n",
       "    <tr>\n",
       "      <th>19752</th>\n",
       "      <td>3900</td>\n",
       "      <td>wagon</td>\n",
       "      <td>1910</td>\n",
       "      <td>manual</td>\n",
       "      <td>90</td>\n",
       "      <td>passat</td>\n",
       "      <td>150000</td>\n",
       "      <td>petrol</td>\n",
       "      <td>volkswagen</td>\n",
       "      <td>NaN</td>\n",
       "      <td>3</td>\n",
       "      <td>88662</td>\n",
       "    </tr>\n",
       "    <tr>\n",
       "      <th>30883</th>\n",
       "      <td>7500</td>\n",
       "      <td>small</td>\n",
       "      <td>1954</td>\n",
       "      <td>manual</td>\n",
       "      <td>16</td>\n",
       "      <td>500</td>\n",
       "      <td>125000</td>\n",
       "      <td>petrol</td>\n",
       "      <td>fiat</td>\n",
       "      <td>no</td>\n",
       "      <td>3</td>\n",
       "      <td>82327</td>\n",
       "    </tr>\n",
       "    <tr>\n",
       "      <th>32431</th>\n",
       "      <td>18500</td>\n",
       "      <td>sedan</td>\n",
       "      <td>1959</td>\n",
       "      <td>manual</td>\n",
       "      <td>30</td>\n",
       "      <td>kaefer</td>\n",
       "      <td>70000</td>\n",
       "      <td>petrol</td>\n",
       "      <td>volkswagen</td>\n",
       "      <td>no</td>\n",
       "      <td>3</td>\n",
       "      <td>84034</td>\n",
       "    </tr>\n",
       "    <tr>\n",
       "      <th>40821</th>\n",
       "      <td>600</td>\n",
       "      <td>small</td>\n",
       "      <td>1910</td>\n",
       "      <td>manual</td>\n",
       "      <td>0</td>\n",
       "      <td>agila</td>\n",
       "      <td>5000</td>\n",
       "      <td>NaN</td>\n",
       "      <td>opel</td>\n",
       "      <td>yes</td>\n",
       "      <td>3</td>\n",
       "      <td>61279</td>\n",
       "    </tr>\n",
       "    <tr>\n",
       "      <th>43650</th>\n",
       "      <td>500</td>\n",
       "      <td>small</td>\n",
       "      <td>1945</td>\n",
       "      <td>manual</td>\n",
       "      <td>1000</td>\n",
       "      <td>astra</td>\n",
       "      <td>100000</td>\n",
       "      <td>NaN</td>\n",
       "      <td>opel</td>\n",
       "      <td>yes</td>\n",
       "      <td>3</td>\n",
       "      <td>1723</td>\n",
       "    </tr>\n",
       "    <tr>\n",
       "      <th>52465</th>\n",
       "      <td>3400</td>\n",
       "      <td>small</td>\n",
       "      <td>1910</td>\n",
       "      <td>manual</td>\n",
       "      <td>90</td>\n",
       "      <td>beetle</td>\n",
       "      <td>90000</td>\n",
       "      <td>NaN</td>\n",
       "      <td>volkswagen</td>\n",
       "      <td>no</td>\n",
       "      <td>3</td>\n",
       "      <td>34308</td>\n",
       "    </tr>\n",
       "    <tr>\n",
       "      <th>90685</th>\n",
       "      <td>14000</td>\n",
       "      <td>sedan</td>\n",
       "      <td>1936</td>\n",
       "      <td>NaN</td>\n",
       "      <td>0</td>\n",
       "      <td>500</td>\n",
       "      <td>5000</td>\n",
       "      <td>NaN</td>\n",
       "      <td>fiat</td>\n",
       "      <td>no</td>\n",
       "      <td>3</td>\n",
       "      <td>90518</td>\n",
       "    </tr>\n",
       "    <tr>\n",
       "      <th>98247</th>\n",
       "      <td>8750</td>\n",
       "      <td>convertible</td>\n",
       "      <td>1923</td>\n",
       "      <td>manual</td>\n",
       "      <td>11</td>\n",
       "      <td>c3</td>\n",
       "      <td>5000</td>\n",
       "      <td>petrol</td>\n",
       "      <td>citroen</td>\n",
       "      <td>no</td>\n",
       "      <td>3</td>\n",
       "      <td>27299</td>\n",
       "    </tr>\n",
       "    <tr>\n",
       "      <th>104400</th>\n",
       "      <td>8500</td>\n",
       "      <td>small</td>\n",
       "      <td>1952</td>\n",
       "      <td>manual</td>\n",
       "      <td>0</td>\n",
       "      <td>500</td>\n",
       "      <td>5000</td>\n",
       "      <td>petrol</td>\n",
       "      <td>fiat</td>\n",
       "      <td>no</td>\n",
       "      <td>3</td>\n",
       "      <td>85045</td>\n",
       "    </tr>\n",
       "    <tr>\n",
       "      <th>104863</th>\n",
       "      <td>1995</td>\n",
       "      <td>small</td>\n",
       "      <td>1959</td>\n",
       "      <td>manual</td>\n",
       "      <td>30</td>\n",
       "      <td>kaefer</td>\n",
       "      <td>50000</td>\n",
       "      <td>petrol</td>\n",
       "      <td>volkswagen</td>\n",
       "      <td>yes</td>\n",
       "      <td>3</td>\n",
       "      <td>46459</td>\n",
       "    </tr>\n",
       "    <tr>\n",
       "      <th>122340</th>\n",
       "      <td>12999</td>\n",
       "      <td>small</td>\n",
       "      <td>1938</td>\n",
       "      <td>manual</td>\n",
       "      <td>40</td>\n",
       "      <td>2_reihe</td>\n",
       "      <td>70000</td>\n",
       "      <td>petrol</td>\n",
       "      <td>peugeot</td>\n",
       "      <td>no</td>\n",
       "      <td>4</td>\n",
       "      <td>54673</td>\n",
       "    </tr>\n",
       "    <tr>\n",
       "      <th>132143</th>\n",
       "      <td>9800</td>\n",
       "      <td>small</td>\n",
       "      <td>1956</td>\n",
       "      <td>manual</td>\n",
       "      <td>34</td>\n",
       "      <td>kaefer</td>\n",
       "      <td>90000</td>\n",
       "      <td>petrol</td>\n",
       "      <td>volkswagen</td>\n",
       "      <td>NaN</td>\n",
       "      <td>3</td>\n",
       "      <td>68642</td>\n",
       "    </tr>\n",
       "    <tr>\n",
       "      <th>174682</th>\n",
       "      <td>14900</td>\n",
       "      <td>sedan</td>\n",
       "      <td>1959</td>\n",
       "      <td>manual</td>\n",
       "      <td>48</td>\n",
       "      <td>b_klasse</td>\n",
       "      <td>70000</td>\n",
       "      <td>gasoline</td>\n",
       "      <td>mercedes_benz</td>\n",
       "      <td>no</td>\n",
       "      <td>4</td>\n",
       "      <td>38122</td>\n",
       "    </tr>\n",
       "    <tr>\n",
       "      <th>187129</th>\n",
       "      <td>1500</td>\n",
       "      <td>bus</td>\n",
       "      <td>1910</td>\n",
       "      <td>manual</td>\n",
       "      <td>999</td>\n",
       "      <td>espace</td>\n",
       "      <td>150000</td>\n",
       "      <td>NaN</td>\n",
       "      <td>renault</td>\n",
       "      <td>NaN</td>\n",
       "      <td>3</td>\n",
       "      <td>24873</td>\n",
       "    </tr>\n",
       "    <tr>\n",
       "      <th>194779</th>\n",
       "      <td>6900</td>\n",
       "      <td>sedan</td>\n",
       "      <td>1956</td>\n",
       "      <td>manual</td>\n",
       "      <td>30</td>\n",
       "      <td>kaefer</td>\n",
       "      <td>150000</td>\n",
       "      <td>NaN</td>\n",
       "      <td>volkswagen</td>\n",
       "      <td>no</td>\n",
       "      <td>4</td>\n",
       "      <td>37130</td>\n",
       "    </tr>\n",
       "    <tr>\n",
       "      <th>226858</th>\n",
       "      <td>5000</td>\n",
       "      <td>sedan</td>\n",
       "      <td>1938</td>\n",
       "      <td>manual</td>\n",
       "      <td>0</td>\n",
       "      <td>kadett</td>\n",
       "      <td>5000</td>\n",
       "      <td>petrol</td>\n",
       "      <td>opel</td>\n",
       "      <td>NaN</td>\n",
       "      <td>3</td>\n",
       "      <td>36369</td>\n",
       "    </tr>\n",
       "    <tr>\n",
       "      <th>267738</th>\n",
       "      <td>6650</td>\n",
       "      <td>small</td>\n",
       "      <td>1959</td>\n",
       "      <td>NaN</td>\n",
       "      <td>19</td>\n",
       "      <td>500</td>\n",
       "      <td>40000</td>\n",
       "      <td>NaN</td>\n",
       "      <td>fiat</td>\n",
       "      <td>no</td>\n",
       "      <td>3</td>\n",
       "      <td>22848</td>\n",
       "    </tr>\n",
       "    <tr>\n",
       "      <th>270983</th>\n",
       "      <td>8750</td>\n",
       "      <td>convertible</td>\n",
       "      <td>1923</td>\n",
       "      <td>manual</td>\n",
       "      <td>8</td>\n",
       "      <td>c3</td>\n",
       "      <td>5000</td>\n",
       "      <td>petrol</td>\n",
       "      <td>citroen</td>\n",
       "      <td>no</td>\n",
       "      <td>3</td>\n",
       "      <td>27299</td>\n",
       "    </tr>\n",
       "    <tr>\n",
       "      <th>279926</th>\n",
       "      <td>3800</td>\n",
       "      <td>sedan</td>\n",
       "      <td>1958</td>\n",
       "      <td>manual</td>\n",
       "      <td>30</td>\n",
       "      <td>kaefer</td>\n",
       "      <td>150000</td>\n",
       "      <td>petrol</td>\n",
       "      <td>volkswagen</td>\n",
       "      <td>NaN</td>\n",
       "      <td>3</td>\n",
       "      <td>25712</td>\n",
       "    </tr>\n",
       "    <tr>\n",
       "      <th>280651</th>\n",
       "      <td>9000</td>\n",
       "      <td>sedan</td>\n",
       "      <td>1938</td>\n",
       "      <td>manual</td>\n",
       "      <td>1</td>\n",
       "      <td>kadett</td>\n",
       "      <td>5000</td>\n",
       "      <td>petrol</td>\n",
       "      <td>opel</td>\n",
       "      <td>NaN</td>\n",
       "      <td>3</td>\n",
       "      <td>93437</td>\n",
       "    </tr>\n",
       "    <tr>\n",
       "      <th>286892</th>\n",
       "      <td>2000</td>\n",
       "      <td>small</td>\n",
       "      <td>1959</td>\n",
       "      <td>manual</td>\n",
       "      <td>30</td>\n",
       "      <td>kaefer</td>\n",
       "      <td>100000</td>\n",
       "      <td>petrol</td>\n",
       "      <td>volkswagen</td>\n",
       "      <td>yes</td>\n",
       "      <td>4</td>\n",
       "      <td>46509</td>\n",
       "    </tr>\n",
       "  </tbody>\n",
       "</table>\n",
       "</div>"
      ],
      "text/plain": [
       "        price vehicle_type  registration_year gearbox  power     model  \\\n",
       "13        450        small               1910     NaN      0        ka   \n",
       "19752    3900        wagon               1910  manual     90    passat   \n",
       "30883    7500        small               1954  manual     16       500   \n",
       "32431   18500        sedan               1959  manual     30    kaefer   \n",
       "40821     600        small               1910  manual      0     agila   \n",
       "43650     500        small               1945  manual   1000     astra   \n",
       "52465    3400        small               1910  manual     90    beetle   \n",
       "90685   14000        sedan               1936     NaN      0       500   \n",
       "98247    8750  convertible               1923  manual     11        c3   \n",
       "104400   8500        small               1952  manual      0       500   \n",
       "104863   1995        small               1959  manual     30    kaefer   \n",
       "122340  12999        small               1938  manual     40   2_reihe   \n",
       "132143   9800        small               1956  manual     34    kaefer   \n",
       "174682  14900        sedan               1959  manual     48  b_klasse   \n",
       "187129   1500          bus               1910  manual    999    espace   \n",
       "194779   6900        sedan               1956  manual     30    kaefer   \n",
       "226858   5000        sedan               1938  manual      0    kadett   \n",
       "267738   6650        small               1959     NaN     19       500   \n",
       "270983   8750  convertible               1923  manual      8        c3   \n",
       "279926   3800        sedan               1958  manual     30    kaefer   \n",
       "280651   9000        sedan               1938  manual      1    kadett   \n",
       "286892   2000        small               1959  manual     30    kaefer   \n",
       "\n",
       "        kilometer fuel_type          brand not_repaired  month_created  \\\n",
       "13           5000    petrol           ford          NaN              3   \n",
       "19752      150000    petrol     volkswagen          NaN              3   \n",
       "30883      125000    petrol           fiat           no              3   \n",
       "32431       70000    petrol     volkswagen           no              3   \n",
       "40821        5000       NaN           opel          yes              3   \n",
       "43650      100000       NaN           opel          yes              3   \n",
       "52465       90000       NaN     volkswagen           no              3   \n",
       "90685        5000       NaN           fiat           no              3   \n",
       "98247        5000    petrol        citroen           no              3   \n",
       "104400       5000    petrol           fiat           no              3   \n",
       "104863      50000    petrol     volkswagen          yes              3   \n",
       "122340      70000    petrol        peugeot           no              4   \n",
       "132143      90000    petrol     volkswagen          NaN              3   \n",
       "174682      70000  gasoline  mercedes_benz           no              4   \n",
       "187129     150000       NaN        renault          NaN              3   \n",
       "194779     150000       NaN     volkswagen           no              4   \n",
       "226858       5000    petrol           opel          NaN              3   \n",
       "267738      40000       NaN           fiat           no              3   \n",
       "270983       5000    petrol        citroen           no              3   \n",
       "279926     150000    petrol     volkswagen          NaN              3   \n",
       "280651       5000    petrol           opel          NaN              3   \n",
       "286892     100000    petrol     volkswagen          yes              4   \n",
       "\n",
       "        postal_code  \n",
       "13            24148  \n",
       "19752         88662  \n",
       "30883         82327  \n",
       "32431         84034  \n",
       "40821         61279  \n",
       "43650          1723  \n",
       "52465         34308  \n",
       "90685         90518  \n",
       "98247         27299  \n",
       "104400        85045  \n",
       "104863        46459  \n",
       "122340        54673  \n",
       "132143        68642  \n",
       "174682        38122  \n",
       "187129        24873  \n",
       "194779        37130  \n",
       "226858        36369  \n",
       "267738        22848  \n",
       "270983        27299  \n",
       "279926        25712  \n",
       "280651        93437  \n",
       "286892        46509  "
      ]
     },
     "metadata": {},
     "output_type": "display_data"
    }
   ],
   "source": [
    "# Данные совпадают с историческими данными.\n",
    "# Рассмотрим теперь остальные модели.\n",
    "print('\\033[1m' + 'Таблица № 22. Годы регистрации и бренды остальных моделей ' +\n",
    "     'до 1960 года')\n",
    "old_models_data = before_1960.query('model.isin(@old_models)')\n",
    "display(old_models_data)"
   ]
  },
  {
   "cell_type": "markdown",
   "metadata": {},
   "source": [
    "Вооружившись википедией, мы проанализировали данные о регистрации моделей и выявили объявления с нереальными годами регистрации. Например, Volkswagen Passat не мог быть зарегистрирован в 1910 году, а Ford Ka в 1910 году."
   ]
  },
  {
   "cell_type": "code",
   "execution_count": 18,
   "metadata": {},
   "outputs": [],
   "source": [
    "# Удаляем строки 13, 19752, 40821, 43650, 52465, 187129, 270983.\n",
    "data = data.drop([13, 19752, 40821, 43650, 52465, 187129, 270983])"
   ]
  },
  {
   "cell_type": "code",
   "execution_count": 19,
   "metadata": {},
   "outputs": [
    {
     "name": "stdout",
     "output_type": "stream",
     "text": [
      "\u001b[1mТаблица № 23. Данные о машинах неизвестных моделей до 1960 года\n"
     ]
    },
    {
     "data": {
      "text/html": [
       "<div>\n",
       "<style scoped>\n",
       "    .dataframe tbody tr th:only-of-type {\n",
       "        vertical-align: middle;\n",
       "    }\n",
       "\n",
       "    .dataframe tbody tr th {\n",
       "        vertical-align: top;\n",
       "    }\n",
       "\n",
       "    .dataframe thead th {\n",
       "        text-align: right;\n",
       "    }\n",
       "</style>\n",
       "<table border=\"1\" class=\"dataframe\">\n",
       "  <thead>\n",
       "    <tr style=\"text-align: right;\">\n",
       "      <th></th>\n",
       "      <th>registration_year</th>\n",
       "      <th>brand</th>\n",
       "      <th>vehicle_type</th>\n",
       "      <th>gearbox</th>\n",
       "      <th>power</th>\n",
       "    </tr>\n",
       "  </thead>\n",
       "  <tbody>\n",
       "    <tr>\n",
       "      <th>98176</th>\n",
       "      <td>1910</td>\n",
       "      <td>renault</td>\n",
       "      <td>small</td>\n",
       "      <td>manual</td>\n",
       "      <td>0</td>\n",
       "    </tr>\n",
       "    <tr>\n",
       "      <th>1872</th>\n",
       "      <td>1925</td>\n",
       "      <td>sonstige_autos</td>\n",
       "      <td>convertible</td>\n",
       "      <td>NaN</td>\n",
       "      <td>0</td>\n",
       "    </tr>\n",
       "    <tr>\n",
       "      <th>198843</th>\n",
       "      <td>1929</td>\n",
       "      <td>sonstige_autos</td>\n",
       "      <td>sedan</td>\n",
       "      <td>NaN</td>\n",
       "      <td>0</td>\n",
       "    </tr>\n",
       "    <tr>\n",
       "      <th>109746</th>\n",
       "      <td>1929</td>\n",
       "      <td>sonstige_autos</td>\n",
       "      <td>sedan</td>\n",
       "      <td>NaN</td>\n",
       "      <td>0</td>\n",
       "    </tr>\n",
       "    <tr>\n",
       "      <th>18828</th>\n",
       "      <td>1929</td>\n",
       "      <td>sonstige_autos</td>\n",
       "      <td>sedan</td>\n",
       "      <td>manual</td>\n",
       "      <td>30</td>\n",
       "    </tr>\n",
       "    <tr>\n",
       "      <th>204318</th>\n",
       "      <td>1934</td>\n",
       "      <td>sonstige_autos</td>\n",
       "      <td>other</td>\n",
       "      <td>NaN</td>\n",
       "      <td>0</td>\n",
       "    </tr>\n",
       "    <tr>\n",
       "      <th>87755</th>\n",
       "      <td>1935</td>\n",
       "      <td>sonstige_autos</td>\n",
       "      <td>sedan</td>\n",
       "      <td>manual</td>\n",
       "      <td>25</td>\n",
       "    </tr>\n",
       "    <tr>\n",
       "      <th>247386</th>\n",
       "      <td>1937</td>\n",
       "      <td>sonstige_autos</td>\n",
       "      <td>coupe</td>\n",
       "      <td>manual</td>\n",
       "      <td>150</td>\n",
       "    </tr>\n",
       "    <tr>\n",
       "      <th>94787</th>\n",
       "      <td>1937</td>\n",
       "      <td>sonstige_autos</td>\n",
       "      <td>sedan</td>\n",
       "      <td>manual</td>\n",
       "      <td>0</td>\n",
       "    </tr>\n",
       "    <tr>\n",
       "      <th>65667</th>\n",
       "      <td>1937</td>\n",
       "      <td>sonstige_autos</td>\n",
       "      <td>sedan</td>\n",
       "      <td>NaN</td>\n",
       "      <td>0</td>\n",
       "    </tr>\n",
       "    <tr>\n",
       "      <th>220032</th>\n",
       "      <td>1938</td>\n",
       "      <td>sonstige_autos</td>\n",
       "      <td>sedan</td>\n",
       "      <td>manual</td>\n",
       "      <td>0</td>\n",
       "    </tr>\n",
       "    <tr>\n",
       "      <th>222779</th>\n",
       "      <td>1938</td>\n",
       "      <td>sonstige_autos</td>\n",
       "      <td>convertible</td>\n",
       "      <td>manual</td>\n",
       "      <td>0</td>\n",
       "    </tr>\n",
       "    <tr>\n",
       "      <th>192099</th>\n",
       "      <td>1938</td>\n",
       "      <td>sonstige_autos</td>\n",
       "      <td>small</td>\n",
       "      <td>manual</td>\n",
       "      <td>18</td>\n",
       "    </tr>\n",
       "    <tr>\n",
       "      <th>125073</th>\n",
       "      <td>1938</td>\n",
       "      <td>sonstige_autos</td>\n",
       "      <td>sedan</td>\n",
       "      <td>manual</td>\n",
       "      <td>24</td>\n",
       "    </tr>\n",
       "    <tr>\n",
       "      <th>253178</th>\n",
       "      <td>1938</td>\n",
       "      <td>sonstige_autos</td>\n",
       "      <td>other</td>\n",
       "      <td>manual</td>\n",
       "      <td>0</td>\n",
       "    </tr>\n",
       "    <tr>\n",
       "      <th>21824</th>\n",
       "      <td>1940</td>\n",
       "      <td>sonstige_autos</td>\n",
       "      <td>small</td>\n",
       "      <td>manual</td>\n",
       "      <td>24</td>\n",
       "    </tr>\n",
       "    <tr>\n",
       "      <th>24874</th>\n",
       "      <td>1940</td>\n",
       "      <td>ford</td>\n",
       "      <td>sedan</td>\n",
       "      <td>manual</td>\n",
       "      <td>0</td>\n",
       "    </tr>\n",
       "    <tr>\n",
       "      <th>13834</th>\n",
       "      <td>1941</td>\n",
       "      <td>sonstige_autos</td>\n",
       "      <td>suv</td>\n",
       "      <td>manual</td>\n",
       "      <td>57</td>\n",
       "    </tr>\n",
       "    <tr>\n",
       "      <th>255695</th>\n",
       "      <td>1943</td>\n",
       "      <td>sonstige_autos</td>\n",
       "      <td>suv</td>\n",
       "      <td>manual</td>\n",
       "      <td>76</td>\n",
       "    </tr>\n",
       "    <tr>\n",
       "      <th>111452</th>\n",
       "      <td>1944</td>\n",
       "      <td>sonstige_autos</td>\n",
       "      <td>suv</td>\n",
       "      <td>NaN</td>\n",
       "      <td>0</td>\n",
       "    </tr>\n",
       "    <tr>\n",
       "      <th>280820</th>\n",
       "      <td>1944</td>\n",
       "      <td>sonstige_autos</td>\n",
       "      <td>convertible</td>\n",
       "      <td>manual</td>\n",
       "      <td>30</td>\n",
       "    </tr>\n",
       "    <tr>\n",
       "      <th>275349</th>\n",
       "      <td>1945</td>\n",
       "      <td>sonstige_autos</td>\n",
       "      <td>other</td>\n",
       "      <td>manual</td>\n",
       "      <td>12</td>\n",
       "    </tr>\n",
       "    <tr>\n",
       "      <th>276260</th>\n",
       "      <td>1946</td>\n",
       "      <td>sonstige_autos</td>\n",
       "      <td>other</td>\n",
       "      <td>manual</td>\n",
       "      <td>0</td>\n",
       "    </tr>\n",
       "    <tr>\n",
       "      <th>52785</th>\n",
       "      <td>1948</td>\n",
       "      <td>sonstige_autos</td>\n",
       "      <td>wagon</td>\n",
       "      <td>manual</td>\n",
       "      <td>0</td>\n",
       "    </tr>\n",
       "    <tr>\n",
       "      <th>226775</th>\n",
       "      <td>1948</td>\n",
       "      <td>sonstige_autos</td>\n",
       "      <td>coupe</td>\n",
       "      <td>manual</td>\n",
       "      <td>100</td>\n",
       "    </tr>\n",
       "    <tr>\n",
       "      <th>182161</th>\n",
       "      <td>1950</td>\n",
       "      <td>opel</td>\n",
       "      <td>small</td>\n",
       "      <td>manual</td>\n",
       "      <td>0</td>\n",
       "    </tr>\n",
       "    <tr>\n",
       "      <th>180753</th>\n",
       "      <td>1950</td>\n",
       "      <td>sonstige_autos</td>\n",
       "      <td>other</td>\n",
       "      <td>manual</td>\n",
       "      <td>0</td>\n",
       "    </tr>\n",
       "    <tr>\n",
       "      <th>146148</th>\n",
       "      <td>1950</td>\n",
       "      <td>sonstige_autos</td>\n",
       "      <td>coupe</td>\n",
       "      <td>manual</td>\n",
       "      <td>110</td>\n",
       "    </tr>\n",
       "    <tr>\n",
       "      <th>69474</th>\n",
       "      <td>1950</td>\n",
       "      <td>sonstige_autos</td>\n",
       "      <td>sedan</td>\n",
       "      <td>manual</td>\n",
       "      <td>0</td>\n",
       "    </tr>\n",
       "    <tr>\n",
       "      <th>38206</th>\n",
       "      <td>1951</td>\n",
       "      <td>sonstige_autos</td>\n",
       "      <td>sedan</td>\n",
       "      <td>manual</td>\n",
       "      <td>0</td>\n",
       "    </tr>\n",
       "    <tr>\n",
       "      <th>71492</th>\n",
       "      <td>1951</td>\n",
       "      <td>sonstige_autos</td>\n",
       "      <td>sedan</td>\n",
       "      <td>manual</td>\n",
       "      <td>102</td>\n",
       "    </tr>\n",
       "    <tr>\n",
       "      <th>199044</th>\n",
       "      <td>1952</td>\n",
       "      <td>sonstige_autos</td>\n",
       "      <td>sedan</td>\n",
       "      <td>NaN</td>\n",
       "      <td>0</td>\n",
       "    </tr>\n",
       "    <tr>\n",
       "      <th>212540</th>\n",
       "      <td>1952</td>\n",
       "      <td>sonstige_autos</td>\n",
       "      <td>sedan</td>\n",
       "      <td>auto</td>\n",
       "      <td>109</td>\n",
       "    </tr>\n",
       "    <tr>\n",
       "      <th>111557</th>\n",
       "      <td>1952</td>\n",
       "      <td>chrysler</td>\n",
       "      <td>sedan</td>\n",
       "      <td>auto</td>\n",
       "      <td>109</td>\n",
       "    </tr>\n",
       "    <tr>\n",
       "      <th>235880</th>\n",
       "      <td>1952</td>\n",
       "      <td>sonstige_autos</td>\n",
       "      <td>sedan</td>\n",
       "      <td>manual</td>\n",
       "      <td>0</td>\n",
       "    </tr>\n",
       "    <tr>\n",
       "      <th>219188</th>\n",
       "      <td>1953</td>\n",
       "      <td>sonstige_autos</td>\n",
       "      <td>bus</td>\n",
       "      <td>NaN</td>\n",
       "      <td>0</td>\n",
       "    </tr>\n",
       "    <tr>\n",
       "      <th>246790</th>\n",
       "      <td>1953</td>\n",
       "      <td>sonstige_autos</td>\n",
       "      <td>sedan</td>\n",
       "      <td>manual</td>\n",
       "      <td>34</td>\n",
       "    </tr>\n",
       "    <tr>\n",
       "      <th>74454</th>\n",
       "      <td>1953</td>\n",
       "      <td>ford</td>\n",
       "      <td>other</td>\n",
       "      <td>NaN</td>\n",
       "      <td>0</td>\n",
       "    </tr>\n",
       "    <tr>\n",
       "      <th>82595</th>\n",
       "      <td>1953</td>\n",
       "      <td>sonstige_autos</td>\n",
       "      <td>sedan</td>\n",
       "      <td>manual</td>\n",
       "      <td>32</td>\n",
       "    </tr>\n",
       "    <tr>\n",
       "      <th>58014</th>\n",
       "      <td>1953</td>\n",
       "      <td>sonstige_autos</td>\n",
       "      <td>sedan</td>\n",
       "      <td>manual</td>\n",
       "      <td>0</td>\n",
       "    </tr>\n",
       "    <tr>\n",
       "      <th>286628</th>\n",
       "      <td>1953</td>\n",
       "      <td>sonstige_autos</td>\n",
       "      <td>sedan</td>\n",
       "      <td>manual</td>\n",
       "      <td>45</td>\n",
       "    </tr>\n",
       "    <tr>\n",
       "      <th>109639</th>\n",
       "      <td>1954</td>\n",
       "      <td>citroen</td>\n",
       "      <td>other</td>\n",
       "      <td>manual</td>\n",
       "      <td>54</td>\n",
       "    </tr>\n",
       "    <tr>\n",
       "      <th>285220</th>\n",
       "      <td>1954</td>\n",
       "      <td>sonstige_autos</td>\n",
       "      <td>sedan</td>\n",
       "      <td>manual</td>\n",
       "      <td>20</td>\n",
       "    </tr>\n",
       "    <tr>\n",
       "      <th>109625</th>\n",
       "      <td>1954</td>\n",
       "      <td>sonstige_autos</td>\n",
       "      <td>sedan</td>\n",
       "      <td>manual</td>\n",
       "      <td>26</td>\n",
       "    </tr>\n",
       "    <tr>\n",
       "      <th>143842</th>\n",
       "      <td>1955</td>\n",
       "      <td>sonstige_autos</td>\n",
       "      <td>bus</td>\n",
       "      <td>manual</td>\n",
       "      <td>67</td>\n",
       "    </tr>\n",
       "    <tr>\n",
       "      <th>10787</th>\n",
       "      <td>1955</td>\n",
       "      <td>sonstige_autos</td>\n",
       "      <td>other</td>\n",
       "      <td>manual</td>\n",
       "      <td>40</td>\n",
       "    </tr>\n",
       "    <tr>\n",
       "      <th>45475</th>\n",
       "      <td>1955</td>\n",
       "      <td>sonstige_autos</td>\n",
       "      <td>convertible</td>\n",
       "      <td>NaN</td>\n",
       "      <td>0</td>\n",
       "    </tr>\n",
       "    <tr>\n",
       "      <th>91529</th>\n",
       "      <td>1955</td>\n",
       "      <td>sonstige_autos</td>\n",
       "      <td>sedan</td>\n",
       "      <td>auto</td>\n",
       "      <td>220</td>\n",
       "    </tr>\n",
       "    <tr>\n",
       "      <th>229886</th>\n",
       "      <td>1956</td>\n",
       "      <td>sonstige_autos</td>\n",
       "      <td>suv</td>\n",
       "      <td>manual</td>\n",
       "      <td>75</td>\n",
       "    </tr>\n",
       "    <tr>\n",
       "      <th>180810</th>\n",
       "      <td>1956</td>\n",
       "      <td>sonstige_autos</td>\n",
       "      <td>other</td>\n",
       "      <td>manual</td>\n",
       "      <td>34</td>\n",
       "    </tr>\n",
       "    <tr>\n",
       "      <th>216495</th>\n",
       "      <td>1956</td>\n",
       "      <td>opel</td>\n",
       "      <td>sedan</td>\n",
       "      <td>manual</td>\n",
       "      <td>75</td>\n",
       "    </tr>\n",
       "    <tr>\n",
       "      <th>293786</th>\n",
       "      <td>1956</td>\n",
       "      <td>sonstige_autos</td>\n",
       "      <td>bus</td>\n",
       "      <td>manual</td>\n",
       "      <td>37</td>\n",
       "    </tr>\n",
       "    <tr>\n",
       "      <th>145692</th>\n",
       "      <td>1956</td>\n",
       "      <td>sonstige_autos</td>\n",
       "      <td>coupe</td>\n",
       "      <td>auto</td>\n",
       "      <td>205</td>\n",
       "    </tr>\n",
       "    <tr>\n",
       "      <th>12803</th>\n",
       "      <td>1956</td>\n",
       "      <td>volkswagen</td>\n",
       "      <td>sedan</td>\n",
       "      <td>manual</td>\n",
       "      <td>30</td>\n",
       "    </tr>\n",
       "    <tr>\n",
       "      <th>56131</th>\n",
       "      <td>1956</td>\n",
       "      <td>sonstige_autos</td>\n",
       "      <td>sedan</td>\n",
       "      <td>auto</td>\n",
       "      <td>241</td>\n",
       "    </tr>\n",
       "    <tr>\n",
       "      <th>148915</th>\n",
       "      <td>1956</td>\n",
       "      <td>sonstige_autos</td>\n",
       "      <td>sedan</td>\n",
       "      <td>manual</td>\n",
       "      <td>0</td>\n",
       "    </tr>\n",
       "    <tr>\n",
       "      <th>102927</th>\n",
       "      <td>1956</td>\n",
       "      <td>sonstige_autos</td>\n",
       "      <td>small</td>\n",
       "      <td>manual</td>\n",
       "      <td>9</td>\n",
       "    </tr>\n",
       "    <tr>\n",
       "      <th>122210</th>\n",
       "      <td>1956</td>\n",
       "      <td>sonstige_autos</td>\n",
       "      <td>sedan</td>\n",
       "      <td>auto</td>\n",
       "      <td>0</td>\n",
       "    </tr>\n",
       "    <tr>\n",
       "      <th>88546</th>\n",
       "      <td>1956</td>\n",
       "      <td>mercedes_benz</td>\n",
       "      <td>sedan</td>\n",
       "      <td>manual</td>\n",
       "      <td>0</td>\n",
       "    </tr>\n",
       "    <tr>\n",
       "      <th>131824</th>\n",
       "      <td>1956</td>\n",
       "      <td>sonstige_autos</td>\n",
       "      <td>sedan</td>\n",
       "      <td>NaN</td>\n",
       "      <td>0</td>\n",
       "    </tr>\n",
       "  </tbody>\n",
       "</table>\n",
       "</div>"
      ],
      "text/plain": [
       "        registration_year           brand vehicle_type gearbox  power\n",
       "98176                1910         renault        small  manual      0\n",
       "1872                 1925  sonstige_autos  convertible     NaN      0\n",
       "198843               1929  sonstige_autos        sedan     NaN      0\n",
       "109746               1929  sonstige_autos        sedan     NaN      0\n",
       "18828                1929  sonstige_autos        sedan  manual     30\n",
       "204318               1934  sonstige_autos        other     NaN      0\n",
       "87755                1935  sonstige_autos        sedan  manual     25\n",
       "247386               1937  sonstige_autos        coupe  manual    150\n",
       "94787                1937  sonstige_autos        sedan  manual      0\n",
       "65667                1937  sonstige_autos        sedan     NaN      0\n",
       "220032               1938  sonstige_autos        sedan  manual      0\n",
       "222779               1938  sonstige_autos  convertible  manual      0\n",
       "192099               1938  sonstige_autos        small  manual     18\n",
       "125073               1938  sonstige_autos        sedan  manual     24\n",
       "253178               1938  sonstige_autos        other  manual      0\n",
       "21824                1940  sonstige_autos        small  manual     24\n",
       "24874                1940            ford        sedan  manual      0\n",
       "13834                1941  sonstige_autos          suv  manual     57\n",
       "255695               1943  sonstige_autos          suv  manual     76\n",
       "111452               1944  sonstige_autos          suv     NaN      0\n",
       "280820               1944  sonstige_autos  convertible  manual     30\n",
       "275349               1945  sonstige_autos        other  manual     12\n",
       "276260               1946  sonstige_autos        other  manual      0\n",
       "52785                1948  sonstige_autos        wagon  manual      0\n",
       "226775               1948  sonstige_autos        coupe  manual    100\n",
       "182161               1950            opel        small  manual      0\n",
       "180753               1950  sonstige_autos        other  manual      0\n",
       "146148               1950  sonstige_autos        coupe  manual    110\n",
       "69474                1950  sonstige_autos        sedan  manual      0\n",
       "38206                1951  sonstige_autos        sedan  manual      0\n",
       "71492                1951  sonstige_autos        sedan  manual    102\n",
       "199044               1952  sonstige_autos        sedan     NaN      0\n",
       "212540               1952  sonstige_autos        sedan    auto    109\n",
       "111557               1952        chrysler        sedan    auto    109\n",
       "235880               1952  sonstige_autos        sedan  manual      0\n",
       "219188               1953  sonstige_autos          bus     NaN      0\n",
       "246790               1953  sonstige_autos        sedan  manual     34\n",
       "74454                1953            ford        other     NaN      0\n",
       "82595                1953  sonstige_autos        sedan  manual     32\n",
       "58014                1953  sonstige_autos        sedan  manual      0\n",
       "286628               1953  sonstige_autos        sedan  manual     45\n",
       "109639               1954         citroen        other  manual     54\n",
       "285220               1954  sonstige_autos        sedan  manual     20\n",
       "109625               1954  sonstige_autos        sedan  manual     26\n",
       "143842               1955  sonstige_autos          bus  manual     67\n",
       "10787                1955  sonstige_autos        other  manual     40\n",
       "45475                1955  sonstige_autos  convertible     NaN      0\n",
       "91529                1955  sonstige_autos        sedan    auto    220\n",
       "229886               1956  sonstige_autos          suv  manual     75\n",
       "180810               1956  sonstige_autos        other  manual     34\n",
       "216495               1956            opel        sedan  manual     75\n",
       "293786               1956  sonstige_autos          bus  manual     37\n",
       "145692               1956  sonstige_autos        coupe    auto    205\n",
       "12803                1956      volkswagen        sedan  manual     30\n",
       "56131                1956  sonstige_autos        sedan    auto    241\n",
       "148915               1956  sonstige_autos        sedan  manual      0\n",
       "102927               1956  sonstige_autos        small  manual      9\n",
       "122210               1956  sonstige_autos        sedan    auto      0\n",
       "88546                1956   mercedes_benz        sedan  manual      0\n",
       "131824               1956  sonstige_autos        sedan     NaN      0"
      ]
     },
     "metadata": {},
     "output_type": "display_data"
    }
   ],
   "source": [
    "# Вновь изучим столбец registration_year, учитывая \n",
    "# значения NaN в столбце model.\n",
    "nan_models = data.loc[data['model'] != data['model']]\n",
    "# Сделаем срез машин до 1960 года.\n",
    "nan_models_before_1960 = nan_models.loc[\n",
    "    nan_models['registration_year'] < 1960]\n",
    "print('\\033[1m' + 'Таблица № 23. Данные о машинах неизвестных моделей' +\n",
    "     ' до 1960 года')\n",
    "display(nan_models_before_1960[['registration_year', 'brand', \n",
    "                                'vehicle_type', 'gearbox', 'power']].\n",
    "        sort_values(\n",
    "            by=['registration_year'], ascending=True\n",
    "        ).head(60))"
   ]
  },
  {
   "cell_type": "code",
   "execution_count": 20,
   "metadata": {
    "scrolled": false
   },
   "outputs": [
    {
     "data": {
      "image/png": "[encoded data removed]",
      "text/plain": [
       "<Figure size 972x432 with 1 Axes>"
      ]
     },
     "metadata": {},
     "output_type": "display_data"
    },
    {
     "data": {
      "image/png": "[encoded data removed]",
      "text/plain": [
       "<Figure size 1224x216 with 1 Axes>"
      ]
     },
     "metadata": {},
     "output_type": "display_data"
    },
    {
     "name": "stdout",
     "output_type": "stream",
     "text": [
      "\u001b[1mСтатистическое описание данных столбца registration_year\n"
     ]
    },
    {
     "data": {
      "text/plain": [
       "count    296370.000000\n",
       "mean       2002.579671\n",
       "std           6.440856\n",
       "min        1910.000000\n",
       "25%        1999.000000\n",
       "50%        2003.000000\n",
       "75%        2007.000000\n",
       "max        2018.000000\n",
       "Name: registration_year, dtype: float64"
      ]
     },
     "metadata": {},
     "output_type": "display_data"
    },
    {
     "name": "stdout",
     "output_type": "stream",
     "text": [
      "\u001b[1mКоличество уникальных значений столбца registration_year\n"
     ]
    },
    {
     "data": {
      "text/plain": [
       "1999    20236\n",
       "2006    19329\n",
       "2003    19304\n",
       "2005    19282\n",
       "2004    19197\n",
       "        ...  \n",
       "1923        1\n",
       "1931        1\n",
       "1949        1\n",
       "1946        1\n",
       "1910        1\n",
       "Name: registration_year, Length: 94, dtype: int64"
      ]
     },
     "metadata": {},
     "output_type": "display_data"
    }
   ],
   "source": [
    "# Изучим столбец registration_year после наших изменений.\n",
    "explore(data, 'registration_year', 100)"
   ]
  },
  {
   "cell_type": "code",
   "execution_count": 21,
   "metadata": {},
   "outputs": [],
   "source": [
    "# Данные соответствуют историческим. Обновим индексы. \n",
    "data = data.reset_index(drop=True)\n",
    "# Теперь рассмотрим столбец gearbox.\n",
    "nan_gearbox = data.loc[data['gearbox'] != data['gearbox']]\n",
    "# Меняем NaN на manual в столбце gearbox для автомобилей\n",
    "# старше 1946 г. Проверив несколько источников убеждаемся, что\n",
    "# в серийное производство машины с АКПП запустили в 1946 г.\n",
    "# До этого это были штучные экземпляры.\n",
    "data.loc[\n",
    "    (data['gearbox'] != data['gearbox']) &\n",
    "    (data['registration_year'] < 1946),['gearbox']\n",
    "] = data.loc[\n",
    "    (data['gearbox'] != data['gearbox']) & \n",
    "    (data['registration_year'] < 1946),['gearbox']\n",
    "].fillna('manual')\n",
    "# Теперь удалим NaN-значения из датасета по этому столбцу.\n",
    "# Заменить их корректно не получится, а указывать unknown нет смысла.\n",
    "# У нас довольно большая выборка, к тому же после выпуска нашего приложения\n",
    "# заполнение типа коробки передач будет обязательным пунктом в анкете объявления.\n",
    "data = data.dropna(subset=['gearbox']).reset_index(drop=True)"
   ]
  },
  {
   "cell_type": "code",
   "execution_count": 22,
   "metadata": {
    "scrolled": false
   },
   "outputs": [
    {
     "data": {
      "image/png": "[encoded data removed]",
      "text/plain": [
       "<Figure size 972x432 with 1 Axes>"
      ]
     },
     "metadata": {},
     "output_type": "display_data"
    },
    {
     "data": {
      "image/png": "[encoded data removed]",
      "text/plain": [
       "<Figure size 1224x216 with 1 Axes>"
      ]
     },
     "metadata": {},
     "output_type": "display_data"
    },
    {
     "name": "stdout",
     "output_type": "stream",
     "text": [
      "\u001b[1mСтатистическое описание данных столбца power\n"
     ]
    },
    {
     "data": {
      "text/plain": [
       "count    288078.000000\n",
       "mean        119.273478\n",
       "std         185.605407\n",
       "min           0.000000\n",
       "25%          75.000000\n",
       "50%         110.000000\n",
       "75%         150.000000\n",
       "max       20000.000000\n",
       "Name: power, dtype: float64"
      ]
     },
     "metadata": {},
     "output_type": "display_data"
    },
    {
     "name": "stdout",
     "output_type": "stream",
     "text": [
      "\u001b[1mКоличество уникальных значений столбца power\n"
     ]
    },
    {
     "data": {
      "text/plain": [
       "75       18975\n",
       "0        16411\n",
       "150      12995\n",
       "60       12014\n",
       "140      11849\n",
       "         ...  \n",
       "5420         1\n",
       "2729         1\n",
       "1704         1\n",
       "425          1\n",
       "15017        1\n",
       "Name: power, Length: 642, dtype: int64"
      ]
     },
     "metadata": {},
     "output_type": "display_data"
    }
   ],
   "source": [
    "# Изучим столбец power.\n",
    "explore(data, 'power', 200)"
   ]
  },
  {
   "cell_type": "code",
   "execution_count": 23,
   "metadata": {},
   "outputs": [
    {
     "name": "stdout",
     "output_type": "stream",
     "text": [
      "\u001b[1mТаблица № 24. Информация о датасете после удаления неверных значений в столбце power\n",
      "<class 'pandas.core.frame.DataFrame'>\n",
      "RangeIndex: 271522 entries, 0 to 271521\n",
      "Data columns (total 12 columns):\n",
      " #   Column             Non-Null Count   Dtype \n",
      "---  ------             --------------   ----- \n",
      " 0   price              271522 non-null  int64 \n",
      " 1   vehicle_type       271522 non-null  object\n",
      " 2   registration_year  271522 non-null  int64 \n",
      " 3   gearbox            271522 non-null  object\n",
      " 4   power              271522 non-null  int64 \n",
      " 5   model              263044 non-null  object\n",
      " 6   kilometer          271522 non-null  int64 \n",
      " 7   fuel_type          262428 non-null  object\n",
      " 8   brand              271522 non-null  object\n",
      " 9   not_repaired       238614 non-null  object\n",
      " 10  month_created      271522 non-null  int64 \n",
      " 11  postal_code        271522 non-null  int64 \n",
      "dtypes: int64(6), object(6)\n",
      "memory usage: 24.9+ MB\n"
     ]
    }
   ],
   "source": [
    "# Мощность двигателя по состоянию на 2016 год \n",
    "# не может быть выше 1479 л.с.\n",
    "# Также мощность не может быть равна нулю.\n",
    "# Избавимся от строк с неверными значениями.\n",
    "data = data.loc[\n",
    "    (data['power'] > 0) & \n",
    "    (data['power'] < 1479)].reset_index(drop=True)\n",
    "print('\\033[1m' + \n",
    "      'Таблица № 24. Информация о датасете после удаления неверных значений' +\n",
    "     ' в столбце power')\n",
    "data.info()"
   ]
  },
  {
   "cell_type": "code",
   "execution_count": 24,
   "metadata": {
    "scrolled": false
   },
   "outputs": [
    {
     "data": {
      "image/png": "[encoded data removed]",
      "text/plain": [
       "<Figure size 972x432 with 1 Axes>"
      ]
     },
     "metadata": {},
     "output_type": "display_data"
    },
    {
     "data": {
      "image/png": "[encoded data removed]",
      "text/plain": [
       "<Figure size 1224x216 with 1 Axes>"
      ]
     },
     "metadata": {},
     "output_type": "display_data"
    },
    {
     "name": "stdout",
     "output_type": "stream",
     "text": [
      "\u001b[1mСтатистическое описание данных столбца power\n"
     ]
    },
    {
     "data": {
      "text/plain": [
       "count    271522.000000\n",
       "mean        123.423177\n",
       "std          57.467634\n",
       "min           1.000000\n",
       "25%          82.000000\n",
       "50%         116.000000\n",
       "75%         150.000000\n",
       "max        1436.000000\n",
       "Name: power, dtype: float64"
      ]
     },
     "metadata": {},
     "output_type": "display_data"
    },
    {
     "name": "stdout",
     "output_type": "stream",
     "text": [
      "\u001b[1mКоличество уникальных значений столбца power\n"
     ]
    },
    {
     "data": {
      "text/plain": [
       "75      18975\n",
       "150     12995\n",
       "60      12014\n",
       "140     11849\n",
       "101     11419\n",
       "        ...  \n",
       "398         1\n",
       "1299        1\n",
       "1432        1\n",
       "409         1\n",
       "907         1\n",
       "Name: power, Length: 520, dtype: int64"
      ]
     },
     "metadata": {},
     "output_type": "display_data"
    }
   ],
   "source": [
    "# Взглянем теперь на этот столбец.\n",
    "explore(data, 'power', 200)"
   ]
  },
  {
   "cell_type": "code",
   "execution_count": 25,
   "metadata": {
    "scrolled": false
   },
   "outputs": [
    {
     "name": "stdout",
     "output_type": "stream",
     "text": [
      "\u001b[1mТаблица № 25. Количество уникальных значений в столбце model\n"
     ]
    },
    {
     "data": {
      "text/plain": [
       "golf                  22140\n",
       "other                 19000\n",
       "3er                   16564\n",
       "polo                   9191\n",
       "a4                     8514\n",
       "corsa                  8431\n",
       "passat                 8359\n",
       "astra                  8141\n",
       "c_klasse               7109\n",
       "5er                    6938\n",
       "e_klasse               5785\n",
       "a3                     4890\n",
       "a6                     4830\n",
       "focus                  4727\n",
       "2_reihe                4134\n",
       "fiesta                 4067\n",
       "transporter            3934\n",
       "1er                    3191\n",
       "a_klasse               3139\n",
       "twingo                 3115\n",
       "fortwo                 3101\n",
       "vectra                 3022\n",
       "touran                 2785\n",
       "3_reihe                2726\n",
       "mondeo                 2640\n",
       "clio                   2531\n",
       "zafira                 2380\n",
       "punto                  2223\n",
       "megane                 2150\n",
       "ibiza                  2114\n",
       "lupo                   1972\n",
       "octavia                1880\n",
       "fabia                  1830\n",
       "cooper                 1781\n",
       "ka                     1646\n",
       "clk                    1573\n",
       "x_reihe                1402\n",
       "caddy                  1228\n",
       "micra                  1179\n",
       "leon                   1136\n",
       "i_reihe                1135\n",
       "sharan                 1118\n",
       "slk                    1111\n",
       "80                     1091\n",
       "6_reihe                1050\n",
       "scenic                 1015\n",
       "omega                  1000\n",
       "civic                   992\n",
       "laguna                  981\n",
       "tt                      979\n",
       "1_reihe                 910\n",
       "mx_reihe                898\n",
       "yaris                   890\n",
       "galaxy                  883\n",
       "meriva                  859\n",
       "7er                     852\n",
       "m_klasse                847\n",
       "500                     808\n",
       "one                     795\n",
       "bora                    753\n",
       "b_klasse                734\n",
       "s_klasse                711\n",
       "vito                    706\n",
       "beetle                  704\n",
       "z_reihe                 673\n",
       "kangoo                  656\n",
       "berlingo                647\n",
       "arosa                   636\n",
       "colt                    631\n",
       "fox                     621\n",
       "tiguan                  610\n",
       "insignia                590\n",
       "c_max                   584\n",
       "tigra                   576\n",
       "transit                 569\n",
       "v40                     564\n",
       "a1                      561\n",
       "v70                     560\n",
       "panda                   545\n",
       "corolla                 545\n",
       "sprinter                543\n",
       "4_reihe                 537\n",
       "swift                   534\n",
       "scirocco                525\n",
       "avensis                 513\n",
       "grand                   509\n",
       "a5                      506\n",
       "touareg                 500\n",
       "eos                     486\n",
       "qashqai                 485\n",
       "escort                  472\n",
       "156                     471\n",
       "primera                 454\n",
       "147                     452\n",
       "a8                      449\n",
       "stilo                   445\n",
       "c3                      431\n",
       "espace                  422\n",
       "almera                  422\n",
       "c5                      422\n",
       "signum                  416\n",
       "s_max                   406\n",
       "5_reihe                 393\n",
       "seicento                393\n",
       "c4                      391\n",
       "aygo                    358\n",
       "sl                      342\n",
       "c1                      341\n",
       "superb                  338\n",
       "matiz                   330\n",
       "100                     329\n",
       "up                      329\n",
       "getz                    325\n",
       "c2                      324\n",
       "picanto                 318\n",
       "altea                   316\n",
       "agila                   314\n",
       "forfour                 308\n",
       "rav                     307\n",
       "a2                      307\n",
       "alhambra                306\n",
       "combo                   302\n",
       "accord                  299\n",
       "kuga                    299\n",
       "sorento                 298\n",
       "cr_reihe                296\n",
       "ducato                  295\n",
       "santa                   283\n",
       "rio                     281\n",
       "carisma                 280\n",
       "verso                   278\n",
       "jetta                   274\n",
       "logan                   274\n",
       "jazz                    266\n",
       "vivaro                  262\n",
       "sandero                 261\n",
       "doblo                   256\n",
       "xc_reihe                252\n",
       "cordoba                 251\n",
       "modus                   251\n",
       "kaefer                  249\n",
       "fusion                  249\n",
       "roomster                240\n",
       "ptcruiser               238\n",
       "v50                     236\n",
       "voyager                 230\n",
       "ceed                    228\n",
       "toledo                  228\n",
       "sportage                219\n",
       "viano                   218\n",
       "cuore                   218\n",
       "kadett                  215\n",
       "cayenne                 212\n",
       "auris                   205\n",
       "tucson                  204\n",
       "boxster                 201\n",
       "bravo                   196\n",
       "carnival                194\n",
       "159                     192\n",
       "cl                      191\n",
       "clubman                 186\n",
       "phaeton                 186\n",
       "duster                  185\n",
       "jimny                   182\n",
       "x_trail                 181\n",
       "q7                      180\n",
       "c_reihe                 180\n",
       "pajero                  178\n",
       "impreza                 177\n",
       "freelander              176\n",
       "601                     176\n",
       "galant                  170\n",
       "yeti                    170\n",
       "spider                  161\n",
       "lancer                  160\n",
       "captiva                 156\n",
       "850                     155\n",
       "roadster                147\n",
       "ypsilon                 143\n",
       "s60                     140\n",
       "x_type                  140\n",
       "calibra                 136\n",
       "mustang                 134\n",
       "legacy                  129\n",
       "6er                     129\n",
       "cherokee                128\n",
       "300c                    122\n",
       "rx_reihe                121\n",
       "v_klasse                120\n",
       "cc                      120\n",
       "s_type                  113\n",
       "sirion                  112\n",
       "spark                   112\n",
       "note                    111\n",
       "forester                110\n",
       "outlander               106\n",
       "m_reihe                 103\n",
       "niva                     99\n",
       "exeo                     98\n",
       "aveo                     95\n",
       "q5                       93\n",
       "juke                     91\n",
       "justy                    90\n",
       "citigo                   88\n",
       "900                      88\n",
       "antara                   86\n",
       "wrangler                 84\n",
       "mii                      80\n",
       "navara                   80\n",
       "g_klasse                 75\n",
       "kalos                    74\n",
       "discovery                70\n",
       "90                       68\n",
       "range_rover              67\n",
       "r19                      65\n",
       "defender                 63\n",
       "glk                      58\n",
       "cx_reihe                 57\n",
       "crossfire                57\n",
       "range_rover_sport        52\n",
       "911                      45\n",
       "lanos                    41\n",
       "v60                      39\n",
       "nubira                   37\n",
       "croma                    36\n",
       "lybra                    33\n",
       "terios                   30\n",
       "lodgy                    30\n",
       "move                     28\n",
       "b_max                    24\n",
       "145                      24\n",
       "delta                    23\n",
       "musa                     20\n",
       "9000                     19\n",
       "materia                  17\n",
       "charade                  16\n",
       "200                      15\n",
       "kappa                    13\n",
       "q3                       12\n",
       "gl                       12\n",
       "amarok                   11\n",
       "kalina                    5\n",
       "samara                    4\n",
       "i3                        4\n",
       "elefantino                4\n",
       "serie_2                   4\n",
       "serie_3                   3\n",
       "rangerover                2\n",
       "range_rover_evoque        2\n",
       "Name: model, dtype: int64"
      ]
     },
     "metadata": {},
     "output_type": "display_data"
    }
   ],
   "source": [
    "# Изучим столбец model.\n",
    "pd.set_option(\"max_rows\", None)\n",
    "print('\\033[1m' + \n",
    "      'Таблица № 25. Количество уникальных значений в столбце model')\n",
    "display(data['model'].value_counts())\n",
    "# Мы можем заменить NaN-значения в этом столбце\n",
    "# словом other.\n",
    "data['model'] = data['model'].fillna('other')"
   ]
  },
  {
   "cell_type": "code",
   "execution_count": 26,
   "metadata": {},
   "outputs": [
    {
     "data": {
      "image/png": "[encoded data removed]",
      "text/plain": [
       "<Figure size 972x432 with 1 Axes>"
      ]
     },
     "metadata": {},
     "output_type": "display_data"
    },
    {
     "data": {
      "image/png": "[encoded data removed]",
      "text/plain": [
       "<Figure size 1224x216 with 1 Axes>"
      ]
     },
     "metadata": {},
     "output_type": "display_data"
    },
    {
     "name": "stdout",
     "output_type": "stream",
     "text": [
      "\u001b[1mСтатистическое описание данных столбца kilometer\n"
     ]
    },
    {
     "data": {
      "text/plain": [
       "count    271522.000000\n",
       "mean     127744.050206\n",
       "std       36882.490909\n",
       "min        5000.000000\n",
       "25%      125000.000000\n",
       "50%      150000.000000\n",
       "75%      150000.000000\n",
       "max      150000.000000\n",
       "Name: kilometer, dtype: float64"
      ]
     },
     "metadata": {},
     "output_type": "display_data"
    },
    {
     "name": "stdout",
     "output_type": "stream",
     "text": [
      "\u001b[1mКоличество уникальных значений столбца kilometer\n"
     ]
    },
    {
     "data": {
      "text/plain": [
       "150000    177525\n",
       "125000     29766\n",
       "100000     12072\n",
       "90000       9778\n",
       "80000       8599\n",
       "70000       7498\n",
       "60000       6599\n",
       "50000       5461\n",
       "40000       4360\n",
       "30000       3725\n",
       "20000       3038\n",
       "5000        2218\n",
       "10000        883\n",
       "Name: kilometer, dtype: int64"
      ]
     },
     "metadata": {},
     "output_type": "display_data"
    }
   ],
   "source": [
    "# Изучим столбец kilometer.\n",
    "explore(data, 'kilometer', 200)"
   ]
  },
  {
   "cell_type": "code",
   "execution_count": 27,
   "metadata": {},
   "outputs": [
    {
     "name": "stdout",
     "output_type": "stream",
     "text": [
      "\u001b[1mТаблица № 26. Информация о датасете после удаления пропущенных значений в столбце kilometer\n",
      "<class 'pandas.core.frame.DataFrame'>\n",
      "Int64Index: 271522 entries, 0 to 271521\n",
      "Data columns (total 12 columns):\n",
      " #   Column             Non-Null Count   Dtype \n",
      "---  ------             --------------   ----- \n",
      " 0   price              271522 non-null  int64 \n",
      " 1   vehicle_type       271522 non-null  object\n",
      " 2   registration_year  271522 non-null  int64 \n",
      " 3   gearbox            271522 non-null  object\n",
      " 4   power              271522 non-null  int64 \n",
      " 5   model              271522 non-null  object\n",
      " 6   kilometer          271522 non-null  int64 \n",
      " 7   fuel_type          262428 non-null  object\n",
      " 8   brand              271522 non-null  object\n",
      " 9   not_repaired       238614 non-null  object\n",
      " 10  month_created      271522 non-null  int64 \n",
      " 11  postal_code        271522 non-null  int64 \n",
      "dtypes: int64(6), object(6)\n",
      "memory usage: 26.9+ MB\n"
     ]
    }
   ],
   "source": [
    "# Просто удалим пропущенные значения в столбце kilometer.\n",
    "data = data.dropna(subset=['kilometer'])\n",
    "print('\\033[1m' + \n",
    "      'Таблица № 26. Информация о датасете после удаления' + \n",
    "      ' пропущенных значений в столбце kilometer')\n",
    "data.info()"
   ]
  },
  {
   "cell_type": "code",
   "execution_count": 28,
   "metadata": {},
   "outputs": [
    {
     "name": "stdout",
     "output_type": "stream",
     "text": [
      "\u001b[1mТаблица № 27. Количество уникальных значений в столбце fuel_type\n"
     ]
    },
    {
     "data": {
      "text/plain": [
       "petrol      172008\n",
       "gasoline     85147\n",
       "lpg           4478\n",
       "cng            454\n",
       "hybrid         196\n",
       "other           77\n",
       "electric        68\n",
       "Name: fuel_type, dtype: int64"
      ]
     },
     "metadata": {},
     "output_type": "display_data"
    },
    {
     "name": "stdout",
     "output_type": "stream",
     "text": [
      "\u001b[1mТаблица № 28. Информация о датасете после замены пропущенных значений в столбце fuel_type\n",
      "<class 'pandas.core.frame.DataFrame'>\n",
      "Int64Index: 271522 entries, 0 to 271521\n",
      "Data columns (total 12 columns):\n",
      " #   Column             Non-Null Count   Dtype \n",
      "---  ------             --------------   ----- \n",
      " 0   price              271522 non-null  int64 \n",
      " 1   vehicle_type       271522 non-null  object\n",
      " 2   registration_year  271522 non-null  int64 \n",
      " 3   gearbox            271522 non-null  object\n",
      " 4   power              271522 non-null  int64 \n",
      " 5   model              271522 non-null  object\n",
      " 6   kilometer          271522 non-null  int64 \n",
      " 7   fuel_type          271522 non-null  object\n",
      " 8   brand              271522 non-null  object\n",
      " 9   not_repaired       238614 non-null  object\n",
      " 10  month_created      271522 non-null  int64 \n",
      " 11  postal_code        271522 non-null  int64 \n",
      "dtypes: int64(6), object(6)\n",
      "memory usage: 26.9+ MB\n"
     ]
    }
   ],
   "source": [
    "# Изучим столбец fuel_type.\n",
    "print('\\033[1m' + \n",
    "      'Таблица № 27. Количество уникальных значений в столбце fuel_type')\n",
    "display(data['fuel_type'].value_counts())\n",
    "# Заменим NaN-значения на other.\n",
    "data['fuel_type'] = data['fuel_type'].fillna('other')\n",
    "print('\\033[1m' + \n",
    "      'Таблица № 28. Информация о датасете после замены' + \n",
    "      ' пропущенных значений в столбце fuel_type')\n",
    "data.info()"
   ]
  },
  {
   "cell_type": "code",
   "execution_count": 29,
   "metadata": {},
   "outputs": [
    {
     "name": "stdout",
     "output_type": "stream",
     "text": [
      "\u001b[1mТаблица № 29. Количество уникальных значений в столбце brand\n"
     ]
    },
    {
     "data": {
      "text/plain": [
       "volkswagen        58082\n",
       "bmw               30823\n",
       "opel              28413\n",
       "mercedes_benz     26259\n",
       "audi              24365\n",
       "ford              18122\n",
       "renault           12259\n",
       "peugeot            8641\n",
       "fiat               6685\n",
       "seat               5308\n",
       "skoda              4766\n",
       "mazda              4343\n",
       "citroen            3920\n",
       "toyota             3848\n",
       "smart              3694\n",
       "nissan             3649\n",
       "hyundai            2971\n",
       "mini               2861\n",
       "volvo              2658\n",
       "mitsubishi         2197\n",
       "honda              2176\n",
       "kia                1986\n",
       "alfa_romeo         1799\n",
       "suzuki             1790\n",
       "sonstige_autos     1688\n",
       "chevrolet          1413\n",
       "chrysler           1097\n",
       "dacia               780\n",
       "porsche             599\n",
       "subaru              578\n",
       "jeep                567\n",
       "daihatsu            518\n",
       "land_rover          456\n",
       "saab                443\n",
       "jaguar              429\n",
       "daewoo              339\n",
       "lancia              328\n",
       "rover               299\n",
       "trabant             220\n",
       "lada                153\n",
       "Name: brand, dtype: int64"
      ]
     },
     "metadata": {},
     "output_type": "display_data"
    }
   ],
   "source": [
    "# Изучим столбец brand.\n",
    "print('\\033[1m' + \n",
    "      'Таблица № 29. Количество уникальных значений в столбце brand')\n",
    "display(data['brand'].value_counts())\n",
    "# Для удобства заменим немецкое sonstige_autos\n",
    "# на английское other.\n",
    "data['brand'] = data['brand'].replace(to_replace='sonstige_autos', value='other')"
   ]
  },
  {
   "cell_type": "code",
   "execution_count": 30,
   "metadata": {},
   "outputs": [
    {
     "name": "stdout",
     "output_type": "stream",
     "text": [
      "\u001b[1mТаблица № 30. Количество уникальных значений в столбце not_repaired\n"
     ]
    },
    {
     "data": {
      "text/plain": [
       "no     215453\n",
       "yes     23161\n",
       "Name: not_repaired, dtype: int64"
      ]
     },
     "metadata": {},
     "output_type": "display_data"
    }
   ],
   "source": [
    "# Изучим столбец not_repaired.\n",
    "print('\\033[1m' + \n",
    "      'Таблица № 30. Количество уникальных значений в столбце not_repaired')\n",
    "display(data['not_repaired'].value_counts())\n",
    "# Заменим NaN-значения на unknown.\n",
    "data['not_repaired'] = data['not_repaired'].fillna('unknown')"
   ]
  },
  {
   "cell_type": "code",
   "execution_count": 31,
   "metadata": {},
   "outputs": [
    {
     "name": "stdout",
     "output_type": "stream",
     "text": [
      "\u001b[1mТаблица № 31. Количество уникальных значений в столбце postal_code\n"
     ]
    },
    {
     "data": {
      "text/plain": [
       "10115    797\n",
       "65428    464\n",
       "60311    257\n",
       "66333    240\n",
       "52525    230\n",
       "        ... \n",
       "79685      1\n",
       "55499      1\n",
       "38877      1\n",
       "31088      1\n",
       "67311      1\n",
       "Name: postal_code, Length: 8087, dtype: int64"
      ]
     },
     "metadata": {},
     "output_type": "display_data"
    }
   ],
   "source": [
    "pd.set_option(\"max_rows\", 20)\n",
    "# Изучим столбец postal_code.\n",
    "print('\\033[1m' + \n",
    "      'Таблица № 31. Количество уникальных значений в столбце postal_code')\n",
    "display(data['postal_code'].value_counts())"
   ]
  },
  {
   "cell_type": "code",
   "execution_count": 32,
   "metadata": {},
   "outputs": [
    {
     "name": "stdout",
     "output_type": "stream",
     "text": [
      "\u001b[1mТаблица № 32. Обновленный датасет\n"
     ]
    },
    {
     "data": {
      "text/html": [
       "<div>\n",
       "<style scoped>\n",
       "    .dataframe tbody tr th:only-of-type {\n",
       "        vertical-align: middle;\n",
       "    }\n",
       "\n",
       "    .dataframe tbody tr th {\n",
       "        vertical-align: top;\n",
       "    }\n",
       "\n",
       "    .dataframe thead th {\n",
       "        text-align: right;\n",
       "    }\n",
       "</style>\n",
       "<table border=\"1\" class=\"dataframe\">\n",
       "  <thead>\n",
       "    <tr style=\"text-align: right;\">\n",
       "      <th></th>\n",
       "      <th>price</th>\n",
       "      <th>vehicle_type</th>\n",
       "      <th>registration_year</th>\n",
       "      <th>gearbox</th>\n",
       "      <th>power</th>\n",
       "      <th>model</th>\n",
       "      <th>kilometer</th>\n",
       "      <th>fuel_type</th>\n",
       "      <th>brand</th>\n",
       "      <th>not_repaired</th>\n",
       "      <th>month_created</th>\n",
       "      <th>postal_code</th>\n",
       "    </tr>\n",
       "  </thead>\n",
       "  <tbody>\n",
       "    <tr>\n",
       "      <th>0</th>\n",
       "      <td>18300</td>\n",
       "      <td>coupe</td>\n",
       "      <td>2011</td>\n",
       "      <td>manual</td>\n",
       "      <td>190</td>\n",
       "      <td>other</td>\n",
       "      <td>125000</td>\n",
       "      <td>gasoline</td>\n",
       "      <td>audi</td>\n",
       "      <td>yes</td>\n",
       "      <td>3</td>\n",
       "      <td>66954</td>\n",
       "    </tr>\n",
       "    <tr>\n",
       "      <th>1</th>\n",
       "      <td>9800</td>\n",
       "      <td>suv</td>\n",
       "      <td>2004</td>\n",
       "      <td>auto</td>\n",
       "      <td>163</td>\n",
       "      <td>grand</td>\n",
       "      <td>125000</td>\n",
       "      <td>gasoline</td>\n",
       "      <td>jeep</td>\n",
       "      <td>unknown</td>\n",
       "      <td>3</td>\n",
       "      <td>90480</td>\n",
       "    </tr>\n",
       "    <tr>\n",
       "      <th>2</th>\n",
       "      <td>1500</td>\n",
       "      <td>small</td>\n",
       "      <td>2001</td>\n",
       "      <td>manual</td>\n",
       "      <td>75</td>\n",
       "      <td>golf</td>\n",
       "      <td>150000</td>\n",
       "      <td>petrol</td>\n",
       "      <td>volkswagen</td>\n",
       "      <td>no</td>\n",
       "      <td>3</td>\n",
       "      <td>91074</td>\n",
       "    </tr>\n",
       "    <tr>\n",
       "      <th>3</th>\n",
       "      <td>3600</td>\n",
       "      <td>small</td>\n",
       "      <td>2008</td>\n",
       "      <td>manual</td>\n",
       "      <td>69</td>\n",
       "      <td>fabia</td>\n",
       "      <td>90000</td>\n",
       "      <td>gasoline</td>\n",
       "      <td>skoda</td>\n",
       "      <td>no</td>\n",
       "      <td>3</td>\n",
       "      <td>60437</td>\n",
       "    </tr>\n",
       "    <tr>\n",
       "      <th>4</th>\n",
       "      <td>650</td>\n",
       "      <td>sedan</td>\n",
       "      <td>1995</td>\n",
       "      <td>manual</td>\n",
       "      <td>102</td>\n",
       "      <td>3er</td>\n",
       "      <td>150000</td>\n",
       "      <td>petrol</td>\n",
       "      <td>bmw</td>\n",
       "      <td>yes</td>\n",
       "      <td>4</td>\n",
       "      <td>33775</td>\n",
       "    </tr>\n",
       "    <tr>\n",
       "      <th>...</th>\n",
       "      <td>...</td>\n",
       "      <td>...</td>\n",
       "      <td>...</td>\n",
       "      <td>...</td>\n",
       "      <td>...</td>\n",
       "      <td>...</td>\n",
       "      <td>...</td>\n",
       "      <td>...</td>\n",
       "      <td>...</td>\n",
       "      <td>...</td>\n",
       "      <td>...</td>\n",
       "      <td>...</td>\n",
       "    </tr>\n",
       "    <tr>\n",
       "      <th>271517</th>\n",
       "      <td>3999</td>\n",
       "      <td>wagon</td>\n",
       "      <td>2005</td>\n",
       "      <td>manual</td>\n",
       "      <td>3</td>\n",
       "      <td>3er</td>\n",
       "      <td>150000</td>\n",
       "      <td>gasoline</td>\n",
       "      <td>bmw</td>\n",
       "      <td>no</td>\n",
       "      <td>4</td>\n",
       "      <td>81825</td>\n",
       "    </tr>\n",
       "    <tr>\n",
       "      <th>271518</th>\n",
       "      <td>3200</td>\n",
       "      <td>sedan</td>\n",
       "      <td>2004</td>\n",
       "      <td>manual</td>\n",
       "      <td>225</td>\n",
       "      <td>leon</td>\n",
       "      <td>150000</td>\n",
       "      <td>petrol</td>\n",
       "      <td>seat</td>\n",
       "      <td>yes</td>\n",
       "      <td>3</td>\n",
       "      <td>96465</td>\n",
       "    </tr>\n",
       "    <tr>\n",
       "      <th>271519</th>\n",
       "      <td>1199</td>\n",
       "      <td>convertible</td>\n",
       "      <td>2000</td>\n",
       "      <td>auto</td>\n",
       "      <td>101</td>\n",
       "      <td>fortwo</td>\n",
       "      <td>125000</td>\n",
       "      <td>petrol</td>\n",
       "      <td>smart</td>\n",
       "      <td>no</td>\n",
       "      <td>3</td>\n",
       "      <td>26135</td>\n",
       "    </tr>\n",
       "    <tr>\n",
       "      <th>271520</th>\n",
       "      <td>9200</td>\n",
       "      <td>bus</td>\n",
       "      <td>1996</td>\n",
       "      <td>manual</td>\n",
       "      <td>102</td>\n",
       "      <td>transporter</td>\n",
       "      <td>150000</td>\n",
       "      <td>gasoline</td>\n",
       "      <td>volkswagen</td>\n",
       "      <td>no</td>\n",
       "      <td>3</td>\n",
       "      <td>87439</td>\n",
       "    </tr>\n",
       "    <tr>\n",
       "      <th>271521</th>\n",
       "      <td>3400</td>\n",
       "      <td>wagon</td>\n",
       "      <td>2002</td>\n",
       "      <td>manual</td>\n",
       "      <td>100</td>\n",
       "      <td>golf</td>\n",
       "      <td>150000</td>\n",
       "      <td>gasoline</td>\n",
       "      <td>volkswagen</td>\n",
       "      <td>unknown</td>\n",
       "      <td>3</td>\n",
       "      <td>40764</td>\n",
       "    </tr>\n",
       "  </tbody>\n",
       "</table>\n",
       "<p>271522 rows × 12 columns</p>\n",
       "</div>"
      ],
      "text/plain": [
       "        price vehicle_type  registration_year gearbox  power        model  \\\n",
       "0       18300        coupe               2011  manual    190        other   \n",
       "1        9800          suv               2004    auto    163        grand   \n",
       "2        1500        small               2001  manual     75         golf   \n",
       "3        3600        small               2008  manual     69        fabia   \n",
       "4         650        sedan               1995  manual    102          3er   \n",
       "...       ...          ...                ...     ...    ...          ...   \n",
       "271517   3999        wagon               2005  manual      3          3er   \n",
       "271518   3200        sedan               2004  manual    225         leon   \n",
       "271519   1199  convertible               2000    auto    101       fortwo   \n",
       "271520   9200          bus               1996  manual    102  transporter   \n",
       "271521   3400        wagon               2002  manual    100         golf   \n",
       "\n",
       "        kilometer fuel_type       brand not_repaired  month_created  \\\n",
       "0          125000  gasoline        audi          yes              3   \n",
       "1          125000  gasoline        jeep      unknown              3   \n",
       "2          150000    petrol  volkswagen           no              3   \n",
       "3           90000  gasoline       skoda           no              3   \n",
       "4          150000    petrol         bmw          yes              4   \n",
       "...           ...       ...         ...          ...            ...   \n",
       "271517     150000  gasoline         bmw           no              4   \n",
       "271518     150000    petrol        seat          yes              3   \n",
       "271519     125000    petrol       smart           no              3   \n",
       "271520     150000  gasoline  volkswagen           no              3   \n",
       "271521     150000  gasoline  volkswagen      unknown              3   \n",
       "\n",
       "        postal_code  \n",
       "0             66954  \n",
       "1             90480  \n",
       "2             91074  \n",
       "3             60437  \n",
       "4             33775  \n",
       "...             ...  \n",
       "271517        81825  \n",
       "271518        96465  \n",
       "271519        26135  \n",
       "271520        87439  \n",
       "271521        40764  \n",
       "\n",
       "[271522 rows x 12 columns]"
      ]
     },
     "metadata": {},
     "output_type": "display_data"
    },
    {
     "name": "stdout",
     "output_type": "stream",
     "text": [
      "\u001b[1mТаблица № 33. Информация об обновленном датасете\n",
      "<class 'pandas.core.frame.DataFrame'>\n",
      "Int64Index: 271522 entries, 0 to 271521\n",
      "Data columns (total 12 columns):\n",
      " #   Column             Non-Null Count   Dtype \n",
      "---  ------             --------------   ----- \n",
      " 0   price              271522 non-null  int64 \n",
      " 1   vehicle_type       271522 non-null  object\n",
      " 2   registration_year  271522 non-null  int64 \n",
      " 3   gearbox            271522 non-null  object\n",
      " 4   power              271522 non-null  int64 \n",
      " 5   model              271522 non-null  object\n",
      " 6   kilometer          271522 non-null  int64 \n",
      " 7   fuel_type          271522 non-null  object\n",
      " 8   brand              271522 non-null  object\n",
      " 9   not_repaired       271522 non-null  object\n",
      " 10  month_created      271522 non-null  int64 \n",
      " 11  postal_code        271522 non-null  int64 \n",
      "dtypes: int64(6), object(6)\n",
      "memory usage: 26.9+ MB\n"
     ]
    },
    {
     "data": {
      "text/plain": [
       "None"
      ]
     },
     "metadata": {},
     "output_type": "display_data"
    }
   ],
   "source": [
    "# Взглянем еще раз на наши данные.\n",
    "print('\\033[1m' + \n",
    "      'Таблица № 32. Обновленный датасет')\n",
    "display(data)\n",
    "print('\\033[1m' + \n",
    "      'Таблица № 33. Информация об обновленном датасете')\n",
    "display(data.info())"
   ]
  },
  {
   "cell_type": "markdown",
   "metadata": {},
   "source": [
    "### Вывод. Предобработка данных"
   ]
  },
  {
   "cell_type": "markdown",
   "metadata": {},
   "source": [
    "Подведем итоги предобработки данных\n",
    "1. Открыты и изучены данные.\n",
    "2. Изменены названия столбцов: слова разделены знаками нижнего подчеркивания, все буквы — строчные.\n",
    "3. Удалены столбцы, которые не могут или практически не влияют по смыслу на формирование цены: *date_crawled*, *registration_month*, *last_seen*.\n",
    "4. Формат данных в столбце *date_created* приведен к `DateTime`. Из всей даты оставили только месяц — по смыслу модели может пригодиться только месяц. Название столбца изменено на *month_created*.\n",
    "5. Создана функция `explore` для статистического анализа данных с применением библиотеки **Seaborn**\n",
    "6. Удалены нулевые значения в столбце *price*. Отброшены строки с ценами меньше 390 евро. Предварительно проанализированы объявления о продаже автомобилей с пробегом на сайтах auto.ru и avito.ru: люде не продают автомобили меньше, чем за 390 евро (по курсу 2016 года).\n",
    "7. В столбце *vehicle_type* есть 8 типов кузовов: sedan — седан, small — хэтчбэк, wagon — универсал, bus — автобус/микроавтобус, convertible — кабриолет, coupe — купе (двухдверная машина с отдельным багажником), suv — паркетники, other — другие виды кузовов. Корректно заменить `NaN`-значения в данном столбце невозможно. Строки с `NaN`-значениями удалены.\n",
    "8. Изучен столбец *registration_year*. Выявлены некорректные данные о годах регистрации автомобилей, не соответствующие историческим данным. Строки с такими данными удалены. Также удалены `NaN`-значения, которые невозможно корректно заменить.\n",
    "9. Часть пропущенных значений в столбце gearbox (до 1946 г.) заменена на manual, как на наиболее вероятный вариант, учитывая информацию из источников в интернете, говорящих о том, что первая серийная АКПП была выпущена в 1946 году. Остальные строки с `NaN`-значениями удалены.\n",
    "10. В столбце power удалены `NaN`-значения с мощностью равной 0, а также со значениями превышающими 1479 л.с. (максимум по состоянию на 2016 г. согласно википедии).\n",
    "11. В столбце *model* `NaN`-значения заменены на other.\n",
    "12. В столбце *kilometer* удалены пропущенные значения.\n",
    "13. В столбце *fuel_type* `NaN`-значения заменены на *other*.\n",
    "14. В столбце *brand* заменены значения на немецком языке sonstige_autos на английское other.\n",
    "15. В столбце *not_repaired* `NaN`-значения заменены на unknown."
   ]
  },
  {
   "cell_type": "code",
   "execution_count": 33,
   "metadata": {},
   "outputs": [
    {
     "name": "stdout",
     "output_type": "stream",
     "text": [
      "\u001b[1mТаблица № 34. Обновленный датасет с примененной техникой OHE\n"
     ]
    },
    {
     "data": {
      "text/html": [
       "<div>\n",
       "<style scoped>\n",
       "    .dataframe tbody tr th:only-of-type {\n",
       "        vertical-align: middle;\n",
       "    }\n",
       "\n",
       "    .dataframe tbody tr th {\n",
       "        vertical-align: top;\n",
       "    }\n",
       "\n",
       "    .dataframe thead th {\n",
       "        text-align: right;\n",
       "    }\n",
       "</style>\n",
       "<table border=\"1\" class=\"dataframe\">\n",
       "  <thead>\n",
       "    <tr style=\"text-align: right;\">\n",
       "      <th></th>\n",
       "      <th>price</th>\n",
       "      <th>registration_year</th>\n",
       "      <th>power</th>\n",
       "      <th>kilometer</th>\n",
       "      <th>month_created</th>\n",
       "      <th>postal_code</th>\n",
       "      <th>vehicle_type_convertible</th>\n",
       "      <th>vehicle_type_coupe</th>\n",
       "      <th>vehicle_type_other</th>\n",
       "      <th>vehicle_type_sedan</th>\n",
       "      <th>...</th>\n",
       "      <th>brand_skoda</th>\n",
       "      <th>brand_smart</th>\n",
       "      <th>brand_subaru</th>\n",
       "      <th>brand_suzuki</th>\n",
       "      <th>brand_toyota</th>\n",
       "      <th>brand_trabant</th>\n",
       "      <th>brand_volkswagen</th>\n",
       "      <th>brand_volvo</th>\n",
       "      <th>not_repaired_unknown</th>\n",
       "      <th>not_repaired_yes</th>\n",
       "    </tr>\n",
       "  </thead>\n",
       "  <tbody>\n",
       "    <tr>\n",
       "      <th>0</th>\n",
       "      <td>18300</td>\n",
       "      <td>2011</td>\n",
       "      <td>190</td>\n",
       "      <td>125000</td>\n",
       "      <td>3</td>\n",
       "      <td>66954</td>\n",
       "      <td>0</td>\n",
       "      <td>1</td>\n",
       "      <td>0</td>\n",
       "      <td>0</td>\n",
       "      <td>...</td>\n",
       "      <td>0</td>\n",
       "      <td>0</td>\n",
       "      <td>0</td>\n",
       "      <td>0</td>\n",
       "      <td>0</td>\n",
       "      <td>0</td>\n",
       "      <td>0</td>\n",
       "      <td>0</td>\n",
       "      <td>0</td>\n",
       "      <td>1</td>\n",
       "    </tr>\n",
       "    <tr>\n",
       "      <th>1</th>\n",
       "      <td>9800</td>\n",
       "      <td>2004</td>\n",
       "      <td>163</td>\n",
       "      <td>125000</td>\n",
       "      <td>3</td>\n",
       "      <td>90480</td>\n",
       "      <td>0</td>\n",
       "      <td>0</td>\n",
       "      <td>0</td>\n",
       "      <td>0</td>\n",
       "      <td>...</td>\n",
       "      <td>0</td>\n",
       "      <td>0</td>\n",
       "      <td>0</td>\n",
       "      <td>0</td>\n",
       "      <td>0</td>\n",
       "      <td>0</td>\n",
       "      <td>0</td>\n",
       "      <td>0</td>\n",
       "      <td>1</td>\n",
       "      <td>0</td>\n",
       "    </tr>\n",
       "    <tr>\n",
       "      <th>2</th>\n",
       "      <td>1500</td>\n",
       "      <td>2001</td>\n",
       "      <td>75</td>\n",
       "      <td>150000</td>\n",
       "      <td>3</td>\n",
       "      <td>91074</td>\n",
       "      <td>0</td>\n",
       "      <td>0</td>\n",
       "      <td>0</td>\n",
       "      <td>0</td>\n",
       "      <td>...</td>\n",
       "      <td>0</td>\n",
       "      <td>0</td>\n",
       "      <td>0</td>\n",
       "      <td>0</td>\n",
       "      <td>0</td>\n",
       "      <td>0</td>\n",
       "      <td>1</td>\n",
       "      <td>0</td>\n",
       "      <td>0</td>\n",
       "      <td>0</td>\n",
       "    </tr>\n",
       "    <tr>\n",
       "      <th>3</th>\n",
       "      <td>3600</td>\n",
       "      <td>2008</td>\n",
       "      <td>69</td>\n",
       "      <td>90000</td>\n",
       "      <td>3</td>\n",
       "      <td>60437</td>\n",
       "      <td>0</td>\n",
       "      <td>0</td>\n",
       "      <td>0</td>\n",
       "      <td>0</td>\n",
       "      <td>...</td>\n",
       "      <td>1</td>\n",
       "      <td>0</td>\n",
       "      <td>0</td>\n",
       "      <td>0</td>\n",
       "      <td>0</td>\n",
       "      <td>0</td>\n",
       "      <td>0</td>\n",
       "      <td>0</td>\n",
       "      <td>0</td>\n",
       "      <td>0</td>\n",
       "    </tr>\n",
       "    <tr>\n",
       "      <th>4</th>\n",
       "      <td>650</td>\n",
       "      <td>1995</td>\n",
       "      <td>102</td>\n",
       "      <td>150000</td>\n",
       "      <td>4</td>\n",
       "      <td>33775</td>\n",
       "      <td>0</td>\n",
       "      <td>0</td>\n",
       "      <td>0</td>\n",
       "      <td>1</td>\n",
       "      <td>...</td>\n",
       "      <td>0</td>\n",
       "      <td>0</td>\n",
       "      <td>0</td>\n",
       "      <td>0</td>\n",
       "      <td>0</td>\n",
       "      <td>0</td>\n",
       "      <td>0</td>\n",
       "      <td>0</td>\n",
       "      <td>0</td>\n",
       "      <td>1</td>\n",
       "    </tr>\n",
       "    <tr>\n",
       "      <th>...</th>\n",
       "      <td>...</td>\n",
       "      <td>...</td>\n",
       "      <td>...</td>\n",
       "      <td>...</td>\n",
       "      <td>...</td>\n",
       "      <td>...</td>\n",
       "      <td>...</td>\n",
       "      <td>...</td>\n",
       "      <td>...</td>\n",
       "      <td>...</td>\n",
       "      <td>...</td>\n",
       "      <td>...</td>\n",
       "      <td>...</td>\n",
       "      <td>...</td>\n",
       "      <td>...</td>\n",
       "      <td>...</td>\n",
       "      <td>...</td>\n",
       "      <td>...</td>\n",
       "      <td>...</td>\n",
       "      <td>...</td>\n",
       "      <td>...</td>\n",
       "    </tr>\n",
       "    <tr>\n",
       "      <th>271517</th>\n",
       "      <td>3999</td>\n",
       "      <td>2005</td>\n",
       "      <td>3</td>\n",
       "      <td>150000</td>\n",
       "      <td>4</td>\n",
       "      <td>81825</td>\n",
       "      <td>0</td>\n",
       "      <td>0</td>\n",
       "      <td>0</td>\n",
       "      <td>0</td>\n",
       "      <td>...</td>\n",
       "      <td>0</td>\n",
       "      <td>0</td>\n",
       "      <td>0</td>\n",
       "      <td>0</td>\n",
       "      <td>0</td>\n",
       "      <td>0</td>\n",
       "      <td>0</td>\n",
       "      <td>0</td>\n",
       "      <td>0</td>\n",
       "      <td>0</td>\n",
       "    </tr>\n",
       "    <tr>\n",
       "      <th>271518</th>\n",
       "      <td>3200</td>\n",
       "      <td>2004</td>\n",
       "      <td>225</td>\n",
       "      <td>150000</td>\n",
       "      <td>3</td>\n",
       "      <td>96465</td>\n",
       "      <td>0</td>\n",
       "      <td>0</td>\n",
       "      <td>0</td>\n",
       "      <td>1</td>\n",
       "      <td>...</td>\n",
       "      <td>0</td>\n",
       "      <td>0</td>\n",
       "      <td>0</td>\n",
       "      <td>0</td>\n",
       "      <td>0</td>\n",
       "      <td>0</td>\n",
       "      <td>0</td>\n",
       "      <td>0</td>\n",
       "      <td>0</td>\n",
       "      <td>1</td>\n",
       "    </tr>\n",
       "    <tr>\n",
       "      <th>271519</th>\n",
       "      <td>1199</td>\n",
       "      <td>2000</td>\n",
       "      <td>101</td>\n",
       "      <td>125000</td>\n",
       "      <td>3</td>\n",
       "      <td>26135</td>\n",
       "      <td>1</td>\n",
       "      <td>0</td>\n",
       "      <td>0</td>\n",
       "      <td>0</td>\n",
       "      <td>...</td>\n",
       "      <td>0</td>\n",
       "      <td>1</td>\n",
       "      <td>0</td>\n",
       "      <td>0</td>\n",
       "      <td>0</td>\n",
       "      <td>0</td>\n",
       "      <td>0</td>\n",
       "      <td>0</td>\n",
       "      <td>0</td>\n",
       "      <td>0</td>\n",
       "    </tr>\n",
       "    <tr>\n",
       "      <th>271520</th>\n",
       "      <td>9200</td>\n",
       "      <td>1996</td>\n",
       "      <td>102</td>\n",
       "      <td>150000</td>\n",
       "      <td>3</td>\n",
       "      <td>87439</td>\n",
       "      <td>0</td>\n",
       "      <td>0</td>\n",
       "      <td>0</td>\n",
       "      <td>0</td>\n",
       "      <td>...</td>\n",
       "      <td>0</td>\n",
       "      <td>0</td>\n",
       "      <td>0</td>\n",
       "      <td>0</td>\n",
       "      <td>0</td>\n",
       "      <td>0</td>\n",
       "      <td>1</td>\n",
       "      <td>0</td>\n",
       "      <td>0</td>\n",
       "      <td>0</td>\n",
       "    </tr>\n",
       "    <tr>\n",
       "      <th>271521</th>\n",
       "      <td>3400</td>\n",
       "      <td>2002</td>\n",
       "      <td>100</td>\n",
       "      <td>150000</td>\n",
       "      <td>3</td>\n",
       "      <td>40764</td>\n",
       "      <td>0</td>\n",
       "      <td>0</td>\n",
       "      <td>0</td>\n",
       "      <td>0</td>\n",
       "      <td>...</td>\n",
       "      <td>0</td>\n",
       "      <td>0</td>\n",
       "      <td>0</td>\n",
       "      <td>0</td>\n",
       "      <td>0</td>\n",
       "      <td>0</td>\n",
       "      <td>1</td>\n",
       "      <td>0</td>\n",
       "      <td>1</td>\n",
       "      <td>0</td>\n",
       "    </tr>\n",
       "  </tbody>\n",
       "</table>\n",
       "<p>271522 rows × 309 columns</p>\n",
       "</div>"
      ],
      "text/plain": [
       "        price  registration_year  power  kilometer  month_created  \\\n",
       "0       18300               2011    190     125000              3   \n",
       "1        9800               2004    163     125000              3   \n",
       "2        1500               2001     75     150000              3   \n",
       "3        3600               2008     69      90000              3   \n",
       "4         650               1995    102     150000              4   \n",
       "...       ...                ...    ...        ...            ...   \n",
       "271517   3999               2005      3     150000              4   \n",
       "271518   3200               2004    225     150000              3   \n",
       "271519   1199               2000    101     125000              3   \n",
       "271520   9200               1996    102     150000              3   \n",
       "271521   3400               2002    100     150000              3   \n",
       "\n",
       "        postal_code  vehicle_type_convertible  vehicle_type_coupe  \\\n",
       "0             66954                         0                   1   \n",
       "1             90480                         0                   0   \n",
       "2             91074                         0                   0   \n",
       "3             60437                         0                   0   \n",
       "4             33775                         0                   0   \n",
       "...             ...                       ...                 ...   \n",
       "271517        81825                         0                   0   \n",
       "271518        96465                         0                   0   \n",
       "271519        26135                         1                   0   \n",
       "271520        87439                         0                   0   \n",
       "271521        40764                         0                   0   \n",
       "\n",
       "        vehicle_type_other  vehicle_type_sedan  ...  brand_skoda  brand_smart  \\\n",
       "0                        0                   0  ...            0            0   \n",
       "1                        0                   0  ...            0            0   \n",
       "2                        0                   0  ...            0            0   \n",
       "3                        0                   0  ...            1            0   \n",
       "4                        0                   1  ...            0            0   \n",
       "...                    ...                 ...  ...          ...          ...   \n",
       "271517                   0                   0  ...            0            0   \n",
       "271518                   0                   1  ...            0            0   \n",
       "271519                   0                   0  ...            0            1   \n",
       "271520                   0                   0  ...            0            0   \n",
       "271521                   0                   0  ...            0            0   \n",
       "\n",
       "        brand_subaru  brand_suzuki  brand_toyota  brand_trabant  \\\n",
       "0                  0             0             0              0   \n",
       "1                  0             0             0              0   \n",
       "2                  0             0             0              0   \n",
       "3                  0             0             0              0   \n",
       "4                  0             0             0              0   \n",
       "...              ...           ...           ...            ...   \n",
       "271517             0             0             0              0   \n",
       "271518             0             0             0              0   \n",
       "271519             0             0             0              0   \n",
       "271520             0             0             0              0   \n",
       "271521             0             0             0              0   \n",
       "\n",
       "        brand_volkswagen  brand_volvo  not_repaired_unknown  not_repaired_yes  \n",
       "0                      0            0                     0                 1  \n",
       "1                      0            0                     1                 0  \n",
       "2                      1            0                     0                 0  \n",
       "3                      0            0                     0                 0  \n",
       "4                      0            0                     0                 1  \n",
       "...                  ...          ...                   ...               ...  \n",
       "271517                 0            0                     0                 0  \n",
       "271518                 0            0                     0                 1  \n",
       "271519                 0            0                     0                 0  \n",
       "271520                 1            0                     0                 0  \n",
       "271521                 1            0                     1                 0  \n",
       "\n",
       "[271522 rows x 309 columns]"
      ]
     },
     "metadata": {},
     "output_type": "display_data"
    },
    {
     "name": "stdout",
     "output_type": "stream",
     "text": [
      "\u001b[1mТаблица № 35. Информация об обновленном датасете\n",
      "<class 'pandas.core.frame.DataFrame'>\n",
      "Int64Index: 271522 entries, 0 to 271521\n",
      "Columns: 309 entries, price to not_repaired_yes\n",
      "dtypes: int64(6), uint8(303)\n",
      "memory usage: 93.0 MB\n"
     ]
    },
    {
     "data": {
      "text/plain": [
       "None"
      ]
     },
     "metadata": {},
     "output_type": "display_data"
    }
   ],
   "source": [
    "# В датасете есть как количественные, \n",
    "# так и категоральные признаки. Воспользуемся техникой\n",
    "# прямого кодирования OHE.\n",
    "print('\\033[1m' + \n",
    "      'Таблица № 34. Обновленный датасет с примененной техникой OHE')\n",
    "data_ohe = pd.get_dummies(data, drop_first=True)\n",
    "display(data_ohe)\n",
    "print('\\033[1m' + \n",
    "      'Таблица № 35. Информация об обновленном датасете')\n",
    "display(data_ohe.info())"
   ]
  },
  {
   "cell_type": "code",
   "execution_count": 34,
   "metadata": {},
   "outputs": [
    {
     "name": "stdout",
     "output_type": "stream",
     "text": [
      "Размер выборки с признаками features составляет  (271522, 308)\n",
      "Размер выборки целевого признака target составляет  (271522,)\n"
     ]
    }
   ],
   "source": [
    "# Обозначим целевой и остальные признаки.\n",
    "features = data_ohe.drop(['price'], axis=1)\n",
    "target = data_ohe['price']\n",
    "# Зафиксируем размеры выборок.\n",
    "print('Размер выборки с признаками features составляет ', features.shape)\n",
    "print('Размер выборки целевого признака target составляет ', target.shape)"
   ]
  },
  {
   "cell_type": "code",
   "execution_count": 35,
   "metadata": {
    "scrolled": true
   },
   "outputs": [
    {
     "name": "stdout",
     "output_type": "stream",
     "text": [
      "Размер выборки features_train составляет (203641, 308)\n",
      "Размер выборки features_test составляет (67881, 308)\n",
      "Размер выборки target_train составляет (203641,)\n",
      "Размер выборки target_test составляет (67881,)\n"
     ]
    }
   ],
   "source": [
    "# Подготовим тренировочный и тестовый наборы.\n",
    "# Размер тестовой выборки 0.25.\n",
    "features_train, features_test, target_train, target_test = train_test_split(\n",
    "    features,\n",
    "    target, \n",
    "    test_size=.25,\n",
    "    random_state=12345\n",
    ")\n",
    "# Проверим размеры выборок.\n",
    "kits = ['features_train', 'features_test', \n",
    "        'target_train', 'target_test']\n",
    "for kit in kits:\n",
    "    print('Размер выборки ' + str(kit) + ' составляет', eval(kit).shape)"
   ]
  },
  {
   "cell_type": "markdown",
   "metadata": {},
   "source": [
    "### Вывод. Подготовка данных."
   ]
  },
  {
   "cell_type": "markdown",
   "metadata": {},
   "source": [
    "Проведена подготовка данных к построению моделей.  \n",
    "Мы обработали датасет техникой прямого кодирования. Разбили его на целевой и остальные признаки. Их мы разбили на тренировочный и тестовый наборы.\n",
    "Переходим к обучению моделей."
   ]
  },
  {
   "cell_type": "markdown",
   "metadata": {},
   "source": [
    "## Обучение моделей"
   ]
  },
  {
   "cell_type": "code",
   "execution_count": 36,
   "metadata": {},
   "outputs": [],
   "source": [
    "# Сделаем скорер rmse для кросс-валидации.\n",
    "def rmse (answers, predictions):\n",
    "    predictions = np.array(predictions)\n",
    "    answers = np.array(answers)\n",
    "    score = np.sqrt(((predictions - answers) ** 2).mean())\n",
    "    return score\n",
    "my_scorer = make_scorer(rmse, greater_is_better=False)"
   ]
  },
  {
   "cell_type": "markdown",
   "metadata": {},
   "source": [
    "### Модель линейной регрессии"
   ]
  },
  {
   "cell_type": "code",
   "execution_count": 37,
   "metadata": {},
   "outputs": [],
   "source": [
    "# Начнём с линейной регрессии.\n",
    "model_lr = LinearRegression()"
   ]
  },
  {
   "cell_type": "code",
   "execution_count": 38,
   "metadata": {},
   "outputs": [
    {
     "name": "stdout",
     "output_type": "stream",
     "text": [
      "Лучшая RMSE модели линейной регрессии составляет 2623.8608918149785\n",
      "CPU times: user 1min 42s, sys: 30.9 s, total: 2min 13s\n",
      "Wall time: 2min 14s\n"
     ]
    }
   ],
   "source": [
    "%%time\n",
    "# Посчитаем метрику RMSE для модели линейной регрессии.\n",
    "# Ради любопытства будем измерять время, которое требуется для \n",
    "# кросс-валидации всех моделей.\n",
    "scores = abs(cross_val_score(\n",
    "    model_lr, \n",
    "    features, \n",
    "    target, \n",
    "    scoring=my_scorer, \n",
    "    cv=5\n",
    "    ))\n",
    "final_score = scores.mean()\n",
    "print('Лучшая RMSE модели линейной регрессии составляет', final_score)\n",
    "lr_score = final_score"
   ]
  },
  {
   "cell_type": "code",
   "execution_count": 39,
   "metadata": {},
   "outputs": [
    {
     "name": "stdout",
     "output_type": "stream",
     "text": [
      "CPU times: user 18.9 s, sys: 5.89 s, total: 24.8 s\n",
      "Wall time: 25.3 s\n"
     ]
    },
    {
     "data": {
      "text/plain": [
       "LinearRegression()"
      ]
     },
     "execution_count": 39,
     "metadata": {},
     "output_type": "execute_result"
    }
   ],
   "source": [
    "%%time\n",
    "# Измерим время обучения модели линейной регрессии.\n",
    "model_lr = LinearRegression()\n",
    "model_lr.fit(features_train, target_train)"
   ]
  },
  {
   "cell_type": "markdown",
   "metadata": {},
   "source": [
    "### Модель градиентного бустинга"
   ]
  },
  {
   "cell_type": "code",
   "execution_count": 40,
   "metadata": {},
   "outputs": [
    {
     "name": "stdout",
     "output_type": "stream",
     "text": [
      "CPU times: user 3min 56s, sys: 6.37 s, total: 4min 3s\n",
      "Wall time: 4min 5s\n"
     ]
    },
    {
     "data": {
      "text/plain": [
       "GridSearchCV(cv=5, estimator=LGBMRegressor(random_state=12345), n_jobs=-1,\n",
       "             param_grid={'max_depth': [5, 7], 'num_leaves': [13, 25]},\n",
       "             scoring=make_scorer(rmse, greater_is_better=False))"
      ]
     },
     "execution_count": 40,
     "metadata": {},
     "output_type": "execute_result"
    }
   ],
   "source": [
    "%%time\n",
    "# Создадим модель градиентного бустинга.\n",
    "# при помощи библиотеки Light GBM.\n",
    "model_gb = lgb.LGBMRegressor(boosting_type='gbdt', random_state=12345)\n",
    "param_grid = {\n",
    "    'num_leaves': [13, 25], \n",
    "    'max_depth': [5, 7]\n",
    "}\n",
    "# Подберем гиперпараметры.\n",
    "grid_cv_gb = GridSearchCV(estimator=model_gb, \n",
    "                          param_grid=param_grid, \n",
    "                          scoring=my_scorer,\n",
    "                          cv=5,\n",
    "                          n_jobs=-1)\n",
    "grid_cv_gb.fit(features_train, target_train)"
   ]
  },
  {
   "cell_type": "code",
   "execution_count": 41,
   "metadata": {},
   "outputs": [
    {
     "name": "stdout",
     "output_type": "stream",
     "text": [
      "Лучшие значения гиперпараметров:\n",
      " {'max_depth': 7, 'num_leaves': 25}\n"
     ]
    }
   ],
   "source": [
    "# Выявим лучшие параметры.\n",
    "best_parameters = grid_cv_gb.best_params_\n",
    "print('Лучшие значения гиперпараметров:\\n', best_parameters)"
   ]
  },
  {
   "cell_type": "code",
   "execution_count": 42,
   "metadata": {},
   "outputs": [
    {
     "name": "stdout",
     "output_type": "stream",
     "text": [
      "Лучшая RMSE модели градиентного бустинга 1682.1563759496264\n"
     ]
    }
   ],
   "source": [
    "# Выявим лучшее значение RMSE.\n",
    "best_cv_gb_score = abs(grid_cv_gb.best_score_)\n",
    "print('Лучшая RMSE модели градиентного бустинга', best_cv_gb_score)"
   ]
  },
  {
   "cell_type": "code",
   "execution_count": 43,
   "metadata": {},
   "outputs": [
    {
     "name": "stdout",
     "output_type": "stream",
     "text": [
      "CPU times: user 7.83 s, sys: 305 ms, total: 8.13 s\n",
      "Wall time: 8.15 s\n"
     ]
    },
    {
     "data": {
      "text/plain": [
       "LGBMRegressor(max_depth=7, num_leaves=25, random_state=12345)"
      ]
     },
     "execution_count": 43,
     "metadata": {},
     "output_type": "execute_result"
    }
   ],
   "source": [
    "%%time\n",
    "# Измерим время обучения модели градиентного бустинга.\n",
    "model_gb = lgb.LGBMRegressor(boosting_type='gbdt',\n",
    "                             num_leaves=25,\n",
    "                             max_depth=7,\n",
    "                             random_state=12345)\n",
    "model_gb.fit(features_train, target_train)"
   ]
  },
  {
   "cell_type": "markdown",
   "metadata": {},
   "source": [
    "### Модель дерева решений"
   ]
  },
  {
   "cell_type": "code",
   "execution_count": 44,
   "metadata": {},
   "outputs": [
    {
     "name": "stdout",
     "output_type": "stream",
     "text": [
      "CPU times: user 6min 34s, sys: 38.1 s, total: 7min 12s\n",
      "Wall time: 13min 45s\n"
     ]
    },
    {
     "data": {
      "text/plain": [
       "GridSearchCV(cv=5, estimator=DecisionTreeRegressor(random_state=12345),\n",
       "             n_jobs=-1,\n",
       "             param_grid={'max_depth': [3, 4, 5, 6],\n",
       "                         'min_samples_leaf': [2, 4, 6],\n",
       "                         'min_samples_split': [6, 8, 12]},\n",
       "             scoring=make_scorer(rmse, greater_is_better=False))"
      ]
     },
     "execution_count": 44,
     "metadata": {},
     "output_type": "execute_result"
    }
   ],
   "source": [
    "%%time\n",
    "# Создадим модель дерева решений.\n",
    "model_dt = DecisionTreeRegressor(random_state=12345)\n",
    "parameters_set = {\n",
    "    'max_depth': [3, 4, 5, 6],\n",
    "    'min_samples_leaf': [2, 4, 6],\n",
    "    'min_samples_split': [6, 8, 12] \n",
    "}\n",
    "# Подберем гиперпараметры.\n",
    "grid_cv_dt = GridSearchCV(estimator=model_dt,\n",
    "                      param_grid=parameters_set,\n",
    "                      scoring=my_scorer,\n",
    "                      cv=5,\n",
    "                      n_jobs=-1)\n",
    "grid_cv_dt.fit(features_train, target_train)"
   ]
  },
  {
   "cell_type": "code",
   "execution_count": 45,
   "metadata": {},
   "outputs": [
    {
     "name": "stdout",
     "output_type": "stream",
     "text": [
      "Лучшие значения гиперпараметров:\n",
      " {'max_depth': 6, 'min_samples_leaf': 2, 'min_samples_split': 6}\n"
     ]
    }
   ],
   "source": [
    "# Выявим лучшие параметры.\n",
    "best_parameters = grid_cv_dt.best_params_\n",
    "print('Лучшие значения гиперпараметров:\\n', best_parameters)"
   ]
  },
  {
   "cell_type": "code",
   "execution_count": 46,
   "metadata": {},
   "outputs": [
    {
     "name": "stdout",
     "output_type": "stream",
     "text": [
      "Лучшая RMSE модели дерева решений 2243.997547364385\n"
     ]
    }
   ],
   "source": [
    "# Выявим лучшее значение RMSE.\n",
    "best_cv_dt_score = abs(grid_cv_dt.best_score_)\n",
    "print('Лучшая RMSE модели дерева решений', best_cv_dt_score)"
   ]
  },
  {
   "cell_type": "code",
   "execution_count": 47,
   "metadata": {},
   "outputs": [
    {
     "name": "stdout",
     "output_type": "stream",
     "text": [
      "CPU times: user 3.12 s, sys: 183 ms, total: 3.3 s\n",
      "Wall time: 6.75 s\n"
     ]
    },
    {
     "data": {
      "text/plain": [
       "DecisionTreeRegressor(max_depth=6, min_samples_leaf=2, min_samples_split=6,\n",
       "                      random_state=12345)"
      ]
     },
     "execution_count": 47,
     "metadata": {},
     "output_type": "execute_result"
    }
   ],
   "source": [
    "%%time\n",
    "# Измерим время обучения модели дерева решений.\n",
    "model_dt = DecisionTreeRegressor(max_depth=6,\n",
    "                                 min_samples_leaf=2,\n",
    "                                 min_samples_split=6,\n",
    "                                 random_state=12345)\n",
    "model_dt.fit(features_train, target_train)"
   ]
  },
  {
   "cell_type": "markdown",
   "metadata": {},
   "source": [
    "### Модель случайного леса"
   ]
  },
  {
   "cell_type": "code",
   "execution_count": 48,
   "metadata": {},
   "outputs": [
    {
     "name": "stdout",
     "output_type": "stream",
     "text": [
      "CPU times: user 17min 4s, sys: 8.45 s, total: 17min 13s\n",
      "Wall time: 33min 53s\n"
     ]
    },
    {
     "data": {
      "text/plain": [
       "GridSearchCV(cv=5, estimator=RandomForestRegressor(random_state=12345),\n",
       "             n_jobs=-1,\n",
       "             param_grid={'max_depth': [3, 4, 5], 'n_estimators': [10, 20, 30]},\n",
       "             scoring=make_scorer(rmse, greater_is_better=False))"
      ]
     },
     "execution_count": 48,
     "metadata": {},
     "output_type": "execute_result"
    }
   ],
   "source": [
    "%%time\n",
    "# Создадим модель случайного леса.\n",
    "model_rf = RandomForestRegressor(random_state=12345)\n",
    "parameters_set = {\n",
    "    'max_depth': [3, 4, 5],\n",
    "    'n_estimators': [10, 20, 30]\n",
    "}\n",
    "# Подберем параметры.\n",
    "grid_cv_rf = GridSearchCV(estimator=model_rf,\n",
    "                      param_grid=parameters_set,\n",
    "                      scoring=my_scorer,\n",
    "                      cv=5,\n",
    "                      n_jobs=-1)\n",
    "grid_cv_rf.fit(features_train, target_train)"
   ]
  },
  {
   "cell_type": "code",
   "execution_count": 49,
   "metadata": {},
   "outputs": [
    {
     "name": "stdout",
     "output_type": "stream",
     "text": [
      "Лучшие значения гиперпараметров:\n",
      " {'max_depth': 5, 'n_estimators': 30}\n"
     ]
    }
   ],
   "source": [
    "# Выявим лучшие параметры.\n",
    "best_parameters = grid_cv_rf.best_params_\n",
    "print('Лучшие значения гиперпараметров:\\n', best_parameters)"
   ]
  },
  {
   "cell_type": "code",
   "execution_count": 50,
   "metadata": {},
   "outputs": [
    {
     "name": "stdout",
     "output_type": "stream",
     "text": [
      "Лучшая RMSE модели случайного леса 2328.2586776004896\n"
     ]
    }
   ],
   "source": [
    "# Выявим лучшее значение RMSE.\n",
    "best_cv_rf_score = abs(grid_cv_rf.best_score_)\n",
    "print('Лучшая RMSE модели случайного леса', best_cv_rf_score)"
   ]
  },
  {
   "cell_type": "code",
   "execution_count": 51,
   "metadata": {},
   "outputs": [
    {
     "name": "stdout",
     "output_type": "stream",
     "text": [
      "CPU times: user 32.7 s, sys: 195 ms, total: 32.9 s\n",
      "Wall time: 32.9 s\n"
     ]
    },
    {
     "data": {
      "text/plain": [
       "RandomForestRegressor(max_depth=5, n_estimators=20, random_state=12345)"
      ]
     },
     "execution_count": 51,
     "metadata": {},
     "output_type": "execute_result"
    }
   ],
   "source": [
    "%%time\n",
    "# Измерим время обучения модели случайного леса.\n",
    "model_rf = RandomForestRegressor(max_depth=5,\n",
    "                                 n_estimators=20,\n",
    "                                 random_state=12345)\n",
    "model_rf.fit(features_train, target_train)"
   ]
  },
  {
   "cell_type": "markdown",
   "metadata": {},
   "source": [
    "### Вывод"
   ]
  },
  {
   "cell_type": "markdown",
   "metadata": {},
   "source": [
    "Мы создали четыре модели:\n",
    "* Модель линейной регрессии\n",
    "* Модель градиентного бустинга\n",
    "* Модель дерева решений\n",
    "* Модель случайного леса\n",
    "\n",
    "Также мы выбрали наиболее подходящие гиперпараметры при помощи кросс-валидации. Значения RMSE по итогам кросс-валидации составили:"
   ]
  },
  {
   "cell_type": "code",
   "execution_count": 52,
   "metadata": {},
   "outputs": [
    {
     "name": "stdout",
     "output_type": "stream",
     "text": [
      "\u001b[1mТаблица № 36. Результаты оценки RMSE после кросс-валидации\n"
     ]
    },
    {
     "data": {
      "text/html": [
       "<div>\n",
       "<style scoped>\n",
       "    .dataframe tbody tr th:only-of-type {\n",
       "        vertical-align: middle;\n",
       "    }\n",
       "\n",
       "    .dataframe tbody tr th {\n",
       "        vertical-align: top;\n",
       "    }\n",
       "\n",
       "    .dataframe thead th {\n",
       "        text-align: right;\n",
       "    }\n",
       "</style>\n",
       "<table border=\"1\" class=\"dataframe\">\n",
       "  <thead>\n",
       "    <tr style=\"text-align: right;\">\n",
       "      <th></th>\n",
       "      <th>RMSE после кросс-валидации</th>\n",
       "    </tr>\n",
       "    <tr>\n",
       "      <th>Модель</th>\n",
       "      <th></th>\n",
       "    </tr>\n",
       "  </thead>\n",
       "  <tbody>\n",
       "    <tr>\n",
       "      <th>Линейная регрессия</th>\n",
       "      <td>2623.860892</td>\n",
       "    </tr>\n",
       "    <tr>\n",
       "      <th>Градиентный бустинг</th>\n",
       "      <td>1682.156376</td>\n",
       "    </tr>\n",
       "    <tr>\n",
       "      <th>Дерево решений</th>\n",
       "      <td>2243.997547</td>\n",
       "    </tr>\n",
       "    <tr>\n",
       "      <th>Случайный лес</th>\n",
       "      <td>2328.258678</td>\n",
       "    </tr>\n",
       "  </tbody>\n",
       "</table>\n",
       "</div>"
      ],
      "text/plain": [
       "                     RMSE после кросс-валидации\n",
       "Модель                                         \n",
       "Линейная регрессия                  2623.860892\n",
       "Градиентный бустинг                 1682.156376\n",
       "Дерево решений                      2243.997547\n",
       "Случайный лес                       2328.258678"
      ]
     },
     "metadata": {},
     "output_type": "display_data"
    }
   ],
   "source": [
    "# Подготовим таблицу с результатами оценки RMSE.\n",
    "rmse_results = pd.DataFrame(\n",
    "    {'RMSE после кросс-валидации':[lr_score, best_cv_gb_score, \n",
    "             best_cv_dt_score, best_cv_rf_score]}, \n",
    "    index=[\n",
    "        'Линейная регрессия', \n",
    "        'Градиентный бустинг', \n",
    "        'Дерево решений', \n",
    "        'Случайный лес'\n",
    "    ]\n",
    ")\n",
    "rmse_results.index.name = 'Модель'\n",
    "print('\\033[1m' + \n",
    "      'Таблица № 36. Результаты оценки RMSE после кросс-валидации')\n",
    "display(rmse_results)"
   ]
  },
  {
   "cell_type": "markdown",
   "metadata": {},
   "source": [
    "Зафиксируем время затраченное на кросс-валидацию и на обучение"
   ]
  },
  {
   "cell_type": "code",
   "execution_count": 53,
   "metadata": {},
   "outputs": [
    {
     "name": "stdout",
     "output_type": "stream",
     "text": [
      "\u001b[1mТаблица № 37. Результаты измерения времени, затраченного на обучение\n"
     ]
    },
    {
     "data": {
      "text/html": [
       "<div>\n",
       "<style scoped>\n",
       "    .dataframe tbody tr th:only-of-type {\n",
       "        vertical-align: middle;\n",
       "    }\n",
       "\n",
       "    .dataframe tbody tr th {\n",
       "        vertical-align: top;\n",
       "    }\n",
       "\n",
       "    .dataframe thead th {\n",
       "        text-align: right;\n",
       "    }\n",
       "</style>\n",
       "<table border=\"1\" class=\"dataframe\">\n",
       "  <thead>\n",
       "    <tr style=\"text-align: right;\">\n",
       "      <th></th>\n",
       "      <th>Время, затраченное на кросс-валидацию</th>\n",
       "      <th>Время, затраченное на обучение</th>\n",
       "      <th>Общее время</th>\n",
       "    </tr>\n",
       "  </thead>\n",
       "  <tbody>\n",
       "    <tr>\n",
       "      <th>Линейная регрессия</th>\n",
       "      <td>00:02:14</td>\n",
       "      <td>00:00:25</td>\n",
       "      <td>00:02:39</td>\n",
       "    </tr>\n",
       "    <tr>\n",
       "      <th>Градиентный бустинг</th>\n",
       "      <td>00:04:05</td>\n",
       "      <td>00:00:08</td>\n",
       "      <td>00:04:13</td>\n",
       "    </tr>\n",
       "    <tr>\n",
       "      <th>Дерево решений</th>\n",
       "      <td>00:13:45</td>\n",
       "      <td>00:00:07</td>\n",
       "      <td>00:13:52</td>\n",
       "    </tr>\n",
       "    <tr>\n",
       "      <th>Случайный лес</th>\n",
       "      <td>00:33:53</td>\n",
       "      <td>00:00:33</td>\n",
       "      <td>00:34:26</td>\n",
       "    </tr>\n",
       "  </tbody>\n",
       "</table>\n",
       "</div>"
      ],
      "text/plain": [
       "                    Время, затраченное на кросс-валидацию  \\\n",
       "Линейная регрессия                               00:02:14   \n",
       "Градиентный бустинг                              00:04:05   \n",
       "Дерево решений                                   00:13:45   \n",
       "Случайный лес                                    00:33:53   \n",
       "\n",
       "                    Время, затраченное на обучение Общее время  \n",
       "Линейная регрессия                        00:00:25    00:02:39  \n",
       "Градиентный бустинг                       00:00:08    00:04:13  \n",
       "Дерево решений                            00:00:07    00:13:52  \n",
       "Случайный лес                             00:00:33    00:34:26  "
      ]
     },
     "metadata": {},
     "output_type": "display_data"
    }
   ],
   "source": [
    "# Подготовим таблицу с результатами измерения\n",
    "# времени.\n",
    "cv_fit_time = pd.DataFrame(\n",
    "    {'Время, затраченное на кросс-валидацию': \n",
    "     ['00:02:14','00:04:05', '00:13:45', '00:33:53'], \n",
    "    'Время, затраченное на обучение': \n",
    "     ['00:00:25', '00:00:08', '00:00:07', '00:00:33'],\n",
    "    'Общее время': ['00:02:39', '00:04:13', '00:13:52', '00:34:26']}, \n",
    "    index=[\n",
    "        'Линейная регрессия', \n",
    "        'Градиентный бустинг', \n",
    "        'Дерево решений', \n",
    "        'Случайный лес'\n",
    "    ])\n",
    "print('\\033[1m' + \n",
    "      'Таблица № 37. Результаты измерения времени, затраченного на обучение')\n",
    "display(cv_fit_time)"
   ]
  },
  {
   "cell_type": "markdown",
   "metadata": {},
   "source": [
    "На данном этапе исследования мы выявили, что наибольшее количество времени тратится на кросс-валидацию модели случайного леса — 33 минуты 53 секунды. Наименьшее — линейная регрессия (2 минуты 14 секунд).  \n",
    "Быстрее всего обучается дерево решений — 7 секунд. Дольше всего — случайный лес (33 секунды). Дерево решений обучается 7 секунд — это лучший показатель по скорости."
   ]
  },
  {
   "cell_type": "markdown",
   "metadata": {},
   "source": [
    "Лучший показатель метрики RMSE по итогам кросс-валидации показала модель градиентного бустинга — 1682 евро. Худший — линейная регрессия (2624 евро).  \n",
    "Перейдем к анализу моделей, их тестированию."
   ]
  },
  {
   "cell_type": "markdown",
   "metadata": {},
   "source": [
    "## Анализ моделей"
   ]
  },
  {
   "cell_type": "markdown",
   "metadata": {},
   "source": [
    "### Модель линейной регрессии"
   ]
  },
  {
   "cell_type": "code",
   "execution_count": 54,
   "metadata": {},
   "outputs": [
    {
     "data": {
      "text/plain": [
       "LinearRegression()"
      ]
     },
     "execution_count": 54,
     "metadata": {},
     "output_type": "execute_result"
    }
   ],
   "source": [
    "# Создаем модель и обучаем её.\n",
    "model_lr = LinearRegression()\n",
    "model_lr.fit(features_train, target_train)"
   ]
  },
  {
   "cell_type": "code",
   "execution_count": 55,
   "metadata": {},
   "outputs": [
    {
     "name": "stdout",
     "output_type": "stream",
     "text": [
      "CPU times: user 182 ms, sys: 99.3 ms, total: 281 ms\n",
      "Wall time: 250 ms\n"
     ]
    }
   ],
   "source": [
    "%%time\n",
    "# Делаем предсказания и засекаем время.\n",
    "predictions_lr = pd.Series(\n",
    "    model_lr.predict(features_test), \n",
    "    index=target_test.index\n",
    "    )"
   ]
  },
  {
   "cell_type": "code",
   "execution_count": 56,
   "metadata": {},
   "outputs": [
    {
     "name": "stdout",
     "output_type": "stream",
     "text": [
      "RMSE модели линейной регрессии на тестовой выборке составила  2623.0391569378694\n"
     ]
    }
   ],
   "source": [
    "rmse_lr = (mean_squared_error(target_test, predictions_lr))**0.5\n",
    "print('RMSE модели линейной регрессии на тестовой выборке составила ', rmse_lr)"
   ]
  },
  {
   "cell_type": "markdown",
   "metadata": {},
   "source": [
    "### Модель градиентного бустинга"
   ]
  },
  {
   "cell_type": "code",
   "execution_count": 57,
   "metadata": {},
   "outputs": [
    {
     "data": {
      "text/plain": [
       "LGBMRegressor(max_depth=7, num_leaves=25, random_state=12345)"
      ]
     },
     "execution_count": 57,
     "metadata": {},
     "output_type": "execute_result"
    }
   ],
   "source": [
    "# Создаем модель и обучаем её.\n",
    "model_gb = lgb.LGBMRegressor(boosting_type='gbdt',\n",
    "                             num_leaves=25,\n",
    "                             max_depth=7,\n",
    "                             random_state=12345)\n",
    "model_gb.fit(features_train, target_train)"
   ]
  },
  {
   "cell_type": "code",
   "execution_count": 58,
   "metadata": {},
   "outputs": [
    {
     "name": "stdout",
     "output_type": "stream",
     "text": [
      "CPU times: user 862 ms, sys: 92.6 ms, total: 955 ms\n",
      "Wall time: 936 ms\n"
     ]
    }
   ],
   "source": [
    "%%time\n",
    "# Делаем предсказания и засекаем время.\n",
    "predictions_gb = pd.Series(\n",
    "    model_gb.predict(features_test), \n",
    "    index=target_test.index\n",
    "    )"
   ]
  },
  {
   "cell_type": "code",
   "execution_count": 59,
   "metadata": {},
   "outputs": [
    {
     "name": "stdout",
     "output_type": "stream",
     "text": [
      "RMSE модели градиентного бустинга на тестовой выборке составила  1684.291111487341\n"
     ]
    }
   ],
   "source": [
    "rmse_gb = (mean_squared_error(target_test, predictions_gb))**0.5\n",
    "print('RMSE модели градиентного бустинга на тестовой выборке составила ', rmse_gb)"
   ]
  },
  {
   "cell_type": "markdown",
   "metadata": {},
   "source": [
    "### Модель дерева решений"
   ]
  },
  {
   "cell_type": "code",
   "execution_count": 60,
   "metadata": {},
   "outputs": [
    {
     "data": {
      "text/plain": [
       "DecisionTreeRegressor(max_depth=6, min_samples_leaf=2, min_samples_split=6,\n",
       "                      random_state=12345)"
      ]
     },
     "execution_count": 60,
     "metadata": {},
     "output_type": "execute_result"
    }
   ],
   "source": [
    "# Создаем модель и обучаем её.\n",
    "model_dt = DecisionTreeRegressor(max_depth=6,\n",
    "                                 min_samples_leaf=2,\n",
    "                                 min_samples_split=6,\n",
    "                                 random_state=12345)\n",
    "model_dt.fit(features_train, target_train)"
   ]
  },
  {
   "cell_type": "code",
   "execution_count": 61,
   "metadata": {},
   "outputs": [
    {
     "name": "stdout",
     "output_type": "stream",
     "text": [
      "CPU times: user 67.6 ms, sys: 81 ms, total: 149 ms\n",
      "Wall time: 146 ms\n"
     ]
    }
   ],
   "source": [
    "%%time\n",
    "# Делаем предсказания и засекаем время.\n",
    "predictions_dt = pd.Series(\n",
    "    model_dt.predict(features_test), \n",
    "    index=target_test.index\n",
    "    )"
   ]
  },
  {
   "cell_type": "code",
   "execution_count": 62,
   "metadata": {},
   "outputs": [
    {
     "name": "stdout",
     "output_type": "stream",
     "text": [
      "RMSE модели дерева решений на тестовой выборке составила  2246.008540303359\n"
     ]
    }
   ],
   "source": [
    "rmse_dt = (mean_squared_error(target_test, predictions_dt))**0.5\n",
    "print('RMSE модели дерева решений на тестовой выборке составила ', rmse_dt)"
   ]
  },
  {
   "cell_type": "markdown",
   "metadata": {},
   "source": [
    "### Модель случайного леса"
   ]
  },
  {
   "cell_type": "code",
   "execution_count": 63,
   "metadata": {},
   "outputs": [
    {
     "data": {
      "text/plain": [
       "RandomForestRegressor(max_depth=5, n_estimators=20, random_state=12345)"
      ]
     },
     "execution_count": 63,
     "metadata": {},
     "output_type": "execute_result"
    }
   ],
   "source": [
    "# Создаем модель и обучаем её.\n",
    "model_rf = RandomForestRegressor(max_depth=5,\n",
    "                                 n_estimators=20,\n",
    "                                 random_state=12345)\n",
    "model_rf.fit(features_train, target_train)"
   ]
  },
  {
   "cell_type": "code",
   "execution_count": 64,
   "metadata": {},
   "outputs": [
    {
     "name": "stdout",
     "output_type": "stream",
     "text": [
      "CPU times: user 131 ms, sys: 85.7 ms, total: 216 ms\n",
      "Wall time: 214 ms\n"
     ]
    }
   ],
   "source": [
    "%%time\n",
    "# Делаем предсказания и засекаем время.\n",
    "predictions_rf = pd.Series(\n",
    "    model_rf.predict(features_test), \n",
    "    index=target_test.index\n",
    "    )"
   ]
  },
  {
   "cell_type": "code",
   "execution_count": 65,
   "metadata": {},
   "outputs": [
    {
     "name": "stdout",
     "output_type": "stream",
     "text": [
      "RMSE модели случайного леса на тестовой выборке составила  2331.470244344328\n"
     ]
    }
   ],
   "source": [
    "rmse_rf = (mean_squared_error(target_test, predictions_rf))**0.5\n",
    "print('RMSE модели случайного леса на тестовой выборке составила ', rmse_rf)"
   ]
  },
  {
   "cell_type": "markdown",
   "metadata": {},
   "source": [
    "### Вывод"
   ]
  },
  {
   "cell_type": "code",
   "execution_count": 66,
   "metadata": {},
   "outputs": [
    {
     "name": "stdout",
     "output_type": "stream",
     "text": [
      "\u001b[1mТаблица № 38. Результаты оценки RMSE на тестовой выборке\n"
     ]
    },
    {
     "data": {
      "text/html": [
       "<div>\n",
       "<style scoped>\n",
       "    .dataframe tbody tr th:only-of-type {\n",
       "        vertical-align: middle;\n",
       "    }\n",
       "\n",
       "    .dataframe tbody tr th {\n",
       "        vertical-align: top;\n",
       "    }\n",
       "\n",
       "    .dataframe thead th {\n",
       "        text-align: right;\n",
       "    }\n",
       "</style>\n",
       "<table border=\"1\" class=\"dataframe\">\n",
       "  <thead>\n",
       "    <tr style=\"text-align: right;\">\n",
       "      <th></th>\n",
       "      <th>RMSE на тестовой выборке</th>\n",
       "    </tr>\n",
       "    <tr>\n",
       "      <th>Модель</th>\n",
       "      <th></th>\n",
       "    </tr>\n",
       "  </thead>\n",
       "  <tbody>\n",
       "    <tr>\n",
       "      <th>Линейная регрессия</th>\n",
       "      <td>2623.039157</td>\n",
       "    </tr>\n",
       "    <tr>\n",
       "      <th>Градиентный бустинг</th>\n",
       "      <td>1684.291111</td>\n",
       "    </tr>\n",
       "    <tr>\n",
       "      <th>Дерево решений</th>\n",
       "      <td>2246.008540</td>\n",
       "    </tr>\n",
       "    <tr>\n",
       "      <th>Случайный лес</th>\n",
       "      <td>2331.470244</td>\n",
       "    </tr>\n",
       "  </tbody>\n",
       "</table>\n",
       "</div>"
      ],
      "text/plain": [
       "                     RMSE на тестовой выборке\n",
       "Модель                                       \n",
       "Линейная регрессия                2623.039157\n",
       "Градиентный бустинг               1684.291111\n",
       "Дерево решений                    2246.008540\n",
       "Случайный лес                     2331.470244"
      ]
     },
     "metadata": {},
     "output_type": "display_data"
    }
   ],
   "source": [
    "# Подготовим таблицу с результатми оценки RMSE.\n",
    "rmse_results_test = pd.DataFrame(\n",
    "    {'RMSE на тестовой выборке':[rmse_lr, rmse_gb, \n",
    "             rmse_dt, rmse_rf]}, \n",
    "    index=[\n",
    "        'Линейная регрессия', \n",
    "        'Градиентный бустинг', \n",
    "        'Дерево решений', \n",
    "        'Случайный лес'\n",
    "    ]\n",
    ")\n",
    "rmse_results_test.index.name = 'Модель'\n",
    "print('\\033[1m' + \n",
    "      'Таблица № 38. Результаты оценки RMSE на тестовой выборке')\n",
    "display(rmse_results_test)"
   ]
  },
  {
   "cell_type": "code",
   "execution_count": 67,
   "metadata": {},
   "outputs": [
    {
     "name": "stdout",
     "output_type": "stream",
     "text": [
      "\u001b[1mТаблица № 39. Результаты измерения времени, затраченного на предсказания\n"
     ]
    },
    {
     "data": {
      "text/html": [
       "<div>\n",
       "<style scoped>\n",
       "    .dataframe tbody tr th:only-of-type {\n",
       "        vertical-align: middle;\n",
       "    }\n",
       "\n",
       "    .dataframe tbody tr th {\n",
       "        vertical-align: top;\n",
       "    }\n",
       "\n",
       "    .dataframe thead th {\n",
       "        text-align: right;\n",
       "    }\n",
       "</style>\n",
       "<table border=\"1\" class=\"dataframe\">\n",
       "  <thead>\n",
       "    <tr style=\"text-align: right;\">\n",
       "      <th></th>\n",
       "      <th>Время, затраченное на предсказания</th>\n",
       "    </tr>\n",
       "  </thead>\n",
       "  <tbody>\n",
       "    <tr>\n",
       "      <th>Линейная регрессия</th>\n",
       "      <td>00:00:0.250</td>\n",
       "    </tr>\n",
       "    <tr>\n",
       "      <th>Градиентный бустинг</th>\n",
       "      <td>00:00:0.936</td>\n",
       "    </tr>\n",
       "    <tr>\n",
       "      <th>Дерево решений</th>\n",
       "      <td>00:00:0.146</td>\n",
       "    </tr>\n",
       "    <tr>\n",
       "      <th>Случайный лес</th>\n",
       "      <td>00:00:0.214</td>\n",
       "    </tr>\n",
       "  </tbody>\n",
       "</table>\n",
       "</div>"
      ],
      "text/plain": [
       "                    Время, затраченное на предсказания\n",
       "Линейная регрессия                         00:00:0.250\n",
       "Градиентный бустинг                        00:00:0.936\n",
       "Дерево решений                             00:00:0.146\n",
       "Случайный лес                              00:00:0.214"
      ]
     },
     "metadata": {},
     "output_type": "display_data"
    }
   ],
   "source": [
    "# Подготовим таблицу с результатами оценки\n",
    "# времени, затраченного на предсказания.\n",
    "prediction_time = pd.DataFrame(\n",
    "    {'Время, затраченное на предсказания': \n",
    "     ['00:00:0.250','00:00:0.936', '00:00:0.146', '00:00:0.214']}, \n",
    "    index=[\n",
    "        'Линейная регрессия', \n",
    "        'Градиентный бустинг', \n",
    "        'Дерево решений', \n",
    "        'Случайный лес'\n",
    "    ])\n",
    "print('\\033[1m' + \n",
    "      'Таблица № 39. Результаты измерения времени, затраченного на предсказания')\n",
    "display(prediction_time)"
   ]
  },
  {
   "cell_type": "code",
   "execution_count": 68,
   "metadata": {
    "scrolled": true
   },
   "outputs": [
    {
     "name": "stdout",
     "output_type": "stream",
     "text": [
      "\u001b[1mТаблица № 40. Результаты исследования\n"
     ]
    },
    {
     "data": {
      "text/html": [
       "<div>\n",
       "<style scoped>\n",
       "    .dataframe tbody tr th:only-of-type {\n",
       "        vertical-align: middle;\n",
       "    }\n",
       "\n",
       "    .dataframe tbody tr th {\n",
       "        vertical-align: top;\n",
       "    }\n",
       "\n",
       "    .dataframe thead th {\n",
       "        text-align: right;\n",
       "    }\n",
       "</style>\n",
       "<table border=\"1\" class=\"dataframe\">\n",
       "  <thead>\n",
       "    <tr style=\"text-align: right;\">\n",
       "      <th></th>\n",
       "      <th>Время, затраченное на обучение</th>\n",
       "      <th>Время, затраченное на предсказания</th>\n",
       "      <th>Общее время</th>\n",
       "      <th>RMSE на тестовой выборке</th>\n",
       "    </tr>\n",
       "  </thead>\n",
       "  <tbody>\n",
       "    <tr>\n",
       "      <th>Линейная регрессия</th>\n",
       "      <td>00:00:25</td>\n",
       "      <td>00:00:0.250</td>\n",
       "      <td>00:00:24.250</td>\n",
       "      <td>2623.039157</td>\n",
       "    </tr>\n",
       "    <tr>\n",
       "      <th>Градиентный бустинг</th>\n",
       "      <td>00:00:08</td>\n",
       "      <td>00:00:0.936</td>\n",
       "      <td>00:00:08.936</td>\n",
       "      <td>1684.291111</td>\n",
       "    </tr>\n",
       "    <tr>\n",
       "      <th>Дерево решений</th>\n",
       "      <td>00:00:07</td>\n",
       "      <td>00:00:0.146</td>\n",
       "      <td>00:00:07.146</td>\n",
       "      <td>2246.008540</td>\n",
       "    </tr>\n",
       "    <tr>\n",
       "      <th>Случайный лес</th>\n",
       "      <td>00:00:33</td>\n",
       "      <td>00:00:0.214</td>\n",
       "      <td>00:00:33.214</td>\n",
       "      <td>2331.470244</td>\n",
       "    </tr>\n",
       "  </tbody>\n",
       "</table>\n",
       "</div>"
      ],
      "text/plain": [
       "                    Время, затраченное на обучение  \\\n",
       "Линейная регрессия                        00:00:25   \n",
       "Градиентный бустинг                       00:00:08   \n",
       "Дерево решений                            00:00:07   \n",
       "Случайный лес                             00:00:33   \n",
       "\n",
       "                    Время, затраченное на предсказания   Общее время  \\\n",
       "Линейная регрессия                         00:00:0.250  00:00:24.250   \n",
       "Градиентный бустинг                        00:00:0.936  00:00:08.936   \n",
       "Дерево решений                             00:00:0.146  00:00:07.146   \n",
       "Случайный лес                              00:00:0.214  00:00:33.214   \n",
       "\n",
       "                     RMSE на тестовой выборке  \n",
       "Линейная регрессия                2623.039157  \n",
       "Градиентный бустинг               1684.291111  \n",
       "Дерево решений                    2246.008540  \n",
       "Случайный лес                     2331.470244  "
      ]
     },
     "metadata": {},
     "output_type": "display_data"
    }
   ],
   "source": [
    "# Подготовим сводную итоговую таблицу.\n",
    "prediction_time = pd.DataFrame(\n",
    "    {'Время, затраченное на обучение':\n",
    "     ['00:00:25', '00:00:08', '00:00:07', '00:00:33'],\n",
    "        'Время, затраченное на предсказания': \n",
    "     ['00:00:0.250','00:00:0.936', '00:00:0.146', '00:00:0.214'],\n",
    "    'Общее время':\n",
    "    ['00:00:24.250', '00:00:08.936','00:00:07.146', '00:00:33.214'],\n",
    "    'RMSE на тестовой выборке': [rmse_lr, rmse_gb, \n",
    "             rmse_dt, rmse_rf]}, \n",
    "    index=[\n",
    "        'Линейная регрессия', \n",
    "        'Градиентный бустинг', \n",
    "        'Дерево решений', \n",
    "        'Случайный лес'\n",
    "    ])\n",
    "print('\\033[1m' + \n",
    "      'Таблица № 40. Результаты исследования')\n",
    "display(prediction_time)"
   ]
  },
  {
   "cell_type": "markdown",
   "metadata": {},
   "source": [
    "## Вывод"
   ]
  },
  {
   "cell_type": "markdown",
   "metadata": {},
   "source": [
    "Проанализировав полученные результаты, можно предложить заказчику модель градиентного бустинга.  \n",
    "Модель градиентного бустинга вторая по скорости после дерева решений — 8 секунд и 936 миллисекунд. Показатель RMSE составялет 1684 евро — это лучший показатель из четырех.  \n",
    "Модель дерева решений хоть и работает быстрее (всего на секунду), но она проигрывает в качестве. Её RMSE равен 2246 евро."
   ]
  }
 ],
 "metadata": {
  "ExecuteTimeLog": [
   {
    "duration": 1823,
    "start_time": "2021-12-14T16:19:38.844Z"
   },
   {
    "duration": 913,
    "start_time": "2021-12-14T16:29:30.391Z"
   },
   {
    "duration": 852,
    "start_time": "2021-12-14T16:38:32.908Z"
   },
   {
    "duration": 938,
    "start_time": "2021-12-14T16:38:50.724Z"
   },
   {
    "duration": 3,
    "start_time": "2021-12-14T16:49:42.492Z"
   },
   {
    "duration": 3,
    "start_time": "2021-12-14T16:49:45.479Z"
   },
   {
    "duration": 300,
    "start_time": "2021-12-15T11:54:35.658Z"
   },
   {
    "duration": 2123,
    "start_time": "2021-12-15T11:54:39.628Z"
   },
   {
    "duration": 1001,
    "start_time": "2021-12-15T11:55:55.435Z"
   },
   {
    "duration": 5,
    "start_time": "2021-12-15T11:56:18.956Z"
   },
   {
    "duration": 4,
    "start_time": "2021-12-15T11:56:48.020Z"
   },
   {
    "duration": 343,
    "start_time": "2021-12-15T11:57:13.197Z"
   },
   {
    "duration": 1121,
    "start_time": "2021-12-15T12:04:25.941Z"
   },
   {
    "duration": 314,
    "start_time": "2021-12-15T12:22:17.041Z"
   },
   {
    "duration": 929,
    "start_time": "2021-12-15T12:35:38.901Z"
   },
   {
    "duration": 115,
    "start_time": "2021-12-15T12:39:06.826Z"
   },
   {
    "duration": 3,
    "start_time": "2021-12-15T12:39:24.505Z"
   },
   {
    "duration": 5,
    "start_time": "2021-12-15T12:39:38.473Z"
   },
   {
    "duration": 1207,
    "start_time": "2021-12-15T12:40:45.616Z"
   },
   {
    "duration": 5,
    "start_time": "2021-12-15T12:41:01.928Z"
   },
   {
    "duration": 5,
    "start_time": "2021-12-15T12:42:02.934Z"
   },
   {
    "duration": 4,
    "start_time": "2021-12-15T12:42:11.830Z"
   },
   {
    "duration": 23,
    "start_time": "2021-12-15T12:42:20.190Z"
   },
   {
    "duration": 33,
    "start_time": "2021-12-15T12:49:24.376Z"
   },
   {
    "duration": 27,
    "start_time": "2021-12-15T12:50:14.262Z"
   },
   {
    "duration": 2121,
    "start_time": "2021-12-15T12:50:28.293Z"
   },
   {
    "duration": 919,
    "start_time": "2021-12-15T12:50:45.798Z"
   },
   {
    "duration": 25,
    "start_time": "2021-12-15T12:50:51.125Z"
   },
   {
    "duration": 24,
    "start_time": "2021-12-15T12:51:33.453Z"
   },
   {
    "duration": 866,
    "start_time": "2021-12-15T12:51:40.900Z"
   },
   {
    "duration": 24,
    "start_time": "2021-12-15T12:51:45.308Z"
   },
   {
    "duration": 2020,
    "start_time": "2021-12-15T12:51:53.437Z"
   },
   {
    "duration": 26,
    "start_time": "2021-12-15T12:51:55.459Z"
   },
   {
    "duration": 1060,
    "start_time": "2021-12-15T12:53:41.675Z"
   },
   {
    "duration": 24,
    "start_time": "2021-12-15T12:53:46.811Z"
   },
   {
    "duration": 343,
    "start_time": "2021-12-15T12:57:09.079Z"
   },
   {
    "duration": 1353,
    "start_time": "2021-12-15T12:58:23.590Z"
   },
   {
    "duration": 835,
    "start_time": "2021-12-15T12:59:05.613Z"
   },
   {
    "duration": 27,
    "start_time": "2021-12-15T12:59:09.990Z"
   },
   {
    "duration": 324,
    "start_time": "2021-12-15T12:59:28.765Z"
   },
   {
    "duration": 325,
    "start_time": "2021-12-15T13:00:49.780Z"
   },
   {
    "duration": 265,
    "start_time": "2021-12-15T13:02:41.097Z"
   },
   {
    "duration": 286,
    "start_time": "2021-12-15T13:03:18.817Z"
   },
   {
    "duration": 278,
    "start_time": "2021-12-15T13:03:23.857Z"
   },
   {
    "duration": 317,
    "start_time": "2021-12-15T13:03:55.320Z"
   },
   {
    "duration": 2115,
    "start_time": "2021-12-15T13:04:03.858Z"
   },
   {
    "duration": 25,
    "start_time": "2021-12-15T13:04:05.976Z"
   },
   {
    "duration": 365,
    "start_time": "2021-12-15T13:04:06.003Z"
   },
   {
    "duration": 96,
    "start_time": "2021-12-15T13:10:09.992Z"
   },
   {
    "duration": 89,
    "start_time": "2021-12-15T13:10:17.397Z"
   },
   {
    "duration": 305,
    "start_time": "2021-12-15T13:11:07.581Z"
   },
   {
    "duration": 2748,
    "start_time": "2021-12-15T13:11:19.899Z"
   },
   {
    "duration": 25,
    "start_time": "2021-12-15T13:11:22.649Z"
   },
   {
    "duration": 434,
    "start_time": "2021-12-15T13:11:22.677Z"
   },
   {
    "duration": 95,
    "start_time": "2021-12-15T13:14:39.834Z"
   },
   {
    "duration": 82,
    "start_time": "2021-12-15T13:15:05.738Z"
   },
   {
    "duration": 89,
    "start_time": "2021-12-15T13:15:09.185Z"
   },
   {
    "duration": 85,
    "start_time": "2021-12-15T13:15:43.081Z"
   },
   {
    "duration": 944,
    "start_time": "2021-12-15T13:16:39.680Z"
   },
   {
    "duration": 262,
    "start_time": "2021-12-15T13:16:51.952Z"
   },
   {
    "duration": 373,
    "start_time": "2021-12-15T13:16:55.647Z"
   },
   {
    "duration": 2202,
    "start_time": "2021-12-15T13:17:31.679Z"
   },
   {
    "duration": 21,
    "start_time": "2021-12-15T13:17:33.883Z"
   },
   {
    "duration": 10868,
    "start_time": "2021-12-15T13:17:57.684Z"
   },
   {
    "duration": 2215,
    "start_time": "2021-12-15T13:18:18.534Z"
   },
   {
    "duration": 22,
    "start_time": "2021-12-15T13:18:20.751Z"
   },
   {
    "duration": 46502,
    "start_time": "2021-12-15T13:18:20.775Z"
   },
   {
    "duration": 265,
    "start_time": "2021-12-15T13:19:34.453Z"
   },
   {
    "duration": 3205,
    "start_time": "2021-12-15T13:21:33.856Z"
   },
   {
    "duration": 2277,
    "start_time": "2021-12-15T13:21:51.744Z"
   },
   {
    "duration": 2171,
    "start_time": "2021-12-15T13:21:54.023Z"
   },
   {
    "duration": 22,
    "start_time": "2021-12-15T13:21:56.196Z"
   },
   {
    "duration": 652,
    "start_time": "2021-12-15T13:21:56.219Z"
   },
   {
    "duration": 798,
    "start_time": "2021-12-15T13:26:23.970Z"
   },
   {
    "duration": 15746,
    "start_time": "2021-12-15T13:27:29.737Z"
   },
   {
    "duration": 9385,
    "start_time": "2021-12-15T13:28:13.065Z"
   },
   {
    "duration": 938,
    "start_time": "2021-12-15T13:31:49.493Z"
   },
   {
    "duration": 726,
    "start_time": "2021-12-15T13:31:55.621Z"
   },
   {
    "duration": 532,
    "start_time": "2021-12-15T13:32:18.492Z"
   },
   {
    "duration": 561,
    "start_time": "2021-12-15T13:32:26.228Z"
   },
   {
    "duration": 521,
    "start_time": "2021-12-15T13:32:29.549Z"
   },
   {
    "duration": 525,
    "start_time": "2021-12-15T13:32:44.589Z"
   },
   {
    "duration": 712,
    "start_time": "2021-12-15T13:32:48.747Z"
   },
   {
    "duration": 906,
    "start_time": "2021-12-15T13:34:04.899Z"
   },
   {
    "duration": 749,
    "start_time": "2021-12-15T13:34:09.771Z"
   },
   {
    "duration": 759,
    "start_time": "2021-12-15T13:34:13.075Z"
   },
   {
    "duration": 849,
    "start_time": "2021-12-15T13:34:17.690Z"
   },
   {
    "duration": 689,
    "start_time": "2021-12-15T13:35:03.729Z"
   },
   {
    "duration": 1061,
    "start_time": "2021-12-15T13:35:09.233Z"
   },
   {
    "duration": 974,
    "start_time": "2021-12-15T13:35:20.225Z"
   },
   {
    "duration": 1189,
    "start_time": "2021-12-15T13:35:27.001Z"
   },
   {
    "duration": 807,
    "start_time": "2021-12-15T13:35:31.337Z"
   },
   {
    "duration": 912,
    "start_time": "2021-12-15T13:35:35.385Z"
   },
   {
    "duration": 934,
    "start_time": "2021-12-15T13:35:40.529Z"
   },
   {
    "duration": 967,
    "start_time": "2021-12-15T13:35:54.537Z"
   },
   {
    "duration": 992,
    "start_time": "2021-12-15T13:36:03.952Z"
   },
   {
    "duration": 996,
    "start_time": "2021-12-15T13:36:32.633Z"
   },
   {
    "duration": 897,
    "start_time": "2021-12-15T13:36:39.032Z"
   },
   {
    "duration": 810,
    "start_time": "2021-12-15T13:37:10.976Z"
   },
   {
    "duration": 945,
    "start_time": "2021-12-15T13:37:14.993Z"
   },
   {
    "duration": 989,
    "start_time": "2021-12-15T13:37:26.096Z"
   },
   {
    "duration": 896,
    "start_time": "2021-12-15T13:44:16.628Z"
   },
   {
    "duration": 1001,
    "start_time": "2021-12-15T13:45:26.248Z"
   },
   {
    "duration": 1037,
    "start_time": "2021-12-15T13:45:40.967Z"
   },
   {
    "duration": 1238,
    "start_time": "2021-12-15T13:46:17.038Z"
   },
   {
    "duration": 1110,
    "start_time": "2021-12-15T13:46:29.543Z"
   },
   {
    "duration": 1055,
    "start_time": "2021-12-15T13:50:08.723Z"
   },
   {
    "duration": 1449,
    "start_time": "2021-12-15T13:50:14.747Z"
   },
   {
    "duration": 1109,
    "start_time": "2021-12-15T13:50:59.354Z"
   },
   {
    "duration": 3053,
    "start_time": "2021-12-15T13:52:24.913Z"
   },
   {
    "duration": 3041,
    "start_time": "2021-12-15T13:55:50.677Z"
   },
   {
    "duration": 561,
    "start_time": "2021-12-15T14:03:35.278Z"
   },
   {
    "duration": 535,
    "start_time": "2021-12-15T14:03:50.070Z"
   },
   {
    "duration": 3028,
    "start_time": "2021-12-15T14:03:58.525Z"
   },
   {
    "duration": 735,
    "start_time": "2021-12-15T14:05:40.804Z"
   },
   {
    "duration": 896,
    "start_time": "2021-12-15T14:05:57.658Z"
   },
   {
    "duration": 766,
    "start_time": "2021-12-15T14:06:38.123Z"
   },
   {
    "duration": 934,
    "start_time": "2021-12-15T14:07:23.570Z"
   },
   {
    "duration": 921,
    "start_time": "2021-12-15T14:08:27.680Z"
   },
   {
    "duration": 936,
    "start_time": "2021-12-15T14:08:35.264Z"
   },
   {
    "duration": 917,
    "start_time": "2021-12-15T14:08:41.904Z"
   },
   {
    "duration": 956,
    "start_time": "2021-12-15T14:08:48.353Z"
   },
   {
    "duration": 1515,
    "start_time": "2021-12-15T14:08:54.952Z"
   },
   {
    "duration": 911,
    "start_time": "2021-12-15T14:09:05.144Z"
   },
   {
    "duration": 880,
    "start_time": "2021-12-15T14:09:10.728Z"
   },
   {
    "duration": 1034,
    "start_time": "2021-12-15T14:09:41.423Z"
   },
   {
    "duration": 1285,
    "start_time": "2021-12-15T14:09:47.598Z"
   },
   {
    "duration": 1042,
    "start_time": "2021-12-15T14:09:55.215Z"
   },
   {
    "duration": 1020,
    "start_time": "2021-12-15T14:10:03.671Z"
   },
   {
    "duration": 865,
    "start_time": "2021-12-15T14:10:07.999Z"
   },
   {
    "duration": 932,
    "start_time": "2021-12-15T14:10:12.598Z"
   },
   {
    "duration": 1024,
    "start_time": "2021-12-15T14:10:19.102Z"
   },
   {
    "duration": 897,
    "start_time": "2021-12-15T14:10:41.326Z"
   },
   {
    "duration": 1058,
    "start_time": "2021-12-15T14:11:02.886Z"
   },
   {
    "duration": 1312,
    "start_time": "2021-12-15T14:11:15.421Z"
   },
   {
    "duration": 731,
    "start_time": "2021-12-15T14:11:31.102Z"
   },
   {
    "duration": 369,
    "start_time": "2021-12-15T14:11:38.766Z"
   },
   {
    "duration": 1028,
    "start_time": "2021-12-15T14:11:46.261Z"
   },
   {
    "duration": 3563,
    "start_time": "2021-12-15T14:11:58.285Z"
   },
   {
    "duration": 2703,
    "start_time": "2021-12-15T14:12:13.260Z"
   },
   {
    "duration": 2976,
    "start_time": "2021-12-15T14:12:53.908Z"
   },
   {
    "duration": 2735,
    "start_time": "2021-12-15T14:13:08.396Z"
   },
   {
    "duration": 627,
    "start_time": "2021-12-15T14:13:47.203Z"
   },
   {
    "duration": 641,
    "start_time": "2021-12-15T14:14:00.628Z"
   },
   {
    "duration": 658,
    "start_time": "2021-12-15T14:14:09.642Z"
   },
   {
    "duration": 2705,
    "start_time": "2021-12-15T14:14:35.627Z"
   },
   {
    "duration": 296,
    "start_time": "2021-12-15T14:20:56.836Z"
   },
   {
    "duration": 305,
    "start_time": "2021-12-15T14:21:15.084Z"
   },
   {
    "duration": 2639,
    "start_time": "2021-12-15T14:21:21.548Z"
   },
   {
    "duration": 301,
    "start_time": "2021-12-15T14:23:02.618Z"
   },
   {
    "duration": 293,
    "start_time": "2021-12-15T14:23:20.178Z"
   },
   {
    "duration": 2644,
    "start_time": "2021-12-15T14:23:29.921Z"
   },
   {
    "duration": 2317,
    "start_time": "2021-12-15T14:25:13.808Z"
   },
   {
    "duration": 2180,
    "start_time": "2021-12-15T14:25:16.128Z"
   },
   {
    "duration": 42,
    "start_time": "2021-12-15T14:25:18.311Z"
   },
   {
    "duration": 3022,
    "start_time": "2021-12-15T14:25:18.355Z"
   },
   {
    "duration": 3003,
    "start_time": "2021-12-15T14:25:35.783Z"
   },
   {
    "duration": 3211,
    "start_time": "2021-12-15T14:31:10.410Z"
   },
   {
    "duration": 3110,
    "start_time": "2021-12-15T14:31:32.601Z"
   },
   {
    "duration": 3097,
    "start_time": "2021-12-15T14:31:52.129Z"
   },
   {
    "duration": 3392,
    "start_time": "2021-12-15T14:34:12.391Z"
   },
   {
    "duration": 3359,
    "start_time": "2021-12-15T14:34:50.063Z"
   },
   {
    "duration": 3676,
    "start_time": "2021-12-15T14:36:26.260Z"
   },
   {
    "duration": 3227,
    "start_time": "2021-12-15T14:36:42.804Z"
   },
   {
    "duration": 3374,
    "start_time": "2021-12-15T14:37:01.500Z"
   },
   {
    "duration": 3245,
    "start_time": "2021-12-15T14:37:12.315Z"
   },
   {
    "duration": 3140,
    "start_time": "2021-12-15T14:37:22.899Z"
   },
   {
    "duration": 3251,
    "start_time": "2021-12-15T14:37:40.259Z"
   },
   {
    "duration": 3593,
    "start_time": "2021-12-15T14:37:49.923Z"
   },
   {
    "duration": 3341,
    "start_time": "2021-12-15T14:37:56.362Z"
   },
   {
    "duration": 3261,
    "start_time": "2021-12-15T14:39:50.673Z"
   },
   {
    "duration": 2240,
    "start_time": "2021-12-15T14:40:05.476Z"
   },
   {
    "duration": 2435,
    "start_time": "2021-12-15T14:40:07.718Z"
   },
   {
    "duration": 24,
    "start_time": "2021-12-15T14:40:10.157Z"
   },
   {
    "duration": 3083,
    "start_time": "2021-12-15T14:40:10.183Z"
   },
   {
    "duration": 3507,
    "start_time": "2021-12-15T14:41:00.804Z"
   },
   {
    "duration": 3213,
    "start_time": "2021-12-15T14:41:31.052Z"
   },
   {
    "duration": 3230,
    "start_time": "2021-12-15T14:42:20.763Z"
   },
   {
    "duration": 3387,
    "start_time": "2021-12-15T14:42:28.523Z"
   },
   {
    "duration": 3434,
    "start_time": "2021-12-15T14:42:44.330Z"
   },
   {
    "duration": 3752,
    "start_time": "2021-12-15T14:42:51.994Z"
   },
   {
    "duration": 3396,
    "start_time": "2021-12-15T14:43:03.121Z"
   },
   {
    "duration": 3478,
    "start_time": "2021-12-15T14:43:08.546Z"
   },
   {
    "duration": 3444,
    "start_time": "2021-12-15T14:43:37.137Z"
   },
   {
    "duration": 3341,
    "start_time": "2021-12-15T14:43:48.121Z"
   },
   {
    "duration": 3175,
    "start_time": "2021-12-15T14:43:55.937Z"
   },
   {
    "duration": 3602,
    "start_time": "2021-12-15T14:44:02.553Z"
   },
   {
    "duration": 3345,
    "start_time": "2021-12-15T14:44:07.985Z"
   },
   {
    "duration": 3190,
    "start_time": "2021-12-15T14:44:15.673Z"
   },
   {
    "duration": 3996,
    "start_time": "2021-12-15T14:44:31.296Z"
   },
   {
    "duration": 3248,
    "start_time": "2021-12-15T14:44:58.584Z"
   },
   {
    "duration": 3620,
    "start_time": "2021-12-15T14:45:13.456Z"
   },
   {
    "duration": 3375,
    "start_time": "2021-12-15T14:46:11.103Z"
   },
   {
    "duration": 3397,
    "start_time": "2021-12-15T14:46:27.799Z"
   },
   {
    "duration": 3826,
    "start_time": "2021-12-15T14:54:09.055Z"
   },
   {
    "duration": 3108,
    "start_time": "2021-12-15T14:56:05.054Z"
   },
   {
    "duration": 3292,
    "start_time": "2021-12-15T14:57:56.676Z"
   },
   {
    "duration": 3516,
    "start_time": "2021-12-15T14:58:28.667Z"
   },
   {
    "duration": 3295,
    "start_time": "2021-12-15T15:00:09.529Z"
   },
   {
    "duration": 3264,
    "start_time": "2021-12-15T15:00:30.065Z"
   },
   {
    "duration": 3692,
    "start_time": "2021-12-15T15:00:43.919Z"
   },
   {
    "duration": 3145,
    "start_time": "2021-12-15T15:01:05.288Z"
   },
   {
    "duration": 2311,
    "start_time": "2021-12-15T15:01:15.760Z"
   },
   {
    "duration": 2128,
    "start_time": "2021-12-15T15:01:18.073Z"
   },
   {
    "duration": 25,
    "start_time": "2021-12-15T15:01:20.204Z"
   },
   {
    "duration": 3457,
    "start_time": "2021-12-15T15:01:20.231Z"
   },
   {
    "duration": 3272,
    "start_time": "2021-12-15T15:01:34.575Z"
   },
   {
    "duration": 3329,
    "start_time": "2021-12-15T15:02:31.151Z"
   },
   {
    "duration": 133,
    "start_time": "2021-12-15T15:03:28.430Z"
   },
   {
    "duration": 3534,
    "start_time": "2021-12-15T15:05:25.045Z"
   },
   {
    "duration": 3407,
    "start_time": "2021-12-15T15:05:40.740Z"
   },
   {
    "duration": 3665,
    "start_time": "2021-12-15T15:09:52.992Z"
   },
   {
    "duration": 3229,
    "start_time": "2021-12-15T15:10:11.600Z"
   },
   {
    "duration": 3146,
    "start_time": "2021-12-15T15:10:33.655Z"
   },
   {
    "duration": 3773,
    "start_time": "2021-12-15T15:10:44.095Z"
   },
   {
    "duration": 367,
    "start_time": "2021-12-15T15:11:04.686Z"
   },
   {
    "duration": 3475,
    "start_time": "2021-12-15T15:11:14.118Z"
   },
   {
    "duration": 3337,
    "start_time": "2021-12-15T15:11:30.190Z"
   },
   {
    "duration": 3372,
    "start_time": "2021-12-15T15:11:37.941Z"
   },
   {
    "duration": 3362,
    "start_time": "2021-12-15T15:12:24.910Z"
   },
   {
    "duration": 6,
    "start_time": "2021-12-15T15:16:17.953Z"
   },
   {
    "duration": 3477,
    "start_time": "2021-12-15T15:16:34.777Z"
   },
   {
    "duration": 3545,
    "start_time": "2021-12-15T15:16:45.129Z"
   },
   {
    "duration": 3297,
    "start_time": "2021-12-15T15:17:10.057Z"
   },
   {
    "duration": 5,
    "start_time": "2021-12-15T15:17:28.984Z"
   },
   {
    "duration": 3308,
    "start_time": "2021-12-15T15:17:53.111Z"
   },
   {
    "duration": 8,
    "start_time": "2021-12-15T15:18:28.064Z"
   },
   {
    "duration": 3345,
    "start_time": "2021-12-15T15:18:29.943Z"
   },
   {
    "duration": 94,
    "start_time": "2021-12-16T12:23:11.149Z"
   },
   {
    "duration": 96,
    "start_time": "2021-12-16T12:23:24.946Z"
   },
   {
    "duration": -106,
    "start_time": "2021-12-16T12:23:25.151Z"
   },
   {
    "duration": -110,
    "start_time": "2021-12-16T12:23:25.159Z"
   },
   {
    "duration": -116,
    "start_time": "2021-12-16T12:23:25.167Z"
   },
   {
    "duration": -117,
    "start_time": "2021-12-16T12:23:25.170Z"
   },
   {
    "duration": 101,
    "start_time": "2021-12-16T12:23:40.866Z"
   },
   {
    "duration": 4553,
    "start_time": "2021-12-16T12:23:49.073Z"
   },
   {
    "duration": 2951,
    "start_time": "2021-12-16T12:24:06.037Z"
   },
   {
    "duration": 2685,
    "start_time": "2021-12-16T12:24:08.991Z"
   },
   {
    "duration": 162,
    "start_time": "2021-12-16T12:24:11.680Z"
   },
   {
    "duration": 8,
    "start_time": "2021-12-16T12:24:11.844Z"
   },
   {
    "duration": 4679,
    "start_time": "2021-12-16T12:24:11.854Z"
   },
   {
    "duration": 48,
    "start_time": "2021-12-16T12:26:02.935Z"
   },
   {
    "duration": 29,
    "start_time": "2021-12-16T12:26:56.980Z"
   },
   {
    "duration": 161,
    "start_time": "2021-12-16T12:27:07.869Z"
   },
   {
    "duration": 467,
    "start_time": "2021-12-16T12:27:10.558Z"
   },
   {
    "duration": 51,
    "start_time": "2021-12-16T12:27:18.134Z"
   },
   {
    "duration": 122,
    "start_time": "2021-12-16T12:27:34.430Z"
   },
   {
    "duration": 16,
    "start_time": "2021-12-16T12:28:04.741Z"
   },
   {
    "duration": 53,
    "start_time": "2021-12-16T12:28:23.541Z"
   },
   {
    "duration": 163,
    "start_time": "2021-12-16T12:36:55.035Z"
   },
   {
    "duration": 192,
    "start_time": "2021-12-16T12:37:30.644Z"
   },
   {
    "duration": 4409,
    "start_time": "2021-12-16T12:38:18.755Z"
   },
   {
    "duration": 130,
    "start_time": "2021-12-16T12:39:27.195Z"
   },
   {
    "duration": 449,
    "start_time": "2021-12-16T12:39:33.802Z"
   },
   {
    "duration": 2989,
    "start_time": "2021-12-16T12:40:12.542Z"
   },
   {
    "duration": 2711,
    "start_time": "2021-12-16T12:40:15.533Z"
   },
   {
    "duration": 163,
    "start_time": "2021-12-16T12:40:18.248Z"
   },
   {
    "duration": 11,
    "start_time": "2021-12-16T12:40:18.414Z"
   },
   {
    "duration": 4708,
    "start_time": "2021-12-16T12:40:18.428Z"
   },
   {
    "duration": 262,
    "start_time": "2021-12-16T12:40:23.138Z"
   },
   {
    "duration": 4669,
    "start_time": "2021-12-16T12:40:23.402Z"
   },
   {
    "duration": 42,
    "start_time": "2021-12-16T12:41:31.268Z"
   },
   {
    "duration": 57,
    "start_time": "2021-12-16T12:43:27.403Z"
   },
   {
    "duration": 54,
    "start_time": "2021-12-16T12:46:47.656Z"
   },
   {
    "duration": 164,
    "start_time": "2021-12-16T12:48:02.743Z"
   },
   {
    "duration": 230,
    "start_time": "2021-12-16T12:48:23.631Z"
   },
   {
    "duration": 4432,
    "start_time": "2021-12-16T12:48:42.013Z"
   },
   {
    "duration": 3100,
    "start_time": "2021-12-16T12:50:56.621Z"
   },
   {
    "duration": 2734,
    "start_time": "2021-12-16T12:50:59.724Z"
   },
   {
    "duration": 171,
    "start_time": "2021-12-16T12:51:02.461Z"
   },
   {
    "duration": 8,
    "start_time": "2021-12-16T12:51:02.635Z"
   },
   {
    "duration": 4692,
    "start_time": "2021-12-16T12:51:02.645Z"
   },
   {
    "duration": 257,
    "start_time": "2021-12-16T12:51:07.339Z"
   },
   {
    "duration": 4691,
    "start_time": "2021-12-16T12:51:07.599Z"
   },
   {
    "duration": 244,
    "start_time": "2021-12-16T12:51:12.294Z"
   },
   {
    "duration": 4425,
    "start_time": "2021-12-16T12:51:12.540Z"
   },
   {
    "duration": 7,
    "start_time": "2021-12-16T12:52:41.908Z"
   },
   {
    "duration": 19,
    "start_time": "2021-12-16T12:52:55.221Z"
   },
   {
    "duration": 29,
    "start_time": "2021-12-16T12:54:06.356Z"
   },
   {
    "duration": 70,
    "start_time": "2021-12-16T12:54:23.691Z"
   },
   {
    "duration": 106,
    "start_time": "2021-12-16T12:54:59.722Z"
   },
   {
    "duration": 582,
    "start_time": "2021-12-16T12:57:05.657Z"
   },
   {
    "duration": 160,
    "start_time": "2021-12-16T12:57:26.169Z"
   },
   {
    "duration": 165,
    "start_time": "2021-12-16T12:59:33.815Z"
   },
   {
    "duration": 163,
    "start_time": "2021-12-16T13:07:16.224Z"
   },
   {
    "duration": 95,
    "start_time": "2021-12-16T13:07:43.927Z"
   },
   {
    "duration": 97,
    "start_time": "2021-12-16T13:07:52.909Z"
   },
   {
    "duration": 174,
    "start_time": "2021-12-16T13:08:01.909Z"
   },
   {
    "duration": 149,
    "start_time": "2021-12-16T13:08:36.374Z"
   },
   {
    "duration": 443,
    "start_time": "2021-12-16T13:08:42.198Z"
   },
   {
    "duration": 5604,
    "start_time": "2021-12-17T11:37:53.801Z"
   },
   {
    "duration": 3121,
    "start_time": "2021-12-17T11:37:59.408Z"
   },
   {
    "duration": 231,
    "start_time": "2021-12-17T11:38:02.536Z"
   },
   {
    "duration": 11,
    "start_time": "2021-12-17T11:38:02.770Z"
   },
   {
    "duration": 5149,
    "start_time": "2021-12-17T11:38:02.783Z"
   },
   {
    "duration": 268,
    "start_time": "2021-12-17T11:38:07.935Z"
   },
   {
    "duration": 5074,
    "start_time": "2021-12-17T11:38:08.205Z"
   },
   {
    "duration": 255,
    "start_time": "2021-12-17T11:38:13.283Z"
   },
   {
    "duration": 4769,
    "start_time": "2021-12-17T11:38:13.541Z"
   },
   {
    "duration": 90,
    "start_time": "2021-12-17T11:38:18.312Z"
   },
   {
    "duration": 42,
    "start_time": "2021-12-17T11:39:43.585Z"
   },
   {
    "duration": 110,
    "start_time": "2021-12-17T11:48:12.111Z"
   },
   {
    "duration": 518,
    "start_time": "2021-12-17T11:49:28.725Z"
   },
   {
    "duration": 111,
    "start_time": "2021-12-17T11:49:39.367Z"
   },
   {
    "duration": 141,
    "start_time": "2021-12-17T11:49:49.840Z"
   },
   {
    "duration": 89,
    "start_time": "2021-12-17T11:50:38.903Z"
   },
   {
    "duration": 84,
    "start_time": "2021-12-17T11:52:57.765Z"
   },
   {
    "duration": 75,
    "start_time": "2021-12-17T11:55:33.905Z"
   },
   {
    "duration": 109,
    "start_time": "2021-12-17T11:55:46.921Z"
   },
   {
    "duration": 130,
    "start_time": "2021-12-17T11:56:24.657Z"
   },
   {
    "duration": 150,
    "start_time": "2021-12-17T11:56:51.081Z"
   },
   {
    "duration": 147,
    "start_time": "2021-12-17T11:56:59.593Z"
   },
   {
    "duration": 158,
    "start_time": "2021-12-17T11:58:04.552Z"
   },
   {
    "duration": 127,
    "start_time": "2021-12-17T12:03:32.848Z"
   },
   {
    "duration": 115,
    "start_time": "2021-12-17T12:04:48.033Z"
   },
   {
    "duration": 4545,
    "start_time": "2021-12-20T10:28:28.567Z"
   },
   {
    "duration": 3084,
    "start_time": "2021-12-20T10:28:33.114Z"
   },
   {
    "duration": 176,
    "start_time": "2021-12-20T10:28:36.201Z"
   },
   {
    "duration": 8,
    "start_time": "2021-12-20T10:28:36.380Z"
   },
   {
    "duration": 5116,
    "start_time": "2021-12-20T10:28:36.391Z"
   },
   {
    "duration": 262,
    "start_time": "2021-12-20T10:28:41.510Z"
   },
   {
    "duration": 5241,
    "start_time": "2021-12-20T10:28:41.775Z"
   },
   {
    "duration": 258,
    "start_time": "2021-12-20T10:28:47.019Z"
   },
   {
    "duration": 4993,
    "start_time": "2021-12-20T10:28:47.280Z"
   },
   {
    "duration": 124,
    "start_time": "2021-12-20T10:28:52.275Z"
   },
   {
    "duration": 304,
    "start_time": "2021-12-20T10:38:19.567Z"
   },
   {
    "duration": 476,
    "start_time": "2021-12-20T10:39:24.239Z"
   },
   {
    "duration": 476,
    "start_time": "2021-12-20T10:39:49.168Z"
   },
   {
    "duration": 480,
    "start_time": "2021-12-20T10:42:41.525Z"
   },
   {
    "duration": 105,
    "start_time": "2021-12-20T11:05:19.996Z"
   },
   {
    "duration": 518,
    "start_time": "2021-12-20T11:05:48.476Z"
   },
   {
    "duration": 504,
    "start_time": "2021-12-20T11:06:33.413Z"
   },
   {
    "duration": 503,
    "start_time": "2021-12-20T11:06:48.748Z"
   },
   {
    "duration": 647,
    "start_time": "2021-12-20T11:07:30.532Z"
   },
   {
    "duration": 494,
    "start_time": "2021-12-20T11:07:52.122Z"
   },
   {
    "duration": 492,
    "start_time": "2021-12-20T11:09:06.818Z"
   },
   {
    "duration": 521,
    "start_time": "2021-12-20T11:09:21.627Z"
   },
   {
    "duration": 496,
    "start_time": "2021-12-20T11:09:28.890Z"
   },
   {
    "duration": 503,
    "start_time": "2021-12-20T11:09:36.809Z"
   },
   {
    "duration": 485,
    "start_time": "2021-12-20T11:09:47.617Z"
   },
   {
    "duration": 459,
    "start_time": "2021-12-20T11:10:36.825Z"
   },
   {
    "duration": 3369,
    "start_time": "2021-12-20T11:15:52.773Z"
   },
   {
    "duration": 3080,
    "start_time": "2021-12-20T11:15:56.145Z"
   },
   {
    "duration": 184,
    "start_time": "2021-12-20T11:15:59.228Z"
   },
   {
    "duration": 9,
    "start_time": "2021-12-20T11:15:59.415Z"
   },
   {
    "duration": 5217,
    "start_time": "2021-12-20T11:15:59.426Z"
   },
   {
    "duration": 295,
    "start_time": "2021-12-20T11:16:04.646Z"
   },
   {
    "duration": 5727,
    "start_time": "2021-12-20T11:16:04.943Z"
   },
   {
    "duration": 251,
    "start_time": "2021-12-20T11:16:10.674Z"
   },
   {
    "duration": 5052,
    "start_time": "2021-12-20T11:16:10.928Z"
   },
   {
    "duration": 501,
    "start_time": "2021-12-20T11:16:15.982Z"
   },
   {
    "duration": 3,
    "start_time": "2021-12-20T11:16:16.486Z"
   },
   {
    "duration": 48,
    "start_time": "2021-12-20T11:18:40.863Z"
   },
   {
    "duration": 3983,
    "start_time": "2021-12-20T11:19:06.807Z"
   },
   {
    "duration": 275,
    "start_time": "2021-12-20T11:22:22.396Z"
   },
   {
    "duration": 268,
    "start_time": "2021-12-20T11:24:43.009Z"
   },
   {
    "duration": 25,
    "start_time": "2021-12-20T11:25:09.641Z"
   },
   {
    "duration": 3593,
    "start_time": "2021-12-20T11:26:07.901Z"
   },
   {
    "duration": 2936,
    "start_time": "2021-12-20T11:26:11.496Z"
   },
   {
    "duration": 178,
    "start_time": "2021-12-20T11:26:14.434Z"
   },
   {
    "duration": 10,
    "start_time": "2021-12-20T11:26:14.614Z"
   },
   {
    "duration": 5172,
    "start_time": "2021-12-20T11:26:14.627Z"
   },
   {
    "duration": 288,
    "start_time": "2021-12-20T11:26:19.802Z"
   },
   {
    "duration": 5225,
    "start_time": "2021-12-20T11:26:20.093Z"
   },
   {
    "duration": 288,
    "start_time": "2021-12-20T11:26:25.323Z"
   },
   {
    "duration": 4828,
    "start_time": "2021-12-20T11:26:25.615Z"
   },
   {
    "duration": 484,
    "start_time": "2021-12-20T11:26:30.446Z"
   },
   {
    "duration": 4,
    "start_time": "2021-12-20T11:26:30.932Z"
   },
   {
    "duration": 175,
    "start_time": "2021-12-20T11:30:18.931Z"
   },
   {
    "duration": 160,
    "start_time": "2021-12-20T11:30:25.979Z"
   },
   {
    "duration": 159,
    "start_time": "2021-12-20T11:32:45.377Z"
   },
   {
    "duration": 3128,
    "start_time": "2021-12-20T11:33:13.660Z"
   },
   {
    "duration": 2880,
    "start_time": "2021-12-20T11:33:16.791Z"
   },
   {
    "duration": 174,
    "start_time": "2021-12-20T11:33:19.674Z"
   },
   {
    "duration": 17,
    "start_time": "2021-12-20T11:33:19.850Z"
   },
   {
    "duration": 5507,
    "start_time": "2021-12-20T11:33:19.870Z"
   },
   {
    "duration": 276,
    "start_time": "2021-12-20T11:33:25.380Z"
   },
   {
    "duration": 5175,
    "start_time": "2021-12-20T11:33:25.658Z"
   },
   {
    "duration": 290,
    "start_time": "2021-12-20T11:33:30.837Z"
   },
   {
    "duration": 4945,
    "start_time": "2021-12-20T11:33:31.131Z"
   },
   {
    "duration": 455,
    "start_time": "2021-12-20T11:33:36.079Z"
   },
   {
    "duration": 225,
    "start_time": "2021-12-20T11:33:36.537Z"
   },
   {
    "duration": 3243,
    "start_time": "2021-12-20T11:33:56.272Z"
   },
   {
    "duration": 3489,
    "start_time": "2021-12-20T11:33:59.519Z"
   },
   {
    "duration": 179,
    "start_time": "2021-12-20T11:34:03.011Z"
   },
   {
    "duration": 9,
    "start_time": "2021-12-20T11:34:03.193Z"
   },
   {
    "duration": 5340,
    "start_time": "2021-12-20T11:34:03.204Z"
   },
   {
    "duration": 276,
    "start_time": "2021-12-20T11:34:08.546Z"
   },
   {
    "duration": 5229,
    "start_time": "2021-12-20T11:34:08.824Z"
   },
   {
    "duration": 263,
    "start_time": "2021-12-20T11:34:14.067Z"
   },
   {
    "duration": 4795,
    "start_time": "2021-12-20T11:34:14.332Z"
   },
   {
    "duration": 480,
    "start_time": "2021-12-20T11:34:19.129Z"
   },
   {
    "duration": 219,
    "start_time": "2021-12-20T11:34:19.611Z"
   },
   {
    "duration": 3439,
    "start_time": "2021-12-20T11:36:40.254Z"
   },
   {
    "duration": 40,
    "start_time": "2021-12-20T11:37:15.774Z"
   },
   {
    "duration": 40,
    "start_time": "2021-12-20T11:37:18.693Z"
   },
   {
    "duration": 102,
    "start_time": "2021-12-20T11:38:07.589Z"
   },
   {
    "duration": 4095,
    "start_time": "2021-12-20T11:40:21.531Z"
   },
   {
    "duration": 4605,
    "start_time": "2021-12-20T11:44:12.718Z"
   },
   {
    "duration": 4125,
    "start_time": "2021-12-20T11:44:23.862Z"
   },
   {
    "duration": 41,
    "start_time": "2021-12-20T11:46:10.324Z"
   },
   {
    "duration": 221,
    "start_time": "2021-12-20T11:52:28.975Z"
   },
   {
    "duration": 133,
    "start_time": "2021-12-20T12:02:59.488Z"
   },
   {
    "duration": 3268,
    "start_time": "2021-12-20T12:04:02.020Z"
   },
   {
    "duration": 3216,
    "start_time": "2021-12-20T12:04:05.292Z"
   },
   {
    "duration": 178,
    "start_time": "2021-12-20T12:04:08.512Z"
   },
   {
    "duration": 9,
    "start_time": "2021-12-20T12:04:08.693Z"
   },
   {
    "duration": 5286,
    "start_time": "2021-12-20T12:04:08.704Z"
   },
   {
    "duration": 282,
    "start_time": "2021-12-20T12:04:13.992Z"
   },
   {
    "duration": 5158,
    "start_time": "2021-12-20T12:04:14.276Z"
   },
   {
    "duration": 280,
    "start_time": "2021-12-20T12:04:19.438Z"
   },
   {
    "duration": 4953,
    "start_time": "2021-12-20T12:04:19.721Z"
   },
   {
    "duration": 465,
    "start_time": "2021-12-20T12:04:24.677Z"
   },
   {
    "duration": 226,
    "start_time": "2021-12-20T12:04:25.145Z"
   },
   {
    "duration": 4135,
    "start_time": "2021-12-20T12:04:25.374Z"
   },
   {
    "duration": 66,
    "start_time": "2021-12-20T12:04:29.511Z"
   },
   {
    "duration": 3,
    "start_time": "2021-12-20T12:04:29.579Z"
   },
   {
    "duration": 119,
    "start_time": "2021-12-20T12:04:29.584Z"
   },
   {
    "duration": 44,
    "start_time": "2021-12-20T12:05:32.159Z"
   },
   {
    "duration": 486,
    "start_time": "2021-12-20T12:08:19.261Z"
   },
   {
    "duration": 319,
    "start_time": "2021-12-20T12:08:30.804Z"
   },
   {
    "duration": 50,
    "start_time": "2021-12-20T12:08:37.469Z"
   },
   {
    "duration": 4640,
    "start_time": "2021-12-23T12:17:00.208Z"
   },
   {
    "duration": 2979,
    "start_time": "2021-12-23T12:17:04.851Z"
   },
   {
    "duration": 173,
    "start_time": "2021-12-23T12:17:07.833Z"
   },
   {
    "duration": 9,
    "start_time": "2021-12-23T12:17:08.016Z"
   },
   {
    "duration": 5157,
    "start_time": "2021-12-23T12:17:08.028Z"
   },
   {
    "duration": 274,
    "start_time": "2021-12-23T12:17:13.187Z"
   },
   {
    "duration": 5267,
    "start_time": "2021-12-23T12:17:13.464Z"
   },
   {
    "duration": 261,
    "start_time": "2021-12-23T12:17:18.735Z"
   },
   {
    "duration": 5293,
    "start_time": "2021-12-23T12:17:18.999Z"
   },
   {
    "duration": 469,
    "start_time": "2021-12-23T12:17:24.294Z"
   },
   {
    "duration": 219,
    "start_time": "2021-12-23T12:17:24.765Z"
   },
   {
    "duration": 3996,
    "start_time": "2021-12-23T12:17:24.986Z"
   },
   {
    "duration": 70,
    "start_time": "2021-12-23T12:17:28.985Z"
   },
   {
    "duration": 3,
    "start_time": "2021-12-23T12:17:29.057Z"
   },
   {
    "duration": 6,
    "start_time": "2021-12-23T12:17:29.062Z"
   },
   {
    "duration": 124,
    "start_time": "2021-12-23T12:17:29.070Z"
   },
   {
    "duration": 66,
    "start_time": "2021-12-23T12:28:18.161Z"
   },
   {
    "duration": 38,
    "start_time": "2021-12-23T12:31:28.374Z"
   },
   {
    "duration": 66,
    "start_time": "2021-12-23T12:31:45.686Z"
   },
   {
    "duration": 55,
    "start_time": "2021-12-23T12:31:57.736Z"
   },
   {
    "duration": 41,
    "start_time": "2021-12-23T12:32:08.166Z"
   },
   {
    "duration": 39,
    "start_time": "2021-12-23T12:32:23.550Z"
   },
   {
    "duration": 44,
    "start_time": "2021-12-23T12:33:00.165Z"
   },
   {
    "duration": 8159,
    "start_time": "2021-12-23T12:33:30.693Z"
   },
   {
    "duration": 44,
    "start_time": "2021-12-23T12:33:50.900Z"
   },
   {
    "duration": 51,
    "start_time": "2021-12-23T12:35:17.477Z"
   },
   {
    "duration": 52,
    "start_time": "2021-12-23T12:35:29.226Z"
   },
   {
    "duration": 52,
    "start_time": "2021-12-23T12:35:46.571Z"
   },
   {
    "duration": 50,
    "start_time": "2021-12-23T12:35:53.330Z"
   },
   {
    "duration": 55,
    "start_time": "2021-12-23T12:36:03.195Z"
   },
   {
    "duration": 48,
    "start_time": "2021-12-23T12:36:10.377Z"
   },
   {
    "duration": 48,
    "start_time": "2021-12-23T12:36:15.050Z"
   },
   {
    "duration": 49,
    "start_time": "2021-12-23T12:36:18.153Z"
   },
   {
    "duration": 48,
    "start_time": "2021-12-23T12:36:25.640Z"
   },
   {
    "duration": 65,
    "start_time": "2021-12-23T12:36:29.129Z"
   },
   {
    "duration": 52,
    "start_time": "2021-12-23T12:36:31.921Z"
   },
   {
    "duration": 53,
    "start_time": "2021-12-23T12:36:34.857Z"
   },
   {
    "duration": 56,
    "start_time": "2021-12-23T12:36:39.257Z"
   },
   {
    "duration": 50,
    "start_time": "2021-12-23T12:36:42.281Z"
   },
   {
    "duration": 52,
    "start_time": "2021-12-23T12:45:49.864Z"
   },
   {
    "duration": 51,
    "start_time": "2021-12-23T12:45:59.744Z"
   },
   {
    "duration": 42,
    "start_time": "2021-12-23T12:46:41.536Z"
   },
   {
    "duration": 25,
    "start_time": "2021-12-23T12:51:23.650Z"
   },
   {
    "duration": 41,
    "start_time": "2021-12-23T12:51:33.522Z"
   },
   {
    "duration": 55,
    "start_time": "2021-12-23T12:53:19.136Z"
   },
   {
    "duration": 313,
    "start_time": "2021-12-23T12:54:17.735Z"
   },
   {
    "duration": 11,
    "start_time": "2021-12-23T12:59:15.115Z"
   },
   {
    "duration": 40,
    "start_time": "2021-12-23T12:59:25.241Z"
   },
   {
    "duration": 609,
    "start_time": "2021-12-23T13:00:08.505Z"
   },
   {
    "duration": 51,
    "start_time": "2021-12-23T13:00:35.921Z"
   },
   {
    "duration": 49,
    "start_time": "2021-12-23T13:00:43.994Z"
   },
   {
    "duration": 51,
    "start_time": "2021-12-23T13:01:00.553Z"
   },
   {
    "duration": 336,
    "start_time": "2021-12-23T13:01:10.145Z"
   },
   {
    "duration": 3225,
    "start_time": "2021-12-23T13:01:37.127Z"
   },
   {
    "duration": 4730,
    "start_time": "2021-12-23T13:01:40.355Z"
   },
   {
    "duration": 171,
    "start_time": "2021-12-23T13:01:45.088Z"
   },
   {
    "duration": 8,
    "start_time": "2021-12-23T13:01:45.262Z"
   },
   {
    "duration": 5150,
    "start_time": "2021-12-23T13:01:45.273Z"
   },
   {
    "duration": 279,
    "start_time": "2021-12-23T13:01:50.425Z"
   },
   {
    "duration": 5119,
    "start_time": "2021-12-23T13:01:50.706Z"
   },
   {
    "duration": 277,
    "start_time": "2021-12-23T13:01:55.828Z"
   },
   {
    "duration": 5129,
    "start_time": "2021-12-23T13:01:56.117Z"
   },
   {
    "duration": 487,
    "start_time": "2021-12-23T13:02:01.248Z"
   },
   {
    "duration": 214,
    "start_time": "2021-12-23T13:02:01.738Z"
   },
   {
    "duration": 4217,
    "start_time": "2021-12-23T13:02:01.954Z"
   },
   {
    "duration": 56,
    "start_time": "2021-12-23T13:02:32.280Z"
   },
   {
    "duration": 54,
    "start_time": "2021-12-23T13:02:43.128Z"
   },
   {
    "duration": 51,
    "start_time": "2021-12-23T13:03:04.000Z"
   },
   {
    "duration": 72,
    "start_time": "2021-12-23T13:03:38.304Z"
   },
   {
    "duration": 44,
    "start_time": "2021-12-23T13:03:41.268Z"
   },
   {
    "duration": 39,
    "start_time": "2021-12-23T13:03:52.815Z"
   },
   {
    "duration": 39,
    "start_time": "2021-12-23T13:04:56.359Z"
   },
   {
    "duration": 36,
    "start_time": "2021-12-23T13:05:15.277Z"
   },
   {
    "duration": 103,
    "start_time": "2021-12-23T13:22:25.171Z"
   },
   {
    "duration": 473,
    "start_time": "2021-12-23T13:23:04.123Z"
   },
   {
    "duration": 3402,
    "start_time": "2021-12-23T13:23:34.483Z"
   },
   {
    "duration": 2833,
    "start_time": "2021-12-23T13:23:37.889Z"
   },
   {
    "duration": 175,
    "start_time": "2021-12-23T13:23:40.725Z"
   },
   {
    "duration": 17,
    "start_time": "2021-12-23T13:23:40.902Z"
   },
   {
    "duration": 5156,
    "start_time": "2021-12-23T13:23:40.922Z"
   },
   {
    "duration": 289,
    "start_time": "2021-12-23T13:23:46.081Z"
   },
   {
    "duration": 5145,
    "start_time": "2021-12-23T13:23:46.373Z"
   },
   {
    "duration": 265,
    "start_time": "2021-12-23T13:23:51.523Z"
   },
   {
    "duration": 5262,
    "start_time": "2021-12-23T13:23:51.791Z"
   },
   {
    "duration": 530,
    "start_time": "2021-12-23T13:23:57.056Z"
   },
   {
    "duration": 282,
    "start_time": "2021-12-23T13:23:57.590Z"
   },
   {
    "duration": 4213,
    "start_time": "2021-12-23T13:23:57.874Z"
   },
   {
    "duration": 67,
    "start_time": "2021-12-23T13:24:02.089Z"
   },
   {
    "duration": 64,
    "start_time": "2021-12-23T13:24:02.159Z"
   },
   {
    "duration": 54,
    "start_time": "2021-12-23T13:24:02.226Z"
   },
   {
    "duration": 106,
    "start_time": "2021-12-23T13:24:40.226Z"
   },
   {
    "duration": 89,
    "start_time": "2021-12-23T13:24:53.025Z"
   },
   {
    "duration": 758,
    "start_time": "2021-12-23T13:24:56.825Z"
   },
   {
    "duration": 301,
    "start_time": "2021-12-23T13:25:06.201Z"
   },
   {
    "duration": 264,
    "start_time": "2021-12-23T13:25:14.681Z"
   },
   {
    "duration": 3440,
    "start_time": "2021-12-23T13:25:49.330Z"
   },
   {
    "duration": 3092,
    "start_time": "2021-12-23T13:25:52.774Z"
   },
   {
    "duration": 263,
    "start_time": "2021-12-23T13:25:55.869Z"
   },
   {
    "duration": 9,
    "start_time": "2021-12-23T13:25:56.136Z"
   },
   {
    "duration": 5484,
    "start_time": "2021-12-23T13:25:56.148Z"
   },
   {
    "duration": 365,
    "start_time": "2021-12-23T13:26:01.636Z"
   },
   {
    "duration": 5723,
    "start_time": "2021-12-23T13:26:02.005Z"
   },
   {
    "duration": 270,
    "start_time": "2021-12-23T13:26:07.733Z"
   },
   {
    "duration": 7250,
    "start_time": "2021-12-23T13:26:08.007Z"
   },
   {
    "duration": 467,
    "start_time": "2021-12-23T13:26:15.259Z"
   },
   {
    "duration": 215,
    "start_time": "2021-12-23T13:26:15.729Z"
   },
   {
    "duration": 3858,
    "start_time": "2021-12-23T13:26:15.946Z"
   },
   {
    "duration": 50,
    "start_time": "2021-12-23T13:26:19.817Z"
   },
   {
    "duration": 88,
    "start_time": "2021-12-23T13:26:19.870Z"
   },
   {
    "duration": 59,
    "start_time": "2021-12-23T13:26:19.960Z"
   },
   {
    "duration": 3,
    "start_time": "2021-12-23T13:27:11.128Z"
   },
   {
    "duration": 132,
    "start_time": "2021-12-23T13:28:30.591Z"
   },
   {
    "duration": 7,
    "start_time": "2021-12-23T13:29:00.702Z"
   },
   {
    "duration": 8,
    "start_time": "2021-12-23T13:29:07.342Z"
   },
   {
    "duration": 7,
    "start_time": "2021-12-23T13:29:13.197Z"
   },
   {
    "duration": 8,
    "start_time": "2021-12-23T13:29:18.085Z"
   },
   {
    "duration": 7,
    "start_time": "2021-12-23T13:29:22.189Z"
   },
   {
    "duration": 7,
    "start_time": "2021-12-23T13:29:28.861Z"
   },
   {
    "duration": 8,
    "start_time": "2021-12-23T13:29:35.197Z"
   },
   {
    "duration": 434,
    "start_time": "2021-12-23T13:29:43.093Z"
   },
   {
    "duration": 87,
    "start_time": "2021-12-23T13:30:55.603Z"
   },
   {
    "duration": 21,
    "start_time": "2021-12-23T13:31:12.763Z"
   },
   {
    "duration": 306,
    "start_time": "2021-12-23T13:31:36.404Z"
   },
   {
    "duration": 56,
    "start_time": "2021-12-23T13:32:04.978Z"
   },
   {
    "duration": 136,
    "start_time": "2021-12-23T13:32:27.810Z"
   },
   {
    "duration": 4213,
    "start_time": "2021-12-23T13:33:11.233Z"
   },
   {
    "duration": 37,
    "start_time": "2021-12-23T13:33:53.249Z"
   },
   {
    "duration": 22,
    "start_time": "2021-12-23T13:34:07.209Z"
   },
   {
    "duration": 6992,
    "start_time": "2021-12-23T13:34:10.600Z"
   },
   {
    "duration": 8,
    "start_time": "2021-12-23T13:34:23.472Z"
   },
   {
    "duration": 6914,
    "start_time": "2021-12-23T13:34:29.551Z"
   },
   {
    "duration": 7208,
    "start_time": "2021-12-23T13:35:12.159Z"
   },
   {
    "duration": 7383,
    "start_time": "2021-12-23T13:35:25.431Z"
   },
   {
    "duration": 111,
    "start_time": "2021-12-23T13:35:37.415Z"
   },
   {
    "duration": 24,
    "start_time": "2021-12-23T13:35:42.511Z"
   },
   {
    "duration": 7,
    "start_time": "2021-12-23T13:36:53.725Z"
   },
   {
    "duration": 6,
    "start_time": "2021-12-23T13:37:06.701Z"
   },
   {
    "duration": 12,
    "start_time": "2021-12-23T13:37:11.405Z"
   },
   {
    "duration": 10,
    "start_time": "2021-12-23T13:37:31.765Z"
   },
   {
    "duration": 341,
    "start_time": "2021-12-23T13:38:41.892Z"
   },
   {
    "duration": 12,
    "start_time": "2021-12-23T13:39:09.435Z"
   },
   {
    "duration": 12,
    "start_time": "2021-12-23T13:39:18.387Z"
   },
   {
    "duration": 82,
    "start_time": "2021-12-23T13:39:49.434Z"
   },
   {
    "duration": 12,
    "start_time": "2021-12-23T13:39:52.603Z"
   },
   {
    "duration": 67,
    "start_time": "2021-12-23T13:50:56.584Z"
   },
   {
    "duration": 123,
    "start_time": "2021-12-23T13:51:23.057Z"
   },
   {
    "duration": 274,
    "start_time": "2021-12-23T13:51:38.416Z"
   },
   {
    "duration": 62,
    "start_time": "2021-12-23T13:51:46.175Z"
   },
   {
    "duration": 13,
    "start_time": "2021-12-23T13:52:09.782Z"
   },
   {
    "duration": 21,
    "start_time": "2021-12-23T13:52:12.622Z"
   },
   {
    "duration": 66,
    "start_time": "2021-12-23T13:53:28.581Z"
   },
   {
    "duration": 8285,
    "start_time": "2021-12-23T13:54:50.166Z"
   },
   {
    "duration": 9567,
    "start_time": "2021-12-23T13:55:09.780Z"
   },
   {
    "duration": 105,
    "start_time": "2021-12-23T13:55:20.067Z"
   },
   {
    "duration": 43,
    "start_time": "2021-12-23T13:56:51.249Z"
   },
   {
    "duration": 70,
    "start_time": "2021-12-23T14:06:43.376Z"
   },
   {
    "duration": 37,
    "start_time": "2021-12-23T14:08:04.975Z"
   },
   {
    "duration": 70,
    "start_time": "2021-12-23T14:08:20.397Z"
   },
   {
    "duration": 343,
    "start_time": "2021-12-23T14:10:57.820Z"
   },
   {
    "duration": 87,
    "start_time": "2021-12-23T14:11:11.684Z"
   },
   {
    "duration": 56,
    "start_time": "2021-12-23T14:11:17.380Z"
   },
   {
    "duration": 3938,
    "start_time": "2021-12-23T14:14:13.111Z"
   },
   {
    "duration": 60,
    "start_time": "2021-12-23T14:31:39.663Z"
   },
   {
    "duration": 67,
    "start_time": "2021-12-23T14:31:45.279Z"
   },
   {
    "duration": 73,
    "start_time": "2021-12-23T14:31:52.703Z"
   },
   {
    "duration": 170,
    "start_time": "2021-12-23T14:32:08.855Z"
   },
   {
    "duration": 45,
    "start_time": "2021-12-23T14:32:43.077Z"
   },
   {
    "duration": 109,
    "start_time": "2021-12-23T14:33:08.925Z"
   },
   {
    "duration": 91,
    "start_time": "2021-12-23T14:36:03.490Z"
   },
   {
    "duration": 158,
    "start_time": "2021-12-23T14:40:32.478Z"
   },
   {
    "duration": 141,
    "start_time": "2021-12-23T14:40:46.926Z"
   },
   {
    "duration": 1421,
    "start_time": "2021-12-23T14:42:14.797Z"
   },
   {
    "duration": 349,
    "start_time": "2021-12-23T14:42:59.404Z"
   },
   {
    "duration": 87,
    "start_time": "2021-12-23T14:45:02.817Z"
   },
   {
    "duration": 126,
    "start_time": "2021-12-23T14:45:06.457Z"
   },
   {
    "duration": 136,
    "start_time": "2021-12-23T14:47:28.871Z"
   },
   {
    "duration": 112,
    "start_time": "2021-12-23T14:48:16.566Z"
   },
   {
    "duration": 97,
    "start_time": "2021-12-23T15:56:25.744Z"
   },
   {
    "duration": 134,
    "start_time": "2021-12-23T15:57:47.013Z"
   },
   {
    "duration": 151,
    "start_time": "2021-12-23T15:58:19.597Z"
   },
   {
    "duration": 251,
    "start_time": "2021-12-23T15:58:27.957Z"
   },
   {
    "duration": 3078,
    "start_time": "2021-12-23T16:04:39.298Z"
   },
   {
    "duration": 2945,
    "start_time": "2021-12-23T16:04:42.379Z"
   },
   {
    "duration": 190,
    "start_time": "2021-12-23T16:04:45.327Z"
   },
   {
    "duration": 8,
    "start_time": "2021-12-23T16:04:45.519Z"
   },
   {
    "duration": 5017,
    "start_time": "2021-12-23T16:04:45.529Z"
   },
   {
    "duration": 276,
    "start_time": "2021-12-23T16:04:50.549Z"
   },
   {
    "duration": 5324,
    "start_time": "2021-12-23T16:04:50.828Z"
   },
   {
    "duration": 281,
    "start_time": "2021-12-23T16:04:56.156Z"
   },
   {
    "duration": 4858,
    "start_time": "2021-12-23T16:04:56.440Z"
   },
   {
    "duration": 457,
    "start_time": "2021-12-23T16:05:01.318Z"
   },
   {
    "duration": 217,
    "start_time": "2021-12-23T16:05:01.777Z"
   },
   {
    "duration": 3944,
    "start_time": "2021-12-23T16:05:01.996Z"
   },
   {
    "duration": 78,
    "start_time": "2021-12-23T16:05:05.943Z"
   },
   {
    "duration": 38,
    "start_time": "2021-12-23T16:05:06.023Z"
   },
   {
    "duration": 65,
    "start_time": "2021-12-23T16:05:06.064Z"
   },
   {
    "duration": 93,
    "start_time": "2021-12-23T16:05:06.132Z"
   },
   {
    "duration": 56,
    "start_time": "2021-12-23T16:05:06.227Z"
   },
   {
    "duration": 4134,
    "start_time": "2021-12-23T16:05:06.287Z"
   },
   {
    "duration": 402,
    "start_time": "2021-12-23T16:05:10.423Z"
   },
   {
    "duration": 399,
    "start_time": "2021-12-23T16:14:03.569Z"
   },
   {
    "duration": 40,
    "start_time": "2021-12-23T16:15:07.841Z"
   },
   {
    "duration": 12,
    "start_time": "2021-12-23T16:16:27.735Z"
   },
   {
    "duration": 3976,
    "start_time": "2021-12-23T16:17:52.293Z"
   },
   {
    "duration": 3537,
    "start_time": "2021-12-23T16:19:45.492Z"
   },
   {
    "duration": 5753,
    "start_time": "2021-12-23T16:19:56.403Z"
   },
   {
    "duration": 192,
    "start_time": "2021-12-23T16:24:59.462Z"
   },
   {
    "duration": 138,
    "start_time": "2021-12-23T16:25:19.670Z"
   },
   {
    "duration": 221,
    "start_time": "2021-12-23T16:25:25.947Z"
   },
   {
    "duration": 4405,
    "start_time": "2021-12-23T16:26:19.421Z"
   },
   {
    "duration": 41,
    "start_time": "2021-12-23T16:28:12.795Z"
   },
   {
    "duration": 42,
    "start_time": "2021-12-23T16:29:32.370Z"
   },
   {
    "duration": 59,
    "start_time": "2021-12-23T16:52:38.634Z"
   },
   {
    "duration": 197,
    "start_time": "2021-12-23T16:52:47.602Z"
   },
   {
    "duration": 179,
    "start_time": "2021-12-23T16:52:58.114Z"
   },
   {
    "duration": 57,
    "start_time": "2021-12-23T16:53:11.489Z"
   },
   {
    "duration": 4382,
    "start_time": "2021-12-23T16:54:04.169Z"
   },
   {
    "duration": 185,
    "start_time": "2021-12-23T16:55:29.529Z"
   },
   {
    "duration": 187,
    "start_time": "2021-12-23T16:55:33.039Z"
   },
   {
    "duration": 12,
    "start_time": "2021-12-23T16:56:31.966Z"
   },
   {
    "duration": 74,
    "start_time": "2021-12-23T16:58:15.541Z"
   },
   {
    "duration": 93,
    "start_time": "2021-12-23T16:58:21.149Z"
   },
   {
    "duration": 4175,
    "start_time": "2021-12-23T16:58:57.672Z"
   },
   {
    "duration": 38,
    "start_time": "2021-12-23T16:59:06.561Z"
   },
   {
    "duration": 173,
    "start_time": "2021-12-23T17:00:49.202Z"
   },
   {
    "duration": 37,
    "start_time": "2021-12-23T17:01:39.137Z"
   },
   {
    "duration": 83,
    "start_time": "2021-12-23T17:07:00.052Z"
   },
   {
    "duration": 48,
    "start_time": "2021-12-23T17:07:46.020Z"
   },
   {
    "duration": 34,
    "start_time": "2021-12-23T17:08:45.507Z"
   },
   {
    "duration": 80,
    "start_time": "2021-12-23T17:37:32.214Z"
   },
   {
    "duration": 7464,
    "start_time": "2021-12-23T17:43:38.559Z"
   },
   {
    "duration": 10,
    "start_time": "2021-12-23T17:43:47.815Z"
   },
   {
    "duration": 102,
    "start_time": "2021-12-23T17:48:46.738Z"
   },
   {
    "duration": 21,
    "start_time": "2021-12-23T17:58:04.417Z"
   },
   {
    "duration": 3082,
    "start_time": "2021-12-23T18:37:51.659Z"
   },
   {
    "duration": 2858,
    "start_time": "2021-12-23T18:37:57.468Z"
   },
   {
    "duration": 160,
    "start_time": "2021-12-23T18:38:05.772Z"
   },
   {
    "duration": 83,
    "start_time": "2021-12-23T18:40:29.713Z"
   },
   {
    "duration": 404,
    "start_time": "2021-12-23T18:41:24.328Z"
   },
   {
    "duration": 276,
    "start_time": "2021-12-23T18:42:10.007Z"
   },
   {
    "duration": 3256,
    "start_time": "2021-12-23T18:42:23.228Z"
   },
   {
    "duration": 2841,
    "start_time": "2021-12-23T18:42:26.488Z"
   },
   {
    "duration": 174,
    "start_time": "2021-12-23T18:42:29.331Z"
   },
   {
    "duration": 91,
    "start_time": "2021-12-23T18:42:31.651Z"
   },
   {
    "duration": 403,
    "start_time": "2021-12-23T18:43:28.564Z"
   },
   {
    "duration": 3076,
    "start_time": "2021-12-23T18:43:41.029Z"
   },
   {
    "duration": 2816,
    "start_time": "2021-12-23T18:43:44.107Z"
   },
   {
    "duration": 172,
    "start_time": "2021-12-23T18:43:46.926Z"
   },
   {
    "duration": 274,
    "start_time": "2021-12-23T18:43:49.082Z"
   },
   {
    "duration": 2045,
    "start_time": "2021-12-23T18:52:28.321Z"
   },
   {
    "duration": 108,
    "start_time": "2021-12-23T18:52:47.961Z"
   },
   {
    "duration": 116,
    "start_time": "2021-12-23T18:54:10.753Z"
   },
   {
    "duration": 78,
    "start_time": "2021-12-23T18:56:11.517Z"
   },
   {
    "duration": 78,
    "start_time": "2021-12-23T18:56:24.261Z"
   },
   {
    "duration": 317,
    "start_time": "2021-12-23T18:56:52.537Z"
   },
   {
    "duration": 178,
    "start_time": "2021-12-23T19:00:56.320Z"
   },
   {
    "duration": 127,
    "start_time": "2021-12-23T19:01:10.161Z"
   },
   {
    "duration": 6475,
    "start_time": "2021-12-23T19:02:04.792Z"
   },
   {
    "duration": 3107,
    "start_time": "2021-12-23T19:02:26.482Z"
   },
   {
    "duration": 2970,
    "start_time": "2021-12-23T19:02:29.592Z"
   },
   {
    "duration": 172,
    "start_time": "2021-12-23T19:02:32.566Z"
   },
   {
    "duration": 284,
    "start_time": "2021-12-23T19:02:32.741Z"
   },
   {
    "duration": 313,
    "start_time": "2021-12-23T19:02:35.392Z"
   },
   {
    "duration": 8263,
    "start_time": "2021-12-23T19:18:36.504Z"
   },
   {
    "duration": 3426,
    "start_time": "2021-12-23T19:18:55.781Z"
   },
   {
    "duration": 2894,
    "start_time": "2021-12-23T19:18:59.211Z"
   },
   {
    "duration": 171,
    "start_time": "2021-12-23T19:19:02.108Z"
   },
   {
    "duration": 280,
    "start_time": "2021-12-23T19:19:02.282Z"
   },
   {
    "duration": 318,
    "start_time": "2021-12-23T19:19:05.357Z"
   },
   {
    "duration": 157,
    "start_time": "2021-12-23T19:20:53.621Z"
   },
   {
    "duration": 204,
    "start_time": "2021-12-23T19:22:02.066Z"
   },
   {
    "duration": 383,
    "start_time": "2021-12-23T19:24:00.883Z"
   },
   {
    "duration": 365,
    "start_time": "2021-12-23T19:24:36.026Z"
   },
   {
    "duration": 109,
    "start_time": "2021-12-23T19:26:13.310Z"
   },
   {
    "duration": 46,
    "start_time": "2021-12-23T19:27:08.709Z"
   },
   {
    "duration": 37,
    "start_time": "2021-12-23T19:27:54.100Z"
   },
   {
    "duration": 28,
    "start_time": "2021-12-23T19:28:33.596Z"
   },
   {
    "duration": 55,
    "start_time": "2021-12-23T19:30:57.233Z"
   },
   {
    "duration": 483,
    "start_time": "2021-12-23T19:31:04.344Z"
   },
   {
    "duration": 3064,
    "start_time": "2021-12-23T19:31:33.505Z"
   },
   {
    "duration": 2802,
    "start_time": "2021-12-23T19:31:36.572Z"
   },
   {
    "duration": 176,
    "start_time": "2021-12-23T19:31:39.377Z"
   },
   {
    "duration": 279,
    "start_time": "2021-12-23T19:31:39.555Z"
   },
   {
    "duration": 223,
    "start_time": "2021-12-23T19:31:39.836Z"
   },
   {
    "duration": 11,
    "start_time": "2021-12-23T19:31:40.062Z"
   },
   {
    "duration": 4922,
    "start_time": "2021-12-23T19:31:40.076Z"
   },
   {
    "duration": 192,
    "start_time": "2021-12-23T19:31:45.001Z"
   },
   {
    "duration": 5361,
    "start_time": "2021-12-23T19:31:45.196Z"
   },
   {
    "duration": 157,
    "start_time": "2021-12-23T19:31:50.560Z"
   },
   {
    "duration": 4800,
    "start_time": "2021-12-23T19:31:50.719Z"
   },
   {
    "duration": 379,
    "start_time": "2021-12-23T19:31:55.522Z"
   },
   {
    "duration": 125,
    "start_time": "2021-12-23T19:31:55.918Z"
   },
   {
    "duration": 3932,
    "start_time": "2021-12-23T19:31:56.045Z"
   },
   {
    "duration": 65,
    "start_time": "2021-12-23T19:31:59.979Z"
   },
   {
    "duration": 37,
    "start_time": "2021-12-23T19:32:00.047Z"
   },
   {
    "duration": 30,
    "start_time": "2021-12-23T19:32:00.117Z"
   },
   {
    "duration": 71,
    "start_time": "2021-12-23T19:32:00.150Z"
   },
   {
    "duration": 56,
    "start_time": "2021-12-23T19:32:00.224Z"
   },
   {
    "duration": 4021,
    "start_time": "2021-12-23T19:32:04.441Z"
   },
   {
    "duration": 191,
    "start_time": "2021-12-23T19:39:13.411Z"
   },
   {
    "duration": 4531,
    "start_time": "2021-12-23T19:39:25.059Z"
   },
   {
    "duration": 134,
    "start_time": "2021-12-23T19:40:59.489Z"
   },
   {
    "duration": 3995,
    "start_time": "2021-12-23T19:41:02.944Z"
   },
   {
    "duration": 59,
    "start_time": "2021-12-23T19:41:59.208Z"
   },
   {
    "duration": 4335,
    "start_time": "2021-12-23T19:42:11.759Z"
   },
   {
    "duration": 122,
    "start_time": "2021-12-23T19:43:46.877Z"
   },
   {
    "duration": 128,
    "start_time": "2021-12-23T19:44:33.797Z"
   },
   {
    "duration": 47,
    "start_time": "2021-12-23T19:45:44.707Z"
   },
   {
    "duration": 51,
    "start_time": "2021-12-23T19:46:00.243Z"
   },
   {
    "duration": 136,
    "start_time": "2021-12-23T19:46:10.387Z"
   },
   {
    "duration": 57,
    "start_time": "2021-12-23T19:46:26.210Z"
   },
   {
    "duration": 16,
    "start_time": "2021-12-23T19:47:15.859Z"
   },
   {
    "duration": 119,
    "start_time": "2021-12-23T19:48:08.817Z"
   },
   {
    "duration": 115,
    "start_time": "2021-12-23T19:48:30.658Z"
   },
   {
    "duration": 109,
    "start_time": "2021-12-23T19:49:40.752Z"
   },
   {
    "duration": 115,
    "start_time": "2021-12-23T19:49:48.624Z"
   },
   {
    "duration": 107,
    "start_time": "2021-12-23T19:49:57.399Z"
   },
   {
    "duration": 133,
    "start_time": "2021-12-23T19:50:00.400Z"
   },
   {
    "duration": 47,
    "start_time": "2021-12-23T19:50:02.546Z"
   },
   {
    "duration": 110,
    "start_time": "2021-12-23T19:50:08.568Z"
   },
   {
    "duration": 54701,
    "start_time": "2021-12-24T11:00:43.173Z"
   },
   {
    "duration": 2149,
    "start_time": "2021-12-24T11:01:37.876Z"
   },
   {
    "duration": 132,
    "start_time": "2021-12-24T11:01:40.027Z"
   },
   {
    "duration": 206,
    "start_time": "2021-12-24T11:01:40.161Z"
   },
   {
    "duration": 166,
    "start_time": "2021-12-24T11:01:40.369Z"
   },
   {
    "duration": 6,
    "start_time": "2021-12-24T11:01:40.537Z"
   },
   {
    "duration": 2768,
    "start_time": "2021-12-24T11:01:40.545Z"
   },
   {
    "duration": 124,
    "start_time": "2021-12-24T11:01:43.315Z"
   },
   {
    "duration": 2740,
    "start_time": "2021-12-24T11:01:43.441Z"
   },
   {
    "duration": 98,
    "start_time": "2021-12-24T11:01:46.192Z"
   },
   {
    "duration": 2640,
    "start_time": "2021-12-24T11:01:46.292Z"
   },
   {
    "duration": 271,
    "start_time": "2021-12-24T11:01:48.933Z"
   },
   {
    "duration": 91,
    "start_time": "2021-12-24T11:01:49.205Z"
   },
   {
    "duration": 2260,
    "start_time": "2021-12-24T11:01:49.297Z"
   },
   {
    "duration": 43,
    "start_time": "2021-12-24T11:01:51.559Z"
   },
   {
    "duration": 25,
    "start_time": "2021-12-24T11:01:51.603Z"
   },
   {
    "duration": 21,
    "start_time": "2021-12-24T11:01:51.630Z"
   },
   {
    "duration": 62,
    "start_time": "2021-12-24T11:01:51.652Z"
   },
   {
    "duration": 38,
    "start_time": "2021-12-24T11:01:51.716Z"
   },
   {
    "duration": 2396,
    "start_time": "2021-12-24T11:01:51.756Z"
   },
   {
    "duration": 156,
    "start_time": "2021-12-24T11:01:54.154Z"
   },
   {
    "duration": 2423,
    "start_time": "2021-12-24T11:01:54.312Z"
   },
   {
    "duration": 107,
    "start_time": "2021-12-24T11:01:56.738Z"
   },
   {
    "duration": 2319,
    "start_time": "2021-12-24T11:01:56.847Z"
   },
   {
    "duration": 54,
    "start_time": "2021-12-24T11:01:59.168Z"
   },
   {
    "duration": 2644,
    "start_time": "2021-12-24T11:01:59.224Z"
   },
   {
    "duration": 102,
    "start_time": "2021-12-24T11:02:01.870Z"
   },
   {
    "duration": 125,
    "start_time": "2021-12-24T11:02:01.974Z"
   },
   {
    "duration": 37,
    "start_time": "2021-12-24T11:02:02.100Z"
   },
   {
    "duration": 68,
    "start_time": "2021-12-24T11:02:02.139Z"
   },
   {
    "duration": 12,
    "start_time": "2021-12-24T11:02:02.209Z"
   },
   {
    "duration": 110,
    "start_time": "2021-12-24T11:02:02.222Z"
   },
   {
    "duration": 7098,
    "start_time": "2021-12-24T12:29:31.032Z"
   },
   {
    "duration": 2104,
    "start_time": "2021-12-24T12:29:38.133Z"
   },
   {
    "duration": 135,
    "start_time": "2021-12-24T12:29:40.241Z"
   },
   {
    "duration": 204,
    "start_time": "2021-12-24T12:29:40.378Z"
   },
   {
    "duration": 160,
    "start_time": "2021-12-24T12:29:40.584Z"
   },
   {
    "duration": 6,
    "start_time": "2021-12-24T12:29:40.745Z"
   },
   {
    "duration": 2745,
    "start_time": "2021-12-24T12:29:40.754Z"
   },
   {
    "duration": 126,
    "start_time": "2021-12-24T12:29:43.502Z"
   },
   {
    "duration": 2861,
    "start_time": "2021-12-24T12:29:43.630Z"
   },
   {
    "duration": 81,
    "start_time": "2021-12-24T12:29:46.493Z"
   },
   {
    "duration": 2655,
    "start_time": "2021-12-24T12:29:46.576Z"
   },
   {
    "duration": 279,
    "start_time": "2021-12-24T12:29:49.233Z"
   },
   {
    "duration": 95,
    "start_time": "2021-12-24T12:29:49.515Z"
   },
   {
    "duration": 2205,
    "start_time": "2021-12-24T12:29:49.612Z"
   },
   {
    "duration": 30,
    "start_time": "2021-12-24T12:29:51.819Z"
   },
   {
    "duration": 60,
    "start_time": "2021-12-24T12:29:51.851Z"
   },
   {
    "duration": 22,
    "start_time": "2021-12-24T12:29:51.913Z"
   },
   {
    "duration": 31,
    "start_time": "2021-12-24T12:29:51.937Z"
   },
   {
    "duration": 59,
    "start_time": "2021-12-24T12:29:51.969Z"
   },
   {
    "duration": 2296,
    "start_time": "2021-12-24T12:29:52.030Z"
   },
   {
    "duration": 155,
    "start_time": "2021-12-24T12:29:54.328Z"
   },
   {
    "duration": 2310,
    "start_time": "2021-12-24T12:29:54.486Z"
   },
   {
    "duration": 99,
    "start_time": "2021-12-24T12:29:56.798Z"
   },
   {
    "duration": 2342,
    "start_time": "2021-12-24T12:29:56.898Z"
   },
   {
    "duration": 68,
    "start_time": "2021-12-24T12:29:59.242Z"
   },
   {
    "duration": 2703,
    "start_time": "2021-12-24T12:29:59.313Z"
   },
   {
    "duration": 105,
    "start_time": "2021-12-24T12:30:02.017Z"
   },
   {
    "duration": 133,
    "start_time": "2021-12-24T12:30:02.125Z"
   },
   {
    "duration": 71,
    "start_time": "2021-12-24T12:30:02.260Z"
   },
   {
    "duration": 62,
    "start_time": "2021-12-24T12:30:02.332Z"
   },
   {
    "duration": 12,
    "start_time": "2021-12-24T12:30:02.396Z"
   },
   {
    "duration": 111,
    "start_time": "2021-12-24T12:30:02.410Z"
   },
   {
    "duration": 17,
    "start_time": "2021-12-24T12:30:02.523Z"
   },
   {
    "duration": 7359,
    "start_time": "2021-12-24T12:55:03.723Z"
   },
   {
    "duration": 2180,
    "start_time": "2021-12-24T12:55:11.086Z"
   },
   {
    "duration": 157,
    "start_time": "2021-12-24T12:55:13.269Z"
   },
   {
    "duration": 226,
    "start_time": "2021-12-24T12:55:13.428Z"
   },
   {
    "duration": 179,
    "start_time": "2021-12-24T12:55:13.656Z"
   },
   {
    "duration": 8,
    "start_time": "2021-12-24T12:55:13.837Z"
   },
   {
    "duration": 3098,
    "start_time": "2021-12-24T12:55:13.847Z"
   },
   {
    "duration": 147,
    "start_time": "2021-12-24T12:55:16.947Z"
   },
   {
    "duration": 3052,
    "start_time": "2021-12-24T12:55:17.098Z"
   },
   {
    "duration": 113,
    "start_time": "2021-12-24T12:55:20.152Z"
   },
   {
    "duration": 2968,
    "start_time": "2021-12-24T12:55:20.267Z"
   },
   {
    "duration": 306,
    "start_time": "2021-12-24T12:55:23.236Z"
   },
   {
    "duration": 99,
    "start_time": "2021-12-24T12:55:23.544Z"
   },
   {
    "duration": 2425,
    "start_time": "2021-12-24T12:55:23.644Z"
   },
   {
    "duration": 52,
    "start_time": "2021-12-24T12:55:26.071Z"
   },
   {
    "duration": 26,
    "start_time": "2021-12-24T12:55:26.124Z"
   },
   {
    "duration": 60,
    "start_time": "2021-12-24T12:55:26.152Z"
   },
   {
    "duration": 36,
    "start_time": "2021-12-24T12:55:26.215Z"
   },
   {
    "duration": 71,
    "start_time": "2021-12-24T12:55:26.254Z"
   },
   {
    "duration": 2526,
    "start_time": "2021-12-24T12:55:26.328Z"
   },
   {
    "duration": 165,
    "start_time": "2021-12-24T12:55:28.856Z"
   },
   {
    "duration": 2623,
    "start_time": "2021-12-24T12:55:29.023Z"
   },
   {
    "duration": 114,
    "start_time": "2021-12-24T12:55:31.650Z"
   },
   {
    "duration": 2764,
    "start_time": "2021-12-24T12:55:31.767Z"
   },
   {
    "duration": 89,
    "start_time": "2021-12-24T12:55:34.533Z"
   },
   {
    "duration": 2869,
    "start_time": "2021-12-24T12:55:34.624Z"
   },
   {
    "duration": 177,
    "start_time": "2021-12-24T12:55:37.496Z"
   },
   {
    "duration": 188,
    "start_time": "2021-12-24T12:55:37.676Z"
   },
   {
    "duration": 48,
    "start_time": "2021-12-24T12:55:37.866Z"
   },
   {
    "duration": 42,
    "start_time": "2021-12-24T12:55:37.918Z"
   },
   {
    "duration": 40,
    "start_time": "2021-12-24T12:55:37.962Z"
   },
   {
    "duration": 144,
    "start_time": "2021-12-24T12:55:38.004Z"
   },
   {
    "duration": 1037,
    "start_time": "2021-12-24T12:59:25.999Z"
   },
   {
    "duration": 1046,
    "start_time": "2021-12-24T13:00:54.308Z"
   },
   {
    "duration": 675,
    "start_time": "2021-12-24T13:01:18.557Z"
   },
   {
    "duration": 746,
    "start_time": "2021-12-24T13:01:23.904Z"
   },
   {
    "duration": 143,
    "start_time": "2021-12-24T13:02:20.819Z"
   },
   {
    "duration": 1275,
    "start_time": "2021-12-24T13:13:13.511Z"
   },
   {
    "duration": 1204,
    "start_time": "2021-12-24T13:15:52.166Z"
   },
   {
    "duration": 1211,
    "start_time": "2021-12-24T13:17:24.564Z"
   },
   {
    "duration": 1195,
    "start_time": "2021-12-24T13:21:15.898Z"
   },
   {
    "duration": 1155,
    "start_time": "2021-12-24T13:21:22.553Z"
   },
   {
    "duration": 1097,
    "start_time": "2021-12-24T13:21:27.297Z"
   },
   {
    "duration": 7403,
    "start_time": "2021-12-24T13:24:55.868Z"
   },
   {
    "duration": 2292,
    "start_time": "2021-12-24T13:25:03.273Z"
   },
   {
    "duration": 165,
    "start_time": "2021-12-24T13:25:05.570Z"
   },
   {
    "duration": 230,
    "start_time": "2021-12-24T13:25:05.737Z"
   },
   {
    "duration": 174,
    "start_time": "2021-12-24T13:25:05.969Z"
   },
   {
    "duration": 6,
    "start_time": "2021-12-24T13:25:06.145Z"
   },
   {
    "duration": 2964,
    "start_time": "2021-12-24T13:25:06.153Z"
   },
   {
    "duration": 140,
    "start_time": "2021-12-24T13:25:09.119Z"
   },
   {
    "duration": 2981,
    "start_time": "2021-12-24T13:25:09.260Z"
   },
   {
    "duration": 109,
    "start_time": "2021-12-24T13:25:12.243Z"
   },
   {
    "duration": 2958,
    "start_time": "2021-12-24T13:25:12.354Z"
   },
   {
    "duration": 334,
    "start_time": "2021-12-24T13:25:15.314Z"
   },
   {
    "duration": 111,
    "start_time": "2021-12-24T13:25:15.650Z"
   },
   {
    "duration": 2498,
    "start_time": "2021-12-24T13:25:15.764Z"
   },
   {
    "duration": 62,
    "start_time": "2021-12-24T13:25:18.264Z"
   },
   {
    "duration": 64,
    "start_time": "2021-12-24T13:25:18.328Z"
   },
   {
    "duration": 30,
    "start_time": "2021-12-24T13:25:18.398Z"
   },
   {
    "duration": 33,
    "start_time": "2021-12-24T13:25:18.430Z"
   },
   {
    "duration": 66,
    "start_time": "2021-12-24T13:25:18.465Z"
   },
   {
    "duration": 2671,
    "start_time": "2021-12-24T13:25:18.533Z"
   },
   {
    "duration": 175,
    "start_time": "2021-12-24T13:25:21.207Z"
   },
   {
    "duration": 2749,
    "start_time": "2021-12-24T13:25:21.385Z"
   },
   {
    "duration": 125,
    "start_time": "2021-12-24T13:25:24.136Z"
   },
   {
    "duration": 2687,
    "start_time": "2021-12-24T13:25:24.264Z"
   },
   {
    "duration": 73,
    "start_time": "2021-12-24T13:25:26.953Z"
   },
   {
    "duration": 2811,
    "start_time": "2021-12-24T13:25:27.029Z"
   },
   {
    "duration": 114,
    "start_time": "2021-12-24T13:25:29.842Z"
   },
   {
    "duration": 135,
    "start_time": "2021-12-24T13:25:29.958Z"
   },
   {
    "duration": 47,
    "start_time": "2021-12-24T13:25:30.095Z"
   },
   {
    "duration": 99,
    "start_time": "2021-12-24T13:25:30.144Z"
   },
   {
    "duration": 11,
    "start_time": "2021-12-24T13:25:30.245Z"
   },
   {
    "duration": 152,
    "start_time": "2021-12-24T13:25:30.258Z"
   },
   {
    "duration": 784,
    "start_time": "2021-12-24T13:25:30.413Z"
   },
   {
    "duration": 118,
    "start_time": "2021-12-24T13:25:31.199Z"
   },
   {
    "duration": 1137,
    "start_time": "2021-12-24T13:25:31.319Z"
   },
   {
    "duration": 2,
    "start_time": "2021-12-24T13:25:32.458Z"
   },
   {
    "duration": 294,
    "start_time": "2021-12-24T13:34:03.182Z"
   },
   {
    "duration": 152,
    "start_time": "2021-12-24T13:34:14.431Z"
   },
   {
    "duration": 173,
    "start_time": "2021-12-24T13:35:07.463Z"
   },
   {
    "duration": 7203,
    "start_time": "2021-12-24T13:35:25.659Z"
   },
   {
    "duration": 2159,
    "start_time": "2021-12-24T13:35:32.864Z"
   },
   {
    "duration": 148,
    "start_time": "2021-12-24T13:35:35.029Z"
   },
   {
    "duration": 230,
    "start_time": "2021-12-24T13:35:35.179Z"
   },
   {
    "duration": 169,
    "start_time": "2021-12-24T13:35:35.412Z"
   },
   {
    "duration": 12,
    "start_time": "2021-12-24T13:35:35.582Z"
   },
   {
    "duration": 2908,
    "start_time": "2021-12-24T13:35:35.599Z"
   },
   {
    "duration": 130,
    "start_time": "2021-12-24T13:35:38.511Z"
   },
   {
    "duration": 2968,
    "start_time": "2021-12-24T13:35:38.643Z"
   },
   {
    "duration": 113,
    "start_time": "2021-12-24T13:35:41.613Z"
   },
   {
    "duration": 2752,
    "start_time": "2021-12-24T13:35:41.728Z"
   },
   {
    "duration": 286,
    "start_time": "2021-12-24T13:35:44.491Z"
   },
   {
    "duration": 90,
    "start_time": "2021-12-24T13:35:44.779Z"
   },
   {
    "duration": 2297,
    "start_time": "2021-12-24T13:35:44.871Z"
   },
   {
    "duration": 49,
    "start_time": "2021-12-24T13:35:47.170Z"
   },
   {
    "duration": 27,
    "start_time": "2021-12-24T13:35:47.221Z"
   },
   {
    "duration": 54,
    "start_time": "2021-12-24T13:35:47.249Z"
   },
   {
    "duration": 29,
    "start_time": "2021-12-24T13:35:47.306Z"
   },
   {
    "duration": 66,
    "start_time": "2021-12-24T13:35:47.337Z"
   },
   {
    "duration": 2435,
    "start_time": "2021-12-24T13:35:47.406Z"
   },
   {
    "duration": 174,
    "start_time": "2021-12-24T13:35:49.843Z"
   },
   {
    "duration": 2595,
    "start_time": "2021-12-24T13:35:50.020Z"
   },
   {
    "duration": 157,
    "start_time": "2021-12-24T13:35:52.617Z"
   },
   {
    "duration": 2658,
    "start_time": "2021-12-24T13:35:52.777Z"
   },
   {
    "duration": 67,
    "start_time": "2021-12-24T13:35:55.437Z"
   },
   {
    "duration": 2900,
    "start_time": "2021-12-24T13:35:55.507Z"
   },
   {
    "duration": 114,
    "start_time": "2021-12-24T13:35:58.410Z"
   },
   {
    "duration": 127,
    "start_time": "2021-12-24T13:35:58.526Z"
   },
   {
    "duration": 51,
    "start_time": "2021-12-24T13:35:58.655Z"
   },
   {
    "duration": 57,
    "start_time": "2021-12-24T13:35:58.709Z"
   },
   {
    "duration": 40,
    "start_time": "2021-12-24T13:35:58.767Z"
   },
   {
    "duration": 126,
    "start_time": "2021-12-24T13:35:58.809Z"
   },
   {
    "duration": 706,
    "start_time": "2021-12-24T13:35:58.939Z"
   },
   {
    "duration": 115,
    "start_time": "2021-12-24T13:35:59.647Z"
   },
   {
    "duration": 1125,
    "start_time": "2021-12-24T13:35:59.764Z"
   },
   {
    "duration": 166,
    "start_time": "2021-12-24T13:36:00.892Z"
   },
   {
    "duration": 8163,
    "start_time": "2021-12-24T14:18:42.711Z"
   },
   {
    "duration": 2702,
    "start_time": "2021-12-24T14:18:50.876Z"
   },
   {
    "duration": 185,
    "start_time": "2021-12-24T14:18:53.580Z"
   },
   {
    "duration": 241,
    "start_time": "2021-12-24T14:18:53.768Z"
   },
   {
    "duration": 212,
    "start_time": "2021-12-24T14:18:54.012Z"
   },
   {
    "duration": 10,
    "start_time": "2021-12-24T14:18:54.226Z"
   },
   {
    "duration": 3111,
    "start_time": "2021-12-24T14:18:54.238Z"
   },
   {
    "duration": 252,
    "start_time": "2021-12-24T14:18:57.351Z"
   },
   {
    "duration": 3159,
    "start_time": "2021-12-24T14:18:57.606Z"
   },
   {
    "duration": 125,
    "start_time": "2021-12-24T14:19:00.767Z"
   },
   {
    "duration": 3140,
    "start_time": "2021-12-24T14:19:00.894Z"
   },
   {
    "duration": 314,
    "start_time": "2021-12-24T14:19:04.038Z"
   },
   {
    "duration": 111,
    "start_time": "2021-12-24T14:19:04.354Z"
   },
   {
    "duration": 2499,
    "start_time": "2021-12-24T14:19:04.467Z"
   },
   {
    "duration": 50,
    "start_time": "2021-12-24T14:19:06.968Z"
   },
   {
    "duration": 32,
    "start_time": "2021-12-24T14:19:07.020Z"
   },
   {
    "duration": 184,
    "start_time": "2021-12-24T14:19:07.055Z"
   },
   {
    "duration": 61,
    "start_time": "2021-12-24T14:19:07.241Z"
   },
   {
    "duration": 65,
    "start_time": "2021-12-24T14:19:07.305Z"
   },
   {
    "duration": 2635,
    "start_time": "2021-12-24T14:19:07.372Z"
   },
   {
    "duration": 206,
    "start_time": "2021-12-24T14:19:10.010Z"
   },
   {
    "duration": 2695,
    "start_time": "2021-12-24T14:19:10.219Z"
   },
   {
    "duration": 155,
    "start_time": "2021-12-24T14:19:12.919Z"
   },
   {
    "duration": 2762,
    "start_time": "2021-12-24T14:19:13.077Z"
   },
   {
    "duration": 72,
    "start_time": "2021-12-24T14:19:15.841Z"
   },
   {
    "duration": 3040,
    "start_time": "2021-12-24T14:19:15.916Z"
   },
   {
    "duration": 124,
    "start_time": "2021-12-24T14:19:18.959Z"
   },
   {
    "duration": 182,
    "start_time": "2021-12-24T14:19:19.086Z"
   },
   {
    "duration": 70,
    "start_time": "2021-12-24T14:19:19.270Z"
   },
   {
    "duration": 161,
    "start_time": "2021-12-24T14:19:19.342Z"
   },
   {
    "duration": 23,
    "start_time": "2021-12-24T14:19:19.506Z"
   },
   {
    "duration": 284,
    "start_time": "2021-12-24T14:19:19.532Z"
   },
   {
    "duration": 1328,
    "start_time": "2021-12-24T14:19:19.818Z"
   },
   {
    "duration": 122,
    "start_time": "2021-12-24T14:19:21.148Z"
   },
   {
    "duration": 1260,
    "start_time": "2021-12-24T14:19:21.272Z"
   },
   {
    "duration": 227,
    "start_time": "2021-12-24T14:19:22.535Z"
   },
   {
    "duration": 3,
    "start_time": "2021-12-24T14:19:22.764Z"
   },
   {
    "duration": 3206,
    "start_time": "2021-12-24T18:52:06.757Z"
   },
   {
    "duration": 2147,
    "start_time": "2021-12-24T18:52:09.965Z"
   },
   {
    "duration": 137,
    "start_time": "2021-12-24T18:52:12.114Z"
   },
   {
    "duration": 197,
    "start_time": "2021-12-24T18:52:12.253Z"
   },
   {
    "duration": 158,
    "start_time": "2021-12-24T18:52:12.452Z"
   },
   {
    "duration": 6,
    "start_time": "2021-12-24T18:52:12.611Z"
   },
   {
    "duration": 3291,
    "start_time": "2021-12-24T18:52:12.618Z"
   },
   {
    "duration": 191,
    "start_time": "2021-12-24T18:52:15.912Z"
   },
   {
    "duration": 3170,
    "start_time": "2021-12-24T18:52:16.105Z"
   },
   {
    "duration": 95,
    "start_time": "2021-12-24T18:52:19.277Z"
   },
   {
    "duration": 3215,
    "start_time": "2021-12-24T18:52:19.374Z"
   },
   {
    "duration": 277,
    "start_time": "2021-12-24T18:52:22.590Z"
   },
   {
    "duration": 92,
    "start_time": "2021-12-24T18:52:22.869Z"
   },
   {
    "duration": 2817,
    "start_time": "2021-12-24T18:52:22.963Z"
   },
   {
    "duration": 27,
    "start_time": "2021-12-24T18:52:25.782Z"
   },
   {
    "duration": 53,
    "start_time": "2021-12-24T18:52:25.811Z"
   },
   {
    "duration": 119,
    "start_time": "2021-12-24T18:52:25.866Z"
   },
   {
    "duration": 34,
    "start_time": "2021-12-24T18:52:25.987Z"
   },
   {
    "duration": 56,
    "start_time": "2021-12-24T18:52:26.022Z"
   },
   {
    "duration": 2783,
    "start_time": "2021-12-24T18:52:26.080Z"
   },
   {
    "duration": 156,
    "start_time": "2021-12-24T18:52:28.865Z"
   },
   {
    "duration": 2888,
    "start_time": "2021-12-24T18:52:29.024Z"
   },
   {
    "duration": 114,
    "start_time": "2021-12-24T18:52:31.916Z"
   },
   {
    "duration": 2685,
    "start_time": "2021-12-24T18:52:32.032Z"
   },
   {
    "duration": 55,
    "start_time": "2021-12-24T18:52:34.719Z"
   },
   {
    "duration": 3096,
    "start_time": "2021-12-24T18:52:34.776Z"
   },
   {
    "duration": 91,
    "start_time": "2021-12-24T18:52:37.873Z"
   },
   {
    "duration": 121,
    "start_time": "2021-12-24T18:52:37.965Z"
   },
   {
    "duration": 36,
    "start_time": "2021-12-24T18:52:38.088Z"
   },
   {
    "duration": 56,
    "start_time": "2021-12-24T18:52:38.126Z"
   },
   {
    "duration": 10,
    "start_time": "2021-12-24T18:52:38.184Z"
   },
   {
    "duration": 99,
    "start_time": "2021-12-24T18:52:38.195Z"
   },
   {
    "duration": 620,
    "start_time": "2021-12-24T18:52:38.296Z"
   },
   {
    "duration": 101,
    "start_time": "2021-12-24T18:52:38.917Z"
   },
   {
    "duration": 1020,
    "start_time": "2021-12-24T18:52:39.019Z"
   },
   {
    "duration": 143,
    "start_time": "2021-12-24T18:52:40.041Z"
   },
   {
    "duration": 2,
    "start_time": "2021-12-24T18:52:40.186Z"
   },
   {
    "duration": 16539,
    "start_time": "2021-12-24T19:40:56.829Z"
   },
   {
    "duration": 16027,
    "start_time": "2021-12-24T19:41:31.836Z"
   },
   {
    "duration": 15983,
    "start_time": "2021-12-24T19:43:01.979Z"
   },
   {
    "duration": 5,
    "start_time": "2021-12-24T19:43:41.241Z"
   },
   {
    "duration": 9,
    "start_time": "2021-12-24T19:43:51.226Z"
   },
   {
    "duration": 28,
    "start_time": "2021-12-24T19:44:18.465Z"
   },
   {
    "duration": 5,
    "start_time": "2021-12-24T19:44:40.329Z"
   },
   {
    "duration": 21,
    "start_time": "2021-12-24T19:44:54.456Z"
   },
   {
    "duration": 5,
    "start_time": "2021-12-24T19:49:19.268Z"
   },
   {
    "duration": 6,
    "start_time": "2021-12-24T19:49:33.260Z"
   },
   {
    "duration": 6,
    "start_time": "2021-12-24T19:49:44.628Z"
   },
   {
    "duration": 2220,
    "start_time": "2021-12-24T19:56:00.411Z"
   },
   {
    "duration": 2140,
    "start_time": "2021-12-24T19:56:02.633Z"
   },
   {
    "duration": 150,
    "start_time": "2021-12-24T19:56:04.775Z"
   },
   {
    "duration": 200,
    "start_time": "2021-12-24T19:56:04.927Z"
   },
   {
    "duration": 163,
    "start_time": "2021-12-24T19:56:05.129Z"
   },
   {
    "duration": 6,
    "start_time": "2021-12-24T19:56:05.293Z"
   },
   {
    "duration": 3309,
    "start_time": "2021-12-24T19:56:05.301Z"
   },
   {
    "duration": 188,
    "start_time": "2021-12-24T19:56:08.613Z"
   },
   {
    "duration": 3280,
    "start_time": "2021-12-24T19:56:08.803Z"
   },
   {
    "duration": 104,
    "start_time": "2021-12-24T19:56:12.085Z"
   },
   {
    "duration": 3303,
    "start_time": "2021-12-24T19:56:12.191Z"
   },
   {
    "duration": 268,
    "start_time": "2021-12-24T19:56:15.496Z"
   },
   {
    "duration": 96,
    "start_time": "2021-12-24T19:56:15.766Z"
   },
   {
    "duration": 2758,
    "start_time": "2021-12-24T19:56:15.864Z"
   },
   {
    "duration": 45,
    "start_time": "2021-12-24T19:56:18.623Z"
   },
   {
    "duration": 26,
    "start_time": "2021-12-24T19:56:18.670Z"
   },
   {
    "duration": 136,
    "start_time": "2021-12-24T19:56:18.697Z"
   },
   {
    "duration": 38,
    "start_time": "2021-12-24T19:56:18.834Z"
   },
   {
    "duration": 35,
    "start_time": "2021-12-24T19:56:18.874Z"
   },
   {
    "duration": 2689,
    "start_time": "2021-12-24T19:56:18.911Z"
   },
   {
    "duration": 178,
    "start_time": "2021-12-24T19:56:21.602Z"
   },
   {
    "duration": 2812,
    "start_time": "2021-12-24T19:56:21.782Z"
   },
   {
    "duration": 122,
    "start_time": "2021-12-24T19:56:24.598Z"
   },
   {
    "duration": 2627,
    "start_time": "2021-12-24T19:56:24.722Z"
   },
   {
    "duration": 53,
    "start_time": "2021-12-24T19:56:27.351Z"
   },
   {
    "duration": 2909,
    "start_time": "2021-12-24T19:56:27.406Z"
   },
   {
    "duration": 101,
    "start_time": "2021-12-24T19:56:30.317Z"
   },
   {
    "duration": 106,
    "start_time": "2021-12-24T19:56:30.420Z"
   },
   {
    "duration": 51,
    "start_time": "2021-12-24T19:56:30.528Z"
   },
   {
    "duration": 45,
    "start_time": "2021-12-24T19:56:30.581Z"
   },
   {
    "duration": 10,
    "start_time": "2021-12-24T19:56:30.628Z"
   },
   {
    "duration": 80,
    "start_time": "2021-12-24T19:56:30.660Z"
   },
   {
    "duration": 700,
    "start_time": "2021-12-24T19:56:30.742Z"
   },
   {
    "duration": 98,
    "start_time": "2021-12-24T19:56:31.444Z"
   },
   {
    "duration": 1046,
    "start_time": "2021-12-24T19:56:31.543Z"
   },
   {
    "duration": 138,
    "start_time": "2021-12-24T19:56:32.591Z"
   },
   {
    "duration": 15836,
    "start_time": "2021-12-24T19:56:32.731Z"
   },
   {
    "duration": 2182,
    "start_time": "2021-12-24T20:04:20.735Z"
   },
   {
    "duration": 2144,
    "start_time": "2021-12-24T20:04:22.919Z"
   },
   {
    "duration": 131,
    "start_time": "2021-12-24T20:04:25.065Z"
   },
   {
    "duration": 193,
    "start_time": "2021-12-24T20:04:25.198Z"
   },
   {
    "duration": 140,
    "start_time": "2021-12-24T20:04:25.393Z"
   },
   {
    "duration": 6,
    "start_time": "2021-12-24T20:04:25.535Z"
   },
   {
    "duration": 3266,
    "start_time": "2021-12-24T20:04:25.542Z"
   },
   {
    "duration": 181,
    "start_time": "2021-12-24T20:04:28.811Z"
   },
   {
    "duration": 3240,
    "start_time": "2021-12-24T20:04:28.994Z"
   },
   {
    "duration": 98,
    "start_time": "2021-12-24T20:04:32.236Z"
   },
   {
    "duration": 3139,
    "start_time": "2021-12-24T20:04:32.336Z"
   },
   {
    "duration": 258,
    "start_time": "2021-12-24T20:04:35.477Z"
   },
   {
    "duration": 97,
    "start_time": "2021-12-24T20:04:35.737Z"
   },
   {
    "duration": 2575,
    "start_time": "2021-12-24T20:04:35.836Z"
   },
   {
    "duration": 50,
    "start_time": "2021-12-24T20:04:38.413Z"
   },
   {
    "duration": 27,
    "start_time": "2021-12-24T20:04:38.465Z"
   },
   {
    "duration": 137,
    "start_time": "2021-12-24T20:04:38.495Z"
   },
   {
    "duration": 40,
    "start_time": "2021-12-24T20:04:38.634Z"
   },
   {
    "duration": 37,
    "start_time": "2021-12-24T20:04:38.676Z"
   },
   {
    "duration": 2602,
    "start_time": "2021-12-24T20:04:38.714Z"
   },
   {
    "duration": 159,
    "start_time": "2021-12-24T20:04:41.318Z"
   },
   {
    "duration": 2800,
    "start_time": "2021-12-24T20:04:41.479Z"
   },
   {
    "duration": 106,
    "start_time": "2021-12-24T20:04:44.283Z"
   },
   {
    "duration": 2970,
    "start_time": "2021-12-24T20:04:44.391Z"
   },
   {
    "duration": 41,
    "start_time": "2021-12-24T20:04:47.363Z"
   },
   {
    "duration": 3013,
    "start_time": "2021-12-24T20:04:47.406Z"
   },
   {
    "duration": 103,
    "start_time": "2021-12-24T20:04:50.420Z"
   },
   {
    "duration": 103,
    "start_time": "2021-12-24T20:04:50.525Z"
   },
   {
    "duration": 43,
    "start_time": "2021-12-24T20:04:50.629Z"
   },
   {
    "duration": 38,
    "start_time": "2021-12-24T20:04:50.674Z"
   },
   {
    "duration": 10,
    "start_time": "2021-12-24T20:04:50.714Z"
   },
   {
    "duration": 104,
    "start_time": "2021-12-24T20:04:50.726Z"
   },
   {
    "duration": 690,
    "start_time": "2021-12-24T20:04:50.832Z"
   },
   {
    "duration": 102,
    "start_time": "2021-12-24T20:04:51.524Z"
   },
   {
    "duration": 1024,
    "start_time": "2021-12-24T20:04:51.628Z"
   },
   {
    "duration": 17407,
    "start_time": "2021-12-24T20:04:52.655Z"
   },
   {
    "duration": 8,
    "start_time": "2021-12-24T20:08:21.213Z"
   },
   {
    "duration": 16017,
    "start_time": "2021-12-24T20:09:09.252Z"
   },
   {
    "duration": 2091,
    "start_time": "2021-12-24T20:15:38.296Z"
   },
   {
    "duration": 2085,
    "start_time": "2021-12-24T20:15:40.390Z"
   },
   {
    "duration": 133,
    "start_time": "2021-12-24T20:15:42.477Z"
   },
   {
    "duration": 201,
    "start_time": "2021-12-24T20:15:42.612Z"
   },
   {
    "duration": 168,
    "start_time": "2021-12-24T20:15:42.815Z"
   },
   {
    "duration": 6,
    "start_time": "2021-12-24T20:15:42.984Z"
   },
   {
    "duration": 3243,
    "start_time": "2021-12-24T20:15:42.992Z"
   },
   {
    "duration": 199,
    "start_time": "2021-12-24T20:15:46.238Z"
   },
   {
    "duration": 3323,
    "start_time": "2021-12-24T20:15:46.439Z"
   },
   {
    "duration": 105,
    "start_time": "2021-12-24T20:15:49.764Z"
   },
   {
    "duration": 3110,
    "start_time": "2021-12-24T20:15:49.871Z"
   },
   {
    "duration": 246,
    "start_time": "2021-12-24T20:15:52.983Z"
   },
   {
    "duration": 100,
    "start_time": "2021-12-24T20:15:53.230Z"
   },
   {
    "duration": 2835,
    "start_time": "2021-12-24T20:15:53.331Z"
   },
   {
    "duration": 27,
    "start_time": "2021-12-24T20:15:56.168Z"
   },
   {
    "duration": 26,
    "start_time": "2021-12-24T20:15:56.197Z"
   },
   {
    "duration": 150,
    "start_time": "2021-12-24T20:15:56.225Z"
   },
   {
    "duration": 64,
    "start_time": "2021-12-24T20:15:56.377Z"
   },
   {
    "duration": 37,
    "start_time": "2021-12-24T20:15:56.444Z"
   },
   {
    "duration": 2678,
    "start_time": "2021-12-24T20:15:56.482Z"
   },
   {
    "duration": 153,
    "start_time": "2021-12-24T20:15:59.162Z"
   },
   {
    "duration": 2855,
    "start_time": "2021-12-24T20:15:59.318Z"
   },
   {
    "duration": 117,
    "start_time": "2021-12-24T20:16:02.176Z"
   },
   {
    "duration": 2783,
    "start_time": "2021-12-24T20:16:02.295Z"
   },
   {
    "duration": 42,
    "start_time": "2021-12-24T20:16:05.080Z"
   },
   {
    "duration": 3102,
    "start_time": "2021-12-24T20:16:05.124Z"
   },
   {
    "duration": 105,
    "start_time": "2021-12-24T20:16:08.228Z"
   },
   {
    "duration": 107,
    "start_time": "2021-12-24T20:16:08.335Z"
   },
   {
    "duration": 41,
    "start_time": "2021-12-24T20:16:08.460Z"
   },
   {
    "duration": 59,
    "start_time": "2021-12-24T20:16:08.502Z"
   },
   {
    "duration": 11,
    "start_time": "2021-12-24T20:16:08.562Z"
   },
   {
    "duration": 101,
    "start_time": "2021-12-24T20:16:08.574Z"
   },
   {
    "duration": 652,
    "start_time": "2021-12-24T20:16:08.677Z"
   },
   {
    "duration": 105,
    "start_time": "2021-12-24T20:16:09.331Z"
   },
   {
    "duration": 1067,
    "start_time": "2021-12-24T20:16:09.438Z"
   },
   {
    "duration": 352,
    "start_time": "2021-12-24T20:25:55.708Z"
   },
   {
    "duration": 254,
    "start_time": "2021-12-24T20:26:29.524Z"
   },
   {
    "duration": 2210,
    "start_time": "2021-12-24T20:32:57.862Z"
   },
   {
    "duration": 2334,
    "start_time": "2021-12-24T20:33:00.075Z"
   },
   {
    "duration": 148,
    "start_time": "2021-12-24T20:33:02.412Z"
   },
   {
    "duration": 211,
    "start_time": "2021-12-24T20:33:02.562Z"
   },
   {
    "duration": 175,
    "start_time": "2021-12-24T20:33:02.774Z"
   },
   {
    "duration": 12,
    "start_time": "2021-12-24T20:33:02.950Z"
   },
   {
    "duration": 3406,
    "start_time": "2021-12-24T20:33:02.964Z"
   },
   {
    "duration": 192,
    "start_time": "2021-12-24T20:33:06.373Z"
   },
   {
    "duration": 3305,
    "start_time": "2021-12-24T20:33:06.567Z"
   },
   {
    "duration": 109,
    "start_time": "2021-12-24T20:33:09.873Z"
   },
   {
    "duration": 3284,
    "start_time": "2021-12-24T20:33:09.983Z"
   },
   {
    "duration": 267,
    "start_time": "2021-12-24T20:33:13.268Z"
   },
   {
    "duration": 94,
    "start_time": "2021-12-24T20:33:13.537Z"
   },
   {
    "duration": 2794,
    "start_time": "2021-12-24T20:33:13.633Z"
   },
   {
    "duration": 45,
    "start_time": "2021-12-24T20:33:16.429Z"
   },
   {
    "duration": 27,
    "start_time": "2021-12-24T20:33:16.475Z"
   },
   {
    "duration": 152,
    "start_time": "2021-12-24T20:33:16.503Z"
   },
   {
    "duration": 31,
    "start_time": "2021-12-24T20:33:16.661Z"
   },
   {
    "duration": 41,
    "start_time": "2021-12-24T20:33:16.694Z"
   },
   {
    "duration": 2730,
    "start_time": "2021-12-24T20:33:16.737Z"
   },
   {
    "duration": 128,
    "start_time": "2021-12-24T20:33:19.469Z"
   },
   {
    "duration": 2799,
    "start_time": "2021-12-24T20:33:19.598Z"
   },
   {
    "duration": 109,
    "start_time": "2021-12-24T20:33:22.400Z"
   },
   {
    "duration": 2782,
    "start_time": "2021-12-24T20:33:22.511Z"
   },
   {
    "duration": 45,
    "start_time": "2021-12-24T20:33:25.294Z"
   },
   {
    "duration": 2991,
    "start_time": "2021-12-24T20:33:25.341Z"
   },
   {
    "duration": 109,
    "start_time": "2021-12-24T20:33:28.334Z"
   },
   {
    "duration": 116,
    "start_time": "2021-12-24T20:33:28.445Z"
   },
   {
    "duration": 38,
    "start_time": "2021-12-24T20:33:28.563Z"
   },
   {
    "duration": 66,
    "start_time": "2021-12-24T20:33:28.603Z"
   },
   {
    "duration": 12,
    "start_time": "2021-12-24T20:33:28.671Z"
   },
   {
    "duration": 99,
    "start_time": "2021-12-24T20:33:28.684Z"
   },
   {
    "duration": 655,
    "start_time": "2021-12-24T20:33:28.785Z"
   },
   {
    "duration": 100,
    "start_time": "2021-12-24T20:33:29.441Z"
   },
   {
    "duration": 1039,
    "start_time": "2021-12-24T20:33:29.543Z"
   },
   {
    "duration": 3,
    "start_time": "2021-12-24T20:33:30.584Z"
   },
   {
    "duration": 115973,
    "start_time": "2021-12-24T20:33:30.589Z"
   },
   {
    "duration": 5,
    "start_time": "2021-12-24T20:37:48.095Z"
   },
   {
    "duration": 6,
    "start_time": "2021-12-24T20:38:01.942Z"
   },
   {
    "duration": 6,
    "start_time": "2021-12-24T20:38:18.837Z"
   },
   {
    "duration": 6,
    "start_time": "2021-12-24T20:38:43.006Z"
   },
   {
    "duration": 111881,
    "start_time": "2021-12-24T20:38:46.181Z"
   },
   {
    "duration": 109,
    "start_time": "2021-12-24T20:43:33.584Z"
   },
   {
    "duration": 3,
    "start_time": "2021-12-24T20:43:46.985Z"
   },
   {
    "duration": 5,
    "start_time": "2021-12-24T20:47:01.005Z"
   },
   {
    "duration": 2169,
    "start_time": "2021-12-24T20:49:15.019Z"
   },
   {
    "duration": 2107,
    "start_time": "2021-12-24T20:49:17.190Z"
   },
   {
    "duration": 132,
    "start_time": "2021-12-24T20:49:19.301Z"
   },
   {
    "duration": 191,
    "start_time": "2021-12-24T20:49:19.435Z"
   },
   {
    "duration": 158,
    "start_time": "2021-12-24T20:49:19.628Z"
   },
   {
    "duration": 6,
    "start_time": "2021-12-24T20:49:19.788Z"
   },
   {
    "duration": 3214,
    "start_time": "2021-12-24T20:49:19.796Z"
   },
   {
    "duration": 201,
    "start_time": "2021-12-24T20:49:23.012Z"
   },
   {
    "duration": 3198,
    "start_time": "2021-12-24T20:49:23.214Z"
   },
   {
    "duration": 97,
    "start_time": "2021-12-24T20:49:26.414Z"
   },
   {
    "duration": 3214,
    "start_time": "2021-12-24T20:49:26.513Z"
   },
   {
    "duration": 265,
    "start_time": "2021-12-24T20:49:29.729Z"
   },
   {
    "duration": 97,
    "start_time": "2021-12-24T20:49:29.996Z"
   },
   {
    "duration": 2779,
    "start_time": "2021-12-24T20:49:30.095Z"
   },
   {
    "duration": 30,
    "start_time": "2021-12-24T20:49:32.877Z"
   },
   {
    "duration": 61,
    "start_time": "2021-12-24T20:49:32.909Z"
   },
   {
    "duration": 127,
    "start_time": "2021-12-24T20:49:32.972Z"
   },
   {
    "duration": 35,
    "start_time": "2021-12-24T20:49:33.102Z"
   },
   {
    "duration": 51,
    "start_time": "2021-12-24T20:49:33.139Z"
   },
   {
    "duration": 2738,
    "start_time": "2021-12-24T20:49:33.192Z"
   },
   {
    "duration": 175,
    "start_time": "2021-12-24T20:49:35.932Z"
   },
   {
    "duration": 2770,
    "start_time": "2021-12-24T20:49:36.110Z"
   },
   {
    "duration": 107,
    "start_time": "2021-12-24T20:49:38.881Z"
   },
   {
    "duration": 2794,
    "start_time": "2021-12-24T20:49:38.990Z"
   },
   {
    "duration": 47,
    "start_time": "2021-12-24T20:49:41.786Z"
   },
   {
    "duration": 2994,
    "start_time": "2021-12-24T20:49:41.836Z"
   },
   {
    "duration": 105,
    "start_time": "2021-12-24T20:49:44.832Z"
   },
   {
    "duration": 103,
    "start_time": "2021-12-24T20:49:44.938Z"
   },
   {
    "duration": 50,
    "start_time": "2021-12-24T20:49:45.043Z"
   },
   {
    "duration": 42,
    "start_time": "2021-12-24T20:49:45.095Z"
   },
   {
    "duration": 35,
    "start_time": "2021-12-24T20:49:45.138Z"
   },
   {
    "duration": 103,
    "start_time": "2021-12-24T20:49:45.174Z"
   },
   {
    "duration": 700,
    "start_time": "2021-12-24T20:49:45.279Z"
   },
   {
    "duration": 104,
    "start_time": "2021-12-24T20:49:45.981Z"
   },
   {
    "duration": 1147,
    "start_time": "2021-12-24T20:49:46.087Z"
   },
   {
    "duration": 3,
    "start_time": "2021-12-24T20:49:47.236Z"
   },
   {
    "duration": 8,
    "start_time": "2021-12-24T20:49:47.240Z"
   },
   {
    "duration": 5,
    "start_time": "2021-12-24T20:51:05.085Z"
   },
   {
    "duration": 112714,
    "start_time": "2021-12-24T20:51:41.748Z"
   },
   {
    "duration": 5071,
    "start_time": "2021-12-28T11:00:22.938Z"
   },
   {
    "duration": 2843,
    "start_time": "2021-12-28T11:00:28.012Z"
   },
   {
    "duration": 184,
    "start_time": "2021-12-28T11:00:30.864Z"
   },
   {
    "duration": 272,
    "start_time": "2021-12-28T11:00:31.051Z"
   },
   {
    "duration": 294,
    "start_time": "2021-12-28T11:00:31.326Z"
   },
   {
    "duration": 9,
    "start_time": "2021-12-28T11:00:31.623Z"
   },
   {
    "duration": 5067,
    "start_time": "2021-12-28T11:00:31.634Z"
   },
   {
    "duration": 250,
    "start_time": "2021-12-28T11:00:36.705Z"
   },
   {
    "duration": 5100,
    "start_time": "2021-12-28T11:00:36.964Z"
   },
   {
    "duration": 169,
    "start_time": "2021-12-28T11:00:42.067Z"
   },
   {
    "duration": 5032,
    "start_time": "2021-12-28T11:00:42.238Z"
   },
   {
    "duration": 391,
    "start_time": "2021-12-28T11:00:47.273Z"
   },
   {
    "duration": 137,
    "start_time": "2021-12-28T11:00:47.668Z"
   },
   {
    "duration": 3972,
    "start_time": "2021-12-28T11:00:47.808Z"
   },
   {
    "duration": 43,
    "start_time": "2021-12-28T11:00:51.783Z"
   },
   {
    "duration": 66,
    "start_time": "2021-12-28T11:00:51.828Z"
   },
   {
    "duration": 151,
    "start_time": "2021-12-28T11:00:51.896Z"
   },
   {
    "duration": 58,
    "start_time": "2021-12-28T11:00:52.050Z"
   },
   {
    "duration": 73,
    "start_time": "2021-12-28T11:00:52.110Z"
   },
   {
    "duration": 4028,
    "start_time": "2021-12-28T11:00:52.186Z"
   },
   {
    "duration": 196,
    "start_time": "2021-12-28T11:00:56.216Z"
   },
   {
    "duration": 4380,
    "start_time": "2021-12-28T11:00:56.414Z"
   },
   {
    "duration": 165,
    "start_time": "2021-12-28T11:01:00.799Z"
   },
   {
    "duration": 4446,
    "start_time": "2021-12-28T11:01:00.967Z"
   },
   {
    "duration": 79,
    "start_time": "2021-12-28T11:01:05.416Z"
   },
   {
    "duration": 4484,
    "start_time": "2021-12-28T11:01:05.498Z"
   },
   {
    "duration": 135,
    "start_time": "2021-12-28T11:01:09.984Z"
   },
   {
    "duration": 154,
    "start_time": "2021-12-28T11:01:10.122Z"
   },
   {
    "duration": 50,
    "start_time": "2021-12-28T11:01:10.278Z"
   },
   {
    "duration": 83,
    "start_time": "2021-12-28T11:01:10.331Z"
   },
   {
    "duration": 17,
    "start_time": "2021-12-28T11:01:10.416Z"
   },
   {
    "duration": 127,
    "start_time": "2021-12-28T11:01:10.463Z"
   },
   {
    "duration": 842,
    "start_time": "2021-12-28T11:01:10.592Z"
   },
   {
    "duration": 118,
    "start_time": "2021-12-28T11:01:11.436Z"
   },
   {
    "duration": 1772,
    "start_time": "2021-12-28T11:01:11.563Z"
   },
   {
    "duration": 3310,
    "start_time": "2021-12-28T11:02:17.569Z"
   },
   {
    "duration": 2989,
    "start_time": "2021-12-28T11:02:20.882Z"
   },
   {
    "duration": 193,
    "start_time": "2021-12-28T11:02:23.874Z"
   },
   {
    "duration": 274,
    "start_time": "2021-12-28T11:02:24.070Z"
   },
   {
    "duration": 210,
    "start_time": "2021-12-28T11:02:24.347Z"
   },
   {
    "duration": 9,
    "start_time": "2021-12-28T11:02:24.563Z"
   },
   {
    "duration": 5601,
    "start_time": "2021-12-28T11:02:24.575Z"
   },
   {
    "duration": 256,
    "start_time": "2021-12-28T11:02:30.182Z"
   },
   {
    "duration": 6028,
    "start_time": "2021-12-28T11:02:30.442Z"
   },
   {
    "duration": 177,
    "start_time": "2021-12-28T11:02:36.473Z"
   },
   {
    "duration": 5164,
    "start_time": "2021-12-28T11:02:36.653Z"
   },
   {
    "duration": 501,
    "start_time": "2021-12-28T11:02:41.819Z"
   },
   {
    "duration": 163,
    "start_time": "2021-12-28T11:02:42.323Z"
   },
   {
    "duration": 4738,
    "start_time": "2021-12-28T11:02:42.489Z"
   },
   {
    "duration": 68,
    "start_time": "2021-12-28T11:02:47.230Z"
   },
   {
    "duration": 65,
    "start_time": "2021-12-28T11:02:47.301Z"
   },
   {
    "duration": 193,
    "start_time": "2021-12-28T11:02:47.370Z"
   },
   {
    "duration": 49,
    "start_time": "2021-12-28T11:02:47.566Z"
   },
   {
    "duration": 73,
    "start_time": "2021-12-28T11:02:47.618Z"
   },
   {
    "duration": 4706,
    "start_time": "2021-12-28T11:02:47.694Z"
   },
   {
    "duration": 234,
    "start_time": "2021-12-28T11:02:52.402Z"
   },
   {
    "duration": 4507,
    "start_time": "2021-12-28T11:02:52.639Z"
   },
   {
    "duration": 152,
    "start_time": "2021-12-28T11:02:57.168Z"
   },
   {
    "duration": 4354,
    "start_time": "2021-12-28T11:02:57.323Z"
   },
   {
    "duration": 94,
    "start_time": "2021-12-28T11:03:01.680Z"
   },
   {
    "duration": 4752,
    "start_time": "2021-12-28T11:03:01.776Z"
   },
   {
    "duration": 153,
    "start_time": "2021-12-28T11:03:06.531Z"
   },
   {
    "duration": 163,
    "start_time": "2021-12-28T11:03:06.687Z"
   },
   {
    "duration": 60,
    "start_time": "2021-12-28T11:03:06.852Z"
   },
   {
    "duration": 75,
    "start_time": "2021-12-28T11:03:06.915Z"
   },
   {
    "duration": 18,
    "start_time": "2021-12-28T11:03:06.992Z"
   },
   {
    "duration": 160,
    "start_time": "2021-12-28T11:03:07.013Z"
   },
   {
    "duration": 761,
    "start_time": "2021-12-28T11:03:07.175Z"
   },
   {
    "duration": 112,
    "start_time": "2021-12-28T11:03:07.938Z"
   },
   {
    "duration": 1533,
    "start_time": "2021-12-28T11:03:08.052Z"
   },
   {
    "duration": 20695,
    "start_time": "2021-12-28T11:08:39.678Z"
   },
   {
    "duration": 5,
    "start_time": "2021-12-28T11:14:19.120Z"
   },
   {
    "duration": 9536,
    "start_time": "2021-12-28T11:42:12.491Z"
   },
   {
    "duration": 468,
    "start_time": "2021-12-28T11:56:01.302Z"
   },
   {
    "duration": 58710,
    "start_time": "2021-12-28T11:56:19.488Z"
   },
   {
    "duration": 10047,
    "start_time": "2021-12-28T11:58:54.230Z"
   },
   {
    "duration": 5,
    "start_time": "2021-12-28T15:18:32.035Z"
   },
   {
    "duration": 99,
    "start_time": "2021-12-28T15:18:37.694Z"
   },
   {
    "duration": 292,
    "start_time": "2021-12-28T15:18:57.639Z"
   },
   {
    "duration": 199,
    "start_time": "2021-12-28T15:19:23.901Z"
   },
   {
    "duration": 17259,
    "start_time": "2021-12-28T15:20:07.804Z"
   },
   {
    "duration": 3711,
    "start_time": "2021-12-28T15:20:42.476Z"
   },
   {
    "duration": 3538,
    "start_time": "2021-12-28T15:20:46.190Z"
   },
   {
    "duration": 198,
    "start_time": "2021-12-28T15:20:49.731Z"
   },
   {
    "duration": 295,
    "start_time": "2021-12-28T15:20:49.932Z"
   },
   {
    "duration": 254,
    "start_time": "2021-12-28T15:20:50.229Z"
   },
   {
    "duration": 10,
    "start_time": "2021-12-28T15:20:50.485Z"
   },
   {
    "duration": 5223,
    "start_time": "2021-12-28T15:20:50.497Z"
   },
   {
    "duration": 261,
    "start_time": "2021-12-28T15:20:55.725Z"
   },
   {
    "duration": 5176,
    "start_time": "2021-12-28T15:20:55.989Z"
   },
   {
    "duration": 152,
    "start_time": "2021-12-28T15:21:01.172Z"
   },
   {
    "duration": 4797,
    "start_time": "2021-12-28T15:21:01.326Z"
   },
   {
    "duration": 418,
    "start_time": "2021-12-28T15:21:06.126Z"
   },
   {
    "duration": 176,
    "start_time": "2021-12-28T15:21:06.546Z"
   },
   {
    "duration": 3946,
    "start_time": "2021-12-28T15:21:06.726Z"
   },
   {
    "duration": 44,
    "start_time": "2021-12-28T15:21:10.675Z"
   },
   {
    "duration": 74,
    "start_time": "2021-12-28T15:21:10.721Z"
   },
   {
    "duration": 177,
    "start_time": "2021-12-28T15:21:10.797Z"
   },
   {
    "duration": 49,
    "start_time": "2021-12-28T15:21:10.977Z"
   },
   {
    "duration": 82,
    "start_time": "2021-12-28T15:21:11.028Z"
   },
   {
    "duration": 4071,
    "start_time": "2021-12-28T15:21:11.113Z"
   },
   {
    "duration": 248,
    "start_time": "2021-12-28T15:21:15.187Z"
   },
   {
    "duration": 4281,
    "start_time": "2021-12-28T15:21:15.438Z"
   },
   {
    "duration": 158,
    "start_time": "2021-12-28T15:21:19.724Z"
   },
   {
    "duration": 4324,
    "start_time": "2021-12-28T15:21:19.885Z"
   },
   {
    "duration": 89,
    "start_time": "2021-12-28T15:21:24.212Z"
   },
   {
    "duration": 4502,
    "start_time": "2021-12-28T15:21:24.304Z"
   },
   {
    "duration": 147,
    "start_time": "2021-12-28T15:21:28.808Z"
   },
   {
    "duration": 163,
    "start_time": "2021-12-28T15:21:28.962Z"
   },
   {
    "duration": 63,
    "start_time": "2021-12-28T15:21:29.128Z"
   },
   {
    "duration": 97,
    "start_time": "2021-12-28T15:21:29.194Z"
   },
   {
    "duration": 21,
    "start_time": "2021-12-28T15:21:29.293Z"
   },
   {
    "duration": 164,
    "start_time": "2021-12-28T15:21:29.316Z"
   },
   {
    "duration": 1189,
    "start_time": "2021-12-28T15:21:29.483Z"
   },
   {
    "duration": 116,
    "start_time": "2021-12-28T15:21:30.675Z"
   },
   {
    "duration": 2110,
    "start_time": "2021-12-28T15:21:30.793Z"
   },
   {
    "duration": 27067,
    "start_time": "2021-12-28T15:21:32.906Z"
   },
   {
    "duration": 2737,
    "start_time": "2021-12-28T15:21:59.976Z"
   },
   {
    "duration": 4,
    "start_time": "2021-12-28T15:22:02.716Z"
   },
   {
    "duration": 158253,
    "start_time": "2021-12-28T15:22:02.723Z"
   },
   {
    "duration": 2309,
    "start_time": "2021-12-28T15:24:45.745Z"
   },
   {
    "duration": 2585,
    "start_time": "2021-12-28T15:26:23.234Z"
   },
   {
    "duration": 5,
    "start_time": "2021-12-28T15:27:39.048Z"
   },
   {
    "duration": 386,
    "start_time": "2021-12-28T15:42:00.240Z"
   },
   {
    "duration": 12,
    "start_time": "2021-12-28T15:45:46.902Z"
   },
   {
    "duration": 5,
    "start_time": "2021-12-28T15:46:37.715Z"
   },
   {
    "duration": 390039,
    "start_time": "2021-12-28T15:46:47.125Z"
   },
   {
    "duration": 8,
    "start_time": "2021-12-28T15:53:24.167Z"
   },
   {
    "duration": 5,
    "start_time": "2021-12-28T15:53:27.286Z"
   },
   {
    "duration": 242,
    "start_time": "2021-12-28T15:57:19.051Z"
   },
   {
    "duration": 4014,
    "start_time": "2021-12-28T15:57:30.228Z"
   },
   {
    "duration": 2666932,
    "start_time": "2021-12-28T16:01:53.366Z"
   },
   {
    "duration": 4032,
    "start_time": "2021-12-28T16:46:57.241Z"
   },
   {
    "duration": 1346,
    "start_time": "2021-12-28T16:47:01.278Z"
   },
   {
    "duration": 185,
    "start_time": "2021-12-28T16:47:02.627Z"
   },
   {
    "duration": 311,
    "start_time": "2021-12-28T16:47:02.814Z"
   },
   {
    "duration": 285,
    "start_time": "2021-12-28T16:47:03.128Z"
   },
   {
    "duration": 9,
    "start_time": "2021-12-28T16:47:03.416Z"
   },
   {
    "duration": 5396,
    "start_time": "2021-12-28T16:47:03.429Z"
   },
   {
    "duration": 171,
    "start_time": "2021-12-28T16:47:08.829Z"
   },
   {
    "duration": 5367,
    "start_time": "2021-12-28T16:47:09.003Z"
   },
   {
    "duration": 190,
    "start_time": "2021-12-28T16:47:14.373Z"
   },
   {
    "duration": 4775,
    "start_time": "2021-12-28T16:47:14.566Z"
   },
   {
    "duration": 434,
    "start_time": "2021-12-28T16:47:19.343Z"
   },
   {
    "duration": 113,
    "start_time": "2021-12-28T16:47:19.779Z"
   },
   {
    "duration": 4598,
    "start_time": "2021-12-28T16:47:19.895Z"
   },
   {
    "duration": 75,
    "start_time": "2021-12-28T16:47:24.496Z"
   },
   {
    "duration": 41,
    "start_time": "2021-12-28T16:47:24.575Z"
   },
   {
    "duration": 83,
    "start_time": "2021-12-28T16:47:24.619Z"
   },
   {
    "duration": 60,
    "start_time": "2021-12-28T16:47:24.705Z"
   },
   {
    "duration": 58,
    "start_time": "2021-12-28T16:47:24.768Z"
   },
   {
    "duration": 4165,
    "start_time": "2021-12-28T16:47:24.828Z"
   },
   {
    "duration": 211,
    "start_time": "2021-12-28T16:47:28.997Z"
   },
   {
    "duration": 4416,
    "start_time": "2021-12-28T16:47:29.211Z"
   },
   {
    "duration": 175,
    "start_time": "2021-12-28T16:47:33.632Z"
   },
   {
    "duration": 4389,
    "start_time": "2021-12-28T16:47:33.810Z"
   },
   {
    "duration": 88,
    "start_time": "2021-12-28T16:47:38.201Z"
   },
   {
    "duration": 4496,
    "start_time": "2021-12-28T16:47:38.291Z"
   },
   {
    "duration": 156,
    "start_time": "2021-12-28T16:47:42.789Z"
   },
   {
    "duration": 164,
    "start_time": "2021-12-28T16:47:42.947Z"
   },
   {
    "duration": 67,
    "start_time": "2021-12-28T16:47:43.113Z"
   },
   {
    "duration": 56,
    "start_time": "2021-12-28T16:47:43.183Z"
   },
   {
    "duration": 20,
    "start_time": "2021-12-28T16:47:43.262Z"
   },
   {
    "duration": 156,
    "start_time": "2021-12-28T16:47:43.284Z"
   },
   {
    "duration": 732,
    "start_time": "2021-12-28T16:47:43.443Z"
   },
   {
    "duration": 122,
    "start_time": "2021-12-28T16:47:44.179Z"
   },
   {
    "duration": 1912,
    "start_time": "2021-12-28T16:47:44.304Z"
   },
   {
    "duration": 5,
    "start_time": "2021-12-28T16:47:46.218Z"
   },
   {
    "duration": 26948,
    "start_time": "2021-12-28T16:47:46.225Z"
   },
   {
    "duration": 388702,
    "start_time": "2021-12-28T16:48:13.177Z"
   },
   {
    "duration": 4,
    "start_time": "2021-12-28T16:54:41.882Z"
   },
   {
    "duration": 13,
    "start_time": "2021-12-28T16:54:41.888Z"
   },
   {
    "duration": 2739,
    "start_time": "2021-12-28T16:54:41.903Z"
   },
   {
    "duration": 2242268,
    "start_time": "2021-12-28T16:54:44.645Z"
   },
   {
    "duration": -511,
    "start_time": "2021-12-28T17:32:07.427Z"
   },
   {
    "duration": -517,
    "start_time": "2021-12-28T17:32:07.434Z"
   },
   {
    "duration": 3612,
    "start_time": "2021-12-28T17:32:32.537Z"
   },
   {
    "duration": 2955,
    "start_time": "2021-12-28T17:32:36.153Z"
   },
   {
    "duration": 203,
    "start_time": "2021-12-28T17:32:39.111Z"
   },
   {
    "duration": 288,
    "start_time": "2021-12-28T17:32:39.317Z"
   },
   {
    "duration": 261,
    "start_time": "2021-12-28T17:32:39.608Z"
   },
   {
    "duration": 11,
    "start_time": "2021-12-28T17:32:39.871Z"
   },
   {
    "duration": 5341,
    "start_time": "2021-12-28T17:32:39.884Z"
   },
   {
    "duration": 272,
    "start_time": "2021-12-28T17:32:45.229Z"
   },
   {
    "duration": 5015,
    "start_time": "2021-12-28T17:32:45.505Z"
   },
   {
    "duration": 174,
    "start_time": "2021-12-28T17:32:50.523Z"
   },
   {
    "duration": 4931,
    "start_time": "2021-12-28T17:32:50.700Z"
   },
   {
    "duration": 435,
    "start_time": "2021-12-28T17:32:55.633Z"
   },
   {
    "duration": 134,
    "start_time": "2021-12-28T17:32:56.071Z"
   },
   {
    "duration": 4160,
    "start_time": "2021-12-28T17:32:56.208Z"
   },
   {
    "duration": 48,
    "start_time": "2021-12-28T17:33:00.371Z"
   },
   {
    "duration": 76,
    "start_time": "2021-12-28T17:33:00.422Z"
   },
   {
    "duration": 151,
    "start_time": "2021-12-28T17:33:00.502Z"
   },
   {
    "duration": 61,
    "start_time": "2021-12-28T17:33:00.664Z"
   },
   {
    "duration": 74,
    "start_time": "2021-12-28T17:33:00.728Z"
   },
   {
    "duration": 4222,
    "start_time": "2021-12-28T17:33:00.804Z"
   },
   {
    "duration": 247,
    "start_time": "2021-12-28T17:33:05.029Z"
   },
   {
    "duration": 4529,
    "start_time": "2021-12-28T17:33:05.279Z"
   },
   {
    "duration": 189,
    "start_time": "2021-12-28T17:33:09.815Z"
   },
   {
    "duration": 4292,
    "start_time": "2021-12-28T17:33:10.007Z"
   },
   {
    "duration": 91,
    "start_time": "2021-12-28T17:33:14.302Z"
   },
   {
    "duration": 4671,
    "start_time": "2021-12-28T17:33:14.396Z"
   },
   {
    "duration": 155,
    "start_time": "2021-12-28T17:33:19.070Z"
   },
   {
    "duration": 179,
    "start_time": "2021-12-28T17:33:19.228Z"
   },
   {
    "duration": 72,
    "start_time": "2021-12-28T17:33:19.410Z"
   },
   {
    "duration": 85,
    "start_time": "2021-12-28T17:33:19.485Z"
   },
   {
    "duration": 28,
    "start_time": "2021-12-28T17:33:19.576Z"
   },
   {
    "duration": 138,
    "start_time": "2021-12-28T17:33:19.607Z"
   },
   {
    "duration": 845,
    "start_time": "2021-12-28T17:33:19.747Z"
   },
   {
    "duration": 116,
    "start_time": "2021-12-28T17:33:20.594Z"
   },
   {
    "duration": 1599,
    "start_time": "2021-12-28T17:33:20.713Z"
   },
   {
    "duration": 4,
    "start_time": "2021-12-28T17:33:22.315Z"
   },
   {
    "duration": 27667,
    "start_time": "2021-12-28T17:33:22.322Z"
   },
   {
    "duration": 394366,
    "start_time": "2021-12-28T17:33:49.992Z"
   },
   {
    "duration": 4,
    "start_time": "2021-12-28T17:40:24.367Z"
   },
   {
    "duration": 10,
    "start_time": "2021-12-28T17:40:24.374Z"
   },
   {
    "duration": 2791,
    "start_time": "2021-12-28T17:40:24.391Z"
   },
   {
    "duration": 866735,
    "start_time": "2021-12-28T17:40:27.186Z"
   },
   {
    "duration": 5,
    "start_time": "2021-12-28T17:54:53.923Z"
   },
   {
    "duration": 6,
    "start_time": "2021-12-28T17:54:53.931Z"
   },
   {
    "duration": 17356,
    "start_time": "2021-12-28T17:54:53.939Z"
   },
   {
    "duration": 435,
    "start_time": "2021-12-28T18:19:43.053Z"
   },
   {
    "duration": 396,
    "start_time": "2021-12-28T18:20:24.013Z"
   },
   {
    "duration": 2515,
    "start_time": "2021-12-28T18:22:44.092Z"
   },
   {
    "duration": 461,
    "start_time": "2021-12-28T18:29:03.131Z"
   },
   {
    "duration": 684,
    "start_time": "2021-12-28T18:29:57.964Z"
   },
   {
    "duration": 937,
    "start_time": "2021-12-28T18:30:48.932Z"
   },
   {
    "duration": 7606,
    "start_time": "2021-12-28T18:30:58.315Z"
   },
   {
    "duration": 2383096,
    "start_time": "2021-12-28T18:35:25.591Z"
   },
   {
    "duration": 4264,
    "start_time": "2021-12-28T19:15:56.261Z"
   },
   {
    "duration": 1883,
    "start_time": "2021-12-28T19:16:00.528Z"
   },
   {
    "duration": 188,
    "start_time": "2021-12-28T19:16:02.414Z"
   },
   {
    "duration": 271,
    "start_time": "2021-12-28T19:16:02.605Z"
   },
   {
    "duration": 221,
    "start_time": "2021-12-28T19:16:02.879Z"
   },
   {
    "duration": 9,
    "start_time": "2021-12-28T19:16:03.102Z"
   },
   {
    "duration": 5322,
    "start_time": "2021-12-28T19:16:03.114Z"
   },
   {
    "duration": 190,
    "start_time": "2021-12-28T19:16:08.440Z"
   },
   {
    "duration": 5569,
    "start_time": "2021-12-28T19:16:08.633Z"
   },
   {
    "duration": 206,
    "start_time": "2021-12-28T19:16:14.205Z"
   },
   {
    "duration": 5162,
    "start_time": "2021-12-28T19:16:14.413Z"
   },
   {
    "duration": 453,
    "start_time": "2021-12-28T19:16:19.578Z"
   },
   {
    "duration": 163,
    "start_time": "2021-12-28T19:16:20.033Z"
   },
   {
    "duration": 4287,
    "start_time": "2021-12-28T19:16:20.199Z"
   },
   {
    "duration": 85,
    "start_time": "2021-12-28T19:16:24.488Z"
   },
   {
    "duration": 41,
    "start_time": "2021-12-28T19:16:24.576Z"
   },
   {
    "duration": 75,
    "start_time": "2021-12-28T19:16:24.621Z"
   },
   {
    "duration": 70,
    "start_time": "2021-12-28T19:16:24.700Z"
   },
   {
    "duration": 54,
    "start_time": "2021-12-28T19:16:24.773Z"
   },
   {
    "duration": 4372,
    "start_time": "2021-12-28T19:16:24.830Z"
   },
   {
    "duration": 221,
    "start_time": "2021-12-28T19:16:29.204Z"
   },
   {
    "duration": 4369,
    "start_time": "2021-12-28T19:16:29.428Z"
   },
   {
    "duration": 161,
    "start_time": "2021-12-28T19:16:33.802Z"
   },
   {
    "duration": 4440,
    "start_time": "2021-12-28T19:16:33.965Z"
   },
   {
    "duration": 87,
    "start_time": "2021-12-28T19:16:38.408Z"
   },
   {
    "duration": 4751,
    "start_time": "2021-12-28T19:16:38.497Z"
   },
   {
    "duration": 149,
    "start_time": "2021-12-28T19:16:43.262Z"
   },
   {
    "duration": 164,
    "start_time": "2021-12-28T19:16:43.413Z"
   },
   {
    "duration": 55,
    "start_time": "2021-12-28T19:16:43.580Z"
   },
   {
    "duration": 87,
    "start_time": "2021-12-28T19:16:43.637Z"
   },
   {
    "duration": 43,
    "start_time": "2021-12-28T19:16:43.727Z"
   },
   {
    "duration": 142,
    "start_time": "2021-12-28T19:16:43.772Z"
   },
   {
    "duration": 847,
    "start_time": "2021-12-28T19:16:43.916Z"
   },
   {
    "duration": 121,
    "start_time": "2021-12-28T19:16:44.768Z"
   },
   {
    "duration": 1731,
    "start_time": "2021-12-28T19:16:44.891Z"
   },
   {
    "duration": 5,
    "start_time": "2021-12-28T19:16:46.625Z"
   },
   {
    "duration": 28536,
    "start_time": "2021-12-28T19:16:46.633Z"
   },
   {
    "duration": 1949704,
    "start_time": "2021-12-28T19:17:15.174Z"
   },
   {
    "duration": 4,
    "start_time": "2021-12-28T19:49:44.881Z"
   },
   {
    "duration": 8,
    "start_time": "2021-12-28T19:49:44.888Z"
   },
   {
    "duration": 44120,
    "start_time": "2021-12-28T19:54:06.876Z"
   },
   {
    "duration": 392052,
    "start_time": "2021-12-28T19:57:34.706Z"
   },
   {
    "duration": 5,
    "start_time": "2021-12-28T20:05:04.387Z"
   },
   {
    "duration": 5,
    "start_time": "2021-12-28T20:05:09.618Z"
   },
   {
    "duration": 311,
    "start_time": "2021-12-28T20:08:13.671Z"
   },
   {
    "duration": 279,
    "start_time": "2021-12-28T20:08:48.887Z"
   },
   {
    "duration": 360,
    "start_time": "2021-12-28T20:09:05.286Z"
   },
   {
    "duration": 392055,
    "start_time": "2021-12-28T20:09:09.430Z"
   },
   {
    "duration": 6,
    "start_time": "2021-12-28T20:15:46.749Z"
   },
   {
    "duration": 735,
    "start_time": "2021-12-28T20:15:49.336Z"
   },
   {
    "duration": 5,
    "start_time": "2021-12-28T20:15:58.648Z"
   },
   {
    "duration": 5,
    "start_time": "2021-12-28T20:17:11.926Z"
   },
   {
    "duration": 284,
    "start_time": "2021-12-28T20:18:32.148Z"
   },
   {
    "duration": 326,
    "start_time": "2021-12-28T20:18:36.084Z"
   },
   {
    "duration": 299,
    "start_time": "2021-12-28T20:19:33.925Z"
   },
   {
    "duration": 6,
    "start_time": "2021-12-28T20:21:48.938Z"
   },
   {
    "duration": 3400,
    "start_time": "2021-12-28T20:25:06.926Z"
   },
   {
    "duration": 2957,
    "start_time": "2021-12-28T20:25:10.329Z"
   },
   {
    "duration": 186,
    "start_time": "2021-12-28T20:25:13.290Z"
   },
   {
    "duration": 284,
    "start_time": "2021-12-28T20:25:13.479Z"
   },
   {
    "duration": 217,
    "start_time": "2021-12-28T20:25:13.766Z"
   },
   {
    "duration": 8,
    "start_time": "2021-12-28T20:25:13.986Z"
   },
   {
    "duration": 5247,
    "start_time": "2021-12-28T20:25:13.997Z"
   },
   {
    "duration": 254,
    "start_time": "2021-12-28T20:25:19.264Z"
   },
   {
    "duration": 4958,
    "start_time": "2021-12-28T20:25:19.521Z"
   },
   {
    "duration": 181,
    "start_time": "2021-12-28T20:25:24.482Z"
   },
   {
    "duration": 4835,
    "start_time": "2021-12-28T20:25:24.665Z"
   },
   {
    "duration": 430,
    "start_time": "2021-12-28T20:25:29.504Z"
   },
   {
    "duration": 155,
    "start_time": "2021-12-28T20:25:29.937Z"
   },
   {
    "duration": 4044,
    "start_time": "2021-12-28T20:25:30.094Z"
   },
   {
    "duration": 67,
    "start_time": "2021-12-28T20:25:34.141Z"
   },
   {
    "duration": 74,
    "start_time": "2021-12-28T20:25:34.211Z"
   },
   {
    "duration": 149,
    "start_time": "2021-12-28T20:25:34.287Z"
   },
   {
    "duration": 70,
    "start_time": "2021-12-28T20:25:34.439Z"
   },
   {
    "duration": 72,
    "start_time": "2021-12-28T20:25:34.512Z"
   },
   {
    "duration": 4062,
    "start_time": "2021-12-28T20:25:34.588Z"
   },
   {
    "duration": 241,
    "start_time": "2021-12-28T20:25:38.662Z"
   },
   {
    "duration": 4312,
    "start_time": "2021-12-28T20:25:38.905Z"
   },
   {
    "duration": 153,
    "start_time": "2021-12-28T20:25:43.223Z"
   },
   {
    "duration": 4518,
    "start_time": "2021-12-28T20:25:43.379Z"
   },
   {
    "duration": 85,
    "start_time": "2021-12-28T20:25:47.899Z"
   },
   {
    "duration": 4982,
    "start_time": "2021-12-28T20:25:47.987Z"
   },
   {
    "duration": 141,
    "start_time": "2021-12-28T20:25:52.971Z"
   },
   {
    "duration": 159,
    "start_time": "2021-12-28T20:25:53.115Z"
   },
   {
    "duration": 51,
    "start_time": "2021-12-28T20:25:53.279Z"
   },
   {
    "duration": 76,
    "start_time": "2021-12-28T20:25:53.332Z"
   },
   {
    "duration": 17,
    "start_time": "2021-12-28T20:25:53.410Z"
   },
   {
    "duration": 162,
    "start_time": "2021-12-28T20:25:53.430Z"
   },
   {
    "duration": 836,
    "start_time": "2021-12-28T20:25:53.595Z"
   },
   {
    "duration": 112,
    "start_time": "2021-12-28T20:25:54.434Z"
   },
   {
    "duration": 1684,
    "start_time": "2021-12-28T20:25:54.549Z"
   },
   {
    "duration": 5,
    "start_time": "2021-12-28T20:25:56.235Z"
   },
   {
    "duration": 27640,
    "start_time": "2021-12-28T20:25:56.243Z"
   },
   {
    "duration": 1624397,
    "start_time": "2021-12-28T20:26:23.885Z"
   },
   {
    "duration": 5,
    "start_time": "2021-12-28T20:53:28.285Z"
   },
   {
    "duration": 9,
    "start_time": "2021-12-28T20:53:28.364Z"
   },
   {
    "duration": 35193,
    "start_time": "2021-12-28T20:53:28.380Z"
   },
   {
    "duration": 387960,
    "start_time": "2021-12-28T20:54:03.580Z"
   },
   {
    "duration": 4,
    "start_time": "2021-12-28T21:00:31.542Z"
   },
   {
    "duration": 17,
    "start_time": "2021-12-28T21:00:31.571Z"
   },
   {
    "duration": 2728,
    "start_time": "2021-12-28T21:00:31.592Z"
   },
   {
    "duration": 881328,
    "start_time": "2021-12-28T21:00:34.324Z"
   },
   {
    "duration": 15,
    "start_time": "2021-12-28T21:15:15.654Z"
   },
   {
    "duration": 7,
    "start_time": "2021-12-28T21:15:15.672Z"
   },
   {
    "duration": 28735,
    "start_time": "2021-12-28T21:15:15.681Z"
   },
   {
    "duration": 24596,
    "start_time": "2021-12-28T21:20:58.284Z"
   },
   {
    "duration": 4,
    "start_time": "2021-12-28T21:21:47.267Z"
   },
   {
    "duration": 173254,
    "start_time": "2021-12-28T21:21:51.922Z"
   },
   {
    "duration": 25540,
    "start_time": "2021-12-28T21:28:50.748Z"
   },
   {
    "duration": 5330,
    "start_time": "2021-12-29T07:06:56.622Z"
   },
   {
    "duration": 3065,
    "start_time": "2021-12-29T07:07:01.956Z"
   },
   {
    "duration": 188,
    "start_time": "2021-12-29T07:07:05.024Z"
   },
   {
    "duration": 290,
    "start_time": "2021-12-29T07:07:05.215Z"
   },
   {
    "duration": 255,
    "start_time": "2021-12-29T07:07:05.508Z"
   },
   {
    "duration": 16,
    "start_time": "2021-12-29T07:07:05.766Z"
   },
   {
    "duration": 6891,
    "start_time": "2021-12-29T07:07:05.786Z"
   },
   {
    "duration": 322,
    "start_time": "2021-12-29T07:07:12.682Z"
   },
   {
    "duration": 5943,
    "start_time": "2021-12-29T07:07:13.007Z"
   },
   {
    "duration": 191,
    "start_time": "2021-12-29T07:07:18.964Z"
   },
   {
    "duration": 5721,
    "start_time": "2021-12-29T07:07:19.164Z"
   },
   {
    "duration": 508,
    "start_time": "2021-12-29T07:07:24.888Z"
   },
   {
    "duration": 149,
    "start_time": "2021-12-29T07:07:25.399Z"
   },
   {
    "duration": 4488,
    "start_time": "2021-12-29T07:07:25.551Z"
   },
   {
    "duration": 70,
    "start_time": "2021-12-29T07:07:30.041Z"
   },
   {
    "duration": 78,
    "start_time": "2021-12-29T07:07:30.114Z"
   },
   {
    "duration": 168,
    "start_time": "2021-12-29T07:07:30.195Z"
   },
   {
    "duration": 62,
    "start_time": "2021-12-29T07:07:30.366Z"
   },
   {
    "duration": 71,
    "start_time": "2021-12-29T07:07:30.431Z"
   },
   {
    "duration": 4310,
    "start_time": "2021-12-29T07:07:30.506Z"
   },
   {
    "duration": 251,
    "start_time": "2021-12-29T07:07:34.819Z"
   },
   {
    "duration": 5734,
    "start_time": "2021-12-29T07:07:35.073Z"
   },
   {
    "duration": 191,
    "start_time": "2021-12-29T07:07:40.813Z"
   },
   {
    "duration": 4313,
    "start_time": "2021-12-29T07:07:41.007Z"
   },
   {
    "duration": 89,
    "start_time": "2021-12-29T07:07:45.323Z"
   },
   {
    "duration": 4657,
    "start_time": "2021-12-29T07:07:45.415Z"
   },
   {
    "duration": 151,
    "start_time": "2021-12-29T07:07:50.076Z"
   },
   {
    "duration": 172,
    "start_time": "2021-12-29T07:07:50.230Z"
   },
   {
    "duration": 67,
    "start_time": "2021-12-29T07:07:50.404Z"
   },
   {
    "duration": 63,
    "start_time": "2021-12-29T07:07:50.474Z"
   },
   {
    "duration": 27,
    "start_time": "2021-12-29T07:07:50.564Z"
   },
   {
    "duration": 152,
    "start_time": "2021-12-29T07:07:50.594Z"
   },
   {
    "duration": 846,
    "start_time": "2021-12-29T07:07:50.748Z"
   },
   {
    "duration": 123,
    "start_time": "2021-12-29T07:07:51.597Z"
   },
   {
    "duration": 1721,
    "start_time": "2021-12-29T07:07:51.723Z"
   },
   {
    "duration": 16,
    "start_time": "2021-12-29T07:07:53.447Z"
   },
   {
    "duration": 5,
    "start_time": "2021-12-29T07:07:53.467Z"
   },
   {
    "duration": 163489,
    "start_time": "2021-12-29T07:07:53.476Z"
   },
   {
    "duration": 26612,
    "start_time": "2021-12-29T07:10:36.969Z"
   },
   {
    "duration": 6774896,
    "start_time": "2021-12-29T07:11:03.584Z"
   },
   {
    "duration": 5,
    "start_time": "2021-12-29T09:03:58.482Z"
   },
   {
    "duration": 6,
    "start_time": "2021-12-29T09:03:58.490Z"
   },
   {
    "duration": 16926,
    "start_time": "2021-12-29T09:03:58.499Z"
   },
   {
    "duration": 8266,
    "start_time": "2021-12-29T09:04:15.428Z"
   },
   {
    "duration": 297,
    "start_time": "2021-12-29T09:04:23.696Z"
   },
   {
    "duration": -939,
    "start_time": "2021-12-29T09:04:24.935Z"
   },
   {
    "duration": -939,
    "start_time": "2021-12-29T09:04:24.937Z"
   },
   {
    "duration": -939,
    "start_time": "2021-12-29T09:04:24.939Z"
   },
   {
    "duration": -940,
    "start_time": "2021-12-29T09:04:24.941Z"
   },
   {
    "duration": -945,
    "start_time": "2021-12-29T09:04:24.948Z"
   },
   {
    "duration": -947,
    "start_time": "2021-12-29T09:04:24.951Z"
   },
   {
    "duration": 3832,
    "start_time": "2021-12-29T09:04:31.528Z"
   },
   {
    "duration": 2974,
    "start_time": "2021-12-29T09:04:35.364Z"
   },
   {
    "duration": 180,
    "start_time": "2021-12-29T09:04:38.342Z"
   },
   {
    "duration": 275,
    "start_time": "2021-12-29T09:04:38.525Z"
   },
   {
    "duration": 240,
    "start_time": "2021-12-29T09:04:38.802Z"
   },
   {
    "duration": 21,
    "start_time": "2021-12-29T09:04:39.044Z"
   },
   {
    "duration": 5006,
    "start_time": "2021-12-29T09:04:39.067Z"
   },
   {
    "duration": 267,
    "start_time": "2021-12-29T09:04:44.077Z"
   },
   {
    "duration": 4958,
    "start_time": "2021-12-29T09:04:44.348Z"
   },
   {
    "duration": 168,
    "start_time": "2021-12-29T09:04:49.309Z"
   },
   {
    "duration": 5094,
    "start_time": "2021-12-29T09:04:49.480Z"
   },
   {
    "duration": 392,
    "start_time": "2021-12-29T09:04:54.577Z"
   },
   {
    "duration": 145,
    "start_time": "2021-12-29T09:04:54.972Z"
   },
   {
    "duration": 3891,
    "start_time": "2021-12-29T09:04:55.120Z"
   },
   {
    "duration": 67,
    "start_time": "2021-12-29T09:04:59.014Z"
   },
   {
    "duration": 38,
    "start_time": "2021-12-29T09:04:59.084Z"
   },
   {
    "duration": 176,
    "start_time": "2021-12-29T09:04:59.124Z"
   },
   {
    "duration": 70,
    "start_time": "2021-12-29T09:04:59.303Z"
   },
   {
    "duration": 57,
    "start_time": "2021-12-29T09:04:59.376Z"
   },
   {
    "duration": 5851,
    "start_time": "2021-12-29T09:04:59.436Z"
   },
   {
    "duration": 312,
    "start_time": "2021-12-29T09:05:05.290Z"
   },
   {
    "duration": 6159,
    "start_time": "2021-12-29T09:05:05.605Z"
   },
   {
    "duration": 211,
    "start_time": "2021-12-29T09:05:11.772Z"
   },
   {
    "duration": 4516,
    "start_time": "2021-12-29T09:05:11.986Z"
   },
   {
    "duration": 98,
    "start_time": "2021-12-29T09:05:16.505Z"
   },
   {
    "duration": 4801,
    "start_time": "2021-12-29T09:05:16.606Z"
   },
   {
    "duration": 160,
    "start_time": "2021-12-29T09:05:21.410Z"
   },
   {
    "duration": 165,
    "start_time": "2021-12-29T09:05:21.573Z"
   },
   {
    "duration": 61,
    "start_time": "2021-12-29T09:05:21.741Z"
   },
   {
    "duration": 80,
    "start_time": "2021-12-29T09:05:21.805Z"
   },
   {
    "duration": 17,
    "start_time": "2021-12-29T09:05:21.888Z"
   },
   {
    "duration": 159,
    "start_time": "2021-12-29T09:05:21.908Z"
   },
   {
    "duration": 1150,
    "start_time": "2021-12-29T09:05:22.070Z"
   },
   {
    "duration": 125,
    "start_time": "2021-12-29T09:05:23.223Z"
   },
   {
    "duration": 2430,
    "start_time": "2021-12-29T09:05:23.351Z"
   },
   {
    "duration": 5,
    "start_time": "2021-12-29T09:05:25.783Z"
   },
   {
    "duration": 11,
    "start_time": "2021-12-29T09:05:25.791Z"
   },
   {
    "duration": 158061,
    "start_time": "2021-12-29T09:05:25.805Z"
   },
   {
    "duration": 24704,
    "start_time": "2021-12-29T09:08:03.869Z"
   },
   {
    "duration": 5217964,
    "start_time": "2021-12-29T09:08:28.576Z"
   },
   {
    "duration": 302,
    "start_time": "2021-12-29T10:35:26.543Z"
   },
   {
    "duration": -1044,
    "start_time": "2021-12-29T10:35:27.891Z"
   },
   {
    "duration": -1046,
    "start_time": "2021-12-29T10:35:27.894Z"
   },
   {
    "duration": -1046,
    "start_time": "2021-12-29T10:35:27.896Z"
   },
   {
    "duration": -1046,
    "start_time": "2021-12-29T10:35:27.898Z"
   },
   {
    "duration": -1047,
    "start_time": "2021-12-29T10:35:27.900Z"
   },
   {
    "duration": -1047,
    "start_time": "2021-12-29T10:35:27.902Z"
   },
   {
    "duration": -1049,
    "start_time": "2021-12-29T10:35:27.905Z"
   },
   {
    "duration": -1050,
    "start_time": "2021-12-29T10:35:27.907Z"
   },
   {
    "duration": -1050,
    "start_time": "2021-12-29T10:35:27.909Z"
   },
   {
    "duration": -1055,
    "start_time": "2021-12-29T10:35:27.915Z"
   },
   {
    "duration": 3592,
    "start_time": "2021-12-29T10:36:08.564Z"
   },
   {
    "duration": 3216,
    "start_time": "2021-12-29T10:36:12.160Z"
   },
   {
    "duration": 217,
    "start_time": "2021-12-29T10:36:15.380Z"
   },
   {
    "duration": 269,
    "start_time": "2021-12-29T10:36:15.600Z"
   },
   {
    "duration": 224,
    "start_time": "2021-12-29T10:36:15.871Z"
   },
   {
    "duration": 12,
    "start_time": "2021-12-29T10:36:16.098Z"
   },
   {
    "duration": 5423,
    "start_time": "2021-12-29T10:36:16.113Z"
   },
   {
    "duration": 324,
    "start_time": "2021-12-29T10:36:21.543Z"
   },
   {
    "duration": 5377,
    "start_time": "2021-12-29T10:36:21.871Z"
   },
   {
    "duration": 155,
    "start_time": "2021-12-29T10:36:27.263Z"
   },
   {
    "duration": 5025,
    "start_time": "2021-12-29T10:36:27.421Z"
   },
   {
    "duration": 411,
    "start_time": "2021-12-29T10:36:32.463Z"
   },
   {
    "duration": 152,
    "start_time": "2021-12-29T10:36:32.877Z"
   },
   {
    "duration": 4068,
    "start_time": "2021-12-29T10:36:33.033Z"
   },
   {
    "duration": 72,
    "start_time": "2021-12-29T10:36:37.103Z"
   },
   {
    "duration": 39,
    "start_time": "2021-12-29T10:36:37.178Z"
   },
   {
    "duration": 171,
    "start_time": "2021-12-29T10:36:37.222Z"
   },
   {
    "duration": 68,
    "start_time": "2021-12-29T10:36:37.396Z"
   },
   {
    "duration": 54,
    "start_time": "2021-12-29T10:36:37.466Z"
   },
   {
    "duration": 4389,
    "start_time": "2021-12-29T10:36:37.523Z"
   },
   {
    "duration": 280,
    "start_time": "2021-12-29T10:36:41.916Z"
   },
   {
    "duration": 4197,
    "start_time": "2021-12-29T10:36:42.199Z"
   },
   {
    "duration": 161,
    "start_time": "2021-12-29T10:36:46.403Z"
   },
   {
    "duration": 4258,
    "start_time": "2021-12-29T10:36:46.567Z"
   },
   {
    "duration": 77,
    "start_time": "2021-12-29T10:36:50.828Z"
   },
   {
    "duration": 4664,
    "start_time": "2021-12-29T10:36:50.908Z"
   },
   {
    "duration": 137,
    "start_time": "2021-12-29T10:36:55.574Z"
   },
   {
    "duration": 153,
    "start_time": "2021-12-29T10:36:55.714Z"
   },
   {
    "duration": 54,
    "start_time": "2021-12-29T10:36:55.870Z"
   },
   {
    "duration": 81,
    "start_time": "2021-12-29T10:36:55.927Z"
   },
   {
    "duration": 18,
    "start_time": "2021-12-29T10:36:56.010Z"
   },
   {
    "duration": 155,
    "start_time": "2021-12-29T10:36:56.030Z"
   },
   {
    "duration": 892,
    "start_time": "2021-12-29T10:36:56.187Z"
   },
   {
    "duration": 119,
    "start_time": "2021-12-29T10:36:57.083Z"
   },
   {
    "duration": 1618,
    "start_time": "2021-12-29T10:36:57.205Z"
   },
   {
    "duration": 5,
    "start_time": "2021-12-29T10:36:58.826Z"
   },
   {
    "duration": 6,
    "start_time": "2021-12-29T10:36:58.833Z"
   },
   {
    "duration": 152726,
    "start_time": "2021-12-29T10:36:58.841Z"
   },
   {
    "duration": 23904,
    "start_time": "2021-12-29T10:39:31.571Z"
   },
   {
    "duration": 1817695,
    "start_time": "2021-12-29T10:39:55.478Z"
   },
   {
    "duration": 5,
    "start_time": "2021-12-29T11:10:13.175Z"
   },
   {
    "duration": 7,
    "start_time": "2021-12-29T11:10:13.183Z"
   },
   {
    "duration": 19207,
    "start_time": "2021-12-29T11:10:13.264Z"
   },
   {
    "duration": 400856,
    "start_time": "2021-12-29T11:10:32.474Z"
   },
   {
    "duration": 5,
    "start_time": "2021-12-29T11:17:13.334Z"
   },
   {
    "duration": 25,
    "start_time": "2021-12-29T11:17:13.341Z"
   },
   {
    "duration": 2775,
    "start_time": "2021-12-29T11:17:13.369Z"
   },
   {
    "duration": 894032,
    "start_time": "2021-12-29T11:17:16.147Z"
   },
   {
    "duration": 6,
    "start_time": "2021-12-29T11:32:10.182Z"
   },
   {
    "duration": 41,
    "start_time": "2021-12-29T11:32:10.191Z"
   },
   {
    "duration": 30622,
    "start_time": "2021-12-29T11:32:10.235Z"
   },
   {
    "duration": 453,
    "start_time": "2021-12-29T11:43:54.662Z"
   },
   {
    "duration": 11,
    "start_time": "2021-12-29T11:44:01.409Z"
   },
   {
    "duration": 358,
    "start_time": "2021-12-29T11:46:40.902Z"
   },
   {
    "duration": 14,
    "start_time": "2021-12-29T11:48:19.406Z"
   },
   {
    "duration": 334,
    "start_time": "2021-12-29T11:49:52.187Z"
   },
   {
    "duration": 11,
    "start_time": "2021-12-29T11:50:09.218Z"
   },
   {
    "duration": 110,
    "start_time": "2021-12-29T11:52:54.080Z"
   },
   {
    "duration": 6,
    "start_time": "2021-12-29T11:55:02.413Z"
   },
   {
    "duration": 10,
    "start_time": "2021-12-29T11:55:10.029Z"
   },
   {
    "duration": 12,
    "start_time": "2021-12-29T11:58:18.810Z"
   },
   {
    "duration": 17,
    "start_time": "2021-12-29T11:58:37.234Z"
   },
   {
    "duration": 320,
    "start_time": "2021-12-29T12:01:36.311Z"
   },
   {
    "duration": 290,
    "start_time": "2021-12-29T12:01:43.464Z"
   },
   {
    "duration": 22,
    "start_time": "2021-12-29T12:01:50.631Z"
   },
   {
    "duration": 23,
    "start_time": "2021-12-29T12:02:00.358Z"
   },
   {
    "duration": 17,
    "start_time": "2021-12-29T12:02:20.100Z"
   },
   {
    "duration": 22,
    "start_time": "2021-12-29T12:02:43.798Z"
   },
   {
    "duration": 18,
    "start_time": "2021-12-29T12:05:56.893Z"
   },
   {
    "duration": 21573,
    "start_time": "2021-12-29T12:20:22.292Z"
   },
   {
    "duration": 234,
    "start_time": "2021-12-29T12:20:46.367Z"
   },
   {
    "duration": 8,
    "start_time": "2021-12-29T12:20:59.155Z"
   },
   {
    "duration": 289,
    "start_time": "2021-12-29T12:22:13.667Z"
   },
   {
    "duration": 1388,
    "start_time": "2021-12-29T12:26:04.862Z"
   },
   {
    "duration": 1580,
    "start_time": "2021-12-29T12:26:55.397Z"
   },
   {
    "duration": 9,
    "start_time": "2021-12-29T12:27:43.300Z"
   },
   {
    "duration": 311663,
    "start_time": "2021-12-29T12:30:57.616Z"
   },
   {
    "duration": 913,
    "start_time": "2021-12-29T12:36:18.983Z"
   },
   {
    "duration": 7,
    "start_time": "2021-12-29T12:36:24.483Z"
   },
   {
    "duration": 2692,
    "start_time": "2021-12-29T12:38:05.233Z"
   },
   {
    "duration": 127,
    "start_time": "2021-12-29T12:38:12.129Z"
   },
   {
    "duration": 7,
    "start_time": "2021-12-29T12:38:29.473Z"
   },
   {
    "duration": 27747,
    "start_time": "2021-12-29T12:39:17.448Z"
   },
   {
    "duration": 177,
    "start_time": "2021-12-29T12:39:55.024Z"
   },
   {
    "duration": 6,
    "start_time": "2021-12-29T12:40:12.535Z"
   },
   {
    "duration": 679,
    "start_time": "2021-12-29T12:50:01.374Z"
   },
   {
    "duration": 352,
    "start_time": "2021-12-29T12:50:15.789Z"
   },
   {
    "duration": 318,
    "start_time": "2021-12-29T12:50:30.645Z"
   },
   {
    "duration": 7,
    "start_time": "2021-12-29T12:50:34.621Z"
   },
   {
    "duration": 17,
    "start_time": "2021-12-29T12:50:39.061Z"
   },
   {
    "duration": 11,
    "start_time": "2021-12-29T12:57:00.551Z"
   },
   {
    "duration": 11,
    "start_time": "2021-12-29T12:57:13.455Z"
   },
   {
    "duration": 11,
    "start_time": "2021-12-29T12:59:34.444Z"
   },
   {
    "duration": 11,
    "start_time": "2021-12-29T13:01:52.650Z"
   },
   {
    "duration": 11,
    "start_time": "2021-12-29T13:01:57.282Z"
   },
   {
    "duration": 13,
    "start_time": "2021-12-29T13:04:29.111Z"
   },
   {
    "duration": 15,
    "start_time": "2021-12-29T13:05:20.751Z"
   },
   {
    "duration": 15,
    "start_time": "2021-12-29T13:12:03.064Z"
   },
   {
    "duration": 4141,
    "start_time": "2021-12-29T13:15:54.522Z"
   },
   {
    "duration": 4063,
    "start_time": "2021-12-29T13:15:58.665Z"
   },
   {
    "duration": 181,
    "start_time": "2021-12-29T13:16:02.732Z"
   },
   {
    "duration": 272,
    "start_time": "2021-12-29T13:16:02.916Z"
   },
   {
    "duration": 320,
    "start_time": "2021-12-29T13:16:03.192Z"
   },
   {
    "duration": 11,
    "start_time": "2021-12-29T13:16:03.515Z"
   },
   {
    "duration": 7354,
    "start_time": "2021-12-29T13:16:03.529Z"
   },
   {
    "duration": 321,
    "start_time": "2021-12-29T13:16:10.888Z"
   },
   {
    "duration": 5120,
    "start_time": "2021-12-29T13:16:11.213Z"
   },
   {
    "duration": 144,
    "start_time": "2021-12-29T13:16:16.336Z"
   },
   {
    "duration": 6896,
    "start_time": "2021-12-29T13:16:16.482Z"
   },
   {
    "duration": 408,
    "start_time": "2021-12-29T13:16:23.381Z"
   },
   {
    "duration": 141,
    "start_time": "2021-12-29T13:16:23.792Z"
   },
   {
    "duration": 5606,
    "start_time": "2021-12-29T13:16:23.936Z"
   },
   {
    "duration": 63,
    "start_time": "2021-12-29T13:16:29.544Z"
   },
   {
    "duration": 69,
    "start_time": "2021-12-29T13:16:29.609Z"
   },
   {
    "duration": 191,
    "start_time": "2021-12-29T13:16:29.681Z"
   },
   {
    "duration": 57,
    "start_time": "2021-12-29T13:16:29.875Z"
   },
   {
    "duration": 96,
    "start_time": "2021-12-29T13:16:29.936Z"
   },
   {
    "duration": 4308,
    "start_time": "2021-12-29T13:16:30.035Z"
   },
   {
    "duration": 230,
    "start_time": "2021-12-29T13:16:34.362Z"
   },
   {
    "duration": 4839,
    "start_time": "2021-12-29T13:16:34.594Z"
   },
   {
    "duration": 165,
    "start_time": "2021-12-29T13:16:39.440Z"
   },
   {
    "duration": 5721,
    "start_time": "2021-12-29T13:16:39.611Z"
   },
   {
    "duration": 133,
    "start_time": "2021-12-29T13:16:45.335Z"
   },
   {
    "duration": 5107,
    "start_time": "2021-12-29T13:16:45.471Z"
   },
   {
    "duration": 208,
    "start_time": "2021-12-29T13:16:50.581Z"
   },
   {
    "duration": 220,
    "start_time": "2021-12-29T13:16:50.792Z"
   },
   {
    "duration": 76,
    "start_time": "2021-12-29T13:16:51.015Z"
   },
   {
    "duration": 86,
    "start_time": "2021-12-29T13:16:51.094Z"
   },
   {
    "duration": 17,
    "start_time": "2021-12-29T13:16:51.183Z"
   },
   {
    "duration": 162,
    "start_time": "2021-12-29T13:16:51.202Z"
   },
   {
    "duration": 1067,
    "start_time": "2021-12-29T13:16:51.367Z"
   },
   {
    "duration": 127,
    "start_time": "2021-12-29T13:16:52.437Z"
   },
   {
    "duration": 1048,
    "start_time": "2021-12-29T13:16:52.569Z"
   },
   {
    "duration": 4,
    "start_time": "2021-12-29T13:16:53.620Z"
   },
   {
    "duration": 6,
    "start_time": "2021-12-29T13:16:53.627Z"
   },
   {
    "duration": 159853,
    "start_time": "2021-12-29T13:16:53.636Z"
   },
   {
    "duration": 30105,
    "start_time": "2021-12-29T13:19:33.565Z"
   },
   {
    "duration": 4164696,
    "start_time": "2021-12-29T13:20:03.674Z"
   },
   {
    "duration": 5,
    "start_time": "2021-12-29T14:29:28.372Z"
   },
   {
    "duration": 7,
    "start_time": "2021-12-29T14:29:28.380Z"
   },
   {
    "duration": 267880,
    "start_time": "2021-12-29T14:29:28.390Z"
   },
   {
    "duration": 525881,
    "start_time": "2021-12-29T14:33:56.272Z"
   },
   {
    "duration": 6,
    "start_time": "2021-12-29T14:42:42.163Z"
   },
   {
    "duration": 5,
    "start_time": "2021-12-29T14:42:42.172Z"
   },
   {
    "duration": 4786,
    "start_time": "2021-12-29T14:42:42.180Z"
   },
   {
    "duration": 1216935,
    "start_time": "2021-12-29T14:42:46.969Z"
   },
   {
    "duration": 5,
    "start_time": "2021-12-29T15:03:03.907Z"
   },
   {
    "duration": 9,
    "start_time": "2021-12-29T15:03:03.915Z"
   },
   {
    "duration": 36257,
    "start_time": "2021-12-29T15:03:03.926Z"
   },
   {
    "duration": 13,
    "start_time": "2021-12-29T15:03:40.186Z"
   },
   {
    "duration": 16,
    "start_time": "2021-12-29T15:03:40.202Z"
   },
   {
    "duration": 27050,
    "start_time": "2021-12-29T15:03:40.222Z"
   },
   {
    "duration": 293,
    "start_time": "2021-12-29T15:04:07.275Z"
   },
   {
    "duration": 92,
    "start_time": "2021-12-29T15:04:07.572Z"
   },
   {
    "duration": 235797,
    "start_time": "2021-12-29T15:04:07.667Z"
   },
   {
    "duration": 1109,
    "start_time": "2021-12-29T15:08:03.467Z"
   },
   {
    "duration": 7,
    "start_time": "2021-12-29T15:08:04.580Z"
   },
   {
    "duration": 4713,
    "start_time": "2021-12-29T15:08:04.590Z"
   },
   {
    "duration": 166,
    "start_time": "2021-12-29T15:08:09.306Z"
   },
   {
    "duration": 7,
    "start_time": "2021-12-29T15:08:09.475Z"
   },
   {
    "duration": 38895,
    "start_time": "2021-12-29T15:08:09.485Z"
   },
   {
    "duration": 233,
    "start_time": "2021-12-29T15:08:48.383Z"
   },
   {
    "duration": 6,
    "start_time": "2021-12-29T15:08:48.618Z"
   },
   {
    "duration": 37,
    "start_time": "2021-12-29T15:08:48.626Z"
   },
   {
    "duration": 13,
    "start_time": "2021-12-29T15:08:48.666Z"
   },
   {
    "duration": 16,
    "start_time": "2021-12-29T15:08:48.687Z"
   },
   {
    "duration": 15,
    "start_time": "2021-12-29T15:20:07.561Z"
   },
   {
    "duration": 12,
    "start_time": "2021-12-29T15:23:40.002Z"
   },
   {
    "duration": 17,
    "start_time": "2021-12-29T15:25:13.764Z"
   },
   {
    "duration": 134,
    "start_time": "2021-12-29T16:34:01.721Z"
   },
   {
    "duration": 8022,
    "start_time": "2021-12-29T16:39:45.962Z"
   },
   {
    "duration": 102,
    "start_time": "2021-12-29T16:57:13.486Z"
   },
   {
    "duration": 3714,
    "start_time": "2022-03-24T21:36:26.085Z"
   },
   {
    "duration": 3177,
    "start_time": "2022-03-24T21:36:29.803Z"
   },
   {
    "duration": 187,
    "start_time": "2022-03-24T21:36:32.982Z"
   },
   {
    "duration": 278,
    "start_time": "2022-03-24T21:36:33.173Z"
   },
   {
    "duration": 176,
    "start_time": "2022-03-24T21:36:33.453Z"
   },
   {
    "duration": 9,
    "start_time": "2022-03-24T21:36:33.631Z"
   },
   {
    "duration": 3225,
    "start_time": "2022-03-24T21:36:33.642Z"
   },
   {
    "duration": 192,
    "start_time": "2022-03-24T21:36:36.870Z"
   },
   {
    "duration": 3301,
    "start_time": "2022-03-24T21:36:37.069Z"
   },
   {
    "duration": 153,
    "start_time": "2022-03-24T21:36:40.374Z"
   },
   {
    "duration": 3397,
    "start_time": "2022-03-24T21:36:40.530Z"
   },
   {
    "duration": 409,
    "start_time": "2022-03-24T21:36:43.929Z"
   },
   {
    "duration": 140,
    "start_time": "2022-03-24T21:36:44.340Z"
   },
   {
    "duration": 2672,
    "start_time": "2022-03-24T21:36:44.482Z"
   },
   {
    "duration": 42,
    "start_time": "2022-03-24T21:36:47.168Z"
   },
   {
    "duration": 63,
    "start_time": "2022-03-24T21:36:47.212Z"
   },
   {
    "duration": 28,
    "start_time": "2022-03-24T21:36:47.278Z"
   },
   {
    "duration": 85,
    "start_time": "2022-03-24T21:36:47.308Z"
   },
   {
    "duration": 51,
    "start_time": "2022-03-24T21:36:47.395Z"
   },
   {
    "duration": 3103,
    "start_time": "2022-03-24T21:36:47.448Z"
   },
   {
    "duration": 306,
    "start_time": "2022-03-24T21:36:50.567Z"
   },
   {
    "duration": 2924,
    "start_time": "2022-03-24T21:36:50.876Z"
   },
   {
    "duration": 158,
    "start_time": "2022-03-24T21:36:53.803Z"
   },
   {
    "duration": 2679,
    "start_time": "2022-03-24T21:36:53.968Z"
   },
   {
    "duration": 70,
    "start_time": "2022-03-24T21:36:56.649Z"
   },
   {
    "duration": 2847,
    "start_time": "2022-03-24T21:36:56.721Z"
   },
   {
    "duration": 139,
    "start_time": "2022-03-24T21:36:59.571Z"
   },
   {
    "duration": 173,
    "start_time": "2022-03-24T21:36:59.714Z"
   },
   {
    "duration": 80,
    "start_time": "2022-03-24T21:36:59.889Z"
   },
   {
    "duration": 62,
    "start_time": "2022-03-24T21:36:59.971Z"
   },
   {
    "duration": 43,
    "start_time": "2022-03-24T21:37:00.035Z"
   },
   {
    "duration": 134,
    "start_time": "2022-03-24T21:37:00.080Z"
   },
   {
    "duration": 961,
    "start_time": "2022-03-24T21:37:00.216Z"
   },
   {
    "duration": 190,
    "start_time": "2022-03-24T21:37:01.180Z"
   },
   {
    "duration": 371,
    "start_time": "2022-03-24T21:37:01.374Z"
   },
   {
    "duration": 4,
    "start_time": "2022-03-24T21:37:34.404Z"
   },
   {
    "duration": 245,
    "start_time": "2022-03-24T21:37:36.884Z"
   },
   {
    "duration": 3419,
    "start_time": "2022-03-24T21:37:54.211Z"
   },
   {
    "duration": 3273,
    "start_time": "2022-03-24T21:37:57.634Z"
   },
   {
    "duration": 179,
    "start_time": "2022-03-24T21:38:00.909Z"
   },
   {
    "duration": 276,
    "start_time": "2022-03-24T21:38:01.091Z"
   },
   {
    "duration": 181,
    "start_time": "2022-03-24T21:38:01.369Z"
   },
   {
    "duration": 16,
    "start_time": "2022-03-24T21:38:01.553Z"
   },
   {
    "duration": 4638,
    "start_time": "2022-03-24T21:38:01.572Z"
   },
   {
    "duration": 426,
    "start_time": "2022-03-24T21:38:06.268Z"
   },
   {
    "duration": 3394,
    "start_time": "2022-03-24T21:38:06.696Z"
   },
   {
    "duration": 156,
    "start_time": "2022-03-24T21:38:10.094Z"
   },
   {
    "duration": 3183,
    "start_time": "2022-03-24T21:38:10.252Z"
   },
   {
    "duration": 391,
    "start_time": "2022-03-24T21:38:13.437Z"
   },
   {
    "duration": 150,
    "start_time": "2022-03-24T21:38:13.830Z"
   },
   {
    "duration": 2895,
    "start_time": "2022-03-24T21:38:13.982Z"
   },
   {
    "duration": 40,
    "start_time": "2022-03-24T21:38:16.880Z"
   },
   {
    "duration": 68,
    "start_time": "2022-03-24T21:38:16.922Z"
   },
   {
    "duration": 29,
    "start_time": "2022-03-24T21:38:16.992Z"
   },
   {
    "duration": 78,
    "start_time": "2022-03-24T21:38:17.024Z"
   },
   {
    "duration": 64,
    "start_time": "2022-03-24T21:38:17.104Z"
   },
   {
    "duration": 2680,
    "start_time": "2022-03-24T21:38:17.171Z"
   },
   {
    "duration": 229,
    "start_time": "2022-03-24T21:38:19.853Z"
   },
   {
    "duration": 2946,
    "start_time": "2022-03-24T21:38:20.084Z"
   },
   {
    "duration": 162,
    "start_time": "2022-03-24T21:38:23.032Z"
   },
   {
    "duration": 2628,
    "start_time": "2022-03-24T21:38:23.196Z"
   },
   {
    "duration": 78,
    "start_time": "2022-03-24T21:38:25.826Z"
   },
   {
    "duration": 3017,
    "start_time": "2022-03-24T21:38:25.907Z"
   },
   {
    "duration": 143,
    "start_time": "2022-03-24T21:38:28.926Z"
   },
   {
    "duration": 160,
    "start_time": "2022-03-24T21:38:29.074Z"
   },
   {
    "duration": 56,
    "start_time": "2022-03-24T21:38:29.236Z"
   },
   {
    "duration": 79,
    "start_time": "2022-03-24T21:38:29.294Z"
   },
   {
    "duration": 19,
    "start_time": "2022-03-24T21:38:29.375Z"
   },
   {
    "duration": 144,
    "start_time": "2022-03-24T21:38:29.397Z"
   },
   {
    "duration": 783,
    "start_time": "2022-03-24T21:38:29.543Z"
   },
   {
    "duration": 188,
    "start_time": "2022-03-24T21:38:30.329Z"
   },
   {
    "duration": 364,
    "start_time": "2022-03-24T21:38:30.519Z"
   },
   {
    "duration": 5,
    "start_time": "2022-03-24T21:38:43.731Z"
   },
   {
    "duration": 3,
    "start_time": "2022-03-24T21:38:45.667Z"
   },
   {
    "duration": 134476,
    "start_time": "2022-03-24T21:38:47.499Z"
   },
   {
    "duration": 25261,
    "start_time": "2022-03-24T21:41:35.417Z"
   },
   {
    "duration": 245347,
    "start_time": "2022-03-24T21:42:46.231Z"
   },
   {
    "duration": 5,
    "start_time": "2022-03-24T21:47:15.867Z"
   },
   {
    "duration": 5,
    "start_time": "2022-03-24T21:47:18.130Z"
   },
   {
    "duration": 8244,
    "start_time": "2022-03-24T21:47:20.626Z"
   },
   {
    "duration": 825715,
    "start_time": "2022-03-24T21:47:52.291Z"
   },
   {
    "duration": 4,
    "start_time": "2022-03-24T22:02:18.011Z"
   },
   {
    "duration": 6,
    "start_time": "2022-03-24T22:02:21.764Z"
   },
   {
    "duration": 6755,
    "start_time": "2022-03-24T22:02:26.020Z"
   },
   {
    "duration": 2033572,
    "start_time": "2022-03-24T22:02:49.756Z"
   },
   {
    "duration": 5,
    "start_time": "2022-03-25T07:24:10.776Z"
   },
   {
    "duration": 4,
    "start_time": "2022-03-25T07:24:14.522Z"
   },
   {
    "duration": 32918,
    "start_time": "2022-03-25T07:24:17.819Z"
   },
   {
    "duration": 13,
    "start_time": "2022-03-25T07:31:27.643Z"
   },
   {
    "duration": 15,
    "start_time": "2022-03-25T07:37:52.682Z"
   },
   {
    "duration": 22443,
    "start_time": "2022-03-25T07:40:01.930Z"
   },
   {
    "duration": 256,
    "start_time": "2022-03-25T07:40:27.818Z"
   },
   {
    "duration": 7,
    "start_time": "2022-03-25T07:41:16.394Z"
   },
   {
    "duration": 13694,
    "start_time": "2022-03-25T07:41:23.985Z"
   },
   {
    "duration": 941,
    "start_time": "2022-03-25T07:41:41.937Z"
   },
   {
    "duration": 7,
    "start_time": "2022-03-25T07:41:47.920Z"
   },
   {
    "duration": 3450,
    "start_time": "2022-03-25T07:41:52.457Z"
   },
   {
    "duration": 150,
    "start_time": "2022-03-25T07:41:58.536Z"
   },
   {
    "duration": 6,
    "start_time": "2022-03-25T07:42:01.072Z"
   },
   {
    "duration": 32389,
    "start_time": "2022-03-25T07:42:04.345Z"
   },
   {
    "duration": 220,
    "start_time": "2022-03-25T07:42:39.552Z"
   },
   {
    "duration": 8,
    "start_time": "2022-03-25T07:42:42.015Z"
   },
   {
    "duration": 14,
    "start_time": "2022-03-25T07:42:48.823Z"
   },
   {
    "duration": 17,
    "start_time": "2022-03-25T07:43:58.191Z"
   },
   {
    "duration": 17,
    "start_time": "2022-03-25T07:46:22.333Z"
   }
  ],
  "kernelspec": {
   "display_name": "Python 3 (ipykernel)",
   "language": "python",
   "name": "python3"
  },
  "language_info": {
   "codemirror_mode": {
    "name": "ipython",
    "version": 3
   },
   "file_extension": ".py",
   "mimetype": "text/x-python",
   "name": "python",
   "nbconvert_exporter": "python",
   "pygments_lexer": "ipython3",
   "version": "3.10.1"
  },
  "toc": {
   "base_numbering": 1,
   "nav_menu": {},
   "number_sections": true,
   "sideBar": true,
   "skip_h1_title": true,
   "title_cell": "Table of Contents",
   "title_sidebar": "Contents",
   "toc_cell": false,
   "toc_position": {
    "height": "calc(100% - 180px)",
    "left": "10px",
    "top": "150px",
    "width": "328.391px"
   },
   "toc_section_display": true,
   "toc_window_display": true
  }
 },
 "nbformat": 4,
 "nbformat_minor": 2
}
