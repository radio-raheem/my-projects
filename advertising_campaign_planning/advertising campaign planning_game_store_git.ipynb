{
 "cells": [
  {
   "cell_type": "markdown",
   "metadata": {},
   "source": [
    "# Планирование рекламной компании интернет-магазина игр"
   ]
  },
  {
   "cell_type": "markdown",
   "metadata": {},
   "source": [
    "Интернет-магазин продаёт по всему миру компьютерные игры. Из открытых источников доступны исторические данные о продажах игр, оценки пользователей и экспертов, жанры и платформы (например, Xbox или PlayStation).  \n",
    "Наша задача — выявить определяющие успешность игры закономерности. Это позволит сделать ставку на потенциально популярный продукт и спланировать рекламные кампании.\n",
    "У нас есть данные до 2016 года. Нужно определить принцип работы с данными."
   ]
  },
  {
   "cell_type": "markdown",
   "metadata": {},
   "source": [
    "Основными этапами нашего проекта станут:  \n",
    "* Изучение предоставленных данных\n",
    "* Предобработка данных. Расчеты и добавление необходимых для анализа результатов\n",
    "* Анализ данных\n",
    "* Составление информационного портрета пользователя каждого региона\n",
    "* Проверка гипотез\n",
    "* Формулирование общего вывода\n",
    "\n",
    "Проект выполнен в **Jupyter Notebook**, версия сервера блокнотов: 6.1.4. Версия **Python** 3.7.8.  \n",
    "В проекте использованы библиотеки:  \n",
    "* **Pandas**\n",
    "* **MatPlotLib** \n",
    "* **NumPy**\n",
    "* **Math**\n",
    "* **SciPy** \n",
    "* **IPython**"
   ]
  },
  {
   "cell_type": "markdown",
   "metadata": {},
   "source": [
    "## Изучение предоставленных данных"
   ]
  },
  {
   "cell_type": "code",
   "execution_count": 1,
   "metadata": {},
   "outputs": [
    {
     "name": "stdout",
     "output_type": "stream",
     "text": [
      "<class 'pandas.core.frame.DataFrame'>\n",
      "RangeIndex: 16715 entries, 0 to 16714\n",
      "Data columns (total 11 columns):\n",
      " #   Column           Non-Null Count  Dtype  \n",
      "---  ------           --------------  -----  \n",
      " 0   Name             16713 non-null  object \n",
      " 1   Platform         16715 non-null  object \n",
      " 2   Year_of_Release  16446 non-null  float64\n",
      " 3   Genre            16713 non-null  object \n",
      " 4   NA_sales         16715 non-null  float64\n",
      " 5   EU_sales         16715 non-null  float64\n",
      " 6   JP_sales         16715 non-null  float64\n",
      " 7   Other_sales      16715 non-null  float64\n",
      " 8   Critic_Score     8137 non-null   float64\n",
      " 9   User_Score       10014 non-null  object \n",
      " 10  Rating           9949 non-null   object \n",
      "dtypes: float64(6), object(5)\n",
      "memory usage: 1.4+ MB\n"
     ]
    },
    {
     "data": {
      "text/html": [
       "<div>\n",
       "<style scoped>\n",
       "    .dataframe tbody tr th:only-of-type {\n",
       "        vertical-align: middle;\n",
       "    }\n",
       "\n",
       "    .dataframe tbody tr th {\n",
       "        vertical-align: top;\n",
       "    }\n",
       "\n",
       "    .dataframe thead th {\n",
       "        text-align: right;\n",
       "    }\n",
       "</style>\n",
       "<table border=\"1\" class=\"dataframe\">\n",
       "  <thead>\n",
       "    <tr style=\"text-align: right;\">\n",
       "      <th></th>\n",
       "      <th>Name</th>\n",
       "      <th>Platform</th>\n",
       "      <th>Year_of_Release</th>\n",
       "      <th>Genre</th>\n",
       "      <th>NA_sales</th>\n",
       "      <th>EU_sales</th>\n",
       "      <th>JP_sales</th>\n",
       "      <th>Other_sales</th>\n",
       "      <th>Critic_Score</th>\n",
       "      <th>User_Score</th>\n",
       "      <th>Rating</th>\n",
       "    </tr>\n",
       "  </thead>\n",
       "  <tbody>\n",
       "    <tr>\n",
       "      <th>0</th>\n",
       "      <td>Wii Sports</td>\n",
       "      <td>Wii</td>\n",
       "      <td>2006.0</td>\n",
       "      <td>Sports</td>\n",
       "      <td>41.36</td>\n",
       "      <td>28.96</td>\n",
       "      <td>3.77</td>\n",
       "      <td>8.45</td>\n",
       "      <td>76.0</td>\n",
       "      <td>8</td>\n",
       "      <td>E</td>\n",
       "    </tr>\n",
       "    <tr>\n",
       "      <th>1</th>\n",
       "      <td>Super Mario Bros.</td>\n",
       "      <td>NES</td>\n",
       "      <td>1985.0</td>\n",
       "      <td>Platform</td>\n",
       "      <td>29.08</td>\n",
       "      <td>3.58</td>\n",
       "      <td>6.81</td>\n",
       "      <td>0.77</td>\n",
       "      <td>NaN</td>\n",
       "      <td>NaN</td>\n",
       "      <td>NaN</td>\n",
       "    </tr>\n",
       "    <tr>\n",
       "      <th>2</th>\n",
       "      <td>Mario Kart Wii</td>\n",
       "      <td>Wii</td>\n",
       "      <td>2008.0</td>\n",
       "      <td>Racing</td>\n",
       "      <td>15.68</td>\n",
       "      <td>12.76</td>\n",
       "      <td>3.79</td>\n",
       "      <td>3.29</td>\n",
       "      <td>82.0</td>\n",
       "      <td>8.3</td>\n",
       "      <td>E</td>\n",
       "    </tr>\n",
       "    <tr>\n",
       "      <th>3</th>\n",
       "      <td>Wii Sports Resort</td>\n",
       "      <td>Wii</td>\n",
       "      <td>2009.0</td>\n",
       "      <td>Sports</td>\n",
       "      <td>15.61</td>\n",
       "      <td>10.93</td>\n",
       "      <td>3.28</td>\n",
       "      <td>2.95</td>\n",
       "      <td>80.0</td>\n",
       "      <td>8</td>\n",
       "      <td>E</td>\n",
       "    </tr>\n",
       "    <tr>\n",
       "      <th>4</th>\n",
       "      <td>Pokemon Red/Pokemon Blue</td>\n",
       "      <td>GB</td>\n",
       "      <td>1996.0</td>\n",
       "      <td>Role-Playing</td>\n",
       "      <td>11.27</td>\n",
       "      <td>8.89</td>\n",
       "      <td>10.22</td>\n",
       "      <td>1.00</td>\n",
       "      <td>NaN</td>\n",
       "      <td>NaN</td>\n",
       "      <td>NaN</td>\n",
       "    </tr>\n",
       "    <tr>\n",
       "      <th>...</th>\n",
       "      <td>...</td>\n",
       "      <td>...</td>\n",
       "      <td>...</td>\n",
       "      <td>...</td>\n",
       "      <td>...</td>\n",
       "      <td>...</td>\n",
       "      <td>...</td>\n",
       "      <td>...</td>\n",
       "      <td>...</td>\n",
       "      <td>...</td>\n",
       "      <td>...</td>\n",
       "    </tr>\n",
       "    <tr>\n",
       "      <th>16710</th>\n",
       "      <td>Samurai Warriors: Sanada Maru</td>\n",
       "      <td>PS3</td>\n",
       "      <td>2016.0</td>\n",
       "      <td>Action</td>\n",
       "      <td>0.00</td>\n",
       "      <td>0.00</td>\n",
       "      <td>0.01</td>\n",
       "      <td>0.00</td>\n",
       "      <td>NaN</td>\n",
       "      <td>NaN</td>\n",
       "      <td>NaN</td>\n",
       "    </tr>\n",
       "    <tr>\n",
       "      <th>16711</th>\n",
       "      <td>LMA Manager 2007</td>\n",
       "      <td>X360</td>\n",
       "      <td>2006.0</td>\n",
       "      <td>Sports</td>\n",
       "      <td>0.00</td>\n",
       "      <td>0.01</td>\n",
       "      <td>0.00</td>\n",
       "      <td>0.00</td>\n",
       "      <td>NaN</td>\n",
       "      <td>NaN</td>\n",
       "      <td>NaN</td>\n",
       "    </tr>\n",
       "    <tr>\n",
       "      <th>16712</th>\n",
       "      <td>Haitaka no Psychedelica</td>\n",
       "      <td>PSV</td>\n",
       "      <td>2016.0</td>\n",
       "      <td>Adventure</td>\n",
       "      <td>0.00</td>\n",
       "      <td>0.00</td>\n",
       "      <td>0.01</td>\n",
       "      <td>0.00</td>\n",
       "      <td>NaN</td>\n",
       "      <td>NaN</td>\n",
       "      <td>NaN</td>\n",
       "    </tr>\n",
       "    <tr>\n",
       "      <th>16713</th>\n",
       "      <td>Spirits &amp; Spells</td>\n",
       "      <td>GBA</td>\n",
       "      <td>2003.0</td>\n",
       "      <td>Platform</td>\n",
       "      <td>0.01</td>\n",
       "      <td>0.00</td>\n",
       "      <td>0.00</td>\n",
       "      <td>0.00</td>\n",
       "      <td>NaN</td>\n",
       "      <td>NaN</td>\n",
       "      <td>NaN</td>\n",
       "    </tr>\n",
       "    <tr>\n",
       "      <th>16714</th>\n",
       "      <td>Winning Post 8 2016</td>\n",
       "      <td>PSV</td>\n",
       "      <td>2016.0</td>\n",
       "      <td>Simulation</td>\n",
       "      <td>0.00</td>\n",
       "      <td>0.00</td>\n",
       "      <td>0.01</td>\n",
       "      <td>0.00</td>\n",
       "      <td>NaN</td>\n",
       "      <td>NaN</td>\n",
       "      <td>NaN</td>\n",
       "    </tr>\n",
       "  </tbody>\n",
       "</table>\n",
       "<p>16715 rows × 11 columns</p>\n",
       "</div>"
      ],
      "text/plain": [
       "                                Name Platform  Year_of_Release         Genre  \\\n",
       "0                         Wii Sports      Wii           2006.0        Sports   \n",
       "1                  Super Mario Bros.      NES           1985.0      Platform   \n",
       "2                     Mario Kart Wii      Wii           2008.0        Racing   \n",
       "3                  Wii Sports Resort      Wii           2009.0        Sports   \n",
       "4           Pokemon Red/Pokemon Blue       GB           1996.0  Role-Playing   \n",
       "...                              ...      ...              ...           ...   \n",
       "16710  Samurai Warriors: Sanada Maru      PS3           2016.0        Action   \n",
       "16711               LMA Manager 2007     X360           2006.0        Sports   \n",
       "16712        Haitaka no Psychedelica      PSV           2016.0     Adventure   \n",
       "16713               Spirits & Spells      GBA           2003.0      Platform   \n",
       "16714            Winning Post 8 2016      PSV           2016.0    Simulation   \n",
       "\n",
       "       NA_sales  EU_sales  JP_sales  Other_sales  Critic_Score User_Score  \\\n",
       "0         41.36     28.96      3.77         8.45          76.0          8   \n",
       "1         29.08      3.58      6.81         0.77           NaN        NaN   \n",
       "2         15.68     12.76      3.79         3.29          82.0        8.3   \n",
       "3         15.61     10.93      3.28         2.95          80.0          8   \n",
       "4         11.27      8.89     10.22         1.00           NaN        NaN   \n",
       "...         ...       ...       ...          ...           ...        ...   \n",
       "16710      0.00      0.00      0.01         0.00           NaN        NaN   \n",
       "16711      0.00      0.01      0.00         0.00           NaN        NaN   \n",
       "16712      0.00      0.00      0.01         0.00           NaN        NaN   \n",
       "16713      0.01      0.00      0.00         0.00           NaN        NaN   \n",
       "16714      0.00      0.00      0.01         0.00           NaN        NaN   \n",
       "\n",
       "      Rating  \n",
       "0          E  \n",
       "1        NaN  \n",
       "2          E  \n",
       "3          E  \n",
       "4        NaN  \n",
       "...      ...  \n",
       "16710    NaN  \n",
       "16711    NaN  \n",
       "16712    NaN  \n",
       "16713    NaN  \n",
       "16714    NaN  \n",
       "\n",
       "[16715 rows x 11 columns]"
      ]
     },
     "metadata": {},
     "output_type": "display_data"
    }
   ],
   "source": [
    "# Импортируем библиотеки и модули, которые \n",
    "# пригодятся нам для выполнения проекта.\n",
    "import math as mt\n",
    "from math import factorial\n",
    "\n",
    "import pandas as pd\n",
    "from IPython.display import display\n",
    "from matplotlib import pyplot as plt\n",
    "import numpy as np\n",
    "from scipy.stats import norm\n",
    "from scipy import stats as st\n",
    "# Прочитаем файл.\n",
    "data = pd.read_csv('/datasets/games.csv')\n",
    "data.info()\n",
    "display(data)"
   ]
  },
  {
   "cell_type": "markdown",
   "metadata": {},
   "source": [
    "### Вывод"
   ]
  },
  {
   "cell_type": "markdown",
   "metadata": {},
   "source": [
    "Перед нами таблица с данными о продажах игр, оценках пользователей и экспертов, жанрах и платформах. Представлены данные по 2016 год включительно.  \n",
    "Таблица имеет 11 столбцов и 16715 строк.  \n",
    "В 6 столбцах хранится вещественный тип данных `float64`:  \n",
    "* _Year_of_Release (год выпуска игры)_\n",
    "* _NA_sales (продажи в Северной Америке), млн копий_\n",
    "* _EU_sales (продажи в Европе), млн копий_\n",
    "* _JP_sales (продажи в Японии), млн копий_\n",
    "* _Other_sales (продажи в других странах), млн копий_\n",
    "* _Critic_Score (оценка критиков), максимум 100_  \n",
    "  \n",
    "В 5 столбцах &mdash; текстовый или смешанный тип данных `object`:  \n",
    "* _Name (название игры)_\n",
    "* _Platform (название игровой платформы)_\n",
    "* _Genre (название жанра игры)_\n",
    "* _User_Score (оценка пользователей), максимум 10_\n",
    "* _Rating (рейтинг от организации ESRB)_  \n",
    "  \n",
    "**Сформулируем идеи для предобработки данных и расчетов дополнительных данных:**  \n",
    "  \n",
    "* Необходимо заменить названия столбцов, приведя их к нижнему регистру. Хранить названия столбцов с прописными буквами в данном случае однозначно неудобно и нецелесообразно.\n",
    "* Проверим всю таблицу на наличие полных дубликатов, затем проверим отдельно столбец _Name_\n",
    "* Изучим таблицу на предмет пропусков и примем решение, обрабатывать ли их, и если да, то как. Пропуски зафиксированы в столбцах _Name_, _Year_of_Release_, _Genre_, _Critic_Score_, _User_Score_, _Rating_.\n",
    "* Если удастся обработать пропуски, преобразуем тип данных в столбце _Year_of_Release_ (нет смысла хранить дату в формате `float`). Проведем исследование столбца _Critic_Score_: возможно оценка критиков не имеет долей и не нуждается в формате float (поменяем формат, если удастся избавиться от `NaN`-значений). Необходимо изучить `tbd`-значения в столбце _User_Score_ и принять решение по их обработке. После обработки рассмотреть возможность перевода типа данных столбца _User_Score_ из object в `float`.\n",
    "* Очевидно, что необходимо посчитать суммарные продажи каждой игры во всех регионах. Посчитаем и добавим в новый столбец.\n",
    "\n"
   ]
  },
  {
   "cell_type": "markdown",
   "metadata": {},
   "source": [
    "## Предобработка данных. Расчеты и добавление необходимых для анализа результатов"
   ]
  },
  {
   "cell_type": "code",
   "execution_count": 2,
   "metadata": {
    "scrolled": false
   },
   "outputs": [],
   "source": [
    "# Приведем названия столбцов к нижнему регистру.\n",
    "data.columns = data.columns.str.lower()"
   ]
  },
  {
   "cell_type": "code",
   "execution_count": 3,
   "metadata": {},
   "outputs": [
    {
     "name": "stdout",
     "output_type": "stream",
     "text": [
      "Количество полных дубликатов: 0\n"
     ]
    },
    {
     "data": {
      "text/plain": [
       "Need for Speed: Most Wanted    12\n",
       "Madden NFL 07                   9\n",
       "FIFA 14                         9\n",
       "LEGO Marvel Super Heroes        9\n",
       "Ratatouille                     9\n",
       "                               ..\n",
       "Battle Fantasia                 1\n",
       "Gallop Racer (JP)               1\n",
       "Black Cat                       1\n",
       "U-Sing: Girls Night             1\n",
       "Imagine: Teacher                1\n",
       "Name: name, Length: 11559, dtype: int64"
      ]
     },
     "execution_count": 3,
     "metadata": {},
     "output_type": "execute_result"
    }
   ],
   "source": [
    "# Проверим таблицу на наличие полных дубликатов.\n",
    "print('Количество полных дубликатов:', data.duplicated().sum())\n",
    "# Проверим столбец name на наличие дубликатов.\n",
    "data['name'].value_counts()"
   ]
  },
  {
   "cell_type": "markdown",
   "metadata": {},
   "source": [
    "Встречаются строки с одинаковыми значениями в столбце *name*, но при детальном рассмотрении cтановится ясно, что эти строки отражают одну и ту же игру на разных платформах или её переиздание. Обрабатывать такие дубликаты не нужно.\n"
   ]
  },
  {
   "cell_type": "code",
   "execution_count": 4,
   "metadata": {},
   "outputs": [
    {
     "data": {
      "text/html": [
       "<div>\n",
       "<style scoped>\n",
       "    .dataframe tbody tr th:only-of-type {\n",
       "        vertical-align: middle;\n",
       "    }\n",
       "\n",
       "    .dataframe tbody tr th {\n",
       "        vertical-align: top;\n",
       "    }\n",
       "\n",
       "    .dataframe thead th {\n",
       "        text-align: right;\n",
       "    }\n",
       "</style>\n",
       "<table border=\"1\" class=\"dataframe\">\n",
       "  <thead>\n",
       "    <tr style=\"text-align: right;\">\n",
       "      <th></th>\n",
       "      <th>name</th>\n",
       "      <th>platform</th>\n",
       "      <th>year_of_release</th>\n",
       "      <th>genre</th>\n",
       "      <th>na_sales</th>\n",
       "      <th>eu_sales</th>\n",
       "      <th>jp_sales</th>\n",
       "      <th>other_sales</th>\n",
       "      <th>critic_score</th>\n",
       "      <th>user_score</th>\n",
       "      <th>rating</th>\n",
       "    </tr>\n",
       "  </thead>\n",
       "  <tbody>\n",
       "    <tr>\n",
       "      <th>659</th>\n",
       "      <td>NaN</td>\n",
       "      <td>GEN</td>\n",
       "      <td>1993.0</td>\n",
       "      <td>NaN</td>\n",
       "      <td>1.78</td>\n",
       "      <td>0.53</td>\n",
       "      <td>0.00</td>\n",
       "      <td>0.08</td>\n",
       "      <td>NaN</td>\n",
       "      <td>NaN</td>\n",
       "      <td>NaN</td>\n",
       "    </tr>\n",
       "    <tr>\n",
       "      <th>14244</th>\n",
       "      <td>NaN</td>\n",
       "      <td>GEN</td>\n",
       "      <td>1993.0</td>\n",
       "      <td>NaN</td>\n",
       "      <td>0.00</td>\n",
       "      <td>0.00</td>\n",
       "      <td>0.03</td>\n",
       "      <td>0.00</td>\n",
       "      <td>NaN</td>\n",
       "      <td>NaN</td>\n",
       "      <td>NaN</td>\n",
       "    </tr>\n",
       "  </tbody>\n",
       "</table>\n",
       "</div>"
      ],
      "text/plain": [
       "      name platform  year_of_release genre  na_sales  eu_sales  jp_sales  \\\n",
       "659    NaN      GEN           1993.0   NaN      1.78      0.53      0.00   \n",
       "14244  NaN      GEN           1993.0   NaN      0.00      0.00      0.03   \n",
       "\n",
       "       other_sales  critic_score user_score rating  \n",
       "659           0.08           NaN        NaN    NaN  \n",
       "14244         0.00           NaN        NaN    NaN  "
      ]
     },
     "execution_count": 4,
     "metadata": {},
     "output_type": "execute_result"
    }
   ],
   "source": [
    "# Рассмотрим пропуски. Начнем со столбца name.\n",
    "data.loc[data['name'] != data['name']]"
   ]
  },
  {
   "cell_type": "markdown",
   "metadata": {},
   "source": [
    "В столбце *name* есть два пропуска. Эти строки можно было бы оставить (*name* не самый важный для анализа столбец). Но отсутствие данных в столбцах *genre*, *critic_score*, *user_score*, *rating* делает эти строки малоинформативными. Принимаем решение удалить их."
   ]
  },
  {
   "cell_type": "code",
   "execution_count": 5,
   "metadata": {},
   "outputs": [
    {
     "data": {
      "text/html": [
       "<div>\n",
       "<style scoped>\n",
       "    .dataframe tbody tr th:only-of-type {\n",
       "        vertical-align: middle;\n",
       "    }\n",
       "\n",
       "    .dataframe tbody tr th {\n",
       "        vertical-align: top;\n",
       "    }\n",
       "\n",
       "    .dataframe thead th {\n",
       "        text-align: right;\n",
       "    }\n",
       "</style>\n",
       "<table border=\"1\" class=\"dataframe\">\n",
       "  <thead>\n",
       "    <tr style=\"text-align: right;\">\n",
       "      <th></th>\n",
       "      <th>name</th>\n",
       "      <th>platform</th>\n",
       "      <th>year_of_release</th>\n",
       "      <th>genre</th>\n",
       "      <th>na_sales</th>\n",
       "      <th>eu_sales</th>\n",
       "      <th>jp_sales</th>\n",
       "      <th>other_sales</th>\n",
       "      <th>critic_score</th>\n",
       "      <th>user_score</th>\n",
       "      <th>rating</th>\n",
       "    </tr>\n",
       "  </thead>\n",
       "  <tbody>\n",
       "    <tr>\n",
       "      <th>119</th>\n",
       "      <td>Zumba Fitness</td>\n",
       "      <td>Wii</td>\n",
       "      <td>2010.0</td>\n",
       "      <td>Sports</td>\n",
       "      <td>3.45</td>\n",
       "      <td>2.59</td>\n",
       "      <td>0.0</td>\n",
       "      <td>0.66</td>\n",
       "      <td>NaN</td>\n",
       "      <td>tbd</td>\n",
       "      <td>E</td>\n",
       "    </tr>\n",
       "    <tr>\n",
       "      <th>301</th>\n",
       "      <td>Namco Museum: 50th Anniversary</td>\n",
       "      <td>PS2</td>\n",
       "      <td>2005.0</td>\n",
       "      <td>Misc</td>\n",
       "      <td>2.08</td>\n",
       "      <td>1.35</td>\n",
       "      <td>0.0</td>\n",
       "      <td>0.54</td>\n",
       "      <td>61.0</td>\n",
       "      <td>tbd</td>\n",
       "      <td>E10+</td>\n",
       "    </tr>\n",
       "    <tr>\n",
       "      <th>520</th>\n",
       "      <td>Zumba Fitness 2</td>\n",
       "      <td>Wii</td>\n",
       "      <td>2011.0</td>\n",
       "      <td>Sports</td>\n",
       "      <td>1.51</td>\n",
       "      <td>1.03</td>\n",
       "      <td>0.0</td>\n",
       "      <td>0.27</td>\n",
       "      <td>NaN</td>\n",
       "      <td>tbd</td>\n",
       "      <td>T</td>\n",
       "    </tr>\n",
       "    <tr>\n",
       "      <th>645</th>\n",
       "      <td>uDraw Studio</td>\n",
       "      <td>Wii</td>\n",
       "      <td>2010.0</td>\n",
       "      <td>Misc</td>\n",
       "      <td>1.65</td>\n",
       "      <td>0.57</td>\n",
       "      <td>0.0</td>\n",
       "      <td>0.20</td>\n",
       "      <td>71.0</td>\n",
       "      <td>tbd</td>\n",
       "      <td>E</td>\n",
       "    </tr>\n",
       "    <tr>\n",
       "      <th>657</th>\n",
       "      <td>Frogger's Adventures: Temple of the Frog</td>\n",
       "      <td>GBA</td>\n",
       "      <td>NaN</td>\n",
       "      <td>Adventure</td>\n",
       "      <td>2.15</td>\n",
       "      <td>0.18</td>\n",
       "      <td>0.0</td>\n",
       "      <td>0.07</td>\n",
       "      <td>73.0</td>\n",
       "      <td>tbd</td>\n",
       "      <td>E</td>\n",
       "    </tr>\n",
       "    <tr>\n",
       "      <th>...</th>\n",
       "      <td>...</td>\n",
       "      <td>...</td>\n",
       "      <td>...</td>\n",
       "      <td>...</td>\n",
       "      <td>...</td>\n",
       "      <td>...</td>\n",
       "      <td>...</td>\n",
       "      <td>...</td>\n",
       "      <td>...</td>\n",
       "      <td>...</td>\n",
       "      <td>...</td>\n",
       "    </tr>\n",
       "    <tr>\n",
       "      <th>16693</th>\n",
       "      <td>Planet Monsters</td>\n",
       "      <td>GBA</td>\n",
       "      <td>2001.0</td>\n",
       "      <td>Action</td>\n",
       "      <td>0.01</td>\n",
       "      <td>0.00</td>\n",
       "      <td>0.0</td>\n",
       "      <td>0.00</td>\n",
       "      <td>67.0</td>\n",
       "      <td>tbd</td>\n",
       "      <td>E</td>\n",
       "    </tr>\n",
       "    <tr>\n",
       "      <th>16695</th>\n",
       "      <td>Bust-A-Move 3000</td>\n",
       "      <td>GC</td>\n",
       "      <td>2003.0</td>\n",
       "      <td>Puzzle</td>\n",
       "      <td>0.01</td>\n",
       "      <td>0.00</td>\n",
       "      <td>0.0</td>\n",
       "      <td>0.00</td>\n",
       "      <td>53.0</td>\n",
       "      <td>tbd</td>\n",
       "      <td>E</td>\n",
       "    </tr>\n",
       "    <tr>\n",
       "      <th>16696</th>\n",
       "      <td>Mega Brain Boost</td>\n",
       "      <td>DS</td>\n",
       "      <td>2008.0</td>\n",
       "      <td>Puzzle</td>\n",
       "      <td>0.01</td>\n",
       "      <td>0.00</td>\n",
       "      <td>0.0</td>\n",
       "      <td>0.00</td>\n",
       "      <td>48.0</td>\n",
       "      <td>tbd</td>\n",
       "      <td>E</td>\n",
       "    </tr>\n",
       "    <tr>\n",
       "      <th>16702</th>\n",
       "      <td>Plushees</td>\n",
       "      <td>DS</td>\n",
       "      <td>2008.0</td>\n",
       "      <td>Simulation</td>\n",
       "      <td>0.01</td>\n",
       "      <td>0.00</td>\n",
       "      <td>0.0</td>\n",
       "      <td>0.00</td>\n",
       "      <td>NaN</td>\n",
       "      <td>tbd</td>\n",
       "      <td>E</td>\n",
       "    </tr>\n",
       "    <tr>\n",
       "      <th>16704</th>\n",
       "      <td>Men in Black II: Alien Escape</td>\n",
       "      <td>GC</td>\n",
       "      <td>2003.0</td>\n",
       "      <td>Shooter</td>\n",
       "      <td>0.01</td>\n",
       "      <td>0.00</td>\n",
       "      <td>0.0</td>\n",
       "      <td>0.00</td>\n",
       "      <td>NaN</td>\n",
       "      <td>tbd</td>\n",
       "      <td>T</td>\n",
       "    </tr>\n",
       "  </tbody>\n",
       "</table>\n",
       "<p>2424 rows × 11 columns</p>\n",
       "</div>"
      ],
      "text/plain": [
       "                                           name platform  year_of_release  \\\n",
       "119                               Zumba Fitness      Wii           2010.0   \n",
       "301              Namco Museum: 50th Anniversary      PS2           2005.0   \n",
       "520                             Zumba Fitness 2      Wii           2011.0   \n",
       "645                                uDraw Studio      Wii           2010.0   \n",
       "657    Frogger's Adventures: Temple of the Frog      GBA              NaN   \n",
       "...                                         ...      ...              ...   \n",
       "16693                           Planet Monsters      GBA           2001.0   \n",
       "16695                          Bust-A-Move 3000       GC           2003.0   \n",
       "16696                          Mega Brain Boost       DS           2008.0   \n",
       "16702                                  Plushees       DS           2008.0   \n",
       "16704             Men in Black II: Alien Escape       GC           2003.0   \n",
       "\n",
       "            genre  na_sales  eu_sales  jp_sales  other_sales  critic_score  \\\n",
       "119        Sports      3.45      2.59       0.0         0.66           NaN   \n",
       "301          Misc      2.08      1.35       0.0         0.54          61.0   \n",
       "520        Sports      1.51      1.03       0.0         0.27           NaN   \n",
       "645          Misc      1.65      0.57       0.0         0.20          71.0   \n",
       "657     Adventure      2.15      0.18       0.0         0.07          73.0   \n",
       "...           ...       ...       ...       ...          ...           ...   \n",
       "16693      Action      0.01      0.00       0.0         0.00          67.0   \n",
       "16695      Puzzle      0.01      0.00       0.0         0.00          53.0   \n",
       "16696      Puzzle      0.01      0.00       0.0         0.00          48.0   \n",
       "16702  Simulation      0.01      0.00       0.0         0.00           NaN   \n",
       "16704     Shooter      0.01      0.00       0.0         0.00           NaN   \n",
       "\n",
       "      user_score rating  \n",
       "119          tbd      E  \n",
       "301          tbd   E10+  \n",
       "520          tbd      T  \n",
       "645          tbd      E  \n",
       "657          tbd      E  \n",
       "...          ...    ...  \n",
       "16693        tbd      E  \n",
       "16695        tbd      E  \n",
       "16696        tbd      E  \n",
       "16702        tbd      E  \n",
       "16704        tbd      T  \n",
       "\n",
       "[2424 rows x 11 columns]"
      ]
     },
     "execution_count": 5,
     "metadata": {},
     "output_type": "execute_result"
    }
   ],
   "source": [
    "# Удалим пропуски в столбце name.\n",
    "data = data.dropna(subset=['name']).reset_index(drop=True)\n",
    "# Пропуски остаются только в столбцах year_of_release, \n",
    "# critic_score, user_score, rating.\n",
    "# Рассмотрим столбец year_of_release. Обрабатывать пропуски не будем.\n",
    "data.loc[data['year_of_release'] != data['year_of_release']]\n",
    "# Рассмотрим столбец critic_score. \n",
    "# Обрабатывать пропуски в этом столбце и, судя по всему\n",
    "# в столбце rating, не будем.\n",
    "data.loc[data['critic_score'] != data['critic_score']]\n",
    "# Рассмотрим столбец user_score.\n",
    "data.loc[data['user_score'] != data['user_score']]\n",
    "data.loc[data['user_score'] == 'tbd']"
   ]
  },
  {
   "cell_type": "markdown",
   "metadata": {},
   "source": [
    "Корректно заполнить `NaN`-значения не получится, удалять их нельзя. А вот tbd-значения заменим на `NaN`, чтобы была возможность проводить математические операции со столбцом. `tbd` - это to be determined/decided. По смыслу `tbd` - это в данном случае то же, что и `NaN`."
   ]
  },
  {
   "cell_type": "code",
   "execution_count": 6,
   "metadata": {},
   "outputs": [
    {
     "data": {
      "text/plain": [
       "na_sales       4400.57\n",
       "eu_sales       2424.14\n",
       "jp_sales       1297.34\n",
       "other_sales     791.24\n",
       "dtype: float64"
      ]
     },
     "metadata": {},
     "output_type": "display_data"
    }
   ],
   "source": [
    "# Приведем столбец user_score к вещественному типу, \n",
    "# попутно заменяя tbd-значения на NaN.\n",
    "data['user_score'] = pd.to_numeric(\n",
    "    data['user_score'], \n",
    "    errors='coerce'\n",
    ")\n",
    "# Посчитаем суммарные продажи каждой игры.\n",
    "data['sales_total'] = (\n",
    "    data['na_sales'] + \n",
    "    data['eu_sales'] + \n",
    "    data['jp_sales'] + \n",
    "    data['other_sales']\n",
    ")\n",
    "# Посчитаем суммарные продажи во всех регионах.\n",
    "regions = ['na_sales', 'eu_sales', 'jp_sales', 'other_sales']\n",
    "region_sales = []\n",
    "for region in regions:\n",
    "    region_sales.append(data[region].sum())\n",
    "total_sales_by_region = pd.Series(region_sales, index=regions)\n",
    "display(total_sales_by_region)"
   ]
  },
  {
   "cell_type": "code",
   "execution_count": 7,
   "metadata": {},
   "outputs": [
    {
     "data": {
      "text/html": [
       "<div>\n",
       "<style scoped>\n",
       "    .dataframe tbody tr th:only-of-type {\n",
       "        vertical-align: middle;\n",
       "    }\n",
       "\n",
       "    .dataframe tbody tr th {\n",
       "        vertical-align: top;\n",
       "    }\n",
       "\n",
       "    .dataframe thead th {\n",
       "        text-align: right;\n",
       "    }\n",
       "</style>\n",
       "<table border=\"1\" class=\"dataframe\">\n",
       "  <thead>\n",
       "    <tr style=\"text-align: right;\">\n",
       "      <th></th>\n",
       "      <th>name</th>\n",
       "      <th>platform</th>\n",
       "      <th>year_of_release</th>\n",
       "      <th>genre</th>\n",
       "      <th>na_sales</th>\n",
       "      <th>eu_sales</th>\n",
       "      <th>jp_sales</th>\n",
       "      <th>other_sales</th>\n",
       "      <th>critic_score</th>\n",
       "      <th>user_score</th>\n",
       "      <th>rating</th>\n",
       "      <th>sales_total</th>\n",
       "    </tr>\n",
       "  </thead>\n",
       "  <tbody>\n",
       "    <tr>\n",
       "      <th>15955</th>\n",
       "      <td>Strongest Tokyo University Shogi DS</td>\n",
       "      <td>DS</td>\n",
       "      <td>1985.0</td>\n",
       "      <td>Action</td>\n",
       "      <td>0.0</td>\n",
       "      <td>0.0</td>\n",
       "      <td>0.02</td>\n",
       "      <td>0.0</td>\n",
       "      <td>NaN</td>\n",
       "      <td>NaN</td>\n",
       "      <td>NaN</td>\n",
       "      <td>0.02</td>\n",
       "    </tr>\n",
       "  </tbody>\n",
       "</table>\n",
       "</div>"
      ],
      "text/plain": [
       "                                      name platform  year_of_release   genre  \\\n",
       "15955  Strongest Tokyo University Shogi DS       DS           1985.0  Action   \n",
       "\n",
       "       na_sales  eu_sales  jp_sales  other_sales  critic_score  user_score  \\\n",
       "15955       0.0       0.0      0.02          0.0           NaN         NaN   \n",
       "\n",
       "      rating  sales_total  \n",
       "15955    NaN         0.02  "
      ]
     },
     "metadata": {},
     "output_type": "display_data"
    },
    {
     "data": {
      "text/html": [
       "<div>\n",
       "<style scoped>\n",
       "    .dataframe tbody tr th:only-of-type {\n",
       "        vertical-align: middle;\n",
       "    }\n",
       "\n",
       "    .dataframe tbody tr th {\n",
       "        vertical-align: top;\n",
       "    }\n",
       "\n",
       "    .dataframe thead th {\n",
       "        text-align: right;\n",
       "    }\n",
       "</style>\n",
       "<table border=\"1\" class=\"dataframe\">\n",
       "  <thead>\n",
       "    <tr style=\"text-align: right;\">\n",
       "      <th></th>\n",
       "      <th>name</th>\n",
       "      <th>platform</th>\n",
       "      <th>year_of_release</th>\n",
       "      <th>genre</th>\n",
       "      <th>na_sales</th>\n",
       "      <th>eu_sales</th>\n",
       "      <th>jp_sales</th>\n",
       "      <th>other_sales</th>\n",
       "      <th>critic_score</th>\n",
       "      <th>user_score</th>\n",
       "      <th>rating</th>\n",
       "      <th>sales_total</th>\n",
       "    </tr>\n",
       "  </thead>\n",
       "  <tbody>\n",
       "    <tr>\n",
       "      <th>0</th>\n",
       "      <td>Wii Sports</td>\n",
       "      <td>Wii</td>\n",
       "      <td>2006</td>\n",
       "      <td>Sports</td>\n",
       "      <td>41.36</td>\n",
       "      <td>28.96</td>\n",
       "      <td>3.77</td>\n",
       "      <td>8.45</td>\n",
       "      <td>76.0</td>\n",
       "      <td>8.0</td>\n",
       "      <td>E</td>\n",
       "      <td>82.54</td>\n",
       "    </tr>\n",
       "    <tr>\n",
       "      <th>1</th>\n",
       "      <td>Super Mario Bros.</td>\n",
       "      <td>NES</td>\n",
       "      <td>1985</td>\n",
       "      <td>Platform</td>\n",
       "      <td>29.08</td>\n",
       "      <td>3.58</td>\n",
       "      <td>6.81</td>\n",
       "      <td>0.77</td>\n",
       "      <td>NaN</td>\n",
       "      <td>NaN</td>\n",
       "      <td>NaN</td>\n",
       "      <td>40.24</td>\n",
       "    </tr>\n",
       "    <tr>\n",
       "      <th>2</th>\n",
       "      <td>Mario Kart Wii</td>\n",
       "      <td>Wii</td>\n",
       "      <td>2008</td>\n",
       "      <td>Racing</td>\n",
       "      <td>15.68</td>\n",
       "      <td>12.76</td>\n",
       "      <td>3.79</td>\n",
       "      <td>3.29</td>\n",
       "      <td>82.0</td>\n",
       "      <td>8.3</td>\n",
       "      <td>E</td>\n",
       "      <td>35.52</td>\n",
       "    </tr>\n",
       "    <tr>\n",
       "      <th>3</th>\n",
       "      <td>Wii Sports Resort</td>\n",
       "      <td>Wii</td>\n",
       "      <td>2009</td>\n",
       "      <td>Sports</td>\n",
       "      <td>15.61</td>\n",
       "      <td>10.93</td>\n",
       "      <td>3.28</td>\n",
       "      <td>2.95</td>\n",
       "      <td>80.0</td>\n",
       "      <td>8.0</td>\n",
       "      <td>E</td>\n",
       "      <td>32.77</td>\n",
       "    </tr>\n",
       "    <tr>\n",
       "      <th>4</th>\n",
       "      <td>Pokemon Red/Pokemon Blue</td>\n",
       "      <td>GB</td>\n",
       "      <td>1996</td>\n",
       "      <td>Role-Playing</td>\n",
       "      <td>11.27</td>\n",
       "      <td>8.89</td>\n",
       "      <td>10.22</td>\n",
       "      <td>1.00</td>\n",
       "      <td>NaN</td>\n",
       "      <td>NaN</td>\n",
       "      <td>NaN</td>\n",
       "      <td>31.38</td>\n",
       "    </tr>\n",
       "    <tr>\n",
       "      <th>...</th>\n",
       "      <td>...</td>\n",
       "      <td>...</td>\n",
       "      <td>...</td>\n",
       "      <td>...</td>\n",
       "      <td>...</td>\n",
       "      <td>...</td>\n",
       "      <td>...</td>\n",
       "      <td>...</td>\n",
       "      <td>...</td>\n",
       "      <td>...</td>\n",
       "      <td>...</td>\n",
       "      <td>...</td>\n",
       "    </tr>\n",
       "    <tr>\n",
       "      <th>16707</th>\n",
       "      <td>Samurai Warriors: Sanada Maru</td>\n",
       "      <td>PS3</td>\n",
       "      <td>2016</td>\n",
       "      <td>Action</td>\n",
       "      <td>0.00</td>\n",
       "      <td>0.00</td>\n",
       "      <td>0.01</td>\n",
       "      <td>0.00</td>\n",
       "      <td>NaN</td>\n",
       "      <td>NaN</td>\n",
       "      <td>NaN</td>\n",
       "      <td>0.01</td>\n",
       "    </tr>\n",
       "    <tr>\n",
       "      <th>16708</th>\n",
       "      <td>LMA Manager 2007</td>\n",
       "      <td>X360</td>\n",
       "      <td>2006</td>\n",
       "      <td>Sports</td>\n",
       "      <td>0.00</td>\n",
       "      <td>0.01</td>\n",
       "      <td>0.00</td>\n",
       "      <td>0.00</td>\n",
       "      <td>NaN</td>\n",
       "      <td>NaN</td>\n",
       "      <td>NaN</td>\n",
       "      <td>0.01</td>\n",
       "    </tr>\n",
       "    <tr>\n",
       "      <th>16709</th>\n",
       "      <td>Haitaka no Psychedelica</td>\n",
       "      <td>PSV</td>\n",
       "      <td>2016</td>\n",
       "      <td>Adventure</td>\n",
       "      <td>0.00</td>\n",
       "      <td>0.00</td>\n",
       "      <td>0.01</td>\n",
       "      <td>0.00</td>\n",
       "      <td>NaN</td>\n",
       "      <td>NaN</td>\n",
       "      <td>NaN</td>\n",
       "      <td>0.01</td>\n",
       "    </tr>\n",
       "    <tr>\n",
       "      <th>16710</th>\n",
       "      <td>Spirits &amp; Spells</td>\n",
       "      <td>GBA</td>\n",
       "      <td>2003</td>\n",
       "      <td>Platform</td>\n",
       "      <td>0.01</td>\n",
       "      <td>0.00</td>\n",
       "      <td>0.00</td>\n",
       "      <td>0.00</td>\n",
       "      <td>NaN</td>\n",
       "      <td>NaN</td>\n",
       "      <td>NaN</td>\n",
       "      <td>0.01</td>\n",
       "    </tr>\n",
       "    <tr>\n",
       "      <th>16711</th>\n",
       "      <td>Winning Post 8 2016</td>\n",
       "      <td>PSV</td>\n",
       "      <td>2016</td>\n",
       "      <td>Simulation</td>\n",
       "      <td>0.00</td>\n",
       "      <td>0.00</td>\n",
       "      <td>0.01</td>\n",
       "      <td>0.00</td>\n",
       "      <td>NaN</td>\n",
       "      <td>NaN</td>\n",
       "      <td>NaN</td>\n",
       "      <td>0.01</td>\n",
       "    </tr>\n",
       "  </tbody>\n",
       "</table>\n",
       "<p>16712 rows × 12 columns</p>\n",
       "</div>"
      ],
      "text/plain": [
       "                                name platform  year_of_release         genre  \\\n",
       "0                         Wii Sports      Wii             2006        Sports   \n",
       "1                  Super Mario Bros.      NES             1985      Platform   \n",
       "2                     Mario Kart Wii      Wii             2008        Racing   \n",
       "3                  Wii Sports Resort      Wii             2009        Sports   \n",
       "4           Pokemon Red/Pokemon Blue       GB             1996  Role-Playing   \n",
       "...                              ...      ...              ...           ...   \n",
       "16707  Samurai Warriors: Sanada Maru      PS3             2016        Action   \n",
       "16708               LMA Manager 2007     X360             2006        Sports   \n",
       "16709        Haitaka no Psychedelica      PSV             2016     Adventure   \n",
       "16710               Spirits & Spells      GBA             2003      Platform   \n",
       "16711            Winning Post 8 2016      PSV             2016    Simulation   \n",
       "\n",
       "       na_sales  eu_sales  jp_sales  other_sales  critic_score  user_score  \\\n",
       "0         41.36     28.96      3.77         8.45          76.0         8.0   \n",
       "1         29.08      3.58      6.81         0.77           NaN         NaN   \n",
       "2         15.68     12.76      3.79         3.29          82.0         8.3   \n",
       "3         15.61     10.93      3.28         2.95          80.0         8.0   \n",
       "4         11.27      8.89     10.22         1.00           NaN         NaN   \n",
       "...         ...       ...       ...          ...           ...         ...   \n",
       "16707      0.00      0.00      0.01         0.00           NaN         NaN   \n",
       "16708      0.00      0.01      0.00         0.00           NaN         NaN   \n",
       "16709      0.00      0.00      0.01         0.00           NaN         NaN   \n",
       "16710      0.01      0.00      0.00         0.00           NaN         NaN   \n",
       "16711      0.00      0.00      0.01         0.00           NaN         NaN   \n",
       "\n",
       "      rating  sales_total  \n",
       "0          E        82.54  \n",
       "1        NaN        40.24  \n",
       "2          E        35.52  \n",
       "3          E        32.77  \n",
       "4        NaN        31.38  \n",
       "...      ...          ...  \n",
       "16707    NaN         0.01  \n",
       "16708    NaN         0.01  \n",
       "16709    NaN         0.01  \n",
       "16710    NaN         0.01  \n",
       "16711    NaN         0.01  \n",
       "\n",
       "[16712 rows x 12 columns]"
      ]
     },
     "metadata": {},
     "output_type": "display_data"
    },
    {
     "name": "stdout",
     "output_type": "stream",
     "text": [
      "<class 'pandas.core.frame.DataFrame'>\n",
      "RangeIndex: 16712 entries, 0 to 16711\n",
      "Data columns (total 12 columns):\n",
      " #   Column           Non-Null Count  Dtype  \n",
      "---  ------           --------------  -----  \n",
      " 0   name             16712 non-null  object \n",
      " 1   platform         16712 non-null  object \n",
      " 2   year_of_release  16443 non-null  Int64  \n",
      " 3   genre            16712 non-null  object \n",
      " 4   na_sales         16712 non-null  float64\n",
      " 5   eu_sales         16712 non-null  float64\n",
      " 6   jp_sales         16712 non-null  float64\n",
      " 7   other_sales      16712 non-null  float64\n",
      " 8   critic_score     8137 non-null   float64\n",
      " 9   user_score       7590 non-null   float64\n",
      " 10  rating           9949 non-null   object \n",
      " 11  sales_total      16712 non-null  float64\n",
      "dtypes: Int64(1), float64(7), object(4)\n",
      "memory usage: 1.5+ MB\n"
     ]
    }
   ],
   "source": [
    "# Удалим строку 15955. В ней указан год выхода игры 1985 на платформе DS. \n",
    "# Это невозможно: Nintendo DS вышла в 2004 году.\n",
    "display(data.query('platform == \"DS\" and year_of_release == 1985'))\n",
    "data = data.drop(15955).reset_index(drop=True)\n",
    "# Поменяем формат столбца year_of_release с float64 на Int64.\n",
    "data['year_of_release'] = data['year_of_release'].astype('Int64')\n",
    "display(data)\n",
    "data.info()"
   ]
  },
  {
   "cell_type": "markdown",
   "metadata": {},
   "source": [
    "### Вывод"
   ]
  },
  {
   "cell_type": "markdown",
   "metadata": {},
   "source": [
    "Мы совершили предобработку данных и добавили необходимые данные в таблицу.  \n",
    "1. **Названия столбцов**  \n",
    "Названия столбцов таблицы содержали строчные буквы. Предположилетельно это случилось, так как автор-компилятор этой таблицы не придал значения регистру букв в названиях столбцов. В нашем случае нет смысла в записи названий столбцов строчными буквами. Такой формат записи имен столбцов неудобен и может породить ошибки в записи кода в будущем. Мы привели названия всех столбцов к нижнему регистру.  \n",
    "2. **Дубликаты**  \n",
    "* Мы проверили таблицу на наличие полных дубликатов. Полные дубликаты в таблице отсутствуют.  \n",
    "* Также мы отдельно проверили столбец _name_ на наличие дубликатов. Встречаются строки с одинаковыми значениями в столбце *name*, но при детальном рассмотрении становится ясно, что эти строки отражают одну и ту же игру на разных платформах, или её переиздание. Обрабатывать такие дубликаты не нужно, так как несмотря на одно и то же название игры, каждая такая строка несет в себе уникальную информацию, уникальный релиз игры.  \n",
    "3. **Пропуски**  \n",
    "* Мы изучили пропуски в таблице. В столбце _name_ имеются два `NaN`-значения. Речь идет о двух играх платформы GEN (Sega Genesis). Причина, по которой оказались утеряны названия игр неизвестна. По большому счету их можно было бы и не обрабатывать, так как столбец _name_ очевидно не является столь важным для дальнейшего анализа. Скажем, вполне можно было бы представить, что NaN - это название игры и анализировать эти строки. Однако эти строки отличает от других то, что большинство их столбцов также имеют NaN-значения, и эти столбцы являются критически важными для дальнейшего анализа (речь идет о столбцах _critic_score_, _user_score_, _rating_). Причиной, по которой в этих столбцах остутствуют значения, вероятно, является отсутствие ведения какой-либо системы оценок компьютерных игр критиками и пользователями. Или невысокая популярность игры/тираж игры. А ESRB была основана 16 сентября 1994 г., что объясняет отсутствие ESRB-рейтинга у данных игр. Учитывая эти факты, а также не самые высокие показатели продаж во всех регионах, мы приняли решение избавиться от этих двух строк.  \n",
    "* Мы изучили пропуски в столбце _year_of_release_. Таких строк всего 269. Вероятно, эти пропуски появились ввиду отсутствия этой информации у автора-комплиятора таблицы. Первоначальной идеей было написать функцию, определяющую наличие года (в численном виде) в названии игры и переносящее его в столбец _year_of_release_. Эту идею пришлось отбросить, так как нередко год, указанный в названии игры, не является годом выпуска игры. Например, игра Madden NFL 2004 была выпущена в 2003 году (это вообще характерно для спортивных симуляторов). А игра The Order 1888 по понятным причинам была выпущена не в 1888 году. Заменять эти пропуски автоматическим образом невозможно (только если вручную, вооружившись поисковой системой, а удалять нецелесообразно (эти строки богаты данными, необходимыми для анализа).\n",
    "* После удаления двух `NaN`-значений в столбце _name_ пропусков в столбце _genre_ больше нет.\n",
    "* Обрабатывать `NaN`-значения в столбцах _critic_score_, _user_score_ и _rating_ мы не будем. Как уже было сказано выше, вероятнее всего, в этих столбцах остутствуют значения ввиду отсутствия ведения какой-либо системы оценок компьютерных игр критиками и пользователями. Или невысокая популярность игры/тираж игры. А ESRB была основана 16 сентября 1994 г., что объясняет отсутствие ESRB-рейтинга у многих игр. Корректно заменить `NaN`-значения в этих столбцах не получится, так как нам не на что опереться для подбора подходящего значения. Говоря об оценках критиков и пользователей мы не можем подобрать знечение на замену, так как мы не можем корректно самостоятельно оценить игру (недавнюю и уж тем более старую) за критиков, за пользователей, за ESRB. Само по себе оценивание носит субъективный характер. Также небольшое количество продаж не говорит о том, что игра плохая и у неё должен быть небольшой рейтинг, как и большое количество продаж не говорит о том, что игра великолепная. В качестве аналогии мы можем взять музыкальный бизнес. В мире существуют тысячи потрясающих музыкальных альбомов, не знавших мировой/локальной славы, не знавших оценок критиков. О них мы и большинство человечества никогда не узнаем, если не будем \"диггерами\", безудержно блуждающими по блошиным рынкам мира в поисках \"потерянных сокровищ музыкальной индустрии\". Тем не менее, благодаря таким \"диггерам\", мы можем послушать такие редчайшие произведения на YouTube, и убедиться в их красоте, задавая себе вопрос: \"Почему эта песня не стала мировым хитом?\". Много различных факторов повлияли на неизвестность этих произведений. Рискнем предположить, что с играми такая же история. Не будем взваливать на свои плечи ответственность за присваивание рейтинга играм по каким-либо категоральным признакам. Чтобы не исказить результаты исследования, принимаем решение не обрабатывать пропуски в этих столбцах.\n",
    "* В столбце _user_score_ имеются `object`-значения `tbd`. Из-за них весь столбец имеет формат `object`, что означает, что мы не можем проводить математические операции с данным столбцом. `Tbd` означает to be decided или to be determined (\"предстоит решить\" или \"предстоит определить\"). В данном случае `tbd` эквиваленты `NaN`, поэтому мы приняли решение заменить их на `NaN` с целью приведения столбца к формату `float`.  \n",
    "4. **Изменение формата данных**  \n",
    "* Мы изменили формат столбца _year_of_release_ с float64 на `Int64`. Теперь годы выпуска игр отображаются без плавающей запятой.\n",
    "* После замены `tbd` на `NaN` формат столбца _user_score_ всё равно остался `object`. Мы перевели тип данных столбца в вещественный, используя метод `pd.to_numeric()`.\n",
    "* Несмотря на то, что в столбце _critic_score_ все числа фактически являются целыми, они приведены в вещественном виде, и перевести их в формат целого числа не получится, так как в столбце имеются `NaN`-значения.  \n",
    "5. **Ошибки в данных**  \n",
    "В строке 15955 указана информация об игре Strongest Tokyo University Shogi DS. В качестве платформы указана DS (Nintendo DS). Судя по всему, это ошибка, так как DS вышла на рынок в 2004 году. Принятно решение удалить эту строку.\n",
    "5. **Расчет суммарных продаж**  \n",
    "* Мы посчитали суммарные продажи каждой игры. Результаты зафиксированы в столбце _sales_total_.\n",
    "* Мы посчитали суммарные продажи в каждом регионе и сохранили их в отдельном `Series`-объекте _total_sales_by_region_."
   ]
  },
  {
   "cell_type": "markdown",
   "metadata": {},
   "source": [
    "## Анализ данных"
   ]
  },
  {
   "cell_type": "code",
   "execution_count": 8,
   "metadata": {},
   "outputs": [
    {
     "data": {
      "text/html": [
       "<div>\n",
       "<style scoped>\n",
       "    .dataframe tbody tr th:only-of-type {\n",
       "        vertical-align: middle;\n",
       "    }\n",
       "\n",
       "    .dataframe tbody tr th {\n",
       "        vertical-align: top;\n",
       "    }\n",
       "\n",
       "    .dataframe thead th {\n",
       "        text-align: right;\n",
       "    }\n",
       "</style>\n",
       "<table border=\"1\" class=\"dataframe\">\n",
       "  <thead>\n",
       "    <tr style=\"text-align: right;\">\n",
       "      <th></th>\n",
       "      <th>games_number</th>\n",
       "    </tr>\n",
       "    <tr>\n",
       "      <th>year_of_release</th>\n",
       "      <th></th>\n",
       "    </tr>\n",
       "  </thead>\n",
       "  <tbody>\n",
       "    <tr>\n",
       "      <th>1980</th>\n",
       "      <td>9</td>\n",
       "    </tr>\n",
       "    <tr>\n",
       "      <th>1981</th>\n",
       "      <td>46</td>\n",
       "    </tr>\n",
       "    <tr>\n",
       "      <th>1982</th>\n",
       "      <td>36</td>\n",
       "    </tr>\n",
       "    <tr>\n",
       "      <th>1983</th>\n",
       "      <td>17</td>\n",
       "    </tr>\n",
       "    <tr>\n",
       "      <th>1984</th>\n",
       "      <td>14</td>\n",
       "    </tr>\n",
       "    <tr>\n",
       "      <th>1985</th>\n",
       "      <td>13</td>\n",
       "    </tr>\n",
       "    <tr>\n",
       "      <th>1986</th>\n",
       "      <td>21</td>\n",
       "    </tr>\n",
       "    <tr>\n",
       "      <th>1987</th>\n",
       "      <td>16</td>\n",
       "    </tr>\n",
       "    <tr>\n",
       "      <th>1988</th>\n",
       "      <td>15</td>\n",
       "    </tr>\n",
       "    <tr>\n",
       "      <th>1989</th>\n",
       "      <td>17</td>\n",
       "    </tr>\n",
       "    <tr>\n",
       "      <th>1990</th>\n",
       "      <td>16</td>\n",
       "    </tr>\n",
       "    <tr>\n",
       "      <th>1991</th>\n",
       "      <td>41</td>\n",
       "    </tr>\n",
       "    <tr>\n",
       "      <th>1992</th>\n",
       "      <td>43</td>\n",
       "    </tr>\n",
       "    <tr>\n",
       "      <th>1993</th>\n",
       "      <td>60</td>\n",
       "    </tr>\n",
       "    <tr>\n",
       "      <th>1994</th>\n",
       "      <td>121</td>\n",
       "    </tr>\n",
       "    <tr>\n",
       "      <th>1995</th>\n",
       "      <td>219</td>\n",
       "    </tr>\n",
       "    <tr>\n",
       "      <th>1996</th>\n",
       "      <td>263</td>\n",
       "    </tr>\n",
       "    <tr>\n",
       "      <th>1997</th>\n",
       "      <td>289</td>\n",
       "    </tr>\n",
       "    <tr>\n",
       "      <th>1998</th>\n",
       "      <td>379</td>\n",
       "    </tr>\n",
       "    <tr>\n",
       "      <th>1999</th>\n",
       "      <td>338</td>\n",
       "    </tr>\n",
       "    <tr>\n",
       "      <th>2000</th>\n",
       "      <td>350</td>\n",
       "    </tr>\n",
       "    <tr>\n",
       "      <th>2001</th>\n",
       "      <td>482</td>\n",
       "    </tr>\n",
       "    <tr>\n",
       "      <th>2002</th>\n",
       "      <td>829</td>\n",
       "    </tr>\n",
       "    <tr>\n",
       "      <th>2003</th>\n",
       "      <td>775</td>\n",
       "    </tr>\n",
       "    <tr>\n",
       "      <th>2004</th>\n",
       "      <td>762</td>\n",
       "    </tr>\n",
       "    <tr>\n",
       "      <th>2005</th>\n",
       "      <td>939</td>\n",
       "    </tr>\n",
       "    <tr>\n",
       "      <th>2006</th>\n",
       "      <td>1006</td>\n",
       "    </tr>\n",
       "    <tr>\n",
       "      <th>2007</th>\n",
       "      <td>1197</td>\n",
       "    </tr>\n",
       "    <tr>\n",
       "      <th>2008</th>\n",
       "      <td>1427</td>\n",
       "    </tr>\n",
       "    <tr>\n",
       "      <th>2009</th>\n",
       "      <td>1426</td>\n",
       "    </tr>\n",
       "    <tr>\n",
       "      <th>2010</th>\n",
       "      <td>1255</td>\n",
       "    </tr>\n",
       "    <tr>\n",
       "      <th>2011</th>\n",
       "      <td>1136</td>\n",
       "    </tr>\n",
       "    <tr>\n",
       "      <th>2012</th>\n",
       "      <td>653</td>\n",
       "    </tr>\n",
       "    <tr>\n",
       "      <th>2013</th>\n",
       "      <td>544</td>\n",
       "    </tr>\n",
       "    <tr>\n",
       "      <th>2014</th>\n",
       "      <td>581</td>\n",
       "    </tr>\n",
       "    <tr>\n",
       "      <th>2015</th>\n",
       "      <td>606</td>\n",
       "    </tr>\n",
       "    <tr>\n",
       "      <th>2016</th>\n",
       "      <td>502</td>\n",
       "    </tr>\n",
       "  </tbody>\n",
       "</table>\n",
       "</div>"
      ],
      "text/plain": [
       "                 games_number\n",
       "year_of_release              \n",
       "1980                        9\n",
       "1981                       46\n",
       "1982                       36\n",
       "1983                       17\n",
       "1984                       14\n",
       "1985                       13\n",
       "1986                       21\n",
       "1987                       16\n",
       "1988                       15\n",
       "1989                       17\n",
       "1990                       16\n",
       "1991                       41\n",
       "1992                       43\n",
       "1993                       60\n",
       "1994                      121\n",
       "1995                      219\n",
       "1996                      263\n",
       "1997                      289\n",
       "1998                      379\n",
       "1999                      338\n",
       "2000                      350\n",
       "2001                      482\n",
       "2002                      829\n",
       "2003                      775\n",
       "2004                      762\n",
       "2005                      939\n",
       "2006                     1006\n",
       "2007                     1197\n",
       "2008                     1427\n",
       "2009                     1426\n",
       "2010                     1255\n",
       "2011                     1136\n",
       "2012                      653\n",
       "2013                      544\n",
       "2014                      581\n",
       "2015                      606\n",
       "2016                      502"
      ]
     },
     "metadata": {},
     "output_type": "display_data"
    },
    {
     "data": {
      "image/png": "[encoded data removed]",
      "text/plain": [
       "<Figure size 1080x360 with 1 Axes>"
      ]
     },
     "metadata": {
      "needs_background": "light"
     },
     "output_type": "display_data"
    }
   ],
   "source": [
    "# Посчитаем, сколько игр выпускалось в разные годы.\n",
    "games_by_year = data.pivot_table(\n",
    "    index='year_of_release',\n",
    "    values='name', \n",
    "    aggfunc='count'\n",
    ")\n",
    "games_by_year.columns = ['games_number']\n",
    "display(games_by_year)\n",
    "data['year_of_release'].plot(kind='hist',\n",
    "                             bins=140,\n",
    "                             grid=True,\n",
    "                             figsize=(15,5))\n",
    "plt.title('Гистограмма распределения количества выпущенных игр по годам')\n",
    "plt.xlabel('Годы')\n",
    "plt.ylabel('Частотность')\n",
    "plt.show()"
   ]
  },
  {
   "cell_type": "code",
   "execution_count": 9,
   "metadata": {},
   "outputs": [
    {
     "data": {
      "text/html": [
       "<div>\n",
       "<style scoped>\n",
       "    .dataframe tbody tr th:only-of-type {\n",
       "        vertical-align: middle;\n",
       "    }\n",
       "\n",
       "    .dataframe tbody tr th {\n",
       "        vertical-align: top;\n",
       "    }\n",
       "\n",
       "    .dataframe thead th {\n",
       "        text-align: right;\n",
       "    }\n",
       "</style>\n",
       "<table border=\"1\" class=\"dataframe\">\n",
       "  <thead>\n",
       "    <tr style=\"text-align: right;\">\n",
       "      <th></th>\n",
       "      <th>eu_sales</th>\n",
       "      <th>jp_sales</th>\n",
       "      <th>na_sales</th>\n",
       "      <th>other_sales</th>\n",
       "      <th>sales_total</th>\n",
       "    </tr>\n",
       "    <tr>\n",
       "      <th>platform</th>\n",
       "      <th></th>\n",
       "      <th></th>\n",
       "      <th></th>\n",
       "      <th></th>\n",
       "      <th></th>\n",
       "    </tr>\n",
       "  </thead>\n",
       "  <tbody>\n",
       "    <tr>\n",
       "      <th>PS2</th>\n",
       "      <td>339.29</td>\n",
       "      <td>139.20</td>\n",
       "      <td>583.84</td>\n",
       "      <td>193.44</td>\n",
       "      <td>1255.77</td>\n",
       "    </tr>\n",
       "    <tr>\n",
       "      <th>X360</th>\n",
       "      <td>270.76</td>\n",
       "      <td>12.43</td>\n",
       "      <td>602.47</td>\n",
       "      <td>85.76</td>\n",
       "      <td>971.42</td>\n",
       "    </tr>\n",
       "    <tr>\n",
       "      <th>PS3</th>\n",
       "      <td>330.29</td>\n",
       "      <td>80.19</td>\n",
       "      <td>393.49</td>\n",
       "      <td>135.68</td>\n",
       "      <td>939.65</td>\n",
       "    </tr>\n",
       "    <tr>\n",
       "      <th>Wii</th>\n",
       "      <td>262.21</td>\n",
       "      <td>69.33</td>\n",
       "      <td>496.90</td>\n",
       "      <td>79.07</td>\n",
       "      <td>907.51</td>\n",
       "    </tr>\n",
       "    <tr>\n",
       "      <th>DS</th>\n",
       "      <td>188.89</td>\n",
       "      <td>175.55</td>\n",
       "      <td>382.40</td>\n",
       "      <td>59.26</td>\n",
       "      <td>806.10</td>\n",
       "    </tr>\n",
       "    <tr>\n",
       "      <th>PS</th>\n",
       "      <td>213.61</td>\n",
       "      <td>139.82</td>\n",
       "      <td>336.52</td>\n",
       "      <td>40.91</td>\n",
       "      <td>730.86</td>\n",
       "    </tr>\n",
       "    <tr>\n",
       "      <th>GBA</th>\n",
       "      <td>75.25</td>\n",
       "      <td>47.33</td>\n",
       "      <td>187.54</td>\n",
       "      <td>7.73</td>\n",
       "      <td>317.85</td>\n",
       "    </tr>\n",
       "    <tr>\n",
       "      <th>PS4</th>\n",
       "      <td>141.09</td>\n",
       "      <td>15.96</td>\n",
       "      <td>108.74</td>\n",
       "      <td>48.35</td>\n",
       "      <td>314.14</td>\n",
       "    </tr>\n",
       "    <tr>\n",
       "      <th>PSP</th>\n",
       "      <td>66.68</td>\n",
       "      <td>76.78</td>\n",
       "      <td>109.17</td>\n",
       "      <td>41.42</td>\n",
       "      <td>294.05</td>\n",
       "    </tr>\n",
       "    <tr>\n",
       "      <th>PC</th>\n",
       "      <td>142.44</td>\n",
       "      <td>0.17</td>\n",
       "      <td>94.53</td>\n",
       "      <td>22.38</td>\n",
       "      <td>259.52</td>\n",
       "    </tr>\n",
       "    <tr>\n",
       "      <th>3DS</th>\n",
       "      <td>61.48</td>\n",
       "      <td>100.67</td>\n",
       "      <td>83.49</td>\n",
       "      <td>13.36</td>\n",
       "      <td>259.00</td>\n",
       "    </tr>\n",
       "    <tr>\n",
       "      <th>XB</th>\n",
       "      <td>60.95</td>\n",
       "      <td>1.38</td>\n",
       "      <td>186.69</td>\n",
       "      <td>8.72</td>\n",
       "      <td>257.74</td>\n",
       "    </tr>\n",
       "    <tr>\n",
       "      <th>GB</th>\n",
       "      <td>47.82</td>\n",
       "      <td>85.12</td>\n",
       "      <td>114.32</td>\n",
       "      <td>8.20</td>\n",
       "      <td>255.46</td>\n",
       "    </tr>\n",
       "    <tr>\n",
       "      <th>NES</th>\n",
       "      <td>21.15</td>\n",
       "      <td>98.65</td>\n",
       "      <td>125.94</td>\n",
       "      <td>5.31</td>\n",
       "      <td>251.05</td>\n",
       "    </tr>\n",
       "    <tr>\n",
       "      <th>N64</th>\n",
       "      <td>41.06</td>\n",
       "      <td>34.22</td>\n",
       "      <td>139.02</td>\n",
       "      <td>4.38</td>\n",
       "      <td>218.68</td>\n",
       "    </tr>\n",
       "    <tr>\n",
       "      <th>SNES</th>\n",
       "      <td>19.04</td>\n",
       "      <td>116.55</td>\n",
       "      <td>61.23</td>\n",
       "      <td>3.22</td>\n",
       "      <td>200.04</td>\n",
       "    </tr>\n",
       "    <tr>\n",
       "      <th>GC</th>\n",
       "      <td>38.71</td>\n",
       "      <td>21.58</td>\n",
       "      <td>133.46</td>\n",
       "      <td>5.18</td>\n",
       "      <td>198.93</td>\n",
       "    </tr>\n",
       "    <tr>\n",
       "      <th>XOne</th>\n",
       "      <td>51.59</td>\n",
       "      <td>0.34</td>\n",
       "      <td>93.12</td>\n",
       "      <td>14.27</td>\n",
       "      <td>159.32</td>\n",
       "    </tr>\n",
       "    <tr>\n",
       "      <th>2600</th>\n",
       "      <td>5.47</td>\n",
       "      <td>0.00</td>\n",
       "      <td>90.60</td>\n",
       "      <td>0.91</td>\n",
       "      <td>96.98</td>\n",
       "    </tr>\n",
       "    <tr>\n",
       "      <th>WiiU</th>\n",
       "      <td>25.13</td>\n",
       "      <td>13.01</td>\n",
       "      <td>38.10</td>\n",
       "      <td>5.95</td>\n",
       "      <td>82.19</td>\n",
       "    </tr>\n",
       "    <tr>\n",
       "      <th>PSV</th>\n",
       "      <td>13.12</td>\n",
       "      <td>21.91</td>\n",
       "      <td>12.58</td>\n",
       "      <td>6.46</td>\n",
       "      <td>54.07</td>\n",
       "    </tr>\n",
       "    <tr>\n",
       "      <th>SAT</th>\n",
       "      <td>0.54</td>\n",
       "      <td>32.26</td>\n",
       "      <td>0.72</td>\n",
       "      <td>0.07</td>\n",
       "      <td>33.59</td>\n",
       "    </tr>\n",
       "    <tr>\n",
       "      <th>GEN</th>\n",
       "      <td>5.52</td>\n",
       "      <td>2.67</td>\n",
       "      <td>19.27</td>\n",
       "      <td>0.89</td>\n",
       "      <td>28.35</td>\n",
       "    </tr>\n",
       "    <tr>\n",
       "      <th>DC</th>\n",
       "      <td>1.69</td>\n",
       "      <td>8.56</td>\n",
       "      <td>5.43</td>\n",
       "      <td>0.27</td>\n",
       "      <td>15.95</td>\n",
       "    </tr>\n",
       "    <tr>\n",
       "      <th>SCD</th>\n",
       "      <td>0.36</td>\n",
       "      <td>0.45</td>\n",
       "      <td>1.00</td>\n",
       "      <td>0.05</td>\n",
       "      <td>1.86</td>\n",
       "    </tr>\n",
       "    <tr>\n",
       "      <th>NG</th>\n",
       "      <td>0.00</td>\n",
       "      <td>1.44</td>\n",
       "      <td>0.00</td>\n",
       "      <td>0.00</td>\n",
       "      <td>1.44</td>\n",
       "    </tr>\n",
       "    <tr>\n",
       "      <th>WS</th>\n",
       "      <td>0.00</td>\n",
       "      <td>1.42</td>\n",
       "      <td>0.00</td>\n",
       "      <td>0.00</td>\n",
       "      <td>1.42</td>\n",
       "    </tr>\n",
       "    <tr>\n",
       "      <th>TG16</th>\n",
       "      <td>0.00</td>\n",
       "      <td>0.16</td>\n",
       "      <td>0.00</td>\n",
       "      <td>0.00</td>\n",
       "      <td>0.16</td>\n",
       "    </tr>\n",
       "    <tr>\n",
       "      <th>3DO</th>\n",
       "      <td>0.00</td>\n",
       "      <td>0.10</td>\n",
       "      <td>0.00</td>\n",
       "      <td>0.00</td>\n",
       "      <td>0.10</td>\n",
       "    </tr>\n",
       "    <tr>\n",
       "      <th>GG</th>\n",
       "      <td>0.00</td>\n",
       "      <td>0.04</td>\n",
       "      <td>0.00</td>\n",
       "      <td>0.00</td>\n",
       "      <td>0.04</td>\n",
       "    </tr>\n",
       "    <tr>\n",
       "      <th>PCFX</th>\n",
       "      <td>0.00</td>\n",
       "      <td>0.03</td>\n",
       "      <td>0.00</td>\n",
       "      <td>0.00</td>\n",
       "      <td>0.03</td>\n",
       "    </tr>\n",
       "  </tbody>\n",
       "</table>\n",
       "</div>"
      ],
      "text/plain": [
       "          eu_sales  jp_sales  na_sales  other_sales  sales_total\n",
       "platform                                                        \n",
       "PS2         339.29    139.20    583.84       193.44      1255.77\n",
       "X360        270.76     12.43    602.47        85.76       971.42\n",
       "PS3         330.29     80.19    393.49       135.68       939.65\n",
       "Wii         262.21     69.33    496.90        79.07       907.51\n",
       "DS          188.89    175.55    382.40        59.26       806.10\n",
       "PS          213.61    139.82    336.52        40.91       730.86\n",
       "GBA          75.25     47.33    187.54         7.73       317.85\n",
       "PS4         141.09     15.96    108.74        48.35       314.14\n",
       "PSP          66.68     76.78    109.17        41.42       294.05\n",
       "PC          142.44      0.17     94.53        22.38       259.52\n",
       "3DS          61.48    100.67     83.49        13.36       259.00\n",
       "XB           60.95      1.38    186.69         8.72       257.74\n",
       "GB           47.82     85.12    114.32         8.20       255.46\n",
       "NES          21.15     98.65    125.94         5.31       251.05\n",
       "N64          41.06     34.22    139.02         4.38       218.68\n",
       "SNES         19.04    116.55     61.23         3.22       200.04\n",
       "GC           38.71     21.58    133.46         5.18       198.93\n",
       "XOne         51.59      0.34     93.12        14.27       159.32\n",
       "2600          5.47      0.00     90.60         0.91        96.98\n",
       "WiiU         25.13     13.01     38.10         5.95        82.19\n",
       "PSV          13.12     21.91     12.58         6.46        54.07\n",
       "SAT           0.54     32.26      0.72         0.07        33.59\n",
       "GEN           5.52      2.67     19.27         0.89        28.35\n",
       "DC            1.69      8.56      5.43         0.27        15.95\n",
       "SCD           0.36      0.45      1.00         0.05         1.86\n",
       "NG            0.00      1.44      0.00         0.00         1.44\n",
       "WS            0.00      1.42      0.00         0.00         1.42\n",
       "TG16          0.00      0.16      0.00         0.00         0.16\n",
       "3DO           0.00      0.10      0.00         0.00         0.10\n",
       "GG            0.00      0.04      0.00         0.00         0.04\n",
       "PCFX          0.00      0.03      0.00         0.00         0.03"
      ]
     },
     "metadata": {},
     "output_type": "display_data"
    },
    {
     "data": {
      "text/html": [
       "<div>\n",
       "<style scoped>\n",
       "    .dataframe tbody tr th:only-of-type {\n",
       "        vertical-align: middle;\n",
       "    }\n",
       "\n",
       "    .dataframe tbody tr th {\n",
       "        vertical-align: top;\n",
       "    }\n",
       "\n",
       "    .dataframe thead th {\n",
       "        text-align: right;\n",
       "    }\n",
       "</style>\n",
       "<table border=\"1\" class=\"dataframe\">\n",
       "  <thead>\n",
       "    <tr style=\"text-align: right;\">\n",
       "      <th></th>\n",
       "      <th>platform</th>\n",
       "      <th>eu_sales</th>\n",
       "      <th>jp_sales</th>\n",
       "      <th>na_sales</th>\n",
       "      <th>other_sales</th>\n",
       "      <th>sales_total</th>\n",
       "    </tr>\n",
       "  </thead>\n",
       "  <tbody>\n",
       "    <tr>\n",
       "      <th>0</th>\n",
       "      <td>PS2</td>\n",
       "      <td>339.29</td>\n",
       "      <td>139.20</td>\n",
       "      <td>583.84</td>\n",
       "      <td>193.44</td>\n",
       "      <td>1255.77</td>\n",
       "    </tr>\n",
       "    <tr>\n",
       "      <th>1</th>\n",
       "      <td>X360</td>\n",
       "      <td>270.76</td>\n",
       "      <td>12.43</td>\n",
       "      <td>602.47</td>\n",
       "      <td>85.76</td>\n",
       "      <td>971.42</td>\n",
       "    </tr>\n",
       "    <tr>\n",
       "      <th>2</th>\n",
       "      <td>PS3</td>\n",
       "      <td>330.29</td>\n",
       "      <td>80.19</td>\n",
       "      <td>393.49</td>\n",
       "      <td>135.68</td>\n",
       "      <td>939.65</td>\n",
       "    </tr>\n",
       "    <tr>\n",
       "      <th>3</th>\n",
       "      <td>Wii</td>\n",
       "      <td>262.21</td>\n",
       "      <td>69.33</td>\n",
       "      <td>496.90</td>\n",
       "      <td>79.07</td>\n",
       "      <td>907.51</td>\n",
       "    </tr>\n",
       "    <tr>\n",
       "      <th>4</th>\n",
       "      <td>DS</td>\n",
       "      <td>188.89</td>\n",
       "      <td>175.55</td>\n",
       "      <td>382.40</td>\n",
       "      <td>59.26</td>\n",
       "      <td>806.10</td>\n",
       "    </tr>\n",
       "    <tr>\n",
       "      <th>5</th>\n",
       "      <td>PS</td>\n",
       "      <td>213.61</td>\n",
       "      <td>139.82</td>\n",
       "      <td>336.52</td>\n",
       "      <td>40.91</td>\n",
       "      <td>730.86</td>\n",
       "    </tr>\n",
       "    <tr>\n",
       "      <th>6</th>\n",
       "      <td>GBA</td>\n",
       "      <td>75.25</td>\n",
       "      <td>47.33</td>\n",
       "      <td>187.54</td>\n",
       "      <td>7.73</td>\n",
       "      <td>317.85</td>\n",
       "    </tr>\n",
       "    <tr>\n",
       "      <th>7</th>\n",
       "      <td>PS4</td>\n",
       "      <td>141.09</td>\n",
       "      <td>15.96</td>\n",
       "      <td>108.74</td>\n",
       "      <td>48.35</td>\n",
       "      <td>314.14</td>\n",
       "    </tr>\n",
       "    <tr>\n",
       "      <th>8</th>\n",
       "      <td>PSP</td>\n",
       "      <td>66.68</td>\n",
       "      <td>76.78</td>\n",
       "      <td>109.17</td>\n",
       "      <td>41.42</td>\n",
       "      <td>294.05</td>\n",
       "    </tr>\n",
       "    <tr>\n",
       "      <th>9</th>\n",
       "      <td>PC</td>\n",
       "      <td>142.44</td>\n",
       "      <td>0.17</td>\n",
       "      <td>94.53</td>\n",
       "      <td>22.38</td>\n",
       "      <td>259.52</td>\n",
       "    </tr>\n",
       "  </tbody>\n",
       "</table>\n",
       "</div>"
      ],
      "text/plain": [
       "  platform  eu_sales  jp_sales  na_sales  other_sales  sales_total\n",
       "0      PS2    339.29    139.20    583.84       193.44      1255.77\n",
       "1     X360    270.76     12.43    602.47        85.76       971.42\n",
       "2      PS3    330.29     80.19    393.49       135.68       939.65\n",
       "3      Wii    262.21     69.33    496.90        79.07       907.51\n",
       "4       DS    188.89    175.55    382.40        59.26       806.10\n",
       "5       PS    213.61    139.82    336.52        40.91       730.86\n",
       "6      GBA     75.25     47.33    187.54         7.73       317.85\n",
       "7      PS4    141.09     15.96    108.74        48.35       314.14\n",
       "8      PSP     66.68     76.78    109.17        41.42       294.05\n",
       "9       PC    142.44      0.17     94.53        22.38       259.52"
      ]
     },
     "metadata": {},
     "output_type": "display_data"
    },
    {
     "data": {
      "text/plain": [
       "0     PS2\n",
       "1    X360\n",
       "2     PS3\n",
       "3     Wii\n",
       "4      DS\n",
       "5      PS\n",
       "6     GBA\n",
       "7     PS4\n",
       "8     PSP\n",
       "9      PC\n",
       "Name: platform, dtype: object"
      ]
     },
     "metadata": {},
     "output_type": "display_data"
    }
   ],
   "source": [
    "# Посмотрим, как менялись продажи по платформам.\n",
    "sales_by_platforms = data.pivot_table(\n",
    "    index='platform',\n",
    "    values=['na_sales', \n",
    "            'eu_sales', \n",
    "            'jp_sales', \n",
    "            'other_sales',\n",
    "            'sales_total'], \n",
    "    aggfunc='sum'\n",
    ").sort_values('sales_total', ascending=False)\n",
    "display(sales_by_platforms)\n",
    "# Оставим 10 самых коммерчески успешных платформ.\n",
    "top_10_platforms = sales_by_platforms.loc[\n",
    "    sales_by_platforms['sales_total'] >= 259\n",
    "].reset_index()\n",
    "display(top_10_platforms)\n",
    "# Зафиксируем Series-объект с названиями \n",
    "# самых коммерчески успешных платформ.\n",
    "top_10_list = top_10_platforms['platform']\n",
    "display(top_10_list)"
   ]
  },
  {
   "cell_type": "code",
   "execution_count": 10,
   "metadata": {},
   "outputs": [
    {
     "data": {
      "text/html": [
       "<div>\n",
       "<style scoped>\n",
       "    .dataframe tbody tr th:only-of-type {\n",
       "        vertical-align: middle;\n",
       "    }\n",
       "\n",
       "    .dataframe tbody tr th {\n",
       "        vertical-align: top;\n",
       "    }\n",
       "\n",
       "    .dataframe thead th {\n",
       "        text-align: right;\n",
       "    }\n",
       "</style>\n",
       "<table border=\"1\" class=\"dataframe\">\n",
       "  <thead>\n",
       "    <tr style=\"text-align: right;\">\n",
       "      <th>platform</th>\n",
       "      <th>DS</th>\n",
       "      <th>GBA</th>\n",
       "      <th>PC</th>\n",
       "      <th>PS</th>\n",
       "      <th>PS2</th>\n",
       "      <th>PS3</th>\n",
       "      <th>PS4</th>\n",
       "      <th>PSP</th>\n",
       "      <th>Wii</th>\n",
       "      <th>X360</th>\n",
       "    </tr>\n",
       "    <tr>\n",
       "      <th>year_of_release</th>\n",
       "      <th></th>\n",
       "      <th></th>\n",
       "      <th></th>\n",
       "      <th></th>\n",
       "      <th></th>\n",
       "      <th></th>\n",
       "      <th></th>\n",
       "      <th></th>\n",
       "      <th></th>\n",
       "      <th></th>\n",
       "    </tr>\n",
       "  </thead>\n",
       "  <tbody>\n",
       "    <tr>\n",
       "      <th>1985</th>\n",
       "      <td>NaN</td>\n",
       "      <td>NaN</td>\n",
       "      <td>0.04</td>\n",
       "      <td>NaN</td>\n",
       "      <td>NaN</td>\n",
       "      <td>NaN</td>\n",
       "      <td>NaN</td>\n",
       "      <td>NaN</td>\n",
       "      <td>NaN</td>\n",
       "      <td>NaN</td>\n",
       "    </tr>\n",
       "    <tr>\n",
       "      <th>1988</th>\n",
       "      <td>NaN</td>\n",
       "      <td>NaN</td>\n",
       "      <td>0.03</td>\n",
       "      <td>NaN</td>\n",
       "      <td>NaN</td>\n",
       "      <td>NaN</td>\n",
       "      <td>NaN</td>\n",
       "      <td>NaN</td>\n",
       "      <td>NaN</td>\n",
       "      <td>NaN</td>\n",
       "    </tr>\n",
       "    <tr>\n",
       "      <th>1992</th>\n",
       "      <td>NaN</td>\n",
       "      <td>NaN</td>\n",
       "      <td>3.03</td>\n",
       "      <td>NaN</td>\n",
       "      <td>NaN</td>\n",
       "      <td>NaN</td>\n",
       "      <td>NaN</td>\n",
       "      <td>NaN</td>\n",
       "      <td>NaN</td>\n",
       "      <td>NaN</td>\n",
       "    </tr>\n",
       "    <tr>\n",
       "      <th>1994</th>\n",
       "      <td>NaN</td>\n",
       "      <td>NaN</td>\n",
       "      <td>12.87</td>\n",
       "      <td>6.03</td>\n",
       "      <td>NaN</td>\n",
       "      <td>NaN</td>\n",
       "      <td>NaN</td>\n",
       "      <td>NaN</td>\n",
       "      <td>NaN</td>\n",
       "      <td>NaN</td>\n",
       "    </tr>\n",
       "    <tr>\n",
       "      <th>1995</th>\n",
       "      <td>NaN</td>\n",
       "      <td>NaN</td>\n",
       "      <td>4.22</td>\n",
       "      <td>35.96</td>\n",
       "      <td>NaN</td>\n",
       "      <td>NaN</td>\n",
       "      <td>NaN</td>\n",
       "      <td>NaN</td>\n",
       "      <td>NaN</td>\n",
       "      <td>NaN</td>\n",
       "    </tr>\n",
       "    <tr>\n",
       "      <th>1996</th>\n",
       "      <td>NaN</td>\n",
       "      <td>NaN</td>\n",
       "      <td>10.58</td>\n",
       "      <td>94.70</td>\n",
       "      <td>NaN</td>\n",
       "      <td>NaN</td>\n",
       "      <td>NaN</td>\n",
       "      <td>NaN</td>\n",
       "      <td>NaN</td>\n",
       "      <td>NaN</td>\n",
       "    </tr>\n",
       "    <tr>\n",
       "      <th>1997</th>\n",
       "      <td>NaN</td>\n",
       "      <td>NaN</td>\n",
       "      <td>11.27</td>\n",
       "      <td>136.17</td>\n",
       "      <td>NaN</td>\n",
       "      <td>NaN</td>\n",
       "      <td>NaN</td>\n",
       "      <td>NaN</td>\n",
       "      <td>NaN</td>\n",
       "      <td>NaN</td>\n",
       "    </tr>\n",
       "    <tr>\n",
       "      <th>1998</th>\n",
       "      <td>NaN</td>\n",
       "      <td>NaN</td>\n",
       "      <td>3.26</td>\n",
       "      <td>169.49</td>\n",
       "      <td>NaN</td>\n",
       "      <td>NaN</td>\n",
       "      <td>NaN</td>\n",
       "      <td>NaN</td>\n",
       "      <td>NaN</td>\n",
       "      <td>NaN</td>\n",
       "    </tr>\n",
       "    <tr>\n",
       "      <th>1999</th>\n",
       "      <td>NaN</td>\n",
       "      <td>NaN</td>\n",
       "      <td>4.74</td>\n",
       "      <td>144.53</td>\n",
       "      <td>NaN</td>\n",
       "      <td>NaN</td>\n",
       "      <td>NaN</td>\n",
       "      <td>NaN</td>\n",
       "      <td>NaN</td>\n",
       "      <td>NaN</td>\n",
       "    </tr>\n",
       "    <tr>\n",
       "      <th>2000</th>\n",
       "      <td>NaN</td>\n",
       "      <td>0.07</td>\n",
       "      <td>4.66</td>\n",
       "      <td>96.37</td>\n",
       "      <td>39.17</td>\n",
       "      <td>NaN</td>\n",
       "      <td>NaN</td>\n",
       "      <td>NaN</td>\n",
       "      <td>NaN</td>\n",
       "      <td>NaN</td>\n",
       "    </tr>\n",
       "    <tr>\n",
       "      <th>2001</th>\n",
       "      <td>NaN</td>\n",
       "      <td>61.53</td>\n",
       "      <td>5.47</td>\n",
       "      <td>35.59</td>\n",
       "      <td>166.43</td>\n",
       "      <td>NaN</td>\n",
       "      <td>NaN</td>\n",
       "      <td>NaN</td>\n",
       "      <td>NaN</td>\n",
       "      <td>NaN</td>\n",
       "    </tr>\n",
       "    <tr>\n",
       "      <th>2002</th>\n",
       "      <td>NaN</td>\n",
       "      <td>74.16</td>\n",
       "      <td>8.57</td>\n",
       "      <td>6.67</td>\n",
       "      <td>205.38</td>\n",
       "      <td>NaN</td>\n",
       "      <td>NaN</td>\n",
       "      <td>NaN</td>\n",
       "      <td>NaN</td>\n",
       "      <td>NaN</td>\n",
       "    </tr>\n",
       "    <tr>\n",
       "      <th>2003</th>\n",
       "      <td>NaN</td>\n",
       "      <td>56.67</td>\n",
       "      <td>8.84</td>\n",
       "      <td>2.07</td>\n",
       "      <td>184.31</td>\n",
       "      <td>NaN</td>\n",
       "      <td>NaN</td>\n",
       "      <td>NaN</td>\n",
       "      <td>NaN</td>\n",
       "      <td>NaN</td>\n",
       "    </tr>\n",
       "    <tr>\n",
       "      <th>2004</th>\n",
       "      <td>17.27</td>\n",
       "      <td>77.91</td>\n",
       "      <td>10.39</td>\n",
       "      <td>NaN</td>\n",
       "      <td>211.81</td>\n",
       "      <td>NaN</td>\n",
       "      <td>NaN</td>\n",
       "      <td>7.06</td>\n",
       "      <td>NaN</td>\n",
       "      <td>NaN</td>\n",
       "    </tr>\n",
       "    <tr>\n",
       "      <th>2005</th>\n",
       "      <td>130.14</td>\n",
       "      <td>33.86</td>\n",
       "      <td>4.37</td>\n",
       "      <td>NaN</td>\n",
       "      <td>160.66</td>\n",
       "      <td>NaN</td>\n",
       "      <td>NaN</td>\n",
       "      <td>43.84</td>\n",
       "      <td>NaN</td>\n",
       "      <td>8.25</td>\n",
       "    </tr>\n",
       "    <tr>\n",
       "      <th>2006</th>\n",
       "      <td>119.81</td>\n",
       "      <td>5.28</td>\n",
       "      <td>2.85</td>\n",
       "      <td>NaN</td>\n",
       "      <td>103.42</td>\n",
       "      <td>20.96</td>\n",
       "      <td>NaN</td>\n",
       "      <td>55.32</td>\n",
       "      <td>137.15</td>\n",
       "      <td>51.62</td>\n",
       "    </tr>\n",
       "    <tr>\n",
       "      <th>2007</th>\n",
       "      <td>146.94</td>\n",
       "      <td>3.40</td>\n",
       "      <td>9.28</td>\n",
       "      <td>NaN</td>\n",
       "      <td>75.99</td>\n",
       "      <td>73.19</td>\n",
       "      <td>NaN</td>\n",
       "      <td>46.93</td>\n",
       "      <td>152.77</td>\n",
       "      <td>95.41</td>\n",
       "    </tr>\n",
       "    <tr>\n",
       "      <th>2008</th>\n",
       "      <td>145.31</td>\n",
       "      <td>NaN</td>\n",
       "      <td>12.42</td>\n",
       "      <td>NaN</td>\n",
       "      <td>53.90</td>\n",
       "      <td>118.52</td>\n",
       "      <td>NaN</td>\n",
       "      <td>34.55</td>\n",
       "      <td>171.32</td>\n",
       "      <td>135.26</td>\n",
       "    </tr>\n",
       "    <tr>\n",
       "      <th>2009</th>\n",
       "      <td>119.54</td>\n",
       "      <td>NaN</td>\n",
       "      <td>16.91</td>\n",
       "      <td>NaN</td>\n",
       "      <td>26.40</td>\n",
       "      <td>130.93</td>\n",
       "      <td>NaN</td>\n",
       "      <td>37.78</td>\n",
       "      <td>206.97</td>\n",
       "      <td>120.29</td>\n",
       "    </tr>\n",
       "    <tr>\n",
       "      <th>2010</th>\n",
       "      <td>85.02</td>\n",
       "      <td>NaN</td>\n",
       "      <td>24.28</td>\n",
       "      <td>NaN</td>\n",
       "      <td>5.64</td>\n",
       "      <td>142.17</td>\n",
       "      <td>NaN</td>\n",
       "      <td>35.04</td>\n",
       "      <td>127.95</td>\n",
       "      <td>170.03</td>\n",
       "    </tr>\n",
       "    <tr>\n",
       "      <th>2011</th>\n",
       "      <td>26.18</td>\n",
       "      <td>NaN</td>\n",
       "      <td>35.03</td>\n",
       "      <td>NaN</td>\n",
       "      <td>0.45</td>\n",
       "      <td>156.78</td>\n",
       "      <td>NaN</td>\n",
       "      <td>17.82</td>\n",
       "      <td>59.65</td>\n",
       "      <td>143.84</td>\n",
       "    </tr>\n",
       "    <tr>\n",
       "      <th>2012</th>\n",
       "      <td>11.01</td>\n",
       "      <td>NaN</td>\n",
       "      <td>23.22</td>\n",
       "      <td>NaN</td>\n",
       "      <td>NaN</td>\n",
       "      <td>107.36</td>\n",
       "      <td>NaN</td>\n",
       "      <td>7.69</td>\n",
       "      <td>21.71</td>\n",
       "      <td>99.74</td>\n",
       "    </tr>\n",
       "    <tr>\n",
       "      <th>2013</th>\n",
       "      <td>1.54</td>\n",
       "      <td>NaN</td>\n",
       "      <td>12.38</td>\n",
       "      <td>NaN</td>\n",
       "      <td>NaN</td>\n",
       "      <td>113.25</td>\n",
       "      <td>25.99</td>\n",
       "      <td>3.14</td>\n",
       "      <td>8.59</td>\n",
       "      <td>88.58</td>\n",
       "    </tr>\n",
       "    <tr>\n",
       "      <th>2014</th>\n",
       "      <td>NaN</td>\n",
       "      <td>NaN</td>\n",
       "      <td>13.28</td>\n",
       "      <td>NaN</td>\n",
       "      <td>NaN</td>\n",
       "      <td>47.76</td>\n",
       "      <td>100.00</td>\n",
       "      <td>0.24</td>\n",
       "      <td>3.75</td>\n",
       "      <td>34.74</td>\n",
       "    </tr>\n",
       "    <tr>\n",
       "      <th>2015</th>\n",
       "      <td>NaN</td>\n",
       "      <td>NaN</td>\n",
       "      <td>8.52</td>\n",
       "      <td>NaN</td>\n",
       "      <td>NaN</td>\n",
       "      <td>16.82</td>\n",
       "      <td>118.90</td>\n",
       "      <td>0.12</td>\n",
       "      <td>1.14</td>\n",
       "      <td>11.96</td>\n",
       "    </tr>\n",
       "    <tr>\n",
       "      <th>2016</th>\n",
       "      <td>NaN</td>\n",
       "      <td>NaN</td>\n",
       "      <td>5.25</td>\n",
       "      <td>NaN</td>\n",
       "      <td>NaN</td>\n",
       "      <td>3.60</td>\n",
       "      <td>69.25</td>\n",
       "      <td>NaN</td>\n",
       "      <td>0.18</td>\n",
       "      <td>1.52</td>\n",
       "    </tr>\n",
       "  </tbody>\n",
       "</table>\n",
       "</div>"
      ],
      "text/plain": [
       "platform             DS    GBA     PC      PS     PS2     PS3     PS4    PSP  \\\n",
       "year_of_release                                                                \n",
       "1985                NaN    NaN   0.04     NaN     NaN     NaN     NaN    NaN   \n",
       "1988                NaN    NaN   0.03     NaN     NaN     NaN     NaN    NaN   \n",
       "1992                NaN    NaN   3.03     NaN     NaN     NaN     NaN    NaN   \n",
       "1994                NaN    NaN  12.87    6.03     NaN     NaN     NaN    NaN   \n",
       "1995                NaN    NaN   4.22   35.96     NaN     NaN     NaN    NaN   \n",
       "1996                NaN    NaN  10.58   94.70     NaN     NaN     NaN    NaN   \n",
       "1997                NaN    NaN  11.27  136.17     NaN     NaN     NaN    NaN   \n",
       "1998                NaN    NaN   3.26  169.49     NaN     NaN     NaN    NaN   \n",
       "1999                NaN    NaN   4.74  144.53     NaN     NaN     NaN    NaN   \n",
       "2000                NaN   0.07   4.66   96.37   39.17     NaN     NaN    NaN   \n",
       "2001                NaN  61.53   5.47   35.59  166.43     NaN     NaN    NaN   \n",
       "2002                NaN  74.16   8.57    6.67  205.38     NaN     NaN    NaN   \n",
       "2003                NaN  56.67   8.84    2.07  184.31     NaN     NaN    NaN   \n",
       "2004              17.27  77.91  10.39     NaN  211.81     NaN     NaN   7.06   \n",
       "2005             130.14  33.86   4.37     NaN  160.66     NaN     NaN  43.84   \n",
       "2006             119.81   5.28   2.85     NaN  103.42   20.96     NaN  55.32   \n",
       "2007             146.94   3.40   9.28     NaN   75.99   73.19     NaN  46.93   \n",
       "2008             145.31    NaN  12.42     NaN   53.90  118.52     NaN  34.55   \n",
       "2009             119.54    NaN  16.91     NaN   26.40  130.93     NaN  37.78   \n",
       "2010              85.02    NaN  24.28     NaN    5.64  142.17     NaN  35.04   \n",
       "2011              26.18    NaN  35.03     NaN    0.45  156.78     NaN  17.82   \n",
       "2012              11.01    NaN  23.22     NaN     NaN  107.36     NaN   7.69   \n",
       "2013               1.54    NaN  12.38     NaN     NaN  113.25   25.99   3.14   \n",
       "2014                NaN    NaN  13.28     NaN     NaN   47.76  100.00   0.24   \n",
       "2015                NaN    NaN   8.52     NaN     NaN   16.82  118.90   0.12   \n",
       "2016                NaN    NaN   5.25     NaN     NaN    3.60   69.25    NaN   \n",
       "\n",
       "platform            Wii    X360  \n",
       "year_of_release                  \n",
       "1985                NaN     NaN  \n",
       "1988                NaN     NaN  \n",
       "1992                NaN     NaN  \n",
       "1994                NaN     NaN  \n",
       "1995                NaN     NaN  \n",
       "1996                NaN     NaN  \n",
       "1997                NaN     NaN  \n",
       "1998                NaN     NaN  \n",
       "1999                NaN     NaN  \n",
       "2000                NaN     NaN  \n",
       "2001                NaN     NaN  \n",
       "2002                NaN     NaN  \n",
       "2003                NaN     NaN  \n",
       "2004                NaN     NaN  \n",
       "2005                NaN    8.25  \n",
       "2006             137.15   51.62  \n",
       "2007             152.77   95.41  \n",
       "2008             171.32  135.26  \n",
       "2009             206.97  120.29  \n",
       "2010             127.95  170.03  \n",
       "2011              59.65  143.84  \n",
       "2012              21.71   99.74  \n",
       "2013               8.59   88.58  \n",
       "2014               3.75   34.74  \n",
       "2015               1.14   11.96  \n",
       "2016               0.18    1.52  "
      ]
     },
     "metadata": {},
     "output_type": "display_data"
    },
    {
     "data": {
      "image/png": "[encoded data removed]",
      "text/plain": [
       "<Figure size 2160x360 with 1 Axes>"
      ]
     },
     "metadata": {
      "needs_background": "light"
     },
     "output_type": "display_data"
    }
   ],
   "source": [
    "# Построим распределение продаж по годам \n",
    "# для каждой из 10 самых успешных платформ.\n",
    "data_top_10_platforms = data.loc[\n",
    "    data['platform'].isin(top_10_list)\n",
    "]\n",
    "top_10_platforms_by_year = data_top_10_platforms.pivot_table(\n",
    "    index='year_of_release', \n",
    "    columns='platform', \n",
    "    values='sales_total', \n",
    "    aggfunc='sum'\n",
    ")\n",
    "display(top_10_platforms_by_year)\n",
    "top_10_platforms_by_year.plot(\n",
    "    kind='bar', \n",
    "    grid=True,\n",
    "    figsize=(30,5)\n",
    ")\n",
    "plt.title('Столбчатая диаграмма количества продаж' + \n",
    "          ' на Топ-10 платформах по годам')\n",
    "plt.xlabel('Годы')\n",
    "plt.ylabel('Млн проданных копий')\n",
    "plt.show()"
   ]
  },
  {
   "cell_type": "markdown",
   "metadata": {},
   "source": [
    "### Промежуточный вывод № 1"
   ]
  },
  {
   "cell_type": "markdown",
   "metadata": {},
   "source": [
    "1. Мы проанализировали количество выпущенных игр по годам. Получилось скошенное влево нормальное распределение. Начиная с 1980 года по 1992 количество выпущенных игр держалось в среднем на одном уровне, и, начиная с 1993 года, в среднем неуклонно росло вплоть до 2008 года (максимальное значение составило 1427 игр). После 2008 года количество выпускаемых игр начало снижаться. Можно предположить, что количество игр упало из-за развития многопользовательских онлайн режимов существующих игр, в связи с чем, вероятно, отпала потребность в регулярном частом выпуске игр.  \n",
    "Данные за все периоды важны для выявления закономерности выпуска новых консолей, а также для расчета предположительной продолжительности \"коммерческой жизни\" игровой платформы.\n",
    "2. Мы рассмотрели список количества проданных игр по консолям, и составили рейтинг из Топ-10 коммерческих успешных платформ. В него вошли (в порядке убывания):\n",
    "  1. PS2\n",
    "  2. X360\n",
    "  3. PS3\n",
    "  4. Wii\n",
    "  5. DS\n",
    "  6. PS\n",
    "  7. GBA\n",
    "  8. PS4\n",
    "  9. PSP\n",
    "  10. PC\n",
    "3. Мы построили столбчатую диаграмму количества проданных игр на консолях из нашего рейтинга Топ-6 и рассмотрели данное распределение в разбивке по годам. Мы выявили:\n",
    "  * Игры на PS продавались с 1994 по 2003 год (**10 лет**)\n",
    "  * Игры на PS2 продавались с 2000 по 2011 год (**12 лет**)\n",
    "  * Игры на DS продавались с 2004 по 2013 год (**10 лет**)\n",
    "  * Игры на X360 продавались с 2005 по 2016 год (**12 лет**)\n",
    "  * Игры на Wii продавались с 2006 по 2016 год (**11 лет**)\n",
    "  * Игры на PS3 продавались с 2006 по 2016 год (**11 лет**)\n",
    "  * Игры на PC продаются давно, можно сказать, что они были всегда, но существенные продажи были с 2007 по 2016 год (**10 лет**)\n",
    "  * Значительные продажи игры на PSP показали с 2004 по 2013 год (**10 лет**)\n",
    "  * Игры на PS4 начали продаваться в 2013 году. По состоянию на 2016 год эта консоль является лидером по продажам игр, несмотря на пройденный пик в 2015 году\n",
    "  * Игры на GBA продавались с 2001 по 2007 (**6 лет**).\n",
    "\n",
    "**Вывод: можно предположить, что \"коммерческий срок жизни\" игровой платформы составляет в среднем 10 лет.**  \n",
    "  \n",
    "  4. Изучая построенную столбчатую диаграмму можно заметить периодичность выпуска новых игровых платформ.\n",
    "   * PS2 вышла через 7 лет после выхода PS. Продажи на PS прекратились через 4 года после выхода PS2.  \n",
    "   * PS3, как и Wii вышла через 7 лет после выхода PS2. Главный конкурент PS3 X360 вышла на год раньше. Продажи на PS2 прекратились через 6 лет после выхода PS3.\n",
    "   * PS4 вышла через 8 лет после выхода PS3. Продажи на PS3 по состоянию на 2016 год достигли своего минимума (через 4 года после выхода PS4)  \n",
    "   * На рынке портативных консолей чуть-чуть иначе. DS и PSP вышли через 4 года после GBA. Продажи на GBA прекратились через 4 года после выхода DS и PSP.\n",
    "\n",
    "**Вывод: можно предположить, что новые модели платформы появляются каждые 7-8 лет. Также есть основания полагать, что с момента выхода игр на новых платформах до прекращения продаж игр для платформ предыдущего поколения проходит 4 года.**  \n",
    "На основании полученных выводов нам предстоит выбрать актуальный период, на основании которого мы будем планировать рекламную компанию на 2017 год.  \n",
    "**В качестве актуального периода мы выбираем период с 2013 по 2016 гг. по следующим причинам:**\n",
    " 1. После существенного падения продаж игр в период с 2009 по 2012 гг. мы наблюдаем стабилизацию количества продаваемых копий игр. В среднем продается 558 млн копий игр в период с 2013 по 2016 гг.\n",
    " 2. В 2013 году на рынок поступили флагманские модели игровых платформ от лидирующих производителей Sony и Microsoft: PS4 и Xbox One соответственно. Это значит, что именно с 2013 года предположительно начинается новый 10-летний цикл продаж игр для этих платформ. Также это значит, что через 7 лет, в 2020 году, предположительно будут выпущены платформы нового поколения (*примечание автора проекта: к слову, в 2020 году действительно вышли платформы нового поколения PS5 и Xbox Series X*)"
   ]
  },
  {
   "cell_type": "code",
   "execution_count": 12,
   "metadata": {},
   "outputs": [
    {
     "data": {
      "text/html": [
       "<div>\n",
       "<style scoped>\n",
       "    .dataframe tbody tr th:only-of-type {\n",
       "        vertical-align: middle;\n",
       "    }\n",
       "\n",
       "    .dataframe tbody tr th {\n",
       "        vertical-align: top;\n",
       "    }\n",
       "\n",
       "    .dataframe thead th {\n",
       "        text-align: right;\n",
       "    }\n",
       "</style>\n",
       "<table border=\"1\" class=\"dataframe\">\n",
       "  <thead>\n",
       "    <tr style=\"text-align: right;\">\n",
       "      <th>platform</th>\n",
       "      <th>3DS</th>\n",
       "      <th>DS</th>\n",
       "      <th>PC</th>\n",
       "      <th>PS3</th>\n",
       "      <th>PS4</th>\n",
       "      <th>PSP</th>\n",
       "      <th>PSV</th>\n",
       "      <th>Wii</th>\n",
       "      <th>WiiU</th>\n",
       "      <th>X360</th>\n",
       "      <th>XOne</th>\n",
       "    </tr>\n",
       "    <tr>\n",
       "      <th>year_of_release</th>\n",
       "      <th></th>\n",
       "      <th></th>\n",
       "      <th></th>\n",
       "      <th></th>\n",
       "      <th></th>\n",
       "      <th></th>\n",
       "      <th></th>\n",
       "      <th></th>\n",
       "      <th></th>\n",
       "      <th></th>\n",
       "      <th></th>\n",
       "    </tr>\n",
       "  </thead>\n",
       "  <tbody>\n",
       "    <tr>\n",
       "      <th>2013</th>\n",
       "      <td>56.57</td>\n",
       "      <td>1.54</td>\n",
       "      <td>12.38</td>\n",
       "      <td>113.25</td>\n",
       "      <td>25.99</td>\n",
       "      <td>3.14</td>\n",
       "      <td>10.59</td>\n",
       "      <td>8.59</td>\n",
       "      <td>21.65</td>\n",
       "      <td>88.58</td>\n",
       "      <td>18.96</td>\n",
       "    </tr>\n",
       "    <tr>\n",
       "      <th>2014</th>\n",
       "      <td>43.76</td>\n",
       "      <td>NaN</td>\n",
       "      <td>13.28</td>\n",
       "      <td>47.76</td>\n",
       "      <td>100.00</td>\n",
       "      <td>0.24</td>\n",
       "      <td>11.90</td>\n",
       "      <td>3.75</td>\n",
       "      <td>22.03</td>\n",
       "      <td>34.74</td>\n",
       "      <td>54.07</td>\n",
       "    </tr>\n",
       "    <tr>\n",
       "      <th>2015</th>\n",
       "      <td>27.78</td>\n",
       "      <td>NaN</td>\n",
       "      <td>8.52</td>\n",
       "      <td>16.82</td>\n",
       "      <td>118.90</td>\n",
       "      <td>0.12</td>\n",
       "      <td>6.25</td>\n",
       "      <td>1.14</td>\n",
       "      <td>16.35</td>\n",
       "      <td>11.96</td>\n",
       "      <td>60.14</td>\n",
       "    </tr>\n",
       "    <tr>\n",
       "      <th>2016</th>\n",
       "      <td>15.14</td>\n",
       "      <td>NaN</td>\n",
       "      <td>5.25</td>\n",
       "      <td>3.60</td>\n",
       "      <td>69.25</td>\n",
       "      <td>NaN</td>\n",
       "      <td>4.25</td>\n",
       "      <td>0.18</td>\n",
       "      <td>4.60</td>\n",
       "      <td>1.52</td>\n",
       "      <td>26.15</td>\n",
       "    </tr>\n",
       "  </tbody>\n",
       "</table>\n",
       "</div>"
      ],
      "text/plain": [
       "platform           3DS    DS     PC     PS3     PS4   PSP    PSV   Wii   WiiU  \\\n",
       "year_of_release                                                                 \n",
       "2013             56.57  1.54  12.38  113.25   25.99  3.14  10.59  8.59  21.65   \n",
       "2014             43.76   NaN  13.28   47.76  100.00  0.24  11.90  3.75  22.03   \n",
       "2015             27.78   NaN   8.52   16.82  118.90  0.12   6.25  1.14  16.35   \n",
       "2016             15.14   NaN   5.25    3.60   69.25   NaN   4.25  0.18   4.60   \n",
       "\n",
       "platform          X360   XOne  \n",
       "year_of_release                \n",
       "2013             88.58  18.96  \n",
       "2014             34.74  54.07  \n",
       "2015             11.96  60.14  \n",
       "2016              1.52  26.15  "
      ]
     },
     "metadata": {},
     "output_type": "display_data"
    },
    {
     "data": {
      "image/png": "[encoded data removed]",
      "text/plain": [
       "<Figure size 1080x360 with 1 Axes>"
      ]
     },
     "metadata": {
      "needs_background": "light"
     },
     "output_type": "display_data"
    }
   ],
   "source": [
    "# Возьмем срез данных с 2013 по 2016 года.\n",
    "data_actual = data.loc[\n",
    "    data['year_of_release'] >= 2013\n",
    "].reset_index(drop=True)\n",
    "# В столбце year_of_release пропусков больше нет. \n",
    "# Переведем его формат в int.\n",
    "data_actual['year_of_release'] = data_actual[\n",
    "    'year_of_release'\n",
    "].astype(int)\n",
    "# Выясним, какие платформы лидируют по продажам, растут или падают.\n",
    "data_actual_by_platform = data_actual.pivot_table(\n",
    "    index='year_of_release', \n",
    "    columns='platform', \n",
    "    values='sales_total', \n",
    "    aggfunc='sum'\n",
    ")\n",
    "display(data_actual_by_platform)\n",
    "data_actual_by_platform.plot(\n",
    "    kind='bar', grid=True,\n",
    "figsize=(15,5))\n",
    "plt.title('Столбчатая диаграмма количества продаж' +\n",
    "          ' на всех платформах с 2013 по 2016 гг.')\n",
    "plt.xlabel('Годы')\n",
    "plt.ylabel('Млн проданных копий')\n",
    "plt.show()"
   ]
  },
  {
   "cell_type": "markdown",
   "metadata": {},
   "source": [
    "### Промежуточный вывод № 2"
   ]
  },
  {
   "cell_type": "markdown",
   "metadata": {},
   "source": [
    "Мы рассмотрели уровни продаж всех платформ в период с 2013 по 2016 гг. Опишем динамику.\n",
    "* **3DS**. В 2013 году эта консоль занимала 3 место по объему продаж. К 2016 году уровень продаж стабильно падал, и в 2016 году достиг минимального значения. В 2016 году консоль по-прежнему занимает **3 место** по объему продаж.\n",
    "* **DS**. В 2013 году зафиксированы последние продажи игр для данной консоли.\n",
    "* **PC**. Такое ощущение, что игры для PC будут производиться в небольшом количестве, но всегда. В 2013-2014 гг. уровень продаж примерно на одном уровне и занимает 7 место. При этом в 2016 году объем продаж игр для PC занял, как ни странно, **4 место**.\n",
    "* **PS3**. PS3 была лидером продаж игр в 2013 году, и постепенно к 2016 году опустилась на предпоследнее место. Ничего удивительного. В 2013 году на рынок вышла PS4.\n",
    "* **PSP**. 2013 год - последний, когда было продано свыше миллиона копий игр для PSP. В 2014 и 2015 было продано 240 и 120 тысяч копий, а к 2016 году продажи прекратились.\n",
    "* **PSV**. В 2013-2014 гг. Игры для PSV отметились относительно невысокими продажами. С годами они падали, и в 2016 году PSV занимает 6 место по продажам копий игр.\n",
    "* **Wii**. Начиная с 2013 года продажи игр для Wii неуклонно падают. В 2016 году данная платформа занимает последнее место по продажам копий игр.\n",
    "* **X360**. В 2013 году Xbox 360 занимала 2 место по продажам игр. С каждым годом продажи падали и к 2016 году данная платформа занимает предпоследнее место.\n",
    "* **XOne**. В 2013 году на рынок вышла Xbox One, и вплоть до 2015 года продажи игр росли. В 2016 году продажи упали, правда платформа занимает **2 место**.\n",
    "* **PS4**. В 2013 году на рынок вышла PS4, и вплоть до 2015 года продажи игр росли. В 2016 году продажи упали, но платформа уверенно занимает **1 место**.  \n",
    "  \n",
    "**Вывод**: На основе графика выберем несколько потенциально прибыльных платформ. Ими будут:\n",
    "* PS4\n",
    "* XOne\n",
    "* 3DS  \n",
    "  \n",
    "  **Учитывая выявленные ранее закономерности, в 2017 году эти платформы будут в тройке лидеров по продажам игр. Мы предлагаем сфокусироваться именно на них.**"
   ]
  },
  {
   "cell_type": "code",
   "execution_count": 13,
   "metadata": {
    "scrolled": false
   },
   "outputs": [
    {
     "data": {
      "text/html": [
       "<div>\n",
       "<style scoped>\n",
       "    .dataframe tbody tr th:only-of-type {\n",
       "        vertical-align: middle;\n",
       "    }\n",
       "\n",
       "    .dataframe tbody tr th {\n",
       "        vertical-align: top;\n",
       "    }\n",
       "\n",
       "    .dataframe thead th {\n",
       "        text-align: right;\n",
       "    }\n",
       "</style>\n",
       "<table border=\"1\" class=\"dataframe\">\n",
       "  <thead>\n",
       "    <tr style=\"text-align: right;\">\n",
       "      <th></th>\n",
       "      <th>name</th>\n",
       "      <th>platform</th>\n",
       "      <th>year_of_release</th>\n",
       "      <th>genre</th>\n",
       "      <th>na_sales</th>\n",
       "      <th>eu_sales</th>\n",
       "      <th>jp_sales</th>\n",
       "      <th>other_sales</th>\n",
       "      <th>critic_score</th>\n",
       "      <th>user_score</th>\n",
       "      <th>rating</th>\n",
       "      <th>sales_total</th>\n",
       "    </tr>\n",
       "  </thead>\n",
       "  <tbody>\n",
       "    <tr>\n",
       "      <th>2</th>\n",
       "      <td>Call of Duty: Black Ops 3</td>\n",
       "      <td>PS4</td>\n",
       "      <td>2015</td>\n",
       "      <td>Shooter</td>\n",
       "      <td>6.03</td>\n",
       "      <td>5.86</td>\n",
       "      <td>0.36</td>\n",
       "      <td>2.38</td>\n",
       "      <td>NaN</td>\n",
       "      <td>NaN</td>\n",
       "      <td>NaN</td>\n",
       "      <td>14.63</td>\n",
       "    </tr>\n",
       "    <tr>\n",
       "      <th>3</th>\n",
       "      <td>Pokemon X/Pokemon Y</td>\n",
       "      <td>3DS</td>\n",
       "      <td>2013</td>\n",
       "      <td>Role-Playing</td>\n",
       "      <td>5.28</td>\n",
       "      <td>4.19</td>\n",
       "      <td>4.35</td>\n",
       "      <td>0.78</td>\n",
       "      <td>NaN</td>\n",
       "      <td>NaN</td>\n",
       "      <td>NaN</td>\n",
       "      <td>14.60</td>\n",
       "    </tr>\n",
       "    <tr>\n",
       "      <th>4</th>\n",
       "      <td>Grand Theft Auto V</td>\n",
       "      <td>PS4</td>\n",
       "      <td>2014</td>\n",
       "      <td>Action</td>\n",
       "      <td>3.96</td>\n",
       "      <td>6.31</td>\n",
       "      <td>0.38</td>\n",
       "      <td>1.97</td>\n",
       "      <td>97.0</td>\n",
       "      <td>8.3</td>\n",
       "      <td>M</td>\n",
       "      <td>12.62</td>\n",
       "    </tr>\n",
       "    <tr>\n",
       "      <th>5</th>\n",
       "      <td>Pokemon Omega Ruby/Pokemon Alpha Sapphire</td>\n",
       "      <td>3DS</td>\n",
       "      <td>2014</td>\n",
       "      <td>Role-Playing</td>\n",
       "      <td>4.35</td>\n",
       "      <td>3.49</td>\n",
       "      <td>3.10</td>\n",
       "      <td>0.74</td>\n",
       "      <td>NaN</td>\n",
       "      <td>NaN</td>\n",
       "      <td>NaN</td>\n",
       "      <td>11.68</td>\n",
       "    </tr>\n",
       "    <tr>\n",
       "      <th>9</th>\n",
       "      <td>FIFA 16</td>\n",
       "      <td>PS4</td>\n",
       "      <td>2015</td>\n",
       "      <td>Sports</td>\n",
       "      <td>1.12</td>\n",
       "      <td>6.12</td>\n",
       "      <td>0.06</td>\n",
       "      <td>1.28</td>\n",
       "      <td>82.0</td>\n",
       "      <td>4.3</td>\n",
       "      <td>E</td>\n",
       "      <td>8.58</td>\n",
       "    </tr>\n",
       "    <tr>\n",
       "      <th>...</th>\n",
       "      <td>...</td>\n",
       "      <td>...</td>\n",
       "      <td>...</td>\n",
       "      <td>...</td>\n",
       "      <td>...</td>\n",
       "      <td>...</td>\n",
       "      <td>...</td>\n",
       "      <td>...</td>\n",
       "      <td>...</td>\n",
       "      <td>...</td>\n",
       "      <td>...</td>\n",
       "      <td>...</td>\n",
       "    </tr>\n",
       "    <tr>\n",
       "      <th>2211</th>\n",
       "      <td>Mushi Bugyou</td>\n",
       "      <td>3DS</td>\n",
       "      <td>2013</td>\n",
       "      <td>Action</td>\n",
       "      <td>0.00</td>\n",
       "      <td>0.00</td>\n",
       "      <td>0.01</td>\n",
       "      <td>0.00</td>\n",
       "      <td>NaN</td>\n",
       "      <td>NaN</td>\n",
       "      <td>NaN</td>\n",
       "      <td>0.01</td>\n",
       "    </tr>\n",
       "    <tr>\n",
       "      <th>2215</th>\n",
       "      <td>Prison Architect</td>\n",
       "      <td>XOne</td>\n",
       "      <td>2016</td>\n",
       "      <td>Action</td>\n",
       "      <td>0.01</td>\n",
       "      <td>0.00</td>\n",
       "      <td>0.00</td>\n",
       "      <td>0.00</td>\n",
       "      <td>74.0</td>\n",
       "      <td>6.7</td>\n",
       "      <td>NaN</td>\n",
       "      <td>0.01</td>\n",
       "    </tr>\n",
       "    <tr>\n",
       "      <th>2218</th>\n",
       "      <td>Fujiko F. Fujio Characters: Great Assembly! Sl...</td>\n",
       "      <td>3DS</td>\n",
       "      <td>2014</td>\n",
       "      <td>Action</td>\n",
       "      <td>0.00</td>\n",
       "      <td>0.00</td>\n",
       "      <td>0.01</td>\n",
       "      <td>0.00</td>\n",
       "      <td>NaN</td>\n",
       "      <td>NaN</td>\n",
       "      <td>NaN</td>\n",
       "      <td>0.01</td>\n",
       "    </tr>\n",
       "    <tr>\n",
       "      <th>2219</th>\n",
       "      <td>Metal Gear Solid V: The Definitive Experience</td>\n",
       "      <td>XOne</td>\n",
       "      <td>2016</td>\n",
       "      <td>Action</td>\n",
       "      <td>0.01</td>\n",
       "      <td>0.00</td>\n",
       "      <td>0.00</td>\n",
       "      <td>0.00</td>\n",
       "      <td>NaN</td>\n",
       "      <td>NaN</td>\n",
       "      <td>M</td>\n",
       "      <td>0.01</td>\n",
       "    </tr>\n",
       "    <tr>\n",
       "      <th>2221</th>\n",
       "      <td>Aikatsu Stars! My Special Appeal</td>\n",
       "      <td>3DS</td>\n",
       "      <td>2016</td>\n",
       "      <td>Action</td>\n",
       "      <td>0.00</td>\n",
       "      <td>0.00</td>\n",
       "      <td>0.01</td>\n",
       "      <td>0.00</td>\n",
       "      <td>NaN</td>\n",
       "      <td>NaN</td>\n",
       "      <td>NaN</td>\n",
       "      <td>0.01</td>\n",
       "    </tr>\n",
       "  </tbody>\n",
       "</table>\n",
       "<p>942 rows × 12 columns</p>\n",
       "</div>"
      ],
      "text/plain": [
       "                                                   name platform  \\\n",
       "2                             Call of Duty: Black Ops 3      PS4   \n",
       "3                                   Pokemon X/Pokemon Y      3DS   \n",
       "4                                    Grand Theft Auto V      PS4   \n",
       "5             Pokemon Omega Ruby/Pokemon Alpha Sapphire      3DS   \n",
       "9                                               FIFA 16      PS4   \n",
       "...                                                 ...      ...   \n",
       "2211                                       Mushi Bugyou      3DS   \n",
       "2215                                   Prison Architect     XOne   \n",
       "2218  Fujiko F. Fujio Characters: Great Assembly! Sl...      3DS   \n",
       "2219      Metal Gear Solid V: The Definitive Experience     XOne   \n",
       "2221                   Aikatsu Stars! My Special Appeal      3DS   \n",
       "\n",
       "      year_of_release         genre  na_sales  eu_sales  jp_sales  \\\n",
       "2                2015       Shooter      6.03      5.86      0.36   \n",
       "3                2013  Role-Playing      5.28      4.19      4.35   \n",
       "4                2014        Action      3.96      6.31      0.38   \n",
       "5                2014  Role-Playing      4.35      3.49      3.10   \n",
       "9                2015        Sports      1.12      6.12      0.06   \n",
       "...               ...           ...       ...       ...       ...   \n",
       "2211             2013        Action      0.00      0.00      0.01   \n",
       "2215             2016        Action      0.01      0.00      0.00   \n",
       "2218             2014        Action      0.00      0.00      0.01   \n",
       "2219             2016        Action      0.01      0.00      0.00   \n",
       "2221             2016        Action      0.00      0.00      0.01   \n",
       "\n",
       "      other_sales  critic_score  user_score rating  sales_total  \n",
       "2            2.38           NaN         NaN    NaN        14.63  \n",
       "3            0.78           NaN         NaN    NaN        14.60  \n",
       "4            1.97          97.0         8.3      M        12.62  \n",
       "5            0.74           NaN         NaN    NaN        11.68  \n",
       "9            1.28          82.0         4.3      E         8.58  \n",
       "...           ...           ...         ...    ...          ...  \n",
       "2211         0.00           NaN         NaN    NaN         0.01  \n",
       "2215         0.00          74.0         6.7    NaN         0.01  \n",
       "2218         0.00           NaN         NaN    NaN         0.01  \n",
       "2219         0.00           NaN         NaN      M         0.01  \n",
       "2221         0.00           NaN         NaN    NaN         0.01  \n",
       "\n",
       "[942 rows x 12 columns]"
      ]
     },
     "metadata": {},
     "output_type": "display_data"
    },
    {
     "data": {
      "text/plain": [
       "count    392.000000\n",
       "mean       0.801378\n",
       "std        1.609456\n",
       "min        0.010000\n",
       "25%        0.060000\n",
       "50%        0.200000\n",
       "75%        0.730000\n",
       "max       14.630000\n",
       "Name: sales_total, dtype: float64"
      ]
     },
     "metadata": {},
     "output_type": "display_data"
    },
    {
     "data": {
      "image/png": "[encoded data removed]",
      "text/plain": [
       "<Figure size 1080x360 with 1 Axes>"
      ]
     },
     "metadata": {
      "needs_background": "light"
     },
     "output_type": "display_data"
    },
    {
     "data": {
      "image/png": "[encoded data removed]",
      "text/plain": [
       "<Figure size 1080x360 with 1 Axes>"
      ]
     },
     "metadata": {
      "needs_background": "light"
     },
     "output_type": "display_data"
    },
    {
     "data": {
      "text/plain": [
       "count    247.000000\n",
       "mean       0.645020\n",
       "std        1.036139\n",
       "min        0.010000\n",
       "25%        0.060000\n",
       "50%        0.220000\n",
       "75%        0.685000\n",
       "max        7.390000\n",
       "Name: sales_total, dtype: float64"
      ]
     },
     "metadata": {},
     "output_type": "display_data"
    },
    {
     "data": {
      "image/png": "[encoded data removed]",
      "text/plain": [
       "<Figure size 1080x360 with 1 Axes>"
      ]
     },
     "metadata": {
      "needs_background": "light"
     },
     "output_type": "display_data"
    },
    {
     "data": {
      "image/png": "[encoded data removed]",
      "text/plain": [
       "<Figure size 1080x360 with 1 Axes>"
      ]
     },
     "metadata": {
      "needs_background": "light"
     },
     "output_type": "display_data"
    },
    {
     "data": {
      "text/plain": [
       "count    303.000000\n",
       "mean       0.472772\n",
       "std        1.381347\n",
       "min        0.010000\n",
       "25%        0.040000\n",
       "50%        0.090000\n",
       "75%        0.280000\n",
       "max       14.600000\n",
       "Name: sales_total, dtype: float64"
      ]
     },
     "metadata": {},
     "output_type": "display_data"
    },
    {
     "data": {
      "image/png": "[encoded data removed]",
      "text/plain": [
       "<Figure size 1080x360 with 1 Axes>"
      ]
     },
     "metadata": {
      "needs_background": "light"
     },
     "output_type": "display_data"
    },
    {
     "data": {
      "image/png": "[encoded data removed]",
      "text/plain": [
       "<Figure size 1080x360 with 1 Axes>"
      ]
     },
     "metadata": {
      "needs_background": "light"
     },
     "output_type": "display_data"
    }
   ],
   "source": [
    "# Построим диаграммы размаха по глобальным продажам игр \n",
    "# в разбивке по перспективным платформам.\n",
    "top3_list = ['PS4', 'XOne', '3DS']\n",
    "data_actual_top = data_actual.loc[\n",
    "    data_actual['platform'\n",
    "               ].isin(top3_list)\n",
    "]\n",
    "display(data_actual_top)\n",
    "for platform in top3_list:\n",
    "    display(data_actual_top.loc[\n",
    "        data_actual_top['platform'] == platform, 'sales_total'\n",
    "    ].describe())\n",
    "    data_actual_top.loc[\n",
    "        data_actual_top['platform'] == platform\n",
    "    ].plot(kind='box',\n",
    "           y='sales_total',\n",
    "           grid=True,\n",
    "           figsize=(15,5))\n",
    "    plt.title('Диаграмма размаха данных по столбцу' + \n",
    "              'sales_total для платформы '+ str(platform)\n",
    "             )\n",
    "    plt.show()\n",
    "    data_actual_top.loc[\n",
    "        data_actual_top['platform'] == platform].plot(\n",
    "        kind='hist',\n",
    "        bins=50,\n",
    "        y='sales_total',\n",
    "        grid=True,\n",
    "        figsize=(15,5))\n",
    "    plt.title('Гистограмма разброса данных по столбцу' + \n",
    "              'sales_total для платформы '+ str(platform)\n",
    "             )\n",
    "    plt.xlabel('Млн копий')\n",
    "    plt.ylabel('Частотность')\n",
    "    plt.show()\n"
   ]
  },
  {
   "cell_type": "markdown",
   "metadata": {},
   "source": [
    "### Промежуточный вывод № 3\n",
    "**Изучение глобальных продаж в разбивке по платформам**  \n",
    "* **PS4**  \n",
    "В среднем для PS4 продалось **801 378 копий игр**. **Медианное** значение составило **200 000 копий**. **Минимальное** количество проданных копий игр составило **10 000**. **Максимальное** \t&#8212; **14 630 000**. Оценив диаграмму размаха, а также гистограмму, можно отметить, что имеет место быть распределение Пуассона. От выбросов, отображенных на диаграмме размаха, мы избавляться не станем, так как они отображают реальность.\n",
    "* **XOne**  \n",
    "В среднем для XBox One продалось **645 020 копий игр**. **Медианное** значение составило **220 000 копий**. **Минимальное** количество проданных копий игр составило **10 000**. **Максимальное** \t&#8212; **7 390 000**. Оценив диаграмму размаха, а также гистограмму, можно отметить, что имеет место быть распределение Пуассона. От выбросов, отображенных на диаграмме размаха, мы избавляться не станем, так как они отображают реальность.\n",
    "* **3DS**\n",
    "В среднем для 3DS продалось **472 772 копий игр**. **Медианное** значение составило **90 000 копий**. **Минимальное** количество проданных копий игр составило **10 000**. **Максимальное** \t&#8212; **14 600 000**. Оценив диаграмму размаха, а также гистограмму, можно отметить, что имеет место быть распределение Пуассона. От выбросов, отображенных на диаграмме размаха, мы избавляться не станем, так как они отображают реальность."
   ]
  },
  {
   "cell_type": "code",
   "execution_count": 14,
   "metadata": {},
   "outputs": [
    {
     "data": {
      "text/html": [
       "<div>\n",
       "<style scoped>\n",
       "    .dataframe tbody tr th:only-of-type {\n",
       "        vertical-align: middle;\n",
       "    }\n",
       "\n",
       "    .dataframe tbody tr th {\n",
       "        vertical-align: top;\n",
       "    }\n",
       "\n",
       "    .dataframe thead th {\n",
       "        text-align: right;\n",
       "    }\n",
       "</style>\n",
       "<table border=\"1\" class=\"dataframe\">\n",
       "  <thead>\n",
       "    <tr style=\"text-align: right;\">\n",
       "      <th></th>\n",
       "      <th>sales_total</th>\n",
       "      <th>critic_score</th>\n",
       "      <th>user_score</th>\n",
       "    </tr>\n",
       "  </thead>\n",
       "  <tbody>\n",
       "    <tr>\n",
       "      <th>sales_total</th>\n",
       "      <td>1.00000</td>\n",
       "      <td>0.402080</td>\n",
       "      <td>0.014580</td>\n",
       "    </tr>\n",
       "    <tr>\n",
       "      <th>critic_score</th>\n",
       "      <td>0.40208</td>\n",
       "      <td>1.000000</td>\n",
       "      <td>0.582984</td>\n",
       "    </tr>\n",
       "    <tr>\n",
       "      <th>user_score</th>\n",
       "      <td>0.01458</td>\n",
       "      <td>0.582984</td>\n",
       "      <td>1.000000</td>\n",
       "    </tr>\n",
       "  </tbody>\n",
       "</table>\n",
       "</div>"
      ],
      "text/plain": [
       "              sales_total  critic_score  user_score\n",
       "sales_total       1.00000      0.402080    0.014580\n",
       "critic_score      0.40208      1.000000    0.582984\n",
       "user_score        0.01458      0.582984    1.000000"
      ]
     },
     "metadata": {},
     "output_type": "display_data"
    },
    {
     "data": {
      "image/png": "[encoded data removed]",
      "text/plain": [
       "<Figure size 1080x1080 with 9 Axes>"
      ]
     },
     "metadata": {
      "needs_background": "light"
     },
     "output_type": "display_data"
    }
   ],
   "source": [
    "# Посмотрим, как влияют на продажи внутри платформы PS4 \n",
    "# отзывы пользователей и критиков. \n",
    "# Построим диаграмму рассеяния и посчитаем \n",
    "# корреляцию между отзывами и продажами.\n",
    "# Напишем функцию data_corr.\n",
    "def data_corr(platform):\n",
    "    data_actual_wo_outliers =  data_actual_top.loc[\n",
    "        data_actual_top['sales_total'] <= (data_actual_top[\n",
    "            'sales_total'].mean() + 3 * data_actual_top[\n",
    "            'sales_total'].std()\n",
    "                                          )\n",
    "    ]\n",
    "    pltfrm_data = data_actual_wo_outliers.loc[\n",
    "        data_actual_wo_outliers['platform'] == platform\n",
    "    ]\n",
    "    corr_data = pltfrm_data[[\n",
    "        'sales_total', \n",
    "        'critic_score', \n",
    "        'user_score'\n",
    "    ]]\n",
    "    pd.plotting.scatter_matrix(corr_data, figsize=(15,15))\n",
    "    plt.suptitle('Диаграмма рассеяния данных из столбцов' +\n",
    "                 'sales_total, critic_score, user_score для ' + \n",
    "                 str(platform)\n",
    "                )\n",
    "    display(corr_data.corr())\n",
    "\n",
    "data_corr('PS4')"
   ]
  },
  {
   "cell_type": "markdown",
   "metadata": {},
   "source": [
    "Теперь соотнесем полученные результаты  с продажами игр на других платформах."
   ]
  },
  {
   "cell_type": "code",
   "execution_count": 15,
   "metadata": {
    "scrolled": false
   },
   "outputs": [
    {
     "data": {
      "text/html": [
       "<div>\n",
       "<style scoped>\n",
       "    .dataframe tbody tr th:only-of-type {\n",
       "        vertical-align: middle;\n",
       "    }\n",
       "\n",
       "    .dataframe tbody tr th {\n",
       "        vertical-align: top;\n",
       "    }\n",
       "\n",
       "    .dataframe thead th {\n",
       "        text-align: right;\n",
       "    }\n",
       "</style>\n",
       "<table border=\"1\" class=\"dataframe\">\n",
       "  <thead>\n",
       "    <tr style=\"text-align: right;\">\n",
       "      <th></th>\n",
       "      <th>sales_total</th>\n",
       "      <th>critic_score</th>\n",
       "      <th>user_score</th>\n",
       "    </tr>\n",
       "  </thead>\n",
       "  <tbody>\n",
       "    <tr>\n",
       "      <th>sales_total</th>\n",
       "      <td>1.000000</td>\n",
       "      <td>0.407140</td>\n",
       "      <td>-0.085555</td>\n",
       "    </tr>\n",
       "    <tr>\n",
       "      <th>critic_score</th>\n",
       "      <td>0.407140</td>\n",
       "      <td>1.000000</td>\n",
       "      <td>0.471964</td>\n",
       "    </tr>\n",
       "    <tr>\n",
       "      <th>user_score</th>\n",
       "      <td>-0.085555</td>\n",
       "      <td>0.471964</td>\n",
       "      <td>1.000000</td>\n",
       "    </tr>\n",
       "  </tbody>\n",
       "</table>\n",
       "</div>"
      ],
      "text/plain": [
       "              sales_total  critic_score  user_score\n",
       "sales_total      1.000000      0.407140   -0.085555\n",
       "critic_score     0.407140      1.000000    0.471964\n",
       "user_score      -0.085555      0.471964    1.000000"
      ]
     },
     "metadata": {},
     "output_type": "display_data"
    },
    {
     "data": {
      "image/png": "[encoded data removed]",
      "text/plain": [
       "<Figure size 1080x1080 with 9 Axes>"
      ]
     },
     "metadata": {
      "needs_background": "light"
     },
     "output_type": "display_data"
    }
   ],
   "source": [
    "# Построим диаграмму рассеяния и посчитаем корреляцию \n",
    "# между отзывами и продажами для XOne.\n",
    "data_corr('XOne')"
   ]
  },
  {
   "cell_type": "code",
   "execution_count": 16,
   "metadata": {},
   "outputs": [
    {
     "data": {
      "text/html": [
       "<div>\n",
       "<style scoped>\n",
       "    .dataframe tbody tr th:only-of-type {\n",
       "        vertical-align: middle;\n",
       "    }\n",
       "\n",
       "    .dataframe tbody tr th {\n",
       "        vertical-align: top;\n",
       "    }\n",
       "\n",
       "    .dataframe thead th {\n",
       "        text-align: right;\n",
       "    }\n",
       "</style>\n",
       "<table border=\"1\" class=\"dataframe\">\n",
       "  <thead>\n",
       "    <tr style=\"text-align: right;\">\n",
       "      <th></th>\n",
       "      <th>sales_total</th>\n",
       "      <th>critic_score</th>\n",
       "      <th>user_score</th>\n",
       "    </tr>\n",
       "  </thead>\n",
       "  <tbody>\n",
       "    <tr>\n",
       "      <th>sales_total</th>\n",
       "      <td>1.000000</td>\n",
       "      <td>0.357057</td>\n",
       "      <td>0.241504</td>\n",
       "    </tr>\n",
       "    <tr>\n",
       "      <th>critic_score</th>\n",
       "      <td>0.357057</td>\n",
       "      <td>1.000000</td>\n",
       "      <td>0.769536</td>\n",
       "    </tr>\n",
       "    <tr>\n",
       "      <th>user_score</th>\n",
       "      <td>0.241504</td>\n",
       "      <td>0.769536</td>\n",
       "      <td>1.000000</td>\n",
       "    </tr>\n",
       "  </tbody>\n",
       "</table>\n",
       "</div>"
      ],
      "text/plain": [
       "              sales_total  critic_score  user_score\n",
       "sales_total      1.000000      0.357057    0.241504\n",
       "critic_score     0.357057      1.000000    0.769536\n",
       "user_score       0.241504      0.769536    1.000000"
      ]
     },
     "metadata": {},
     "output_type": "display_data"
    },
    {
     "data": {
      "image/png": "[encoded data removed]",
      "text/plain": [
       "<Figure size 1080x1080 with 9 Axes>"
      ]
     },
     "metadata": {
      "needs_background": "light"
     },
     "output_type": "display_data"
    }
   ],
   "source": [
    "# Построим диаграмму рассеяния и посчитаем корреляцию \n",
    "# между отзывами и продажами для 3DS.\n",
    "data_corr('3DS')"
   ]
  },
  {
   "cell_type": "markdown",
   "metadata": {},
   "source": [
    "### Промежуточный вывод № 4"
   ]
  },
  {
   "cell_type": "markdown",
   "metadata": {},
   "source": [
    "**Анализ влияния оценок пользователей и критиков на продажи**  \n",
    "  \n",
    "**PS4**  \n",
    "Анализ матрицы рассеяния, а также коэффициентов корреляции Пирсона показал:  \n",
    "* Существует прямая связь между объемом продаж игр и оценками критиков. Однако она не слишком сильная.\n",
    "* Связь между объемом продаж игр и оценками пользователей практически отсутствует.\n",
    "* Это не является предметом нашего исследования. Однако любопытно то, что существует прямая связь между оценками критиков и оценками пользователей. Правда она не слишком сильная.  \n",
    "  \n",
    "**XOne**  \n",
    "Анализ матрицы рассеяния, а также коэффициентов корреляции Пирсона показал:  \n",
    "* Существует прямая связь между объемом продаж игр и оценками критиков. Однако она не слишком сильная.\n",
    "* Связь между объемом продаж игр и оценками пользователей практически отсутствует.\n",
    "* Это не является предметом нашего исследования. Однако любопытно то, что существует прямая связь между оценками критиков и оценками пользователей. Правда она не слишком сильная.  \n",
    "  \n",
    "**3DS**  \n",
    "Анализ матрицы рассеяния, а также коэффициентов корреляции Пирсона показал:  \n",
    "* Существует прямая связь между объемом продаж игр и оценками критиков. Однако она не слишком сильная.\n",
    "* Существует незначительная прямая связь между объемом продаж игр и оценками пользователей.\n",
    "\n",
    "**Вывод:**   \n",
    "1. Мы определили, что для PS4 существует прямая связь между объемом продаж игр и оценками критиков. Она не слишком сильная, но она есть, чего не скажешь об оценках пользователей. Связь между объемом продаж игр и оценками пользователей практически отсутствует.\n",
    "2. Проведя анализ влияния оценок пользователей и критиков на продажи игр для XOne, мы отметили схожесть результатов анализа с результатами PS4. Для XOne существует прямая связь между объемом продаж игр и оценками критиков. Она не слишком сильная, но она есть, чего не скажешь об оценках пользователей. Связь между объемом продаж игр и оценками пользователей практически отсутствует.\n",
    "3. Результаты анализа влияния оценок пользователей и критиков на продажи игр для 3DS нас удивили. Помимо умеренной прямой связи объемов продаж с оценками критиков, существует и незначительная прямая связь объемов продаж с оценками пользователей."
   ]
  },
  {
   "cell_type": "code",
   "execution_count": 17,
   "metadata": {},
   "outputs": [
    {
     "data": {
      "text/html": [
       "<div>\n",
       "<style scoped>\n",
       "    .dataframe tbody tr th:only-of-type {\n",
       "        vertical-align: middle;\n",
       "    }\n",
       "\n",
       "    .dataframe tbody tr th {\n",
       "        vertical-align: top;\n",
       "    }\n",
       "\n",
       "    .dataframe thead th {\n",
       "        text-align: right;\n",
       "    }\n",
       "</style>\n",
       "<table border=\"1\" class=\"dataframe\">\n",
       "  <thead>\n",
       "    <tr style=\"text-align: right;\">\n",
       "      <th></th>\n",
       "      <th>games_number</th>\n",
       "      <th>sales_total</th>\n",
       "    </tr>\n",
       "    <tr>\n",
       "      <th>genre</th>\n",
       "      <th></th>\n",
       "      <th></th>\n",
       "    </tr>\n",
       "  </thead>\n",
       "  <tbody>\n",
       "    <tr>\n",
       "      <th>Action</th>\n",
       "      <td>345</td>\n",
       "      <td>167.45</td>\n",
       "    </tr>\n",
       "    <tr>\n",
       "      <th>Shooter</th>\n",
       "      <td>80</td>\n",
       "      <td>148.95</td>\n",
       "    </tr>\n",
       "    <tr>\n",
       "      <th>Role-Playing</th>\n",
       "      <td>127</td>\n",
       "      <td>106.91</td>\n",
       "    </tr>\n",
       "    <tr>\n",
       "      <th>Sports</th>\n",
       "      <td>92</td>\n",
       "      <td>84.17</td>\n",
       "    </tr>\n",
       "    <tr>\n",
       "      <th>Misc</th>\n",
       "      <td>71</td>\n",
       "      <td>22.72</td>\n",
       "    </tr>\n",
       "    <tr>\n",
       "      <th>Racing</th>\n",
       "      <td>39</td>\n",
       "      <td>21.93</td>\n",
       "    </tr>\n",
       "    <tr>\n",
       "      <th>Fighting</th>\n",
       "      <td>32</td>\n",
       "      <td>19.31</td>\n",
       "    </tr>\n",
       "    <tr>\n",
       "      <th>Platform</th>\n",
       "      <td>32</td>\n",
       "      <td>17.41</td>\n",
       "    </tr>\n",
       "    <tr>\n",
       "      <th>Adventure</th>\n",
       "      <td>69</td>\n",
       "      <td>12.35</td>\n",
       "    </tr>\n",
       "    <tr>\n",
       "      <th>Simulation</th>\n",
       "      <td>25</td>\n",
       "      <td>11.45</td>\n",
       "    </tr>\n",
       "    <tr>\n",
       "      <th>Strategy</th>\n",
       "      <td>20</td>\n",
       "      <td>2.31</td>\n",
       "    </tr>\n",
       "    <tr>\n",
       "      <th>Puzzle</th>\n",
       "      <td>10</td>\n",
       "      <td>1.75</td>\n",
       "    </tr>\n",
       "  </tbody>\n",
       "</table>\n",
       "</div>"
      ],
      "text/plain": [
       "              games_number  sales_total\n",
       "genre                                  \n",
       "Action                 345       167.45\n",
       "Shooter                 80       148.95\n",
       "Role-Playing           127       106.91\n",
       "Sports                  92        84.17\n",
       "Misc                    71        22.72\n",
       "Racing                  39        21.93\n",
       "Fighting                32        19.31\n",
       "Platform                32        17.41\n",
       "Adventure               69        12.35\n",
       "Simulation              25        11.45\n",
       "Strategy                20         2.31\n",
       "Puzzle                  10         1.75"
      ]
     },
     "metadata": {},
     "output_type": "display_data"
    }
   ],
   "source": [
    "# Рассмотрим общее распределение игр по жанрам.\n",
    "data_actual_top_by_genre = (\n",
    "    data_actual_top.pivot_table(index='genre', \n",
    "                                values='sales_total', \n",
    "                                aggfunc=['count','sum'])\n",
    ")\n",
    "data_actual_top_by_genre.columns = ['games_number', 'sales_total']\n",
    "display(\n",
    "    data_actual_top_by_genre.sort_values(\n",
    "        'sales_total', ascending=False\n",
    "    )\n",
    ")"
   ]
  },
  {
   "cell_type": "markdown",
   "metadata": {},
   "source": [
    "### Промежуточный вывод № 5"
   ]
  },
  {
   "cell_type": "markdown",
   "metadata": {},
   "source": [
    "1. Анализ распределения игр по жанрам для Топ-3 платформ показал, что больше всего игр в течение актуального периода выпущено для жанра **Action** (345 игр). При этом именно этому жанру принадлежат наибольшее количество продаж &#8212; 167 450 000 копий.\n",
    "2. Второе, третье и четвертое места по количеству продаж заняли **Shooter, Role-Playing и Sports** соответственно.  \n",
    "3. Последние места, как по количеству игр, так и по количеству продаж, заняли жанры **Simulation, Strategy, Puzzle** (11 450 000, 2 310 000, <br>1 750 000 копий игр соответственно). Стоит отметить, что количество продаж игр этих жанров уступает самым популярным жанрам в десятки раз.  \n",
    "4. Мы можем только заметить, что \"жанры-чемпионы\" (**Action**, **Shooter, Role-Playing и Sports**) &#8212; это жанры, в которых победа над противником обеспечивается благодаря физическому превосходству, например, лучшим прицеливанием или меньшем временем реакции. Также большую роль играют координация глаз и рук. Обычно игрок находится под давлением, и у него нет времени на вдумчивое планирование действий.  \n",
    "\"Жанры-аутсайдеры\" (**Simulation, Strategy, Puzzle**) &#8212; это жанры игр, где необходимо применять стратегическое мышление, играть не за конкретного персонажа, а за их условные массы, к примеру, руководить строительством города или командовать целыми армиями в военных кампаниях."
   ]
  },
  {
   "cell_type": "markdown",
   "metadata": {},
   "source": [
    "### Вывод"
   ]
  },
  {
   "cell_type": "markdown",
   "metadata": {},
   "source": [
    "1. Нами было выявлено, что, вероятно, \"коммерческий срок жизни\" игровой платформы составляет в среднем 10 лет.\n",
    "2. Мы выявили, что новые модели платформы появляются каждые 7-8 лет. Также есть основания полагать, что с момента выхода игр на новых платформах до прекращения продаж игр для платформ предыдущего поколения проходит 4 года.\n",
    "3. В качестве актуального периода для анализа мы выбрали период с 2013 по 2016 гг., так как опираясь на этот относительно стабильный период, можно сделать прогноз на 2017 год. Также в 2013 году на рынок вышли PS4 и Xbox One, сделав рынок более прогнозируемым на ближайшие 7 лет.  \n",
    "4. Мы выбрали тройку потенциально прибыльных платформ: PS4, XOne, 3DS.\n",
    "5. Мы изучили распределение данных продаж игр трех потенциально прибыльных платформ. Оно имеет характер распределения Пуассона.\n",
    "6. Мы определили, что для PS4 и XOne существует прямая связь между объемом продаж игр и оценками критиков. Она не слишком сильная, но она есть, чего не скажешь об оценках пользователей. Связь между объемом продаж игр и оценками пользователей практически отсутствует. Результаты анализа влияния оценок пользователей и критиков на продажи игр для 3DS нас удивили. Помимо умеренной прямой связи объемов продаж с оценками критиков, существует и незначительная прямая связь объемов продаж с оценками пользователей.\n",
    "7. Мы выяснили, что больше всего игр в течение актуального периода выпущено для жанров **Action**, **Shooter, Role-Playing и Sports**. Эти жанры отличает наличие одного героя, а также способ обеспечения победы: физическое превосходство, координация глаз и рук. Последние места, как по количеству игр, так и по количеству продаж, заняли жанры **Simulation, Strategy, Puzzle**. Это жанры игр, где необходимо применять стратегическое мышление, играть не за конкретного персонажа, а за их условные массы, руководить ими."
   ]
  },
  {
   "cell_type": "markdown",
   "metadata": {},
   "source": [
    "## Составление информационного портрета пользователя каждого региона"
   ]
  },
  {
   "cell_type": "code",
   "execution_count": 18,
   "metadata": {},
   "outputs": [
    {
     "data": {
      "text/html": [
       "<div>\n",
       "<style scoped>\n",
       "    .dataframe tbody tr th:only-of-type {\n",
       "        vertical-align: middle;\n",
       "    }\n",
       "\n",
       "    .dataframe tbody tr th {\n",
       "        vertical-align: top;\n",
       "    }\n",
       "\n",
       "    .dataframe thead th {\n",
       "        text-align: right;\n",
       "    }\n",
       "</style>\n",
       "<table border=\"1\" class=\"dataframe\">\n",
       "  <thead>\n",
       "    <tr style=\"text-align: right;\">\n",
       "      <th></th>\n",
       "      <th>platform</th>\n",
       "      <th>eu_sales</th>\n",
       "      <th>jp_sales</th>\n",
       "      <th>na_sales</th>\n",
       "    </tr>\n",
       "  </thead>\n",
       "  <tbody>\n",
       "    <tr>\n",
       "      <th>0</th>\n",
       "      <td>3DS</td>\n",
       "      <td>30.96</td>\n",
       "      <td>67.81</td>\n",
       "      <td>38.20</td>\n",
       "    </tr>\n",
       "    <tr>\n",
       "      <th>1</th>\n",
       "      <td>DS</td>\n",
       "      <td>0.85</td>\n",
       "      <td>0.00</td>\n",
       "      <td>0.57</td>\n",
       "    </tr>\n",
       "    <tr>\n",
       "      <th>2</th>\n",
       "      <td>PC</td>\n",
       "      <td>25.36</td>\n",
       "      <td>0.00</td>\n",
       "      <td>11.11</td>\n",
       "    </tr>\n",
       "    <tr>\n",
       "      <th>3</th>\n",
       "      <td>PS3</td>\n",
       "      <td>67.81</td>\n",
       "      <td>23.35</td>\n",
       "      <td>63.50</td>\n",
       "    </tr>\n",
       "    <tr>\n",
       "      <th>4</th>\n",
       "      <td>PS4</td>\n",
       "      <td>141.09</td>\n",
       "      <td>15.96</td>\n",
       "      <td>108.74</td>\n",
       "    </tr>\n",
       "    <tr>\n",
       "      <th>5</th>\n",
       "      <td>PSP</td>\n",
       "      <td>0.17</td>\n",
       "      <td>3.29</td>\n",
       "      <td>0.00</td>\n",
       "    </tr>\n",
       "    <tr>\n",
       "      <th>6</th>\n",
       "      <td>PSV</td>\n",
       "      <td>6.10</td>\n",
       "      <td>18.59</td>\n",
       "      <td>5.04</td>\n",
       "    </tr>\n",
       "    <tr>\n",
       "      <th>7</th>\n",
       "      <td>Wii</td>\n",
       "      <td>5.93</td>\n",
       "      <td>0.05</td>\n",
       "      <td>6.56</td>\n",
       "    </tr>\n",
       "    <tr>\n",
       "      <th>8</th>\n",
       "      <td>WiiU</td>\n",
       "      <td>19.85</td>\n",
       "      <td>10.88</td>\n",
       "      <td>29.21</td>\n",
       "    </tr>\n",
       "    <tr>\n",
       "      <th>9</th>\n",
       "      <td>X360</td>\n",
       "      <td>42.52</td>\n",
       "      <td>0.51</td>\n",
       "      <td>81.66</td>\n",
       "    </tr>\n",
       "    <tr>\n",
       "      <th>10</th>\n",
       "      <td>XOne</td>\n",
       "      <td>51.59</td>\n",
       "      <td>0.34</td>\n",
       "      <td>93.12</td>\n",
       "    </tr>\n",
       "  </tbody>\n",
       "</table>\n",
       "</div>"
      ],
      "text/plain": [
       "   platform  eu_sales  jp_sales  na_sales\n",
       "0       3DS     30.96     67.81     38.20\n",
       "1        DS      0.85      0.00      0.57\n",
       "2        PC     25.36      0.00     11.11\n",
       "3       PS3     67.81     23.35     63.50\n",
       "4       PS4    141.09     15.96    108.74\n",
       "5       PSP      0.17      3.29      0.00\n",
       "6       PSV      6.10     18.59      5.04\n",
       "7       Wii      5.93      0.05      6.56\n",
       "8      WiiU     19.85     10.88     29.21\n",
       "9      X360     42.52      0.51     81.66\n",
       "10     XOne     51.59      0.34     93.12"
      ]
     },
     "metadata": {},
     "output_type": "display_data"
    }
   ],
   "source": [
    "# Определим Топ-5 популярных платформ для трех регионов: \n",
    "# Северная Америка, Европа, Япония.\n",
    "top_platforms = data_actual.pivot_table(\n",
    "    index='platform', \n",
    "    values=[\n",
    "        'na_sales',\n",
    "        'eu_sales', \n",
    "        'jp_sales'\n",
    "    ], \n",
    "    aggfunc='sum'\n",
    ").reset_index()\n",
    "# Будем работать с этой таблицей.\n",
    "display(top_platforms)"
   ]
  },
  {
   "cell_type": "code",
   "execution_count": 19,
   "metadata": {},
   "outputs": [],
   "source": [
    "# Напишем программу для определения Топ-5 \n",
    "# платформ и их долей продаж.\n",
    "def top_platform(region_column):\n",
    "    top5 = top_platforms[\n",
    "        ['platform', region_column]\n",
    "    ].sort_values(\n",
    "        by=region_column, \n",
    "        ascending=False).reset_index(drop=True).loc[:4]\n",
    "    top5.loc[5, region_column] = top5[region_column].sum()\n",
    "    top5.rename(index={5: 'total'}, inplace=True)\n",
    "    top5['share ' + str(region_column)] = (\n",
    "        top5[region_column] / top5.loc['total', region_column]\n",
    "    )\n",
    "    top5['platform'] = top5['platform'].fillna('-')\n",
    "    display(top5)"
   ]
  },
  {
   "cell_type": "code",
   "execution_count": 20,
   "metadata": {},
   "outputs": [
    {
     "data": {
      "text/html": [
       "<div>\n",
       "<style scoped>\n",
       "    .dataframe tbody tr th:only-of-type {\n",
       "        vertical-align: middle;\n",
       "    }\n",
       "\n",
       "    .dataframe tbody tr th {\n",
       "        vertical-align: top;\n",
       "    }\n",
       "\n",
       "    .dataframe thead th {\n",
       "        text-align: right;\n",
       "    }\n",
       "</style>\n",
       "<table border=\"1\" class=\"dataframe\">\n",
       "  <thead>\n",
       "    <tr style=\"text-align: right;\">\n",
       "      <th></th>\n",
       "      <th>platform</th>\n",
       "      <th>na_sales</th>\n",
       "      <th>share na_sales</th>\n",
       "    </tr>\n",
       "  </thead>\n",
       "  <tbody>\n",
       "    <tr>\n",
       "      <th>0</th>\n",
       "      <td>PS4</td>\n",
       "      <td>108.74</td>\n",
       "      <td>0.282280</td>\n",
       "    </tr>\n",
       "    <tr>\n",
       "      <th>1</th>\n",
       "      <td>XOne</td>\n",
       "      <td>93.12</td>\n",
       "      <td>0.241732</td>\n",
       "    </tr>\n",
       "    <tr>\n",
       "      <th>2</th>\n",
       "      <td>X360</td>\n",
       "      <td>81.66</td>\n",
       "      <td>0.211983</td>\n",
       "    </tr>\n",
       "    <tr>\n",
       "      <th>3</th>\n",
       "      <td>PS3</td>\n",
       "      <td>63.50</td>\n",
       "      <td>0.164841</td>\n",
       "    </tr>\n",
       "    <tr>\n",
       "      <th>4</th>\n",
       "      <td>3DS</td>\n",
       "      <td>38.20</td>\n",
       "      <td>0.099164</td>\n",
       "    </tr>\n",
       "    <tr>\n",
       "      <th>total</th>\n",
       "      <td>-</td>\n",
       "      <td>385.22</td>\n",
       "      <td>1.000000</td>\n",
       "    </tr>\n",
       "  </tbody>\n",
       "</table>\n",
       "</div>"
      ],
      "text/plain": [
       "      platform  na_sales  share na_sales\n",
       "0          PS4    108.74        0.282280\n",
       "1         XOne     93.12        0.241732\n",
       "2         X360     81.66        0.211983\n",
       "3          PS3     63.50        0.164841\n",
       "4          3DS     38.20        0.099164\n",
       "total        -    385.22        1.000000"
      ]
     },
     "metadata": {},
     "output_type": "display_data"
    }
   ],
   "source": [
    "# Определим Топ-5 платформ и их доли продаж. Начнем с Северной Америки.\n",
    "top_platform('na_sales')"
   ]
  },
  {
   "cell_type": "code",
   "execution_count": 21,
   "metadata": {},
   "outputs": [
    {
     "data": {
      "text/html": [
       "<div>\n",
       "<style scoped>\n",
       "    .dataframe tbody tr th:only-of-type {\n",
       "        vertical-align: middle;\n",
       "    }\n",
       "\n",
       "    .dataframe tbody tr th {\n",
       "        vertical-align: top;\n",
       "    }\n",
       "\n",
       "    .dataframe thead th {\n",
       "        text-align: right;\n",
       "    }\n",
       "</style>\n",
       "<table border=\"1\" class=\"dataframe\">\n",
       "  <thead>\n",
       "    <tr style=\"text-align: right;\">\n",
       "      <th></th>\n",
       "      <th>platform</th>\n",
       "      <th>eu_sales</th>\n",
       "      <th>share eu_sales</th>\n",
       "    </tr>\n",
       "  </thead>\n",
       "  <tbody>\n",
       "    <tr>\n",
       "      <th>0</th>\n",
       "      <td>PS4</td>\n",
       "      <td>141.09</td>\n",
       "      <td>0.422463</td>\n",
       "    </tr>\n",
       "    <tr>\n",
       "      <th>1</th>\n",
       "      <td>PS3</td>\n",
       "      <td>67.81</td>\n",
       "      <td>0.203042</td>\n",
       "    </tr>\n",
       "    <tr>\n",
       "      <th>2</th>\n",
       "      <td>XOne</td>\n",
       "      <td>51.59</td>\n",
       "      <td>0.154475</td>\n",
       "    </tr>\n",
       "    <tr>\n",
       "      <th>3</th>\n",
       "      <td>X360</td>\n",
       "      <td>42.52</td>\n",
       "      <td>0.127317</td>\n",
       "    </tr>\n",
       "    <tr>\n",
       "      <th>4</th>\n",
       "      <td>3DS</td>\n",
       "      <td>30.96</td>\n",
       "      <td>0.092703</td>\n",
       "    </tr>\n",
       "    <tr>\n",
       "      <th>total</th>\n",
       "      <td>-</td>\n",
       "      <td>333.97</td>\n",
       "      <td>1.000000</td>\n",
       "    </tr>\n",
       "  </tbody>\n",
       "</table>\n",
       "</div>"
      ],
      "text/plain": [
       "      platform  eu_sales  share eu_sales\n",
       "0          PS4    141.09        0.422463\n",
       "1          PS3     67.81        0.203042\n",
       "2         XOne     51.59        0.154475\n",
       "3         X360     42.52        0.127317\n",
       "4          3DS     30.96        0.092703\n",
       "total        -    333.97        1.000000"
      ]
     },
     "metadata": {},
     "output_type": "display_data"
    }
   ],
   "source": [
    "# Определим Топ-5 платформ Европы и их доли продаж.\n",
    "top_platform('eu_sales')"
   ]
  },
  {
   "cell_type": "code",
   "execution_count": 22,
   "metadata": {},
   "outputs": [
    {
     "data": {
      "text/html": [
       "<div>\n",
       "<style scoped>\n",
       "    .dataframe tbody tr th:only-of-type {\n",
       "        vertical-align: middle;\n",
       "    }\n",
       "\n",
       "    .dataframe tbody tr th {\n",
       "        vertical-align: top;\n",
       "    }\n",
       "\n",
       "    .dataframe thead th {\n",
       "        text-align: right;\n",
       "    }\n",
       "</style>\n",
       "<table border=\"1\" class=\"dataframe\">\n",
       "  <thead>\n",
       "    <tr style=\"text-align: right;\">\n",
       "      <th></th>\n",
       "      <th>platform</th>\n",
       "      <th>jp_sales</th>\n",
       "      <th>share jp_sales</th>\n",
       "    </tr>\n",
       "  </thead>\n",
       "  <tbody>\n",
       "    <tr>\n",
       "      <th>0</th>\n",
       "      <td>3DS</td>\n",
       "      <td>67.81</td>\n",
       "      <td>0.496449</td>\n",
       "    </tr>\n",
       "    <tr>\n",
       "      <th>1</th>\n",
       "      <td>PS3</td>\n",
       "      <td>23.35</td>\n",
       "      <td>0.170950</td>\n",
       "    </tr>\n",
       "    <tr>\n",
       "      <th>2</th>\n",
       "      <td>PSV</td>\n",
       "      <td>18.59</td>\n",
       "      <td>0.136101</td>\n",
       "    </tr>\n",
       "    <tr>\n",
       "      <th>3</th>\n",
       "      <td>PS4</td>\n",
       "      <td>15.96</td>\n",
       "      <td>0.116846</td>\n",
       "    </tr>\n",
       "    <tr>\n",
       "      <th>4</th>\n",
       "      <td>WiiU</td>\n",
       "      <td>10.88</td>\n",
       "      <td>0.079654</td>\n",
       "    </tr>\n",
       "    <tr>\n",
       "      <th>total</th>\n",
       "      <td>-</td>\n",
       "      <td>136.59</td>\n",
       "      <td>1.000000</td>\n",
       "    </tr>\n",
       "  </tbody>\n",
       "</table>\n",
       "</div>"
      ],
      "text/plain": [
       "      platform  jp_sales  share jp_sales\n",
       "0          3DS     67.81        0.496449\n",
       "1          PS3     23.35        0.170950\n",
       "2          PSV     18.59        0.136101\n",
       "3          PS4     15.96        0.116846\n",
       "4         WiiU     10.88        0.079654\n",
       "total        -    136.59        1.000000"
      ]
     },
     "metadata": {},
     "output_type": "display_data"
    }
   ],
   "source": [
    "# Определим Топ-5 платформ Японии и их доли продаж.\n",
    "top_platform('jp_sales')"
   ]
  },
  {
   "cell_type": "markdown",
   "metadata": {},
   "source": [
    "### Промежуточный вывод № 1"
   ]
  },
  {
   "cell_type": "markdown",
   "metadata": {},
   "source": [
    "**Северная Америка**  \n",
    "Топ-5 платформ:\n",
    "* PS4, 108 740 000 копий. 28,2 %\n",
    "* XOne, 93 120 000 копий. 24,2 %\n",
    "* X360, 81 660 000 копий. 21,2 %\n",
    "* PS3, 63 500 000 копий. 16,5 %\n",
    "* 3DS, 38 200 000 копий. 9,9 %  \n",
    "  \n",
    "**Европа**  \n",
    "Топ-5 платформ:\n",
    "* PS4, 141 090 000 копий. 42,2 %\n",
    "* PS3, 67 810 000 копий. 20,3 %\n",
    "* XOne, 51 590 000 копий. 15,4 %\n",
    "* X360, 42 520 000 копий. 12,7 %\n",
    "* 3DS, 30 960 000 копий. 9,4 %  \n",
    "  \n",
    "**Япония**  \n",
    "Топ-5 платформ:\n",
    "* 3DS, 67 810 000 копий. 49,6 %\n",
    "* PS3, 23 350 000 копий. 17,1 %\n",
    "* PSV, 18 590 000 копий. 13,6 %\n",
    "* PS4, 15 960 000 копий. 11,7 %\n",
    "* WiiU, 10 880 000 копий. 8,0 %  \n",
    "  \n",
    "**Отличия в долях продаж**\n",
    "1. Для Северной Америки характерно довольно-таки равномерное, \"спокойное\" распределение долей продаж игр по платформам. Явно доминирующей платформы нет. Доли первых трех мест составили 28,2 %, 24,2 %, 21,2 % (PS4, XOne, X360 соответственно). Доли четвертого и пятого места составили 16,5 % и 9,9 % (PS3, 3DS соответственно).\n",
    "2. В Европе образовался лидер, и это PS4. При количестве продаж 141 090 000 копий, доля этой платформы составляет 42,2 %. Второе место у PS3 с долей 20,3 %. Места с третьего по пятое расположились относительно равномерно: 15,4 %, 12,7 %, 9,4 % (XOne, X360, 3DS соответственно).  \n",
    "3. В Японии есть явный, доминирующий лидер. Практически каждая вторая игра была куплена для платформы 3DS (67 810 000 копий с долей 49,6 %). Места со 2 по 5 расположились относительно равномерно: 17,1 %, 13,6 %, 11,7 %, 8 % (PS3, PSV, PS4, WiiU соответственно).  "
   ]
  },
  {
   "cell_type": "code",
   "execution_count": 23,
   "metadata": {},
   "outputs": [
    {
     "data": {
      "text/html": [
       "<div>\n",
       "<style scoped>\n",
       "    .dataframe tbody tr th:only-of-type {\n",
       "        vertical-align: middle;\n",
       "    }\n",
       "\n",
       "    .dataframe tbody tr th {\n",
       "        vertical-align: top;\n",
       "    }\n",
       "\n",
       "    .dataframe thead th {\n",
       "        text-align: right;\n",
       "    }\n",
       "</style>\n",
       "<table border=\"1\" class=\"dataframe\">\n",
       "  <thead>\n",
       "    <tr style=\"text-align: right;\">\n",
       "      <th></th>\n",
       "      <th>genre</th>\n",
       "      <th>eu_sales</th>\n",
       "      <th>jp_sales</th>\n",
       "      <th>na_sales</th>\n",
       "    </tr>\n",
       "  </thead>\n",
       "  <tbody>\n",
       "    <tr>\n",
       "      <th>0</th>\n",
       "      <td>Action</td>\n",
       "      <td>118.13</td>\n",
       "      <td>40.49</td>\n",
       "      <td>126.05</td>\n",
       "    </tr>\n",
       "    <tr>\n",
       "      <th>1</th>\n",
       "      <td>Adventure</td>\n",
       "      <td>8.25</td>\n",
       "      <td>5.82</td>\n",
       "      <td>7.14</td>\n",
       "    </tr>\n",
       "    <tr>\n",
       "      <th>2</th>\n",
       "      <td>Fighting</td>\n",
       "      <td>8.55</td>\n",
       "      <td>7.65</td>\n",
       "      <td>15.55</td>\n",
       "    </tr>\n",
       "    <tr>\n",
       "      <th>3</th>\n",
       "      <td>Misc</td>\n",
       "      <td>20.04</td>\n",
       "      <td>9.20</td>\n",
       "      <td>27.49</td>\n",
       "    </tr>\n",
       "    <tr>\n",
       "      <th>4</th>\n",
       "      <td>Platform</td>\n",
       "      <td>15.58</td>\n",
       "      <td>4.79</td>\n",
       "      <td>18.14</td>\n",
       "    </tr>\n",
       "    <tr>\n",
       "      <th>5</th>\n",
       "      <td>Puzzle</td>\n",
       "      <td>1.00</td>\n",
       "      <td>1.18</td>\n",
       "      <td>0.83</td>\n",
       "    </tr>\n",
       "    <tr>\n",
       "      <th>6</th>\n",
       "      <td>Racing</td>\n",
       "      <td>20.19</td>\n",
       "      <td>2.30</td>\n",
       "      <td>12.96</td>\n",
       "    </tr>\n",
       "    <tr>\n",
       "      <th>7</th>\n",
       "      <td>Role-Playing</td>\n",
       "      <td>36.97</td>\n",
       "      <td>51.04</td>\n",
       "      <td>46.40</td>\n",
       "    </tr>\n",
       "    <tr>\n",
       "      <th>8</th>\n",
       "      <td>Shooter</td>\n",
       "      <td>87.86</td>\n",
       "      <td>6.61</td>\n",
       "      <td>109.74</td>\n",
       "    </tr>\n",
       "    <tr>\n",
       "      <th>9</th>\n",
       "      <td>Simulation</td>\n",
       "      <td>10.92</td>\n",
       "      <td>4.52</td>\n",
       "      <td>4.86</td>\n",
       "    </tr>\n",
       "    <tr>\n",
       "      <th>10</th>\n",
       "      <td>Sports</td>\n",
       "      <td>60.52</td>\n",
       "      <td>5.41</td>\n",
       "      <td>65.27</td>\n",
       "    </tr>\n",
       "    <tr>\n",
       "      <th>11</th>\n",
       "      <td>Strategy</td>\n",
       "      <td>4.22</td>\n",
       "      <td>1.77</td>\n",
       "      <td>3.28</td>\n",
       "    </tr>\n",
       "  </tbody>\n",
       "</table>\n",
       "</div>"
      ],
      "text/plain": [
       "           genre  eu_sales  jp_sales  na_sales\n",
       "0         Action    118.13     40.49    126.05\n",
       "1      Adventure      8.25      5.82      7.14\n",
       "2       Fighting      8.55      7.65     15.55\n",
       "3           Misc     20.04      9.20     27.49\n",
       "4       Platform     15.58      4.79     18.14\n",
       "5         Puzzle      1.00      1.18      0.83\n",
       "6         Racing     20.19      2.30     12.96\n",
       "7   Role-Playing     36.97     51.04     46.40\n",
       "8        Shooter     87.86      6.61    109.74\n",
       "9     Simulation     10.92      4.52      4.86\n",
       "10        Sports     60.52      5.41     65.27\n",
       "11      Strategy      4.22      1.77      3.28"
      ]
     },
     "metadata": {},
     "output_type": "display_data"
    }
   ],
   "source": [
    "# Определим Топ-5 популярных жанров для трех регионов: \n",
    "# Северная Америка, Европа, Япония.\n",
    "top_genres = data_actual.pivot_table(\n",
    "    index='genre', \n",
    "    values=[\n",
    "        'na_sales',\n",
    "        'eu_sales', \n",
    "        'jp_sales'\n",
    "    ], \n",
    "    aggfunc='sum'\n",
    ").reset_index()\n",
    "# Будем работать с этой таблицей.\n",
    "display(top_genres)"
   ]
  },
  {
   "cell_type": "code",
   "execution_count": 24,
   "metadata": {},
   "outputs": [],
   "source": [
    "# Напишем программу для определения Топ-5 жанров \n",
    "# и их долей продаж.\n",
    "def top_genre(region_column):\n",
    "    top5 = top_genres[\n",
    "        ['genre', region_column]\n",
    "    ].sort_values(\n",
    "        by=region_column, \n",
    "        ascending=False).reset_index(drop=True).loc[:4]\n",
    "    top5.loc[5, region_column] = top5[region_column].sum()\n",
    "    top5.rename(index={5: 'total'}, inplace=True)\n",
    "    top5['share ' + str(region_column)] = (\n",
    "        top5[region_column] / top5.loc['total', region_column]\n",
    "    )\n",
    "    top5['genre'] = top5['genre'].fillna('-')\n",
    "    display(top5)"
   ]
  },
  {
   "cell_type": "code",
   "execution_count": 25,
   "metadata": {},
   "outputs": [
    {
     "data": {
      "text/html": [
       "<div>\n",
       "<style scoped>\n",
       "    .dataframe tbody tr th:only-of-type {\n",
       "        vertical-align: middle;\n",
       "    }\n",
       "\n",
       "    .dataframe tbody tr th {\n",
       "        vertical-align: top;\n",
       "    }\n",
       "\n",
       "    .dataframe thead th {\n",
       "        text-align: right;\n",
       "    }\n",
       "</style>\n",
       "<table border=\"1\" class=\"dataframe\">\n",
       "  <thead>\n",
       "    <tr style=\"text-align: right;\">\n",
       "      <th></th>\n",
       "      <th>genre</th>\n",
       "      <th>na_sales</th>\n",
       "      <th>share na_sales</th>\n",
       "    </tr>\n",
       "  </thead>\n",
       "  <tbody>\n",
       "    <tr>\n",
       "      <th>0</th>\n",
       "      <td>Action</td>\n",
       "      <td>126.05</td>\n",
       "      <td>0.336178</td>\n",
       "    </tr>\n",
       "    <tr>\n",
       "      <th>1</th>\n",
       "      <td>Shooter</td>\n",
       "      <td>109.74</td>\n",
       "      <td>0.292679</td>\n",
       "    </tr>\n",
       "    <tr>\n",
       "      <th>2</th>\n",
       "      <td>Sports</td>\n",
       "      <td>65.27</td>\n",
       "      <td>0.174077</td>\n",
       "    </tr>\n",
       "    <tr>\n",
       "      <th>3</th>\n",
       "      <td>Role-Playing</td>\n",
       "      <td>46.40</td>\n",
       "      <td>0.123750</td>\n",
       "    </tr>\n",
       "    <tr>\n",
       "      <th>4</th>\n",
       "      <td>Misc</td>\n",
       "      <td>27.49</td>\n",
       "      <td>0.073316</td>\n",
       "    </tr>\n",
       "    <tr>\n",
       "      <th>total</th>\n",
       "      <td>-</td>\n",
       "      <td>374.95</td>\n",
       "      <td>1.000000</td>\n",
       "    </tr>\n",
       "  </tbody>\n",
       "</table>\n",
       "</div>"
      ],
      "text/plain": [
       "              genre  na_sales  share na_sales\n",
       "0            Action    126.05        0.336178\n",
       "1           Shooter    109.74        0.292679\n",
       "2            Sports     65.27        0.174077\n",
       "3      Role-Playing     46.40        0.123750\n",
       "4              Misc     27.49        0.073316\n",
       "total             -    374.95        1.000000"
      ]
     },
     "metadata": {},
     "output_type": "display_data"
    }
   ],
   "source": [
    "# Посчитаем Топ-5 жанров и их долей продаж для Северной Америки.\n",
    "top_genre('na_sales')"
   ]
  },
  {
   "cell_type": "code",
   "execution_count": 26,
   "metadata": {},
   "outputs": [
    {
     "data": {
      "text/html": [
       "<div>\n",
       "<style scoped>\n",
       "    .dataframe tbody tr th:only-of-type {\n",
       "        vertical-align: middle;\n",
       "    }\n",
       "\n",
       "    .dataframe tbody tr th {\n",
       "        vertical-align: top;\n",
       "    }\n",
       "\n",
       "    .dataframe thead th {\n",
       "        text-align: right;\n",
       "    }\n",
       "</style>\n",
       "<table border=\"1\" class=\"dataframe\">\n",
       "  <thead>\n",
       "    <tr style=\"text-align: right;\">\n",
       "      <th></th>\n",
       "      <th>genre</th>\n",
       "      <th>eu_sales</th>\n",
       "      <th>share eu_sales</th>\n",
       "    </tr>\n",
       "  </thead>\n",
       "  <tbody>\n",
       "    <tr>\n",
       "      <th>0</th>\n",
       "      <td>Action</td>\n",
       "      <td>118.13</td>\n",
       "      <td>0.364970</td>\n",
       "    </tr>\n",
       "    <tr>\n",
       "      <th>1</th>\n",
       "      <td>Shooter</td>\n",
       "      <td>87.86</td>\n",
       "      <td>0.271449</td>\n",
       "    </tr>\n",
       "    <tr>\n",
       "      <th>2</th>\n",
       "      <td>Sports</td>\n",
       "      <td>60.52</td>\n",
       "      <td>0.186981</td>\n",
       "    </tr>\n",
       "    <tr>\n",
       "      <th>3</th>\n",
       "      <td>Role-Playing</td>\n",
       "      <td>36.97</td>\n",
       "      <td>0.114221</td>\n",
       "    </tr>\n",
       "    <tr>\n",
       "      <th>4</th>\n",
       "      <td>Racing</td>\n",
       "      <td>20.19</td>\n",
       "      <td>0.062378</td>\n",
       "    </tr>\n",
       "    <tr>\n",
       "      <th>total</th>\n",
       "      <td>-</td>\n",
       "      <td>323.67</td>\n",
       "      <td>1.000000</td>\n",
       "    </tr>\n",
       "  </tbody>\n",
       "</table>\n",
       "</div>"
      ],
      "text/plain": [
       "              genre  eu_sales  share eu_sales\n",
       "0            Action    118.13        0.364970\n",
       "1           Shooter     87.86        0.271449\n",
       "2            Sports     60.52        0.186981\n",
       "3      Role-Playing     36.97        0.114221\n",
       "4            Racing     20.19        0.062378\n",
       "total             -    323.67        1.000000"
      ]
     },
     "metadata": {},
     "output_type": "display_data"
    }
   ],
   "source": [
    "# Посчитаем Топ-5 жанров и их долей продаж для Европы.\n",
    "top_genre('eu_sales')"
   ]
  },
  {
   "cell_type": "code",
   "execution_count": 27,
   "metadata": {},
   "outputs": [
    {
     "data": {
      "text/html": [
       "<div>\n",
       "<style scoped>\n",
       "    .dataframe tbody tr th:only-of-type {\n",
       "        vertical-align: middle;\n",
       "    }\n",
       "\n",
       "    .dataframe tbody tr th {\n",
       "        vertical-align: top;\n",
       "    }\n",
       "\n",
       "    .dataframe thead th {\n",
       "        text-align: right;\n",
       "    }\n",
       "</style>\n",
       "<table border=\"1\" class=\"dataframe\">\n",
       "  <thead>\n",
       "    <tr style=\"text-align: right;\">\n",
       "      <th></th>\n",
       "      <th>genre</th>\n",
       "      <th>jp_sales</th>\n",
       "      <th>share jp_sales</th>\n",
       "    </tr>\n",
       "  </thead>\n",
       "  <tbody>\n",
       "    <tr>\n",
       "      <th>0</th>\n",
       "      <td>Role-Playing</td>\n",
       "      <td>51.04</td>\n",
       "      <td>0.443865</td>\n",
       "    </tr>\n",
       "    <tr>\n",
       "      <th>1</th>\n",
       "      <td>Action</td>\n",
       "      <td>40.49</td>\n",
       "      <td>0.352118</td>\n",
       "    </tr>\n",
       "    <tr>\n",
       "      <th>2</th>\n",
       "      <td>Misc</td>\n",
       "      <td>9.20</td>\n",
       "      <td>0.080007</td>\n",
       "    </tr>\n",
       "    <tr>\n",
       "      <th>3</th>\n",
       "      <td>Fighting</td>\n",
       "      <td>7.65</td>\n",
       "      <td>0.066528</td>\n",
       "    </tr>\n",
       "    <tr>\n",
       "      <th>4</th>\n",
       "      <td>Shooter</td>\n",
       "      <td>6.61</td>\n",
       "      <td>0.057483</td>\n",
       "    </tr>\n",
       "    <tr>\n",
       "      <th>total</th>\n",
       "      <td>-</td>\n",
       "      <td>114.99</td>\n",
       "      <td>1.000000</td>\n",
       "    </tr>\n",
       "  </tbody>\n",
       "</table>\n",
       "</div>"
      ],
      "text/plain": [
       "              genre  jp_sales  share jp_sales\n",
       "0      Role-Playing     51.04        0.443865\n",
       "1            Action     40.49        0.352118\n",
       "2              Misc      9.20        0.080007\n",
       "3          Fighting      7.65        0.066528\n",
       "4           Shooter      6.61        0.057483\n",
       "total             -    114.99        1.000000"
      ]
     },
     "metadata": {},
     "output_type": "display_data"
    }
   ],
   "source": [
    "# Посчитаем Топ-5 жанров и их долей продаж для Японии.\n",
    "top_genre('jp_sales')"
   ]
  },
  {
   "cell_type": "markdown",
   "metadata": {},
   "source": [
    "**Северная Америка**  \n",
    "Топ-5 жанров:\n",
    "* Action, 126 050 000 копий. 33,6 %\n",
    "* Shooter, 109 740 000 копий. 29,3 %\n",
    "* Sports, 65 270 000 копий. 17,4 %\n",
    "* Role-Playing, 46 400 000 копий. 12,4 %\n",
    "* Misc, 27 490 000 копий. 7,3 %  \n",
    "  \n",
    "**Европа**  \n",
    "Топ-5 жанров:\n",
    "* Action, 118 130 000 копий. 36,5 %\n",
    "* Shooter, 87 860 000 копий. 27,1 %\n",
    "* Sports, 60 520 000 копий. 18,7 %\n",
    "* Role-Playing, 36 970 000 копий. 11,4 %\n",
    "* Racing, 20 190 000 копий. 6,3 %  \n",
    "  \n",
    "**Япония**  \n",
    "Топ-5 жанров:\n",
    "* Role-Playing, 51 040 000 копий. 44,4 %\n",
    "* Action, 40 490 000 копий. 35,2 %\n",
    "* Misc, 9 200 000 копий. 8 %\n",
    "* Fighting, 7 650 000 копий. 6,7 %\n",
    "* Shooter, 6 610 000 копий. 5,7 %  \n",
    "  \n",
    "**Отличия в долях продаж**\n",
    "1. У Северной Америки и Европы показатели долей довольно похожи + первые четыре места рейтинга совпадают.  \n",
    "1 место Action (33,6 % Северная Америка, 36,5 % Европа), 2 место Shooter (29,3 % Северная Америка, 27,1 % Европа),  \n",
    "3 место Sports (17,4 % Северная Америка, 18,7 % Европа), 4 место Role-Playing (12,4 % Северная Америка, 11,4 % Европа).  \n",
    "5 место в Северной Америке занимает Misc (7,3 %). А в Европе Racing (6,3 %).\n",
    "2. В Японии вновь есть явный, доминирующий лидер. Жанр Role-Playing занимает первое место с долей продаж 44,4 %. Второе место у Action с 35,2 %. Оставшиеся три жанра получили меньше 10 %: Misc (8 %), Fighting (6,7 %), Shooter (5,7 %)."
   ]
  },
  {
   "cell_type": "code",
   "execution_count": 28,
   "metadata": {},
   "outputs": [
    {
     "data": {
      "text/html": [
       "<div>\n",
       "<style scoped>\n",
       "    .dataframe tbody tr th:only-of-type {\n",
       "        vertical-align: middle;\n",
       "    }\n",
       "\n",
       "    .dataframe tbody tr th {\n",
       "        vertical-align: top;\n",
       "    }\n",
       "\n",
       "    .dataframe thead th {\n",
       "        text-align: right;\n",
       "    }\n",
       "</style>\n",
       "<table border=\"1\" class=\"dataframe\">\n",
       "  <thead>\n",
       "    <tr style=\"text-align: right;\">\n",
       "      <th></th>\n",
       "      <th>rating</th>\n",
       "      <th>eu_sales</th>\n",
       "      <th>jp_sales</th>\n",
       "      <th>na_sales</th>\n",
       "    </tr>\n",
       "  </thead>\n",
       "  <tbody>\n",
       "    <tr>\n",
       "      <th>0</th>\n",
       "      <td>E</td>\n",
       "      <td>83.36</td>\n",
       "      <td>15.14</td>\n",
       "      <td>79.05</td>\n",
       "    </tr>\n",
       "    <tr>\n",
       "      <th>1</th>\n",
       "      <td>E10+</td>\n",
       "      <td>42.69</td>\n",
       "      <td>5.89</td>\n",
       "      <td>54.24</td>\n",
       "    </tr>\n",
       "    <tr>\n",
       "      <th>2</th>\n",
       "      <td>M</td>\n",
       "      <td>145.32</td>\n",
       "      <td>14.11</td>\n",
       "      <td>165.21</td>\n",
       "    </tr>\n",
       "    <tr>\n",
       "      <th>3</th>\n",
       "      <td>T</td>\n",
       "      <td>41.95</td>\n",
       "      <td>20.59</td>\n",
       "      <td>49.79</td>\n",
       "    </tr>\n",
       "    <tr>\n",
       "      <th>4</th>\n",
       "      <td>X</td>\n",
       "      <td>78.91</td>\n",
       "      <td>85.05</td>\n",
       "      <td>89.42</td>\n",
       "    </tr>\n",
       "  </tbody>\n",
       "</table>\n",
       "</div>"
      ],
      "text/plain": [
       "  rating  eu_sales  jp_sales  na_sales\n",
       "0      E     83.36     15.14     79.05\n",
       "1   E10+     42.69      5.89     54.24\n",
       "2      M    145.32     14.11    165.21\n",
       "3      T     41.95     20.59     49.79\n",
       "4      X     78.91     85.05     89.42"
      ]
     },
     "metadata": {},
     "output_type": "display_data"
    }
   ],
   "source": [
    "# Разберемся, влияет ли рейтинг ESRB на продажи в отдельном регионе.\n",
    "# Будем работать вот с этой таблицей.\n",
    "# Заменим NaN-значения маркером X, чтобы проанализировать \n",
    "# распределение продаж с пропущенным рейтингом по регионам.\n",
    "data_actual_copy = data_actual.copy()\n",
    "data_actual_copy['rating'] = data_actual_copy['rating'].fillna('X')\n",
    "data_rating = data_actual_copy.pivot_table(\n",
    "    index='rating', \n",
    "    values=[\n",
    "        'na_sales',\n",
    "        'eu_sales', \n",
    "        'jp_sales'\n",
    "    ], \n",
    "    aggfunc='sum'\n",
    ").reset_index()\n",
    "display(data_rating)"
   ]
  },
  {
   "cell_type": "code",
   "execution_count": 29,
   "metadata": {},
   "outputs": [],
   "source": [
    "# Напишем программу для определения долей \n",
    "# продаж в зависимости от рейтинга.\n",
    "def rating(region_column):\n",
    "    rating_d = data_rating[[\n",
    "        'rating', region_column\n",
    "    ]].reset_index(drop=True)\n",
    "    rating_d.loc[5, region_column] = rating_d[region_column].sum()\n",
    "    rating_d.rename(index={5: 'total'}, inplace=True)\n",
    "    rating_d['share ' + str(region_column)] = (\n",
    "        rating_d[region_column] / rating_d.loc['total', region_column]\n",
    "    )\n",
    "    rating_d['rating'] = rating_d['rating'].fillna('-')\n",
    "    display(rating_d)"
   ]
  },
  {
   "cell_type": "code",
   "execution_count": 30,
   "metadata": {},
   "outputs": [
    {
     "data": {
      "text/html": [
       "<div>\n",
       "<style scoped>\n",
       "    .dataframe tbody tr th:only-of-type {\n",
       "        vertical-align: middle;\n",
       "    }\n",
       "\n",
       "    .dataframe tbody tr th {\n",
       "        vertical-align: top;\n",
       "    }\n",
       "\n",
       "    .dataframe thead th {\n",
       "        text-align: right;\n",
       "    }\n",
       "</style>\n",
       "<table border=\"1\" class=\"dataframe\">\n",
       "  <thead>\n",
       "    <tr style=\"text-align: right;\">\n",
       "      <th></th>\n",
       "      <th>rating</th>\n",
       "      <th>na_sales</th>\n",
       "      <th>share na_sales</th>\n",
       "    </tr>\n",
       "  </thead>\n",
       "  <tbody>\n",
       "    <tr>\n",
       "      <th>0</th>\n",
       "      <td>E</td>\n",
       "      <td>79.05</td>\n",
       "      <td>0.180599</td>\n",
       "    </tr>\n",
       "    <tr>\n",
       "      <th>1</th>\n",
       "      <td>E10+</td>\n",
       "      <td>54.24</td>\n",
       "      <td>0.123918</td>\n",
       "    </tr>\n",
       "    <tr>\n",
       "      <th>2</th>\n",
       "      <td>M</td>\n",
       "      <td>165.21</td>\n",
       "      <td>0.377442</td>\n",
       "    </tr>\n",
       "    <tr>\n",
       "      <th>3</th>\n",
       "      <td>T</td>\n",
       "      <td>49.79</td>\n",
       "      <td>0.113751</td>\n",
       "    </tr>\n",
       "    <tr>\n",
       "      <th>4</th>\n",
       "      <td>X</td>\n",
       "      <td>89.42</td>\n",
       "      <td>0.204291</td>\n",
       "    </tr>\n",
       "    <tr>\n",
       "      <th>total</th>\n",
       "      <td>-</td>\n",
       "      <td>437.71</td>\n",
       "      <td>1.000000</td>\n",
       "    </tr>\n",
       "  </tbody>\n",
       "</table>\n",
       "</div>"
      ],
      "text/plain": [
       "      rating  na_sales  share na_sales\n",
       "0          E     79.05        0.180599\n",
       "1       E10+     54.24        0.123918\n",
       "2          M    165.21        0.377442\n",
       "3          T     49.79        0.113751\n",
       "4          X     89.42        0.204291\n",
       "total      -    437.71        1.000000"
      ]
     },
     "metadata": {},
     "output_type": "display_data"
    }
   ],
   "source": [
    "# Посчитаем долю продаж в зависимости от рейтинга в Северной Америке.\n",
    "rating('na_sales')"
   ]
  },
  {
   "cell_type": "code",
   "execution_count": 31,
   "metadata": {},
   "outputs": [
    {
     "data": {
      "text/html": [
       "<div>\n",
       "<style scoped>\n",
       "    .dataframe tbody tr th:only-of-type {\n",
       "        vertical-align: middle;\n",
       "    }\n",
       "\n",
       "    .dataframe tbody tr th {\n",
       "        vertical-align: top;\n",
       "    }\n",
       "\n",
       "    .dataframe thead th {\n",
       "        text-align: right;\n",
       "    }\n",
       "</style>\n",
       "<table border=\"1\" class=\"dataframe\">\n",
       "  <thead>\n",
       "    <tr style=\"text-align: right;\">\n",
       "      <th></th>\n",
       "      <th>rating</th>\n",
       "      <th>eu_sales</th>\n",
       "      <th>share eu_sales</th>\n",
       "    </tr>\n",
       "  </thead>\n",
       "  <tbody>\n",
       "    <tr>\n",
       "      <th>0</th>\n",
       "      <td>E</td>\n",
       "      <td>83.36</td>\n",
       "      <td>0.212528</td>\n",
       "    </tr>\n",
       "    <tr>\n",
       "      <th>1</th>\n",
       "      <td>E10+</td>\n",
       "      <td>42.69</td>\n",
       "      <td>0.108839</td>\n",
       "    </tr>\n",
       "    <tr>\n",
       "      <th>2</th>\n",
       "      <td>M</td>\n",
       "      <td>145.32</td>\n",
       "      <td>0.370497</td>\n",
       "    </tr>\n",
       "    <tr>\n",
       "      <th>3</th>\n",
       "      <td>T</td>\n",
       "      <td>41.95</td>\n",
       "      <td>0.106953</td>\n",
       "    </tr>\n",
       "    <tr>\n",
       "      <th>4</th>\n",
       "      <td>X</td>\n",
       "      <td>78.91</td>\n",
       "      <td>0.201183</td>\n",
       "    </tr>\n",
       "    <tr>\n",
       "      <th>total</th>\n",
       "      <td>-</td>\n",
       "      <td>392.23</td>\n",
       "      <td>1.000000</td>\n",
       "    </tr>\n",
       "  </tbody>\n",
       "</table>\n",
       "</div>"
      ],
      "text/plain": [
       "      rating  eu_sales  share eu_sales\n",
       "0          E     83.36        0.212528\n",
       "1       E10+     42.69        0.108839\n",
       "2          M    145.32        0.370497\n",
       "3          T     41.95        0.106953\n",
       "4          X     78.91        0.201183\n",
       "total      -    392.23        1.000000"
      ]
     },
     "metadata": {},
     "output_type": "display_data"
    }
   ],
   "source": [
    "# Посчитаем долю продаж в зависимости от рейтинга в Европе.\n",
    "rating('eu_sales')"
   ]
  },
  {
   "cell_type": "code",
   "execution_count": 32,
   "metadata": {},
   "outputs": [
    {
     "data": {
      "text/html": [
       "<div>\n",
       "<style scoped>\n",
       "    .dataframe tbody tr th:only-of-type {\n",
       "        vertical-align: middle;\n",
       "    }\n",
       "\n",
       "    .dataframe tbody tr th {\n",
       "        vertical-align: top;\n",
       "    }\n",
       "\n",
       "    .dataframe thead th {\n",
       "        text-align: right;\n",
       "    }\n",
       "</style>\n",
       "<table border=\"1\" class=\"dataframe\">\n",
       "  <thead>\n",
       "    <tr style=\"text-align: right;\">\n",
       "      <th></th>\n",
       "      <th>rating</th>\n",
       "      <th>jp_sales</th>\n",
       "      <th>share jp_sales</th>\n",
       "    </tr>\n",
       "  </thead>\n",
       "  <tbody>\n",
       "    <tr>\n",
       "      <th>0</th>\n",
       "      <td>E</td>\n",
       "      <td>15.14</td>\n",
       "      <td>0.107544</td>\n",
       "    </tr>\n",
       "    <tr>\n",
       "      <th>1</th>\n",
       "      <td>E10+</td>\n",
       "      <td>5.89</td>\n",
       "      <td>0.041838</td>\n",
       "    </tr>\n",
       "    <tr>\n",
       "      <th>2</th>\n",
       "      <td>M</td>\n",
       "      <td>14.11</td>\n",
       "      <td>0.100227</td>\n",
       "    </tr>\n",
       "    <tr>\n",
       "      <th>3</th>\n",
       "      <td>T</td>\n",
       "      <td>20.59</td>\n",
       "      <td>0.146257</td>\n",
       "    </tr>\n",
       "    <tr>\n",
       "      <th>4</th>\n",
       "      <td>X</td>\n",
       "      <td>85.05</td>\n",
       "      <td>0.604134</td>\n",
       "    </tr>\n",
       "    <tr>\n",
       "      <th>total</th>\n",
       "      <td>-</td>\n",
       "      <td>140.78</td>\n",
       "      <td>1.000000</td>\n",
       "    </tr>\n",
       "  </tbody>\n",
       "</table>\n",
       "</div>"
      ],
      "text/plain": [
       "      rating  jp_sales  share jp_sales\n",
       "0          E     15.14        0.107544\n",
       "1       E10+      5.89        0.041838\n",
       "2          M     14.11        0.100227\n",
       "3          T     20.59        0.146257\n",
       "4          X     85.05        0.604134\n",
       "total      -    140.78        1.000000"
      ]
     },
     "metadata": {},
     "output_type": "display_data"
    }
   ],
   "source": [
    "# Посчитаем долю продаж в зависимости от рейтинга в Японии.\n",
    "rating('jp_sales')"
   ]
  },
  {
   "cell_type": "markdown",
   "metadata": {},
   "source": [
    "### Промежуточный вывод № 2"
   ]
  },
  {
   "cell_type": "markdown",
   "metadata": {},
   "source": [
    "Мы рассчитали доли продаж игр в зависимости от их ESRB-рейтинга.  \n",
    "Для рейтингов E и E10+ результаты расчета в Северной Америке и Европе не сильно отличаются друг от друга. А вот в Японии показатели примерно в 2 раза ниже: \n",
    "* Северная Америка 18 %, 12,4 % соответственно\n",
    "* Европа 21,3 %, 10,0 % соответственно\n",
    "* Япония 10,8 %, 4,1 % соответственно  \n",
    "  \n",
    "Наше внимание приковали рейтинги M и T. Если у Северной Америки и Европы доля этих рейтингов примерно одинаковая (37,7 %, 11,3 % у Америки и 37 % и 10,7 % у Европы), то у Японии доля рейтинга M составляет 10 %, а у рейтинга T 14,6 %.  \n",
    "**Вероятно, в Японии рейтинг M (только для взрослых) отталкивает пользователя от покупки игры, в то время как рейтинг T (для подростков) наоборот привлекает.**  \n",
    "  \n",
    "Также крайне любопытно взглянуть на распределение долей продаж с пропущенным значением в рейтинге ESRB, которые мы пометили маркером X.  \n",
    "В Северной Америке и Европе одинаковая доля продаж с пропущенным рейтингом &#8212; 20 %. В Японии же доля продаж с пропущенным рейтингом составляет аж 60 %.  \n",
    "**Рейтинг ESRB обязателен для продажи игр через ритейл в США и Канаде. Купить коробку с игрой без присвоенного ей рейтинга в США и Канаде нельзя. Отстутствие данных о рейтинге в датасете говорит о том, что просто на момент создания датасета у компилятора не было этих данных.  \n",
    "Как можно объяснить 60 % долю продаж игр с пропущенным рейтингом в Японии? Вероятно, такую долю можно объяснить тем, <br> что ESRB &#8212; это организация, ведущая свою деятельность только на территоии США и Канады. В Японии же есть своя организация, оценивающая возрастной рейтинг CERO. Может быть, высокие продажи игр с пропущенным рейтингом ESRB в Японии обусловленны тем. что у этих игр есть рейтинг CERO, и у него не такой жесткий рейтинг, как у ESRB или PEGI, что позволяет большему количиству молодых японцев покупать игры.**"
   ]
  },
  {
   "cell_type": "markdown",
   "metadata": {},
   "source": [
    "### Вывод"
   ]
  },
  {
   "cell_type": "markdown",
   "metadata": {},
   "source": [
    "**Топ-5 платформ**\n",
    "1. Для Северной Америки характерно довольно-таки равномерное, \"спокойное\" распределение долей продаж игр по платформам. Явно доминирующей платформы нет. Доли первых трех мест составили 28,2 %, 24,2 %, 21,2 % (PS4, XOne, X360 соответственно). Доли четвертого и пятого места составили 16,5 % и 9,9 % (PS3, 3DS соответственно).\n",
    "2. PS4 является лидером в Европе. При количестве продаж 141 090 000 копий, доля этой платформы составляет 42,2 %. Второе место у PS3 с долей 20,3 %. Места с третьего по пятое расположились относительно равномерно: 15,4 %, 12,7 %, 9,4 % (XOne, X360, 3DS соответственно).  \n",
    "3. В Японии есть явный, доминирующий лидер. Практически каждая вторая игра была куплена для платформы 3DS (67 810 000 копий с долей 49,6 %). Места со 2 по 5 расположились относительно равномерно: 17,1 %, 13,6 %, 11,7 %, 8 % (PS3, PSV, PS4, WiiU соответственно).  \n",
    "**Топ-5 жанров**\n",
    "1. У Северной Америки и Европы показатели долей довольно похожи + первые четыре места рейтинга совпадают. \n",
    "* 1 место Action (33,6 % Северная Америка, 36,5 % Европа) \n",
    "* 2 место Shooter (29,3 % Северная Америка, 27,1 % Европа)\n",
    "* 3 место Sports (17,4 % Северная Америка, 18,7 % Европа)\n",
    "* 4 место Role-Playing (12,4 % Северная Америка, 11,4 % Европа)\n",
    "* 5 место в Северной Америке занимает Misc (7,3 %). А в Европе Racing (6,3 %)\n",
    "2. В Японии вновь есть явный, доминирующий лидер. Жанр Role-Playing занимает первое место с долей продаж 44,4 %. Второе место у Action с 35,2 %. Оставшиеся три жанра получили меньше 10 %: Misc (8 %), Fighting (6,7 %), Shooter (5,7 %).\n",
    "**Влияние рейтингов ESRB на продажи**  \n",
    "Для рейтингов E и E10+ результаты расчета во всех трех регионах не сильно отличаются друг от друга: \n",
    "* Северная Америка 22,7 %, 15,6 % соответственно\n",
    "* Европа 26,6 %, 13,6 % соответственно\n",
    "* Япония 27,2 %, 10,6 % соответственно  \n",
    "\n",
    "Наше внимание приковали рейтинги M и T. Если у Северной Америки и Европы доля этих рейтингов примерно одинаковая (47,4 %, 14,3 % у Америки и 46,4 % и 13,4 % у Европы), то у Японии доля рейтинга M составляет 25,3 %, а у рейтинга T 36,9 %.  \n",
    "**Вероятно, в Японии рейтинг M (только для взрослых) отталкивает пользователя от покупки игры, в то время как рейтинг T (для подростков) наоборот привлекает.**\n",
    "  "
   ]
  },
  {
   "cell_type": "markdown",
   "metadata": {},
   "source": [
    "## Проверка гипотез"
   ]
  },
  {
   "cell_type": "markdown",
   "metadata": {},
   "source": [
    "Проверим гипотезу \"Средние пользовательские рейтинги платформ Xbox One и PC одинаковые\".  \n",
    "У нас есть две генеральные совокупности: пользовательские рейтинги платформ Xbox One и PC "
   ]
  },
  {
   "cell_type": "code",
   "execution_count": 33,
   "metadata": {},
   "outputs": [
    {
     "name": "stdout",
     "output_type": "stream",
     "text": [
      "Среднее значение пользовательского рейтинга данной выборки для Xbox One : 6.521428571428572\n",
      "Срендее значение пользовательского рейтинга данной выборки для PC: 6.269677419354839\n"
     ]
    }
   ],
   "source": [
    "# Подготовим массивы данных\n",
    "# Сначала Xbox One. Сделаем срез данных и посчитаем среднее\n",
    "data_xbox = data_actual.loc[\n",
    "    data_actual['platform'] == 'XOne', 'user_score'\n",
    "]\n",
    "data_xbox_mean = data_xbox.mean()\n",
    "# Теперь PC. Сделаем срез данных и посчитаем среднее.\n",
    "data_pc = data_actual.loc[\n",
    "    data_actual['platform'] == 'PC', 'user_score'\n",
    "]\n",
    "data_pc_mean = data_pc.mean()\n",
    "print('Среднее значение пользовательского рейтинга' +\n",
    "      ' данной выборки для Xbox One :', data_xbox_mean)\n",
    "print('Срендее значение пользовательского рейтинга' + \n",
    "      ' данной выборки для PC:', data_pc_mean)"
   ]
  },
  {
   "cell_type": "markdown",
   "metadata": {},
   "source": [
    "Сформулируем нулевую гипотезу: cредние пользовательские рейтинги платформ Xbox One и PC не различаются.  \n",
    "Сформулируем альтернативную гипотезу: cредние пользовательские рейтинги платформ Xbox One и PC различаются."
   ]
  },
  {
   "cell_type": "code",
   "execution_count": 34,
   "metadata": {},
   "outputs": [
    {
     "name": "stdout",
     "output_type": "stream",
     "text": [
      "\n",
      "p-значение: 0.1475959401343003\n",
      "Не получилось отвергнуть нулевую гипотезу\n"
     ]
    }
   ],
   "source": [
    "# Зададим критический уровень статистической значимости.\n",
    "alpha = .05\n",
    "results = st.ttest_ind(\n",
    "    data_xbox, data_pc, equal_var=False, nan_policy='omit'\n",
    ")\n",
    "print()\n",
    "print('p-значение:', results.pvalue)\n",
    "if results.pvalue < alpha:\n",
    "    print('Отвергаем нулевую гипотезу')\n",
    "else:\n",
    "    print('Не получилось отвергнуть нулевую гипотезу')"
   ]
  },
  {
   "cell_type": "markdown",
   "metadata": {},
   "source": [
    "Проверим гипотезу \"Средние пользовательские рейтинги жанров Action и Sports разные.\"  \n",
    "У нас есть две генеральные совокупности: пользовательские рейтинги жанров Action и Sports."
   ]
  },
  {
   "cell_type": "code",
   "execution_count": 35,
   "metadata": {},
   "outputs": [
    {
     "name": "stdout",
     "output_type": "stream",
     "text": [
      "Срендее значение пользовательского рейтинга данной выборки для жанра Action : 6.837532133676093\n",
      "Срендее значение пользовательского рейтинга данной выборки для жанра Sports: 5.238124999999999\n"
     ]
    }
   ],
   "source": [
    "# Подготовим массивы данных.\n",
    "# Сначала Action. Сделаем срез данных и посчитаем среднее.\n",
    "data_action = data_actual.loc[\n",
    "    data_actual['genre'] == 'Action', 'user_score'\n",
    "]\n",
    "data_action_mean = data_action.mean()\n",
    "# Теперь Sports. Сделаем срез данных и посчитаем среднее.\n",
    "data_sports = data_actual.loc[\n",
    "    data_actual['genre'] == 'Sports', 'user_score'\n",
    "]\n",
    "data_sports_mean = data_sports.mean()\n",
    "print('Срендее значение пользовательского рейтинга' + \n",
    "      ' данной выборки для жанра Action :', data_action_mean)\n",
    "print('Срендее значение пользовательского рейтинга' + \n",
    "      ' данной выборки для жанра Sports:', data_sports_mean)"
   ]
  },
  {
   "cell_type": "markdown",
   "metadata": {},
   "source": [
    "Сформулируем нулевую гипотезу: Средние пользовательские рейтинги жанров Action и Sports не различаются.  \n",
    "Сформулируем альтернативную гипотезу: Средние пользовательские рейтинги жанров Action и Sports различаются"
   ]
  },
  {
   "cell_type": "code",
   "execution_count": 36,
   "metadata": {},
   "outputs": [
    {
     "name": "stdout",
     "output_type": "stream",
     "text": [
      "\n",
      "p-значение: 1.446003970070351e-20\n",
      "Отвергаем нулевую гипотезу\n"
     ]
    }
   ],
   "source": [
    "# Зададим критический уровень статистической значимости.\n",
    "alpha = .05\n",
    "results = st.ttest_ind(\n",
    "    data_action, data_sports, equal_var=False, nan_policy='omit'\n",
    ")\n",
    "print()\n",
    "print('p-значение:', results.pvalue)\n",
    "if results.pvalue < alpha:\n",
    "    print('Отвергаем нулевую гипотезу')\n",
    "else:\n",
    "    print('Не получилось отвергнуть нулевую гипотезу')"
   ]
  },
  {
   "cell_type": "markdown",
   "metadata": {},
   "source": [
    "### Вывод"
   ]
  },
  {
   "cell_type": "markdown",
   "metadata": {},
   "source": [
    "Перед нами стояла задача проверить две гипотезы:  \n",
    "* Средние пользовательские рейтинги платформ Xbox One и PC одинаковые\n",
    "* Средние пользовательские рейтинги жанров Action и Sports разные\n",
    "\n",
    "Мы определили, что обе гипотезы являются двухсторонними гипотезами о равенстве средних двух генеральных совокупностей. \n",
    "Для каждого случая мы определили нулевую и альтернативную гипотезы, и после этого провели расчет, в котором сравнили уровень p-value с уровнем значимости 5 %.  \n",
    "  \n",
    "**<u>Средние пользовательские рейтинги платформ Xbox One и PC одинаковые</u>**  \n",
    "**$H_0$:** cредние пользовательские рейтинги платформ Xbox One и PC не различаются.  \n",
    "**$H_1$:** cредние пользовательские рейтинги платформ Xbox One и PC различаются.\n",
    "  \n",
    "**<u>Средние пользовательские рейтинги жанров Action и Sports разные</u>**  \n",
    "**$H_0$:** средние пользовательские рейтинги жанров Action и Sports не различаются.  \n",
    "**$H_1$:** средние пользовательские рейтинги жанров Action и Sports различаются.  \n",
    "\n",
    "  \n",
    "**Результаты расчетов**  \n",
    "* Нам не удалось отвергнуть нулевую гипотезу \"cредние пользовательские рейтинги платформ Xbox One и PC не различаются\", так как уровень <br> P-value оказался выше уровня значимости 5 %. **<u>По всей видимости, несмотря на разницу в средних значениях, в почти 15 % случаев такое различие получится случайно. Мы не исключаем того, что cредние пользовательские рейтинги платформ Xbox One и PC действительно не различаются.</u>** \n",
    "* Нулевая гипотеза \"средние пользовательские рейтинги жанров Action и Sports не различаются\" была нами отвергнута, так как уровень P-value оказался существенно ниже уровня значимости 5 %. **<u>По всей видимости, средние пользовательские рейтинги жанров Action и Sports действительно различаются.</u>**  "
   ]
  },
  {
   "cell_type": "markdown",
   "metadata": {},
   "source": [
    "## Общий вывод"
   ]
  },
  {
   "cell_type": "markdown",
   "metadata": {},
   "source": [
    "Наша задача заключалась в выявлении закономерностей, определяющих успешность игры. Это позволит нашему интернет-магазину сделать ставку на потенциально популярный продукт и спланировать рекламные кампании.  \n",
    "Что нам удалость сделать?  \n",
    "1. Мы изучили входной датасет, обработали его, избавившись от лишних данных и изменив тип данных в требуемом столбце. Также мы изменили регистр записи названий столбцов таблицы, чем существенно облегчили себе дальнейшую работу. Помимо этого мы рассчитали глобальные для игр, тем самым обогатив входной датасет.\n",
    "2. В ходе исследовательского анализа мы выявили интересные закономерности:\n",
    " * Вероятно, \"коммерческий срок жизни\" игровой платформы составляет в среднем 10 лет.\n",
    " * Новые модели платформ появляются каждые 7-8 лет. Также есть основания полагать, что с момента выхода игр на новых платформах до прекращения продаж игр для платформ предыдущего поколения проходит 4 года.\n",
    "3. В качестве актуального периода для анализа мы выбрали период с 2013 по 2016 гг. Это относительно стабильный период. Опираясь на него, можно сделать прогноз на 2017 год. Также в 2013 году на рынок вышли PS4 и Xbox One, сделав рынок более прогнозируемым на ближайшие 7 лет.  \n",
    "4. Мы выбрали тройку потенциально прибыльных платформ: PS4, XOne, 3DS.  \n",
    "5. Мы определили, что для PS4 и XOne существует прямая связь между объемом продаж игр и оценками критиков. Связь между объемом продаж игр и оценками пользователей практически отсутствует. По итогам анализа платформы 3DS, можно отметить, что помимо умеренной прямой связи объемов продаж с оценками критиков, существует и незначительная прямая связь объемов продаж с оценками пользователей.\n",
    "6. Мы выяснили, что больше всего игр в течение актуального периода выпущено для жанров Action, Shooter, Role-Playing и Sports. Последние места, как по количеству игр, так и по количеству продаж, заняли жанры Simulation, Strategy, Puzzle.\n",
    "7. Мы составили рейтинги Топ-5 платформ и Топ-5 жанров по объему продаж в разбивке по трем рынкам мира: Северная Америка, Европа и Япония. Вычислили доли каждой платформы и каждого жанра от общего количества рейтингов, выяснив предпочтения трех регионов.\n",
    "8. Мы выявили, что в Северной Америке и Европе рейтинг ESRB примерно одинаково влияет на предпочтения пользователей. Большинство предпочитают игры рейтинга M (только для взрослых). В Японии же рейтинг M, вероятно, отталкивает пользователя от покупки игры, в то время как рейтинг T (для подростков) наоборот привлекает.\n",
    "9. Мы рассмотрели две гипотезы. Мы не исключаем возможность того, что cредние пользовательские рейтинги платформ Xbox One и PC действительно не различаются. По всей видимости, средние пользовательские рейтинги жанров Action и Sports действительно различаются.  \n",
    "  \n",
    "Опираясь на сделанные выводы, мы можем рекомендовать нашему интернет-магазину: \n",
    "* Сфокусироваться в 2017 году на платформах PS4, XOne, 3DS. \n",
    "* При закупке игр для PS4, XOne рекомендуется опираться на оценки критиков, а при закупке игр для 3DS рекомендуется опираться кроме оценок критиков еще и на оценки пользователей.\n",
    "* При продаже игр руководстоваться составленными рейтингами по платформам, жанрам в зависимости от региона. Учитывать влияние рейтинга ESRB.\n",
    "* Учитывать, что cредние пользовательские рейтинги платформ Xbox One и PC могут не различаются, а средние пользовательские рейтинги жанров Action и Sports действительно различаются.  "
   ]
  }
 ],
 "metadata": {
  "ExecuteTimeLog": [
   {
    "duration": 97,
    "start_time": "2021-09-20T09:28:23.364Z"
   },
   {
    "duration": 1654,
    "start_time": "2021-09-20T09:30:12.992Z"
   },
   {
    "duration": 90,
    "start_time": "2021-09-20T09:31:25.875Z"
   },
   {
    "duration": 12,
    "start_time": "2021-09-20T10:23:51.075Z"
   },
   {
    "duration": 6,
    "start_time": "2021-09-20T10:24:10.684Z"
   },
   {
    "duration": 406,
    "start_time": "2021-09-20T10:24:17.471Z"
   },
   {
    "duration": 372,
    "start_time": "2021-09-20T10:24:22.543Z"
   },
   {
    "duration": 272,
    "start_time": "2021-09-20T10:24:24.735Z"
   },
   {
    "duration": 323,
    "start_time": "2021-09-20T10:24:31.015Z"
   },
   {
    "duration": 12,
    "start_time": "2021-09-20T10:24:43.905Z"
   },
   {
    "duration": 12,
    "start_time": "2021-09-20T10:24:52.558Z"
   },
   {
    "duration": 79,
    "start_time": "2021-09-20T11:33:56.980Z"
   },
   {
    "duration": 83,
    "start_time": "2021-09-20T11:34:11.070Z"
   },
   {
    "duration": 6,
    "start_time": "2021-09-20T12:08:53.807Z"
   },
   {
    "duration": 576,
    "start_time": "2021-09-20T12:09:09.808Z"
   },
   {
    "duration": 4,
    "start_time": "2021-09-20T12:10:49.694Z"
   },
   {
    "duration": 31,
    "start_time": "2021-09-20T12:11:17.150Z"
   },
   {
    "duration": 26,
    "start_time": "2021-09-20T12:11:59.580Z"
   },
   {
    "duration": 24,
    "start_time": "2021-09-20T12:12:09.909Z"
   },
   {
    "duration": 23,
    "start_time": "2021-09-20T12:26:41.895Z"
   },
   {
    "duration": 35,
    "start_time": "2021-09-20T12:29:45.068Z"
   },
   {
    "duration": 41,
    "start_time": "2021-09-20T12:30:15.603Z"
   },
   {
    "duration": 41,
    "start_time": "2021-09-20T12:30:19.107Z"
   },
   {
    "duration": 69,
    "start_time": "2021-09-20T12:31:07.180Z"
   },
   {
    "duration": 57,
    "start_time": "2021-09-20T12:38:02.114Z"
   },
   {
    "duration": 84,
    "start_time": "2021-09-20T12:38:11.500Z"
   },
   {
    "duration": 59,
    "start_time": "2021-09-20T12:38:19.844Z"
   },
   {
    "duration": 59,
    "start_time": "2021-09-20T12:38:35.100Z"
   },
   {
    "duration": 61,
    "start_time": "2021-09-20T12:38:51.268Z"
   },
   {
    "duration": 60,
    "start_time": "2021-09-20T12:39:40.979Z"
   },
   {
    "duration": 63,
    "start_time": "2021-09-20T12:39:47.651Z"
   },
   {
    "duration": 57,
    "start_time": "2021-09-20T12:40:19.427Z"
   },
   {
    "duration": 36,
    "start_time": "2021-09-20T12:40:26.442Z"
   },
   {
    "duration": 36,
    "start_time": "2021-09-20T12:40:43.770Z"
   },
   {
    "duration": 36,
    "start_time": "2021-09-20T12:41:13.313Z"
   },
   {
    "duration": 37,
    "start_time": "2021-09-20T12:41:17.552Z"
   },
   {
    "duration": 35,
    "start_time": "2021-09-20T12:41:24.184Z"
   },
   {
    "duration": 37,
    "start_time": "2021-09-20T12:41:33.336Z"
   },
   {
    "duration": 41,
    "start_time": "2021-09-20T12:46:34.356Z"
   },
   {
    "duration": 62,
    "start_time": "2021-09-20T12:46:41.451Z"
   },
   {
    "duration": 74,
    "start_time": "2021-09-20T12:48:41.210Z"
   },
   {
    "duration": 78,
    "start_time": "2021-09-20T12:48:53.011Z"
   },
   {
    "duration": 37,
    "start_time": "2021-09-20T12:50:01.249Z"
   },
   {
    "duration": 44,
    "start_time": "2021-09-20T12:53:07.805Z"
   },
   {
    "duration": 41,
    "start_time": "2021-09-20T12:53:13.149Z"
   },
   {
    "duration": 47,
    "start_time": "2021-09-20T12:53:41.181Z"
   },
   {
    "duration": 54,
    "start_time": "2021-09-20T12:53:58.666Z"
   },
   {
    "duration": 662,
    "start_time": "2021-09-21T09:17:49.349Z"
   },
   {
    "duration": 1153,
    "start_time": "2021-09-21T09:17:55.993Z"
   },
   {
    "duration": 285,
    "start_time": "2021-09-21T09:17:57.148Z"
   },
   {
    "duration": 61,
    "start_time": "2021-09-21T09:18:39.680Z"
   },
   {
    "duration": 28,
    "start_time": "2021-09-21T09:18:44.943Z"
   },
   {
    "duration": 37,
    "start_time": "2021-09-21T09:20:24.518Z"
   },
   {
    "duration": 36,
    "start_time": "2021-09-21T09:20:55.702Z"
   },
   {
    "duration": 17,
    "start_time": "2021-09-21T09:21:03.862Z"
   },
   {
    "duration": 20,
    "start_time": "2021-09-21T09:21:29.645Z"
   },
   {
    "duration": 66,
    "start_time": "2021-09-21T09:21:43.653Z"
   },
   {
    "duration": 45,
    "start_time": "2021-09-21T09:21:43.721Z"
   },
   {
    "duration": 70,
    "start_time": "2021-09-21T09:22:14.285Z"
   },
   {
    "duration": 62,
    "start_time": "2021-09-21T09:22:37.092Z"
   },
   {
    "duration": 45,
    "start_time": "2021-09-21T09:22:37.156Z"
   },
   {
    "duration": 208,
    "start_time": "2021-09-21T09:31:52.883Z"
   },
   {
    "duration": 36,
    "start_time": "2021-09-21T09:32:06.347Z"
   },
   {
    "duration": 56,
    "start_time": "2021-09-21T09:32:14.570Z"
   },
   {
    "duration": 229,
    "start_time": "2021-09-21T09:34:36.304Z"
   },
   {
    "duration": 176,
    "start_time": "2021-09-21T09:34:48.776Z"
   },
   {
    "duration": 1237,
    "start_time": "2021-09-21T09:34:55.079Z"
   },
   {
    "duration": 191,
    "start_time": "2021-09-21T09:35:05.767Z"
   },
   {
    "duration": 61,
    "start_time": "2021-09-21T09:35:13.584Z"
   },
   {
    "duration": 31,
    "start_time": "2021-09-21T09:35:13.646Z"
   },
   {
    "duration": 693,
    "start_time": "2021-09-21T09:35:21.999Z"
   },
   {
    "duration": 57,
    "start_time": "2021-09-21T09:35:25.839Z"
   },
   {
    "duration": 33,
    "start_time": "2021-09-21T09:35:25.898Z"
   },
   {
    "duration": 190,
    "start_time": "2021-09-21T09:35:36.325Z"
   },
   {
    "duration": 65,
    "start_time": "2021-09-21T09:35:40.271Z"
   },
   {
    "duration": 41,
    "start_time": "2021-09-21T09:35:40.338Z"
   },
   {
    "duration": 43,
    "start_time": "2021-09-21T09:36:04.583Z"
   },
   {
    "duration": 36,
    "start_time": "2021-09-21T09:36:14.462Z"
   },
   {
    "duration": 221,
    "start_time": "2021-09-21T09:36:35.894Z"
   },
   {
    "duration": 62,
    "start_time": "2021-09-21T09:36:43.455Z"
   },
   {
    "duration": 34,
    "start_time": "2021-09-21T09:36:43.519Z"
   },
   {
    "duration": 54,
    "start_time": "2021-09-21T09:38:02.341Z"
   },
   {
    "duration": 48,
    "start_time": "2021-09-21T09:38:09.268Z"
   },
   {
    "duration": 234,
    "start_time": "2021-09-21T09:39:24.349Z"
   },
   {
    "duration": 62,
    "start_time": "2021-09-21T09:39:32.788Z"
   },
   {
    "duration": 48,
    "start_time": "2021-09-21T09:39:32.852Z"
   },
   {
    "duration": 49,
    "start_time": "2021-09-21T09:56:50.554Z"
   },
   {
    "duration": 217,
    "start_time": "2021-09-21T09:57:07.091Z"
   },
   {
    "duration": 57,
    "start_time": "2021-09-21T09:57:17.154Z"
   },
   {
    "duration": 46,
    "start_time": "2021-09-21T09:57:17.213Z"
   },
   {
    "duration": 38,
    "start_time": "2021-09-21T09:57:50.530Z"
   },
   {
    "duration": 231,
    "start_time": "2021-09-21T09:57:56.257Z"
   },
   {
    "duration": 59,
    "start_time": "2021-09-21T09:58:01.449Z"
   },
   {
    "duration": 47,
    "start_time": "2021-09-21T09:58:01.510Z"
   },
   {
    "duration": 48,
    "start_time": "2021-09-21T09:59:01.377Z"
   },
   {
    "duration": 217,
    "start_time": "2021-09-21T10:00:12.375Z"
   },
   {
    "duration": 61,
    "start_time": "2021-09-21T10:00:17.598Z"
   },
   {
    "duration": 76,
    "start_time": "2021-09-21T10:00:17.660Z"
   },
   {
    "duration": 80,
    "start_time": "2021-09-21T10:00:50.047Z"
   },
   {
    "duration": 78,
    "start_time": "2021-09-21T10:03:04.550Z"
   },
   {
    "duration": 216,
    "start_time": "2021-09-21T10:03:07.932Z"
   },
   {
    "duration": 61,
    "start_time": "2021-09-21T10:03:12.500Z"
   },
   {
    "duration": 58,
    "start_time": "2021-09-21T10:03:12.563Z"
   },
   {
    "duration": 212,
    "start_time": "2021-09-21T10:11:59.099Z"
   },
   {
    "duration": 216,
    "start_time": "2021-09-21T10:12:07.419Z"
   },
   {
    "duration": 59,
    "start_time": "2021-09-21T10:12:13.828Z"
   },
   {
    "duration": 41,
    "start_time": "2021-09-21T10:12:13.888Z"
   },
   {
    "duration": 49,
    "start_time": "2021-09-21T10:12:26.019Z"
   },
   {
    "duration": 59,
    "start_time": "2021-09-21T10:14:23.073Z"
   },
   {
    "duration": 43,
    "start_time": "2021-09-21T10:14:23.133Z"
   },
   {
    "duration": 58,
    "start_time": "2021-09-21T10:15:06.432Z"
   },
   {
    "duration": 222,
    "start_time": "2021-09-21T10:15:06.492Z"
   },
   {
    "duration": 56,
    "start_time": "2021-09-21T10:15:32.992Z"
   },
   {
    "duration": 241,
    "start_time": "2021-09-21T10:15:33.050Z"
   },
   {
    "duration": 55,
    "start_time": "2021-09-21T10:15:42.503Z"
   },
   {
    "duration": 233,
    "start_time": "2021-09-21T10:15:42.560Z"
   },
   {
    "duration": 44,
    "start_time": "2021-09-21T10:15:57.949Z"
   },
   {
    "duration": 204,
    "start_time": "2021-09-21T10:16:35.399Z"
   },
   {
    "duration": 61,
    "start_time": "2021-09-21T10:16:42.604Z"
   },
   {
    "duration": 225,
    "start_time": "2021-09-21T10:16:45.487Z"
   },
   {
    "duration": 42,
    "start_time": "2021-09-21T10:18:16.854Z"
   },
   {
    "duration": 209,
    "start_time": "2021-09-21T10:18:26.189Z"
   },
   {
    "duration": 57,
    "start_time": "2021-09-21T10:18:45.469Z"
   },
   {
    "duration": 43,
    "start_time": "2021-09-21T10:18:45.528Z"
   },
   {
    "duration": 46,
    "start_time": "2021-09-21T10:19:30.113Z"
   },
   {
    "duration": 211,
    "start_time": "2021-09-21T10:19:52.952Z"
   },
   {
    "duration": 1419,
    "start_time": "2021-09-21T10:21:17.322Z"
   },
   {
    "duration": 60,
    "start_time": "2021-09-21T10:21:23.225Z"
   },
   {
    "duration": 58,
    "start_time": "2021-09-21T10:21:23.287Z"
   },
   {
    "duration": 58,
    "start_time": "2021-09-21T10:22:32.441Z"
   },
   {
    "duration": 56,
    "start_time": "2021-09-21T10:22:32.500Z"
   },
   {
    "duration": 55,
    "start_time": "2021-09-21T10:22:58.761Z"
   },
   {
    "duration": 57,
    "start_time": "2021-09-21T10:23:02.576Z"
   },
   {
    "duration": 65,
    "start_time": "2021-09-21T10:23:02.635Z"
   },
   {
    "duration": 57,
    "start_time": "2021-09-21T10:23:23.593Z"
   },
   {
    "duration": 57,
    "start_time": "2021-09-21T10:24:24.543Z"
   },
   {
    "duration": 55,
    "start_time": "2021-09-21T10:24:29.535Z"
   },
   {
    "duration": 58,
    "start_time": "2021-09-21T10:24:29.591Z"
   },
   {
    "duration": 53,
    "start_time": "2021-09-21T10:32:33.168Z"
   },
   {
    "duration": 52,
    "start_time": "2021-09-21T10:35:53.660Z"
   },
   {
    "duration": 44,
    "start_time": "2021-09-21T10:36:53.051Z"
   },
   {
    "duration": 45,
    "start_time": "2021-09-21T10:37:04.946Z"
   },
   {
    "duration": 53,
    "start_time": "2021-09-21T10:37:10.475Z"
   },
   {
    "duration": 43,
    "start_time": "2021-09-21T10:37:10.530Z"
   },
   {
    "duration": 45,
    "start_time": "2021-09-21T10:38:29.530Z"
   },
   {
    "duration": 44,
    "start_time": "2021-09-21T10:41:43.855Z"
   },
   {
    "duration": 48,
    "start_time": "2021-09-21T10:41:56.222Z"
   },
   {
    "duration": 43,
    "start_time": "2021-09-21T10:43:26.468Z"
   },
   {
    "duration": 58,
    "start_time": "2021-09-21T10:45:11.899Z"
   },
   {
    "duration": 56,
    "start_time": "2021-09-21T11:19:55.137Z"
   },
   {
    "duration": 74,
    "start_time": "2021-09-21T11:19:55.195Z"
   },
   {
    "duration": 80,
    "start_time": "2021-09-21T11:27:00.251Z"
   },
   {
    "duration": 64,
    "start_time": "2021-09-21T12:13:30.326Z"
   },
   {
    "duration": 65,
    "start_time": "2021-09-21T12:13:35.188Z"
   },
   {
    "duration": 5992,
    "start_time": "2021-09-21T12:13:43.988Z"
   },
   {
    "duration": 86,
    "start_time": "2021-09-21T12:14:29.461Z"
   },
   {
    "duration": 81,
    "start_time": "2021-09-21T12:15:01.492Z"
   },
   {
    "duration": 53,
    "start_time": "2021-09-21T12:15:18.099Z"
   },
   {
    "duration": 90,
    "start_time": "2021-09-21T12:15:18.154Z"
   },
   {
    "duration": 85,
    "start_time": "2021-09-21T12:15:40.059Z"
   },
   {
    "duration": 81,
    "start_time": "2021-09-21T12:15:48.683Z"
   },
   {
    "duration": 83,
    "start_time": "2021-09-21T12:16:11.347Z"
   },
   {
    "duration": 83,
    "start_time": "2021-09-21T12:17:16.850Z"
   },
   {
    "duration": 55,
    "start_time": "2021-09-21T12:17:24.063Z"
   },
   {
    "duration": 103,
    "start_time": "2021-09-21T12:17:24.120Z"
   },
   {
    "duration": 56,
    "start_time": "2021-09-21T12:17:54.728Z"
   },
   {
    "duration": 94,
    "start_time": "2021-09-21T12:17:54.785Z"
   },
   {
    "duration": 89,
    "start_time": "2021-09-21T12:18:08.330Z"
   },
   {
    "duration": 83,
    "start_time": "2021-09-21T12:18:26.169Z"
   },
   {
    "duration": 53,
    "start_time": "2021-09-21T12:18:37.247Z"
   },
   {
    "duration": 108,
    "start_time": "2021-09-21T12:18:37.302Z"
   },
   {
    "duration": 315,
    "start_time": "2021-09-21T16:52:58.574Z"
   },
   {
    "duration": 1064,
    "start_time": "2021-09-21T16:53:02.008Z"
   },
   {
    "duration": 104,
    "start_time": "2021-09-21T16:53:03.074Z"
   },
   {
    "duration": 8,
    "start_time": "2021-09-21T16:53:03.180Z"
   },
   {
    "duration": 346,
    "start_time": "2021-09-21T16:53:36.782Z"
   },
   {
    "duration": 29,
    "start_time": "2021-09-21T16:54:09.454Z"
   },
   {
    "duration": 33,
    "start_time": "2021-09-21T16:54:32.838Z"
   },
   {
    "duration": 34,
    "start_time": "2021-09-21T16:54:47.342Z"
   },
   {
    "duration": 273,
    "start_time": "2021-09-21T16:56:20.237Z"
   },
   {
    "duration": 282,
    "start_time": "2021-09-21T16:56:26.684Z"
   },
   {
    "duration": 27,
    "start_time": "2021-09-21T16:56:43.004Z"
   },
   {
    "duration": 34,
    "start_time": "2021-09-21T16:56:49.740Z"
   },
   {
    "duration": 66,
    "start_time": "2021-09-21T17:15:30.327Z"
   },
   {
    "duration": 59,
    "start_time": "2021-09-21T17:15:33.669Z"
   },
   {
    "duration": 66,
    "start_time": "2021-09-21T17:15:33.730Z"
   },
   {
    "duration": 356,
    "start_time": "2021-09-21T17:21:39.024Z"
   },
   {
    "duration": 314,
    "start_time": "2021-09-21T17:22:00.618Z"
   },
   {
    "duration": 63,
    "start_time": "2021-09-21T17:22:03.225Z"
   },
   {
    "duration": 307,
    "start_time": "2021-09-21T17:25:22.286Z"
   },
   {
    "duration": 292,
    "start_time": "2021-09-21T17:26:02.571Z"
   },
   {
    "duration": 59,
    "start_time": "2021-09-21T17:27:44.079Z"
   },
   {
    "duration": 300,
    "start_time": "2021-09-21T17:35:55.909Z"
   },
   {
    "duration": 351,
    "start_time": "2021-09-21T17:36:04.727Z"
   },
   {
    "duration": 65,
    "start_time": "2021-09-21T17:36:21.790Z"
   },
   {
    "duration": 15,
    "start_time": "2021-09-21T17:40:36.643Z"
   },
   {
    "duration": 255,
    "start_time": "2021-09-21T17:41:37.111Z"
   },
   {
    "duration": 15,
    "start_time": "2021-09-21T17:41:51.672Z"
   },
   {
    "duration": 14,
    "start_time": "2021-09-21T17:42:24.270Z"
   },
   {
    "duration": 15,
    "start_time": "2021-09-21T17:43:40.385Z"
   },
   {
    "duration": 283,
    "start_time": "2021-09-21T17:44:10.256Z"
   },
   {
    "duration": 207,
    "start_time": "2021-09-21T17:44:23.063Z"
   },
   {
    "duration": 189,
    "start_time": "2021-09-21T17:46:09.050Z"
   },
   {
    "duration": 14,
    "start_time": "2021-09-21T17:52:29.734Z"
   },
   {
    "duration": 307,
    "start_time": "2021-09-21T17:53:57.174Z"
   },
   {
    "duration": 173,
    "start_time": "2021-09-21T17:54:02.303Z"
   },
   {
    "duration": 174,
    "start_time": "2021-09-21T17:54:44.223Z"
   },
   {
    "duration": 401,
    "start_time": "2021-09-21T18:17:46.723Z"
   },
   {
    "duration": 410,
    "start_time": "2021-09-21T18:22:42.917Z"
   },
   {
    "duration": 592,
    "start_time": "2021-09-21T18:22:58.078Z"
   },
   {
    "duration": 449,
    "start_time": "2021-09-21T18:23:04.557Z"
   },
   {
    "duration": 478,
    "start_time": "2021-09-21T18:23:22.110Z"
   },
   {
    "duration": 548,
    "start_time": "2021-09-21T18:24:00.622Z"
   },
   {
    "duration": 261,
    "start_time": "2021-09-21T18:39:18.157Z"
   },
   {
    "duration": 19,
    "start_time": "2021-09-21T18:39:31.709Z"
   },
   {
    "duration": 20,
    "start_time": "2021-09-21T18:41:04.705Z"
   },
   {
    "duration": 24,
    "start_time": "2021-09-21T18:49:33.700Z"
   },
   {
    "duration": 30,
    "start_time": "2021-09-21T19:04:34.219Z"
   },
   {
    "duration": 32,
    "start_time": "2021-09-21T19:04:55.678Z"
   },
   {
    "duration": 32,
    "start_time": "2021-09-21T19:11:14.534Z"
   },
   {
    "duration": 74,
    "start_time": "2021-09-21T19:11:35.117Z"
   },
   {
    "duration": 275,
    "start_time": "2021-09-21T19:12:53.582Z"
   },
   {
    "duration": 301,
    "start_time": "2021-09-21T19:13:04.060Z"
   },
   {
    "duration": 42,
    "start_time": "2021-09-21T19:13:30.373Z"
   },
   {
    "duration": 36,
    "start_time": "2021-09-21T19:13:47.733Z"
   },
   {
    "duration": 36,
    "start_time": "2021-09-21T19:14:22.212Z"
   },
   {
    "duration": 33,
    "start_time": "2021-09-21T19:17:51.736Z"
   },
   {
    "duration": 1336,
    "start_time": "2021-09-22T08:27:21.511Z"
   },
   {
    "duration": 1445,
    "start_time": "2021-09-22T08:27:27.499Z"
   },
   {
    "duration": 116,
    "start_time": "2021-09-22T08:27:28.946Z"
   },
   {
    "duration": 790,
    "start_time": "2021-09-22T08:27:29.065Z"
   },
   {
    "duration": 359,
    "start_time": "2021-09-22T08:27:29.857Z"
   },
   {
    "duration": 75,
    "start_time": "2021-09-22T08:28:17.951Z"
   },
   {
    "duration": 31,
    "start_time": "2021-09-22T08:29:27.455Z"
   },
   {
    "duration": 30,
    "start_time": "2021-09-22T08:29:49.277Z"
   },
   {
    "duration": 41,
    "start_time": "2021-09-22T08:33:08.726Z"
   },
   {
    "duration": 42,
    "start_time": "2021-09-22T08:33:36.113Z"
   },
   {
    "duration": 87,
    "start_time": "2021-09-22T08:40:10.417Z"
   },
   {
    "duration": 267,
    "start_time": "2021-09-22T08:40:17.848Z"
   },
   {
    "duration": 468,
    "start_time": "2021-09-22T08:40:25.077Z"
   },
   {
    "duration": 17,
    "start_time": "2021-09-22T08:40:54.555Z"
   },
   {
    "duration": 17,
    "start_time": "2021-09-22T08:41:02.243Z"
   },
   {
    "duration": 16,
    "start_time": "2021-09-22T08:41:29.490Z"
   },
   {
    "duration": 83,
    "start_time": "2021-09-22T08:41:47.650Z"
   },
   {
    "duration": 113,
    "start_time": "2021-09-22T08:41:47.736Z"
   },
   {
    "duration": 772,
    "start_time": "2021-09-22T08:41:47.852Z"
   },
   {
    "duration": 46,
    "start_time": "2021-09-22T08:41:48.627Z"
   },
   {
    "duration": 16,
    "start_time": "2021-09-22T08:41:48.675Z"
   },
   {
    "duration": 16,
    "start_time": "2021-09-22T08:43:19.984Z"
   },
   {
    "duration": 17,
    "start_time": "2021-09-22T08:43:26.520Z"
   },
   {
    "duration": 35,
    "start_time": "2021-09-22T08:44:14.832Z"
   },
   {
    "duration": 24,
    "start_time": "2021-09-22T08:45:41.844Z"
   },
   {
    "duration": 47,
    "start_time": "2021-09-22T08:46:44.238Z"
   },
   {
    "duration": 258,
    "start_time": "2021-09-22T08:47:12.845Z"
   },
   {
    "duration": 278,
    "start_time": "2021-09-22T08:47:29.660Z"
   },
   {
    "duration": 345,
    "start_time": "2021-09-22T08:48:32.508Z"
   },
   {
    "duration": 45,
    "start_time": "2021-09-22T08:56:35.492Z"
   },
   {
    "duration": 61,
    "start_time": "2021-09-22T08:58:19.498Z"
   },
   {
    "duration": 46,
    "start_time": "2021-09-22T09:03:35.375Z"
   },
   {
    "duration": 48,
    "start_time": "2021-09-22T09:03:47.894Z"
   },
   {
    "duration": 51,
    "start_time": "2021-09-22T09:04:03.166Z"
   },
   {
    "duration": 46,
    "start_time": "2021-09-22T09:04:54.830Z"
   },
   {
    "duration": 97,
    "start_time": "2021-09-22T09:06:56.582Z"
   },
   {
    "duration": 44,
    "start_time": "2021-09-22T09:08:01.501Z"
   },
   {
    "duration": 5440,
    "start_time": "2021-09-22T09:09:15.369Z"
   },
   {
    "duration": 5861,
    "start_time": "2021-09-22T09:09:37.425Z"
   },
   {
    "duration": 2520,
    "start_time": "2021-09-22T09:09:58.032Z"
   },
   {
    "duration": 48,
    "start_time": "2021-09-22T09:30:30.740Z"
   },
   {
    "duration": 1714,
    "start_time": "2021-09-22T09:30:55.178Z"
   },
   {
    "duration": 143,
    "start_time": "2021-09-22T09:35:56.215Z"
   },
   {
    "duration": 398,
    "start_time": "2021-09-22T09:36:40.942Z"
   },
   {
    "duration": 123,
    "start_time": "2021-09-22T09:36:54.358Z"
   },
   {
    "duration": 114,
    "start_time": "2021-09-22T09:45:23.878Z"
   },
   {
    "duration": 80,
    "start_time": "2021-09-22T09:45:31.005Z"
   },
   {
    "duration": 156,
    "start_time": "2021-09-22T09:45:31.088Z"
   },
   {
    "duration": 900,
    "start_time": "2021-09-22T09:45:31.247Z"
   },
   {
    "duration": 47,
    "start_time": "2021-09-22T09:45:32.150Z"
   },
   {
    "duration": 1669,
    "start_time": "2021-09-22T09:45:32.199Z"
   },
   {
    "duration": 128,
    "start_time": "2021-09-22T09:46:12.342Z"
   },
   {
    "duration": 136,
    "start_time": "2021-09-22T09:46:44.492Z"
   },
   {
    "duration": 117,
    "start_time": "2021-09-22T09:47:48.268Z"
   },
   {
    "duration": 84,
    "start_time": "2021-09-22T09:47:54.883Z"
   },
   {
    "duration": 152,
    "start_time": "2021-09-22T09:47:54.970Z"
   },
   {
    "duration": 770,
    "start_time": "2021-09-22T09:47:55.125Z"
   },
   {
    "duration": 53,
    "start_time": "2021-09-22T09:47:55.897Z"
   },
   {
    "duration": 1623,
    "start_time": "2021-09-22T09:47:55.952Z"
   },
   {
    "duration": 79,
    "start_time": "2021-09-22T09:52:00.295Z"
   },
   {
    "duration": 272,
    "start_time": "2021-09-22T09:52:00.377Z"
   },
   {
    "duration": 783,
    "start_time": "2021-09-22T09:52:00.652Z"
   },
   {
    "duration": 49,
    "start_time": "2021-09-22T09:52:01.438Z"
   },
   {
    "duration": 1658,
    "start_time": "2021-09-22T09:52:01.489Z"
   },
   {
    "duration": 8114,
    "start_time": "2021-09-22T09:52:27.222Z"
   },
   {
    "duration": 1814,
    "start_time": "2021-09-22T09:53:39.366Z"
   },
   {
    "duration": 1818,
    "start_time": "2021-09-22T09:54:27.669Z"
   },
   {
    "duration": 1232,
    "start_time": "2021-09-22T09:54:49.916Z"
   },
   {
    "duration": 1079,
    "start_time": "2021-09-22T09:55:10.564Z"
   },
   {
    "duration": 1046,
    "start_time": "2021-09-22T09:55:17.732Z"
   },
   {
    "duration": 1064,
    "start_time": "2021-09-22T09:55:29.740Z"
   },
   {
    "duration": 983,
    "start_time": "2021-09-22T09:56:06.580Z"
   },
   {
    "duration": 954,
    "start_time": "2021-09-22T09:56:12.892Z"
   },
   {
    "duration": 1033,
    "start_time": "2021-09-22T09:56:18.755Z"
   },
   {
    "duration": 968,
    "start_time": "2021-09-22T09:56:25.731Z"
   },
   {
    "duration": 1015,
    "start_time": "2021-09-22T09:56:34.234Z"
   },
   {
    "duration": 1174,
    "start_time": "2021-09-22T10:01:30.807Z"
   },
   {
    "duration": 48,
    "start_time": "2021-09-22T10:36:43.575Z"
   },
   {
    "duration": 1501,
    "start_time": "2021-09-22T10:37:16.007Z"
   },
   {
    "duration": 2346,
    "start_time": "2021-09-22T10:41:00.380Z"
   },
   {
    "duration": 2016,
    "start_time": "2021-09-22T10:41:51.091Z"
   },
   {
    "duration": 2063,
    "start_time": "2021-09-22T10:42:10.170Z"
   },
   {
    "duration": 1592,
    "start_time": "2021-09-22T11:28:17.895Z"
   },
   {
    "duration": 1737,
    "start_time": "2021-09-22T12:06:13.070Z"
   },
   {
    "duration": 5610,
    "start_time": "2021-09-22T12:06:23.892Z"
   },
   {
    "duration": 78,
    "start_time": "2021-09-22T12:06:42.804Z"
   },
   {
    "duration": 148,
    "start_time": "2021-09-22T12:06:42.885Z"
   },
   {
    "duration": 816,
    "start_time": "2021-09-22T12:06:43.036Z"
   },
   {
    "duration": 68,
    "start_time": "2021-09-22T12:06:43.854Z"
   },
   {
    "duration": 2013,
    "start_time": "2021-09-22T12:06:43.925Z"
   },
   {
    "duration": 5369,
    "start_time": "2021-09-22T12:06:45.941Z"
   },
   {
    "duration": 3,
    "start_time": "2021-09-22T12:12:59.569Z"
   },
   {
    "duration": 33,
    "start_time": "2021-09-22T12:28:11.608Z"
   },
   {
    "duration": 13,
    "start_time": "2021-09-22T12:29:45.534Z"
   },
   {
    "duration": 37,
    "start_time": "2021-09-22T12:30:13.294Z"
   },
   {
    "duration": 34,
    "start_time": "2021-09-22T12:30:20.006Z"
   },
   {
    "duration": 13,
    "start_time": "2021-09-22T12:30:36.806Z"
   },
   {
    "duration": 46,
    "start_time": "2021-09-22T12:32:10.228Z"
   },
   {
    "duration": 36,
    "start_time": "2021-09-22T12:32:17.588Z"
   },
   {
    "duration": 42,
    "start_time": "2021-09-22T12:32:26.412Z"
   },
   {
    "duration": 47,
    "start_time": "2021-09-22T12:32:37.987Z"
   },
   {
    "duration": 43,
    "start_time": "2021-09-22T12:32:45.388Z"
   },
   {
    "duration": 43,
    "start_time": "2021-09-22T12:33:10.763Z"
   },
   {
    "duration": 42,
    "start_time": "2021-09-22T12:38:01.863Z"
   },
   {
    "duration": 616,
    "start_time": "2021-09-22T12:39:19.806Z"
   },
   {
    "duration": 595,
    "start_time": "2021-09-22T12:39:30.365Z"
   },
   {
    "duration": 1809,
    "start_time": "2021-09-22T12:40:04.973Z"
   },
   {
    "duration": 1013,
    "start_time": "2021-09-22T12:41:12.213Z"
   },
   {
    "duration": 637,
    "start_time": "2021-09-22T12:44:31.320Z"
   },
   {
    "duration": 33,
    "start_time": "2021-09-22T15:21:02.328Z"
   },
   {
    "duration": 33,
    "start_time": "2021-09-22T15:22:07.735Z"
   },
   {
    "duration": 35,
    "start_time": "2021-09-22T15:22:23.303Z"
   },
   {
    "duration": 45,
    "start_time": "2021-09-22T15:22:55.511Z"
   },
   {
    "duration": 16,
    "start_time": "2021-09-22T15:23:50.015Z"
   },
   {
    "duration": 49,
    "start_time": "2021-09-22T15:23:54.917Z"
   },
   {
    "duration": 106,
    "start_time": "2021-09-22T15:24:18.743Z"
   },
   {
    "duration": 7,
    "start_time": "2021-09-22T15:26:36.482Z"
   },
   {
    "duration": 7,
    "start_time": "2021-09-22T15:27:00.650Z"
   },
   {
    "duration": 36,
    "start_time": "2021-09-22T15:28:45.767Z"
   },
   {
    "duration": 33,
    "start_time": "2021-09-22T15:29:06.551Z"
   },
   {
    "duration": 20,
    "start_time": "2021-09-22T15:31:05.957Z"
   },
   {
    "duration": 34,
    "start_time": "2021-09-22T15:31:43.787Z"
   },
   {
    "duration": 9977,
    "start_time": "2021-09-22T15:34:19.216Z"
   },
   {
    "duration": 1455,
    "start_time": "2021-09-22T15:35:06.523Z"
   },
   {
    "duration": 149,
    "start_time": "2021-09-22T15:35:07.981Z"
   },
   {
    "duration": 820,
    "start_time": "2021-09-22T15:35:08.132Z"
   },
   {
    "duration": 67,
    "start_time": "2021-09-22T15:35:08.955Z"
   },
   {
    "duration": 1626,
    "start_time": "2021-09-22T15:35:09.025Z"
   },
   {
    "duration": 634,
    "start_time": "2021-09-22T15:35:10.653Z"
   },
   {
    "duration": 1757,
    "start_time": "2021-09-22T15:35:11.289Z"
   },
   {
    "duration": 786,
    "start_time": "2021-09-22T15:36:13.852Z"
   },
   {
    "duration": 797,
    "start_time": "2021-09-22T15:39:26.664Z"
   },
   {
    "duration": 1193,
    "start_time": "2021-09-22T15:39:38.656Z"
   },
   {
    "duration": -456,
    "start_time": "2021-09-22T15:40:47.498Z"
   },
   {
    "duration": 7873,
    "start_time": "2021-09-22T15:41:00.590Z"
   },
   {
    "duration": 1523,
    "start_time": "2021-09-22T15:42:05.198Z"
   },
   {
    "duration": 619,
    "start_time": "2021-09-22T15:42:52.565Z"
   },
   {
    "duration": 952,
    "start_time": "2021-09-22T15:43:01.972Z"
   },
   {
    "duration": 1004,
    "start_time": "2021-09-22T15:50:00.741Z"
   },
   {
    "duration": 1514,
    "start_time": "2021-09-22T15:51:08.525Z"
   },
   {
    "duration": 965,
    "start_time": "2021-09-22T15:51:20.571Z"
   },
   {
    "duration": 977,
    "start_time": "2021-09-22T15:51:53.075Z"
   },
   {
    "duration": 377,
    "start_time": "2021-09-22T15:54:06.689Z"
   },
   {
    "duration": 288,
    "start_time": "2021-09-22T15:54:13.624Z"
   },
   {
    "duration": 996,
    "start_time": "2021-09-22T15:54:24.768Z"
   },
   {
    "duration": 2350,
    "start_time": "2021-09-22T16:06:01.314Z"
   },
   {
    "duration": 2331,
    "start_time": "2021-09-22T16:07:22.660Z"
   },
   {
    "duration": 2755,
    "start_time": "2021-09-22T16:08:44.691Z"
   },
   {
    "duration": 3089,
    "start_time": "2021-09-22T16:12:18.200Z"
   },
   {
    "duration": 83,
    "start_time": "2021-09-22T16:34:55.105Z"
   },
   {
    "duration": 94,
    "start_time": "2021-09-22T16:35:02.721Z"
   },
   {
    "duration": 34,
    "start_time": "2021-09-22T16:35:10.929Z"
   },
   {
    "duration": 33,
    "start_time": "2021-09-22T16:40:49.767Z"
   },
   {
    "duration": 19,
    "start_time": "2021-09-22T16:42:49.152Z"
   },
   {
    "duration": 1964,
    "start_time": "2021-09-22T16:45:09.167Z"
   },
   {
    "duration": 1955,
    "start_time": "2021-09-22T16:54:12.892Z"
   },
   {
    "duration": 1988,
    "start_time": "2021-09-22T16:54:26.363Z"
   },
   {
    "duration": 1966,
    "start_time": "2021-09-22T16:54:33.947Z"
   },
   {
    "duration": 1949,
    "start_time": "2021-09-22T16:54:47.323Z"
   },
   {
    "duration": 86,
    "start_time": "2021-09-22T17:01:55.204Z"
   },
   {
    "duration": 96,
    "start_time": "2021-09-22T17:02:11.931Z"
   },
   {
    "duration": 89,
    "start_time": "2021-09-22T17:02:30.082Z"
   },
   {
    "duration": 87,
    "start_time": "2021-09-22T17:03:10.162Z"
   },
   {
    "duration": 95,
    "start_time": "2021-09-22T17:03:15.690Z"
   },
   {
    "duration": 2036,
    "start_time": "2021-09-22T17:03:25.690Z"
   },
   {
    "duration": 1775,
    "start_time": "2021-09-22T17:03:41.865Z"
   },
   {
    "duration": 686,
    "start_time": "2021-09-22T17:04:27.265Z"
   },
   {
    "duration": 3913,
    "start_time": "2021-09-22T17:05:06.761Z"
   },
   {
    "duration": 1805,
    "start_time": "2021-09-22T17:16:30.940Z"
   },
   {
    "duration": 1923,
    "start_time": "2021-09-22T17:16:47.810Z"
   },
   {
    "duration": 20,
    "start_time": "2021-09-22T17:37:00.243Z"
   },
   {
    "duration": 32,
    "start_time": "2021-09-22T17:37:48.034Z"
   },
   {
    "duration": 30,
    "start_time": "2021-09-22T17:38:37.953Z"
   },
   {
    "duration": 337,
    "start_time": "2021-09-22T17:39:23.873Z"
   },
   {
    "duration": 33,
    "start_time": "2021-09-22T17:39:32.128Z"
   },
   {
    "duration": 31,
    "start_time": "2021-09-22T18:44:53.778Z"
   },
   {
    "duration": 24,
    "start_time": "2021-09-22T18:47:30.343Z"
   },
   {
    "duration": 317,
    "start_time": "2021-09-22T18:49:19.958Z"
   },
   {
    "duration": 291,
    "start_time": "2021-09-22T18:49:26.432Z"
   },
   {
    "duration": 29,
    "start_time": "2021-09-22T18:49:40.949Z"
   },
   {
    "duration": 33,
    "start_time": "2021-09-22T18:51:27.244Z"
   },
   {
    "duration": 34,
    "start_time": "2021-09-22T18:52:54.835Z"
   },
   {
    "duration": 54,
    "start_time": "2021-09-22T18:53:37.796Z"
   },
   {
    "duration": 33,
    "start_time": "2021-09-22T18:53:45.259Z"
   },
   {
    "duration": 31,
    "start_time": "2021-09-22T18:54:31.570Z"
   },
   {
    "duration": 304,
    "start_time": "2021-09-22T18:55:12.361Z"
   },
   {
    "duration": 21,
    "start_time": "2021-09-22T18:55:19.473Z"
   },
   {
    "duration": 28,
    "start_time": "2021-09-22T18:55:46.625Z"
   },
   {
    "duration": 29,
    "start_time": "2021-09-22T18:56:34.425Z"
   },
   {
    "duration": 29,
    "start_time": "2021-09-22T18:56:53.872Z"
   },
   {
    "duration": 27,
    "start_time": "2021-09-22T18:57:12.608Z"
   },
   {
    "duration": 28,
    "start_time": "2021-09-22T19:00:02.597Z"
   },
   {
    "duration": 40,
    "start_time": "2021-09-22T19:02:22.284Z"
   },
   {
    "duration": 50,
    "start_time": "2021-09-22T19:02:42.852Z"
   },
   {
    "duration": 85,
    "start_time": "2021-09-22T19:02:49.540Z"
   },
   {
    "duration": 154,
    "start_time": "2021-09-22T19:02:49.628Z"
   },
   {
    "duration": 910,
    "start_time": "2021-09-22T19:02:49.785Z"
   },
   {
    "duration": 55,
    "start_time": "2021-09-22T19:02:50.698Z"
   },
   {
    "duration": 1820,
    "start_time": "2021-09-22T19:02:50.755Z"
   },
   {
    "duration": 656,
    "start_time": "2021-09-22T19:02:52.577Z"
   },
   {
    "duration": 3153,
    "start_time": "2021-09-22T19:02:53.235Z"
   },
   {
    "duration": 2210,
    "start_time": "2021-09-22T19:02:56.392Z"
   },
   {
    "duration": 2212,
    "start_time": "2021-09-22T19:02:58.605Z"
   },
   {
    "duration": 1948,
    "start_time": "2021-09-22T19:03:00.823Z"
   },
   {
    "duration": 62,
    "start_time": "2021-09-22T19:03:02.775Z"
   },
   {
    "duration": 50,
    "start_time": "2021-09-22T19:03:02.840Z"
   },
   {
    "duration": 27,
    "start_time": "2021-09-22T19:03:24.387Z"
   },
   {
    "duration": 33,
    "start_time": "2021-09-22T19:07:38.486Z"
   },
   {
    "duration": 30,
    "start_time": "2021-09-22T19:08:33.326Z"
   },
   {
    "duration": 125,
    "start_time": "2021-09-22T19:08:52.734Z"
   },
   {
    "duration": 49,
    "start_time": "2021-09-22T19:09:02.749Z"
   },
   {
    "duration": 33,
    "start_time": "2021-09-22T19:09:11.425Z"
   },
   {
    "duration": 31,
    "start_time": "2021-09-22T19:09:26.613Z"
   },
   {
    "duration": 487,
    "start_time": "2021-09-22T19:10:11.596Z"
   },
   {
    "duration": 36,
    "start_time": "2021-09-22T19:10:19.412Z"
   },
   {
    "duration": 40,
    "start_time": "2021-09-22T19:17:21.334Z"
   },
   {
    "duration": 43,
    "start_time": "2021-09-22T19:20:29.114Z"
   },
   {
    "duration": 40,
    "start_time": "2021-09-22T19:25:04.078Z"
   },
   {
    "duration": 18,
    "start_time": "2021-09-22T19:26:23.284Z"
   },
   {
    "duration": 6,
    "start_time": "2021-09-22T19:27:52.635Z"
   },
   {
    "duration": 13,
    "start_time": "2021-09-22T19:27:55.227Z"
   },
   {
    "duration": 8,
    "start_time": "2021-09-22T19:28:05.051Z"
   },
   {
    "duration": 19,
    "start_time": "2021-09-22T19:28:06.994Z"
   },
   {
    "duration": 19,
    "start_time": "2021-09-22T19:28:39.698Z"
   },
   {
    "duration": 25,
    "start_time": "2021-09-22T19:29:10.450Z"
   },
   {
    "duration": 19,
    "start_time": "2021-09-22T19:29:21.025Z"
   },
   {
    "duration": 20,
    "start_time": "2021-09-22T19:30:24.163Z"
   },
   {
    "duration": 6,
    "start_time": "2021-09-22T19:32:51.902Z"
   },
   {
    "duration": 573,
    "start_time": "2021-09-22T19:32:55.437Z"
   },
   {
    "duration": 9,
    "start_time": "2021-09-22T19:33:09.037Z"
   },
   {
    "duration": 18,
    "start_time": "2021-09-22T19:33:12.286Z"
   },
   {
    "duration": 6,
    "start_time": "2021-09-22T19:33:16.967Z"
   },
   {
    "duration": 20,
    "start_time": "2021-09-22T19:33:18.605Z"
   },
   {
    "duration": 19,
    "start_time": "2021-09-22T19:33:27.374Z"
   },
   {
    "duration": 20,
    "start_time": "2021-09-22T19:33:29.277Z"
   },
   {
    "duration": 7,
    "start_time": "2021-09-22T19:36:00.027Z"
   },
   {
    "duration": 27,
    "start_time": "2021-09-22T19:36:02.299Z"
   },
   {
    "duration": 6,
    "start_time": "2021-09-22T19:36:10.307Z"
   },
   {
    "duration": 20,
    "start_time": "2021-09-22T19:36:12.179Z"
   },
   {
    "duration": 18,
    "start_time": "2021-09-22T19:36:17.171Z"
   },
   {
    "duration": 19,
    "start_time": "2021-09-22T19:36:19.875Z"
   },
   {
    "duration": 6,
    "start_time": "2021-09-22T19:36:34.066Z"
   },
   {
    "duration": 20,
    "start_time": "2021-09-22T19:37:35.274Z"
   },
   {
    "duration": 15,
    "start_time": "2021-09-22T19:37:44.849Z"
   },
   {
    "duration": 21,
    "start_time": "2021-09-22T19:37:50.176Z"
   },
   {
    "duration": 26,
    "start_time": "2021-09-22T19:56:02.383Z"
   },
   {
    "duration": 6,
    "start_time": "2021-09-22T19:58:58.388Z"
   },
   {
    "duration": 20,
    "start_time": "2021-09-22T19:59:01.380Z"
   },
   {
    "duration": 19,
    "start_time": "2021-09-22T19:59:05.580Z"
   },
   {
    "duration": 20,
    "start_time": "2021-09-22T19:59:08.629Z"
   },
   {
    "duration": 324,
    "start_time": "2021-09-22T19:59:43.676Z"
   },
   {
    "duration": 6,
    "start_time": "2021-09-22T19:59:51.196Z"
   },
   {
    "duration": 19,
    "start_time": "2021-09-22T20:00:02.643Z"
   },
   {
    "duration": 18,
    "start_time": "2021-09-22T20:00:38.500Z"
   },
   {
    "duration": 20,
    "start_time": "2021-09-22T20:00:54.498Z"
   },
   {
    "duration": 20,
    "start_time": "2021-09-22T20:01:04.138Z"
   },
   {
    "duration": 30,
    "start_time": "2021-09-22T20:21:49.086Z"
   },
   {
    "duration": 43,
    "start_time": "2021-09-22T20:22:56.797Z"
   },
   {
    "duration": 301,
    "start_time": "2021-09-22T20:25:22.258Z"
   },
   {
    "duration": 51,
    "start_time": "2021-09-22T20:25:33.995Z"
   },
   {
    "duration": 25,
    "start_time": "2021-09-22T20:27:48.520Z"
   },
   {
    "duration": 33,
    "start_time": "2021-09-22T20:30:17.790Z"
   },
   {
    "duration": 5,
    "start_time": "2021-09-22T20:32:25.299Z"
   },
   {
    "duration": 15,
    "start_time": "2021-09-22T20:32:35.875Z"
   },
   {
    "duration": 6685,
    "start_time": "2021-09-22T20:33:35.570Z"
   },
   {
    "duration": 6912,
    "start_time": "2021-09-22T20:34:19.409Z"
   },
   {
    "duration": 15,
    "start_time": "2021-09-22T20:35:09.793Z"
   },
   {
    "duration": 7599,
    "start_time": "2021-09-22T20:36:47.215Z"
   },
   {
    "duration": 7651,
    "start_time": "2021-09-22T20:37:44.982Z"
   },
   {
    "duration": 3,
    "start_time": "2021-09-22T20:40:11.428Z"
   },
   {
    "duration": 6,
    "start_time": "2021-09-22T20:40:22.467Z"
   },
   {
    "duration": 9,
    "start_time": "2021-09-22T20:41:53.353Z"
   },
   {
    "duration": 426,
    "start_time": "2021-09-22T20:44:58.111Z"
   },
   {
    "duration": 9,
    "start_time": "2021-09-22T20:45:08.855Z"
   },
   {
    "duration": 448,
    "start_time": "2021-09-22T20:45:28.086Z"
   },
   {
    "duration": 8,
    "start_time": "2021-09-22T20:45:40.262Z"
   },
   {
    "duration": 27,
    "start_time": "2021-09-22T20:46:30.813Z"
   },
   {
    "duration": 5229,
    "start_time": "2021-09-22T20:48:17.324Z"
   },
   {
    "duration": 3422,
    "start_time": "2021-09-22T20:48:32.288Z"
   },
   {
    "duration": 23,
    "start_time": "2021-09-22T20:49:21.803Z"
   },
   {
    "duration": 88,
    "start_time": "2021-09-22T20:49:36.772Z"
   },
   {
    "duration": 144,
    "start_time": "2021-09-22T20:49:36.864Z"
   },
   {
    "duration": 886,
    "start_time": "2021-09-22T20:49:37.024Z"
   },
   {
    "duration": 78,
    "start_time": "2021-09-22T20:49:37.913Z"
   },
   {
    "duration": 1793,
    "start_time": "2021-09-22T20:49:37.993Z"
   },
   {
    "duration": 642,
    "start_time": "2021-09-22T20:49:39.789Z"
   },
   {
    "duration": 2781,
    "start_time": "2021-09-22T20:49:40.433Z"
   },
   {
    "duration": 1984,
    "start_time": "2021-09-22T20:49:43.222Z"
   },
   {
    "duration": 1759,
    "start_time": "2021-09-22T20:49:45.209Z"
   },
   {
    "duration": 1906,
    "start_time": "2021-09-22T20:49:46.971Z"
   },
   {
    "duration": 45,
    "start_time": "2021-09-22T20:49:48.879Z"
   },
   {
    "duration": 34,
    "start_time": "2021-09-22T20:49:48.927Z"
   },
   {
    "duration": 13,
    "start_time": "2021-09-22T20:49:48.964Z"
   },
   {
    "duration": 31,
    "start_time": "2021-09-22T20:49:48.979Z"
   },
   {
    "duration": 26,
    "start_time": "2021-09-22T20:49:49.013Z"
   },
   {
    "duration": 152,
    "start_time": "2021-09-22T20:49:49.041Z"
   },
   {
    "duration": 39,
    "start_time": "2021-09-22T20:49:49.195Z"
   },
   {
    "duration": 6,
    "start_time": "2021-09-22T20:49:49.236Z"
   },
   {
    "duration": 27,
    "start_time": "2021-09-22T20:49:49.244Z"
   },
   {
    "duration": 18,
    "start_time": "2021-09-22T20:49:49.273Z"
   },
   {
    "duration": 43,
    "start_time": "2021-09-22T20:49:49.294Z"
   },
   {
    "duration": 34,
    "start_time": "2021-09-22T20:49:49.339Z"
   },
   {
    "duration": 27,
    "start_time": "2021-09-22T20:49:49.377Z"
   },
   {
    "duration": 20,
    "start_time": "2021-09-22T20:50:18.298Z"
   },
   {
    "duration": 21,
    "start_time": "2021-09-22T20:51:36.080Z"
   },
   {
    "duration": 18,
    "start_time": "2021-09-22T20:51:53.408Z"
   },
   {
    "duration": 17,
    "start_time": "2021-09-22T20:52:38.079Z"
   },
   {
    "duration": 18,
    "start_time": "2021-09-22T20:52:53.208Z"
   },
   {
    "duration": 18,
    "start_time": "2021-09-22T20:52:58.846Z"
   },
   {
    "duration": 17,
    "start_time": "2021-09-22T20:53:34.575Z"
   },
   {
    "duration": 7,
    "start_time": "2021-09-22T21:07:57.184Z"
   },
   {
    "duration": 25,
    "start_time": "2021-09-22T21:07:59.504Z"
   },
   {
    "duration": 23,
    "start_time": "2021-09-22T21:08:01.200Z"
   },
   {
    "duration": 24,
    "start_time": "2021-09-22T21:08:03.128Z"
   },
   {
    "duration": 11,
    "start_time": "2021-09-22T21:35:56.462Z"
   },
   {
    "duration": 62,
    "start_time": "2021-09-22T21:36:15.653Z"
   },
   {
    "duration": 34,
    "start_time": "2021-09-22T21:36:23.685Z"
   },
   {
    "duration": 9,
    "start_time": "2021-09-22T21:36:53.268Z"
   },
   {
    "duration": 6,
    "start_time": "2021-09-22T21:37:31.954Z"
   },
   {
    "duration": 8,
    "start_time": "2021-09-22T21:38:49.226Z"
   },
   {
    "duration": 10,
    "start_time": "2021-09-22T21:39:57.576Z"
   },
   {
    "duration": 14,
    "start_time": "2021-09-22T21:40:58.775Z"
   },
   {
    "duration": 13,
    "start_time": "2021-09-22T21:42:01.615Z"
   },
   {
    "duration": 17,
    "start_time": "2021-09-22T21:44:18.364Z"
   },
   {
    "duration": 21,
    "start_time": "2021-09-22T21:45:36.235Z"
   },
   {
    "duration": 22,
    "start_time": "2021-09-22T21:47:48.769Z"
   },
   {
    "duration": 19,
    "start_time": "2021-09-22T21:48:12.328Z"
   },
   {
    "duration": 18,
    "start_time": "2021-09-22T21:48:39.841Z"
   },
   {
    "duration": 20,
    "start_time": "2021-09-22T21:53:45.210Z"
   },
   {
    "duration": 20,
    "start_time": "2021-09-22T21:54:34.994Z"
   },
   {
    "duration": 91,
    "start_time": "2021-09-22T23:11:53.392Z"
   },
   {
    "duration": 177,
    "start_time": "2021-09-22T23:11:53.487Z"
   },
   {
    "duration": 836,
    "start_time": "2021-09-22T23:11:53.667Z"
   },
   {
    "duration": 58,
    "start_time": "2021-09-22T23:11:54.506Z"
   },
   {
    "duration": 1641,
    "start_time": "2021-09-22T23:11:54.566Z"
   },
   {
    "duration": 742,
    "start_time": "2021-09-22T23:11:56.210Z"
   },
   {
    "duration": 3075,
    "start_time": "2021-09-22T23:11:56.954Z"
   },
   {
    "duration": 2049,
    "start_time": "2021-09-22T23:12:00.033Z"
   },
   {
    "duration": 1745,
    "start_time": "2021-09-22T23:12:02.085Z"
   },
   {
    "duration": 1912,
    "start_time": "2021-09-22T23:12:03.832Z"
   },
   {
    "duration": 33,
    "start_time": "2021-09-22T23:12:05.747Z"
   },
   {
    "duration": 46,
    "start_time": "2021-09-22T23:12:05.783Z"
   },
   {
    "duration": 6,
    "start_time": "2021-09-22T23:12:05.832Z"
   },
   {
    "duration": 30,
    "start_time": "2021-09-22T23:12:05.841Z"
   },
   {
    "duration": 41,
    "start_time": "2021-09-22T23:12:05.874Z"
   },
   {
    "duration": 40,
    "start_time": "2021-09-22T23:12:05.917Z"
   },
   {
    "duration": 35,
    "start_time": "2021-09-22T23:12:05.960Z"
   },
   {
    "duration": 6,
    "start_time": "2021-09-22T23:12:05.998Z"
   },
   {
    "duration": 44,
    "start_time": "2021-09-22T23:12:06.006Z"
   },
   {
    "duration": 40,
    "start_time": "2021-09-22T23:12:06.052Z"
   },
   {
    "duration": 38,
    "start_time": "2021-09-22T23:12:06.094Z"
   },
   {
    "duration": 29,
    "start_time": "2021-09-22T23:12:06.135Z"
   },
   {
    "duration": 16,
    "start_time": "2021-09-22T23:12:06.169Z"
   },
   {
    "duration": 54,
    "start_time": "2021-09-22T23:12:06.188Z"
   },
   {
    "duration": 31,
    "start_time": "2021-09-22T23:12:06.244Z"
   },
   {
    "duration": 38,
    "start_time": "2021-09-22T23:12:06.277Z"
   },
   {
    "duration": 34,
    "start_time": "2021-09-22T23:12:06.317Z"
   },
   {
    "duration": 30,
    "start_time": "2021-09-22T23:12:06.354Z"
   },
   {
    "duration": 981,
    "start_time": "2021-09-23T18:03:34.552Z"
   },
   {
    "duration": 88,
    "start_time": "2021-09-23T18:03:35.535Z"
   },
   {
    "duration": 518,
    "start_time": "2021-09-23T18:03:35.625Z"
   },
   {
    "duration": 31,
    "start_time": "2021-09-23T18:03:36.145Z"
   },
   {
    "duration": 1002,
    "start_time": "2021-09-23T18:03:36.177Z"
   },
   {
    "duration": 5253,
    "start_time": "2021-09-23T18:03:37.181Z"
   },
   {
    "duration": 74165,
    "start_time": "2021-09-23T18:02:28.272Z"
   },
   {
    "duration": 74162,
    "start_time": "2021-09-23T18:02:28.277Z"
   },
   {
    "duration": 74161,
    "start_time": "2021-09-23T18:02:28.279Z"
   },
   {
    "duration": 74160,
    "start_time": "2021-09-23T18:02:28.281Z"
   },
   {
    "duration": 74158,
    "start_time": "2021-09-23T18:02:28.284Z"
   },
   {
    "duration": 74154,
    "start_time": "2021-09-23T18:02:28.289Z"
   },
   {
    "duration": 74152,
    "start_time": "2021-09-23T18:02:28.292Z"
   },
   {
    "duration": 74152,
    "start_time": "2021-09-23T18:02:28.293Z"
   },
   {
    "duration": 74151,
    "start_time": "2021-09-23T18:02:28.295Z"
   },
   {
    "duration": 74151,
    "start_time": "2021-09-23T18:02:28.296Z"
   },
   {
    "duration": 74150,
    "start_time": "2021-09-23T18:02:28.298Z"
   },
   {
    "duration": 74150,
    "start_time": "2021-09-23T18:02:28.299Z"
   },
   {
    "duration": 74149,
    "start_time": "2021-09-23T18:02:28.301Z"
   },
   {
    "duration": 74149,
    "start_time": "2021-09-23T18:02:28.302Z"
   },
   {
    "duration": 74148,
    "start_time": "2021-09-23T18:02:28.304Z"
   },
   {
    "duration": 74148,
    "start_time": "2021-09-23T18:02:28.305Z"
   },
   {
    "duration": 74147,
    "start_time": "2021-09-23T18:02:28.307Z"
   },
   {
    "duration": 74147,
    "start_time": "2021-09-23T18:02:28.308Z"
   },
   {
    "duration": 74146,
    "start_time": "2021-09-23T18:02:28.310Z"
   },
   {
    "duration": 74146,
    "start_time": "2021-09-23T18:02:28.311Z"
   },
   {
    "duration": 74146,
    "start_time": "2021-09-23T18:02:28.312Z"
   },
   {
    "duration": 74145,
    "start_time": "2021-09-23T18:02:28.314Z"
   },
   {
    "duration": 74145,
    "start_time": "2021-09-23T18:02:28.315Z"
   },
   {
    "duration": 1091,
    "start_time": "2021-09-23T18:04:11.285Z"
   },
   {
    "duration": 645,
    "start_time": "2021-09-23T18:04:21.543Z"
   },
   {
    "duration": 409,
    "start_time": "2021-09-23T18:04:22.190Z"
   },
   {
    "duration": 1689,
    "start_time": "2021-09-23T18:04:22.601Z"
   },
   {
    "duration": 1173,
    "start_time": "2021-09-23T18:04:24.291Z"
   },
   {
    "duration": 1339,
    "start_time": "2021-09-23T18:04:25.465Z"
   },
   {
    "duration": 1106,
    "start_time": "2021-09-23T18:04:26.806Z"
   },
   {
    "duration": 20,
    "start_time": "2021-09-23T18:04:27.914Z"
   },
   {
    "duration": 18,
    "start_time": "2021-09-23T18:04:27.936Z"
   },
   {
    "duration": 4,
    "start_time": "2021-09-23T18:04:27.956Z"
   },
   {
    "duration": 41,
    "start_time": "2021-09-23T18:04:27.963Z"
   },
   {
    "duration": 20,
    "start_time": "2021-09-23T18:04:28.006Z"
   },
   {
    "duration": 15,
    "start_time": "2021-09-23T18:04:28.028Z"
   },
   {
    "duration": 20,
    "start_time": "2021-09-23T18:04:28.044Z"
   },
   {
    "duration": 4,
    "start_time": "2021-09-23T18:04:28.065Z"
   },
   {
    "duration": 37,
    "start_time": "2021-09-23T18:04:28.071Z"
   },
   {
    "duration": 12,
    "start_time": "2021-09-23T18:04:28.109Z"
   },
   {
    "duration": 13,
    "start_time": "2021-09-23T18:04:28.122Z"
   },
   {
    "duration": 14,
    "start_time": "2021-09-23T18:04:28.137Z"
   },
   {
    "duration": 3,
    "start_time": "2021-09-23T18:04:28.153Z"
   },
   {
    "duration": 42,
    "start_time": "2021-09-23T18:04:28.158Z"
   },
   {
    "duration": 12,
    "start_time": "2021-09-23T18:04:28.201Z"
   },
   {
    "duration": 11,
    "start_time": "2021-09-23T18:04:28.215Z"
   },
   {
    "duration": 13,
    "start_time": "2021-09-23T18:04:28.228Z"
   },
   {
    "duration": 13,
    "start_time": "2021-09-23T18:04:28.242Z"
   },
   {
    "duration": 1470,
    "start_time": "2021-09-23T20:10:51.556Z"
   },
   {
    "duration": 134,
    "start_time": "2021-09-23T20:12:46.366Z"
   },
   {
    "duration": 548,
    "start_time": "2021-09-23T20:22:09.018Z"
   },
   {
    "duration": 405,
    "start_time": "2021-09-23T20:22:45.613Z"
   },
   {
    "duration": 108,
    "start_time": "2021-09-23T20:23:24.798Z"
   },
   {
    "duration": 79,
    "start_time": "2021-09-23T20:23:32.992Z"
   },
   {
    "duration": 169,
    "start_time": "2021-09-23T20:23:35.902Z"
   },
   {
    "duration": 82,
    "start_time": "2021-09-23T20:32:31.102Z"
   },
   {
    "duration": 177,
    "start_time": "2021-09-23T20:32:31.188Z"
   },
   {
    "duration": 839,
    "start_time": "2021-09-23T20:32:31.368Z"
   },
   {
    "duration": 62,
    "start_time": "2021-09-23T20:32:32.210Z"
   },
   {
    "duration": 1638,
    "start_time": "2021-09-23T20:32:32.274Z"
   },
   {
    "duration": 2647,
    "start_time": "2021-09-23T20:32:50.315Z"
   },
   {
    "duration": 99,
    "start_time": "2021-09-23T20:34:49.469Z"
   },
   {
    "duration": 149,
    "start_time": "2021-09-23T20:34:49.571Z"
   },
   {
    "duration": 845,
    "start_time": "2021-09-23T20:34:49.723Z"
   },
   {
    "duration": 49,
    "start_time": "2021-09-23T20:34:50.571Z"
   },
   {
    "duration": 1691,
    "start_time": "2021-09-23T20:34:50.622Z"
   },
   {
    "duration": 1220,
    "start_time": "2021-09-23T20:34:52.315Z"
   },
   {
    "duration": 660,
    "start_time": "2021-09-23T20:34:53.537Z"
   },
   {
    "duration": 2825,
    "start_time": "2021-09-23T20:34:54.201Z"
   },
   {
    "duration": 2028,
    "start_time": "2021-09-23T20:34:57.030Z"
   },
   {
    "duration": 1968,
    "start_time": "2021-09-23T20:34:59.060Z"
   },
   {
    "duration": 1759,
    "start_time": "2021-09-23T20:35:01.031Z"
   },
   {
    "duration": 31,
    "start_time": "2021-09-23T20:35:02.793Z"
   },
   {
    "duration": 51,
    "start_time": "2021-09-23T20:35:02.826Z"
   },
   {
    "duration": 6,
    "start_time": "2021-09-23T20:35:02.879Z"
   },
   {
    "duration": 43,
    "start_time": "2021-09-23T20:35:02.887Z"
   },
   {
    "duration": 49,
    "start_time": "2021-09-23T20:35:02.933Z"
   },
   {
    "duration": 22,
    "start_time": "2021-09-23T20:35:02.985Z"
   },
   {
    "duration": 28,
    "start_time": "2021-09-23T20:35:03.009Z"
   },
   {
    "duration": 6,
    "start_time": "2021-09-23T20:35:03.040Z"
   },
   {
    "duration": 23,
    "start_time": "2021-09-23T20:35:03.062Z"
   },
   {
    "duration": 25,
    "start_time": "2021-09-23T20:35:03.087Z"
   },
   {
    "duration": 27,
    "start_time": "2021-09-23T20:35:03.115Z"
   },
   {
    "duration": 25,
    "start_time": "2021-09-23T20:35:03.164Z"
   },
   {
    "duration": 16,
    "start_time": "2021-09-23T20:35:03.193Z"
   },
   {
    "duration": 26,
    "start_time": "2021-09-23T20:35:03.212Z"
   },
   {
    "duration": 18,
    "start_time": "2021-09-23T20:35:03.261Z"
   },
   {
    "duration": 20,
    "start_time": "2021-09-23T20:35:03.283Z"
   },
   {
    "duration": 56,
    "start_time": "2021-09-23T20:35:03.306Z"
   },
   {
    "duration": 34,
    "start_time": "2021-09-23T20:35:03.366Z"
   },
   {
    "duration": 16,
    "start_time": "2021-09-23T20:50:20.026Z"
   },
   {
    "duration": 81,
    "start_time": "2021-09-23T20:50:33.294Z"
   },
   {
    "duration": 157,
    "start_time": "2021-09-23T20:50:33.379Z"
   },
   {
    "duration": 864,
    "start_time": "2021-09-23T20:50:33.540Z"
   },
   {
    "duration": 67,
    "start_time": "2021-09-23T20:50:34.408Z"
   },
   {
    "duration": 1843,
    "start_time": "2021-09-23T20:50:34.478Z"
   },
   {
    "duration": 1056,
    "start_time": "2021-09-23T20:50:36.323Z"
   },
   {
    "duration": 657,
    "start_time": "2021-09-23T20:50:37.382Z"
   },
   {
    "duration": 2742,
    "start_time": "2021-09-23T20:50:38.043Z"
   },
   {
    "duration": 2330,
    "start_time": "2021-09-23T20:50:40.788Z"
   },
   {
    "duration": 1806,
    "start_time": "2021-09-23T20:50:43.120Z"
   },
   {
    "duration": 1745,
    "start_time": "2021-09-23T20:50:44.928Z"
   },
   {
    "duration": 32,
    "start_time": "2021-09-23T20:50:46.676Z"
   },
   {
    "duration": 61,
    "start_time": "2021-09-23T20:50:46.710Z"
   },
   {
    "duration": 8,
    "start_time": "2021-09-23T20:50:46.775Z"
   },
   {
    "duration": 27,
    "start_time": "2021-09-23T20:50:46.786Z"
   },
   {
    "duration": 56,
    "start_time": "2021-09-23T20:50:46.816Z"
   },
   {
    "duration": 21,
    "start_time": "2021-09-23T20:50:46.875Z"
   },
   {
    "duration": 27,
    "start_time": "2021-09-23T20:50:46.899Z"
   },
   {
    "duration": 5,
    "start_time": "2021-09-23T20:50:46.928Z"
   },
   {
    "duration": 19,
    "start_time": "2021-09-23T20:50:46.960Z"
   },
   {
    "duration": 20,
    "start_time": "2021-09-23T20:50:46.981Z"
   },
   {
    "duration": 18,
    "start_time": "2021-09-23T20:50:47.003Z"
   },
   {
    "duration": 25,
    "start_time": "2021-09-23T20:50:47.061Z"
   },
   {
    "duration": 6,
    "start_time": "2021-09-23T20:50:47.089Z"
   },
   {
    "duration": 18,
    "start_time": "2021-09-23T20:50:47.098Z"
   },
   {
    "duration": 56,
    "start_time": "2021-09-23T20:50:47.118Z"
   },
   {
    "duration": 22,
    "start_time": "2021-09-23T20:50:47.177Z"
   },
   {
    "duration": 21,
    "start_time": "2021-09-23T20:50:47.202Z"
   },
   {
    "duration": 20,
    "start_time": "2021-09-23T20:50:49.889Z"
   },
   {
    "duration": 18,
    "start_time": "2021-09-23T20:51:38.105Z"
   },
   {
    "duration": 101,
    "start_time": "2021-09-23T20:51:46.364Z"
   },
   {
    "duration": 149,
    "start_time": "2021-09-23T20:51:46.468Z"
   },
   {
    "duration": 856,
    "start_time": "2021-09-23T20:51:46.620Z"
   },
   {
    "duration": 52,
    "start_time": "2021-09-23T20:51:47.480Z"
   },
   {
    "duration": 1877,
    "start_time": "2021-09-23T20:51:47.562Z"
   },
   {
    "duration": 1058,
    "start_time": "2021-09-23T20:51:49.441Z"
   },
   {
    "duration": 652,
    "start_time": "2021-09-23T20:51:50.502Z"
   },
   {
    "duration": 2751,
    "start_time": "2021-09-23T20:51:51.163Z"
   },
   {
    "duration": 2214,
    "start_time": "2021-09-23T20:51:53.917Z"
   },
   {
    "duration": 2657,
    "start_time": "2021-09-23T20:51:56.134Z"
   },
   {
    "duration": 2577,
    "start_time": "2021-09-23T20:51:58.795Z"
   },
   {
    "duration": 44,
    "start_time": "2021-09-23T20:52:01.375Z"
   },
   {
    "duration": 48,
    "start_time": "2021-09-23T20:52:01.422Z"
   },
   {
    "duration": 9,
    "start_time": "2021-09-23T20:52:01.473Z"
   },
   {
    "duration": 30,
    "start_time": "2021-09-23T20:52:01.484Z"
   },
   {
    "duration": 31,
    "start_time": "2021-09-23T20:52:01.517Z"
   },
   {
    "duration": 24,
    "start_time": "2021-09-23T20:52:01.551Z"
   },
   {
    "duration": 29,
    "start_time": "2021-09-23T20:52:01.577Z"
   },
   {
    "duration": 7,
    "start_time": "2021-09-23T20:52:01.608Z"
   },
   {
    "duration": 38,
    "start_time": "2021-09-23T20:52:01.617Z"
   },
   {
    "duration": 26,
    "start_time": "2021-09-23T20:52:01.657Z"
   },
   {
    "duration": 29,
    "start_time": "2021-09-23T20:52:01.686Z"
   },
   {
    "duration": 27,
    "start_time": "2021-09-23T20:52:01.720Z"
   },
   {
    "duration": 24,
    "start_time": "2021-09-23T20:52:01.750Z"
   },
   {
    "duration": 30,
    "start_time": "2021-09-23T20:52:01.776Z"
   },
   {
    "duration": 23,
    "start_time": "2021-09-23T20:52:01.808Z"
   },
   {
    "duration": 25,
    "start_time": "2021-09-23T20:52:01.833Z"
   },
   {
    "duration": 17,
    "start_time": "2021-09-23T20:52:05.768Z"
   },
   {
    "duration": 17,
    "start_time": "2021-09-23T20:52:11.304Z"
   },
   {
    "duration": 1167,
    "start_time": "2021-09-24T08:13:59.134Z"
   },
   {
    "duration": 91,
    "start_time": "2021-09-24T08:14:00.303Z"
   },
   {
    "duration": 462,
    "start_time": "2021-09-24T08:14:00.396Z"
   },
   {
    "duration": 29,
    "start_time": "2021-09-24T08:14:00.860Z"
   },
   {
    "duration": 909,
    "start_time": "2021-09-24T08:14:00.891Z"
   },
   {
    "duration": 2094,
    "start_time": "2021-09-24T08:14:01.802Z"
   },
   {
    "duration": 468,
    "start_time": "2021-09-24T08:14:03.898Z"
   },
   {
    "duration": 1557,
    "start_time": "2021-09-24T08:14:04.369Z"
   },
   {
    "duration": 1100,
    "start_time": "2021-09-24T08:14:05.929Z"
   },
   {
    "duration": 1233,
    "start_time": "2021-09-24T08:14:07.031Z"
   },
   {
    "duration": 1068,
    "start_time": "2021-09-24T08:14:08.266Z"
   },
   {
    "duration": 24,
    "start_time": "2021-09-24T08:14:09.336Z"
   },
   {
    "duration": 17,
    "start_time": "2021-09-24T08:14:09.361Z"
   },
   {
    "duration": 3,
    "start_time": "2021-09-24T08:14:09.380Z"
   },
   {
    "duration": 13,
    "start_time": "2021-09-24T08:14:09.385Z"
   },
   {
    "duration": 15,
    "start_time": "2021-09-24T08:14:09.399Z"
   },
   {
    "duration": 38,
    "start_time": "2021-09-24T08:14:09.416Z"
   },
   {
    "duration": 21,
    "start_time": "2021-09-24T08:14:09.456Z"
   },
   {
    "duration": 4,
    "start_time": "2021-09-24T08:14:09.479Z"
   },
   {
    "duration": 13,
    "start_time": "2021-09-24T08:14:09.485Z"
   },
   {
    "duration": 14,
    "start_time": "2021-09-24T08:14:09.499Z"
   },
   {
    "duration": 35,
    "start_time": "2021-09-24T08:14:09.515Z"
   },
   {
    "duration": 16,
    "start_time": "2021-09-24T08:14:09.554Z"
   },
   {
    "duration": 5,
    "start_time": "2021-09-24T08:14:09.572Z"
   },
   {
    "duration": 15,
    "start_time": "2021-09-24T08:14:09.578Z"
   },
   {
    "duration": 14,
    "start_time": "2021-09-24T08:14:09.594Z"
   },
   {
    "duration": 17,
    "start_time": "2021-09-24T08:14:09.609Z"
   },
   {
    "duration": 391,
    "start_time": "2021-09-24T08:14:09.648Z"
   },
   {
    "duration": -472,
    "start_time": "2021-09-24T08:14:10.513Z"
   },
   {
    "duration": 59,
    "start_time": "2021-09-24T08:25:37.004Z"
   },
   {
    "duration": 98,
    "start_time": "2021-09-24T08:25:37.065Z"
   },
   {
    "duration": 467,
    "start_time": "2021-09-24T08:25:37.165Z"
   },
   {
    "duration": 38,
    "start_time": "2021-09-24T08:25:37.634Z"
   },
   {
    "duration": 1089,
    "start_time": "2021-09-24T08:25:37.674Z"
   },
   {
    "duration": 668,
    "start_time": "2021-09-24T08:25:38.765Z"
   },
   {
    "duration": 369,
    "start_time": "2021-09-24T08:25:39.435Z"
   },
   {
    "duration": 1587,
    "start_time": "2021-09-24T08:25:39.806Z"
   },
   {
    "duration": 1346,
    "start_time": "2021-09-24T08:25:44.728Z"
   },
   {
    "duration": 1660,
    "start_time": "2021-09-24T08:26:31.598Z"
   },
   {
    "duration": 1552,
    "start_time": "2021-09-24T08:26:57.863Z"
   },
   {
    "duration": 1896,
    "start_time": "2021-09-24T08:28:05.047Z"
   },
   {
    "duration": 1366,
    "start_time": "2021-09-24T08:28:34.047Z"
   },
   {
    "duration": 1085,
    "start_time": "2021-09-24T08:29:10.461Z"
   },
   {
    "duration": 1459,
    "start_time": "2021-09-24T08:31:08.860Z"
   },
   {
    "duration": 1554,
    "start_time": "2021-09-24T08:32:06.347Z"
   },
   {
    "duration": 1549,
    "start_time": "2021-09-24T08:32:55.014Z"
   },
   {
    "duration": 1511,
    "start_time": "2021-09-24T08:33:02.057Z"
   },
   {
    "duration": 1806,
    "start_time": "2021-09-24T08:33:06.354Z"
   },
   {
    "duration": 1535,
    "start_time": "2021-09-24T08:33:12.385Z"
   },
   {
    "duration": 84,
    "start_time": "2021-09-24T08:35:30.955Z"
   },
   {
    "duration": 95,
    "start_time": "2021-09-24T08:35:31.058Z"
   },
   {
    "duration": 578,
    "start_time": "2021-09-24T08:35:31.155Z"
   },
   {
    "duration": 35,
    "start_time": "2021-09-24T08:35:31.735Z"
   },
   {
    "duration": 1098,
    "start_time": "2021-09-24T08:35:31.772Z"
   },
   {
    "duration": 701,
    "start_time": "2021-09-24T08:35:32.872Z"
   },
   {
    "duration": 374,
    "start_time": "2021-09-24T08:35:33.575Z"
   },
   {
    "duration": 1555,
    "start_time": "2021-09-24T08:35:33.951Z"
   },
   {
    "duration": 1321,
    "start_time": "2021-09-24T08:35:35.508Z"
   },
   {
    "duration": 1127,
    "start_time": "2021-09-24T08:35:36.831Z"
   },
   {
    "duration": 1079,
    "start_time": "2021-09-24T08:35:37.960Z"
   },
   {
    "duration": 24,
    "start_time": "2021-09-24T08:35:39.041Z"
   },
   {
    "duration": 16,
    "start_time": "2021-09-24T08:35:39.067Z"
   },
   {
    "duration": 4,
    "start_time": "2021-09-24T08:35:39.084Z"
   },
   {
    "duration": 14,
    "start_time": "2021-09-24T08:35:39.090Z"
   },
   {
    "duration": 14,
    "start_time": "2021-09-24T08:35:39.105Z"
   },
   {
    "duration": 14,
    "start_time": "2021-09-24T08:35:39.150Z"
   },
   {
    "duration": 16,
    "start_time": "2021-09-24T08:35:39.166Z"
   },
   {
    "duration": 4,
    "start_time": "2021-09-24T08:35:39.184Z"
   },
   {
    "duration": 16,
    "start_time": "2021-09-24T08:35:39.190Z"
   },
   {
    "duration": 13,
    "start_time": "2021-09-24T08:35:39.208Z"
   },
   {
    "duration": 16,
    "start_time": "2021-09-24T08:35:39.250Z"
   },
   {
    "duration": 19,
    "start_time": "2021-09-24T08:35:39.270Z"
   },
   {
    "duration": 5,
    "start_time": "2021-09-24T08:35:39.291Z"
   },
   {
    "duration": 20,
    "start_time": "2021-09-24T08:35:39.298Z"
   },
   {
    "duration": 41,
    "start_time": "2021-09-24T08:35:39.320Z"
   },
   {
    "duration": 22,
    "start_time": "2021-09-24T08:35:39.362Z"
   },
   {
    "duration": 389,
    "start_time": "2021-09-24T08:35:39.386Z"
   },
   {
    "duration": -486,
    "start_time": "2021-09-24T08:35:40.263Z"
   },
   {
    "duration": 66,
    "start_time": "2021-09-24T08:42:48.580Z"
   },
   {
    "duration": 104,
    "start_time": "2021-09-24T08:42:48.649Z"
   },
   {
    "duration": 478,
    "start_time": "2021-09-24T08:42:48.756Z"
   },
   {
    "duration": 39,
    "start_time": "2021-09-24T08:42:49.236Z"
   },
   {
    "duration": 1117,
    "start_time": "2021-09-24T08:42:49.277Z"
   },
   {
    "duration": 672,
    "start_time": "2021-09-24T08:42:50.396Z"
   },
   {
    "duration": 366,
    "start_time": "2021-09-24T08:42:51.070Z"
   },
   {
    "duration": 1660,
    "start_time": "2021-09-24T08:42:51.439Z"
   },
   {
    "duration": 1278,
    "start_time": "2021-09-24T08:42:53.101Z"
   },
   {
    "duration": 1082,
    "start_time": "2021-09-24T08:42:54.381Z"
   },
   {
    "duration": 1032,
    "start_time": "2021-09-24T08:42:55.466Z"
   },
   {
    "duration": 18,
    "start_time": "2021-09-24T08:42:56.500Z"
   },
   {
    "duration": 37,
    "start_time": "2021-09-24T08:42:56.520Z"
   },
   {
    "duration": 5,
    "start_time": "2021-09-24T08:42:56.558Z"
   },
   {
    "duration": 19,
    "start_time": "2021-09-24T08:42:56.564Z"
   },
   {
    "duration": 21,
    "start_time": "2021-09-24T08:42:56.584Z"
   },
   {
    "duration": 21,
    "start_time": "2021-09-24T08:42:56.607Z"
   },
   {
    "duration": 29,
    "start_time": "2021-09-24T08:42:56.630Z"
   },
   {
    "duration": 4,
    "start_time": "2021-09-24T08:42:56.660Z"
   },
   {
    "duration": 16,
    "start_time": "2021-09-24T08:42:56.666Z"
   },
   {
    "duration": 29,
    "start_time": "2021-09-24T08:42:56.684Z"
   },
   {
    "duration": 27,
    "start_time": "2021-09-24T08:42:56.715Z"
   },
   {
    "duration": 21,
    "start_time": "2021-09-24T08:42:56.746Z"
   },
   {
    "duration": 5,
    "start_time": "2021-09-24T08:42:56.769Z"
   },
   {
    "duration": 26,
    "start_time": "2021-09-24T08:42:56.776Z"
   },
   {
    "duration": 16,
    "start_time": "2021-09-24T08:42:56.804Z"
   },
   {
    "duration": 28,
    "start_time": "2021-09-24T08:42:56.822Z"
   },
   {
    "duration": 247,
    "start_time": "2021-09-24T08:42:56.852Z"
   },
   {
    "duration": -509,
    "start_time": "2021-09-24T08:42:57.610Z"
   },
   {
    "duration": 16,
    "start_time": "2021-09-24T08:43:40.247Z"
   },
   {
    "duration": 17,
    "start_time": "2021-09-24T08:44:16.727Z"
   },
   {
    "duration": 13,
    "start_time": "2021-09-24T08:45:41.982Z"
   },
   {
    "duration": 13,
    "start_time": "2021-09-24T08:45:53.621Z"
   },
   {
    "duration": 277,
    "start_time": "2021-09-24T08:49:00.090Z"
   },
   {
    "duration": 271,
    "start_time": "2021-09-24T08:50:59.888Z"
   },
   {
    "duration": 17,
    "start_time": "2021-09-24T08:51:28.263Z"
   },
   {
    "duration": 18,
    "start_time": "2021-09-24T08:51:37.079Z"
   },
   {
    "duration": 18,
    "start_time": "2021-09-24T08:51:49.471Z"
   },
   {
    "duration": 18,
    "start_time": "2021-09-24T08:52:00.454Z"
   },
   {
    "duration": 4,
    "start_time": "2021-09-24T08:52:09.990Z"
   },
   {
    "duration": 11,
    "start_time": "2021-09-24T08:52:12.230Z"
   },
   {
    "duration": 5,
    "start_time": "2021-09-24T08:52:32.542Z"
   },
   {
    "duration": 11,
    "start_time": "2021-09-24T08:52:36.443Z"
   },
   {
    "duration": 12,
    "start_time": "2021-09-24T08:52:45.558Z"
   },
   {
    "duration": 12,
    "start_time": "2021-09-24T08:52:52.821Z"
   },
   {
    "duration": 31,
    "start_time": "2021-09-24T09:19:11.492Z"
   },
   {
    "duration": 23,
    "start_time": "2021-09-24T09:19:31.356Z"
   },
   {
    "duration": 82,
    "start_time": "2021-09-24T09:20:00.452Z"
   },
   {
    "duration": 27,
    "start_time": "2021-09-24T09:20:03.347Z"
   },
   {
    "duration": 255,
    "start_time": "2021-09-24T09:27:08.539Z"
   },
   {
    "duration": 44,
    "start_time": "2021-09-24T09:27:12.249Z"
   },
   {
    "duration": 22,
    "start_time": "2021-09-24T09:27:31.508Z"
   },
   {
    "duration": 26,
    "start_time": "2021-09-24T09:27:42.091Z"
   },
   {
    "duration": 82,
    "start_time": "2021-09-24T09:51:06.177Z"
   },
   {
    "duration": 138,
    "start_time": "2021-09-24T09:51:06.261Z"
   },
   {
    "duration": 748,
    "start_time": "2021-09-24T09:51:06.401Z"
   },
   {
    "duration": 48,
    "start_time": "2021-09-24T09:51:07.151Z"
   },
   {
    "duration": 1152,
    "start_time": "2021-09-24T09:51:07.201Z"
   },
   {
    "duration": 718,
    "start_time": "2021-09-24T09:51:08.355Z"
   },
   {
    "duration": 377,
    "start_time": "2021-09-24T09:51:09.074Z"
   },
   {
    "duration": 1583,
    "start_time": "2021-09-24T09:51:09.454Z"
   },
   {
    "duration": 1853,
    "start_time": "2021-09-24T09:51:11.040Z"
   },
   {
    "duration": 1606,
    "start_time": "2021-09-24T09:51:12.895Z"
   },
   {
    "duration": 1578,
    "start_time": "2021-09-24T09:51:14.510Z"
   },
   {
    "duration": 29,
    "start_time": "2021-09-24T09:51:16.091Z"
   },
   {
    "duration": 41,
    "start_time": "2021-09-24T09:51:16.123Z"
   },
   {
    "duration": 6,
    "start_time": "2021-09-24T09:51:16.167Z"
   },
   {
    "duration": 20,
    "start_time": "2021-09-24T09:51:16.175Z"
   },
   {
    "duration": 18,
    "start_time": "2021-09-24T09:51:16.197Z"
   },
   {
    "duration": 34,
    "start_time": "2021-09-24T09:51:16.217Z"
   },
   {
    "duration": 20,
    "start_time": "2021-09-24T09:51:16.253Z"
   },
   {
    "duration": 4,
    "start_time": "2021-09-24T09:51:16.275Z"
   },
   {
    "duration": 23,
    "start_time": "2021-09-24T09:51:16.281Z"
   },
   {
    "duration": 17,
    "start_time": "2021-09-24T09:51:16.306Z"
   },
   {
    "duration": 37,
    "start_time": "2021-09-24T09:51:16.325Z"
   },
   {
    "duration": 19,
    "start_time": "2021-09-24T09:51:16.366Z"
   },
   {
    "duration": 4,
    "start_time": "2021-09-24T09:51:16.387Z"
   },
   {
    "duration": 27,
    "start_time": "2021-09-24T09:51:16.392Z"
   },
   {
    "duration": 38,
    "start_time": "2021-09-24T09:51:16.421Z"
   },
   {
    "duration": 20,
    "start_time": "2021-09-24T09:51:16.461Z"
   },
   {
    "duration": 28,
    "start_time": "2021-09-24T09:51:16.483Z"
   },
   {
    "duration": 12,
    "start_time": "2021-09-24T09:51:16.514Z"
   },
   {
    "duration": 18,
    "start_time": "2021-09-24T09:51:16.550Z"
   },
   {
    "duration": 1821,
    "start_time": "2022-03-21T17:44:08.088Z"
   },
   {
    "duration": 164,
    "start_time": "2022-03-21T17:44:09.913Z"
   },
   {
    "duration": 658,
    "start_time": "2022-03-21T17:44:10.079Z"
   },
   {
    "duration": 61,
    "start_time": "2022-03-21T17:44:10.743Z"
   },
   {
    "duration": 1412,
    "start_time": "2022-03-21T17:44:10.807Z"
   },
   {
    "duration": 1065,
    "start_time": "2022-03-21T17:44:12.222Z"
   },
   {
    "duration": 836,
    "start_time": "2022-03-21T17:44:13.289Z"
   },
   {
    "duration": 2047,
    "start_time": "2022-03-21T17:44:14.127Z"
   },
   {
    "duration": 1367,
    "start_time": "2022-03-21T17:44:16.177Z"
   },
   {
    "duration": 1260,
    "start_time": "2022-03-21T17:44:17.548Z"
   },
   {
    "duration": 1336,
    "start_time": "2022-03-21T17:44:18.810Z"
   },
   {
    "duration": 34,
    "start_time": "2022-03-21T17:44:20.148Z"
   },
   {
    "duration": 30,
    "start_time": "2022-03-21T17:44:20.184Z"
   },
   {
    "duration": 7,
    "start_time": "2022-03-21T17:44:20.243Z"
   },
   {
    "duration": 22,
    "start_time": "2022-03-21T17:44:20.253Z"
   },
   {
    "duration": 27,
    "start_time": "2022-03-21T17:44:20.278Z"
   },
   {
    "duration": 45,
    "start_time": "2022-03-21T17:44:20.307Z"
   },
   {
    "duration": 36,
    "start_time": "2022-03-21T17:44:20.354Z"
   },
   {
    "duration": 6,
    "start_time": "2022-03-21T17:44:20.392Z"
   },
   {
    "duration": 25,
    "start_time": "2022-03-21T17:44:20.400Z"
   },
   {
    "duration": 18,
    "start_time": "2022-03-21T17:44:20.443Z"
   },
   {
    "duration": 21,
    "start_time": "2022-03-21T17:44:20.463Z"
   },
   {
    "duration": 56,
    "start_time": "2022-03-21T17:44:20.487Z"
   },
   {
    "duration": 6,
    "start_time": "2022-03-21T17:44:20.545Z"
   },
   {
    "duration": 22,
    "start_time": "2022-03-21T17:44:20.554Z"
   },
   {
    "duration": 19,
    "start_time": "2022-03-21T17:44:20.578Z"
   },
   {
    "duration": 47,
    "start_time": "2022-03-21T17:44:20.599Z"
   },
   {
    "duration": 12,
    "start_time": "2022-03-21T17:44:20.650Z"
   },
   {
    "duration": 18,
    "start_time": "2022-03-21T17:44:20.665Z"
   },
   {
    "duration": 1578,
    "start_time": "2022-03-21T18:04:28.281Z"
   },
   {
    "duration": 4,
    "start_time": "2022-03-21T18:04:29.862Z"
   },
   {
    "duration": 37,
    "start_time": "2022-03-21T18:04:29.868Z"
   },
   {
    "duration": 45,
    "start_time": "2022-03-21T18:04:29.908Z"
   },
   {
    "duration": 52,
    "start_time": "2022-03-21T18:04:29.956Z"
   },
   {
    "duration": 43,
    "start_time": "2022-03-21T18:04:30.010Z"
   },
   {
    "duration": 95,
    "start_time": "2022-03-21T18:04:30.055Z"
   },
   {
    "duration": 634,
    "start_time": "2022-03-21T18:04:30.152Z"
   },
   {
    "duration": 75,
    "start_time": "2022-03-21T18:04:30.789Z"
   },
   {
    "duration": 1322,
    "start_time": "2022-03-21T18:04:30.869Z"
   },
   {
    "duration": 989,
    "start_time": "2022-03-21T18:04:32.194Z"
   },
   {
    "duration": 611,
    "start_time": "2022-03-21T18:04:33.185Z"
   },
   {
    "duration": 1941,
    "start_time": "2022-03-21T18:04:33.799Z"
   },
   {
    "duration": 1264,
    "start_time": "2022-03-21T18:04:35.743Z"
   },
   {
    "duration": 1282,
    "start_time": "2022-03-21T18:04:37.009Z"
   },
   {
    "duration": 1264,
    "start_time": "2022-03-21T18:04:38.293Z"
   },
   {
    "duration": 31,
    "start_time": "2022-03-21T18:04:39.559Z"
   },
   {
    "duration": 52,
    "start_time": "2022-03-21T18:04:39.592Z"
   },
   {
    "duration": 6,
    "start_time": "2022-03-21T18:04:39.646Z"
   },
   {
    "duration": 20,
    "start_time": "2022-03-21T18:04:39.655Z"
   },
   {
    "duration": 17,
    "start_time": "2022-03-21T18:04:39.677Z"
   },
   {
    "duration": 51,
    "start_time": "2022-03-21T18:04:39.695Z"
   },
   {
    "duration": 26,
    "start_time": "2022-03-21T18:04:39.748Z"
   },
   {
    "duration": 7,
    "start_time": "2022-03-21T18:04:39.776Z"
   },
   {
    "duration": 19,
    "start_time": "2022-03-21T18:04:39.786Z"
   },
   {
    "duration": 51,
    "start_time": "2022-03-21T18:04:39.808Z"
   },
   {
    "duration": 18,
    "start_time": "2022-03-21T18:04:39.862Z"
   },
   {
    "duration": 62,
    "start_time": "2022-03-21T18:04:39.887Z"
   },
   {
    "duration": 6,
    "start_time": "2022-03-21T18:04:39.952Z"
   },
   {
    "duration": 19,
    "start_time": "2022-03-21T18:04:39.961Z"
   },
   {
    "duration": 17,
    "start_time": "2022-03-21T18:04:39.982Z"
   },
   {
    "duration": 55,
    "start_time": "2022-03-21T18:04:40.001Z"
   },
   {
    "duration": 13,
    "start_time": "2022-03-21T18:04:40.059Z"
   },
   {
    "duration": 17,
    "start_time": "2022-03-21T18:04:40.074Z"
   },
   {
    "duration": 1611,
    "start_time": "2022-03-21T18:33:32.963Z"
   },
   {
    "duration": 4,
    "start_time": "2022-03-21T18:33:34.578Z"
   },
   {
    "duration": 67,
    "start_time": "2022-03-21T18:33:34.585Z"
   },
   {
    "duration": 21,
    "start_time": "2022-03-21T18:33:34.657Z"
   },
   {
    "duration": 78,
    "start_time": "2022-03-21T18:33:34.681Z"
   },
   {
    "duration": 21,
    "start_time": "2022-03-21T18:33:34.762Z"
   },
   {
    "duration": 99,
    "start_time": "2022-03-21T18:33:34.786Z"
   },
   {
    "duration": 639,
    "start_time": "2022-03-21T18:33:34.888Z"
   },
   {
    "duration": 64,
    "start_time": "2022-03-21T18:33:35.530Z"
   },
   {
    "duration": 1505,
    "start_time": "2022-03-21T18:33:35.598Z"
   },
   {
    "duration": 1284,
    "start_time": "2022-03-21T18:33:37.105Z"
   },
   {
    "duration": 660,
    "start_time": "2022-03-21T18:33:38.391Z"
   },
   {
    "duration": 2045,
    "start_time": "2022-03-21T18:33:39.054Z"
   },
   {
    "duration": 1409,
    "start_time": "2022-03-21T18:33:41.102Z"
   },
   {
    "duration": 1254,
    "start_time": "2022-03-21T18:33:42.514Z"
   },
   {
    "duration": 1306,
    "start_time": "2022-03-21T18:33:43.771Z"
   },
   {
    "duration": 32,
    "start_time": "2022-03-21T18:33:45.080Z"
   },
   {
    "duration": 311,
    "start_time": "2022-03-21T18:33:45.114Z"
   },
   {
    "duration": 16,
    "start_time": "2022-03-21T18:33:45.428Z"
   },
   {
    "duration": 26,
    "start_time": "2022-03-21T18:33:45.446Z"
   },
   {
    "duration": 25,
    "start_time": "2022-03-21T18:33:45.474Z"
   },
   {
    "duration": 22,
    "start_time": "2022-03-21T18:33:45.502Z"
   },
   {
    "duration": 43,
    "start_time": "2022-03-21T18:33:45.527Z"
   },
   {
    "duration": 6,
    "start_time": "2022-03-21T18:33:45.572Z"
   },
   {
    "duration": 27,
    "start_time": "2022-03-21T18:33:45.580Z"
   },
   {
    "duration": 41,
    "start_time": "2022-03-21T18:33:45.609Z"
   },
   {
    "duration": 20,
    "start_time": "2022-03-21T18:33:45.653Z"
   },
   {
    "duration": 28,
    "start_time": "2022-03-21T18:33:45.679Z"
   },
   {
    "duration": 35,
    "start_time": "2022-03-21T18:33:45.709Z"
   },
   {
    "duration": 25,
    "start_time": "2022-03-21T18:33:45.747Z"
   },
   {
    "duration": 26,
    "start_time": "2022-03-21T18:33:45.774Z"
   },
   {
    "duration": 41,
    "start_time": "2022-03-21T18:33:45.803Z"
   },
   {
    "duration": 12,
    "start_time": "2022-03-21T18:33:45.847Z"
   },
   {
    "duration": 12,
    "start_time": "2022-03-21T18:33:45.862Z"
   },
   {
    "duration": 16,
    "start_time": "2022-03-21T18:33:45.876Z"
   },
   {
    "duration": 14,
    "start_time": "2022-03-21T18:33:45.894Z"
   }
  ],
  "kernelspec": {
   "display_name": "Python 3 (ipykernel)",
   "language": "python",
   "name": "python3"
  },
  "language_info": {
   "codemirror_mode": {
    "name": "ipython",
    "version": 3
   },
   "file_extension": ".py",
   "mimetype": "text/x-python",
   "name": "python",
   "nbconvert_exporter": "python",
   "pygments_lexer": "ipython3",
   "version": "3.10.1"
  },
  "toc": {
   "base_numbering": 1,
   "nav_menu": {},
   "number_sections": true,
   "sideBar": true,
   "skip_h1_title": true,
   "title_cell": "Table of Contents",
   "title_sidebar": "Contents",
   "toc_cell": false,
   "toc_position": {
    "height": "calc(100% - 180px)",
    "left": "10px",
    "top": "150px",
    "width": "376.391px"
   },
   "toc_section_display": true,
   "toc_window_display": true
  }
 },
 "nbformat": 4,
 "nbformat_minor": 2
}
