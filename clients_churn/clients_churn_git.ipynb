{
 "cells": [
  {
   "cell_type": "markdown",
   "metadata": {},
   "source": [
    "# Clients churn"
   ]
  },
  {
   "cell_type": "markdown",
   "metadata": {},
   "source": [
    "Clients started leaving the bank. Every month. A little, but noticeable. Banking marketers figured it was cheaper to keep current customers than to attract new ones.\n",
    "\n",
    "It is necessary to predict whether the client will leave the bank in the near future or not. We have historical data on customer behavior and termination of agreements with the bank.\n",
    "\n",
    "Our task is to build a model with *F1*-measure value of at least 0.59.\n",
    "\n",
    "Data source: [https://www.kaggle.com/barelydedicated/bank-customer-churn-modeling](https://www.kaggle.com/barelydedicated/bank-customer-churn-modeling)"
   ]
  },
  {
   "cell_type": "markdown",
   "metadata": {},
   "source": [
    "Our key steps:\n",
    "* Data preparation\n",
    "* Research task. Training different models without taking into account imbalance\n",
    "* Fight imbalance. Training Different Models Given Imbalance\n",
    "* Model testing\n",
    "* Checking the model for sanity\n",
    "* Checking AUC-ROC metric\n",
    "\n",
    "**Data description**  \n",
    "\n",
    "**Features**\n",
    "\n",
    "* *RowNumber* — row index in the data \n",
    "* *CustomerId* — unique customer ID \n",
    "* *Surname* - surname \n",
    "* *CreditScore* - credit score \n",
    "* *Geography* - country of residence \n",
    "* *Gender* - gender \n",
    "* *Age* — age \n",
    "* *Tenure* - how many years a person has been a client of the bank \n",
    "* *Balance* — account balance \n",
    "* *NumOfProducts* - the number of bank products used by the client \n",
    "* *HasCrCard* - the presence of a credit card \n",
    "* *IsActiveMember* — client activity \n",
    "* *EstimatedSalary* — estimated salary\n",
    "\n",
    "**Target feature** \n",
    "\n",
    "**Exited** — the fact that the client has left\n",
    "\n",
    "\n",
    "The project is made in **Jupyter Notebook**, Notebook server version: 6.1.4. Version **Python** 3.7.8.\n",
    "  \n",
    "Libraries used in the project:\n",
    "* **Pandas**\n",
    "* **NumPy**\n",
    "* **MatPlotLib**\n",
    "* **scikit-learn**\n",
    "* **IPython**"
   ]
  },
  {
   "cell_type": "markdown",
   "metadata": {},
   "source": [
    "## Data preparation"
   ]
  },
  {
   "cell_type": "code",
   "execution_count": 1,
   "metadata": {
    "scrolled": false
   },
   "outputs": [
    {
     "data": {
      "text/html": [
       "<div>\n",
       "<style scoped>\n",
       "    .dataframe tbody tr th:only-of-type {\n",
       "        vertical-align: middle;\n",
       "    }\n",
       "\n",
       "    .dataframe tbody tr th {\n",
       "        vertical-align: top;\n",
       "    }\n",
       "\n",
       "    .dataframe thead th {\n",
       "        text-align: right;\n",
       "    }\n",
       "</style>\n",
       "<table border=\"1\" class=\"dataframe\">\n",
       "  <thead>\n",
       "    <tr style=\"text-align: right;\">\n",
       "      <th></th>\n",
       "      <th>CustomerId</th>\n",
       "      <th>Surname</th>\n",
       "      <th>CreditScore</th>\n",
       "      <th>Geography</th>\n",
       "      <th>Gender</th>\n",
       "      <th>Age</th>\n",
       "      <th>Tenure</th>\n",
       "      <th>Balance</th>\n",
       "      <th>NumOfProducts</th>\n",
       "      <th>HasCrCard</th>\n",
       "      <th>IsActiveMember</th>\n",
       "      <th>EstimatedSalary</th>\n",
       "      <th>Exited</th>\n",
       "    </tr>\n",
       "    <tr>\n",
       "      <th>RowNumber</th>\n",
       "      <th></th>\n",
       "      <th></th>\n",
       "      <th></th>\n",
       "      <th></th>\n",
       "      <th></th>\n",
       "      <th></th>\n",
       "      <th></th>\n",
       "      <th></th>\n",
       "      <th></th>\n",
       "      <th></th>\n",
       "      <th></th>\n",
       "      <th></th>\n",
       "      <th></th>\n",
       "    </tr>\n",
       "  </thead>\n",
       "  <tbody>\n",
       "    <tr>\n",
       "      <th>1</th>\n",
       "      <td>15634602</td>\n",
       "      <td>Hargrave</td>\n",
       "      <td>619</td>\n",
       "      <td>France</td>\n",
       "      <td>Female</td>\n",
       "      <td>42</td>\n",
       "      <td>2.0</td>\n",
       "      <td>0.00</td>\n",
       "      <td>1</td>\n",
       "      <td>1</td>\n",
       "      <td>1</td>\n",
       "      <td>101348.88</td>\n",
       "      <td>1</td>\n",
       "    </tr>\n",
       "    <tr>\n",
       "      <th>2</th>\n",
       "      <td>15647311</td>\n",
       "      <td>Hill</td>\n",
       "      <td>608</td>\n",
       "      <td>Spain</td>\n",
       "      <td>Female</td>\n",
       "      <td>41</td>\n",
       "      <td>1.0</td>\n",
       "      <td>83807.86</td>\n",
       "      <td>1</td>\n",
       "      <td>0</td>\n",
       "      <td>1</td>\n",
       "      <td>112542.58</td>\n",
       "      <td>0</td>\n",
       "    </tr>\n",
       "    <tr>\n",
       "      <th>3</th>\n",
       "      <td>15619304</td>\n",
       "      <td>Onio</td>\n",
       "      <td>502</td>\n",
       "      <td>France</td>\n",
       "      <td>Female</td>\n",
       "      <td>42</td>\n",
       "      <td>8.0</td>\n",
       "      <td>159660.80</td>\n",
       "      <td>3</td>\n",
       "      <td>1</td>\n",
       "      <td>0</td>\n",
       "      <td>113931.57</td>\n",
       "      <td>1</td>\n",
       "    </tr>\n",
       "    <tr>\n",
       "      <th>4</th>\n",
       "      <td>15701354</td>\n",
       "      <td>Boni</td>\n",
       "      <td>699</td>\n",
       "      <td>France</td>\n",
       "      <td>Female</td>\n",
       "      <td>39</td>\n",
       "      <td>1.0</td>\n",
       "      <td>0.00</td>\n",
       "      <td>2</td>\n",
       "      <td>0</td>\n",
       "      <td>0</td>\n",
       "      <td>93826.63</td>\n",
       "      <td>0</td>\n",
       "    </tr>\n",
       "    <tr>\n",
       "      <th>5</th>\n",
       "      <td>15737888</td>\n",
       "      <td>Mitchell</td>\n",
       "      <td>850</td>\n",
       "      <td>Spain</td>\n",
       "      <td>Female</td>\n",
       "      <td>43</td>\n",
       "      <td>2.0</td>\n",
       "      <td>125510.82</td>\n",
       "      <td>1</td>\n",
       "      <td>1</td>\n",
       "      <td>1</td>\n",
       "      <td>79084.10</td>\n",
       "      <td>0</td>\n",
       "    </tr>\n",
       "  </tbody>\n",
       "</table>\n",
       "</div>"
      ],
      "text/plain": [
       "           CustomerId   Surname  CreditScore Geography  Gender  Age  Tenure  \\\n",
       "RowNumber                                                                     \n",
       "1            15634602  Hargrave          619    France  Female   42     2.0   \n",
       "2            15647311      Hill          608     Spain  Female   41     1.0   \n",
       "3            15619304      Onio          502    France  Female   42     8.0   \n",
       "4            15701354      Boni          699    France  Female   39     1.0   \n",
       "5            15737888  Mitchell          850     Spain  Female   43     2.0   \n",
       "\n",
       "             Balance  NumOfProducts  HasCrCard  IsActiveMember  \\\n",
       "RowNumber                                                        \n",
       "1               0.00              1          1               1   \n",
       "2           83807.86              1          0               1   \n",
       "3          159660.80              3          1               0   \n",
       "4               0.00              2          0               0   \n",
       "5          125510.82              1          1               1   \n",
       "\n",
       "           EstimatedSalary  Exited  \n",
       "RowNumber                           \n",
       "1                101348.88       1  \n",
       "2                112542.58       0  \n",
       "3                113931.57       1  \n",
       "4                 93826.63       0  \n",
       "5                 79084.10       0  "
      ]
     },
     "metadata": {},
     "output_type": "display_data"
    }
   ],
   "source": [
    "# Import all required libraries and modules.\n",
    "import pandas as pd\n",
    "import numpy as np\n",
    "import matplotlib.pyplot as plt\n",
    "from IPython.display import display\n",
    "from sklearn.model_selection import train_test_split\n",
    "from sklearn.preprocessing import StandardScaler\n",
    "from sklearn.tree import DecisionTreeClassifier\n",
    "from sklearn.ensemble import RandomForestClassifier\n",
    "from sklearn.dummy import DummyRegressor\n",
    "from sklearn.dummy import DummyClassifier\n",
    "from sklearn.metrics import accuracy_score, recall_score, precision_score \n",
    "from sklearn.metrics import f1_score, confusion_matrix, roc_auc_score, roc_curve\n",
    "from sklearn.linear_model import LogisticRegression\n",
    "from sklearn.utils import shuffle\n",
    "\n",
    "# Read the data.\n",
    "data = pd.read_csv('Churn.csv', index_col=0)\n",
    "display(data.head(5))"
   ]
  },
  {
   "cell_type": "code",
   "execution_count": 2,
   "metadata": {},
   "outputs": [
    {
     "name": "stdout",
     "output_type": "stream",
     "text": [
      "<class 'pandas.core.frame.DataFrame'>\n",
      "Int64Index: 10000 entries, 1 to 10000\n",
      "Data columns (total 13 columns):\n",
      " #   Column           Non-Null Count  Dtype  \n",
      "---  ------           --------------  -----  \n",
      " 0   customerid       10000 non-null  int64  \n",
      " 1   surname          10000 non-null  object \n",
      " 2   creditscore      10000 non-null  int64  \n",
      " 3   geography        10000 non-null  object \n",
      " 4   gender           10000 non-null  object \n",
      " 5   age              10000 non-null  int64  \n",
      " 6   tenure           9091 non-null   Int64  \n",
      " 7   balance          10000 non-null  float64\n",
      " 8   numofproducts    10000 non-null  int64  \n",
      " 9   hascrcard        10000 non-null  int64  \n",
      " 10  isactivemember   10000 non-null  int64  \n",
      " 11  estimatedsalary  10000 non-null  float64\n",
      " 12  exited           10000 non-null  int64  \n",
      "dtypes: Int64(1), float64(2), int64(7), object(3)\n",
      "memory usage: 1.1+ MB\n"
     ]
    }
   ],
   "source": [
    "# Much more convenient when the column names\n",
    "# are written in capital letters. \n",
    "data.columns = data.columns.str.lower()\n",
    "# For convenience, let's translate the data format of the Tenure feature into Int64.\n",
    "# This format allows you to get rid of unnecessary number display\n",
    "# floating point, and leave gaps (NaN values).\n",
    "data.tenure = data.tenure.astype('Int64')\n",
    "# Let's review the dataset.\n",
    "data.info()"
   ]
  },
  {
   "cell_type": "code",
   "execution_count": 3,
   "metadata": {},
   "outputs": [
    {
     "name": "stdout",
     "output_type": "stream",
     "text": [
      "Row duplicates number is 0\n"
     ]
    },
    {
     "data": {
      "text/html": [
       "<div>\n",
       "<style scoped>\n",
       "    .dataframe tbody tr th:only-of-type {\n",
       "        vertical-align: middle;\n",
       "    }\n",
       "\n",
       "    .dataframe tbody tr th {\n",
       "        vertical-align: top;\n",
       "    }\n",
       "\n",
       "    .dataframe thead th {\n",
       "        text-align: right;\n",
       "    }\n",
       "</style>\n",
       "<table border=\"1\" class=\"dataframe\">\n",
       "  <thead>\n",
       "    <tr style=\"text-align: right;\">\n",
       "      <th></th>\n",
       "      <th>creditscore</th>\n",
       "      <th>geography</th>\n",
       "      <th>gender</th>\n",
       "      <th>age</th>\n",
       "      <th>tenure</th>\n",
       "      <th>balance</th>\n",
       "      <th>numofproducts</th>\n",
       "      <th>hascrcard</th>\n",
       "      <th>isactivemember</th>\n",
       "      <th>estimatedsalary</th>\n",
       "      <th>exited</th>\n",
       "    </tr>\n",
       "  </thead>\n",
       "  <tbody>\n",
       "    <tr>\n",
       "      <th>0</th>\n",
       "      <td>619</td>\n",
       "      <td>France</td>\n",
       "      <td>Female</td>\n",
       "      <td>42</td>\n",
       "      <td>2</td>\n",
       "      <td>0.00</td>\n",
       "      <td>1</td>\n",
       "      <td>1</td>\n",
       "      <td>1</td>\n",
       "      <td>101348.88</td>\n",
       "      <td>1</td>\n",
       "    </tr>\n",
       "    <tr>\n",
       "      <th>1</th>\n",
       "      <td>608</td>\n",
       "      <td>Spain</td>\n",
       "      <td>Female</td>\n",
       "      <td>41</td>\n",
       "      <td>1</td>\n",
       "      <td>83807.86</td>\n",
       "      <td>1</td>\n",
       "      <td>0</td>\n",
       "      <td>1</td>\n",
       "      <td>112542.58</td>\n",
       "      <td>0</td>\n",
       "    </tr>\n",
       "    <tr>\n",
       "      <th>2</th>\n",
       "      <td>502</td>\n",
       "      <td>France</td>\n",
       "      <td>Female</td>\n",
       "      <td>42</td>\n",
       "      <td>8</td>\n",
       "      <td>159660.80</td>\n",
       "      <td>3</td>\n",
       "      <td>1</td>\n",
       "      <td>0</td>\n",
       "      <td>113931.57</td>\n",
       "      <td>1</td>\n",
       "    </tr>\n",
       "    <tr>\n",
       "      <th>3</th>\n",
       "      <td>699</td>\n",
       "      <td>France</td>\n",
       "      <td>Female</td>\n",
       "      <td>39</td>\n",
       "      <td>1</td>\n",
       "      <td>0.00</td>\n",
       "      <td>2</td>\n",
       "      <td>0</td>\n",
       "      <td>0</td>\n",
       "      <td>93826.63</td>\n",
       "      <td>0</td>\n",
       "    </tr>\n",
       "    <tr>\n",
       "      <th>4</th>\n",
       "      <td>850</td>\n",
       "      <td>Spain</td>\n",
       "      <td>Female</td>\n",
       "      <td>43</td>\n",
       "      <td>2</td>\n",
       "      <td>125510.82</td>\n",
       "      <td>1</td>\n",
       "      <td>1</td>\n",
       "      <td>1</td>\n",
       "      <td>79084.10</td>\n",
       "      <td>0</td>\n",
       "    </tr>\n",
       "    <tr>\n",
       "      <th>...</th>\n",
       "      <td>...</td>\n",
       "      <td>...</td>\n",
       "      <td>...</td>\n",
       "      <td>...</td>\n",
       "      <td>...</td>\n",
       "      <td>...</td>\n",
       "      <td>...</td>\n",
       "      <td>...</td>\n",
       "      <td>...</td>\n",
       "      <td>...</td>\n",
       "      <td>...</td>\n",
       "    </tr>\n",
       "    <tr>\n",
       "      <th>9086</th>\n",
       "      <td>800</td>\n",
       "      <td>France</td>\n",
       "      <td>Female</td>\n",
       "      <td>29</td>\n",
       "      <td>2</td>\n",
       "      <td>0.00</td>\n",
       "      <td>2</td>\n",
       "      <td>0</td>\n",
       "      <td>0</td>\n",
       "      <td>167773.55</td>\n",
       "      <td>0</td>\n",
       "    </tr>\n",
       "    <tr>\n",
       "      <th>9087</th>\n",
       "      <td>771</td>\n",
       "      <td>France</td>\n",
       "      <td>Male</td>\n",
       "      <td>39</td>\n",
       "      <td>5</td>\n",
       "      <td>0.00</td>\n",
       "      <td>2</td>\n",
       "      <td>1</td>\n",
       "      <td>0</td>\n",
       "      <td>96270.64</td>\n",
       "      <td>0</td>\n",
       "    </tr>\n",
       "    <tr>\n",
       "      <th>9088</th>\n",
       "      <td>516</td>\n",
       "      <td>France</td>\n",
       "      <td>Male</td>\n",
       "      <td>35</td>\n",
       "      <td>10</td>\n",
       "      <td>57369.61</td>\n",
       "      <td>1</td>\n",
       "      <td>1</td>\n",
       "      <td>1</td>\n",
       "      <td>101699.77</td>\n",
       "      <td>0</td>\n",
       "    </tr>\n",
       "    <tr>\n",
       "      <th>9089</th>\n",
       "      <td>709</td>\n",
       "      <td>France</td>\n",
       "      <td>Female</td>\n",
       "      <td>36</td>\n",
       "      <td>7</td>\n",
       "      <td>0.00</td>\n",
       "      <td>1</td>\n",
       "      <td>0</td>\n",
       "      <td>1</td>\n",
       "      <td>42085.58</td>\n",
       "      <td>1</td>\n",
       "    </tr>\n",
       "    <tr>\n",
       "      <th>9090</th>\n",
       "      <td>772</td>\n",
       "      <td>Germany</td>\n",
       "      <td>Male</td>\n",
       "      <td>42</td>\n",
       "      <td>3</td>\n",
       "      <td>75075.31</td>\n",
       "      <td>2</td>\n",
       "      <td>1</td>\n",
       "      <td>0</td>\n",
       "      <td>92888.52</td>\n",
       "      <td>1</td>\n",
       "    </tr>\n",
       "  </tbody>\n",
       "</table>\n",
       "<p>9091 rows × 11 columns</p>\n",
       "</div>"
      ],
      "text/plain": [
       "      creditscore geography  gender  age  tenure    balance  numofproducts  \\\n",
       "0             619    France  Female   42       2       0.00              1   \n",
       "1             608     Spain  Female   41       1   83807.86              1   \n",
       "2             502    France  Female   42       8  159660.80              3   \n",
       "3             699    France  Female   39       1       0.00              2   \n",
       "4             850     Spain  Female   43       2  125510.82              1   \n",
       "...           ...       ...     ...  ...     ...        ...            ...   \n",
       "9086          800    France  Female   29       2       0.00              2   \n",
       "9087          771    France    Male   39       5       0.00              2   \n",
       "9088          516    France    Male   35      10   57369.61              1   \n",
       "9089          709    France  Female   36       7       0.00              1   \n",
       "9090          772   Germany    Male   42       3   75075.31              2   \n",
       "\n",
       "      hascrcard  isactivemember  estimatedsalary  exited  \n",
       "0             1               1        101348.88       1  \n",
       "1             0               1        112542.58       0  \n",
       "2             1               0        113931.57       1  \n",
       "3             0               0         93826.63       0  \n",
       "4             1               1         79084.10       0  \n",
       "...         ...             ...              ...     ...  \n",
       "9086          0               0        167773.55       0  \n",
       "9087          1               0         96270.64       0  \n",
       "9088          1               1        101699.77       0  \n",
       "9089          0               1         42085.58       1  \n",
       "9090          1               0         92888.52       1  \n",
       "\n",
       "[9091 rows x 11 columns]"
      ]
     },
     "metadata": {},
     "output_type": "display_data"
    }
   ],
   "source": [
    "# The tenure feature has objects with NaN-values.\n",
    "# This will interfere with training our model.\n",
    "# It will not be possible to fill in the missing values correctly.\n",
    "# Remove rows containing missing values.\n",
    "data = data.dropna().reset_index(drop=True)\n",
    "# Check if the dataset has row duplicates.\n",
    "print('Row duplicates number is', \n",
    "      data.duplicated().sum())\n",
    "# Columns with customerid and surname attributes\n",
    "# don't make sense for machine learning.\n",
    "# Get rid of them.\n",
    "data = data.drop(['customerid', 'surname'], axis=1)\n",
    "display(data)"
   ]
  },
  {
   "cell_type": "code",
   "execution_count": 4,
   "metadata": {},
   "outputs": [
    {
     "data": {
      "text/html": [
       "<div>\n",
       "<style scoped>\n",
       "    .dataframe tbody tr th:only-of-type {\n",
       "        vertical-align: middle;\n",
       "    }\n",
       "\n",
       "    .dataframe tbody tr th {\n",
       "        vertical-align: top;\n",
       "    }\n",
       "\n",
       "    .dataframe thead th {\n",
       "        text-align: right;\n",
       "    }\n",
       "</style>\n",
       "<table border=\"1\" class=\"dataframe\">\n",
       "  <thead>\n",
       "    <tr style=\"text-align: right;\">\n",
       "      <th></th>\n",
       "      <th>creditscore</th>\n",
       "      <th>age</th>\n",
       "      <th>tenure</th>\n",
       "      <th>balance</th>\n",
       "      <th>numofproducts</th>\n",
       "      <th>hascrcard</th>\n",
       "      <th>isactivemember</th>\n",
       "      <th>estimatedsalary</th>\n",
       "      <th>exited</th>\n",
       "      <th>geography_Germany</th>\n",
       "      <th>geography_Spain</th>\n",
       "      <th>gender_Male</th>\n",
       "    </tr>\n",
       "  </thead>\n",
       "  <tbody>\n",
       "    <tr>\n",
       "      <th>0</th>\n",
       "      <td>619</td>\n",
       "      <td>42</td>\n",
       "      <td>2</td>\n",
       "      <td>0.00</td>\n",
       "      <td>1</td>\n",
       "      <td>1</td>\n",
       "      <td>1</td>\n",
       "      <td>101348.88</td>\n",
       "      <td>1</td>\n",
       "      <td>0</td>\n",
       "      <td>0</td>\n",
       "      <td>0</td>\n",
       "    </tr>\n",
       "    <tr>\n",
       "      <th>1</th>\n",
       "      <td>608</td>\n",
       "      <td>41</td>\n",
       "      <td>1</td>\n",
       "      <td>83807.86</td>\n",
       "      <td>1</td>\n",
       "      <td>0</td>\n",
       "      <td>1</td>\n",
       "      <td>112542.58</td>\n",
       "      <td>0</td>\n",
       "      <td>0</td>\n",
       "      <td>1</td>\n",
       "      <td>0</td>\n",
       "    </tr>\n",
       "    <tr>\n",
       "      <th>2</th>\n",
       "      <td>502</td>\n",
       "      <td>42</td>\n",
       "      <td>8</td>\n",
       "      <td>159660.80</td>\n",
       "      <td>3</td>\n",
       "      <td>1</td>\n",
       "      <td>0</td>\n",
       "      <td>113931.57</td>\n",
       "      <td>1</td>\n",
       "      <td>0</td>\n",
       "      <td>0</td>\n",
       "      <td>0</td>\n",
       "    </tr>\n",
       "    <tr>\n",
       "      <th>3</th>\n",
       "      <td>699</td>\n",
       "      <td>39</td>\n",
       "      <td>1</td>\n",
       "      <td>0.00</td>\n",
       "      <td>2</td>\n",
       "      <td>0</td>\n",
       "      <td>0</td>\n",
       "      <td>93826.63</td>\n",
       "      <td>0</td>\n",
       "      <td>0</td>\n",
       "      <td>0</td>\n",
       "      <td>0</td>\n",
       "    </tr>\n",
       "    <tr>\n",
       "      <th>4</th>\n",
       "      <td>850</td>\n",
       "      <td>43</td>\n",
       "      <td>2</td>\n",
       "      <td>125510.82</td>\n",
       "      <td>1</td>\n",
       "      <td>1</td>\n",
       "      <td>1</td>\n",
       "      <td>79084.10</td>\n",
       "      <td>0</td>\n",
       "      <td>0</td>\n",
       "      <td>1</td>\n",
       "      <td>0</td>\n",
       "    </tr>\n",
       "  </tbody>\n",
       "</table>\n",
       "</div>"
      ],
      "text/plain": [
       "   creditscore  age  tenure    balance  numofproducts  hascrcard  \\\n",
       "0          619   42       2       0.00              1          1   \n",
       "1          608   41       1   83807.86              1          0   \n",
       "2          502   42       8  159660.80              3          1   \n",
       "3          699   39       1       0.00              2          0   \n",
       "4          850   43       2  125510.82              1          1   \n",
       "\n",
       "   isactivemember  estimatedsalary  exited  geography_Germany  \\\n",
       "0               1        101348.88       1                  0   \n",
       "1               1        112542.58       0                  0   \n",
       "2               0        113931.57       1                  0   \n",
       "3               0         93826.63       0                  0   \n",
       "4               1         79084.10       0                  0   \n",
       "\n",
       "   geography_Spain  gender_Male  \n",
       "0                0            0  \n",
       "1                1            0  \n",
       "2                0            0  \n",
       "3                0            0  \n",
       "4                1            0  "
      ]
     },
     "metadata": {},
     "output_type": "display_data"
    },
    {
     "name": "stdout",
     "output_type": "stream",
     "text": [
      "<class 'pandas.core.frame.DataFrame'>\n",
      "RangeIndex: 9091 entries, 0 to 9090\n",
      "Data columns (total 12 columns):\n",
      " #   Column             Non-Null Count  Dtype  \n",
      "---  ------             --------------  -----  \n",
      " 0   creditscore        9091 non-null   int64  \n",
      " 1   age                9091 non-null   int64  \n",
      " 2   tenure             9091 non-null   Int64  \n",
      " 3   balance            9091 non-null   float64\n",
      " 4   numofproducts      9091 non-null   int64  \n",
      " 5   hascrcard          9091 non-null   int64  \n",
      " 6   isactivemember     9091 non-null   int64  \n",
      " 7   estimatedsalary    9091 non-null   float64\n",
      " 8   exited             9091 non-null   int64  \n",
      " 9   geography_Germany  9091 non-null   uint8  \n",
      " 10  geography_Spain    9091 non-null   uint8  \n",
      " 11  gender_Male        9091 non-null   uint8  \n",
      "dtypes: Int64(1), float64(2), int64(6), uint8(3)\n",
      "memory usage: 674.8 KB\n"
     ]
    }
   ],
   "source": [
    "# The dataframe has both numeric and categorical features.\n",
    "# Let's use the technique of one-hot encoding.\n",
    "data_ohe = pd.get_dummies(data, drop_first=True)\n",
    "display(data_ohe.head(5))\n",
    "data_ohe.info()"
   ]
  },
  {
   "cell_type": "code",
   "execution_count": 5,
   "metadata": {},
   "outputs": [],
   "source": [
    "# Prepare training, validation and test sets.\n",
    "features = data_ohe.drop('exited', axis=1)\n",
    "target = data_ohe.exited"
   ]
  },
  {
   "cell_type": "markdown",
   "metadata": {},
   "source": [
    "In the `train_test_split` method, we use the `stratify` parameter. Specify in it a set of objects of the target feature. This will keep the ratio of objects of different classes in the splitted sets the same as in the `target` set."
   ]
  },
  {
   "cell_type": "code",
   "execution_count": 6,
   "metadata": {},
   "outputs": [],
   "source": [
    "# First, split into training and validation.\n",
    "# Validation set size 0.2.\n",
    "features_train, features_valid, target_train, target_valid = train_test_split(\n",
    "    features,\n",
    "    target, \n",
    "    test_size=.2,\n",
    "    random_state=12345,\n",
    "    stratify=target\n",
    ")\n",
    "# Now we split the training set into test and\n",
    "# the final version of the training set.\n",
    "features_train, features_test, target_train, target_test = train_test_split(\n",
    "    features_train,\n",
    "    target_train, \n",
    "    test_size=.25,\n",
    "    random_state=12345,\n",
    "    stratify=target_train\n",
    ")"
   ]
  },
  {
   "cell_type": "code",
   "execution_count": 7,
   "metadata": {},
   "outputs": [
    {
     "name": "stderr",
     "output_type": "stream",
     "text": [
      "/opt/anaconda3/lib/python3.9/site-packages/pandas/core/frame.py:3678: SettingWithCopyWarning: \n",
      "A value is trying to be set on a copy of a slice from a DataFrame.\n",
      "Try using .loc[row_indexer,col_indexer] = value instead\n",
      "\n",
      "See the caveats in the documentation: https://pandas.pydata.org/pandas-docs/stable/user_guide/indexing.html#returning-a-view-versus-a-copy\n",
      "  self[col] = igetitem(value, i)\n"
     ]
    },
    {
     "data": {
      "text/html": [
       "<div>\n",
       "<style scoped>\n",
       "    .dataframe tbody tr th:only-of-type {\n",
       "        vertical-align: middle;\n",
       "    }\n",
       "\n",
       "    .dataframe tbody tr th {\n",
       "        vertical-align: top;\n",
       "    }\n",
       "\n",
       "    .dataframe thead th {\n",
       "        text-align: right;\n",
       "    }\n",
       "</style>\n",
       "<table border=\"1\" class=\"dataframe\">\n",
       "  <thead>\n",
       "    <tr style=\"text-align: right;\">\n",
       "      <th></th>\n",
       "      <th>creditscore</th>\n",
       "      <th>age</th>\n",
       "      <th>tenure</th>\n",
       "      <th>balance</th>\n",
       "      <th>numofproducts</th>\n",
       "      <th>hascrcard</th>\n",
       "      <th>isactivemember</th>\n",
       "      <th>estimatedsalary</th>\n",
       "      <th>geography_Germany</th>\n",
       "      <th>geography_Spain</th>\n",
       "      <th>gender_Male</th>\n",
       "    </tr>\n",
       "  </thead>\n",
       "  <tbody>\n",
       "    <tr>\n",
       "      <th>2804</th>\n",
       "      <td>0.273332</td>\n",
       "      <td>-1.028943</td>\n",
       "      <td>-0.344468</td>\n",
       "      <td>-1.224804</td>\n",
       "      <td>2</td>\n",
       "      <td>1</td>\n",
       "      <td>1</td>\n",
       "      <td>0.776365</td>\n",
       "      <td>0</td>\n",
       "      <td>0</td>\n",
       "      <td>0</td>\n",
       "    </tr>\n",
       "    <tr>\n",
       "      <th>4445</th>\n",
       "      <td>0.867258</td>\n",
       "      <td>0.197898</td>\n",
       "      <td>0.688936</td>\n",
       "      <td>1.669480</td>\n",
       "      <td>1</td>\n",
       "      <td>1</td>\n",
       "      <td>1</td>\n",
       "      <td>0.650528</td>\n",
       "      <td>0</td>\n",
       "      <td>0</td>\n",
       "      <td>1</td>\n",
       "    </tr>\n",
       "    <tr>\n",
       "      <th>8537</th>\n",
       "      <td>-0.133038</td>\n",
       "      <td>-0.745826</td>\n",
       "      <td>-0.688936</td>\n",
       "      <td>0.357605</td>\n",
       "      <td>1</td>\n",
       "      <td>0</td>\n",
       "      <td>0</td>\n",
       "      <td>-1.368629</td>\n",
       "      <td>0</td>\n",
       "      <td>0</td>\n",
       "      <td>0</td>\n",
       "    </tr>\n",
       "    <tr>\n",
       "      <th>1588</th>\n",
       "      <td>-1.362568</td>\n",
       "      <td>-0.085219</td>\n",
       "      <td>0.000000</td>\n",
       "      <td>0.555184</td>\n",
       "      <td>1</td>\n",
       "      <td>0</td>\n",
       "      <td>1</td>\n",
       "      <td>0.638830</td>\n",
       "      <td>0</td>\n",
       "      <td>0</td>\n",
       "      <td>1</td>\n",
       "    </tr>\n",
       "    <tr>\n",
       "      <th>5744</th>\n",
       "      <td>0.867258</td>\n",
       "      <td>1.047250</td>\n",
       "      <td>-1.033403</td>\n",
       "      <td>-1.224804</td>\n",
       "      <td>2</td>\n",
       "      <td>0</td>\n",
       "      <td>1</td>\n",
       "      <td>0.822454</td>\n",
       "      <td>0</td>\n",
       "      <td>0</td>\n",
       "      <td>1</td>\n",
       "    </tr>\n",
       "  </tbody>\n",
       "</table>\n",
       "</div>"
      ],
      "text/plain": [
       "      creditscore       age    tenure   balance  numofproducts  hascrcard  \\\n",
       "2804     0.273332 -1.028943 -0.344468 -1.224804              2          1   \n",
       "4445     0.867258  0.197898  0.688936  1.669480              1          1   \n",
       "8537    -0.133038 -0.745826 -0.688936  0.357605              1          0   \n",
       "1588    -1.362568 -0.085219  0.000000  0.555184              1          0   \n",
       "5744     0.867258  1.047250 -1.033403 -1.224804              2          0   \n",
       "\n",
       "      isactivemember  estimatedsalary  geography_Germany  geography_Spain  \\\n",
       "2804               1         0.776365                  0                0   \n",
       "4445               1         0.650528                  0                0   \n",
       "8537               0        -1.368629                  0                0   \n",
       "1588               1         0.638830                  0                0   \n",
       "5744               1         0.822454                  0                0   \n",
       "\n",
       "      gender_Male  \n",
       "2804            0  \n",
       "4445            1  \n",
       "8537            0  \n",
       "1588            1  \n",
       "5744            1  "
      ]
     },
     "metadata": {},
     "output_type": "display_data"
    },
    {
     "data": {
      "text/plain": [
       "(5454, 11)"
      ]
     },
     "metadata": {},
     "output_type": "display_data"
    },
    {
     "data": {
      "text/plain": [
       "(5454,)"
      ]
     },
     "metadata": {},
     "output_type": "display_data"
    },
    {
     "data": {
      "text/plain": [
       "(1819, 11)"
      ]
     },
     "metadata": {},
     "output_type": "display_data"
    },
    {
     "data": {
      "text/plain": [
       "(1819,)"
      ]
     },
     "metadata": {},
     "output_type": "display_data"
    },
    {
     "data": {
      "text/plain": [
       "(1818, 11)"
      ]
     },
     "metadata": {},
     "output_type": "display_data"
    },
    {
     "data": {
      "text/plain": [
       "(1818,)"
      ]
     },
     "metadata": {},
     "output_type": "display_data"
    }
   ],
   "source": [
    "# Scale numerical features.\n",
    "numeric_features = [\n",
    "    'creditscore', \n",
    "    'age', \n",
    "    'tenure', \n",
    "    'balance', \n",
    "    'estimatedsalary'\n",
    "]\n",
    "scaler = StandardScaler()\n",
    "scaler.fit(features_train[numeric_features]) \n",
    "features_train[numeric_features] = scaler.transform(\n",
    "    features_train[numeric_features]\n",
    ")\n",
    "features_valid[numeric_features] = scaler.transform(\n",
    "    features_valid[numeric_features]\n",
    ")\n",
    "features_test[numeric_features] = scaler.transform(\n",
    "    features_test[numeric_features]\n",
    ")\n",
    "pd.options.mode.chained_assignment = None\n",
    "display(features_train.head(5))\n",
    "# Sets are ready. Let's take a look at their sizes.\n",
    "# We remember that the original dataset had\n",
    "# 13 features and 9091 objects.\n",
    "samples = [\n",
    "    features_train, target_train, \n",
    "    features_valid, target_valid, \n",
    "    features_test, target_test\n",
    "]\n",
    "for sample in samples:\n",
    "    display(sample.shape)"
   ]
  },
  {
   "cell_type": "markdown",
   "metadata": {},
   "source": [
    "### Conclusion"
   ]
  },
  {
   "cell_type": "markdown",
   "metadata": {},
   "source": [
    "We prepared the following data:\n",
    "* For the convenience of writing code, the height of the letters in the names of features has been reduced\n",
    "* *tenure* column data format converted to `int64`. This allowed us to get rid of the meaningless floating point\n",
    "* Due to the impossibility of correctly filling in the missing values in the *tenure* feature, it was decided to get rid of rows with missing values. The presence of missing values will interfere with the correct training of the mathematical model.\n",
    "* We checked for row duplicates. There were no duplicates in the dataset.\n",
    "* Due to the fact that there is no need for the features *customerid* and *surname*, we got rid of them\n",
    "* Using the One-Hot Encoding, we translated the categorical features expressed in words into numerical ones\n",
    "* Using the `train_test_split` method, we splitted the dataset into three sets: training, validation and test in the classical ratio: 0.6 / 0.2 / 0.2\n",
    "* Using the `scaler.transform` method, scaling of the numerical features *creditscore*, *age*, *tenure*, *balance*, *estimatedsalary* was performed"
   ]
  },
  {
   "cell_type": "markdown",
   "metadata": {},
   "source": [
    "## Research task. Training different models without taking into account imbalance"
   ]
  },
  {
   "cell_type": "code",
   "execution_count": 8,
   "metadata": {},
   "outputs": [
    {
     "data": {
      "text/plain": [
       "0    0.796113\n",
       "1    0.203887\n",
       "Name: exited, dtype: float64"
      ]
     },
     "metadata": {},
     "output_type": "display_data"
    },
    {
     "data": {
      "text/plain": [
       "<AxesSubplot:>"
      ]
     },
     "execution_count": 8,
     "metadata": {},
     "output_type": "execute_result"
    },
    {
     "data": {
      "image/png": "[encoded data removed]",
      "text/plain": [
       "<Figure size 432x288 with 1 Axes>"
      ]
     },
     "metadata": {
      "needs_background": "light"
     },
     "output_type": "display_data"
    }
   ],
   "source": [
    "# Estimate the ratio of classes.\n",
    "display(target_train.value_counts(normalize=True))\n",
    "target_train.value_counts(normalize=True).plot(kind='bar')"
   ]
  },
  {
   "cell_type": "code",
   "execution_count": 9,
   "metadata": {},
   "outputs": [
    {
     "name": "stdout",
     "output_type": "stream",
     "text": [
      "Accuracy of the logistic regression model before class balancing is 0.8136338647608576\n",
      "Accuracy of the dummy model is 0.7960620393796062\n",
      "\n",
      "Confusion matrix\n",
      "[[1393   55]\n",
      " [ 284   87]]\n",
      "\n",
      "Recall of the logistic regression model before class balancing is 0.23450134770889489\n",
      "Precision of the logistic regression model before class balancing is 0.6126760563380281\n",
      "F1-score of the logistic regression model before class balancing is 0.33918128654970764\n",
      "\n"
     ]
    },
    {
     "data": {
      "image/png": "[encoded data removed]",
      "text/plain": [
       "<Figure size 432x288 with 1 Axes>"
      ]
     },
     "metadata": {
      "needs_background": "light"
     },
     "output_type": "display_data"
    }
   ],
   "source": [
    "# Train different models without class imbalance\n",
    "# Let's start with logistic regression.\n",
    "model_lr = LogisticRegression(random_state=12345, solver='liblinear')\n",
    "model_lr.fit(features_train, target_train)\n",
    "predicted_valid = pd.Series(model_lr.predict(features_valid))\n",
    "predicted_valid.value_counts(normalize=True).plot(kind='bar')\n",
    "# Calculate the value of accuracy.\n",
    "accuracy_valid =  accuracy_score(target_valid, predicted_valid)\n",
    "print('Accuracy of the logistic regression model' + \n",
    "      ' before class balancing is', accuracy_valid)\n",
    "# Check the model for sanity. Let's create a constant model.\n",
    "dummy_regr = DummyRegressor(strategy=\"constant\", constant=0)\n",
    "dummy_regr.fit(features, target)\n",
    "target_pred_constant = pd.Series(dummy_regr.predict(features))\n",
    "print('Accuracy of the dummy model is', \n",
    "      accuracy_score(target, target_pred_constant))\n",
    "print()\n",
    "# Calculate the main metrics.\n",
    "print('Confusion matrix')\n",
    "print(confusion_matrix(target_valid, predicted_valid))\n",
    "print()\n",
    "print('Recall of the logistic regression model' + \n",
    "      ' before class balancing is', \n",
    "      recall_score(target_valid, predicted_valid))\n",
    "print('Precision of the logistic regression model' +\n",
    "      ' before class balancing is', \n",
    "      precision_score(target_valid, predicted_valid))\n",
    "print('F1-score of the logistic regression model' +\n",
    "      ' before class balancing is', \n",
    "      f1_score(target_valid, predicted_valid))\n",
    "print()"
   ]
  },
  {
   "cell_type": "markdown",
   "metadata": {},
   "source": [
    "It is worth noting that feature standardization does not make sense for decision trees. But to shorten the code, we will use a standardized training set to train the decision trees too."
   ]
  },
  {
   "cell_type": "code",
   "execution_count": 10,
   "metadata": {},
   "outputs": [
    {
     "name": "stdout",
     "output_type": "stream",
     "text": [
      "max_depth = 1 : 0.7960417811984607\n",
      "max_depth = 2 : 0.8367234744365035\n",
      "max_depth = 3 : 0.8427707531610775\n",
      "max_depth = 4 : 0.8510170423309511\n",
      "max_depth = 5 : 0.8587135788894997\n",
      "max_depth = 6 : 0.8581638262781748\n",
      "max_depth = 7 : 0.8510170423309511\n",
      "max_depth = 8 : 0.8499175371083013\n",
      "max_depth = 9 : 0.8367234744365035\n",
      "max_depth = 10 : 0.8152831225948324\n",
      "Accuracy of the decision tree model before class balancing is 0.8587135788894997\n",
      "Accuracy of constant dummy model is 0.7960620393796062\n",
      "\n",
      "Confusion matrix\n",
      "[[1421   27]\n",
      " [ 230  141]]\n",
      "\n",
      "Recall of the decision tree model before class balancing is 0.38005390835579517\n",
      "Precision of the decision tree model before class balancing is 0.8392857142857143\n",
      "F1-score of the decision tree model before class balancing is 0.5231910946196661\n",
      "\n"
     ]
    }
   ],
   "source": [
    "# Train the decision tree without taking into account the imbalance.\n",
    "# First, set the max_depth hyperparameter.\n",
    "for depth in range(1, 11):\n",
    "    model_dt = DecisionTreeClassifier(\n",
    "        random_state=12345, max_depth=depth\n",
    "    ) \n",
    "    model_dt.fit(features_train, target_train)\n",
    "    predictions_valid = model_dt.predict(features_valid)\n",
    "    print('max_depth =', depth, ': ', end='')\n",
    "    print(accuracy_score(target_valid, predictions_valid))\n",
    "# Now train the decision tree.\n",
    "model_dt = DecisionTreeClassifier(random_state=12345, max_depth=5) \n",
    "model_dt.fit(features_train, target_train)\n",
    "predicted_valid = model_dt.predict(features_valid)\n",
    "accuracy_valid =  accuracy_score(target_valid, predicted_valid)\n",
    "print('Accuracy of the decision tree model' +\n",
    "      ' before class balancing is', accuracy_valid)\n",
    "# Check the model for sanity. Let's create a constant model.\n",
    "dummy_dt = DummyClassifier(strategy=\"constant\", constant=0)\n",
    "dummy_dt.fit(features, target)\n",
    "target_pred_dt = pd.Series(dummy_dt.predict(features))\n",
    "print('Accuracy of constant dummy model is', \n",
    "      accuracy_score(target, target_pred_dt))\n",
    "print()\n",
    "# Calculate the main metrics.\n",
    "print('Confusion matrix')\n",
    "print(confusion_matrix(target_valid, predicted_valid))\n",
    "print()\n",
    "print('Recall of the decision tree model' +\n",
    "      ' before class balancing is', \n",
    "      recall_score(target_valid, predicted_valid))\n",
    "print('Precision of the decision tree model' +\n",
    "      ' before class balancing is', \n",
    "      precision_score(target_valid, predicted_valid))\n",
    "print('F1-score of the decision tree model' +\n",
    "      ' before class balancing is', \n",
    "      f1_score(target_valid, predicted_valid))\n",
    "print()"
   ]
  },
  {
   "cell_type": "code",
   "execution_count": 11,
   "metadata": {},
   "outputs": [
    {
     "name": "stdout",
     "output_type": "stream",
     "text": [
      "1 0.7932930181418362\n",
      "2 0.8295766904892798\n",
      "3 0.8295766904892798\n",
      "4 0.8433205057724025\n",
      "5 0.8433205057724025\n",
      "6 0.8433205057724025\n",
      "7 0.8433205057724025\n",
      "8 0.8444200109950523\n",
      "9 0.8444200109950523\n",
      "10 0.8499175371083013\n",
      "11 0.8499175371083013\n",
      "12 0.8532160527762507\n",
      "13 0.8532160527762507\n",
      "14 0.8532160527762507\n",
      "15 0.8532160527762507\n",
      "16 0.8532160527762507\n",
      "17 0.8532160527762507\n",
      "18 0.8548653106102254\n",
      "19 0.8548653106102254\n",
      "20 0.8559648158328752\n",
      "21 0.8559648158328752\n",
      "22 0.857064321055525\n",
      "23 0.857064321055525\n",
      "24 0.8581638262781748\n",
      "25 0.8581638262781748\n",
      "26 0.8581638262781748\n",
      "27 0.8581638262781748\n",
      "28 0.8581638262781748\n",
      "29 0.8581638262781748\n",
      "30 0.8581638262781748\n",
      "31 0.8581638262781748\n",
      "32 0.8581638262781748\n",
      "33 0.8581638262781748\n",
      "34 0.8581638262781748\n",
      "35 0.8581638262781748\n",
      "36 0.8581638262781748\n",
      "37 0.8581638262781748\n",
      "38 0.8598130841121495\n",
      "39 0.8598130841121495\n",
      "40 0.8598130841121495\n",
      "Accuracy of the best model on the validation set: 0.8598130841121495\n",
      "\n",
      "The accuracy of our model prior to class balancing is 0.8598130841121495\n",
      "Accuracy of constant dummy model is 0.7960620393796062\n",
      "\n",
      "Confusion matrix\n",
      "[[1385   63]\n",
      " [ 192  179]]\n",
      "\n",
      "Recall of the random forest model before class balancing is 0.48247978436657685\n",
      "Precision of the random forest model before class balancing is 0.7396694214876033\n",
      "F1-score of the random forest model before class balancing is 0.5840130505709624\n",
      "\n"
     ]
    }
   ],
   "source": [
    "# Train a random forest.\n",
    "# First, set up the n_estimators hyperparameter.\n",
    "best_model = None\n",
    "best_result = 0\n",
    "for est in range(1, 41):\n",
    "    model = RandomForestClassifier(\n",
    "        random_state=12345, \n",
    "        n_estimators=est\n",
    "    )\n",
    "    model.fit(features_train, target_train)\n",
    "    result = model.score(features_valid, target_valid)\n",
    "    if result > best_result:\n",
    "        best_model = model\n",
    "        best_result = result\n",
    "    print(est, best_result)\n",
    "print('Accuracy of the best model on the validation set:', \n",
    "      best_result)\n",
    "print()\n",
    "# Train the model.\n",
    "model_rf = RandomForestClassifier(\n",
    "    random_state=12345, n_estimators=38\n",
    ") \n",
    "model_rf.fit(features_train, target_train)\n",
    "predicted_valid = model_rf.predict(features_valid)\n",
    "accuracy_valid =  accuracy_score(target_valid, predicted_valid)\n",
    "print('The accuracy of our model prior to class balancing is', \n",
    "      accuracy_valid)\n",
    "# Check the model for sanity. Let's create a constant model.\n",
    "dummy_rf = DummyClassifier(strategy=\"constant\", constant=0)\n",
    "dummy_rf.fit(features, target)\n",
    "target_pred_rf = pd.Series(dummy_rf.predict(features))\n",
    "print('Accuracy of constant dummy model is', \n",
    "      accuracy_score(target, target_pred_rf))\n",
    "print()\n",
    "# Calculate the main metrics.\n",
    "print('Confusion matrix')\n",
    "print(confusion_matrix(target_valid, predicted_valid))\n",
    "print()\n",
    "print('Recall of the random forest model' +\n",
    "      ' before class balancing is', \n",
    "      recall_score(target_valid, predicted_valid))\n",
    "print('Precision of the random forest model' + \n",
    "      ' before class balancing is', \n",
    "      precision_score(target_valid, predicted_valid))\n",
    "print('F1-score of the random forest model' +\n",
    "      ' before class balancing is', \n",
    "      f1_score(target_valid, predicted_valid))\n",
    "print()"
   ]
  },
  {
   "cell_type": "markdown",
   "metadata": {},
   "source": [
    "### Conclusion"
   ]
  },
  {
   "cell_type": "markdown",
   "metadata": {},
   "source": [
    "We estimated the ratio of classes in the training sample: a negative class occurs 4 times more often than a positive one. The same ratio is observed in the validation set. It can be concluded that there is an imbalance of classes.\n",
    "  \n",
    "Without class imbalance, three different models were trained with three different algorithms:\n",
    "  \n",
    "**Logistic regression**\n",
    "Accuracy of our model was 0.81. At the same time, the accuracy of the constant dummy model is 0.8. The accuracy of our model is almost equal to the accuracy of the dummy model. These results indicate the insanity of our model.\n",
    "Recall was 0.23\n",
    "Precision was 0.61\n",
    "F1 score was 0.34\n",
    "  \n",
    "**Decision Tree**\n",
    "Accuracy of our model was 0.86. At the same time, the accuracy of the constant dummy model is 0.8. Accuracy of our model is slightly higher than the empty model.\n",
    "Recall was 0.38\n",
    "Precision was 0.84\n",
    "F1 score was 0.52\n",
    "  \n",
    "**Random Forest**\n",
    "Accuracy of our model was 0.86. At the same time, the accuracy of the constant dummy model is 0.8. Accuracy of our model is slightly higher than the empty model.\n",
    "Recall was 0.48\n",
    "Precision was 0.74\n",
    "F1 score was 0.58\n",
    "  \n",
    "**To increase the key metric, F1-measure, we need to balance the classes. This is what we will devote the next step of the project to.**"
   ]
  },
  {
   "cell_type": "markdown",
   "metadata": {},
   "source": [
    "## Fight imbalance. Training Different Models Given Imbalance"
   ]
  },
  {
   "cell_type": "markdown",
   "metadata": {},
   "source": [
    "### Logistic Regression"
   ]
  },
  {
   "cell_type": "markdown",
   "metadata": {},
   "source": [
    "#### Method #1: Use the class_weight parameter"
   ]
  },
  {
   "cell_type": "code",
   "execution_count": 12,
   "metadata": {},
   "outputs": [
    {
     "name": "stdout",
     "output_type": "stream",
     "text": [
      "Confusion matrix\n",
      "[[1021  427]\n",
      " [ 113  258]]\n",
      "\n",
      "Recall of our model after class balancing is 0.6954177897574124\n",
      "Precision of our model after class balancing is 0.37664233576642336\n",
      "F1-score of our model after class balancing is 0.48863636363636365\n"
     ]
    }
   ],
   "source": [
    "# Let's start our fight against imbalance. Train the Model\n",
    "# with a logistic regression algorithm.\n",
    "# Let's not forget to specify balanced in the class_weight parameter.\n",
    "model_lr_2 = LogisticRegression(\n",
    "    random_state=12345, \n",
    "    solver='liblinear', \n",
    "    class_weight='balanced'\n",
    ")\n",
    "model_lr_2.fit(features_train, target_train)\n",
    "predicted_valid = model_lr_2.predict(features_valid)\n",
    "# Calculate the main metrics.\n",
    "print('Confusion matrix')\n",
    "print(confusion_matrix(target_valid, predicted_valid))\n",
    "print()\n",
    "print('Recall of our model after class balancing is', \n",
    "      recall_score(target_valid, predicted_valid))\n",
    "print('Precision of our model after class balancing is', \n",
    "      precision_score(target_valid, predicted_valid))\n",
    "print('F1-score of our model after class balancing is', \n",
    "      f1_score(target_valid, predicted_valid))"
   ]
  },
  {
   "cell_type": "markdown",
   "metadata": {},
   "source": [
    "#### Method #2: Upsampling"
   ]
  },
  {
   "cell_type": "code",
   "execution_count": 13,
   "metadata": {},
   "outputs": [
    {
     "name": "stdout",
     "output_type": "stream",
     "text": [
      "(8790, 11)\n",
      "(8790,)\n",
      "\n",
      "1    4448\n",
      "0    4342\n",
      "Name: exited, dtype: int64\n",
      "\n",
      "Confusion matrix\n",
      "[[1007  441]\n",
      " [ 111  260]]\n",
      "\n",
      "Recall of our model after class balancing with Upsampling method is 0.7008086253369272\n",
      "Precision of our model after class balancing with Upsampling method is 0.37089871611982883\n",
      "F1-мера of our model after class balancing with Upsampling method is 0.48507462686567165\n"
     ]
    }
   ],
   "source": [
    "# Let's use the method of increasing the sample\n",
    "# by increasing the number of\n",
    "# feature objects of a less common class.\n",
    "# Write an upsample function that takes as input\n",
    "# target and other signs, as well as a multiplier.\n",
    "def upsample(features, target, repeat):\n",
    "    features_zeros = features_train[target_train == 0]\n",
    "    features_ones = features_train[target_train == 1]\n",
    "    target_zeros = target_train[target_train == 0]\n",
    "    target_ones = target_train[target_train == 1]\n",
    "    \n",
    "    features_upsampled = pd.concat(\n",
    "        [features_zeros] + [features_ones] * repeat)\n",
    "    target_upsampled = pd.concat(\n",
    "        [target_zeros] + [target_ones] * repeat)\n",
    "    \n",
    "    features_upsampled, target_upsampled = shuffle(\n",
    "        features_upsampled, target_upsampled, random_state=12345)\n",
    "    \n",
    "    return features_upsampled, target_upsampled\n",
    "\n",
    "# Get new samples.\n",
    "features_upsampled, target_upsampled = upsample(\n",
    "    features_train, \n",
    "    target_train,\n",
    "    4\n",
    ")\n",
    "# Check sizes.\n",
    "print(features_upsampled.shape)\n",
    "print(target_upsampled.shape)\n",
    "print()\n",
    "print(target_upsampled.value_counts())\n",
    "print()\n",
    "# Create a model and train it.\n",
    "model_lr_3 = LogisticRegression(random_state=12345, solver='liblinear')\n",
    "model_lr_3.fit(features_upsampled, target_upsampled)\n",
    "predicted_valid = model_lr_3.predict(features_valid)\n",
    "# Calculate the main metrics.\n",
    "print('Confusion matrix')\n",
    "print(confusion_matrix(target_valid, predicted_valid))\n",
    "print()\n",
    "print('Recall of our model after class balancing' +\n",
    "      ' with Upsampling method is', \n",
    "      recall_score(target_valid, predicted_valid))\n",
    "print('Precision of our model after class balancing' + \n",
    "      ' with Upsampling method is', \n",
    "      precision_score(target_valid, predicted_valid))\n",
    "print('F1-мера of our model after class balancing' + \n",
    "      ' with Upsampling method is', \n",
    "      f1_score(target_valid, predicted_valid))"
   ]
  },
  {
   "cell_type": "markdown",
   "metadata": {},
   "source": [
    "#### Метод #3: Downsampling"
   ]
  },
  {
   "cell_type": "code",
   "execution_count": 14,
   "metadata": {
    "scrolled": true
   },
   "outputs": [
    {
     "name": "stdout",
     "output_type": "stream",
     "text": [
      "(2198, 11)\n",
      "(2198,)\n",
      "\n",
      "1    1112\n",
      "0    1086\n",
      "Name: exited, dtype: int64\n",
      "\n",
      "Confusion matrix\n",
      "[[1016  432]\n",
      " [ 115  256]]\n",
      "\n",
      "Recall of our model after class balancing with Downsampling is 0.6900269541778976\n",
      "Precision of our model after class balancing with Downsampling is 0.37209302325581395\n",
      "F1-score of our model after class balancing with Downsampling is 0.48347497639282344\n"
     ]
    }
   ],
   "source": [
    "# Use the downsampling method\n",
    "# by reducing the number of feature objects\n",
    "# of the class that occurs most frequently.\n",
    "# Write a downsample function that takes as input\n",
    "# target and other features, as well as a multiplier.\n",
    "def downsample(features, target, fraction):\n",
    "    features_zeros = features[target == 0]\n",
    "    features_ones = features[target == 1]\n",
    "    target_zeros = target[target == 0]\n",
    "    target_ones = target[target == 1]\n",
    "\n",
    "    features_downsampled = pd.concat(\n",
    "        [features_zeros.sample(frac=fraction, random_state=12345)] + \n",
    "        [features_ones])\n",
    "    target_downsampled = pd.concat(\n",
    "        [target_zeros.sample(frac=fraction, random_state=12345)] + \n",
    "        [target_ones])\n",
    "    \n",
    "    features_downsampled, target_downsampled = shuffle(\n",
    "        features_downsampled, target_downsampled, random_state=12345)\n",
    "    \n",
    "    return features_downsampled, target_downsampled\n",
    "\n",
    "# Get new samples.\n",
    "features_downsampled, target_downsampled = downsample(\n",
    "    features_train, target_train, 0.25\n",
    ")\n",
    "# Check sizes.\n",
    "print(features_downsampled.shape)\n",
    "print(target_downsampled.shape)\n",
    "print()\n",
    "print(target_downsampled.value_counts())\n",
    "print()\n",
    "# Create a model and train it.\n",
    "model_lr_4 = LogisticRegression(random_state=12345, solver='liblinear')\n",
    "model_lr_4.fit(features_downsampled, target_downsampled)\n",
    "predicted_valid = model_lr_4.predict(features_valid)\n",
    "# Calculate the main metrics.\n",
    "print('Confusion matrix')\n",
    "print(confusion_matrix(target_valid, predicted_valid))\n",
    "print()\n",
    "print('Recall of our model after class balancing' + \n",
    "      ' with Downsampling is', \n",
    "      recall_score(target_valid, predicted_valid))\n",
    "print('Precision of our model after class balancing' +\n",
    "      ' with Downsampling is', \n",
    "      precision_score(target_valid, predicted_valid))\n",
    "print('F1-score of our model after class balancing' +\n",
    "      ' with Downsampling is', \n",
    "      f1_score(target_valid, predicted_valid))"
   ]
  },
  {
   "cell_type": "markdown",
   "metadata": {},
   "source": [
    "#### Conclusion"
   ]
  },
  {
   "cell_type": "markdown",
   "metadata": {},
   "source": [
    "The values of the F1-score of the logistic regression model for each method of dealing with imbalances were:\n",
    "* Using class_weight = 'balanced' parameter: F1-score is 0.489\n",
    "* Applying the Upsampling technique: F1-score is 0.485\n",
    "* Applying the Downsampling technique: F1-score is 0.483\n",
    "\n",
    "Balancing the training dataset allowed us to significantly increase the F1-score, no matter how we fought the imbalance. However, we failed to achieve the set task (F1-score with a value of at least 0.59). Let's try other algorithms."
   ]
  },
  {
   "cell_type": "markdown",
   "metadata": {},
   "source": [
    "### Decision Tree"
   ]
  },
  {
   "cell_type": "markdown",
   "metadata": {},
   "source": [
    "#### Method #1: Using the class_weight Parameter"
   ]
  },
  {
   "cell_type": "code",
   "execution_count": 15,
   "metadata": {},
   "outputs": [
    {
     "name": "stdout",
     "output_type": "stream",
     "text": [
      "Confusion matrix\n",
      "[[1044  404]\n",
      " [  76  295]]\n",
      "\n",
      "Recall of our model after class balancing is 0.7951482479784366\n",
      "Precision of our model after class modeling 0.4220314735336195\n",
      "F1-score of our model after class modeling 0.5514018691588786\n"
     ]
    }
   ],
   "source": [
    "# Train the model with the decision tree algorithm\n",
    "# Let's not forget to specify balanced in the class_weight parameter.\n",
    "model_dt_2 = DecisionTreeClassifier(\n",
    "    random_state=12345, \n",
    "    max_depth=6, \n",
    "    class_weight='balanced'\n",
    ") \n",
    "model_dt_2.fit(features_train, target_train)\n",
    "predicted_valid = model_dt_2.predict(features_valid)\n",
    "# Calculate the main metrics.\n",
    "print('Confusion matrix')\n",
    "print(confusion_matrix(target_valid, predicted_valid))\n",
    "print()\n",
    "print('Recall of our model after class balancing is', \n",
    "      recall_score(target_valid, predicted_valid))\n",
    "print('Precision of our model after class modeling', \n",
    "      precision_score(target_valid, predicted_valid))\n",
    "print('F1-score of our model after class modeling', \n",
    "      f1_score(target_valid, predicted_valid))"
   ]
  },
  {
   "cell_type": "markdown",
   "metadata": {},
   "source": [
    "#### Method #2: Upsampling"
   ]
  },
  {
   "cell_type": "code",
   "execution_count": 16,
   "metadata": {},
   "outputs": [
    {
     "name": "stdout",
     "output_type": "stream",
     "text": [
      "Confusion matrix\n",
      "[[1044  404]\n",
      " [  76  295]]\n",
      "\n",
      "Recall of our model after class balancing with the Upsampling method is 0.7951482479784366\n",
      "Precision of our model after class balancing with the Upsampling method is 0.4220314735336195\n",
      "F1-score of our model after class balancing with the Upsampling method is 0.5514018691588786\n"
     ]
    }
   ],
   "source": [
    "# Let's use the method of increasing the sample\n",
    "# by increasing the number of objects\n",
    "# signs of a less common class.\n",
    "model_dt_3 = DecisionTreeClassifier(\n",
    "    random_state=12345, \n",
    "    max_depth=6\n",
    ") \n",
    "model_dt_3.fit(features_upsampled, target_upsampled)\n",
    "predicted_valid = model_dt_3.predict(features_valid)\n",
    "# Calculate main metrics.\n",
    "print('Confusion matrix')\n",
    "print(confusion_matrix(target_valid, predicted_valid))\n",
    "print()\n",
    "print('Recall of our model after class balancing' +\n",
    "      ' with the Upsampling method is', \n",
    "      recall_score(target_valid, predicted_valid))\n",
    "print('Precision of our model after class balancing' +\n",
    "      ' with the Upsampling method is', \n",
    "      precision_score(target_valid, predicted_valid))\n",
    "print('F1-score of our model after class balancing' +\n",
    "      ' with the Upsampling method is', \n",
    "      f1_score(target_valid, predicted_valid))"
   ]
  },
  {
   "cell_type": "markdown",
   "metadata": {},
   "source": [
    "#### Method #3: Downsampling"
   ]
  },
  {
   "cell_type": "code",
   "execution_count": 17,
   "metadata": {},
   "outputs": [
    {
     "name": "stdout",
     "output_type": "stream",
     "text": [
      "Confusion matrix\n",
      "[[1056  392]\n",
      " [  86  285]]\n",
      "\n",
      "Recall of our model after class balancing with the Downsampling method is 0.7681940700808625\n",
      "Precision of our model after class balancing with the Downsampling method is 0.42097488921713444\n",
      "F1-score of our model after class balancing with the Downsampling method is 0.5438931297709922\n"
     ]
    }
   ],
   "source": [
    "# We will use the method of Downsampling by reducing the number\n",
    "# of objects of the class that occurs most frequently.\n",
    "model_dt_4 = DecisionTreeClassifier(\n",
    "    random_state=12345, \n",
    "    max_depth=6\n",
    ") \n",
    "model_dt_4.fit(features_downsampled, target_downsampled)\n",
    "predicted_valid = model_dt_4.predict(features_valid)\n",
    "# Calculate confusion matrix.\n",
    "print('Confusion matrix')\n",
    "print(confusion_matrix(target_valid, predicted_valid))\n",
    "print()\n",
    "print('Recall of our model after class balancing' +\n",
    "      ' with the Downsampling method is', \n",
    "      recall_score(target_valid, predicted_valid))\n",
    "print('Precision of our model after class balancing' +\n",
    "      ' with the Downsampling method is', \n",
    "      precision_score(target_valid, predicted_valid))\n",
    "print('F1-score of our model after class balancing' + \n",
    "      ' with the Downsampling method is', \n",
    "      f1_score(target_valid, predicted_valid))"
   ]
  },
  {
   "cell_type": "markdown",
   "metadata": {},
   "source": [
    "#### Conclusion"
   ]
  },
  {
   "cell_type": "markdown",
   "metadata": {},
   "source": [
    "The values of the F1-score of the decision tree model for each way to deal with the imbalance were:\n",
    "* Using class_weight = 'balanced' parameter: F1-score is 0.551\n",
    "* Applying the Upsampling technique: F1-score is 0.551\n",
    "* Applying the Downsampling technique: F1-score is 0.544\n",
    "\n",
    "Balancing the training data allowed us to increase the F1-score, no matter how we fought the imbalance. However, we failed to achieve the set task (F1-score with a value of at least 0.59). Let's try to apply the random forest algorithm."
   ]
  },
  {
   "cell_type": "markdown",
   "metadata": {},
   "source": [
    "### Random forest"
   ]
  },
  {
   "cell_type": "markdown",
   "metadata": {},
   "source": [
    "#### Метод № 1: использование параметра class_weight"
   ]
  },
  {
   "cell_type": "code",
   "execution_count": 18,
   "metadata": {},
   "outputs": [
    {
     "name": "stdout",
     "output_type": "stream",
     "text": [
      "Confusion matrix\n",
      "[[1399   49]\n",
      " [ 196  175]]\n",
      "\n",
      "Recall of our model after class balancing 0.4716981132075472\n",
      "Precision of our model after class balancing 0.78125\n",
      "F1-score of our model after class balancing 0.588235294117647\n"
     ]
    }
   ],
   "source": [
    "# Train the model with the random forest algorithm\n",
    "# Let's not forget to specify balanced in the class_weight parameter.\n",
    "model_rf_2 = RandomForestClassifier(\n",
    "    random_state=12345, \n",
    "    n_estimators=38, \n",
    "    class_weight='balanced'\n",
    ") \n",
    "model_rf_2.fit(features_train, target_train)\n",
    "predicted_valid = model_rf_2.predict(features_valid)\n",
    "# Calculate the main metrics.\n",
    "print('Confusion matrix')\n",
    "print(confusion_matrix(target_valid, predicted_valid))\n",
    "print()\n",
    "print('Recall of our model after class balancing', \n",
    "      recall_score(target_valid, predicted_valid))\n",
    "print('Precision of our model after class balancing', \n",
    "      precision_score(target_valid, predicted_valid))\n",
    "print('F1-score of our model after class balancing', \n",
    "      f1_score(target_valid, predicted_valid))"
   ]
  },
  {
   "cell_type": "markdown",
   "metadata": {},
   "source": [
    "#### Method #2: Upsampling"
   ]
  },
  {
   "cell_type": "code",
   "execution_count": 19,
   "metadata": {},
   "outputs": [
    {
     "name": "stdout",
     "output_type": "stream",
     "text": [
      "Confusion matrix\n",
      "[[1346  102]\n",
      " [ 162  209]]\n",
      "\n",
      "Recall of our model after class balancing with the Upsampling method is 0.5633423180592992\n",
      "Precision of our model after class balancing with the Upsampling method is 0.6720257234726688\n",
      "F1-score of our model after class balancing with the Upsampling method is 0.6129032258064516\n"
     ]
    }
   ],
   "source": [
    "# We will use the method of Upsampling due to\n",
    "# increasing the number of feature objects of a less common class.\n",
    "model_rf_3 =  RandomForestClassifier(random_state=12345, n_estimators=38) \n",
    "model_rf_3.fit(features_upsampled, target_upsampled)\n",
    "predicted_valid = model_rf_3.predict(features_valid)\n",
    "# Calculate the main metrics.\n",
    "print('Confusion matrix')\n",
    "print(confusion_matrix(target_valid, predicted_valid))\n",
    "print()\n",
    "print('Recall of our model after class balancing' + \n",
    "      ' with the Upsampling method is', \n",
    "      recall_score(target_valid, predicted_valid))\n",
    "print('Precision of our model after class balancing' +\n",
    "      ' with the Upsampling method is', \n",
    "      precision_score(target_valid, predicted_valid))\n",
    "print('F1-score of our model after class balancing' + \n",
    "      ' with the Upsampling method is', \n",
    "      f1_score(target_valid, predicted_valid))"
   ]
  },
  {
   "cell_type": "markdown",
   "metadata": {},
   "source": [
    "#### Method #3: Downsampling"
   ]
  },
  {
   "cell_type": "code",
   "execution_count": 20,
   "metadata": {},
   "outputs": [
    {
     "name": "stdout",
     "output_type": "stream",
     "text": [
      "Confusion matrix\n",
      "[[1144  304]\n",
      " [  94  277]]\n",
      "\n",
      "Recall of our model after class balancing with the Downsampling method 0.7466307277628033\n",
      "Precision of our model after class balancing with the Downsampling method 0.47676419965576594\n",
      "F1-score of our model after class balancing with the Downsampling method 0.5819327731092437\n"
     ]
    }
   ],
   "source": [
    "# We will use the method of Downsampling by reducing the number\n",
    "# of objects of the class that occurs most frequently.\n",
    "model_rf_4 = RandomForestClassifier(random_state=12345, n_estimators=38) \n",
    "model_rf_4.fit(features_downsampled, target_downsampled)\n",
    "predicted_valid = model_rf_4.predict(features_valid)\n",
    "# Calculate the main metrics.\n",
    "print('Confusion matrix')\n",
    "print(confusion_matrix(target_valid, predicted_valid))\n",
    "print()\n",
    "print('Recall of our model after class balancing' +\n",
    "      ' with the Downsampling method', \n",
    "      recall_score(target_valid, predicted_valid))\n",
    "print('Precision of our model after class balancing' + \n",
    "      ' with the Downsampling method', \n",
    "      precision_score(target_valid, predicted_valid))\n",
    "print('F1-score of our model after class balancing' +\n",
    "      ' with the Downsampling method', \n",
    "      f1_score(target_valid, predicted_valid))"
   ]
  },
  {
   "cell_type": "markdown",
   "metadata": {},
   "source": [
    "#### Conclusion"
   ]
  },
  {
   "cell_type": "markdown",
   "metadata": {},
   "source": [
    "The values of the F1-score of the random forest model for each method of dealing with imbalances were:\n",
    "* Using class_weight = 'balanced' parameter: F1-score is 0.548\n",
    "* Applying the Upsampling technique: F1-score is 0.613\n",
    "* Applying the Downsampling technique: F1-score is 0.582\n",
    "\n",
    "Balancing the training dataset made it possible to increase the F1-score using the Upsampling imbalance control technique. We managed to achieve an F1-score of at least 0.59."
   ]
  },
  {
   "cell_type": "markdown",
   "metadata": {},
   "source": [
    "### The results of the fight against imbalance"
   ]
  },
  {
   "cell_type": "markdown",
   "metadata": {},
   "source": [
    "The highest value of the F1-score (0.613) was achieved when using the Upsampling technique in a model with a random forest algorithm (number of estimators - 38). Let's test this model on a test sample."
   ]
  },
  {
   "cell_type": "markdown",
   "metadata": {},
   "source": [
    "## Model testing"
   ]
  },
  {
   "cell_type": "code",
   "execution_count": 21,
   "metadata": {},
   "outputs": [
    {
     "name": "stdout",
     "output_type": "stream",
     "text": [
      "Accuracy of our model is 0.8514851485148515\n",
      "Recall of our model is 0.5283018867924528\n",
      "Precision of our model is 0.6735395189003437\n",
      "F1-score of our model is 0.5921450151057401\n",
      "Confusion matrix\n",
      "[[1352   95]\n",
      " [ 175  196]]\n"
     ]
    }
   ],
   "source": [
    "model = RandomForestClassifier(random_state=12345, n_estimators=38) \n",
    "model.fit(features_upsampled, target_upsampled)\n",
    "\n",
    "predicted_test = model.predict(features_test)\n",
    "accuracy_test =  accuracy_score(target_test, predicted_test)\n",
    "print('Accuracy of our model is', accuracy_test)\n",
    "print('Recall of our model is', \n",
    "      recall_score(target_test, predicted_test))\n",
    "print('Precision of our model is', \n",
    "      precision_score(target_test, predicted_test))\n",
    "print('F1-score of our model is', \n",
    "      f1_score(target_test, predicted_test))\n",
    "print('Confusion matrix')\n",
    "print(confusion_matrix(target_test, predicted_test))"
   ]
  },
  {
   "cell_type": "code",
   "execution_count": 22,
   "metadata": {},
   "outputs": [
    {
     "name": "stdout",
     "output_type": "stream",
     "text": [
      "Accuracy of the dummy model is 0.7959295929592959\n",
      "Our model is sane.\n"
     ]
    }
   ],
   "source": [
    "# Let's check our model for sanity.\n",
    "dummy_rf_test = DummyClassifier(strategy=\"constant\", constant=0)\n",
    "dummy_rf_test.fit(features_upsampled, target_upsampled)\n",
    "target_pred_dummy_rf_test = pd.Series(\n",
    "    dummy_rf_test.predict(features_test)\n",
    ")\n",
    "accuracy_test_dummy_rf_test =  accuracy_score(\n",
    "    target_test, target_pred_dummy_rf_test\n",
    ")\n",
    "print('Accuracy of the dummy model is', accuracy_test_dummy_rf_test)\n",
    "if accuracy_test_dummy_rf_test < accuracy_test:\n",
    "    print('Our model is sane.')\n",
    "else:\n",
    "    print('Model is insane. Improvement required.')"
   ]
  },
  {
   "cell_type": "code",
   "execution_count": 23,
   "metadata": {},
   "outputs": [],
   "source": [
    "# Let's take a look at the feature_importances attribute to understand which features\n",
    "# are most related to the target feature and which are least related.\n",
    "# Let's create a function for viewing the importance of features.\n",
    "def importance(model):\n",
    "    importance = model.feature_importances_\n",
    "    colums_features = features.columns \n",
    "    importance = pd.Series(importance, index=colums_features) \n",
    "    importance.sort_values(ascending=False).plot(\n",
    "        kind='bar', \n",
    "        x=importance.index, \n",
    "        y=importance,\n",
    "        title='Feature importances bar chart')"
   ]
  },
  {
   "cell_type": "code",
   "execution_count": 24,
   "metadata": {},
   "outputs": [
    {
     "data": {
      "image/png": "[encoded data removed]",
      "text/plain": [
       "<Figure size 432x288 with 1 Axes>"
      ]
     },
     "metadata": {
      "needs_background": "light"
     },
     "output_type": "display_data"
    }
   ],
   "source": [
    "# Let's check an importance of the features.\n",
    "importance(model)"
   ]
  },
  {
   "cell_type": "markdown",
   "metadata": {},
   "source": [
    "### Conclusion"
   ]
  },
  {
   "cell_type": "markdown",
   "metadata": {},
   "source": [
    "Our random forest model showed a successful result: the required value of the F1-score was reached - 0.592.\n",
    "Our model parameters:\n",
    "1. Algorithm: random forest\n",
    "2. Hyperparameters: random_state=12345, n_estimators=38\n",
    "3. The features and target sets are processed by the OHE technique.\n",
    "4. The imbalance is taken into account using the Upsampling technique\n",
    "  \n",
    "Thanks to the feature_importances attribute, we figured out which features are most closely related to the target feature and which are not.\n",
    "Thus, the feature creditscore is extremely important for the predictions that our model makes. This means that we must monitor the quality of the collected data for this trait.\n",
    "The least important features were hascrcard, geography_Germany, geography_Spain, gender_Male. \n",
    "  \n",
    "Now let's study the AUC-ROC metric"
   ]
  },
  {
   "cell_type": "markdown",
   "metadata": {},
   "source": [
    "## Checking AUC-ROC metric"
   ]
  },
  {
   "cell_type": "code",
   "execution_count": 25,
   "metadata": {},
   "outputs": [
    {
     "data": {
      "image/png": "[encoded data removed]",
      "text/plain": [
       "<Figure size 432x288 with 1 Axes>"
      ]
     },
     "metadata": {
      "needs_background": "light"
     },
     "output_type": "display_data"
    },
    {
     "name": "stdout",
     "output_type": "stream",
     "text": [
      "\n",
      "AUC-ROC is 0.8509882888101976\n"
     ]
    }
   ],
   "source": [
    "# Plot the curve.\n",
    "probabilities_test = model.predict_proba(features_test)\n",
    "probabilities_one_test = probabilities_test[:, 1]\n",
    "\n",
    "fpr, tpr, thresholds = roc_curve(target_test, probabilities_one_test)\n",
    "\n",
    "plt.figure()\n",
    "plt.plot(fpr, tpr)\n",
    "plt.plot([0, 1], [0, 1], linestyle='--')\n",
    "plt.xlim([0.0, 1.0])\n",
    "plt.ylim([0.0, 1.0])\n",
    "plt.xlabel(\"False Positive Rate\")\n",
    "plt.ylabel(\"True Positive Rate\")\n",
    "plt.title('ROC-curve')\n",
    "plt.show()\n",
    "print()\n",
    "auc_roc = roc_auc_score(target_test, probabilities_one_test)\n",
    "print('AUC-ROC is', auc_roc)"
   ]
  },
  {
   "cell_type": "markdown",
   "metadata": {},
   "source": [
    "### Conclusion"
   ]
  },
  {
   "cell_type": "markdown",
   "metadata": {},
   "source": [
    "The AUC-ROC value was 0.851, which is significantly more than 0.5. Recall that the value of the F1-score was 0.592.\n",
    "These values are relatively high, which means that our model is of relatively high quality even at different classification thresholds."
   ]
  },
  {
   "cell_type": "markdown",
   "metadata": {},
   "source": [
    "## General conclusion"
   ]
  },
  {
   "cell_type": "markdown",
   "metadata": {},
   "source": [
    "We have built a model that allows us to determine with a fairly high quality whether a client will leave the bank in the near future or not.\n",
    "We successfully prepared the data, fought the imbalance and provided the necessary values for the main metrics:\n",
    "* F1-score was 0.592\n",
    "* AUC-ROC was 0.851\n",
    "\n",
    "The relatively high values of the main metrics tell us about the rather high quality of our model."
   ]
  }
 ],
 "metadata": {
  "ExecuteTimeLog": [
   {
    "duration": 604,
    "start_time": "2021-10-22T13:28:08.786Z"
   },
   {
    "duration": 37,
    "start_time": "2021-10-22T13:29:13.597Z"
   },
   {
    "duration": 46,
    "start_time": "2021-10-22T13:29:52.284Z"
   },
   {
    "duration": 36,
    "start_time": "2021-10-22T13:31:37.619Z"
   },
   {
    "duration": 31,
    "start_time": "2021-10-22T13:32:08.827Z"
   },
   {
    "duration": 40,
    "start_time": "2021-10-22T13:32:26.602Z"
   },
   {
    "duration": 43,
    "start_time": "2021-10-22T13:33:06.737Z"
   },
   {
    "duration": 48,
    "start_time": "2021-10-22T13:33:25.465Z"
   },
   {
    "duration": 57,
    "start_time": "2021-10-22T13:34:11.168Z"
   },
   {
    "duration": 47,
    "start_time": "2021-10-22T13:34:16.728Z"
   },
   {
    "duration": 47,
    "start_time": "2021-10-22T13:34:34.410Z"
   },
   {
    "duration": 51,
    "start_time": "2021-10-22T13:34:54.960Z"
   },
   {
    "duration": 51,
    "start_time": "2021-10-22T13:35:06.855Z"
   },
   {
    "duration": 47,
    "start_time": "2021-10-22T13:35:19.415Z"
   },
   {
    "duration": 43,
    "start_time": "2021-10-22T13:35:34.126Z"
   },
   {
    "duration": 44,
    "start_time": "2021-10-22T13:35:55.015Z"
   },
   {
    "duration": 45,
    "start_time": "2021-10-22T13:36:01.750Z"
   },
   {
    "duration": 42,
    "start_time": "2021-10-22T13:36:07.134Z"
   },
   {
    "duration": 267,
    "start_time": "2021-10-22T13:36:12.766Z"
   },
   {
    "duration": 43,
    "start_time": "2021-10-22T13:36:16.638Z"
   },
   {
    "duration": 224,
    "start_time": "2021-10-22T13:37:10.333Z"
   },
   {
    "duration": 321,
    "start_time": "2021-10-22T13:37:13.349Z"
   },
   {
    "duration": 43,
    "start_time": "2021-10-22T13:37:51.853Z"
   },
   {
    "duration": 42,
    "start_time": "2021-10-22T13:38:21.788Z"
   },
   {
    "duration": 44,
    "start_time": "2021-10-22T13:39:02.140Z"
   },
   {
    "duration": 42,
    "start_time": "2021-10-22T13:39:14.395Z"
   },
   {
    "duration": 45,
    "start_time": "2021-10-22T13:39:23.667Z"
   },
   {
    "duration": 42,
    "start_time": "2021-10-22T13:39:34.411Z"
   },
   {
    "duration": 43,
    "start_time": "2021-10-22T13:39:44.931Z"
   },
   {
    "duration": 43,
    "start_time": "2021-10-22T13:39:50.651Z"
   },
   {
    "duration": 53,
    "start_time": "2021-10-22T13:40:38.659Z"
   },
   {
    "duration": 49,
    "start_time": "2021-10-22T13:40:44.026Z"
   },
   {
    "duration": 53,
    "start_time": "2021-10-22T13:43:42.743Z"
   },
   {
    "duration": 60,
    "start_time": "2021-10-22T13:43:53.119Z"
   },
   {
    "duration": 62,
    "start_time": "2021-10-22T13:43:59.103Z"
   },
   {
    "duration": 66,
    "start_time": "2021-10-22T13:44:08.276Z"
   },
   {
    "duration": 71,
    "start_time": "2021-10-22T13:46:39.981Z"
   },
   {
    "duration": 71,
    "start_time": "2021-10-22T13:49:05.734Z"
   },
   {
    "duration": 77,
    "start_time": "2021-10-22T13:49:11.676Z"
   },
   {
    "duration": 66,
    "start_time": "2021-10-22T13:49:20.642Z"
   },
   {
    "duration": 70,
    "start_time": "2021-10-22T13:49:29.252Z"
   },
   {
    "duration": 705,
    "start_time": "2021-10-22T13:51:28.713Z"
   },
   {
    "duration": 72,
    "start_time": "2021-10-22T14:10:31.270Z"
   },
   {
    "duration": 71,
    "start_time": "2021-10-22T14:10:51.966Z"
   },
   {
    "duration": 287,
    "start_time": "2021-10-22T14:11:12.894Z"
   },
   {
    "duration": 76,
    "start_time": "2021-10-22T14:19:48.909Z"
   },
   {
    "duration": 71,
    "start_time": "2021-10-22T14:20:56.876Z"
   },
   {
    "duration": 500,
    "start_time": "2021-10-22T14:45:26.964Z"
   },
   {
    "duration": 84,
    "start_time": "2021-10-22T14:49:23.449Z"
   },
   {
    "duration": 1750,
    "start_time": "2021-10-25T12:51:44.274Z"
   },
   {
    "duration": 461,
    "start_time": "2021-10-25T13:00:55.122Z"
   },
   {
    "duration": 419,
    "start_time": "2021-10-25T13:01:28.498Z"
   },
   {
    "duration": 369,
    "start_time": "2021-10-25T13:02:08.217Z"
   },
   {
    "duration": 375,
    "start_time": "2021-10-25T13:02:39.289Z"
   },
   {
    "duration": 679,
    "start_time": "2021-10-25T13:04:04.879Z"
   },
   {
    "duration": 53,
    "start_time": "2021-10-25T13:04:48.547Z"
   },
   {
    "duration": 57,
    "start_time": "2021-10-25T13:05:17.074Z"
   },
   {
    "duration": 74,
    "start_time": "2021-10-25T13:05:25.174Z"
   },
   {
    "duration": 76,
    "start_time": "2021-10-25T13:09:41.322Z"
   },
   {
    "duration": 116,
    "start_time": "2021-10-25T13:15:40.896Z"
   },
   {
    "duration": 458,
    "start_time": "2021-10-25T13:29:13.178Z"
   },
   {
    "duration": 486,
    "start_time": "2021-10-25T13:29:29.636Z"
   },
   {
    "duration": 139,
    "start_time": "2021-10-25T13:29:50.948Z"
   },
   {
    "duration": 1160,
    "start_time": "2021-10-26T11:42:48.471Z"
   },
   {
    "duration": 379,
    "start_time": "2021-10-26T11:43:27.631Z"
   },
   {
    "duration": 139,
    "start_time": "2021-10-26T11:43:45.782Z"
   },
   {
    "duration": 31,
    "start_time": "2021-10-26T11:43:49.831Z"
   },
   {
    "duration": 139,
    "start_time": "2021-10-26T11:44:24.614Z"
   },
   {
    "duration": 34,
    "start_time": "2021-10-26T11:45:02.390Z"
   },
   {
    "duration": 33,
    "start_time": "2021-10-26T11:48:31.714Z"
   },
   {
    "duration": 33,
    "start_time": "2021-10-26T11:48:35.994Z"
   },
   {
    "duration": 31,
    "start_time": "2021-10-26T11:49:09.274Z"
   },
   {
    "duration": 417,
    "start_time": "2021-10-26T12:13:26.642Z"
   },
   {
    "duration": 155,
    "start_time": "2021-10-26T12:13:30.331Z"
   },
   {
    "duration": 33,
    "start_time": "2021-10-26T12:13:34.057Z"
   },
   {
    "duration": 36,
    "start_time": "2021-10-26T12:21:34.386Z"
   },
   {
    "duration": 35,
    "start_time": "2021-10-26T12:21:42.562Z"
   },
   {
    "duration": 140,
    "start_time": "2021-10-26T12:23:47.153Z"
   },
   {
    "duration": 37,
    "start_time": "2021-10-26T12:23:50.920Z"
   },
   {
    "duration": 38,
    "start_time": "2021-10-26T12:24:23.351Z"
   },
   {
    "duration": 171,
    "start_time": "2021-10-26T12:25:01.392Z"
   },
   {
    "duration": 53,
    "start_time": "2021-10-26T12:25:32.886Z"
   },
   {
    "duration": 41,
    "start_time": "2021-10-26T12:26:31.422Z"
   },
   {
    "duration": 38,
    "start_time": "2021-10-26T12:47:33.000Z"
   },
   {
    "duration": 39,
    "start_time": "2021-10-26T12:47:54.340Z"
   },
   {
    "duration": 40,
    "start_time": "2021-10-26T12:48:00.793Z"
   },
   {
    "duration": 282,
    "start_time": "2021-10-26T12:52:05.045Z"
   },
   {
    "duration": 137,
    "start_time": "2021-10-26T12:52:12.126Z"
   },
   {
    "duration": 93,
    "start_time": "2021-10-26T12:52:17.557Z"
   },
   {
    "duration": 204,
    "start_time": "2021-10-26T12:52:39.141Z"
   },
   {
    "duration": 101,
    "start_time": "2021-10-26T12:53:42.452Z"
   },
   {
    "duration": 217,
    "start_time": "2021-10-26T12:54:10.027Z"
   },
   {
    "duration": 51,
    "start_time": "2021-10-26T12:54:58.698Z"
   },
   {
    "duration": 153,
    "start_time": "2021-10-26T12:55:06.492Z"
   },
   {
    "duration": 175,
    "start_time": "2021-10-26T12:55:40.370Z"
   },
   {
    "duration": 73,
    "start_time": "2021-10-26T13:10:41.075Z"
   },
   {
    "duration": 113,
    "start_time": "2021-10-26T13:11:24.736Z"
   },
   {
    "duration": 161,
    "start_time": "2021-10-26T13:12:56.184Z"
   },
   {
    "duration": 67,
    "start_time": "2021-10-26T13:13:19.783Z"
   },
   {
    "duration": 91,
    "start_time": "2021-10-26T13:13:49.160Z"
   },
   {
    "duration": 300,
    "start_time": "2021-10-26T13:15:14.446Z"
   },
   {
    "duration": 299,
    "start_time": "2021-10-26T13:15:34.550Z"
   },
   {
    "duration": 147,
    "start_time": "2021-10-26T13:17:02.501Z"
   },
   {
    "duration": 47,
    "start_time": "2021-10-26T13:17:06.500Z"
   },
   {
    "duration": 144,
    "start_time": "2021-10-26T13:23:46.005Z"
   },
   {
    "duration": 490,
    "start_time": "2021-10-26T13:24:43.877Z"
   },
   {
    "duration": 385,
    "start_time": "2021-10-26T13:24:50.805Z"
   },
   {
    "duration": 328,
    "start_time": "2021-10-26T13:24:55.093Z"
   },
   {
    "duration": 290,
    "start_time": "2021-10-26T13:25:15.045Z"
   },
   {
    "duration": 85,
    "start_time": "2021-10-26T13:26:43.163Z"
   },
   {
    "duration": 8,
    "start_time": "2021-10-26T13:28:48.809Z"
   },
   {
    "duration": 126,
    "start_time": "2021-10-26T13:30:15.048Z"
   },
   {
    "duration": 155,
    "start_time": "2021-10-26T13:30:18.191Z"
   },
   {
    "duration": 72,
    "start_time": "2021-10-26T13:30:22.681Z"
   },
   {
    "duration": 9,
    "start_time": "2021-10-26T13:30:24.815Z"
   },
   {
    "duration": 13,
    "start_time": "2021-10-26T13:31:27.054Z"
   },
   {
    "duration": 15,
    "start_time": "2021-10-26T13:32:35.869Z"
   },
   {
    "duration": 460,
    "start_time": "2021-10-26T13:32:48.541Z"
   },
   {
    "duration": 14,
    "start_time": "2021-10-26T13:32:57.165Z"
   },
   {
    "duration": 17,
    "start_time": "2021-10-26T13:33:00.485Z"
   },
   {
    "duration": 15,
    "start_time": "2021-10-26T13:33:03.796Z"
   },
   {
    "duration": 16,
    "start_time": "2021-10-26T13:33:08.261Z"
   },
   {
    "duration": 14,
    "start_time": "2021-10-26T13:33:11.829Z"
   },
   {
    "duration": 192,
    "start_time": "2021-10-26T13:36:00.953Z"
   },
   {
    "duration": 190,
    "start_time": "2021-10-26T13:36:07.754Z"
   },
   {
    "duration": 76,
    "start_time": "2021-10-26T13:40:15.878Z"
   },
   {
    "duration": 125,
    "start_time": "2021-10-26T13:42:42.838Z"
   },
   {
    "duration": 149,
    "start_time": "2021-10-26T13:42:46.996Z"
   },
   {
    "duration": 43,
    "start_time": "2021-10-26T13:42:50.707Z"
   },
   {
    "duration": 172,
    "start_time": "2021-10-26T13:42:53.172Z"
   },
   {
    "duration": 198,
    "start_time": "2021-10-26T13:42:56.148Z"
   },
   {
    "duration": 130,
    "start_time": "2021-10-26T13:45:06.066Z"
   },
   {
    "duration": 170,
    "start_time": "2021-10-26T13:45:10.074Z"
   },
   {
    "duration": 65,
    "start_time": "2021-10-26T13:45:11.993Z"
   },
   {
    "duration": 98,
    "start_time": "2021-10-26T13:45:14.353Z"
   },
   {
    "duration": 98,
    "start_time": "2021-10-26T13:45:17.153Z"
   },
   {
    "duration": 210,
    "start_time": "2021-10-26T13:45:26.560Z"
   },
   {
    "duration": 141,
    "start_time": "2021-10-26T13:46:34.305Z"
   },
   {
    "duration": 78,
    "start_time": "2021-10-26T13:46:39.376Z"
   },
   {
    "duration": 104,
    "start_time": "2021-10-26T13:46:41.048Z"
   },
   {
    "duration": 130,
    "start_time": "2021-10-26T13:46:42.720Z"
   },
   {
    "duration": 84,
    "start_time": "2021-10-26T13:46:44.968Z"
   },
   {
    "duration": 255,
    "start_time": "2021-10-26T13:46:48.303Z"
   },
   {
    "duration": 623,
    "start_time": "2021-10-26T13:47:26.711Z"
   },
   {
    "duration": 205,
    "start_time": "2021-10-26T13:48:06.280Z"
   },
   {
    "duration": 160,
    "start_time": "2021-10-26T13:48:06.487Z"
   },
   {
    "duration": 198,
    "start_time": "2021-10-26T13:48:06.649Z"
   },
   {
    "duration": 196,
    "start_time": "2021-10-26T13:48:06.849Z"
   },
   {
    "duration": 201,
    "start_time": "2021-10-26T13:48:07.047Z"
   },
   {
    "duration": 406,
    "start_time": "2021-10-26T13:48:07.250Z"
   },
   {
    "duration": 127,
    "start_time": "2021-10-26T13:50:23.238Z"
   },
   {
    "duration": 82,
    "start_time": "2021-10-26T13:50:23.367Z"
   },
   {
    "duration": 196,
    "start_time": "2021-10-26T13:50:23.452Z"
   },
   {
    "duration": 202,
    "start_time": "2021-10-26T13:50:23.651Z"
   },
   {
    "duration": 200,
    "start_time": "2021-10-26T13:50:23.945Z"
   },
   {
    "duration": 99,
    "start_time": "2021-10-26T13:50:24.147Z"
   },
   {
    "duration": 325,
    "start_time": "2021-10-26T13:51:23.107Z"
   },
   {
    "duration": 127,
    "start_time": "2021-10-26T13:51:49.670Z"
   },
   {
    "duration": 146,
    "start_time": "2021-10-26T13:51:49.799Z"
   },
   {
    "duration": 202,
    "start_time": "2021-10-26T13:51:49.948Z"
   },
   {
    "duration": 195,
    "start_time": "2021-10-26T13:51:50.152Z"
   },
   {
    "duration": 102,
    "start_time": "2021-10-26T13:51:50.349Z"
   },
   {
    "duration": 432,
    "start_time": "2021-10-26T13:51:50.453Z"
   },
   {
    "duration": 341,
    "start_time": "2021-10-26T13:55:03.392Z"
   },
   {
    "duration": 423,
    "start_time": "2021-10-26T13:57:09.190Z"
   },
   {
    "duration": 417,
    "start_time": "2021-10-26T13:57:18.502Z"
   },
   {
    "duration": 436,
    "start_time": "2021-10-26T13:57:24.269Z"
   },
   {
    "duration": 546,
    "start_time": "2021-10-26T13:57:31.637Z"
   },
   {
    "duration": 362,
    "start_time": "2021-10-26T14:00:46.331Z"
   },
   {
    "duration": 510,
    "start_time": "2021-10-26T14:03:53.177Z"
   },
   {
    "duration": 467,
    "start_time": "2021-10-26T14:04:41.630Z"
   },
   {
    "duration": 400,
    "start_time": "2021-10-26T14:05:12.680Z"
   },
   {
    "duration": 382,
    "start_time": "2021-10-26T14:05:36.910Z"
   },
   {
    "duration": 459,
    "start_time": "2021-10-26T14:07:06.836Z"
   },
   {
    "duration": 435,
    "start_time": "2021-10-26T14:07:18.660Z"
   },
   {
    "duration": 516,
    "start_time": "2021-10-26T14:07:54.956Z"
   },
   {
    "duration": 449,
    "start_time": "2021-10-26T14:08:07.515Z"
   },
   {
    "duration": 54,
    "start_time": "2021-10-26T14:52:47.223Z"
   },
   {
    "duration": 129,
    "start_time": "2021-10-26T14:52:53.831Z"
   },
   {
    "duration": 145,
    "start_time": "2021-10-26T14:53:25.838Z"
   },
   {
    "duration": 146,
    "start_time": "2021-10-26T15:01:49.200Z"
   },
   {
    "duration": 122,
    "start_time": "2021-10-26T15:01:55.030Z"
   },
   {
    "duration": 169,
    "start_time": "2021-10-26T15:03:03.966Z"
   },
   {
    "duration": 172,
    "start_time": "2021-10-26T15:03:21.661Z"
   },
   {
    "duration": 168,
    "start_time": "2021-10-26T15:04:09.428Z"
   },
   {
    "duration": 343,
    "start_time": "2021-10-26T15:05:20.122Z"
   },
   {
    "duration": 134,
    "start_time": "2021-10-26T15:06:18.658Z"
   },
   {
    "duration": 162,
    "start_time": "2021-10-26T15:06:18.793Z"
   },
   {
    "duration": 242,
    "start_time": "2021-10-26T15:06:18.957Z"
   },
   {
    "duration": 358,
    "start_time": "2021-10-26T15:06:21.010Z"
   },
   {
    "duration": 948,
    "start_time": "2021-10-26T15:06:58.009Z"
   },
   {
    "duration": 650,
    "start_time": "2021-10-26T15:07:05.201Z"
   },
   {
    "duration": 1458,
    "start_time": "2021-10-26T15:07:09.434Z"
   },
   {
    "duration": 701,
    "start_time": "2021-10-26T15:07:19.321Z"
   },
   {
    "duration": 707,
    "start_time": "2021-10-26T15:08:58.136Z"
   },
   {
    "duration": 457,
    "start_time": "2021-10-26T15:09:17.103Z"
   },
   {
    "duration": 178,
    "start_time": "2021-10-26T15:16:27.552Z"
   },
   {
    "duration": 183,
    "start_time": "2021-10-26T15:19:44.413Z"
   },
   {
    "duration": 175,
    "start_time": "2021-10-26T15:23:18.625Z"
   },
   {
    "duration": 185,
    "start_time": "2021-10-26T15:23:47.073Z"
   },
   {
    "duration": 241,
    "start_time": "2021-10-26T15:24:23.200Z"
   },
   {
    "duration": 240,
    "start_time": "2021-10-26T15:30:37.010Z"
   },
   {
    "duration": 29503,
    "start_time": "2021-10-26T15:31:03.249Z"
   },
   {
    "duration": 431,
    "start_time": "2021-10-26T15:31:42.241Z"
   },
   {
    "duration": 222,
    "start_time": "2021-10-26T15:32:37.328Z"
   },
   {
    "duration": 182,
    "start_time": "2021-10-26T15:33:20.832Z"
   },
   {
    "duration": 246,
    "start_time": "2021-10-26T15:34:11.895Z"
   },
   {
    "duration": 202,
    "start_time": "2021-10-26T15:35:29.910Z"
   },
   {
    "duration": 408,
    "start_time": "2021-10-26T15:38:00.724Z"
   },
   {
    "duration": 528,
    "start_time": "2021-10-26T15:38:20.556Z"
   },
   {
    "duration": 408,
    "start_time": "2021-10-26T15:38:47.181Z"
   },
   {
    "duration": 214,
    "start_time": "2021-10-26T15:39:27.306Z"
   },
   {
    "duration": 127,
    "start_time": "2021-10-26T15:39:30.052Z"
   },
   {
    "duration": 172,
    "start_time": "2021-10-26T15:39:30.181Z"
   },
   {
    "duration": 230,
    "start_time": "2021-10-26T15:39:30.355Z"
   },
   {
    "duration": 446,
    "start_time": "2021-10-26T15:39:30.587Z"
   },
   {
    "duration": 450,
    "start_time": "2021-10-26T15:39:31.035Z"
   },
   {
    "duration": 411,
    "start_time": "2021-10-26T15:39:31.487Z"
   },
   {
    "duration": 482,
    "start_time": "2021-10-26T15:39:31.900Z"
   },
   {
    "duration": 185,
    "start_time": "2021-10-26T15:39:32.384Z"
   },
   {
    "duration": 195,
    "start_time": "2021-10-26T15:39:32.571Z"
   },
   {
    "duration": 182,
    "start_time": "2021-10-26T15:39:32.767Z"
   },
   {
    "duration": 230,
    "start_time": "2021-10-26T15:39:32.950Z"
   },
   {
    "duration": 256,
    "start_time": "2021-10-26T15:39:33.181Z"
   },
   {
    "duration": 275,
    "start_time": "2021-10-26T15:39:33.444Z"
   },
   {
    "duration": 179,
    "start_time": "2021-10-26T15:46:20.460Z"
   },
   {
    "duration": 140,
    "start_time": "2021-10-26T15:50:44.030Z"
   },
   {
    "duration": 174,
    "start_time": "2021-10-26T15:50:44.172Z"
   },
   {
    "duration": 181,
    "start_time": "2021-10-26T15:50:44.349Z"
   },
   {
    "duration": 538,
    "start_time": "2021-10-26T15:50:44.533Z"
   },
   {
    "duration": 410,
    "start_time": "2021-10-26T15:50:45.073Z"
   },
   {
    "duration": 400,
    "start_time": "2021-10-26T15:50:45.485Z"
   },
   {
    "duration": 399,
    "start_time": "2021-10-26T15:50:45.887Z"
   },
   {
    "duration": 188,
    "start_time": "2021-10-26T15:50:46.287Z"
   },
   {
    "duration": 189,
    "start_time": "2021-10-26T15:50:46.477Z"
   },
   {
    "duration": 184,
    "start_time": "2021-10-26T15:50:46.667Z"
   },
   {
    "duration": 232,
    "start_time": "2021-10-26T15:50:46.852Z"
   },
   {
    "duration": 277,
    "start_time": "2021-10-26T15:50:47.086Z"
   },
   {
    "duration": 201,
    "start_time": "2021-10-26T15:50:47.365Z"
   },
   {
    "duration": 266,
    "start_time": "2021-10-26T15:50:47.567Z"
   },
   {
    "duration": 128,
    "start_time": "2021-10-26T15:52:57.671Z"
   },
   {
    "duration": 155,
    "start_time": "2021-10-26T15:52:57.800Z"
   },
   {
    "duration": 250,
    "start_time": "2021-10-26T15:52:57.957Z"
   },
   {
    "duration": 437,
    "start_time": "2021-10-26T15:52:58.210Z"
   },
   {
    "duration": 101,
    "start_time": "2021-10-26T15:52:58.649Z"
   },
   {
    "duration": 129,
    "start_time": "2021-10-26T15:52:58.752Z"
   },
   {
    "duration": 204,
    "start_time": "2021-10-26T15:52:58.945Z"
   },
   {
    "duration": 113,
    "start_time": "2021-10-26T15:52:59.151Z"
   },
   {
    "duration": 30,
    "start_time": "2021-10-26T15:52:59.266Z"
   },
   {
    "duration": 18,
    "start_time": "2021-10-26T15:52:59.298Z"
   },
   {
    "duration": 69,
    "start_time": "2021-10-26T15:52:59.345Z"
   },
   {
    "duration": 112,
    "start_time": "2021-10-26T15:52:59.416Z"
   },
   {
    "duration": 49,
    "start_time": "2021-10-26T15:52:59.530Z"
   },
   {
    "duration": 201,
    "start_time": "2021-10-26T15:52:59.580Z"
   },
   {
    "duration": 101,
    "start_time": "2021-10-26T19:11:00.744Z"
   },
   {
    "duration": 56,
    "start_time": "2021-10-26T19:13:21.590Z"
   },
   {
    "duration": 115,
    "start_time": "2021-10-26T19:15:12.236Z"
   },
   {
    "duration": 1312,
    "start_time": "2021-10-26T19:16:01.678Z"
   },
   {
    "duration": 182,
    "start_time": "2021-10-26T19:16:04.582Z"
   },
   {
    "duration": 191,
    "start_time": "2021-10-26T19:18:35.853Z"
   },
   {
    "duration": 6,
    "start_time": "2021-10-26T19:19:07.459Z"
   },
   {
    "duration": 75,
    "start_time": "2021-10-26T19:19:09.179Z"
   },
   {
    "duration": 163,
    "start_time": "2021-10-26T19:21:44.210Z"
   },
   {
    "duration": 155,
    "start_time": "2021-10-26T19:22:36.825Z"
   },
   {
    "duration": 163,
    "start_time": "2021-10-26T19:23:43.712Z"
   },
   {
    "duration": 432,
    "start_time": "2021-10-26T19:26:10.446Z"
   },
   {
    "duration": 427,
    "start_time": "2021-10-26T19:29:15.898Z"
   },
   {
    "duration": 435,
    "start_time": "2021-10-26T19:29:34.697Z"
   },
   {
    "duration": 432,
    "start_time": "2021-10-26T19:29:55.890Z"
   },
   {
    "duration": 1424,
    "start_time": "2021-10-26T19:30:08.313Z"
   },
   {
    "duration": 4982,
    "start_time": "2021-10-26T19:30:29.425Z"
   },
   {
    "duration": 18827,
    "start_time": "2021-10-26T19:31:00.648Z"
   },
   {
    "duration": 1361,
    "start_time": "2021-10-26T19:31:49.639Z"
   },
   {
    "duration": 1402,
    "start_time": "2021-10-26T19:33:05.446Z"
   },
   {
    "duration": 53,
    "start_time": "2021-10-26T19:34:10.894Z"
   },
   {
    "duration": 120,
    "start_time": "2021-10-26T19:38:04.899Z"
   },
   {
    "duration": 130,
    "start_time": "2021-10-26T19:41:39.918Z"
   },
   {
    "duration": 34,
    "start_time": "2021-10-26T19:44:08.212Z"
   },
   {
    "duration": 9,
    "start_time": "2021-10-26T19:45:21.395Z"
   },
   {
    "duration": 121,
    "start_time": "2021-10-26T19:46:02.130Z"
   },
   {
    "duration": 28,
    "start_time": "2021-10-26T19:46:53.393Z"
   },
   {
    "duration": 30,
    "start_time": "2021-10-26T19:47:44.616Z"
   },
   {
    "duration": 34,
    "start_time": "2021-10-26T19:47:57.904Z"
   },
   {
    "duration": 31,
    "start_time": "2021-10-26T19:48:07.184Z"
   },
   {
    "duration": 20,
    "start_time": "2021-10-26T19:49:13.766Z"
   },
   {
    "duration": 72,
    "start_time": "2021-10-26T19:49:31.270Z"
   },
   {
    "duration": 125,
    "start_time": "2021-10-26T19:50:02.838Z"
   },
   {
    "duration": 178,
    "start_time": "2021-10-26T19:50:32.285Z"
   },
   {
    "duration": 77,
    "start_time": "2021-10-26T19:51:09.892Z"
   },
   {
    "duration": 296,
    "start_time": "2021-10-26T19:51:22.244Z"
   },
   {
    "duration": 76,
    "start_time": "2021-10-26T19:51:29.661Z"
   },
   {
    "duration": 133,
    "start_time": "2021-10-26T19:51:35.636Z"
   },
   {
    "duration": 160,
    "start_time": "2021-10-26T19:51:41.707Z"
   },
   {
    "duration": 152,
    "start_time": "2021-10-26T19:51:48.796Z"
   },
   {
    "duration": 130,
    "start_time": "2021-10-26T19:51:53.492Z"
   },
   {
    "duration": 140,
    "start_time": "2021-10-26T19:52:02.035Z"
   },
   {
    "duration": 129,
    "start_time": "2021-10-26T19:52:05.172Z"
   },
   {
    "duration": 330,
    "start_time": "2021-10-26T19:52:10.595Z"
   },
   {
    "duration": 487,
    "start_time": "2021-10-26T19:52:16.097Z"
   },
   {
    "duration": 646,
    "start_time": "2021-10-26T19:52:20.731Z"
   },
   {
    "duration": 1449,
    "start_time": "2021-10-26T19:52:24.603Z"
   },
   {
    "duration": 2257,
    "start_time": "2021-10-26T19:52:29.435Z"
   },
   {
    "duration": 2969,
    "start_time": "2021-10-26T19:52:41.283Z"
   },
   {
    "duration": 3786,
    "start_time": "2021-10-26T19:52:47.379Z"
   },
   {
    "duration": 4027,
    "start_time": "2021-10-26T19:52:57.203Z"
   },
   {
    "duration": 1468,
    "start_time": "2021-10-26T19:53:12.035Z"
   },
   {
    "duration": 138,
    "start_time": "2021-10-26T19:53:19.426Z"
   },
   {
    "duration": 44,
    "start_time": "2021-10-26T19:53:40.778Z"
   },
   {
    "duration": 34,
    "start_time": "2021-10-26T19:53:46.730Z"
   },
   {
    "duration": 3546,
    "start_time": "2021-10-26T19:54:22.353Z"
   },
   {
    "duration": 5010,
    "start_time": "2021-10-26T19:54:32.793Z"
   },
   {
    "duration": 129,
    "start_time": "2021-10-26T19:54:46.561Z"
   },
   {
    "duration": 1582,
    "start_time": "2021-10-26T19:55:01.617Z"
   },
   {
    "duration": 610,
    "start_time": "2021-10-26T19:55:08.465Z"
   },
   {
    "duration": 946,
    "start_time": "2021-10-26T19:55:13.288Z"
   },
   {
    "duration": 1210,
    "start_time": "2021-10-26T19:55:31.704Z"
   },
   {
    "duration": 1086,
    "start_time": "2021-10-26T19:55:37.480Z"
   },
   {
    "duration": 912,
    "start_time": "2021-10-26T19:55:41.448Z"
   },
   {
    "duration": 1033,
    "start_time": "2021-10-26T19:55:46.352Z"
   },
   {
    "duration": 1117,
    "start_time": "2021-10-26T19:55:50.936Z"
   },
   {
    "duration": 879,
    "start_time": "2021-10-26T19:55:57.815Z"
   },
   {
    "duration": 4161,
    "start_time": "2021-10-26T19:56:56.784Z"
   },
   {
    "duration": 1186,
    "start_time": "2021-10-26T19:57:37.989Z"
   },
   {
    "duration": 8,
    "start_time": "2021-10-26T19:57:39.177Z"
   },
   {
    "duration": 157,
    "start_time": "2021-10-26T19:57:39.187Z"
   },
   {
    "duration": 175,
    "start_time": "2021-10-26T19:57:39.347Z"
   },
   {
    "duration": 1430,
    "start_time": "2021-10-26T19:57:39.524Z"
   },
   {
    "duration": 98,
    "start_time": "2021-10-26T19:57:40.955Z"
   },
   {
    "duration": 104,
    "start_time": "2021-10-26T19:57:41.145Z"
   },
   {
    "duration": 120,
    "start_time": "2021-10-26T19:57:41.251Z"
   },
   {
    "duration": 114,
    "start_time": "2021-10-26T19:57:41.445Z"
   },
   {
    "duration": 29,
    "start_time": "2021-10-26T19:57:41.561Z"
   },
   {
    "duration": 19,
    "start_time": "2021-10-26T19:57:41.591Z"
   },
   {
    "duration": 148,
    "start_time": "2021-10-26T19:57:41.612Z"
   },
   {
    "duration": 4032,
    "start_time": "2021-10-26T19:57:41.762Z"
   },
   {
    "duration": 904,
    "start_time": "2021-10-26T19:57:45.795Z"
   },
   {
    "duration": 4404,
    "start_time": "2021-10-26T19:57:46.700Z"
   },
   {
    "duration": 4099,
    "start_time": "2021-10-26T19:58:15.772Z"
   },
   {
    "duration": 5025,
    "start_time": "2021-10-26T19:58:22.996Z"
   },
   {
    "duration": 6462,
    "start_time": "2021-10-26T19:58:32.660Z"
   },
   {
    "duration": 6701,
    "start_time": "2021-10-26T19:58:50.628Z"
   },
   {
    "duration": 5735,
    "start_time": "2021-10-26T19:59:09.860Z"
   },
   {
    "duration": 4938,
    "start_time": "2021-10-26T19:59:21.268Z"
   },
   {
    "duration": 4096,
    "start_time": "2021-10-26T19:59:40.299Z"
   },
   {
    "duration": 1194,
    "start_time": "2021-10-26T19:59:55.593Z"
   },
   {
    "duration": 10,
    "start_time": "2021-10-26T19:59:56.789Z"
   },
   {
    "duration": 145,
    "start_time": "2021-10-26T19:59:56.802Z"
   },
   {
    "duration": 262,
    "start_time": "2021-10-26T19:59:56.950Z"
   },
   {
    "duration": 1405,
    "start_time": "2021-10-26T19:59:57.213Z"
   },
   {
    "duration": 127,
    "start_time": "2021-10-26T19:59:58.620Z"
   },
   {
    "duration": 202,
    "start_time": "2021-10-26T19:59:58.749Z"
   },
   {
    "duration": 201,
    "start_time": "2021-10-26T19:59:58.953Z"
   },
   {
    "duration": 109,
    "start_time": "2021-10-26T19:59:59.158Z"
   },
   {
    "duration": 29,
    "start_time": "2021-10-26T19:59:59.269Z"
   },
   {
    "duration": 18,
    "start_time": "2021-10-26T19:59:59.300Z"
   },
   {
    "duration": 136,
    "start_time": "2021-10-26T19:59:59.345Z"
   },
   {
    "duration": 6506,
    "start_time": "2021-10-26T19:59:59.483Z"
   },
   {
    "duration": 907,
    "start_time": "2021-10-26T20:00:05.991Z"
   },
   {
    "duration": 4214,
    "start_time": "2021-10-26T20:00:06.899Z"
   },
   {
    "duration": 1245,
    "start_time": "2021-10-26T20:00:38.956Z"
   },
   {
    "duration": 9,
    "start_time": "2021-10-26T20:00:40.203Z"
   },
   {
    "duration": 139,
    "start_time": "2021-10-26T20:00:40.213Z"
   },
   {
    "duration": 257,
    "start_time": "2021-10-26T20:00:40.354Z"
   },
   {
    "duration": 1424,
    "start_time": "2021-10-26T20:00:40.613Z"
   },
   {
    "duration": 106,
    "start_time": "2021-10-26T20:00:42.044Z"
   },
   {
    "duration": 199,
    "start_time": "2021-10-26T20:00:42.152Z"
   },
   {
    "duration": 200,
    "start_time": "2021-10-26T20:00:42.353Z"
   },
   {
    "duration": 29,
    "start_time": "2021-10-26T20:00:42.646Z"
   },
   {
    "duration": 35,
    "start_time": "2021-10-26T20:00:42.677Z"
   },
   {
    "duration": 42,
    "start_time": "2021-10-26T20:00:42.715Z"
   },
   {
    "duration": 140,
    "start_time": "2021-10-26T20:00:42.759Z"
   },
   {
    "duration": 6449,
    "start_time": "2021-10-26T20:00:42.901Z"
   },
   {
    "duration": 902,
    "start_time": "2021-10-26T20:00:49.352Z"
   },
   {
    "duration": 6793,
    "start_time": "2021-10-26T20:00:50.256Z"
   },
   {
    "duration": 1212,
    "start_time": "2021-10-26T20:01:42.867Z"
   },
   {
    "duration": 10,
    "start_time": "2021-10-26T20:01:44.082Z"
   },
   {
    "duration": 150,
    "start_time": "2021-10-26T20:01:44.094Z"
   },
   {
    "duration": 260,
    "start_time": "2021-10-26T20:01:44.247Z"
   },
   {
    "duration": 1476,
    "start_time": "2021-10-26T20:01:44.509Z"
   },
   {
    "duration": 162,
    "start_time": "2021-10-26T20:01:45.987Z"
   },
   {
    "duration": 199,
    "start_time": "2021-10-26T20:01:46.152Z"
   },
   {
    "duration": 195,
    "start_time": "2021-10-26T20:01:46.352Z"
   },
   {
    "duration": 27,
    "start_time": "2021-10-26T20:01:46.549Z"
   },
   {
    "duration": 83,
    "start_time": "2021-10-26T20:01:46.578Z"
   },
   {
    "duration": 18,
    "start_time": "2021-10-26T20:01:46.662Z"
   },
   {
    "duration": 144,
    "start_time": "2021-10-26T20:01:46.682Z"
   },
   {
    "duration": 8024,
    "start_time": "2021-10-26T20:01:46.827Z"
   },
   {
    "duration": 893,
    "start_time": "2021-10-26T20:01:54.853Z"
   },
   {
    "duration": 8314,
    "start_time": "2021-10-26T20:01:55.748Z"
   },
   {
    "duration": 4842,
    "start_time": "2021-10-26T20:02:20.072Z"
   },
   {
    "duration": 4905,
    "start_time": "2021-10-26T20:02:34.642Z"
   },
   {
    "duration": 1239,
    "start_time": "2021-10-26T20:02:57.745Z"
   },
   {
    "duration": 9,
    "start_time": "2021-10-26T20:02:58.985Z"
   },
   {
    "duration": 56,
    "start_time": "2021-10-26T20:02:58.996Z"
   },
   {
    "duration": 293,
    "start_time": "2021-10-26T20:02:59.054Z"
   },
   {
    "duration": 1476,
    "start_time": "2021-10-26T20:02:59.349Z"
   },
   {
    "duration": 121,
    "start_time": "2021-10-26T20:03:00.827Z"
   },
   {
    "duration": 202,
    "start_time": "2021-10-26T20:03:00.951Z"
   },
   {
    "duration": 102,
    "start_time": "2021-10-26T20:03:01.245Z"
   },
   {
    "duration": 120,
    "start_time": "2021-10-26T20:03:01.350Z"
   },
   {
    "duration": 31,
    "start_time": "2021-10-26T20:03:01.472Z"
   },
   {
    "duration": 44,
    "start_time": "2021-10-26T20:03:01.505Z"
   },
   {
    "duration": 138,
    "start_time": "2021-10-26T20:03:01.551Z"
   },
   {
    "duration": 4911,
    "start_time": "2021-10-26T20:03:01.690Z"
   },
   {
    "duration": 899,
    "start_time": "2021-10-26T20:03:06.604Z"
   },
   {
    "duration": 4903,
    "start_time": "2021-10-26T20:03:07.505Z"
   },
   {
    "duration": 1693,
    "start_time": "2021-10-26T20:31:00.975Z"
   },
   {
    "duration": 10,
    "start_time": "2021-10-26T20:31:02.671Z"
   },
   {
    "duration": 166,
    "start_time": "2021-10-26T20:31:02.683Z"
   },
   {
    "duration": 259,
    "start_time": "2021-10-26T20:31:02.853Z"
   },
   {
    "duration": 1465,
    "start_time": "2021-10-26T20:31:03.113Z"
   },
   {
    "duration": 72,
    "start_time": "2021-10-26T20:31:04.580Z"
   },
   {
    "duration": 291,
    "start_time": "2021-10-26T20:31:04.653Z"
   },
   {
    "duration": 199,
    "start_time": "2021-10-26T20:31:04.946Z"
   },
   {
    "duration": 28,
    "start_time": "2021-10-26T20:31:05.148Z"
   },
   {
    "duration": 54,
    "start_time": "2021-10-26T20:31:05.178Z"
   },
   {
    "duration": 25,
    "start_time": "2021-10-26T20:31:05.234Z"
   },
   {
    "duration": 156,
    "start_time": "2021-10-26T20:31:05.261Z"
   },
   {
    "duration": 5079,
    "start_time": "2021-10-26T20:31:05.418Z"
   },
   {
    "duration": 1409,
    "start_time": "2021-10-26T20:31:10.499Z"
   },
   {
    "duration": 3134,
    "start_time": "2021-10-26T20:31:11.910Z"
   },
   {
    "duration": 1224,
    "start_time": "2021-10-26T20:32:58.406Z"
   },
   {
    "duration": 9,
    "start_time": "2021-10-26T20:32:59.645Z"
   },
   {
    "duration": 189,
    "start_time": "2021-10-26T20:32:59.656Z"
   },
   {
    "duration": 174,
    "start_time": "2021-10-26T20:32:59.847Z"
   },
   {
    "duration": 1429,
    "start_time": "2021-10-26T20:33:00.023Z"
   },
   {
    "duration": 191,
    "start_time": "2021-10-26T20:33:01.454Z"
   },
   {
    "duration": 106,
    "start_time": "2021-10-26T20:33:01.648Z"
   },
   {
    "duration": 108,
    "start_time": "2021-10-26T20:33:01.845Z"
   },
   {
    "duration": 27,
    "start_time": "2021-10-26T20:33:02.046Z"
   },
   {
    "duration": 31,
    "start_time": "2021-10-26T20:33:02.074Z"
   },
   {
    "duration": 48,
    "start_time": "2021-10-26T20:33:02.106Z"
   },
   {
    "duration": 135,
    "start_time": "2021-10-26T20:33:02.156Z"
   },
   {
    "duration": 4712,
    "start_time": "2021-10-26T20:33:02.293Z"
   },
   {
    "duration": 940,
    "start_time": "2021-10-26T20:33:07.007Z"
   },
   {
    "duration": 3602,
    "start_time": "2021-10-26T20:33:07.949Z"
   },
   {
    "duration": 1755,
    "start_time": "2021-10-26T20:35:32.239Z"
   },
   {
    "duration": 12,
    "start_time": "2021-10-26T20:35:33.996Z"
   },
   {
    "duration": 235,
    "start_time": "2021-10-26T20:35:34.011Z"
   },
   {
    "duration": 183,
    "start_time": "2021-10-26T20:35:34.248Z"
   },
   {
    "duration": 1556,
    "start_time": "2021-10-26T20:35:34.433Z"
   },
   {
    "duration": 66,
    "start_time": "2021-10-26T20:35:35.991Z"
   },
   {
    "duration": 286,
    "start_time": "2021-10-26T20:35:36.059Z"
   },
   {
    "duration": 207,
    "start_time": "2021-10-26T20:35:36.347Z"
   },
   {
    "duration": 28,
    "start_time": "2021-10-26T20:35:36.556Z"
   },
   {
    "duration": 32,
    "start_time": "2021-10-26T20:35:36.586Z"
   },
   {
    "duration": 42,
    "start_time": "2021-10-26T20:35:36.620Z"
   },
   {
    "duration": 210,
    "start_time": "2021-10-26T20:35:36.664Z"
   },
   {
    "duration": 7303,
    "start_time": "2021-10-26T20:35:36.876Z"
   },
   {
    "duration": 1398,
    "start_time": "2021-10-26T20:35:44.181Z"
   },
   {
    "duration": 7799,
    "start_time": "2021-10-26T20:35:45.582Z"
   },
   {
    "duration": 1268,
    "start_time": "2021-10-26T20:38:43.515Z"
   },
   {
    "duration": 12,
    "start_time": "2021-10-26T20:38:44.785Z"
   },
   {
    "duration": 146,
    "start_time": "2021-10-26T20:38:44.798Z"
   },
   {
    "duration": 247,
    "start_time": "2021-10-26T20:38:44.947Z"
   },
   {
    "duration": 1408,
    "start_time": "2021-10-26T20:38:45.196Z"
   },
   {
    "duration": 42,
    "start_time": "2021-10-26T20:38:46.605Z"
   },
   {
    "duration": 297,
    "start_time": "2021-10-26T20:38:46.649Z"
   },
   {
    "duration": 206,
    "start_time": "2021-10-26T20:38:46.949Z"
   },
   {
    "duration": 28,
    "start_time": "2021-10-26T20:38:47.245Z"
   },
   {
    "duration": 47,
    "start_time": "2021-10-26T20:38:47.274Z"
   },
   {
    "duration": 27,
    "start_time": "2021-10-26T20:38:47.323Z"
   },
   {
    "duration": 142,
    "start_time": "2021-10-26T20:38:47.351Z"
   },
   {
    "duration": 4809,
    "start_time": "2021-10-26T20:38:47.494Z"
   },
   {
    "duration": 1002,
    "start_time": "2021-10-26T20:38:52.305Z"
   },
   {
    "duration": 1082,
    "start_time": "2021-10-26T20:38:53.309Z"
   },
   {
    "duration": 1200,
    "start_time": "2021-10-26T20:39:50.893Z"
   },
   {
    "duration": 14,
    "start_time": "2021-10-26T20:39:52.095Z"
   },
   {
    "duration": 135,
    "start_time": "2021-10-26T20:39:52.111Z"
   },
   {
    "duration": 261,
    "start_time": "2021-10-26T20:39:52.248Z"
   },
   {
    "duration": 1413,
    "start_time": "2021-10-26T20:39:52.511Z"
   },
   {
    "duration": 128,
    "start_time": "2021-10-26T20:39:53.926Z"
   },
   {
    "duration": 102,
    "start_time": "2021-10-26T20:39:54.145Z"
   },
   {
    "duration": 198,
    "start_time": "2021-10-26T20:39:54.249Z"
   },
   {
    "duration": 118,
    "start_time": "2021-10-26T20:39:54.451Z"
   },
   {
    "duration": 31,
    "start_time": "2021-10-26T20:39:54.571Z"
   },
   {
    "duration": 41,
    "start_time": "2021-10-26T20:39:54.603Z"
   },
   {
    "duration": 134,
    "start_time": "2021-10-26T20:39:54.646Z"
   },
   {
    "duration": 4727,
    "start_time": "2021-10-26T20:39:54.782Z"
   },
   {
    "duration": 899,
    "start_time": "2021-10-26T20:39:59.511Z"
   },
   {
    "duration": 1889,
    "start_time": "2021-10-26T20:40:00.411Z"
   },
   {
    "duration": 1268,
    "start_time": "2021-10-26T20:41:07.859Z"
   },
   {
    "duration": 23,
    "start_time": "2021-10-26T20:41:09.129Z"
   },
   {
    "duration": 195,
    "start_time": "2021-10-26T20:41:09.154Z"
   },
   {
    "duration": 210,
    "start_time": "2021-10-26T20:41:09.351Z"
   },
   {
    "duration": 1444,
    "start_time": "2021-10-26T20:41:09.563Z"
   },
   {
    "duration": 48,
    "start_time": "2021-10-26T20:41:11.009Z"
   },
   {
    "duration": 208,
    "start_time": "2021-10-26T20:41:11.145Z"
   },
   {
    "duration": 101,
    "start_time": "2021-10-26T20:41:11.445Z"
   },
   {
    "duration": 115,
    "start_time": "2021-10-26T20:41:11.549Z"
   },
   {
    "duration": 29,
    "start_time": "2021-10-26T20:41:11.666Z"
   },
   {
    "duration": 18,
    "start_time": "2021-10-26T20:41:11.697Z"
   },
   {
    "duration": 153,
    "start_time": "2021-10-26T20:41:11.716Z"
   },
   {
    "duration": 4900,
    "start_time": "2021-10-26T20:41:11.871Z"
   },
   {
    "duration": 958,
    "start_time": "2021-10-26T20:41:16.773Z"
   },
   {
    "duration": 201,
    "start_time": "2021-10-26T20:41:17.733Z"
   },
   {
    "duration": 1234,
    "start_time": "2021-10-26T20:42:59.167Z"
   },
   {
    "duration": 42,
    "start_time": "2021-10-26T20:43:00.403Z"
   },
   {
    "duration": 109,
    "start_time": "2021-10-26T20:43:00.448Z"
   },
   {
    "duration": 176,
    "start_time": "2021-10-26T20:43:00.643Z"
   },
   {
    "duration": 1482,
    "start_time": "2021-10-26T20:43:00.821Z"
   },
   {
    "duration": 41,
    "start_time": "2021-10-26T20:43:02.305Z"
   },
   {
    "duration": 301,
    "start_time": "2021-10-26T20:43:02.348Z"
   },
   {
    "duration": 200,
    "start_time": "2021-10-26T20:43:02.651Z"
   },
   {
    "duration": 117,
    "start_time": "2021-10-26T20:43:02.854Z"
   },
   {
    "duration": 30,
    "start_time": "2021-10-26T20:43:02.973Z"
   },
   {
    "duration": 53,
    "start_time": "2021-10-26T20:43:03.005Z"
   },
   {
    "duration": 135,
    "start_time": "2021-10-26T20:43:03.060Z"
   },
   {
    "duration": 4766,
    "start_time": "2021-10-26T20:43:03.196Z"
   },
   {
    "duration": 900,
    "start_time": "2021-10-26T20:43:07.963Z"
   },
   {
    "duration": 5018,
    "start_time": "2021-10-26T20:43:08.865Z"
   },
   {
    "duration": 1271,
    "start_time": "2021-10-28T09:52:47.375Z"
   },
   {
    "duration": 140,
    "start_time": "2021-10-28T09:52:53.861Z"
   },
   {
    "duration": 14,
    "start_time": "2021-10-28T09:52:57.195Z"
   },
   {
    "duration": 184,
    "start_time": "2021-10-28T09:53:08.180Z"
   },
   {
    "duration": 144,
    "start_time": "2021-10-28T10:42:50.575Z"
   },
   {
    "duration": 285,
    "start_time": "2021-10-28T10:44:56.810Z"
   },
   {
    "duration": 357,
    "start_time": "2021-10-28T10:45:18.945Z"
   },
   {
    "duration": 209,
    "start_time": "2021-10-28T11:22:54.758Z"
   },
   {
    "duration": 213,
    "start_time": "2021-10-28T11:22:54.969Z"
   },
   {
    "duration": 352,
    "start_time": "2021-10-28T11:22:55.184Z"
   },
   {
    "duration": 191,
    "start_time": "2021-10-28T11:22:55.538Z"
   },
   {
    "duration": 1615,
    "start_time": "2021-10-28T11:22:55.731Z"
   },
   {
    "duration": 217,
    "start_time": "2021-10-28T11:22:57.347Z"
   },
   {
    "duration": 203,
    "start_time": "2021-10-28T11:22:57.566Z"
   },
   {
    "duration": 95,
    "start_time": "2021-10-28T11:22:57.770Z"
   },
   {
    "duration": 118,
    "start_time": "2021-10-28T11:22:57.869Z"
   },
   {
    "duration": 33,
    "start_time": "2021-10-28T11:22:57.989Z"
   },
   {
    "duration": 45,
    "start_time": "2021-10-28T11:22:58.024Z"
   },
   {
    "duration": 162,
    "start_time": "2021-10-28T11:22:58.071Z"
   },
   {
    "duration": 5386,
    "start_time": "2021-10-28T11:22:58.235Z"
   },
   {
    "duration": 964,
    "start_time": "2021-10-28T11:23:03.623Z"
   },
   {
    "duration": 5641,
    "start_time": "2021-10-28T11:23:04.588Z"
   },
   {
    "duration": 53,
    "start_time": "2021-10-28T11:24:34.419Z"
   },
   {
    "duration": 185,
    "start_time": "2021-10-28T11:25:10.178Z"
   },
   {
    "duration": 88,
    "start_time": "2021-10-28T11:25:54.777Z"
   },
   {
    "duration": 338,
    "start_time": "2021-10-28T11:29:19.582Z"
   },
   {
    "duration": 260,
    "start_time": "2021-10-28T11:29:27.867Z"
   },
   {
    "duration": 281,
    "start_time": "2021-10-28T11:29:39.013Z"
   },
   {
    "duration": 267,
    "start_time": "2021-10-28T11:30:34.013Z"
   },
   {
    "duration": 317,
    "start_time": "2021-10-28T11:30:48.908Z"
   },
   {
    "duration": 362,
    "start_time": "2021-10-28T11:38:32.741Z"
   },
   {
    "duration": 557,
    "start_time": "2021-10-28T11:42:30.777Z"
   },
   {
    "duration": 141,
    "start_time": "2021-10-28T11:43:32.394Z"
   },
   {
    "duration": 173,
    "start_time": "2021-10-28T11:43:32.537Z"
   },
   {
    "duration": 307,
    "start_time": "2021-10-28T11:43:32.713Z"
   },
   {
    "duration": 198,
    "start_time": "2021-10-28T11:43:33.022Z"
   },
   {
    "duration": 1592,
    "start_time": "2021-10-28T11:43:33.222Z"
   },
   {
    "duration": 146,
    "start_time": "2021-10-28T11:43:34.816Z"
   },
   {
    "duration": 197,
    "start_time": "2021-10-28T11:43:34.966Z"
   },
   {
    "duration": 199,
    "start_time": "2021-10-28T11:43:35.166Z"
   },
   {
    "duration": 346,
    "start_time": "2021-10-28T11:43:35.368Z"
   },
   {
    "duration": 30,
    "start_time": "2021-10-28T11:43:35.716Z"
   },
   {
    "duration": 48,
    "start_time": "2021-10-28T11:43:35.748Z"
   },
   {
    "duration": 22,
    "start_time": "2021-10-28T11:43:35.798Z"
   },
   {
    "duration": 158,
    "start_time": "2021-10-28T11:43:35.821Z"
   },
   {
    "duration": 5029,
    "start_time": "2021-10-28T11:43:35.981Z"
   },
   {
    "duration": 936,
    "start_time": "2021-10-28T11:43:41.013Z"
   },
   {
    "duration": 473,
    "start_time": "2021-10-28T11:43:41.951Z"
   },
   {
    "duration": 176,
    "start_time": "2021-10-28T12:02:35.287Z"
   },
   {
    "duration": 180,
    "start_time": "2021-10-28T12:02:35.466Z"
   },
   {
    "duration": 361,
    "start_time": "2021-10-28T12:02:35.648Z"
   },
   {
    "duration": 211,
    "start_time": "2021-10-28T12:02:36.011Z"
   },
   {
    "duration": 1765,
    "start_time": "2021-10-28T12:02:36.225Z"
   },
   {
    "duration": 175,
    "start_time": "2021-10-28T12:02:37.992Z"
   },
   {
    "duration": 196,
    "start_time": "2021-10-28T12:02:38.170Z"
   },
   {
    "duration": 200,
    "start_time": "2021-10-28T12:02:38.368Z"
   },
   {
    "duration": 36,
    "start_time": "2021-10-28T12:02:38.572Z"
   },
   {
    "duration": 70,
    "start_time": "2021-10-28T12:02:38.610Z"
   },
   {
    "duration": 24,
    "start_time": "2021-10-28T12:02:38.683Z"
   },
   {
    "duration": 182,
    "start_time": "2021-10-28T12:02:38.709Z"
   },
   {
    "duration": 5958,
    "start_time": "2021-10-28T12:02:38.894Z"
   },
   {
    "duration": 1081,
    "start_time": "2021-10-28T12:02:44.854Z"
   },
   {
    "duration": 153,
    "start_time": "2021-10-28T12:08:31.648Z"
   },
   {
    "duration": 164,
    "start_time": "2021-10-28T12:08:31.804Z"
   },
   {
    "duration": 401,
    "start_time": "2021-10-28T12:08:31.970Z"
   },
   {
    "duration": 194,
    "start_time": "2021-10-28T12:08:32.373Z"
   },
   {
    "duration": 1693,
    "start_time": "2021-10-28T12:08:32.570Z"
   },
   {
    "duration": 99,
    "start_time": "2021-10-28T12:08:34.265Z"
   },
   {
    "duration": 205,
    "start_time": "2021-10-28T12:08:34.366Z"
   },
   {
    "duration": 199,
    "start_time": "2021-10-28T12:08:34.573Z"
   },
   {
    "duration": 115,
    "start_time": "2021-10-28T12:08:34.776Z"
   },
   {
    "duration": 34,
    "start_time": "2021-10-28T12:08:34.892Z"
   },
   {
    "duration": 54,
    "start_time": "2021-10-28T12:08:34.928Z"
   },
   {
    "duration": 151,
    "start_time": "2021-10-28T12:08:34.985Z"
   },
   {
    "duration": 5414,
    "start_time": "2021-10-28T12:08:35.138Z"
   },
   {
    "duration": 994,
    "start_time": "2021-10-28T12:08:40.555Z"
   },
   {
    "duration": 305,
    "start_time": "2021-10-28T12:10:13.118Z"
   },
   {
    "duration": 84,
    "start_time": "2021-10-28T12:10:21.742Z"
   },
   {
    "duration": 86,
    "start_time": "2021-10-28T12:12:12.428Z"
   },
   {
    "duration": 34,
    "start_time": "2021-10-28T12:13:04.163Z"
   },
   {
    "duration": 197,
    "start_time": "2021-10-28T12:13:34.620Z"
   },
   {
    "duration": 193,
    "start_time": "2021-10-28T12:13:36.411Z"
   },
   {
    "duration": 197,
    "start_time": "2021-10-28T12:13:37.370Z"
   },
   {
    "duration": 1345,
    "start_time": "2021-10-28T12:13:43.806Z"
   },
   {
    "duration": 180,
    "start_time": "2021-10-28T12:13:45.153Z"
   },
   {
    "duration": 358,
    "start_time": "2021-10-28T12:13:45.335Z"
   },
   {
    "duration": 188,
    "start_time": "2021-10-28T12:13:45.695Z"
   },
   {
    "duration": 1620,
    "start_time": "2021-10-28T12:13:45.885Z"
   },
   {
    "duration": 70,
    "start_time": "2021-10-28T12:13:47.507Z"
   },
   {
    "duration": 199,
    "start_time": "2021-10-28T12:13:47.664Z"
   },
   {
    "duration": 204,
    "start_time": "2021-10-28T12:13:47.866Z"
   },
   {
    "duration": 92,
    "start_time": "2021-10-28T12:13:48.074Z"
   },
   {
    "duration": 34,
    "start_time": "2021-10-28T12:13:48.168Z"
   },
   {
    "duration": 22,
    "start_time": "2021-10-28T12:13:48.204Z"
   },
   {
    "duration": 163,
    "start_time": "2021-10-28T12:13:48.228Z"
   },
   {
    "duration": 204,
    "start_time": "2021-10-28T12:13:48.393Z"
   },
   {
    "duration": 99,
    "start_time": "2021-10-28T12:13:48.599Z"
   },
   {
    "duration": 204,
    "start_time": "2021-10-28T12:13:48.700Z"
   },
   {
    "duration": 1377,
    "start_time": "2021-10-30T19:15:01.618Z"
   },
   {
    "duration": 175,
    "start_time": "2021-10-30T19:15:02.997Z"
   },
   {
    "duration": 305,
    "start_time": "2021-10-30T19:15:03.175Z"
   },
   {
    "duration": 189,
    "start_time": "2021-10-30T19:15:03.482Z"
   },
   {
    "duration": 1624,
    "start_time": "2021-10-30T19:15:03.673Z"
   },
   {
    "duration": 58,
    "start_time": "2021-10-30T19:15:05.299Z"
   },
   {
    "duration": 201,
    "start_time": "2021-10-30T19:15:05.444Z"
   },
   {
    "duration": 102,
    "start_time": "2021-10-30T19:15:05.648Z"
   },
   {
    "duration": 123,
    "start_time": "2021-10-30T19:15:05.753Z"
   },
   {
    "duration": 31,
    "start_time": "2021-10-30T19:15:05.878Z"
   },
   {
    "duration": 45,
    "start_time": "2021-10-30T19:15:05.911Z"
   },
   {
    "duration": 152,
    "start_time": "2021-10-30T19:15:05.958Z"
   },
   {
    "duration": 210,
    "start_time": "2021-10-30T19:15:06.112Z"
   },
   {
    "duration": 97,
    "start_time": "2021-10-30T19:15:06.324Z"
   },
   {
    "duration": 212,
    "start_time": "2021-10-30T19:15:06.423Z"
   },
   {
    "duration": 136,
    "start_time": "2021-10-30T19:15:28.071Z"
   },
   {
    "duration": 133,
    "start_time": "2021-10-30T19:54:45.063Z"
   },
   {
    "duration": 296,
    "start_time": "2021-10-30T19:57:16.062Z"
   },
   {
    "duration": 182,
    "start_time": "2021-10-30T19:58:20.428Z"
   },
   {
    "duration": 1570,
    "start_time": "2021-10-30T19:59:06.075Z"
   },
   {
    "duration": 91,
    "start_time": "2021-10-30T20:02:33.015Z"
   },
   {
    "duration": 53,
    "start_time": "2021-10-30T20:25:00.400Z"
   },
   {
    "duration": 107,
    "start_time": "2021-10-30T20:26:49.846Z"
   },
   {
    "duration": 27,
    "start_time": "2021-10-30T20:30:44.966Z"
   },
   {
    "duration": 26,
    "start_time": "2021-10-30T20:35:27.734Z"
   },
   {
    "duration": 33,
    "start_time": "2021-10-30T20:35:31.112Z"
   },
   {
    "duration": 134,
    "start_time": "2021-10-30T21:29:17.921Z"
   },
   {
    "duration": 193,
    "start_time": "2021-10-30T21:29:36.211Z"
   },
   {
    "duration": 200,
    "start_time": "2021-10-30T21:30:01.723Z"
   },
   {
    "duration": 81,
    "start_time": "2021-10-30T21:30:29.562Z"
   },
   {
    "duration": 1249,
    "start_time": "2021-10-30T21:36:10.366Z"
   },
   {
    "duration": 164,
    "start_time": "2021-10-30T21:36:11.617Z"
   },
   {
    "duration": 272,
    "start_time": "2021-10-30T21:36:11.784Z"
   },
   {
    "duration": 175,
    "start_time": "2021-10-30T21:36:12.059Z"
   },
   {
    "duration": 1612,
    "start_time": "2021-10-30T21:36:12.235Z"
   },
   {
    "duration": 199,
    "start_time": "2021-10-30T21:36:13.850Z"
   },
   {
    "duration": 107,
    "start_time": "2021-10-30T21:36:14.051Z"
   },
   {
    "duration": 193,
    "start_time": "2021-10-30T21:36:14.161Z"
   },
   {
    "duration": 122,
    "start_time": "2021-10-30T21:36:14.357Z"
   },
   {
    "duration": 31,
    "start_time": "2021-10-30T21:36:14.481Z"
   },
   {
    "duration": 46,
    "start_time": "2021-10-30T21:36:14.514Z"
   },
   {
    "duration": 149,
    "start_time": "2021-10-30T21:36:14.563Z"
   },
   {
    "duration": 211,
    "start_time": "2021-10-30T21:36:14.714Z"
   },
   {
    "duration": 91,
    "start_time": "2021-10-30T21:36:14.927Z"
   },
   {
    "duration": 82,
    "start_time": "2021-10-30T21:37:06.236Z"
   },
   {
    "duration": 1302,
    "start_time": "2021-10-31T13:01:14.500Z"
   },
   {
    "duration": 132,
    "start_time": "2021-10-31T13:01:24.887Z"
   },
   {
    "duration": 294,
    "start_time": "2021-10-31T13:01:29.655Z"
   },
   {
    "duration": 174,
    "start_time": "2021-10-31T13:01:49.711Z"
   },
   {
    "duration": 1481,
    "start_time": "2021-10-31T13:01:54.455Z"
   },
   {
    "duration": 78,
    "start_time": "2021-10-31T13:21:41.071Z"
   },
   {
    "duration": 50,
    "start_time": "2021-10-31T13:21:51.404Z"
   },
   {
    "duration": 73,
    "start_time": "2021-10-31T13:21:59.676Z"
   },
   {
    "duration": 28,
    "start_time": "2021-10-31T13:22:04.779Z"
   },
   {
    "duration": 34,
    "start_time": "2021-10-31T13:22:11.371Z"
   },
   {
    "duration": 170,
    "start_time": "2021-10-31T13:22:41.553Z"
   },
   {
    "duration": 1554,
    "start_time": "2021-10-31T13:36:28.093Z"
   },
   {
    "duration": 41,
    "start_time": "2021-10-31T13:37:11.509Z"
   },
   {
    "duration": 70,
    "start_time": "2021-10-31T13:37:15.381Z"
   },
   {
    "duration": 48,
    "start_time": "2021-10-31T13:37:19.701Z"
   },
   {
    "duration": 29,
    "start_time": "2021-10-31T13:38:03.620Z"
   },
   {
    "duration": 31,
    "start_time": "2021-10-31T13:38:07.940Z"
   },
   {
    "duration": 20,
    "start_time": "2021-10-31T13:38:10.372Z"
   },
   {
    "duration": 150,
    "start_time": "2021-10-31T13:39:02.051Z"
   },
   {
    "duration": 186,
    "start_time": "2021-10-31T13:39:07.747Z"
   },
   {
    "duration": 77,
    "start_time": "2021-10-31T13:39:13.403Z"
   },
   {
    "duration": 83,
    "start_time": "2021-10-31T13:39:15.291Z"
   },
   {
    "duration": 78,
    "start_time": "2021-10-31T13:39:23.403Z"
   },
   {
    "duration": 375,
    "start_time": "2021-10-31T13:41:08.865Z"
   },
   {
    "duration": 190,
    "start_time": "2021-10-31T13:41:16.073Z"
   },
   {
    "duration": 283,
    "start_time": "2021-10-31T13:41:20.801Z"
   },
   {
    "duration": 3157,
    "start_time": "2021-10-31T13:41:36.656Z"
   },
   {
    "duration": 5364,
    "start_time": "2021-10-31T13:41:51.584Z"
   },
   {
    "duration": 5209,
    "start_time": "2021-10-31T13:42:13.505Z"
   },
   {
    "duration": 150,
    "start_time": "2021-10-31T13:43:10.176Z"
   },
   {
    "duration": 223,
    "start_time": "2021-10-31T13:43:17.055Z"
   },
   {
    "duration": 88,
    "start_time": "2021-10-31T13:43:22.119Z"
   },
   {
    "duration": 259,
    "start_time": "2021-10-31T13:43:30.550Z"
   },
   {
    "duration": 255,
    "start_time": "2021-10-31T13:43:35.439Z"
   },
   {
    "duration": 285,
    "start_time": "2021-10-31T13:43:39.350Z"
   },
   {
    "duration": 186,
    "start_time": "2021-10-31T13:43:45.110Z"
   },
   {
    "duration": 101,
    "start_time": "2021-10-31T13:43:49.718Z"
   },
   {
    "duration": 5281,
    "start_time": "2021-10-31T13:44:14.254Z"
   },
   {
    "duration": 255,
    "start_time": "2021-10-31T13:45:01.933Z"
   },
   {
    "duration": 373,
    "start_time": "2021-10-31T13:45:06.125Z"
   },
   {
    "duration": 133,
    "start_time": "2021-10-31T13:45:11.981Z"
   },
   {
    "duration": 335,
    "start_time": "2021-10-31T13:47:37.147Z"
   },
   {
    "duration": 142,
    "start_time": "2021-10-31T13:48:45.824Z"
   },
   {
    "duration": 145,
    "start_time": "2021-10-31T13:48:45.968Z"
   },
   {
    "duration": 407,
    "start_time": "2021-10-31T13:48:46.115Z"
   },
   {
    "duration": 183,
    "start_time": "2021-10-31T13:48:46.524Z"
   },
   {
    "duration": 5383,
    "start_time": "2021-10-31T13:48:46.709Z"
   },
   {
    "duration": 152,
    "start_time": "2021-10-31T13:48:52.094Z"
   },
   {
    "duration": 196,
    "start_time": "2021-10-31T13:48:52.248Z"
   },
   {
    "duration": 107,
    "start_time": "2021-10-31T13:48:52.446Z"
   },
   {
    "duration": 112,
    "start_time": "2021-10-31T13:48:52.556Z"
   },
   {
    "duration": 34,
    "start_time": "2021-10-31T13:48:52.670Z"
   },
   {
    "duration": 46,
    "start_time": "2021-10-31T13:48:52.705Z"
   },
   {
    "duration": 244,
    "start_time": "2021-10-31T13:48:52.753Z"
   },
   {
    "duration": 354,
    "start_time": "2021-10-31T13:48:52.998Z"
   },
   {
    "duration": 142,
    "start_time": "2021-10-31T13:48:53.354Z"
   },
   {
    "duration": 347,
    "start_time": "2021-10-31T13:48:53.498Z"
   },
   {
    "duration": 1552,
    "start_time": "2021-10-31T13:49:33.746Z"
   },
   {
    "duration": -1171,
    "start_time": "2021-10-31T13:49:36.471Z"
   },
   {
    "duration": -1172,
    "start_time": "2021-10-31T13:49:36.473Z"
   },
   {
    "duration": -1173,
    "start_time": "2021-10-31T13:49:36.475Z"
   },
   {
    "duration": -1173,
    "start_time": "2021-10-31T13:49:36.476Z"
   },
   {
    "duration": -1174,
    "start_time": "2021-10-31T13:49:36.478Z"
   },
   {
    "duration": -1175,
    "start_time": "2021-10-31T13:49:36.480Z"
   },
   {
    "duration": -1178,
    "start_time": "2021-10-31T13:49:36.485Z"
   },
   {
    "duration": -1180,
    "start_time": "2021-10-31T13:49:36.487Z"
   },
   {
    "duration": -1180,
    "start_time": "2021-10-31T13:49:36.488Z"
   },
   {
    "duration": -1181,
    "start_time": "2021-10-31T13:49:36.490Z"
   },
   {
    "duration": -1182,
    "start_time": "2021-10-31T13:49:36.492Z"
   },
   {
    "duration": -1183,
    "start_time": "2021-10-31T13:49:36.494Z"
   },
   {
    "duration": -1184,
    "start_time": "2021-10-31T13:49:36.496Z"
   },
   {
    "duration": -1186,
    "start_time": "2021-10-31T13:49:36.498Z"
   },
   {
    "duration": 347,
    "start_time": "2021-10-31T13:49:46.345Z"
   },
   {
    "duration": -1148,
    "start_time": "2021-10-31T13:49:47.843Z"
   },
   {
    "duration": -1149,
    "start_time": "2021-10-31T13:49:47.845Z"
   },
   {
    "duration": -1152,
    "start_time": "2021-10-31T13:49:47.848Z"
   },
   {
    "duration": -1155,
    "start_time": "2021-10-31T13:49:47.852Z"
   },
   {
    "duration": -1156,
    "start_time": "2021-10-31T13:49:47.854Z"
   },
   {
    "duration": -1157,
    "start_time": "2021-10-31T13:49:47.856Z"
   },
   {
    "duration": -1161,
    "start_time": "2021-10-31T13:49:47.861Z"
   },
   {
    "duration": -1164,
    "start_time": "2021-10-31T13:49:47.865Z"
   },
   {
    "duration": -1166,
    "start_time": "2021-10-31T13:49:47.868Z"
   },
   {
    "duration": -1168,
    "start_time": "2021-10-31T13:49:47.870Z"
   },
   {
    "duration": -1169,
    "start_time": "2021-10-31T13:49:47.872Z"
   },
   {
    "duration": -1170,
    "start_time": "2021-10-31T13:49:47.874Z"
   },
   {
    "duration": -1172,
    "start_time": "2021-10-31T13:49:47.877Z"
   },
   {
    "duration": -1177,
    "start_time": "2021-10-31T13:49:47.882Z"
   },
   {
    "duration": 260,
    "start_time": "2021-10-31T13:49:59.660Z"
   },
   {
    "duration": 348,
    "start_time": "2021-10-31T13:52:31.923Z"
   },
   {
    "duration": 1300,
    "start_time": "2021-10-31T13:53:31.712Z"
   },
   {
    "duration": 148,
    "start_time": "2021-10-31T13:53:33.014Z"
   },
   {
    "duration": 289,
    "start_time": "2021-10-31T13:53:33.164Z"
   },
   {
    "duration": 174,
    "start_time": "2021-10-31T13:53:33.455Z"
   },
   {
    "duration": 5364,
    "start_time": "2021-10-31T13:53:33.631Z"
   },
   {
    "duration": 149,
    "start_time": "2021-10-31T13:53:38.997Z"
   },
   {
    "duration": 106,
    "start_time": "2021-10-31T13:53:39.148Z"
   },
   {
    "duration": 199,
    "start_time": "2021-10-31T13:53:39.346Z"
   },
   {
    "duration": 27,
    "start_time": "2021-10-31T13:53:39.548Z"
   },
   {
    "duration": 31,
    "start_time": "2021-10-31T13:53:39.576Z"
   },
   {
    "duration": 47,
    "start_time": "2021-10-31T13:53:39.610Z"
   },
   {
    "duration": 244,
    "start_time": "2021-10-31T13:53:39.658Z"
   },
   {
    "duration": 355,
    "start_time": "2021-10-31T13:53:39.904Z"
   },
   {
    "duration": 142,
    "start_time": "2021-10-31T13:53:40.261Z"
   },
   {
    "duration": 340,
    "start_time": "2021-10-31T13:53:40.404Z"
   },
   {
    "duration": 147,
    "start_time": "2021-10-31T13:57:17.875Z"
   },
   {
    "duration": 6,
    "start_time": "2021-10-31T14:01:42.508Z"
   },
   {
    "duration": 6,
    "start_time": "2021-10-31T14:02:19.748Z"
   },
   {
    "duration": 6,
    "start_time": "2021-10-31T14:03:32.667Z"
   },
   {
    "duration": 8,
    "start_time": "2021-10-31T14:04:01.786Z"
   },
   {
    "duration": 163,
    "start_time": "2021-10-31T14:16:22.118Z"
   },
   {
    "duration": 698,
    "start_time": "2021-10-31T14:18:11.212Z"
   },
   {
    "duration": 247,
    "start_time": "2021-10-31T14:18:23.860Z"
   },
   {
    "duration": 167,
    "start_time": "2021-10-31T14:19:01.348Z"
   },
   {
    "duration": 1426,
    "start_time": "2021-10-31T15:07:52.097Z"
   },
   {
    "duration": 197,
    "start_time": "2021-10-31T15:10:09.035Z"
   },
   {
    "duration": 327,
    "start_time": "2021-10-31T15:10:09.561Z"
   },
   {
    "duration": 177,
    "start_time": "2021-10-31T15:10:10.778Z"
   },
   {
    "duration": 5797,
    "start_time": "2021-10-31T15:10:11.510Z"
   },
   {
    "duration": 102,
    "start_time": "2021-10-31T15:10:17.309Z"
   },
   {
    "duration": 201,
    "start_time": "2021-10-31T15:10:17.414Z"
   },
   {
    "duration": 109,
    "start_time": "2021-10-31T15:10:17.707Z"
   },
   {
    "duration": 31,
    "start_time": "2021-10-31T15:10:17.907Z"
   },
   {
    "duration": 34,
    "start_time": "2021-10-31T15:10:17.940Z"
   },
   {
    "duration": 48,
    "start_time": "2021-10-31T15:10:17.976Z"
   },
   {
    "duration": 279,
    "start_time": "2021-10-31T15:10:18.026Z"
   },
   {
    "duration": 383,
    "start_time": "2021-10-31T15:10:18.307Z"
   },
   {
    "duration": 155,
    "start_time": "2021-10-31T15:10:18.693Z"
   },
   {
    "duration": 366,
    "start_time": "2021-10-31T15:10:20.280Z"
   },
   {
    "duration": 7,
    "start_time": "2021-10-31T15:10:20.699Z"
   },
   {
    "duration": 185,
    "start_time": "2021-10-31T15:10:21.662Z"
   },
   {
    "duration": 1680,
    "start_time": "2021-11-01T12:50:35.883Z"
   },
   {
    "duration": 255,
    "start_time": "2021-11-01T12:50:37.566Z"
   },
   {
    "duration": 399,
    "start_time": "2021-11-01T12:50:37.828Z"
   },
   {
    "duration": 299,
    "start_time": "2021-11-01T12:50:38.230Z"
   },
   {
    "duration": 8005,
    "start_time": "2021-11-01T12:50:38.532Z"
   },
   {
    "duration": 95,
    "start_time": "2021-11-01T12:50:46.540Z"
   },
   {
    "duration": 292,
    "start_time": "2021-11-01T12:50:46.638Z"
   },
   {
    "duration": 204,
    "start_time": "2021-11-01T12:50:46.933Z"
   },
   {
    "duration": 115,
    "start_time": "2021-11-01T12:50:47.140Z"
   },
   {
    "duration": 46,
    "start_time": "2021-11-01T12:50:47.257Z"
   },
   {
    "duration": 49,
    "start_time": "2021-11-01T12:50:47.305Z"
   },
   {
    "duration": 5211,
    "start_time": "2021-11-01T12:51:03.847Z"
   },
   {
    "duration": 7879,
    "start_time": "2021-11-01T12:51:22.670Z"
   },
   {
    "duration": 344,
    "start_time": "2021-11-01T12:51:45.932Z"
   },
   {
    "duration": 510,
    "start_time": "2021-11-01T12:51:48.494Z"
   },
   {
    "duration": 221,
    "start_time": "2021-11-01T13:09:37.283Z"
   },
   {
    "duration": 252,
    "start_time": "2021-11-01T13:09:37.507Z"
   },
   {
    "duration": 422,
    "start_time": "2021-11-01T13:09:37.762Z"
   },
   {
    "duration": 279,
    "start_time": "2021-11-01T13:09:38.186Z"
   },
   {
    "duration": 8078,
    "start_time": "2021-11-01T13:09:38.468Z"
   },
   {
    "duration": 185,
    "start_time": "2021-11-01T13:09:46.549Z"
   },
   {
    "duration": 194,
    "start_time": "2021-11-01T13:09:46.736Z"
   },
   {
    "duration": 202,
    "start_time": "2021-11-01T13:09:46.934Z"
   },
   {
    "duration": 41,
    "start_time": "2021-11-01T13:09:47.139Z"
   },
   {
    "duration": 79,
    "start_time": "2021-11-01T13:09:47.182Z"
   },
   {
    "duration": 28,
    "start_time": "2021-11-01T13:09:47.263Z"
   },
   {
    "duration": 377,
    "start_time": "2021-11-01T13:09:47.293Z"
   },
   {
    "duration": 532,
    "start_time": "2021-11-01T13:09:47.672Z"
   },
   {
    "duration": 208,
    "start_time": "2021-11-01T13:09:48.206Z"
   },
   {
    "duration": 443,
    "start_time": "2021-11-01T13:09:53.292Z"
   },
   {
    "duration": 25,
    "start_time": "2021-11-01T13:11:58.963Z"
   },
   {
    "duration": 24,
    "start_time": "2021-11-01T13:12:20.050Z"
   },
   {
    "duration": 17,
    "start_time": "2021-11-01T13:12:42.873Z"
   },
   {
    "duration": 634,
    "start_time": "2021-11-01T13:14:08.377Z"
   },
   {
    "duration": 11,
    "start_time": "2021-11-01T13:15:02.616Z"
   },
   {
    "duration": 281,
    "start_time": "2021-11-01T13:15:12.631Z"
   },
   {
    "duration": 231,
    "start_time": "2021-11-01T13:15:26.106Z"
   },
   {
    "duration": 247,
    "start_time": "2021-11-01T13:15:26.340Z"
   },
   {
    "duration": 428,
    "start_time": "2021-11-01T13:15:26.591Z"
   },
   {
    "duration": 247,
    "start_time": "2021-11-01T13:15:27.022Z"
   },
   {
    "duration": 8063,
    "start_time": "2021-11-01T13:15:27.272Z"
   },
   {
    "duration": 193,
    "start_time": "2021-11-01T13:15:35.337Z"
   },
   {
    "duration": 198,
    "start_time": "2021-11-01T13:15:35.533Z"
   },
   {
    "duration": 198,
    "start_time": "2021-11-01T13:15:35.736Z"
   },
   {
    "duration": 39,
    "start_time": "2021-11-01T13:15:35.937Z"
   },
   {
    "duration": 74,
    "start_time": "2021-11-01T13:15:35.978Z"
   },
   {
    "duration": 28,
    "start_time": "2021-11-01T13:15:36.055Z"
   },
   {
    "duration": 387,
    "start_time": "2021-11-01T13:15:36.085Z"
   },
   {
    "duration": 517,
    "start_time": "2021-11-01T13:15:36.474Z"
   },
   {
    "duration": 205,
    "start_time": "2021-11-01T13:15:36.993Z"
   },
   {
    "duration": 630,
    "start_time": "2021-11-01T13:15:56.311Z"
   },
   {
    "duration": 507,
    "start_time": "2021-11-01T13:19:11.852Z"
   },
   {
    "duration": 9,
    "start_time": "2021-11-01T13:19:41.411Z"
   },
   {
    "duration": 282,
    "start_time": "2021-11-01T13:19:58.850Z"
   },
   {
    "duration": 12,
    "start_time": "2021-11-01T14:01:08.308Z"
   },
   {
    "duration": 14,
    "start_time": "2021-11-01T14:01:53.626Z"
   },
   {
    "duration": 353,
    "start_time": "2021-11-01T14:02:09.538Z"
   },
   {
    "duration": 284,
    "start_time": "2021-11-01T14:02:40.626Z"
   },
   {
    "duration": 272,
    "start_time": "2021-11-01T14:04:17.192Z"
   },
   {
    "duration": 299,
    "start_time": "2021-11-01T14:14:20.350Z"
   },
   {
    "duration": 2474,
    "start_time": "2022-03-23T16:18:53.045Z"
   },
   {
    "duration": 23,
    "start_time": "2022-03-23T16:18:55.523Z"
   },
   {
    "duration": 67,
    "start_time": "2022-03-23T16:18:55.549Z"
   },
   {
    "duration": 78,
    "start_time": "2022-03-23T16:18:55.620Z"
   },
   {
    "duration": 7,
    "start_time": "2022-03-23T16:18:55.700Z"
   },
   {
    "duration": 23,
    "start_time": "2022-03-23T16:18:55.709Z"
   },
   {
    "duration": 75,
    "start_time": "2022-03-23T16:18:55.735Z"
   },
   {
    "duration": 295,
    "start_time": "2022-03-23T16:18:55.813Z"
   },
   {
    "duration": 400,
    "start_time": "2022-03-23T16:18:56.112Z"
   },
   {
    "duration": 314,
    "start_time": "2022-03-23T16:18:56.516Z"
   },
   {
    "duration": 8751,
    "start_time": "2022-03-23T16:18:56.833Z"
   },
   {
    "duration": 198,
    "start_time": "2022-03-23T16:19:05.586Z"
   },
   {
    "duration": 201,
    "start_time": "2022-03-23T16:19:05.787Z"
   },
   {
    "duration": 105,
    "start_time": "2022-03-23T16:19:05.991Z"
   },
   {
    "duration": 47,
    "start_time": "2022-03-23T16:19:06.185Z"
   },
   {
    "duration": 95,
    "start_time": "2022-03-23T16:19:06.235Z"
   },
   {
    "duration": 56,
    "start_time": "2022-03-23T16:19:06.333Z"
   },
   {
    "duration": 400,
    "start_time": "2022-03-23T16:19:06.392Z"
   },
   {
    "duration": 551,
    "start_time": "2022-03-23T16:19:06.796Z"
   },
   {
    "duration": 218,
    "start_time": "2022-03-23T16:19:07.349Z"
   },
   {
    "duration": 548,
    "start_time": "2022-03-23T16:19:07.569Z"
   },
   {
    "duration": 9,
    "start_time": "2022-03-23T16:19:08.120Z"
   },
   {
    "duration": 9,
    "start_time": "2022-03-23T16:19:08.131Z"
   },
   {
    "duration": 291,
    "start_time": "2022-03-23T16:19:08.142Z"
   },
   {
    "duration": 233,
    "start_time": "2022-03-23T16:19:08.435Z"
   },
   {
    "duration": 2120,
    "start_time": "2022-03-23T16:23:09.661Z"
   },
   {
    "duration": 21,
    "start_time": "2022-03-23T16:23:11.785Z"
   },
   {
    "duration": 75,
    "start_time": "2022-03-23T16:23:11.809Z"
   },
   {
    "duration": 42,
    "start_time": "2022-03-23T16:23:11.887Z"
   },
   {
    "duration": 7,
    "start_time": "2022-03-23T16:23:11.931Z"
   },
   {
    "duration": 48,
    "start_time": "2022-03-23T16:23:11.941Z"
   },
   {
    "duration": 99,
    "start_time": "2022-03-23T16:23:11.992Z"
   },
   {
    "duration": 231,
    "start_time": "2022-03-23T16:23:12.094Z"
   },
   {
    "duration": 372,
    "start_time": "2022-03-23T16:23:12.328Z"
   },
   {
    "duration": 294,
    "start_time": "2022-03-23T16:23:12.704Z"
   },
   {
    "duration": 9089,
    "start_time": "2022-03-23T16:23:13.000Z"
   },
   {
    "duration": 199,
    "start_time": "2022-03-23T16:23:22.092Z"
   },
   {
    "duration": 210,
    "start_time": "2022-03-23T16:23:22.294Z"
   },
   {
    "duration": 279,
    "start_time": "2022-03-23T16:23:22.507Z"
   },
   {
    "duration": 45,
    "start_time": "2022-03-23T16:23:22.789Z"
   },
   {
    "duration": 78,
    "start_time": "2022-03-23T16:23:22.836Z"
   },
   {
    "duration": 40,
    "start_time": "2022-03-23T16:23:22.916Z"
   },
   {
    "duration": 524,
    "start_time": "2022-03-23T16:23:22.959Z"
   },
   {
    "duration": 751,
    "start_time": "2022-03-23T16:23:23.486Z"
   },
   {
    "duration": 301,
    "start_time": "2022-03-23T16:23:24.240Z"
   },
   {
    "duration": 746,
    "start_time": "2022-03-23T16:23:24.543Z"
   },
   {
    "duration": 11,
    "start_time": "2022-03-23T16:23:25.291Z"
   },
   {
    "duration": 7,
    "start_time": "2022-03-23T16:23:25.304Z"
   },
   {
    "duration": 326,
    "start_time": "2022-03-23T16:23:25.313Z"
   },
   {
    "duration": 220,
    "start_time": "2022-03-23T16:23:25.642Z"
   }
  ],
  "kernelspec": {
   "display_name": "Python 3 (ipykernel)",
   "language": "python",
   "name": "python3"
  },
  "language_info": {
   "codemirror_mode": {
    "name": "ipython",
    "version": 3
   },
   "file_extension": ".py",
   "mimetype": "text/x-python",
   "name": "python",
   "nbconvert_exporter": "python",
   "pygments_lexer": "ipython3",
   "version": "3.9.7"
  },
  "toc": {
   "base_numbering": 1,
   "nav_menu": {},
   "number_sections": true,
   "sideBar": true,
   "skip_h1_title": true,
   "title_cell": "Содержание",
   "title_sidebar": "Contents",
   "toc_cell": true,
   "toc_position": {
    "height": "calc(100% - 180px)",
    "left": "10px",
    "top": "150px",
    "width": "366.391px"
   },
   "toc_section_display": true,
   "toc_window_display": true
  }
 },
 "nbformat": 4,
 "nbformat_minor": 2
}
