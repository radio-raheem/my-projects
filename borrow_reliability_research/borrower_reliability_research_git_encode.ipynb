{
 "cells": [
  {
   "cell_type": "markdown",
   "metadata": {},
   "source": [
    "# Borrower reliability research\n",
    "\n",
    "Many people take out loans. But how many of them return the money on time?  \n",
    "Can we help the bank determine whether the borrower will repay the money on time, based on data such as the client's marital status and number of children?\n",
    "\n",
    "Let's do some research!\n",
    "\n",
    "Input data from the customer - statistics on the solvency of customers. The results of the study will be taken into account when building a credit scoring model - a special system that assesses the ability of a potential borrower to return a loan to a bank."
   ]
  },
  {
   "cell_type": "markdown",
   "metadata": {},
   "source": [
    "Let's describe the data.\n",
    "\n",
    "* children - number of children in the family \n",
    "* days_employed - total work expirience in days  \n",
    "* dob_years - client's age in years\n",
    "* education - client's education level\n",
    "* education_id - educational level identifier\n",
    "* family_status - marital status\n",
    "* family_status_id - marital status identifier\n",
    "* gender - client gender\n",
    "* income_type - type of employment\n",
    "* debt - whether they were in debt to repay loans or not\n",
    "* total_income - monthly income\n",
    "* purpose - purpose of the loan"
   ]
  },
  {
   "cell_type": "markdown",
   "metadata": {},
   "source": [
    "The main steps of our project will be:\n",
    "* Opening a data file and examining general information\n",
    "* Data preprocessing\n",
    "* Calculations and adding the results necessary for analysis\n",
    "* Data analysis\n",
    "* Hypothesis testing\n",
    "* Formulation of main conclusions\n",
    "\n",
    "The project is made in **Jupyter Notebook**, **Python** 3.7.8.\n",
    "The project uses the **Pandas** library, as well as the **IPython** module and **PyMyStem3** module."
   ]
  },
  {
   "cell_type": "markdown",
   "metadata": {},
   "source": [
    "## Opening a data file and examining general information"
   ]
  },
  {
   "cell_type": "code",
   "execution_count": 1,
   "metadata": {},
   "outputs": [
    {
     "name": "stdout",
     "output_type": "stream",
     "text": [
      "<class 'pandas.core.frame.DataFrame'>\n",
      "RangeIndex: 21525 entries, 0 to 21524\n",
      "Data columns (total 12 columns):\n",
      " #   Column            Non-Null Count  Dtype  \n",
      "---  ------            --------------  -----  \n",
      " 0   children          21525 non-null  int64  \n",
      " 1   days_employed     19351 non-null  float64\n",
      " 2   dob_years         21525 non-null  int64  \n",
      " 3   education         21525 non-null  object \n",
      " 4   education_id      21525 non-null  int64  \n",
      " 5   family_status     21525 non-null  object \n",
      " 6   family_status_id  21525 non-null  int64  \n",
      " 7   gender            21525 non-null  object \n",
      " 8   income_type       21525 non-null  object \n",
      " 9   debt              21525 non-null  int64  \n",
      " 10  total_income      19351 non-null  float64\n",
      " 11  purpose           21525 non-null  object \n",
      "dtypes: float64(2), int64(5), object(5)\n",
      "memory usage: 2.0+ MB\n",
      "\n",
      "\u001b[1mTable 1. The first 10 lines of the original dataset\n"
     ]
    },
    {
     "data": {
      "text/html": [
       "<div>\n",
       "<style scoped>\n",
       "    .dataframe tbody tr th:only-of-type {\n",
       "        vertical-align: middle;\n",
       "    }\n",
       "\n",
       "    .dataframe tbody tr th {\n",
       "        vertical-align: top;\n",
       "    }\n",
       "\n",
       "    .dataframe thead th {\n",
       "        text-align: right;\n",
       "    }\n",
       "</style>\n",
       "<table border=\"1\" class=\"dataframe\">\n",
       "  <thead>\n",
       "    <tr style=\"text-align: right;\">\n",
       "      <th></th>\n",
       "      <th>children</th>\n",
       "      <th>days_employed</th>\n",
       "      <th>dob_years</th>\n",
       "      <th>education</th>\n",
       "      <th>education_id</th>\n",
       "      <th>family_status</th>\n",
       "      <th>family_status_id</th>\n",
       "      <th>gender</th>\n",
       "      <th>income_type</th>\n",
       "      <th>debt</th>\n",
       "      <th>total_income</th>\n",
       "      <th>purpose</th>\n",
       "    </tr>\n",
       "  </thead>\n",
       "  <tbody>\n",
       "    <tr>\n",
       "      <th>0</th>\n",
       "      <td>1</td>\n",
       "      <td>-8437.673028</td>\n",
       "      <td>42</td>\n",
       "      <td>высшее</td>\n",
       "      <td>0</td>\n",
       "      <td>женат / замужем</td>\n",
       "      <td>0</td>\n",
       "      <td>F</td>\n",
       "      <td>сотрудник</td>\n",
       "      <td>0</td>\n",
       "      <td>253875.639453</td>\n",
       "      <td>покупка жилья</td>\n",
       "    </tr>\n",
       "    <tr>\n",
       "      <th>1</th>\n",
       "      <td>1</td>\n",
       "      <td>-4024.803754</td>\n",
       "      <td>36</td>\n",
       "      <td>среднее</td>\n",
       "      <td>1</td>\n",
       "      <td>женат / замужем</td>\n",
       "      <td>0</td>\n",
       "      <td>F</td>\n",
       "      <td>сотрудник</td>\n",
       "      <td>0</td>\n",
       "      <td>112080.014102</td>\n",
       "      <td>приобретение автомобиля</td>\n",
       "    </tr>\n",
       "    <tr>\n",
       "      <th>2</th>\n",
       "      <td>0</td>\n",
       "      <td>-5623.422610</td>\n",
       "      <td>33</td>\n",
       "      <td>Среднее</td>\n",
       "      <td>1</td>\n",
       "      <td>женат / замужем</td>\n",
       "      <td>0</td>\n",
       "      <td>M</td>\n",
       "      <td>сотрудник</td>\n",
       "      <td>0</td>\n",
       "      <td>145885.952297</td>\n",
       "      <td>покупка жилья</td>\n",
       "    </tr>\n",
       "    <tr>\n",
       "      <th>3</th>\n",
       "      <td>3</td>\n",
       "      <td>-4124.747207</td>\n",
       "      <td>32</td>\n",
       "      <td>среднее</td>\n",
       "      <td>1</td>\n",
       "      <td>женат / замужем</td>\n",
       "      <td>0</td>\n",
       "      <td>M</td>\n",
       "      <td>сотрудник</td>\n",
       "      <td>0</td>\n",
       "      <td>267628.550329</td>\n",
       "      <td>дополнительное образование</td>\n",
       "    </tr>\n",
       "    <tr>\n",
       "      <th>4</th>\n",
       "      <td>0</td>\n",
       "      <td>340266.072047</td>\n",
       "      <td>53</td>\n",
       "      <td>среднее</td>\n",
       "      <td>1</td>\n",
       "      <td>гражданский брак</td>\n",
       "      <td>1</td>\n",
       "      <td>F</td>\n",
       "      <td>пенсионер</td>\n",
       "      <td>0</td>\n",
       "      <td>158616.077870</td>\n",
       "      <td>сыграть свадьбу</td>\n",
       "    </tr>\n",
       "    <tr>\n",
       "      <th>5</th>\n",
       "      <td>0</td>\n",
       "      <td>-926.185831</td>\n",
       "      <td>27</td>\n",
       "      <td>высшее</td>\n",
       "      <td>0</td>\n",
       "      <td>гражданский брак</td>\n",
       "      <td>1</td>\n",
       "      <td>M</td>\n",
       "      <td>компаньон</td>\n",
       "      <td>0</td>\n",
       "      <td>255763.565419</td>\n",
       "      <td>покупка жилья</td>\n",
       "    </tr>\n",
       "    <tr>\n",
       "      <th>6</th>\n",
       "      <td>0</td>\n",
       "      <td>-2879.202052</td>\n",
       "      <td>43</td>\n",
       "      <td>высшее</td>\n",
       "      <td>0</td>\n",
       "      <td>женат / замужем</td>\n",
       "      <td>0</td>\n",
       "      <td>F</td>\n",
       "      <td>компаньон</td>\n",
       "      <td>0</td>\n",
       "      <td>240525.971920</td>\n",
       "      <td>операции с жильем</td>\n",
       "    </tr>\n",
       "    <tr>\n",
       "      <th>7</th>\n",
       "      <td>0</td>\n",
       "      <td>-152.779569</td>\n",
       "      <td>50</td>\n",
       "      <td>СРЕДНЕЕ</td>\n",
       "      <td>1</td>\n",
       "      <td>женат / замужем</td>\n",
       "      <td>0</td>\n",
       "      <td>M</td>\n",
       "      <td>сотрудник</td>\n",
       "      <td>0</td>\n",
       "      <td>135823.934197</td>\n",
       "      <td>образование</td>\n",
       "    </tr>\n",
       "    <tr>\n",
       "      <th>8</th>\n",
       "      <td>2</td>\n",
       "      <td>-6929.865299</td>\n",
       "      <td>35</td>\n",
       "      <td>ВЫСШЕЕ</td>\n",
       "      <td>0</td>\n",
       "      <td>гражданский брак</td>\n",
       "      <td>1</td>\n",
       "      <td>F</td>\n",
       "      <td>сотрудник</td>\n",
       "      <td>0</td>\n",
       "      <td>95856.832424</td>\n",
       "      <td>на проведение свадьбы</td>\n",
       "    </tr>\n",
       "    <tr>\n",
       "      <th>9</th>\n",
       "      <td>0</td>\n",
       "      <td>-2188.756445</td>\n",
       "      <td>41</td>\n",
       "      <td>среднее</td>\n",
       "      <td>1</td>\n",
       "      <td>женат / замужем</td>\n",
       "      <td>0</td>\n",
       "      <td>M</td>\n",
       "      <td>сотрудник</td>\n",
       "      <td>0</td>\n",
       "      <td>144425.938277</td>\n",
       "      <td>покупка жилья для семьи</td>\n",
       "    </tr>\n",
       "  </tbody>\n",
       "</table>\n",
       "</div>"
      ],
      "text/plain": [
       "   children  days_employed  dob_years education  education_id  \\\n",
       "0         1   -8437.673028         42    высшее             0   \n",
       "1         1   -4024.803754         36   среднее             1   \n",
       "2         0   -5623.422610         33   Среднее             1   \n",
       "3         3   -4124.747207         32   среднее             1   \n",
       "4         0  340266.072047         53   среднее             1   \n",
       "5         0    -926.185831         27    высшее             0   \n",
       "6         0   -2879.202052         43    высшее             0   \n",
       "7         0    -152.779569         50   СРЕДНЕЕ             1   \n",
       "8         2   -6929.865299         35    ВЫСШЕЕ             0   \n",
       "9         0   -2188.756445         41   среднее             1   \n",
       "\n",
       "      family_status  family_status_id gender income_type  debt   total_income  \\\n",
       "0   женат / замужем                 0      F   сотрудник     0  253875.639453   \n",
       "1   женат / замужем                 0      F   сотрудник     0  112080.014102   \n",
       "2   женат / замужем                 0      M   сотрудник     0  145885.952297   \n",
       "3   женат / замужем                 0      M   сотрудник     0  267628.550329   \n",
       "4  гражданский брак                 1      F   пенсионер     0  158616.077870   \n",
       "5  гражданский брак                 1      M   компаньон     0  255763.565419   \n",
       "6   женат / замужем                 0      F   компаньон     0  240525.971920   \n",
       "7   женат / замужем                 0      M   сотрудник     0  135823.934197   \n",
       "8  гражданский брак                 1      F   сотрудник     0   95856.832424   \n",
       "9   женат / замужем                 0      M   сотрудник     0  144425.938277   \n",
       "\n",
       "                      purpose  \n",
       "0               покупка жилья  \n",
       "1     приобретение автомобиля  \n",
       "2               покупка жилья  \n",
       "3  дополнительное образование  \n",
       "4             сыграть свадьбу  \n",
       "5               покупка жилья  \n",
       "6           операции с жильем  \n",
       "7                 образование  \n",
       "8       на проведение свадьбы  \n",
       "9     покупка жилья для семьи  "
      ]
     },
     "metadata": {},
     "output_type": "display_data"
    }
   ],
   "source": [
    "# Import required libraries and modules.\n",
    "import pandas as pd\n",
    "from IPython.display import display\n",
    "from pymystem3 import Mystem\n",
    "\n",
    "# Read dataset.\n",
    "data = pd.read_csv('data_project1.csv')\n",
    "data.info()\n",
    "print()\n",
    "print('\\033[1m' + 'Table 1. The first 10 lines of the original dataset')\n",
    "display(data.head(10))"
   ]
  },
  {
   "cell_type": "markdown",
   "metadata": {},
   "source": [
    "**Conclusion**"
   ]
  },
  {
   "cell_type": "markdown",
   "metadata": {},
   "source": [
    "The original dataset consists of 21,525 rows and 12 columns. \n",
    "* two columns contain `float64` data \n",
    "* five columns contain `int64` data\n",
    "* five columns contain `object` data\n",
    "\n",
    "We have analyzed the data, now let's define the steps for data preprocessing:\n",
    "1. It became clear that the columns **days_employed** and **total_income** have missing values (2174 each) that need to be processed.\n",
    "2. It is worth noting that the **days_employed** column stores data in the `float64` format. This column, based on its name, stores data on the number of days during which the bank's client was employed at the time this table was created. Obviously, the number of days is a value that should be displayed as integers (`int64` format). There is an assumption that most likely the number of days of employment is calculated by a formula containing a division operator, as a result of which float numbers appear in the column. It is advisable to bring the format of these numbers to the `int64` format.\n",
    "3. There are negative values in the **children** and **days_employed** columns. Such values do not make sense (probably a mistake was made during data collection). They need to be converted to positive values.\n",
    "4. There are abnormal values in the **days_employed** column. So, for example, the number of days of service for the category of clients \"пенсионер\" (\"retired\") exceeds the maximum possible.\n",
    "5. There are zero values in the **dob_years** column. We need to replace them with average values for each customer category (category by **income_type** column).\n",
    "6. The **education** and **family_status** columns should be uniform in letter size.\n",
    "7. In the columns **family_status**, **income_type**, purpose it is necessary to check for duplicates.\n",
    "8. In the **total_income** column, it makes sense to display numbers in the `int64` format."
   ]
  },
  {
   "cell_type": "markdown",
   "metadata": {},
   "source": [
    "## Data preprocessing"
   ]
  },
  {
   "cell_type": "markdown",
   "metadata": {},
   "source": [
    "### Missing values processing"
   ]
  },
  {
   "cell_type": "code",
   "execution_count": 2,
   "metadata": {},
   "outputs": [],
   "source": [
    "# Get rid of negative values.\n",
    "data['days_employed'] = data['days_employed'].abs()\n",
    "data['children'] = data['children'].abs()\n",
    "\n",
    "# It seems the days are expressed in hours.\n",
    "# Let's convert hours to days.\n",
    "def hours_to_days(presumably_hours):\n",
    "    # A person in Russia can work for 22,265 hours or 61 years\n",
    "    # in a lifetime.\n",
    "    if presumably_hours > 22_265:\n",
    "        return presumably_hours / 24\n",
    "    return presumably_hours\n",
    "\n",
    "# Apply the function.\n",
    "data['days_employed'] = data['days_employed'].apply(hours_to_days)\n",
    "\n",
    "# Create a list with client categories.\n",
    "income_types = data.groupby('income_type').sum().index\n",
    "\n",
    "# Replace zero values in the dob_years column with \n",
    "# average values in each client category.\n",
    "for income_type in income_types:\n",
    "    data_dob_mean = data.groupby('income_type')['dob_years'].mean()\n",
    "    data.loc[\n",
    "        data['income_type'] == income_type, 'dob_years'] = data.loc[\n",
    "        data['income_type'] == income_type, 'dob_years'].replace(\n",
    "        0, data_dob_mean[income_type]\n",
    "    )\n",
    "\n",
    "# After replacing the null values in the dob_years column, \n",
    "# the data type has changed.\n",
    "# Return the data type int.\n",
    "data['dob_years'] = data['dob_years'].astype(int)"
   ]
  },
  {
   "cell_type": "code",
   "execution_count": 3,
   "metadata": {},
   "outputs": [
    {
     "name": "stdout",
     "output_type": "stream",
     "text": [
      "\u001b[1mTable 2. Number of missing values in columns\n"
     ]
    },
    {
     "data": {
      "text/plain": [
       "children            0\n",
       "days_employed       0\n",
       "dob_years           0\n",
       "education           0\n",
       "education_id        0\n",
       "family_status       0\n",
       "family_status_id    0\n",
       "gender              0\n",
       "income_type         0\n",
       "debt                0\n",
       "total_income        0\n",
       "purpose             0\n",
       "dtype: int64"
      ]
     },
     "metadata": {},
     "output_type": "display_data"
    }
   ],
   "source": [
    "# There are impossible values for the number of days\n",
    "# of service in the days_employed column.\n",
    "# Let's replace them.\n",
    "def reduction(row):\n",
    "    days_employed = row['days_employed']\n",
    "    dob_years = row['dob_years']\n",
    "    calc_days = (dob_years-14) * 365\n",
    "    if  days_employed > calc_days:\n",
    "        return calc_days\n",
    "    return days_employed\n",
    "\n",
    "# Apply the function.\n",
    "data['days_employed'] = data.apply(reduction, axis=1)\n",
    "\n",
    "# Replace the NaN-values in the income_type and \n",
    "# total_income columns.\n",
    "for income_type in income_types:\n",
    "    data_mean = data.groupby('income_type')['days_employed'].mean()\n",
    "    data_median = data.loc[\n",
    "        data['income_type'] == income_type, 'total_income'].median()\n",
    "    data.loc[\n",
    "        data['income_type'] == income_type, 'days_employed'] = data.loc[\n",
    "        data['income_type'] == income_type, 'days_employed'].fillna(\n",
    "        data_mean[income_type]\n",
    "    )\n",
    "    data.loc[\n",
    "        data['income_type'] == income_type, 'total_income'] = data.loc[\n",
    "        data['income_type'] == income_type, 'total_income'].fillna(\n",
    "        data_median\n",
    "    )\n",
    "print('\\033[1m' + 'Table 2. Number of missing values in columns')    \n",
    "display(data.isna().sum())"
   ]
  },
  {
   "cell_type": "markdown",
   "metadata": {},
   "source": [
    "**Conclusion**"
   ]
  },
  {
   "cell_type": "markdown",
   "metadata": {},
   "source": [
    "The first step was to handle the `NaN`-values in the **days_employed** and **total_income** columns.\n",
    "There are 2174 missing values in each column, or 10% of the total data in those columns.\n",
    "10% is a significant proportion, therefore, in order to maintain the objectivity of the study's conclusions, we decide not to delete this data.\n",
    "`NaN`-values are present in the **days_employed** and **total_income** columns for the same clients. The reason why this data is probably omitted is that the bank does not have work books (in Russia, this is a document that indicates the labor history of a person) or 2-NDFL certificate (In Russia, this is a certificate that reflects taxes on the income of an individual) for customer data.\n",
    "\n",
    "To understand what values you need to replace the missing values in the column with, you need to bring all anomalies into a representative form.\n",
    "1. Using the `abs()` method, negative values were converted to positive values.\n",
    "2. Impossibly large values of days of service were found for some clients. Presumably, the **days_employed** column for this category of clients indicates the number of hours during which they were employed, and not days. In this regard, it was decided to translate the impossibly large values of hours of employment into days. For this, a threshold value of the number of days was chosen, after which the value is assumed to be impossibly large - 22265 days. This value is calculated based on the fact that in Russia a person can start his seniority at 14 years. The maximum age in this table is 75 years. (75-14) * 365 = 22265 days. This is the maximum possible number of days of employment for clients in this dataset. The **hours_to_days** function is used to convert abnormal values from hours to days.\n",
    "3. Reviewing the **dob_years** column revealed that there are null values. With the help of a for loop, zero values are replaced with average values for each category of clients.\n",
    "3. Using the `idxmax()` method, it is found that the **days_employed** column in line 16335 stores the value 18388, 9 days of employment (50.3 years). The age of the client is 61 years. The beginning of the seniority at 11 years is impossible. Created a **reduction** formula that identifies such anomalies and replaces the number of days of employment in the anomalies by the maximum theoretical estimated number (difference of age from the **dob_years** column and 14 years multiplied by 365 days).\n",
    "4. Now that all the anomalies have been corrected, you can start calculating values that you can then fill in the gaps with. It is proposed to calculate the average value of days of service for each category of clients (column **income_type**) and replace gaps in the column **days_employed** with them. After replacing the anomalies, replacing the data in this column with the average of each customer category is appropriate. Further, it is proposed to calculate the median values of the total income for each category of citizens and replace the gaps in the **total_income** column with them. The median value is resistant to outliers possible in this column."
   ]
  },
  {
   "cell_type": "markdown",
   "metadata": {},
   "source": [
    "### Data type change"
   ]
  },
  {
   "cell_type": "code",
   "execution_count": 4,
   "metadata": {},
   "outputs": [
    {
     "name": "stdout",
     "output_type": "stream",
     "text": [
      "\u001b[1mTable 3. The days_employed and total_income columns after data type changing\n"
     ]
    },
    {
     "data": {
      "text/html": [
       "<div>\n",
       "<style scoped>\n",
       "    .dataframe tbody tr th:only-of-type {\n",
       "        vertical-align: middle;\n",
       "    }\n",
       "\n",
       "    .dataframe tbody tr th {\n",
       "        vertical-align: top;\n",
       "    }\n",
       "\n",
       "    .dataframe thead th {\n",
       "        text-align: right;\n",
       "    }\n",
       "</style>\n",
       "<table border=\"1\" class=\"dataframe\">\n",
       "  <thead>\n",
       "    <tr style=\"text-align: right;\">\n",
       "      <th></th>\n",
       "      <th>days_employed</th>\n",
       "      <th>total_income</th>\n",
       "    </tr>\n",
       "  </thead>\n",
       "  <tbody>\n",
       "    <tr>\n",
       "      <th>0</th>\n",
       "      <td>8437</td>\n",
       "      <td>253875</td>\n",
       "    </tr>\n",
       "    <tr>\n",
       "      <th>1</th>\n",
       "      <td>4024</td>\n",
       "      <td>112080</td>\n",
       "    </tr>\n",
       "    <tr>\n",
       "      <th>2</th>\n",
       "      <td>5623</td>\n",
       "      <td>145885</td>\n",
       "    </tr>\n",
       "    <tr>\n",
       "      <th>3</th>\n",
       "      <td>4124</td>\n",
       "      <td>267628</td>\n",
       "    </tr>\n",
       "    <tr>\n",
       "      <th>4</th>\n",
       "      <td>14177</td>\n",
       "      <td>158616</td>\n",
       "    </tr>\n",
       "    <tr>\n",
       "      <th>...</th>\n",
       "      <td>...</td>\n",
       "      <td>...</td>\n",
       "    </tr>\n",
       "    <tr>\n",
       "      <th>21520</th>\n",
       "      <td>4529</td>\n",
       "      <td>224791</td>\n",
       "    </tr>\n",
       "    <tr>\n",
       "      <th>21521</th>\n",
       "      <td>14330</td>\n",
       "      <td>155999</td>\n",
       "    </tr>\n",
       "    <tr>\n",
       "      <th>21522</th>\n",
       "      <td>2113</td>\n",
       "      <td>89672</td>\n",
       "    </tr>\n",
       "    <tr>\n",
       "      <th>21523</th>\n",
       "      <td>3112</td>\n",
       "      <td>244093</td>\n",
       "    </tr>\n",
       "    <tr>\n",
       "      <th>21524</th>\n",
       "      <td>1984</td>\n",
       "      <td>82047</td>\n",
       "    </tr>\n",
       "  </tbody>\n",
       "</table>\n",
       "<p>21525 rows × 2 columns</p>\n",
       "</div>"
      ],
      "text/plain": [
       "       days_employed  total_income\n",
       "0               8437        253875\n",
       "1               4024        112080\n",
       "2               5623        145885\n",
       "3               4124        267628\n",
       "4              14177        158616\n",
       "...              ...           ...\n",
       "21520           4529        224791\n",
       "21521          14330        155999\n",
       "21522           2113         89672\n",
       "21523           3112        244093\n",
       "21524           1984         82047\n",
       "\n",
       "[21525 rows x 2 columns]"
      ]
     },
     "metadata": {},
     "output_type": "display_data"
    }
   ],
   "source": [
    "# Let's change the data type of the days_employed \n",
    "# and total_income columns to int64.\n",
    "data = data.astype({'days_employed': 'int', 'total_income': 'int'})\n",
    "\n",
    "print('\\033[1m' + 'Table 3. The days_employed and total_income columns' +\n",
    "     ' after data type changing') \n",
    "display(data[['days_employed', 'total_income']])"
   ]
  },
  {
   "cell_type": "markdown",
   "metadata": {},
   "source": [
    "**Conclusion**"
   ]
  },
  {
   "cell_type": "markdown",
   "metadata": {},
   "source": [
    "The values in the **days_employed** and **total_income** columns have the `float64` type. It is more expedient to store them in the `int64` type (displaying the number of days and money with 5 decimal places is inappropriate).\n",
    "The best way to convert values to another data type in this case is `astype()`.\n",
    "As a result of applying this method, the values in the above columns are in the `int64` type."
   ]
  },
  {
   "cell_type": "markdown",
   "metadata": {},
   "source": [
    "### Duplicates processing"
   ]
  },
  {
   "cell_type": "code",
   "execution_count": 5,
   "metadata": {
    "scrolled": true
   },
   "outputs": [
    {
     "name": "stdout",
     "output_type": "stream",
     "text": [
      "The number of duplicated rows in the table is 54\n",
      "The number of duplicated rows in the table after removing duplicates: 0\n",
      "\u001b[1mTable 4. Checking column education for duplicates using value_counts()\n"
     ]
    },
    {
     "data": {
      "text/plain": [
       "среднее                13705\n",
       "высшее                  4710\n",
       "СРЕДНЕЕ                  772\n",
       "Среднее                  711\n",
       "неоконченное высшее      668\n",
       "ВЫСШЕЕ                   273\n",
       "Высшее                   268\n",
       "начальное                250\n",
       "Неоконченное высшее       47\n",
       "НЕОКОНЧЕННОЕ ВЫСШЕЕ       29\n",
       "НАЧАЛЬНОЕ                 17\n",
       "Начальное                 15\n",
       "ученая степень             4\n",
       "Ученая степень             1\n",
       "УЧЕНАЯ СТЕПЕНЬ             1\n",
       "Name: education, dtype: int64"
      ]
     },
     "metadata": {},
     "output_type": "display_data"
    },
    {
     "name": "stdout",
     "output_type": "stream",
     "text": [
      "\u001b[1mTable 5. Checking column education_id for duplicates using value_counts()\n"
     ]
    },
    {
     "data": {
      "text/plain": [
       "1    15188\n",
       "0     5251\n",
       "2      744\n",
       "3      282\n",
       "4        6\n",
       "Name: education_id, dtype: int64"
      ]
     },
     "metadata": {},
     "output_type": "display_data"
    },
    {
     "name": "stdout",
     "output_type": "stream",
     "text": [
      "\u001b[1mTable 6. Checking column family_status for duplicates using value_counts()\n"
     ]
    },
    {
     "data": {
      "text/plain": [
       "женат / замужем          12344\n",
       "гражданский брак          4163\n",
       "Не женат / не замужем     2810\n",
       "в разводе                 1195\n",
       "вдовец / вдова             959\n",
       "Name: family_status, dtype: int64"
      ]
     },
     "metadata": {},
     "output_type": "display_data"
    },
    {
     "name": "stdout",
     "output_type": "stream",
     "text": [
      "\u001b[1mTable 7. Checking column family_status_id for duplicates using value_counts()\n"
     ]
    },
    {
     "data": {
      "text/plain": [
       "0    12344\n",
       "1     4163\n",
       "4     2810\n",
       "3     1195\n",
       "2      959\n",
       "Name: family_status_id, dtype: int64"
      ]
     },
     "metadata": {},
     "output_type": "display_data"
    },
    {
     "name": "stdout",
     "output_type": "stream",
     "text": [
      "\u001b[1mTable 8. Checking column gender for duplicates using value_counts()\n"
     ]
    },
    {
     "data": {
      "text/plain": [
       "F      14189\n",
       "M       7281\n",
       "XNA        1\n",
       "Name: gender, dtype: int64"
      ]
     },
     "metadata": {},
     "output_type": "display_data"
    },
    {
     "name": "stdout",
     "output_type": "stream",
     "text": [
      "\u001b[1mTable 9. Checking column income_type for duplicates using value_counts()\n"
     ]
    },
    {
     "data": {
      "text/plain": [
       "сотрудник          11091\n",
       "компаньон           5080\n",
       "пенсионер           3837\n",
       "госслужащий         1457\n",
       "безработный            2\n",
       "предприниматель        2\n",
       "студент                1\n",
       "в декрете              1\n",
       "Name: income_type, dtype: int64"
      ]
     },
     "metadata": {},
     "output_type": "display_data"
    },
    {
     "name": "stdout",
     "output_type": "stream",
     "text": [
      "\u001b[1mTable 10. Checking column debt for duplicates using value_counts()\n"
     ]
    },
    {
     "data": {
      "text/plain": [
       "0    19730\n",
       "1     1741\n",
       "Name: debt, dtype: int64"
      ]
     },
     "metadata": {},
     "output_type": "display_data"
    }
   ],
   "source": [
    "# Check the dataset for duplicated rows.\n",
    "print('The number of duplicated rows in the table is',\n",
    "     data.duplicated().sum())\n",
    "\n",
    "# Drop the duplicates.\n",
    "data = data.drop_duplicates()\n",
    "\n",
    "print('The number of duplicated rows in the table after removing duplicates:',\n",
    "     data.duplicated().sum())\n",
    "\n",
    "# We presume that duplicates can be found in the \n",
    "# education, education_id, family_status,\n",
    "# family_status_id, gender, income_type, debt coulumns. \n",
    "# Let's check it using value_counts() method.\n",
    "\n",
    "columns = ['education','education_id','family_status', \n",
    "           'family_status_id', 'gender', 'income_type', 'debt']\n",
    "\n",
    "for n, column in zip(range(4,11), columns):\n",
    "    print('\\033[1m' + f'Table {n}. Checking column {column}' +\n",
    "         ' for duplicates using value_counts()') \n",
    "    display(data[column].value_counts())\n",
    "    \n",
    "# The analysis showed that there are duplicates \n",
    "# in the education column.\n",
    "# There is also a row in the gender column with the value XNA.\n",
    "# Let's attribute it to the male gender, \n",
    "# as the least represented in the sample.\n",
    "data['gender'] = data['gender'].replace('XNA', 'M')\n",
    "\n",
    "# Convert uppercase letters to lowercase in the education column.\n",
    "data['education'] = data['education'].str.lower()"
   ]
  },
  {
   "cell_type": "markdown",
   "metadata": {},
   "source": [
    "**Conclusion**"
   ]
  },
  {
   "cell_type": "markdown",
   "metadata": {},
   "source": [
    "Проведена обработка дубликатов. Удалены полные дубликаты.  \n",
    "Теоретически появление дубликатов возможно в столбцах:  \n",
    "* education \n",
    "* education_id\n",
    "* family_status\n",
    "* family_status_id\n",
    "* gender\n",
    "* income_type\n",
    "* debt \n",
    "\n",
    "Методом `value_counts()` определен столбец, имеющий дубликаты. Им оказался **education**. В столбце **gender** определено значение `XNA` не имеющее смысла для исследования.  \n",
    "Принято решение отнести его к мужскому полу, как к наименее представленному в выборке (при помощи метода `replace()`).  \n",
    "Вероятной причиной появления дубликтов в столбце **education** является отсутствие в банке правил внесения сотрудниками банка исходной информации о его клиентах или нарушение таковых. В данном столбце строки приведены к нижнему регистру при помощи метода `srt.lower()`. В результате применения метода в столбце **education** дубликатов больше нет.\n",
    "\n",
    "We processed the duplicates. Removed the duplicated rows.\n",
    "Theoretically, the appearance of duplicates is possible in columns:\n",
    "* education\n",
    "* education_id\n",
    "* family_status\n",
    "* family_status_id\n",
    "* gender\n",
    "* income_type\n",
    "* debt\n",
    "\n",
    "The `value_counts()` method defines a column that has duplicates. It turned out to be **education**. The **gender** column has a value of `XNA` that is not meaningful for research.\n",
    "It was decided to attribute it to the male gender, as the least represented in the sample (using the `replace()` method).\n",
    "The probable reason for the appearance of duplicates in the **education** column is the lack of rules in the bank for entering initial information about its clients by bank employees or violation of such rules. Strings in this column are converted to lowercase using the `srt.lower()` method. As a result of applying the method, there are no more duplicates in the **education** column."
   ]
  },
  {
   "cell_type": "markdown",
   "metadata": {},
   "source": [
    "### Lemmatization"
   ]
  },
  {
   "cell_type": "code",
   "execution_count": 6,
   "metadata": {
    "scrolled": true
   },
   "outputs": [
    {
     "data": {
      "text/plain": [
       "[['покупка', ' ', 'жилье', '\\n'],\n",
       " ['приобретение', ' ', 'автомобиль', '\\n'],\n",
       " ['покупка', ' ', 'жилье', '\\n'],\n",
       " ['дополнительный', ' ', 'образование', '\\n'],\n",
       " ['сыграть', ' ', 'свадьба', '\\n'],\n",
       " ['покупка', ' ', 'жилье', '\\n'],\n",
       " ['операция', ' ', 'с', ' ', 'жилье', '\\n'],\n",
       " ['образование', '\\n'],\n",
       " ['на', ' ', 'проведение', ' ', 'свадьба', '\\n'],\n",
       " ['покупка', ' ', 'жилье', ' ', 'для', ' ', 'семья', '\\n'],\n",
       " ['покупка', ' ', 'недвижимость', '\\n'],\n",
       " ['покупка', ' ', 'коммерческий', ' ', 'недвижимость', '\\n'],\n",
       " ['сыграть', ' ', 'свадьба', '\\n'],\n",
       " ['приобретение', ' ', 'автомобиль', '\\n'],\n",
       " ['покупка', ' ', 'жилой', ' ', 'недвижимость', '\\n'],\n",
       " ['строительство', ' ', 'собственный', ' ', 'недвижимость', '\\n'],\n",
       " ['недвижимость', '\\n'],\n",
       " ['строительство', ' ', 'недвижимость', '\\n'],\n",
       " ['на', ' ', 'покупка', ' ', 'подержать', ' ', 'автомобиль', '\\n'],\n",
       " ['на', ' ', 'покупка', ' ', 'свой', ' ', 'автомобиль', '\\n'],\n",
       " ['недвижимость', '\\n'],\n",
       " ['приобретение', ' ', 'автомобиль', '\\n'],\n",
       " ['на', ' ', 'покупка', ' ', 'подержать', ' ', 'автомобиль', '\\n'],\n",
       " ['сыграть', ' ', 'свадьба', '\\n'],\n",
       " ['операция', ' ', 'с', ' ', 'коммерческий', ' ', 'недвижимость', '\\n'],\n",
       " ['покупка', ' ', 'недвижимость', '\\n'],\n",
       " ['образование', '\\n'],\n",
       " ['строительство', ' ', 'собственный', ' ', 'недвижимость', '\\n'],\n",
       " ['строительство', ' ', 'собственный', ' ', 'недвижимость', '\\n'],\n",
       " ['строительство', ' ', 'жилой', ' ', 'недвижимость', '\\n'],\n",
       " ['операция', ' ', 'с', ' ', 'коммерческий', ' ', 'недвижимость', '\\n'],\n",
       " ['жилье', '\\n'],\n",
       " ['на', ' ', 'проведение', ' ', 'свадьба', '\\n'],\n",
       " ['покупка', ' ', 'жилье', '\\n'],\n",
       " ['операция', ' ', 'со', ' ', 'свой', ' ', 'недвижимость', '\\n'],\n",
       " ['на', ' ', 'проведение', ' ', 'свадьба', '\\n'],\n",
       " ['автомобиль', '\\n'],\n",
       " ['приобретение', ' ', 'автомобиль', '\\n'],\n",
       " ['образование', '\\n'],\n",
       " ['заниматься', ' ', 'образование', '\\n'],\n",
       " ['покупка', ' ', 'недвижимость', '\\n'],\n",
       " ['сделка', ' ', 'с', ' ', 'подержанный', ' ', 'автомобиль', '\\n'],\n",
       " ['получение', ' ', 'образование', '\\n'],\n",
       " ['приобретение', ' ', 'автомобиль', '\\n'],\n",
       " ['на', ' ', 'покупка', ' ', 'свой', ' ', 'автомобиль', '\\n'],\n",
       " ['заниматься', ' ', 'образование', '\\n'],\n",
       " ['сделка', ' ', 'с', ' ', 'подержанный', ' ', 'автомобиль', '\\n'],\n",
       " ['на', ' ', 'проведение', ' ', 'свадьба', '\\n'],\n",
       " ['строительство', ' ', 'собственный', ' ', 'недвижимость', '\\n'],\n",
       " ['автомобиль', '\\n'],\n",
       " ['автомобиль', '\\n'],\n",
       " ['свадьба', '\\n'],\n",
       " ['получение', ' ', 'дополнительный', ' ', 'образование', '\\n'],\n",
       " ['покупка', ' ', 'свой', ' ', 'жилье', '\\n'],\n",
       " ['автомобиль', '\\n'],\n",
       " ['сыграть', ' ', 'свадьба', '\\n'],\n",
       " ['образование', '\\n'],\n",
       " ['образование', '\\n'],\n",
       " ['недвижимость', '\\n'],\n",
       " ['операция', ' ', 'с', ' ', 'недвижимость', '\\n'],\n",
       " ['заниматься', ' ', 'образование', '\\n'],\n",
       " ['покупка', ' ', 'недвижимость', '\\n'],\n",
       " ['получение', ' ', 'высокий', ' ', 'образование', '\\n'],\n",
       " ['операция', ' ', 'с', ' ', 'жилье', '\\n'],\n",
       " ['сделка', ' ', 'с', ' ', 'подержанный', ' ', 'автомобиль', '\\n'],\n",
       " ['операция', ' ', 'с', ' ', 'коммерческий', ' ', 'недвижимость', '\\n'],\n",
       " ['заниматься', ' ', 'образование', '\\n'],\n",
       " ['покупка', ' ', 'жилье', ' ', 'для', ' ', 'семья', '\\n'],\n",
       " ['операция', ' ', 'с', ' ', 'коммерческий', ' ', 'недвижимость', '\\n'],\n",
       " ['покупка', ' ', 'свой', ' ', 'жилье', '\\n'],\n",
       " ['покупка', ' ', 'коммерческий', ' ', 'недвижимость', '\\n'],\n",
       " ['автомобиль', '\\n'],\n",
       " ['операция', ' ', 'с', ' ', 'коммерческий', ' ', 'недвижимость', '\\n'],\n",
       " ['заниматься', ' ', 'образование', '\\n'],\n",
       " ['покупка', ' ', 'жилье', ' ', 'для', ' ', 'семья', '\\n'],\n",
       " ['операция', ' ', 'с', ' ', 'недвижимость', '\\n'],\n",
       " ['на', ' ', 'покупка', ' ', 'подержать', ' ', 'автомобиль', '\\n'],\n",
       " ['свой', ' ', 'автомобиль', '\\n'],\n",
       " ['сделка', ' ', 'с', ' ', 'автомобиль', '\\n'],\n",
       " ['автомобиль', '\\n'],\n",
       " ['сделка', ' ', 'с', ' ', 'автомобиль', '\\n'],\n",
       " ['профильный', ' ', 'образование', '\\n'],\n",
       " ['жилье', '\\n'],\n",
       " ['жилье', '\\n'],\n",
       " ['операция', ' ', 'со', ' ', 'свой', ' ', 'недвижимость', '\\n'],\n",
       " ['высокий', ' ', 'образование', '\\n'],\n",
       " ['свадьба', '\\n'],\n",
       " ['покупка', ' ', 'жилье', ' ', 'для', ' ', 'сдача', '\\n'],\n",
       " ['на', ' ', 'проведение', ' ', 'свадьба', '\\n'],\n",
       " ['сделка', ' ', 'с', ' ', 'подержанный', ' ', 'автомобиль', '\\n'],\n",
       " ['операция', ' ', 'с', ' ', 'жилье', '\\n'],\n",
       " ['покупка', ' ', 'недвижимость', '\\n'],\n",
       " ['сыграть', ' ', 'свадьба', '\\n'],\n",
       " ['сделка', ' ', 'с', ' ', 'автомобиль', '\\n'],\n",
       " ['на', ' ', 'проведение', ' ', 'свадьба', '\\n'],\n",
       " ['автомобиль', '\\n'],\n",
       " ['покупка', ' ', 'жилой', ' ', 'недвижимость', '\\n'],\n",
       " ['профильный', ' ', 'образование', '\\n'],\n",
       " ['покупка', ' ', 'жилье', ' ', 'для', ' ', 'сдача', '\\n'],\n",
       " ['автомобиль', '\\n'],\n",
       " ['операция', ' ', 'с', ' ', 'недвижимость', '\\n'],\n",
       " ['на', ' ', 'покупка', ' ', 'свой', ' ', 'автомобиль', '\\n'],\n",
       " ['на', ' ', 'покупка', ' ', 'подержать', ' ', 'автомобиль', '\\n'],\n",
       " ['строительство', ' ', 'недвижимость', '\\n'],\n",
       " ['покупка', ' ', 'жилье', ' ', 'для', ' ', 'сдача', '\\n'],\n",
       " ['строительство', ' ', 'собственный', ' ', 'недвижимость', '\\n'],\n",
       " ['образование', '\\n'],\n",
       " ['строительство', ' ', 'собственный', ' ', 'недвижимость', '\\n'],\n",
       " ['сделка', ' ', 'с', ' ', 'подержанный', ' ', 'автомобиль', '\\n'],\n",
       " ['образование', '\\n'],\n",
       " ['покупка', ' ', 'жилье', '\\n'],\n",
       " ['недвижимость', '\\n'],\n",
       " ['недвижимость', '\\n'],\n",
       " ['образование', '\\n'],\n",
       " ['операция', ' ', 'со', ' ', 'свой', ' ', 'недвижимость', '\\n'],\n",
       " ['операция', ' ', 'с', ' ', 'коммерческий', ' ', 'недвижимость', '\\n'],\n",
       " ['покупка', ' ', 'жилой', ' ', 'недвижимость', '\\n'],\n",
       " ['на', ' ', 'покупка', ' ', 'автомобиль', '\\n'],\n",
       " ['на', ' ', 'проведение', ' ', 'свадьба', '\\n'],\n",
       " ['покупка', ' ', 'коммерческий', ' ', 'недвижимость', '\\n'],\n",
       " ['высокий', ' ', 'образование', '\\n'],\n",
       " ['автомобиль', '\\n'],\n",
       " ['автомобиль', '\\n'],\n",
       " ['покупка', ' ', 'жилье', ' ', 'для', ' ', 'сдача', '\\n'],\n",
       " ['операция', ' ', 'с', ' ', 'коммерческий', ' ', 'недвижимость', '\\n'],\n",
       " ['свадьба', '\\n'],\n",
       " ['строительство', ' ', 'собственный', ' ', 'недвижимость', '\\n'],\n",
       " ['строительство', ' ', 'жилой', ' ', 'недвижимость', '\\n'],\n",
       " ['сделка', ' ', 'с', ' ', 'автомобиль', '\\n'],\n",
       " ['автомобиль', '\\n'],\n",
       " ['операция', ' ', 'со', ' ', 'свой', ' ', 'недвижимость', '\\n'],\n",
       " ['получение', ' ', 'дополнительный', ' ', 'образование', '\\n'],\n",
       " ['автомобиль', '\\n'],\n",
       " ['образование', '\\n'],\n",
       " ['покупка', ' ', 'жилой', ' ', 'недвижимость', '\\n'],\n",
       " ['жилье', '\\n'],\n",
       " ['операция', ' ', 'со', ' ', 'свой', ' ', 'недвижимость', '\\n'],\n",
       " ['сыграть', ' ', 'свадьба', '\\n'],\n",
       " ['покупка', ' ', 'свой', ' ', 'жилье', '\\n'],\n",
       " ['ремонт', ' ', 'жилье', '\\n'],\n",
       " ['покупка', ' ', 'коммерческий', ' ', 'недвижимость', '\\n'],\n",
       " ['свадьба', '\\n'],\n",
       " ['сделка', ' ', 'с', ' ', 'подержанный', ' ', 'автомобиль', '\\n'],\n",
       " ['строительство', ' ', 'собственный', ' ', 'недвижимость', '\\n'],\n",
       " ['свой', ' ', 'автомобиль', '\\n'],\n",
       " ['строительство', ' ', 'недвижимость', '\\n'],\n",
       " ['покупка', ' ', 'жилье', '\\n'],\n",
       " ['операция', ' ', 'с', ' ', 'недвижимость', '\\n'],\n",
       " ['на', ' ', 'покупка', ' ', 'свой', ' ', 'автомобиль', '\\n'],\n",
       " ['операция', ' ', 'с', ' ', 'жилье', '\\n'],\n",
       " ['сыграть', ' ', 'свадьба', '\\n'],\n",
       " ['сыграть', ' ', 'свадьба', '\\n'],\n",
       " ['покупка', ' ', 'свой', ' ', 'жилье', '\\n'],\n",
       " ['жилье', '\\n'],\n",
       " ['операция', ' ', 'с', ' ', 'коммерческий', ' ', 'недвижимость', '\\n'],\n",
       " ['дополнительный', ' ', 'образование', '\\n'],\n",
       " ['получение', ' ', 'дополнительный', ' ', 'образование', '\\n'],\n",
       " ['сделка', ' ', 'с', ' ', 'автомобиль', '\\n'],\n",
       " ['образование', '\\n'],\n",
       " ['на', ' ', 'покупка', ' ', 'свой', ' ', 'автомобиль', '\\n'],\n",
       " ['покупка', ' ', 'жилье', ' ', 'для', ' ', 'сдача', '\\n'],\n",
       " ['приобретение', ' ', 'автомобиль', '\\n'],\n",
       " ['получение', ' ', 'дополнительный', ' ', 'образование', '\\n'],\n",
       " ['ремонт', ' ', 'жилье', '\\n'],\n",
       " ['на', ' ', 'покупка', ' ', 'свой', ' ', 'автомобиль', '\\n'],\n",
       " ['покупка', ' ', 'жилье', '\\n'],\n",
       " ['операция', ' ', 'с', ' ', 'жилье', '\\n'],\n",
       " ['на', ' ', 'проведение', ' ', 'свадьба', '\\n'],\n",
       " ['покупка', ' ', 'свой', ' ', 'жилье', '\\n'],\n",
       " ['приобретение', ' ', 'автомобиль', '\\n'],\n",
       " ['жилье', '\\n'],\n",
       " ['на', ' ', 'проведение', ' ', 'свадьба', '\\n'],\n",
       " ['строительство', ' ', 'недвижимость', '\\n'],\n",
       " ['покупка', ' ', 'коммерческий', ' ', 'недвижимость', '\\n'],\n",
       " ['свой', ' ', 'автомобиль', '\\n'],\n",
       " ['строительство', ' ', 'недвижимость', '\\n'],\n",
       " ['заниматься', ' ', 'высокий', ' ', 'образование', '\\n'],\n",
       " ['сделка', ' ', 'с', ' ', 'подержанный', ' ', 'автомобиль', '\\n'],\n",
       " ['приобретение', ' ', 'автомобиль', '\\n'],\n",
       " ['покупка', ' ', 'свой', ' ', 'жилье', '\\n'],\n",
       " ['сыграть', ' ', 'свадьба', '\\n'],\n",
       " ['покупка', ' ', 'жилье', ' ', 'для', ' ', 'семья', '\\n'],\n",
       " ['свадьба', '\\n'],\n",
       " ['получение', ' ', 'дополнительный', ' ', 'образование', '\\n'],\n",
       " ['покупка', ' ', 'жилье', ' ', 'для', ' ', 'сдача', '\\n'],\n",
       " ['получение', ' ', 'дополнительный', ' ', 'образование', '\\n'],\n",
       " ['операция', ' ', 'с', ' ', 'коммерческий', ' ', 'недвижимость', '\\n'],\n",
       " ['высокий', ' ', 'образование', '\\n'],\n",
       " ['покупка', ' ', 'свой', ' ', 'жилье', '\\n'],\n",
       " ['свой', ' ', 'автомобиль', '\\n'],\n",
       " ['на', ' ', 'проведение', ' ', 'свадьба', '\\n'],\n",
       " ['высокий', ' ', 'образование', '\\n'],\n",
       " ['свой', ' ', 'автомобиль', '\\n'],\n",
       " ['на', ' ', 'покупка', ' ', 'подержать', ' ', 'автомобиль', '\\n'],\n",
       " ['получение', ' ', 'образование', '\\n'],\n",
       " ['дополнительный', ' ', 'образование', '\\n'],\n",
       " ['покупка', ' ', 'свой', ' ', 'жилье', '\\n'],\n",
       " ['покупка', ' ', 'недвижимость', '\\n'],\n",
       " ['на', ' ', 'покупка', ' ', 'свой', ' ', 'автомобиль', '\\n'],\n",
       " ['сделка', ' ', 'с', ' ', 'подержанный', ' ', 'автомобиль', '\\n'],\n",
       " ['строительство', ' ', 'недвижимость', '\\n'],\n",
       " ['покупка', ' ', 'жилой', ' ', 'недвижимость', '\\n'],\n",
       " ['покупка', ' ', 'жилой', ' ', 'недвижимость', '\\n'],\n",
       " ['строительство', ' ', 'собственный', ' ', 'недвижимость', '\\n'],\n",
       " ['строительство', ' ', 'жилой', ' ', 'недвижимость', '\\n'],\n",
       " ['на', ' ', 'покупка', ' ', 'подержать', ' ', 'автомобиль', '\\n'],\n",
       " ['получение', ' ', 'образование', '\\n'],\n",
       " ['покупка', ' ', 'свой', ' ', 'жилье', '\\n'],\n",
       " ['профильный', ' ', 'образование', '\\n'],\n",
       " ['операция', ' ', 'с', ' ', 'коммерческий', ' ', 'недвижимость', '\\n'],\n",
       " ['строительство', ' ', 'жилой', ' ', 'недвижимость', '\\n'],\n",
       " ['сделка', ' ', 'с', ' ', 'подержанный', ' ', 'автомобиль', '\\n'],\n",
       " ['приобретение', ' ', 'автомобиль', '\\n'],\n",
       " ['на', ' ', 'покупка', ' ', 'автомобиль', '\\n'],\n",
       " ['покупка', ' ', 'жилье', ' ', 'для', ' ', 'семья', '\\n'],\n",
       " ['операция', ' ', 'с', ' ', 'недвижимость', '\\n'],\n",
       " ['образование', '\\n'],\n",
       " ['строительство', ' ', 'собственный', ' ', 'недвижимость', '\\n'],\n",
       " ['на', ' ', 'покупка', ' ', 'свой', ' ', 'автомобиль', '\\n'],\n",
       " ['операция', ' ', 'с', ' ', 'коммерческий', ' ', 'недвижимость', '\\n'],\n",
       " ['сыграть', ' ', 'свадьба', '\\n'],\n",
       " ['автомобиль', '\\n'],\n",
       " ['покупка', ' ', 'жилой', ' ', 'недвижимость', '\\n'],\n",
       " ['операция', ' ', 'с', ' ', 'коммерческий', ' ', 'недвижимость', '\\n'],\n",
       " ['покупка', ' ', 'свой', ' ', 'жилье', '\\n'],\n",
       " ['строительство', ' ', 'недвижимость', '\\n'],\n",
       " ['получение', ' ', 'высокий', ' ', 'образование', '\\n'],\n",
       " ['жилье', '\\n'],\n",
       " ['ремонт', ' ', 'жилье', '\\n'],\n",
       " ['сделка', ' ', 'с', ' ', 'подержанный', ' ', 'автомобиль', '\\n'],\n",
       " ['свадьба', '\\n'],\n",
       " ['покупка', ' ', 'жилье', ' ', 'для', ' ', 'семья', '\\n'],\n",
       " ['свадьба', '\\n'],\n",
       " ['на', ' ', 'покупка', ' ', 'автомобиль', '\\n'],\n",
       " ['профильный', ' ', 'образование', '\\n'],\n",
       " ['жилье', '\\n'],\n",
       " ['на', ' ', 'покупка', ' ', 'автомобиль', '\\n'],\n",
       " ['покупка', ' ', 'недвижимость', '\\n'],\n",
       " ['на', ' ', 'проведение', ' ', 'свадьба', '\\n'],\n",
       " ['операция', ' ', 'с', ' ', 'недвижимость', '\\n'],\n",
       " ['покупка', ' ', 'коммерческий', ' ', 'недвижимость', '\\n'],\n",
       " ['строительство', ' ', 'собственный', ' ', 'недвижимость', '\\n'],\n",
       " ['покупка', ' ', 'свой', ' ', 'жилье', '\\n'],\n",
       " ['свадьба', '\\n'],\n",
       " ['высокий', ' ', 'образование', '\\n'],\n",
       " ['покупка', ' ', 'жилой', ' ', 'недвижимость', '\\n'],\n",
       " ['строительство', ' ', 'недвижимость', '\\n'],\n",
       " ['заниматься', ' ', 'высокий', ' ', 'образование', '\\n'],\n",
       " ['покупка', ' ', 'жилой', ' ', 'недвижимость', '\\n'],\n",
       " ['получение', ' ', 'высокий', ' ', 'образование', '\\n'],\n",
       " ['сделка', ' ', 'с', ' ', 'подержанный', ' ', 'автомобиль', '\\n'],\n",
       " ['покупка', ' ', 'коммерческий', ' ', 'недвижимость', '\\n'],\n",
       " ['покупка', ' ', 'жилье', '\\n'],\n",
       " ['получение', ' ', 'высокий', ' ', 'образование', '\\n'],\n",
       " ['жилье', '\\n'],\n",
       " ['покупка', ' ', 'жилье', '\\n'],\n",
       " ['дополнительный', ' ', 'образование', '\\n'],\n",
       " ['операция', ' ', 'с', ' ', 'жилье', '\\n'],\n",
       " ['свадьба', '\\n'],\n",
       " ['свадьба', '\\n'],\n",
       " ['покупка', ' ', 'жилье', ' ', 'для', ' ', 'семья', '\\n'],\n",
       " ['операция', ' ', 'с', ' ', 'жилье', '\\n'],\n",
       " ['покупка', ' ', 'недвижимость', '\\n'],\n",
       " ['строительство', ' ', 'жилой', ' ', 'недвижимость', '\\n'],\n",
       " ['недвижимость', '\\n'],\n",
       " ['строительство', ' ', 'недвижимость', '\\n'],\n",
       " ['недвижимость', '\\n'],\n",
       " ['операция', ' ', 'с', ' ', 'коммерческий', ' ', 'недвижимость', '\\n'],\n",
       " ['покупка', ' ', 'жилье', '\\n'],\n",
       " ['на', ' ', 'покупка', ' ', 'подержать', ' ', 'автомобиль', '\\n'],\n",
       " ['ремонт', ' ', 'жилье', '\\n'],\n",
       " ['автомобиль', '\\n'],\n",
       " ['заниматься', ' ', 'образование', '\\n'],\n",
       " ['заниматься', ' ', 'высокий', ' ', 'образование', '\\n'],\n",
       " ['сыграть', ' ', 'свадьба', '\\n'],\n",
       " ['покупка', ' ', 'коммерческий', ' ', 'недвижимость', '\\n'],\n",
       " ['ремонт', ' ', 'жилье', '\\n'],\n",
       " ['сыграть', ' ', 'свадьба', '\\n'],\n",
       " ['автомобиль', '\\n'],\n",
       " ['операция', ' ', 'со', ' ', 'свой', ' ', 'недвижимость', '\\n'],\n",
       " ['операция', ' ', 'с', ' ', 'жилье', '\\n'],\n",
       " ['ремонт', ' ', 'жилье', '\\n'],\n",
       " ['покупка', ' ', 'жилье', '\\n'],\n",
       " ['на', ' ', 'покупка', ' ', 'свой', ' ', 'автомобиль', '\\n'],\n",
       " ['автомобиль', '\\n'],\n",
       " ['заниматься', ' ', 'высокий', ' ', 'образование', '\\n'],\n",
       " ['на', ' ', 'покупка', ' ', 'подержать', ' ', 'автомобиль', '\\n'],\n",
       " ['покупка', ' ', 'свой', ' ', 'жилье', '\\n'],\n",
       " ['строительство', ' ', 'собственный', ' ', 'недвижимость', '\\n'],\n",
       " ['ремонт', ' ', 'жилье', '\\n'],\n",
       " ['получение', ' ', 'дополнительный', ' ', 'образование', '\\n'],\n",
       " ['профильный', ' ', 'образование', '\\n'],\n",
       " ['недвижимость', '\\n'],\n",
       " ['недвижимость', '\\n'],\n",
       " ['свадьба', '\\n'],\n",
       " ['на', ' ', 'покупка', ' ', 'подержать', ' ', 'автомобиль', '\\n'],\n",
       " ['покупка', ' ', 'жилье', ' ', 'для', ' ', 'сдача', '\\n'],\n",
       " ['строительство', ' ', 'недвижимость', '\\n'],\n",
       " ['сделка', ' ', 'с', ' ', 'подержанный', ' ', 'автомобиль', '\\n'],\n",
       " ['операция', ' ', 'с', ' ', 'коммерческий', ' ', 'недвижимость', '\\n'],\n",
       " ['на', ' ', 'проведение', ' ', 'свадьба', '\\n'],\n",
       " ['строительство', ' ', 'недвижимость', '\\n'],\n",
       " ['покупка', ' ', 'коммерческий', ' ', 'недвижимость', '\\n'],\n",
       " ['дополнительный', ' ', 'образование', '\\n'],\n",
       " ['операция', ' ', 'с', ' ', 'коммерческий', ' ', 'недвижимость', '\\n'],\n",
       " ['недвижимость', '\\n'],\n",
       " ['строительство', ' ', 'жилой', ' ', 'недвижимость', '\\n'],\n",
       " ['операция', ' ', 'с', ' ', 'коммерческий', ' ', 'недвижимость', '\\n'],\n",
       " ['ремонт', ' ', 'жилье', '\\n'],\n",
       " ['недвижимость', '\\n'],\n",
       " ['покупка', ' ', 'жилой', ' ', 'недвижимость', '\\n'],\n",
       " ['заниматься', ' ', 'высокий', ' ', 'образование', '\\n'],\n",
       " ['покупка', ' ', 'жилье', ' ', 'для', ' ', 'сдача', '\\n'],\n",
       " ['дополнительный', ' ', 'образование', '\\n'],\n",
       " ['покупка', ' ', 'недвижимость', '\\n'],\n",
       " ['образование', '\\n'],\n",
       " ['покупка', ' ', 'жилье', ' ', 'для', ' ', 'семья', '\\n'],\n",
       " ['сделка', ' ', 'с', ' ', 'автомобиль', '\\n'],\n",
       " ['свой', ' ', 'автомобиль', '\\n'],\n",
       " ['строительство', ' ', 'жилой', ' ', 'недвижимость', '\\n'],\n",
       " ['на', ' ', 'покупка', ' ', 'подержать', ' ', 'автомобиль', '\\n'],\n",
       " ['на', ' ', 'проведение', ' ', 'свадьба', '\\n'],\n",
       " ['сыграть', ' ', 'свадьба', '\\n'],\n",
       " ['покупка', ' ', 'жилье', ' ', 'для', ' ', 'сдача', '\\n'],\n",
       " ['операция', ' ', 'с', ' ', 'коммерческий', ' ', 'недвижимость', '\\n'],\n",
       " ['покупка', ' ', 'жилой', ' ', 'недвижимость', '\\n'],\n",
       " ['покупка', ' ', 'недвижимость', '\\n'],\n",
       " ['покупка', ' ', 'коммерческий', ' ', 'недвижимость', '\\n'],\n",
       " ['приобретение', ' ', 'автомобиль', '\\n'],\n",
       " ['покупка', ' ', 'жилой', ' ', 'недвижимость', '\\n'],\n",
       " ['покупка', ' ', 'жилье', '\\n'],\n",
       " ['свой', ' ', 'автомобиль', '\\n'],\n",
       " ['высокий', ' ', 'образование', '\\n'],\n",
       " ['на', ' ', 'покупка', ' ', 'подержать', ' ', 'автомобиль', '\\n'],\n",
       " ['свой', ' ', 'автомобиль', '\\n'],\n",
       " ['операция', ' ', 'с', ' ', 'недвижимость', '\\n'],\n",
       " ['строительство', ' ', 'недвижимость', '\\n'],\n",
       " ['автомобиль', '\\n'],\n",
       " ['операция', ' ', 'с', ' ', 'коммерческий', ' ', 'недвижимость', '\\n'],\n",
       " ['сделка', ' ', 'с', ' ', 'подержанный', ' ', 'автомобиль', '\\n'],\n",
       " ['покупка', ' ', 'коммерческий', ' ', 'недвижимость', '\\n'],\n",
       " ['сделка', ' ', 'с', ' ', 'автомобиль', '\\n'],\n",
       " ['сделка', ' ', 'с', ' ', 'автомобиль', '\\n'],\n",
       " ['покупка', ' ', 'жилье', '\\n'],\n",
       " ['операция', ' ', 'с', ' ', 'коммерческий', ' ', 'недвижимость', '\\n'],\n",
       " ['получение', ' ', 'образование', '\\n'],\n",
       " ['заниматься', ' ', 'высокий', ' ', 'образование', '\\n'],\n",
       " ['покупка', ' ', 'жилой', ' ', 'недвижимость', '\\n'],\n",
       " ['операция', ' ', 'с', ' ', 'жилье', '\\n'],\n",
       " ['на', ' ', 'проведение', ' ', 'свадьба', '\\n'],\n",
       " ['покупка', ' ', 'жилье', ' ', 'для', ' ', 'семья', '\\n'],\n",
       " ['покупка', ' ', 'коммерческий', ' ', 'недвижимость', '\\n'],\n",
       " ['автомобиль', '\\n'],\n",
       " ['строительство', ' ', 'собственный', ' ', 'недвижимость', '\\n'],\n",
       " ['покупка', ' ', 'жилой', ' ', 'недвижимость', '\\n'],\n",
       " ['приобретение', ' ', 'автомобиль', '\\n'],\n",
       " ['строительство', ' ', 'жилой', ' ', 'недвижимость', '\\n'],\n",
       " ['свадьба', '\\n'],\n",
       " ['жилье', '\\n'],\n",
       " ['покупка', ' ', 'жилье', ' ', 'для', ' ', 'сдача', '\\n'],\n",
       " ['покупка', ' ', 'жилье', ' ', 'для', ' ', 'сдача', '\\n'],\n",
       " ['жилье', '\\n'],\n",
       " ['покупка', ' ', 'жилье', ' ', 'для', ' ', 'сдача', '\\n'],\n",
       " ['получение', ' ', 'высокий', ' ', 'образование', '\\n'],\n",
       " ['заниматься', ' ', 'высокий', ' ', 'образование', '\\n'],\n",
       " ['покупка', ' ', 'жилой', ' ', 'недвижимость', '\\n'],\n",
       " ['свадьба', '\\n'],\n",
       " ['на', ' ', 'покупка', ' ', 'подержать', ' ', 'автомобиль', '\\n'],\n",
       " ['недвижимость', '\\n'],\n",
       " ['операция', ' ', 'с', ' ', 'недвижимость', '\\n'],\n",
       " ['автомобиль', '\\n'],\n",
       " ['недвижимость', '\\n'],\n",
       " ['получение', ' ', 'образование', '\\n'],\n",
       " ['покупка', ' ', 'недвижимость', '\\n'],\n",
       " ['приобретение', ' ', 'автомобиль', '\\n'],\n",
       " ['на', ' ', 'покупка', ' ', 'подержать', ' ', 'автомобиль', '\\n'],\n",
       " ['получение', ' ', 'высокий', ' ', 'образование', '\\n'],\n",
       " ['жилье', '\\n'],\n",
       " ['ремонт', ' ', 'жилье', '\\n'],\n",
       " ['жилье', '\\n'],\n",
       " ['на', ' ', 'проведение', ' ', 'свадьба', '\\n'],\n",
       " ['покупка', ' ', 'жилье', '\\n'],\n",
       " ['сделка', ' ', 'с', ' ', 'подержанный', ' ', 'автомобиль', '\\n'],\n",
       " ['сыграть', ' ', 'свадьба', '\\n'],\n",
       " ['недвижимость', '\\n'],\n",
       " ['получение', ' ', 'образование', '\\n'],\n",
       " ['покупка', ' ', 'жилье', '\\n'],\n",
       " ['операция', ' ', 'с', ' ', 'жилье', '\\n'],\n",
       " ['автомобиль', '\\n'],\n",
       " ['дополнительный', ' ', 'образование', '\\n'],\n",
       " ['покупка', ' ', 'недвижимость', '\\n'],\n",
       " ['получение', ' ', 'образование', '\\n'],\n",
       " ['высокий', ' ', 'образование', '\\n'],\n",
       " ['покупка', ' ', 'свой', ' ', 'жилье', '\\n'],\n",
       " ['покупка', ' ', 'коммерческий', ' ', 'недвижимость', '\\n'],\n",
       " ['заниматься', ' ', 'высокий', ' ', 'образование', '\\n'],\n",
       " ['на', ' ', 'покупка', ' ', 'свой', ' ', 'автомобиль', '\\n'],\n",
       " ['недвижимость', '\\n'],\n",
       " ['жилье', '\\n'],\n",
       " ['образование', '\\n'],\n",
       " ['ремонт', ' ', 'жилье', '\\n'],\n",
       " ['операция', ' ', 'с', ' ', 'недвижимость', '\\n'],\n",
       " ['строительство', ' ', 'жилой', ' ', 'недвижимость', '\\n'],\n",
       " ['на', ' ', 'проведение', ' ', 'свадьба', '\\n'],\n",
       " ['на', ' ', 'проведение', ' ', 'свадьба', '\\n'],\n",
       " ['получение', ' ', 'высокий', ' ', 'образование', '\\n'],\n",
       " ['высокий', ' ', 'образование', '\\n'],\n",
       " ['сделка', ' ', 'с', ' ', 'подержанный', ' ', 'автомобиль', '\\n'],\n",
       " ['операция', ' ', 'со', ' ', 'свой', ' ', 'недвижимость', '\\n'],\n",
       " ['свадьба', '\\n'],\n",
       " ['операция', ' ', 'со', ' ', 'свой', ' ', 'недвижимость', '\\n'],\n",
       " ['свадьба', '\\n'],\n",
       " ['сыграть', ' ', 'свадьба', '\\n'],\n",
       " ['автомобиль', '\\n'],\n",
       " ['ремонт', ' ', 'жилье', '\\n'],\n",
       " ['жилье', '\\n'],\n",
       " ['профильный', ' ', 'образование', '\\n'],\n",
       " ['покупка', ' ', 'жилье', ' ', 'для', ' ', 'сдача', '\\n'],\n",
       " ['ремонт', ' ', 'жилье', '\\n'],\n",
       " ['свадьба', '\\n'],\n",
       " ['приобретение', ' ', 'автомобиль', '\\n'],\n",
       " ['профильный', ' ', 'образование', '\\n'],\n",
       " ['покупка', ' ', 'недвижимость', '\\n'],\n",
       " ['автомобиль', '\\n'],\n",
       " ['операция', ' ', 'со', ' ', 'свой', ' ', 'недвижимость', '\\n'],\n",
       " ['покупка', ' ', 'коммерческий', ' ', 'недвижимость', '\\n'],\n",
       " ['получение', ' ', 'высокий', ' ', 'образование', '\\n'],\n",
       " ['строительство', ' ', 'недвижимость', '\\n'],\n",
       " ['операция', ' ', 'с', ' ', 'жилье', '\\n'],\n",
       " ['операция', ' ', 'с', ' ', 'жилье', '\\n'],\n",
       " ['сыграть', ' ', 'свадьба', '\\n'],\n",
       " ['покупка', ' ', 'жилье', ' ', 'для', ' ', 'семья', '\\n'],\n",
       " ['покупка', ' ', 'жилье', ' ', 'для', ' ', 'семья', '\\n'],\n",
       " ['сыграть', ' ', 'свадьба', '\\n'],\n",
       " ['дополнительный', ' ', 'образование', '\\n'],\n",
       " ['на', ' ', 'покупка', ' ', 'подержать', ' ', 'автомобиль', '\\n'],\n",
       " ['покупка', ' ', 'жилье', ' ', 'для', ' ', 'сдача', '\\n'],\n",
       " ['покупка', ' ', 'жилой', ' ', 'недвижимость', '\\n'],\n",
       " ['сделка', ' ', 'с', ' ', 'подержанный', ' ', 'автомобиль', '\\n'],\n",
       " ['заниматься', ' ', 'высокий', ' ', 'образование', '\\n'],\n",
       " ['заниматься', ' ', 'высокий', ' ', 'образование', '\\n'],\n",
       " ['жилье', '\\n'],\n",
       " ['на', ' ', 'покупка', ' ', 'подержать', ' ', 'автомобиль', '\\n'],\n",
       " ['операция', ' ', 'с', ' ', 'недвижимость', '\\n'],\n",
       " ['свой', ' ', 'автомобиль', '\\n'],\n",
       " ['свадьба', '\\n'],\n",
       " ['профильный', ' ', 'образование', '\\n'],\n",
       " ['получение', ' ', 'дополнительный', ' ', 'образование', '\\n'],\n",
       " ['покупка', ' ', 'жилье', '\\n'],\n",
       " ['автомобиль', '\\n'],\n",
       " ['на', ' ', 'проведение', ' ', 'свадьба', '\\n'],\n",
       " ['покупка', ' ', 'свой', ' ', 'жилье', '\\n'],\n",
       " ['недвижимость', '\\n'],\n",
       " ['жилье', '\\n'],\n",
       " ['строительство', ' ', 'жилой', ' ', 'недвижимость', '\\n'],\n",
       " ['на', ' ', 'покупка', ' ', 'автомобиль', '\\n'],\n",
       " ['на', ' ', 'проведение', ' ', 'свадьба', '\\n'],\n",
       " ['автомобиль', '\\n'],\n",
       " ['свадьба', '\\n'],\n",
       " ['операция', ' ', 'с', ' ', 'коммерческий', ' ', 'недвижимость', '\\n'],\n",
       " ['строительство', ' ', 'собственный', ' ', 'недвижимость', '\\n'],\n",
       " ['профильный', ' ', 'образование', '\\n'],\n",
       " ['сыграть', ' ', 'свадьба', '\\n'],\n",
       " ['высокий', ' ', 'образование', '\\n'],\n",
       " ['покупка', ' ', 'жилье', ' ', 'для', ' ', 'семья', '\\n'],\n",
       " ['на', ' ', 'проведение', ' ', 'свадьба', '\\n'],\n",
       " ['дополнительный', ' ', 'образование', '\\n'],\n",
       " ['строительство', ' ', 'собственный', ' ', 'недвижимость', '\\n'],\n",
       " ['покупка', ' ', 'недвижимость', '\\n'],\n",
       " ['операция', ' ', 'со', ' ', 'свой', ' ', 'недвижимость', '\\n'],\n",
       " ['на', ' ', 'покупка', ' ', 'свой', ' ', 'автомобиль', '\\n'],\n",
       " ['высокий', ' ', 'образование', '\\n'],\n",
       " ['получение', ' ', 'дополнительный', ' ', 'образование', '\\n'],\n",
       " ['на', ' ', 'покупка', ' ', 'подержать', ' ', 'автомобиль', '\\n'],\n",
       " ['недвижимость', '\\n'],\n",
       " ['недвижимость', '\\n'],\n",
       " ['свадьба', '\\n'],\n",
       " ['жилье', '\\n'],\n",
       " ['свой', ' ', 'автомобиль', '\\n'],\n",
       " ['жилье', '\\n'],\n",
       " ['недвижимость', '\\n'],\n",
       " ['сделка', ' ', 'с', ' ', 'подержанный', ' ', 'автомобиль', '\\n'],\n",
       " ['покупка', ' ', 'жилой', ' ', 'недвижимость', '\\n'],\n",
       " ['на', ' ', 'покупка', ' ', 'автомобиль', '\\n'],\n",
       " ['автомобиль', '\\n'],\n",
       " ['строительство', ' ', 'недвижимость', '\\n'],\n",
       " ['на', ' ', 'проведение', ' ', 'свадьба', '\\n'],\n",
       " ['покупка', ' ', 'свой', ' ', 'жилье', '\\n'],\n",
       " ['строительство', ' ', 'жилой', ' ', 'недвижимость', '\\n'],\n",
       " ['заниматься', ' ', 'высокий', ' ', 'образование', '\\n'],\n",
       " ['на', ' ', 'покупка', ' ', 'автомобиль', '\\n'],\n",
       " ['покупка', ' ', 'недвижимость', '\\n'],\n",
       " ['на', ' ', 'проведение', ' ', 'свадьба', '\\n'],\n",
       " ['покупка', ' ', 'жилой', ' ', 'недвижимость', '\\n'],\n",
       " ['приобретение', ' ', 'автомобиль', '\\n'],\n",
       " ['ремонт', ' ', 'жилье', '\\n'],\n",
       " ['образование', '\\n'],\n",
       " ['на', ' ', 'проведение', ' ', 'свадьба', '\\n'],\n",
       " ['строительство', ' ', 'жилой', ' ', 'недвижимость', '\\n'],\n",
       " ['покупка', ' ', 'недвижимость', '\\n'],\n",
       " ['покупка', ' ', 'жилой', ' ', 'недвижимость', '\\n'],\n",
       " ['профильный', ' ', 'образование', '\\n'],\n",
       " ['покупка', ' ', 'жилье', ' ', 'для', ' ', 'семья', '\\n'],\n",
       " ['сыграть', ' ', 'свадьба', '\\n'],\n",
       " ['свадьба', '\\n'],\n",
       " ['приобретение', ' ', 'автомобиль', '\\n'],\n",
       " ['высокий', ' ', 'образование', '\\n'],\n",
       " ['сыграть', ' ', 'свадьба', '\\n'],\n",
       " ['строительство', ' ', 'недвижимость', '\\n'],\n",
       " ['операция', ' ', 'со', ' ', 'свой', ' ', 'недвижимость', '\\n'],\n",
       " ['операция', ' ', 'с', ' ', 'коммерческий', ' ', 'недвижимость', '\\n'],\n",
       " ['автомобиль', '\\n'],\n",
       " ['операция', ' ', 'с', ' ', 'жилье', '\\n'],\n",
       " ['строительство', ' ', 'жилой', ' ', 'недвижимость', '\\n'],\n",
       " ['на', ' ', 'проведение', ' ', 'свадьба', '\\n'],\n",
       " ['автомобиль', '\\n'],\n",
       " ['операция', ' ', 'с', ' ', 'коммерческий', ' ', 'недвижимость', '\\n'],\n",
       " ['покупка', ' ', 'свой', ' ', 'жилье', '\\n'],\n",
       " ['покупка', ' ', 'коммерческий', ' ', 'недвижимость', '\\n'],\n",
       " ['автомобиль', '\\n'],\n",
       " ['сыграть', ' ', 'свадьба', '\\n'],\n",
       " ['операция', ' ', 'с', ' ', 'жилье', '\\n'],\n",
       " ['автомобиль', '\\n'],\n",
       " ['покупка', ' ', 'жилье', '\\n'],\n",
       " ['на', ' ', 'покупка', ' ', 'подержать', ' ', 'автомобиль', '\\n'],\n",
       " ['покупка', ' ', 'коммерческий', ' ', 'недвижимость', '\\n'],\n",
       " ['недвижимость', '\\n'],\n",
       " ['свадьба', '\\n'],\n",
       " ['сыграть', ' ', 'свадьба', '\\n'],\n",
       " ['строительство', ' ', 'недвижимость', '\\n'],\n",
       " ['строительство', ' ', 'недвижимость', '\\n'],\n",
       " ['сыграть', ' ', 'свадьба', '\\n'],\n",
       " ['сыграть', ' ', 'свадьба', '\\n'],\n",
       " ['сделка', ' ', 'с', ' ', 'подержанный', ' ', 'автомобиль', '\\n'],\n",
       " ['операция', ' ', 'с', ' ', 'коммерческий', ' ', 'недвижимость', '\\n'],\n",
       " ['операция', ' ', 'с', ' ', 'недвижимость', '\\n'],\n",
       " ['покупка', ' ', 'недвижимость', '\\n'],\n",
       " ['операция', ' ', 'с', ' ', 'коммерческий', ' ', 'недвижимость', '\\n'],\n",
       " ['строительство', ' ', 'жилой', ' ', 'недвижимость', '\\n'],\n",
       " ['строительство', ' ', 'недвижимость', '\\n'],\n",
       " ['получение', ' ', 'высокий', ' ', 'образование', '\\n'],\n",
       " ['сделка', ' ', 'с', ' ', 'подержанный', ' ', 'автомобиль', '\\n'],\n",
       " ['операция', ' ', 'с', ' ', 'жилье', '\\n'],\n",
       " ['сыграть', ' ', 'свадьба', '\\n'],\n",
       " ['образование', '\\n'],\n",
       " ['образование', '\\n'],\n",
       " ['на', ' ', 'покупка', ' ', 'автомобиль', '\\n'],\n",
       " ['высокий', ' ', 'образование', '\\n'],\n",
       " ['операция', ' ', 'с', ' ', 'жилье', '\\n'],\n",
       " ['приобретение', ' ', 'автомобиль', '\\n'],\n",
       " ['заниматься', ' ', 'высокий', ' ', 'образование', '\\n'],\n",
       " ['сыграть', ' ', 'свадьба', '\\n'],\n",
       " ['на', ' ', 'покупка', ' ', 'свой', ' ', 'автомобиль', '\\n'],\n",
       " ['покупка', ' ', 'жилой', ' ', 'недвижимость', '\\n'],\n",
       " ['покупка', ' ', 'недвижимость', '\\n'],\n",
       " ['покупка', ' ', 'жилье', '\\n'],\n",
       " ['операция', ' ', 'с', ' ', 'жилье', '\\n'],\n",
       " ['ремонт', ' ', 'жилье', '\\n'],\n",
       " ['недвижимость', '\\n'],\n",
       " ['жилье', '\\n'],\n",
       " ['покупка', ' ', 'коммерческий', ' ', 'недвижимость', '\\n'],\n",
       " ['сделка', ' ', 'с', ' ', 'автомобиль', '\\n'],\n",
       " ['на', ' ', 'покупка', ' ', 'автомобиль', '\\n'],\n",
       " ['покупка', ' ', 'недвижимость', '\\n'],\n",
       " ['на', ' ', 'покупка', ' ', 'подержать', ' ', 'автомобиль', '\\n'],\n",
       " ['покупка', ' ', 'жилье', '\\n'],\n",
       " ['покупка', ' ', 'коммерческий', ' ', 'недвижимость', '\\n'],\n",
       " ['сыграть', ' ', 'свадьба', '\\n'],\n",
       " ['на', ' ', 'проведение', ' ', 'свадьба', '\\n'],\n",
       " ['дополнительный', ' ', 'образование', '\\n'],\n",
       " ['строительство', ' ', 'жилой', ' ', 'недвижимость', '\\n'],\n",
       " ['операция', ' ', 'с', ' ', 'жилье', '\\n'],\n",
       " ['операция', ' ', 'с', ' ', 'жилье', '\\n'],\n",
       " ['на', ' ', 'проведение', ' ', 'свадьба', '\\n'],\n",
       " ['на', ' ', 'проведение', ' ', 'свадьба', '\\n'],\n",
       " ['профильный', ' ', 'образование', '\\n'],\n",
       " ['сделка', ' ', 'с', ' ', 'подержанный', ' ', 'автомобиль', '\\n'],\n",
       " ['образование', '\\n'],\n",
       " ['строительство', ' ', 'собственный', ' ', 'недвижимость', '\\n'],\n",
       " ['образование', '\\n'],\n",
       " ['дополнительный', ' ', 'образование', '\\n'],\n",
       " ['на', ' ', 'покупка', ' ', 'свой', ' ', 'автомобиль', '\\n'],\n",
       " ['на', ' ', 'проведение', ' ', 'свадьба', '\\n'],\n",
       " ['покупка', ' ', 'жилье', '\\n'],\n",
       " ['операция', ' ', 'со', ' ', 'свой', ' ', 'недвижимость', '\\n'],\n",
       " ['операция', ' ', 'с', ' ', 'недвижимость', '\\n'],\n",
       " ['строительство', ' ', 'недвижимость', '\\n'],\n",
       " ['на', ' ', 'покупка', ' ', 'автомобиль', '\\n'],\n",
       " ['операция', ' ', 'с', ' ', 'коммерческий', ' ', 'недвижимость', '\\n'],\n",
       " ['строительство', ' ', 'собственный', ' ', 'недвижимость', '\\n'],\n",
       " ['на', ' ', 'покупка', ' ', 'подержать', ' ', 'автомобиль', '\\n'],\n",
       " ['на', ' ', 'покупка', ' ', 'свой', ' ', 'автомобиль', '\\n'],\n",
       " ['сыграть', ' ', 'свадьба', '\\n'],\n",
       " ['сделка', ' ', 'с', ' ', 'подержанный', ' ', 'автомобиль', '\\n'],\n",
       " ['покупка', ' ', 'жилье', ' ', 'для', ' ', 'семья', '\\n'],\n",
       " ['покупка', ' ', 'жилье', '\\n'],\n",
       " ['покупка', ' ', 'жилье', ' ', 'для', ' ', 'семья', '\\n'],\n",
       " ['ремонт', ' ', 'жилье', '\\n'],\n",
       " ['строительство', ' ', 'недвижимость', '\\n'],\n",
       " ['покупка', ' ', 'жилье', ' ', 'для', ' ', 'семья', '\\n'],\n",
       " ['сыграть', ' ', 'свадьба', '\\n'],\n",
       " ['покупка', ' ', 'недвижимость', '\\n'],\n",
       " ['строительство', ' ', 'недвижимость', '\\n'],\n",
       " ['свой', ' ', 'автомобиль', '\\n'],\n",
       " ['сделка', ' ', 'с', ' ', 'автомобиль', '\\n'],\n",
       " ['операция', ' ', 'с', ' ', 'жилье', '\\n'],\n",
       " ['покупка', ' ', 'жилье', '\\n'],\n",
       " ['жилье', '\\n'],\n",
       " ['операция', ' ', 'с', ' ', 'коммерческий', ' ', 'недвижимость', '\\n'],\n",
       " ['операция', ' ', 'с', ' ', 'коммерческий', ' ', 'недвижимость', '\\n'],\n",
       " ['на', ' ', 'покупка', ' ', 'подержать', ' ', 'автомобиль', '\\n'],\n",
       " ['строительство', ' ', 'недвижимость', '\\n'],\n",
       " ['жилье', '\\n'],\n",
       " ['высокий', ' ', 'образование', '\\n'],\n",
       " ['операция', ' ', 'со', ' ', 'свой', ' ', 'недвижимость', '\\n'],\n",
       " ['строительство', ' ', 'жилой', ' ', 'недвижимость', '\\n'],\n",
       " ['покупка', ' ', 'жилье', ' ', 'для', ' ', 'сдача', '\\n'],\n",
       " ['заниматься', ' ', 'образование', '\\n'],\n",
       " ['на', ' ', 'покупка', ' ', 'подержать', ' ', 'автомобиль', '\\n'],\n",
       " ['свадьба', '\\n'],\n",
       " ['дополнительный', ' ', 'образование', '\\n'],\n",
       " ['сыграть', ' ', 'свадьба', '\\n'],\n",
       " ['на', ' ', 'покупка', ' ', 'свой', ' ', 'автомобиль', '\\n'],\n",
       " ['приобретение', ' ', 'автомобиль', '\\n'],\n",
       " ['сыграть', ' ', 'свадьба', '\\n'],\n",
       " ['на', ' ', 'покупка', ' ', 'автомобиль', '\\n'],\n",
       " ['покупка', ' ', 'жилье', ' ', 'для', ' ', 'семья', '\\n'],\n",
       " ['сыграть', ' ', 'свадьба', '\\n'],\n",
       " ['профильный', ' ', 'образование', '\\n'],\n",
       " ['получение', ' ', 'образование', '\\n'],\n",
       " ['профильный', ' ', 'образование', '\\n'],\n",
       " ['покупка', ' ', 'свой', ' ', 'жилье', '\\n'],\n",
       " ['покупка', ' ', 'жилье', ' ', 'для', ' ', 'сдача', '\\n'],\n",
       " ['покупка', ' ', 'свой', ' ', 'жилье', '\\n'],\n",
       " ['сделка', ' ', 'с', ' ', 'подержанный', ' ', 'автомобиль', '\\n'],\n",
       " ['операция', ' ', 'со', ' ', 'свой', ' ', 'недвижимость', '\\n'],\n",
       " ['строительство', ' ', 'жилой', ' ', 'недвижимость', '\\n'],\n",
       " ['покупка', ' ', 'жилье', ' ', 'для', ' ', 'семья', '\\n'],\n",
       " ['операция', ' ', 'с', ' ', 'недвижимость', '\\n'],\n",
       " ['образование', '\\n'],\n",
       " ['строительство', ' ', 'жилой', ' ', 'недвижимость', '\\n'],\n",
       " ['заниматься', ' ', 'образование', '\\n'],\n",
       " ['на', ' ', 'покупка', ' ', 'автомобиль', '\\n'],\n",
       " ['на', ' ', 'проведение', ' ', 'свадьба', '\\n'],\n",
       " ['ремонт', ' ', 'жилье', '\\n'],\n",
       " ['недвижимость', '\\n'],\n",
       " ['покупка', ' ', 'жилой', ' ', 'недвижимость', '\\n'],\n",
       " ['приобретение', ' ', 'автомобиль', '\\n'],\n",
       " ['приобретение', ' ', 'автомобиль', '\\n'],\n",
       " ['покупка', ' ', 'недвижимость', '\\n'],\n",
       " ['ремонт', ' ', 'жилье', '\\n'],\n",
       " ['операция', ' ', 'с', ' ', 'коммерческий', ' ', 'недвижимость', '\\n'],\n",
       " ['на', ' ', 'покупка', ' ', 'подержать', ' ', 'автомобиль', '\\n'],\n",
       " ['покупка', ' ', 'жилой', ' ', 'недвижимость', '\\n'],\n",
       " ['недвижимость', '\\n'],\n",
       " ['операция', ' ', 'с', ' ', 'жилье', '\\n'],\n",
       " ['покупка', ' ', 'жилье', '\\n'],\n",
       " ['автомобиль', '\\n'],\n",
       " ['профильный', ' ', 'образование', '\\n'],\n",
       " ['заниматься', ' ', 'образование', '\\n'],\n",
       " ['покупка', ' ', 'жилье', ' ', 'для', ' ', 'семья', '\\n'],\n",
       " ['строительство', ' ', 'недвижимость', '\\n'],\n",
       " ['покупка', ' ', 'жилье', ' ', 'для', ' ', 'сдача', '\\n'],\n",
       " ['операция', ' ', 'с', ' ', 'коммерческий', ' ', 'недвижимость', '\\n'],\n",
       " ['операция', ' ', 'с', ' ', 'недвижимость', '\\n'],\n",
       " ['получение', ' ', 'высокий', ' ', 'образование', '\\n'],\n",
       " ['приобретение', ' ', 'автомобиль', '\\n'],\n",
       " ['операция', ' ', 'с', ' ', 'жилье', '\\n'],\n",
       " ['на', ' ', 'покупка', ' ', 'подержать', ' ', 'автомобиль', '\\n'],\n",
       " ['на', ' ', 'покупка', ' ', 'свой', ' ', 'автомобиль', '\\n'],\n",
       " ['покупка', ' ', 'коммерческий', ' ', 'недвижимость', '\\n'],\n",
       " ['на', ' ', 'проведение', ' ', 'свадьба', '\\n'],\n",
       " ['операция', ' ', 'с', ' ', 'жилье', '\\n'],\n",
       " ['недвижимость', '\\n'],\n",
       " ['сыграть', ' ', 'свадьба', '\\n'],\n",
       " ['получение', ' ', 'образование', '\\n'],\n",
       " ['заниматься', ' ', 'образование', '\\n'],\n",
       " ['недвижимость', '\\n'],\n",
       " ['покупка', ' ', 'жилье', ' ', 'для', ' ', 'семья', '\\n'],\n",
       " ['заниматься', ' ', 'высокий', ' ', 'образование', '\\n'],\n",
       " ['покупка', ' ', 'жилье', ' ', 'для', ' ', 'семья', '\\n'],\n",
       " ['покупка', ' ', 'жилой', ' ', 'недвижимость', '\\n'],\n",
       " ['сыграть', ' ', 'свадьба', '\\n'],\n",
       " ['сделка', ' ', 'с', ' ', 'автомобиль', '\\n'],\n",
       " ['покупка', ' ', 'жилье', '\\n'],\n",
       " ['высокий', ' ', 'образование', '\\n'],\n",
       " ['строительство', ' ', 'собственный', ' ', 'недвижимость', '\\n'],\n",
       " ['образование', '\\n'],\n",
       " ['покупка', ' ', 'свой', ' ', 'жилье', '\\n'],\n",
       " ['на', ' ', 'проведение', ' ', 'свадьба', '\\n'],\n",
       " ['ремонт', ' ', 'жилье', '\\n'],\n",
       " ['свой', ' ', 'автомобиль', '\\n'],\n",
       " ['ремонт', ' ', 'жилье', '\\n'],\n",
       " ['покупка', ' ', 'жилье', ' ', 'для', ' ', 'сдача', '\\n'],\n",
       " ['свой', ' ', 'автомобиль', '\\n'],\n",
       " ['на', ' ', 'покупка', ' ', 'подержать', ' ', 'автомобиль', '\\n'],\n",
       " ['покупка', ' ', 'коммерческий', ' ', 'недвижимость', '\\n'],\n",
       " ['на', ' ', 'покупка', ' ', 'автомобиль', '\\n'],\n",
       " ['сделка', ' ', 'с', ' ', 'подержанный', ' ', 'автомобиль', '\\n'],\n",
       " ['сыграть', ' ', 'свадьба', '\\n'],\n",
       " ['получение', ' ', 'образование', '\\n'],\n",
       " ['покупка', ' ', 'жилье', ' ', 'для', ' ', 'сдача', '\\n'],\n",
       " ['высокий', ' ', 'образование', '\\n'],\n",
       " ['сделка', ' ', 'с', ' ', 'подержанный', ' ', 'автомобиль', '\\n'],\n",
       " ['покупка', ' ', 'жилье', '\\n'],\n",
       " ['приобретение', ' ', 'автомобиль', '\\n'],\n",
       " ['строительство', ' ', 'собственный', ' ', 'недвижимость', '\\n'],\n",
       " ['строительство', ' ', 'недвижимость', '\\n'],\n",
       " ['покупка', ' ', 'свой', ' ', 'жилье', '\\n'],\n",
       " ['получение', ' ', 'дополнительный', ' ', 'образование', '\\n'],\n",
       " ['операция', ' ', 'с', ' ', 'недвижимость', '\\n'],\n",
       " ['на', ' ', 'покупка', ' ', 'автомобиль', '\\n'],\n",
       " ['покупка', ' ', 'жилье', ' ', 'для', ' ', 'сдача', '\\n'],\n",
       " ['покупка', ' ', 'недвижимость', '\\n'],\n",
       " ['операция', ' ', 'с', ' ', 'жилье', '\\n'],\n",
       " ['покупка', ' ', 'жилье', '\\n'],\n",
       " ['покупка', ' ', 'коммерческий', ' ', 'недвижимость', '\\n'],\n",
       " ['операция', ' ', 'с', ' ', 'недвижимость', '\\n'],\n",
       " ['автомобиль', '\\n'],\n",
       " ['покупка', ' ', 'жилой', ' ', 'недвижимость', '\\n'],\n",
       " ['покупка', ' ', 'недвижимость', '\\n'],\n",
       " ['недвижимость', '\\n'],\n",
       " ['сделка', ' ', 'с', ' ', 'автомобиль', '\\n'],\n",
       " ['сделка', ' ', 'с', ' ', 'подержанный', ' ', 'автомобиль', '\\n'],\n",
       " ['автомобиль', '\\n'],\n",
       " ['заниматься', ' ', 'высокий', ' ', 'образование', '\\n'],\n",
       " ['покупка', ' ', 'жилой', ' ', 'недвижимость', '\\n'],\n",
       " ['свадьба', '\\n'],\n",
       " ['ремонт', ' ', 'жилье', '\\n'],\n",
       " ['заниматься', ' ', 'высокий', ' ', 'образование', '\\n'],\n",
       " ['получение', ' ', 'образование', '\\n'],\n",
       " ['операция', ' ', 'со', ' ', 'свой', ' ', 'недвижимость', '\\n'],\n",
       " ['заниматься', ' ', 'высокий', ' ', 'образование', '\\n'],\n",
       " ['недвижимость', '\\n'],\n",
       " ['операция', ' ', 'с', ' ', 'жилье', '\\n'],\n",
       " ['покупка', ' ', 'жилье', ' ', 'для', ' ', 'сдача', '\\n'],\n",
       " ['покупка', ' ', 'жилье', ' ', 'для', ' ', 'сдача', '\\n'],\n",
       " ['операция', ' ', 'с', ' ', 'жилье', '\\n'],\n",
       " ['покупка', ' ', 'жилье', '\\n'],\n",
       " ['образование', '\\n'],\n",
       " ['на', ' ', 'проведение', ' ', 'свадьба', '\\n'],\n",
       " ['автомобиль', '\\n'],\n",
       " ['дополнительный', ' ', 'образование', '\\n'],\n",
       " ['операция', ' ', 'со', ' ', 'свой', ' ', 'недвижимость', '\\n'],\n",
       " ['строительство', ' ', 'собственный', ' ', 'недвижимость', '\\n'],\n",
       " ['покупка', ' ', 'недвижимость', '\\n'],\n",
       " ['операция', ' ', 'с', ' ', 'жилье', '\\n'],\n",
       " ['покупка', ' ', 'жилье', '\\n'],\n",
       " ['операция', ' ', 'с', ' ', 'недвижимость', '\\n'],\n",
       " ['операция', ' ', 'с', ' ', 'коммерческий', ' ', 'недвижимость', '\\n'],\n",
       " ['заниматься', ' ', 'высокий', ' ', 'образование', '\\n'],\n",
       " ['операция', ' ', 'со', ' ', 'свой', ' ', 'недвижимость', '\\n'],\n",
       " ['свадьба', '\\n'],\n",
       " ['дополнительный', ' ', 'образование', '\\n'],\n",
       " ['покупка', ' ', 'недвижимость', '\\n'],\n",
       " ['покупка', ' ', 'жилой', ' ', 'недвижимость', '\\n'],\n",
       " ['свой', ' ', 'автомобиль', '\\n'],\n",
       " ['строительство', ' ', 'собственный', ' ', 'недвижимость', '\\n'],\n",
       " ['операция', ' ', 'со', ' ', 'свой', ' ', 'недвижимость', '\\n'],\n",
       " ['операция', ' ', 'с', ' ', 'коммерческий', ' ', 'недвижимость', '\\n'],\n",
       " ['сыграть', ' ', 'свадьба', '\\n'],\n",
       " ['свадьба', '\\n'],\n",
       " ['покупка', ' ', 'жилье', ' ', 'для', ' ', 'сдача', '\\n'],\n",
       " ['покупка', ' ', 'жилье', '\\n'],\n",
       " ['заниматься', ' ', 'высокий', ' ', 'образование', '\\n'],\n",
       " ['на', ' ', 'покупка', ' ', 'свой', ' ', 'автомобиль', '\\n'],\n",
       " ['покупка', ' ', 'жилье', ' ', 'для', ' ', 'сдача', '\\n'],\n",
       " ['жилье', '\\n'],\n",
       " ['ремонт', ' ', 'жилье', '\\n'],\n",
       " ['покупка', ' ', 'свой', ' ', 'жилье', '\\n'],\n",
       " ['операция', ' ', 'с', ' ', 'недвижимость', '\\n'],\n",
       " ['покупка', ' ', 'жилье', '\\n'],\n",
       " ['получение', ' ', 'дополнительный', ' ', 'образование', '\\n'],\n",
       " ['свой', ' ', 'автомобиль', '\\n'],\n",
       " ['профильный', ' ', 'образование', '\\n'],\n",
       " ['недвижимость', '\\n'],\n",
       " ['покупка', ' ', 'недвижимость', '\\n'],\n",
       " ['операция', ' ', 'с', ' ', 'недвижимость', '\\n'],\n",
       " ['высокий', ' ', 'образование', '\\n'],\n",
       " ['покупка', ' ', 'недвижимость', '\\n'],\n",
       " ['покупка', ' ', 'жилье', ' ', 'для', ' ', 'сдача', '\\n'],\n",
       " ['строительство', ' ', 'жилой', ' ', 'недвижимость', '\\n'],\n",
       " ['ремонт', ' ', 'жилье', '\\n'],\n",
       " ['покупка', ' ', 'жилье', ' ', 'для', ' ', 'сдача', '\\n'],\n",
       " ['покупка', ' ', 'жилой', ' ', 'недвижимость', '\\n'],\n",
       " ['приобретение', ' ', 'автомобиль', '\\n'],\n",
       " ['автомобиль', '\\n'],\n",
       " ['покупка', ' ', 'жилой', ' ', 'недвижимость', '\\n'],\n",
       " ['строительство', ' ', 'недвижимость', '\\n'],\n",
       " ['операция', ' ', 'со', ' ', 'свой', ' ', 'недвижимость', '\\n'],\n",
       " ['заниматься', ' ', 'образование', '\\n'],\n",
       " ['высокий', ' ', 'образование', '\\n'],\n",
       " ['операция', ' ', 'с', ' ', 'недвижимость', '\\n'],\n",
       " ['свой', ' ', 'автомобиль', '\\n'],\n",
       " ['операция', ' ', 'со', ' ', 'свой', ' ', 'недвижимость', '\\n'],\n",
       " ['получение', ' ', 'дополнительный', ' ', 'образование', '\\n'],\n",
       " ['на', ' ', 'проведение', ' ', 'свадьба', '\\n'],\n",
       " ['получение', ' ', 'дополнительный', ' ', 'образование', '\\n'],\n",
       " ['свадьба', '\\n'],\n",
       " ['дополнительный', ' ', 'образование', '\\n'],\n",
       " ['дополнительный', ' ', 'образование', '\\n'],\n",
       " ['операция', ' ', 'с', ' ', 'коммерческий', ' ', 'недвижимость', '\\n'],\n",
       " ['получение', ' ', 'образование', '\\n'],\n",
       " ['строительство', ' ', 'собственный', ' ', 'недвижимость', '\\n'],\n",
       " ['покупка', ' ', 'коммерческий', ' ', 'недвижимость', '\\n'],\n",
       " ['получение', ' ', 'дополнительный', ' ', 'образование', '\\n'],\n",
       " ['операция', ' ', 'с', ' ', 'недвижимость', '\\n'],\n",
       " ['жилье', '\\n'],\n",
       " ['автомобиль', '\\n'],\n",
       " ['покупка', ' ', 'коммерческий', ' ', 'недвижимость', '\\n'],\n",
       " ['автомобиль', '\\n'],\n",
       " ['автомобиль', '\\n'],\n",
       " ['на', ' ', 'покупка', ' ', 'автомобиль', '\\n'],\n",
       " ['сыграть', ' ', 'свадьба', '\\n'],\n",
       " ['ремонт', ' ', 'жилье', '\\n'],\n",
       " ['ремонт', ' ', 'жилье', '\\n'],\n",
       " ['получение', ' ', 'высокий', ' ', 'образование', '\\n'],\n",
       " ['автомобиль', '\\n'],\n",
       " ['на', ' ', 'проведение', ' ', 'свадьба', '\\n'],\n",
       " ['профильный', ' ', 'образование', '\\n'],\n",
       " ['свадьба', '\\n'],\n",
       " ['строительство', ' ', 'жилой', ' ', 'недвижимость', '\\n'],\n",
       " ['покупка', ' ', 'коммерческий', ' ', 'недвижимость', '\\n'],\n",
       " ['операция', ' ', 'с', ' ', 'недвижимость', '\\n'],\n",
       " ['покупка', ' ', 'жилье', ' ', 'для', ' ', 'семья', '\\n'],\n",
       " ['строительство', ' ', 'собственный', ' ', 'недвижимость', '\\n'],\n",
       " ['получение', ' ', 'образование', '\\n'],\n",
       " ['автомобиль', '\\n'],\n",
       " ['покупка', ' ', 'жилье', '\\n'],\n",
       " ['получение', ' ', 'образование', '\\n'],\n",
       " ['покупка', ' ', 'жилье', '\\n'],\n",
       " ['строительство', ' ', 'жилой', ' ', 'недвижимость', '\\n'],\n",
       " ['высокий', ' ', 'образование', '\\n'],\n",
       " ['покупка', ' ', 'жилье', ' ', 'для', ' ', 'семья', '\\n'],\n",
       " ['покупка', ' ', 'жилье', '\\n'],\n",
       " ['покупка', ' ', 'жилье', '\\n'],\n",
       " ['строительство', ' ', 'недвижимость', '\\n'],\n",
       " ['заниматься', ' ', 'высокий', ' ', 'образование', '\\n'],\n",
       " ['операция', ' ', 'с', ' ', 'жилье', '\\n'],\n",
       " ['на', ' ', 'проведение', ' ', 'свадьба', '\\n'],\n",
       " ['жилье', '\\n'],\n",
       " ['недвижимость', '\\n'],\n",
       " ['на', ' ', 'покупка', ' ', 'автомобиль', '\\n'],\n",
       " ['приобретение', ' ', 'автомобиль', '\\n'],\n",
       " ['строительство', ' ', 'недвижимость', '\\n'],\n",
       " ['покупка', ' ', 'коммерческий', ' ', 'недвижимость', '\\n'],\n",
       " ['сыграть', ' ', 'свадьба', '\\n'],\n",
       " ['жилье', '\\n'],\n",
       " ['на', ' ', 'покупка', ' ', 'подержать', ' ', 'автомобиль', '\\n'],\n",
       " ['свадьба', '\\n'],\n",
       " ['строительство', ' ', 'недвижимость', '\\n'],\n",
       " ['дополнительный', ' ', 'образование', '\\n'],\n",
       " ['получение', ' ', 'дополнительный', ' ', 'образование', '\\n'],\n",
       " ['операция', ' ', 'с', ' ', 'жилье', '\\n'],\n",
       " ['операция', ' ', 'с', ' ', 'недвижимость', '\\n'],\n",
       " ['строительство', ' ', 'жилой', ' ', 'недвижимость', '\\n'],\n",
       " ['строительство', ' ', 'жилой', ' ', 'недвижимость', '\\n'],\n",
       " ['покупка', ' ', 'жилье', ' ', 'для', ' ', 'семья', '\\n'],\n",
       " ['покупка', ' ', 'свой', ' ', 'жилье', '\\n'],\n",
       " ['операция', ' ', 'с', ' ', 'коммерческий', ' ', 'недвижимость', '\\n'],\n",
       " ['на', ' ', 'покупка', ' ', 'автомобиль', '\\n'],\n",
       " ['операция', ' ', 'с', ' ', 'жилье', '\\n'],\n",
       " ['недвижимость', '\\n'],\n",
       " ['ремонт', ' ', 'жилье', '\\n'],\n",
       " ['операция', ' ', 'с', ' ', 'недвижимость', '\\n'],\n",
       " ['покупка', ' ', 'жилой', ' ', 'недвижимость', '\\n'],\n",
       " ['покупка', ' ', 'жилой', ' ', 'недвижимость', '\\n'],\n",
       " ['приобретение', ' ', 'автомобиль', '\\n'],\n",
       " ['ремонт', ' ', 'жилье', '\\n'],\n",
       " ['высокий', ' ', 'образование', '\\n'],\n",
       " ['на', ' ', 'покупка', ' ', 'свой', ' ', 'автомобиль', '\\n'],\n",
       " ['профильный', ' ', 'образование', '\\n'],\n",
       " ['покупка', ' ', 'жилой', ' ', 'недвижимость', '\\n'],\n",
       " ['сделка', ' ', 'с', ' ', 'подержанный', ' ', 'автомобиль', '\\n'],\n",
       " ['заниматься', ' ', 'высокий', ' ', 'образование', '\\n'],\n",
       " ['жилье', '\\n'],\n",
       " ['строительство', ' ', 'недвижимость', '\\n'],\n",
       " ['ремонт', ' ', 'жилье', '\\n'],\n",
       " ['покупка', ' ', 'жилье', '\\n'],\n",
       " ['получение', ' ', 'дополнительный', ' ', 'образование', '\\n'],\n",
       " ['на', ' ', 'покупка', ' ', 'подержать', ' ', 'автомобиль', '\\n'],\n",
       " ['сделка', ' ', 'с', ' ', 'подержанный', ' ', 'автомобиль', '\\n'],\n",
       " ['строительство', ' ', 'жилой', ' ', 'недвижимость', '\\n'],\n",
       " ['получение', ' ', 'высокий', ' ', 'образование', '\\n'],\n",
       " ['на', ' ', 'покупка', ' ', 'свой', ' ', 'автомобиль', '\\n'],\n",
       " ['операция', ' ', 'с', ' ', 'недвижимость', '\\n'],\n",
       " ['свадьба', '\\n'],\n",
       " ['операция', ' ', 'с', ' ', 'коммерческий', ' ', 'недвижимость', '\\n'],\n",
       " ['ремонт', ' ', 'жилье', '\\n'],\n",
       " ['покупка', ' ', 'коммерческий', ' ', 'недвижимость', '\\n'],\n",
       " ['покупка', ' ', 'коммерческий', ' ', 'недвижимость', '\\n'],\n",
       " ['операция', ' ', 'с', ' ', 'недвижимость', '\\n'],\n",
       " ['операция', ' ', 'с', ' ', 'недвижимость', '\\n'],\n",
       " ['на', ' ', 'покупка', ' ', 'автомобиль', '\\n'],\n",
       " ['строительство', ' ', 'жилой', ' ', 'недвижимость', '\\n'],\n",
       " ['получение', ' ', 'образование', '\\n'],\n",
       " ['покупка', ' ', 'жилье', ' ', 'для', ' ', 'сдача', '\\n'],\n",
       " ['строительство', ' ', 'жилой', ' ', 'недвижимость', '\\n'],\n",
       " ['автомобиль', '\\n'],\n",
       " ['на', ' ', 'покупка', ' ', 'подержать', ' ', 'автомобиль', '\\n'],\n",
       " ['сыграть', ' ', 'свадьба', '\\n'],\n",
       " ['получение', ' ', 'образование', '\\n'],\n",
       " ['покупка', ' ', 'жилье', '\\n'],\n",
       " ['на', ' ', 'покупка', ' ', 'свой', ' ', 'автомобиль', '\\n'],\n",
       " ['свадьба', '\\n'],\n",
       " ['получение', ' ', 'образование', '\\n'],\n",
       " ['сыграть', ' ', 'свадьба', '\\n'],\n",
       " ['ремонт', ' ', 'жилье', '\\n'],\n",
       " ['автомобиль', '\\n'],\n",
       " ['строительство', ' ', 'жилой', ' ', 'недвижимость', '\\n'],\n",
       " ['на', ' ', 'проведение', ' ', 'свадьба', '\\n'],\n",
       " ['покупка', ' ', 'недвижимость', '\\n'],\n",
       " ['сделка', ' ', 'с', ' ', 'автомобиль', '\\n'],\n",
       " ['на', ' ', 'покупка', ' ', 'свой', ' ', 'автомобиль', '\\n'],\n",
       " ['покупка', ' ', 'свой', ' ', 'жилье', '\\n'],\n",
       " ['на', ' ', 'покупка', ' ', 'свой', ' ', 'автомобиль', '\\n'],\n",
       " ['заниматься', ' ', 'образование', '\\n'],\n",
       " ['операция', ' ', 'с', ' ', 'жилье', '\\n'],\n",
       " ['получение', ' ', 'дополнительный', ' ', 'образование', '\\n'],\n",
       " ['покупка', ' ', 'жилье', ' ', 'для', ' ', 'сдача', '\\n'],\n",
       " ['покупка', ' ', 'недвижимость', '\\n'],\n",
       " ['свадьба', '\\n'],\n",
       " ['на', ' ', 'покупка', ' ', 'свой', ' ', 'автомобиль', '\\n'],\n",
       " ['строительство', ' ', 'недвижимость', '\\n'],\n",
       " ['покупка', ' ', 'недвижимость', '\\n'],\n",
       " ['свадьба', '\\n'],\n",
       " ['заниматься', ' ', 'образование', '\\n'],\n",
       " ['покупка', ' ', 'коммерческий', ' ', 'недвижимость', '\\n'],\n",
       " ['на', ' ', 'покупка', ' ', 'автомобиль', '\\n'],\n",
       " ['сыграть', ' ', 'свадьба', '\\n'],\n",
       " ['образование', '\\n'],\n",
       " ['дополнительный', ' ', 'образование', '\\n'],\n",
       " ['строительство', ' ', 'недвижимость', '\\n'],\n",
       " ['операция', ' ', 'с', ' ', 'жилье', '\\n'],\n",
       " ['недвижимость', '\\n'],\n",
       " ['заниматься', ' ', 'образование', '\\n'],\n",
       " ['свадьба', '\\n'],\n",
       " ['получение', ' ', 'дополнительный', ' ', 'образование', '\\n'],\n",
       " ['сделка', ' ', 'с', ' ', 'подержанный', ' ', 'автомобиль', '\\n'],\n",
       " ['на', ' ', 'проведение', ' ', 'свадьба', '\\n'],\n",
       " ['сыграть', ' ', 'свадьба', '\\n'],\n",
       " ['на', ' ', 'покупка', ' ', 'свой', ' ', 'автомобиль', '\\n'],\n",
       " ['покупка', ' ', 'жилье', '\\n'],\n",
       " ['покупка', ' ', 'жилье', ' ', 'для', ' ', 'семья', '\\n'],\n",
       " ['автомобиль', '\\n'],\n",
       " ['операция', ' ', 'с', ' ', 'коммерческий', ' ', 'недвижимость', '\\n'],\n",
       " ['приобретение', ' ', 'автомобиль', '\\n'],\n",
       " ['профильный', ' ', 'образование', '\\n'],\n",
       " ['высокий', ' ', 'образование', '\\n'],\n",
       " ['свадьба', '\\n'],\n",
       " ['автомобиль', '\\n'],\n",
       " ['строительство', ' ', 'собственный', ' ', 'недвижимость', '\\n'],\n",
       " ['на', ' ', 'покупка', ' ', 'свой', ' ', 'автомобиль', '\\n'],\n",
       " ['покупка', ' ', 'жилье', '\\n'],\n",
       " ['ремонт', ' ', 'жилье', '\\n'],\n",
       " ['приобретение', ' ', 'автомобиль', '\\n'],\n",
       " ['приобретение', ' ', 'автомобиль', '\\n'],\n",
       " ['жилье', '\\n'],\n",
       " ['покупка', ' ', 'коммерческий', ' ', 'недвижимость', '\\n'],\n",
       " ['образование', '\\n'],\n",
       " ['получение', ' ', 'высокий', ' ', 'образование', '\\n'],\n",
       " ['операция', ' ', 'со', ' ', 'свой', ' ', 'недвижимость', '\\n'],\n",
       " ['строительство', ' ', 'жилой', ' ', 'недвижимость', '\\n'],\n",
       " ['покупка', ' ', 'жилье', ' ', 'для', ' ', 'семья', '\\n'],\n",
       " ['покупка', ' ', 'недвижимость', '\\n'],\n",
       " ['автомобиль', '\\n'],\n",
       " ['операция', ' ', 'с', ' ', 'жилье', '\\n'],\n",
       " ['автомобиль', '\\n'],\n",
       " ['сделка', ' ', 'с', ' ', 'подержанный', ' ', 'автомобиль', '\\n'],\n",
       " ['покупка', ' ', 'жилье', ' ', 'для', ' ', 'сдача', '\\n'],\n",
       " ['строительство', ' ', 'недвижимость', '\\n'],\n",
       " ['сделка', ' ', 'с', ' ', 'автомобиль', '\\n'],\n",
       " ['приобретение', ' ', 'автомобиль', '\\n'],\n",
       " ['операция', ' ', 'с', ' ', 'жилье', '\\n'],\n",
       " ['высокий', ' ', 'образование', '\\n'],\n",
       " ['свой', ' ', 'автомобиль', '\\n'],\n",
       " ['заниматься', ' ', 'образование', '\\n'],\n",
       " ['на', ' ', 'проведение', ' ', 'свадьба', '\\n'],\n",
       " ['ремонт', ' ', 'жилье', '\\n'],\n",
       " ['покупка', ' ', 'недвижимость', '\\n'],\n",
       " ['получение', ' ', 'образование', '\\n'],\n",
       " ['жилье', '\\n'],\n",
       " ['на', ' ', 'покупка', ' ', 'автомобиль', '\\n'],\n",
       " ['покупка', ' ', 'недвижимость', '\\n'],\n",
       " ['ремонт', ' ', 'жилье', '\\n'],\n",
       " ['профильный', ' ', 'образование', '\\n'],\n",
       " ['профильный', ' ', 'образование', '\\n'],\n",
       " ['покупка', ' ', 'жилье', '\\n'],\n",
       " ['операция', ' ', 'с', ' ', 'жилье', '\\n'],\n",
       " ['получение', ' ', 'дополнительный', ' ', 'образование', '\\n'],\n",
       " ['на', ' ', 'проведение', ' ', 'свадьба', '\\n'],\n",
       " ['получение', ' ', 'образование', '\\n'],\n",
       " ['сделка', ' ', 'с', ' ', 'автомобиль', '\\n'],\n",
       " ['сыграть', ' ', 'свадьба', '\\n'],\n",
       " ['заниматься', ' ', 'образование', '\\n'],\n",
       " ['покупка', ' ', 'коммерческий', ' ', 'недвижимость', '\\n'],\n",
       " ['получение', ' ', 'высокий', ' ', 'образование', '\\n'],\n",
       " ['операция', ' ', 'с', ' ', 'недвижимость', '\\n'],\n",
       " ['получение', ' ', 'дополнительный', ' ', 'образование', '\\n'],\n",
       " ['покупка', ' ', 'жилье', ' ', 'для', ' ', 'сдача', '\\n'],\n",
       " ...]"
      ]
     },
     "execution_count": 6,
     "metadata": {},
     "output_type": "execute_result"
    }
   ],
   "source": [
    "purposes = data['purpose']\n",
    "\n",
    "# To categorize loan purposes lemmatization\n",
    "# is performed in the purpose column.\n",
    "# The results are listed in lemmas. The PyMyStem library is used.\n",
    "m = Mystem()   \n",
    "lemmas = []\n",
    "for row in purposes:\n",
    "    lemma = m.lemmatize(row)\n",
    "    lemmas.append(lemma)\n",
    "\n",
    "lemmas"
   ]
  },
  {
   "cell_type": "markdown",
   "metadata": {},
   "source": [
    "**Conclusion**"
   ]
  },
  {
   "cell_type": "markdown",
   "metadata": {},
   "source": [
    "For the categorization of loan purposes, lemmatization was carried out in the **purpose** column using the **PyMyStem** library. Lemmatization results are listed in **lemmas**. All purposes of the loan can be reduced to five lemmas (categories):\n",
    "* housing (жилье)\n",
    "* car (автомобиль)\n",
    "* wedding (свадьба)\n",
    "* education (образование)\n",
    "* real estate (недвижимость)\n",
    "\n",
    "This will be the category dictionary."
   ]
  },
  {
   "cell_type": "markdown",
   "metadata": {},
   "source": [
    "### Data Categorization"
   ]
  },
  {
   "cell_type": "markdown",
   "metadata": {},
   "source": [
    "Let's create a list with categories corresponding to each lemma.  \n",
    "0 - housing (жилье)  \n",
    "1 - car (автомобиль)  \n",
    "2 - wedding (свадьба)  \n",
    "3 - education (образование)  \n",
    "4 - real estate (недвижимость)"
   ]
  },
  {
   "cell_type": "code",
   "execution_count": 7,
   "metadata": {
    "scrolled": true
   },
   "outputs": [
    {
     "name": "stdout",
     "output_type": "stream",
     "text": [
      "\u001b[1mTable 11. The dataset after adding the purpose_category column\n"
     ]
    },
    {
     "data": {
      "text/html": [
       "<div>\n",
       "<style scoped>\n",
       "    .dataframe tbody tr th:only-of-type {\n",
       "        vertical-align: middle;\n",
       "    }\n",
       "\n",
       "    .dataframe tbody tr th {\n",
       "        vertical-align: top;\n",
       "    }\n",
       "\n",
       "    .dataframe thead th {\n",
       "        text-align: right;\n",
       "    }\n",
       "</style>\n",
       "<table border=\"1\" class=\"dataframe\">\n",
       "  <thead>\n",
       "    <tr style=\"text-align: right;\">\n",
       "      <th></th>\n",
       "      <th>children</th>\n",
       "      <th>days_employed</th>\n",
       "      <th>dob_years</th>\n",
       "      <th>education</th>\n",
       "      <th>education_id</th>\n",
       "      <th>family_status</th>\n",
       "      <th>family_status_id</th>\n",
       "      <th>gender</th>\n",
       "      <th>income_type</th>\n",
       "      <th>debt</th>\n",
       "      <th>total_income</th>\n",
       "      <th>purpose</th>\n",
       "      <th>purpose_category</th>\n",
       "    </tr>\n",
       "  </thead>\n",
       "  <tbody>\n",
       "    <tr>\n",
       "      <th>0</th>\n",
       "      <td>1</td>\n",
       "      <td>8437</td>\n",
       "      <td>42</td>\n",
       "      <td>высшее</td>\n",
       "      <td>0</td>\n",
       "      <td>женат / замужем</td>\n",
       "      <td>0</td>\n",
       "      <td>F</td>\n",
       "      <td>сотрудник</td>\n",
       "      <td>0</td>\n",
       "      <td>253875</td>\n",
       "      <td>покупка жилья</td>\n",
       "      <td>0</td>\n",
       "    </tr>\n",
       "    <tr>\n",
       "      <th>1</th>\n",
       "      <td>1</td>\n",
       "      <td>4024</td>\n",
       "      <td>36</td>\n",
       "      <td>среднее</td>\n",
       "      <td>1</td>\n",
       "      <td>женат / замужем</td>\n",
       "      <td>0</td>\n",
       "      <td>F</td>\n",
       "      <td>сотрудник</td>\n",
       "      <td>0</td>\n",
       "      <td>112080</td>\n",
       "      <td>приобретение автомобиля</td>\n",
       "      <td>1</td>\n",
       "    </tr>\n",
       "    <tr>\n",
       "      <th>2</th>\n",
       "      <td>0</td>\n",
       "      <td>5623</td>\n",
       "      <td>33</td>\n",
       "      <td>среднее</td>\n",
       "      <td>1</td>\n",
       "      <td>женат / замужем</td>\n",
       "      <td>0</td>\n",
       "      <td>M</td>\n",
       "      <td>сотрудник</td>\n",
       "      <td>0</td>\n",
       "      <td>145885</td>\n",
       "      <td>покупка жилья</td>\n",
       "      <td>0</td>\n",
       "    </tr>\n",
       "    <tr>\n",
       "      <th>3</th>\n",
       "      <td>3</td>\n",
       "      <td>4124</td>\n",
       "      <td>32</td>\n",
       "      <td>среднее</td>\n",
       "      <td>1</td>\n",
       "      <td>женат / замужем</td>\n",
       "      <td>0</td>\n",
       "      <td>M</td>\n",
       "      <td>сотрудник</td>\n",
       "      <td>0</td>\n",
       "      <td>267628</td>\n",
       "      <td>дополнительное образование</td>\n",
       "      <td>3</td>\n",
       "    </tr>\n",
       "    <tr>\n",
       "      <th>4</th>\n",
       "      <td>0</td>\n",
       "      <td>14177</td>\n",
       "      <td>53</td>\n",
       "      <td>среднее</td>\n",
       "      <td>1</td>\n",
       "      <td>гражданский брак</td>\n",
       "      <td>1</td>\n",
       "      <td>F</td>\n",
       "      <td>пенсионер</td>\n",
       "      <td>0</td>\n",
       "      <td>158616</td>\n",
       "      <td>сыграть свадьбу</td>\n",
       "      <td>2</td>\n",
       "    </tr>\n",
       "    <tr>\n",
       "      <th>5</th>\n",
       "      <td>0</td>\n",
       "      <td>926</td>\n",
       "      <td>27</td>\n",
       "      <td>высшее</td>\n",
       "      <td>0</td>\n",
       "      <td>гражданский брак</td>\n",
       "      <td>1</td>\n",
       "      <td>M</td>\n",
       "      <td>компаньон</td>\n",
       "      <td>0</td>\n",
       "      <td>255763</td>\n",
       "      <td>покупка жилья</td>\n",
       "      <td>0</td>\n",
       "    </tr>\n",
       "    <tr>\n",
       "      <th>6</th>\n",
       "      <td>0</td>\n",
       "      <td>2879</td>\n",
       "      <td>43</td>\n",
       "      <td>высшее</td>\n",
       "      <td>0</td>\n",
       "      <td>женат / замужем</td>\n",
       "      <td>0</td>\n",
       "      <td>F</td>\n",
       "      <td>компаньон</td>\n",
       "      <td>0</td>\n",
       "      <td>240525</td>\n",
       "      <td>операции с жильем</td>\n",
       "      <td>0</td>\n",
       "    </tr>\n",
       "    <tr>\n",
       "      <th>7</th>\n",
       "      <td>0</td>\n",
       "      <td>152</td>\n",
       "      <td>50</td>\n",
       "      <td>среднее</td>\n",
       "      <td>1</td>\n",
       "      <td>женат / замужем</td>\n",
       "      <td>0</td>\n",
       "      <td>M</td>\n",
       "      <td>сотрудник</td>\n",
       "      <td>0</td>\n",
       "      <td>135823</td>\n",
       "      <td>образование</td>\n",
       "      <td>3</td>\n",
       "    </tr>\n",
       "    <tr>\n",
       "      <th>8</th>\n",
       "      <td>2</td>\n",
       "      <td>6929</td>\n",
       "      <td>35</td>\n",
       "      <td>высшее</td>\n",
       "      <td>0</td>\n",
       "      <td>гражданский брак</td>\n",
       "      <td>1</td>\n",
       "      <td>F</td>\n",
       "      <td>сотрудник</td>\n",
       "      <td>0</td>\n",
       "      <td>95856</td>\n",
       "      <td>на проведение свадьбы</td>\n",
       "      <td>2</td>\n",
       "    </tr>\n",
       "    <tr>\n",
       "      <th>9</th>\n",
       "      <td>0</td>\n",
       "      <td>2188</td>\n",
       "      <td>41</td>\n",
       "      <td>среднее</td>\n",
       "      <td>1</td>\n",
       "      <td>женат / замужем</td>\n",
       "      <td>0</td>\n",
       "      <td>M</td>\n",
       "      <td>сотрудник</td>\n",
       "      <td>0</td>\n",
       "      <td>144425</td>\n",
       "      <td>покупка жилья для семьи</td>\n",
       "      <td>0</td>\n",
       "    </tr>\n",
       "  </tbody>\n",
       "</table>\n",
       "</div>"
      ],
      "text/plain": [
       "   children  days_employed  dob_years education  education_id  \\\n",
       "0         1           8437         42    высшее             0   \n",
       "1         1           4024         36   среднее             1   \n",
       "2         0           5623         33   среднее             1   \n",
       "3         3           4124         32   среднее             1   \n",
       "4         0          14177         53   среднее             1   \n",
       "5         0            926         27    высшее             0   \n",
       "6         0           2879         43    высшее             0   \n",
       "7         0            152         50   среднее             1   \n",
       "8         2           6929         35    высшее             0   \n",
       "9         0           2188         41   среднее             1   \n",
       "\n",
       "      family_status  family_status_id gender income_type  debt  total_income  \\\n",
       "0   женат / замужем                 0      F   сотрудник     0        253875   \n",
       "1   женат / замужем                 0      F   сотрудник     0        112080   \n",
       "2   женат / замужем                 0      M   сотрудник     0        145885   \n",
       "3   женат / замужем                 0      M   сотрудник     0        267628   \n",
       "4  гражданский брак                 1      F   пенсионер     0        158616   \n",
       "5  гражданский брак                 1      M   компаньон     0        255763   \n",
       "6   женат / замужем                 0      F   компаньон     0        240525   \n",
       "7   женат / замужем                 0      M   сотрудник     0        135823   \n",
       "8  гражданский брак                 1      F   сотрудник     0         95856   \n",
       "9   женат / замужем                 0      M   сотрудник     0        144425   \n",
       "\n",
       "                      purpose  purpose_category  \n",
       "0               покупка жилья                 0  \n",
       "1     приобретение автомобиля                 1  \n",
       "2               покупка жилья                 0  \n",
       "3  дополнительное образование                 3  \n",
       "4             сыграть свадьбу                 2  \n",
       "5               покупка жилья                 0  \n",
       "6           операции с жильем                 0  \n",
       "7                 образование                 3  \n",
       "8       на проведение свадьбы                 2  \n",
       "9     покупка жилья для семьи                 0  "
      ]
     },
     "metadata": {},
     "output_type": "display_data"
    }
   ],
   "source": [
    "categories = []\n",
    "for string in lemmas:\n",
    "    if 'жилье' in string:\n",
    "        categories.append(0)\n",
    "    if 'автомобиль' in string:\n",
    "        categories.append(1)\n",
    "    if 'свадьба' in string:\n",
    "        categories.append(2)\n",
    "    if 'образование' in string:\n",
    "        categories.append(3)\n",
    "    if 'недвижимость'in string:\n",
    "        categories.append(4)\n",
    "# Add the list to the dataset.      \n",
    "data['purpose_category'] = categories\n",
    "\n",
    "print('\\033[1m' + 'Table 11. The dataset after adding the ' +\n",
    "     'purpose_category column') \n",
    "display(data.head(10))"
   ]
  },
  {
   "cell_type": "markdown",
   "metadata": {},
   "source": [
    "**Conclusion**"
   ]
  },
  {
   "cell_type": "markdown",
   "metadata": {},
   "source": [
    "We have created a list of categories **categories** corresponding to each lemma. This list is added to the **data** table, following the **purpose** column."
   ]
  },
  {
   "cell_type": "markdown",
   "metadata": {},
   "source": [
    "## Hypothesis testing"
   ]
  },
  {
   "cell_type": "markdown",
   "metadata": {},
   "source": [
    "- Is there a relationship between having children and repaying the loan on time?"
   ]
  },
  {
   "cell_type": "code",
   "execution_count": 8,
   "metadata": {},
   "outputs": [
    {
     "data": {
      "text/plain": [
       "children\n",
       "0    0.075353\n",
       "1    0.091639\n",
       "2    0.094542\n",
       "3    0.081818\n",
       "4    0.097561\n",
       "5    0.094118\n",
       "Name: debt, dtype: float64"
      ]
     },
     "metadata": {},
     "output_type": "display_data"
    }
   ],
   "source": [
    "# Let's change the number of children from 20 to 5 \n",
    "# (20 children in a family is an anomaly).\n",
    "data['children'] = data['children'].replace(20, 5)\n",
    "# Find out the proportion of clients who did not repay \n",
    "# their debt on time of the total number of clients, \n",
    "# broken down by the number of children.\n",
    "# Create a function.\n",
    "def get_ratio_debt(dataset, column_name):\n",
    "    ratio = dataset.groupby(column_name)['debt'].mean()\n",
    "    return ratio\n",
    "    \n",
    "part_by_children = get_ratio_debt(data, 'children')\n",
    "display(part_by_children)"
   ]
  },
  {
   "cell_type": "markdown",
   "metadata": {},
   "source": [
    "**Conclusion**"
   ]
  },
  {
   "cell_type": "markdown",
   "metadata": {},
   "source": [
    "It is worth noting that during the construction of this table an anomaly was found in the children column.\n",
    "76 clients have 20 children in the family.\n",
    "It was decided to classify these cases in the category of \"5 children in the family\", as the closest \"size\" category.\n",
    "The calculation of the proportion of clients who did not repay their debt on time out of the total number of clients, broken down by the number of children in the family, confirms the existence of a relationship between the presence of children and the repayment of a loan on time among these clients.\n",
    "Clients without children are more likely to repay loans on time than clients with children by 1.5%. Having examined clients who have children, it was not possible to draw a clear conclusion about the relationship between the number of children and the repayment of the loan on time. In about 9% of cases, clients with children do not repay the loan on time."
   ]
  },
  {
   "cell_type": "markdown",
   "metadata": {},
   "source": [
    "- Is there a relationship between marital status and loan repayment on time?"
   ]
  },
  {
   "cell_type": "code",
   "execution_count": 9,
   "metadata": {},
   "outputs": [
    {
     "data": {
      "text/plain": [
       "family_status\n",
       "Не женат / не замужем    0.097509\n",
       "гражданский брак         0.093202\n",
       "женат / замужем          0.075421\n",
       "в разводе                0.071130\n",
       "вдовец / вдова           0.065693\n",
       "Name: debt, dtype: float64"
      ]
     },
     "metadata": {},
     "output_type": "display_data"
    }
   ],
   "source": [
    "# Calculate the share of clients who did not repay \n",
    "# the loan on time, disaggregated by marital status.\n",
    "# For clarity, the sort_values() sorting method is used.\n",
    "part_by_family_status = get_ratio_debt(data, 'family_status')\n",
    "display(part_by_family_status.sort_values(ascending=False))"
   ]
  },
  {
   "cell_type": "markdown",
   "metadata": {},
   "source": [
    "**Conclusion**"
   ]
  },
  {
   "cell_type": "markdown",
   "metadata": {},
   "source": [
    "The calculation of the proportion of clients who did not repay the loan on time out of the total number of clients, broken down by marital status, confirms the existence of a relationship between marital status and loan repayment on time among these clients.  \n",
    "Clients who have not formalized their relationship more often do not repay the loan on time (9-10%) than clients who are married or have had experience of married life (7-8%).  \n",
    "It is worth noting that when compiling the types of marital status, the bank misinterpreted the concept of civil marriage.  \n",
    "The categories \"civil marriage\" and \"married / married\" are one and the same. The bank implies that a civil marriage is the cohabitation of people who are in a relationship, without official registration of relations with the authorities. So it was worth calling this category - \"cohabitation\"."
   ]
  },
  {
   "cell_type": "markdown",
   "metadata": {},
   "source": [
    "- Is there a relationship between the level of income and repayment of the loan on time?"
   ]
  },
  {
   "cell_type": "code",
   "execution_count": 10,
   "metadata": {},
   "outputs": [
    {
     "data": {
      "text/plain": [
       "income_group\n",
       "middle class                 0.084161\n",
       "above than average salary    0.080585\n",
       "above the middle class       0.080196\n",
       "less than average salary     0.053333\n",
       "Name: debt, dtype: float64"
      ]
     },
     "metadata": {},
     "output_type": "display_data"
    }
   ],
   "source": [
    "# To identify the dependence, it is necessary to divide \n",
    "# the income of clients into several groups and categorize. \n",
    "# Let's create a function:\n",
    "def income_group(total_income):\n",
    "    if total_income <= 36000:\n",
    "        return 'less than average salary'\n",
    "    if total_income <= 97000:\n",
    "        return 'above than average salary'\n",
    "    if total_income <= 136000:\n",
    "        return 'middle class'\n",
    "    return 'above the middle class'\n",
    "\n",
    "data['income_group'] = data['total_income'].apply(income_group)\n",
    "\n",
    "# Calculate the proportion of clients who did not repay \n",
    "# the loan on time, by income category.\n",
    "# For clarity, the sort_values() sorting method is used.\n",
    "part_by_income_group = get_ratio_debt(data, 'income_group')\n",
    "display(part_by_income_group.sort_values(ascending=False))"
   ]
  },
  {
   "cell_type": "markdown",
   "metadata": {},
   "source": [
    "**Conclusion**"
   ]
  },
  {
   "cell_type": "markdown",
   "metadata": {},
   "source": [
    "In order to correctly determine the presence of a relationship between the level of income and repayment of the loan on time, the categorization of clients' incomes was carried out.  \n",
    "Based on the average monthly per capita income of the Russian Federation in 2020 according to Rosstat (approximately 36,000 rubles).  \n",
    "Further, the categories \"above than average salary\", \"middle class\" and \"above middle class\" were speculatively created. It is worth noting that the concept of the middle class has many different interpretations, and, of course, does not have an exact limit in the amount of the average monthly income of a person.\n",
    "The calculation of the proportion of clients who did not repay their debt on time out of the total number of clients by income category confirms the existence of a relationship between the level of income and repayment of the loan on time among these clients.\n",
    "Thus, representatives of the categories \"middle class\", \"above the middle class\", \"above average salary\" repay the loan with violation of terms by about 3% more often than representatives of the category \"less than average salary\"."
   ]
  },
  {
   "cell_type": "markdown",
   "metadata": {},
   "source": [
    "- How do different purposes of the loan affect its repayment on time?"
   ]
  },
  {
   "cell_type": "markdown",
   "metadata": {},
   "source": [
    "Remind the categories:  \n",
    "0 - housing (жилье)  \n",
    "1 - car (автомобиль)  \n",
    "2 - wedding (свадьба)  \n",
    "3 - education (образование)  \n",
    "4 - real estate (недвижимость)"
   ]
  },
  {
   "cell_type": "code",
   "execution_count": 11,
   "metadata": {},
   "outputs": [
    {
     "data": {
      "text/plain": [
       "purpose_category\n",
       "1    0.093547\n",
       "3    0.092177\n",
       "2    0.079657\n",
       "4    0.074610\n",
       "0    0.069043\n",
       "Name: debt, dtype: float64"
      ]
     },
     "metadata": {},
     "output_type": "display_data"
    }
   ],
   "source": [
    "# Calculate the proportion of customers who did not repay \n",
    "# the loan on time, broken down by category of purpose \n",
    "# of obtaining a loan.\n",
    "# For clarity, the sort_values() sorting method is used.\n",
    "part_by_purpose_category = get_ratio_debt(data, 'purpose_category')\n",
    "display(part_by_purpose_category.sort_values(ascending=False))"
   ]
  },
  {
   "cell_type": "markdown",
   "metadata": {},
   "source": [
    "**Conclusion**"
   ]
  },
  {
   "cell_type": "markdown",
   "metadata": {},
   "source": [
    "Calculation of the share of clients who did not repay their debt on time out of the total number of clients, broken down by categories of purposes for obtaining a loan, confirms the existence of a relationship between the objectives of the loan and repayment of the loan on time among these clients.  \n",
    "Thus, in the categories \"car\" and \"education\" client do not repay the loan on time in about 9% of cases.  \n",
    "In the \"wedding\" and \"real estate\" categories, cleints do not repay the loan on time in about 8% of cases.  \n",
    "In the \"housing\" category, clients do not repay the loan on time the least - in 7% of cases."
   ]
  },
  {
   "cell_type": "markdown",
   "metadata": {},
   "source": [
    "## General conclusion"
   ]
  },
  {
   "cell_type": "markdown",
   "metadata": {},
   "source": [
    "Statistics analysis on the solvency of customers made it possible to make 3 statements:\n",
    "1. Clients without children are more likely to repay the loan on time than clients with children. The number of children does not affect the fulfillment of the loan obligation.\n",
    "2. Clients who have not formalized their relationship are more likely to violate the loan repayment terms than clients who are married or have previously had married life.\n",
    "3. Clients who have taken out a loan for housing needs are more likely to repay it on time. Least of all, loans taken for needs related to a car and education are returned on time."
   ]
  }
 ],
 "metadata": {
  "ExecuteTimeLog": [
   {
    "duration": 793,
    "start_time": "2021-08-10T08:41:22.873Z"
   },
   {
    "duration": 61,
    "start_time": "2021-08-10T08:41:26.531Z"
   },
   {
    "duration": 61,
    "start_time": "2021-08-10T08:41:57.341Z"
   },
   {
    "duration": 70,
    "start_time": "2021-08-10T08:42:21.860Z"
   },
   {
    "duration": 80,
    "start_time": "2021-08-10T08:48:39.854Z"
   },
   {
    "duration": 647,
    "start_time": "2021-08-10T15:11:29.187Z"
   },
   {
    "duration": 63,
    "start_time": "2021-08-10T15:12:09.188Z"
   },
   {
    "duration": 60,
    "start_time": "2021-08-10T15:38:38.936Z"
   },
   {
    "duration": 61,
    "start_time": "2021-08-10T15:55:37.833Z"
   },
   {
    "duration": 72,
    "start_time": "2021-08-10T16:12:03.223Z"
   },
   {
    "duration": 67,
    "start_time": "2021-08-10T16:15:02.198Z"
   },
   {
    "duration": 63,
    "start_time": "2021-08-10T17:03:02.024Z"
   },
   {
    "duration": 61,
    "start_time": "2021-08-10T17:03:19.079Z"
   },
   {
    "duration": 10,
    "start_time": "2021-08-10T18:22:06.630Z"
   },
   {
    "duration": 64,
    "start_time": "2021-08-10T18:24:44.950Z"
   },
   {
    "duration": 12,
    "start_time": "2021-08-10T18:32:32.403Z"
   },
   {
    "duration": 225,
    "start_time": "2021-08-10T18:33:07.148Z"
   },
   {
    "duration": 13,
    "start_time": "2021-08-10T18:33:17.470Z"
   },
   {
    "duration": 12,
    "start_time": "2021-08-10T18:33:35.510Z"
   },
   {
    "duration": 14,
    "start_time": "2021-08-10T18:43:42.244Z"
   },
   {
    "duration": 12,
    "start_time": "2021-08-10T18:43:49.347Z"
   },
   {
    "duration": 8,
    "start_time": "2021-08-10T18:44:10.694Z"
   },
   {
    "duration": 299,
    "start_time": "2021-08-10T18:59:10.538Z"
   },
   {
    "duration": 4,
    "start_time": "2021-08-10T19:00:05.364Z"
   },
   {
    "duration": 3,
    "start_time": "2021-08-10T19:00:12.876Z"
   },
   {
    "duration": 4,
    "start_time": "2021-08-10T19:01:05.555Z"
   },
   {
    "duration": 4,
    "start_time": "2021-08-10T19:01:11.138Z"
   },
   {
    "duration": 4,
    "start_time": "2021-08-10T19:01:14.266Z"
   },
   {
    "duration": 278,
    "start_time": "2021-08-10T19:01:49.618Z"
   },
   {
    "duration": -1084,
    "start_time": "2021-08-10T19:03:22.570Z"
   },
   {
    "duration": 7,
    "start_time": "2021-08-10T19:03:33.304Z"
   },
   {
    "duration": 5,
    "start_time": "2021-08-10T19:03:47.200Z"
   },
   {
    "duration": 300,
    "start_time": "2021-08-10T19:04:32.495Z"
   },
   {
    "duration": 4364,
    "start_time": "2021-08-10T19:06:14.350Z"
   },
   {
    "duration": 3,
    "start_time": "2021-08-10T19:06:39.781Z"
   },
   {
    "duration": 4,
    "start_time": "2021-08-10T19:06:45.028Z"
   },
   {
    "duration": 3,
    "start_time": "2021-08-10T19:06:47.605Z"
   },
   {
    "duration": 4,
    "start_time": "2021-08-10T19:06:51.149Z"
   },
   {
    "duration": 6,
    "start_time": "2021-08-10T19:07:02.205Z"
   },
   {
    "duration": 5,
    "start_time": "2021-08-10T19:07:06.109Z"
   },
   {
    "duration": 54,
    "start_time": "2021-08-10T19:08:01.668Z"
   },
   {
    "duration": 290,
    "start_time": "2021-08-10T19:08:20.363Z"
   },
   {
    "duration": 289,
    "start_time": "2021-08-10T19:08:36.587Z"
   },
   {
    "duration": 290,
    "start_time": "2021-08-10T19:10:27.146Z"
   },
   {
    "duration": 10,
    "start_time": "2021-08-10T19:12:01.721Z"
   },
   {
    "duration": 11,
    "start_time": "2021-08-10T19:12:21.240Z"
   },
   {
    "duration": 10,
    "start_time": "2021-08-10T19:12:25.504Z"
   },
   {
    "duration": 11,
    "start_time": "2021-08-10T19:17:27.123Z"
   },
   {
    "duration": 10,
    "start_time": "2021-08-10T19:17:57.075Z"
   },
   {
    "duration": 11,
    "start_time": "2021-08-10T19:40:10.633Z"
   },
   {
    "duration": 17,
    "start_time": "2021-08-10T19:40:25.286Z"
   },
   {
    "duration": 18,
    "start_time": "2021-08-10T19:41:00.589Z"
   },
   {
    "duration": 17,
    "start_time": "2021-08-10T19:45:31.326Z"
   },
   {
    "duration": 10,
    "start_time": "2021-08-10T20:22:44.032Z"
   },
   {
    "duration": 14,
    "start_time": "2021-08-10T20:24:27.360Z"
   },
   {
    "duration": 171,
    "start_time": "2021-08-10T20:24:53.225Z"
   },
   {
    "duration": 179,
    "start_time": "2021-08-10T20:25:02.144Z"
   },
   {
    "duration": 2300,
    "start_time": "2021-08-10T20:25:06.232Z"
   },
   {
    "duration": 1244,
    "start_time": "2021-08-10T20:25:14.648Z"
   },
   {
    "duration": 77,
    "start_time": "2021-08-10T20:26:14.503Z"
   },
   {
    "duration": 67,
    "start_time": "2021-08-10T20:26:22.448Z"
   },
   {
    "duration": 189,
    "start_time": "2021-08-10T20:26:45.823Z"
   },
   {
    "duration": 13,
    "start_time": "2021-08-10T20:27:07.623Z"
   },
   {
    "duration": 11,
    "start_time": "2021-08-10T20:28:12.957Z"
   },
   {
    "duration": 18,
    "start_time": "2021-08-10T20:28:40.069Z"
   },
   {
    "duration": 22,
    "start_time": "2021-08-10T20:39:35.032Z"
   },
   {
    "duration": 23,
    "start_time": "2021-08-10T20:40:20.145Z"
   },
   {
    "duration": 24,
    "start_time": "2021-08-10T20:40:29.457Z"
   },
   {
    "duration": 327,
    "start_time": "2021-08-11T08:04:02.940Z"
   },
   {
    "duration": 266,
    "start_time": "2021-08-11T08:04:46.188Z"
   },
   {
    "duration": 277,
    "start_time": "2021-08-11T08:05:06.692Z"
   },
   {
    "duration": 604,
    "start_time": "2021-08-11T08:05:11.132Z"
   },
   {
    "duration": 21,
    "start_time": "2021-08-11T08:09:53.408Z"
   },
   {
    "duration": 272,
    "start_time": "2021-08-11T08:15:10.593Z"
   },
   {
    "duration": 14,
    "start_time": "2021-08-11T08:15:23.961Z"
   },
   {
    "duration": 18,
    "start_time": "2021-08-11T08:17:57.016Z"
   },
   {
    "duration": 301,
    "start_time": "2021-08-11T08:18:22.895Z"
   },
   {
    "duration": 265,
    "start_time": "2021-08-11T08:18:36.271Z"
   },
   {
    "duration": 83,
    "start_time": "2021-08-11T08:18:46.984Z"
   },
   {
    "duration": 13,
    "start_time": "2021-08-11T08:18:50.319Z"
   },
   {
    "duration": 16,
    "start_time": "2021-08-11T08:20:01.997Z"
   },
   {
    "duration": 16,
    "start_time": "2021-08-11T08:20:27.489Z"
   },
   {
    "duration": 24,
    "start_time": "2021-08-11T08:23:07.082Z"
   },
   {
    "duration": 13,
    "start_time": "2021-08-11T08:23:36.267Z"
   },
   {
    "duration": 19,
    "start_time": "2021-08-11T08:23:56.289Z"
   },
   {
    "duration": 15,
    "start_time": "2021-08-11T08:44:56.834Z"
   },
   {
    "duration": 15,
    "start_time": "2021-08-11T08:45:36.595Z"
   },
   {
    "duration": 22,
    "start_time": "2021-08-11T09:08:32.244Z"
   },
   {
    "duration": 17,
    "start_time": "2021-08-11T09:09:30.126Z"
   },
   {
    "duration": 17,
    "start_time": "2021-08-11T09:09:52.589Z"
   },
   {
    "duration": 18,
    "start_time": "2021-08-11T09:11:44.195Z"
   },
   {
    "duration": 15,
    "start_time": "2021-08-11T09:12:33.290Z"
   },
   {
    "duration": 1126,
    "start_time": "2021-08-11T09:13:44.193Z"
   },
   {
    "duration": 1292,
    "start_time": "2021-08-11T09:14:12.409Z"
   },
   {
    "duration": 1043,
    "start_time": "2021-08-11T09:14:21.848Z"
   },
   {
    "duration": 8173,
    "start_time": "2021-08-11T09:17:34.478Z"
   },
   {
    "duration": 16,
    "start_time": "2021-08-11T09:21:53.650Z"
   },
   {
    "duration": 108,
    "start_time": "2021-08-11T09:23:16.320Z"
   },
   {
    "duration": 18,
    "start_time": "2021-08-11T09:23:27.128Z"
   },
   {
    "duration": 19,
    "start_time": "2021-08-11T09:23:39.951Z"
   },
   {
    "duration": 3190,
    "start_time": "2021-08-11T09:24:29.607Z"
   },
   {
    "duration": 5828,
    "start_time": "2021-08-11T09:24:41.975Z"
   },
   {
    "duration": 236,
    "start_time": "2021-08-11T09:24:55.599Z"
   },
   {
    "duration": 3058,
    "start_time": "2021-08-11T09:27:55.988Z"
   },
   {
    "duration": 3098,
    "start_time": "2021-08-11T09:29:46.122Z"
   },
   {
    "duration": 3398,
    "start_time": "2021-08-11T09:30:01.514Z"
   },
   {
    "duration": 1112,
    "start_time": "2021-08-11T09:43:34.893Z"
   },
   {
    "duration": 424,
    "start_time": "2021-08-11T09:45:31.675Z"
   },
   {
    "duration": 231,
    "start_time": "2021-08-11T09:46:19.097Z"
   },
   {
    "duration": 5568,
    "start_time": "2021-08-11T09:49:02.775Z"
   },
   {
    "duration": 16,
    "start_time": "2021-08-11T09:49:21.136Z"
   },
   {
    "duration": 17,
    "start_time": "2021-08-11T09:50:18.749Z"
   },
   {
    "duration": 17,
    "start_time": "2021-08-11T09:50:35.861Z"
   },
   {
    "duration": 17,
    "start_time": "2021-08-11T09:51:08.037Z"
   },
   {
    "duration": 17,
    "start_time": "2021-08-11T09:51:22.116Z"
   },
   {
    "duration": 17,
    "start_time": "2021-08-11T09:51:34.125Z"
   },
   {
    "duration": 17,
    "start_time": "2021-08-11T09:51:34.988Z"
   },
   {
    "duration": 17,
    "start_time": "2021-08-11T09:51:42.836Z"
   },
   {
    "duration": 240,
    "start_time": "2021-08-11T09:52:21.236Z"
   },
   {
    "duration": 389,
    "start_time": "2021-08-11T09:52:27.988Z"
   },
   {
    "duration": 3236,
    "start_time": "2021-08-11T09:54:50.505Z"
   },
   {
    "duration": 2116,
    "start_time": "2021-08-11T09:55:44.176Z"
   },
   {
    "duration": 877,
    "start_time": "2021-08-11T09:56:20.270Z"
   },
   {
    "duration": 2088,
    "start_time": "2021-08-11T09:56:25.920Z"
   },
   {
    "duration": 7725,
    "start_time": "2021-08-11T09:56:52.424Z"
   },
   {
    "duration": 8287,
    "start_time": "2021-08-11T09:57:00.342Z"
   },
   {
    "duration": 2154,
    "start_time": "2021-08-11T09:57:24.182Z"
   },
   {
    "duration": 2110,
    "start_time": "2021-08-11T09:57:55.829Z"
   },
   {
    "duration": 2071,
    "start_time": "2021-08-11T10:11:01.579Z"
   },
   {
    "duration": 2121,
    "start_time": "2021-08-11T10:11:59.280Z"
   },
   {
    "duration": 2046,
    "start_time": "2021-08-11T10:12:36.624Z"
   },
   {
    "duration": 2348,
    "start_time": "2021-08-11T10:12:52.632Z"
   },
   {
    "duration": 2278,
    "start_time": "2021-08-11T10:13:03.119Z"
   },
   {
    "duration": 2220,
    "start_time": "2021-08-11T10:13:31.375Z"
   },
   {
    "duration": 2107,
    "start_time": "2021-08-11T10:16:42.428Z"
   },
   {
    "duration": 2328,
    "start_time": "2021-08-11T13:14:50.965Z"
   },
   {
    "duration": 2155,
    "start_time": "2021-08-11T13:15:14.284Z"
   },
   {
    "duration": 2200,
    "start_time": "2021-08-11T13:16:00.164Z"
   },
   {
    "duration": 23,
    "start_time": "2021-08-11T13:16:11.075Z"
   },
   {
    "duration": 20,
    "start_time": "2021-08-11T13:16:11.859Z"
   },
   {
    "duration": 20,
    "start_time": "2021-08-11T13:16:13.316Z"
   },
   {
    "duration": 2036,
    "start_time": "2021-08-11T13:16:18.691Z"
   },
   {
    "duration": 17,
    "start_time": "2021-08-11T13:16:35.227Z"
   },
   {
    "duration": 248,
    "start_time": "2021-08-11T13:17:25.922Z"
   },
   {
    "duration": 2283,
    "start_time": "2021-08-11T13:17:42.875Z"
   },
   {
    "duration": 2038,
    "start_time": "2021-08-11T13:17:54.082Z"
   },
   {
    "duration": 2129,
    "start_time": "2021-08-11T13:18:23.121Z"
   },
   {
    "duration": 2006,
    "start_time": "2021-08-11T13:18:44.176Z"
   },
   {
    "duration": 16,
    "start_time": "2021-08-11T13:18:58.033Z"
   },
   {
    "duration": 2081,
    "start_time": "2021-08-11T13:19:27.600Z"
   },
   {
    "duration": 2228,
    "start_time": "2021-08-11T13:22:00.363Z"
   },
   {
    "duration": 958,
    "start_time": "2021-08-11T13:22:29.706Z"
   },
   {
    "duration": 20,
    "start_time": "2021-08-11T13:23:44.185Z"
   },
   {
    "duration": 3385,
    "start_time": "2021-08-11T13:24:25.512Z"
   },
   {
    "duration": 2090,
    "start_time": "2021-08-11T13:25:45.751Z"
   },
   {
    "duration": 2031,
    "start_time": "2021-08-11T13:26:22.110Z"
   },
   {
    "duration": 2114,
    "start_time": "2021-08-11T13:26:53.789Z"
   },
   {
    "duration": 18,
    "start_time": "2021-08-11T13:27:24.381Z"
   },
   {
    "duration": 18,
    "start_time": "2021-08-11T13:27:25.132Z"
   },
   {
    "duration": 62,
    "start_time": "2021-08-11T13:29:06.299Z"
   },
   {
    "duration": 15,
    "start_time": "2021-08-11T13:29:12.347Z"
   },
   {
    "duration": 19,
    "start_time": "2021-08-11T13:29:25.611Z"
   },
   {
    "duration": 217,
    "start_time": "2021-08-11T13:29:45.306Z"
   },
   {
    "duration": 15,
    "start_time": "2021-08-11T13:29:51.635Z"
   },
   {
    "duration": 2343,
    "start_time": "2021-08-11T13:30:37.124Z"
   },
   {
    "duration": 2086,
    "start_time": "2021-08-11T13:30:52.121Z"
   },
   {
    "duration": 2038,
    "start_time": "2021-08-11T13:31:14.465Z"
   },
   {
    "duration": 2217,
    "start_time": "2021-08-11T13:31:30.089Z"
   },
   {
    "duration": 61,
    "start_time": "2021-08-11T13:31:38.393Z"
   },
   {
    "duration": 2263,
    "start_time": "2021-08-11T13:31:43.273Z"
   },
   {
    "duration": 27,
    "start_time": "2021-08-11T13:31:55.016Z"
   },
   {
    "duration": 67,
    "start_time": "2021-08-11T13:32:00.696Z"
   },
   {
    "duration": 22,
    "start_time": "2021-08-11T13:32:03.977Z"
   },
   {
    "duration": 2066,
    "start_time": "2021-08-11T13:32:10.977Z"
   },
   {
    "duration": 61,
    "start_time": "2021-08-11T13:32:24.552Z"
   },
   {
    "duration": 22,
    "start_time": "2021-08-11T13:32:32.352Z"
   },
   {
    "duration": 2185,
    "start_time": "2021-08-11T13:32:49.369Z"
   },
   {
    "duration": 2025,
    "start_time": "2021-08-11T13:32:57.087Z"
   },
   {
    "duration": 7253,
    "start_time": "2021-08-11T13:33:14.303Z"
   },
   {
    "duration": 2100,
    "start_time": "2021-08-11T13:33:26.687Z"
   },
   {
    "duration": 2050,
    "start_time": "2021-08-11T13:33:36.463Z"
   },
   {
    "duration": 2004,
    "start_time": "2021-08-11T13:33:43.767Z"
   },
   {
    "duration": 2024,
    "start_time": "2021-08-11T13:33:55.550Z"
   },
   {
    "duration": 2049,
    "start_time": "2021-08-11T13:34:18.998Z"
   },
   {
    "duration": 2103,
    "start_time": "2021-08-11T13:34:27.655Z"
   },
   {
    "duration": 60,
    "start_time": "2021-08-11T13:34:35.605Z"
   },
   {
    "duration": 23,
    "start_time": "2021-08-11T13:34:46.710Z"
   },
   {
    "duration": 877,
    "start_time": "2021-08-11T13:35:39.053Z"
   },
   {
    "duration": 17,
    "start_time": "2021-08-11T13:35:57.493Z"
   },
   {
    "duration": 18,
    "start_time": "2021-08-11T13:36:23.940Z"
   },
   {
    "duration": 21,
    "start_time": "2021-08-11T13:36:28.860Z"
   },
   {
    "duration": 2295,
    "start_time": "2021-08-11T13:36:52.616Z"
   },
   {
    "duration": 2255,
    "start_time": "2021-08-11T13:37:29.891Z"
   },
   {
    "duration": 2233,
    "start_time": "2021-08-11T13:37:59.235Z"
   },
   {
    "duration": 2034,
    "start_time": "2021-08-11T13:38:17.404Z"
   },
   {
    "duration": 2137,
    "start_time": "2021-08-11T13:38:25.522Z"
   },
   {
    "duration": 2234,
    "start_time": "2021-08-11T13:38:36.114Z"
   },
   {
    "duration": 2119,
    "start_time": "2021-08-11T13:39:03.530Z"
   },
   {
    "duration": 2121,
    "start_time": "2021-08-11T13:39:29.675Z"
   },
   {
    "duration": 2140,
    "start_time": "2021-08-11T13:39:44.169Z"
   },
   {
    "duration": 2191,
    "start_time": "2021-08-11T13:39:52.897Z"
   },
   {
    "duration": 2107,
    "start_time": "2021-08-11T13:39:59.105Z"
   },
   {
    "duration": 63,
    "start_time": "2021-08-11T13:40:04.192Z"
   },
   {
    "duration": 2227,
    "start_time": "2021-08-11T13:40:08.713Z"
   },
   {
    "duration": 2475,
    "start_time": "2021-08-11T13:40:39.736Z"
   },
   {
    "duration": 7389,
    "start_time": "2021-08-11T13:40:50.180Z"
   },
   {
    "duration": 2189,
    "start_time": "2021-08-11T13:41:12.792Z"
   },
   {
    "duration": 2034,
    "start_time": "2021-08-11T13:41:21.151Z"
   },
   {
    "duration": 2107,
    "start_time": "2021-08-11T13:41:31.063Z"
   },
   {
    "duration": 2338,
    "start_time": "2021-08-11T13:41:37.711Z"
   },
   {
    "duration": 60,
    "start_time": "2021-08-11T13:41:45.214Z"
   },
   {
    "duration": 2253,
    "start_time": "2021-08-11T13:41:49.295Z"
   },
   {
    "duration": 59,
    "start_time": "2021-08-11T13:42:09.694Z"
   },
   {
    "duration": 2444,
    "start_time": "2021-08-11T13:42:12.191Z"
   },
   {
    "duration": 60,
    "start_time": "2021-08-11T13:42:24.934Z"
   },
   {
    "duration": 2133,
    "start_time": "2021-08-11T13:42:27.214Z"
   },
   {
    "duration": 2198,
    "start_time": "2021-08-11T13:49:27.453Z"
   },
   {
    "duration": 8018,
    "start_time": "2021-08-11T13:49:57.895Z"
   },
   {
    "duration": 7584,
    "start_time": "2021-08-11T13:50:29.079Z"
   },
   {
    "duration": 58,
    "start_time": "2021-08-11T13:50:40.526Z"
   },
   {
    "duration": 7280,
    "start_time": "2021-08-11T13:50:44.495Z"
   },
   {
    "duration": 59,
    "start_time": "2021-08-11T13:52:07.572Z"
   },
   {
    "duration": 14,
    "start_time": "2021-08-11T13:52:10.573Z"
   },
   {
    "duration": 5160,
    "start_time": "2021-08-11T13:52:19.268Z"
   },
   {
    "duration": 16,
    "start_time": "2021-08-11T13:52:32.580Z"
   },
   {
    "duration": 68,
    "start_time": "2021-08-11T13:53:46.796Z"
   },
   {
    "duration": 81,
    "start_time": "2021-08-11T13:54:48.666Z"
   },
   {
    "duration": 74,
    "start_time": "2021-08-11T13:54:52.842Z"
   },
   {
    "duration": 15,
    "start_time": "2021-08-11T13:54:58.234Z"
   },
   {
    "duration": 17,
    "start_time": "2021-08-11T13:56:02.097Z"
   },
   {
    "duration": 14,
    "start_time": "2021-08-11T13:56:46.017Z"
   },
   {
    "duration": 15,
    "start_time": "2021-08-11T13:56:50.520Z"
   },
   {
    "duration": 58,
    "start_time": "2021-08-11T13:56:53.576Z"
   },
   {
    "duration": 16,
    "start_time": "2021-08-11T13:56:57.176Z"
   },
   {
    "duration": 7359,
    "start_time": "2021-08-11T13:57:33.527Z"
   },
   {
    "duration": 2060,
    "start_time": "2021-08-11T14:25:58.389Z"
   },
   {
    "duration": 2076,
    "start_time": "2021-08-11T14:26:31.347Z"
   },
   {
    "duration": 7964,
    "start_time": "2021-08-11T14:28:37.481Z"
   },
   {
    "duration": 2132,
    "start_time": "2021-08-11T14:28:56.273Z"
   },
   {
    "duration": 234,
    "start_time": "2021-08-11T14:29:09.305Z"
   },
   {
    "duration": 2298,
    "start_time": "2021-08-11T14:29:17.593Z"
   },
   {
    "duration": 17,
    "start_time": "2021-08-11T14:29:47.617Z"
   },
   {
    "duration": 21,
    "start_time": "2021-08-11T14:30:07.463Z"
   },
   {
    "duration": 62,
    "start_time": "2021-08-11T14:30:14.879Z"
   },
   {
    "duration": 19,
    "start_time": "2021-08-11T14:30:18.864Z"
   },
   {
    "duration": 15,
    "start_time": "2021-08-11T14:32:30.606Z"
   },
   {
    "duration": 17,
    "start_time": "2021-08-11T14:33:48.316Z"
   },
   {
    "duration": 17,
    "start_time": "2021-08-11T14:34:06.298Z"
   },
   {
    "duration": 15,
    "start_time": "2021-08-11T14:34:26.043Z"
   },
   {
    "duration": 18,
    "start_time": "2021-08-11T14:35:20.666Z"
   },
   {
    "duration": 14,
    "start_time": "2021-08-11T14:36:05.394Z"
   },
   {
    "duration": 15,
    "start_time": "2021-08-11T14:36:22.233Z"
   },
   {
    "duration": 22,
    "start_time": "2021-08-11T14:36:48.889Z"
   },
   {
    "duration": 14,
    "start_time": "2021-08-11T14:36:58.789Z"
   },
   {
    "duration": 20,
    "start_time": "2021-08-11T14:37:04.897Z"
   },
   {
    "duration": 38,
    "start_time": "2021-08-11T14:37:59.512Z"
   },
   {
    "duration": 18,
    "start_time": "2021-08-11T14:38:26.527Z"
   },
   {
    "duration": 17,
    "start_time": "2021-08-11T14:39:23.679Z"
   },
   {
    "duration": 229,
    "start_time": "2021-08-11T14:39:34.839Z"
   },
   {
    "duration": 18,
    "start_time": "2021-08-11T14:39:37.718Z"
   },
   {
    "duration": 17,
    "start_time": "2021-08-11T14:39:42.470Z"
   },
   {
    "duration": 18,
    "start_time": "2021-08-11T14:39:45.910Z"
   },
   {
    "duration": 18,
    "start_time": "2021-08-11T14:40:04.532Z"
   },
   {
    "duration": 17,
    "start_time": "2021-08-11T14:40:26.725Z"
   },
   {
    "duration": 18,
    "start_time": "2021-08-11T14:40:43.245Z"
   },
   {
    "duration": 24,
    "start_time": "2021-08-11T14:41:00.645Z"
   },
   {
    "duration": 15,
    "start_time": "2021-08-11T14:41:14.269Z"
   },
   {
    "duration": 22,
    "start_time": "2021-08-11T14:43:45.803Z"
   },
   {
    "duration": 16,
    "start_time": "2021-08-11T14:44:18.826Z"
   },
   {
    "duration": 26,
    "start_time": "2021-08-11T14:45:00.185Z"
   },
   {
    "duration": 14,
    "start_time": "2021-08-11T14:45:40.545Z"
   },
   {
    "duration": 17,
    "start_time": "2021-08-11T14:45:44.936Z"
   },
   {
    "duration": 18,
    "start_time": "2021-08-11T14:46:26.807Z"
   },
   {
    "duration": 17,
    "start_time": "2021-08-11T14:52:10.818Z"
   },
   {
    "duration": 415,
    "start_time": "2021-08-11T14:52:56.761Z"
   },
   {
    "duration": 24,
    "start_time": "2021-08-11T14:53:45.665Z"
   },
   {
    "duration": 15,
    "start_time": "2021-08-11T14:54:34.168Z"
   },
   {
    "duration": 15,
    "start_time": "2021-08-11T14:54:45.511Z"
   },
   {
    "duration": 17,
    "start_time": "2021-08-11T14:55:01.887Z"
   },
   {
    "duration": 17,
    "start_time": "2021-08-11T14:55:12.175Z"
   },
   {
    "duration": 18,
    "start_time": "2021-08-11T14:55:16.207Z"
   },
   {
    "duration": 18,
    "start_time": "2021-08-11T14:57:19.069Z"
   },
   {
    "duration": 27,
    "start_time": "2021-08-11T14:57:43.428Z"
   },
   {
    "duration": 20,
    "start_time": "2021-08-11T14:57:56.365Z"
   },
   {
    "duration": 28,
    "start_time": "2021-08-11T14:58:18.684Z"
   },
   {
    "duration": 16,
    "start_time": "2021-08-11T14:58:54.259Z"
   },
   {
    "duration": 14,
    "start_time": "2021-08-11T15:06:34.124Z"
   },
   {
    "duration": 19,
    "start_time": "2021-08-11T15:06:43.524Z"
   },
   {
    "duration": 17,
    "start_time": "2021-08-11T15:11:51.579Z"
   },
   {
    "duration": 16,
    "start_time": "2021-08-11T15:12:12.647Z"
   },
   {
    "duration": 18,
    "start_time": "2021-08-11T15:12:22.982Z"
   },
   {
    "duration": 17,
    "start_time": "2021-08-11T15:12:23.246Z"
   },
   {
    "duration": 18,
    "start_time": "2021-08-11T15:12:27.774Z"
   },
   {
    "duration": 235,
    "start_time": "2021-08-11T15:29:17.630Z"
   },
   {
    "duration": 273,
    "start_time": "2021-08-11T15:29:31.703Z"
   },
   {
    "duration": 31,
    "start_time": "2021-08-11T15:35:05.754Z"
   },
   {
    "duration": 20,
    "start_time": "2021-08-11T15:36:01.623Z"
   },
   {
    "duration": 249,
    "start_time": "2021-08-11T15:36:20.351Z"
   },
   {
    "duration": 22,
    "start_time": "2021-08-11T15:36:28.295Z"
   },
   {
    "duration": 16,
    "start_time": "2021-08-11T15:36:44.983Z"
   },
   {
    "duration": 15,
    "start_time": "2021-08-11T15:36:47.943Z"
   },
   {
    "duration": 16,
    "start_time": "2021-08-11T15:36:50.270Z"
   },
   {
    "duration": 21,
    "start_time": "2021-08-11T15:37:01.367Z"
   },
   {
    "duration": 18,
    "start_time": "2021-08-11T15:37:36.222Z"
   },
   {
    "duration": 22,
    "start_time": "2021-08-11T15:37:48.118Z"
   },
   {
    "duration": 20,
    "start_time": "2021-08-11T15:38:16.637Z"
   },
   {
    "duration": 22,
    "start_time": "2021-08-11T15:39:27.356Z"
   },
   {
    "duration": 20,
    "start_time": "2021-08-11T15:40:46.939Z"
   },
   {
    "duration": 19,
    "start_time": "2021-08-11T15:41:10.123Z"
   },
   {
    "duration": 229,
    "start_time": "2021-08-11T15:42:31.625Z"
   },
   {
    "duration": 16,
    "start_time": "2021-08-11T15:43:14.473Z"
   },
   {
    "duration": 13,
    "start_time": "2021-08-11T15:43:26.017Z"
   },
   {
    "duration": 14,
    "start_time": "2021-08-11T15:44:07.520Z"
   },
   {
    "duration": 15,
    "start_time": "2021-08-11T15:44:08.647Z"
   },
   {
    "duration": 18,
    "start_time": "2021-08-11T15:44:12.920Z"
   },
   {
    "duration": 15,
    "start_time": "2021-08-11T15:44:33.823Z"
   },
   {
    "duration": 16,
    "start_time": "2021-08-11T15:44:44.887Z"
   },
   {
    "duration": 15,
    "start_time": "2021-08-11T15:44:56.727Z"
   },
   {
    "duration": 234,
    "start_time": "2021-08-11T15:45:33.054Z"
   },
   {
    "duration": 658,
    "start_time": "2021-08-11T15:45:39.615Z"
   },
   {
    "duration": 230,
    "start_time": "2021-08-11T15:45:42.247Z"
   },
   {
    "duration": 236,
    "start_time": "2021-08-11T15:45:47.126Z"
   },
   {
    "duration": 250,
    "start_time": "2021-08-11T15:46:00.030Z"
   },
   {
    "duration": 233,
    "start_time": "2021-08-11T15:46:06.238Z"
   },
   {
    "duration": 232,
    "start_time": "2021-08-11T15:46:14.246Z"
   },
   {
    "duration": 19,
    "start_time": "2021-08-11T15:46:29.342Z"
   },
   {
    "duration": 21,
    "start_time": "2021-08-11T15:46:35.374Z"
   },
   {
    "duration": 21,
    "start_time": "2021-08-11T15:46:50.493Z"
   },
   {
    "duration": 216,
    "start_time": "2021-08-11T15:47:19.365Z"
   },
   {
    "duration": 227,
    "start_time": "2021-08-11T15:47:38.993Z"
   },
   {
    "duration": 15,
    "start_time": "2021-08-11T15:47:51.734Z"
   },
   {
    "duration": 25,
    "start_time": "2021-08-11T15:50:27.153Z"
   },
   {
    "duration": 262,
    "start_time": "2021-08-11T15:52:09.872Z"
   },
   {
    "duration": 21,
    "start_time": "2021-08-11T15:52:18.728Z"
   },
   {
    "duration": 248,
    "start_time": "2021-08-11T15:52:30.687Z"
   },
   {
    "duration": 22,
    "start_time": "2021-08-11T15:52:36.327Z"
   },
   {
    "duration": 21,
    "start_time": "2021-08-11T15:52:49.143Z"
   },
   {
    "duration": 77,
    "start_time": "2021-08-11T15:52:55.743Z"
   },
   {
    "duration": 22,
    "start_time": "2021-08-11T15:52:59.960Z"
   },
   {
    "duration": 18,
    "start_time": "2021-08-11T16:02:38.350Z"
   },
   {
    "duration": 62,
    "start_time": "2021-08-11T16:02:46.901Z"
   },
   {
    "duration": 18,
    "start_time": "2021-08-11T16:02:54.029Z"
   },
   {
    "duration": 20,
    "start_time": "2021-08-11T16:03:17.341Z"
   },
   {
    "duration": 17,
    "start_time": "2021-08-11T16:03:29.909Z"
   },
   {
    "duration": 311,
    "start_time": "2021-08-11T16:07:23.849Z"
   },
   {
    "duration": 80,
    "start_time": "2021-08-11T16:07:47.849Z"
   },
   {
    "duration": 363,
    "start_time": "2021-08-11T16:07:52.097Z"
   },
   {
    "duration": 318,
    "start_time": "2021-08-11T16:08:13.249Z"
   },
   {
    "duration": 327,
    "start_time": "2021-08-11T16:17:42.951Z"
   },
   {
    "duration": 331,
    "start_time": "2021-08-11T16:39:33.906Z"
   },
   {
    "duration": 348,
    "start_time": "2021-08-11T16:40:39.257Z"
   },
   {
    "duration": 74,
    "start_time": "2021-08-11T16:41:03.769Z"
   },
   {
    "duration": 341,
    "start_time": "2021-08-11T16:41:11.985Z"
   },
   {
    "duration": 63,
    "start_time": "2021-08-11T16:41:17.352Z"
   },
   {
    "duration": 330,
    "start_time": "2021-08-11T16:41:20.640Z"
   },
   {
    "duration": 318,
    "start_time": "2021-08-11T16:41:43.783Z"
   },
   {
    "duration": 322,
    "start_time": "2021-08-11T16:41:52.471Z"
   },
   {
    "duration": 329,
    "start_time": "2021-08-11T17:14:01.537Z"
   },
   {
    "duration": 320,
    "start_time": "2021-08-11T17:14:31.272Z"
   },
   {
    "duration": 318,
    "start_time": "2021-08-11T17:15:12.879Z"
   },
   {
    "duration": 322,
    "start_time": "2021-08-11T17:15:27.383Z"
   },
   {
    "duration": 555,
    "start_time": "2021-08-11T17:21:19.306Z"
   },
   {
    "duration": 321,
    "start_time": "2021-08-11T17:21:38.298Z"
   },
   {
    "duration": 335,
    "start_time": "2021-08-11T17:38:16.490Z"
   },
   {
    "duration": 320,
    "start_time": "2021-08-11T17:38:22.305Z"
   },
   {
    "duration": 319,
    "start_time": "2021-08-11T17:38:37.513Z"
   },
   {
    "duration": 383,
    "start_time": "2021-08-11T17:38:58.447Z"
   },
   {
    "duration": 321,
    "start_time": "2021-08-11T17:39:12.033Z"
   },
   {
    "duration": 325,
    "start_time": "2021-08-11T17:39:57.520Z"
   },
   {
    "duration": 330,
    "start_time": "2021-08-11T17:40:26.992Z"
   },
   {
    "duration": 326,
    "start_time": "2021-08-11T17:48:09.672Z"
   },
   {
    "duration": 323,
    "start_time": "2021-08-11T17:48:25.759Z"
   },
   {
    "duration": 323,
    "start_time": "2021-08-11T17:49:19.847Z"
   },
   {
    "duration": 3039,
    "start_time": "2021-08-11T18:22:26.382Z"
   },
   {
    "duration": 1857,
    "start_time": "2021-08-11T18:22:43.815Z"
   },
   {
    "duration": 530,
    "start_time": "2021-08-11T18:23:32.102Z"
   },
   {
    "duration": 529,
    "start_time": "2021-08-11T18:23:41.750Z"
   },
   {
    "duration": 1798,
    "start_time": "2021-08-11T18:23:51.749Z"
   },
   {
    "duration": 325,
    "start_time": "2021-08-11T18:24:22.197Z"
   },
   {
    "duration": 325,
    "start_time": "2021-08-11T18:24:27.741Z"
   },
   {
    "duration": 330,
    "start_time": "2021-08-11T18:25:11.924Z"
   },
   {
    "duration": 328,
    "start_time": "2021-08-11T18:25:52.571Z"
   },
   {
    "duration": 5815,
    "start_time": "2021-08-11T18:26:57.986Z"
   },
   {
    "duration": 334,
    "start_time": "2021-08-11T18:54:56.848Z"
   },
   {
    "duration": 326,
    "start_time": "2021-08-11T18:56:38.878Z"
   },
   {
    "duration": 328,
    "start_time": "2021-08-11T18:57:14.253Z"
   },
   {
    "duration": 583,
    "start_time": "2021-08-11T18:57:34.765Z"
   },
   {
    "duration": 326,
    "start_time": "2021-08-11T18:59:36.531Z"
   },
   {
    "duration": 331,
    "start_time": "2021-08-11T18:59:42.962Z"
   },
   {
    "duration": 330,
    "start_time": "2021-08-11T19:06:12.948Z"
   },
   {
    "duration": 359,
    "start_time": "2021-08-11T19:06:22.404Z"
   },
   {
    "duration": 325,
    "start_time": "2021-08-11T19:06:32.659Z"
   },
   {
    "duration": 330,
    "start_time": "2021-08-11T19:10:44.847Z"
   },
   {
    "duration": 335,
    "start_time": "2021-08-11T19:14:14.084Z"
   },
   {
    "duration": 4213,
    "start_time": "2021-08-11T19:15:34.267Z"
   },
   {
    "duration": 4481,
    "start_time": "2021-08-11T19:16:59.337Z"
   },
   {
    "duration": 4326,
    "start_time": "2021-08-11T19:17:29.498Z"
   },
   {
    "duration": 343,
    "start_time": "2021-08-11T19:17:37.193Z"
   },
   {
    "duration": 336,
    "start_time": "2021-08-11T19:18:31.376Z"
   },
   {
    "duration": 305,
    "start_time": "2021-08-12T08:04:59.618Z"
   },
   {
    "duration": 265,
    "start_time": "2021-08-12T08:05:06.724Z"
   },
   {
    "duration": 776,
    "start_time": "2021-08-12T08:05:10.412Z"
   },
   {
    "duration": 636,
    "start_time": "2021-08-12T08:05:13.565Z"
   },
   {
    "duration": 656,
    "start_time": "2021-08-12T08:05:27.108Z"
   },
   {
    "duration": 649,
    "start_time": "2021-08-12T08:06:51.042Z"
   },
   {
    "duration": 4218,
    "start_time": "2021-08-12T08:08:20.369Z"
   },
   {
    "duration": 11087,
    "start_time": "2021-08-12T08:08:38.361Z"
   },
   {
    "duration": 641,
    "start_time": "2021-08-12T08:08:55.891Z"
   },
   {
    "duration": 625,
    "start_time": "2021-08-12T08:09:06.505Z"
   },
   {
    "duration": 5733,
    "start_time": "2021-08-12T08:31:56.456Z"
   },
   {
    "duration": 972,
    "start_time": "2021-08-12T08:32:24.162Z"
   },
   {
    "duration": 979,
    "start_time": "2021-08-12T08:32:40.393Z"
   },
   {
    "duration": 5894,
    "start_time": "2021-08-12T08:32:50.474Z"
   },
   {
    "duration": 5951,
    "start_time": "2021-08-12T08:33:03.705Z"
   },
   {
    "duration": 6354,
    "start_time": "2021-08-12T08:33:39.273Z"
   },
   {
    "duration": 5857,
    "start_time": "2021-08-12T08:33:51.049Z"
   },
   {
    "duration": 6783,
    "start_time": "2021-08-12T08:34:18.737Z"
   },
   {
    "duration": 623,
    "start_time": "2021-08-12T08:34:33.616Z"
   },
   {
    "duration": 625,
    "start_time": "2021-08-12T08:35:43.175Z"
   },
   {
    "duration": 732,
    "start_time": "2021-08-12T08:35:51.407Z"
   },
   {
    "duration": 650,
    "start_time": "2021-08-12T08:35:58.022Z"
   },
   {
    "duration": 682,
    "start_time": "2021-08-12T08:36:05.420Z"
   },
   {
    "duration": 687,
    "start_time": "2021-08-12T08:36:51.069Z"
   },
   {
    "duration": 67938,
    "start_time": "2021-08-12T08:37:23.564Z"
   },
   {
    "duration": 73521,
    "start_time": "2021-08-12T08:38:48.291Z"
   },
   {
    "duration": 73265,
    "start_time": "2021-08-12T08:40:49.681Z"
   },
   {
    "duration": 92,
    "start_time": "2021-08-12T08:46:09.604Z"
   },
   {
    "duration": -70,
    "start_time": "2021-08-12T09:00:25.081Z"
   },
   {
    "duration": -71,
    "start_time": "2021-08-12T09:00:25.084Z"
   },
   {
    "duration": 81,
    "start_time": "2021-08-12T09:00:28.718Z"
   },
   {
    "duration": 629,
    "start_time": "2021-08-12T09:00:47.094Z"
   },
   {
    "duration": 727,
    "start_time": "2021-08-12T09:01:18.717Z"
   },
   {
    "duration": 710,
    "start_time": "2021-08-12T09:01:32.660Z"
   },
   {
    "duration": 873,
    "start_time": "2021-08-12T09:02:54.228Z"
   },
   {
    "duration": 705,
    "start_time": "2021-08-12T09:03:06.628Z"
   },
   {
    "duration": 713,
    "start_time": "2021-08-12T09:04:18.114Z"
   },
   {
    "duration": 700,
    "start_time": "2021-08-12T09:07:15.327Z"
   },
   {
    "duration": 2700,
    "start_time": "2021-08-12T09:07:35.207Z"
   },
   {
    "duration": 2692,
    "start_time": "2021-08-12T09:08:03.559Z"
   },
   {
    "duration": 100,
    "start_time": "2021-08-12T09:08:12.279Z"
   },
   {
    "duration": 88,
    "start_time": "2021-08-12T09:09:25.541Z"
   },
   {
    "duration": 99,
    "start_time": "2021-08-12T09:09:37.069Z"
   },
   {
    "duration": 1119,
    "start_time": "2021-08-12T09:10:06.069Z"
   },
   {
    "duration": 757,
    "start_time": "2021-08-12T09:10:25.500Z"
   },
   {
    "duration": 1024,
    "start_time": "2021-08-12T09:11:21.355Z"
   },
   {
    "duration": 1206,
    "start_time": "2021-08-12T09:12:27.610Z"
   },
   {
    "duration": 1079,
    "start_time": "2021-08-12T09:12:43.226Z"
   },
   {
    "duration": 1886,
    "start_time": "2021-08-12T09:13:04.146Z"
   },
   {
    "duration": 1720,
    "start_time": "2021-08-12T09:13:50.185Z"
   },
   {
    "duration": 706,
    "start_time": "2021-08-12T09:14:26.465Z"
   },
   {
    "duration": 1015,
    "start_time": "2021-08-12T09:14:58.952Z"
   },
   {
    "duration": 738,
    "start_time": "2021-08-12T09:15:23.301Z"
   },
   {
    "duration": 718,
    "start_time": "2021-08-12T09:15:29.407Z"
   },
   {
    "duration": 338,
    "start_time": "2021-08-13T09:59:34.007Z"
   },
   {
    "duration": 271,
    "start_time": "2021-08-13T10:12:07.692Z"
   },
   {
    "duration": 905,
    "start_time": "2021-08-13T10:12:23.835Z"
   },
   {
    "duration": 657,
    "start_time": "2021-08-13T10:12:28.666Z"
   },
   {
    "duration": 625,
    "start_time": "2021-08-13T10:31:09.221Z"
   },
   {
    "duration": 630,
    "start_time": "2021-08-13T10:31:17.808Z"
   },
   {
    "duration": 760,
    "start_time": "2021-08-13T10:31:36.192Z"
   },
   {
    "duration": 660,
    "start_time": "2021-08-13T10:31:50.583Z"
   },
   {
    "duration": 632,
    "start_time": "2021-08-13T10:32:25.288Z"
   },
   {
    "duration": 642,
    "start_time": "2021-08-13T10:33:53.486Z"
   },
   {
    "duration": 633,
    "start_time": "2021-08-13T10:34:49.413Z"
   },
   {
    "duration": 926,
    "start_time": "2021-08-13T10:50:27.699Z"
   },
   {
    "duration": 851,
    "start_time": "2021-08-13T10:50:38.774Z"
   },
   {
    "duration": 623,
    "start_time": "2021-08-13T10:51:09.597Z"
   },
   {
    "duration": 875,
    "start_time": "2021-08-13T10:53:09.107Z"
   },
   {
    "duration": 5690,
    "start_time": "2021-08-13T10:53:34.836Z"
   },
   {
    "duration": 680,
    "start_time": "2021-08-13T10:54:16.402Z"
   },
   {
    "duration": 673,
    "start_time": "2021-08-13T11:09:50.665Z"
   },
   {
    "duration": 97,
    "start_time": "2021-08-13T11:25:37.610Z"
   },
   {
    "duration": 123,
    "start_time": "2021-08-13T11:25:43.812Z"
   },
   {
    "duration": 1149,
    "start_time": "2021-08-13T11:25:52.843Z"
   },
   {
    "duration": 1067,
    "start_time": "2021-08-13T11:28:35.545Z"
   },
   {
    "duration": 1173,
    "start_time": "2021-08-13T11:29:22.466Z"
   },
   {
    "duration": 1119,
    "start_time": "2021-08-13T11:29:54.248Z"
   },
   {
    "duration": 1137,
    "start_time": "2021-08-13T11:31:02.055Z"
   },
   {
    "duration": 937,
    "start_time": "2021-08-13T11:32:04.149Z"
   },
   {
    "duration": 939,
    "start_time": "2021-08-13T11:32:34.701Z"
   },
   {
    "duration": 896,
    "start_time": "2021-08-13T11:33:24.372Z"
   },
   {
    "duration": 648,
    "start_time": "2021-08-13T11:35:06.035Z"
   },
   {
    "duration": 1110,
    "start_time": "2021-08-13T11:35:10.003Z"
   },
   {
    "duration": 906,
    "start_time": "2021-08-13T11:35:36.153Z"
   },
   {
    "duration": 1088,
    "start_time": "2021-08-13T11:37:59.960Z"
   },
   {
    "duration": 1061,
    "start_time": "2021-08-13T11:41:47.973Z"
   },
   {
    "duration": 1360,
    "start_time": "2021-08-13T11:42:39.731Z"
   },
   {
    "duration": 1079,
    "start_time": "2021-08-13T11:42:48.452Z"
   },
   {
    "duration": 1065,
    "start_time": "2021-08-13T11:43:18.179Z"
   },
   {
    "duration": 619,
    "start_time": "2021-08-13T12:08:18.898Z"
   },
   {
    "duration": 629,
    "start_time": "2021-08-13T12:08:30.033Z"
   },
   {
    "duration": 629,
    "start_time": "2021-08-13T12:08:50.553Z"
   },
   {
    "duration": 636,
    "start_time": "2021-08-13T12:10:45.880Z"
   },
   {
    "duration": 638,
    "start_time": "2021-08-13T12:10:51.719Z"
   },
   {
    "duration": 660,
    "start_time": "2021-08-13T12:12:59.894Z"
   },
   {
    "duration": 638,
    "start_time": "2021-08-13T12:53:52.244Z"
   },
   {
    "duration": 87,
    "start_time": "2021-08-13T12:54:04.949Z"
   },
   {
    "duration": 630,
    "start_time": "2021-08-13T12:54:08.708Z"
   },
   {
    "duration": 999,
    "start_time": "2021-08-13T12:55:14.077Z"
   },
   {
    "duration": 615,
    "start_time": "2021-08-13T13:06:00.888Z"
   },
   {
    "duration": 643,
    "start_time": "2021-08-13T13:06:08.050Z"
   },
   {
    "duration": 623,
    "start_time": "2021-08-13T13:06:36.249Z"
   },
   {
    "duration": 893,
    "start_time": "2021-08-13T13:06:46.625Z"
   },
   {
    "duration": 910,
    "start_time": "2021-08-13T13:06:52.249Z"
   },
   {
    "duration": 609,
    "start_time": "2021-08-13T13:07:06.313Z"
   },
   {
    "duration": 635,
    "start_time": "2021-08-13T13:07:13.067Z"
   },
   {
    "duration": 627,
    "start_time": "2021-08-13T13:08:52.255Z"
   },
   {
    "duration": 629,
    "start_time": "2021-08-13T13:09:43.878Z"
   },
   {
    "duration": 890,
    "start_time": "2021-08-13T13:13:02.235Z"
   },
   {
    "duration": 715,
    "start_time": "2021-08-13T13:13:15.387Z"
   },
   {
    "duration": 698,
    "start_time": "2021-08-13T13:13:21.819Z"
   },
   {
    "duration": 85,
    "start_time": "2021-08-13T13:13:30.930Z"
   },
   {
    "duration": 710,
    "start_time": "2021-08-13T13:13:34.587Z"
   },
   {
    "duration": 719,
    "start_time": "2021-08-13T13:13:49.267Z"
   },
   {
    "duration": 704,
    "start_time": "2021-08-13T13:13:56.607Z"
   },
   {
    "duration": 709,
    "start_time": "2021-08-13T13:14:22.497Z"
   },
   {
    "duration": 613,
    "start_time": "2021-08-13T13:15:19.234Z"
   },
   {
    "duration": 130,
    "start_time": "2021-08-13T13:15:24.201Z"
   },
   {
    "duration": 651,
    "start_time": "2021-08-13T13:15:28.464Z"
   },
   {
    "duration": 7152,
    "start_time": "2021-08-13T13:16:29.089Z"
   },
   {
    "duration": 1478,
    "start_time": "2021-08-13T13:16:46.665Z"
   },
   {
    "duration": 896,
    "start_time": "2021-08-13T13:17:01.224Z"
   },
   {
    "duration": 637,
    "start_time": "2021-08-13T13:17:13.503Z"
   },
   {
    "duration": 84,
    "start_time": "2021-08-13T13:17:42.302Z"
   },
   {
    "duration": 624,
    "start_time": "2021-08-13T13:17:45.670Z"
   },
   {
    "duration": 7151,
    "start_time": "2021-08-13T13:17:55.846Z"
   },
   {
    "duration": 604,
    "start_time": "2021-08-13T13:18:10.903Z"
   },
   {
    "duration": 625,
    "start_time": "2021-08-13T13:18:50.061Z"
   },
   {
    "duration": 650,
    "start_time": "2021-08-13T13:19:03.262Z"
   },
   {
    "duration": 630,
    "start_time": "2021-08-13T13:25:30.407Z"
   },
   {
    "duration": 653,
    "start_time": "2021-08-13T13:25:39.511Z"
   },
   {
    "duration": 751,
    "start_time": "2021-08-13T13:25:45.711Z"
   },
   {
    "duration": 617,
    "start_time": "2021-08-13T13:26:23.695Z"
   },
   {
    "duration": 625,
    "start_time": "2021-08-13T13:26:28.222Z"
   },
   {
    "duration": 649,
    "start_time": "2021-08-13T13:26:31.958Z"
   },
   {
    "duration": 1008,
    "start_time": "2021-08-13T13:26:34.455Z"
   },
   {
    "duration": 1085,
    "start_time": "2021-08-13T13:26:46.790Z"
   },
   {
    "duration": 1064,
    "start_time": "2021-08-13T13:26:51.782Z"
   },
   {
    "duration": 1065,
    "start_time": "2021-08-13T13:26:56.014Z"
   },
   {
    "duration": 1093,
    "start_time": "2021-08-13T13:26:59.502Z"
   },
   {
    "duration": 1065,
    "start_time": "2021-08-13T13:27:02.782Z"
   },
   {
    "duration": 1079,
    "start_time": "2021-08-13T13:27:10.365Z"
   },
   {
    "duration": 1056,
    "start_time": "2021-08-13T13:27:13.941Z"
   },
   {
    "duration": 631,
    "start_time": "2021-08-13T13:27:18.014Z"
   },
   {
    "duration": 607,
    "start_time": "2021-08-13T13:27:21.670Z"
   },
   {
    "duration": 626,
    "start_time": "2021-08-13T13:27:25.349Z"
   },
   {
    "duration": 626,
    "start_time": "2021-08-13T13:27:28.918Z"
   },
   {
    "duration": 643,
    "start_time": "2021-08-13T13:27:32.686Z"
   },
   {
    "duration": 653,
    "start_time": "2021-08-13T13:27:36.357Z"
   },
   {
    "duration": 646,
    "start_time": "2021-08-13T13:27:39.638Z"
   },
   {
    "duration": 649,
    "start_time": "2021-08-13T13:27:43.646Z"
   },
   {
    "duration": 628,
    "start_time": "2021-08-13T13:27:48.509Z"
   },
   {
    "duration": 616,
    "start_time": "2021-08-13T13:27:54.757Z"
   },
   {
    "duration": 620,
    "start_time": "2021-08-13T13:27:59.885Z"
   },
   {
    "duration": 618,
    "start_time": "2021-08-13T13:28:08.404Z"
   },
   {
    "duration": 617,
    "start_time": "2021-08-13T13:28:16.972Z"
   },
   {
    "duration": 628,
    "start_time": "2021-08-13T13:28:23.452Z"
   },
   {
    "duration": 639,
    "start_time": "2021-08-13T13:28:27.636Z"
   },
   {
    "duration": 634,
    "start_time": "2021-08-13T13:28:31.748Z"
   },
   {
    "duration": 629,
    "start_time": "2021-08-13T13:28:35.180Z"
   },
   {
    "duration": 1161,
    "start_time": "2021-08-13T13:28:42.044Z"
   },
   {
    "duration": 632,
    "start_time": "2021-08-13T13:28:55.540Z"
   },
   {
    "duration": 84,
    "start_time": "2021-08-13T13:29:14.619Z"
   },
   {
    "duration": 623,
    "start_time": "2021-08-13T13:29:17.571Z"
   },
   {
    "duration": 967,
    "start_time": "2021-08-13T13:30:00.619Z"
   },
   {
    "duration": 101,
    "start_time": "2021-08-13T13:32:02.441Z"
   },
   {
    "duration": 1035,
    "start_time": "2021-08-13T13:32:08.184Z"
   },
   {
    "duration": 1108,
    "start_time": "2021-08-13T13:32:16.449Z"
   },
   {
    "duration": 1450,
    "start_time": "2021-08-13T13:33:06.312Z"
   },
   {
    "duration": 631,
    "start_time": "2021-08-13T13:33:58.607Z"
   },
   {
    "duration": 101,
    "start_time": "2021-08-13T13:35:04.846Z"
   },
   {
    "duration": 824,
    "start_time": "2021-08-13T13:35:16.950Z"
   },
   {
    "duration": 646,
    "start_time": "2021-08-13T13:37:45.539Z"
   },
   {
    "duration": 83,
    "start_time": "2021-08-13T13:38:17.018Z"
   },
   {
    "duration": 631,
    "start_time": "2021-08-13T13:38:20.810Z"
   },
   {
    "duration": 628,
    "start_time": "2021-08-13T13:38:27.282Z"
   },
   {
    "duration": 627,
    "start_time": "2021-08-13T13:38:38.355Z"
   },
   {
    "duration": 614,
    "start_time": "2021-08-13T13:38:48.114Z"
   },
   {
    "duration": 93,
    "start_time": "2021-08-13T13:38:59.153Z"
   },
   {
    "duration": 612,
    "start_time": "2021-08-13T13:39:03.393Z"
   },
   {
    "duration": 612,
    "start_time": "2021-08-13T13:39:08.434Z"
   },
   {
    "duration": 634,
    "start_time": "2021-08-13T13:39:10.746Z"
   },
   {
    "duration": 619,
    "start_time": "2021-08-13T13:39:31.474Z"
   },
   {
    "duration": 622,
    "start_time": "2021-08-13T13:39:37.425Z"
   },
   {
    "duration": 601,
    "start_time": "2021-08-13T13:39:47.050Z"
   },
   {
    "duration": 10,
    "start_time": "2021-08-13T13:41:00.376Z"
   },
   {
    "duration": 9,
    "start_time": "2021-08-13T13:41:04.696Z"
   },
   {
    "duration": 11,
    "start_time": "2021-08-13T13:41:08.536Z"
   },
   {
    "duration": 82,
    "start_time": "2021-08-13T13:41:15.080Z"
   },
   {
    "duration": 10,
    "start_time": "2021-08-13T13:41:19.623Z"
   },
   {
    "duration": 9,
    "start_time": "2021-08-13T13:41:23.871Z"
   },
   {
    "duration": 18,
    "start_time": "2021-08-13T13:41:52.783Z"
   },
   {
    "duration": 82,
    "start_time": "2021-08-13T13:41:57.135Z"
   },
   {
    "duration": 18,
    "start_time": "2021-08-13T13:42:00.351Z"
   },
   {
    "duration": 19,
    "start_time": "2021-08-13T13:42:16.998Z"
   },
   {
    "duration": 19,
    "start_time": "2021-08-13T13:42:17.678Z"
   },
   {
    "duration": 19,
    "start_time": "2021-08-13T13:42:18.118Z"
   },
   {
    "duration": 81,
    "start_time": "2021-08-13T13:42:20.742Z"
   },
   {
    "duration": 18,
    "start_time": "2021-08-13T13:42:23.623Z"
   },
   {
    "duration": 19,
    "start_time": "2021-08-13T13:42:24.550Z"
   },
   {
    "duration": 639,
    "start_time": "2021-08-13T13:42:47.230Z"
   },
   {
    "duration": 18,
    "start_time": "2021-08-13T13:43:30.733Z"
   },
   {
    "duration": 81,
    "start_time": "2021-08-13T13:44:23.756Z"
   },
   {
    "duration": 18,
    "start_time": "2021-08-13T13:44:37.468Z"
   },
   {
    "duration": 17,
    "start_time": "2021-08-13T13:45:35.980Z"
   },
   {
    "duration": 6564,
    "start_time": "2021-08-13T13:46:07.660Z"
   },
   {
    "duration": 87,
    "start_time": "2021-08-13T13:46:22.754Z"
   },
   {
    "duration": 618,
    "start_time": "2021-08-13T13:49:23.512Z"
   },
   {
    "duration": 648,
    "start_time": "2021-08-13T13:49:45.128Z"
   },
   {
    "duration": 631,
    "start_time": "2021-08-13T13:49:54.431Z"
   },
   {
    "duration": 618,
    "start_time": "2021-08-13T13:50:03.167Z"
   },
   {
    "duration": 618,
    "start_time": "2021-08-13T13:50:13.751Z"
   },
   {
    "duration": 599,
    "start_time": "2021-08-13T13:53:13.725Z"
   },
   {
    "duration": 606,
    "start_time": "2021-08-13T13:53:23.004Z"
   },
   {
    "duration": 612,
    "start_time": "2021-08-13T13:56:10.129Z"
   },
   {
    "duration": 619,
    "start_time": "2021-08-13T13:56:19.121Z"
   },
   {
    "duration": 631,
    "start_time": "2021-08-13T13:56:31.840Z"
   },
   {
    "duration": 306,
    "start_time": "2021-08-13T14:10:58.579Z"
   },
   {
    "duration": 640,
    "start_time": "2021-08-13T14:11:33.634Z"
   },
   {
    "duration": 87,
    "start_time": "2021-08-13T14:18:58.611Z"
   },
   {
    "duration": 81,
    "start_time": "2021-08-13T14:19:07.011Z"
   },
   {
    "duration": 87,
    "start_time": "2021-08-13T14:19:17.083Z"
   },
   {
    "duration": 96,
    "start_time": "2021-08-13T14:20:29.889Z"
   },
   {
    "duration": 89,
    "start_time": "2021-08-13T14:20:45.785Z"
   },
   {
    "duration": 91,
    "start_time": "2021-08-13T14:20:57.033Z"
   },
   {
    "duration": 89,
    "start_time": "2021-08-13T14:21:16.441Z"
   },
   {
    "duration": 137,
    "start_time": "2021-08-13T14:22:57.503Z"
   },
   {
    "duration": 134,
    "start_time": "2021-08-13T14:23:40.519Z"
   },
   {
    "duration": 100,
    "start_time": "2021-08-13T14:23:49.517Z"
   },
   {
    "duration": 94,
    "start_time": "2021-08-13T14:24:04.086Z"
   },
   {
    "duration": 97,
    "start_time": "2021-08-13T14:24:18.510Z"
   },
   {
    "duration": 94,
    "start_time": "2021-08-13T14:39:37.774Z"
   },
   {
    "duration": 108,
    "start_time": "2021-08-13T14:39:47.062Z"
   },
   {
    "duration": 93,
    "start_time": "2021-08-13T14:40:03.327Z"
   },
   {
    "duration": 96,
    "start_time": "2021-08-13T14:40:24.766Z"
   },
   {
    "duration": 93,
    "start_time": "2021-08-13T14:41:06.573Z"
   },
   {
    "duration": 87,
    "start_time": "2021-08-13T14:41:22.300Z"
   },
   {
    "duration": 105,
    "start_time": "2021-08-13T14:41:26.300Z"
   },
   {
    "duration": 104,
    "start_time": "2021-08-13T14:42:28.908Z"
   },
   {
    "duration": 790,
    "start_time": "2021-08-13T14:43:16.067Z"
   },
   {
    "duration": 1090,
    "start_time": "2021-08-13T14:43:33.388Z"
   },
   {
    "duration": 98,
    "start_time": "2021-08-13T14:43:39.491Z"
   },
   {
    "duration": 655,
    "start_time": "2021-08-13T14:43:49.051Z"
   },
   {
    "duration": 677,
    "start_time": "2021-08-13T14:43:58.820Z"
   },
   {
    "duration": 85,
    "start_time": "2021-08-13T14:44:04.810Z"
   },
   {
    "duration": 124,
    "start_time": "2021-08-13T14:44:08.499Z"
   },
   {
    "duration": 105,
    "start_time": "2021-08-13T14:46:15.904Z"
   },
   {
    "duration": 366,
    "start_time": "2021-08-13T14:46:21.632Z"
   },
   {
    "duration": 132,
    "start_time": "2021-08-13T14:49:25.262Z"
   },
   {
    "duration": 125,
    "start_time": "2021-08-13T14:49:44.669Z"
   },
   {
    "duration": 126,
    "start_time": "2021-08-13T14:50:07.932Z"
   },
   {
    "duration": 123,
    "start_time": "2021-08-13T14:50:48.556Z"
   },
   {
    "duration": 151,
    "start_time": "2021-08-13T14:50:57.524Z"
   },
   {
    "duration": 129,
    "start_time": "2021-08-13T14:51:50.644Z"
   },
   {
    "duration": 811,
    "start_time": "2021-08-13T14:53:03.865Z"
   },
   {
    "duration": 721,
    "start_time": "2021-08-13T14:53:31.144Z"
   },
   {
    "duration": 826,
    "start_time": "2021-08-13T15:18:07.568Z"
   },
   {
    "duration": 822,
    "start_time": "2021-08-13T15:19:09.472Z"
   },
   {
    "duration": 801,
    "start_time": "2021-08-13T15:19:24.111Z"
   },
   {
    "duration": 801,
    "start_time": "2021-08-13T15:19:33.432Z"
   },
   {
    "duration": 825,
    "start_time": "2021-08-13T15:20:35.007Z"
   },
   {
    "duration": 86,
    "start_time": "2021-08-13T15:20:50.102Z"
   },
   {
    "duration": 810,
    "start_time": "2021-08-13T15:20:54.286Z"
   },
   {
    "duration": 821,
    "start_time": "2021-08-13T15:21:06.046Z"
   },
   {
    "duration": 82,
    "start_time": "2021-08-13T15:21:18.022Z"
   },
   {
    "duration": 814,
    "start_time": "2021-08-13T15:21:22.502Z"
   },
   {
    "duration": 842,
    "start_time": "2021-08-13T15:23:10.421Z"
   },
   {
    "duration": 827,
    "start_time": "2021-08-13T15:23:20.116Z"
   },
   {
    "duration": 797,
    "start_time": "2021-08-13T15:35:37.088Z"
   },
   {
    "duration": 821,
    "start_time": "2021-08-13T15:36:33.231Z"
   },
   {
    "duration": 856,
    "start_time": "2021-08-13T15:36:40.775Z"
   },
   {
    "duration": 1123,
    "start_time": "2021-08-13T15:39:08.052Z"
   },
   {
    "duration": 1115,
    "start_time": "2021-08-13T15:39:57.420Z"
   },
   {
    "duration": 873,
    "start_time": "2021-08-13T15:43:43.496Z"
   },
   {
    "duration": 842,
    "start_time": "2021-08-13T15:44:48.720Z"
   },
   {
    "duration": 822,
    "start_time": "2021-08-13T15:45:03.999Z"
   },
   {
    "duration": 890,
    "start_time": "2021-08-13T15:46:30.878Z"
   },
   {
    "duration": 895,
    "start_time": "2021-08-13T15:46:48.374Z"
   },
   {
    "duration": 909,
    "start_time": "2021-08-13T15:48:57.116Z"
   },
   {
    "duration": 929,
    "start_time": "2021-08-13T16:01:52.279Z"
   },
   {
    "duration": 879,
    "start_time": "2021-08-13T16:06:34.354Z"
   },
   {
    "duration": 1486,
    "start_time": "2021-08-13T16:06:45.235Z"
   },
   {
    "duration": 1472,
    "start_time": "2021-08-13T16:08:35.520Z"
   },
   {
    "duration": 1465,
    "start_time": "2021-08-13T16:09:46.599Z"
   },
   {
    "duration": 1525,
    "start_time": "2021-08-13T16:12:05.437Z"
   },
   {
    "duration": 1463,
    "start_time": "2021-08-13T16:12:14.334Z"
   },
   {
    "duration": 432,
    "start_time": "2021-08-15T12:40:52.720Z"
   },
   {
    "duration": 900,
    "start_time": "2021-08-15T12:41:13.380Z"
   },
   {
    "duration": 891,
    "start_time": "2021-08-15T12:41:14.283Z"
   },
   {
    "duration": 14,
    "start_time": "2021-08-15T12:41:21.412Z"
   },
   {
    "duration": 40,
    "start_time": "2021-08-15T12:44:27.426Z"
   },
   {
    "duration": 15,
    "start_time": "2021-08-15T12:44:38.495Z"
   },
   {
    "duration": 20,
    "start_time": "2021-08-15T12:50:01.940Z"
   },
   {
    "duration": 12,
    "start_time": "2021-08-15T12:59:34.987Z"
   },
   {
    "duration": 16,
    "start_time": "2021-08-15T13:00:22.648Z"
   },
   {
    "duration": 10,
    "start_time": "2021-08-15T13:21:44.774Z"
   },
   {
    "duration": 10,
    "start_time": "2021-08-15T13:30:32.941Z"
   },
   {
    "duration": 10,
    "start_time": "2021-08-15T13:30:46.719Z"
   },
   {
    "duration": 10,
    "start_time": "2021-08-15T13:32:41.427Z"
   },
   {
    "duration": 425,
    "start_time": "2021-08-15T13:33:10.259Z"
   },
   {
    "duration": 26,
    "start_time": "2021-08-15T13:33:36.274Z"
   },
   {
    "duration": 25,
    "start_time": "2021-08-15T13:33:49.890Z"
   },
   {
    "duration": 26,
    "start_time": "2021-08-15T13:33:53.938Z"
   },
   {
    "duration": 25,
    "start_time": "2021-08-15T13:36:39.840Z"
   },
   {
    "duration": 952,
    "start_time": "2021-08-15T14:03:53.715Z"
   },
   {
    "duration": 25,
    "start_time": "2021-08-15T14:11:10.246Z"
   },
   {
    "duration": 512,
    "start_time": "2021-08-15T14:23:20.751Z"
   },
   {
    "duration": 435,
    "start_time": "2021-08-15T14:24:04.856Z"
   },
   {
    "duration": 406,
    "start_time": "2021-08-15T14:24:14.696Z"
   },
   {
    "duration": 413,
    "start_time": "2021-08-15T14:24:26.257Z"
   },
   {
    "duration": 20,
    "start_time": "2021-08-15T14:24:37.720Z"
   },
   {
    "duration": 21,
    "start_time": "2021-08-15T14:24:45.593Z"
   },
   {
    "duration": 22,
    "start_time": "2021-08-15T14:24:55.511Z"
   },
   {
    "duration": 130,
    "start_time": "2021-08-15T14:28:07.028Z"
   },
   {
    "duration": 47,
    "start_time": "2021-08-15T14:29:35.027Z"
   },
   {
    "duration": 11,
    "start_time": "2021-08-15T14:30:33.714Z"
   },
   {
    "duration": 457,
    "start_time": "2021-08-15T14:31:43.392Z"
   },
   {
    "duration": 7,
    "start_time": "2021-08-15T14:32:27.424Z"
   },
   {
    "duration": 11,
    "start_time": "2021-08-15T14:32:39.494Z"
   },
   {
    "duration": 6638,
    "start_time": "2021-08-15T14:54:04.161Z"
   },
   {
    "duration": 431,
    "start_time": "2021-08-15T15:00:05.666Z"
   },
   {
    "duration": 441,
    "start_time": "2021-08-15T15:03:05.579Z"
   },
   {
    "duration": 407,
    "start_time": "2021-08-15T15:04:42.009Z"
   },
   {
    "duration": 474,
    "start_time": "2021-08-15T15:05:19.817Z"
   },
   {
    "duration": 390,
    "start_time": "2021-08-15T15:05:29.928Z"
   },
   {
    "duration": 385,
    "start_time": "2021-08-15T15:06:07.968Z"
   },
   {
    "duration": 13455,
    "start_time": "2021-08-15T15:06:42.448Z"
   },
   {
    "duration": 420,
    "start_time": "2021-08-15T15:08:00.164Z"
   },
   {
    "duration": 10,
    "start_time": "2021-08-15T15:08:18.334Z"
   },
   {
    "duration": 9,
    "start_time": "2021-08-15T15:08:26.286Z"
   },
   {
    "duration": 400,
    "start_time": "2021-08-15T15:08:34.319Z"
   },
   {
    "duration": 11,
    "start_time": "2021-08-15T15:08:50.789Z"
   },
   {
    "duration": 10,
    "start_time": "2021-08-15T15:09:03.549Z"
   },
   {
    "duration": 964,
    "start_time": "2021-08-15T15:09:09.941Z"
   },
   {
    "duration": 953,
    "start_time": "2021-08-15T15:09:18.766Z"
   },
   {
    "duration": 967,
    "start_time": "2021-08-15T15:09:25.829Z"
   },
   {
    "duration": 965,
    "start_time": "2021-08-15T15:09:42.452Z"
   },
   {
    "duration": 1383,
    "start_time": "2021-08-15T15:10:04.604Z"
   },
   {
    "duration": 1398,
    "start_time": "2021-08-15T15:10:07.804Z"
   },
   {
    "duration": 1370,
    "start_time": "2021-08-15T15:10:18.628Z"
   },
   {
    "duration": 481,
    "start_time": "2021-08-15T15:11:29.947Z"
   },
   {
    "duration": 428,
    "start_time": "2021-08-15T15:12:25.946Z"
   },
   {
    "duration": 929,
    "start_time": "2021-08-15T15:12:33.114Z"
   },
   {
    "duration": 934,
    "start_time": "2021-08-15T15:12:45.638Z"
   },
   {
    "duration": 963,
    "start_time": "2021-08-15T15:12:58.169Z"
   },
   {
    "duration": 953,
    "start_time": "2021-08-15T15:13:46.585Z"
   },
   {
    "duration": 1328,
    "start_time": "2021-08-15T15:14:08.024Z"
   },
   {
    "duration": 948,
    "start_time": "2021-08-15T15:14:33.520Z"
   },
   {
    "duration": 975,
    "start_time": "2021-08-15T15:16:03.262Z"
   },
   {
    "duration": 994,
    "start_time": "2021-08-15T15:16:15.302Z"
   },
   {
    "duration": 964,
    "start_time": "2021-08-15T15:18:09.036Z"
   },
   {
    "duration": 12989,
    "start_time": "2021-08-15T15:20:41.209Z"
   },
   {
    "duration": 4593,
    "start_time": "2021-08-15T15:21:49.993Z"
   },
   {
    "duration": 4743,
    "start_time": "2021-08-15T15:22:43.496Z"
   },
   {
    "duration": 4671,
    "start_time": "2021-08-15T15:23:11.191Z"
   },
   {
    "duration": 4847,
    "start_time": "2021-08-15T15:23:32.144Z"
   },
   {
    "duration": 5041,
    "start_time": "2021-08-15T15:30:32.193Z"
   },
   {
    "duration": 5445,
    "start_time": "2021-08-15T15:57:27.215Z"
   },
   {
    "duration": 5023,
    "start_time": "2021-08-15T15:59:04.037Z"
   },
   {
    "duration": 119,
    "start_time": "2021-08-15T16:00:19.482Z"
   },
   {
    "duration": 4996,
    "start_time": "2021-08-15T16:00:22.699Z"
   },
   {
    "duration": 4914,
    "start_time": "2021-08-15T16:02:49.241Z"
   },
   {
    "duration": 4962,
    "start_time": "2021-08-15T16:06:31.685Z"
   },
   {
    "duration": 5153,
    "start_time": "2021-08-15T16:07:23.916Z"
   },
   {
    "duration": 4690,
    "start_time": "2021-08-15T16:07:45.972Z"
   },
   {
    "duration": 4684,
    "start_time": "2021-08-15T16:08:37.132Z"
   },
   {
    "duration": 643,
    "start_time": "2021-08-15T16:10:29.417Z"
   },
   {
    "duration": 4862,
    "start_time": "2021-08-15T16:11:28.696Z"
   },
   {
    "duration": 4909,
    "start_time": "2021-08-15T16:14:52.981Z"
   },
   {
    "duration": 4951,
    "start_time": "2021-08-15T16:21:30.135Z"
   },
   {
    "duration": 4765,
    "start_time": "2021-08-15T16:21:36.831Z"
   },
   {
    "duration": 4869,
    "start_time": "2021-08-15T16:23:19.541Z"
   },
   {
    "duration": 4886,
    "start_time": "2021-08-15T16:24:05.092Z"
   },
   {
    "duration": 5093,
    "start_time": "2021-08-15T16:24:30.860Z"
   },
   {
    "duration": 4697,
    "start_time": "2021-08-15T16:25:51.506Z"
   },
   {
    "duration": 5323,
    "start_time": "2021-08-15T16:31:52.677Z"
   },
   {
    "duration": 4684,
    "start_time": "2021-08-15T16:33:22.891Z"
   },
   {
    "duration": 25,
    "start_time": "2021-08-15T16:55:07.549Z"
   },
   {
    "duration": 4942,
    "start_time": "2021-08-15T17:40:43.529Z"
   },
   {
    "duration": 33,
    "start_time": "2021-08-15T17:48:17.913Z"
   },
   {
    "duration": 11,
    "start_time": "2021-08-15T18:01:13.014Z"
   },
   {
    "duration": 7,
    "start_time": "2021-08-15T18:03:13.330Z"
   },
   {
    "duration": 7,
    "start_time": "2021-08-15T18:03:24.163Z"
   },
   {
    "duration": 7,
    "start_time": "2021-08-15T18:03:38.834Z"
   },
   {
    "duration": 8,
    "start_time": "2021-08-15T18:03:49.498Z"
   },
   {
    "duration": 91,
    "start_time": "2021-08-15T18:05:03.825Z"
   },
   {
    "duration": 887,
    "start_time": "2021-08-15T18:05:11.585Z"
   },
   {
    "duration": 6,
    "start_time": "2021-08-15T18:05:15.737Z"
   },
   {
    "duration": 4582,
    "start_time": "2021-08-15T18:05:28.682Z"
   },
   {
    "duration": 37,
    "start_time": "2021-08-15T18:05:35.857Z"
   },
   {
    "duration": 11,
    "start_time": "2021-08-15T18:05:41.040Z"
   },
   {
    "duration": 2713,
    "start_time": "2021-08-15T18:08:57.182Z"
   },
   {
    "duration": 22,
    "start_time": "2021-08-15T18:09:05.662Z"
   },
   {
    "duration": 11,
    "start_time": "2021-08-15T18:09:20.492Z"
   },
   {
    "duration": 22,
    "start_time": "2021-08-15T18:09:29.069Z"
   },
   {
    "duration": 13,
    "start_time": "2021-08-15T18:09:39.917Z"
   },
   {
    "duration": 9447,
    "start_time": "2021-08-15T18:10:07.468Z"
   },
   {
    "duration": 24,
    "start_time": "2021-08-15T18:10:27.924Z"
   },
   {
    "duration": 14,
    "start_time": "2021-08-15T18:10:37.531Z"
   },
   {
    "duration": 179,
    "start_time": "2021-08-15T18:11:08.587Z"
   },
   {
    "duration": 9,
    "start_time": "2021-08-15T18:11:13.563Z"
   },
   {
    "duration": 9,
    "start_time": "2021-08-15T18:11:44.139Z"
   },
   {
    "duration": 377,
    "start_time": "2021-08-15T18:12:01.146Z"
   },
   {
    "duration": 7,
    "start_time": "2021-08-15T18:12:11.035Z"
   },
   {
    "duration": 21,
    "start_time": "2021-08-15T21:17:37.443Z"
   },
   {
    "duration": 8,
    "start_time": "2021-08-15T21:18:40.809Z"
   },
   {
    "duration": 10,
    "start_time": "2021-08-15T21:22:38.563Z"
   },
   {
    "duration": 8,
    "start_time": "2021-08-15T21:25:37.914Z"
   },
   {
    "duration": 9,
    "start_time": "2021-08-15T21:25:53.826Z"
   },
   {
    "duration": 8,
    "start_time": "2021-08-15T21:28:34.832Z"
   },
   {
    "duration": 10,
    "start_time": "2021-08-15T21:28:40.583Z"
   },
   {
    "duration": 8,
    "start_time": "2021-08-15T21:29:00.935Z"
   },
   {
    "duration": 8,
    "start_time": "2021-08-15T21:29:04.759Z"
   },
   {
    "duration": 276,
    "start_time": "2021-08-16T12:17:19.944Z"
   },
   {
    "duration": 625,
    "start_time": "2021-08-16T12:17:39.171Z"
   },
   {
    "duration": 475,
    "start_time": "2021-08-16T12:17:39.798Z"
   },
   {
    "duration": 5,
    "start_time": "2021-08-16T12:17:40.275Z"
   },
   {
    "duration": 28,
    "start_time": "2021-08-16T12:17:40.281Z"
   },
   {
    "duration": 3099,
    "start_time": "2021-08-16T12:17:40.310Z"
   },
   {
    "duration": 21,
    "start_time": "2021-08-16T12:17:43.411Z"
   },
   {
    "duration": 9,
    "start_time": "2021-08-16T12:17:43.434Z"
   },
   {
    "duration": 5,
    "start_time": "2021-08-16T12:17:43.445Z"
   },
   {
    "duration": 6,
    "start_time": "2021-08-16T12:17:57.667Z"
   },
   {
    "duration": 7,
    "start_time": "2021-08-16T12:18:51.219Z"
   },
   {
    "duration": 257,
    "start_time": "2021-08-16T12:19:09.571Z"
   },
   {
    "duration": 83,
    "start_time": "2021-08-16T12:19:58.890Z"
   },
   {
    "duration": 14,
    "start_time": "2021-08-16T12:20:09.457Z"
   },
   {
    "duration": 5,
    "start_time": "2021-08-16T12:20:18.801Z"
   },
   {
    "duration": 6,
    "start_time": "2021-08-16T12:20:29.985Z"
   },
   {
    "duration": 6,
    "start_time": "2021-08-16T12:21:32.440Z"
   },
   {
    "duration": 5,
    "start_time": "2021-08-16T12:56:45.039Z"
   },
   {
    "duration": 8,
    "start_time": "2021-08-16T12:58:42.653Z"
   },
   {
    "duration": 8,
    "start_time": "2021-08-16T12:59:25.572Z"
   },
   {
    "duration": 5,
    "start_time": "2021-08-16T12:59:54.564Z"
   },
   {
    "duration": 6,
    "start_time": "2021-08-16T13:01:05.410Z"
   },
   {
    "duration": 4611,
    "start_time": "2021-08-16T13:02:07.345Z"
   },
   {
    "duration": 16,
    "start_time": "2021-08-16T13:02:34.266Z"
   },
   {
    "duration": 9,
    "start_time": "2021-08-16T13:03:23.384Z"
   },
   {
    "duration": 10,
    "start_time": "2021-08-16T13:03:36.503Z"
   },
   {
    "duration": 14,
    "start_time": "2021-08-16T13:03:41.751Z"
   },
   {
    "duration": 17,
    "start_time": "2021-08-16T13:04:29.607Z"
   },
   {
    "duration": 11,
    "start_time": "2021-08-16T13:04:47.526Z"
   },
   {
    "duration": 9,
    "start_time": "2021-08-16T13:16:35.602Z"
   },
   {
    "duration": 10,
    "start_time": "2021-08-16T13:16:45.899Z"
   },
   {
    "duration": 9,
    "start_time": "2021-08-16T13:19:01.665Z"
   },
   {
    "duration": 8,
    "start_time": "2021-08-16T13:19:53.288Z"
   },
   {
    "duration": 247,
    "start_time": "2021-08-16T13:23:34.397Z"
   },
   {
    "duration": 245,
    "start_time": "2021-08-16T13:23:59.678Z"
   },
   {
    "duration": 8,
    "start_time": "2021-08-16T13:24:05.124Z"
   },
   {
    "duration": 7,
    "start_time": "2021-08-16T13:26:19.154Z"
   },
   {
    "duration": 7,
    "start_time": "2021-08-16T13:27:25.759Z"
   },
   {
    "duration": 86,
    "start_time": "2021-08-16T13:38:06.149Z"
   },
   {
    "duration": 6733,
    "start_time": "2021-08-16T13:38:11.590Z"
   },
   {
    "duration": 6251,
    "start_time": "2021-08-16T13:38:30.895Z"
   },
   {
    "duration": 10,
    "start_time": "2021-08-16T13:39:23.926Z"
   },
   {
    "duration": 5,
    "start_time": "2021-08-16T13:39:43.293Z"
   },
   {
    "duration": 4,
    "start_time": "2021-08-16T13:40:49.524Z"
   },
   {
    "duration": 4,
    "start_time": "2021-08-16T13:41:25.723Z"
   },
   {
    "duration": 9,
    "start_time": "2021-08-16T13:41:31.707Z"
   },
   {
    "duration": 6,
    "start_time": "2021-08-16T13:51:57.138Z"
   },
   {
    "duration": 9,
    "start_time": "2021-08-16T13:53:30.056Z"
   },
   {
    "duration": 8,
    "start_time": "2021-08-16T13:54:29.814Z"
   },
   {
    "duration": 9,
    "start_time": "2021-08-16T13:55:05.645Z"
   },
   {
    "duration": 10,
    "start_time": "2021-08-16T13:55:43.469Z"
   },
   {
    "duration": 9,
    "start_time": "2021-08-16T13:56:19.165Z"
   },
   {
    "duration": 8,
    "start_time": "2021-08-16T13:56:35.117Z"
   },
   {
    "duration": 8,
    "start_time": "2021-08-16T13:56:50.380Z"
   },
   {
    "duration": 10,
    "start_time": "2021-08-16T13:57:18.500Z"
   },
   {
    "duration": 4,
    "start_time": "2021-08-16T14:43:55.998Z"
   },
   {
    "duration": 4,
    "start_time": "2021-08-16T14:44:09.078Z"
   },
   {
    "duration": 4,
    "start_time": "2021-08-16T14:44:17.942Z"
   },
   {
    "duration": 5,
    "start_time": "2021-08-16T15:08:12.572Z"
   },
   {
    "duration": 4,
    "start_time": "2021-08-16T15:08:18.006Z"
   },
   {
    "duration": 5,
    "start_time": "2021-08-16T15:08:21.630Z"
   },
   {
    "duration": 4,
    "start_time": "2021-08-16T15:08:28.758Z"
   },
   {
    "duration": 4,
    "start_time": "2021-08-16T15:08:30.751Z"
   },
   {
    "duration": 4,
    "start_time": "2021-08-16T15:08:34.806Z"
   },
   {
    "duration": 4,
    "start_time": "2021-08-16T15:08:39.838Z"
   },
   {
    "duration": 14,
    "start_time": "2021-08-16T15:10:00.957Z"
   },
   {
    "duration": 16,
    "start_time": "2021-08-16T15:13:18.106Z"
   },
   {
    "duration": 16,
    "start_time": "2021-08-16T15:13:28.497Z"
   },
   {
    "duration": 16,
    "start_time": "2021-08-16T15:14:51.344Z"
   },
   {
    "duration": 19,
    "start_time": "2021-08-16T15:27:30.321Z"
   },
   {
    "duration": 8,
    "start_time": "2021-08-16T15:30:18.519Z"
   },
   {
    "duration": 7,
    "start_time": "2021-08-16T15:33:15.886Z"
   },
   {
    "duration": 7,
    "start_time": "2021-08-16T15:33:30.774Z"
   },
   {
    "duration": 9,
    "start_time": "2021-08-16T15:33:45.502Z"
   },
   {
    "duration": 7,
    "start_time": "2021-08-16T15:33:57.078Z"
   },
   {
    "duration": 8,
    "start_time": "2021-08-16T15:35:58.355Z"
   },
   {
    "duration": 60,
    "start_time": "2021-08-16T16:05:14.716Z"
   },
   {
    "duration": 474,
    "start_time": "2021-08-16T16:05:28.295Z"
   },
   {
    "duration": 477,
    "start_time": "2021-08-16T16:05:48.854Z"
   },
   {
    "duration": 492,
    "start_time": "2021-08-16T16:06:01.735Z"
   },
   {
    "duration": 482,
    "start_time": "2021-08-16T16:06:22.654Z"
   },
   {
    "duration": 723,
    "start_time": "2021-08-16T16:06:45.965Z"
   },
   {
    "duration": 482,
    "start_time": "2021-08-16T16:06:49.518Z"
   },
   {
    "duration": 9,
    "start_time": "2021-08-16T16:11:17.857Z"
   },
   {
    "duration": 16,
    "start_time": "2021-08-16T16:11:41.872Z"
   },
   {
    "duration": 3378,
    "start_time": "2021-08-16T16:12:03.048Z"
   },
   {
    "duration": 3291,
    "start_time": "2021-08-16T16:12:14.361Z"
   },
   {
    "duration": 24,
    "start_time": "2021-08-16T16:12:36.520Z"
   },
   {
    "duration": 12,
    "start_time": "2021-08-16T16:14:12.582Z"
   },
   {
    "duration": 18,
    "start_time": "2021-08-16T16:14:21.534Z"
   },
   {
    "duration": 7,
    "start_time": "2021-08-16T16:14:26.886Z"
   },
   {
    "duration": 863,
    "start_time": "2021-08-16T18:16:27.241Z"
   },
   {
    "duration": 914,
    "start_time": "2021-08-16T18:16:28.107Z"
   },
   {
    "duration": 13,
    "start_time": "2021-08-16T18:16:29.024Z"
   },
   {
    "duration": 58,
    "start_time": "2021-08-16T18:16:29.040Z"
   },
   {
    "duration": 4879,
    "start_time": "2021-08-16T18:16:29.100Z"
   },
   {
    "duration": 64,
    "start_time": "2021-08-16T18:16:33.988Z"
   },
   {
    "duration": 42,
    "start_time": "2021-08-16T18:16:34.055Z"
   },
   {
    "duration": 15,
    "start_time": "2021-08-16T18:16:34.100Z"
   },
   {
    "duration": 32,
    "start_time": "2021-08-16T18:16:34.119Z"
   },
   {
    "duration": 41,
    "start_time": "2021-08-16T18:16:34.153Z"
   },
   {
    "duration": 444,
    "start_time": "2021-08-17T10:06:40.289Z"
   },
   {
    "duration": 812,
    "start_time": "2021-08-17T10:06:49.101Z"
   },
   {
    "duration": 85,
    "start_time": "2021-08-17T10:07:02.661Z"
   },
   {
    "duration": 916,
    "start_time": "2021-08-17T10:07:02.749Z"
   },
   {
    "duration": 12,
    "start_time": "2021-08-17T10:07:03.668Z"
   },
   {
    "duration": 51,
    "start_time": "2021-08-17T10:07:06.685Z"
   },
   {
    "duration": 45,
    "start_time": "2021-08-17T10:07:29.853Z"
   },
   {
    "duration": 41,
    "start_time": "2021-08-17T10:07:45.085Z"
   },
   {
    "duration": 52,
    "start_time": "2021-08-17T10:08:10.244Z"
   },
   {
    "duration": 42,
    "start_time": "2021-08-17T10:08:29.924Z"
   },
   {
    "duration": 25,
    "start_time": "2021-08-17T10:08:36.059Z"
   },
   {
    "duration": 26,
    "start_time": "2021-08-17T10:08:45.339Z"
   },
   {
    "duration": 24,
    "start_time": "2021-08-17T10:09:11.043Z"
   },
   {
    "duration": 39,
    "start_time": "2021-08-17T10:09:22.203Z"
   },
   {
    "duration": 8779,
    "start_time": "2021-08-17T10:11:11.937Z"
   },
   {
    "duration": 37,
    "start_time": "2021-08-17T10:11:22.401Z"
   },
   {
    "duration": 45,
    "start_time": "2021-08-17T10:13:17.831Z"
   },
   {
    "duration": 31,
    "start_time": "2021-08-17T10:13:53.870Z"
   },
   {
    "duration": 9,
    "start_time": "2021-08-17T10:14:25.829Z"
   },
   {
    "duration": 19,
    "start_time": "2021-08-17T10:14:57.263Z"
   },
   {
    "duration": 11,
    "start_time": "2021-08-17T10:15:26.877Z"
   },
   {
    "duration": 10,
    "start_time": "2021-08-17T10:15:58.605Z"
   },
   {
    "duration": 10,
    "start_time": "2021-08-17T10:16:14.356Z"
   },
   {
    "duration": 9,
    "start_time": "2021-08-17T10:16:38.468Z"
   },
   {
    "duration": 9,
    "start_time": "2021-08-17T10:17:01.837Z"
   },
   {
    "duration": 9,
    "start_time": "2021-08-17T10:17:27.411Z"
   },
   {
    "duration": 10,
    "start_time": "2021-08-17T10:17:44.874Z"
   },
   {
    "duration": 12,
    "start_time": "2021-08-17T10:21:25.360Z"
   },
   {
    "duration": 170,
    "start_time": "2021-08-17T10:37:41.575Z"
   },
   {
    "duration": 126,
    "start_time": "2021-08-17T10:37:48.335Z"
   },
   {
    "duration": 376,
    "start_time": "2021-08-17T10:38:06.487Z"
   },
   {
    "duration": 24,
    "start_time": "2021-08-17T10:39:39.742Z"
   },
   {
    "duration": 114,
    "start_time": "2021-08-17T10:40:00.981Z"
   },
   {
    "duration": 354,
    "start_time": "2021-08-17T10:40:17.309Z"
   },
   {
    "duration": 787,
    "start_time": "2021-08-17T10:45:01.438Z"
   },
   {
    "duration": 10,
    "start_time": "2021-08-17T10:45:27.800Z"
   },
   {
    "duration": 682,
    "start_time": "2021-08-17T10:47:56.317Z"
   },
   {
    "duration": 675,
    "start_time": "2021-08-17T10:49:47.644Z"
   },
   {
    "duration": 604,
    "start_time": "2021-08-17T10:50:37.987Z"
   },
   {
    "duration": 12,
    "start_time": "2021-08-17T10:51:19.171Z"
   },
   {
    "duration": 26,
    "start_time": "2021-08-17T10:52:07.538Z"
   },
   {
    "duration": 28,
    "start_time": "2021-08-17T10:52:12.081Z"
   },
   {
    "duration": 30,
    "start_time": "2021-08-17T10:52:53.088Z"
   },
   {
    "duration": 119,
    "start_time": "2021-08-17T10:59:29.330Z"
   },
   {
    "duration": 28,
    "start_time": "2021-08-17T10:59:36.546Z"
   },
   {
    "duration": 49,
    "start_time": "2021-08-17T11:09:35.287Z"
   },
   {
    "duration": 49,
    "start_time": "2021-08-17T11:19:07.450Z"
   },
   {
    "duration": 46,
    "start_time": "2021-08-17T11:19:22.367Z"
   },
   {
    "duration": 106,
    "start_time": "2021-08-17T11:30:38.322Z"
   },
   {
    "duration": 959,
    "start_time": "2021-08-17T11:32:52.058Z"
   },
   {
    "duration": 112,
    "start_time": "2021-08-17T11:33:15.758Z"
   },
   {
    "duration": 958,
    "start_time": "2021-08-17T11:33:15.872Z"
   },
   {
    "duration": 25,
    "start_time": "2021-08-17T11:33:16.833Z"
   },
   {
    "duration": 43,
    "start_time": "2021-08-17T11:33:16.861Z"
   },
   {
    "duration": 4617,
    "start_time": "2021-08-17T11:33:16.906Z"
   },
   {
    "duration": 60,
    "start_time": "2021-08-17T11:33:21.526Z"
   },
   {
    "duration": 14,
    "start_time": "2021-08-17T11:33:21.588Z"
   },
   {
    "duration": 17,
    "start_time": "2021-08-17T11:33:21.606Z"
   },
   {
    "duration": 34,
    "start_time": "2021-08-17T11:33:21.655Z"
   },
   {
    "duration": 12,
    "start_time": "2021-08-17T11:33:21.692Z"
   },
   {
    "duration": 959,
    "start_time": "2021-08-17T11:33:29.649Z"
   },
   {
    "duration": 15,
    "start_time": "2021-08-17T11:33:40.682Z"
   },
   {
    "duration": 55,
    "start_time": "2021-08-17T11:35:07.095Z"
   },
   {
    "duration": 48,
    "start_time": "2021-08-17T11:38:38.916Z"
   },
   {
    "duration": 13,
    "start_time": "2021-08-17T11:38:47.716Z"
   },
   {
    "duration": 15,
    "start_time": "2021-08-17T11:39:01.107Z"
   },
   {
    "duration": 27,
    "start_time": "2021-08-17T11:39:09.756Z"
   },
   {
    "duration": 15,
    "start_time": "2021-08-17T11:39:23.795Z"
   },
   {
    "duration": 600,
    "start_time": "2022-02-17T18:18:12.023Z"
   },
   {
    "duration": 550,
    "start_time": "2022-02-17T18:19:19.729Z"
   },
   {
    "duration": 62,
    "start_time": "2022-02-17T18:27:19.130Z"
   },
   {
    "duration": 81,
    "start_time": "2022-02-17T18:27:25.575Z"
   },
   {
    "duration": 466,
    "start_time": "2022-02-17T18:27:31.215Z"
   },
   {
    "duration": 60,
    "start_time": "2022-02-17T18:28:43.567Z"
   },
   {
    "duration": 64,
    "start_time": "2022-02-17T18:28:51.190Z"
   },
   {
    "duration": 620,
    "start_time": "2022-02-17T18:29:01.589Z"
   },
   {
    "duration": 87,
    "start_time": "2022-02-17T18:29:10.343Z"
   },
   {
    "duration": 320,
    "start_time": "2022-02-17T18:29:16.413Z"
   },
   {
    "duration": 332,
    "start_time": "2022-02-17T18:29:42.196Z"
   },
   {
    "duration": 580,
    "start_time": "2022-02-17T18:29:49.188Z"
   },
   {
    "duration": 335,
    "start_time": "2022-02-17T18:29:57.860Z"
   },
   {
    "duration": 338,
    "start_time": "2022-02-17T18:30:25.284Z"
   },
   {
    "duration": 335,
    "start_time": "2022-02-17T18:30:47.860Z"
   },
   {
    "duration": 631,
    "start_time": "2022-02-17T18:32:45.141Z"
   },
   {
    "duration": 67,
    "start_time": "2022-02-17T18:32:52.861Z"
   },
   {
    "duration": 424,
    "start_time": "2022-02-17T18:32:58.102Z"
   },
   {
    "duration": 14,
    "start_time": "2022-02-17T18:37:27.273Z"
   },
   {
    "duration": 53,
    "start_time": "2022-02-17T18:41:52.467Z"
   },
   {
    "duration": 62,
    "start_time": "2022-02-17T18:43:03.538Z"
   },
   {
    "duration": 627,
    "start_time": "2022-02-17T18:43:24.880Z"
   },
   {
    "duration": 68,
    "start_time": "2022-02-17T18:43:28.216Z"
   },
   {
    "duration": 448,
    "start_time": "2022-02-17T18:43:30.217Z"
   },
   {
    "duration": 15,
    "start_time": "2022-02-17T18:43:33.625Z"
   },
   {
    "duration": 64,
    "start_time": "2022-02-17T18:43:38.408Z"
   },
   {
    "duration": 67,
    "start_time": "2022-02-17T18:48:19.482Z"
   },
   {
    "duration": 53,
    "start_time": "2022-02-17T18:48:40.187Z"
   },
   {
    "duration": 63,
    "start_time": "2022-02-17T18:48:47.523Z"
   },
   {
    "duration": 66,
    "start_time": "2022-02-17T18:48:58.466Z"
   },
   {
    "duration": 65,
    "start_time": "2022-02-17T18:49:23.978Z"
   },
   {
    "duration": 67,
    "start_time": "2022-02-17T18:49:34.890Z"
   },
   {
    "duration": 63,
    "start_time": "2022-02-17T18:49:58.353Z"
   },
   {
    "duration": 65,
    "start_time": "2022-02-17T18:50:07.497Z"
   },
   {
    "duration": 63,
    "start_time": "2022-02-17T18:50:17.202Z"
   },
   {
    "duration": 68,
    "start_time": "2022-02-17T18:50:27.825Z"
   },
   {
    "duration": 654,
    "start_time": "2022-02-17T18:52:35.563Z"
   },
   {
    "duration": 73,
    "start_time": "2022-02-17T18:52:39.673Z"
   },
   {
    "duration": 446,
    "start_time": "2022-02-17T18:52:42.410Z"
   },
   {
    "duration": 14,
    "start_time": "2022-02-17T18:52:49.745Z"
   },
   {
    "duration": 64,
    "start_time": "2022-02-17T18:52:56.834Z"
   },
   {
    "duration": 621,
    "start_time": "2022-02-17T18:53:36.322Z"
   },
   {
    "duration": 73,
    "start_time": "2022-02-17T18:54:13.561Z"
   },
   {
    "duration": 443,
    "start_time": "2022-02-17T18:54:15.889Z"
   },
   {
    "duration": 15,
    "start_time": "2022-02-17T18:54:19.537Z"
   },
   {
    "duration": 74,
    "start_time": "2022-02-17T18:54:28.961Z"
   },
   {
    "duration": 935,
    "start_time": "2022-02-25T17:11:11.179Z"
   },
   {
    "duration": 112,
    "start_time": "2022-02-25T17:11:12.116Z"
   },
   {
    "duration": 759,
    "start_time": "2022-02-25T17:11:12.231Z"
   },
   {
    "duration": 28,
    "start_time": "2022-02-25T17:11:12.992Z"
   },
   {
    "duration": 126,
    "start_time": "2022-02-25T17:11:13.022Z"
   },
   {
    "duration": 5032,
    "start_time": "2022-02-25T17:11:13.151Z"
   },
   {
    "duration": 64,
    "start_time": "2022-02-25T17:11:18.186Z"
   },
   {
    "duration": 21,
    "start_time": "2022-02-25T17:11:18.254Z"
   },
   {
    "duration": 36,
    "start_time": "2022-02-25T17:11:18.278Z"
   },
   {
    "duration": 32,
    "start_time": "2022-02-25T17:11:18.316Z"
   },
   {
    "duration": 11,
    "start_time": "2022-02-25T17:11:18.350Z"
   },
   {
    "duration": 178,
    "start_time": "2022-02-25T17:13:26.243Z"
   },
   {
    "duration": 866,
    "start_time": "2022-02-25T17:13:30.546Z"
   },
   {
    "duration": 113,
    "start_time": "2022-02-25T17:13:31.415Z"
   },
   {
    "duration": 765,
    "start_time": "2022-02-25T17:13:31.531Z"
   },
   {
    "duration": 23,
    "start_time": "2022-02-25T17:13:32.299Z"
   },
   {
    "duration": 192,
    "start_time": "2022-02-25T17:13:32.325Z"
   },
   {
    "duration": 5328,
    "start_time": "2022-02-25T17:13:32.520Z"
   },
   {
    "duration": 65,
    "start_time": "2022-02-25T17:13:37.851Z"
   },
   {
    "duration": 23,
    "start_time": "2022-02-25T17:13:37.920Z"
   },
   {
    "duration": 15,
    "start_time": "2022-02-25T17:13:37.946Z"
   },
   {
    "duration": 64,
    "start_time": "2022-02-25T17:13:37.963Z"
   },
   {
    "duration": 12,
    "start_time": "2022-02-25T17:13:38.030Z"
   },
   {
    "duration": 591,
    "start_time": "2022-02-25T17:18:43.521Z"
   },
   {
    "duration": 1443,
    "start_time": "2022-02-25T17:18:48.651Z"
   },
   {
    "duration": -54,
    "start_time": "2022-02-25T17:18:50.151Z"
   },
   {
    "duration": -59,
    "start_time": "2022-02-25T17:18:50.158Z"
   },
   {
    "duration": -61,
    "start_time": "2022-02-25T17:18:50.161Z"
   },
   {
    "duration": -61,
    "start_time": "2022-02-25T17:18:50.162Z"
   },
   {
    "duration": -61,
    "start_time": "2022-02-25T17:18:50.164Z"
   },
   {
    "duration": -63,
    "start_time": "2022-02-25T17:18:50.167Z"
   },
   {
    "duration": -66,
    "start_time": "2022-02-25T17:18:50.172Z"
   },
   {
    "duration": -66,
    "start_time": "2022-02-25T17:18:50.174Z"
   },
   {
    "duration": -67,
    "start_time": "2022-02-25T17:18:50.176Z"
   },
   {
    "duration": -68,
    "start_time": "2022-02-25T17:18:50.179Z"
   },
   {
    "duration": 871,
    "start_time": "2022-02-25T17:19:11.229Z"
   },
   {
    "duration": 117,
    "start_time": "2022-02-25T17:19:12.104Z"
   },
   {
    "duration": 898,
    "start_time": "2022-02-25T17:19:12.225Z"
   },
   {
    "duration": 22,
    "start_time": "2022-02-25T17:19:13.126Z"
   },
   {
    "duration": 192,
    "start_time": "2022-02-25T17:19:13.150Z"
   },
   {
    "duration": 5339,
    "start_time": "2022-02-25T17:19:13.344Z"
   },
   {
    "duration": 63,
    "start_time": "2022-02-25T17:19:18.686Z"
   },
   {
    "duration": 23,
    "start_time": "2022-02-25T17:19:18.752Z"
   },
   {
    "duration": 39,
    "start_time": "2022-02-25T17:19:18.778Z"
   },
   {
    "duration": 30,
    "start_time": "2022-02-25T17:19:18.820Z"
   },
   {
    "duration": 12,
    "start_time": "2022-02-25T17:19:18.853Z"
   },
   {
    "duration": 96,
    "start_time": "2022-02-25T17:25:00.581Z"
   },
   {
    "duration": 90,
    "start_time": "2022-02-25T17:25:26.485Z"
   },
   {
    "duration": 857,
    "start_time": "2022-02-25T17:26:10.155Z"
   },
   {
    "duration": 23,
    "start_time": "2022-02-25T17:27:07.803Z"
   },
   {
    "duration": 178,
    "start_time": "2022-02-25T17:32:21.251Z"
   },
   {
    "duration": 168,
    "start_time": "2022-02-25T17:48:46.699Z"
   },
   {
    "duration": 191,
    "start_time": "2022-02-25T17:48:54.348Z"
   },
   {
    "duration": 880,
    "start_time": "2022-02-25T17:49:04.171Z"
   },
   {
    "duration": 128,
    "start_time": "2022-02-25T17:49:05.054Z"
   },
   {
    "duration": 811,
    "start_time": "2022-02-25T17:49:05.185Z"
   },
   {
    "duration": 25,
    "start_time": "2022-02-25T17:49:06.012Z"
   },
   {
    "duration": 208,
    "start_time": "2022-02-25T17:49:06.040Z"
   },
   {
    "duration": 5520,
    "start_time": "2022-02-25T17:49:06.250Z"
   },
   {
    "duration": 64,
    "start_time": "2022-02-25T17:49:11.773Z"
   },
   {
    "duration": 22,
    "start_time": "2022-02-25T17:49:11.841Z"
   },
   {
    "duration": 14,
    "start_time": "2022-02-25T17:49:11.865Z"
   },
   {
    "duration": 54,
    "start_time": "2022-02-25T17:49:11.881Z"
   },
   {
    "duration": 12,
    "start_time": "2022-02-25T17:49:11.937Z"
   },
   {
    "duration": 876,
    "start_time": "2022-02-25T17:50:10.347Z"
   },
   {
    "duration": 118,
    "start_time": "2022-02-25T17:50:11.226Z"
   },
   {
    "duration": 781,
    "start_time": "2022-02-25T17:50:11.348Z"
   },
   {
    "duration": 24,
    "start_time": "2022-02-25T17:50:12.132Z"
   },
   {
    "duration": 172,
    "start_time": "2022-02-25T17:50:12.159Z"
   },
   {
    "duration": 5201,
    "start_time": "2022-02-25T17:50:12.333Z"
   },
   {
    "duration": 50,
    "start_time": "2022-02-25T17:50:17.536Z"
   },
   {
    "duration": 23,
    "start_time": "2022-02-25T17:50:17.610Z"
   },
   {
    "duration": 15,
    "start_time": "2022-02-25T17:50:17.636Z"
   },
   {
    "duration": 56,
    "start_time": "2022-02-25T17:50:17.654Z"
   },
   {
    "duration": 14,
    "start_time": "2022-02-25T17:50:17.712Z"
   },
   {
    "duration": 49,
    "start_time": "2022-02-25T18:13:29.723Z"
   },
   {
    "duration": 914,
    "start_time": "2022-02-25T18:14:39.196Z"
   },
   {
    "duration": 111,
    "start_time": "2022-02-25T18:14:40.113Z"
   },
   {
    "duration": 775,
    "start_time": "2022-02-25T18:14:40.228Z"
   },
   {
    "duration": 24,
    "start_time": "2022-02-25T18:14:41.012Z"
   },
   {
    "duration": 173,
    "start_time": "2022-02-25T18:14:41.039Z"
   },
   {
    "duration": 5467,
    "start_time": "2022-02-25T18:14:41.214Z"
   },
   {
    "duration": 86,
    "start_time": "2022-02-25T18:14:46.691Z"
   },
   {
    "duration": 94,
    "start_time": "2022-02-25T18:14:46.782Z"
   },
   {
    "duration": 94,
    "start_time": "2022-02-25T18:14:46.880Z"
   },
   {
    "duration": 44,
    "start_time": "2022-02-25T18:14:46.978Z"
   },
   {
    "duration": 33,
    "start_time": "2022-02-25T18:14:47.026Z"
   },
   {
    "duration": 19,
    "start_time": "2022-02-25T18:16:20.591Z"
   },
   {
    "duration": 467,
    "start_time": "2022-02-25T18:17:47.621Z"
   },
   {
    "duration": 18,
    "start_time": "2022-02-25T18:17:54.213Z"
   },
   {
    "duration": 19,
    "start_time": "2022-02-25T18:54:51.491Z"
   },
   {
    "duration": 13,
    "start_time": "2022-02-25T19:43:23.555Z"
   },
   {
    "duration": 11,
    "start_time": "2022-02-25T19:43:55.173Z"
   },
   {
    "duration": 34,
    "start_time": "2022-02-25T19:48:05.233Z"
   },
   {
    "duration": 24,
    "start_time": "2022-02-25T19:50:25.303Z"
   },
   {
    "duration": 10,
    "start_time": "2022-02-25T19:51:26.125Z"
   },
   {
    "duration": 448,
    "start_time": "2022-02-25T19:54:44.106Z"
   },
   {
    "duration": 378,
    "start_time": "2022-02-25T19:54:51.012Z"
   },
   {
    "duration": 366,
    "start_time": "2022-02-25T19:54:54.185Z"
   },
   {
    "duration": 305,
    "start_time": "2022-02-25T19:55:00.877Z"
   },
   {
    "duration": 892,
    "start_time": "2022-02-25T19:55:17.011Z"
   },
   {
    "duration": 105,
    "start_time": "2022-02-25T19:55:17.905Z"
   },
   {
    "duration": 858,
    "start_time": "2022-02-25T19:55:18.013Z"
   },
   {
    "duration": 44,
    "start_time": "2022-02-25T19:55:18.874Z"
   },
   {
    "duration": 135,
    "start_time": "2022-02-25T19:55:18.921Z"
   },
   {
    "duration": 5312,
    "start_time": "2022-02-25T19:55:19.058Z"
   },
   {
    "duration": 70,
    "start_time": "2022-02-25T19:55:24.373Z"
   },
   {
    "duration": 14,
    "start_time": "2022-02-25T19:55:24.446Z"
   },
   {
    "duration": 11,
    "start_time": "2022-02-25T19:55:24.462Z"
   },
   {
    "duration": 61,
    "start_time": "2022-02-25T19:55:24.476Z"
   },
   {
    "duration": 12,
    "start_time": "2022-02-25T19:55:24.540Z"
   }
  ],
  "kernelspec": {
   "display_name": "Python 3 (ipykernel)",
   "language": "python",
   "name": "python3"
  },
  "language_info": {
   "codemirror_mode": {
    "name": "ipython",
    "version": 3
   },
   "file_extension": ".py",
   "mimetype": "text/x-python",
   "name": "python",
   "nbconvert_exporter": "python",
   "pygments_lexer": "ipython3",
   "version": "3.9.7"
  },
  "toc": {
   "base_numbering": 1,
   "nav_menu": {},
   "number_sections": true,
   "sideBar": true,
   "skip_h1_title": true,
   "title_cell": "Table of Contents",
   "title_sidebar": "Contents",
   "toc_cell": false,
   "toc_position": {},
   "toc_section_display": true,
   "toc_window_display": true
  }
 },
 "nbformat": 4,
 "nbformat_minor": 2
}
