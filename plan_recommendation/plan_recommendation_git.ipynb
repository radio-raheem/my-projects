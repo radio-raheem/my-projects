{
 "cells": [
  {
   "cell_type": "markdown",
   "metadata": {},
   "source": [
    "# Plan recommendation"
   ]
  },
  {
   "cell_type": "markdown",
   "metadata": {},
   "source": [
    "\n",
    "What do you think about when you imagine the country's mobile communications market? I would venture to guess that there are several telecommunications companies competing for customers. However, when companies have already divided the market among themselves, it may make more sense to put efforts into retaining customers rather than attracting new ones.\n",
    "\n",
    "The mobile operator found out: many customers use archival tariffs. He wants to build a system that can analyze customer behavior and offer users a new plan: \"Smart\" or \"Ultra\".\n",
    "\n",
    "We have data on the behavior of customers who have already switched to these plans. You need to build a model for the classification problem that will select the appropriate plan.\n",
    "\n",
    "Our task is to build a model with an **accuracy** value of at least 0.75."
   ]
  },
  {
   "cell_type": "markdown",
   "metadata": {},
   "source": [
    "The key steps are:\n",
    "* Data exploration\n",
    "* Splitting the data into samples\n",
    "* Testing the quality of different models\n",
    "* Testing the quality of the model on a test sample\n",
    "* Sanity checking the model\n",
    "\n",
    "**Data Description**\n",
    "\n",
    "Each object in the dataset is information about the behavior of one user per month. Known:  \n",
    "* **calls** — number of calls,  \n",
    "* **minutes** — total duration of calls in minutes,  \n",
    "* **messages** — number of sms messages,  \n",
    "* **mb_used** - Internet traffic used in Mb,  \n",
    "* **is_ultra** - what plan did you use during the month (\"Ultra\" - 1, \"Smart\" - 0).\n",
    "\n",
    "\n",
    "The project is made in **Jupyter Notebook**, Notebook server version: 6.1.4. Version **Python** 3.7.8.\n",
    "Libraries used in the project:\n",
    "* **Pandas**\n",
    "* **NumPy**\n",
    "* **Math**\n",
    "* **scikit-learn**\n",
    "* **IPython**"
   ]
  },
  {
   "cell_type": "markdown",
   "metadata": {},
   "source": [
    "## Data Exploration"
   ]
  },
  {
   "cell_type": "code",
   "execution_count": 1,
   "metadata": {},
   "outputs": [
    {
     "data": {
      "text/html": [
       "<div>\n",
       "<style scoped>\n",
       "    .dataframe tbody tr th:only-of-type {\n",
       "        vertical-align: middle;\n",
       "    }\n",
       "\n",
       "    .dataframe tbody tr th {\n",
       "        vertical-align: top;\n",
       "    }\n",
       "\n",
       "    .dataframe thead th {\n",
       "        text-align: right;\n",
       "    }\n",
       "</style>\n",
       "<table border=\"1\" class=\"dataframe\">\n",
       "  <thead>\n",
       "    <tr style=\"text-align: right;\">\n",
       "      <th></th>\n",
       "      <th>calls</th>\n",
       "      <th>minutes</th>\n",
       "      <th>messages</th>\n",
       "      <th>mb_used</th>\n",
       "      <th>is_ultra</th>\n",
       "    </tr>\n",
       "  </thead>\n",
       "  <tbody>\n",
       "    <tr>\n",
       "      <th>0</th>\n",
       "      <td>40.0</td>\n",
       "      <td>311.90</td>\n",
       "      <td>83.0</td>\n",
       "      <td>19915.42</td>\n",
       "      <td>0</td>\n",
       "    </tr>\n",
       "    <tr>\n",
       "      <th>1</th>\n",
       "      <td>85.0</td>\n",
       "      <td>516.75</td>\n",
       "      <td>56.0</td>\n",
       "      <td>22696.96</td>\n",
       "      <td>0</td>\n",
       "    </tr>\n",
       "    <tr>\n",
       "      <th>2</th>\n",
       "      <td>77.0</td>\n",
       "      <td>467.66</td>\n",
       "      <td>86.0</td>\n",
       "      <td>21060.45</td>\n",
       "      <td>0</td>\n",
       "    </tr>\n",
       "    <tr>\n",
       "      <th>3</th>\n",
       "      <td>106.0</td>\n",
       "      <td>745.53</td>\n",
       "      <td>81.0</td>\n",
       "      <td>8437.39</td>\n",
       "      <td>1</td>\n",
       "    </tr>\n",
       "    <tr>\n",
       "      <th>4</th>\n",
       "      <td>66.0</td>\n",
       "      <td>418.74</td>\n",
       "      <td>1.0</td>\n",
       "      <td>14502.75</td>\n",
       "      <td>0</td>\n",
       "    </tr>\n",
       "    <tr>\n",
       "      <th>...</th>\n",
       "      <td>...</td>\n",
       "      <td>...</td>\n",
       "      <td>...</td>\n",
       "      <td>...</td>\n",
       "      <td>...</td>\n",
       "    </tr>\n",
       "    <tr>\n",
       "      <th>3209</th>\n",
       "      <td>122.0</td>\n",
       "      <td>910.98</td>\n",
       "      <td>20.0</td>\n",
       "      <td>35124.90</td>\n",
       "      <td>1</td>\n",
       "    </tr>\n",
       "    <tr>\n",
       "      <th>3210</th>\n",
       "      <td>25.0</td>\n",
       "      <td>190.36</td>\n",
       "      <td>0.0</td>\n",
       "      <td>3275.61</td>\n",
       "      <td>0</td>\n",
       "    </tr>\n",
       "    <tr>\n",
       "      <th>3211</th>\n",
       "      <td>97.0</td>\n",
       "      <td>634.44</td>\n",
       "      <td>70.0</td>\n",
       "      <td>13974.06</td>\n",
       "      <td>0</td>\n",
       "    </tr>\n",
       "    <tr>\n",
       "      <th>3212</th>\n",
       "      <td>64.0</td>\n",
       "      <td>462.32</td>\n",
       "      <td>90.0</td>\n",
       "      <td>31239.78</td>\n",
       "      <td>0</td>\n",
       "    </tr>\n",
       "    <tr>\n",
       "      <th>3213</th>\n",
       "      <td>80.0</td>\n",
       "      <td>566.09</td>\n",
       "      <td>6.0</td>\n",
       "      <td>29480.52</td>\n",
       "      <td>1</td>\n",
       "    </tr>\n",
       "  </tbody>\n",
       "</table>\n",
       "<p>3214 rows × 5 columns</p>\n",
       "</div>"
      ],
      "text/plain": [
       "      calls  minutes  messages   mb_used  is_ultra\n",
       "0      40.0   311.90      83.0  19915.42         0\n",
       "1      85.0   516.75      56.0  22696.96         0\n",
       "2      77.0   467.66      86.0  21060.45         0\n",
       "3     106.0   745.53      81.0   8437.39         1\n",
       "4      66.0   418.74       1.0  14502.75         0\n",
       "...     ...      ...       ...       ...       ...\n",
       "3209  122.0   910.98      20.0  35124.90         1\n",
       "3210   25.0   190.36       0.0   3275.61         0\n",
       "3211   97.0   634.44      70.0  13974.06         0\n",
       "3212   64.0   462.32      90.0  31239.78         0\n",
       "3213   80.0   566.09       6.0  29480.52         1\n",
       "\n",
       "[3214 rows x 5 columns]"
      ]
     },
     "metadata": {},
     "output_type": "display_data"
    },
    {
     "name": "stdout",
     "output_type": "stream",
     "text": [
      "<class 'pandas.core.frame.DataFrame'>\n",
      "RangeIndex: 3214 entries, 0 to 3213\n",
      "Data columns (total 5 columns):\n",
      " #   Column    Non-Null Count  Dtype  \n",
      "---  ------    --------------  -----  \n",
      " 0   calls     3214 non-null   float64\n",
      " 1   minutes   3214 non-null   float64\n",
      " 2   messages  3214 non-null   float64\n",
      " 3   mb_used   3214 non-null   float64\n",
      " 4   is_ultra  3214 non-null   int64  \n",
      "dtypes: float64(4), int64(1)\n",
      "memory usage: 125.7 KB\n"
     ]
    }
   ],
   "source": [
    "# Import required libraries and modules.\n",
    "import pandas as pd\n",
    "import numpy as np\n",
    "from IPython.display import display\n",
    "from sklearn.model_selection import train_test_split\n",
    "from sklearn.tree import DecisionTreeClassifier\n",
    "from sklearn.ensemble import RandomForestClassifier\n",
    "from sklearn.linear_model import LogisticRegression \n",
    "from sklearn.metrics import accuracy_score\n",
    "from sklearn.dummy import DummyClassifier\n",
    "# Read the dataset.\n",
    "data = pd.read_csv('users_behavior.csv')\n",
    "display(data)\n",
    "data.info()"
   ]
  },
  {
   "cell_type": "code",
   "execution_count": 2,
   "metadata": {},
   "outputs": [
    {
     "data": {
      "text/html": [
       "<div>\n",
       "<style scoped>\n",
       "    .dataframe tbody tr th:only-of-type {\n",
       "        vertical-align: middle;\n",
       "    }\n",
       "\n",
       "    .dataframe tbody tr th {\n",
       "        vertical-align: top;\n",
       "    }\n",
       "\n",
       "    .dataframe thead th {\n",
       "        text-align: right;\n",
       "    }\n",
       "</style>\n",
       "<table border=\"1\" class=\"dataframe\">\n",
       "  <thead>\n",
       "    <tr style=\"text-align: right;\">\n",
       "      <th></th>\n",
       "      <th>calls</th>\n",
       "      <th>minutes</th>\n",
       "      <th>messages</th>\n",
       "      <th>mb_used</th>\n",
       "      <th>is_ultra</th>\n",
       "    </tr>\n",
       "  </thead>\n",
       "  <tbody>\n",
       "    <tr>\n",
       "      <th>0</th>\n",
       "      <td>40</td>\n",
       "      <td>311.90</td>\n",
       "      <td>83</td>\n",
       "      <td>19915.42</td>\n",
       "      <td>0</td>\n",
       "    </tr>\n",
       "    <tr>\n",
       "      <th>1</th>\n",
       "      <td>85</td>\n",
       "      <td>516.75</td>\n",
       "      <td>56</td>\n",
       "      <td>22696.96</td>\n",
       "      <td>0</td>\n",
       "    </tr>\n",
       "    <tr>\n",
       "      <th>2</th>\n",
       "      <td>77</td>\n",
       "      <td>467.66</td>\n",
       "      <td>86</td>\n",
       "      <td>21060.45</td>\n",
       "      <td>0</td>\n",
       "    </tr>\n",
       "    <tr>\n",
       "      <th>3</th>\n",
       "      <td>106</td>\n",
       "      <td>745.53</td>\n",
       "      <td>81</td>\n",
       "      <td>8437.39</td>\n",
       "      <td>1</td>\n",
       "    </tr>\n",
       "    <tr>\n",
       "      <th>4</th>\n",
       "      <td>66</td>\n",
       "      <td>418.74</td>\n",
       "      <td>1</td>\n",
       "      <td>14502.75</td>\n",
       "      <td>0</td>\n",
       "    </tr>\n",
       "    <tr>\n",
       "      <th>...</th>\n",
       "      <td>...</td>\n",
       "      <td>...</td>\n",
       "      <td>...</td>\n",
       "      <td>...</td>\n",
       "      <td>...</td>\n",
       "    </tr>\n",
       "    <tr>\n",
       "      <th>3209</th>\n",
       "      <td>122</td>\n",
       "      <td>910.98</td>\n",
       "      <td>20</td>\n",
       "      <td>35124.90</td>\n",
       "      <td>1</td>\n",
       "    </tr>\n",
       "    <tr>\n",
       "      <th>3210</th>\n",
       "      <td>25</td>\n",
       "      <td>190.36</td>\n",
       "      <td>0</td>\n",
       "      <td>3275.61</td>\n",
       "      <td>0</td>\n",
       "    </tr>\n",
       "    <tr>\n",
       "      <th>3211</th>\n",
       "      <td>97</td>\n",
       "      <td>634.44</td>\n",
       "      <td>70</td>\n",
       "      <td>13974.06</td>\n",
       "      <td>0</td>\n",
       "    </tr>\n",
       "    <tr>\n",
       "      <th>3212</th>\n",
       "      <td>64</td>\n",
       "      <td>462.32</td>\n",
       "      <td>90</td>\n",
       "      <td>31239.78</td>\n",
       "      <td>0</td>\n",
       "    </tr>\n",
       "    <tr>\n",
       "      <th>3213</th>\n",
       "      <td>80</td>\n",
       "      <td>566.09</td>\n",
       "      <td>6</td>\n",
       "      <td>29480.52</td>\n",
       "      <td>1</td>\n",
       "    </tr>\n",
       "  </tbody>\n",
       "</table>\n",
       "<p>3214 rows × 5 columns</p>\n",
       "</div>"
      ],
      "text/plain": [
       "      calls  minutes  messages   mb_used  is_ultra\n",
       "0        40   311.90        83  19915.42         0\n",
       "1        85   516.75        56  22696.96         0\n",
       "2        77   467.66        86  21060.45         0\n",
       "3       106   745.53        81   8437.39         1\n",
       "4        66   418.74         1  14502.75         0\n",
       "...     ...      ...       ...       ...       ...\n",
       "3209    122   910.98        20  35124.90         1\n",
       "3210     25   190.36         0   3275.61         0\n",
       "3211     97   634.44        70  13974.06         0\n",
       "3212     64   462.32        90  31239.78         0\n",
       "3213     80   566.09         6  29480.52         1\n",
       "\n",
       "[3214 rows x 5 columns]"
      ]
     },
     "metadata": {},
     "output_type": "display_data"
    },
    {
     "name": "stdout",
     "output_type": "stream",
     "text": [
      "<class 'pandas.core.frame.DataFrame'>\n",
      "RangeIndex: 3214 entries, 0 to 3213\n",
      "Data columns (total 5 columns):\n",
      " #   Column    Non-Null Count  Dtype  \n",
      "---  ------    --------------  -----  \n",
      " 0   calls     3214 non-null   int64  \n",
      " 1   minutes   3214 non-null   float64\n",
      " 2   messages  3214 non-null   int64  \n",
      " 3   mb_used   3214 non-null   float64\n",
      " 4   is_ultra  3214 non-null   int64  \n",
      "dtypes: float64(2), int64(3)\n",
      "memory usage: 125.7 KB\n"
     ]
    }
   ],
   "source": [
    "# There is no need to store the data in the calls and messages \n",
    "# columns in float64 format.\n",
    "# Convert them to int64 format.\n",
    "data = data.astype({'calls':'int', 'messages':'int'})\n",
    "display(data)\n",
    "data.info()"
   ]
  },
  {
   "cell_type": "markdown",
   "metadata": {},
   "source": [
    "### Conclusion"
   ]
  },
  {
   "cell_type": "markdown",
   "metadata": {},
   "source": [
    "We have data on the behavior of customers who have already switched to Smart and Ultra plans.\n",
    "This is a table with 5 columns and 3214 rows.\n",
    "Column formats:\n",
    "* *calls*, *minutes*, *messages*, *mb_used* - `float64`\n",
    "* *is_ultra* - `int64`\n",
    "  \n",
    "The data has already been preprocessed by us in the previous project. There are no passes. However, the *calls* and *messages* columns format has been converted from `float64` to `int64`, since it makes no sense to contain the number of calls and sms messages in floating point format."
   ]
  },
  {
   "cell_type": "markdown",
   "metadata": {},
   "source": [
    "## Splitting the data into the samples"
   ]
  },
  {
   "cell_type": "code",
   "execution_count": 3,
   "metadata": {
    "scrolled": true
   },
   "outputs": [
    {
     "data": {
      "text/plain": [
       "(1928, 4)"
      ]
     },
     "metadata": {},
     "output_type": "display_data"
    },
    {
     "data": {
      "text/plain": [
       "(1928,)"
      ]
     },
     "metadata": {},
     "output_type": "display_data"
    },
    {
     "data": {
      "text/plain": [
       "(643, 4)"
      ]
     },
     "metadata": {},
     "output_type": "display_data"
    },
    {
     "data": {
      "text/plain": [
       "(643,)"
      ]
     },
     "metadata": {},
     "output_type": "display_data"
    },
    {
     "data": {
      "text/plain": [
       "(643, 4)"
      ]
     },
     "metadata": {},
     "output_type": "display_data"
    },
    {
     "data": {
      "text/plain": [
       "(643,)"
      ]
     },
     "metadata": {},
     "output_type": "display_data"
    }
   ],
   "source": [
    "# Prepare the data for splitting into samples.\n",
    "# The is_ultra column is the target feature.\n",
    "# Extract features.\n",
    "features = data.drop('is_ultra', axis=1)\n",
    "# Determine the target feature.\n",
    "target = data['is_ultra']\n",
    "# Let's split the data into training, validation and test sets.\n",
    "# First, split into training and validation.\n",
    "# Validation set size 0.2.\n",
    "features_train, features_valid, target_train, target_valid = train_test_split(\n",
    "    features,\n",
    "    target, \n",
    "    test_size=.2,\n",
    "    random_state=12345\n",
    ")\n",
    "# Now we split the training set into test and\n",
    "# the final version of the training set.\n",
    "features_train, features_test, target_train, target_test = train_test_split(\n",
    "    features_train,\n",
    "    target_train, \n",
    "    test_size=.25,\n",
    "    random_state=12345\n",
    ")\n",
    "# Samples are ready. Let's take a look at their sizes.\n",
    "# We remember that the original dataset\n",
    "# had 5 features and 3214 objects.\n",
    "samples = [\n",
    "    features_train, target_train, \n",
    "    features_valid, target_valid, \n",
    "    features_test, target_test\n",
    "]\n",
    "for sample in samples:\n",
    "    display(sample.shape)"
   ]
  },
  {
   "cell_type": "markdown",
   "metadata": {},
   "source": [
    "### Conclusion"
   ]
  },
  {
   "cell_type": "markdown",
   "metadata": {},
   "source": [
    "We identified the target and other features. The target feature is the data from the *is_ultra* column. The data for this column is stored in the `target` variable. The rest of the columns are the rest of the features. They are stored in the `features` variable.\n",
    "\n",
    "Using the `train_test_split` method, we split the initial data into three sets: training (60% of the original set), validation (20% of the original set) and test (20% of the original set).\n",
    "  The data is stored in the appropriate variables: `features_train`, `target_train`, `features_valid`, `target_valid`, `features_test`, `target_test`.\n",
    "We are faced with the task of classification. We will check three models: decision tree, random forest, logistic regression."
   ]
  },
  {
   "cell_type": "markdown",
   "metadata": {},
   "source": [
    "## Testing the quality of different models"
   ]
  },
  {
   "cell_type": "code",
   "execution_count": 4,
   "metadata": {},
   "outputs": [
    {
     "name": "stdout",
     "output_type": "stream",
     "text": [
      "max_depth = 1 : 0.7480559875583204\n",
      "max_depth = 2 : 0.7838258164852255\n",
      "max_depth = 3 : 0.7869362363919129\n",
      "max_depth = 4 : 0.7869362363919129\n",
      "max_depth = 5 : 0.7884914463452566\n"
     ]
    }
   ],
   "source": [
    "# Explore the decision tree model by checking the value of accuracy\n",
    "# with different max_depth parameter values.\n",
    "for depth in range(1, 6):\n",
    "    model = DecisionTreeClassifier(random_state=12345, max_depth=depth) \n",
    "    model.fit(features_train, target_train)\n",
    "    predictions_valid = model.predict(features_valid)\n",
    "    print('max_depth =', depth, ': ', end='')\n",
    "    print(accuracy_score(target_valid, predictions_valid))"
   ]
  },
  {
   "cell_type": "code",
   "execution_count": 5,
   "metadata": {},
   "outputs": [
    {
     "name": "stdout",
     "output_type": "stream",
     "text": [
      "10\n",
      "Accuracy of the best model on the validation set: 0.7869362363919129\n"
     ]
    }
   ],
   "source": [
    "# Explore the random forest model by checking the accuracy value\n",
    "# with different number of estimators.\n",
    "best_model = None\n",
    "best_result = 0\n",
    "for est in range(1, 11):\n",
    "    model = RandomForestClassifier(random_state=12345, n_estimators=est)\n",
    "    model.fit(features_train, target_train)\n",
    "    result = model.score(features_valid, target_valid)\n",
    "    if result > best_result:\n",
    "        best_model = model\n",
    "        best_result = result\n",
    "print(est)\n",
    "print('Accuracy of the best model on the validation set:', best_result)"
   ]
  },
  {
   "cell_type": "code",
   "execution_count": 6,
   "metadata": {},
   "outputs": [
    {
     "name": "stdout",
     "output_type": "stream",
     "text": [
      "Accuracy of logistic regression model on the validation set: 0.7589424572317263\n"
     ]
    }
   ],
   "source": [
    "# Now we try logistic regression.\n",
    "model = LogisticRegression(solver='lbfgs', random_state=12345)\n",
    "model.fit(features_train, target_train)\n",
    "result = model.score(features_valid, target_valid)\n",
    "print(\"Accuracy of logistic regression model on the validation set:\", result)"
   ]
  },
  {
   "cell_type": "markdown",
   "metadata": {},
   "source": [
    "### Conclusion"
   ]
  },
  {
   "cell_type": "markdown",
   "metadata": {},
   "source": [
    "We studied the quality of such models as decision tree, random forest, logistic regression.\n",
    "When examining the quality of the decision tree and random forest models, we changed hyperparameters such as the maximum depth and the number of estimators.\n",
    "A decision tree with a maximum tree depth of 5 and a random forest with 10 estimators showed the best results.\n",
    "We decided to test the random forest model on a test sample, since this model provides a higher quality. The low speed can be neglected, since we have a small dataset."
   ]
  },
  {
   "cell_type": "markdown",
   "metadata": {},
   "source": [
    "## Testing the quality of the model on a test sample"
   ]
  },
  {
   "cell_type": "code",
   "execution_count": 7,
   "metadata": {},
   "outputs": [
    {
     "name": "stdout",
     "output_type": "stream",
     "text": [
      "Accuracy of the best model on the test set: 0.7884914463452566\n"
     ]
    }
   ],
   "source": [
    "# Check the model on the test set.\n",
    "model = RandomForestClassifier(random_state=12345, n_estimators=10)\n",
    "model.fit(features_train, target_train)\n",
    "result = model.score(features_test, target_test)\n",
    "print(\"Accuracy of the best model on the test set:\", result)"
   ]
  },
  {
   "cell_type": "markdown",
   "metadata": {},
   "source": [
    "### Conclusion"
   ]
  },
  {
   "cell_type": "markdown",
   "metadata": {},
   "source": [
    "Testing the model on the test set showed a quality of 0.7884914463452566. The task was completed because the quality exceeded the specified level of 0.75. Nevertheless, let's do the sanity check."
   ]
  },
  {
   "cell_type": "markdown",
   "metadata": {},
   "source": [
    "## Sanity checking the model"
   ]
  },
  {
   "cell_type": "code",
   "execution_count": 8,
   "metadata": {},
   "outputs": [
    {
     "data": {
      "text/plain": [
       "0.6889580093312597"
      ]
     },
     "execution_count": 8,
     "metadata": {},
     "output_type": "execute_result"
    }
   ],
   "source": [
    "# Let's create a simple model that makes predictions.\n",
    "# Compare its accuracy value with our model's value.\n",
    "dummy = DummyClassifier(random_state=12345)\n",
    "dummy.fit(features_train, target_train)\n",
    "dummy.score(features_test, target_test)"
   ]
  },
  {
   "cell_type": "markdown",
   "metadata": {},
   "source": [
    "### Conclusion"
   ]
  },
  {
   "cell_type": "markdown",
   "metadata": {},
   "source": [
    "With the help of `DummyClassifier` we have created a simple model that makes predictions. We trained it on the training set and tested it on the test set. The **accuracy** value was 0.6889580093312597, which is less than the value of our model.\n",
    "We can conclude that our model is sane. The quality of 0.7884914463452566 can be considered quite high."
   ]
  },
  {
   "cell_type": "markdown",
   "metadata": {},
   "source": [
    "## General conclusion"
   ]
  },
  {
   "cell_type": "markdown",
   "metadata": {},
   "source": [
    "We reviewed the dataset provided to us and splitted it into three sets: training, validation and test. By changing the hyperparameters of the models, we checked their quality on validation sets. As a result, we decided to test the random forest model. The quality level of our model predictions on the test set was 0.7884914463452566. Comparing it with the quality of the dummy model, we were convinced of the high quality of our model."
   ]
  },
  {
   "cell_type": "code",
   "execution_count": 9,
   "metadata": {},
   "outputs": [
    {
     "data": {
      "text/html": [
       "<style type=\"text/css\">\n",
       "#T_38a53_ th {\n",
       "  text-align: center;\n",
       "}\n",
       "#T_38a53_row0_col0, #T_38a53_row0_col1, #T_38a53_row0_col2, #T_38a53_row0_col3, #T_38a53_row0_col4, #T_38a53_row0_col5, #T_38a53_row0_col6, #T_38a53_row0_col7, #T_38a53_row0_col8, #T_38a53_row0_col9 {\n",
       "  text-align: center;\n",
       "}\n",
       "</style>\n",
       "<table id=\"T_38a53_\">\n",
       "  <thead>\n",
       "    <tr>\n",
       "      <th class=\"blank level0\" >&nbsp;</th>\n",
       "      <th class=\"col_heading level0 col0\" >Target</th>\n",
       "      <th class=\"col_heading level0 col1\" >Training set share</th>\n",
       "      <th class=\"col_heading level0 col2\" >Validation set share</th>\n",
       "      <th class=\"col_heading level0 col3\" >Test set share</th>\n",
       "      <th class=\"col_heading level0 col4\" >Chosen model</th>\n",
       "      <th class=\"col_heading level0 col5\" >Hyperparameter</th>\n",
       "      <th class=\"col_heading level0 col6\" >Validation set accuracy</th>\n",
       "      <th class=\"col_heading level0 col7\" >Test set accuracy</th>\n",
       "      <th class=\"col_heading level0 col8\" >Dummy model accuracy</th>\n",
       "      <th class=\"col_heading level0 col9\" >Model is sane (Yes/No)</th>\n",
       "    </tr>\n",
       "  </thead>\n",
       "  <tbody>\n",
       "    <tr>\n",
       "      <th id=\"T_38a53_level0_row0\" class=\"row_heading level0 row0\" >Results</th>\n",
       "      <td id=\"T_38a53_row0_col0\" class=\"data row0 col0\" >is_ultra</td>\n",
       "      <td id=\"T_38a53_row0_col1\" class=\"data row0 col1\" >60 %</td>\n",
       "      <td id=\"T_38a53_row0_col2\" class=\"data row0 col2\" >20 %</td>\n",
       "      <td id=\"T_38a53_row0_col3\" class=\"data row0 col3\" >20 %</td>\n",
       "      <td id=\"T_38a53_row0_col4\" class=\"data row0 col4\" >Random Forest</td>\n",
       "      <td id=\"T_38a53_row0_col5\" class=\"data row0 col5\" >n_estimators=10</td>\n",
       "      <td id=\"T_38a53_row0_col6\" class=\"data row0 col6\" >0.786900</td>\n",
       "      <td id=\"T_38a53_row0_col7\" class=\"data row0 col7\" >0.788500</td>\n",
       "      <td id=\"T_38a53_row0_col8\" class=\"data row0 col8\" >0.689000</td>\n",
       "      <td id=\"T_38a53_row0_col9\" class=\"data row0 col9\" >Yes</td>\n",
       "    </tr>\n",
       "  </tbody>\n",
       "</table>\n"
      ],
      "text/plain": [
       "<pandas.io.formats.style.Styler at 0x7f99d2be2e20>"
      ]
     },
     "metadata": {},
     "output_type": "display_data"
    }
   ],
   "source": [
    "conclusion = pd.DataFrame(\n",
    "    index=['Results'],\n",
    "    columns=['Target', \n",
    "              'Training set share', \n",
    "              'Validation set share', \n",
    "              'Test set share', \n",
    "              'Chosen model', \n",
    "              'Hyperparameter', \n",
    "              'Validation set accuracy', \n",
    "              'Test set accuracy', \n",
    "              'Dummy model accuracy', \n",
    "              'Model is sane (Yes/No)'],\n",
    "    data=[['is_ultra', \n",
    "           '60 %',\n",
    "           '20 %',\n",
    "           '20 %', \n",
    "           'Random Forest',\n",
    "           'n_estimators=10',\n",
    "           0.7869,\n",
    "           0.7885, \n",
    "           0.6890, \n",
    "           'Yes']]\n",
    ")\n",
    "conclusionStyler = conclusion.style.set_properties(\n",
    "    **{'text-align': 'center'}\n",
    ")\n",
    "conclusionStyler.set_table_styles(\n",
    "    [dict(selector='th', props=[('text-align', 'center')])]\n",
    ")\n",
    "display(conclusionStyler)"
   ]
  }
 ],
 "metadata": {
  "ExecuteTimeLog": [
   {
    "duration": 130,
    "start_time": "2021-10-01T17:29:24.933Z"
   },
   {
    "duration": 1466,
    "start_time": "2021-10-01T17:30:22.550Z"
   },
   {
    "duration": 65,
    "start_time": "2021-10-01T17:30:33.615Z"
   },
   {
    "duration": 1065,
    "start_time": "2021-10-05T18:02:58.031Z"
   },
   {
    "duration": 11,
    "start_time": "2021-10-05T18:03:01.407Z"
   },
   {
    "duration": 6,
    "start_time": "2021-10-05T18:03:07.998Z"
   },
   {
    "duration": 5,
    "start_time": "2021-10-05T21:08:08.822Z"
   },
   {
    "duration": 305,
    "start_time": "2021-10-06T09:08:17.864Z"
   },
   {
    "duration": 1298,
    "start_time": "2021-10-06T09:08:21.349Z"
   },
   {
    "duration": 314,
    "start_time": "2021-10-06T09:08:24.037Z"
   },
   {
    "duration": 286,
    "start_time": "2021-10-06T09:08:32.356Z"
   },
   {
    "duration": 10,
    "start_time": "2021-10-06T09:08:56.804Z"
   },
   {
    "duration": 14,
    "start_time": "2021-10-06T09:10:09.307Z"
   },
   {
    "duration": 14,
    "start_time": "2021-10-06T09:10:53.178Z"
   },
   {
    "duration": 15,
    "start_time": "2021-10-06T09:11:02.258Z"
   },
   {
    "duration": 14,
    "start_time": "2021-10-06T09:11:02.842Z"
   },
   {
    "duration": 14,
    "start_time": "2021-10-06T09:11:03.402Z"
   },
   {
    "duration": 13,
    "start_time": "2021-10-06T09:11:04.034Z"
   },
   {
    "duration": 15,
    "start_time": "2021-10-06T09:11:35.210Z"
   },
   {
    "duration": 13,
    "start_time": "2021-10-06T09:12:09.524Z"
   },
   {
    "duration": 14,
    "start_time": "2021-10-06T09:13:19.608Z"
   },
   {
    "duration": 250,
    "start_time": "2021-10-06T09:13:50.367Z"
   },
   {
    "duration": 11,
    "start_time": "2021-10-06T09:33:17.522Z"
   },
   {
    "duration": 23,
    "start_time": "2021-10-06T09:52:33.516Z"
   },
   {
    "duration": 22,
    "start_time": "2021-10-06T09:52:44.185Z"
   },
   {
    "duration": 16,
    "start_time": "2021-10-06T09:52:54.682Z"
   },
   {
    "duration": 14,
    "start_time": "2021-10-06T09:53:05.817Z"
   },
   {
    "duration": 302,
    "start_time": "2021-10-06T09:53:57.234Z"
   },
   {
    "duration": 15,
    "start_time": "2021-10-06T09:54:01.945Z"
   },
   {
    "duration": 16,
    "start_time": "2021-10-06T09:54:08.865Z"
   },
   {
    "duration": 17,
    "start_time": "2021-10-06T09:54:17.368Z"
   },
   {
    "duration": 26,
    "start_time": "2021-10-06T09:54:52.768Z"
   },
   {
    "duration": 22,
    "start_time": "2021-10-06T09:56:30.999Z"
   },
   {
    "duration": 1339,
    "start_time": "2021-10-06T18:34:55.783Z"
   },
   {
    "duration": 26,
    "start_time": "2021-10-06T18:40:14.672Z"
   },
   {
    "duration": 23,
    "start_time": "2021-10-06T18:58:40.847Z"
   },
   {
    "duration": 70,
    "start_time": "2021-10-06T19:34:53.082Z"
   },
   {
    "duration": 27,
    "start_time": "2021-10-06T19:34:55.863Z"
   },
   {
    "duration": 24,
    "start_time": "2021-10-06T19:34:58.366Z"
   },
   {
    "duration": 567,
    "start_time": "2021-10-06T19:46:50.404Z"
   },
   {
    "duration": 115,
    "start_time": "2021-10-06T19:47:05.867Z"
   },
   {
    "duration": 342,
    "start_time": "2021-10-06T19:47:50.547Z"
   },
   {
    "duration": 38,
    "start_time": "2021-10-06T19:48:35.529Z"
   },
   {
    "duration": 46,
    "start_time": "2021-10-06T20:05:59.550Z"
   },
   {
    "duration": 28,
    "start_time": "2021-10-06T20:06:01.720Z"
   },
   {
    "duration": 24,
    "start_time": "2021-10-06T20:06:03.993Z"
   },
   {
    "duration": 36,
    "start_time": "2021-10-06T20:06:06.872Z"
   },
   {
    "duration": 311,
    "start_time": "2021-10-06T20:06:45.896Z"
   },
   {
    "duration": 38,
    "start_time": "2021-10-06T20:07:30.566Z"
   },
   {
    "duration": 27,
    "start_time": "2021-10-06T20:07:30.607Z"
   },
   {
    "duration": 54,
    "start_time": "2021-10-06T20:07:30.637Z"
   },
   {
    "duration": 316,
    "start_time": "2021-10-06T20:07:37.326Z"
   },
   {
    "duration": 327,
    "start_time": "2021-10-06T20:07:46.830Z"
   },
   {
    "duration": 62,
    "start_time": "2021-10-06T20:08:45.407Z"
   },
   {
    "duration": 26,
    "start_time": "2021-10-06T20:08:47.422Z"
   },
   {
    "duration": 20,
    "start_time": "2021-10-06T20:08:50.326Z"
   },
   {
    "duration": 37,
    "start_time": "2021-10-06T20:08:53.149Z"
   },
   {
    "duration": 310,
    "start_time": "2021-10-06T20:08:55.029Z"
   },
   {
    "duration": 18,
    "start_time": "2021-10-06T20:09:46.124Z"
   },
   {
    "duration": 37,
    "start_time": "2021-10-06T20:09:57.764Z"
   },
   {
    "duration": 26,
    "start_time": "2021-10-06T20:09:57.803Z"
   },
   {
    "duration": 52,
    "start_time": "2021-10-06T20:09:57.832Z"
   },
   {
    "duration": 41,
    "start_time": "2021-10-06T20:09:57.887Z"
   },
   {
    "duration": 323,
    "start_time": "2021-10-06T20:10:00.388Z"
   },
   {
    "duration": 17,
    "start_time": "2021-10-06T20:10:02.167Z"
   },
   {
    "duration": 46,
    "start_time": "2021-10-06T20:13:04.385Z"
   },
   {
    "duration": 18,
    "start_time": "2021-10-06T20:13:11.873Z"
   },
   {
    "duration": 43,
    "start_time": "2021-10-06T20:13:18.553Z"
   },
   {
    "duration": 16,
    "start_time": "2021-10-06T20:13:34.346Z"
   },
   {
    "duration": 329,
    "start_time": "2021-10-06T20:16:49.934Z"
   },
   {
    "duration": 46,
    "start_time": "2021-10-06T20:16:58.150Z"
   },
   {
    "duration": 319,
    "start_time": "2021-10-06T20:23:54.047Z"
   },
   {
    "duration": 327,
    "start_time": "2021-10-06T20:25:10.238Z"
   },
   {
    "duration": 115,
    "start_time": "2021-10-06T20:25:30.158Z"
   },
   {
    "duration": 98,
    "start_time": "2021-10-06T20:26:30.804Z"
   },
   {
    "duration": 336,
    "start_time": "2021-10-06T20:27:01.948Z"
   },
   {
    "duration": 61,
    "start_time": "2021-10-06T20:42:45.733Z"
   },
   {
    "duration": 61,
    "start_time": "2021-10-06T20:43:15.868Z"
   },
   {
    "duration": 17,
    "start_time": "2021-10-06T20:43:24.652Z"
   },
   {
    "duration": 22,
    "start_time": "2021-10-06T20:43:28.453Z"
   },
   {
    "duration": 28,
    "start_time": "2021-10-06T20:43:31.135Z"
   },
   {
    "duration": 34,
    "start_time": "2021-10-06T20:43:32.707Z"
   },
   {
    "duration": 37,
    "start_time": "2021-10-06T20:43:34.980Z"
   },
   {
    "duration": 43,
    "start_time": "2021-10-06T20:43:37.131Z"
   },
   {
    "duration": 50,
    "start_time": "2021-10-06T20:43:39.236Z"
   },
   {
    "duration": 53,
    "start_time": "2021-10-06T20:43:41.211Z"
   },
   {
    "duration": 58,
    "start_time": "2021-10-06T20:43:48.947Z"
   },
   {
    "duration": 63,
    "start_time": "2021-10-06T20:43:51.563Z"
   },
   {
    "duration": 401,
    "start_time": "2021-10-06T21:00:42.691Z"
   },
   {
    "duration": 37,
    "start_time": "2021-10-06T21:01:00.490Z"
   },
   {
    "duration": 27,
    "start_time": "2021-10-06T21:01:03.204Z"
   },
   {
    "duration": 23,
    "start_time": "2021-10-06T21:01:05.587Z"
   },
   {
    "duration": 37,
    "start_time": "2021-10-06T21:01:08.267Z"
   },
   {
    "duration": 318,
    "start_time": "2021-10-06T21:01:10.410Z"
   },
   {
    "duration": 46,
    "start_time": "2021-10-06T21:01:12.123Z"
   },
   {
    "duration": 60,
    "start_time": "2021-10-06T21:01:14.642Z"
   },
   {
    "duration": 9,
    "start_time": "2021-10-06T21:01:18.061Z"
   },
   {
    "duration": 8,
    "start_time": "2021-10-06T21:01:45.153Z"
   },
   {
    "duration": 8,
    "start_time": "2021-10-06T21:01:55.969Z"
   },
   {
    "duration": 8,
    "start_time": "2021-10-06T21:02:05.105Z"
   },
   {
    "duration": 360,
    "start_time": "2021-10-06T21:02:14.865Z"
   },
   {
    "duration": 8,
    "start_time": "2021-10-06T21:02:23.985Z"
   },
   {
    "duration": 9,
    "start_time": "2021-10-06T21:03:09.504Z"
   },
   {
    "duration": 8,
    "start_time": "2021-10-06T21:03:27.640Z"
   },
   {
    "duration": 9,
    "start_time": "2021-10-06T21:03:40.287Z"
   },
   {
    "duration": 1076,
    "start_time": "2021-10-07T10:28:29.244Z"
   },
   {
    "duration": 18,
    "start_time": "2021-10-07T10:28:30.322Z"
   },
   {
    "duration": 14,
    "start_time": "2021-10-07T10:28:30.342Z"
   },
   {
    "duration": 49,
    "start_time": "2021-10-07T10:28:34.059Z"
   },
   {
    "duration": 29,
    "start_time": "2021-10-07T10:29:10.355Z"
   },
   {
    "duration": 31,
    "start_time": "2021-10-07T10:39:40.799Z"
   },
   {
    "duration": 17,
    "start_time": "2021-10-07T10:39:40.832Z"
   },
   {
    "duration": 14,
    "start_time": "2021-10-07T10:39:40.852Z"
   },
   {
    "duration": 26,
    "start_time": "2021-10-07T10:39:40.868Z"
   },
   {
    "duration": 249,
    "start_time": "2021-10-07T10:39:40.896Z"
   },
   {
    "duration": 29,
    "start_time": "2021-10-07T10:39:41.147Z"
   },
   {
    "duration": 43,
    "start_time": "2021-10-07T10:39:41.177Z"
   },
   {
    "duration": 312,
    "start_time": "2021-10-07T10:39:43.465Z"
   },
   {
    "duration": 13,
    "start_time": "2021-10-07T10:40:20.457Z"
   },
   {
    "duration": 47,
    "start_time": "2021-10-07T10:43:11.942Z"
   },
   {
    "duration": 31,
    "start_time": "2021-10-07T11:06:06.603Z"
   },
   {
    "duration": 18,
    "start_time": "2021-10-07T11:06:06.636Z"
   },
   {
    "duration": 13,
    "start_time": "2021-10-07T11:06:06.656Z"
   },
   {
    "duration": 26,
    "start_time": "2021-10-07T11:06:06.671Z"
   },
   {
    "duration": 273,
    "start_time": "2021-10-07T11:06:06.699Z"
   },
   {
    "duration": 29,
    "start_time": "2021-10-07T11:06:06.974Z"
   },
   {
    "duration": 56,
    "start_time": "2021-10-07T11:06:07.005Z"
   },
   {
    "duration": 6,
    "start_time": "2021-10-07T11:06:07.063Z"
   },
   {
    "duration": 1200,
    "start_time": "2021-10-07T13:44:01.921Z"
   },
   {
    "duration": 1480,
    "start_time": "2021-10-07T13:44:07.442Z"
   },
   {
    "duration": 28,
    "start_time": "2021-10-07T13:44:08.925Z"
   },
   {
    "duration": 24,
    "start_time": "2021-10-07T13:44:08.956Z"
   },
   {
    "duration": 40,
    "start_time": "2021-10-07T13:44:08.982Z"
   },
   {
    "duration": 376,
    "start_time": "2021-10-07T13:44:09.024Z"
   },
   {
    "duration": 45,
    "start_time": "2021-10-07T13:44:09.402Z"
   },
   {
    "duration": 82,
    "start_time": "2021-10-07T13:44:09.449Z"
   },
   {
    "duration": 8,
    "start_time": "2021-10-07T13:44:09.533Z"
   },
   {
    "duration": 362,
    "start_time": "2021-10-07T13:44:09.568Z"
   },
   {
    "duration": 26,
    "start_time": "2021-10-07T13:44:30.311Z"
   },
   {
    "duration": 111,
    "start_time": "2021-10-07T13:47:21.153Z"
   },
   {
    "duration": 368,
    "start_time": "2021-10-07T13:47:36.186Z"
   },
   {
    "duration": 712,
    "start_time": "2021-10-07T13:50:42.952Z"
   },
   {
    "duration": 741,
    "start_time": "2021-10-07T13:50:48.855Z"
   },
   {
    "duration": 756,
    "start_time": "2021-10-07T13:50:57.423Z"
   },
   {
    "duration": 272,
    "start_time": "2021-10-07T13:51:07.615Z"
   },
   {
    "duration": 314,
    "start_time": "2021-10-07T13:51:19.191Z"
   },
   {
    "duration": 287,
    "start_time": "2021-10-07T13:51:44.895Z"
   },
   {
    "duration": 285,
    "start_time": "2021-10-07T13:51:58.190Z"
   },
   {
    "duration": 342,
    "start_time": "2021-10-07T13:52:32.030Z"
   },
   {
    "duration": 307,
    "start_time": "2021-10-07T13:53:17.061Z"
   },
   {
    "duration": 299,
    "start_time": "2021-10-07T13:55:16.995Z"
   },
   {
    "duration": 298,
    "start_time": "2021-10-07T13:55:27.636Z"
   },
   {
    "duration": 296,
    "start_time": "2021-10-07T13:55:33.284Z"
   },
   {
    "duration": 28,
    "start_time": "2021-10-07T13:55:44.235Z"
   },
   {
    "duration": 311,
    "start_time": "2021-10-07T13:56:09.656Z"
   },
   {
    "duration": 1116,
    "start_time": "2021-10-07T13:56:29.898Z"
   },
   {
    "duration": 324,
    "start_time": "2021-10-07T13:56:43.185Z"
   },
   {
    "duration": 271,
    "start_time": "2021-10-07T13:56:52.410Z"
   },
   {
    "duration": 378,
    "start_time": "2021-10-07T13:57:28.153Z"
   },
   {
    "duration": 306,
    "start_time": "2021-10-07T13:57:48.241Z"
   },
   {
    "duration": 305,
    "start_time": "2021-10-07T13:57:54.096Z"
   },
   {
    "duration": 488,
    "start_time": "2021-10-07T13:58:00.767Z"
   },
   {
    "duration": 272,
    "start_time": "2021-10-07T13:58:09.432Z"
   },
   {
    "duration": 316,
    "start_time": "2021-10-07T13:58:30.664Z"
   },
   {
    "duration": 315,
    "start_time": "2021-10-07T13:58:35.535Z"
   },
   {
    "duration": 281,
    "start_time": "2021-10-07T13:58:40.008Z"
   },
   {
    "duration": 307,
    "start_time": "2021-10-07T14:00:39.718Z"
   },
   {
    "duration": 293,
    "start_time": "2021-10-07T14:00:43.902Z"
   },
   {
    "duration": 26,
    "start_time": "2021-10-07T14:00:52.982Z"
   },
   {
    "duration": 292,
    "start_time": "2021-10-07T14:05:43.263Z"
   },
   {
    "duration": 291,
    "start_time": "2021-10-07T14:06:28.984Z"
   },
   {
    "duration": 285,
    "start_time": "2021-10-07T14:06:39.120Z"
   },
   {
    "duration": 1593,
    "start_time": "2021-10-07T14:08:18.592Z"
   },
   {
    "duration": 29,
    "start_time": "2021-10-07T14:08:20.188Z"
   },
   {
    "duration": 55,
    "start_time": "2021-10-07T14:08:20.221Z"
   },
   {
    "duration": 39,
    "start_time": "2021-10-07T14:08:20.279Z"
   },
   {
    "duration": 376,
    "start_time": "2021-10-07T14:08:20.320Z"
   },
   {
    "duration": 48,
    "start_time": "2021-10-07T14:08:20.699Z"
   },
   {
    "duration": 84,
    "start_time": "2021-10-07T14:08:20.749Z"
   },
   {
    "duration": 34,
    "start_time": "2021-10-07T14:08:20.836Z"
   },
   {
    "duration": 435,
    "start_time": "2021-10-07T14:08:20.873Z"
   },
   {
    "duration": 10,
    "start_time": "2021-10-07T14:09:02.498Z"
   },
   {
    "duration": 82,
    "start_time": "2021-10-07T14:09:47.116Z"
   },
   {
    "duration": 97,
    "start_time": "2021-10-07T14:10:23.747Z"
   },
   {
    "duration": 113,
    "start_time": "2021-10-07T14:10:28.299Z"
   },
   {
    "duration": 101,
    "start_time": "2021-10-07T14:10:32.699Z"
   },
   {
    "duration": 97,
    "start_time": "2021-10-07T14:10:40.907Z"
   },
   {
    "duration": 110,
    "start_time": "2021-10-07T14:10:50.450Z"
   },
   {
    "duration": 107,
    "start_time": "2021-10-07T14:10:59.602Z"
   },
   {
    "duration": 96,
    "start_time": "2021-10-07T14:11:04.915Z"
   },
   {
    "duration": 18,
    "start_time": "2021-10-07T14:11:16.985Z"
   },
   {
    "duration": 318,
    "start_time": "2021-10-07T14:11:33.234Z"
   },
   {
    "duration": 403,
    "start_time": "2021-10-07T14:11:48.242Z"
   },
   {
    "duration": 312,
    "start_time": "2021-10-07T14:12:03.097Z"
   },
   {
    "duration": 307,
    "start_time": "2021-10-07T14:12:23.497Z"
   },
   {
    "duration": 284,
    "start_time": "2021-10-07T14:12:34.458Z"
   },
   {
    "duration": 296,
    "start_time": "2021-10-07T14:12:47.162Z"
   },
   {
    "duration": 306,
    "start_time": "2021-10-07T14:13:11.640Z"
   },
   {
    "duration": 711,
    "start_time": "2021-10-07T14:14:40.055Z"
   },
   {
    "duration": 728,
    "start_time": "2021-10-07T14:14:53.039Z"
   },
   {
    "duration": 12,
    "start_time": "2021-10-07T14:17:21.524Z"
   },
   {
    "duration": 307,
    "start_time": "2021-10-07T14:17:27.776Z"
   },
   {
    "duration": 10,
    "start_time": "2021-10-07T14:17:32.612Z"
   },
   {
    "duration": 87,
    "start_time": "2021-10-07T14:17:55.996Z"
   },
   {
    "duration": 96,
    "start_time": "2021-10-07T14:18:21.843Z"
   },
   {
    "duration": 99,
    "start_time": "2021-10-07T14:18:32.243Z"
   },
   {
    "duration": 96,
    "start_time": "2021-10-07T14:18:34.559Z"
   },
   {
    "duration": 114,
    "start_time": "2021-10-07T14:18:41.546Z"
   },
   {
    "duration": 113,
    "start_time": "2021-10-07T14:18:49.491Z"
   },
   {
    "duration": 19,
    "start_time": "2021-10-07T14:19:06.387Z"
   },
   {
    "duration": 104,
    "start_time": "2021-10-07T14:19:22.010Z"
   },
   {
    "duration": 94,
    "start_time": "2021-10-07T14:19:26.690Z"
   },
   {
    "duration": 20,
    "start_time": "2021-10-07T14:19:28.866Z"
   },
   {
    "duration": 20,
    "start_time": "2021-10-07T14:20:11.538Z"
   },
   {
    "duration": 22,
    "start_time": "2021-10-07T14:20:33.553Z"
   },
   {
    "duration": 665,
    "start_time": "2021-10-07T14:24:51.268Z"
   },
   {
    "duration": 20,
    "start_time": "2021-10-07T14:25:05.869Z"
   },
   {
    "duration": 14,
    "start_time": "2021-10-07T14:25:11.541Z"
   },
   {
    "duration": 20,
    "start_time": "2021-10-07T14:25:19.957Z"
   },
   {
    "duration": 22,
    "start_time": "2021-10-07T14:25:24.068Z"
   },
   {
    "duration": 21,
    "start_time": "2021-10-07T14:25:28.396Z"
   },
   {
    "duration": 20,
    "start_time": "2021-10-07T14:26:09.420Z"
   },
   {
    "duration": 21,
    "start_time": "2021-10-07T14:26:19.876Z"
   },
   {
    "duration": 20,
    "start_time": "2021-10-07T14:26:25.347Z"
   },
   {
    "duration": 40,
    "start_time": "2021-10-07T14:26:34.715Z"
   },
   {
    "duration": 22,
    "start_time": "2021-10-07T14:26:46.099Z"
   },
   {
    "duration": 21,
    "start_time": "2021-10-07T14:27:32.586Z"
   },
   {
    "duration": 21,
    "start_time": "2021-10-07T14:27:38.858Z"
   },
   {
    "duration": 1571,
    "start_time": "2022-03-22T12:59:28.399Z"
   },
   {
    "duration": 20,
    "start_time": "2022-03-22T12:59:29.972Z"
   },
   {
    "duration": 17,
    "start_time": "2022-03-22T12:59:29.994Z"
   },
   {
    "duration": 82,
    "start_time": "2022-03-22T12:59:30.014Z"
   },
   {
    "duration": 269,
    "start_time": "2022-03-22T12:59:30.099Z"
   },
   {
    "duration": 34,
    "start_time": "2022-03-22T12:59:30.370Z"
   },
   {
    "duration": 64,
    "start_time": "2022-03-22T12:59:30.406Z"
   },
   {
    "duration": 6,
    "start_time": "2022-03-22T12:59:30.471Z"
   },
   {
    "duration": 652,
    "start_time": "2022-03-22T12:59:30.479Z"
   }
  ],
  "kernelspec": {
   "display_name": "Python 3 (ipykernel)",
   "language": "python",
   "name": "python3"
  },
  "language_info": {
   "codemirror_mode": {
    "name": "ipython",
    "version": 3
   },
   "file_extension": ".py",
   "mimetype": "text/x-python",
   "name": "python",
   "nbconvert_exporter": "python",
   "pygments_lexer": "ipython3",
   "version": "3.9.7"
  },
  "toc": {
   "base_numbering": 1,
   "nav_menu": {},
   "number_sections": true,
   "sideBar": true,
   "skip_h1_title": true,
   "title_cell": "Table of Contents",
   "title_sidebar": "Contents",
   "toc_cell": false,
   "toc_position": {},
   "toc_section_display": true,
   "toc_window_display": true
  }
 },
 "nbformat": 4,
 "nbformat_minor": 2
}
