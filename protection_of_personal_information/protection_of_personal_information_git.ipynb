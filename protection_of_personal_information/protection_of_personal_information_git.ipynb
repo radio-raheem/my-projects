{
 "cells": [
  {
   "cell_type": "markdown",
   "metadata": {},
   "source": [
    "# Защита персональных данных клиентов"
   ]
  },
  {
   "cell_type": "markdown",
   "metadata": {},
   "source": [
    "Нам нужно защитить данные клиентов страховой компании. Разработаем такой метод преобразования данных, чтобы по ним было сложно восстановить персональную информацию.\n",
    "\n",
    "Нужно защитить данные, чтобы при преобразовании качество моделей машинного обучения не ухудшилось. Подбирать наилучшую модель не требуется.  \n",
    "  \n",
    "Основными этапами нашего проекта станут:\n",
    "\n",
    "* Загрузка и подготовка данных\n",
    "* Умножение матриц\n",
    "* Предложение алгоритма преобразования данных для решения задачи\n",
    "* Программирование алгоритма, применяя матричные операции\n",
    "* Проверка качества линейной регрессии. Изучение метрики R2\n",
    "  \n",
    "Проект выполнен в **Jupyter Notebook**, версия сервера блокнотов: 6.1.4. Версия **Python** 3.7.8.\n",
    "В проекте использованы библиотеки \n",
    "* **Pandas**\n",
    "* **NumPy**\n",
    "* **scikit-learn**\n",
    "* **IPython**"
   ]
  },
  {
   "cell_type": "markdown",
   "metadata": {},
   "source": [
    "## Загрузка данных"
   ]
  },
  {
   "cell_type": "code",
   "execution_count": 1,
   "metadata": {},
   "outputs": [
    {
     "name": "stdout",
     "output_type": "stream",
     "text": [
      "<class 'pandas.core.frame.DataFrame'>\n",
      "RangeIndex: 5000 entries, 0 to 4999\n",
      "Data columns (total 5 columns):\n",
      " #   Column             Non-Null Count  Dtype  \n",
      "---  ------             --------------  -----  \n",
      " 0   Пол                5000 non-null   int64  \n",
      " 1   Возраст            5000 non-null   float64\n",
      " 2   Зарплата           5000 non-null   float64\n",
      " 3   Члены семьи        5000 non-null   int64  \n",
      " 4   Страховые выплаты  5000 non-null   int64  \n",
      "dtypes: float64(2), int64(3)\n",
      "memory usage: 195.4 KB\n"
     ]
    },
    {
     "data": {
      "text/html": [
       "<div>\n",
       "<style scoped>\n",
       "    .dataframe tbody tr th:only-of-type {\n",
       "        vertical-align: middle;\n",
       "    }\n",
       "\n",
       "    .dataframe tbody tr th {\n",
       "        vertical-align: top;\n",
       "    }\n",
       "\n",
       "    .dataframe thead th {\n",
       "        text-align: right;\n",
       "    }\n",
       "</style>\n",
       "<table border=\"1\" class=\"dataframe\">\n",
       "  <thead>\n",
       "    <tr style=\"text-align: right;\">\n",
       "      <th></th>\n",
       "      <th>Пол</th>\n",
       "      <th>Возраст</th>\n",
       "      <th>Зарплата</th>\n",
       "      <th>Члены семьи</th>\n",
       "      <th>Страховые выплаты</th>\n",
       "    </tr>\n",
       "  </thead>\n",
       "  <tbody>\n",
       "    <tr>\n",
       "      <th>0</th>\n",
       "      <td>1</td>\n",
       "      <td>41.0</td>\n",
       "      <td>49600.0</td>\n",
       "      <td>1</td>\n",
       "      <td>0</td>\n",
       "    </tr>\n",
       "    <tr>\n",
       "      <th>1</th>\n",
       "      <td>0</td>\n",
       "      <td>46.0</td>\n",
       "      <td>38000.0</td>\n",
       "      <td>1</td>\n",
       "      <td>1</td>\n",
       "    </tr>\n",
       "    <tr>\n",
       "      <th>2</th>\n",
       "      <td>0</td>\n",
       "      <td>29.0</td>\n",
       "      <td>21000.0</td>\n",
       "      <td>0</td>\n",
       "      <td>0</td>\n",
       "    </tr>\n",
       "    <tr>\n",
       "      <th>3</th>\n",
       "      <td>0</td>\n",
       "      <td>21.0</td>\n",
       "      <td>41700.0</td>\n",
       "      <td>2</td>\n",
       "      <td>0</td>\n",
       "    </tr>\n",
       "    <tr>\n",
       "      <th>4</th>\n",
       "      <td>1</td>\n",
       "      <td>28.0</td>\n",
       "      <td>26100.0</td>\n",
       "      <td>0</td>\n",
       "      <td>0</td>\n",
       "    </tr>\n",
       "    <tr>\n",
       "      <th>...</th>\n",
       "      <td>...</td>\n",
       "      <td>...</td>\n",
       "      <td>...</td>\n",
       "      <td>...</td>\n",
       "      <td>...</td>\n",
       "    </tr>\n",
       "    <tr>\n",
       "      <th>4995</th>\n",
       "      <td>0</td>\n",
       "      <td>28.0</td>\n",
       "      <td>35700.0</td>\n",
       "      <td>2</td>\n",
       "      <td>0</td>\n",
       "    </tr>\n",
       "    <tr>\n",
       "      <th>4996</th>\n",
       "      <td>0</td>\n",
       "      <td>34.0</td>\n",
       "      <td>52400.0</td>\n",
       "      <td>1</td>\n",
       "      <td>0</td>\n",
       "    </tr>\n",
       "    <tr>\n",
       "      <th>4997</th>\n",
       "      <td>0</td>\n",
       "      <td>20.0</td>\n",
       "      <td>33900.0</td>\n",
       "      <td>2</td>\n",
       "      <td>0</td>\n",
       "    </tr>\n",
       "    <tr>\n",
       "      <th>4998</th>\n",
       "      <td>1</td>\n",
       "      <td>22.0</td>\n",
       "      <td>32700.0</td>\n",
       "      <td>3</td>\n",
       "      <td>0</td>\n",
       "    </tr>\n",
       "    <tr>\n",
       "      <th>4999</th>\n",
       "      <td>1</td>\n",
       "      <td>28.0</td>\n",
       "      <td>40600.0</td>\n",
       "      <td>1</td>\n",
       "      <td>0</td>\n",
       "    </tr>\n",
       "  </tbody>\n",
       "</table>\n",
       "<p>5000 rows × 5 columns</p>\n",
       "</div>"
      ],
      "text/plain": [
       "      Пол  Возраст  Зарплата  Члены семьи  Страховые выплаты\n",
       "0       1     41.0   49600.0            1                  0\n",
       "1       0     46.0   38000.0            1                  1\n",
       "2       0     29.0   21000.0            0                  0\n",
       "3       0     21.0   41700.0            2                  0\n",
       "4       1     28.0   26100.0            0                  0\n",
       "...   ...      ...       ...          ...                ...\n",
       "4995    0     28.0   35700.0            2                  0\n",
       "4996    0     34.0   52400.0            1                  0\n",
       "4997    0     20.0   33900.0            2                  0\n",
       "4998    1     22.0   32700.0            3                  0\n",
       "4999    1     28.0   40600.0            1                  0\n",
       "\n",
       "[5000 rows x 5 columns]"
      ]
     },
     "metadata": {},
     "output_type": "display_data"
    }
   ],
   "source": [
    "# Загрузим необходимые библиотеки и модули.\n",
    "from IPython.display import display\n",
    "import pandas as pd\n",
    "import numpy as np\n",
    "from numpy import random\n",
    "from sklearn.linear_model import LinearRegression\n",
    "from sklearn.model_selection import train_test_split\n",
    "from sklearn.metrics import r2_score, mean_squared_error\n",
    "\n",
    "# Загрузим данные, изучим их.\n",
    "data = pd.read_csv('/datasets/insurance.csv')\n",
    "data.info()\n",
    "display(data)"
   ]
  },
  {
   "cell_type": "code",
   "execution_count": 2,
   "metadata": {},
   "outputs": [
    {
     "name": "stdout",
     "output_type": "stream",
     "text": [
      "<class 'pandas.core.frame.DataFrame'>\n",
      "RangeIndex: 5000 entries, 0 to 4999\n",
      "Data columns (total 5 columns):\n",
      " #   Column             Non-Null Count  Dtype\n",
      "---  ------             --------------  -----\n",
      " 0   Пол                5000 non-null   int64\n",
      " 1   Возраст            5000 non-null   int64\n",
      " 2   Зарплата           5000 non-null   int64\n",
      " 3   Члены семьи        5000 non-null   int64\n",
      " 4   Страховые выплаты  5000 non-null   int64\n",
      "dtypes: int64(5)\n",
      "memory usage: 195.4 KB\n"
     ]
    }
   ],
   "source": [
    "# Это необязательно, но имзеним формат данных \n",
    "# столбцов \"Возраст\" и \"Зарплата\".\n",
    "data = data.astype({'Возраст': 'int64', 'Зарплата': 'int64'})\n",
    "data.info()"
   ]
  },
  {
   "cell_type": "markdown",
   "metadata": {},
   "source": [
    "### Вывод"
   ]
  },
  {
   "cell_type": "markdown",
   "metadata": {},
   "source": [
    "Мы загрузили данные, изучили их. Изменили формат данных столбцов *Возраст* и *Зарплата* приведя их к формату `int64`."
   ]
  },
  {
   "cell_type": "markdown",
   "metadata": {},
   "source": [
    "## Умножение матриц"
   ]
  },
  {
   "cell_type": "code",
   "execution_count": 3,
   "metadata": {},
   "outputs": [],
   "source": [
    "# Определим целевой и остальные признаки.\n",
    "features = data.drop(['Страховые выплаты'], axis=1)\n",
    "target = data['Страховые выплаты']\n",
    "\n",
    "# Подготовим тренировочный, валидационный и тестовый наборы данных\n",
    "# в классическом соотношении 0,6 / 0,2 / 0,2.\n",
    "# Напишем функцию. Она пригодится в дальнейшем.\n",
    "def splitting(features, target):\n",
    "    # Поделим набор данных на выборки\n",
    "    features_train, features_valid, target_train, target_valid = train_test_split(\n",
    "    features,\n",
    "    target, \n",
    "    test_size=.2,\n",
    "    random_state=12345)\n",
    "    features_train, features_test, target_train, target_test = train_test_split(\n",
    "    features_train,\n",
    "    target_train, \n",
    "    test_size=.25,\n",
    "    random_state=12345)\n",
    "    # Оценим размеры полученных выборок.\n",
    "    data_kit = [features_train,\n",
    "            target_train,\n",
    "            features_valid,\n",
    "            target_valid,\n",
    "            features_test,\n",
    "            target_test]\n",
    "    print('Примечание: перечисленные выборки разбиты попарно на три' + \n",
    "          ' группы по следующему порядку: тренировочная, валидационная и тестовая.')\n",
    "    print('Первым в паре идет набор признаков, вторым — набор целевых признаков ')\n",
    "    for kit in data_kit:\n",
    "        print('Размер таблицы составляет:', kit.shape)\n",
    "    return (features_train, target_train, features_valid, \n",
    "            target_valid, features_test, target_test)"
   ]
  },
  {
   "cell_type": "code",
   "execution_count": 4,
   "metadata": {},
   "outputs": [
    {
     "name": "stdout",
     "output_type": "stream",
     "text": [
      "Примечание: перечисленные выборки разбиты попарно на три группы по следующему порядку: тренировочная, валидационная и тестовая.\n",
      "Первым в паре идет набор признаков, вторым — набор целевых признаков \n",
      "Размер таблицы составляет: (3000, 4)\n",
      "Размер таблицы составляет: (3000,)\n",
      "Размер таблицы составляет: (1000, 4)\n",
      "Размер таблицы составляет: (1000,)\n",
      "Размер таблицы составляет: (1000, 4)\n",
      "Размер таблицы составляет: (1000,)\n"
     ]
    }
   ],
   "source": [
    "# Воспользуемся функцией splitting.\n",
    "(features_train, target_train, features_valid, \n",
    " target_valid, features_test, target_test) = splitting(features, target)"
   ]
  },
  {
   "cell_type": "code",
   "execution_count": 5,
   "metadata": {},
   "outputs": [
    {
     "name": "stdout",
     "output_type": "stream",
     "text": [
      "Метрика R2 на валидационной выборке составила 0.41199362877307455\n",
      "Метрика MSE на валидационной выборке составила 0.11001599205655777\n",
      "\n",
      "Метрика R2 на тестовой выборке составила 0.4181209870623026\n",
      "Метрика MSE на тестовой выборке составила 0.12135145002716972\n"
     ]
    }
   ],
   "source": [
    "# Обучим линейную регрессию и измерим её качество.\n",
    "model = LinearRegression()\n",
    "model.fit(features_train, target_train)\n",
    "predictions_valid = pd.Series(\n",
    "    data=model.predict(features_valid), \n",
    "    index=target_valid.index\n",
    ")\n",
    "# Теперь измерим качество модели на валидационной выборке, \n",
    "# используя метрики R2 и MSE.\n",
    "r2_valid = r2_score(target_valid, predictions_valid)\n",
    "mse_valid = mean_squared_error(target_valid, predictions_valid)\n",
    "print('Метрика R2 на валидационной выборке составила', r2_valid)\n",
    "print('Метрика MSE на валидационной выборке составила', mse_valid)\n",
    "print()\n",
    "# Измерим качество на тестовой выборке.\n",
    "predictions_test = pd.Series(\n",
    "    data=model.predict(features_test),\n",
    "    index=target_test.index\n",
    ")\n",
    "r2_test = r2_score(target_test, predictions_test)\n",
    "mse_test = mean_squared_error(target_test, predictions_test)\n",
    "# Теперь измерим качество модели на тестовой выборке, \n",
    "# используя метрики R2 и MSE.\n",
    "print('Метрика R2 на тестовой выборке составила', r2_test)\n",
    "print('Метрика MSE на тестовой выборке составила', mse_test)"
   ]
  },
  {
   "cell_type": "code",
   "execution_count": 6,
   "metadata": {},
   "outputs": [
    {
     "name": "stdout",
     "output_type": "stream",
     "text": [
      "Произвольная предположительно обратимая матрица invertable_array\n",
      "[[8 0 0 9]\n",
      " [2 0 9 2]\n",
      " [6 6 1 4]\n",
      " [3 7 0 3]]\n",
      "\n",
      "Матрица, обратная матрице invertable_array\n",
      "[[-0.06280992 -0.05206612  0.46859504 -0.40165289]\n",
      " [-0.0446281   0.00247934 -0.02231405  0.16198347]\n",
      " [-0.0231405   0.11239669 -0.01157025  0.00991736]\n",
      " [ 0.16694215  0.04628099 -0.41652893  0.35702479]]\n",
      "\n",
      "Матрица invertable_array обратима\n"
     ]
    }
   ],
   "source": [
    "# Проверим, изменится ли качество модели, если мы изменим\n",
    "# признаки путем умножения их на обратимую матрицу.\n",
    "array_features = features.values\n",
    "# Создадим произвольную обратимую матрицу c высотой, \n",
    "# равной ширине матрицы array_features.\n",
    "invertable_array = np.random.randint(\n",
    "    0, \n",
    "    10, \n",
    "    size=(\n",
    "        array_features.shape[1], \n",
    "        array_features.shape[1])\n",
    ")\n",
    "print('Произвольная предположительно обратимая матрица invertable_array')\n",
    "print(invertable_array)\n",
    "print()\n",
    "# Проверим является ли матрица invertable_array обратимой.\n",
    "try:\n",
    "    print('Матрица, обратная матрице invertable_array')\n",
    "    print(np.linalg.inv(invertable_array))\n",
    "    print()\n",
    "    print('Матрица invertable_array обратима')\n",
    "except:\n",
    "    print('Матрица invertable_array необратима')"
   ]
  },
  {
   "cell_type": "code",
   "execution_count": 7,
   "metadata": {},
   "outputs": [
    {
     "data": {
      "text/html": [
       "<div>\n",
       "<style scoped>\n",
       "    .dataframe tbody tr th:only-of-type {\n",
       "        vertical-align: middle;\n",
       "    }\n",
       "\n",
       "    .dataframe tbody tr th {\n",
       "        vertical-align: top;\n",
       "    }\n",
       "\n",
       "    .dataframe thead th {\n",
       "        text-align: right;\n",
       "    }\n",
       "</style>\n",
       "<table border=\"1\" class=\"dataframe\">\n",
       "  <thead>\n",
       "    <tr style=\"text-align: right;\">\n",
       "      <th></th>\n",
       "      <th>Пол</th>\n",
       "      <th>Возраст</th>\n",
       "      <th>Зарплата</th>\n",
       "      <th>Члены семьи</th>\n",
       "    </tr>\n",
       "  </thead>\n",
       "  <tbody>\n",
       "    <tr>\n",
       "      <th>0</th>\n",
       "      <td>297693</td>\n",
       "      <td>297607</td>\n",
       "      <td>49969</td>\n",
       "      <td>198494</td>\n",
       "    </tr>\n",
       "    <tr>\n",
       "      <th>1</th>\n",
       "      <td>228095</td>\n",
       "      <td>228007</td>\n",
       "      <td>38414</td>\n",
       "      <td>152095</td>\n",
       "    </tr>\n",
       "    <tr>\n",
       "      <th>2</th>\n",
       "      <td>126058</td>\n",
       "      <td>126000</td>\n",
       "      <td>21261</td>\n",
       "      <td>84058</td>\n",
       "    </tr>\n",
       "    <tr>\n",
       "      <th>3</th>\n",
       "      <td>250248</td>\n",
       "      <td>250214</td>\n",
       "      <td>41889</td>\n",
       "      <td>166848</td>\n",
       "    </tr>\n",
       "    <tr>\n",
       "      <th>4</th>\n",
       "      <td>156664</td>\n",
       "      <td>156600</td>\n",
       "      <td>26352</td>\n",
       "      <td>104465</td>\n",
       "    </tr>\n",
       "    <tr>\n",
       "      <th>...</th>\n",
       "      <td>...</td>\n",
       "      <td>...</td>\n",
       "      <td>...</td>\n",
       "      <td>...</td>\n",
       "    </tr>\n",
       "    <tr>\n",
       "      <th>4995</th>\n",
       "      <td>214262</td>\n",
       "      <td>214214</td>\n",
       "      <td>35952</td>\n",
       "      <td>142862</td>\n",
       "    </tr>\n",
       "    <tr>\n",
       "      <th>4996</th>\n",
       "      <td>314471</td>\n",
       "      <td>314407</td>\n",
       "      <td>52706</td>\n",
       "      <td>209671</td>\n",
       "    </tr>\n",
       "    <tr>\n",
       "      <th>4997</th>\n",
       "      <td>203446</td>\n",
       "      <td>203414</td>\n",
       "      <td>34080</td>\n",
       "      <td>135646</td>\n",
       "    </tr>\n",
       "    <tr>\n",
       "      <th>4998</th>\n",
       "      <td>196261</td>\n",
       "      <td>196221</td>\n",
       "      <td>32898</td>\n",
       "      <td>130862</td>\n",
       "    </tr>\n",
       "    <tr>\n",
       "      <th>4999</th>\n",
       "      <td>243667</td>\n",
       "      <td>243607</td>\n",
       "      <td>40852</td>\n",
       "      <td>162468</td>\n",
       "    </tr>\n",
       "  </tbody>\n",
       "</table>\n",
       "<p>5000 rows × 4 columns</p>\n",
       "</div>"
      ],
      "text/plain": [
       "         Пол  Возраст  Зарплата  Члены семьи\n",
       "0     297693   297607     49969       198494\n",
       "1     228095   228007     38414       152095\n",
       "2     126058   126000     21261        84058\n",
       "3     250248   250214     41889       166848\n",
       "4     156664   156600     26352       104465\n",
       "...      ...      ...       ...          ...\n",
       "4995  214262   214214     35952       142862\n",
       "4996  314471   314407     52706       209671\n",
       "4997  203446   203414     34080       135646\n",
       "4998  196261   196221     32898       130862\n",
       "4999  243667   243607     40852       162468\n",
       "\n",
       "[5000 rows x 4 columns]"
      ]
     },
     "metadata": {},
     "output_type": "display_data"
    }
   ],
   "source": [
    "# Умножим признаки на матрицу invertable_array.\n",
    "new_features_array = array_features @ invertable_array\n",
    "new_features = pd.DataFrame(\n",
    "    data=new_features_array, \n",
    "    index=features.index, \n",
    "    columns=features.columns\n",
    ")\n",
    "display(new_features)"
   ]
  },
  {
   "cell_type": "code",
   "execution_count": 8,
   "metadata": {},
   "outputs": [
    {
     "name": "stdout",
     "output_type": "stream",
     "text": [
      "Примечание: перечисленные выборки разбиты попарно на три группы по следующему порядку: тренировочная, валидационная и тестовая.\n",
      "Первым в паре идет набор признаков, вторым — набор целевых признаков \n",
      "Размер таблицы составляет: (3000, 4)\n",
      "Размер таблицы составляет: (3000,)\n",
      "Размер таблицы составляет: (1000, 4)\n",
      "Размер таблицы составляет: (1000,)\n",
      "Размер таблицы составляет: (1000, 4)\n",
      "Размер таблицы составляет: (1000,)\n"
     ]
    }
   ],
   "source": [
    "# Разобьем новый набор признаков функцией splitting.\n",
    "(new_features_train, new_target_train, \n",
    " new_features_valid, new_target_valid, \n",
    " new_features_test, new_target_test) = splitting(new_features, target)"
   ]
  },
  {
   "cell_type": "code",
   "execution_count": 9,
   "metadata": {},
   "outputs": [
    {
     "name": "stdout",
     "output_type": "stream",
     "text": [
      "Метрика R2 на валидационной измененной выборке составила 0.41199362877293766\n",
      "Метрика MSE на валидационной измененной выборке составила 0.11001599205658337\n",
      "\n",
      "Метрика R2 на тестовой измененной выборке составила 0.41812098706236234\n",
      "Метрика MSE на тестовой измененной выборке составила 0.12135145002715726\n"
     ]
    }
   ],
   "source": [
    "# Обучим линейную регрессию и измерим её качество.\n",
    "model = LinearRegression()\n",
    "model.fit(new_features_train, new_target_train)\n",
    "predictions_valid_new = pd.Series(\n",
    "    data=model.predict(new_features_valid), \n",
    "    index=new_target_valid.index\n",
    ")\n",
    "# Теперь измерим качество модели на валидационной выборке, \n",
    "# используя метрики R2 и MSE.\n",
    "r2_valid_new = r2_score(new_target_valid, predictions_valid_new)\n",
    "mse_valid_new = mean_squared_error(new_target_valid, predictions_valid_new)\n",
    "print('Метрика R2 на валидационной измененной выборке составила', \n",
    "      r2_valid_new)\n",
    "print('Метрика MSE на валидационной измененной выборке составила', \n",
    "      mse_valid_new)\n",
    "\n",
    "# Измерим качество на тестовой выборке.\n",
    "predictions_test_new = pd.Series(\n",
    "    data=model.predict(new_features_test),\n",
    "    index=new_target_test.index\n",
    ")\n",
    "# Теперь измерим качество модели на тестовой выборке, \n",
    "# используя метрики R2 и MSE\n",
    "r2_test_new = r2_score(new_target_test, predictions_test_new)\n",
    "mse_test_new = mean_squared_error(new_target_test, predictions_test_new)\n",
    "print()\n",
    "print('Метрика R2 на тестовой измененной выборке составила', \n",
    "      r2_test_new)\n",
    "print('Метрика MSE на тестовой измененной выборке составила', \n",
    "      mse_test_new)"
   ]
  },
  {
   "cell_type": "code",
   "execution_count": 10,
   "metadata": {},
   "outputs": [
    {
     "data": {
      "text/html": [
       "<div>\n",
       "<style scoped>\n",
       "    .dataframe tbody tr th:only-of-type {\n",
       "        vertical-align: middle;\n",
       "    }\n",
       "\n",
       "    .dataframe tbody tr th {\n",
       "        vertical-align: top;\n",
       "    }\n",
       "\n",
       "    .dataframe thead th {\n",
       "        text-align: right;\n",
       "    }\n",
       "</style>\n",
       "<table border=\"1\" class=\"dataframe\">\n",
       "  <thead>\n",
       "    <tr style=\"text-align: right;\">\n",
       "      <th></th>\n",
       "      <th>R2</th>\n",
       "      <th>MSE</th>\n",
       "    </tr>\n",
       "  </thead>\n",
       "  <tbody>\n",
       "    <tr>\n",
       "      <th>Исходный набор признаков</th>\n",
       "      <td>0.418121</td>\n",
       "      <td>0.121351</td>\n",
       "    </tr>\n",
       "    <tr>\n",
       "      <th>Набор признаков, умноженный на обратимую матрицу</th>\n",
       "      <td>0.418121</td>\n",
       "      <td>0.121351</td>\n",
       "    </tr>\n",
       "  </tbody>\n",
       "</table>\n",
       "</div>"
      ],
      "text/plain": [
       "                                                        R2       MSE\n",
       "Исходный набор признаков                          0.418121  0.121351\n",
       "Набор признаков, умноженный на обратимую матрицу  0.418121  0.121351"
      ]
     },
     "metadata": {},
     "output_type": "display_data"
    }
   ],
   "source": [
    "results = pd.DataFrame(\n",
    "    {\n",
    "        'R2': [r2_test, r2_test_new],\n",
    "        'MSE': [mse_test, mse_test_new]\n",
    "    },index=(\n",
    "        [\n",
    "            'Исходный набор признаков', \n",
    "            'Набор признаков, умноженный на обратимую матрицу'\n",
    "        ]\n",
    "    )\n",
    ")\n",
    "display(results)"
   ]
  },
  {
   "cell_type": "markdown",
   "metadata": {},
   "source": [
    "### Вывод"
   ]
  },
  {
   "cell_type": "markdown",
   "metadata": {},
   "source": [
    "Мы определили признаки, целевой признак. Подготовили функцию, разбивающую данные на выборки и оценивающую их размеры. Затем мы создали модель линейной регрессии и обучили её на исходных данных. Качество этой модели измерено метриками R2 и MSE."
   ]
  },
  {
   "cell_type": "markdown",
   "metadata": {},
   "source": [
    "Мы умножили набор данных с признаками на произвольную обратимую матрицу. Снова создали модель линейной регрессии и оценили её качество, предварительно обучив на измененных исходных данных. Качество не изменилось по сравнению с первой моделью.\n",
    "Ниже приведено обоснование."
   ]
  },
  {
   "cell_type": "markdown",
   "metadata": {},
   "source": [
    "## Предложение алгоритма преобразования данных для решения задачи"
   ]
  },
  {
   "cell_type": "markdown",
   "metadata": {},
   "source": [
    "Для начала сделаем обозначения\n",
    "\n",
    "- $X$ — матрица признаков (нулевой столбец состоит из единиц)\n",
    "\n",
    "- $y$ — вектор целевого признака\n",
    "\n",
    "- $P$ — матрица, на которую умножаются признаки\n",
    "\n",
    "- $w$ — вектор весов линейной регрессии (нулевой элемент равен сдвигу)  \n",
    "  \n",
    "Еще раз изучим основные формулы  \n",
    "    \n",
    "Предсказания:\n",
    "\n",
    "$$\n",
    "a = Xw\n",
    "$$\n",
    "\n",
    "Задача обучения:\n",
    "\n",
    "$$\n",
    "w = \\arg\\min_w MSE(Xw, y)\n",
    "$$\n",
    "\n",
    "Формула обучения:\n",
    "\n",
    "$$\n",
    "w = (X^T X)^{-1} X^T y\n",
    "$$  \n",
    "\n",
    "Развернутая формула предсказаний:\n",
    "\n",
    "$$\n",
    "a = X (X^T X)^{-1} X^T y\n",
    "$$"
   ]
  },
  {
   "cell_type": "markdown",
   "metadata": {},
   "source": [
    "Мы убедились, что при умножении матрицы признаков на произвольную обратимую матрицу, качество модели не меняется. Теперь попробуем решить теоретическую задачу и доказать, почему это так.  \n",
    "В формуле предсказаний линейной регрессии умножим матрицу признаков X на произвольную обратимую матрицу P."
   ]
  },
  {
   "cell_type": "markdown",
   "metadata": {},
   "source": [
    "$$\n",
    "a = (X\\cdot P) \\cdot ((X\\cdotp P)^T \\cdot (X\\cdotp P))^{-1} \\cdot (X\\cdotp P)^T \\cdot y\n",
    "$$"
   ]
  },
  {
   "cell_type": "markdown",
   "metadata": {},
   "source": [
    "Теперь раскроем скобки"
   ]
  },
  {
   "cell_type": "markdown",
   "metadata": {},
   "source": [
    "$$\n",
    "a = X\\cdot P \\cdot (P^T \\cdot X^T \\cdot (X\\cdotp P))^{-1} \\cdot P^T \\cdotp X^T \\cdot y\n",
    "$$  \n",
    "  \n",
    "Свойство ассоциативности матриц при умножении позволяет нам изменить расположение скобок внутри произведения, возведенного в -1 степень.  \n",
    "  \n",
    "$$\n",
    "a = X\\cdot P \\cdot (P^T \\cdot (X^T \\cdot X) \\cdotp P)^{-1} \\cdot P^T \\cdotp X^T \\cdot y\n",
    "$$  \n",
    "\n",
    "Произведение матрицы на её транспонированный вариант порождает квадратную матрицу. Это позволяет нам сделать вывод, что в этой части формулы мы имеем три квадратные матрицы.  \n",
    "$$\n",
    "(P^T \\cdot (X^T \\cdot X) \\cdotp P)^{-1}\n",
    "$$  \n",
    "\n",
    "Продолжим раскрытие скобок.  \n",
    "$$\n",
    "a = X\\cdot P \\cdot P^{-1}  \\cdot (X^T \\cdot X)^{-1} \\cdot (P^T)^{-1} \\cdot P^T \\cdotp X^T \\cdot y\n",
    "$$  \n",
    "Произведение матрицы на её обратную матрицу даёт нам единичную матрицу.\n",
    "\n",
    "$$\n",
    "a = X\\cdot E  \\cdot (X^T \\cdot X)^{-1} \\cdot E   \\cdotp  X^T \\cdot y\n",
    "$$  \n",
    "\n",
    "А умножение любой матрицы, например, M на единичную матрицу даёт нам эту же матрицу M.\n",
    "\n",
    "$$\n",
    "a = X\\cdot (X^T \\cdot X)^{-1} \\cdot X^T \\cdot y\n",
    "$$  \n",
    "\n",
    "Мы получили исходную формулу расчета предсказаний.\n",
    "\n",
    "Учитывая вышеприведенные операции с матрицами, мы доказали, что результат предсказаний не изменится при умножении признаков на произвольную обратимую матрицу. Этот факт можно использовать для шифрования данных."
   ]
  },
  {
   "cell_type": "markdown",
   "metadata": {},
   "source": [
    "## Программирование алгоритма, применяя матричные операции"
   ]
  },
  {
   "cell_type": "markdown",
   "metadata": {},
   "source": [
    "**Алгоритм**\n",
    "\n",
    "Предлагается алгоритм преобразования (шифрования) данных клиентов, основанный на факте, выявленном в предыдущей части проекта. Персональные данные — это признаки нашей модели. При умножении матрицы с признаками на произвольную обратимую матрицу мы получим новую матрицу, являющейся зашифрованным массивом персональных данных. Матрица, обратная произвольной обратимой матрице станет ключом шифрования. При этом качество математической модели линейной регрессии после шифрования данных не изменится.  \n",
    "  \n",
    "Стоит отметить, что ключом к успешному шифрованию данных является сочетание подстановки и перестановки (подстановки новых знаков/чисел вместо изначальных и их перестановки в пределах полученного набора данных). Однако в нашем случае возможна только подстановка (умножение на произвольную обратимую матрицу). При последующей перестановке полученных элементов массива качество модели непременно изменится."
   ]
  },
  {
   "cell_type": "code",
   "execution_count": 11,
   "metadata": {},
   "outputs": [],
   "source": [
    "# Напишем функцию шифрования признаков.\n",
    "# У функции будет два параметра: признаки в формате DataFrame\n",
    "# и параметр seed генератора случайных чисел.\n",
    "def cypher (features, seed):\n",
    "    # Создадим массив данных из объекта признаков DataFrame.\n",
    "    array_features = features.values\n",
    "    # Создадим случайный генератор. В качестве параметра укажем\n",
    "    # произвольное положительное число, например, 12345, чтобы\n",
    "    # получить воспроизводимый результат.\n",
    "    rng = np.random.default_rng(seed)\n",
    "    # Получим произвольную предположительно обратимую \n",
    "    # матрицу-шифр подходящих размеров.\n",
    "    invertable_array = rng.random((\n",
    "        array_features.shape[1], \n",
    "        array_features.shape[1]\n",
    "    ))\n",
    "    # Убедимся, что она обратима.\n",
    "    try:\n",
    "        cypher = np.linalg.inv(invertable_array)\n",
    "    except:\n",
    "        print('Шифр-матрица необратима.' + \n",
    "              ' Измените параметры генератора случайных чисел')\n",
    "    # Умножим вводимые в функцию признаки на шифр-матрицу.\n",
    "    new_features_array = array_features @ invertable_array\n",
    "    # Создадим объект DataFrame, поместим в него полученный результат.\n",
    "    encrypted_features = pd.DataFrame(\n",
    "    data=new_features_array, \n",
    "    index=features.index, \n",
    "    columns=features.columns)\n",
    "    print('Используемый seed генератора случайных чисел', \n",
    "          seed)\n",
    "    print('Ключ шифрования:')\n",
    "    print(cypher)\n",
    "    return encrypted_features, cypher"
   ]
  },
  {
   "cell_type": "markdown",
   "metadata": {},
   "source": [
    "### Вывод"
   ]
  },
  {
   "cell_type": "markdown",
   "metadata": {},
   "source": [
    "**Обоснование**\n",
    "\n",
    "На предыдущем шаге выполнения проекта мы доказали, что при умножении матрицы признаков на произвольную обратимую матрицу, качество модели не меняется. Это означает, что матрица обратная произвольной обратимой матрице может стать ключом шифрования, и персональные данные клиентов можно зашифровать путем матричного умножения. Для расшифрования данных нужно будет умножить измененные признаки на ключ щифрования. Подробное теоретическое обоснование данного метода приведено в предыдущем шаге.  \n",
    "  \n",
    "Стоит отметить, что параметр seed генератора случайных чисел, а также ключ шифрования нужно защитить от несанкционированного доступа."
   ]
  },
  {
   "cell_type": "markdown",
   "metadata": {},
   "source": [
    "## Проверка качества линейной регрессии. Изучение метрики R2"
   ]
  },
  {
   "cell_type": "code",
   "execution_count": 12,
   "metadata": {},
   "outputs": [
    {
     "name": "stdout",
     "output_type": "stream",
     "text": [
      "Используемый seed генератора случайных чисел 12345\n",
      "Ключ шифрования:\n",
      "[[-1.97240014  1.76004024 -0.08309671  1.22285233]\n",
      " [ 0.14111106  0.32873452  1.02824721 -1.27752175]\n",
      " [ 0.8908452   0.90302415 -0.59501472 -0.23290483]\n",
      " [ 1.02530945 -1.81039816  0.24787878  0.46192295]]\n"
     ]
    },
    {
     "data": {
      "text/html": [
       "<div>\n",
       "<style scoped>\n",
       "    .dataframe tbody tr th:only-of-type {\n",
       "        vertical-align: middle;\n",
       "    }\n",
       "\n",
       "    .dataframe tbody tr th {\n",
       "        vertical-align: top;\n",
       "    }\n",
       "\n",
       "    .dataframe thead th {\n",
       "        text-align: right;\n",
       "    }\n",
       "</style>\n",
       "<table border=\"1\" class=\"dataframe\">\n",
       "  <thead>\n",
       "    <tr style=\"text-align: right;\">\n",
       "      <th></th>\n",
       "      <th>Пол</th>\n",
       "      <th>Возраст</th>\n",
       "      <th>Зарплата</th>\n",
       "      <th>Члены семьи</th>\n",
       "    </tr>\n",
       "  </thead>\n",
       "  <tbody>\n",
       "    <tr>\n",
       "      <th>0</th>\n",
       "      <td>33385.629848</td>\n",
       "      <td>46727.480145</td>\n",
       "      <td>12338.757310</td>\n",
       "      <td>47073.723967</td>\n",
       "    </tr>\n",
       "    <tr>\n",
       "      <th>1</th>\n",
       "      <td>25583.387949</td>\n",
       "      <td>35803.914219</td>\n",
       "      <td>9461.301198</td>\n",
       "      <td>36066.960022</td>\n",
       "    </tr>\n",
       "    <tr>\n",
       "      <th>2</th>\n",
       "      <td>14139.219101</td>\n",
       "      <td>19787.511775</td>\n",
       "      <td>5230.510961</td>\n",
       "      <td>19931.919480</td>\n",
       "    </tr>\n",
       "    <tr>\n",
       "      <th>3</th>\n",
       "      <td>28063.474811</td>\n",
       "      <td>39280.360370</td>\n",
       "      <td>10365.294463</td>\n",
       "      <td>39574.038409</td>\n",
       "    </tr>\n",
       "    <tr>\n",
       "      <th>4</th>\n",
       "      <td>17570.111152</td>\n",
       "      <td>24590.690332</td>\n",
       "      <td>6496.763162</td>\n",
       "      <td>24771.702875</td>\n",
       "    </tr>\n",
       "    <tr>\n",
       "      <th>...</th>\n",
       "      <td>...</td>\n",
       "      <td>...</td>\n",
       "      <td>...</td>\n",
       "      <td>...</td>\n",
       "    </tr>\n",
       "    <tr>\n",
       "      <th>4995</th>\n",
       "      <td>24029.676314</td>\n",
       "      <td>33631.872876</td>\n",
       "      <td>8880.008337</td>\n",
       "      <td>33882.058637</td>\n",
       "    </tr>\n",
       "    <tr>\n",
       "      <th>4996</th>\n",
       "      <td>35266.381669</td>\n",
       "      <td>49361.881712</td>\n",
       "      <td>13028.859784</td>\n",
       "      <td>49728.607798</td>\n",
       "    </tr>\n",
       "    <tr>\n",
       "      <th>4997</th>\n",
       "      <td>22815.586558</td>\n",
       "      <td>31933.965207</td>\n",
       "      <td>8428.379580</td>\n",
       "      <td>32172.578691</td>\n",
       "    </tr>\n",
       "    <tr>\n",
       "      <th>4998</th>\n",
       "      <td>22009.956098</td>\n",
       "      <td>30804.880053</td>\n",
       "      <td>8132.920545</td>\n",
       "      <td>31035.857511</td>\n",
       "    </tr>\n",
       "    <tr>\n",
       "      <th>4999</th>\n",
       "      <td>27325.741028</td>\n",
       "      <td>38246.927776</td>\n",
       "      <td>10096.767864</td>\n",
       "      <td>38531.366056</td>\n",
       "    </tr>\n",
       "  </tbody>\n",
       "</table>\n",
       "<p>5000 rows × 4 columns</p>\n",
       "</div>"
      ],
      "text/plain": [
       "               Пол       Возраст      Зарплата   Члены семьи\n",
       "0     33385.629848  46727.480145  12338.757310  47073.723967\n",
       "1     25583.387949  35803.914219   9461.301198  36066.960022\n",
       "2     14139.219101  19787.511775   5230.510961  19931.919480\n",
       "3     28063.474811  39280.360370  10365.294463  39574.038409\n",
       "4     17570.111152  24590.690332   6496.763162  24771.702875\n",
       "...            ...           ...           ...           ...\n",
       "4995  24029.676314  33631.872876   8880.008337  33882.058637\n",
       "4996  35266.381669  49361.881712  13028.859784  49728.607798\n",
       "4997  22815.586558  31933.965207   8428.379580  32172.578691\n",
       "4998  22009.956098  30804.880053   8132.920545  31035.857511\n",
       "4999  27325.741028  38246.927776  10096.767864  38531.366056\n",
       "\n",
       "[5000 rows x 4 columns]"
      ]
     },
     "metadata": {},
     "output_type": "display_data"
    },
    {
     "data": {
      "text/plain": [
       "array([[-1.97240014,  1.76004024, -0.08309671,  1.22285233],\n",
       "       [ 0.14111106,  0.32873452,  1.02824721, -1.27752175],\n",
       "       [ 0.8908452 ,  0.90302415, -0.59501472, -0.23290483],\n",
       "       [ 1.02530945, -1.81039816,  0.24787878,  0.46192295]])"
      ]
     },
     "metadata": {},
     "output_type": "display_data"
    }
   ],
   "source": [
    "# Итак у нас имееются исходные данные. \n",
    "# Мы разбили их на целевой и остальные признаки.\n",
    "# Зашифруем признаки.\n",
    "encrypted_features, key = cypher(features, 12345)\n",
    "# Посмотрим, как выглядят зашифрованные данные.\n",
    "display(encrypted_features)\n",
    "# Посмотрим, как выглядит ключ шифрования.\n",
    "display(key)"
   ]
  },
  {
   "cell_type": "code",
   "execution_count": 13,
   "metadata": {},
   "outputs": [
    {
     "name": "stdout",
     "output_type": "stream",
     "text": [
      "Примечание: перечисленные выборки разбиты попарно на три группы по следующему порядку: тренировочная, валидационная и тестовая.\n",
      "Первым в паре идет набор признаков, вторым — набор целевых признаков \n",
      "Размер таблицы составляет: (3000, 4)\n",
      "Размер таблицы составляет: (3000,)\n",
      "Размер таблицы составляет: (1000, 4)\n",
      "Размер таблицы составляет: (1000,)\n",
      "Размер таблицы составляет: (1000, 4)\n",
      "Размер таблицы составляет: (1000,)\n"
     ]
    }
   ],
   "source": [
    "# А теперь сравним качество моделей до и после преобразования.\n",
    "# Разобьем выборки на части.\n",
    "(features_train_enc, target_train_enc, \n",
    " features_valid_enc, target_valid_enc, \n",
    " features_test_enc, target_test_enc) = splitting(\n",
    "    encrypted_features, \n",
    "    target\n",
    ")"
   ]
  },
  {
   "cell_type": "code",
   "execution_count": 14,
   "metadata": {},
   "outputs": [
    {
     "name": "stdout",
     "output_type": "stream",
     "text": [
      "Метрика R2 на валидационной зашифрованной выборке составила 0.4119936287725722\n",
      "Метрика MSE на валидационной зашифрованной выборке составила 0.11001599205665176\n",
      "\n",
      "Метрика R2 на тестовой зашифрованной выборке составила 0.4181209870621041\n",
      "Метрика MSE на тестовой зашифрованной выборке составила 0.12135145002721112\n"
     ]
    }
   ],
   "source": [
    "# Обучим линейную регрессию и измерим её качество.\n",
    "model = LinearRegression()\n",
    "model.fit(features_train_enc, target_train_enc)\n",
    "predictions_valid_enc = pd.Series(\n",
    "    data=model.predict(features_valid_enc), \n",
    "    index=target_valid_enc.index\n",
    ")\n",
    "# Теперь измерим качество модели на валидационной выборке, \n",
    "# используя метрики R2 и MSE.\n",
    "r2_valid_enc = r2_score(target_valid_enc, predictions_valid_enc)\n",
    "mse_valid_enc = mean_squared_error(\n",
    "    target_valid_enc, \n",
    "    predictions_valid_enc\n",
    ")\n",
    "print('Метрика R2 на валидационной зашифрованной выборке составила', \n",
    "      r2_valid_enc\n",
    "     )\n",
    "print('Метрика MSE на валидационной зашифрованной выборке составила', \n",
    "      mse_valid_enc\n",
    "     )\n",
    "print()\n",
    "# Измерим качество на тестовой выборке.\n",
    "predictions_test_enc = pd.Series(\n",
    "    data=model.predict(features_test_enc),\n",
    "    index=target_test_enc.index\n",
    ")\n",
    "r2_test_enc = r2_score(target_test_enc, predictions_test_enc)\n",
    "mse_test_enc = mean_squared_error(target_test_enc, predictions_test_enc)\n",
    "# Теперь измерим качество модели на тестовой выборке, \n",
    "# используя метрики R2 и MSE.\n",
    "print('Метрика R2 на тестовой зашифрованной выборке составила', \n",
    "      r2_test_enc\n",
    "     )\n",
    "print('Метрика MSE на тестовой зашифрованной выборке составила', \n",
    "      mse_test_enc\n",
    "     )"
   ]
  },
  {
   "cell_type": "code",
   "execution_count": 15,
   "metadata": {},
   "outputs": [
    {
     "data": {
      "text/html": [
       "<div>\n",
       "<style scoped>\n",
       "    .dataframe tbody tr th:only-of-type {\n",
       "        vertical-align: middle;\n",
       "    }\n",
       "\n",
       "    .dataframe tbody tr th {\n",
       "        vertical-align: top;\n",
       "    }\n",
       "\n",
       "    .dataframe thead th {\n",
       "        text-align: right;\n",
       "    }\n",
       "</style>\n",
       "<table border=\"1\" class=\"dataframe\">\n",
       "  <thead>\n",
       "    <tr style=\"text-align: right;\">\n",
       "      <th></th>\n",
       "      <th>R2</th>\n",
       "      <th>MSE</th>\n",
       "    </tr>\n",
       "  </thead>\n",
       "  <tbody>\n",
       "    <tr>\n",
       "      <th>Исходный набор признаков</th>\n",
       "      <td>0.418121</td>\n",
       "      <td>0.121351</td>\n",
       "    </tr>\n",
       "    <tr>\n",
       "      <th>Зашифрованный набор признаков</th>\n",
       "      <td>0.418121</td>\n",
       "      <td>0.121351</td>\n",
       "    </tr>\n",
       "  </tbody>\n",
       "</table>\n",
       "</div>"
      ],
      "text/plain": [
       "                                     R2       MSE\n",
       "Исходный набор признаков       0.418121  0.121351\n",
       "Зашифрованный набор признаков  0.418121  0.121351"
      ]
     },
     "metadata": {},
     "output_type": "display_data"
    }
   ],
   "source": [
    "# Результаты сравнения оформим в таблицу.\n",
    "results = pd.DataFrame(\n",
    "    {\n",
    "        'R2': [r2_test, r2_test_enc],\n",
    "        'MSE': [mse_test, mse_test_enc]\n",
    "    },index=(\n",
    "        ['Исходный набор признаков', 'Зашифрованный набор признаков']\n",
    "    )\n",
    ")\n",
    "display(results)"
   ]
  },
  {
   "cell_type": "markdown",
   "metadata": {},
   "source": [
    "### Вывод"
   ]
  },
  {
   "cell_type": "markdown",
   "metadata": {},
   "source": [
    "Мы проверили работу нашего алгоритма, и убедились в его работоспособности. Также мы провели сравнение качества моделей линейного регрессии до и после шифрования признаков. Качество осталось неизменным. Задача выполнена."
   ]
  }
 ],
 "metadata": {
  "ExecuteTimeLog": [
   {
    "duration": 3,
    "start_time": "2021-12-06T16:08:42.421Z"
   },
   {
    "duration": 640,
    "start_time": "2021-12-06T16:11:06.187Z"
   },
   {
    "duration": 35,
    "start_time": "2021-12-06T16:11:11.291Z"
   },
   {
    "duration": 21,
    "start_time": "2021-12-06T16:11:24.793Z"
   },
   {
    "duration": 20,
    "start_time": "2021-12-06T16:11:27.843Z"
   },
   {
    "duration": 20,
    "start_time": "2021-12-06T16:11:31.851Z"
   },
   {
    "duration": 21,
    "start_time": "2021-12-06T16:12:44.953Z"
   },
   {
    "duration": 28,
    "start_time": "2021-12-06T16:12:57.217Z"
   },
   {
    "duration": 33,
    "start_time": "2021-12-06T16:13:20.912Z"
   },
   {
    "duration": 36,
    "start_time": "2021-12-06T16:13:50.320Z"
   },
   {
    "duration": 28,
    "start_time": "2021-12-06T16:14:02.624Z"
   },
   {
    "duration": 92,
    "start_time": "2021-12-06T16:15:05.729Z"
   },
   {
    "duration": 32,
    "start_time": "2021-12-06T16:15:09.974Z"
   },
   {
    "duration": 28,
    "start_time": "2021-12-06T16:15:31.485Z"
   },
   {
    "duration": 57,
    "start_time": "2021-12-06T16:15:47.270Z"
   },
   {
    "duration": 1163,
    "start_time": "2021-12-06T16:17:49.172Z"
   },
   {
    "duration": 9,
    "start_time": "2021-12-06T16:20:40.526Z"
   },
   {
    "duration": 1115,
    "start_time": "2021-12-07T10:06:54.991Z"
   },
   {
    "duration": 8,
    "start_time": "2021-12-07T10:06:58.289Z"
   },
   {
    "duration": 27,
    "start_time": "2021-12-07T10:19:38.571Z"
   },
   {
    "duration": 7,
    "start_time": "2021-12-07T10:19:41.093Z"
   },
   {
    "duration": 12,
    "start_time": "2021-12-07T10:50:26.233Z"
   },
   {
    "duration": 7,
    "start_time": "2021-12-07T10:50:33.485Z"
   },
   {
    "duration": 8,
    "start_time": "2021-12-07T10:50:46.188Z"
   },
   {
    "duration": 4,
    "start_time": "2021-12-07T10:54:57.868Z"
   },
   {
    "duration": 4,
    "start_time": "2021-12-07T10:54:57.992Z"
   },
   {
    "duration": 4,
    "start_time": "2021-12-07T10:55:17.896Z"
   },
   {
    "duration": 363,
    "start_time": "2021-12-07T10:55:44.591Z"
   },
   {
    "duration": 9,
    "start_time": "2021-12-07T10:55:59.704Z"
   },
   {
    "duration": 5,
    "start_time": "2021-12-07T10:56:01.207Z"
   },
   {
    "duration": 268,
    "start_time": "2021-12-07T11:01:04.129Z"
   },
   {
    "duration": 404,
    "start_time": "2021-12-07T11:01:12.268Z"
   },
   {
    "duration": 1139,
    "start_time": "2021-12-07T11:01:29.546Z"
   },
   {
    "duration": 8,
    "start_time": "2021-12-07T11:01:32.929Z"
   },
   {
    "duration": 9,
    "start_time": "2021-12-07T11:01:35.282Z"
   },
   {
    "duration": 355,
    "start_time": "2021-12-07T11:01:37.457Z"
   },
   {
    "duration": 282,
    "start_time": "2021-12-07T11:01:58.417Z"
   },
   {
    "duration": 437,
    "start_time": "2021-12-07T11:02:12.769Z"
   },
   {
    "duration": 15,
    "start_time": "2021-12-07T11:02:27.912Z"
   },
   {
    "duration": 5,
    "start_time": "2021-12-07T11:05:06.550Z"
   },
   {
    "duration": 5,
    "start_time": "2021-12-07T11:06:42.413Z"
   },
   {
    "duration": 14,
    "start_time": "2021-12-07T11:09:12.126Z"
   },
   {
    "duration": 303,
    "start_time": "2021-12-07T11:09:26.921Z"
   },
   {
    "duration": 15,
    "start_time": "2021-12-07T11:09:41.010Z"
   },
   {
    "duration": 5,
    "start_time": "2021-12-07T11:09:50.273Z"
   },
   {
    "duration": 16,
    "start_time": "2021-12-07T11:11:41.199Z"
   },
   {
    "duration": 6,
    "start_time": "2021-12-07T11:12:36.286Z"
   },
   {
    "duration": 7,
    "start_time": "2021-12-07T11:12:42.846Z"
   },
   {
    "duration": 29,
    "start_time": "2021-12-07T11:13:38.661Z"
   },
   {
    "duration": 30,
    "start_time": "2021-12-07T11:13:40.726Z"
   },
   {
    "duration": 8,
    "start_time": "2021-12-07T11:13:42.853Z"
   },
   {
    "duration": 9,
    "start_time": "2021-12-07T11:13:44.781Z"
   },
   {
    "duration": 5,
    "start_time": "2021-12-07T11:13:47.245Z"
   },
   {
    "duration": 6,
    "start_time": "2021-12-07T11:13:49.037Z"
   },
   {
    "duration": 8,
    "start_time": "2021-12-07T11:19:30.559Z"
   },
   {
    "duration": 9,
    "start_time": "2021-12-07T11:21:48.307Z"
   },
   {
    "duration": 9,
    "start_time": "2021-12-07T12:19:28.553Z"
   },
   {
    "duration": 9,
    "start_time": "2021-12-07T12:34:20.291Z"
   },
   {
    "duration": 4,
    "start_time": "2021-12-07T12:34:28.920Z"
   },
   {
    "duration": 1178,
    "start_time": "2021-12-07T12:50:36.633Z"
   },
   {
    "duration": 8,
    "start_time": "2021-12-07T12:50:37.813Z"
   },
   {
    "duration": 15,
    "start_time": "2021-12-07T12:50:37.823Z"
   },
   {
    "duration": 5,
    "start_time": "2021-12-07T12:50:37.840Z"
   },
   {
    "duration": 10,
    "start_time": "2021-12-07T12:50:37.847Z"
   },
   {
    "duration": 8,
    "start_time": "2021-12-07T12:50:37.859Z"
   },
   {
    "duration": 3,
    "start_time": "2021-12-07T12:53:13.460Z"
   },
   {
    "duration": 4,
    "start_time": "2021-12-07T12:53:26.651Z"
   },
   {
    "duration": 4,
    "start_time": "2021-12-07T12:53:28.459Z"
   },
   {
    "duration": 4,
    "start_time": "2021-12-07T12:53:33.932Z"
   },
   {
    "duration": 4,
    "start_time": "2021-12-07T12:54:10.627Z"
   },
   {
    "duration": 4,
    "start_time": "2021-12-07T12:54:26.130Z"
   },
   {
    "duration": 4,
    "start_time": "2021-12-07T12:54:42.858Z"
   },
   {
    "duration": 4,
    "start_time": "2021-12-07T12:56:23.232Z"
   },
   {
    "duration": 381,
    "start_time": "2021-12-07T12:56:42.480Z"
   },
   {
    "duration": 368,
    "start_time": "2021-12-07T12:56:58.232Z"
   },
   {
    "duration": 380,
    "start_time": "2021-12-07T12:57:07.520Z"
   },
   {
    "duration": 5,
    "start_time": "2021-12-07T12:57:21.671Z"
   },
   {
    "duration": 4,
    "start_time": "2021-12-07T12:57:27.871Z"
   },
   {
    "duration": 351,
    "start_time": "2021-12-07T12:57:54.839Z"
   },
   {
    "duration": 16,
    "start_time": "2021-12-07T12:58:07.823Z"
   },
   {
    "duration": 19,
    "start_time": "2021-12-07T12:58:19.894Z"
   },
   {
    "duration": 19,
    "start_time": "2021-12-07T12:58:47.429Z"
   },
   {
    "duration": 4,
    "start_time": "2021-12-07T12:58:54.997Z"
   },
   {
    "duration": 4,
    "start_time": "2021-12-07T12:59:15.013Z"
   },
   {
    "duration": 4,
    "start_time": "2021-12-07T12:59:28.493Z"
   },
   {
    "duration": 3,
    "start_time": "2021-12-07T13:01:53.194Z"
   },
   {
    "duration": 5,
    "start_time": "2021-12-07T13:02:03.074Z"
   },
   {
    "duration": 5,
    "start_time": "2021-12-07T13:02:11.394Z"
   },
   {
    "duration": 265,
    "start_time": "2021-12-07T13:03:12.738Z"
   },
   {
    "duration": 6,
    "start_time": "2021-12-07T13:03:18.608Z"
   },
   {
    "duration": 5,
    "start_time": "2021-12-07T13:09:59.818Z"
   },
   {
    "duration": 5,
    "start_time": "2021-12-07T13:10:00.865Z"
   },
   {
    "duration": 6,
    "start_time": "2021-12-07T13:10:01.448Z"
   },
   {
    "duration": 5,
    "start_time": "2021-12-07T13:11:42.143Z"
   },
   {
    "duration": 6,
    "start_time": "2021-12-07T13:12:46.477Z"
   },
   {
    "duration": 3,
    "start_time": "2021-12-07T13:13:43.812Z"
   },
   {
    "duration": 3,
    "start_time": "2021-12-07T13:14:17.124Z"
   },
   {
    "duration": 7,
    "start_time": "2021-12-07T13:16:46.089Z"
   },
   {
    "duration": 7,
    "start_time": "2021-12-07T13:17:13.912Z"
   },
   {
    "duration": 1102,
    "start_time": "2021-12-07T13:20:25.802Z"
   },
   {
    "duration": 8,
    "start_time": "2021-12-07T13:20:28.860Z"
   },
   {
    "duration": 21,
    "start_time": "2021-12-07T13:20:32.380Z"
   },
   {
    "duration": 9,
    "start_time": "2021-12-07T13:20:51.796Z"
   },
   {
    "duration": 5,
    "start_time": "2021-12-07T13:20:54.291Z"
   },
   {
    "duration": 9,
    "start_time": "2021-12-07T13:21:14.364Z"
   },
   {
    "duration": 6,
    "start_time": "2021-12-07T13:21:17.355Z"
   },
   {
    "duration": 7,
    "start_time": "2021-12-07T13:21:23.491Z"
   },
   {
    "duration": 8,
    "start_time": "2021-12-07T13:23:34.769Z"
   },
   {
    "duration": 13,
    "start_time": "2021-12-07T13:23:51.832Z"
   },
   {
    "duration": 9,
    "start_time": "2021-12-07T13:28:15.890Z"
   },
   {
    "duration": 1367,
    "start_time": "2021-12-07T13:33:29.357Z"
   },
   {
    "duration": 7,
    "start_time": "2021-12-07T13:33:33.589Z"
   },
   {
    "duration": 10,
    "start_time": "2021-12-07T13:33:35.901Z"
   },
   {
    "duration": 4,
    "start_time": "2021-12-07T13:33:38.533Z"
   },
   {
    "duration": 12,
    "start_time": "2021-12-07T13:33:40.989Z"
   },
   {
    "duration": 20,
    "start_time": "2021-12-07T13:33:53.020Z"
   },
   {
    "duration": 7,
    "start_time": "2021-12-07T13:33:55.836Z"
   },
   {
    "duration": 10,
    "start_time": "2021-12-07T13:34:09.212Z"
   },
   {
    "duration": 10,
    "start_time": "2021-12-07T13:34:12.732Z"
   },
   {
    "duration": 10,
    "start_time": "2021-12-07T13:35:46.659Z"
   },
   {
    "duration": 1118,
    "start_time": "2021-12-08T12:10:31.684Z"
   },
   {
    "duration": 8,
    "start_time": "2021-12-08T12:10:32.803Z"
   },
   {
    "duration": 10,
    "start_time": "2021-12-08T12:10:32.816Z"
   },
   {
    "duration": 16,
    "start_time": "2021-12-08T12:10:32.828Z"
   },
   {
    "duration": 11,
    "start_time": "2021-12-08T12:10:32.846Z"
   },
   {
    "duration": 9,
    "start_time": "2021-12-08T12:10:32.858Z"
   },
   {
    "duration": 77,
    "start_time": "2021-12-08T12:10:32.869Z"
   },
   {
    "duration": 15,
    "start_time": "2021-12-08T12:10:32.949Z"
   },
   {
    "duration": 11,
    "start_time": "2021-12-08T12:10:33.045Z"
   },
   {
    "duration": 1136,
    "start_time": "2021-12-08T12:13:51.119Z"
   },
   {
    "duration": 8,
    "start_time": "2021-12-08T12:13:52.257Z"
   },
   {
    "duration": 10,
    "start_time": "2021-12-08T12:13:52.270Z"
   },
   {
    "duration": 5,
    "start_time": "2021-12-08T12:13:52.282Z"
   },
   {
    "duration": 12,
    "start_time": "2021-12-08T12:13:52.289Z"
   },
   {
    "duration": 6,
    "start_time": "2021-12-08T12:13:52.303Z"
   },
   {
    "duration": 42,
    "start_time": "2021-12-08T12:13:52.311Z"
   },
   {
    "duration": 10,
    "start_time": "2021-12-08T12:13:52.356Z"
   },
   {
    "duration": 12,
    "start_time": "2021-12-08T12:13:52.445Z"
   },
   {
    "duration": 1519,
    "start_time": "2021-12-10T12:53:20.663Z"
   },
   {
    "duration": 11,
    "start_time": "2021-12-10T12:53:22.185Z"
   },
   {
    "duration": 13,
    "start_time": "2021-12-10T12:53:22.199Z"
   },
   {
    "duration": 5,
    "start_time": "2021-12-10T12:53:22.215Z"
   },
   {
    "duration": 48,
    "start_time": "2021-12-10T12:53:22.223Z"
   },
   {
    "duration": 9,
    "start_time": "2021-12-10T12:53:22.273Z"
   },
   {
    "duration": 79,
    "start_time": "2021-12-10T12:53:22.285Z"
   },
   {
    "duration": 93,
    "start_time": "2021-12-10T12:53:22.367Z"
   },
   {
    "duration": 14,
    "start_time": "2021-12-10T12:53:22.464Z"
   },
   {
    "duration": 7,
    "start_time": "2021-12-10T12:53:22.480Z"
   },
   {
    "duration": 5,
    "start_time": "2021-12-10T12:53:25.417Z"
   },
   {
    "duration": 6,
    "start_time": "2021-12-10T12:53:26.393Z"
   },
   {
    "duration": 1728,
    "start_time": "2021-12-10T12:54:05.264Z"
   },
   {
    "duration": 6,
    "start_time": "2021-12-10T13:00:44.362Z"
   },
   {
    "duration": 6,
    "start_time": "2021-12-10T13:00:45.474Z"
   },
   {
    "duration": 6,
    "start_time": "2021-12-10T13:00:46.009Z"
   },
   {
    "duration": 6,
    "start_time": "2021-12-10T13:00:49.481Z"
   },
   {
    "duration": 6,
    "start_time": "2021-12-10T13:00:49.985Z"
   },
   {
    "duration": 6,
    "start_time": "2021-12-10T13:00:50.433Z"
   },
   {
    "duration": 7,
    "start_time": "2021-12-10T13:00:53.200Z"
   },
   {
    "duration": 6,
    "start_time": "2021-12-10T13:00:53.936Z"
   },
   {
    "duration": 8,
    "start_time": "2021-12-10T13:02:01.472Z"
   },
   {
    "duration": 17,
    "start_time": "2021-12-10T13:02:48.263Z"
   },
   {
    "duration": 27,
    "start_time": "2021-12-10T13:03:12.409Z"
   },
   {
    "duration": 14,
    "start_time": "2021-12-10T13:03:13.614Z"
   },
   {
    "duration": 14,
    "start_time": "2021-12-10T13:03:14.710Z"
   },
   {
    "duration": 10,
    "start_time": "2021-12-10T13:03:28.560Z"
   },
   {
    "duration": 17,
    "start_time": "2021-12-10T13:03:38.382Z"
   },
   {
    "duration": 9,
    "start_time": "2021-12-10T13:03:49.413Z"
   },
   {
    "duration": 16,
    "start_time": "2021-12-10T13:04:23.362Z"
   },
   {
    "duration": 1674,
    "start_time": "2021-12-10T13:07:12.676Z"
   },
   {
    "duration": 13,
    "start_time": "2021-12-10T13:07:14.353Z"
   },
   {
    "duration": 16,
    "start_time": "2021-12-10T13:07:14.369Z"
   },
   {
    "duration": 6,
    "start_time": "2021-12-10T13:07:14.388Z"
   },
   {
    "duration": 24,
    "start_time": "2021-12-10T13:07:14.396Z"
   },
   {
    "duration": 42,
    "start_time": "2021-12-10T13:07:14.423Z"
   },
   {
    "duration": 99,
    "start_time": "2021-12-10T13:07:14.469Z"
   },
   {
    "duration": 95,
    "start_time": "2021-12-10T13:07:14.571Z"
   },
   {
    "duration": 15,
    "start_time": "2021-12-10T13:07:14.669Z"
   },
   {
    "duration": 81,
    "start_time": "2021-12-10T13:07:14.687Z"
   },
   {
    "duration": 96,
    "start_time": "2021-12-10T13:07:14.772Z"
   },
   {
    "duration": 12,
    "start_time": "2021-12-10T13:09:51.679Z"
   },
   {
    "duration": 16,
    "start_time": "2021-12-10T13:11:39.965Z"
   },
   {
    "duration": 1339,
    "start_time": "2021-12-10T13:11:52.366Z"
   },
   {
    "duration": 12,
    "start_time": "2021-12-10T13:11:53.708Z"
   },
   {
    "duration": 33,
    "start_time": "2021-12-10T13:11:53.726Z"
   },
   {
    "duration": 7,
    "start_time": "2021-12-10T13:11:53.762Z"
   },
   {
    "duration": 20,
    "start_time": "2021-12-10T13:11:53.771Z"
   },
   {
    "duration": 9,
    "start_time": "2021-12-10T13:11:53.794Z"
   },
   {
    "duration": 10,
    "start_time": "2021-12-10T13:11:53.861Z"
   },
   {
    "duration": 96,
    "start_time": "2021-12-10T13:11:53.874Z"
   },
   {
    "duration": 15,
    "start_time": "2021-12-10T13:11:53.972Z"
   },
   {
    "duration": 71,
    "start_time": "2021-12-10T13:11:53.989Z"
   },
   {
    "duration": 98,
    "start_time": "2021-12-10T13:11:54.063Z"
   },
   {
    "duration": 18,
    "start_time": "2021-12-10T13:11:54.164Z"
   },
   {
    "duration": 1455,
    "start_time": "2021-12-10T13:12:17.958Z"
   },
   {
    "duration": 11,
    "start_time": "2021-12-10T13:12:19.416Z"
   },
   {
    "duration": 13,
    "start_time": "2021-12-10T13:12:19.430Z"
   },
   {
    "duration": 6,
    "start_time": "2021-12-10T13:12:19.459Z"
   },
   {
    "duration": 17,
    "start_time": "2021-12-10T13:12:19.468Z"
   },
   {
    "duration": 9,
    "start_time": "2021-12-10T13:12:19.487Z"
   },
   {
    "duration": 11,
    "start_time": "2021-12-10T13:12:19.559Z"
   },
   {
    "duration": 96,
    "start_time": "2021-12-10T13:12:19.574Z"
   },
   {
    "duration": 15,
    "start_time": "2021-12-10T13:12:19.674Z"
   },
   {
    "duration": 74,
    "start_time": "2021-12-10T13:12:19.692Z"
   },
   {
    "duration": 97,
    "start_time": "2021-12-10T13:12:19.770Z"
   },
   {
    "duration": 14,
    "start_time": "2021-12-10T13:12:19.869Z"
   },
   {
    "duration": 9729,
    "start_time": "2021-12-10T13:41:14.543Z"
   },
   {
    "duration": 18,
    "start_time": "2021-12-10T13:41:28.855Z"
   },
   {
    "duration": 6,
    "start_time": "2021-12-10T13:58:50.356Z"
   },
   {
    "duration": 5,
    "start_time": "2021-12-10T14:03:49.727Z"
   },
   {
    "duration": 7,
    "start_time": "2021-12-10T14:03:57.054Z"
   },
   {
    "duration": 8,
    "start_time": "2021-12-10T14:04:49.366Z"
   },
   {
    "duration": 11,
    "start_time": "2021-12-10T14:04:56.094Z"
   },
   {
    "duration": 11,
    "start_time": "2021-12-10T14:05:56.170Z"
   },
   {
    "duration": 11,
    "start_time": "2021-12-10T14:06:31.292Z"
   },
   {
    "duration": 13,
    "start_time": "2021-12-10T14:06:49.651Z"
   },
   {
    "duration": 6,
    "start_time": "2021-12-10T14:10:15.689Z"
   },
   {
    "duration": 8,
    "start_time": "2021-12-10T14:13:12.509Z"
   },
   {
    "duration": 7,
    "start_time": "2021-12-10T14:13:27.412Z"
   },
   {
    "duration": 8,
    "start_time": "2021-12-10T14:13:28.981Z"
   },
   {
    "duration": 6,
    "start_time": "2021-12-10T14:13:59.021Z"
   },
   {
    "duration": 7,
    "start_time": "2021-12-10T14:14:00.628Z"
   },
   {
    "duration": 6,
    "start_time": "2021-12-10T14:14:05.548Z"
   },
   {
    "duration": 6,
    "start_time": "2021-12-10T14:14:07.508Z"
   },
   {
    "duration": 18,
    "start_time": "2021-12-10T14:14:29.588Z"
   },
   {
    "duration": 24,
    "start_time": "2021-12-10T14:14:42.825Z"
   },
   {
    "duration": 9,
    "start_time": "2021-12-10T14:27:36.966Z"
   },
   {
    "duration": 365,
    "start_time": "2021-12-10T14:28:50.685Z"
   },
   {
    "duration": 18,
    "start_time": "2021-12-10T14:28:58.261Z"
   },
   {
    "duration": 8,
    "start_time": "2021-12-10T14:29:23.733Z"
   },
   {
    "duration": 13,
    "start_time": "2021-12-10T14:29:28.964Z"
   },
   {
    "duration": 14,
    "start_time": "2021-12-10T14:29:42.557Z"
   },
   {
    "duration": 1784,
    "start_time": "2021-12-10T14:30:03.956Z"
   },
   {
    "duration": 20,
    "start_time": "2021-12-10T14:30:05.743Z"
   },
   {
    "duration": 9,
    "start_time": "2021-12-10T14:30:05.769Z"
   },
   {
    "duration": 13,
    "start_time": "2021-12-10T14:30:05.781Z"
   },
   {
    "duration": 18,
    "start_time": "2021-12-10T14:30:05.796Z"
   },
   {
    "duration": 50,
    "start_time": "2021-12-10T14:30:05.816Z"
   },
   {
    "duration": 90,
    "start_time": "2021-12-10T14:30:05.871Z"
   },
   {
    "duration": 14,
    "start_time": "2021-12-10T14:30:05.964Z"
   },
   {
    "duration": 21,
    "start_time": "2021-12-10T14:30:05.982Z"
   },
   {
    "duration": 54,
    "start_time": "2021-12-10T14:30:06.006Z"
   },
   {
    "duration": 6,
    "start_time": "2021-12-10T14:30:06.063Z"
   },
   {
    "duration": 100,
    "start_time": "2021-12-10T14:30:06.072Z"
   },
   {
    "duration": 88,
    "start_time": "2021-12-10T14:30:06.176Z"
   },
   {
    "duration": 8,
    "start_time": "2021-12-10T14:36:33.759Z"
   },
   {
    "duration": 13,
    "start_time": "2021-12-10T14:36:37.973Z"
   },
   {
    "duration": 8,
    "start_time": "2021-12-10T14:36:49.630Z"
   },
   {
    "duration": 13,
    "start_time": "2021-12-10T14:36:52.621Z"
   },
   {
    "duration": 1924,
    "start_time": "2021-12-10T14:37:32.166Z"
   },
   {
    "duration": 15,
    "start_time": "2021-12-10T14:37:34.094Z"
   },
   {
    "duration": 12,
    "start_time": "2021-12-10T14:37:34.114Z"
   },
   {
    "duration": 40,
    "start_time": "2021-12-10T14:37:34.130Z"
   },
   {
    "duration": 23,
    "start_time": "2021-12-10T14:37:34.173Z"
   },
   {
    "duration": 9,
    "start_time": "2021-12-10T14:37:34.200Z"
   },
   {
    "duration": 14,
    "start_time": "2021-12-10T14:37:34.260Z"
   },
   {
    "duration": 91,
    "start_time": "2021-12-10T14:37:34.276Z"
   },
   {
    "duration": 18,
    "start_time": "2021-12-10T14:37:34.371Z"
   },
   {
    "duration": 12,
    "start_time": "2021-12-10T14:37:34.392Z"
   },
   {
    "duration": 53,
    "start_time": "2021-12-10T14:37:34.406Z"
   },
   {
    "duration": 103,
    "start_time": "2021-12-10T14:37:34.462Z"
   },
   {
    "duration": 97,
    "start_time": "2021-12-10T14:37:34.568Z"
   },
   {
    "duration": 16,
    "start_time": "2021-12-10T14:40:20.814Z"
   },
   {
    "duration": 17,
    "start_time": "2021-12-10T14:40:43.181Z"
   },
   {
    "duration": 16,
    "start_time": "2021-12-10T14:41:24.925Z"
   },
   {
    "duration": 16,
    "start_time": "2021-12-10T14:41:44.028Z"
   },
   {
    "duration": 11,
    "start_time": "2021-12-10T14:44:38.961Z"
   },
   {
    "duration": 1444,
    "start_time": "2021-12-10T14:45:01.464Z"
   },
   {
    "duration": 11,
    "start_time": "2021-12-10T14:45:02.911Z"
   },
   {
    "duration": 8,
    "start_time": "2021-12-10T14:45:02.925Z"
   },
   {
    "duration": 32,
    "start_time": "2021-12-10T14:45:02.936Z"
   },
   {
    "duration": 16,
    "start_time": "2021-12-10T14:45:02.971Z"
   },
   {
    "duration": 7,
    "start_time": "2021-12-10T14:45:02.990Z"
   },
   {
    "duration": 18,
    "start_time": "2021-12-10T14:45:03.059Z"
   },
   {
    "duration": 90,
    "start_time": "2021-12-10T14:45:03.080Z"
   },
   {
    "duration": 17,
    "start_time": "2021-12-10T14:45:03.173Z"
   },
   {
    "duration": 11,
    "start_time": "2021-12-10T14:45:03.192Z"
   },
   {
    "duration": 10,
    "start_time": "2021-12-10T14:45:03.205Z"
   },
   {
    "duration": 146,
    "start_time": "2021-12-10T14:45:03.218Z"
   },
   {
    "duration": 93,
    "start_time": "2021-12-10T14:45:03.367Z"
   },
   {
    "duration": 16,
    "start_time": "2021-12-10T14:45:03.463Z"
   },
   {
    "duration": 11,
    "start_time": "2021-12-10T14:45:03.481Z"
   },
   {
    "duration": 13,
    "start_time": "2021-12-10T14:50:48.719Z"
   },
   {
    "duration": 12,
    "start_time": "2021-12-10T14:50:50.711Z"
   },
   {
    "duration": 18,
    "start_time": "2021-12-10T14:51:05.946Z"
   },
   {
    "duration": 9,
    "start_time": "2021-12-10T14:51:28.416Z"
   },
   {
    "duration": 7,
    "start_time": "2021-12-10T14:51:43.206Z"
   },
   {
    "duration": 9,
    "start_time": "2021-12-10T14:52:13.021Z"
   },
   {
    "duration": 8,
    "start_time": "2021-12-10T14:52:30.166Z"
   },
   {
    "duration": 10,
    "start_time": "2021-12-10T14:52:42.389Z"
   },
   {
    "duration": 9,
    "start_time": "2021-12-10T14:53:36.613Z"
   },
   {
    "duration": 12,
    "start_time": "2021-12-10T14:53:50.133Z"
   },
   {
    "duration": 1341,
    "start_time": "2021-12-10T15:14:33.081Z"
   },
   {
    "duration": 13,
    "start_time": "2021-12-10T15:14:34.426Z"
   },
   {
    "duration": 17,
    "start_time": "2021-12-10T15:14:34.443Z"
   },
   {
    "duration": 16,
    "start_time": "2021-12-10T15:14:34.463Z"
   },
   {
    "duration": 16,
    "start_time": "2021-12-10T15:14:34.482Z"
   },
   {
    "duration": 58,
    "start_time": "2021-12-10T15:14:34.501Z"
   },
   {
    "duration": 98,
    "start_time": "2021-12-10T15:14:34.563Z"
   },
   {
    "duration": 14,
    "start_time": "2021-12-10T15:14:34.664Z"
   },
   {
    "duration": 17,
    "start_time": "2021-12-10T15:14:34.680Z"
   },
   {
    "duration": 11,
    "start_time": "2021-12-10T15:14:34.699Z"
   },
   {
    "duration": 51,
    "start_time": "2021-12-10T15:14:34.713Z"
   },
   {
    "duration": 96,
    "start_time": "2021-12-10T15:14:34.766Z"
   },
   {
    "duration": 94,
    "start_time": "2021-12-10T15:14:34.865Z"
   },
   {
    "duration": 17,
    "start_time": "2021-12-10T15:14:34.962Z"
   },
   {
    "duration": 12,
    "start_time": "2021-12-10T15:14:34.982Z"
   },
   {
    "duration": 1221,
    "start_time": "2021-12-11T06:29:51.412Z"
   },
   {
    "duration": 9,
    "start_time": "2021-12-11T06:29:56.253Z"
   },
   {
    "duration": 6,
    "start_time": "2021-12-11T06:30:27.862Z"
   },
   {
    "duration": 10,
    "start_time": "2021-12-11T06:30:29.046Z"
   },
   {
    "duration": 12,
    "start_time": "2021-12-11T06:30:30.027Z"
   },
   {
    "duration": 7,
    "start_time": "2021-12-11T06:30:30.554Z"
   },
   {
    "duration": 10,
    "start_time": "2021-12-11T06:30:31.120Z"
   },
   {
    "duration": 9,
    "start_time": "2021-12-11T06:30:31.721Z"
   },
   {
    "duration": 13,
    "start_time": "2021-12-11T06:30:31.932Z"
   },
   {
    "duration": 8,
    "start_time": "2021-12-11T06:30:32.152Z"
   },
   {
    "duration": 4,
    "start_time": "2021-12-11T06:30:36.058Z"
   },
   {
    "duration": 22,
    "start_time": "2021-12-11T06:30:36.830Z"
   },
   {
    "duration": 9,
    "start_time": "2021-12-11T06:30:37.248Z"
   },
   {
    "duration": 11,
    "start_time": "2021-12-11T06:30:37.445Z"
   },
   {
    "duration": 7,
    "start_time": "2021-12-11T06:30:37.643Z"
   },
   {
    "duration": 2536,
    "start_time": "2022-03-24T21:08:13.670Z"
   },
   {
    "duration": 74,
    "start_time": "2022-03-24T21:08:16.209Z"
   },
   {
    "duration": 14,
    "start_time": "2022-03-24T21:08:16.285Z"
   },
   {
    "duration": 72,
    "start_time": "2022-03-24T21:08:16.302Z"
   },
   {
    "duration": 22,
    "start_time": "2022-03-24T21:08:16.377Z"
   },
   {
    "duration": 81,
    "start_time": "2022-03-24T21:08:16.401Z"
   },
   {
    "duration": 100,
    "start_time": "2022-03-24T21:08:16.567Z"
   },
   {
    "duration": 14,
    "start_time": "2022-03-24T21:08:16.670Z"
   },
   {
    "duration": 82,
    "start_time": "2022-03-24T21:08:16.687Z"
   },
   {
    "duration": 12,
    "start_time": "2022-03-24T21:08:16.773Z"
   },
   {
    "duration": 9,
    "start_time": "2022-03-24T21:08:16.787Z"
   },
   {
    "duration": 175,
    "start_time": "2022-03-24T21:08:16.799Z"
   },
   {
    "duration": 101,
    "start_time": "2022-03-24T21:08:16.977Z"
   },
   {
    "duration": 21,
    "start_time": "2022-03-24T21:08:17.081Z"
   },
   {
    "duration": 12,
    "start_time": "2022-03-24T21:08:17.167Z"
   }
  ],
  "kernelspec": {
   "display_name": "Python 3 (ipykernel)",
   "language": "python",
   "name": "python3"
  },
  "language_info": {
   "codemirror_mode": {
    "name": "ipython",
    "version": 3
   },
   "file_extension": ".py",
   "mimetype": "text/x-python",
   "name": "python",
   "nbconvert_exporter": "python",
   "pygments_lexer": "ipython3",
   "version": "3.10.1"
  },
  "toc": {
   "base_numbering": 1,
   "nav_menu": {},
   "number_sections": true,
   "sideBar": true,
   "skip_h1_title": true,
   "title_cell": "Содержание",
   "title_sidebar": "Contents",
   "toc_cell": true,
   "toc_position": {},
   "toc_section_display": true,
   "toc_window_display": true
  }
 },
 "nbformat": 4,
 "nbformat_minor": 2
}
