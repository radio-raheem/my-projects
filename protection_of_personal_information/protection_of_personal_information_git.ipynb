{
 "cells": [
  {
   "cell_type": "markdown",
   "metadata": {},
   "source": [
    "# Protection of personal data of clients"
   ]
  },
  {
   "cell_type": "markdown",
   "metadata": {},
   "source": [
    "We need to protect the data of the insurance company's customers. We will develop a data conversion method that makes it difficult to recover personal information from it.\n",
    "\n",
    "You need to protect the data so that the quality of the machine learning models does not deteriorate during the transformation. There is no need to select the best model.\n",
    "  \n",
    "The key steps of our project will be:\n",
    "\n",
    "* Loading and preparing data\n",
    "* Matrix multiplication\n",
    "* Suggestion of data transformation algorithm for solving the problem\n",
    "* Algorithm programming by applying matrix operations\n",
    "* Linear regression quality check. Studying the R2 score\n",
    "  \n",
    "The project is made in **Jupyter Notebook**, Notebook server version: 6.1.4. Version **Python** 3.7.8.\n",
    "Libraries used in the project\n",
    "* **Pandas**\n",
    "* **NumPy**\n",
    "* **scikit-learn**\n",
    "* **IPython**"
   ]
  },
  {
   "cell_type": "markdown",
   "metadata": {},
   "source": [
    "## Loading and preparing data"
   ]
  },
  {
   "cell_type": "code",
   "execution_count": 1,
   "metadata": {},
   "outputs": [
    {
     "name": "stdout",
     "output_type": "stream",
     "text": [
      "<class 'pandas.core.frame.DataFrame'>\n",
      "RangeIndex: 5000 entries, 0 to 4999\n",
      "Data columns (total 5 columns):\n",
      " #   Column             Non-Null Count  Dtype  \n",
      "---  ------             --------------  -----  \n",
      " 0   Пол                5000 non-null   int64  \n",
      " 1   Возраст            5000 non-null   float64\n",
      " 2   Зарплата           5000 non-null   float64\n",
      " 3   Члены семьи        5000 non-null   int64  \n",
      " 4   Страховые выплаты  5000 non-null   int64  \n",
      "dtypes: float64(2), int64(3)\n",
      "memory usage: 195.4 KB\n"
     ]
    },
    {
     "data": {
      "text/html": [
       "<div>\n",
       "<style scoped>\n",
       "    .dataframe tbody tr th:only-of-type {\n",
       "        vertical-align: middle;\n",
       "    }\n",
       "\n",
       "    .dataframe tbody tr th {\n",
       "        vertical-align: top;\n",
       "    }\n",
       "\n",
       "    .dataframe thead th {\n",
       "        text-align: right;\n",
       "    }\n",
       "</style>\n",
       "<table border=\"1\" class=\"dataframe\">\n",
       "  <thead>\n",
       "    <tr style=\"text-align: right;\">\n",
       "      <th></th>\n",
       "      <th>Пол</th>\n",
       "      <th>Возраст</th>\n",
       "      <th>Зарплата</th>\n",
       "      <th>Члены семьи</th>\n",
       "      <th>Страховые выплаты</th>\n",
       "    </tr>\n",
       "  </thead>\n",
       "  <tbody>\n",
       "    <tr>\n",
       "      <th>0</th>\n",
       "      <td>1</td>\n",
       "      <td>41.0</td>\n",
       "      <td>49600.0</td>\n",
       "      <td>1</td>\n",
       "      <td>0</td>\n",
       "    </tr>\n",
       "    <tr>\n",
       "      <th>1</th>\n",
       "      <td>0</td>\n",
       "      <td>46.0</td>\n",
       "      <td>38000.0</td>\n",
       "      <td>1</td>\n",
       "      <td>1</td>\n",
       "    </tr>\n",
       "    <tr>\n",
       "      <th>2</th>\n",
       "      <td>0</td>\n",
       "      <td>29.0</td>\n",
       "      <td>21000.0</td>\n",
       "      <td>0</td>\n",
       "      <td>0</td>\n",
       "    </tr>\n",
       "    <tr>\n",
       "      <th>3</th>\n",
       "      <td>0</td>\n",
       "      <td>21.0</td>\n",
       "      <td>41700.0</td>\n",
       "      <td>2</td>\n",
       "      <td>0</td>\n",
       "    </tr>\n",
       "    <tr>\n",
       "      <th>4</th>\n",
       "      <td>1</td>\n",
       "      <td>28.0</td>\n",
       "      <td>26100.0</td>\n",
       "      <td>0</td>\n",
       "      <td>0</td>\n",
       "    </tr>\n",
       "    <tr>\n",
       "      <th>...</th>\n",
       "      <td>...</td>\n",
       "      <td>...</td>\n",
       "      <td>...</td>\n",
       "      <td>...</td>\n",
       "      <td>...</td>\n",
       "    </tr>\n",
       "    <tr>\n",
       "      <th>4995</th>\n",
       "      <td>0</td>\n",
       "      <td>28.0</td>\n",
       "      <td>35700.0</td>\n",
       "      <td>2</td>\n",
       "      <td>0</td>\n",
       "    </tr>\n",
       "    <tr>\n",
       "      <th>4996</th>\n",
       "      <td>0</td>\n",
       "      <td>34.0</td>\n",
       "      <td>52400.0</td>\n",
       "      <td>1</td>\n",
       "      <td>0</td>\n",
       "    </tr>\n",
       "    <tr>\n",
       "      <th>4997</th>\n",
       "      <td>0</td>\n",
       "      <td>20.0</td>\n",
       "      <td>33900.0</td>\n",
       "      <td>2</td>\n",
       "      <td>0</td>\n",
       "    </tr>\n",
       "    <tr>\n",
       "      <th>4998</th>\n",
       "      <td>1</td>\n",
       "      <td>22.0</td>\n",
       "      <td>32700.0</td>\n",
       "      <td>3</td>\n",
       "      <td>0</td>\n",
       "    </tr>\n",
       "    <tr>\n",
       "      <th>4999</th>\n",
       "      <td>1</td>\n",
       "      <td>28.0</td>\n",
       "      <td>40600.0</td>\n",
       "      <td>1</td>\n",
       "      <td>0</td>\n",
       "    </tr>\n",
       "  </tbody>\n",
       "</table>\n",
       "<p>5000 rows × 5 columns</p>\n",
       "</div>"
      ],
      "text/plain": [
       "      Пол  Возраст  Зарплата  Члены семьи  Страховые выплаты\n",
       "0       1     41.0   49600.0            1                  0\n",
       "1       0     46.0   38000.0            1                  1\n",
       "2       0     29.0   21000.0            0                  0\n",
       "3       0     21.0   41700.0            2                  0\n",
       "4       1     28.0   26100.0            0                  0\n",
       "...   ...      ...       ...          ...                ...\n",
       "4995    0     28.0   35700.0            2                  0\n",
       "4996    0     34.0   52400.0            1                  0\n",
       "4997    0     20.0   33900.0            2                  0\n",
       "4998    1     22.0   32700.0            3                  0\n",
       "4999    1     28.0   40600.0            1                  0\n",
       "\n",
       "[5000 rows x 5 columns]"
      ]
     },
     "metadata": {},
     "output_type": "display_data"
    }
   ],
   "source": [
    "# Import all required libraries and modules.\n",
    "from IPython.display import display\n",
    "import pandas as pd\n",
    "import numpy as np\n",
    "from numpy import random\n",
    "from sklearn.linear_model import LinearRegression\n",
    "from sklearn.model_selection import train_test_split\n",
    "from sklearn.metrics import r2_score, mean_squared_error\n",
    "\n",
    "# Read the data.\n",
    "data = pd.read_csv('insurance.csv')\n",
    "data.info()\n",
    "display(data)"
   ]
  },
  {
   "cell_type": "markdown",
   "metadata": {},
   "source": [
    "Here is the translation of dataset's russian column names:\n",
    "* Пол - gender\n",
    "* Возраст - Age\n",
    "* Зарплата - Salary\n",
    "* Члены семьи - number of family members\n",
    "* Страховые выплаты - insurance payments"
   ]
  },
  {
   "cell_type": "code",
   "execution_count": 2,
   "metadata": {},
   "outputs": [
    {
     "name": "stdout",
     "output_type": "stream",
     "text": [
      "<class 'pandas.core.frame.DataFrame'>\n",
      "RangeIndex: 5000 entries, 0 to 4999\n",
      "Data columns (total 5 columns):\n",
      " #   Column             Non-Null Count  Dtype\n",
      "---  ------             --------------  -----\n",
      " 0   Пол                5000 non-null   int64\n",
      " 1   Возраст            5000 non-null   int64\n",
      " 2   Зарплата           5000 non-null   int64\n",
      " 3   Члены семьи        5000 non-null   int64\n",
      " 4   Страховые выплаты  5000 non-null   int64\n",
      "dtypes: int64(5)\n",
      "memory usage: 195.4 KB\n"
     ]
    }
   ],
   "source": [
    "# This is optional, but change the data format\n",
    "# columns \"Age\" and \"Salary\".\n",
    "data = data.astype({'Возраст': 'int64', 'Зарплата': 'int64'})\n",
    "data.info()"
   ]
  },
  {
   "cell_type": "markdown",
   "metadata": {},
   "source": [
    "### Conclusion"
   ]
  },
  {
   "cell_type": "markdown",
   "metadata": {},
   "source": [
    "We read the data, reviewed it. Changed data format of columns *Age* and *Salary* bringing them to `int64` format."
   ]
  },
  {
   "cell_type": "markdown",
   "metadata": {},
   "source": [
    "## Matrix multiplication"
   ]
  },
  {
   "cell_type": "code",
   "execution_count": 3,
   "metadata": {},
   "outputs": [],
   "source": [
    "# Define the target and other features.\n",
    "features = data.drop(['Страховые выплаты'], axis=1)\n",
    "target = data['Страховые выплаты']\n",
    "\n",
    "# Prepare training, validation and test datasets\n",
    "# in the classic ratio 0.6 / 0.2 / 0.2.\n",
    "# Let's write a function. It will be useful in the future.\n",
    "def splitting(features, target):\n",
    "    # Split the dataset into samples\n",
    "    features_train, features_valid, target_train, target_valid = train_test_split(\n",
    "    features,\n",
    "    target, \n",
    "    test_size=.2,\n",
    "    random_state=12345)\n",
    "    features_train, features_test, target_train, target_test = train_test_split(\n",
    "    features_train,\n",
    "    target_train, \n",
    "    test_size=.25,\n",
    "    random_state=12345)\n",
    "    # Estimate the size of the obtained samples.\n",
    "    data_kit = [features_train,\n",
    "            target_train,\n",
    "            features_valid,\n",
    "            target_valid,\n",
    "            features_test,\n",
    "            target_test]\n",
    "    print('Note: the listed samples are divided in pairs into three' +\n",
    "          ' groups in the following order: training, validation and test.')\n",
    "    print('The first in the pair is the set of features, the second is the set of target features. ')\n",
    "    for kit in data_kit:\n",
    "        print('The table size is:', kit.shape)\n",
    "    return (features_train, target_train, features_valid, \n",
    "            target_valid, features_test, target_test)"
   ]
  },
  {
   "cell_type": "code",
   "execution_count": 4,
   "metadata": {},
   "outputs": [
    {
     "name": "stdout",
     "output_type": "stream",
     "text": [
      "Note: the listed samples are divided in pairs into three groups in the following order: training, validation and test.\n",
      "The first in the pair is the set of features, the second is the set of target features. \n",
      "The table size is: (3000, 4)\n",
      "The table size is: (3000,)\n",
      "The table size is: (1000, 4)\n",
      "The table size is: (1000,)\n",
      "The table size is: (1000, 4)\n",
      "The table size is: (1000,)\n"
     ]
    }
   ],
   "source": [
    "# Let's use the splitting function.\n",
    "(features_train, target_train, features_valid, \n",
    " target_valid, features_test, target_test) = splitting(features, target)"
   ]
  },
  {
   "cell_type": "code",
   "execution_count": 5,
   "metadata": {},
   "outputs": [
    {
     "name": "stdout",
     "output_type": "stream",
     "text": [
      "R2 score on the validation set is 0.4119936287730738\n",
      "MSE score on the validation set is 0.1100159920565579\n",
      "\n",
      "The R2 score on the test sample is 0.41812098706230283\n",
      "The MSE score on the test set is 0.12135145002716968\n"
     ]
    }
   ],
   "source": [
    "# Train linear regression and measure its quality.\n",
    "model = LinearRegression()\n",
    "model.fit(features_train, target_train)\n",
    "predictions_valid = pd.Series(\n",
    "    data=model.predict(features_valid), \n",
    "    index=target_valid.index\n",
    ")\n",
    "# Now let's measure the quality of the model on the validation set,\n",
    "# using R2 and MSE scores.\n",
    "r2_valid = r2_score(target_valid, predictions_valid)\n",
    "mse_valid = mean_squared_error(target_valid, predictions_valid)\n",
    "print('R2 score on the validation set is', r2_valid)\n",
    "print('MSE score on the validation set is', mse_valid)\n",
    "print()\n",
    "# Measure the quality on the test sample.\n",
    "predictions_test = pd.Series(\n",
    "    data=model.predict(features_test),\n",
    "    index=target_test.index\n",
    ")\n",
    "r2_test = r2_score(target_test, predictions_test)\n",
    "mse_test = mean_squared_error(target_test, predictions_test)\n",
    "# Now let's measure the quality of the model on the test set,\n",
    "# using R2 and MSE scores.\n",
    "print('The R2 score on the test sample is', r2_test)\n",
    "print('The MSE score on the test set is', mse_test)"
   ]
  },
  {
   "cell_type": "code",
   "execution_count": 6,
   "metadata": {},
   "outputs": [
    {
     "name": "stdout",
     "output_type": "stream",
     "text": [
      "Arbitrary supposedly invertable matrix invertable_array\n",
      "[[9 6 3 2]\n",
      " [4 3 5 6]\n",
      " [2 3 6 5]\n",
      " [8 3 5 5]]\n",
      "\n",
      "Matrix inverse of matrix invertable_array\n",
      "[[-0.01234568 -0.09876543 -0.08641975  0.20987654]\n",
      " [ 0.23868313  0.24279835  0.00411523 -0.3909465 ]\n",
      " [-0.07407407 -0.59259259  0.48148148  0.25925926]\n",
      " [-0.04938272  0.60493827 -0.34567901 -0.16049383]]\n",
      "\n",
      "The matrix invertable_array is invertible\n"
     ]
    }
   ],
   "source": [
    "# Check if the quality of the model changes if we change\n",
    "# features by multiplying them by an invertible matrix.\n",
    "array_features = features.values\n",
    "# Create an arbitrary invertible matrix with rows number,\n",
    "# equal to the columns number of the array_features matrix.\n",
    "invertable_array = np.random.randint(\n",
    "    0, \n",
    "    10, \n",
    "    size=(\n",
    "        array_features.shape[1], \n",
    "        array_features.shape[1])\n",
    ")\n",
    "print('Arbitrary supposedly invertable matrix invertable_array')\n",
    "print(invertable_array)\n",
    "print()\n",
    "# Check if the matrix invertable_array is invertible.\n",
    "try:\n",
    "    print('Matrix inverse of matrix invertable_array')\n",
    "    print(np.linalg.inv(invertable_array))\n",
    "    print()\n",
    "    print('The matrix invertable_array is invertible')\n",
    "except:\n",
    "    print('The matrix invertable_array is not invertible')"
   ]
  },
  {
   "cell_type": "code",
   "execution_count": 7,
   "metadata": {},
   "outputs": [
    {
     "data": {
      "text/html": [
       "<div>\n",
       "<style scoped>\n",
       "    .dataframe tbody tr th:only-of-type {\n",
       "        vertical-align: middle;\n",
       "    }\n",
       "\n",
       "    .dataframe tbody tr th {\n",
       "        vertical-align: top;\n",
       "    }\n",
       "\n",
       "    .dataframe thead th {\n",
       "        text-align: right;\n",
       "    }\n",
       "</style>\n",
       "<table border=\"1\" class=\"dataframe\">\n",
       "  <thead>\n",
       "    <tr style=\"text-align: right;\">\n",
       "      <th></th>\n",
       "      <th>Пол</th>\n",
       "      <th>Возраст</th>\n",
       "      <th>Зарплата</th>\n",
       "      <th>Члены семьи</th>\n",
       "    </tr>\n",
       "  </thead>\n",
       "  <tbody>\n",
       "    <tr>\n",
       "      <th>0</th>\n",
       "      <td>99381</td>\n",
       "      <td>148932</td>\n",
       "      <td>297813</td>\n",
       "      <td>248253</td>\n",
       "    </tr>\n",
       "    <tr>\n",
       "      <th>1</th>\n",
       "      <td>76192</td>\n",
       "      <td>114141</td>\n",
       "      <td>228235</td>\n",
       "      <td>190281</td>\n",
       "    </tr>\n",
       "    <tr>\n",
       "      <th>2</th>\n",
       "      <td>42116</td>\n",
       "      <td>63087</td>\n",
       "      <td>126145</td>\n",
       "      <td>105174</td>\n",
       "    </tr>\n",
       "    <tr>\n",
       "      <th>3</th>\n",
       "      <td>83500</td>\n",
       "      <td>125169</td>\n",
       "      <td>250315</td>\n",
       "      <td>208636</td>\n",
       "    </tr>\n",
       "    <tr>\n",
       "      <th>4</th>\n",
       "      <td>52321</td>\n",
       "      <td>78390</td>\n",
       "      <td>156743</td>\n",
       "      <td>130670</td>\n",
       "    </tr>\n",
       "    <tr>\n",
       "      <th>...</th>\n",
       "      <td>...</td>\n",
       "      <td>...</td>\n",
       "      <td>...</td>\n",
       "      <td>...</td>\n",
       "    </tr>\n",
       "    <tr>\n",
       "      <th>4995</th>\n",
       "      <td>71528</td>\n",
       "      <td>107190</td>\n",
       "      <td>214350</td>\n",
       "      <td>178678</td>\n",
       "    </tr>\n",
       "    <tr>\n",
       "      <th>4996</th>\n",
       "      <td>104944</td>\n",
       "      <td>157305</td>\n",
       "      <td>314575</td>\n",
       "      <td>262209</td>\n",
       "    </tr>\n",
       "    <tr>\n",
       "      <th>4997</th>\n",
       "      <td>67896</td>\n",
       "      <td>101766</td>\n",
       "      <td>203510</td>\n",
       "      <td>169630</td>\n",
       "    </tr>\n",
       "    <tr>\n",
       "      <th>4998</th>\n",
       "      <td>65521</td>\n",
       "      <td>98181</td>\n",
       "      <td>196328</td>\n",
       "      <td>163649</td>\n",
       "    </tr>\n",
       "    <tr>\n",
       "      <th>4999</th>\n",
       "      <td>81329</td>\n",
       "      <td>121893</td>\n",
       "      <td>243748</td>\n",
       "      <td>203175</td>\n",
       "    </tr>\n",
       "  </tbody>\n",
       "</table>\n",
       "<p>5000 rows × 4 columns</p>\n",
       "</div>"
      ],
      "text/plain": [
       "         Пол  Возраст  Зарплата  Члены семьи\n",
       "0      99381   148932    297813       248253\n",
       "1      76192   114141    228235       190281\n",
       "2      42116    63087    126145       105174\n",
       "3      83500   125169    250315       208636\n",
       "4      52321    78390    156743       130670\n",
       "...      ...      ...       ...          ...\n",
       "4995   71528   107190    214350       178678\n",
       "4996  104944   157305    314575       262209\n",
       "4997   67896   101766    203510       169630\n",
       "4998   65521    98181    196328       163649\n",
       "4999   81329   121893    243748       203175\n",
       "\n",
       "[5000 rows x 4 columns]"
      ]
     },
     "metadata": {},
     "output_type": "display_data"
    }
   ],
   "source": [
    "# Multiply the features by the invertable_array matrix.\n",
    "new_features_array = array_features @ invertable_array\n",
    "new_features = pd.DataFrame(\n",
    "    data=new_features_array, \n",
    "    index=features.index, \n",
    "    columns=features.columns\n",
    ")\n",
    "display(new_features)"
   ]
  },
  {
   "cell_type": "code",
   "execution_count": 8,
   "metadata": {},
   "outputs": [
    {
     "name": "stdout",
     "output_type": "stream",
     "text": [
      "Note: the listed samples are divided in pairs into three groups in the following order: training, validation and test.\n",
      "The first in the pair is the set of features, the second is the set of target features. \n",
      "The table size is: (3000, 4)\n",
      "The table size is: (3000,)\n",
      "The table size is: (1000, 4)\n",
      "The table size is: (1000,)\n",
      "The table size is: (1000, 4)\n",
      "The table size is: (1000,)\n"
     ]
    }
   ],
   "source": [
    "# Let's split the new set of features with the splitting function.\n",
    "(new_features_train, new_target_train, \n",
    " new_features_valid, new_target_valid, \n",
    " new_features_test, new_target_test) = splitting(new_features, target)"
   ]
  },
  {
   "cell_type": "code",
   "execution_count": 9,
   "metadata": {},
   "outputs": [
    {
     "name": "stdout",
     "output_type": "stream",
     "text": [
      "R2 score on the validation modified sample is 0.41199362877305856\n",
      "MSE score on the validation modified sample is 0.11001599205656075\n",
      "\n",
      "R2 score on the test modified sample is 0.41812098706240963\n",
      "MSE score on the test modified sample is 0.1213514500271474\n"
     ]
    }
   ],
   "source": [
    "# Train linear regression and measure its quality.\n",
    "model = LinearRegression()\n",
    "model.fit(new_features_train, new_target_train)\n",
    "predictions_valid_new = pd.Series(\n",
    "    data=model.predict(new_features_valid), \n",
    "    index=new_target_valid.index\n",
    ")\n",
    "# Now let's measure the quality of the model on the validation set,\n",
    "# using R2 and MSE scores.\n",
    "r2_valid_new = r2_score(new_target_valid, predictions_valid_new)\n",
    "mse_valid_new = mean_squared_error(new_target_valid, predictions_valid_new)\n",
    "print('R2 score on the validation modified sample is', \n",
    "      r2_valid_new)\n",
    "print('MSE score on the validation modified sample is', \n",
    "      mse_valid_new)\n",
    "\n",
    "# Test the quality on the test sample.\n",
    "predictions_test_new = pd.Series(\n",
    "    data=model.predict(new_features_test),\n",
    "    index=new_target_test.index\n",
    ")\n",
    "# Now let's measure the quality of the model on the test set,\n",
    "# using R2 and MSE scores.\n",
    "r2_test_new = r2_score(new_target_test, predictions_test_new)\n",
    "mse_test_new = mean_squared_error(new_target_test, predictions_test_new)\n",
    "print()\n",
    "print('R2 score on the test modified sample is', \n",
    "      r2_test_new)\n",
    "print('MSE score on the test modified sample is', \n",
    "      mse_test_new)"
   ]
  },
  {
   "cell_type": "code",
   "execution_count": 10,
   "metadata": {},
   "outputs": [
    {
     "data": {
      "text/html": [
       "<div>\n",
       "<style scoped>\n",
       "    .dataframe tbody tr th:only-of-type {\n",
       "        vertical-align: middle;\n",
       "    }\n",
       "\n",
       "    .dataframe tbody tr th {\n",
       "        vertical-align: top;\n",
       "    }\n",
       "\n",
       "    .dataframe thead th {\n",
       "        text-align: right;\n",
       "    }\n",
       "</style>\n",
       "<table border=\"1\" class=\"dataframe\">\n",
       "  <thead>\n",
       "    <tr style=\"text-align: right;\">\n",
       "      <th></th>\n",
       "      <th>R2</th>\n",
       "      <th>MSE</th>\n",
       "    </tr>\n",
       "  </thead>\n",
       "  <tbody>\n",
       "    <tr>\n",
       "      <th>Initial feature set</th>\n",
       "      <td>0.418121</td>\n",
       "      <td>0.121351</td>\n",
       "    </tr>\n",
       "    <tr>\n",
       "      <th>Feature set multiplied by an invertible matrix</th>\n",
       "      <td>0.418121</td>\n",
       "      <td>0.121351</td>\n",
       "    </tr>\n",
       "  </tbody>\n",
       "</table>\n",
       "</div>"
      ],
      "text/plain": [
       "                                                      R2       MSE\n",
       "Initial feature set                             0.418121  0.121351\n",
       "Feature set multiplied by an invertible matrix  0.418121  0.121351"
      ]
     },
     "metadata": {},
     "output_type": "display_data"
    }
   ],
   "source": [
    "results = pd.DataFrame(\n",
    "    {\n",
    "        'R2': [r2_test, r2_test_new],\n",
    "        'MSE': [mse_test, mse_test_new]\n",
    "    },index=(\n",
    "        [\n",
    "            'Initial feature set', \n",
    "            'Feature set multiplied by an invertible matrix'\n",
    "        ]\n",
    "    )\n",
    ")\n",
    "display(results)"
   ]
  },
  {
   "cell_type": "markdown",
   "metadata": {},
   "source": [
    "### Conclusion"
   ]
  },
  {
   "cell_type": "markdown",
   "metadata": {},
   "source": [
    "We have identified the features, the target feature. We prepared a function that splits the data into samples and estimates their sizes. We then created a linear regression model and trained it on the original data. The quality of this model is measured by R2 and MSE scores."
   ]
  },
  {
   "cell_type": "markdown",
   "metadata": {},
   "source": [
    "We have multiplied the feature dataset by an arbitrary invertible matrix. Again, a linear regression model was created and its quality was assessed, having previously trained on the modified initial data. The quality has not changed compared to the first model.\n",
    "Below is the rationale."
   ]
  },
  {
   "cell_type": "markdown",
   "metadata": {},
   "source": [
    "## Suggestion of data transformation algorithm for solving the problem"
   ]
  },
  {
   "cell_type": "markdown",
   "metadata": {},
   "source": [
    "First, let's make the notation\n",
    "\n",
    "- $X$ - feature matrix (zero column consists of ones)\n",
    "\n",
    "- $y$ — target feature vector\n",
    "\n",
    "- $P$ is the matrix by which features are multiplied\n",
    "\n",
    "- $w$ — vector of linear regression weights (zero element equals shift)\n",
    "  \n",
    "Let's revisit the basic formulas.\n",
    "    \n",
    "Predictions:\n",
    "\n",
    "$$\n",
    "a = Xw\n",
    "$$\n",
    "\n",
    "Learning objective:\n",
    "\n",
    "$$\n",
    "w = \\arg\\min_w MSE(Xw, y)\n",
    "$$\n",
    "\n",
    "Learning formula:\n",
    "\n",
    "$$\n",
    "w = (X^T X)^{-1} X^T y\n",
    "$$\n",
    "\n",
    "Expanded prediction formula:\n",
    "\n",
    "$$\n",
    "a = X (X^T X)^{-1} X^T y\n",
    "$$"
   ]
  },
  {
   "cell_type": "markdown",
   "metadata": {},
   "source": [
    "We made sure that when multiplying the feature matrix by an arbitrary reversible matrix, the quality of the model does not change. Now let's try to solve a theoretical problem and prove why this is so.\n",
    "In the linear regression prediction formula, we multiply the feature matrix X by an arbitrary invertible matrix P."
   ]
  },
  {
   "cell_type": "markdown",
   "metadata": {},
   "source": [
    "$$\n",
    "a = (X\\cdot P) \\cdot ((X\\cdotp P)^T \\cdot (X\\cdotp P))^{-1} \\cdot (X\\cdotp P)^T \\cdot y\n",
    "$$"
   ]
  },
  {
   "cell_type": "markdown",
   "metadata": {},
   "source": [
    "Now let's expand the brackets"
   ]
  },
  {
   "cell_type": "markdown",
   "metadata": {},
   "source": [
    "$$\n",
    "a = X\\cdot P \\cdot (P^T \\cdot X^T \\cdot (X\\cdotp P))^{-1} \\cdot P^T \\cdotp X^T \\cdot y\n",
    "$$\n",
    "  \n",
    "The property of associativity of matrices during multiplication allows us to change the location of the brackets inside the product raised to -1 power.\n",
    "  \n",
    "$$\n",
    "a = X\\cdot P \\cdot (P^T \\cdot (X^T \\cdot X) \\cdotp P)^{-1} \\cdot P^T \\cdotp X^T \\cdot y\n",
    "$$\n",
    "\n",
    "The product of a matrix and its transposed version generates a square matrix. This allows us to conclude that in this part of the formula we have three square matrices.\n",
    "$$\n",
    "(P^T \\cdot (X^T \\cdot X) \\cdotp P)^{-1}\n",
    "$$\n",
    "\n",
    "Let's continue opening the brackets.\n",
    "$$\n",
    "a = X\\cdot P \\cdot P^{-1} \\cdot (X^T \\cdot X)^{-1} \\cdot (P^T)^{-1} \\cdot P^T \\cdotp X^ T \\cdot y\n",
    "$$\n",
    "The product of a matrix and its inverse gives us the identity matrix.\n",
    "\n",
    "$$\n",
    "a = X\\cdot E \\cdot (X^T \\cdot X)^{-1} \\cdot E \\cdotp X^T \\cdot y\n",
    "$$\n",
    "\n",
    "And the multiplication of any matrix, for example, M, by the identity matrix gives us the same matrix M.\n",
    "\n",
    "$$\n",
    "a = X\\cdot (X^T \\cdot X)^{-1} \\cdot X^T \\cdot y\n",
    "$$\n",
    "\n",
    "We have received the initial formula for calculating predictions.\n",
    "\n",
    "Taking into account the above operations with matrices, we proved that the result of the predictions does not change when the features are multiplied by an arbitrary invertible matrix. This fact can be used to encrypt data."
   ]
  },
  {
   "cell_type": "markdown",
   "metadata": {},
   "source": [
    "## Algorithm programming by applying matrix operations"
   ]
  },
  {
   "cell_type": "markdown",
   "metadata": {},
   "source": [
    "**Algorithm**\n",
    "\n",
    "An algorithm for converting (encrypting) customer data is proposed, based on the fact identified in the previous part of the project. Personal data is a feature of our model. When multiplying a matrix with features by an arbitrary invertible matrix, we get a new matrix, which is an encrypted array of personal data. The matrix inverse to an arbitrary invertible matrix will become the encryption key. At the same time, the quality of the mathematical model of linear regression will not change after data encryption.\n",
    "  \n",
    "It is worth noting that the key to successful data encryption is a combination of substitution and permutation (substitution of new characters / numbers for the original ones and their permutation within the resulting data set). However, in our case, only substitution (multiplication by an arbitrary invertible matrix) is possible. With the subsequent permutation of the obtained elements of the array, the quality of the model will certainly change."
   ]
  },
  {
   "cell_type": "code",
   "execution_count": 11,
   "metadata": {},
   "outputs": [],
   "source": [
    "# Let's write a feature encryption function.\n",
    "# The function will have two parameters: features in DataFrame format\n",
    "# and the seed parameter of the random number generator.\n",
    "def cypher (features, seed):\n",
    "    # Let's create an array of data from the DataFrame feature object.\n",
    "    array_features = features.values\n",
    "    # Create a random generator. As a parameter, we specify\n",
    "    # arbitrary positive number like 12345 to\n",
    "    # get a reproducible result.\n",
    "    rng = np.random.default_rng(seed)\n",
    "    # Get an arbitrary supposedly reversible\n",
    "    # a cipher matrix of suitable sizes.\n",
    "    invertable_array = rng.random((\n",
    "        array_features.shape[1], \n",
    "        array_features.shape[1]\n",
    "    ))\n",
    "    # Make sure it's reversible.\n",
    "    try:\n",
    "        cypher = np.linalg.inv(invertable_array)\n",
    "    except:\n",
    "        print('The cipher matrix is irreversible.' + \n",
    "              ' Change the parameters of the random number generator')\n",
    "    # Multiply the features introduced into the function by the cipher matrix.\n",
    "    new_features_array = array_features @ invertable_array\n",
    "    # Create a DataFrame object, put the result into it.\n",
    "    encrypted_features = pd.DataFrame(\n",
    "    data=new_features_array, \n",
    "    index=features.index, \n",
    "    columns=features.columns)\n",
    "    print('Random number generator seed used', \n",
    "          seed)\n",
    "    print('Encryption key')\n",
    "    print(cypher)\n",
    "    return encrypted_features, cypher"
   ]
  },
  {
   "cell_type": "markdown",
   "metadata": {},
   "source": [
    "### Conclusion"
   ]
  },
  {
   "cell_type": "markdown",
   "metadata": {},
   "source": [
    "**Rationale**\n",
    "\n",
    "At the previous step of the project, we proved that when multiplying the feature matrix by an arbitrary reversible matrix, the quality of the model does not change. This means that the inverse of an arbitrary invertible matrix can become an encryption key, and customers' personal data can be encrypted by matrix multiplication. To decrypt the data, you will need to multiply the changed features by the encryption key. A detailed theoretical substantiation of this method is given in the previous step.\n",
    "  \n",
    "It is worth noting that the seed parameter of the random number generator, as well as the encryption key, must be protected from unauthorized access."
   ]
  },
  {
   "cell_type": "markdown",
   "metadata": {},
   "source": [
    "## Checking the quality of linear regression. Studying the R2 score"
   ]
  },
  {
   "cell_type": "code",
   "execution_count": 12,
   "metadata": {},
   "outputs": [
    {
     "name": "stdout",
     "output_type": "stream",
     "text": [
      "Random number generator seed used 12345\n",
      "Encryption key\n",
      "[[-1.97240014  1.76004024 -0.08309671  1.22285233]\n",
      " [ 0.14111106  0.32873452  1.02824721 -1.27752175]\n",
      " [ 0.8908452   0.90302415 -0.59501472 -0.23290483]\n",
      " [ 1.02530945 -1.81039816  0.24787878  0.46192295]]\n"
     ]
    },
    {
     "data": {
      "text/html": [
       "<div>\n",
       "<style scoped>\n",
       "    .dataframe tbody tr th:only-of-type {\n",
       "        vertical-align: middle;\n",
       "    }\n",
       "\n",
       "    .dataframe tbody tr th {\n",
       "        vertical-align: top;\n",
       "    }\n",
       "\n",
       "    .dataframe thead th {\n",
       "        text-align: right;\n",
       "    }\n",
       "</style>\n",
       "<table border=\"1\" class=\"dataframe\">\n",
       "  <thead>\n",
       "    <tr style=\"text-align: right;\">\n",
       "      <th></th>\n",
       "      <th>Пол</th>\n",
       "      <th>Возраст</th>\n",
       "      <th>Зарплата</th>\n",
       "      <th>Члены семьи</th>\n",
       "    </tr>\n",
       "  </thead>\n",
       "  <tbody>\n",
       "    <tr>\n",
       "      <th>0</th>\n",
       "      <td>33385.629848</td>\n",
       "      <td>46727.480145</td>\n",
       "      <td>12338.757310</td>\n",
       "      <td>47073.723967</td>\n",
       "    </tr>\n",
       "    <tr>\n",
       "      <th>1</th>\n",
       "      <td>25583.387949</td>\n",
       "      <td>35803.914219</td>\n",
       "      <td>9461.301198</td>\n",
       "      <td>36066.960022</td>\n",
       "    </tr>\n",
       "    <tr>\n",
       "      <th>2</th>\n",
       "      <td>14139.219101</td>\n",
       "      <td>19787.511775</td>\n",
       "      <td>5230.510961</td>\n",
       "      <td>19931.919480</td>\n",
       "    </tr>\n",
       "    <tr>\n",
       "      <th>3</th>\n",
       "      <td>28063.474811</td>\n",
       "      <td>39280.360370</td>\n",
       "      <td>10365.294463</td>\n",
       "      <td>39574.038409</td>\n",
       "    </tr>\n",
       "    <tr>\n",
       "      <th>4</th>\n",
       "      <td>17570.111152</td>\n",
       "      <td>24590.690332</td>\n",
       "      <td>6496.763162</td>\n",
       "      <td>24771.702875</td>\n",
       "    </tr>\n",
       "    <tr>\n",
       "      <th>...</th>\n",
       "      <td>...</td>\n",
       "      <td>...</td>\n",
       "      <td>...</td>\n",
       "      <td>...</td>\n",
       "    </tr>\n",
       "    <tr>\n",
       "      <th>4995</th>\n",
       "      <td>24029.676314</td>\n",
       "      <td>33631.872876</td>\n",
       "      <td>8880.008337</td>\n",
       "      <td>33882.058637</td>\n",
       "    </tr>\n",
       "    <tr>\n",
       "      <th>4996</th>\n",
       "      <td>35266.381669</td>\n",
       "      <td>49361.881712</td>\n",
       "      <td>13028.859784</td>\n",
       "      <td>49728.607798</td>\n",
       "    </tr>\n",
       "    <tr>\n",
       "      <th>4997</th>\n",
       "      <td>22815.586558</td>\n",
       "      <td>31933.965207</td>\n",
       "      <td>8428.379580</td>\n",
       "      <td>32172.578691</td>\n",
       "    </tr>\n",
       "    <tr>\n",
       "      <th>4998</th>\n",
       "      <td>22009.956098</td>\n",
       "      <td>30804.880053</td>\n",
       "      <td>8132.920545</td>\n",
       "      <td>31035.857511</td>\n",
       "    </tr>\n",
       "    <tr>\n",
       "      <th>4999</th>\n",
       "      <td>27325.741028</td>\n",
       "      <td>38246.927776</td>\n",
       "      <td>10096.767864</td>\n",
       "      <td>38531.366056</td>\n",
       "    </tr>\n",
       "  </tbody>\n",
       "</table>\n",
       "<p>5000 rows × 4 columns</p>\n",
       "</div>"
      ],
      "text/plain": [
       "               Пол       Возраст      Зарплата   Члены семьи\n",
       "0     33385.629848  46727.480145  12338.757310  47073.723967\n",
       "1     25583.387949  35803.914219   9461.301198  36066.960022\n",
       "2     14139.219101  19787.511775   5230.510961  19931.919480\n",
       "3     28063.474811  39280.360370  10365.294463  39574.038409\n",
       "4     17570.111152  24590.690332   6496.763162  24771.702875\n",
       "...            ...           ...           ...           ...\n",
       "4995  24029.676314  33631.872876   8880.008337  33882.058637\n",
       "4996  35266.381669  49361.881712  13028.859784  49728.607798\n",
       "4997  22815.586558  31933.965207   8428.379580  32172.578691\n",
       "4998  22009.956098  30804.880053   8132.920545  31035.857511\n",
       "4999  27325.741028  38246.927776  10096.767864  38531.366056\n",
       "\n",
       "[5000 rows x 4 columns]"
      ]
     },
     "metadata": {},
     "output_type": "display_data"
    },
    {
     "data": {
      "text/plain": [
       "array([[-1.97240014,  1.76004024, -0.08309671,  1.22285233],\n",
       "       [ 0.14111106,  0.32873452,  1.02824721, -1.27752175],\n",
       "       [ 0.8908452 ,  0.90302415, -0.59501472, -0.23290483],\n",
       "       [ 1.02530945, -1.81039816,  0.24787878,  0.46192295]])"
      ]
     },
     "metadata": {},
     "output_type": "display_data"
    }
   ],
   "source": [
    "# So we have the initial data.\n",
    "# We broke it down into target and other features.\n",
    "# Encrypt signs.\n",
    "encrypted_features, key = cypher(features, 12345)\n",
    "# Let's see what the encrypted data looks like.\n",
    "display(encrypted_features)\n",
    "# Let's see what the encryption key looks like.\n",
    "display(key)"
   ]
  },
  {
   "cell_type": "code",
   "execution_count": 13,
   "metadata": {},
   "outputs": [
    {
     "name": "stdout",
     "output_type": "stream",
     "text": [
      "Note: the listed samples are divided in pairs into three groups in the following order: training, validation and test.\n",
      "The first in the pair is the set of features, the second is the set of target features. \n",
      "The table size is: (3000, 4)\n",
      "The table size is: (3000,)\n",
      "The table size is: (1000, 4)\n",
      "The table size is: (1000,)\n",
      "The table size is: (1000, 4)\n",
      "The table size is: (1000,)\n"
     ]
    }
   ],
   "source": [
    "# And now let's compare the quality of the models \n",
    "# before and after the transformation.\n",
    "# Let's split the samples into parts.\n",
    "(features_train_enc, target_train_enc, \n",
    " features_valid_enc, target_valid_enc, \n",
    " features_test_enc, target_test_enc) = splitting(\n",
    "    encrypted_features, \n",
    "    target\n",
    ")"
   ]
  },
  {
   "cell_type": "code",
   "execution_count": 14,
   "metadata": {},
   "outputs": [
    {
     "name": "stdout",
     "output_type": "stream",
     "text": [
      "R2 score on the validation encrypted sample is 0.41199362877251355\n",
      "MSE score on the validation encrypted sample is 0.11001599205666272\n",
      "\n",
      "R2 score on the test encrypted sample is 0.418120987062058\n",
      "MSE score on the test encrypted sample is 0.12135145002722073\n"
     ]
    }
   ],
   "source": [
    "# Train linear regression and measure its quality.\n",
    "model = LinearRegression()\n",
    "model.fit(features_train_enc, target_train_enc)\n",
    "predictions_valid_enc = pd.Series(\n",
    "    data=model.predict(features_valid_enc), \n",
    "    index=target_valid_enc.index\n",
    ")\n",
    "# Now let's measure the quality of the model on the validation set,\n",
    "# using R2 and MSE scores.\n",
    "r2_valid_enc = r2_score(target_valid_enc, predictions_valid_enc)\n",
    "mse_valid_enc = mean_squared_error(\n",
    "    target_valid_enc, \n",
    "    predictions_valid_enc\n",
    ")\n",
    "print('R2 score on the validation encrypted sample is', \n",
    "      r2_valid_enc\n",
    "     )\n",
    "print('MSE score on the validation encrypted sample is', \n",
    "      mse_valid_enc\n",
    "     )\n",
    "print()\n",
    "# Measure the quality on the test sample.\n",
    "predictions_test_enc = pd.Series(\n",
    "    data=model.predict(features_test_enc),\n",
    "    index=target_test_enc.index\n",
    ")\n",
    "r2_test_enc = r2_score(target_test_enc, predictions_test_enc)\n",
    "mse_test_enc = mean_squared_error(target_test_enc, predictions_test_enc)\n",
    "# Now let's measure the quality of the model on the test set,\n",
    "# using R2 and MSE metrics.\n",
    "print('R2 score on the test encrypted sample is', \n",
    "      r2_test_enc\n",
    "     )\n",
    "print('MSE score on the test encrypted sample is', \n",
    "      mse_test_enc\n",
    "     )"
   ]
  },
  {
   "cell_type": "code",
   "execution_count": 15,
   "metadata": {},
   "outputs": [
    {
     "data": {
      "text/html": [
       "<div>\n",
       "<style scoped>\n",
       "    .dataframe tbody tr th:only-of-type {\n",
       "        vertical-align: middle;\n",
       "    }\n",
       "\n",
       "    .dataframe tbody tr th {\n",
       "        vertical-align: top;\n",
       "    }\n",
       "\n",
       "    .dataframe thead th {\n",
       "        text-align: right;\n",
       "    }\n",
       "</style>\n",
       "<table border=\"1\" class=\"dataframe\">\n",
       "  <thead>\n",
       "    <tr style=\"text-align: right;\">\n",
       "      <th></th>\n",
       "      <th>R2</th>\n",
       "      <th>MSE</th>\n",
       "    </tr>\n",
       "  </thead>\n",
       "  <tbody>\n",
       "    <tr>\n",
       "      <th>Initial feature set</th>\n",
       "      <td>0.418121</td>\n",
       "      <td>0.121351</td>\n",
       "    </tr>\n",
       "    <tr>\n",
       "      <th>Encrypted feature set</th>\n",
       "      <td>0.418121</td>\n",
       "      <td>0.121351</td>\n",
       "    </tr>\n",
       "  </tbody>\n",
       "</table>\n",
       "</div>"
      ],
      "text/plain": [
       "                             R2       MSE\n",
       "Initial feature set    0.418121  0.121351\n",
       "Encrypted feature set  0.418121  0.121351"
      ]
     },
     "metadata": {},
     "output_type": "display_data"
    }
   ],
   "source": [
    "# The results of the comparison will be presented in a table.\n",
    "results = pd.DataFrame(\n",
    "    {\n",
    "        'R2': [r2_test, r2_test_enc],\n",
    "        'MSE': [mse_test, mse_test_enc]\n",
    "    },index=(\n",
    "        ['Initial feature set', 'Encrypted feature set']\n",
    "    )\n",
    ")\n",
    "display(results)"
   ]
  },
  {
   "cell_type": "markdown",
   "metadata": {},
   "source": [
    "### Conclusion"
   ]
  },
  {
   "cell_type": "markdown",
   "metadata": {},
   "source": [
    "We tested the operation of our algorithm, and made sure that it works. We also compared the quality of linear regression models before and after feature encryption. The quality has remained unchanged. Mission accomplished."
   ]
  }
 ],
 "metadata": {
  "ExecuteTimeLog": [
   {
    "duration": 3,
    "start_time": "2021-12-06T16:08:42.421Z"
   },
   {
    "duration": 640,
    "start_time": "2021-12-06T16:11:06.187Z"
   },
   {
    "duration": 35,
    "start_time": "2021-12-06T16:11:11.291Z"
   },
   {
    "duration": 21,
    "start_time": "2021-12-06T16:11:24.793Z"
   },
   {
    "duration": 20,
    "start_time": "2021-12-06T16:11:27.843Z"
   },
   {
    "duration": 20,
    "start_time": "2021-12-06T16:11:31.851Z"
   },
   {
    "duration": 21,
    "start_time": "2021-12-06T16:12:44.953Z"
   },
   {
    "duration": 28,
    "start_time": "2021-12-06T16:12:57.217Z"
   },
   {
    "duration": 33,
    "start_time": "2021-12-06T16:13:20.912Z"
   },
   {
    "duration": 36,
    "start_time": "2021-12-06T16:13:50.320Z"
   },
   {
    "duration": 28,
    "start_time": "2021-12-06T16:14:02.624Z"
   },
   {
    "duration": 92,
    "start_time": "2021-12-06T16:15:05.729Z"
   },
   {
    "duration": 32,
    "start_time": "2021-12-06T16:15:09.974Z"
   },
   {
    "duration": 28,
    "start_time": "2021-12-06T16:15:31.485Z"
   },
   {
    "duration": 57,
    "start_time": "2021-12-06T16:15:47.270Z"
   },
   {
    "duration": 1163,
    "start_time": "2021-12-06T16:17:49.172Z"
   },
   {
    "duration": 9,
    "start_time": "2021-12-06T16:20:40.526Z"
   },
   {
    "duration": 1115,
    "start_time": "2021-12-07T10:06:54.991Z"
   },
   {
    "duration": 8,
    "start_time": "2021-12-07T10:06:58.289Z"
   },
   {
    "duration": 27,
    "start_time": "2021-12-07T10:19:38.571Z"
   },
   {
    "duration": 7,
    "start_time": "2021-12-07T10:19:41.093Z"
   },
   {
    "duration": 12,
    "start_time": "2021-12-07T10:50:26.233Z"
   },
   {
    "duration": 7,
    "start_time": "2021-12-07T10:50:33.485Z"
   },
   {
    "duration": 8,
    "start_time": "2021-12-07T10:50:46.188Z"
   },
   {
    "duration": 4,
    "start_time": "2021-12-07T10:54:57.868Z"
   },
   {
    "duration": 4,
    "start_time": "2021-12-07T10:54:57.992Z"
   },
   {
    "duration": 4,
    "start_time": "2021-12-07T10:55:17.896Z"
   },
   {
    "duration": 363,
    "start_time": "2021-12-07T10:55:44.591Z"
   },
   {
    "duration": 9,
    "start_time": "2021-12-07T10:55:59.704Z"
   },
   {
    "duration": 5,
    "start_time": "2021-12-07T10:56:01.207Z"
   },
   {
    "duration": 268,
    "start_time": "2021-12-07T11:01:04.129Z"
   },
   {
    "duration": 404,
    "start_time": "2021-12-07T11:01:12.268Z"
   },
   {
    "duration": 1139,
    "start_time": "2021-12-07T11:01:29.546Z"
   },
   {
    "duration": 8,
    "start_time": "2021-12-07T11:01:32.929Z"
   },
   {
    "duration": 9,
    "start_time": "2021-12-07T11:01:35.282Z"
   },
   {
    "duration": 355,
    "start_time": "2021-12-07T11:01:37.457Z"
   },
   {
    "duration": 282,
    "start_time": "2021-12-07T11:01:58.417Z"
   },
   {
    "duration": 437,
    "start_time": "2021-12-07T11:02:12.769Z"
   },
   {
    "duration": 15,
    "start_time": "2021-12-07T11:02:27.912Z"
   },
   {
    "duration": 5,
    "start_time": "2021-12-07T11:05:06.550Z"
   },
   {
    "duration": 5,
    "start_time": "2021-12-07T11:06:42.413Z"
   },
   {
    "duration": 14,
    "start_time": "2021-12-07T11:09:12.126Z"
   },
   {
    "duration": 303,
    "start_time": "2021-12-07T11:09:26.921Z"
   },
   {
    "duration": 15,
    "start_time": "2021-12-07T11:09:41.010Z"
   },
   {
    "duration": 5,
    "start_time": "2021-12-07T11:09:50.273Z"
   },
   {
    "duration": 16,
    "start_time": "2021-12-07T11:11:41.199Z"
   },
   {
    "duration": 6,
    "start_time": "2021-12-07T11:12:36.286Z"
   },
   {
    "duration": 7,
    "start_time": "2021-12-07T11:12:42.846Z"
   },
   {
    "duration": 29,
    "start_time": "2021-12-07T11:13:38.661Z"
   },
   {
    "duration": 30,
    "start_time": "2021-12-07T11:13:40.726Z"
   },
   {
    "duration": 8,
    "start_time": "2021-12-07T11:13:42.853Z"
   },
   {
    "duration": 9,
    "start_time": "2021-12-07T11:13:44.781Z"
   },
   {
    "duration": 5,
    "start_time": "2021-12-07T11:13:47.245Z"
   },
   {
    "duration": 6,
    "start_time": "2021-12-07T11:13:49.037Z"
   },
   {
    "duration": 8,
    "start_time": "2021-12-07T11:19:30.559Z"
   },
   {
    "duration": 9,
    "start_time": "2021-12-07T11:21:48.307Z"
   },
   {
    "duration": 9,
    "start_time": "2021-12-07T12:19:28.553Z"
   },
   {
    "duration": 9,
    "start_time": "2021-12-07T12:34:20.291Z"
   },
   {
    "duration": 4,
    "start_time": "2021-12-07T12:34:28.920Z"
   },
   {
    "duration": 1178,
    "start_time": "2021-12-07T12:50:36.633Z"
   },
   {
    "duration": 8,
    "start_time": "2021-12-07T12:50:37.813Z"
   },
   {
    "duration": 15,
    "start_time": "2021-12-07T12:50:37.823Z"
   },
   {
    "duration": 5,
    "start_time": "2021-12-07T12:50:37.840Z"
   },
   {
    "duration": 10,
    "start_time": "2021-12-07T12:50:37.847Z"
   },
   {
    "duration": 8,
    "start_time": "2021-12-07T12:50:37.859Z"
   },
   {
    "duration": 3,
    "start_time": "2021-12-07T12:53:13.460Z"
   },
   {
    "duration": 4,
    "start_time": "2021-12-07T12:53:26.651Z"
   },
   {
    "duration": 4,
    "start_time": "2021-12-07T12:53:28.459Z"
   },
   {
    "duration": 4,
    "start_time": "2021-12-07T12:53:33.932Z"
   },
   {
    "duration": 4,
    "start_time": "2021-12-07T12:54:10.627Z"
   },
   {
    "duration": 4,
    "start_time": "2021-12-07T12:54:26.130Z"
   },
   {
    "duration": 4,
    "start_time": "2021-12-07T12:54:42.858Z"
   },
   {
    "duration": 4,
    "start_time": "2021-12-07T12:56:23.232Z"
   },
   {
    "duration": 381,
    "start_time": "2021-12-07T12:56:42.480Z"
   },
   {
    "duration": 368,
    "start_time": "2021-12-07T12:56:58.232Z"
   },
   {
    "duration": 380,
    "start_time": "2021-12-07T12:57:07.520Z"
   },
   {
    "duration": 5,
    "start_time": "2021-12-07T12:57:21.671Z"
   },
   {
    "duration": 4,
    "start_time": "2021-12-07T12:57:27.871Z"
   },
   {
    "duration": 351,
    "start_time": "2021-12-07T12:57:54.839Z"
   },
   {
    "duration": 16,
    "start_time": "2021-12-07T12:58:07.823Z"
   },
   {
    "duration": 19,
    "start_time": "2021-12-07T12:58:19.894Z"
   },
   {
    "duration": 19,
    "start_time": "2021-12-07T12:58:47.429Z"
   },
   {
    "duration": 4,
    "start_time": "2021-12-07T12:58:54.997Z"
   },
   {
    "duration": 4,
    "start_time": "2021-12-07T12:59:15.013Z"
   },
   {
    "duration": 4,
    "start_time": "2021-12-07T12:59:28.493Z"
   },
   {
    "duration": 3,
    "start_time": "2021-12-07T13:01:53.194Z"
   },
   {
    "duration": 5,
    "start_time": "2021-12-07T13:02:03.074Z"
   },
   {
    "duration": 5,
    "start_time": "2021-12-07T13:02:11.394Z"
   },
   {
    "duration": 265,
    "start_time": "2021-12-07T13:03:12.738Z"
   },
   {
    "duration": 6,
    "start_time": "2021-12-07T13:03:18.608Z"
   },
   {
    "duration": 5,
    "start_time": "2021-12-07T13:09:59.818Z"
   },
   {
    "duration": 5,
    "start_time": "2021-12-07T13:10:00.865Z"
   },
   {
    "duration": 6,
    "start_time": "2021-12-07T13:10:01.448Z"
   },
   {
    "duration": 5,
    "start_time": "2021-12-07T13:11:42.143Z"
   },
   {
    "duration": 6,
    "start_time": "2021-12-07T13:12:46.477Z"
   },
   {
    "duration": 3,
    "start_time": "2021-12-07T13:13:43.812Z"
   },
   {
    "duration": 3,
    "start_time": "2021-12-07T13:14:17.124Z"
   },
   {
    "duration": 7,
    "start_time": "2021-12-07T13:16:46.089Z"
   },
   {
    "duration": 7,
    "start_time": "2021-12-07T13:17:13.912Z"
   },
   {
    "duration": 1102,
    "start_time": "2021-12-07T13:20:25.802Z"
   },
   {
    "duration": 8,
    "start_time": "2021-12-07T13:20:28.860Z"
   },
   {
    "duration": 21,
    "start_time": "2021-12-07T13:20:32.380Z"
   },
   {
    "duration": 9,
    "start_time": "2021-12-07T13:20:51.796Z"
   },
   {
    "duration": 5,
    "start_time": "2021-12-07T13:20:54.291Z"
   },
   {
    "duration": 9,
    "start_time": "2021-12-07T13:21:14.364Z"
   },
   {
    "duration": 6,
    "start_time": "2021-12-07T13:21:17.355Z"
   },
   {
    "duration": 7,
    "start_time": "2021-12-07T13:21:23.491Z"
   },
   {
    "duration": 8,
    "start_time": "2021-12-07T13:23:34.769Z"
   },
   {
    "duration": 13,
    "start_time": "2021-12-07T13:23:51.832Z"
   },
   {
    "duration": 9,
    "start_time": "2021-12-07T13:28:15.890Z"
   },
   {
    "duration": 1367,
    "start_time": "2021-12-07T13:33:29.357Z"
   },
   {
    "duration": 7,
    "start_time": "2021-12-07T13:33:33.589Z"
   },
   {
    "duration": 10,
    "start_time": "2021-12-07T13:33:35.901Z"
   },
   {
    "duration": 4,
    "start_time": "2021-12-07T13:33:38.533Z"
   },
   {
    "duration": 12,
    "start_time": "2021-12-07T13:33:40.989Z"
   },
   {
    "duration": 20,
    "start_time": "2021-12-07T13:33:53.020Z"
   },
   {
    "duration": 7,
    "start_time": "2021-12-07T13:33:55.836Z"
   },
   {
    "duration": 10,
    "start_time": "2021-12-07T13:34:09.212Z"
   },
   {
    "duration": 10,
    "start_time": "2021-12-07T13:34:12.732Z"
   },
   {
    "duration": 10,
    "start_time": "2021-12-07T13:35:46.659Z"
   },
   {
    "duration": 1118,
    "start_time": "2021-12-08T12:10:31.684Z"
   },
   {
    "duration": 8,
    "start_time": "2021-12-08T12:10:32.803Z"
   },
   {
    "duration": 10,
    "start_time": "2021-12-08T12:10:32.816Z"
   },
   {
    "duration": 16,
    "start_time": "2021-12-08T12:10:32.828Z"
   },
   {
    "duration": 11,
    "start_time": "2021-12-08T12:10:32.846Z"
   },
   {
    "duration": 9,
    "start_time": "2021-12-08T12:10:32.858Z"
   },
   {
    "duration": 77,
    "start_time": "2021-12-08T12:10:32.869Z"
   },
   {
    "duration": 15,
    "start_time": "2021-12-08T12:10:32.949Z"
   },
   {
    "duration": 11,
    "start_time": "2021-12-08T12:10:33.045Z"
   },
   {
    "duration": 1136,
    "start_time": "2021-12-08T12:13:51.119Z"
   },
   {
    "duration": 8,
    "start_time": "2021-12-08T12:13:52.257Z"
   },
   {
    "duration": 10,
    "start_time": "2021-12-08T12:13:52.270Z"
   },
   {
    "duration": 5,
    "start_time": "2021-12-08T12:13:52.282Z"
   },
   {
    "duration": 12,
    "start_time": "2021-12-08T12:13:52.289Z"
   },
   {
    "duration": 6,
    "start_time": "2021-12-08T12:13:52.303Z"
   },
   {
    "duration": 42,
    "start_time": "2021-12-08T12:13:52.311Z"
   },
   {
    "duration": 10,
    "start_time": "2021-12-08T12:13:52.356Z"
   },
   {
    "duration": 12,
    "start_time": "2021-12-08T12:13:52.445Z"
   },
   {
    "duration": 1519,
    "start_time": "2021-12-10T12:53:20.663Z"
   },
   {
    "duration": 11,
    "start_time": "2021-12-10T12:53:22.185Z"
   },
   {
    "duration": 13,
    "start_time": "2021-12-10T12:53:22.199Z"
   },
   {
    "duration": 5,
    "start_time": "2021-12-10T12:53:22.215Z"
   },
   {
    "duration": 48,
    "start_time": "2021-12-10T12:53:22.223Z"
   },
   {
    "duration": 9,
    "start_time": "2021-12-10T12:53:22.273Z"
   },
   {
    "duration": 79,
    "start_time": "2021-12-10T12:53:22.285Z"
   },
   {
    "duration": 93,
    "start_time": "2021-12-10T12:53:22.367Z"
   },
   {
    "duration": 14,
    "start_time": "2021-12-10T12:53:22.464Z"
   },
   {
    "duration": 7,
    "start_time": "2021-12-10T12:53:22.480Z"
   },
   {
    "duration": 5,
    "start_time": "2021-12-10T12:53:25.417Z"
   },
   {
    "duration": 6,
    "start_time": "2021-12-10T12:53:26.393Z"
   },
   {
    "duration": 1728,
    "start_time": "2021-12-10T12:54:05.264Z"
   },
   {
    "duration": 6,
    "start_time": "2021-12-10T13:00:44.362Z"
   },
   {
    "duration": 6,
    "start_time": "2021-12-10T13:00:45.474Z"
   },
   {
    "duration": 6,
    "start_time": "2021-12-10T13:00:46.009Z"
   },
   {
    "duration": 6,
    "start_time": "2021-12-10T13:00:49.481Z"
   },
   {
    "duration": 6,
    "start_time": "2021-12-10T13:00:49.985Z"
   },
   {
    "duration": 6,
    "start_time": "2021-12-10T13:00:50.433Z"
   },
   {
    "duration": 7,
    "start_time": "2021-12-10T13:00:53.200Z"
   },
   {
    "duration": 6,
    "start_time": "2021-12-10T13:00:53.936Z"
   },
   {
    "duration": 8,
    "start_time": "2021-12-10T13:02:01.472Z"
   },
   {
    "duration": 17,
    "start_time": "2021-12-10T13:02:48.263Z"
   },
   {
    "duration": 27,
    "start_time": "2021-12-10T13:03:12.409Z"
   },
   {
    "duration": 14,
    "start_time": "2021-12-10T13:03:13.614Z"
   },
   {
    "duration": 14,
    "start_time": "2021-12-10T13:03:14.710Z"
   },
   {
    "duration": 10,
    "start_time": "2021-12-10T13:03:28.560Z"
   },
   {
    "duration": 17,
    "start_time": "2021-12-10T13:03:38.382Z"
   },
   {
    "duration": 9,
    "start_time": "2021-12-10T13:03:49.413Z"
   },
   {
    "duration": 16,
    "start_time": "2021-12-10T13:04:23.362Z"
   },
   {
    "duration": 1674,
    "start_time": "2021-12-10T13:07:12.676Z"
   },
   {
    "duration": 13,
    "start_time": "2021-12-10T13:07:14.353Z"
   },
   {
    "duration": 16,
    "start_time": "2021-12-10T13:07:14.369Z"
   },
   {
    "duration": 6,
    "start_time": "2021-12-10T13:07:14.388Z"
   },
   {
    "duration": 24,
    "start_time": "2021-12-10T13:07:14.396Z"
   },
   {
    "duration": 42,
    "start_time": "2021-12-10T13:07:14.423Z"
   },
   {
    "duration": 99,
    "start_time": "2021-12-10T13:07:14.469Z"
   },
   {
    "duration": 95,
    "start_time": "2021-12-10T13:07:14.571Z"
   },
   {
    "duration": 15,
    "start_time": "2021-12-10T13:07:14.669Z"
   },
   {
    "duration": 81,
    "start_time": "2021-12-10T13:07:14.687Z"
   },
   {
    "duration": 96,
    "start_time": "2021-12-10T13:07:14.772Z"
   },
   {
    "duration": 12,
    "start_time": "2021-12-10T13:09:51.679Z"
   },
   {
    "duration": 16,
    "start_time": "2021-12-10T13:11:39.965Z"
   },
   {
    "duration": 1339,
    "start_time": "2021-12-10T13:11:52.366Z"
   },
   {
    "duration": 12,
    "start_time": "2021-12-10T13:11:53.708Z"
   },
   {
    "duration": 33,
    "start_time": "2021-12-10T13:11:53.726Z"
   },
   {
    "duration": 7,
    "start_time": "2021-12-10T13:11:53.762Z"
   },
   {
    "duration": 20,
    "start_time": "2021-12-10T13:11:53.771Z"
   },
   {
    "duration": 9,
    "start_time": "2021-12-10T13:11:53.794Z"
   },
   {
    "duration": 10,
    "start_time": "2021-12-10T13:11:53.861Z"
   },
   {
    "duration": 96,
    "start_time": "2021-12-10T13:11:53.874Z"
   },
   {
    "duration": 15,
    "start_time": "2021-12-10T13:11:53.972Z"
   },
   {
    "duration": 71,
    "start_time": "2021-12-10T13:11:53.989Z"
   },
   {
    "duration": 98,
    "start_time": "2021-12-10T13:11:54.063Z"
   },
   {
    "duration": 18,
    "start_time": "2021-12-10T13:11:54.164Z"
   },
   {
    "duration": 1455,
    "start_time": "2021-12-10T13:12:17.958Z"
   },
   {
    "duration": 11,
    "start_time": "2021-12-10T13:12:19.416Z"
   },
   {
    "duration": 13,
    "start_time": "2021-12-10T13:12:19.430Z"
   },
   {
    "duration": 6,
    "start_time": "2021-12-10T13:12:19.459Z"
   },
   {
    "duration": 17,
    "start_time": "2021-12-10T13:12:19.468Z"
   },
   {
    "duration": 9,
    "start_time": "2021-12-10T13:12:19.487Z"
   },
   {
    "duration": 11,
    "start_time": "2021-12-10T13:12:19.559Z"
   },
   {
    "duration": 96,
    "start_time": "2021-12-10T13:12:19.574Z"
   },
   {
    "duration": 15,
    "start_time": "2021-12-10T13:12:19.674Z"
   },
   {
    "duration": 74,
    "start_time": "2021-12-10T13:12:19.692Z"
   },
   {
    "duration": 97,
    "start_time": "2021-12-10T13:12:19.770Z"
   },
   {
    "duration": 14,
    "start_time": "2021-12-10T13:12:19.869Z"
   },
   {
    "duration": 9729,
    "start_time": "2021-12-10T13:41:14.543Z"
   },
   {
    "duration": 18,
    "start_time": "2021-12-10T13:41:28.855Z"
   },
   {
    "duration": 6,
    "start_time": "2021-12-10T13:58:50.356Z"
   },
   {
    "duration": 5,
    "start_time": "2021-12-10T14:03:49.727Z"
   },
   {
    "duration": 7,
    "start_time": "2021-12-10T14:03:57.054Z"
   },
   {
    "duration": 8,
    "start_time": "2021-12-10T14:04:49.366Z"
   },
   {
    "duration": 11,
    "start_time": "2021-12-10T14:04:56.094Z"
   },
   {
    "duration": 11,
    "start_time": "2021-12-10T14:05:56.170Z"
   },
   {
    "duration": 11,
    "start_time": "2021-12-10T14:06:31.292Z"
   },
   {
    "duration": 13,
    "start_time": "2021-12-10T14:06:49.651Z"
   },
   {
    "duration": 6,
    "start_time": "2021-12-10T14:10:15.689Z"
   },
   {
    "duration": 8,
    "start_time": "2021-12-10T14:13:12.509Z"
   },
   {
    "duration": 7,
    "start_time": "2021-12-10T14:13:27.412Z"
   },
   {
    "duration": 8,
    "start_time": "2021-12-10T14:13:28.981Z"
   },
   {
    "duration": 6,
    "start_time": "2021-12-10T14:13:59.021Z"
   },
   {
    "duration": 7,
    "start_time": "2021-12-10T14:14:00.628Z"
   },
   {
    "duration": 6,
    "start_time": "2021-12-10T14:14:05.548Z"
   },
   {
    "duration": 6,
    "start_time": "2021-12-10T14:14:07.508Z"
   },
   {
    "duration": 18,
    "start_time": "2021-12-10T14:14:29.588Z"
   },
   {
    "duration": 24,
    "start_time": "2021-12-10T14:14:42.825Z"
   },
   {
    "duration": 9,
    "start_time": "2021-12-10T14:27:36.966Z"
   },
   {
    "duration": 365,
    "start_time": "2021-12-10T14:28:50.685Z"
   },
   {
    "duration": 18,
    "start_time": "2021-12-10T14:28:58.261Z"
   },
   {
    "duration": 8,
    "start_time": "2021-12-10T14:29:23.733Z"
   },
   {
    "duration": 13,
    "start_time": "2021-12-10T14:29:28.964Z"
   },
   {
    "duration": 14,
    "start_time": "2021-12-10T14:29:42.557Z"
   },
   {
    "duration": 1784,
    "start_time": "2021-12-10T14:30:03.956Z"
   },
   {
    "duration": 20,
    "start_time": "2021-12-10T14:30:05.743Z"
   },
   {
    "duration": 9,
    "start_time": "2021-12-10T14:30:05.769Z"
   },
   {
    "duration": 13,
    "start_time": "2021-12-10T14:30:05.781Z"
   },
   {
    "duration": 18,
    "start_time": "2021-12-10T14:30:05.796Z"
   },
   {
    "duration": 50,
    "start_time": "2021-12-10T14:30:05.816Z"
   },
   {
    "duration": 90,
    "start_time": "2021-12-10T14:30:05.871Z"
   },
   {
    "duration": 14,
    "start_time": "2021-12-10T14:30:05.964Z"
   },
   {
    "duration": 21,
    "start_time": "2021-12-10T14:30:05.982Z"
   },
   {
    "duration": 54,
    "start_time": "2021-12-10T14:30:06.006Z"
   },
   {
    "duration": 6,
    "start_time": "2021-12-10T14:30:06.063Z"
   },
   {
    "duration": 100,
    "start_time": "2021-12-10T14:30:06.072Z"
   },
   {
    "duration": 88,
    "start_time": "2021-12-10T14:30:06.176Z"
   },
   {
    "duration": 8,
    "start_time": "2021-12-10T14:36:33.759Z"
   },
   {
    "duration": 13,
    "start_time": "2021-12-10T14:36:37.973Z"
   },
   {
    "duration": 8,
    "start_time": "2021-12-10T14:36:49.630Z"
   },
   {
    "duration": 13,
    "start_time": "2021-12-10T14:36:52.621Z"
   },
   {
    "duration": 1924,
    "start_time": "2021-12-10T14:37:32.166Z"
   },
   {
    "duration": 15,
    "start_time": "2021-12-10T14:37:34.094Z"
   },
   {
    "duration": 12,
    "start_time": "2021-12-10T14:37:34.114Z"
   },
   {
    "duration": 40,
    "start_time": "2021-12-10T14:37:34.130Z"
   },
   {
    "duration": 23,
    "start_time": "2021-12-10T14:37:34.173Z"
   },
   {
    "duration": 9,
    "start_time": "2021-12-10T14:37:34.200Z"
   },
   {
    "duration": 14,
    "start_time": "2021-12-10T14:37:34.260Z"
   },
   {
    "duration": 91,
    "start_time": "2021-12-10T14:37:34.276Z"
   },
   {
    "duration": 18,
    "start_time": "2021-12-10T14:37:34.371Z"
   },
   {
    "duration": 12,
    "start_time": "2021-12-10T14:37:34.392Z"
   },
   {
    "duration": 53,
    "start_time": "2021-12-10T14:37:34.406Z"
   },
   {
    "duration": 103,
    "start_time": "2021-12-10T14:37:34.462Z"
   },
   {
    "duration": 97,
    "start_time": "2021-12-10T14:37:34.568Z"
   },
   {
    "duration": 16,
    "start_time": "2021-12-10T14:40:20.814Z"
   },
   {
    "duration": 17,
    "start_time": "2021-12-10T14:40:43.181Z"
   },
   {
    "duration": 16,
    "start_time": "2021-12-10T14:41:24.925Z"
   },
   {
    "duration": 16,
    "start_time": "2021-12-10T14:41:44.028Z"
   },
   {
    "duration": 11,
    "start_time": "2021-12-10T14:44:38.961Z"
   },
   {
    "duration": 1444,
    "start_time": "2021-12-10T14:45:01.464Z"
   },
   {
    "duration": 11,
    "start_time": "2021-12-10T14:45:02.911Z"
   },
   {
    "duration": 8,
    "start_time": "2021-12-10T14:45:02.925Z"
   },
   {
    "duration": 32,
    "start_time": "2021-12-10T14:45:02.936Z"
   },
   {
    "duration": 16,
    "start_time": "2021-12-10T14:45:02.971Z"
   },
   {
    "duration": 7,
    "start_time": "2021-12-10T14:45:02.990Z"
   },
   {
    "duration": 18,
    "start_time": "2021-12-10T14:45:03.059Z"
   },
   {
    "duration": 90,
    "start_time": "2021-12-10T14:45:03.080Z"
   },
   {
    "duration": 17,
    "start_time": "2021-12-10T14:45:03.173Z"
   },
   {
    "duration": 11,
    "start_time": "2021-12-10T14:45:03.192Z"
   },
   {
    "duration": 10,
    "start_time": "2021-12-10T14:45:03.205Z"
   },
   {
    "duration": 146,
    "start_time": "2021-12-10T14:45:03.218Z"
   },
   {
    "duration": 93,
    "start_time": "2021-12-10T14:45:03.367Z"
   },
   {
    "duration": 16,
    "start_time": "2021-12-10T14:45:03.463Z"
   },
   {
    "duration": 11,
    "start_time": "2021-12-10T14:45:03.481Z"
   },
   {
    "duration": 13,
    "start_time": "2021-12-10T14:50:48.719Z"
   },
   {
    "duration": 12,
    "start_time": "2021-12-10T14:50:50.711Z"
   },
   {
    "duration": 18,
    "start_time": "2021-12-10T14:51:05.946Z"
   },
   {
    "duration": 9,
    "start_time": "2021-12-10T14:51:28.416Z"
   },
   {
    "duration": 7,
    "start_time": "2021-12-10T14:51:43.206Z"
   },
   {
    "duration": 9,
    "start_time": "2021-12-10T14:52:13.021Z"
   },
   {
    "duration": 8,
    "start_time": "2021-12-10T14:52:30.166Z"
   },
   {
    "duration": 10,
    "start_time": "2021-12-10T14:52:42.389Z"
   },
   {
    "duration": 9,
    "start_time": "2021-12-10T14:53:36.613Z"
   },
   {
    "duration": 12,
    "start_time": "2021-12-10T14:53:50.133Z"
   },
   {
    "duration": 1341,
    "start_time": "2021-12-10T15:14:33.081Z"
   },
   {
    "duration": 13,
    "start_time": "2021-12-10T15:14:34.426Z"
   },
   {
    "duration": 17,
    "start_time": "2021-12-10T15:14:34.443Z"
   },
   {
    "duration": 16,
    "start_time": "2021-12-10T15:14:34.463Z"
   },
   {
    "duration": 16,
    "start_time": "2021-12-10T15:14:34.482Z"
   },
   {
    "duration": 58,
    "start_time": "2021-12-10T15:14:34.501Z"
   },
   {
    "duration": 98,
    "start_time": "2021-12-10T15:14:34.563Z"
   },
   {
    "duration": 14,
    "start_time": "2021-12-10T15:14:34.664Z"
   },
   {
    "duration": 17,
    "start_time": "2021-12-10T15:14:34.680Z"
   },
   {
    "duration": 11,
    "start_time": "2021-12-10T15:14:34.699Z"
   },
   {
    "duration": 51,
    "start_time": "2021-12-10T15:14:34.713Z"
   },
   {
    "duration": 96,
    "start_time": "2021-12-10T15:14:34.766Z"
   },
   {
    "duration": 94,
    "start_time": "2021-12-10T15:14:34.865Z"
   },
   {
    "duration": 17,
    "start_time": "2021-12-10T15:14:34.962Z"
   },
   {
    "duration": 12,
    "start_time": "2021-12-10T15:14:34.982Z"
   },
   {
    "duration": 1221,
    "start_time": "2021-12-11T06:29:51.412Z"
   },
   {
    "duration": 9,
    "start_time": "2021-12-11T06:29:56.253Z"
   },
   {
    "duration": 6,
    "start_time": "2021-12-11T06:30:27.862Z"
   },
   {
    "duration": 10,
    "start_time": "2021-12-11T06:30:29.046Z"
   },
   {
    "duration": 12,
    "start_time": "2021-12-11T06:30:30.027Z"
   },
   {
    "duration": 7,
    "start_time": "2021-12-11T06:30:30.554Z"
   },
   {
    "duration": 10,
    "start_time": "2021-12-11T06:30:31.120Z"
   },
   {
    "duration": 9,
    "start_time": "2021-12-11T06:30:31.721Z"
   },
   {
    "duration": 13,
    "start_time": "2021-12-11T06:30:31.932Z"
   },
   {
    "duration": 8,
    "start_time": "2021-12-11T06:30:32.152Z"
   },
   {
    "duration": 4,
    "start_time": "2021-12-11T06:30:36.058Z"
   },
   {
    "duration": 22,
    "start_time": "2021-12-11T06:30:36.830Z"
   },
   {
    "duration": 9,
    "start_time": "2021-12-11T06:30:37.248Z"
   },
   {
    "duration": 11,
    "start_time": "2021-12-11T06:30:37.445Z"
   },
   {
    "duration": 7,
    "start_time": "2021-12-11T06:30:37.643Z"
   },
   {
    "duration": 2536,
    "start_time": "2022-03-24T21:08:13.670Z"
   },
   {
    "duration": 74,
    "start_time": "2022-03-24T21:08:16.209Z"
   },
   {
    "duration": 14,
    "start_time": "2022-03-24T21:08:16.285Z"
   },
   {
    "duration": 72,
    "start_time": "2022-03-24T21:08:16.302Z"
   },
   {
    "duration": 22,
    "start_time": "2022-03-24T21:08:16.377Z"
   },
   {
    "duration": 81,
    "start_time": "2022-03-24T21:08:16.401Z"
   },
   {
    "duration": 100,
    "start_time": "2022-03-24T21:08:16.567Z"
   },
   {
    "duration": 14,
    "start_time": "2022-03-24T21:08:16.670Z"
   },
   {
    "duration": 82,
    "start_time": "2022-03-24T21:08:16.687Z"
   },
   {
    "duration": 12,
    "start_time": "2022-03-24T21:08:16.773Z"
   },
   {
    "duration": 9,
    "start_time": "2022-03-24T21:08:16.787Z"
   },
   {
    "duration": 175,
    "start_time": "2022-03-24T21:08:16.799Z"
   },
   {
    "duration": 101,
    "start_time": "2022-03-24T21:08:16.977Z"
   },
   {
    "duration": 21,
    "start_time": "2022-03-24T21:08:17.081Z"
   },
   {
    "duration": 12,
    "start_time": "2022-03-24T21:08:17.167Z"
   }
  ],
  "kernelspec": {
   "display_name": "Python 3 (ipykernel)",
   "language": "python",
   "name": "python3"
  },
  "language_info": {
   "codemirror_mode": {
    "name": "ipython",
    "version": 3
   },
   "file_extension": ".py",
   "mimetype": "text/x-python",
   "name": "python",
   "nbconvert_exporter": "python",
   "pygments_lexer": "ipython3",
   "version": "3.9.7"
  },
  "toc": {
   "base_numbering": 1,
   "nav_menu": {},
   "number_sections": true,
   "sideBar": true,
   "skip_h1_title": true,
   "title_cell": "Содержание",
   "title_sidebar": "Contents",
   "toc_cell": true,
   "toc_position": {},
   "toc_section_display": true,
   "toc_window_display": true
  }
 },
 "nbformat": 4,
 "nbformat_minor": 2
}
