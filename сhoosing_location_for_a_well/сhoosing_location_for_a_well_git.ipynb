{
 "cells": [
  {
   "cell_type": "markdown",
   "metadata": {},
   "source": [
    "# Выбор локации для скважины"
   ]
  },
  {
   "cell_type": "markdown",
   "metadata": {},
   "source": [
    "Вы работаете в нефтедобывающей компании. Нужно решить, где бурить новую скважину.  \n",
    "\n",
    "Вам предоставлены пробы нефти в трёх регионах: в каждом 10 000 месторождений, где измерили качество нефти и объём её запасов. Постройте модель машинного обучения, которая поможет определить регион, где добыча принесёт наибольшую прибыль.\n",
    "Шаги для выбора локации:\n",
    "  \n",
    "Основными этапами нашего проекта станут:\n",
    "\n",
    "* Загрузка и подготовка данных\n",
    "* Обучение и проверка модели\n",
    "* Подготовка к расчёту прибыли\n",
    "* Расчёт прибыли и рисков. Выбор региона для разработки месторождений\n",
    "\n",
    "**Описание данных**\n",
    "\n",
    "*Признаки*  \n",
    "  \n",
    "*id* — уникальный идентификатор скважины  \n",
    "*f0, f1, f2* — три признака точек (нам неизвестно, что они означают, но сами признаки значимы)  \n",
    "  \n",
    "*Целевой признак*  \n",
    "  \n",
    "**product** — объём запасов в скважине (тыс. баррелей)  \n",
    "  \n",
    "Условия задачи:\n",
    "Для обучения модели подходит только линейная регрессия (остальные — недостаточно предсказуемые).  \n",
    "При разведке региона исследуют 500 точек, из которых с помощью машинного обучения выбирают 200 лучших для разработки.  \n",
    "Бюджет на разработку скважин в регионе — 10 млрд рублей.  \n",
    "При нынешних ценах один баррель сырья приносит 450 рублей дохода. Доход с каждой единицы продукта составляет 450 тыс. рублей, поскольку объём указан в тысячах баррелей.  \n",
    "После оценки рисков нужно оставить лишь те регионы, в которых вероятность убытков меньше 2.5%. Среди них выбирают регион с наибольшей средней прибылью.\n",
    "  \n",
    "Проект выполнен в **Jupyter Notebook**, версия сервера блокнотов: 6.1.4. Версия **Python** 3.7.8.\n",
    "В проекте использованы библиотеки:\n",
    "* **Pandas**\n",
    "* **NumPy**\n",
    "* **SciPy**\n",
    "* **scikit-learn**\n",
    "* **IPython**"
   ]
  },
  {
   "cell_type": "markdown",
   "metadata": {},
   "source": [
    "## Загрузка и подготовка данных"
   ]
  },
  {
   "cell_type": "code",
   "execution_count": 1,
   "metadata": {
    "scrolled": false
   },
   "outputs": [
    {
     "data": {
      "text/html": [
       "<div>\n",
       "<style scoped>\n",
       "    .dataframe tbody tr th:only-of-type {\n",
       "        vertical-align: middle;\n",
       "    }\n",
       "\n",
       "    .dataframe tbody tr th {\n",
       "        vertical-align: top;\n",
       "    }\n",
       "\n",
       "    .dataframe thead th {\n",
       "        text-align: right;\n",
       "    }\n",
       "</style>\n",
       "<table border=\"1\" class=\"dataframe\">\n",
       "  <thead>\n",
       "    <tr style=\"text-align: right;\">\n",
       "      <th></th>\n",
       "      <th>id</th>\n",
       "      <th>f0</th>\n",
       "      <th>f1</th>\n",
       "      <th>f2</th>\n",
       "      <th>product</th>\n",
       "    </tr>\n",
       "  </thead>\n",
       "  <tbody>\n",
       "    <tr>\n",
       "      <th>0</th>\n",
       "      <td>txEyH</td>\n",
       "      <td>0.705745</td>\n",
       "      <td>-0.497823</td>\n",
       "      <td>1.221170</td>\n",
       "      <td>105.280062</td>\n",
       "    </tr>\n",
       "    <tr>\n",
       "      <th>1</th>\n",
       "      <td>2acmU</td>\n",
       "      <td>1.334711</td>\n",
       "      <td>-0.340164</td>\n",
       "      <td>4.365080</td>\n",
       "      <td>73.037750</td>\n",
       "    </tr>\n",
       "    <tr>\n",
       "      <th>2</th>\n",
       "      <td>409Wp</td>\n",
       "      <td>1.022732</td>\n",
       "      <td>0.151990</td>\n",
       "      <td>1.419926</td>\n",
       "      <td>85.265647</td>\n",
       "    </tr>\n",
       "    <tr>\n",
       "      <th>3</th>\n",
       "      <td>iJLyR</td>\n",
       "      <td>-0.032172</td>\n",
       "      <td>0.139033</td>\n",
       "      <td>2.978566</td>\n",
       "      <td>168.620776</td>\n",
       "    </tr>\n",
       "    <tr>\n",
       "      <th>4</th>\n",
       "      <td>Xdl7t</td>\n",
       "      <td>1.988431</td>\n",
       "      <td>0.155413</td>\n",
       "      <td>4.751769</td>\n",
       "      <td>154.036647</td>\n",
       "    </tr>\n",
       "    <tr>\n",
       "      <th>...</th>\n",
       "      <td>...</td>\n",
       "      <td>...</td>\n",
       "      <td>...</td>\n",
       "      <td>...</td>\n",
       "      <td>...</td>\n",
       "    </tr>\n",
       "    <tr>\n",
       "      <th>99995</th>\n",
       "      <td>DLsed</td>\n",
       "      <td>0.971957</td>\n",
       "      <td>0.370953</td>\n",
       "      <td>6.075346</td>\n",
       "      <td>110.744026</td>\n",
       "    </tr>\n",
       "    <tr>\n",
       "      <th>99996</th>\n",
       "      <td>QKivN</td>\n",
       "      <td>1.392429</td>\n",
       "      <td>-0.382606</td>\n",
       "      <td>1.273912</td>\n",
       "      <td>122.346843</td>\n",
       "    </tr>\n",
       "    <tr>\n",
       "      <th>99997</th>\n",
       "      <td>3rnvd</td>\n",
       "      <td>1.029585</td>\n",
       "      <td>0.018787</td>\n",
       "      <td>-1.348308</td>\n",
       "      <td>64.375443</td>\n",
       "    </tr>\n",
       "    <tr>\n",
       "      <th>99998</th>\n",
       "      <td>7kl59</td>\n",
       "      <td>0.998163</td>\n",
       "      <td>-0.528582</td>\n",
       "      <td>1.583869</td>\n",
       "      <td>74.040764</td>\n",
       "    </tr>\n",
       "    <tr>\n",
       "      <th>99999</th>\n",
       "      <td>1CWhH</td>\n",
       "      <td>1.764754</td>\n",
       "      <td>-0.266417</td>\n",
       "      <td>5.722849</td>\n",
       "      <td>149.633246</td>\n",
       "    </tr>\n",
       "  </tbody>\n",
       "</table>\n",
       "<p>100000 rows × 5 columns</p>\n",
       "</div>"
      ],
      "text/plain": [
       "          id        f0        f1        f2     product\n",
       "0      txEyH  0.705745 -0.497823  1.221170  105.280062\n",
       "1      2acmU  1.334711 -0.340164  4.365080   73.037750\n",
       "2      409Wp  1.022732  0.151990  1.419926   85.265647\n",
       "3      iJLyR -0.032172  0.139033  2.978566  168.620776\n",
       "4      Xdl7t  1.988431  0.155413  4.751769  154.036647\n",
       "...      ...       ...       ...       ...         ...\n",
       "99995  DLsed  0.971957  0.370953  6.075346  110.744026\n",
       "99996  QKivN  1.392429 -0.382606  1.273912  122.346843\n",
       "99997  3rnvd  1.029585  0.018787 -1.348308   64.375443\n",
       "99998  7kl59  0.998163 -0.528582  1.583869   74.040764\n",
       "99999  1CWhH  1.764754 -0.266417  5.722849  149.633246\n",
       "\n",
       "[100000 rows x 5 columns]"
      ]
     },
     "metadata": {},
     "output_type": "display_data"
    },
    {
     "name": "stdout",
     "output_type": "stream",
     "text": [
      "bxg6G    2\n",
      "AGS9W    2\n",
      "TtcGQ    2\n",
      "bsk9y    2\n",
      "HZww2    2\n",
      "        ..\n",
      "0fQTe    1\n",
      "ZprHc    1\n",
      "QH0pf    1\n",
      "525ui    1\n",
      "3M54W    1\n",
      "Name: id, Length: 99990, dtype: int64\n",
      "<class 'pandas.core.frame.DataFrame'>\n",
      "RangeIndex: 100000 entries, 0 to 99999\n",
      "Data columns (total 5 columns):\n",
      " #   Column   Non-Null Count   Dtype  \n",
      "---  ------   --------------   -----  \n",
      " 0   id       100000 non-null  object \n",
      " 1   f0       100000 non-null  float64\n",
      " 2   f1       100000 non-null  float64\n",
      " 3   f2       100000 non-null  float64\n",
      " 4   product  100000 non-null  float64\n",
      "dtypes: float64(4), object(1)\n",
      "memory usage: 3.8+ MB\n"
     ]
    },
    {
     "data": {
      "text/html": [
       "<div>\n",
       "<style scoped>\n",
       "    .dataframe tbody tr th:only-of-type {\n",
       "        vertical-align: middle;\n",
       "    }\n",
       "\n",
       "    .dataframe tbody tr th {\n",
       "        vertical-align: top;\n",
       "    }\n",
       "\n",
       "    .dataframe thead th {\n",
       "        text-align: right;\n",
       "    }\n",
       "</style>\n",
       "<table border=\"1\" class=\"dataframe\">\n",
       "  <thead>\n",
       "    <tr style=\"text-align: right;\">\n",
       "      <th></th>\n",
       "      <th>f0</th>\n",
       "      <th>f1</th>\n",
       "      <th>f2</th>\n",
       "      <th>product</th>\n",
       "    </tr>\n",
       "  </thead>\n",
       "  <tbody>\n",
       "    <tr>\n",
       "      <th>count</th>\n",
       "      <td>100000.000000</td>\n",
       "      <td>100000.000000</td>\n",
       "      <td>100000.000000</td>\n",
       "      <td>100000.000000</td>\n",
       "    </tr>\n",
       "    <tr>\n",
       "      <th>mean</th>\n",
       "      <td>0.500419</td>\n",
       "      <td>0.250143</td>\n",
       "      <td>2.502647</td>\n",
       "      <td>92.500000</td>\n",
       "    </tr>\n",
       "    <tr>\n",
       "      <th>std</th>\n",
       "      <td>0.871832</td>\n",
       "      <td>0.504433</td>\n",
       "      <td>3.248248</td>\n",
       "      <td>44.288691</td>\n",
       "    </tr>\n",
       "    <tr>\n",
       "      <th>min</th>\n",
       "      <td>-1.408605</td>\n",
       "      <td>-0.848218</td>\n",
       "      <td>-12.088328</td>\n",
       "      <td>0.000000</td>\n",
       "    </tr>\n",
       "    <tr>\n",
       "      <th>25%</th>\n",
       "      <td>-0.072580</td>\n",
       "      <td>-0.200881</td>\n",
       "      <td>0.287748</td>\n",
       "      <td>56.497507</td>\n",
       "    </tr>\n",
       "    <tr>\n",
       "      <th>50%</th>\n",
       "      <td>0.502360</td>\n",
       "      <td>0.250252</td>\n",
       "      <td>2.515969</td>\n",
       "      <td>91.849972</td>\n",
       "    </tr>\n",
       "    <tr>\n",
       "      <th>75%</th>\n",
       "      <td>1.073581</td>\n",
       "      <td>0.700646</td>\n",
       "      <td>4.715088</td>\n",
       "      <td>128.564089</td>\n",
       "    </tr>\n",
       "    <tr>\n",
       "      <th>max</th>\n",
       "      <td>2.362331</td>\n",
       "      <td>1.343769</td>\n",
       "      <td>16.003790</td>\n",
       "      <td>185.364347</td>\n",
       "    </tr>\n",
       "  </tbody>\n",
       "</table>\n",
       "</div>"
      ],
      "text/plain": [
       "                  f0             f1             f2        product\n",
       "count  100000.000000  100000.000000  100000.000000  100000.000000\n",
       "mean        0.500419       0.250143       2.502647      92.500000\n",
       "std         0.871832       0.504433       3.248248      44.288691\n",
       "min        -1.408605      -0.848218     -12.088328       0.000000\n",
       "25%        -0.072580      -0.200881       0.287748      56.497507\n",
       "50%         0.502360       0.250252       2.515969      91.849972\n",
       "75%         1.073581       0.700646       4.715088     128.564089\n",
       "max         2.362331       1.343769      16.003790     185.364347"
      ]
     },
     "metadata": {},
     "output_type": "display_data"
    },
    {
     "name": "stdout",
     "output_type": "stream",
     "text": [
      "\n",
      "Количество полных дубликатов равно 0\n"
     ]
    },
    {
     "data": {
      "text/html": [
       "<div>\n",
       "<style scoped>\n",
       "    .dataframe tbody tr th:only-of-type {\n",
       "        vertical-align: middle;\n",
       "    }\n",
       "\n",
       "    .dataframe tbody tr th {\n",
       "        vertical-align: top;\n",
       "    }\n",
       "\n",
       "    .dataframe thead th {\n",
       "        text-align: right;\n",
       "    }\n",
       "</style>\n",
       "<table border=\"1\" class=\"dataframe\">\n",
       "  <thead>\n",
       "    <tr style=\"text-align: right;\">\n",
       "      <th></th>\n",
       "      <th>id</th>\n",
       "      <th>f0</th>\n",
       "      <th>f1</th>\n",
       "      <th>f2</th>\n",
       "      <th>product</th>\n",
       "    </tr>\n",
       "  </thead>\n",
       "  <tbody>\n",
       "    <tr>\n",
       "      <th>0</th>\n",
       "      <td>kBEdx</td>\n",
       "      <td>-15.001348</td>\n",
       "      <td>-8.276000</td>\n",
       "      <td>-0.005876</td>\n",
       "      <td>3.179103</td>\n",
       "    </tr>\n",
       "    <tr>\n",
       "      <th>1</th>\n",
       "      <td>62mP7</td>\n",
       "      <td>14.272088</td>\n",
       "      <td>-3.475083</td>\n",
       "      <td>0.999183</td>\n",
       "      <td>26.953261</td>\n",
       "    </tr>\n",
       "    <tr>\n",
       "      <th>2</th>\n",
       "      <td>vyE1P</td>\n",
       "      <td>6.263187</td>\n",
       "      <td>-5.948386</td>\n",
       "      <td>5.001160</td>\n",
       "      <td>134.766305</td>\n",
       "    </tr>\n",
       "    <tr>\n",
       "      <th>3</th>\n",
       "      <td>KcrkZ</td>\n",
       "      <td>-13.081196</td>\n",
       "      <td>-11.506057</td>\n",
       "      <td>4.999415</td>\n",
       "      <td>137.945408</td>\n",
       "    </tr>\n",
       "    <tr>\n",
       "      <th>4</th>\n",
       "      <td>AHL4O</td>\n",
       "      <td>12.702195</td>\n",
       "      <td>-8.147433</td>\n",
       "      <td>5.004363</td>\n",
       "      <td>134.766305</td>\n",
       "    </tr>\n",
       "    <tr>\n",
       "      <th>...</th>\n",
       "      <td>...</td>\n",
       "      <td>...</td>\n",
       "      <td>...</td>\n",
       "      <td>...</td>\n",
       "      <td>...</td>\n",
       "    </tr>\n",
       "    <tr>\n",
       "      <th>99995</th>\n",
       "      <td>QywKC</td>\n",
       "      <td>9.535637</td>\n",
       "      <td>-6.878139</td>\n",
       "      <td>1.998296</td>\n",
       "      <td>53.906522</td>\n",
       "    </tr>\n",
       "    <tr>\n",
       "      <th>99996</th>\n",
       "      <td>ptvty</td>\n",
       "      <td>-10.160631</td>\n",
       "      <td>-12.558096</td>\n",
       "      <td>5.005581</td>\n",
       "      <td>137.945408</td>\n",
       "    </tr>\n",
       "    <tr>\n",
       "      <th>99997</th>\n",
       "      <td>09gWa</td>\n",
       "      <td>-7.378891</td>\n",
       "      <td>-3.084104</td>\n",
       "      <td>4.998651</td>\n",
       "      <td>137.945408</td>\n",
       "    </tr>\n",
       "    <tr>\n",
       "      <th>99998</th>\n",
       "      <td>rqwUm</td>\n",
       "      <td>0.665714</td>\n",
       "      <td>-6.152593</td>\n",
       "      <td>1.000146</td>\n",
       "      <td>30.132364</td>\n",
       "    </tr>\n",
       "    <tr>\n",
       "      <th>99999</th>\n",
       "      <td>relB0</td>\n",
       "      <td>-3.426139</td>\n",
       "      <td>-7.794274</td>\n",
       "      <td>-0.003299</td>\n",
       "      <td>3.179103</td>\n",
       "    </tr>\n",
       "  </tbody>\n",
       "</table>\n",
       "<p>100000 rows × 5 columns</p>\n",
       "</div>"
      ],
      "text/plain": [
       "          id         f0         f1        f2     product\n",
       "0      kBEdx -15.001348  -8.276000 -0.005876    3.179103\n",
       "1      62mP7  14.272088  -3.475083  0.999183   26.953261\n",
       "2      vyE1P   6.263187  -5.948386  5.001160  134.766305\n",
       "3      KcrkZ -13.081196 -11.506057  4.999415  137.945408\n",
       "4      AHL4O  12.702195  -8.147433  5.004363  134.766305\n",
       "...      ...        ...        ...       ...         ...\n",
       "99995  QywKC   9.535637  -6.878139  1.998296   53.906522\n",
       "99996  ptvty -10.160631 -12.558096  5.005581  137.945408\n",
       "99997  09gWa  -7.378891  -3.084104  4.998651  137.945408\n",
       "99998  rqwUm   0.665714  -6.152593  1.000146   30.132364\n",
       "99999  relB0  -3.426139  -7.794274 -0.003299    3.179103\n",
       "\n",
       "[100000 rows x 5 columns]"
      ]
     },
     "metadata": {},
     "output_type": "display_data"
    },
    {
     "name": "stdout",
     "output_type": "stream",
     "text": [
      "LHZR0    2\n",
      "wt4Uk    2\n",
      "5ltQ6    2\n",
      "bfPNe    2\n",
      "OishK    1\n",
      "        ..\n",
      "NWHY3    1\n",
      "DTtUt    1\n",
      "i9dGr    1\n",
      "2xws1    1\n",
      "0UKJR    1\n",
      "Name: id, Length: 99996, dtype: int64\n",
      "<class 'pandas.core.frame.DataFrame'>\n",
      "RangeIndex: 100000 entries, 0 to 99999\n",
      "Data columns (total 5 columns):\n",
      " #   Column   Non-Null Count   Dtype  \n",
      "---  ------   --------------   -----  \n",
      " 0   id       100000 non-null  object \n",
      " 1   f0       100000 non-null  float64\n",
      " 2   f1       100000 non-null  float64\n",
      " 3   f2       100000 non-null  float64\n",
      " 4   product  100000 non-null  float64\n",
      "dtypes: float64(4), object(1)\n",
      "memory usage: 3.8+ MB\n"
     ]
    },
    {
     "data": {
      "text/html": [
       "<div>\n",
       "<style scoped>\n",
       "    .dataframe tbody tr th:only-of-type {\n",
       "        vertical-align: middle;\n",
       "    }\n",
       "\n",
       "    .dataframe tbody tr th {\n",
       "        vertical-align: top;\n",
       "    }\n",
       "\n",
       "    .dataframe thead th {\n",
       "        text-align: right;\n",
       "    }\n",
       "</style>\n",
       "<table border=\"1\" class=\"dataframe\">\n",
       "  <thead>\n",
       "    <tr style=\"text-align: right;\">\n",
       "      <th></th>\n",
       "      <th>f0</th>\n",
       "      <th>f1</th>\n",
       "      <th>f2</th>\n",
       "      <th>product</th>\n",
       "    </tr>\n",
       "  </thead>\n",
       "  <tbody>\n",
       "    <tr>\n",
       "      <th>count</th>\n",
       "      <td>100000.000000</td>\n",
       "      <td>100000.000000</td>\n",
       "      <td>100000.000000</td>\n",
       "      <td>100000.000000</td>\n",
       "    </tr>\n",
       "    <tr>\n",
       "      <th>mean</th>\n",
       "      <td>1.141296</td>\n",
       "      <td>-4.796579</td>\n",
       "      <td>2.494541</td>\n",
       "      <td>68.825000</td>\n",
       "    </tr>\n",
       "    <tr>\n",
       "      <th>std</th>\n",
       "      <td>8.965932</td>\n",
       "      <td>5.119872</td>\n",
       "      <td>1.703572</td>\n",
       "      <td>45.944423</td>\n",
       "    </tr>\n",
       "    <tr>\n",
       "      <th>min</th>\n",
       "      <td>-31.609576</td>\n",
       "      <td>-26.358598</td>\n",
       "      <td>-0.018144</td>\n",
       "      <td>0.000000</td>\n",
       "    </tr>\n",
       "    <tr>\n",
       "      <th>25%</th>\n",
       "      <td>-6.298551</td>\n",
       "      <td>-8.267985</td>\n",
       "      <td>1.000021</td>\n",
       "      <td>26.953261</td>\n",
       "    </tr>\n",
       "    <tr>\n",
       "      <th>50%</th>\n",
       "      <td>1.153055</td>\n",
       "      <td>-4.813172</td>\n",
       "      <td>2.011479</td>\n",
       "      <td>57.085625</td>\n",
       "    </tr>\n",
       "    <tr>\n",
       "      <th>75%</th>\n",
       "      <td>8.621015</td>\n",
       "      <td>-1.332816</td>\n",
       "      <td>3.999904</td>\n",
       "      <td>107.813044</td>\n",
       "    </tr>\n",
       "    <tr>\n",
       "      <th>max</th>\n",
       "      <td>29.421755</td>\n",
       "      <td>18.734063</td>\n",
       "      <td>5.019721</td>\n",
       "      <td>137.945408</td>\n",
       "    </tr>\n",
       "  </tbody>\n",
       "</table>\n",
       "</div>"
      ],
      "text/plain": [
       "                  f0             f1             f2        product\n",
       "count  100000.000000  100000.000000  100000.000000  100000.000000\n",
       "mean        1.141296      -4.796579       2.494541      68.825000\n",
       "std         8.965932       5.119872       1.703572      45.944423\n",
       "min       -31.609576     -26.358598      -0.018144       0.000000\n",
       "25%        -6.298551      -8.267985       1.000021      26.953261\n",
       "50%         1.153055      -4.813172       2.011479      57.085625\n",
       "75%         8.621015      -1.332816       3.999904     107.813044\n",
       "max        29.421755      18.734063       5.019721     137.945408"
      ]
     },
     "metadata": {},
     "output_type": "display_data"
    },
    {
     "name": "stdout",
     "output_type": "stream",
     "text": [
      "\n",
      "Количество полных дубликатов равно 0\n"
     ]
    },
    {
     "data": {
      "text/html": [
       "<div>\n",
       "<style scoped>\n",
       "    .dataframe tbody tr th:only-of-type {\n",
       "        vertical-align: middle;\n",
       "    }\n",
       "\n",
       "    .dataframe tbody tr th {\n",
       "        vertical-align: top;\n",
       "    }\n",
       "\n",
       "    .dataframe thead th {\n",
       "        text-align: right;\n",
       "    }\n",
       "</style>\n",
       "<table border=\"1\" class=\"dataframe\">\n",
       "  <thead>\n",
       "    <tr style=\"text-align: right;\">\n",
       "      <th></th>\n",
       "      <th>id</th>\n",
       "      <th>f0</th>\n",
       "      <th>f1</th>\n",
       "      <th>f2</th>\n",
       "      <th>product</th>\n",
       "    </tr>\n",
       "  </thead>\n",
       "  <tbody>\n",
       "    <tr>\n",
       "      <th>0</th>\n",
       "      <td>fwXo0</td>\n",
       "      <td>-1.146987</td>\n",
       "      <td>0.963328</td>\n",
       "      <td>-0.828965</td>\n",
       "      <td>27.758673</td>\n",
       "    </tr>\n",
       "    <tr>\n",
       "      <th>1</th>\n",
       "      <td>WJtFt</td>\n",
       "      <td>0.262778</td>\n",
       "      <td>0.269839</td>\n",
       "      <td>-2.530187</td>\n",
       "      <td>56.069697</td>\n",
       "    </tr>\n",
       "    <tr>\n",
       "      <th>2</th>\n",
       "      <td>ovLUW</td>\n",
       "      <td>0.194587</td>\n",
       "      <td>0.289035</td>\n",
       "      <td>-5.586433</td>\n",
       "      <td>62.871910</td>\n",
       "    </tr>\n",
       "    <tr>\n",
       "      <th>3</th>\n",
       "      <td>q6cA6</td>\n",
       "      <td>2.236060</td>\n",
       "      <td>-0.553760</td>\n",
       "      <td>0.930038</td>\n",
       "      <td>114.572842</td>\n",
       "    </tr>\n",
       "    <tr>\n",
       "      <th>4</th>\n",
       "      <td>WPMUX</td>\n",
       "      <td>-0.515993</td>\n",
       "      <td>1.716266</td>\n",
       "      <td>5.899011</td>\n",
       "      <td>149.600746</td>\n",
       "    </tr>\n",
       "    <tr>\n",
       "      <th>...</th>\n",
       "      <td>...</td>\n",
       "      <td>...</td>\n",
       "      <td>...</td>\n",
       "      <td>...</td>\n",
       "      <td>...</td>\n",
       "    </tr>\n",
       "    <tr>\n",
       "      <th>99995</th>\n",
       "      <td>4GxBu</td>\n",
       "      <td>-1.777037</td>\n",
       "      <td>1.125220</td>\n",
       "      <td>6.263374</td>\n",
       "      <td>172.327046</td>\n",
       "    </tr>\n",
       "    <tr>\n",
       "      <th>99996</th>\n",
       "      <td>YKFjq</td>\n",
       "      <td>-1.261523</td>\n",
       "      <td>-0.894828</td>\n",
       "      <td>2.524545</td>\n",
       "      <td>138.748846</td>\n",
       "    </tr>\n",
       "    <tr>\n",
       "      <th>99997</th>\n",
       "      <td>tKPY3</td>\n",
       "      <td>-1.199934</td>\n",
       "      <td>-2.957637</td>\n",
       "      <td>5.219411</td>\n",
       "      <td>157.080080</td>\n",
       "    </tr>\n",
       "    <tr>\n",
       "      <th>99998</th>\n",
       "      <td>nmxp2</td>\n",
       "      <td>-2.419896</td>\n",
       "      <td>2.417221</td>\n",
       "      <td>-5.548444</td>\n",
       "      <td>51.795253</td>\n",
       "    </tr>\n",
       "    <tr>\n",
       "      <th>99999</th>\n",
       "      <td>V9kWn</td>\n",
       "      <td>-2.551421</td>\n",
       "      <td>-2.025625</td>\n",
       "      <td>6.090891</td>\n",
       "      <td>102.775767</td>\n",
       "    </tr>\n",
       "  </tbody>\n",
       "</table>\n",
       "<p>100000 rows × 5 columns</p>\n",
       "</div>"
      ],
      "text/plain": [
       "          id        f0        f1        f2     product\n",
       "0      fwXo0 -1.146987  0.963328 -0.828965   27.758673\n",
       "1      WJtFt  0.262778  0.269839 -2.530187   56.069697\n",
       "2      ovLUW  0.194587  0.289035 -5.586433   62.871910\n",
       "3      q6cA6  2.236060 -0.553760  0.930038  114.572842\n",
       "4      WPMUX -0.515993  1.716266  5.899011  149.600746\n",
       "...      ...       ...       ...       ...         ...\n",
       "99995  4GxBu -1.777037  1.125220  6.263374  172.327046\n",
       "99996  YKFjq -1.261523 -0.894828  2.524545  138.748846\n",
       "99997  tKPY3 -1.199934 -2.957637  5.219411  157.080080\n",
       "99998  nmxp2 -2.419896  2.417221 -5.548444   51.795253\n",
       "99999  V9kWn -2.551421 -2.025625  6.090891  102.775767\n",
       "\n",
       "[100000 rows x 5 columns]"
      ]
     },
     "metadata": {},
     "output_type": "display_data"
    },
    {
     "name": "stdout",
     "output_type": "stream",
     "text": [
      "xCHr8    2\n",
      "VF7Jo    2\n",
      "KUPhW    2\n",
      "Vcm5J    2\n",
      "cwcvm    1\n",
      "        ..\n",
      "bOrSf    1\n",
      "vNRep    1\n",
      "ItSSc    1\n",
      "l99oH    1\n",
      "7Rnvm    1\n",
      "Name: id, Length: 99996, dtype: int64\n",
      "<class 'pandas.core.frame.DataFrame'>\n",
      "RangeIndex: 100000 entries, 0 to 99999\n",
      "Data columns (total 5 columns):\n",
      " #   Column   Non-Null Count   Dtype  \n",
      "---  ------   --------------   -----  \n",
      " 0   id       100000 non-null  object \n",
      " 1   f0       100000 non-null  float64\n",
      " 2   f1       100000 non-null  float64\n",
      " 3   f2       100000 non-null  float64\n",
      " 4   product  100000 non-null  float64\n",
      "dtypes: float64(4), object(1)\n",
      "memory usage: 3.8+ MB\n"
     ]
    },
    {
     "data": {
      "text/html": [
       "<div>\n",
       "<style scoped>\n",
       "    .dataframe tbody tr th:only-of-type {\n",
       "        vertical-align: middle;\n",
       "    }\n",
       "\n",
       "    .dataframe tbody tr th {\n",
       "        vertical-align: top;\n",
       "    }\n",
       "\n",
       "    .dataframe thead th {\n",
       "        text-align: right;\n",
       "    }\n",
       "</style>\n",
       "<table border=\"1\" class=\"dataframe\">\n",
       "  <thead>\n",
       "    <tr style=\"text-align: right;\">\n",
       "      <th></th>\n",
       "      <th>f0</th>\n",
       "      <th>f1</th>\n",
       "      <th>f2</th>\n",
       "      <th>product</th>\n",
       "    </tr>\n",
       "  </thead>\n",
       "  <tbody>\n",
       "    <tr>\n",
       "      <th>count</th>\n",
       "      <td>100000.000000</td>\n",
       "      <td>100000.000000</td>\n",
       "      <td>100000.000000</td>\n",
       "      <td>100000.000000</td>\n",
       "    </tr>\n",
       "    <tr>\n",
       "      <th>mean</th>\n",
       "      <td>0.002023</td>\n",
       "      <td>-0.002081</td>\n",
       "      <td>2.495128</td>\n",
       "      <td>95.000000</td>\n",
       "    </tr>\n",
       "    <tr>\n",
       "      <th>std</th>\n",
       "      <td>1.732045</td>\n",
       "      <td>1.730417</td>\n",
       "      <td>3.473445</td>\n",
       "      <td>44.749921</td>\n",
       "    </tr>\n",
       "    <tr>\n",
       "      <th>min</th>\n",
       "      <td>-8.760004</td>\n",
       "      <td>-7.084020</td>\n",
       "      <td>-11.970335</td>\n",
       "      <td>0.000000</td>\n",
       "    </tr>\n",
       "    <tr>\n",
       "      <th>25%</th>\n",
       "      <td>-1.162288</td>\n",
       "      <td>-1.174820</td>\n",
       "      <td>0.130359</td>\n",
       "      <td>59.450441</td>\n",
       "    </tr>\n",
       "    <tr>\n",
       "      <th>50%</th>\n",
       "      <td>0.009424</td>\n",
       "      <td>-0.009482</td>\n",
       "      <td>2.484236</td>\n",
       "      <td>94.925613</td>\n",
       "    </tr>\n",
       "    <tr>\n",
       "      <th>75%</th>\n",
       "      <td>1.158535</td>\n",
       "      <td>1.163678</td>\n",
       "      <td>4.858794</td>\n",
       "      <td>130.595027</td>\n",
       "    </tr>\n",
       "    <tr>\n",
       "      <th>max</th>\n",
       "      <td>7.238262</td>\n",
       "      <td>7.844801</td>\n",
       "      <td>16.739402</td>\n",
       "      <td>190.029838</td>\n",
       "    </tr>\n",
       "  </tbody>\n",
       "</table>\n",
       "</div>"
      ],
      "text/plain": [
       "                  f0             f1             f2        product\n",
       "count  100000.000000  100000.000000  100000.000000  100000.000000\n",
       "mean        0.002023      -0.002081       2.495128      95.000000\n",
       "std         1.732045       1.730417       3.473445      44.749921\n",
       "min        -8.760004      -7.084020     -11.970335       0.000000\n",
       "25%        -1.162288      -1.174820       0.130359      59.450441\n",
       "50%         0.009424      -0.009482       2.484236      94.925613\n",
       "75%         1.158535       1.163678       4.858794     130.595027\n",
       "max         7.238262       7.844801      16.739402     190.029838"
      ]
     },
     "metadata": {},
     "output_type": "display_data"
    },
    {
     "name": "stdout",
     "output_type": "stream",
     "text": [
      "\n",
      "Количество полных дубликатов равно 0\n"
     ]
    }
   ],
   "source": [
    "# Импортируем все библиотеки и модули необходимые для выполнения проекта.\n",
    "import pandas as pd\n",
    "import numpy as np\n",
    "from IPython.display import display\n",
    "from scipy.stats import t\n",
    "from scipy import stats\n",
    "from sklearn.preprocessing import StandardScaler\n",
    "from sklearn.model_selection import train_test_split\n",
    "from sklearn.linear_model import LinearRegression\n",
    "from sklearn.metrics import mean_squared_error, r2_score, mean_absolute_error\n",
    "\n",
    "# Прочитаем датасеты.\n",
    "data_0 = pd.read_csv('/datasets/geo_data_0.csv')\n",
    "data_1 = pd.read_csv('/datasets/geo_data_1.csv')\n",
    "data_2 = pd.read_csv('/datasets/geo_data_2.csv')\n",
    "# Изучим датасеты.\n",
    "for table in [data_0, data_1, data_2]:\n",
    "    display(table)\n",
    "    print(table['id'].value_counts())\n",
    "    table.info()\n",
    "    display(table.describe())\n",
    "    print()\n",
    "    print('Количество полных дубликатов равно', table.duplicated().sum())"
   ]
  },
  {
   "cell_type": "code",
   "execution_count": 2,
   "metadata": {},
   "outputs": [],
   "source": [
    "# Подготовим целевой и остальные признаки для каждого датасета.\n",
    "# Напишем функцию split, которая разделит признаки датасетов.\n",
    "def split(data):\n",
    "    features = data.drop(['id','product'], axis=1)\n",
    "    target = data['product']\n",
    "    return features, target\n",
    "\n",
    "features_0, target_0 = split(data_0)\n",
    "features_1, target_1 = split(data_1)\n",
    "features_2, target_2 = split(data_2)"
   ]
  },
  {
   "cell_type": "markdown",
   "metadata": {},
   "source": [
    "### Вывод"
   ]
  },
  {
   "cell_type": "markdown",
   "metadata": {},
   "source": [
    "Нами была проведена работа по загрузке, изучению и подготовке данных.  \n",
    "  \n",
    "  **Загрузка и изучение:**  \n",
    "  В таблицах пропусков нет. Данные имеют корректные форматы. В столбце *id* имеются дубликаты, но их наличие оправдано.  \n",
    "  \n",
    "**Подготовка:**  \n",
    "Определен целевой признак. Это объем запасов в скважине — столбец *product*. Для каждого датасета подготовлены наборы целевого и остальных признаков."
   ]
  },
  {
   "cell_type": "markdown",
   "metadata": {},
   "source": [
    "## Обучение и проверка модели"
   ]
  },
  {
   "cell_type": "code",
   "execution_count": 3,
   "metadata": {},
   "outputs": [],
   "source": [
    "# Напишем функцию, которая будет делить наши выборки на тренировочный \n",
    "# и валидационный наборы, а также отображать их размеры.\n",
    "def test_split_shape(features, target):\n",
    "    features_train, features_valid, target_train, target_valid = train_test_split(\n",
    "    features, \n",
    "    target, \n",
    "    test_size=0.25, \n",
    "    random_state=12345\n",
    "    )\n",
    "    print('Размер изначальной выборки features составляет', \n",
    "          features.shape)\n",
    "    print('Размер тренировочной выборки features составляет', \n",
    "          features_train.shape)\n",
    "    print('Размер валидационной выборки features составляет', \n",
    "          features_valid.shape)\n",
    "    print('Размер изначальной выборки target составляет', \n",
    "          target.shape)\n",
    "    print('Размер тренировочной выборки target составляет', \n",
    "          target_train.shape)\n",
    "    print('Размер валидационной выборки target составляет', \n",
    "          target_valid.shape)\n",
    "    return features_train, features_valid, target_train, target_valid"
   ]
  },
  {
   "cell_type": "code",
   "execution_count": 4,
   "metadata": {},
   "outputs": [
    {
     "name": "stdout",
     "output_type": "stream",
     "text": [
      "Размер изначальной выборки features составляет (100000, 3)\n",
      "Размер тренировочной выборки features составляет (75000, 3)\n",
      "Размер валидационной выборки features составляет (25000, 3)\n",
      "Размер изначальной выборки target составляет (100000,)\n",
      "Размер тренировочной выборки target составляет (75000,)\n",
      "Размер валидационной выборки target составляет (25000,)\n"
     ]
    }
   ],
   "source": [
    "# Разобьем полученные датасеты на тренировочную и валидационную выборки\n",
    "# с помощью нашей функции.\n",
    "# Начнем с первого региона.\n",
    "features_train_0, features_valid_0, target_train_0, target_valid_0 = test_split_shape(\n",
    "    features_0, target_0\n",
    ")"
   ]
  },
  {
   "cell_type": "code",
   "execution_count": 5,
   "metadata": {},
   "outputs": [
    {
     "name": "stdout",
     "output_type": "stream",
     "text": [
      "Размер изначальной выборки features составляет (100000, 3)\n",
      "Размер тренировочной выборки features составляет (75000, 3)\n",
      "Размер валидационной выборки features составляет (25000, 3)\n",
      "Размер изначальной выборки target составляет (100000,)\n",
      "Размер тренировочной выборки target составляет (75000,)\n",
      "Размер валидационной выборки target составляет (25000,)\n"
     ]
    }
   ],
   "source": [
    "# Теперь второй регион.\n",
    "features_train_1, features_valid_1, target_train_1, target_valid_1 = test_split_shape(\n",
    "    features_1, target_1\n",
    ")"
   ]
  },
  {
   "cell_type": "code",
   "execution_count": 6,
   "metadata": {},
   "outputs": [
    {
     "name": "stdout",
     "output_type": "stream",
     "text": [
      "Размер изначальной выборки features составляет (100000, 3)\n",
      "Размер тренировочной выборки features составляет (75000, 3)\n",
      "Размер валидационной выборки features составляет (25000, 3)\n",
      "Размер изначальной выборки target составляет (100000,)\n",
      "Размер тренировочной выборки target составляет (75000,)\n",
      "Размер валидационной выборки target составляет (25000,)\n"
     ]
    }
   ],
   "source": [
    "# Теперь третий регион.\n",
    "features_train_2, features_valid_2, target_train_2, target_valid_2 = test_split_shape(\n",
    "    features_2, target_2\n",
    ")"
   ]
  },
  {
   "cell_type": "code",
   "execution_count": 7,
   "metadata": {},
   "outputs": [],
   "source": [
    "# Напишем функцию, которая будет создавать математическую модель\n",
    "# линейной регрессии, обучать её и делать предсказания.\n",
    "# Также включим в функцию отображение основных метрик.\n",
    "def ml(feat_train, target_train, feat_valid, target_valid):\n",
    "    model = LinearRegression()\n",
    "    model.fit(feat_train, target_train)\n",
    "    predictions = pd.Series(\n",
    "    model.predict(feat_valid), \n",
    "    index=target_valid.index\n",
    "    )\n",
    "    # Посчитаем метрики MSE, RMSE, R2, MAE, \n",
    "    # а также средний запас предсказанного сырья.\n",
    "    mse = mean_squared_error(target_valid, predictions)\n",
    "    print('MSE нашей модели =', mse)\n",
    "    print('RMSE нашей модели =', mse ** 0.5)\n",
    "    print('R2 =', r2_score(target_valid, predictions))\n",
    "    print('MAE =', mean_absolute_error(target_valid, predictions))\n",
    "    print('Средний запас предсказанного сырья составил', \n",
    "          predictions.mean(), 'тыс. баррелей')\n",
    "    return predictions"
   ]
  },
  {
   "cell_type": "code",
   "execution_count": 8,
   "metadata": {},
   "outputs": [
    {
     "name": "stdout",
     "output_type": "stream",
     "text": [
      "MSE нашей модели = 1412.2129364399243\n",
      "RMSE нашей модели = 37.5794217150813\n",
      "R2 = 0.27994321524487786\n",
      "MAE = 30.919600777151313\n",
      "Средний запас предсказанного сырья составил 92.59256778438035 тыс. баррелей\n"
     ]
    }
   ],
   "source": [
    "# Создадим модель, сделаем предсказания и посчитаем метрики.\n",
    "# Начнем с первого региона.\n",
    "# Для будущих расчетов сохраним предсказания в отдельную переменную.\n",
    "predictions_0 = ml(\n",
    "    features_train_0, \n",
    "    target_train_0, \n",
    "    features_valid_0, \n",
    "    target_valid_0\n",
    ")"
   ]
  },
  {
   "cell_type": "code",
   "execution_count": 9,
   "metadata": {},
   "outputs": [
    {
     "name": "stdout",
     "output_type": "stream",
     "text": [
      "MSE нашей модели = 0.7976263360391157\n",
      "RMSE нашей модели = 0.893099286775617\n",
      "R2 = 0.9996233978805127\n",
      "MAE = 0.7187662442124758\n",
      "Средний запас предсказанного сырья составил 68.728546895446 тыс. баррелей\n"
     ]
    }
   ],
   "source": [
    "# Теперь второй регион.\n",
    "# Для будущих расчетов сохраним предсказания в отдельную переменную.\n",
    "predictions_1 = ml(\n",
    "    features_train_1, \n",
    "    target_train_1, \n",
    "    features_valid_1, \n",
    "    target_valid_1\n",
    ")"
   ]
  },
  {
   "cell_type": "code",
   "execution_count": 10,
   "metadata": {},
   "outputs": [
    {
     "name": "stdout",
     "output_type": "stream",
     "text": [
      "MSE нашей модели = 1602.3775813236196\n",
      "RMSE нашей модели = 40.02970873393434\n",
      "R2 = 0.20524758386040443\n",
      "MAE = 32.792652105481814\n",
      "Средний запас предсказанного сырья составил 94.96504596800489 тыс. баррелей\n"
     ]
    }
   ],
   "source": [
    "# И теперь третий регион.\n",
    "# Для будущих расчетов сохраним предсказания в отдельную переменную.\n",
    "predictions_2 = ml(\n",
    "    features_train_2, \n",
    "    target_train_2, \n",
    "    features_valid_2, \n",
    "    target_valid_2\n",
    ")"
   ]
  },
  {
   "cell_type": "markdown",
   "metadata": {},
   "source": [
    "### Вывод"
   ]
  },
  {
   "cell_type": "markdown",
   "metadata": {},
   "source": [
    "Мы разделили выборки `features` и `target` каждого региона на тренировочную и валидационную в соотношении 3:1. Выборкам были присвоены следующие переменные:  \n",
    "1. *Первый регион:*  \n",
    "   `features_train_0`  \n",
    "   `target_train_0`  \n",
    "   `features_valid_0`  \n",
    "   `target_valid_0` \n",
    "2. *Второй регион:*  \n",
    "   `features_train_1`  \n",
    "   `target_train_1`  \n",
    "   `features_valid_1`  \n",
    "   `target_valid_1`\n",
    "3. *Третий регион:*  \n",
    "   `features_train_2`  \n",
    "   `target_train_2`  \n",
    "   `features_valid_2`  \n",
    "   `target_valid_2` "
   ]
  },
  {
   "cell_type": "markdown",
   "metadata": {},
   "source": [
    "Мы создали модель линейной регрессии к каждому региону, и обучили её.  \n",
    "Предсказания и правильные ответы для первого региона сохранены в переменных `predictions_0` и `target_valid_0` соответственно. Для второго и третьего регионов созданы переменные с аналогичным имененем, только вместо 0 указаны 1 и 2 соответственно."
   ]
  },
  {
   "cell_type": "markdown",
   "metadata": {},
   "source": [
    "Наивысшее качество показала модель во втором регионе. Метрика RMSE для неё составила 0,893 тыс. баррелей, а метрика R2 — 0,999.  \n",
    "Модель можно назвать практически идеальной.  \n",
    "**Самый большой средний предсказанный запас зафиксирован в третьем регионе. Он составил 94,965 тыс. баррелей. Правда стоит отметить, что качество этой модели худшее из трёх. Продолжим наши расчеты.**"
   ]
  },
  {
   "cell_type": "markdown",
   "metadata": {},
   "source": [
    "## Подготовка к расчёту прибыли"
   ]
  },
  {
   "cell_type": "code",
   "execution_count": 11,
   "metadata": {},
   "outputs": [],
   "source": [
    "# Создадим для каждого региона константы, \n",
    "# содержащие в себе константы для предсказаний.\n",
    "PREDICTED_0 = predictions_0\n",
    "PREDICTED_1 = predictions_1\n",
    "PREDICTED_2 = predictions_2\n",
    "# Также создадим константы для целевых показателей.\n",
    "TARGET_0 = target_valid_0\n",
    "TARGET_1 = target_valid_1\n",
    "TARGET_2 = target_valid_2"
   ]
  },
  {
   "cell_type": "markdown",
   "metadata": {},
   "source": [
    "Создадим константы для расчета достаточного объема запасов скважины для безубыточной разработки: \n",
    "* EXPLORED_WELLS — количество исследуемых точек в регионе\n",
    "* BEST_WELLS — количество лучших отобранных точек в регионе\n",
    "* WELL_DEVELOP_BUDGET — бюджет на разработку скважин в регионе. Указан в тыс. млн\n",
    "* BARREL_INCOME — доход с каждой единицы продукта. Указан в тыс. рублей"
   ]
  },
  {
   "cell_type": "code",
   "execution_count": 12,
   "metadata": {},
   "outputs": [],
   "source": [
    "EXPLORED_WELLS = 500\n",
    "BEST_WELLS = 200\n",
    "WELL_DEVELOP_BUDGET = 10_000_000\n",
    "BARREL_INCOME = 450"
   ]
  },
  {
   "cell_type": "code",
   "execution_count": 13,
   "metadata": {},
   "outputs": [
    {
     "name": "stdout",
     "output_type": "stream",
     "text": [
      "Минимальное количество продукта в месторождениях,достаточное для безубыточной разработки скважины составляет 111 тыс. баррелей\n"
     ]
    },
    {
     "data": {
      "text/html": [
       "<div>\n",
       "<style scoped>\n",
       "    .dataframe tbody tr th:only-of-type {\n",
       "        vertical-align: middle;\n",
       "    }\n",
       "\n",
       "    .dataframe tbody tr th {\n",
       "        vertical-align: top;\n",
       "    }\n",
       "\n",
       "    .dataframe thead th {\n",
       "        text-align: right;\n",
       "    }\n",
       "</style>\n",
       "<table border=\"1\" class=\"dataframe\">\n",
       "  <thead>\n",
       "    <tr style=\"text-align: right;\">\n",
       "      <th></th>\n",
       "      <th>Средний предсказанный запас</th>\n",
       "    </tr>\n",
       "    <tr>\n",
       "      <th>Регион</th>\n",
       "      <th></th>\n",
       "    </tr>\n",
       "  </thead>\n",
       "  <tbody>\n",
       "    <tr>\n",
       "      <th>1</th>\n",
       "      <td>92.592568</td>\n",
       "    </tr>\n",
       "    <tr>\n",
       "      <th>2</th>\n",
       "      <td>68.728547</td>\n",
       "    </tr>\n",
       "    <tr>\n",
       "      <th>3</th>\n",
       "      <td>94.965046</td>\n",
       "    </tr>\n",
       "  </tbody>\n",
       "</table>\n",
       "</div>"
      ],
      "text/plain": [
       "        Средний предсказанный запас\n",
       "Регион                             \n",
       "1                         92.592568\n",
       "2                         68.728547\n",
       "3                         94.965046"
      ]
     },
     "metadata": {},
     "output_type": "display_data"
    }
   ],
   "source": [
    "# Посчитаем минимальное среднее количество продукта в месторождениях региона, \n",
    "# достаточное для безубыточной разработки скважины.\n",
    "MIN_BREAK_EVEN_RESERVE = WELL_DEVELOP_BUDGET / BEST_WELLS / BARREL_INCOME\n",
    "print('Минимальное количество продукта в месторождениях,'\n",
    "    'достаточное для безубыточной разработки скважины составляет', \n",
    "      round(MIN_BREAK_EVEN_RESERVE), 'тыс. баррелей')\n",
    "numbers = [\n",
    "    PREDICTED_0.mean(), \n",
    "    PREDICTED_1.mean(), \n",
    "    PREDICTED_2.mean()\n",
    "]\n",
    "average_reserves = pd.DataFrame(\n",
    "    data = numbers, \n",
    "    columns = ['Средний предсказанный запас'], \n",
    "    index = [1,2,3]\n",
    ")\n",
    "average_reserves.index.name = 'Регион'\n",
    "display(average_reserves)"
   ]
  },
  {
   "cell_type": "markdown",
   "metadata": {},
   "source": [
    "### Вывод"
   ]
  },
  {
   "cell_type": "markdown",
   "metadata": {},
   "source": [
    "Мы рассчитали минимальное количество продукта в месторождениях, достаточное для безубыточной разработки скважины.  \n",
    "Оно составило **111 тыс. баррелей.**  \n",
    "Ближе всего к этому показателю близок 3 регион. Его средний предсказанный запас составил 95 тыс. баррелей.  \n",
    "Средний предсказанный запас первого региона составил 93 тыс. баррелей.  \n",
    "Средний предсказанный запас второго региона составил 69 тыс. баррелей.  "
   ]
  },
  {
   "cell_type": "markdown",
   "metadata": {},
   "source": [
    "## Расчёт прибыли и рисков "
   ]
  },
  {
   "cell_type": "code",
   "execution_count": 14,
   "metadata": {},
   "outputs": [
    {
     "name": "stdout",
     "output_type": "stream",
     "text": [
      "Прибыль 200 лучших точек по целевому признаку в первом регионе составляет 3320826 тыс. руб\n",
      "Прибыль 200 лучших точек по целевому признаку во втором регионе составляет 2415087 тыс. руб\n",
      "Прибыль 200 лучших точек по целевому признаку в третьем регионе составляет 2710350 тыс. руб\n"
     ]
    }
   ],
   "source": [
    "# Напишем функцию для расчета прибыли.\n",
    "def profit(predictions, target, count):\n",
    "    sorted_predictions = predictions.sort_values(ascending=False)\n",
    "    sorted_target = target[sorted_predictions.index][:count]\n",
    "    sorted_target_total = sorted_target.sum()\n",
    "    result = sorted_target_total * BARREL_INCOME - WELL_DEVELOP_BUDGET\n",
    "    return result\n",
    "\n",
    "# Проверим работу функции и посчитаем прибыль по целевым параметрам \n",
    "# 200 лучших точек в каждом регионе.\n",
    "print('Прибыль 200 лучших точек по целевому признаку в первом регионе составляет', \n",
    "      round(profit(PREDICTED_0, TARGET_0, 200)), 'тыс. руб')\n",
    "print('Прибыль 200 лучших точек по целевому признаку во втором регионе составляет', \n",
    "      round(profit(PREDICTED_1, TARGET_1, 200)), 'тыс. руб')\n",
    "print('Прибыль 200 лучших точек по целевому признаку в третьем регионе составляет', \n",
    "      round(profit(PREDICTED_2, TARGET_2, 200)), 'тыс. руб')"
   ]
  },
  {
   "cell_type": "code",
   "execution_count": 15,
   "metadata": {},
   "outputs": [],
   "source": [
    "# Напишем функцию для применения техники bootstrap.\n",
    "def bootstrap(predictions, target):\n",
    "    state = np.random.RandomState(12345)\n",
    "    values = []\n",
    "    # При разведке региона используют 500 точек. n=500.\n",
    "    for i in range(1000):\n",
    "        predict_subsample = predictions.sample(\n",
    "        n=500, \n",
    "        replace=True, \n",
    "        random_state=state\n",
    "        )\n",
    "        target_subsample = target[predict_subsample.index]\n",
    "        values.append(profit(predict_subsample, target_subsample, 200))\n",
    "    values = pd.Series(values)\n",
    "    # Найдем среднюю прибыль.\n",
    "    mean_value = values.mean()\n",
    "    print('Средняя прибыль в регионе составляет', \n",
    "          round(mean_value), 'тыс. руб.')\n",
    "    # Найдем 95 %-доверительный интервал.\n",
    "    lower = values.quantile(0.025)\n",
    "    upper = values.quantile(0.975)\n",
    "    print('95%-ый доверительный интервал:', 'от', \n",
    "          round(lower), 'до', round(upper))\n",
    "    # Посчитаем как часто в этом регионе встречаются убыточные точки.\n",
    "    risk = stats.percentileofscore(values, 0)\n",
    "    print('Вероятность убытков в данном регионе составляет', risk, '%')"
   ]
  },
  {
   "cell_type": "code",
   "execution_count": 16,
   "metadata": {},
   "outputs": [
    {
     "name": "stdout",
     "output_type": "stream",
     "text": [
      "Средняя прибыль в регионе составляет 425939 тыс. руб.\n",
      "95%-ый доверительный интервал: от -102090 до 947976\n",
      "Вероятность убытков в данном регионе составляет 6.0 %\n"
     ]
    }
   ],
   "source": [
    "# Посчитаем распределение прибыли методом bootstrap, среднюю прибыль, \n",
    "# 95% доверительный интервал, а также риски убытков.\n",
    "# Начнем с первого региона.\n",
    "bootstrap(PREDICTED_0, TARGET_0)"
   ]
  },
  {
   "cell_type": "code",
   "execution_count": 17,
   "metadata": {},
   "outputs": [
    {
     "name": "stdout",
     "output_type": "stream",
     "text": [
      "Средняя прибыль в регионе составляет 515223 тыс. руб.\n",
      "95%-ый доверительный интервал: от 68873 до 931548\n",
      "Вероятность убытков в данном регионе составляет 1.0 %\n"
     ]
    }
   ],
   "source": [
    "# Теперь второй регион.\n",
    "bootstrap(PREDICTED_1, TARGET_1)"
   ]
  },
  {
   "cell_type": "code",
   "execution_count": 18,
   "metadata": {},
   "outputs": [
    {
     "name": "stdout",
     "output_type": "stream",
     "text": [
      "Средняя прибыль в регионе составляет 435008 тыс. руб.\n",
      "95%-ый доверительный интервал: от -128881 до 969707\n",
      "Вероятность убытков в данном регионе составляет 6.4 %\n"
     ]
    }
   ],
   "source": [
    "# Наконец третий регион.\n",
    "bootstrap(PREDICTED_2, TARGET_2)"
   ]
  },
  {
   "cell_type": "markdown",
   "metadata": {},
   "source": [
    "### Вывод"
   ]
  },
  {
   "cell_type": "markdown",
   "metadata": {},
   "source": [
    "Нами была подготовлена функция расчета прибыли `profit`. Данная функция принимает на вход предсказанный запас месторождения, правильные ответы и требуемое количество месторождений с максимальными запасами.  \n",
    "Данная функция была применена во время расчета средней прибыли методом bootstrap.  \n",
    "Для неё была создана функция `bootstrap`. Функция принимает на вход предсказания и правильные ответы. На выходе функция считает распределение прибыли методом bootstrap, считает среднюю прибыль, 95% доверительный интервал, а также риски убытков.  \n",
    "  \n",
    "  Результаты:  \n",
    "* **Регион № 1**  \n",
    "Средняя прибыль в первом регионе составляет 425939 тыс. руб.  \n",
    "95%-ый доверительный интервал: от -102090 до 947976  \n",
    "Вероятность убытков в данном регионе составляет 6.0 %\n",
    "* **Регион № 2**  \n",
    "Средняя прибыль в первом регионе составляет 515223 тыс. руб.  \n",
    "95%-ый доверительный интервал: от 68873 до 931548 \n",
    "Вероятность убытков в данном регионе составляет 1.0 %\n",
    "* **Регион № 3**  \n",
    "Средняя прибыль в первом регионе составляет 435008 тыс. руб.  \n",
    "95%-ый доверительный интервал: от -128881 до 969707  \n",
    "Вероятность убытков в данном регионе составляет 6.4 %  \n",
    "  \n",
    "Одним из условий проекта является фильтр регионов по вероятности убытков. Нам подойдут только регионы, у которых вероятность убытков менее 2,5 %. Таким регионом является регион № 2. Помимо этого данный регион обладает наибольшей средней прибылью — 515223 тыс. руб.  \n",
    "**Вывод: по результатам проекта мы предлагаем для разработки скважи регион № 2.**"
   ]
  },
  {
   "cell_type": "markdown",
   "metadata": {},
   "source": [
    "## Общий вывод"
   ]
  },
  {
   "cell_type": "markdown",
   "metadata": {},
   "source": [
    "Нами была проведена работа по выбору региона для разработки месторождений. Мы:\n",
    "* Загрузили, прочитали и изучили датасеты по каждому региону  \n",
    "* Подготовили данные для построения моделей. Определили целевой признак, провели масштабирование остальных признаков  \n",
    "* Разбили данные на тренировочную и валидационную выборки для каждого региона. Проверили себя, оценив их размеры\n",
    "* Создали модели линейной регрессии для каждого региона. Сделали предсказания. Посчитали основные метрики.\n",
    "* Отметили, что модель второго региона показала поразительное качество (метрика R2 составила 0,999). А наибольший средний предсказанный запас показал регион № 3."
   ]
  },
  {
   "cell_type": "code",
   "execution_count": 19,
   "metadata": {},
   "outputs": [
    {
     "data": {
      "text/html": [
       "<div>\n",
       "<style scoped>\n",
       "    .dataframe tbody tr th:only-of-type {\n",
       "        vertical-align: middle;\n",
       "    }\n",
       "\n",
       "    .dataframe tbody tr th {\n",
       "        vertical-align: top;\n",
       "    }\n",
       "\n",
       "    .dataframe thead th {\n",
       "        text-align: right;\n",
       "    }\n",
       "</style>\n",
       "<table border=\"1\" class=\"dataframe\">\n",
       "  <thead>\n",
       "    <tr style=\"text-align: right;\">\n",
       "      <th></th>\n",
       "      <th>Средний предсказанный запас</th>\n",
       "    </tr>\n",
       "    <tr>\n",
       "      <th>Регион</th>\n",
       "      <th></th>\n",
       "    </tr>\n",
       "  </thead>\n",
       "  <tbody>\n",
       "    <tr>\n",
       "      <th>1</th>\n",
       "      <td>92.592568</td>\n",
       "    </tr>\n",
       "    <tr>\n",
       "      <th>2</th>\n",
       "      <td>68.728547</td>\n",
       "    </tr>\n",
       "    <tr>\n",
       "      <th>3</th>\n",
       "      <td>94.965046</td>\n",
       "    </tr>\n",
       "  </tbody>\n",
       "</table>\n",
       "</div>"
      ],
      "text/plain": [
       "        Средний предсказанный запас\n",
       "Регион                             \n",
       "1                         92.592568\n",
       "2                         68.728547\n",
       "3                         94.965046"
      ]
     },
     "metadata": {},
     "output_type": "display_data"
    }
   ],
   "source": [
    "display(average_reserves)"
   ]
  },
  {
   "cell_type": "markdown",
   "metadata": {},
   "source": [
    "* Создали необходимы константы для дальнейшего расчета прибыли и рисков\n",
    "* Рассчитали минимальное количество продукта в месторождениях, достаточное для безубыточной разработки скважины. Оно составило  \n",
    "111 тыс. баррелей. Ближе всего по предсказанным значениям к этому показателю оказался третий регион.\n",
    "* Подготовили функцию расчета прибыли, которую использовали для расчета прибыли методом bootstrap.\n",
    "* Посчитали прибыль, 95 % доверительный интервал и вероятность появления убыточных точек в каждом регионе.  \n",
    "  \n",
    "**По результатам расчетов мы делаем вывод, что для разработки месторождений нужно предложить регион № 2, как регион с самой большой средней прибылью и с самым низким риском убытков.**"
   ]
  }
 ],
 "metadata": {
  "ExecuteTimeLog": [
   {
    "duration": 1722,
    "start_time": "2021-11-06T15:27:49.590Z"
   },
   {
    "duration": 504,
    "start_time": "2021-11-06T15:29:37.502Z"
   },
   {
    "duration": 513,
    "start_time": "2021-11-06T15:30:14.309Z"
   },
   {
    "duration": 562,
    "start_time": "2021-11-06T15:30:51.320Z"
   },
   {
    "duration": 575,
    "start_time": "2021-11-06T15:34:30.137Z"
   },
   {
    "duration": 562,
    "start_time": "2021-11-06T15:34:36.692Z"
   },
   {
    "duration": 546,
    "start_time": "2021-11-06T15:34:43.883Z"
   },
   {
    "duration": 551,
    "start_time": "2021-11-06T15:35:27.698Z"
   },
   {
    "duration": 870,
    "start_time": "2021-11-06T15:35:52.698Z"
   },
   {
    "duration": 753,
    "start_time": "2021-11-06T15:36:11.266Z"
   },
   {
    "duration": 723,
    "start_time": "2021-11-06T15:39:54.048Z"
   },
   {
    "duration": 747,
    "start_time": "2021-11-06T15:40:20.542Z"
   },
   {
    "duration": 1073,
    "start_time": "2021-11-06T15:50:24.261Z"
   },
   {
    "duration": 1205,
    "start_time": "2021-11-06T15:52:01.515Z"
   },
   {
    "duration": 734,
    "start_time": "2021-11-06T15:53:03.818Z"
   },
   {
    "duration": 869,
    "start_time": "2021-11-06T15:53:17.489Z"
   },
   {
    "duration": 949,
    "start_time": "2021-11-06T15:53:29.568Z"
   },
   {
    "duration": 1508,
    "start_time": "2021-11-06T16:40:14.741Z"
   },
   {
    "duration": 1124,
    "start_time": "2021-11-06T16:41:15.852Z"
   },
   {
    "duration": 17,
    "start_time": "2021-11-06T17:02:35.166Z"
   },
   {
    "duration": 21,
    "start_time": "2021-11-06T17:02:49.206Z"
   },
   {
    "duration": 11,
    "start_time": "2021-11-06T17:49:22.505Z"
   },
   {
    "duration": 50,
    "start_time": "2021-11-06T17:52:18.742Z"
   },
   {
    "duration": 34,
    "start_time": "2021-11-06T17:52:46.582Z"
   },
   {
    "duration": 38,
    "start_time": "2021-11-06T17:53:01.606Z"
   },
   {
    "duration": 46,
    "start_time": "2021-11-06T17:53:12.781Z"
   },
   {
    "duration": 51,
    "start_time": "2021-11-06T17:53:46.429Z"
   },
   {
    "duration": 1115,
    "start_time": "2021-11-06T17:54:03.470Z"
   },
   {
    "duration": 50,
    "start_time": "2021-11-06T17:54:07.845Z"
   },
   {
    "duration": 34,
    "start_time": "2021-11-06T17:56:41.146Z"
   },
   {
    "duration": 515,
    "start_time": "2021-11-06T17:57:58.761Z"
   },
   {
    "duration": 11152,
    "start_time": "2021-11-06T17:58:53.784Z"
   },
   {
    "duration": 10625,
    "start_time": "2021-11-06T17:59:26.887Z"
   },
   {
    "duration": 11264,
    "start_time": "2021-11-06T18:00:04.888Z"
   },
   {
    "duration": 9187,
    "start_time": "2021-11-06T18:00:20.031Z"
   },
   {
    "duration": 9289,
    "start_time": "2021-11-06T18:00:29.759Z"
   },
   {
    "duration": 10498,
    "start_time": "2021-11-06T18:00:40.798Z"
   },
   {
    "duration": 50,
    "start_time": "2021-11-06T18:00:56.190Z"
   },
   {
    "duration": 60,
    "start_time": "2021-11-06T18:01:16.262Z"
   },
   {
    "duration": 48,
    "start_time": "2021-11-06T18:02:04.620Z"
   },
   {
    "duration": 54,
    "start_time": "2021-11-06T18:15:23.960Z"
   },
   {
    "duration": 42,
    "start_time": "2021-11-06T18:23:13.145Z"
   },
   {
    "duration": 1116,
    "start_time": "2021-11-06T18:25:05.063Z"
   },
   {
    "duration": 43,
    "start_time": "2021-11-06T18:25:58.085Z"
   },
   {
    "duration": 108,
    "start_time": "2021-11-06T18:26:24.501Z"
   },
   {
    "duration": 83,
    "start_time": "2021-11-06T18:26:33.381Z"
   },
   {
    "duration": 47,
    "start_time": "2021-11-06T18:26:40.061Z"
   },
   {
    "duration": 2599,
    "start_time": "2021-11-07T15:59:16.478Z"
   },
   {
    "duration": 95,
    "start_time": "2021-11-07T15:59:19.079Z"
   },
   {
    "duration": 827,
    "start_time": "2021-11-07T15:59:55.279Z"
   },
   {
    "duration": 34,
    "start_time": "2021-11-07T16:00:04.216Z"
   },
   {
    "duration": 15,
    "start_time": "2021-11-07T16:01:49.606Z"
   },
   {
    "duration": 17,
    "start_time": "2021-11-07T16:05:16.655Z"
   },
   {
    "duration": 16,
    "start_time": "2021-11-07T16:05:54.994Z"
   },
   {
    "duration": 16,
    "start_time": "2021-11-07T16:06:54.641Z"
   },
   {
    "duration": 16,
    "start_time": "2021-11-07T16:07:12.177Z"
   },
   {
    "duration": 17,
    "start_time": "2021-11-07T16:07:29.152Z"
   },
   {
    "duration": 18,
    "start_time": "2021-11-07T16:13:08.203Z"
   },
   {
    "duration": 28,
    "start_time": "2021-11-07T16:14:17.688Z"
   },
   {
    "duration": 31,
    "start_time": "2021-11-07T16:15:25.849Z"
   },
   {
    "duration": 86,
    "start_time": "2021-11-07T16:15:32.630Z"
   },
   {
    "duration": 30,
    "start_time": "2021-11-07T16:15:39.632Z"
   },
   {
    "duration": 30,
    "start_time": "2021-11-07T16:15:43.824Z"
   },
   {
    "duration": 43,
    "start_time": "2021-11-07T16:22:23.504Z"
   },
   {
    "duration": 45,
    "start_time": "2021-11-07T16:25:10.335Z"
   },
   {
    "duration": 816,
    "start_time": "2021-11-07T16:25:53.303Z"
   },
   {
    "duration": 35,
    "start_time": "2021-11-07T16:25:56.694Z"
   },
   {
    "duration": 43,
    "start_time": "2021-11-07T16:25:58.510Z"
   },
   {
    "duration": 12,
    "start_time": "2021-11-07T19:05:06.568Z"
   },
   {
    "duration": 19,
    "start_time": "2021-11-07T19:47:40.504Z"
   },
   {
    "duration": 14,
    "start_time": "2021-11-07T19:47:52.192Z"
   },
   {
    "duration": 17,
    "start_time": "2021-11-07T19:48:12.888Z"
   },
   {
    "duration": 11,
    "start_time": "2021-11-07T19:48:33.783Z"
   },
   {
    "duration": 15,
    "start_time": "2021-11-07T19:58:01.156Z"
   },
   {
    "duration": 16,
    "start_time": "2021-11-07T20:00:18.708Z"
   },
   {
    "duration": 18,
    "start_time": "2021-11-07T20:02:35.257Z"
   },
   {
    "duration": 70,
    "start_time": "2021-11-07T20:04:33.295Z"
   },
   {
    "duration": 790,
    "start_time": "2021-11-07T20:07:34.325Z"
   },
   {
    "duration": 31,
    "start_time": "2021-11-07T20:07:38.317Z"
   },
   {
    "duration": 44,
    "start_time": "2021-11-07T20:07:41.237Z"
   },
   {
    "duration": 17,
    "start_time": "2021-11-07T20:08:49.051Z"
   },
   {
    "duration": 787,
    "start_time": "2021-11-07T20:10:34.211Z"
   },
   {
    "duration": 286,
    "start_time": "2021-11-08T10:26:12.078Z"
   },
   {
    "duration": 1960,
    "start_time": "2021-11-08T10:26:16.911Z"
   },
   {
    "duration": 38,
    "start_time": "2021-11-08T10:26:22.737Z"
   },
   {
    "duration": 45,
    "start_time": "2021-11-08T10:26:25.118Z"
   },
   {
    "duration": 77,
    "start_time": "2021-11-08T10:27:10.168Z"
   },
   {
    "duration": 38,
    "start_time": "2021-11-08T10:27:48.943Z"
   },
   {
    "duration": 16,
    "start_time": "2021-11-08T10:28:24.591Z"
   },
   {
    "duration": 16,
    "start_time": "2021-11-08T10:28:28.030Z"
   },
   {
    "duration": 19,
    "start_time": "2021-11-08T10:28:29.999Z"
   },
   {
    "duration": 19,
    "start_time": "2021-11-08T10:28:38.190Z"
   },
   {
    "duration": 15,
    "start_time": "2021-11-08T10:29:32.742Z"
   },
   {
    "duration": 18,
    "start_time": "2021-11-08T10:30:07.629Z"
   },
   {
    "duration": 18,
    "start_time": "2021-11-08T10:30:18.405Z"
   },
   {
    "duration": 18,
    "start_time": "2021-11-08T10:30:34.228Z"
   },
   {
    "duration": 18,
    "start_time": "2021-11-08T10:31:24.932Z"
   },
   {
    "duration": 17,
    "start_time": "2021-11-08T10:36:09.852Z"
   },
   {
    "duration": 17,
    "start_time": "2021-11-08T10:36:28.359Z"
   },
   {
    "duration": 17,
    "start_time": "2021-11-08T10:36:40.606Z"
   },
   {
    "duration": 475,
    "start_time": "2021-11-08T19:39:48.174Z"
   },
   {
    "duration": 2831,
    "start_time": "2021-11-08T19:39:53.829Z"
   },
   {
    "duration": 51,
    "start_time": "2021-11-08T19:39:56.663Z"
   },
   {
    "duration": 47,
    "start_time": "2021-11-08T19:39:56.717Z"
   },
   {
    "duration": 31,
    "start_time": "2021-11-08T19:39:56.767Z"
   },
   {
    "duration": 60,
    "start_time": "2021-11-08T19:39:56.801Z"
   },
   {
    "duration": 27,
    "start_time": "2021-11-08T19:40:08.075Z"
   },
   {
    "duration": 28,
    "start_time": "2021-11-08T19:40:34.930Z"
   },
   {
    "duration": 69,
    "start_time": "2021-11-08T19:40:52.491Z"
   },
   {
    "duration": 50,
    "start_time": "2021-11-08T19:41:01.713Z"
   },
   {
    "duration": 2585,
    "start_time": "2021-11-10T13:48:26.318Z"
   },
   {
    "duration": 77,
    "start_time": "2021-11-10T13:48:28.907Z"
   },
   {
    "duration": 47,
    "start_time": "2021-11-10T13:48:28.988Z"
   },
   {
    "duration": 30,
    "start_time": "2021-11-10T13:48:29.038Z"
   },
   {
    "duration": 59,
    "start_time": "2021-11-10T13:48:29.071Z"
   },
   {
    "duration": 102,
    "start_time": "2021-11-10T13:48:29.132Z"
   },
   {
    "duration": 199,
    "start_time": "2021-11-10T13:48:29.241Z"
   },
   {
    "duration": 188,
    "start_time": "2021-11-10T13:48:29.443Z"
   },
   {
    "duration": 110,
    "start_time": "2021-11-10T14:37:43.026Z"
   },
   {
    "duration": 213,
    "start_time": "2021-11-10T14:38:12.618Z"
   },
   {
    "duration": 75,
    "start_time": "2021-11-10T14:38:55.754Z"
   },
   {
    "duration": 400,
    "start_time": "2021-11-10T15:04:43.449Z"
   },
   {
    "duration": 7,
    "start_time": "2021-11-10T15:04:45.529Z"
   },
   {
    "duration": 4,
    "start_time": "2021-11-10T15:04:46.953Z"
   },
   {
    "duration": 302,
    "start_time": "2021-11-10T15:09:21.764Z"
   },
   {
    "duration": 281,
    "start_time": "2021-11-10T15:09:27.763Z"
   },
   {
    "duration": 319,
    "start_time": "2021-11-10T15:09:36.156Z"
   },
   {
    "duration": 6,
    "start_time": "2021-11-10T15:09:44.299Z"
   },
   {
    "duration": 273,
    "start_time": "2021-11-10T15:12:09.281Z"
   },
   {
    "duration": 7,
    "start_time": "2021-11-10T15:16:24.837Z"
   },
   {
    "duration": 6,
    "start_time": "2021-11-10T15:16:34.485Z"
   },
   {
    "duration": 6,
    "start_time": "2021-11-10T15:16:55.461Z"
   },
   {
    "duration": 7,
    "start_time": "2021-11-10T15:17:08.052Z"
   },
   {
    "duration": 8,
    "start_time": "2021-11-10T15:17:38.597Z"
   },
   {
    "duration": 15,
    "start_time": "2021-11-10T15:19:43.322Z"
   },
   {
    "duration": 290,
    "start_time": "2021-11-10T15:20:32.081Z"
   },
   {
    "duration": 6,
    "start_time": "2021-11-10T15:20:53.112Z"
   },
   {
    "duration": 6,
    "start_time": "2021-11-10T15:24:01.310Z"
   },
   {
    "duration": 298,
    "start_time": "2021-11-10T15:24:12.534Z"
   },
   {
    "duration": 12,
    "start_time": "2021-11-10T15:24:18.797Z"
   },
   {
    "duration": 369,
    "start_time": "2021-11-10T15:24:47.532Z"
   },
   {
    "duration": 16,
    "start_time": "2021-11-10T15:24:54.718Z"
   },
   {
    "duration": 12,
    "start_time": "2021-11-10T15:25:13.557Z"
   },
   {
    "duration": 13,
    "start_time": "2021-11-10T15:27:25.843Z"
   },
   {
    "duration": 7,
    "start_time": "2021-11-10T16:22:25.946Z"
   },
   {
    "duration": 14,
    "start_time": "2021-11-10T16:22:28.195Z"
   },
   {
    "duration": 13,
    "start_time": "2021-11-10T16:38:33.322Z"
   },
   {
    "duration": 17,
    "start_time": "2021-11-10T16:39:48.594Z"
   },
   {
    "duration": 26,
    "start_time": "2021-11-10T16:40:21.619Z"
   },
   {
    "duration": 35,
    "start_time": "2021-11-10T16:40:50.017Z"
   },
   {
    "duration": 36,
    "start_time": "2021-11-10T16:41:15.929Z"
   },
   {
    "duration": 17,
    "start_time": "2021-11-10T16:42:11.769Z"
   },
   {
    "duration": 246,
    "start_time": "2021-11-10T16:43:53.503Z"
   },
   {
    "duration": 16,
    "start_time": "2021-11-10T16:44:31.854Z"
   },
   {
    "duration": 33,
    "start_time": "2021-11-10T16:44:45.782Z"
   },
   {
    "duration": 23,
    "start_time": "2021-11-10T16:44:52.246Z"
   },
   {
    "duration": 22,
    "start_time": "2021-11-10T16:45:02.165Z"
   },
   {
    "duration": 23,
    "start_time": "2021-11-10T16:45:39.581Z"
   },
   {
    "duration": 23,
    "start_time": "2021-11-10T16:45:49.453Z"
   },
   {
    "duration": 23,
    "start_time": "2021-11-10T16:46:13.654Z"
   },
   {
    "duration": 274,
    "start_time": "2021-11-10T16:50:06.145Z"
   },
   {
    "duration": 7,
    "start_time": "2021-11-10T16:50:09.544Z"
   },
   {
    "duration": 11,
    "start_time": "2021-11-10T16:50:11.326Z"
   },
   {
    "duration": 24,
    "start_time": "2021-11-10T16:50:13.032Z"
   },
   {
    "duration": 2164,
    "start_time": "2021-11-11T12:21:19.220Z"
   },
   {
    "duration": 55,
    "start_time": "2021-11-11T12:21:21.386Z"
   },
   {
    "duration": 16,
    "start_time": "2021-11-11T12:21:21.444Z"
   },
   {
    "duration": 24,
    "start_time": "2021-11-11T12:21:21.462Z"
   },
   {
    "duration": 36,
    "start_time": "2021-11-11T12:21:21.487Z"
   },
   {
    "duration": 182,
    "start_time": "2021-11-11T12:21:21.524Z"
   },
   {
    "duration": 21,
    "start_time": "2021-11-11T12:21:21.708Z"
   },
   {
    "duration": 111,
    "start_time": "2021-11-11T12:21:21.810Z"
   },
   {
    "duration": 8,
    "start_time": "2021-11-11T12:21:22.008Z"
   },
   {
    "duration": 101,
    "start_time": "2021-11-11T12:21:22.019Z"
   },
   {
    "duration": 33,
    "start_time": "2021-11-11T12:21:22.122Z"
   },
   {
    "duration": 866,
    "start_time": "2021-11-11T12:37:11.612Z"
   },
   {
    "duration": 65,
    "start_time": "2021-11-11T12:37:12.480Z"
   },
   {
    "duration": 19,
    "start_time": "2021-11-11T12:37:12.555Z"
   },
   {
    "duration": 33,
    "start_time": "2021-11-11T12:37:12.577Z"
   },
   {
    "duration": 20,
    "start_time": "2021-11-11T12:37:12.612Z"
   },
   {
    "duration": 75,
    "start_time": "2021-11-11T12:37:12.634Z"
   },
   {
    "duration": 108,
    "start_time": "2021-11-11T12:37:12.717Z"
   },
   {
    "duration": 187,
    "start_time": "2021-11-11T12:37:12.828Z"
   },
   {
    "duration": 84,
    "start_time": "2021-11-11T12:37:13.025Z"
   },
   {
    "duration": 11,
    "start_time": "2021-11-11T12:37:13.113Z"
   },
   {
    "duration": 29,
    "start_time": "2021-11-11T12:37:13.126Z"
   },
   {
    "duration": 29,
    "start_time": "2021-11-11T12:50:47.401Z"
   },
   {
    "duration": 22,
    "start_time": "2021-11-11T12:50:49.732Z"
   },
   {
    "duration": 144,
    "start_time": "2021-11-11T13:11:06.557Z"
   },
   {
    "duration": 172,
    "start_time": "2021-11-11T13:11:29.215Z"
   },
   {
    "duration": 117,
    "start_time": "2021-11-11T13:12:01.526Z"
   },
   {
    "duration": -160,
    "start_time": "2021-11-11T13:16:29.933Z"
   },
   {
    "duration": 74624,
    "start_time": "2021-11-11T13:16:42.409Z"
   },
   {
    "duration": 20578,
    "start_time": "2021-11-11T13:18:13.248Z"
   },
   {
    "duration": 296,
    "start_time": "2021-11-11T13:20:56.974Z"
   },
   {
    "duration": 17,
    "start_time": "2021-11-11T13:21:20.101Z"
   },
   {
    "duration": 6,
    "start_time": "2021-11-11T13:21:24.494Z"
   },
   {
    "duration": 6,
    "start_time": "2021-11-11T13:22:08.084Z"
   },
   {
    "duration": 9,
    "start_time": "2021-11-11T13:22:35.412Z"
   },
   {
    "duration": 12,
    "start_time": "2021-11-11T13:23:07.276Z"
   },
   {
    "duration": 3286,
    "start_time": "2021-11-11T13:23:50.491Z"
   },
   {
    "duration": 3508,
    "start_time": "2021-11-11T13:24:57.274Z"
   },
   {
    "duration": 122,
    "start_time": "2021-11-11T13:25:15.969Z"
   },
   {
    "duration": 3324,
    "start_time": "2021-11-11T13:25:26.393Z"
   },
   {
    "duration": 3304,
    "start_time": "2021-11-11T13:29:22.414Z"
   },
   {
    "duration": 3272,
    "start_time": "2021-11-11T13:32:11.115Z"
   },
   {
    "duration": 3522,
    "start_time": "2021-11-11T13:34:53.688Z"
   },
   {
    "duration": 3229,
    "start_time": "2021-11-11T13:38:29.150Z"
   },
   {
    "duration": 3398,
    "start_time": "2021-11-11T13:39:09.829Z"
   },
   {
    "duration": 142,
    "start_time": "2021-11-11T13:47:36.772Z"
   },
   {
    "duration": 3335,
    "start_time": "2021-11-11T13:47:39.948Z"
   },
   {
    "duration": 3443,
    "start_time": "2021-11-11T13:47:59.547Z"
   },
   {
    "duration": 3304,
    "start_time": "2021-11-11T13:48:12.363Z"
   },
   {
    "duration": 396,
    "start_time": "2021-11-11T13:52:55.262Z"
   },
   {
    "duration": 3240,
    "start_time": "2021-11-11T13:53:08.750Z"
   },
   {
    "duration": 3524,
    "start_time": "2021-11-11T13:53:34.173Z"
   },
   {
    "duration": 3346,
    "start_time": "2021-11-11T13:53:56.925Z"
   },
   {
    "duration": 3263,
    "start_time": "2021-11-11T13:54:31.405Z"
   },
   {
    "duration": 3307,
    "start_time": "2021-11-11T13:55:27.716Z"
   },
   {
    "duration": 3322,
    "start_time": "2021-11-11T13:55:58.044Z"
   },
   {
    "duration": 3335,
    "start_time": "2021-11-11T13:56:18.402Z"
   },
   {
    "duration": 3495,
    "start_time": "2021-11-11T13:56:27.562Z"
   },
   {
    "duration": 3376,
    "start_time": "2021-11-11T13:57:52.657Z"
   },
   {
    "duration": 3320,
    "start_time": "2021-11-11T14:00:52.126Z"
   },
   {
    "duration": 3510,
    "start_time": "2021-11-11T14:00:55.448Z"
   },
   {
    "duration": 22,
    "start_time": "2021-11-11T14:05:14.914Z"
   },
   {
    "duration": 3318,
    "start_time": "2021-11-11T14:05:37.282Z"
   },
   {
    "duration": 3539,
    "start_time": "2021-11-11T14:05:59.945Z"
   },
   {
    "duration": 3321,
    "start_time": "2021-11-11T14:06:07.089Z"
   },
   {
    "duration": 3530,
    "start_time": "2021-11-11T14:07:17.816Z"
   },
   {
    "duration": 3403,
    "start_time": "2021-11-11T14:19:29.877Z"
   },
   {
    "duration": 3749,
    "start_time": "2021-11-11T14:20:48.907Z"
   },
   {
    "duration": 3663,
    "start_time": "2021-11-11T14:21:03.140Z"
   },
   {
    "duration": 3297,
    "start_time": "2021-11-11T14:22:09.034Z"
   },
   {
    "duration": 3423,
    "start_time": "2021-11-11T14:22:34.737Z"
   },
   {
    "duration": 3389,
    "start_time": "2021-11-11T14:22:56.817Z"
   },
   {
    "duration": 7,
    "start_time": "2021-11-11T15:18:34.342Z"
   },
   {
    "duration": 6,
    "start_time": "2021-11-11T15:18:42.256Z"
   },
   {
    "duration": 652,
    "start_time": "2021-11-11T15:32:59.180Z"
   },
   {
    "duration": 18,
    "start_time": "2021-11-11T15:35:07.610Z"
   },
   {
    "duration": 24,
    "start_time": "2021-11-11T15:45:50.647Z"
   },
   {
    "duration": 22,
    "start_time": "2021-11-11T15:46:06.944Z"
   },
   {
    "duration": 3376,
    "start_time": "2021-11-11T15:47:41.119Z"
   },
   {
    "duration": 3360,
    "start_time": "2021-11-11T15:47:47.597Z"
   },
   {
    "duration": 3354,
    "start_time": "2021-11-11T15:48:06.445Z"
   },
   {
    "duration": 3437,
    "start_time": "2021-11-11T15:48:14.269Z"
   },
   {
    "duration": 612,
    "start_time": "2021-11-11T15:51:11.039Z"
   },
   {
    "duration": 34,
    "start_time": "2021-11-11T15:51:11.653Z"
   },
   {
    "duration": 16,
    "start_time": "2021-11-11T15:51:11.706Z"
   },
   {
    "duration": 16,
    "start_time": "2021-11-11T15:51:11.724Z"
   },
   {
    "duration": 16,
    "start_time": "2021-11-11T15:51:11.742Z"
   },
   {
    "duration": 54,
    "start_time": "2021-11-11T15:51:11.760Z"
   },
   {
    "duration": 107,
    "start_time": "2021-11-11T15:51:11.817Z"
   },
   {
    "duration": 107,
    "start_time": "2021-11-11T15:51:12.007Z"
   },
   {
    "duration": 90,
    "start_time": "2021-11-11T15:51:12.118Z"
   },
   {
    "duration": 103,
    "start_time": "2021-11-11T15:51:12.211Z"
   },
   {
    "duration": 29,
    "start_time": "2021-11-11T15:51:12.317Z"
   },
   {
    "duration": 3379,
    "start_time": "2021-11-11T15:51:12.348Z"
   },
   {
    "duration": 3347,
    "start_time": "2021-11-11T15:51:15.729Z"
   },
   {
    "duration": 3375,
    "start_time": "2021-11-11T15:51:19.077Z"
   },
   {
    "duration": 6,
    "start_time": "2021-11-11T15:51:22.454Z"
   },
   {
    "duration": 1941,
    "start_time": "2021-11-11T20:17:36.178Z"
   },
   {
    "duration": 56,
    "start_time": "2021-11-11T20:17:38.122Z"
   },
   {
    "duration": 22,
    "start_time": "2021-11-11T20:17:38.181Z"
   },
   {
    "duration": 41,
    "start_time": "2021-11-11T20:17:38.205Z"
   },
   {
    "duration": 23,
    "start_time": "2021-11-11T20:17:38.248Z"
   },
   {
    "duration": 77,
    "start_time": "2021-11-11T20:17:38.273Z"
   },
   {
    "duration": 106,
    "start_time": "2021-11-11T20:17:38.364Z"
   },
   {
    "duration": 182,
    "start_time": "2021-11-11T20:17:38.473Z"
   },
   {
    "duration": 85,
    "start_time": "2021-11-11T20:17:38.660Z"
   },
   {
    "duration": 20,
    "start_time": "2021-11-11T20:17:38.748Z"
   },
   {
    "duration": 82,
    "start_time": "2021-11-11T20:17:38.770Z"
   },
   {
    "duration": 5053,
    "start_time": "2021-11-11T20:17:38.855Z"
   },
   {
    "duration": 3200,
    "start_time": "2021-11-11T20:17:43.910Z"
   },
   {
    "duration": 3354,
    "start_time": "2021-11-11T20:17:47.112Z"
   },
   {
    "duration": 7,
    "start_time": "2021-11-11T20:17:50.468Z"
   },
   {
    "duration": 2411,
    "start_time": "2021-11-12T12:04:05.741Z"
   },
   {
    "duration": 1131,
    "start_time": "2021-11-12T12:04:24.623Z"
   },
   {
    "duration": 1092,
    "start_time": "2021-11-12T12:58:53.754Z"
   },
   {
    "duration": 2446,
    "start_time": "2021-11-12T13:05:34.589Z"
   },
   {
    "duration": 15,
    "start_time": "2021-11-12T13:05:42.666Z"
   },
   {
    "duration": 8,
    "start_time": "2021-11-12T13:33:19.101Z"
   },
   {
    "duration": 18,
    "start_time": "2021-11-12T13:33:31.456Z"
   },
   {
    "duration": 11,
    "start_time": "2021-11-12T13:33:38.419Z"
   },
   {
    "duration": 11,
    "start_time": "2021-11-12T13:33:56.666Z"
   },
   {
    "duration": 11,
    "start_time": "2021-11-12T13:34:08.231Z"
   },
   {
    "duration": 536,
    "start_time": "2021-11-12T13:45:58.056Z"
   },
   {
    "duration": 11,
    "start_time": "2021-11-12T13:49:25.240Z"
   },
   {
    "duration": 24,
    "start_time": "2021-11-12T13:49:40.751Z"
   },
   {
    "duration": 22,
    "start_time": "2021-11-12T13:49:50.191Z"
   },
   {
    "duration": 23,
    "start_time": "2021-11-12T13:49:55.570Z"
   },
   {
    "duration": 16,
    "start_time": "2021-11-12T13:50:21.983Z"
   },
   {
    "duration": 15,
    "start_time": "2021-11-12T13:51:27.094Z"
   },
   {
    "duration": 10,
    "start_time": "2021-11-12T13:52:37.309Z"
   },
   {
    "duration": 389,
    "start_time": "2021-11-12T14:10:53.736Z"
   },
   {
    "duration": 441,
    "start_time": "2021-11-12T14:12:22.011Z"
   },
   {
    "duration": 409,
    "start_time": "2021-11-12T14:13:29.777Z"
   },
   {
    "duration": 404,
    "start_time": "2021-11-12T14:18:20.787Z"
   },
   {
    "duration": 400,
    "start_time": "2021-11-12T14:22:07.560Z"
   },
   {
    "duration": 430,
    "start_time": "2021-11-12T14:22:49.800Z"
   },
   {
    "duration": 373,
    "start_time": "2021-11-12T14:23:46.910Z"
   },
   {
    "duration": 496,
    "start_time": "2021-11-12T15:36:35.695Z"
   },
   {
    "duration": 2515,
    "start_time": "2021-11-12T15:36:48.946Z"
   },
   {
    "duration": 530,
    "start_time": "2021-11-12T15:36:51.463Z"
   },
   {
    "duration": 374,
    "start_time": "2021-11-12T15:37:01.855Z"
   },
   {
    "duration": 383,
    "start_time": "2021-11-12T15:37:47.110Z"
   },
   {
    "duration": 2458,
    "start_time": "2021-11-12T15:45:32.706Z"
   },
   {
    "duration": 4,
    "start_time": "2021-11-12T15:45:40.301Z"
   },
   {
    "duration": 14,
    "start_time": "2021-11-12T15:45:50.213Z"
   },
   {
    "duration": 7,
    "start_time": "2021-11-12T15:46:12.309Z"
   },
   {
    "duration": 6,
    "start_time": "2021-11-12T15:46:15.917Z"
   },
   {
    "duration": 2429,
    "start_time": "2021-11-12T15:46:25.129Z"
   },
   {
    "duration": 8,
    "start_time": "2021-11-12T15:46:31.317Z"
   },
   {
    "duration": 18,
    "start_time": "2021-11-12T15:46:39.821Z"
   },
   {
    "duration": 15,
    "start_time": "2021-11-12T15:46:45.036Z"
   },
   {
    "duration": 11,
    "start_time": "2021-11-12T15:47:09.652Z"
   },
   {
    "duration": 14,
    "start_time": "2021-11-12T15:58:31.671Z"
   },
   {
    "duration": 495,
    "start_time": "2021-11-12T15:58:40.665Z"
   },
   {
    "duration": 2487,
    "start_time": "2021-11-12T15:58:45.235Z"
   },
   {
    "duration": 10,
    "start_time": "2021-11-12T15:58:50.457Z"
   },
   {
    "duration": 751,
    "start_time": "2021-11-12T15:59:02.664Z"
   },
   {
    "duration": 13,
    "start_time": "2021-11-12T15:59:07.776Z"
   },
   {
    "duration": 29,
    "start_time": "2021-11-12T15:59:34.560Z"
   },
   {
    "duration": 10,
    "start_time": "2021-11-12T16:00:11.239Z"
   },
   {
    "duration": 385,
    "start_time": "2021-11-12T16:01:11.463Z"
   },
   {
    "duration": 1044,
    "start_time": "2021-11-12T16:03:21.004Z"
   },
   {
    "duration": 977,
    "start_time": "2021-11-12T16:03:31.460Z"
   },
   {
    "duration": 14,
    "start_time": "2021-11-12T17:07:57.949Z"
   },
   {
    "duration": 2545,
    "start_time": "2021-11-12T17:08:17.104Z"
   },
   {
    "duration": 16,
    "start_time": "2021-11-12T17:08:23.179Z"
   },
   {
    "duration": 5,
    "start_time": "2021-11-12T17:11:11.625Z"
   },
   {
    "duration": 3,
    "start_time": "2021-11-12T17:11:33.472Z"
   },
   {
    "duration": 30,
    "start_time": "2021-11-12T17:11:44.960Z"
   },
   {
    "duration": 19,
    "start_time": "2021-11-12T17:12:38.144Z"
   },
   {
    "duration": 6,
    "start_time": "2021-11-12T17:13:30.294Z"
   },
   {
    "duration": 23,
    "start_time": "2021-11-12T17:13:32.078Z"
   },
   {
    "duration": 31,
    "start_time": "2021-11-12T17:13:51.095Z"
   },
   {
    "duration": 21,
    "start_time": "2021-11-12T17:14:25.581Z"
   },
   {
    "duration": 7,
    "start_time": "2021-11-12T17:15:48.685Z"
   },
   {
    "duration": 22,
    "start_time": "2021-11-12T17:15:55.307Z"
   },
   {
    "duration": 21,
    "start_time": "2021-11-12T17:16:06.132Z"
   },
   {
    "duration": 21,
    "start_time": "2021-11-12T17:16:18.900Z"
   },
   {
    "duration": 20,
    "start_time": "2021-11-12T17:16:32.483Z"
   },
   {
    "duration": 2513,
    "start_time": "2021-11-12T17:16:43.442Z"
   },
   {
    "duration": 15,
    "start_time": "2021-11-12T17:16:45.958Z"
   },
   {
    "duration": 24,
    "start_time": "2021-11-12T17:16:45.976Z"
   },
   {
    "duration": 27,
    "start_time": "2021-11-12T17:16:46.003Z"
   },
   {
    "duration": 20,
    "start_time": "2021-11-12T17:16:46.032Z"
   },
   {
    "duration": 23,
    "start_time": "2021-11-12T17:16:50.591Z"
   },
   {
    "duration": 523,
    "start_time": "2021-11-12T18:16:46.362Z"
   },
   {
    "duration": 7,
    "start_time": "2021-11-12T18:16:52.693Z"
   },
   {
    "duration": 2576,
    "start_time": "2021-11-12T18:17:02.342Z"
   },
   {
    "duration": 15,
    "start_time": "2021-11-12T18:17:04.921Z"
   },
   {
    "duration": 22,
    "start_time": "2021-11-12T18:17:04.939Z"
   },
   {
    "duration": 47,
    "start_time": "2021-11-12T18:17:04.964Z"
   },
   {
    "duration": 23,
    "start_time": "2021-11-12T18:17:05.014Z"
   },
   {
    "duration": 19,
    "start_time": "2021-11-12T18:17:05.040Z"
   },
   {
    "duration": 6,
    "start_time": "2021-11-12T18:17:07.634Z"
   },
   {
    "duration": 99,
    "start_time": "2021-11-12T18:17:10.608Z"
   },
   {
    "duration": 192,
    "start_time": "2021-11-12T18:18:54.215Z"
   },
   {
    "duration": 20,
    "start_time": "2021-11-12T18:19:12.463Z"
   },
   {
    "duration": 84,
    "start_time": "2021-11-12T18:19:22.223Z"
   },
   {
    "duration": 21,
    "start_time": "2021-11-12T18:19:47.726Z"
   },
   {
    "duration": 39,
    "start_time": "2021-11-12T18:20:12.862Z"
   },
   {
    "duration": 22,
    "start_time": "2021-11-12T18:21:06.509Z"
   },
   {
    "duration": 647,
    "start_time": "2021-11-12T19:00:37.388Z"
   },
   {
    "duration": 5,
    "start_time": "2021-11-12T19:00:45.086Z"
   },
   {
    "duration": 782,
    "start_time": "2021-11-12T19:00:48.520Z"
   },
   {
    "duration": 15,
    "start_time": "2021-11-12T19:01:25.925Z"
   },
   {
    "duration": 13,
    "start_time": "2021-11-12T19:04:44.697Z"
   },
   {
    "duration": 34,
    "start_time": "2021-11-12T19:08:04.615Z"
   },
   {
    "duration": 2529,
    "start_time": "2021-11-12T19:27:25.983Z"
   },
   {
    "duration": 10,
    "start_time": "2021-11-12T19:27:28.515Z"
   },
   {
    "duration": 12,
    "start_time": "2021-11-12T19:27:28.528Z"
   },
   {
    "duration": 31,
    "start_time": "2021-11-12T19:27:28.543Z"
   },
   {
    "duration": 38,
    "start_time": "2021-11-12T19:27:28.576Z"
   },
   {
    "duration": 22,
    "start_time": "2021-11-12T19:27:28.616Z"
   },
   {
    "duration": 8,
    "start_time": "2021-11-12T19:27:28.640Z"
   },
   {
    "duration": 151,
    "start_time": "2021-11-12T19:27:28.650Z"
   },
   {
    "duration": 100,
    "start_time": "2021-11-12T19:27:28.807Z"
   },
   {
    "duration": 105,
    "start_time": "2021-11-12T19:27:28.999Z"
   },
   {
    "duration": 94,
    "start_time": "2021-11-12T19:27:29.108Z"
   },
   {
    "duration": 19,
    "start_time": "2021-11-12T19:27:29.204Z"
   },
   {
    "duration": 34,
    "start_time": "2021-11-12T19:27:29.226Z"
   },
   {
    "duration": 8,
    "start_time": "2021-11-12T19:31:39.693Z"
   },
   {
    "duration": 6127,
    "start_time": "2021-11-12T19:32:05.191Z"
   },
   {
    "duration": 8,
    "start_time": "2021-11-12T19:32:19.534Z"
   },
   {
    "duration": 5992,
    "start_time": "2021-11-12T19:32:21.839Z"
   },
   {
    "duration": 7,
    "start_time": "2021-11-12T19:33:11.558Z"
   },
   {
    "duration": 5908,
    "start_time": "2021-11-12T19:33:13.925Z"
   },
   {
    "duration": 7,
    "start_time": "2021-11-12T19:33:37.661Z"
   },
   {
    "duration": 5407,
    "start_time": "2021-11-12T19:33:41.524Z"
   },
   {
    "duration": 7,
    "start_time": "2021-11-12T19:34:27.004Z"
   },
   {
    "duration": 5379,
    "start_time": "2021-11-12T19:34:28.868Z"
   },
   {
    "duration": 7,
    "start_time": "2021-11-12T19:34:56.637Z"
   },
   {
    "duration": 5265,
    "start_time": "2021-11-12T19:34:58.236Z"
   },
   {
    "duration": 5279,
    "start_time": "2021-11-12T19:43:19.290Z"
   },
   {
    "duration": 5708,
    "start_time": "2021-11-12T19:44:41.987Z"
   },
   {
    "duration": 5411,
    "start_time": "2021-11-12T19:45:01.090Z"
   },
   {
    "duration": 2427,
    "start_time": "2021-11-12T19:46:12.736Z"
   },
   {
    "duration": 14,
    "start_time": "2021-11-12T19:46:15.166Z"
   },
   {
    "duration": 18,
    "start_time": "2021-11-12T19:46:15.184Z"
   },
   {
    "duration": 24,
    "start_time": "2021-11-12T19:46:15.205Z"
   },
   {
    "duration": 22,
    "start_time": "2021-11-12T19:46:15.232Z"
   },
   {
    "duration": 56,
    "start_time": "2021-11-12T19:46:15.257Z"
   },
   {
    "duration": 7,
    "start_time": "2021-11-12T19:46:15.315Z"
   },
   {
    "duration": 175,
    "start_time": "2021-11-12T19:46:15.325Z"
   },
   {
    "duration": 99,
    "start_time": "2021-11-12T19:46:15.504Z"
   },
   {
    "duration": 196,
    "start_time": "2021-11-12T19:46:15.607Z"
   },
   {
    "duration": 94,
    "start_time": "2021-11-12T19:46:15.810Z"
   },
   {
    "duration": 16,
    "start_time": "2021-11-12T19:46:15.907Z"
   },
   {
    "duration": 34,
    "start_time": "2021-11-12T19:46:15.926Z"
   },
   {
    "duration": 7,
    "start_time": "2021-11-12T19:46:18.313Z"
   },
   {
    "duration": 5306,
    "start_time": "2021-11-12T19:46:20.696Z"
   },
   {
    "duration": 5215,
    "start_time": "2021-11-12T19:46:30.825Z"
   },
   {
    "duration": 5201,
    "start_time": "2021-11-12T19:46:51.393Z"
   },
   {
    "duration": 7,
    "start_time": "2021-11-12T19:47:24.257Z"
   },
   {
    "duration": 5282,
    "start_time": "2021-11-12T19:47:27.680Z"
   },
   {
    "duration": 5408,
    "start_time": "2021-11-12T19:47:39.687Z"
   },
   {
    "duration": 5644,
    "start_time": "2021-11-12T19:47:51.098Z"
   },
   {
    "duration": 7,
    "start_time": "2021-11-12T19:49:03.207Z"
   },
   {
    "duration": 5293,
    "start_time": "2021-11-12T19:49:05.974Z"
   },
   {
    "duration": 170,
    "start_time": "2021-11-12T19:52:59.227Z"
   },
   {
    "duration": 7,
    "start_time": "2021-11-12T19:53:12.507Z"
   },
   {
    "duration": 5297,
    "start_time": "2021-11-12T19:53:16.050Z"
   },
   {
    "duration": 7,
    "start_time": "2021-11-12T19:53:46.218Z"
   },
   {
    "duration": 5463,
    "start_time": "2021-11-12T19:53:50.962Z"
   },
   {
    "duration": 7,
    "start_time": "2021-11-12T19:55:19.385Z"
   },
   {
    "duration": 5258,
    "start_time": "2021-11-12T19:55:23.208Z"
   },
   {
    "duration": 8,
    "start_time": "2021-11-12T19:55:38.615Z"
   },
   {
    "duration": 5190,
    "start_time": "2021-11-12T19:55:40.984Z"
   },
   {
    "duration": 7,
    "start_time": "2021-11-12T19:55:53.216Z"
   },
   {
    "duration": 5320,
    "start_time": "2021-11-12T19:55:55.399Z"
   },
   {
    "duration": 5427,
    "start_time": "2021-11-12T19:56:05.464Z"
   },
   {
    "duration": 5279,
    "start_time": "2021-11-12T19:56:17.279Z"
   },
   {
    "duration": 5323,
    "start_time": "2021-11-12T20:04:48.335Z"
   },
   {
    "duration": 2582,
    "start_time": "2021-11-12T20:11:00.536Z"
   },
   {
    "duration": 16,
    "start_time": "2021-11-12T20:11:03.120Z"
   },
   {
    "duration": 9,
    "start_time": "2021-11-12T20:11:03.139Z"
   },
   {
    "duration": 27,
    "start_time": "2021-11-12T20:11:03.150Z"
   },
   {
    "duration": 39,
    "start_time": "2021-11-12T20:11:03.179Z"
   },
   {
    "duration": 21,
    "start_time": "2021-11-12T20:11:03.220Z"
   },
   {
    "duration": 7,
    "start_time": "2021-11-12T20:11:03.244Z"
   },
   {
    "duration": 149,
    "start_time": "2021-11-12T20:11:03.253Z"
   },
   {
    "duration": 194,
    "start_time": "2021-11-12T20:11:03.410Z"
   },
   {
    "duration": 194,
    "start_time": "2021-11-12T20:11:03.608Z"
   },
   {
    "duration": 95,
    "start_time": "2021-11-12T20:11:03.806Z"
   },
   {
    "duration": 19,
    "start_time": "2021-11-12T20:11:03.904Z"
   },
   {
    "duration": 34,
    "start_time": "2021-11-12T20:11:03.925Z"
   },
   {
    "duration": 44,
    "start_time": "2021-11-12T20:11:03.961Z"
   },
   {
    "duration": 5298,
    "start_time": "2021-11-12T20:11:04.008Z"
   },
   {
    "duration": 5272,
    "start_time": "2021-11-12T20:11:09.308Z"
   },
   {
    "duration": 5334,
    "start_time": "2021-11-12T20:11:14.582Z"
   },
   {
    "duration": 9,
    "start_time": "2021-11-12T20:11:19.918Z"
   },
   {
    "duration": 2594,
    "start_time": "2022-03-24T12:58:18.197Z"
   },
   {
    "duration": 12,
    "start_time": "2022-03-24T12:58:20.794Z"
   },
   {
    "duration": 8,
    "start_time": "2022-03-24T12:58:20.808Z"
   },
   {
    "duration": 22,
    "start_time": "2022-03-24T12:58:20.819Z"
   },
   {
    "duration": 20,
    "start_time": "2022-03-24T12:58:20.868Z"
   },
   {
    "duration": 19,
    "start_time": "2022-03-24T12:58:20.891Z"
   },
   {
    "duration": 7,
    "start_time": "2022-03-24T12:58:20.913Z"
   },
   {
    "duration": 65,
    "start_time": "2022-03-24T12:58:20.923Z"
   },
   {
    "duration": 110,
    "start_time": "2022-03-24T12:58:21.074Z"
   },
   {
    "duration": 190,
    "start_time": "2022-03-24T12:58:21.187Z"
   },
   {
    "duration": 5,
    "start_time": "2022-03-24T12:58:21.384Z"
   },
   {
    "duration": 8,
    "start_time": "2022-03-24T12:58:21.467Z"
   },
   {
    "duration": 15,
    "start_time": "2022-03-24T12:58:21.477Z"
   },
   {
    "duration": 28,
    "start_time": "2022-03-24T12:58:21.497Z"
   },
   {
    "duration": 44,
    "start_time": "2022-03-24T12:58:21.528Z"
   },
   {
    "duration": 1899,
    "start_time": "2022-03-24T12:58:21.575Z"
   },
   {
    "duration": 1837,
    "start_time": "2022-03-24T12:58:23.476Z"
   },
   {
    "duration": 1802,
    "start_time": "2022-03-24T12:58:25.316Z"
   },
   {
    "duration": 9,
    "start_time": "2022-03-24T12:58:27.120Z"
   }
  ],
  "kernelspec": {
   "display_name": "Python 3 (ipykernel)",
   "language": "python",
   "name": "python3"
  },
  "language_info": {
   "codemirror_mode": {
    "name": "ipython",
    "version": 3
   },
   "file_extension": ".py",
   "mimetype": "text/x-python",
   "name": "python",
   "nbconvert_exporter": "python",
   "pygments_lexer": "ipython3",
   "version": "3.10.1"
  },
  "toc": {
   "base_numbering": 1,
   "nav_menu": {},
   "number_sections": true,
   "sideBar": true,
   "skip_h1_title": true,
   "title_cell": "Table of Contents",
   "title_sidebar": "Contents",
   "toc_cell": false,
   "toc_position": {
    "height": "calc(100% - 180px)",
    "left": "10px",
    "top": "150px",
    "width": "242.391px"
   },
   "toc_section_display": true,
   "toc_window_display": true
  }
 },
 "nbformat": 4,
 "nbformat_minor": 2
}
