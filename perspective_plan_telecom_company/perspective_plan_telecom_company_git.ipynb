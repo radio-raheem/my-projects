{
 "cells": [
  {
   "cell_type": "markdown",
   "metadata": {},
   "source": [
    "# Determination of a prospective plan for a telecom company\n",
    "\n",
    "Let's imagine that you are in charge of the commercial department of a telecom company. You need to decide which of the two cell phone plans to advertise more. Simply put, which of the two plans is better? What if we only have data for 500 customers?\n",
    "\n",
    "No problem. Just give the data to your fellow analyst. And that analyst is me :)\n",
    "\n",
    "So, our task is to carry out a preliminary analysis of the cell phone plans of a telecom company on a small sample of customers. We have the data of 500 users: who they are, where they are from, what plan they use, how many calls and messages each sent in 2018. It is necessary to analyze the behavior of customers and draw a conclusion - which plan is better. Based on this conclusion, colleagues from the commercial department of the company will adjust the advertising budget.\n",
    "\n",
    "The main steps of our project will be:\n",
    "\n",
    "* Examining the provided data\n",
    "* Data preprocessing\n",
    "* Calculations and adding the results necessary for analysis\n",
    "* Data analysis\n",
    "* Hypothesis testing\n",
    "* Formulation of main conclusions  \n",
    "  \n",
    "The project is made in **Jupyter Notebook**, notebook server version: 6.1.4., Python 3.7.8. The project used the **Pandas**, **MatPlotLib**, **NumPy**, **Math**, **SciPy** libraries, as well as the **IPython** module. \n",
    "\n",
    "\n",
    "# Plans description\n",
    "\n",
    "**\"Smart\" plan**\n",
    "\n",
    "1. Monthly fee: 550 rubles\n",
    "2. Included 500 minutes of calls, 50 messages and 15 GB of Internet traffic\n",
    "3. The cost of services in excess of the tariff package: 1. minute of conversation: 3 rubles (Telecom company always rounds up the values of minutes and megabytes. If the user spoke only 1 second, a whole minute is counted in the tariff); 2. message: 3 rubles; 3. 1 GB of Internet traffic: 200 rubles.  \n",
    "  \n",
    "**\"Ultra\" plan**\n",
    "\n",
    "1. Monthly fee: 1950 rubles\n",
    "2. Included 3000 minutes of calls, 1000 messages and 30 GB of internet traffic\n",
    "3. The cost of services in excess of the tariff package: 1. minute of conversation: 1 ruble; 2. message: 1 ruble; 3. 1 GB of Internet traffic: 150 rubles."
   ]
  },
  {
   "cell_type": "markdown",
   "metadata": {},
   "source": [
    "## Examining the provided data"
   ]
  },
  {
   "cell_type": "code",
   "execution_count": 1,
   "metadata": {},
   "outputs": [],
   "source": [
    "# Import all required libraries and modules.\n",
    "from math import factorial\n",
    "import math as mt\n",
    "\n",
    "import pandas as pd\n",
    "from IPython.display import display\n",
    "from matplotlib import pyplot as plt\n",
    "import numpy as np\n",
    "from scipy.stats import norm\n",
    "from scipy import stats as st\n",
    "from scipy.stats import levene\n",
    "# Read the datasets.\n",
    "data_calls = pd.read_csv('calls.csv')\n",
    "data_internet = pd.read_csv('internet.csv', index_col=0)\n",
    "data_messages = pd.read_csv('messages.csv')\n",
    "data_tariffs = pd.read_csv('tariffs.csv')\n",
    "data_users = pd.read_csv('users.csv')"
   ]
  },
  {
   "cell_type": "code",
   "execution_count": 2,
   "metadata": {},
   "outputs": [
    {
     "data": {
      "text/html": [
       "<div>\n",
       "<style scoped>\n",
       "    .dataframe tbody tr th:only-of-type {\n",
       "        vertical-align: middle;\n",
       "    }\n",
       "\n",
       "    .dataframe tbody tr th {\n",
       "        vertical-align: top;\n",
       "    }\n",
       "\n",
       "    .dataframe thead th {\n",
       "        text-align: right;\n",
       "    }\n",
       "</style>\n",
       "<table border=\"1\" class=\"dataframe\">\n",
       "  <thead>\n",
       "    <tr style=\"text-align: right;\">\n",
       "      <th></th>\n",
       "      <th>id</th>\n",
       "      <th>call_date</th>\n",
       "      <th>duration</th>\n",
       "      <th>user_id</th>\n",
       "    </tr>\n",
       "  </thead>\n",
       "  <tbody>\n",
       "    <tr>\n",
       "      <th>0</th>\n",
       "      <td>1000_0</td>\n",
       "      <td>2018-07-25</td>\n",
       "      <td>0.00</td>\n",
       "      <td>1000</td>\n",
       "    </tr>\n",
       "    <tr>\n",
       "      <th>1</th>\n",
       "      <td>1000_1</td>\n",
       "      <td>2018-08-17</td>\n",
       "      <td>0.00</td>\n",
       "      <td>1000</td>\n",
       "    </tr>\n",
       "    <tr>\n",
       "      <th>2</th>\n",
       "      <td>1000_2</td>\n",
       "      <td>2018-06-11</td>\n",
       "      <td>2.85</td>\n",
       "      <td>1000</td>\n",
       "    </tr>\n",
       "    <tr>\n",
       "      <th>3</th>\n",
       "      <td>1000_3</td>\n",
       "      <td>2018-09-21</td>\n",
       "      <td>13.80</td>\n",
       "      <td>1000</td>\n",
       "    </tr>\n",
       "    <tr>\n",
       "      <th>4</th>\n",
       "      <td>1000_4</td>\n",
       "      <td>2018-12-15</td>\n",
       "      <td>5.18</td>\n",
       "      <td>1000</td>\n",
       "    </tr>\n",
       "  </tbody>\n",
       "</table>\n",
       "</div>"
      ],
      "text/plain": [
       "       id   call_date  duration  user_id\n",
       "0  1000_0  2018-07-25      0.00     1000\n",
       "1  1000_1  2018-08-17      0.00     1000\n",
       "2  1000_2  2018-06-11      2.85     1000\n",
       "3  1000_3  2018-09-21     13.80     1000\n",
       "4  1000_4  2018-12-15      5.18     1000"
      ]
     },
     "metadata": {},
     "output_type": "display_data"
    },
    {
     "name": "stdout",
     "output_type": "stream",
     "text": [
      "<class 'pandas.core.frame.DataFrame'>\n",
      "RangeIndex: 202607 entries, 0 to 202606\n",
      "Data columns (total 4 columns):\n",
      " #   Column     Non-Null Count   Dtype  \n",
      "---  ------     --------------   -----  \n",
      " 0   id         202607 non-null  object \n",
      " 1   call_date  202607 non-null  object \n",
      " 2   duration   202607 non-null  float64\n",
      " 3   user_id    202607 non-null  int64  \n",
      "dtypes: float64(1), int64(1), object(2)\n",
      "memory usage: 6.2+ MB\n"
     ]
    }
   ],
   "source": [
    "# Let's review all the datasets.\n",
    "# Begin with data_calls.\n",
    "display(data_calls.head(5))\n",
    "data_calls.info()"
   ]
  },
  {
   "cell_type": "code",
   "execution_count": 3,
   "metadata": {},
   "outputs": [
    {
     "data": {
      "text/html": [
       "<div>\n",
       "<style scoped>\n",
       "    .dataframe tbody tr th:only-of-type {\n",
       "        vertical-align: middle;\n",
       "    }\n",
       "\n",
       "    .dataframe tbody tr th {\n",
       "        vertical-align: top;\n",
       "    }\n",
       "\n",
       "    .dataframe thead th {\n",
       "        text-align: right;\n",
       "    }\n",
       "</style>\n",
       "<table border=\"1\" class=\"dataframe\">\n",
       "  <thead>\n",
       "    <tr style=\"text-align: right;\">\n",
       "      <th></th>\n",
       "      <th>id</th>\n",
       "      <th>mb_used</th>\n",
       "      <th>session_date</th>\n",
       "      <th>user_id</th>\n",
       "    </tr>\n",
       "  </thead>\n",
       "  <tbody>\n",
       "    <tr>\n",
       "      <th>0</th>\n",
       "      <td>1000_0</td>\n",
       "      <td>112.95</td>\n",
       "      <td>2018-11-25</td>\n",
       "      <td>1000</td>\n",
       "    </tr>\n",
       "    <tr>\n",
       "      <th>1</th>\n",
       "      <td>1000_1</td>\n",
       "      <td>1052.81</td>\n",
       "      <td>2018-09-07</td>\n",
       "      <td>1000</td>\n",
       "    </tr>\n",
       "    <tr>\n",
       "      <th>2</th>\n",
       "      <td>1000_2</td>\n",
       "      <td>1197.26</td>\n",
       "      <td>2018-06-25</td>\n",
       "      <td>1000</td>\n",
       "    </tr>\n",
       "    <tr>\n",
       "      <th>3</th>\n",
       "      <td>1000_3</td>\n",
       "      <td>550.27</td>\n",
       "      <td>2018-08-22</td>\n",
       "      <td>1000</td>\n",
       "    </tr>\n",
       "    <tr>\n",
       "      <th>4</th>\n",
       "      <td>1000_4</td>\n",
       "      <td>302.56</td>\n",
       "      <td>2018-09-24</td>\n",
       "      <td>1000</td>\n",
       "    </tr>\n",
       "  </tbody>\n",
       "</table>\n",
       "</div>"
      ],
      "text/plain": [
       "       id  mb_used session_date  user_id\n",
       "0  1000_0   112.95   2018-11-25     1000\n",
       "1  1000_1  1052.81   2018-09-07     1000\n",
       "2  1000_2  1197.26   2018-06-25     1000\n",
       "3  1000_3   550.27   2018-08-22     1000\n",
       "4  1000_4   302.56   2018-09-24     1000"
      ]
     },
     "metadata": {},
     "output_type": "display_data"
    },
    {
     "name": "stdout",
     "output_type": "stream",
     "text": [
      "<class 'pandas.core.frame.DataFrame'>\n",
      "Int64Index: 149396 entries, 0 to 149395\n",
      "Data columns (total 4 columns):\n",
      " #   Column        Non-Null Count   Dtype  \n",
      "---  ------        --------------   -----  \n",
      " 0   id            149396 non-null  object \n",
      " 1   mb_used       149396 non-null  float64\n",
      " 2   session_date  149396 non-null  object \n",
      " 3   user_id       149396 non-null  int64  \n",
      "dtypes: float64(1), int64(1), object(2)\n",
      "memory usage: 5.7+ MB\n"
     ]
    }
   ],
   "source": [
    "# Now data_internet.\n",
    "display(data_internet.head(5))\n",
    "data_internet.info()"
   ]
  },
  {
   "cell_type": "code",
   "execution_count": 4,
   "metadata": {},
   "outputs": [
    {
     "data": {
      "text/html": [
       "<div>\n",
       "<style scoped>\n",
       "    .dataframe tbody tr th:only-of-type {\n",
       "        vertical-align: middle;\n",
       "    }\n",
       "\n",
       "    .dataframe tbody tr th {\n",
       "        vertical-align: top;\n",
       "    }\n",
       "\n",
       "    .dataframe thead th {\n",
       "        text-align: right;\n",
       "    }\n",
       "</style>\n",
       "<table border=\"1\" class=\"dataframe\">\n",
       "  <thead>\n",
       "    <tr style=\"text-align: right;\">\n",
       "      <th></th>\n",
       "      <th>id</th>\n",
       "      <th>message_date</th>\n",
       "      <th>user_id</th>\n",
       "    </tr>\n",
       "  </thead>\n",
       "  <tbody>\n",
       "    <tr>\n",
       "      <th>0</th>\n",
       "      <td>1000_0</td>\n",
       "      <td>2018-06-27</td>\n",
       "      <td>1000</td>\n",
       "    </tr>\n",
       "    <tr>\n",
       "      <th>1</th>\n",
       "      <td>1000_1</td>\n",
       "      <td>2018-10-08</td>\n",
       "      <td>1000</td>\n",
       "    </tr>\n",
       "    <tr>\n",
       "      <th>2</th>\n",
       "      <td>1000_2</td>\n",
       "      <td>2018-08-04</td>\n",
       "      <td>1000</td>\n",
       "    </tr>\n",
       "    <tr>\n",
       "      <th>3</th>\n",
       "      <td>1000_3</td>\n",
       "      <td>2018-06-16</td>\n",
       "      <td>1000</td>\n",
       "    </tr>\n",
       "    <tr>\n",
       "      <th>4</th>\n",
       "      <td>1000_4</td>\n",
       "      <td>2018-12-05</td>\n",
       "      <td>1000</td>\n",
       "    </tr>\n",
       "  </tbody>\n",
       "</table>\n",
       "</div>"
      ],
      "text/plain": [
       "       id message_date  user_id\n",
       "0  1000_0   2018-06-27     1000\n",
       "1  1000_1   2018-10-08     1000\n",
       "2  1000_2   2018-08-04     1000\n",
       "3  1000_3   2018-06-16     1000\n",
       "4  1000_4   2018-12-05     1000"
      ]
     },
     "metadata": {},
     "output_type": "display_data"
    },
    {
     "name": "stdout",
     "output_type": "stream",
     "text": [
      "<class 'pandas.core.frame.DataFrame'>\n",
      "RangeIndex: 123036 entries, 0 to 123035\n",
      "Data columns (total 3 columns):\n",
      " #   Column        Non-Null Count   Dtype \n",
      "---  ------        --------------   ----- \n",
      " 0   id            123036 non-null  object\n",
      " 1   message_date  123036 non-null  object\n",
      " 2   user_id       123036 non-null  int64 \n",
      "dtypes: int64(1), object(2)\n",
      "memory usage: 2.8+ MB\n"
     ]
    }
   ],
   "source": [
    "# Now data_messages.\n",
    "display(data_messages.head(5))\n",
    "data_messages.info()"
   ]
  },
  {
   "cell_type": "code",
   "execution_count": 5,
   "metadata": {},
   "outputs": [
    {
     "data": {
      "text/html": [
       "<div>\n",
       "<style scoped>\n",
       "    .dataframe tbody tr th:only-of-type {\n",
       "        vertical-align: middle;\n",
       "    }\n",
       "\n",
       "    .dataframe tbody tr th {\n",
       "        vertical-align: top;\n",
       "    }\n",
       "\n",
       "    .dataframe thead th {\n",
       "        text-align: right;\n",
       "    }\n",
       "</style>\n",
       "<table border=\"1\" class=\"dataframe\">\n",
       "  <thead>\n",
       "    <tr style=\"text-align: right;\">\n",
       "      <th></th>\n",
       "      <th>messages_included</th>\n",
       "      <th>mb_per_month_included</th>\n",
       "      <th>minutes_included</th>\n",
       "      <th>rub_monthly_fee</th>\n",
       "      <th>rub_per_gb</th>\n",
       "      <th>rub_per_message</th>\n",
       "      <th>rub_per_minute</th>\n",
       "      <th>tariff_name</th>\n",
       "    </tr>\n",
       "  </thead>\n",
       "  <tbody>\n",
       "    <tr>\n",
       "      <th>0</th>\n",
       "      <td>50</td>\n",
       "      <td>15360</td>\n",
       "      <td>500</td>\n",
       "      <td>550</td>\n",
       "      <td>200</td>\n",
       "      <td>3</td>\n",
       "      <td>3</td>\n",
       "      <td>smart</td>\n",
       "    </tr>\n",
       "    <tr>\n",
       "      <th>1</th>\n",
       "      <td>1000</td>\n",
       "      <td>30720</td>\n",
       "      <td>3000</td>\n",
       "      <td>1950</td>\n",
       "      <td>150</td>\n",
       "      <td>1</td>\n",
       "      <td>1</td>\n",
       "      <td>ultra</td>\n",
       "    </tr>\n",
       "  </tbody>\n",
       "</table>\n",
       "</div>"
      ],
      "text/plain": [
       "   messages_included  mb_per_month_included  minutes_included  \\\n",
       "0                 50                  15360               500   \n",
       "1               1000                  30720              3000   \n",
       "\n",
       "   rub_monthly_fee  rub_per_gb  rub_per_message  rub_per_minute tariff_name  \n",
       "0              550         200                3               3       smart  \n",
       "1             1950         150                1               1       ultra  "
      ]
     },
     "metadata": {},
     "output_type": "display_data"
    },
    {
     "name": "stdout",
     "output_type": "stream",
     "text": [
      "<class 'pandas.core.frame.DataFrame'>\n",
      "RangeIndex: 2 entries, 0 to 1\n",
      "Data columns (total 8 columns):\n",
      " #   Column                 Non-Null Count  Dtype \n",
      "---  ------                 --------------  ----- \n",
      " 0   messages_included      2 non-null      int64 \n",
      " 1   mb_per_month_included  2 non-null      int64 \n",
      " 2   minutes_included       2 non-null      int64 \n",
      " 3   rub_monthly_fee        2 non-null      int64 \n",
      " 4   rub_per_gb             2 non-null      int64 \n",
      " 5   rub_per_message        2 non-null      int64 \n",
      " 6   rub_per_minute         2 non-null      int64 \n",
      " 7   tariff_name            2 non-null      object\n",
      "dtypes: int64(7), object(1)\n",
      "memory usage: 256.0+ bytes\n"
     ]
    }
   ],
   "source": [
    "# Now data_tariffs.\n",
    "display(data_tariffs)\n",
    "data_tariffs.info()"
   ]
  },
  {
   "cell_type": "code",
   "execution_count": 6,
   "metadata": {},
   "outputs": [
    {
     "data": {
      "text/html": [
       "<div>\n",
       "<style scoped>\n",
       "    .dataframe tbody tr th:only-of-type {\n",
       "        vertical-align: middle;\n",
       "    }\n",
       "\n",
       "    .dataframe tbody tr th {\n",
       "        vertical-align: top;\n",
       "    }\n",
       "\n",
       "    .dataframe thead th {\n",
       "        text-align: right;\n",
       "    }\n",
       "</style>\n",
       "<table border=\"1\" class=\"dataframe\">\n",
       "  <thead>\n",
       "    <tr style=\"text-align: right;\">\n",
       "      <th></th>\n",
       "      <th>user_id</th>\n",
       "      <th>age</th>\n",
       "      <th>churn_date</th>\n",
       "      <th>city</th>\n",
       "      <th>first_name</th>\n",
       "      <th>last_name</th>\n",
       "      <th>reg_date</th>\n",
       "      <th>tariff</th>\n",
       "    </tr>\n",
       "  </thead>\n",
       "  <tbody>\n",
       "    <tr>\n",
       "      <th>0</th>\n",
       "      <td>1000</td>\n",
       "      <td>52</td>\n",
       "      <td>NaN</td>\n",
       "      <td>Краснодар</td>\n",
       "      <td>Рафаил</td>\n",
       "      <td>Верещагин</td>\n",
       "      <td>2018-05-25</td>\n",
       "      <td>ultra</td>\n",
       "    </tr>\n",
       "    <tr>\n",
       "      <th>1</th>\n",
       "      <td>1001</td>\n",
       "      <td>41</td>\n",
       "      <td>NaN</td>\n",
       "      <td>Москва</td>\n",
       "      <td>Иван</td>\n",
       "      <td>Ежов</td>\n",
       "      <td>2018-11-01</td>\n",
       "      <td>smart</td>\n",
       "    </tr>\n",
       "    <tr>\n",
       "      <th>2</th>\n",
       "      <td>1002</td>\n",
       "      <td>59</td>\n",
       "      <td>NaN</td>\n",
       "      <td>Стерлитамак</td>\n",
       "      <td>Евгений</td>\n",
       "      <td>Абрамович</td>\n",
       "      <td>2018-06-17</td>\n",
       "      <td>smart</td>\n",
       "    </tr>\n",
       "    <tr>\n",
       "      <th>3</th>\n",
       "      <td>1003</td>\n",
       "      <td>23</td>\n",
       "      <td>NaN</td>\n",
       "      <td>Москва</td>\n",
       "      <td>Белла</td>\n",
       "      <td>Белякова</td>\n",
       "      <td>2018-08-17</td>\n",
       "      <td>ultra</td>\n",
       "    </tr>\n",
       "    <tr>\n",
       "      <th>4</th>\n",
       "      <td>1004</td>\n",
       "      <td>68</td>\n",
       "      <td>NaN</td>\n",
       "      <td>Новокузнецк</td>\n",
       "      <td>Татьяна</td>\n",
       "      <td>Авдеенко</td>\n",
       "      <td>2018-05-14</td>\n",
       "      <td>ultra</td>\n",
       "    </tr>\n",
       "  </tbody>\n",
       "</table>\n",
       "</div>"
      ],
      "text/plain": [
       "   user_id  age churn_date         city first_name  last_name    reg_date  \\\n",
       "0     1000   52        NaN    Краснодар     Рафаил  Верещагин  2018-05-25   \n",
       "1     1001   41        NaN       Москва       Иван       Ежов  2018-11-01   \n",
       "2     1002   59        NaN  Стерлитамак    Евгений  Абрамович  2018-06-17   \n",
       "3     1003   23        NaN       Москва      Белла   Белякова  2018-08-17   \n",
       "4     1004   68        NaN  Новокузнецк    Татьяна   Авдеенко  2018-05-14   \n",
       "\n",
       "  tariff  \n",
       "0  ultra  \n",
       "1  smart  \n",
       "2  smart  \n",
       "3  ultra  \n",
       "4  ultra  "
      ]
     },
     "metadata": {},
     "output_type": "display_data"
    },
    {
     "name": "stdout",
     "output_type": "stream",
     "text": [
      "<class 'pandas.core.frame.DataFrame'>\n",
      "RangeIndex: 500 entries, 0 to 499\n",
      "Data columns (total 8 columns):\n",
      " #   Column      Non-Null Count  Dtype \n",
      "---  ------      --------------  ----- \n",
      " 0   user_id     500 non-null    int64 \n",
      " 1   age         500 non-null    int64 \n",
      " 2   churn_date  38 non-null     object\n",
      " 3   city        500 non-null    object\n",
      " 4   first_name  500 non-null    object\n",
      " 5   last_name   500 non-null    object\n",
      " 6   reg_date    500 non-null    object\n",
      " 7   tariff      500 non-null    object\n",
      "dtypes: int64(2), object(6)\n",
      "memory usage: 31.4+ KB\n"
     ]
    }
   ],
   "source": [
    "# And data_users.\n",
    "display(data_users.head(5))\n",
    "data_users.info()"
   ]
  },
  {
   "cell_type": "markdown",
   "metadata": {},
   "source": [
    "### Conclusion"
   ]
  },
  {
   "cell_type": "markdown",
   "metadata": {},
   "source": [
    "We are provided with 5 datasets. At first glance, the datasets are in excellent condition.\n",
    "\n",
    "**Let's formulate ideas for data preprocessing:**\n",
    "\n",
    "**data_calls table**\n",
    "* Convert the data format in the **call_date** column to `datetime`\n",
    "* Round the data in the **duration** column and convert it to `int` format\n",
    "\n",
    "**data_internet table**\n",
    "* Convert the data format in the **session_date** column to `datetime`\n",
    "\n",
    "**data_messages table**\n",
    "* Convert the data format in the **message_date** column to `datetime`\n",
    "\n",
    "**data_users table**\n",
    "* Convert the data format in the **reg_date** and **churn_date** columns to `datetime`\n",
    "* Check the **city** column for duplicates"
   ]
  },
  {
   "cell_type": "markdown",
   "metadata": {},
   "source": [
    "## Data preprocessing"
   ]
  },
  {
   "cell_type": "code",
   "execution_count": 7,
   "metadata": {},
   "outputs": [
    {
     "data": {
      "text/html": [
       "<div>\n",
       "<style scoped>\n",
       "    .dataframe tbody tr th:only-of-type {\n",
       "        vertical-align: middle;\n",
       "    }\n",
       "\n",
       "    .dataframe tbody tr th {\n",
       "        vertical-align: top;\n",
       "    }\n",
       "\n",
       "    .dataframe thead th {\n",
       "        text-align: right;\n",
       "    }\n",
       "</style>\n",
       "<table border=\"1\" class=\"dataframe\">\n",
       "  <thead>\n",
       "    <tr style=\"text-align: right;\">\n",
       "      <th></th>\n",
       "      <th>id</th>\n",
       "      <th>call_date</th>\n",
       "      <th>duration</th>\n",
       "      <th>user_id</th>\n",
       "    </tr>\n",
       "  </thead>\n",
       "  <tbody>\n",
       "    <tr>\n",
       "      <th>0</th>\n",
       "      <td>1000_0</td>\n",
       "      <td>2018-07-25</td>\n",
       "      <td>0</td>\n",
       "      <td>1000</td>\n",
       "    </tr>\n",
       "    <tr>\n",
       "      <th>1</th>\n",
       "      <td>1000_1</td>\n",
       "      <td>2018-08-17</td>\n",
       "      <td>0</td>\n",
       "      <td>1000</td>\n",
       "    </tr>\n",
       "    <tr>\n",
       "      <th>2</th>\n",
       "      <td>1000_2</td>\n",
       "      <td>2018-06-11</td>\n",
       "      <td>3</td>\n",
       "      <td>1000</td>\n",
       "    </tr>\n",
       "    <tr>\n",
       "      <th>3</th>\n",
       "      <td>1000_3</td>\n",
       "      <td>2018-09-21</td>\n",
       "      <td>14</td>\n",
       "      <td>1000</td>\n",
       "    </tr>\n",
       "    <tr>\n",
       "      <th>4</th>\n",
       "      <td>1000_4</td>\n",
       "      <td>2018-12-15</td>\n",
       "      <td>6</td>\n",
       "      <td>1000</td>\n",
       "    </tr>\n",
       "    <tr>\n",
       "      <th>...</th>\n",
       "      <td>...</td>\n",
       "      <td>...</td>\n",
       "      <td>...</td>\n",
       "      <td>...</td>\n",
       "    </tr>\n",
       "    <tr>\n",
       "      <th>202602</th>\n",
       "      <td>1499_215</td>\n",
       "      <td>2018-12-26</td>\n",
       "      <td>1</td>\n",
       "      <td>1499</td>\n",
       "    </tr>\n",
       "    <tr>\n",
       "      <th>202603</th>\n",
       "      <td>1499_216</td>\n",
       "      <td>2018-10-18</td>\n",
       "      <td>19</td>\n",
       "      <td>1499</td>\n",
       "    </tr>\n",
       "    <tr>\n",
       "      <th>202604</th>\n",
       "      <td>1499_217</td>\n",
       "      <td>2018-11-10</td>\n",
       "      <td>11</td>\n",
       "      <td>1499</td>\n",
       "    </tr>\n",
       "    <tr>\n",
       "      <th>202605</th>\n",
       "      <td>1499_218</td>\n",
       "      <td>2018-10-06</td>\n",
       "      <td>5</td>\n",
       "      <td>1499</td>\n",
       "    </tr>\n",
       "    <tr>\n",
       "      <th>202606</th>\n",
       "      <td>1499_219</td>\n",
       "      <td>2018-12-14</td>\n",
       "      <td>20</td>\n",
       "      <td>1499</td>\n",
       "    </tr>\n",
       "  </tbody>\n",
       "</table>\n",
       "<p>202607 rows × 4 columns</p>\n",
       "</div>"
      ],
      "text/plain": [
       "              id  call_date  duration  user_id\n",
       "0         1000_0 2018-07-25         0     1000\n",
       "1         1000_1 2018-08-17         0     1000\n",
       "2         1000_2 2018-06-11         3     1000\n",
       "3         1000_3 2018-09-21        14     1000\n",
       "4         1000_4 2018-12-15         6     1000\n",
       "...          ...        ...       ...      ...\n",
       "202602  1499_215 2018-12-26         1     1499\n",
       "202603  1499_216 2018-10-18        19     1499\n",
       "202604  1499_217 2018-11-10        11     1499\n",
       "202605  1499_218 2018-10-06         5     1499\n",
       "202606  1499_219 2018-12-14        20     1499\n",
       "\n",
       "[202607 rows x 4 columns]"
      ]
     },
     "metadata": {},
     "output_type": "display_data"
    }
   ],
   "source": [
    "# Change data type from object to datetime\n",
    "# in the columns of our tables that have dates.\n",
    "data_calls['call_date'] = pd.to_datetime(\n",
    "    data_calls['call_date'], \n",
    "    format='%Y-%m-%d'\n",
    ")\n",
    "data_internet['session_date'] = pd.to_datetime(\n",
    "    data_internet['session_date'], \n",
    "    format='%Y-%m-%d'\n",
    ")\n",
    "data_messages['message_date'] = pd.to_datetime(\n",
    "    data_messages['message_date'], \n",
    "    format='%Y-%m-%d'\n",
    ")\n",
    "data_users[['churn_date', 'reg_date']] = data_users[[\n",
    "    'churn_date', 'reg_date']].apply(\n",
    "    pd.to_datetime, format='%Y-%m-%d'\n",
    ")\n",
    "\n",
    "# In the data_calls table, round the values in the duration column\n",
    "# to integer values and change the format to int.\n",
    "data_calls['duration'] = np.ceil(data_calls['duration']).astype(int)\n",
    "display(data_calls)"
   ]
  },
  {
   "cell_type": "code",
   "execution_count": 8,
   "metadata": {},
   "outputs": [
    {
     "data": {
      "text/plain": [
       "Index(['Архангельск', 'Астрахань', 'Балашиха', 'Барнаул', 'Белгород', 'Брянск',\n",
       "       'Владивосток', 'Владикавказ', 'Владимир', 'Волгоград', 'Волжский',\n",
       "       'Вологда', 'Воронеж', 'Грозный', 'Екатеринбург', 'Иваново', 'Ижевск',\n",
       "       'Иркутск', 'Казань', 'Калининград', 'Калуга', 'Кемерово', 'Киров',\n",
       "       'Кострома', 'Краснодар', 'Красноярск', 'Курган', 'Курск', 'Липецк',\n",
       "       'Магнитогорск', 'Махачкала', 'Москва', 'Мурманск', 'Набережные Челны',\n",
       "       'Нижневартовск', 'Нижний Новгород', 'Нижний Тагил', 'Новокузнецк',\n",
       "       'Новороссийск', 'Новосибирск', 'Омск', 'Оренбург', 'Орёл', 'Пенза',\n",
       "       'Пермь', 'Петрозаводск', 'Подольск', 'Ростов-на-Дону', 'Рязань',\n",
       "       'Самара', 'Санкт-Петербург', 'Саранск', 'Саратов', 'Севастополь',\n",
       "       'Смоленск', 'Сочи', 'Ставрополь', 'Стерлитамак', 'Сургут', 'Тамбов',\n",
       "       'Тверь', 'Тольятти', 'Томск', 'Тула', 'Тюмень', 'Улан-Удэ', 'Ульяновск',\n",
       "       'Уфа', 'Хабаровск', 'Химки', 'Чебоксары', 'Челябинск', 'Череповец',\n",
       "       'Чита', 'Якутск', 'Ярославль'],\n",
       "      dtype='object')"
      ]
     },
     "metadata": {},
     "output_type": "display_data"
    }
   ],
   "source": [
    "# It is possible to have duplicates in the city column of\n",
    "# data_users table. Let's check it out.\n",
    "display(data_users['city'].value_counts().index.sort_values())\n",
    "# There are no duplicates."
   ]
  },
  {
   "cell_type": "code",
   "execution_count": 9,
   "metadata": {},
   "outputs": [],
   "source": [
    "# Check the data for anomalies.\n",
    "# Let's write the describe_me function, which allows us to quickly analyze.\n",
    "# Function arguments:\n",
    "# dataset - dataset\n",
    "# column - dataset column\n",
    "# units - data units of the column.\n",
    "def describe_me(dataset, column, units):\n",
    "    display(dataset[column].describe())\n",
    "    display(dataset[column].value_counts())\n",
    "    dataset.plot(kind='hist', y=column, bins=70, grid=True, figsize=(15,5))\n",
    "    plt.title('Histogram for the ' + str(column) + ' column')\n",
    "    plt.xlabel(units)\n",
    "    plt.ylabel('Frequency')\n",
    "    plt.show()\n",
    "    dataset.plot(kind='box', y=column, figsize=(15,5))\n",
    "    plt.title('Boxplot for the '+ str(column) + ' column')\n",
    "    plt.show()"
   ]
  },
  {
   "cell_type": "code",
   "execution_count": 10,
   "metadata": {
    "scrolled": false
   },
   "outputs": [
    {
     "data": {
      "text/plain": [
       "count    202607.000000\n",
       "mean          7.158198\n",
       "std           5.959173\n",
       "min           0.000000\n",
       "25%           2.000000\n",
       "50%           6.000000\n",
       "75%          11.000000\n",
       "max          38.000000\n",
       "Name: duration, dtype: float64"
      ]
     },
     "metadata": {},
     "output_type": "display_data"
    },
    {
     "data": {
      "text/plain": [
       "0     39613\n",
       "7     11510\n",
       "6     11457\n",
       "5     11411\n",
       "8     11272\n",
       "9     10973\n",
       "4     10918\n",
       "3     10362\n",
       "10    10186\n",
       "11     9385\n",
       "2      9194\n",
       "12     8448\n",
       "1      8402\n",
       "13     7486\n",
       "14     6554\n",
       "15     5505\n",
       "16     4551\n",
       "17     3671\n",
       "18     2984\n",
       "19     2411\n",
       "20     1806\n",
       "21     1304\n",
       "22      975\n",
       "23      720\n",
       "24      468\n",
       "25      363\n",
       "26      257\n",
       "27      151\n",
       "28      104\n",
       "29       56\n",
       "30       39\n",
       "31       30\n",
       "32       17\n",
       "33       10\n",
       "35        5\n",
       "34        3\n",
       "37        2\n",
       "36        2\n",
       "38        2\n",
       "Name: duration, dtype: int64"
      ]
     },
     "metadata": {},
     "output_type": "display_data"
    },
    {
     "data": {
      "image/png": "[encoded data removed]",
      "text/plain": [
       "<Figure size 1080x360 with 1 Axes>"
      ]
     },
     "metadata": {
      "needs_background": "light"
     },
     "output_type": "display_data"
    },
    {
     "data": {
      "image/png": "[encoded data removed]",
      "text/plain": [
       "<Figure size 1080x360 with 1 Axes>"
      ]
     },
     "metadata": {
      "needs_background": "light"
     },
     "output_type": "display_data"
    }
   ],
   "source": [
    "# Let's check the data on the duration of calls.\n",
    "describe_me(data_calls, 'duration', 'Mintues')"
   ]
  },
  {
   "cell_type": "code",
   "execution_count": 11,
   "metadata": {},
   "outputs": [
    {
     "data": {
      "text/plain": [
       "count    149396.000000\n",
       "mean        370.192426\n",
       "std         278.300951\n",
       "min           0.000000\n",
       "25%         138.187500\n",
       "50%         348.015000\n",
       "75%         559.552500\n",
       "max        1724.830000\n",
       "Name: mb_used, dtype: float64"
      ]
     },
     "metadata": {},
     "output_type": "display_data"
    },
    {
     "data": {
      "text/plain": [
       "0.00      19598\n",
       "335.91        9\n",
       "447.30        9\n",
       "197.56        9\n",
       "199.11        8\n",
       "          ...  \n",
       "643.43        1\n",
       "973.04        1\n",
       "834.51        1\n",
       "777.30        1\n",
       "23.72         1\n",
       "Name: mb_used, Length: 70003, dtype: int64"
      ]
     },
     "metadata": {},
     "output_type": "display_data"
    },
    {
     "data": {
      "image/png": "[encoded data removed]",
      "text/plain": [
       "<Figure size 1080x360 with 1 Axes>"
      ]
     },
     "metadata": {
      "needs_background": "light"
     },
     "output_type": "display_data"
    },
    {
     "data": {
      "image/png": "[encoded data removed]",
      "text/plain": [
       "<Figure size 1080x360 with 1 Axes>"
      ]
     },
     "metadata": {
      "needs_background": "light"
     },
     "output_type": "display_data"
    }
   ],
   "source": [
    "# Check the data on the use of Internet traffic.\n",
    "describe_me(data_internet, 'mb_used', 'Megabytes')"
   ]
  },
  {
   "cell_type": "code",
   "execution_count": 12,
   "metadata": {
    "scrolled": false
   },
   "outputs": [
    {
     "data": {
      "text/html": [
       "<div>\n",
       "<style scoped>\n",
       "    .dataframe tbody tr th:only-of-type {\n",
       "        vertical-align: middle;\n",
       "    }\n",
       "\n",
       "    .dataframe tbody tr th {\n",
       "        vertical-align: top;\n",
       "    }\n",
       "\n",
       "    .dataframe thead th {\n",
       "        text-align: right;\n",
       "    }\n",
       "</style>\n",
       "<table border=\"1\" class=\"dataframe\">\n",
       "  <thead>\n",
       "    <tr style=\"text-align: right;\">\n",
       "      <th></th>\n",
       "      <th>id</th>\n",
       "      <th>call_date</th>\n",
       "      <th>duration</th>\n",
       "      <th>user_id</th>\n",
       "    </tr>\n",
       "  </thead>\n",
       "  <tbody>\n",
       "    <tr>\n",
       "      <th>0</th>\n",
       "      <td>1000_0</td>\n",
       "      <td>2018-07-25</td>\n",
       "      <td>0</td>\n",
       "      <td>1000</td>\n",
       "    </tr>\n",
       "    <tr>\n",
       "      <th>1</th>\n",
       "      <td>1000_1</td>\n",
       "      <td>2018-08-17</td>\n",
       "      <td>0</td>\n",
       "      <td>1000</td>\n",
       "    </tr>\n",
       "    <tr>\n",
       "      <th>2</th>\n",
       "      <td>1000_2</td>\n",
       "      <td>2018-06-11</td>\n",
       "      <td>3</td>\n",
       "      <td>1000</td>\n",
       "    </tr>\n",
       "    <tr>\n",
       "      <th>3</th>\n",
       "      <td>1000_3</td>\n",
       "      <td>2018-09-21</td>\n",
       "      <td>14</td>\n",
       "      <td>1000</td>\n",
       "    </tr>\n",
       "    <tr>\n",
       "      <th>4</th>\n",
       "      <td>1000_4</td>\n",
       "      <td>2018-12-15</td>\n",
       "      <td>6</td>\n",
       "      <td>1000</td>\n",
       "    </tr>\n",
       "    <tr>\n",
       "      <th>...</th>\n",
       "      <td>...</td>\n",
       "      <td>...</td>\n",
       "      <td>...</td>\n",
       "      <td>...</td>\n",
       "    </tr>\n",
       "    <tr>\n",
       "      <th>202602</th>\n",
       "      <td>1499_215</td>\n",
       "      <td>2018-12-26</td>\n",
       "      <td>1</td>\n",
       "      <td>1499</td>\n",
       "    </tr>\n",
       "    <tr>\n",
       "      <th>202603</th>\n",
       "      <td>1499_216</td>\n",
       "      <td>2018-10-18</td>\n",
       "      <td>19</td>\n",
       "      <td>1499</td>\n",
       "    </tr>\n",
       "    <tr>\n",
       "      <th>202604</th>\n",
       "      <td>1499_217</td>\n",
       "      <td>2018-11-10</td>\n",
       "      <td>11</td>\n",
       "      <td>1499</td>\n",
       "    </tr>\n",
       "    <tr>\n",
       "      <th>202605</th>\n",
       "      <td>1499_218</td>\n",
       "      <td>2018-10-06</td>\n",
       "      <td>5</td>\n",
       "      <td>1499</td>\n",
       "    </tr>\n",
       "    <tr>\n",
       "      <th>202606</th>\n",
       "      <td>1499_219</td>\n",
       "      <td>2018-12-14</td>\n",
       "      <td>20</td>\n",
       "      <td>1499</td>\n",
       "    </tr>\n",
       "  </tbody>\n",
       "</table>\n",
       "<p>202607 rows × 4 columns</p>\n",
       "</div>"
      ],
      "text/plain": [
       "              id  call_date  duration  user_id\n",
       "0         1000_0 2018-07-25         0     1000\n",
       "1         1000_1 2018-08-17         0     1000\n",
       "2         1000_2 2018-06-11         3     1000\n",
       "3         1000_3 2018-09-21        14     1000\n",
       "4         1000_4 2018-12-15         6     1000\n",
       "...          ...        ...       ...      ...\n",
       "202602  1499_215 2018-12-26         1     1499\n",
       "202603  1499_216 2018-10-18        19     1499\n",
       "202604  1499_217 2018-11-10        11     1499\n",
       "202605  1499_218 2018-10-06         5     1499\n",
       "202606  1499_219 2018-12-14        20     1499\n",
       "\n",
       "[202607 rows x 4 columns]"
      ]
     },
     "metadata": {},
     "output_type": "display_data"
    },
    {
     "name": "stdout",
     "output_type": "stream",
     "text": [
      "<class 'pandas.core.frame.DataFrame'>\n",
      "RangeIndex: 202607 entries, 0 to 202606\n",
      "Data columns (total 4 columns):\n",
      " #   Column     Non-Null Count   Dtype         \n",
      "---  ------     --------------   -----         \n",
      " 0   id         202607 non-null  object        \n",
      " 1   call_date  202607 non-null  datetime64[ns]\n",
      " 2   duration   202607 non-null  int64         \n",
      " 3   user_id    202607 non-null  int64         \n",
      "dtypes: datetime64[ns](1), int64(2), object(1)\n",
      "memory usage: 6.2+ MB\n"
     ]
    },
    {
     "data": {
      "text/html": [
       "<div>\n",
       "<style scoped>\n",
       "    .dataframe tbody tr th:only-of-type {\n",
       "        vertical-align: middle;\n",
       "    }\n",
       "\n",
       "    .dataframe tbody tr th {\n",
       "        vertical-align: top;\n",
       "    }\n",
       "\n",
       "    .dataframe thead th {\n",
       "        text-align: right;\n",
       "    }\n",
       "</style>\n",
       "<table border=\"1\" class=\"dataframe\">\n",
       "  <thead>\n",
       "    <tr style=\"text-align: right;\">\n",
       "      <th></th>\n",
       "      <th>id</th>\n",
       "      <th>mb_used</th>\n",
       "      <th>session_date</th>\n",
       "      <th>user_id</th>\n",
       "    </tr>\n",
       "  </thead>\n",
       "  <tbody>\n",
       "    <tr>\n",
       "      <th>0</th>\n",
       "      <td>1000_0</td>\n",
       "      <td>112.95</td>\n",
       "      <td>2018-11-25</td>\n",
       "      <td>1000</td>\n",
       "    </tr>\n",
       "    <tr>\n",
       "      <th>1</th>\n",
       "      <td>1000_1</td>\n",
       "      <td>1052.81</td>\n",
       "      <td>2018-09-07</td>\n",
       "      <td>1000</td>\n",
       "    </tr>\n",
       "    <tr>\n",
       "      <th>2</th>\n",
       "      <td>1000_2</td>\n",
       "      <td>1197.26</td>\n",
       "      <td>2018-06-25</td>\n",
       "      <td>1000</td>\n",
       "    </tr>\n",
       "    <tr>\n",
       "      <th>3</th>\n",
       "      <td>1000_3</td>\n",
       "      <td>550.27</td>\n",
       "      <td>2018-08-22</td>\n",
       "      <td>1000</td>\n",
       "    </tr>\n",
       "    <tr>\n",
       "      <th>4</th>\n",
       "      <td>1000_4</td>\n",
       "      <td>302.56</td>\n",
       "      <td>2018-09-24</td>\n",
       "      <td>1000</td>\n",
       "    </tr>\n",
       "    <tr>\n",
       "      <th>...</th>\n",
       "      <td>...</td>\n",
       "      <td>...</td>\n",
       "      <td>...</td>\n",
       "      <td>...</td>\n",
       "    </tr>\n",
       "    <tr>\n",
       "      <th>149391</th>\n",
       "      <td>1499_152</td>\n",
       "      <td>318.90</td>\n",
       "      <td>2018-10-03</td>\n",
       "      <td>1499</td>\n",
       "    </tr>\n",
       "    <tr>\n",
       "      <th>149392</th>\n",
       "      <td>1499_153</td>\n",
       "      <td>490.13</td>\n",
       "      <td>2018-12-14</td>\n",
       "      <td>1499</td>\n",
       "    </tr>\n",
       "    <tr>\n",
       "      <th>149393</th>\n",
       "      <td>1499_154</td>\n",
       "      <td>0.00</td>\n",
       "      <td>2018-10-27</td>\n",
       "      <td>1499</td>\n",
       "    </tr>\n",
       "    <tr>\n",
       "      <th>149394</th>\n",
       "      <td>1499_155</td>\n",
       "      <td>1246.32</td>\n",
       "      <td>2018-11-26</td>\n",
       "      <td>1499</td>\n",
       "    </tr>\n",
       "    <tr>\n",
       "      <th>149395</th>\n",
       "      <td>1499_156</td>\n",
       "      <td>544.37</td>\n",
       "      <td>2018-10-26</td>\n",
       "      <td>1499</td>\n",
       "    </tr>\n",
       "  </tbody>\n",
       "</table>\n",
       "<p>149396 rows × 4 columns</p>\n",
       "</div>"
      ],
      "text/plain": [
       "              id  mb_used session_date  user_id\n",
       "0         1000_0   112.95   2018-11-25     1000\n",
       "1         1000_1  1052.81   2018-09-07     1000\n",
       "2         1000_2  1197.26   2018-06-25     1000\n",
       "3         1000_3   550.27   2018-08-22     1000\n",
       "4         1000_4   302.56   2018-09-24     1000\n",
       "...          ...      ...          ...      ...\n",
       "149391  1499_152   318.90   2018-10-03     1499\n",
       "149392  1499_153   490.13   2018-12-14     1499\n",
       "149393  1499_154     0.00   2018-10-27     1499\n",
       "149394  1499_155  1246.32   2018-11-26     1499\n",
       "149395  1499_156   544.37   2018-10-26     1499\n",
       "\n",
       "[149396 rows x 4 columns]"
      ]
     },
     "metadata": {},
     "output_type": "display_data"
    },
    {
     "name": "stdout",
     "output_type": "stream",
     "text": [
      "<class 'pandas.core.frame.DataFrame'>\n",
      "Int64Index: 149396 entries, 0 to 149395\n",
      "Data columns (total 4 columns):\n",
      " #   Column        Non-Null Count   Dtype         \n",
      "---  ------        --------------   -----         \n",
      " 0   id            149396 non-null  object        \n",
      " 1   mb_used       149396 non-null  float64       \n",
      " 2   session_date  149396 non-null  datetime64[ns]\n",
      " 3   user_id       149396 non-null  int64         \n",
      "dtypes: datetime64[ns](1), float64(1), int64(1), object(1)\n",
      "memory usage: 5.7+ MB\n"
     ]
    },
    {
     "data": {
      "text/html": [
       "<div>\n",
       "<style scoped>\n",
       "    .dataframe tbody tr th:only-of-type {\n",
       "        vertical-align: middle;\n",
       "    }\n",
       "\n",
       "    .dataframe tbody tr th {\n",
       "        vertical-align: top;\n",
       "    }\n",
       "\n",
       "    .dataframe thead th {\n",
       "        text-align: right;\n",
       "    }\n",
       "</style>\n",
       "<table border=\"1\" class=\"dataframe\">\n",
       "  <thead>\n",
       "    <tr style=\"text-align: right;\">\n",
       "      <th></th>\n",
       "      <th>id</th>\n",
       "      <th>message_date</th>\n",
       "      <th>user_id</th>\n",
       "    </tr>\n",
       "  </thead>\n",
       "  <tbody>\n",
       "    <tr>\n",
       "      <th>0</th>\n",
       "      <td>1000_0</td>\n",
       "      <td>2018-06-27</td>\n",
       "      <td>1000</td>\n",
       "    </tr>\n",
       "    <tr>\n",
       "      <th>1</th>\n",
       "      <td>1000_1</td>\n",
       "      <td>2018-10-08</td>\n",
       "      <td>1000</td>\n",
       "    </tr>\n",
       "    <tr>\n",
       "      <th>2</th>\n",
       "      <td>1000_2</td>\n",
       "      <td>2018-08-04</td>\n",
       "      <td>1000</td>\n",
       "    </tr>\n",
       "    <tr>\n",
       "      <th>3</th>\n",
       "      <td>1000_3</td>\n",
       "      <td>2018-06-16</td>\n",
       "      <td>1000</td>\n",
       "    </tr>\n",
       "    <tr>\n",
       "      <th>4</th>\n",
       "      <td>1000_4</td>\n",
       "      <td>2018-12-05</td>\n",
       "      <td>1000</td>\n",
       "    </tr>\n",
       "    <tr>\n",
       "      <th>...</th>\n",
       "      <td>...</td>\n",
       "      <td>...</td>\n",
       "      <td>...</td>\n",
       "    </tr>\n",
       "    <tr>\n",
       "      <th>123031</th>\n",
       "      <td>1499_179</td>\n",
       "      <td>2018-12-12</td>\n",
       "      <td>1499</td>\n",
       "    </tr>\n",
       "    <tr>\n",
       "      <th>123032</th>\n",
       "      <td>1499_180</td>\n",
       "      <td>2018-09-28</td>\n",
       "      <td>1499</td>\n",
       "    </tr>\n",
       "    <tr>\n",
       "      <th>123033</th>\n",
       "      <td>1499_181</td>\n",
       "      <td>2018-09-27</td>\n",
       "      <td>1499</td>\n",
       "    </tr>\n",
       "    <tr>\n",
       "      <th>123034</th>\n",
       "      <td>1499_182</td>\n",
       "      <td>2018-11-15</td>\n",
       "      <td>1499</td>\n",
       "    </tr>\n",
       "    <tr>\n",
       "      <th>123035</th>\n",
       "      <td>1499_183</td>\n",
       "      <td>2018-11-16</td>\n",
       "      <td>1499</td>\n",
       "    </tr>\n",
       "  </tbody>\n",
       "</table>\n",
       "<p>123036 rows × 3 columns</p>\n",
       "</div>"
      ],
      "text/plain": [
       "              id message_date  user_id\n",
       "0         1000_0   2018-06-27     1000\n",
       "1         1000_1   2018-10-08     1000\n",
       "2         1000_2   2018-08-04     1000\n",
       "3         1000_3   2018-06-16     1000\n",
       "4         1000_4   2018-12-05     1000\n",
       "...          ...          ...      ...\n",
       "123031  1499_179   2018-12-12     1499\n",
       "123032  1499_180   2018-09-28     1499\n",
       "123033  1499_181   2018-09-27     1499\n",
       "123034  1499_182   2018-11-15     1499\n",
       "123035  1499_183   2018-11-16     1499\n",
       "\n",
       "[123036 rows x 3 columns]"
      ]
     },
     "metadata": {},
     "output_type": "display_data"
    },
    {
     "name": "stdout",
     "output_type": "stream",
     "text": [
      "<class 'pandas.core.frame.DataFrame'>\n",
      "RangeIndex: 123036 entries, 0 to 123035\n",
      "Data columns (total 3 columns):\n",
      " #   Column        Non-Null Count   Dtype         \n",
      "---  ------        --------------   -----         \n",
      " 0   id            123036 non-null  object        \n",
      " 1   message_date  123036 non-null  datetime64[ns]\n",
      " 2   user_id       123036 non-null  int64         \n",
      "dtypes: datetime64[ns](1), int64(1), object(1)\n",
      "memory usage: 2.8+ MB\n"
     ]
    },
    {
     "data": {
      "text/html": [
       "<div>\n",
       "<style scoped>\n",
       "    .dataframe tbody tr th:only-of-type {\n",
       "        vertical-align: middle;\n",
       "    }\n",
       "\n",
       "    .dataframe tbody tr th {\n",
       "        vertical-align: top;\n",
       "    }\n",
       "\n",
       "    .dataframe thead th {\n",
       "        text-align: right;\n",
       "    }\n",
       "</style>\n",
       "<table border=\"1\" class=\"dataframe\">\n",
       "  <thead>\n",
       "    <tr style=\"text-align: right;\">\n",
       "      <th></th>\n",
       "      <th>messages_included</th>\n",
       "      <th>mb_per_month_included</th>\n",
       "      <th>minutes_included</th>\n",
       "      <th>rub_monthly_fee</th>\n",
       "      <th>rub_per_gb</th>\n",
       "      <th>rub_per_message</th>\n",
       "      <th>rub_per_minute</th>\n",
       "      <th>tariff_name</th>\n",
       "    </tr>\n",
       "  </thead>\n",
       "  <tbody>\n",
       "    <tr>\n",
       "      <th>0</th>\n",
       "      <td>50</td>\n",
       "      <td>15360</td>\n",
       "      <td>500</td>\n",
       "      <td>550</td>\n",
       "      <td>200</td>\n",
       "      <td>3</td>\n",
       "      <td>3</td>\n",
       "      <td>smart</td>\n",
       "    </tr>\n",
       "    <tr>\n",
       "      <th>1</th>\n",
       "      <td>1000</td>\n",
       "      <td>30720</td>\n",
       "      <td>3000</td>\n",
       "      <td>1950</td>\n",
       "      <td>150</td>\n",
       "      <td>1</td>\n",
       "      <td>1</td>\n",
       "      <td>ultra</td>\n",
       "    </tr>\n",
       "  </tbody>\n",
       "</table>\n",
       "</div>"
      ],
      "text/plain": [
       "   messages_included  mb_per_month_included  minutes_included  \\\n",
       "0                 50                  15360               500   \n",
       "1               1000                  30720              3000   \n",
       "\n",
       "   rub_monthly_fee  rub_per_gb  rub_per_message  rub_per_minute tariff_name  \n",
       "0              550         200                3               3       smart  \n",
       "1             1950         150                1               1       ultra  "
      ]
     },
     "metadata": {},
     "output_type": "display_data"
    },
    {
     "name": "stdout",
     "output_type": "stream",
     "text": [
      "<class 'pandas.core.frame.DataFrame'>\n",
      "RangeIndex: 2 entries, 0 to 1\n",
      "Data columns (total 8 columns):\n",
      " #   Column                 Non-Null Count  Dtype \n",
      "---  ------                 --------------  ----- \n",
      " 0   messages_included      2 non-null      int64 \n",
      " 1   mb_per_month_included  2 non-null      int64 \n",
      " 2   minutes_included       2 non-null      int64 \n",
      " 3   rub_monthly_fee        2 non-null      int64 \n",
      " 4   rub_per_gb             2 non-null      int64 \n",
      " 5   rub_per_message        2 non-null      int64 \n",
      " 6   rub_per_minute         2 non-null      int64 \n",
      " 7   tariff_name            2 non-null      object\n",
      "dtypes: int64(7), object(1)\n",
      "memory usage: 256.0+ bytes\n"
     ]
    },
    {
     "data": {
      "text/html": [
       "<div>\n",
       "<style scoped>\n",
       "    .dataframe tbody tr th:only-of-type {\n",
       "        vertical-align: middle;\n",
       "    }\n",
       "\n",
       "    .dataframe tbody tr th {\n",
       "        vertical-align: top;\n",
       "    }\n",
       "\n",
       "    .dataframe thead th {\n",
       "        text-align: right;\n",
       "    }\n",
       "</style>\n",
       "<table border=\"1\" class=\"dataframe\">\n",
       "  <thead>\n",
       "    <tr style=\"text-align: right;\">\n",
       "      <th></th>\n",
       "      <th>user_id</th>\n",
       "      <th>age</th>\n",
       "      <th>churn_date</th>\n",
       "      <th>city</th>\n",
       "      <th>first_name</th>\n",
       "      <th>last_name</th>\n",
       "      <th>reg_date</th>\n",
       "      <th>tariff</th>\n",
       "    </tr>\n",
       "  </thead>\n",
       "  <tbody>\n",
       "    <tr>\n",
       "      <th>0</th>\n",
       "      <td>1000</td>\n",
       "      <td>52</td>\n",
       "      <td>NaT</td>\n",
       "      <td>Краснодар</td>\n",
       "      <td>Рафаил</td>\n",
       "      <td>Верещагин</td>\n",
       "      <td>2018-05-25</td>\n",
       "      <td>ultra</td>\n",
       "    </tr>\n",
       "    <tr>\n",
       "      <th>1</th>\n",
       "      <td>1001</td>\n",
       "      <td>41</td>\n",
       "      <td>NaT</td>\n",
       "      <td>Москва</td>\n",
       "      <td>Иван</td>\n",
       "      <td>Ежов</td>\n",
       "      <td>2018-11-01</td>\n",
       "      <td>smart</td>\n",
       "    </tr>\n",
       "    <tr>\n",
       "      <th>2</th>\n",
       "      <td>1002</td>\n",
       "      <td>59</td>\n",
       "      <td>NaT</td>\n",
       "      <td>Стерлитамак</td>\n",
       "      <td>Евгений</td>\n",
       "      <td>Абрамович</td>\n",
       "      <td>2018-06-17</td>\n",
       "      <td>smart</td>\n",
       "    </tr>\n",
       "    <tr>\n",
       "      <th>3</th>\n",
       "      <td>1003</td>\n",
       "      <td>23</td>\n",
       "      <td>NaT</td>\n",
       "      <td>Москва</td>\n",
       "      <td>Белла</td>\n",
       "      <td>Белякова</td>\n",
       "      <td>2018-08-17</td>\n",
       "      <td>ultra</td>\n",
       "    </tr>\n",
       "    <tr>\n",
       "      <th>4</th>\n",
       "      <td>1004</td>\n",
       "      <td>68</td>\n",
       "      <td>NaT</td>\n",
       "      <td>Новокузнецк</td>\n",
       "      <td>Татьяна</td>\n",
       "      <td>Авдеенко</td>\n",
       "      <td>2018-05-14</td>\n",
       "      <td>ultra</td>\n",
       "    </tr>\n",
       "    <tr>\n",
       "      <th>...</th>\n",
       "      <td>...</td>\n",
       "      <td>...</td>\n",
       "      <td>...</td>\n",
       "      <td>...</td>\n",
       "      <td>...</td>\n",
       "      <td>...</td>\n",
       "      <td>...</td>\n",
       "      <td>...</td>\n",
       "    </tr>\n",
       "    <tr>\n",
       "      <th>495</th>\n",
       "      <td>1495</td>\n",
       "      <td>65</td>\n",
       "      <td>NaT</td>\n",
       "      <td>Иркутск</td>\n",
       "      <td>Авксентий</td>\n",
       "      <td>Фокин</td>\n",
       "      <td>2018-08-28</td>\n",
       "      <td>ultra</td>\n",
       "    </tr>\n",
       "    <tr>\n",
       "      <th>496</th>\n",
       "      <td>1496</td>\n",
       "      <td>36</td>\n",
       "      <td>NaT</td>\n",
       "      <td>Вологда</td>\n",
       "      <td>Трифон</td>\n",
       "      <td>Блохин</td>\n",
       "      <td>2018-01-27</td>\n",
       "      <td>smart</td>\n",
       "    </tr>\n",
       "    <tr>\n",
       "      <th>497</th>\n",
       "      <td>1497</td>\n",
       "      <td>32</td>\n",
       "      <td>NaT</td>\n",
       "      <td>Челябинск</td>\n",
       "      <td>Каролина</td>\n",
       "      <td>Агеева</td>\n",
       "      <td>2018-10-09</td>\n",
       "      <td>smart</td>\n",
       "    </tr>\n",
       "    <tr>\n",
       "      <th>498</th>\n",
       "      <td>1498</td>\n",
       "      <td>68</td>\n",
       "      <td>2018-10-25</td>\n",
       "      <td>Владикавказ</td>\n",
       "      <td>Всеволод</td>\n",
       "      <td>Акимчин</td>\n",
       "      <td>2018-07-19</td>\n",
       "      <td>smart</td>\n",
       "    </tr>\n",
       "    <tr>\n",
       "      <th>499</th>\n",
       "      <td>1499</td>\n",
       "      <td>35</td>\n",
       "      <td>NaT</td>\n",
       "      <td>Пермь</td>\n",
       "      <td>Гектор</td>\n",
       "      <td>Корнилов</td>\n",
       "      <td>2018-09-27</td>\n",
       "      <td>smart</td>\n",
       "    </tr>\n",
       "  </tbody>\n",
       "</table>\n",
       "<p>500 rows × 8 columns</p>\n",
       "</div>"
      ],
      "text/plain": [
       "     user_id  age churn_date         city first_name  last_name   reg_date  \\\n",
       "0       1000   52        NaT    Краснодар     Рафаил  Верещагин 2018-05-25   \n",
       "1       1001   41        NaT       Москва       Иван       Ежов 2018-11-01   \n",
       "2       1002   59        NaT  Стерлитамак    Евгений  Абрамович 2018-06-17   \n",
       "3       1003   23        NaT       Москва      Белла   Белякова 2018-08-17   \n",
       "4       1004   68        NaT  Новокузнецк    Татьяна   Авдеенко 2018-05-14   \n",
       "..       ...  ...        ...          ...        ...        ...        ...   \n",
       "495     1495   65        NaT      Иркутск  Авксентий      Фокин 2018-08-28   \n",
       "496     1496   36        NaT      Вологда     Трифон     Блохин 2018-01-27   \n",
       "497     1497   32        NaT    Челябинск   Каролина     Агеева 2018-10-09   \n",
       "498     1498   68 2018-10-25  Владикавказ   Всеволод    Акимчин 2018-07-19   \n",
       "499     1499   35        NaT        Пермь     Гектор   Корнилов 2018-09-27   \n",
       "\n",
       "    tariff  \n",
       "0    ultra  \n",
       "1    smart  \n",
       "2    smart  \n",
       "3    ultra  \n",
       "4    ultra  \n",
       "..     ...  \n",
       "495  ultra  \n",
       "496  smart  \n",
       "497  smart  \n",
       "498  smart  \n",
       "499  smart  \n",
       "\n",
       "[500 rows x 8 columns]"
      ]
     },
     "metadata": {},
     "output_type": "display_data"
    },
    {
     "name": "stdout",
     "output_type": "stream",
     "text": [
      "<class 'pandas.core.frame.DataFrame'>\n",
      "RangeIndex: 500 entries, 0 to 499\n",
      "Data columns (total 8 columns):\n",
      " #   Column      Non-Null Count  Dtype         \n",
      "---  ------      --------------  -----         \n",
      " 0   user_id     500 non-null    int64         \n",
      " 1   age         500 non-null    int64         \n",
      " 2   churn_date  38 non-null     datetime64[ns]\n",
      " 3   city        500 non-null    object        \n",
      " 4   first_name  500 non-null    object        \n",
      " 5   last_name   500 non-null    object        \n",
      " 6   reg_date    500 non-null    datetime64[ns]\n",
      " 7   tariff      500 non-null    object        \n",
      "dtypes: datetime64[ns](2), int64(2), object(4)\n",
      "memory usage: 31.4+ KB\n"
     ]
    }
   ],
   "source": [
    "# Let's review what we've done.\n",
    "datasets = [data_calls, data_internet, data_messages, data_tariffs, data_users]\n",
    "for i in datasets:\n",
    "    display(i)\n",
    "    i.info()"
   ]
  },
  {
   "cell_type": "markdown",
   "metadata": {},
   "source": [
    "### Conclusion"
   ]
  },
  {
   "cell_type": "markdown",
   "metadata": {},
   "source": [
    "**Missing values**\n",
    "\n",
    "* There are no missing values in the **data_calls**, **data_internet**, **data_messages** and **data_tariffs** datasets. In the **data_users** table, there are missing values in the **churn_date** column, but we do not need to replace or get rid of them, since they make sense (the plan was still in effect at the time the data was uploaded).\n",
    "\n",
    "* The **data_calls** dataset contains null values in the **duration** column. This is not an error, but a missed call.\n",
    "\n",
    "**Changing data types**\n",
    "\n",
    "* In the **data_calls**, **data_internet**, **data_messages** and **data_users** tables, the date format is `object`. Let's change it to `datetime`.\n",
    "\n",
    "* In the **data_calls** table, round the minutes to integer values and change the format to `int`.\n",
    "\n",
    "**Duplicates**\n",
    "\n",
    "The only data field where it makes sense to search for duplicates is the **city** column of the **data_users** table. Checking showed that there are no duplicates.\n",
    "\n",
    "**Study data for anomalies**\n",
    "\n",
    "Examined data in tables **data_calls** and **data_internet** for abnormal values (columns **duration** and **mb_used** respectively). For study, the function `describe_me` was created, containing the methods `describe()`, `value_counts()`, `plot`. Histograms and boxplots of data are constructed. The analysis showed that in both tables the data is distributed abnormally - there is a large peak at zero. Otherwise, histograms resemble a right-skewed normal distribution.\n",
    "  \n",
    "The null values in the **data_calls** table were most likely formed during the registration of missed calls. Such values appear in the vast majority of users. Moreover, colleagues drew our attention to this when transferring datasets to complete our task. The maximum value is 38 minutes. This is a very real value. Well, such data can really exist, and they reflect reality, so it is not advisable to delete / replace them.\n",
    "  \n",
    "Null values in the **data_internet** table are also found in the vast majority of users. Most likely, they were formed because during these sessions such a small amount of traffic was consumed (a few kilobytes) that a value equal to zero got into the archive (especially since it is fixed in megabytes).\n",
    "The maximum value is 1724 MB. This value is very real.\n",
    "Zero values in this sample may indeed exist, and they reflect reality, so it is not practical to remove/replace them."
   ]
  },
  {
   "cell_type": "markdown",
   "metadata": {},
   "source": [
    "## Calculations and adding the results necessary for analysis"
   ]
  },
  {
   "cell_type": "code",
   "execution_count": 13,
   "metadata": {},
   "outputs": [],
   "source": [
    "# For further work, we need to join the tables.\n",
    "# For ease of joining, let's give table columns more specific names.\n",
    "data_calls = data_calls.rename(columns={'id':'call_id'})\n",
    "data_internet = data_internet.rename(columns={'id':'session_id'})\n",
    "data_messages = data_messages.rename(columns={'id':'message_id'})\n",
    "data_tariffs = data_tariffs.rename(columns = {'tariff_name':'tariff'})"
   ]
  },
  {
   "cell_type": "code",
   "execution_count": 14,
   "metadata": {},
   "outputs": [
    {
     "data": {
      "text/html": [
       "<div>\n",
       "<style scoped>\n",
       "    .dataframe tbody tr th:only-of-type {\n",
       "        vertical-align: middle;\n",
       "    }\n",
       "\n",
       "    .dataframe tbody tr th {\n",
       "        vertical-align: top;\n",
       "    }\n",
       "\n",
       "    .dataframe thead th {\n",
       "        text-align: right;\n",
       "    }\n",
       "</style>\n",
       "<table border=\"1\" class=\"dataframe\">\n",
       "  <thead>\n",
       "    <tr style=\"text-align: right;\">\n",
       "      <th></th>\n",
       "      <th>user_id</th>\n",
       "      <th>age</th>\n",
       "      <th>churn_date</th>\n",
       "      <th>city</th>\n",
       "      <th>first_name</th>\n",
       "      <th>last_name</th>\n",
       "      <th>reg_date</th>\n",
       "      <th>tariff</th>\n",
       "      <th>messages_included</th>\n",
       "      <th>mb_per_month_included</th>\n",
       "      <th>minutes_included</th>\n",
       "      <th>rub_monthly_fee</th>\n",
       "      <th>rub_per_gb</th>\n",
       "      <th>rub_per_message</th>\n",
       "      <th>rub_per_minute</th>\n",
       "    </tr>\n",
       "  </thead>\n",
       "  <tbody>\n",
       "    <tr>\n",
       "      <th>0</th>\n",
       "      <td>1000</td>\n",
       "      <td>52</td>\n",
       "      <td>NaT</td>\n",
       "      <td>Краснодар</td>\n",
       "      <td>Рафаил</td>\n",
       "      <td>Верещагин</td>\n",
       "      <td>2018-05-25</td>\n",
       "      <td>ultra</td>\n",
       "      <td>1000</td>\n",
       "      <td>30720</td>\n",
       "      <td>3000</td>\n",
       "      <td>1950</td>\n",
       "      <td>150</td>\n",
       "      <td>1</td>\n",
       "      <td>1</td>\n",
       "    </tr>\n",
       "    <tr>\n",
       "      <th>1</th>\n",
       "      <td>1003</td>\n",
       "      <td>23</td>\n",
       "      <td>NaT</td>\n",
       "      <td>Москва</td>\n",
       "      <td>Белла</td>\n",
       "      <td>Белякова</td>\n",
       "      <td>2018-08-17</td>\n",
       "      <td>ultra</td>\n",
       "      <td>1000</td>\n",
       "      <td>30720</td>\n",
       "      <td>3000</td>\n",
       "      <td>1950</td>\n",
       "      <td>150</td>\n",
       "      <td>1</td>\n",
       "      <td>1</td>\n",
       "    </tr>\n",
       "    <tr>\n",
       "      <th>2</th>\n",
       "      <td>1004</td>\n",
       "      <td>68</td>\n",
       "      <td>NaT</td>\n",
       "      <td>Новокузнецк</td>\n",
       "      <td>Татьяна</td>\n",
       "      <td>Авдеенко</td>\n",
       "      <td>2018-05-14</td>\n",
       "      <td>ultra</td>\n",
       "      <td>1000</td>\n",
       "      <td>30720</td>\n",
       "      <td>3000</td>\n",
       "      <td>1950</td>\n",
       "      <td>150</td>\n",
       "      <td>1</td>\n",
       "      <td>1</td>\n",
       "    </tr>\n",
       "    <tr>\n",
       "      <th>3</th>\n",
       "      <td>1013</td>\n",
       "      <td>36</td>\n",
       "      <td>NaT</td>\n",
       "      <td>Иваново</td>\n",
       "      <td>Борис</td>\n",
       "      <td>Андреенко</td>\n",
       "      <td>2018-11-14</td>\n",
       "      <td>ultra</td>\n",
       "      <td>1000</td>\n",
       "      <td>30720</td>\n",
       "      <td>3000</td>\n",
       "      <td>1950</td>\n",
       "      <td>150</td>\n",
       "      <td>1</td>\n",
       "      <td>1</td>\n",
       "    </tr>\n",
       "    <tr>\n",
       "      <th>4</th>\n",
       "      <td>1016</td>\n",
       "      <td>58</td>\n",
       "      <td>NaT</td>\n",
       "      <td>Омск</td>\n",
       "      <td>Марица</td>\n",
       "      <td>Сазонова</td>\n",
       "      <td>2018-11-21</td>\n",
       "      <td>ultra</td>\n",
       "      <td>1000</td>\n",
       "      <td>30720</td>\n",
       "      <td>3000</td>\n",
       "      <td>1950</td>\n",
       "      <td>150</td>\n",
       "      <td>1</td>\n",
       "      <td>1</td>\n",
       "    </tr>\n",
       "    <tr>\n",
       "      <th>...</th>\n",
       "      <td>...</td>\n",
       "      <td>...</td>\n",
       "      <td>...</td>\n",
       "      <td>...</td>\n",
       "      <td>...</td>\n",
       "      <td>...</td>\n",
       "      <td>...</td>\n",
       "      <td>...</td>\n",
       "      <td>...</td>\n",
       "      <td>...</td>\n",
       "      <td>...</td>\n",
       "      <td>...</td>\n",
       "      <td>...</td>\n",
       "      <td>...</td>\n",
       "      <td>...</td>\n",
       "    </tr>\n",
       "    <tr>\n",
       "      <th>495</th>\n",
       "      <td>1494</td>\n",
       "      <td>62</td>\n",
       "      <td>NaT</td>\n",
       "      <td>Омск</td>\n",
       "      <td>Ренат</td>\n",
       "      <td>Андропов</td>\n",
       "      <td>2018-08-17</td>\n",
       "      <td>smart</td>\n",
       "      <td>50</td>\n",
       "      <td>15360</td>\n",
       "      <td>500</td>\n",
       "      <td>550</td>\n",
       "      <td>200</td>\n",
       "      <td>3</td>\n",
       "      <td>3</td>\n",
       "    </tr>\n",
       "    <tr>\n",
       "      <th>496</th>\n",
       "      <td>1496</td>\n",
       "      <td>36</td>\n",
       "      <td>NaT</td>\n",
       "      <td>Вологда</td>\n",
       "      <td>Трифон</td>\n",
       "      <td>Блохин</td>\n",
       "      <td>2018-01-27</td>\n",
       "      <td>smart</td>\n",
       "      <td>50</td>\n",
       "      <td>15360</td>\n",
       "      <td>500</td>\n",
       "      <td>550</td>\n",
       "      <td>200</td>\n",
       "      <td>3</td>\n",
       "      <td>3</td>\n",
       "    </tr>\n",
       "    <tr>\n",
       "      <th>497</th>\n",
       "      <td>1497</td>\n",
       "      <td>32</td>\n",
       "      <td>NaT</td>\n",
       "      <td>Челябинск</td>\n",
       "      <td>Каролина</td>\n",
       "      <td>Агеева</td>\n",
       "      <td>2018-10-09</td>\n",
       "      <td>smart</td>\n",
       "      <td>50</td>\n",
       "      <td>15360</td>\n",
       "      <td>500</td>\n",
       "      <td>550</td>\n",
       "      <td>200</td>\n",
       "      <td>3</td>\n",
       "      <td>3</td>\n",
       "    </tr>\n",
       "    <tr>\n",
       "      <th>498</th>\n",
       "      <td>1498</td>\n",
       "      <td>68</td>\n",
       "      <td>2018-10-25</td>\n",
       "      <td>Владикавказ</td>\n",
       "      <td>Всеволод</td>\n",
       "      <td>Акимчин</td>\n",
       "      <td>2018-07-19</td>\n",
       "      <td>smart</td>\n",
       "      <td>50</td>\n",
       "      <td>15360</td>\n",
       "      <td>500</td>\n",
       "      <td>550</td>\n",
       "      <td>200</td>\n",
       "      <td>3</td>\n",
       "      <td>3</td>\n",
       "    </tr>\n",
       "    <tr>\n",
       "      <th>499</th>\n",
       "      <td>1499</td>\n",
       "      <td>35</td>\n",
       "      <td>NaT</td>\n",
       "      <td>Пермь</td>\n",
       "      <td>Гектор</td>\n",
       "      <td>Корнилов</td>\n",
       "      <td>2018-09-27</td>\n",
       "      <td>smart</td>\n",
       "      <td>50</td>\n",
       "      <td>15360</td>\n",
       "      <td>500</td>\n",
       "      <td>550</td>\n",
       "      <td>200</td>\n",
       "      <td>3</td>\n",
       "      <td>3</td>\n",
       "    </tr>\n",
       "  </tbody>\n",
       "</table>\n",
       "<p>500 rows × 15 columns</p>\n",
       "</div>"
      ],
      "text/plain": [
       "     user_id  age churn_date         city first_name  last_name   reg_date  \\\n",
       "0       1000   52        NaT    Краснодар     Рафаил  Верещагин 2018-05-25   \n",
       "1       1003   23        NaT       Москва      Белла   Белякова 2018-08-17   \n",
       "2       1004   68        NaT  Новокузнецк    Татьяна   Авдеенко 2018-05-14   \n",
       "3       1013   36        NaT      Иваново      Борис  Андреенко 2018-11-14   \n",
       "4       1016   58        NaT         Омск     Марица   Сазонова 2018-11-21   \n",
       "..       ...  ...        ...          ...        ...        ...        ...   \n",
       "495     1494   62        NaT         Омск      Ренат   Андропов 2018-08-17   \n",
       "496     1496   36        NaT      Вологда     Трифон     Блохин 2018-01-27   \n",
       "497     1497   32        NaT    Челябинск   Каролина     Агеева 2018-10-09   \n",
       "498     1498   68 2018-10-25  Владикавказ   Всеволод    Акимчин 2018-07-19   \n",
       "499     1499   35        NaT        Пермь     Гектор   Корнилов 2018-09-27   \n",
       "\n",
       "    tariff  messages_included  mb_per_month_included  minutes_included  \\\n",
       "0    ultra               1000                  30720              3000   \n",
       "1    ultra               1000                  30720              3000   \n",
       "2    ultra               1000                  30720              3000   \n",
       "3    ultra               1000                  30720              3000   \n",
       "4    ultra               1000                  30720              3000   \n",
       "..     ...                ...                    ...               ...   \n",
       "495  smart                 50                  15360               500   \n",
       "496  smart                 50                  15360               500   \n",
       "497  smart                 50                  15360               500   \n",
       "498  smart                 50                  15360               500   \n",
       "499  smart                 50                  15360               500   \n",
       "\n",
       "     rub_monthly_fee  rub_per_gb  rub_per_message  rub_per_minute  \n",
       "0               1950         150                1               1  \n",
       "1               1950         150                1               1  \n",
       "2               1950         150                1               1  \n",
       "3               1950         150                1               1  \n",
       "4               1950         150                1               1  \n",
       "..               ...         ...              ...             ...  \n",
       "495              550         200                3               3  \n",
       "496              550         200                3               3  \n",
       "497              550         200                3               3  \n",
       "498              550         200                3               3  \n",
       "499              550         200                3               3  \n",
       "\n",
       "[500 rows x 15 columns]"
      ]
     },
     "metadata": {},
     "output_type": "display_data"
    }
   ],
   "source": [
    "# Let's merge the data_users and data_tariffs tables.\n",
    "data_users_w_tariffs = data_users.merge(data_tariffs, on='tariff')\n",
    "display(data_users_w_tariffs)"
   ]
  },
  {
   "cell_type": "code",
   "execution_count": 15,
   "metadata": {},
   "outputs": [
    {
     "data": {
      "text/html": [
       "<div>\n",
       "<style scoped>\n",
       "    .dataframe tbody tr th:only-of-type {\n",
       "        vertical-align: middle;\n",
       "    }\n",
       "\n",
       "    .dataframe tbody tr th {\n",
       "        vertical-align: top;\n",
       "    }\n",
       "\n",
       "    .dataframe thead th {\n",
       "        text-align: right;\n",
       "    }\n",
       "</style>\n",
       "<table border=\"1\" class=\"dataframe\">\n",
       "  <thead>\n",
       "    <tr style=\"text-align: right;\">\n",
       "      <th></th>\n",
       "      <th>user_id</th>\n",
       "      <th>month</th>\n",
       "      <th>number_of_calls</th>\n",
       "      <th>total_call_duration</th>\n",
       "    </tr>\n",
       "  </thead>\n",
       "  <tbody>\n",
       "    <tr>\n",
       "      <th>0</th>\n",
       "      <td>1000</td>\n",
       "      <td>5</td>\n",
       "      <td>22</td>\n",
       "      <td>159</td>\n",
       "    </tr>\n",
       "    <tr>\n",
       "      <th>1</th>\n",
       "      <td>1000</td>\n",
       "      <td>6</td>\n",
       "      <td>43</td>\n",
       "      <td>172</td>\n",
       "    </tr>\n",
       "    <tr>\n",
       "      <th>2</th>\n",
       "      <td>1000</td>\n",
       "      <td>7</td>\n",
       "      <td>47</td>\n",
       "      <td>340</td>\n",
       "    </tr>\n",
       "    <tr>\n",
       "      <th>3</th>\n",
       "      <td>1000</td>\n",
       "      <td>8</td>\n",
       "      <td>52</td>\n",
       "      <td>408</td>\n",
       "    </tr>\n",
       "    <tr>\n",
       "      <th>4</th>\n",
       "      <td>1000</td>\n",
       "      <td>9</td>\n",
       "      <td>58</td>\n",
       "      <td>466</td>\n",
       "    </tr>\n",
       "    <tr>\n",
       "      <th>...</th>\n",
       "      <td>...</td>\n",
       "      <td>...</td>\n",
       "      <td>...</td>\n",
       "      <td>...</td>\n",
       "    </tr>\n",
       "    <tr>\n",
       "      <th>3169</th>\n",
       "      <td>1498</td>\n",
       "      <td>10</td>\n",
       "      <td>41</td>\n",
       "      <td>247</td>\n",
       "    </tr>\n",
       "    <tr>\n",
       "      <th>3170</th>\n",
       "      <td>1499</td>\n",
       "      <td>9</td>\n",
       "      <td>9</td>\n",
       "      <td>70</td>\n",
       "    </tr>\n",
       "    <tr>\n",
       "      <th>3171</th>\n",
       "      <td>1499</td>\n",
       "      <td>10</td>\n",
       "      <td>68</td>\n",
       "      <td>449</td>\n",
       "    </tr>\n",
       "    <tr>\n",
       "      <th>3172</th>\n",
       "      <td>1499</td>\n",
       "      <td>11</td>\n",
       "      <td>74</td>\n",
       "      <td>612</td>\n",
       "    </tr>\n",
       "    <tr>\n",
       "      <th>3173</th>\n",
       "      <td>1499</td>\n",
       "      <td>12</td>\n",
       "      <td>69</td>\n",
       "      <td>492</td>\n",
       "    </tr>\n",
       "  </tbody>\n",
       "</table>\n",
       "<p>3174 rows × 4 columns</p>\n",
       "</div>"
      ],
      "text/plain": [
       "      user_id  month  number_of_calls  total_call_duration\n",
       "0        1000      5               22                  159\n",
       "1        1000      6               43                  172\n",
       "2        1000      7               47                  340\n",
       "3        1000      8               52                  408\n",
       "4        1000      9               58                  466\n",
       "...       ...    ...              ...                  ...\n",
       "3169     1498     10               41                  247\n",
       "3170     1499      9                9                   70\n",
       "3171     1499     10               68                  449\n",
       "3172     1499     11               74                  612\n",
       "3173     1499     12               69                  492\n",
       "\n",
       "[3174 rows x 4 columns]"
      ]
     },
     "metadata": {},
     "output_type": "display_data"
    }
   ],
   "source": [
    "# Create a pivot table according to the data_calls table.\n",
    "# Reflect in it the number of calls made and minutes spent\n",
    "# monthly conversations per user.\n",
    "# First add a column with the month of the call.\n",
    "data_calls['month'] = pd.DatetimeIndex(data_calls['call_date']).month\n",
    "# Create a pivot table.\n",
    "data_calls_by_user = data_calls.pivot_table(\n",
    "    index=['user_id','month'], \n",
    "    values=['duration'], \n",
    "    aggfunc=['count','sum']).reset_index()\n",
    "# Rename names of the columns.\n",
    "data_calls_by_user.columns = [\n",
    "    'user_id', \n",
    "    'month', \n",
    "    'number_of_calls', \n",
    "    'total_call_duration'\n",
    "]\n",
    "display(data_calls_by_user)"
   ]
  },
  {
   "cell_type": "code",
   "execution_count": 16,
   "metadata": {},
   "outputs": [
    {
     "data": {
      "text/html": [
       "<div>\n",
       "<style scoped>\n",
       "    .dataframe tbody tr th:only-of-type {\n",
       "        vertical-align: middle;\n",
       "    }\n",
       "\n",
       "    .dataframe tbody tr th {\n",
       "        vertical-align: top;\n",
       "    }\n",
       "\n",
       "    .dataframe thead th {\n",
       "        text-align: right;\n",
       "    }\n",
       "</style>\n",
       "<table border=\"1\" class=\"dataframe\">\n",
       "  <thead>\n",
       "    <tr style=\"text-align: right;\">\n",
       "      <th></th>\n",
       "      <th>user_id</th>\n",
       "      <th>month</th>\n",
       "      <th>messages_number</th>\n",
       "    </tr>\n",
       "  </thead>\n",
       "  <tbody>\n",
       "    <tr>\n",
       "      <th>0</th>\n",
       "      <td>1000</td>\n",
       "      <td>5</td>\n",
       "      <td>22</td>\n",
       "    </tr>\n",
       "    <tr>\n",
       "      <th>1</th>\n",
       "      <td>1000</td>\n",
       "      <td>6</td>\n",
       "      <td>60</td>\n",
       "    </tr>\n",
       "    <tr>\n",
       "      <th>2</th>\n",
       "      <td>1000</td>\n",
       "      <td>7</td>\n",
       "      <td>75</td>\n",
       "    </tr>\n",
       "    <tr>\n",
       "      <th>3</th>\n",
       "      <td>1000</td>\n",
       "      <td>8</td>\n",
       "      <td>81</td>\n",
       "    </tr>\n",
       "    <tr>\n",
       "      <th>4</th>\n",
       "      <td>1000</td>\n",
       "      <td>9</td>\n",
       "      <td>57</td>\n",
       "    </tr>\n",
       "    <tr>\n",
       "      <th>...</th>\n",
       "      <td>...</td>\n",
       "      <td>...</td>\n",
       "      <td>...</td>\n",
       "    </tr>\n",
       "    <tr>\n",
       "      <th>2712</th>\n",
       "      <td>1498</td>\n",
       "      <td>10</td>\n",
       "      <td>42</td>\n",
       "    </tr>\n",
       "    <tr>\n",
       "      <th>2713</th>\n",
       "      <td>1499</td>\n",
       "      <td>9</td>\n",
       "      <td>11</td>\n",
       "    </tr>\n",
       "    <tr>\n",
       "      <th>2714</th>\n",
       "      <td>1499</td>\n",
       "      <td>10</td>\n",
       "      <td>48</td>\n",
       "    </tr>\n",
       "    <tr>\n",
       "      <th>2715</th>\n",
       "      <td>1499</td>\n",
       "      <td>11</td>\n",
       "      <td>59</td>\n",
       "    </tr>\n",
       "    <tr>\n",
       "      <th>2716</th>\n",
       "      <td>1499</td>\n",
       "      <td>12</td>\n",
       "      <td>66</td>\n",
       "    </tr>\n",
       "  </tbody>\n",
       "</table>\n",
       "<p>2717 rows × 3 columns</p>\n",
       "</div>"
      ],
      "text/plain": [
       "      user_id  month  messages_number\n",
       "0        1000      5               22\n",
       "1        1000      6               60\n",
       "2        1000      7               75\n",
       "3        1000      8               81\n",
       "4        1000      9               57\n",
       "...       ...    ...              ...\n",
       "2712     1498     10               42\n",
       "2713     1499      9               11\n",
       "2714     1499     10               48\n",
       "2715     1499     11               59\n",
       "2716     1499     12               66\n",
       "\n",
       "[2717 rows x 3 columns]"
      ]
     },
     "metadata": {},
     "output_type": "display_data"
    }
   ],
   "source": [
    "# Calculate for each user the number of sent\n",
    "# messages by month.\n",
    "# Add a column with the month of the call \n",
    "# to the data_messages dataset.\n",
    "data_messages['month'] = pd.DatetimeIndex(\n",
    "    data_messages['message_date']\n",
    ").month\n",
    "# Create a pivot table.\n",
    "data_messages_by_user = data_messages.pivot_table(\n",
    "    index=['user_id', 'month'], \n",
    "    values='message_id',\n",
    "    aggfunc='count').reset_index()\n",
    "# Rename the column.\n",
    "data_messages_by_user.columns=['user_id', 'month', 'messages_number']\n",
    "display(data_messages_by_user)"
   ]
  },
  {
   "cell_type": "code",
   "execution_count": 17,
   "metadata": {},
   "outputs": [
    {
     "data": {
      "text/html": [
       "<div>\n",
       "<style scoped>\n",
       "    .dataframe tbody tr th:only-of-type {\n",
       "        vertical-align: middle;\n",
       "    }\n",
       "\n",
       "    .dataframe tbody tr th {\n",
       "        vertical-align: top;\n",
       "    }\n",
       "\n",
       "    .dataframe thead th {\n",
       "        text-align: right;\n",
       "    }\n",
       "</style>\n",
       "<table border=\"1\" class=\"dataframe\">\n",
       "  <thead>\n",
       "    <tr style=\"text-align: right;\">\n",
       "      <th></th>\n",
       "      <th>user_id</th>\n",
       "      <th>month</th>\n",
       "      <th>gb_used_total</th>\n",
       "    </tr>\n",
       "  </thead>\n",
       "  <tbody>\n",
       "    <tr>\n",
       "      <th>0</th>\n",
       "      <td>1000</td>\n",
       "      <td>5</td>\n",
       "      <td>3</td>\n",
       "    </tr>\n",
       "    <tr>\n",
       "      <th>1</th>\n",
       "      <td>1000</td>\n",
       "      <td>6</td>\n",
       "      <td>23</td>\n",
       "    </tr>\n",
       "    <tr>\n",
       "      <th>2</th>\n",
       "      <td>1000</td>\n",
       "      <td>7</td>\n",
       "      <td>14</td>\n",
       "    </tr>\n",
       "    <tr>\n",
       "      <th>3</th>\n",
       "      <td>1000</td>\n",
       "      <td>8</td>\n",
       "      <td>14</td>\n",
       "    </tr>\n",
       "    <tr>\n",
       "      <th>4</th>\n",
       "      <td>1000</td>\n",
       "      <td>9</td>\n",
       "      <td>15</td>\n",
       "    </tr>\n",
       "    <tr>\n",
       "      <th>...</th>\n",
       "      <td>...</td>\n",
       "      <td>...</td>\n",
       "      <td>...</td>\n",
       "    </tr>\n",
       "    <tr>\n",
       "      <th>3198</th>\n",
       "      <td>1498</td>\n",
       "      <td>10</td>\n",
       "      <td>21</td>\n",
       "    </tr>\n",
       "    <tr>\n",
       "      <th>3199</th>\n",
       "      <td>1499</td>\n",
       "      <td>9</td>\n",
       "      <td>2</td>\n",
       "    </tr>\n",
       "    <tr>\n",
       "      <th>3200</th>\n",
       "      <td>1499</td>\n",
       "      <td>10</td>\n",
       "      <td>18</td>\n",
       "    </tr>\n",
       "    <tr>\n",
       "      <th>3201</th>\n",
       "      <td>1499</td>\n",
       "      <td>11</td>\n",
       "      <td>18</td>\n",
       "    </tr>\n",
       "    <tr>\n",
       "      <th>3202</th>\n",
       "      <td>1499</td>\n",
       "      <td>12</td>\n",
       "      <td>13</td>\n",
       "    </tr>\n",
       "  </tbody>\n",
       "</table>\n",
       "<p>3203 rows × 3 columns</p>\n",
       "</div>"
      ],
      "text/plain": [
       "      user_id  month  gb_used_total\n",
       "0        1000      5              3\n",
       "1        1000      6             23\n",
       "2        1000      7             14\n",
       "3        1000      8             14\n",
       "4        1000      9             15\n",
       "...       ...    ...            ...\n",
       "3198     1498     10             21\n",
       "3199     1499      9              2\n",
       "3200     1499     10             18\n",
       "3201     1499     11             18\n",
       "3202     1499     12             13\n",
       "\n",
       "[3203 rows x 3 columns]"
      ]
     },
     "metadata": {},
     "output_type": "display_data"
    }
   ],
   "source": [
    "# Calculate the volume for each user\n",
    "# of used traffic by month.\n",
    "# Add a column with the month of the session \n",
    "# to the data_internet dataset.\n",
    "data_internet['month'] = pd.DatetimeIndex(\n",
    "    data_internet['session_date']\n",
    ").month\n",
    "# Create a pivot table for the dataset data_internet.\n",
    "data_internet_by_user = data_internet.pivot_table(\n",
    "    index=['user_id', 'month'], \n",
    "    values='mb_used',\n",
    "    aggfunc='sum').reset_index()\n",
    "# Rename the column.\n",
    "data_internet_by_user.columns=['user_id', 'month', 'gb_used_total']\n",
    "# Let's round up megabytes to gigabytes.\n",
    "def gb(mb):\n",
    "    result = mt.ceil(mb / 1024)\n",
    "    return result\n",
    "\n",
    "data_internet_by_user['gb_used_total'] = data_internet_by_user[\n",
    "    'gb_used_total'].apply(gb)\n",
    "display(data_internet_by_user)"
   ]
  },
  {
   "cell_type": "code",
   "execution_count": 18,
   "metadata": {},
   "outputs": [
    {
     "data": {
      "text/html": [
       "<div>\n",
       "<style scoped>\n",
       "    .dataframe tbody tr th:only-of-type {\n",
       "        vertical-align: middle;\n",
       "    }\n",
       "\n",
       "    .dataframe tbody tr th {\n",
       "        vertical-align: top;\n",
       "    }\n",
       "\n",
       "    .dataframe thead th {\n",
       "        text-align: right;\n",
       "    }\n",
       "</style>\n",
       "<table border=\"1\" class=\"dataframe\">\n",
       "  <thead>\n",
       "    <tr style=\"text-align: right;\">\n",
       "      <th></th>\n",
       "      <th>user_id</th>\n",
       "      <th>month</th>\n",
       "      <th>number_of_calls</th>\n",
       "      <th>total_call_duration</th>\n",
       "      <th>messages_number</th>\n",
       "      <th>gb_used_total</th>\n",
       "      <th>age</th>\n",
       "      <th>churn_date</th>\n",
       "      <th>city</th>\n",
       "      <th>first_name</th>\n",
       "      <th>last_name</th>\n",
       "      <th>reg_date</th>\n",
       "      <th>tariff</th>\n",
       "      <th>messages_included</th>\n",
       "      <th>mb_per_month_included</th>\n",
       "      <th>minutes_included</th>\n",
       "      <th>rub_monthly_fee</th>\n",
       "      <th>rub_per_gb</th>\n",
       "      <th>rub_per_message</th>\n",
       "      <th>rub_per_minute</th>\n",
       "    </tr>\n",
       "  </thead>\n",
       "  <tbody>\n",
       "    <tr>\n",
       "      <th>0</th>\n",
       "      <td>1000</td>\n",
       "      <td>5</td>\n",
       "      <td>22.0</td>\n",
       "      <td>159.0</td>\n",
       "      <td>22.0</td>\n",
       "      <td>3.0</td>\n",
       "      <td>52</td>\n",
       "      <td>NaT</td>\n",
       "      <td>Краснодар</td>\n",
       "      <td>Рафаил</td>\n",
       "      <td>Верещагин</td>\n",
       "      <td>2018-05-25</td>\n",
       "      <td>ultra</td>\n",
       "      <td>1000</td>\n",
       "      <td>30720</td>\n",
       "      <td>3000</td>\n",
       "      <td>1950</td>\n",
       "      <td>150</td>\n",
       "      <td>1</td>\n",
       "      <td>1</td>\n",
       "    </tr>\n",
       "    <tr>\n",
       "      <th>1</th>\n",
       "      <td>1000</td>\n",
       "      <td>6</td>\n",
       "      <td>43.0</td>\n",
       "      <td>172.0</td>\n",
       "      <td>60.0</td>\n",
       "      <td>23.0</td>\n",
       "      <td>52</td>\n",
       "      <td>NaT</td>\n",
       "      <td>Краснодар</td>\n",
       "      <td>Рафаил</td>\n",
       "      <td>Верещагин</td>\n",
       "      <td>2018-05-25</td>\n",
       "      <td>ultra</td>\n",
       "      <td>1000</td>\n",
       "      <td>30720</td>\n",
       "      <td>3000</td>\n",
       "      <td>1950</td>\n",
       "      <td>150</td>\n",
       "      <td>1</td>\n",
       "      <td>1</td>\n",
       "    </tr>\n",
       "    <tr>\n",
       "      <th>2</th>\n",
       "      <td>1000</td>\n",
       "      <td>7</td>\n",
       "      <td>47.0</td>\n",
       "      <td>340.0</td>\n",
       "      <td>75.0</td>\n",
       "      <td>14.0</td>\n",
       "      <td>52</td>\n",
       "      <td>NaT</td>\n",
       "      <td>Краснодар</td>\n",
       "      <td>Рафаил</td>\n",
       "      <td>Верещагин</td>\n",
       "      <td>2018-05-25</td>\n",
       "      <td>ultra</td>\n",
       "      <td>1000</td>\n",
       "      <td>30720</td>\n",
       "      <td>3000</td>\n",
       "      <td>1950</td>\n",
       "      <td>150</td>\n",
       "      <td>1</td>\n",
       "      <td>1</td>\n",
       "    </tr>\n",
       "    <tr>\n",
       "      <th>3</th>\n",
       "      <td>1000</td>\n",
       "      <td>8</td>\n",
       "      <td>52.0</td>\n",
       "      <td>408.0</td>\n",
       "      <td>81.0</td>\n",
       "      <td>14.0</td>\n",
       "      <td>52</td>\n",
       "      <td>NaT</td>\n",
       "      <td>Краснодар</td>\n",
       "      <td>Рафаил</td>\n",
       "      <td>Верещагин</td>\n",
       "      <td>2018-05-25</td>\n",
       "      <td>ultra</td>\n",
       "      <td>1000</td>\n",
       "      <td>30720</td>\n",
       "      <td>3000</td>\n",
       "      <td>1950</td>\n",
       "      <td>150</td>\n",
       "      <td>1</td>\n",
       "      <td>1</td>\n",
       "    </tr>\n",
       "    <tr>\n",
       "      <th>4</th>\n",
       "      <td>1000</td>\n",
       "      <td>9</td>\n",
       "      <td>58.0</td>\n",
       "      <td>466.0</td>\n",
       "      <td>57.0</td>\n",
       "      <td>15.0</td>\n",
       "      <td>52</td>\n",
       "      <td>NaT</td>\n",
       "      <td>Краснодар</td>\n",
       "      <td>Рафаил</td>\n",
       "      <td>Верещагин</td>\n",
       "      <td>2018-05-25</td>\n",
       "      <td>ultra</td>\n",
       "      <td>1000</td>\n",
       "      <td>30720</td>\n",
       "      <td>3000</td>\n",
       "      <td>1950</td>\n",
       "      <td>150</td>\n",
       "      <td>1</td>\n",
       "      <td>1</td>\n",
       "    </tr>\n",
       "    <tr>\n",
       "      <th>...</th>\n",
       "      <td>...</td>\n",
       "      <td>...</td>\n",
       "      <td>...</td>\n",
       "      <td>...</td>\n",
       "      <td>...</td>\n",
       "      <td>...</td>\n",
       "      <td>...</td>\n",
       "      <td>...</td>\n",
       "      <td>...</td>\n",
       "      <td>...</td>\n",
       "      <td>...</td>\n",
       "      <td>...</td>\n",
       "      <td>...</td>\n",
       "      <td>...</td>\n",
       "      <td>...</td>\n",
       "      <td>...</td>\n",
       "      <td>...</td>\n",
       "      <td>...</td>\n",
       "      <td>...</td>\n",
       "      <td>...</td>\n",
       "    </tr>\n",
       "    <tr>\n",
       "      <th>3209</th>\n",
       "      <td>1489</td>\n",
       "      <td>9</td>\n",
       "      <td>NaN</td>\n",
       "      <td>NaN</td>\n",
       "      <td>32.0</td>\n",
       "      <td>17.0</td>\n",
       "      <td>35</td>\n",
       "      <td>NaT</td>\n",
       "      <td>Санкт-Петербург</td>\n",
       "      <td>Павел</td>\n",
       "      <td>Гончаров</td>\n",
       "      <td>2018-08-15</td>\n",
       "      <td>smart</td>\n",
       "      <td>50</td>\n",
       "      <td>15360</td>\n",
       "      <td>500</td>\n",
       "      <td>550</td>\n",
       "      <td>200</td>\n",
       "      <td>3</td>\n",
       "      <td>3</td>\n",
       "    </tr>\n",
       "    <tr>\n",
       "      <th>3210</th>\n",
       "      <td>1489</td>\n",
       "      <td>10</td>\n",
       "      <td>NaN</td>\n",
       "      <td>NaN</td>\n",
       "      <td>21.0</td>\n",
       "      <td>20.0</td>\n",
       "      <td>35</td>\n",
       "      <td>NaT</td>\n",
       "      <td>Санкт-Петербург</td>\n",
       "      <td>Павел</td>\n",
       "      <td>Гончаров</td>\n",
       "      <td>2018-08-15</td>\n",
       "      <td>smart</td>\n",
       "      <td>50</td>\n",
       "      <td>15360</td>\n",
       "      <td>500</td>\n",
       "      <td>550</td>\n",
       "      <td>200</td>\n",
       "      <td>3</td>\n",
       "      <td>3</td>\n",
       "    </tr>\n",
       "    <tr>\n",
       "      <th>3211</th>\n",
       "      <td>1489</td>\n",
       "      <td>11</td>\n",
       "      <td>NaN</td>\n",
       "      <td>NaN</td>\n",
       "      <td>20.0</td>\n",
       "      <td>18.0</td>\n",
       "      <td>35</td>\n",
       "      <td>NaT</td>\n",
       "      <td>Санкт-Петербург</td>\n",
       "      <td>Павел</td>\n",
       "      <td>Гончаров</td>\n",
       "      <td>2018-08-15</td>\n",
       "      <td>smart</td>\n",
       "      <td>50</td>\n",
       "      <td>15360</td>\n",
       "      <td>500</td>\n",
       "      <td>550</td>\n",
       "      <td>200</td>\n",
       "      <td>3</td>\n",
       "      <td>3</td>\n",
       "    </tr>\n",
       "    <tr>\n",
       "      <th>3212</th>\n",
       "      <td>1489</td>\n",
       "      <td>12</td>\n",
       "      <td>NaN</td>\n",
       "      <td>NaN</td>\n",
       "      <td>35.0</td>\n",
       "      <td>17.0</td>\n",
       "      <td>35</td>\n",
       "      <td>NaT</td>\n",
       "      <td>Санкт-Петербург</td>\n",
       "      <td>Павел</td>\n",
       "      <td>Гончаров</td>\n",
       "      <td>2018-08-15</td>\n",
       "      <td>smart</td>\n",
       "      <td>50</td>\n",
       "      <td>15360</td>\n",
       "      <td>500</td>\n",
       "      <td>550</td>\n",
       "      <td>200</td>\n",
       "      <td>3</td>\n",
       "      <td>3</td>\n",
       "    </tr>\n",
       "    <tr>\n",
       "      <th>3213</th>\n",
       "      <td>1476</td>\n",
       "      <td>4</td>\n",
       "      <td>NaN</td>\n",
       "      <td>NaN</td>\n",
       "      <td>NaN</td>\n",
       "      <td>1.0</td>\n",
       "      <td>50</td>\n",
       "      <td>NaT</td>\n",
       "      <td>Москва</td>\n",
       "      <td>Валентина</td>\n",
       "      <td>Семенова</td>\n",
       "      <td>2018-04-30</td>\n",
       "      <td>ultra</td>\n",
       "      <td>1000</td>\n",
       "      <td>30720</td>\n",
       "      <td>3000</td>\n",
       "      <td>1950</td>\n",
       "      <td>150</td>\n",
       "      <td>1</td>\n",
       "      <td>1</td>\n",
       "    </tr>\n",
       "  </tbody>\n",
       "</table>\n",
       "<p>3214 rows × 20 columns</p>\n",
       "</div>"
      ],
      "text/plain": [
       "      user_id  month  number_of_calls  total_call_duration  messages_number  \\\n",
       "0        1000      5             22.0                159.0             22.0   \n",
       "1        1000      6             43.0                172.0             60.0   \n",
       "2        1000      7             47.0                340.0             75.0   \n",
       "3        1000      8             52.0                408.0             81.0   \n",
       "4        1000      9             58.0                466.0             57.0   \n",
       "...       ...    ...              ...                  ...              ...   \n",
       "3209     1489      9              NaN                  NaN             32.0   \n",
       "3210     1489     10              NaN                  NaN             21.0   \n",
       "3211     1489     11              NaN                  NaN             20.0   \n",
       "3212     1489     12              NaN                  NaN             35.0   \n",
       "3213     1476      4              NaN                  NaN              NaN   \n",
       "\n",
       "      gb_used_total  age churn_date             city first_name  last_name  \\\n",
       "0               3.0   52        NaT        Краснодар     Рафаил  Верещагин   \n",
       "1              23.0   52        NaT        Краснодар     Рафаил  Верещагин   \n",
       "2              14.0   52        NaT        Краснодар     Рафаил  Верещагин   \n",
       "3              14.0   52        NaT        Краснодар     Рафаил  Верещагин   \n",
       "4              15.0   52        NaT        Краснодар     Рафаил  Верещагин   \n",
       "...             ...  ...        ...              ...        ...        ...   \n",
       "3209           17.0   35        NaT  Санкт-Петербург      Павел   Гончаров   \n",
       "3210           20.0   35        NaT  Санкт-Петербург      Павел   Гончаров   \n",
       "3211           18.0   35        NaT  Санкт-Петербург      Павел   Гончаров   \n",
       "3212           17.0   35        NaT  Санкт-Петербург      Павел   Гончаров   \n",
       "3213            1.0   50        NaT           Москва  Валентина   Семенова   \n",
       "\n",
       "       reg_date tariff  messages_included  mb_per_month_included  \\\n",
       "0    2018-05-25  ultra               1000                  30720   \n",
       "1    2018-05-25  ultra               1000                  30720   \n",
       "2    2018-05-25  ultra               1000                  30720   \n",
       "3    2018-05-25  ultra               1000                  30720   \n",
       "4    2018-05-25  ultra               1000                  30720   \n",
       "...         ...    ...                ...                    ...   \n",
       "3209 2018-08-15  smart                 50                  15360   \n",
       "3210 2018-08-15  smart                 50                  15360   \n",
       "3211 2018-08-15  smart                 50                  15360   \n",
       "3212 2018-08-15  smart                 50                  15360   \n",
       "3213 2018-04-30  ultra               1000                  30720   \n",
       "\n",
       "      minutes_included  rub_monthly_fee  rub_per_gb  rub_per_message  \\\n",
       "0                 3000             1950         150                1   \n",
       "1                 3000             1950         150                1   \n",
       "2                 3000             1950         150                1   \n",
       "3                 3000             1950         150                1   \n",
       "4                 3000             1950         150                1   \n",
       "...                ...              ...         ...              ...   \n",
       "3209               500              550         200                3   \n",
       "3210               500              550         200                3   \n",
       "3211               500              550         200                3   \n",
       "3212               500              550         200                3   \n",
       "3213              3000             1950         150                1   \n",
       "\n",
       "      rub_per_minute  \n",
       "0                  1  \n",
       "1                  1  \n",
       "2                  1  \n",
       "3                  1  \n",
       "4                  1  \n",
       "...              ...  \n",
       "3209               3  \n",
       "3210               3  \n",
       "3211               3  \n",
       "3212               3  \n",
       "3213               1  \n",
       "\n",
       "[3214 rows x 20 columns]"
      ]
     },
     "metadata": {},
     "output_type": "display_data"
    }
   ],
   "source": [
    "# Let's merge the data_users_w_tariffs, \n",
    "# data_calls_by_user, data_messages_by_user and \n",
    "# data_internet_by_user tables.\n",
    "data_by_user = data_calls_by_user.merge(\n",
    "    data_messages_by_user, on=['user_id','month'], how='outer')\n",
    "data_by_user_internet = data_by_user.merge(\n",
    "    data_internet_by_user, on=['user_id','month'], how='outer')\n",
    "data = data_by_user_internet.merge(\n",
    "    data_users_w_tariffs, on='user_id', how='left')\n",
    "display(data)"
   ]
  },
  {
   "cell_type": "code",
   "execution_count": 19,
   "metadata": {},
   "outputs": [
    {
     "data": {
      "text/html": [
       "<div>\n",
       "<style scoped>\n",
       "    .dataframe tbody tr th:only-of-type {\n",
       "        vertical-align: middle;\n",
       "    }\n",
       "\n",
       "    .dataframe tbody tr th {\n",
       "        vertical-align: top;\n",
       "    }\n",
       "\n",
       "    .dataframe thead th {\n",
       "        text-align: right;\n",
       "    }\n",
       "</style>\n",
       "<table border=\"1\" class=\"dataframe\">\n",
       "  <thead>\n",
       "    <tr style=\"text-align: right;\">\n",
       "      <th></th>\n",
       "      <th>user_id</th>\n",
       "      <th>month</th>\n",
       "      <th>number_of_calls</th>\n",
       "      <th>total_call_duration</th>\n",
       "      <th>messages_number</th>\n",
       "      <th>gb_used_total</th>\n",
       "      <th>age</th>\n",
       "      <th>churn_date</th>\n",
       "      <th>city</th>\n",
       "      <th>first_name</th>\n",
       "      <th>last_name</th>\n",
       "      <th>reg_date</th>\n",
       "      <th>tariff</th>\n",
       "      <th>messages_included</th>\n",
       "      <th>gb_per_month_included</th>\n",
       "      <th>minutes_included</th>\n",
       "      <th>rub_monthly_fee</th>\n",
       "      <th>rub_per_gb</th>\n",
       "      <th>rub_per_message</th>\n",
       "      <th>rub_per_minute</th>\n",
       "    </tr>\n",
       "  </thead>\n",
       "  <tbody>\n",
       "    <tr>\n",
       "      <th>0</th>\n",
       "      <td>1000</td>\n",
       "      <td>5</td>\n",
       "      <td>22</td>\n",
       "      <td>159</td>\n",
       "      <td>22</td>\n",
       "      <td>3</td>\n",
       "      <td>52</td>\n",
       "      <td>NaT</td>\n",
       "      <td>Краснодар</td>\n",
       "      <td>Рафаил</td>\n",
       "      <td>Верещагин</td>\n",
       "      <td>2018-05-25</td>\n",
       "      <td>ultra</td>\n",
       "      <td>1000</td>\n",
       "      <td>30</td>\n",
       "      <td>3000</td>\n",
       "      <td>1950</td>\n",
       "      <td>150</td>\n",
       "      <td>1</td>\n",
       "      <td>1</td>\n",
       "    </tr>\n",
       "    <tr>\n",
       "      <th>1</th>\n",
       "      <td>1000</td>\n",
       "      <td>6</td>\n",
       "      <td>43</td>\n",
       "      <td>172</td>\n",
       "      <td>60</td>\n",
       "      <td>23</td>\n",
       "      <td>52</td>\n",
       "      <td>NaT</td>\n",
       "      <td>Краснодар</td>\n",
       "      <td>Рафаил</td>\n",
       "      <td>Верещагин</td>\n",
       "      <td>2018-05-25</td>\n",
       "      <td>ultra</td>\n",
       "      <td>1000</td>\n",
       "      <td>30</td>\n",
       "      <td>3000</td>\n",
       "      <td>1950</td>\n",
       "      <td>150</td>\n",
       "      <td>1</td>\n",
       "      <td>1</td>\n",
       "    </tr>\n",
       "    <tr>\n",
       "      <th>2</th>\n",
       "      <td>1000</td>\n",
       "      <td>7</td>\n",
       "      <td>47</td>\n",
       "      <td>340</td>\n",
       "      <td>75</td>\n",
       "      <td>14</td>\n",
       "      <td>52</td>\n",
       "      <td>NaT</td>\n",
       "      <td>Краснодар</td>\n",
       "      <td>Рафаил</td>\n",
       "      <td>Верещагин</td>\n",
       "      <td>2018-05-25</td>\n",
       "      <td>ultra</td>\n",
       "      <td>1000</td>\n",
       "      <td>30</td>\n",
       "      <td>3000</td>\n",
       "      <td>1950</td>\n",
       "      <td>150</td>\n",
       "      <td>1</td>\n",
       "      <td>1</td>\n",
       "    </tr>\n",
       "    <tr>\n",
       "      <th>3</th>\n",
       "      <td>1000</td>\n",
       "      <td>8</td>\n",
       "      <td>52</td>\n",
       "      <td>408</td>\n",
       "      <td>81</td>\n",
       "      <td>14</td>\n",
       "      <td>52</td>\n",
       "      <td>NaT</td>\n",
       "      <td>Краснодар</td>\n",
       "      <td>Рафаил</td>\n",
       "      <td>Верещагин</td>\n",
       "      <td>2018-05-25</td>\n",
       "      <td>ultra</td>\n",
       "      <td>1000</td>\n",
       "      <td>30</td>\n",
       "      <td>3000</td>\n",
       "      <td>1950</td>\n",
       "      <td>150</td>\n",
       "      <td>1</td>\n",
       "      <td>1</td>\n",
       "    </tr>\n",
       "    <tr>\n",
       "      <th>4</th>\n",
       "      <td>1000</td>\n",
       "      <td>9</td>\n",
       "      <td>58</td>\n",
       "      <td>466</td>\n",
       "      <td>57</td>\n",
       "      <td>15</td>\n",
       "      <td>52</td>\n",
       "      <td>NaT</td>\n",
       "      <td>Краснодар</td>\n",
       "      <td>Рафаил</td>\n",
       "      <td>Верещагин</td>\n",
       "      <td>2018-05-25</td>\n",
       "      <td>ultra</td>\n",
       "      <td>1000</td>\n",
       "      <td>30</td>\n",
       "      <td>3000</td>\n",
       "      <td>1950</td>\n",
       "      <td>150</td>\n",
       "      <td>1</td>\n",
       "      <td>1</td>\n",
       "    </tr>\n",
       "    <tr>\n",
       "      <th>...</th>\n",
       "      <td>...</td>\n",
       "      <td>...</td>\n",
       "      <td>...</td>\n",
       "      <td>...</td>\n",
       "      <td>...</td>\n",
       "      <td>...</td>\n",
       "      <td>...</td>\n",
       "      <td>...</td>\n",
       "      <td>...</td>\n",
       "      <td>...</td>\n",
       "      <td>...</td>\n",
       "      <td>...</td>\n",
       "      <td>...</td>\n",
       "      <td>...</td>\n",
       "      <td>...</td>\n",
       "      <td>...</td>\n",
       "      <td>...</td>\n",
       "      <td>...</td>\n",
       "      <td>...</td>\n",
       "      <td>...</td>\n",
       "    </tr>\n",
       "    <tr>\n",
       "      <th>3209</th>\n",
       "      <td>1489</td>\n",
       "      <td>9</td>\n",
       "      <td>0</td>\n",
       "      <td>0</td>\n",
       "      <td>32</td>\n",
       "      <td>17</td>\n",
       "      <td>35</td>\n",
       "      <td>NaT</td>\n",
       "      <td>Санкт-Петербург</td>\n",
       "      <td>Павел</td>\n",
       "      <td>Гончаров</td>\n",
       "      <td>2018-08-15</td>\n",
       "      <td>smart</td>\n",
       "      <td>50</td>\n",
       "      <td>15</td>\n",
       "      <td>500</td>\n",
       "      <td>550</td>\n",
       "      <td>200</td>\n",
       "      <td>3</td>\n",
       "      <td>3</td>\n",
       "    </tr>\n",
       "    <tr>\n",
       "      <th>3210</th>\n",
       "      <td>1489</td>\n",
       "      <td>10</td>\n",
       "      <td>0</td>\n",
       "      <td>0</td>\n",
       "      <td>21</td>\n",
       "      <td>20</td>\n",
       "      <td>35</td>\n",
       "      <td>NaT</td>\n",
       "      <td>Санкт-Петербург</td>\n",
       "      <td>Павел</td>\n",
       "      <td>Гончаров</td>\n",
       "      <td>2018-08-15</td>\n",
       "      <td>smart</td>\n",
       "      <td>50</td>\n",
       "      <td>15</td>\n",
       "      <td>500</td>\n",
       "      <td>550</td>\n",
       "      <td>200</td>\n",
       "      <td>3</td>\n",
       "      <td>3</td>\n",
       "    </tr>\n",
       "    <tr>\n",
       "      <th>3211</th>\n",
       "      <td>1489</td>\n",
       "      <td>11</td>\n",
       "      <td>0</td>\n",
       "      <td>0</td>\n",
       "      <td>20</td>\n",
       "      <td>18</td>\n",
       "      <td>35</td>\n",
       "      <td>NaT</td>\n",
       "      <td>Санкт-Петербург</td>\n",
       "      <td>Павел</td>\n",
       "      <td>Гончаров</td>\n",
       "      <td>2018-08-15</td>\n",
       "      <td>smart</td>\n",
       "      <td>50</td>\n",
       "      <td>15</td>\n",
       "      <td>500</td>\n",
       "      <td>550</td>\n",
       "      <td>200</td>\n",
       "      <td>3</td>\n",
       "      <td>3</td>\n",
       "    </tr>\n",
       "    <tr>\n",
       "      <th>3212</th>\n",
       "      <td>1489</td>\n",
       "      <td>12</td>\n",
       "      <td>0</td>\n",
       "      <td>0</td>\n",
       "      <td>35</td>\n",
       "      <td>17</td>\n",
       "      <td>35</td>\n",
       "      <td>NaT</td>\n",
       "      <td>Санкт-Петербург</td>\n",
       "      <td>Павел</td>\n",
       "      <td>Гончаров</td>\n",
       "      <td>2018-08-15</td>\n",
       "      <td>smart</td>\n",
       "      <td>50</td>\n",
       "      <td>15</td>\n",
       "      <td>500</td>\n",
       "      <td>550</td>\n",
       "      <td>200</td>\n",
       "      <td>3</td>\n",
       "      <td>3</td>\n",
       "    </tr>\n",
       "    <tr>\n",
       "      <th>3213</th>\n",
       "      <td>1476</td>\n",
       "      <td>4</td>\n",
       "      <td>0</td>\n",
       "      <td>0</td>\n",
       "      <td>0</td>\n",
       "      <td>1</td>\n",
       "      <td>50</td>\n",
       "      <td>NaT</td>\n",
       "      <td>Москва</td>\n",
       "      <td>Валентина</td>\n",
       "      <td>Семенова</td>\n",
       "      <td>2018-04-30</td>\n",
       "      <td>ultra</td>\n",
       "      <td>1000</td>\n",
       "      <td>30</td>\n",
       "      <td>3000</td>\n",
       "      <td>1950</td>\n",
       "      <td>150</td>\n",
       "      <td>1</td>\n",
       "      <td>1</td>\n",
       "    </tr>\n",
       "  </tbody>\n",
       "</table>\n",
       "<p>3214 rows × 20 columns</p>\n",
       "</div>"
      ],
      "text/plain": [
       "      user_id  month  number_of_calls  total_call_duration  messages_number  \\\n",
       "0        1000      5               22                  159               22   \n",
       "1        1000      6               43                  172               60   \n",
       "2        1000      7               47                  340               75   \n",
       "3        1000      8               52                  408               81   \n",
       "4        1000      9               58                  466               57   \n",
       "...       ...    ...              ...                  ...              ...   \n",
       "3209     1489      9                0                    0               32   \n",
       "3210     1489     10                0                    0               21   \n",
       "3211     1489     11                0                    0               20   \n",
       "3212     1489     12                0                    0               35   \n",
       "3213     1476      4                0                    0                0   \n",
       "\n",
       "      gb_used_total  age churn_date             city first_name  last_name  \\\n",
       "0                 3   52        NaT        Краснодар     Рафаил  Верещагин   \n",
       "1                23   52        NaT        Краснодар     Рафаил  Верещагин   \n",
       "2                14   52        NaT        Краснодар     Рафаил  Верещагин   \n",
       "3                14   52        NaT        Краснодар     Рафаил  Верещагин   \n",
       "4                15   52        NaT        Краснодар     Рафаил  Верещагин   \n",
       "...             ...  ...        ...              ...        ...        ...   \n",
       "3209             17   35        NaT  Санкт-Петербург      Павел   Гончаров   \n",
       "3210             20   35        NaT  Санкт-Петербург      Павел   Гончаров   \n",
       "3211             18   35        NaT  Санкт-Петербург      Павел   Гончаров   \n",
       "3212             17   35        NaT  Санкт-Петербург      Павел   Гончаров   \n",
       "3213              1   50        NaT           Москва  Валентина   Семенова   \n",
       "\n",
       "       reg_date tariff  messages_included  gb_per_month_included  \\\n",
       "0    2018-05-25  ultra               1000                     30   \n",
       "1    2018-05-25  ultra               1000                     30   \n",
       "2    2018-05-25  ultra               1000                     30   \n",
       "3    2018-05-25  ultra               1000                     30   \n",
       "4    2018-05-25  ultra               1000                     30   \n",
       "...         ...    ...                ...                    ...   \n",
       "3209 2018-08-15  smart                 50                     15   \n",
       "3210 2018-08-15  smart                 50                     15   \n",
       "3211 2018-08-15  smart                 50                     15   \n",
       "3212 2018-08-15  smart                 50                     15   \n",
       "3213 2018-04-30  ultra               1000                     30   \n",
       "\n",
       "      minutes_included  rub_monthly_fee  rub_per_gb  rub_per_message  \\\n",
       "0                 3000             1950         150                1   \n",
       "1                 3000             1950         150                1   \n",
       "2                 3000             1950         150                1   \n",
       "3                 3000             1950         150                1   \n",
       "4                 3000             1950         150                1   \n",
       "...                ...              ...         ...              ...   \n",
       "3209               500              550         200                3   \n",
       "3210               500              550         200                3   \n",
       "3211               500              550         200                3   \n",
       "3212               500              550         200                3   \n",
       "3213              3000             1950         150                1   \n",
       "\n",
       "      rub_per_minute  \n",
       "0                  1  \n",
       "1                  1  \n",
       "2                  1  \n",
       "3                  1  \n",
       "4                  1  \n",
       "...              ...  \n",
       "3209               3  \n",
       "3210               3  \n",
       "3211               3  \n",
       "3212               3  \n",
       "3213               1  \n",
       "\n",
       "[3214 rows x 20 columns]"
      ]
     },
     "metadata": {},
     "output_type": "display_data"
    }
   ],
   "source": [
    "# In the new data table, get rid of missing values \n",
    "# in the number_of_calls columns,\n",
    "# messages_number, gb_used_total.\n",
    "# In the same columns, change the data type \n",
    "# to int (after replacing missing values with 0).\n",
    "data = data.fillna(\n",
    "    {\n",
    "        'total_call_duration':0,\n",
    "        'number_of_calls':0, \n",
    "        'messages_number':0, \n",
    "        'gb_used_total':0\n",
    "    }\n",
    ").astype(\n",
    "    {\n",
    "        'total_call_duration': 'int',\n",
    "        'number_of_calls':'int',\n",
    "          'messages_number':'int', \n",
    "          'gb_used_total':'int'\n",
    "    }\n",
    "        )\n",
    "# And now we will translate in the mb_per_month_included Megabytes column\n",
    "# to Gigabytes (renaming the column name as well).\n",
    "data['mb_per_month_included'] = (\n",
    "    data['mb_per_month_included'] / 1024\n",
    ").astype('int')\n",
    "data = data.rename(\n",
    "    columns={'mb_per_month_included':'gb_per_month_included'}\n",
    ")\n",
    "display(data)"
   ]
  },
  {
   "cell_type": "code",
   "execution_count": 20,
   "metadata": {},
   "outputs": [
    {
     "data": {
      "text/html": [
       "<div>\n",
       "<style scoped>\n",
       "    .dataframe tbody tr th:only-of-type {\n",
       "        vertical-align: middle;\n",
       "    }\n",
       "\n",
       "    .dataframe tbody tr th {\n",
       "        vertical-align: top;\n",
       "    }\n",
       "\n",
       "    .dataframe thead th {\n",
       "        text-align: right;\n",
       "    }\n",
       "</style>\n",
       "<table border=\"1\" class=\"dataframe\">\n",
       "  <thead>\n",
       "    <tr style=\"text-align: right;\">\n",
       "      <th></th>\n",
       "      <th>user_id</th>\n",
       "      <th>month</th>\n",
       "      <th>number_of_calls</th>\n",
       "      <th>total_call_duration</th>\n",
       "      <th>messages_number</th>\n",
       "      <th>gb_used_total</th>\n",
       "      <th>age</th>\n",
       "      <th>churn_date</th>\n",
       "      <th>city</th>\n",
       "      <th>first_name</th>\n",
       "      <th>...</th>\n",
       "      <th>reg_date</th>\n",
       "      <th>tariff</th>\n",
       "      <th>messages_included</th>\n",
       "      <th>gb_per_month_included</th>\n",
       "      <th>minutes_included</th>\n",
       "      <th>rub_monthly_fee</th>\n",
       "      <th>rub_per_gb</th>\n",
       "      <th>rub_per_message</th>\n",
       "      <th>rub_per_minute</th>\n",
       "      <th>rub_earnings</th>\n",
       "    </tr>\n",
       "  </thead>\n",
       "  <tbody>\n",
       "    <tr>\n",
       "      <th>0</th>\n",
       "      <td>1000</td>\n",
       "      <td>5</td>\n",
       "      <td>22</td>\n",
       "      <td>159</td>\n",
       "      <td>22</td>\n",
       "      <td>3</td>\n",
       "      <td>52</td>\n",
       "      <td>NaT</td>\n",
       "      <td>Краснодар</td>\n",
       "      <td>Рафаил</td>\n",
       "      <td>...</td>\n",
       "      <td>2018-05-25</td>\n",
       "      <td>ultra</td>\n",
       "      <td>1000</td>\n",
       "      <td>30</td>\n",
       "      <td>3000</td>\n",
       "      <td>1950</td>\n",
       "      <td>150</td>\n",
       "      <td>1</td>\n",
       "      <td>1</td>\n",
       "      <td>1950</td>\n",
       "    </tr>\n",
       "    <tr>\n",
       "      <th>1</th>\n",
       "      <td>1000</td>\n",
       "      <td>6</td>\n",
       "      <td>43</td>\n",
       "      <td>172</td>\n",
       "      <td>60</td>\n",
       "      <td>23</td>\n",
       "      <td>52</td>\n",
       "      <td>NaT</td>\n",
       "      <td>Краснодар</td>\n",
       "      <td>Рафаил</td>\n",
       "      <td>...</td>\n",
       "      <td>2018-05-25</td>\n",
       "      <td>ultra</td>\n",
       "      <td>1000</td>\n",
       "      <td>30</td>\n",
       "      <td>3000</td>\n",
       "      <td>1950</td>\n",
       "      <td>150</td>\n",
       "      <td>1</td>\n",
       "      <td>1</td>\n",
       "      <td>1950</td>\n",
       "    </tr>\n",
       "    <tr>\n",
       "      <th>2</th>\n",
       "      <td>1000</td>\n",
       "      <td>7</td>\n",
       "      <td>47</td>\n",
       "      <td>340</td>\n",
       "      <td>75</td>\n",
       "      <td>14</td>\n",
       "      <td>52</td>\n",
       "      <td>NaT</td>\n",
       "      <td>Краснодар</td>\n",
       "      <td>Рафаил</td>\n",
       "      <td>...</td>\n",
       "      <td>2018-05-25</td>\n",
       "      <td>ultra</td>\n",
       "      <td>1000</td>\n",
       "      <td>30</td>\n",
       "      <td>3000</td>\n",
       "      <td>1950</td>\n",
       "      <td>150</td>\n",
       "      <td>1</td>\n",
       "      <td>1</td>\n",
       "      <td>1950</td>\n",
       "    </tr>\n",
       "    <tr>\n",
       "      <th>3</th>\n",
       "      <td>1000</td>\n",
       "      <td>8</td>\n",
       "      <td>52</td>\n",
       "      <td>408</td>\n",
       "      <td>81</td>\n",
       "      <td>14</td>\n",
       "      <td>52</td>\n",
       "      <td>NaT</td>\n",
       "      <td>Краснодар</td>\n",
       "      <td>Рафаил</td>\n",
       "      <td>...</td>\n",
       "      <td>2018-05-25</td>\n",
       "      <td>ultra</td>\n",
       "      <td>1000</td>\n",
       "      <td>30</td>\n",
       "      <td>3000</td>\n",
       "      <td>1950</td>\n",
       "      <td>150</td>\n",
       "      <td>1</td>\n",
       "      <td>1</td>\n",
       "      <td>1950</td>\n",
       "    </tr>\n",
       "    <tr>\n",
       "      <th>4</th>\n",
       "      <td>1000</td>\n",
       "      <td>9</td>\n",
       "      <td>58</td>\n",
       "      <td>466</td>\n",
       "      <td>57</td>\n",
       "      <td>15</td>\n",
       "      <td>52</td>\n",
       "      <td>NaT</td>\n",
       "      <td>Краснодар</td>\n",
       "      <td>Рафаил</td>\n",
       "      <td>...</td>\n",
       "      <td>2018-05-25</td>\n",
       "      <td>ultra</td>\n",
       "      <td>1000</td>\n",
       "      <td>30</td>\n",
       "      <td>3000</td>\n",
       "      <td>1950</td>\n",
       "      <td>150</td>\n",
       "      <td>1</td>\n",
       "      <td>1</td>\n",
       "      <td>1950</td>\n",
       "    </tr>\n",
       "    <tr>\n",
       "      <th>...</th>\n",
       "      <td>...</td>\n",
       "      <td>...</td>\n",
       "      <td>...</td>\n",
       "      <td>...</td>\n",
       "      <td>...</td>\n",
       "      <td>...</td>\n",
       "      <td>...</td>\n",
       "      <td>...</td>\n",
       "      <td>...</td>\n",
       "      <td>...</td>\n",
       "      <td>...</td>\n",
       "      <td>...</td>\n",
       "      <td>...</td>\n",
       "      <td>...</td>\n",
       "      <td>...</td>\n",
       "      <td>...</td>\n",
       "      <td>...</td>\n",
       "      <td>...</td>\n",
       "      <td>...</td>\n",
       "      <td>...</td>\n",
       "      <td>...</td>\n",
       "    </tr>\n",
       "    <tr>\n",
       "      <th>3209</th>\n",
       "      <td>1489</td>\n",
       "      <td>9</td>\n",
       "      <td>0</td>\n",
       "      <td>0</td>\n",
       "      <td>32</td>\n",
       "      <td>17</td>\n",
       "      <td>35</td>\n",
       "      <td>NaT</td>\n",
       "      <td>Санкт-Петербург</td>\n",
       "      <td>Павел</td>\n",
       "      <td>...</td>\n",
       "      <td>2018-08-15</td>\n",
       "      <td>smart</td>\n",
       "      <td>50</td>\n",
       "      <td>15</td>\n",
       "      <td>500</td>\n",
       "      <td>550</td>\n",
       "      <td>200</td>\n",
       "      <td>3</td>\n",
       "      <td>3</td>\n",
       "      <td>950</td>\n",
       "    </tr>\n",
       "    <tr>\n",
       "      <th>3210</th>\n",
       "      <td>1489</td>\n",
       "      <td>10</td>\n",
       "      <td>0</td>\n",
       "      <td>0</td>\n",
       "      <td>21</td>\n",
       "      <td>20</td>\n",
       "      <td>35</td>\n",
       "      <td>NaT</td>\n",
       "      <td>Санкт-Петербург</td>\n",
       "      <td>Павел</td>\n",
       "      <td>...</td>\n",
       "      <td>2018-08-15</td>\n",
       "      <td>smart</td>\n",
       "      <td>50</td>\n",
       "      <td>15</td>\n",
       "      <td>500</td>\n",
       "      <td>550</td>\n",
       "      <td>200</td>\n",
       "      <td>3</td>\n",
       "      <td>3</td>\n",
       "      <td>1550</td>\n",
       "    </tr>\n",
       "    <tr>\n",
       "      <th>3211</th>\n",
       "      <td>1489</td>\n",
       "      <td>11</td>\n",
       "      <td>0</td>\n",
       "      <td>0</td>\n",
       "      <td>20</td>\n",
       "      <td>18</td>\n",
       "      <td>35</td>\n",
       "      <td>NaT</td>\n",
       "      <td>Санкт-Петербург</td>\n",
       "      <td>Павел</td>\n",
       "      <td>...</td>\n",
       "      <td>2018-08-15</td>\n",
       "      <td>smart</td>\n",
       "      <td>50</td>\n",
       "      <td>15</td>\n",
       "      <td>500</td>\n",
       "      <td>550</td>\n",
       "      <td>200</td>\n",
       "      <td>3</td>\n",
       "      <td>3</td>\n",
       "      <td>1150</td>\n",
       "    </tr>\n",
       "    <tr>\n",
       "      <th>3212</th>\n",
       "      <td>1489</td>\n",
       "      <td>12</td>\n",
       "      <td>0</td>\n",
       "      <td>0</td>\n",
       "      <td>35</td>\n",
       "      <td>17</td>\n",
       "      <td>35</td>\n",
       "      <td>NaT</td>\n",
       "      <td>Санкт-Петербург</td>\n",
       "      <td>Павел</td>\n",
       "      <td>...</td>\n",
       "      <td>2018-08-15</td>\n",
       "      <td>smart</td>\n",
       "      <td>50</td>\n",
       "      <td>15</td>\n",
       "      <td>500</td>\n",
       "      <td>550</td>\n",
       "      <td>200</td>\n",
       "      <td>3</td>\n",
       "      <td>3</td>\n",
       "      <td>950</td>\n",
       "    </tr>\n",
       "    <tr>\n",
       "      <th>3213</th>\n",
       "      <td>1476</td>\n",
       "      <td>4</td>\n",
       "      <td>0</td>\n",
       "      <td>0</td>\n",
       "      <td>0</td>\n",
       "      <td>1</td>\n",
       "      <td>50</td>\n",
       "      <td>NaT</td>\n",
       "      <td>Москва</td>\n",
       "      <td>Валентина</td>\n",
       "      <td>...</td>\n",
       "      <td>2018-04-30</td>\n",
       "      <td>ultra</td>\n",
       "      <td>1000</td>\n",
       "      <td>30</td>\n",
       "      <td>3000</td>\n",
       "      <td>1950</td>\n",
       "      <td>150</td>\n",
       "      <td>1</td>\n",
       "      <td>1</td>\n",
       "      <td>1950</td>\n",
       "    </tr>\n",
       "  </tbody>\n",
       "</table>\n",
       "<p>3214 rows × 21 columns</p>\n",
       "</div>"
      ],
      "text/plain": [
       "      user_id  month  number_of_calls  total_call_duration  messages_number  \\\n",
       "0        1000      5               22                  159               22   \n",
       "1        1000      6               43                  172               60   \n",
       "2        1000      7               47                  340               75   \n",
       "3        1000      8               52                  408               81   \n",
       "4        1000      9               58                  466               57   \n",
       "...       ...    ...              ...                  ...              ...   \n",
       "3209     1489      9                0                    0               32   \n",
       "3210     1489     10                0                    0               21   \n",
       "3211     1489     11                0                    0               20   \n",
       "3212     1489     12                0                    0               35   \n",
       "3213     1476      4                0                    0                0   \n",
       "\n",
       "      gb_used_total  age churn_date             city first_name  ...  \\\n",
       "0                 3   52        NaT        Краснодар     Рафаил  ...   \n",
       "1                23   52        NaT        Краснодар     Рафаил  ...   \n",
       "2                14   52        NaT        Краснодар     Рафаил  ...   \n",
       "3                14   52        NaT        Краснодар     Рафаил  ...   \n",
       "4                15   52        NaT        Краснодар     Рафаил  ...   \n",
       "...             ...  ...        ...              ...        ...  ...   \n",
       "3209             17   35        NaT  Санкт-Петербург      Павел  ...   \n",
       "3210             20   35        NaT  Санкт-Петербург      Павел  ...   \n",
       "3211             18   35        NaT  Санкт-Петербург      Павел  ...   \n",
       "3212             17   35        NaT  Санкт-Петербург      Павел  ...   \n",
       "3213              1   50        NaT           Москва  Валентина  ...   \n",
       "\n",
       "       reg_date tariff messages_included  gb_per_month_included  \\\n",
       "0    2018-05-25  ultra              1000                     30   \n",
       "1    2018-05-25  ultra              1000                     30   \n",
       "2    2018-05-25  ultra              1000                     30   \n",
       "3    2018-05-25  ultra              1000                     30   \n",
       "4    2018-05-25  ultra              1000                     30   \n",
       "...         ...    ...               ...                    ...   \n",
       "3209 2018-08-15  smart                50                     15   \n",
       "3210 2018-08-15  smart                50                     15   \n",
       "3211 2018-08-15  smart                50                     15   \n",
       "3212 2018-08-15  smart                50                     15   \n",
       "3213 2018-04-30  ultra              1000                     30   \n",
       "\n",
       "      minutes_included  rub_monthly_fee  rub_per_gb  rub_per_message  \\\n",
       "0                 3000             1950         150                1   \n",
       "1                 3000             1950         150                1   \n",
       "2                 3000             1950         150                1   \n",
       "3                 3000             1950         150                1   \n",
       "4                 3000             1950         150                1   \n",
       "...                ...              ...         ...              ...   \n",
       "3209               500              550         200                3   \n",
       "3210               500              550         200                3   \n",
       "3211               500              550         200                3   \n",
       "3212               500              550         200                3   \n",
       "3213              3000             1950         150                1   \n",
       "\n",
       "      rub_per_minute  rub_earnings  \n",
       "0                  1          1950  \n",
       "1                  1          1950  \n",
       "2                  1          1950  \n",
       "3                  1          1950  \n",
       "4                  1          1950  \n",
       "...              ...           ...  \n",
       "3209               3           950  \n",
       "3210               3          1550  \n",
       "3211               3          1150  \n",
       "3212               3           950  \n",
       "3213               1          1950  \n",
       "\n",
       "[3214 rows x 21 columns]"
      ]
     },
     "metadata": {},
     "output_type": "display_data"
    }
   ],
   "source": [
    "# Let's calculate the monthly revenue from each user.\n",
    "# To do this, write the earning function.\n",
    "def earning(row):\n",
    "    duration_used = row['total_call_duration']\n",
    "    messages_used = row['messages_number']\n",
    "    gb_used = row['gb_used_total']\n",
    "    minutes_limit = row['minutes_included']\n",
    "    messages_limit = row['messages_included']\n",
    "    gb_limit = row['gb_per_month_included']\n",
    "    monthly_fee = row['rub_monthly_fee']\n",
    "    rub_per_minute = row['rub_per_minute']\n",
    "    rub_per_message = row['rub_per_message']\n",
    "    rub_per_gb = row['rub_per_gb']\n",
    "    \n",
    "    if duration_used <= minutes_limit:\n",
    "        minutes_earnings = 0\n",
    "    else: \n",
    "        minutes_earnings = (\n",
    "            (duration_used - minutes_limit) * rub_per_minute\n",
    "        )\n",
    "    \n",
    "    if messages_used <= messages_limit:\n",
    "        messages_earnings = 0\n",
    "    else: \n",
    "        messages_earnings = (\n",
    "            (messages_used - messages_limit) * rub_per_message\n",
    "        )\n",
    "    \n",
    "    if gb_used <= gb_limit:\n",
    "        gb_earnings = 0\n",
    "    else: \n",
    "        gb_earnings = (gb_used - gb_limit) * rub_per_gb\n",
    "    \n",
    "    total_earnings = (minutes_earnings + messages_earnings + \n",
    "    gb_earnings + monthly_fee)\n",
    "    \n",
    "    return total_earnings\n",
    "\n",
    "# The function is ready. \n",
    "# Add a new column and enter the results of the calculation into it.\n",
    "data['rub_earnings'] = data.apply(earning, axis=1)\n",
    "display(data)"
   ]
  },
  {
   "cell_type": "markdown",
   "metadata": {},
   "source": [
    "### Conclusion"
   ]
  },
  {
   "cell_type": "markdown",
   "metadata": {},
   "source": [
    "We have carried out extensive work on data compilation and calculations:\n",
    "\n",
    "1. For the convenience of working with data and joining of tables, the columns in the original datasets have been renamed. More specific names are given. **For example,** in the **data_calls** dataset, the **id** column has been renamed to **call_id**. In the **data_internet** dataset, the **id** column has been renamed to **session_id**.\n",
    "2. In tables **data_calls**, **data_internet**, **data_messages** columns with months of operations are added. The tables have been rearranged. Pivot tables are made with a breakdown by users and months. For convenience, multi-index columns have been renamed in the resulting pivot tables. Note that in the summary table for the **data_internet** dataset, using the **gb** function, the used megabytes are converted to gigabytes rounded up.\n",
    "3. All tables are merged with each other by the **user_id** column. The resulting **NaN-values** are replaced by 0. All data of the **float** format is converted to the **int** format. **mb_per_month_included** column data converted to gigabytes. The name of this column has been renamed to **gb_per_month_included**.\n",
    "4. We created the earnings function, which allowed us to calculate the monthly revenue from each user. The calculation results are presented in the **rub_earnings** column.\n",
    "\n",
    "Let's start analyzing the data."
   ]
  },
  {
   "cell_type": "markdown",
   "metadata": {},
   "source": [
    "## Data analysis"
   ]
  },
  {
   "cell_type": "code",
   "execution_count": 21,
   "metadata": {},
   "outputs": [
    {
     "data": {
      "image/png": "[encoded data removed]",
      "text/plain": [
       "<Figure size 1080x360 with 1 Axes>"
      ]
     },
     "metadata": {
      "needs_background": "light"
     },
     "output_type": "display_data"
    },
    {
     "data": {
      "image/png": "[encoded data removed]",
      "text/plain": [
       "<Figure size 1080x360 with 1 Axes>"
      ]
     },
     "metadata": {
      "needs_background": "light"
     },
     "output_type": "display_data"
    },
    {
     "data": {
      "text/html": [
       "<div>\n",
       "<style scoped>\n",
       "    .dataframe tbody tr th:only-of-type {\n",
       "        vertical-align: middle;\n",
       "    }\n",
       "\n",
       "    .dataframe tbody tr th {\n",
       "        vertical-align: top;\n",
       "    }\n",
       "\n",
       "    .dataframe thead th {\n",
       "        text-align: right;\n",
       "    }\n",
       "</style>\n",
       "<table border=\"1\" class=\"dataframe\">\n",
       "  <thead>\n",
       "    <tr style=\"text-align: right;\">\n",
       "      <th></th>\n",
       "      <th>smart</th>\n",
       "      <th>ultra</th>\n",
       "    </tr>\n",
       "    <tr>\n",
       "      <th>month</th>\n",
       "      <th></th>\n",
       "      <th></th>\n",
       "    </tr>\n",
       "  </thead>\n",
       "  <tbody>\n",
       "    <tr>\n",
       "      <th>1</th>\n",
       "      <td>203.852941</td>\n",
       "      <td>428.111111</td>\n",
       "    </tr>\n",
       "    <tr>\n",
       "      <th>2</th>\n",
       "      <td>298.689655</td>\n",
       "      <td>297.125000</td>\n",
       "    </tr>\n",
       "    <tr>\n",
       "      <th>3</th>\n",
       "      <td>390.051948</td>\n",
       "      <td>489.648649</td>\n",
       "    </tr>\n",
       "    <tr>\n",
       "      <th>4</th>\n",
       "      <td>367.133929</td>\n",
       "      <td>458.018182</td>\n",
       "    </tr>\n",
       "    <tr>\n",
       "      <th>5</th>\n",
       "      <td>387.361702</td>\n",
       "      <td>510.328358</td>\n",
       "    </tr>\n",
       "    <tr>\n",
       "      <th>6</th>\n",
       "      <td>395.640244</td>\n",
       "      <td>479.702381</td>\n",
       "    </tr>\n",
       "    <tr>\n",
       "      <th>7</th>\n",
       "      <td>408.353234</td>\n",
       "      <td>545.791209</td>\n",
       "    </tr>\n",
       "    <tr>\n",
       "      <th>8</th>\n",
       "      <td>421.468085</td>\n",
       "      <td>510.775701</td>\n",
       "    </tr>\n",
       "    <tr>\n",
       "      <th>9</th>\n",
       "      <td>428.611538</td>\n",
       "      <td>539.443478</td>\n",
       "    </tr>\n",
       "    <tr>\n",
       "      <th>10</th>\n",
       "      <td>426.136054</td>\n",
       "      <td>558.081301</td>\n",
       "    </tr>\n",
       "    <tr>\n",
       "      <th>11</th>\n",
       "      <td>435.265823</td>\n",
       "      <td>541.380597</td>\n",
       "    </tr>\n",
       "    <tr>\n",
       "      <th>12</th>\n",
       "      <td>478.560831</td>\n",
       "      <td>592.805755</td>\n",
       "    </tr>\n",
       "    <tr>\n",
       "      <th>Variance</th>\n",
       "      <td>5221.797220</td>\n",
       "      <td>5998.513625</td>\n",
       "    </tr>\n",
       "    <tr>\n",
       "      <th>Standard deviation</th>\n",
       "      <td>72.262004</td>\n",
       "      <td>77.450072</td>\n",
       "    </tr>\n",
       "    <tr>\n",
       "      <th>Mean value</th>\n",
       "      <td>386.760499</td>\n",
       "      <td>495.934310</td>\n",
       "    </tr>\n",
       "  </tbody>\n",
       "</table>\n",
       "</div>"
      ],
      "text/plain": [
       "                          smart        ultra\n",
       "month                                       \n",
       "1                    203.852941   428.111111\n",
       "2                    298.689655   297.125000\n",
       "3                    390.051948   489.648649\n",
       "4                    367.133929   458.018182\n",
       "5                    387.361702   510.328358\n",
       "6                    395.640244   479.702381\n",
       "7                    408.353234   545.791209\n",
       "8                    421.468085   510.775701\n",
       "9                    428.611538   539.443478\n",
       "10                   426.136054   558.081301\n",
       "11                   435.265823   541.380597\n",
       "12                   478.560831   592.805755\n",
       "Variance            5221.797220  5998.513625\n",
       "Standard deviation    72.262004    77.450072\n",
       "Mean value           386.760499   495.934310"
      ]
     },
     "metadata": {},
     "output_type": "display_data"
    }
   ],
   "source": [
    "# To analyze the data, let's create a series of pivot tables.\n",
    "# Calculate the average value of minutes spent\n",
    "# conversations per month for each plan.\n",
    "data_grouped_call = data.pivot_table(\n",
    "    index='month', columns='tariff',\n",
    "    values='total_call_duration'\n",
    ")\n",
    "# Now calculate the variance and standard deviation.\n",
    "variance_call = pd.Series(\n",
    "    {'smart':np.var(data_grouped_call['smart'], ddof=1),\n",
    "     'ultra':np.var(data_grouped_call['ultra'], ddof=1)},\n",
    "      name='Variance'\n",
    ")\n",
    "standard_deviation_call = pd.Series(\n",
    "    {'smart':np.std(data_grouped_call['smart'], ddof=1),\n",
    "     'ultra':np.std(data_grouped_call['ultra'], ddof=1)},\n",
    "      name='Standard deviation')\n",
    "mean_call = pd.Series({'smart':data_grouped_call['smart'].mean(),\n",
    "                                'ultra':data_grouped_call['ultra'].mean()},\n",
    "                               name='Mean value')\n",
    "# Build a histogram of the average duration distribution\n",
    "# calls per month at smart and ultra plans.\n",
    "data_grouped_call.plot(kind='hist',\n",
    "                  grid=True,\n",
    "                  bins=80,\n",
    "                  figsize=(15,5)\n",
    "                 )\n",
    "plt.title('Histogram of the average calls per month duration' +\n",
    "          ' distribution at smart and ultra plans')\n",
    "plt.xlabel('Minutes')\n",
    "plt.ylabel('Frequency')\n",
    "plt.show()\n",
    "data_grouped_call.plot(kind='box',\n",
    "                  grid=True,\n",
    "                  figsize=(15,5)\n",
    "                 )\n",
    "plt.title('Boxplot of the average calls per month duration' + \n",
    "          'distribution at smart and ultra plans')\n",
    "plt.show()\n",
    "# For clarity, add data_grouped_call to the table\n",
    "# variance and standard deviation values.\n",
    "parameters_call = [variance_call, standard_deviation_call, mean_call]\n",
    "for i in parameters_call:\n",
    "    data_grouped_call = data_grouped_call.append(i)\n",
    "display(data_grouped_call)\n"
   ]
  },
  {
   "cell_type": "code",
   "execution_count": 22,
   "metadata": {},
   "outputs": [
    {
     "data": {
      "image/png": "[encoded data removed]",
      "text/plain": [
       "<Figure size 1080x360 with 1 Axes>"
      ]
     },
     "metadata": {
      "needs_background": "light"
     },
     "output_type": "display_data"
    },
    {
     "data": {
      "image/png": "[encoded data removed]",
      "text/plain": [
       "<Figure size 1080x360 with 1 Axes>"
      ]
     },
     "metadata": {
      "needs_background": "light"
     },
     "output_type": "display_data"
    },
    {
     "data": {
      "text/html": [
       "<div>\n",
       "<style scoped>\n",
       "    .dataframe tbody tr th:only-of-type {\n",
       "        vertical-align: middle;\n",
       "    }\n",
       "\n",
       "    .dataframe tbody tr th {\n",
       "        vertical-align: top;\n",
       "    }\n",
       "\n",
       "    .dataframe thead th {\n",
       "        text-align: right;\n",
       "    }\n",
       "</style>\n",
       "<table border=\"1\" class=\"dataframe\">\n",
       "  <thead>\n",
       "    <tr style=\"text-align: right;\">\n",
       "      <th></th>\n",
       "      <th>smart</th>\n",
       "      <th>ultra</th>\n",
       "    </tr>\n",
       "    <tr>\n",
       "      <th>month</th>\n",
       "      <th></th>\n",
       "      <th></th>\n",
       "    </tr>\n",
       "  </thead>\n",
       "  <tbody>\n",
       "    <tr>\n",
       "      <th>1</th>\n",
       "      <td>18.235294</td>\n",
       "      <td>33.777778</td>\n",
       "    </tr>\n",
       "    <tr>\n",
       "      <th>2</th>\n",
       "      <td>24.086207</td>\n",
       "      <td>21.958333</td>\n",
       "    </tr>\n",
       "    <tr>\n",
       "      <th>3</th>\n",
       "      <td>31.857143</td>\n",
       "      <td>32.297297</td>\n",
       "    </tr>\n",
       "    <tr>\n",
       "      <th>4</th>\n",
       "      <td>30.741071</td>\n",
       "      <td>31.563636</td>\n",
       "    </tr>\n",
       "    <tr>\n",
       "      <th>5</th>\n",
       "      <td>33.773050</td>\n",
       "      <td>37.850746</td>\n",
       "    </tr>\n",
       "    <tr>\n",
       "      <th>6</th>\n",
       "      <td>33.402439</td>\n",
       "      <td>41.726190</td>\n",
       "    </tr>\n",
       "    <tr>\n",
       "      <th>7</th>\n",
       "      <td>33.751244</td>\n",
       "      <td>49.846154</td>\n",
       "    </tr>\n",
       "    <tr>\n",
       "      <th>8</th>\n",
       "      <td>33.638298</td>\n",
       "      <td>48.439252</td>\n",
       "    </tr>\n",
       "    <tr>\n",
       "      <th>9</th>\n",
       "      <td>33.638462</td>\n",
       "      <td>52.286957</td>\n",
       "    </tr>\n",
       "    <tr>\n",
       "      <th>10</th>\n",
       "      <td>33.765306</td>\n",
       "      <td>58.430894</td>\n",
       "    </tr>\n",
       "    <tr>\n",
       "      <th>11</th>\n",
       "      <td>34.075949</td>\n",
       "      <td>55.791045</td>\n",
       "    </tr>\n",
       "    <tr>\n",
       "      <th>12</th>\n",
       "      <td>35.994065</td>\n",
       "      <td>60.611511</td>\n",
       "    </tr>\n",
       "    <tr>\n",
       "      <th>Variance</th>\n",
       "      <td>26.044827</td>\n",
       "      <td>151.793988</td>\n",
       "    </tr>\n",
       "    <tr>\n",
       "      <th>Standard deviation</th>\n",
       "      <td>5.103413</td>\n",
       "      <td>12.320470</td>\n",
       "    </tr>\n",
       "    <tr>\n",
       "      <th>Mean value</th>\n",
       "      <td>31.413211</td>\n",
       "      <td>43.714983</td>\n",
       "    </tr>\n",
       "  </tbody>\n",
       "</table>\n",
       "</div>"
      ],
      "text/plain": [
       "                        smart       ultra\n",
       "month                                    \n",
       "1                   18.235294   33.777778\n",
       "2                   24.086207   21.958333\n",
       "3                   31.857143   32.297297\n",
       "4                   30.741071   31.563636\n",
       "5                   33.773050   37.850746\n",
       "6                   33.402439   41.726190\n",
       "7                   33.751244   49.846154\n",
       "8                   33.638298   48.439252\n",
       "9                   33.638462   52.286957\n",
       "10                  33.765306   58.430894\n",
       "11                  34.075949   55.791045\n",
       "12                  35.994065   60.611511\n",
       "Variance            26.044827  151.793988\n",
       "Standard deviation   5.103413   12.320470\n",
       "Mean value          31.413211   43.714983"
      ]
     },
     "metadata": {},
     "output_type": "display_data"
    }
   ],
   "source": [
    "# Calculate the average value of sent messages per month\n",
    "# for each plan.\n",
    "data_grouped_message = data.pivot_table(\n",
    "    index='month', columns='tariff',\n",
    "    values='messages_number'\n",
    ")\n",
    "# Now calculate the variance and standard deviation.\n",
    "variance_message = pd.Series(\n",
    "    {'smart':np.var(data_grouped_message['smart'], ddof=1),\n",
    "     'ultra':np.var(data_grouped_message['ultra'], ddof=1)},\n",
    "      name='Variance'\n",
    ")\n",
    "standard_deviation_message = pd.Series(\n",
    "    {'smart':np.std(data_grouped_message['smart'], ddof=1),\n",
    "     'ultra':np.std(data_grouped_message['ultra'], ddof=1)},\n",
    "      name='Standard deviation')\n",
    "mean_message = pd.Series(\n",
    "    {'smart':data_grouped_message['smart'].mean(),\n",
    "     'ultra':data_grouped_message['ultra'].mean()},\n",
    "      name='Mean value')\n",
    "# Build a histogram of the average duration distribution\n",
    "# calls per month at smart and ultra plans.\n",
    "data_grouped_message.plot(kind='hist',\n",
    "                  grid=True,\n",
    "                  bins=50,\n",
    "                  figsize=(15,5)\n",
    "                 )\n",
    "plt.title('Histogram of the average number' +\n",
    "           ' of messages sent per month at smart and ultra plans')\n",
    "plt.xlabel('Messages number')\n",
    "plt.ylabel('Frequency')\n",
    "plt.show()\n",
    "data_grouped_message.plot(kind='box',\n",
    "                  grid=True,\n",
    "                  figsize=(15,5)\n",
    "                 )\n",
    "plt.title('Boxplot of the average number' +  \n",
    "          ' of messages sent per month at smart и ultra plans')\n",
    "plt.show()\n",
    "# For clarity, add data_grouped_message to the table\n",
    "# variance and standard deviation values.\n",
    "parameters_message = [\n",
    "    variance_message, \n",
    "    standard_deviation_message, \n",
    "    mean_message\n",
    "]\n",
    "for i in parameters_message:\n",
    "    data_grouped_message = data_grouped_message.append(i)\n",
    "display(data_grouped_message)"
   ]
  },
  {
   "cell_type": "code",
   "execution_count": 23,
   "metadata": {},
   "outputs": [
    {
     "data": {
      "image/png": "[encoded data removed]",
      "text/plain": [
       "<Figure size 1080x360 with 1 Axes>"
      ]
     },
     "metadata": {
      "needs_background": "light"
     },
     "output_type": "display_data"
    },
    {
     "data": {
      "image/png": "[encoded data removed]",
      "text/plain": [
       "<Figure size 1080x360 with 1 Axes>"
      ]
     },
     "metadata": {
      "needs_background": "light"
     },
     "output_type": "display_data"
    },
    {
     "data": {
      "text/html": [
       "<div>\n",
       "<style scoped>\n",
       "    .dataframe tbody tr th:only-of-type {\n",
       "        vertical-align: middle;\n",
       "    }\n",
       "\n",
       "    .dataframe tbody tr th {\n",
       "        vertical-align: top;\n",
       "    }\n",
       "\n",
       "    .dataframe thead th {\n",
       "        text-align: right;\n",
       "    }\n",
       "</style>\n",
       "<table border=\"1\" class=\"dataframe\">\n",
       "  <thead>\n",
       "    <tr style=\"text-align: right;\">\n",
       "      <th></th>\n",
       "      <th>smart</th>\n",
       "      <th>ultra</th>\n",
       "    </tr>\n",
       "    <tr>\n",
       "      <th>month</th>\n",
       "      <th></th>\n",
       "      <th></th>\n",
       "    </tr>\n",
       "  </thead>\n",
       "  <tbody>\n",
       "    <tr>\n",
       "      <th>1</th>\n",
       "      <td>8.735294</td>\n",
       "      <td>13.222222</td>\n",
       "    </tr>\n",
       "    <tr>\n",
       "      <th>2</th>\n",
       "      <td>11.844828</td>\n",
       "      <td>12.000000</td>\n",
       "    </tr>\n",
       "    <tr>\n",
       "      <th>3</th>\n",
       "      <td>15.233766</td>\n",
       "      <td>17.648649</td>\n",
       "    </tr>\n",
       "    <tr>\n",
       "      <th>4</th>\n",
       "      <td>13.625000</td>\n",
       "      <td>16.963636</td>\n",
       "    </tr>\n",
       "    <tr>\n",
       "      <th>5</th>\n",
       "      <td>15.907801</td>\n",
       "      <td>19.373134</td>\n",
       "    </tr>\n",
       "    <tr>\n",
       "      <th>6</th>\n",
       "      <td>15.951220</td>\n",
       "      <td>18.940476</td>\n",
       "    </tr>\n",
       "    <tr>\n",
       "      <th>7</th>\n",
       "      <td>15.875622</td>\n",
       "      <td>20.505495</td>\n",
       "    </tr>\n",
       "    <tr>\n",
       "      <th>8</th>\n",
       "      <td>16.736170</td>\n",
       "      <td>19.598131</td>\n",
       "    </tr>\n",
       "    <tr>\n",
       "      <th>9</th>\n",
       "      <td>16.392308</td>\n",
       "      <td>19.243478</td>\n",
       "    </tr>\n",
       "    <tr>\n",
       "      <th>10</th>\n",
       "      <td>16.880952</td>\n",
       "      <td>20.065041</td>\n",
       "    </tr>\n",
       "    <tr>\n",
       "      <th>11</th>\n",
       "      <td>17.000000</td>\n",
       "      <td>19.805970</td>\n",
       "    </tr>\n",
       "    <tr>\n",
       "      <th>12</th>\n",
       "      <td>18.201780</td>\n",
       "      <td>21.741007</td>\n",
       "    </tr>\n",
       "    <tr>\n",
       "      <th>Variance</th>\n",
       "      <td>6.900985</td>\n",
       "      <td>8.535354</td>\n",
       "    </tr>\n",
       "    <tr>\n",
       "      <th>Standard deviation</th>\n",
       "      <td>2.626973</td>\n",
       "      <td>2.921533</td>\n",
       "    </tr>\n",
       "    <tr>\n",
       "      <th>Mean value</th>\n",
       "      <td>15.198728</td>\n",
       "      <td>18.258937</td>\n",
       "    </tr>\n",
       "  </tbody>\n",
       "</table>\n",
       "</div>"
      ],
      "text/plain": [
       "                        smart      ultra\n",
       "month                                   \n",
       "1                    8.735294  13.222222\n",
       "2                   11.844828  12.000000\n",
       "3                   15.233766  17.648649\n",
       "4                   13.625000  16.963636\n",
       "5                   15.907801  19.373134\n",
       "6                   15.951220  18.940476\n",
       "7                   15.875622  20.505495\n",
       "8                   16.736170  19.598131\n",
       "9                   16.392308  19.243478\n",
       "10                  16.880952  20.065041\n",
       "11                  17.000000  19.805970\n",
       "12                  18.201780  21.741007\n",
       "Variance             6.900985   8.535354\n",
       "Standard deviation   2.626973   2.921533\n",
       "Mean value          15.198728  18.258937"
      ]
     },
     "metadata": {},
     "output_type": "display_data"
    }
   ],
   "source": [
    "# Calculate the average value of the used Internet traffic\n",
    "# per month for each plan.\n",
    "data_grouped_gb = data.pivot_table(\n",
    "    index='month', columns='tariff',\n",
    "    values='gb_used_total'\n",
    ")\n",
    "# Now calculate the variance and standard deviation.\n",
    "variance_gb = pd.Series(\n",
    "    {'smart':np.var(data_grouped_gb['smart'], ddof=1),\n",
    "     'ultra':np.var(data_grouped_gb['ultra'], ddof=1)}, \n",
    "      name='Variance')\n",
    "standard_deviation_gb = pd.Series(\n",
    "    {'smart':np.std(data_grouped_gb['smart'], ddof=1),\n",
    "     'ultra':np.std(data_grouped_gb['ultra'], ddof=1)},\n",
    "      name='Standard deviation')\n",
    "mean_gb = pd.Series(\n",
    "    {'smart':data_grouped_gb['smart'].mean(),\n",
    "     'ultra':data_grouped_gb['ultra'].mean()},\n",
    "      name='Mean value')\n",
    "# Build a histogram of the average internet traffic per month \n",
    "# distribution at smart and ultra plans.\n",
    "data_grouped_gb.plot(kind='hist',\n",
    "                  grid=True,\n",
    "                  bins=60,\n",
    "                  figsize=(15,5)\n",
    "                 )\n",
    "plt.title('Histogram of the average internet traffic per month' + \n",
    "          ' distribution at smart and ultra plans')\n",
    "plt.xlabel('Traffic number')\n",
    "plt.ylabel('Frequency')\n",
    "plt.show()\n",
    "data_grouped_gb.plot(kind='box',\n",
    "                  grid=True,\n",
    "                  figsize=(15,5)\n",
    "                 )\n",
    "plt.title('Boxplot of the average number' +  \n",
    "          ' of internet traffic used per month at smart и ultra plans')\n",
    "plt.show()\n",
    "# For clarity, add data_grouped_gb to the table\n",
    "# variance and standard deviation values.\n",
    "parameters_gb = [variance_gb, standard_deviation_gb, mean_gb]\n",
    "for i in parameters_gb:\n",
    "    data_grouped_gb = data_grouped_gb.append(i)\n",
    "display(data_grouped_gb)"
   ]
  },
  {
   "cell_type": "markdown",
   "metadata": {},
   "source": [
    "### Conclusion"
   ]
  },
  {
   "cell_type": "markdown",
   "metadata": {},
   "source": [
    "We did an analysis of the behavior of users of Smart and Ultra plans for the presented sample. Sample analysis showed the following.\n",
    "\n",
    "<u>**Smart Plan:**</u>\n",
    "\n",
    "**1. Call duration**  \n",
    "Smart plan users talk 365 minutes a month on average per year, which does not exceed the plan limit. Most often they talk between 340 and 410 minutes per month. The users of the plan talked the least in January (193 minutes). Most in December (451 minutes). It is curious that in general, starting from January, the average number of minutes of conversation per month is certainly growing and reaches its peak in December. The maximum value in December can be explained by the impending New Year holidays and, as a result, the increased need of people for cellular communications, which is necessary to solve the work tasks that have accumulated by the end of the year, as well as for congratulations on the New Year :)\n",
    "The minimum value in January can be explained by a decrease in the need for cellular communications due to the long New Year holidays.\n",
    "The variance was 4599 square min. The standard deviation was 67.8 minutes. The histogram is skewed to the left, indicating that the median is greater than the mean.\n",
    "  \n",
    "**2. SMS messages**  \n",
    "Smart plan users send 31 messages per month on average per year, which does not exceed the maximum plan value. Most often they send 33-34 messages per month. Least of all users of the plan sent messages in January (18 messages). Most of all in December (36 messages). The reasons why the minimum and maximum values were shown in January and December, respectively, are similar to the reasons described above in the Call Duration section.\n",
    "The variance was 26 square messages. The standard deviation was 5.1 messages. The histogram is skewed to the left, indicating that the median is greater than the mean.\n",
    "\n",
    "**3. Internet traffic**  \n",
    "Users of the Smart plan on average use 15.2 GB of Internet traffic per month, which exceeds the plan limit. Most often they use 15-16 GB of Internet traffic per month. The users of the plan used traffic least of all in January (8.7 GB). Most of all in December (18.2 GB). The reasons why the minimum and maximum values were shown in January and December, respectively, are similar to the reasons described above in the Call Duration section.\n",
    "The variance was 6.9 square GB. The standard deviation was 2.6 GB. The histogram is skewed to the left, indicating that the median is greater than the mean.\n",
    "  \n",
    "  <u>**Ultra Plan:**</u>\n",
    "\n",
    "**1. Call duration**  \n",
    "Users of the Ultra plan on average talk 468 minutes per month per year, which does not exceed the maximum plan limit. Most often they talk between 475 and 510 minutes per month. The users of the plan talked the least in February (280 minutes). Most of all in December (560 min). The maximum value in December can still be explained by the impending New Year holidays. It is difficult to explain the average values of other months at this stage of the study. It should be noted that users use no more than 20% of the total plan limit.\n",
    "The variance amounted to 5342.7 square minutes. The standard deviation was 73.1 min. The histogram is skewed to the left, indicating that the median is greater than the mean.\n",
    "  \n",
    "**2. SMS messages**  \n",
    "Users of the Ultra plan send 44 messages per month on average per year, which does not exceed the maximum plan limit. Most often they send 32 or 50 messages per month. The users of the plan sent messages the least in February (22 messages). Most of all in December (61 messages).\n",
    "The variance was 151.8 square messages. The standard deviation was 12.3 messages. The histogram turned out to be skewed to the right, which means that the median is less than the mean.\n",
    "\n",
    "**3. Internet traffic**  \n",
    "Users of the Ultra plan on average, use 18.3 GB of Internet traffic per month, which does not exceed the maximum plan limit. Most often they use 19-20 GB of Internet traffic per month. The users of the plan used traffic the least in February (12 GB). Most of all in December (21.7 GB).\n",
    "The variance was 8.5 square GB. The standard deviation was 2.9 GB. The histogram is skewed to the left, indicating that the median is greater than the mean."
   ]
  },
  {
   "cell_type": "markdown",
   "metadata": {},
   "source": [
    "## Hypothesis testing"
   ]
  },
  {
   "cell_type": "code",
   "execution_count": 24,
   "metadata": {},
   "outputs": [
    {
     "name": "stdout",
     "output_type": "stream",
     "text": [
      "Average value of revenue of Smart plan users of this sample: 1289.9735307312696\n",
      "Average value of revenue of Ultra plan users of this sample: 2070.1522842639592\n",
      "\n",
      "p-value: 1.8783148636310733e-122\n",
      "Reject the null hypothesis. equal_var=False\n",
      "\n",
      "p-value: 4.2606313931076085e-250\n",
      "Reject the null hypothesis\n"
     ]
    }
   ],
   "source": [
    "# Does the average revenue of users of Ultra and Smart plans differ?\n",
    "# We have two populations (Ultra, Smart).\n",
    "# Let's compare their averages.\n",
    "# Prepare data arrays.\n",
    "# Let's start with the revenue of users of the Smart plan.\n",
    "data_smart = data.loc[data['tariff'] == 'smart', 'rub_earnings']\n",
    "# Calculate the average value of the sample.\n",
    "data_smart_mean = data_smart.mean()\n",
    "# Now the revenue of users of the Ultra plan.\n",
    "data_ultra = data.loc[data['tariff'] == 'ultra', 'rub_earnings']\n",
    "# Calculate the average value of the sample.\n",
    "data_ultra_mean = data_ultra.mean()\n",
    "print('Average value of revenue of',\n",
    "       'Smart plan users of this sample:', data_smart_mean)\n",
    "print('Average value of revenue of',\n",
    "      'Ultra plan users of this sample:', data_ultra_mean)\n",
    "# Compare sample variances.\n",
    "# This must be done in order to understand\n",
    "# whether two populations have\n",
    "# approximately the same variances. Let's use the Levene test.\n",
    "# Let us formulate the null hypothesis: the variances of the two populations \n",
    "# are equal.\n",
    "# Let's formulate an alternative hypothesis:\n",
    "# the variances of the two populations are different.\n",
    "# alpha value will be 0.05\n",
    "alpha = .05\n",
    "stat, p = levene(data_smart, data_ultra)\n",
    "print()\n",
    "print('p-value:', p)\n",
    "if p < alpha:\n",
    "    print('Reject the null hypothesis. equal_var=False')\n",
    "else:\n",
    "    print('Failed to reject the null hypothesis.' + \n",
    "          ' equal_var=True')\n",
    "\n",
    "# Let's formulate the null hypothesis: the average revenue of users\n",
    "# Ultra and Smart plan do not differ.\n",
    "# Let's formulate an alternative hypothesis: average revenues\n",
    "# of Ultra and Smart plan users are different.\n",
    "# Set the critical theshold of statistical significance.\n",
    "alpha = .05\n",
    "results = st.ttest_ind(data_smart, data_ultra, equal_var=False)\n",
    "print()\n",
    "print('p-value:', results.pvalue)\n",
    "if results.pvalue < alpha:\n",
    "    print('Reject the null hypothesis')\n",
    "else:\n",
    "    print('Failed to reject the null hypothesis')"
   ]
  },
  {
   "cell_type": "code",
   "execution_count": 25,
   "metadata": {},
   "outputs": [
    {
     "name": "stdout",
     "output_type": "stream",
     "text": [
      "Average value of revenue of clients living in Moscow: 1546.7135842880523\n",
      "Average value of revenue of  clients living in other cities: 1524.9362274298885\n",
      "\n",
      "p-value: 0.014082487123270156\n",
      "Reject the null hypothesis. equal_var=False\n",
      "\n",
      "p-value: 0.5257376663729298\n",
      "Failed to reject the null hypothesis\n"
     ]
    }
   ],
   "source": [
    "# Does the average revenue of users from Moscow differ\n",
    "# from the average revenue of users in other regions?\n",
    "# We have two populations (Moscow, other cities).\n",
    "# Let's compare their averages.\n",
    "# Prepare data arrays.\n",
    "# Let's start with the revenue of users living in Moscow.\n",
    "data_moscow = data.loc[data['city'] == 'Москва', 'rub_earnings']\n",
    "# Calculate the average values of the sample.\n",
    "data_moscow_mean = data_moscow.mean()\n",
    "# Other cities users revenue.\n",
    "data_other = data.loc[data['city'] != 'Москва', 'rub_earnings']\n",
    "# Calculate the average values of the sample.\n",
    "data_other_mean = data_other.mean()\n",
    "print('Average value of revenue of',\n",
    "      'clients living in Moscow:', data_moscow_mean)\n",
    "print('Average value of revenue of' ,\n",
    "      ' clients living in other cities:', data_other_mean)\n",
    "# Compare sample variances. It needs to be done\n",
    "# to see if two populations have\n",
    "# approximately the same variances. Let's use the Levene test.\n",
    "# Let us formulate the null hypothesis: the variances of the two populations\n",
    "# are equal.\n",
    "# Let us formulate an alternative hypothesis: the variances of the two populations\n",
    "# are different.\n",
    "# alpha value will be 0.05\n",
    "alpha = .05\n",
    "stat, p = levene(data_moscow, data_other)\n",
    "print()\n",
    "print('p-value:', p)\n",
    "if p < alpha:\n",
    "    print('Reject the null hypothesis. equal_var=False')\n",
    "else:\n",
    "    print('Failed to reject the null hypothesis.',\n",
    "          ' equal_var=True')\n",
    "# Let's formulate the null hypothesis: the average revenue of users\n",
    "# living in Moscow and in other regions do not differ.\n",
    "# Let's formulate an alternative hypothesis: the average revenue of users,\n",
    "# living in Moscow and in other regions differ.\n",
    "# Set the critical threshold of statistical significance\n",
    "alpha = .05\n",
    "results = st.ttest_ind(data_moscow, data_other, equal_var=False)\n",
    "print()\n",
    "print('p-value:', results.pvalue)\n",
    "if results.pvalue < alpha:\n",
    "    print('Reject the null hypothesis')\n",
    "else:\n",
    "    print('Failed to reject the null hypothesis')"
   ]
  },
  {
   "cell_type": "markdown",
   "metadata": {},
   "source": [
    "### Conclusion"
   ]
  },
  {
   "cell_type": "markdown",
   "metadata": {},
   "source": [
    "Our task was to test two hypotheses:\n",
    "* the average revenue of users of the Ultra and Smart plans differ\n",
    "* the average revenue of users from Moscow differs from the revenue of users from other cities\n",
    "\n",
    "We have determined that both hypotheses are two-tailed hypotheses about the equality of the means of the two populations.\n",
    "For each case, we determined the null and alternative hypotheses, and after that we performed a calculation in which we compared the p-value level with a 5% significance threshold.\n",
    "  \n",
    "**<u>Ultra and Smart users have different average revenue</u>**\n",
    "**H<sub>0</sub>:** The average revenues of Ultra and Smart plans users do not differ.\n",
    "**H<sub>1</sub>:** The average revenues of Ultra and Smart users are different.\n",
    "  \n",
    "**<u>The average revenue of users from Moscow differs from the revenue of users from other cities</u>**\n",
    "**H<sub>0</sub>:** average revenues of users living in Moscow and other cities do not differ.\n",
    "**H<sub>1</sub>:** The average revenues of users living in Moscow and in other cities differ.\n",
    "\n",
    "  \n",
    "**Calculation results**\n",
    "* The null hypothesis \"average revenues of users of Ultra and Smart plans do not differ\" was rejected by us, since the p-value turned out to be significantly less than the significance threshold of 5%. **<u>Ultra and Smart plan users appear to have different average revenues.</u>**\n",
    "* We were unable to reject the null hypothesis \"the average revenues of users living in Moscow and other cities do not differ\", since the p-value level turned out to be significantly higher than the 5% significance threshold. **<u>Apparently, despite the difference in average values, in almost half of the cases such a difference will happen by chance. We do not rule out that the average revenues of users living in Moscow and in other cities do not really differ.</u>**"
   ]
  },
  {
   "cell_type": "markdown",
   "metadata": {},
   "source": [
    "## General conclusion"
   ]
  },
  {
   "cell_type": "markdown",
   "metadata": {},
   "source": [
    "Our task was to make a preliminary analysis of plans on a small sample of customers and conclude which plan is better, understanding which one brings more revenue. This will help the company make a decision in adjusting the advertising budget.\n",
    "What have we been able to do?\n",
    "1. We reviewed the input datasets, processed them and as a result made one general table containing all the necessary information for further analysis.\n",
    "2. We calculated the data on revenue from each user represented in the sample, and thus enriched the analyzed data. Revenue is a key factor for analysis.\n",
    "3. We evaluated the behavior of users of two plans. It turned out that according to this sample, Ultra plan users use communication services more than Smart plan users. The analysis used the average values for each month of 2018. At the same time, users of both plan rarely exceed the established limits for the volume of communication services. Thus, the excess in this sample was recorded only in terms of the use of Internet traffic by users of the Smart plan. It is worth conducting an additional statistical analysis, based on the results of which it will be possible to assume that a client request has been formed to increase the limit, and based on the results of the analysis, consider the option of increasing the Internet traffic consumption limit of this plan with a corresponding increase in its subscription fee.\n",
    "4. We considered two main hypotheses to answer the main question of the study. Based on the results of the review, we concluded that most likely the average revenues of users of the Smart and Ultra plans differ, moreover, the revenue of the Ultra plan is most likely greater than the revenue of the Smart plan. We also found out that most likely the average revenues of users living in Moscow and in other cities do not differ.\n",
    "  \n",
    "  These two findings allow us to recommend to the commercial department that, at this stage of the analysis, **it is worthwhile to increase the advertising budget of the Ultra plan, as the plan is likely to generate more revenue nationwide than the Smart plan.**"
   ]
  }
 ],
 "metadata": {
  "ExecuteTimeLog": [
   {
    "duration": 136,
    "start_time": "2021-09-15T11:22:15.944Z"
   },
   {
    "duration": 1395,
    "start_time": "2021-09-15T11:53:38.294Z"
   },
   {
    "duration": 217,
    "start_time": "2021-09-15T11:55:59.010Z"
   },
   {
    "duration": 222,
    "start_time": "2021-09-15T11:56:31.051Z"
   },
   {
    "duration": 225,
    "start_time": "2021-09-15T11:56:42.061Z"
   },
   {
    "duration": 18,
    "start_time": "2021-09-15T12:10:06.411Z"
   },
   {
    "duration": 20,
    "start_time": "2021-09-15T12:10:14.079Z"
   },
   {
    "duration": 56,
    "start_time": "2021-09-15T12:10:28.871Z"
   },
   {
    "duration": 598,
    "start_time": "2021-09-15T12:11:06.982Z"
   },
   {
    "duration": 4229,
    "start_time": "2021-09-15T12:11:21.726Z"
   },
   {
    "duration": 53,
    "start_time": "2021-09-15T12:11:25.959Z"
   },
   {
    "duration": 54,
    "start_time": "2021-09-15T12:11:29.062Z"
   },
   {
    "duration": 37,
    "start_time": "2021-09-15T12:12:12.110Z"
   },
   {
    "duration": 53,
    "start_time": "2021-09-15T12:12:37.828Z"
   },
   {
    "duration": 37,
    "start_time": "2021-09-15T12:12:51.861Z"
   },
   {
    "duration": 36,
    "start_time": "2021-09-15T12:13:16.780Z"
   },
   {
    "duration": 33,
    "start_time": "2021-09-15T12:13:23.628Z"
   },
   {
    "duration": 30,
    "start_time": "2021-09-15T12:13:33.660Z"
   },
   {
    "duration": 18,
    "start_time": "2021-09-15T12:13:41.203Z"
   },
   {
    "duration": 23,
    "start_time": "2021-09-15T12:13:52.675Z"
   },
   {
    "duration": 33,
    "start_time": "2021-09-15T12:14:30.715Z"
   },
   {
    "duration": 34,
    "start_time": "2021-09-15T12:17:36.533Z"
   },
   {
    "duration": 43,
    "start_time": "2021-09-15T12:17:39.671Z"
   },
   {
    "duration": 26,
    "start_time": "2021-09-15T12:17:42.431Z"
   },
   {
    "duration": 22,
    "start_time": "2021-09-15T12:17:47.863Z"
   },
   {
    "duration": 1457,
    "start_time": "2021-09-15T12:19:12.669Z"
   },
   {
    "duration": 1145,
    "start_time": "2021-09-15T12:19:19.374Z"
   },
   {
    "duration": 986,
    "start_time": "2021-09-15T12:20:16.613Z"
   },
   {
    "duration": 7,
    "start_time": "2021-09-15T12:20:23.236Z"
   },
   {
    "duration": 389,
    "start_time": "2021-09-15T12:21:13.436Z"
   },
   {
    "duration": 535,
    "start_time": "2021-09-15T12:21:20.924Z"
   },
   {
    "duration": 403,
    "start_time": "2021-09-15T12:31:42.660Z"
   },
   {
    "duration": 68,
    "start_time": "2021-09-15T12:31:59.361Z"
   },
   {
    "duration": 726,
    "start_time": "2021-09-15T12:32:12.588Z"
   },
   {
    "duration": 4531,
    "start_time": "2021-09-15T12:44:32.448Z"
   },
   {
    "duration": 39,
    "start_time": "2021-09-15T12:44:53.717Z"
   },
   {
    "duration": 26,
    "start_time": "2021-09-15T12:45:02.093Z"
   },
   {
    "duration": 40,
    "start_time": "2021-09-15T12:45:11.762Z"
   },
   {
    "duration": 26,
    "start_time": "2021-09-15T12:50:21.480Z"
   },
   {
    "duration": 30,
    "start_time": "2021-09-15T12:51:33.472Z"
   },
   {
    "duration": 26,
    "start_time": "2021-09-15T12:52:33.422Z"
   },
   {
    "duration": 563,
    "start_time": "2021-09-15T12:52:37.877Z"
   },
   {
    "duration": 36,
    "start_time": "2021-09-15T12:52:39.805Z"
   },
   {
    "duration": 33,
    "start_time": "2021-09-15T12:52:41.534Z"
   },
   {
    "duration": 27,
    "start_time": "2021-09-15T12:52:43.270Z"
   },
   {
    "duration": 16,
    "start_time": "2021-09-15T12:52:45.014Z"
   },
   {
    "duration": 26,
    "start_time": "2021-09-15T12:52:47.045Z"
   },
   {
    "duration": 6,
    "start_time": "2021-09-15T12:53:15.717Z"
   },
   {
    "duration": 396,
    "start_time": "2021-09-15T12:56:21.258Z"
   },
   {
    "duration": 6,
    "start_time": "2021-09-15T12:57:56.544Z"
   },
   {
    "duration": 446,
    "start_time": "2021-09-15T12:58:39.127Z"
   },
   {
    "duration": 401,
    "start_time": "2021-09-15T12:58:55.423Z"
   },
   {
    "duration": 6,
    "start_time": "2021-09-15T13:02:53.972Z"
   },
   {
    "duration": 226,
    "start_time": "2021-09-15T13:05:53.720Z"
   },
   {
    "duration": 6,
    "start_time": "2021-09-15T13:05:58.344Z"
   },
   {
    "duration": 6,
    "start_time": "2021-09-15T13:06:08.624Z"
   },
   {
    "duration": 6,
    "start_time": "2021-09-15T13:06:21.391Z"
   },
   {
    "duration": 431,
    "start_time": "2021-09-15T13:07:48.079Z"
   },
   {
    "duration": 1302,
    "start_time": "2021-09-15T13:15:50.494Z"
   },
   {
    "duration": 52,
    "start_time": "2021-09-15T13:16:06.695Z"
   },
   {
    "duration": 37,
    "start_time": "2021-09-15T13:16:15.420Z"
   },
   {
    "duration": 1084,
    "start_time": "2021-09-15T13:22:04.113Z"
   },
   {
    "duration": 2397,
    "start_time": "2021-09-15T13:22:59.440Z"
   },
   {
    "duration": 170,
    "start_time": "2021-09-15T13:28:04.292Z"
   },
   {
    "duration": 164,
    "start_time": "2021-09-15T13:29:25.274Z"
   },
   {
    "duration": 78,
    "start_time": "2021-09-15T13:33:08.230Z"
   },
   {
    "duration": 36,
    "start_time": "2021-09-15T13:33:50.565Z"
   },
   {
    "duration": 31,
    "start_time": "2021-09-15T13:34:08.539Z"
   },
   {
    "duration": 46,
    "start_time": "2021-09-15T13:37:56.697Z"
   },
   {
    "duration": 30,
    "start_time": "2021-09-15T13:40:20.989Z"
   },
   {
    "duration": 554,
    "start_time": "2021-09-15T13:40:23.391Z"
   },
   {
    "duration": 34,
    "start_time": "2021-09-15T13:40:25.559Z"
   },
   {
    "duration": 30,
    "start_time": "2021-09-15T13:40:28.014Z"
   },
   {
    "duration": 27,
    "start_time": "2021-09-15T13:40:33.582Z"
   },
   {
    "duration": 16,
    "start_time": "2021-09-15T13:40:36.351Z"
   },
   {
    "duration": 26,
    "start_time": "2021-09-15T13:40:41.439Z"
   },
   {
    "duration": 176,
    "start_time": "2021-09-15T13:40:44.519Z"
   },
   {
    "duration": 16,
    "start_time": "2021-09-15T13:42:15.605Z"
   },
   {
    "duration": 12,
    "start_time": "2021-09-15T13:43:00.053Z"
   },
   {
    "duration": 11,
    "start_time": "2021-09-15T13:45:34.857Z"
   },
   {
    "duration": 11,
    "start_time": "2021-09-15T13:46:02.464Z"
   },
   {
    "duration": 11,
    "start_time": "2021-09-15T13:46:20.409Z"
   },
   {
    "duration": 35,
    "start_time": "2021-09-15T13:51:46.274Z"
   },
   {
    "duration": 27,
    "start_time": "2021-09-15T13:51:52.276Z"
   },
   {
    "duration": 24,
    "start_time": "2021-09-15T13:52:39.690Z"
   },
   {
    "duration": 10,
    "start_time": "2021-09-15T13:56:01.696Z"
   },
   {
    "duration": 11,
    "start_time": "2021-09-15T13:56:18.167Z"
   },
   {
    "duration": 11,
    "start_time": "2021-09-15T13:56:37.239Z"
   },
   {
    "duration": 12,
    "start_time": "2021-09-15T13:56:53.950Z"
   },
   {
    "duration": 10,
    "start_time": "2021-09-15T14:00:34.280Z"
   },
   {
    "duration": 12,
    "start_time": "2021-09-15T14:01:02.842Z"
   },
   {
    "duration": 10,
    "start_time": "2021-09-15T14:01:08.162Z"
   },
   {
    "duration": 12,
    "start_time": "2021-09-15T14:01:15.395Z"
   },
   {
    "duration": 8,
    "start_time": "2021-09-15T14:02:22.073Z"
   },
   {
    "duration": 12,
    "start_time": "2021-09-15T14:03:38.913Z"
   },
   {
    "duration": 9,
    "start_time": "2021-09-15T14:04:42.247Z"
   },
   {
    "duration": 10,
    "start_time": "2021-09-15T14:05:13.918Z"
   },
   {
    "duration": 7,
    "start_time": "2021-09-15T14:05:38.406Z"
   },
   {
    "duration": 6,
    "start_time": "2021-09-15T14:05:45.966Z"
   },
   {
    "duration": 8,
    "start_time": "2021-09-15T14:06:00.237Z"
   },
   {
    "duration": 8,
    "start_time": "2021-09-15T14:06:17.909Z"
   },
   {
    "duration": 8,
    "start_time": "2021-09-15T14:06:25.989Z"
   },
   {
    "duration": 27,
    "start_time": "2021-09-15T14:06:34.323Z"
   },
   {
    "duration": 9,
    "start_time": "2021-09-15T14:07:03.256Z"
   },
   {
    "duration": 29,
    "start_time": "2021-09-15T14:07:18.814Z"
   },
   {
    "duration": 414,
    "start_time": "2021-09-15T14:08:03.853Z"
   },
   {
    "duration": 585,
    "start_time": "2021-09-15T14:08:12.284Z"
   },
   {
    "duration": 38,
    "start_time": "2021-09-15T14:08:13.907Z"
   },
   {
    "duration": 32,
    "start_time": "2021-09-15T14:08:15.747Z"
   },
   {
    "duration": 26,
    "start_time": "2021-09-15T14:08:17.515Z"
   },
   {
    "duration": 17,
    "start_time": "2021-09-15T14:08:19.259Z"
   },
   {
    "duration": 19,
    "start_time": "2021-09-15T14:08:21.299Z"
   },
   {
    "duration": 103,
    "start_time": "2021-09-15T14:08:23.019Z"
   },
   {
    "duration": 12,
    "start_time": "2021-09-15T14:08:25.099Z"
   },
   {
    "duration": 6931,
    "start_time": "2021-09-16T09:49:28.631Z"
   },
   {
    "duration": 39,
    "start_time": "2021-09-16T09:49:35.565Z"
   },
   {
    "duration": 31,
    "start_time": "2021-09-16T09:49:35.608Z"
   },
   {
    "duration": 25,
    "start_time": "2021-09-16T09:49:35.641Z"
   },
   {
    "duration": 15,
    "start_time": "2021-09-16T09:49:35.669Z"
   },
   {
    "duration": 20,
    "start_time": "2021-09-16T09:49:35.718Z"
   },
   {
    "duration": 132,
    "start_time": "2021-09-16T09:49:35.741Z"
   },
   {
    "duration": 11,
    "start_time": "2021-09-16T09:49:35.876Z"
   },
   {
    "duration": 33,
    "start_time": "2021-09-16T09:50:50.321Z"
   },
   {
    "duration": 95,
    "start_time": "2021-09-16T09:51:10.097Z"
   },
   {
    "duration": 115,
    "start_time": "2021-09-16T09:51:26.772Z"
   },
   {
    "duration": 10,
    "start_time": "2021-09-16T09:53:17.329Z"
   },
   {
    "duration": 9,
    "start_time": "2021-09-16T09:53:29.057Z"
   },
   {
    "duration": 1980,
    "start_time": "2021-09-16T09:53:44.872Z"
   },
   {
    "duration": 8,
    "start_time": "2021-09-16T09:53:48.848Z"
   },
   {
    "duration": 8,
    "start_time": "2021-09-16T09:53:58.688Z"
   },
   {
    "duration": 388,
    "start_time": "2021-09-16T09:55:49.774Z"
   },
   {
    "duration": 9,
    "start_time": "2021-09-16T09:55:55.678Z"
   },
   {
    "duration": 8,
    "start_time": "2021-09-16T09:56:11.174Z"
   },
   {
    "duration": 127,
    "start_time": "2021-09-16T10:00:26.079Z"
   },
   {
    "duration": 8,
    "start_time": "2021-09-16T10:00:28.730Z"
   },
   {
    "duration": 9,
    "start_time": "2021-09-16T10:00:33.945Z"
   },
   {
    "duration": 8,
    "start_time": "2021-09-16T10:01:08.674Z"
   },
   {
    "duration": 45,
    "start_time": "2021-09-16T10:47:35.678Z"
   },
   {
    "duration": 100,
    "start_time": "2021-09-16T10:51:24.416Z"
   },
   {
    "duration": 85,
    "start_time": "2021-09-16T10:51:40.896Z"
   },
   {
    "duration": 89,
    "start_time": "2021-09-16T10:51:45.535Z"
   },
   {
    "duration": 1588,
    "start_time": "2021-09-16T11:00:58.599Z"
   },
   {
    "duration": 91,
    "start_time": "2021-09-16T11:01:15.534Z"
   },
   {
    "duration": 90,
    "start_time": "2021-09-16T11:03:05.181Z"
   },
   {
    "duration": 138,
    "start_time": "2021-09-16T11:03:58.052Z"
   },
   {
    "duration": 89,
    "start_time": "2021-09-16T11:04:25.971Z"
   },
   {
    "duration": 400,
    "start_time": "2021-09-16T17:08:57.206Z"
   },
   {
    "duration": 1868,
    "start_time": "2021-09-16T17:09:03.392Z"
   },
   {
    "duration": 44,
    "start_time": "2021-09-16T17:09:05.263Z"
   },
   {
    "duration": 59,
    "start_time": "2021-09-16T17:09:05.311Z"
   },
   {
    "duration": 27,
    "start_time": "2021-09-16T17:09:05.374Z"
   },
   {
    "duration": 15,
    "start_time": "2021-09-16T17:09:05.403Z"
   },
   {
    "duration": 47,
    "start_time": "2021-09-16T17:09:05.421Z"
   },
   {
    "duration": 127,
    "start_time": "2021-09-16T17:09:05.470Z"
   },
   {
    "duration": 10,
    "start_time": "2021-09-16T17:09:05.600Z"
   },
   {
    "duration": 11,
    "start_time": "2021-09-16T17:09:05.614Z"
   },
   {
    "duration": 162,
    "start_time": "2021-09-16T17:09:05.627Z"
   },
   {
    "duration": 105,
    "start_time": "2021-09-16T17:09:05.793Z"
   },
   {
    "duration": 15,
    "start_time": "2021-09-16T17:10:07.245Z"
   },
   {
    "duration": 533,
    "start_time": "2021-09-16T17:11:02.258Z"
   },
   {
    "duration": 38,
    "start_time": "2021-09-16T17:11:02.793Z"
   },
   {
    "duration": 32,
    "start_time": "2021-09-16T17:11:02.834Z"
   },
   {
    "duration": 26,
    "start_time": "2021-09-16T17:11:02.869Z"
   },
   {
    "duration": 17,
    "start_time": "2021-09-16T17:11:02.897Z"
   },
   {
    "duration": 54,
    "start_time": "2021-09-16T17:11:02.916Z"
   },
   {
    "duration": 119,
    "start_time": "2021-09-16T17:11:02.972Z"
   },
   {
    "duration": 10,
    "start_time": "2021-09-16T17:11:03.094Z"
   },
   {
    "duration": 18,
    "start_time": "2021-09-16T17:11:03.107Z"
   },
   {
    "duration": 156,
    "start_time": "2021-09-16T17:11:03.127Z"
   },
   {
    "duration": 446,
    "start_time": "2021-09-16T17:34:14.311Z"
   },
   {
    "duration": 4098,
    "start_time": "2021-09-16T17:34:58.394Z"
   },
   {
    "duration": 39,
    "start_time": "2021-09-16T17:35:02.495Z"
   },
   {
    "duration": 34,
    "start_time": "2021-09-16T17:35:02.538Z"
   },
   {
    "duration": 25,
    "start_time": "2021-09-16T17:35:02.576Z"
   },
   {
    "duration": 31,
    "start_time": "2021-09-16T17:35:02.603Z"
   },
   {
    "duration": 38,
    "start_time": "2021-09-16T17:35:02.636Z"
   },
   {
    "duration": 136,
    "start_time": "2021-09-16T17:35:02.676Z"
   },
   {
    "duration": 10,
    "start_time": "2021-09-16T17:35:02.815Z"
   },
   {
    "duration": 37,
    "start_time": "2021-09-16T17:35:02.828Z"
   },
   {
    "duration": 133,
    "start_time": "2021-09-16T17:35:02.868Z"
   },
   {
    "duration": 438,
    "start_time": "2021-09-16T17:37:34.612Z"
   },
   {
    "duration": 2589,
    "start_time": "2021-09-16T17:37:52.354Z"
   },
   {
    "duration": 41,
    "start_time": "2021-09-16T17:37:54.945Z"
   },
   {
    "duration": 31,
    "start_time": "2021-09-16T17:37:54.989Z"
   },
   {
    "duration": 47,
    "start_time": "2021-09-16T17:37:55.024Z"
   },
   {
    "duration": 19,
    "start_time": "2021-09-16T17:37:55.074Z"
   },
   {
    "duration": 60,
    "start_time": "2021-09-16T17:37:55.096Z"
   },
   {
    "duration": 120,
    "start_time": "2021-09-16T17:37:55.158Z"
   },
   {
    "duration": 12,
    "start_time": "2021-09-16T17:37:55.281Z"
   },
   {
    "duration": 13,
    "start_time": "2021-09-16T17:37:55.296Z"
   },
   {
    "duration": 173,
    "start_time": "2021-09-16T17:37:55.312Z"
   },
   {
    "duration": 499,
    "start_time": "2021-09-16T17:37:57.811Z"
   },
   {
    "duration": 3,
    "start_time": "2021-09-16T17:42:31.009Z"
   },
   {
    "duration": 370,
    "start_time": "2021-09-16T17:50:06.388Z"
   },
   {
    "duration": 424,
    "start_time": "2021-09-16T17:50:27.165Z"
   },
   {
    "duration": 1849,
    "start_time": "2021-09-16T17:51:45.085Z"
   },
   {
    "duration": 40,
    "start_time": "2021-09-16T17:51:46.937Z"
   },
   {
    "duration": 32,
    "start_time": "2021-09-16T17:51:46.981Z"
   },
   {
    "duration": 52,
    "start_time": "2021-09-16T17:51:47.016Z"
   },
   {
    "duration": 18,
    "start_time": "2021-09-16T17:51:47.070Z"
   },
   {
    "duration": 21,
    "start_time": "2021-09-16T17:51:47.091Z"
   },
   {
    "duration": 162,
    "start_time": "2021-09-16T17:51:47.115Z"
   },
   {
    "duration": 11,
    "start_time": "2021-09-16T17:51:47.281Z"
   },
   {
    "duration": 19,
    "start_time": "2021-09-16T17:51:47.294Z"
   },
   {
    "duration": 166,
    "start_time": "2021-09-16T17:51:47.315Z"
   },
   {
    "duration": 522,
    "start_time": "2021-09-16T17:54:04.937Z"
   },
   {
    "duration": 1414,
    "start_time": "2021-09-16T17:55:20.159Z"
   },
   {
    "duration": 2099,
    "start_time": "2021-09-16T17:55:52.086Z"
   },
   {
    "duration": 6,
    "start_time": "2021-09-16T17:56:54.001Z"
   },
   {
    "duration": 2095,
    "start_time": "2021-09-16T17:57:25.498Z"
   },
   {
    "duration": 41,
    "start_time": "2021-09-16T17:57:27.595Z"
   },
   {
    "duration": 32,
    "start_time": "2021-09-16T17:57:27.639Z"
   },
   {
    "duration": 26,
    "start_time": "2021-09-16T17:57:27.674Z"
   },
   {
    "duration": 17,
    "start_time": "2021-09-16T17:57:27.703Z"
   },
   {
    "duration": 47,
    "start_time": "2021-09-16T17:57:27.723Z"
   },
   {
    "duration": 136,
    "start_time": "2021-09-16T17:57:27.773Z"
   },
   {
    "duration": 10,
    "start_time": "2021-09-16T17:57:27.912Z"
   },
   {
    "duration": 12,
    "start_time": "2021-09-16T17:57:27.926Z"
   },
   {
    "duration": 139,
    "start_time": "2021-09-16T17:57:27.956Z"
   },
   {
    "duration": 16,
    "start_time": "2021-09-16T17:57:36.850Z"
   },
   {
    "duration": 19,
    "start_time": "2021-09-16T17:57:50.778Z"
   },
   {
    "duration": 17,
    "start_time": "2021-09-16T17:57:59.922Z"
   },
   {
    "duration": 45,
    "start_time": "2021-09-16T17:58:39.553Z"
   },
   {
    "duration": 1578,
    "start_time": "2021-09-16T18:08:45.457Z"
   },
   {
    "duration": 578,
    "start_time": "2021-09-16T18:09:12.121Z"
   },
   {
    "duration": 38,
    "start_time": "2021-09-16T18:09:14.064Z"
   },
   {
    "duration": 32,
    "start_time": "2021-09-16T18:09:15.880Z"
   },
   {
    "duration": 27,
    "start_time": "2021-09-16T18:09:17.623Z"
   },
   {
    "duration": 17,
    "start_time": "2021-09-16T18:09:19.376Z"
   },
   {
    "duration": 21,
    "start_time": "2021-09-16T18:09:21.560Z"
   },
   {
    "duration": 99,
    "start_time": "2021-09-16T18:09:24.593Z"
   },
   {
    "duration": 11,
    "start_time": "2021-09-16T18:09:29.216Z"
   },
   {
    "duration": 8,
    "start_time": "2021-09-16T18:09:31.232Z"
   },
   {
    "duration": 123,
    "start_time": "2021-09-16T18:09:33.280Z"
   },
   {
    "duration": 130,
    "start_time": "2021-09-16T18:09:38.905Z"
   },
   {
    "duration": 2227,
    "start_time": "2021-09-16T18:12:20.301Z"
   },
   {
    "duration": 2773,
    "start_time": "2021-09-16T18:12:29.773Z"
   },
   {
    "duration": 496,
    "start_time": "2021-09-16T18:12:43.333Z"
   },
   {
    "duration": 36,
    "start_time": "2021-09-16T18:12:43.831Z"
   },
   {
    "duration": 31,
    "start_time": "2021-09-16T18:12:43.869Z"
   },
   {
    "duration": 25,
    "start_time": "2021-09-16T18:12:43.904Z"
   },
   {
    "duration": 22,
    "start_time": "2021-09-16T18:12:43.955Z"
   },
   {
    "duration": 19,
    "start_time": "2021-09-16T18:12:43.979Z"
   },
   {
    "duration": 132,
    "start_time": "2021-09-16T18:12:44.000Z"
   },
   {
    "duration": 10,
    "start_time": "2021-09-16T18:12:44.134Z"
   },
   {
    "duration": 13,
    "start_time": "2021-09-16T18:12:44.157Z"
   },
   {
    "duration": 152,
    "start_time": "2021-09-16T18:12:44.172Z"
   },
   {
    "duration": 95,
    "start_time": "2021-09-16T18:12:46.484Z"
   },
   {
    "duration": 1418,
    "start_time": "2021-09-16T18:14:49.921Z"
   },
   {
    "duration": 515,
    "start_time": "2021-09-16T18:14:58.706Z"
   },
   {
    "duration": 34,
    "start_time": "2021-09-16T18:14:59.224Z"
   },
   {
    "duration": 36,
    "start_time": "2021-09-16T18:14:59.262Z"
   },
   {
    "duration": 59,
    "start_time": "2021-09-16T18:14:59.302Z"
   },
   {
    "duration": 17,
    "start_time": "2021-09-16T18:14:59.364Z"
   },
   {
    "duration": 21,
    "start_time": "2021-09-16T18:14:59.383Z"
   },
   {
    "duration": 133,
    "start_time": "2021-09-16T18:14:59.407Z"
   },
   {
    "duration": 19,
    "start_time": "2021-09-16T18:14:59.542Z"
   },
   {
    "duration": 11,
    "start_time": "2021-09-16T18:14:59.564Z"
   },
   {
    "duration": 179,
    "start_time": "2021-09-16T18:14:59.577Z"
   },
   {
    "duration": 95,
    "start_time": "2021-09-16T18:15:01.505Z"
   },
   {
    "duration": 15,
    "start_time": "2021-09-16T18:23:10.605Z"
   },
   {
    "duration": 10056,
    "start_time": "2021-09-16T18:51:02.064Z"
   },
   {
    "duration": 34,
    "start_time": "2021-09-16T18:51:37.647Z"
   },
   {
    "duration": 59,
    "start_time": "2021-09-16T18:53:16.082Z"
   },
   {
    "duration": 63,
    "start_time": "2021-09-16T18:56:08.548Z"
   },
   {
    "duration": 543,
    "start_time": "2021-09-16T19:03:33.601Z"
   },
   {
    "duration": 34,
    "start_time": "2021-09-16T19:03:34.147Z"
   },
   {
    "duration": 30,
    "start_time": "2021-09-16T19:03:34.184Z"
   },
   {
    "duration": 49,
    "start_time": "2021-09-16T19:03:34.217Z"
   },
   {
    "duration": 17,
    "start_time": "2021-09-16T19:03:34.268Z"
   },
   {
    "duration": 29,
    "start_time": "2021-09-16T19:03:34.287Z"
   },
   {
    "duration": 138,
    "start_time": "2021-09-16T19:03:34.319Z"
   },
   {
    "duration": 11,
    "start_time": "2021-09-16T19:03:34.459Z"
   },
   {
    "duration": 12,
    "start_time": "2021-09-16T19:03:34.473Z"
   },
   {
    "duration": 174,
    "start_time": "2021-09-16T19:03:34.488Z"
   },
   {
    "duration": 114,
    "start_time": "2021-09-16T19:03:34.665Z"
   },
   {
    "duration": 76,
    "start_time": "2021-09-16T19:03:34.781Z"
   },
   {
    "duration": 65,
    "start_time": "2021-09-16T19:03:34.859Z"
   },
   {
    "duration": 407,
    "start_time": "2021-09-16T19:06:11.508Z"
   },
   {
    "duration": 62,
    "start_time": "2021-09-16T19:06:20.102Z"
   },
   {
    "duration": 438,
    "start_time": "2021-09-16T19:15:22.903Z"
   },
   {
    "duration": 60,
    "start_time": "2021-09-16T19:15:39.446Z"
   },
   {
    "duration": 61,
    "start_time": "2021-09-16T19:16:02.654Z"
   },
   {
    "duration": 418,
    "start_time": "2021-09-16T19:17:29.869Z"
   },
   {
    "duration": 48,
    "start_time": "2021-09-16T19:19:17.859Z"
   },
   {
    "duration": 47,
    "start_time": "2021-09-16T19:19:29.619Z"
   },
   {
    "duration": 415,
    "start_time": "2021-09-16T19:20:17.427Z"
   },
   {
    "duration": 1422,
    "start_time": "2021-09-16T19:20:24.786Z"
   },
   {
    "duration": 50,
    "start_time": "2021-09-16T19:21:23.601Z"
   },
   {
    "duration": 60,
    "start_time": "2021-09-16T19:21:34.617Z"
   },
   {
    "duration": 76,
    "start_time": "2021-09-16T19:22:02.241Z"
   },
   {
    "duration": 57,
    "start_time": "2021-09-16T19:22:46.208Z"
   },
   {
    "duration": 2107,
    "start_time": "2021-09-16T19:33:55.465Z"
   },
   {
    "duration": 40,
    "start_time": "2021-09-16T19:33:57.575Z"
   },
   {
    "duration": 43,
    "start_time": "2021-09-16T19:33:57.619Z"
   },
   {
    "duration": 27,
    "start_time": "2021-09-16T19:33:57.665Z"
   },
   {
    "duration": 16,
    "start_time": "2021-09-16T19:33:57.695Z"
   },
   {
    "duration": 51,
    "start_time": "2021-09-16T19:33:57.714Z"
   },
   {
    "duration": 133,
    "start_time": "2021-09-16T19:33:57.768Z"
   },
   {
    "duration": 21,
    "start_time": "2021-09-16T19:33:57.905Z"
   },
   {
    "duration": 14,
    "start_time": "2021-09-16T19:33:57.930Z"
   },
   {
    "duration": 154,
    "start_time": "2021-09-16T19:33:57.946Z"
   },
   {
    "duration": 486,
    "start_time": "2021-09-16T19:33:59.839Z"
   },
   {
    "duration": 14,
    "start_time": "2021-09-16T19:34:32.177Z"
   },
   {
    "duration": 11,
    "start_time": "2021-09-16T19:36:45.541Z"
   },
   {
    "duration": 41,
    "start_time": "2021-09-16T19:37:02.909Z"
   },
   {
    "duration": 108,
    "start_time": "2021-09-16T19:37:26.557Z"
   },
   {
    "duration": 62,
    "start_time": "2021-09-16T19:37:28.748Z"
   },
   {
    "duration": 68,
    "start_time": "2021-09-16T19:37:30.853Z"
   },
   {
    "duration": 41,
    "start_time": "2021-09-16T19:40:18.753Z"
   },
   {
    "duration": 1533,
    "start_time": "2021-09-16T19:42:46.335Z"
   },
   {
    "duration": 1936,
    "start_time": "2021-09-16T19:43:06.815Z"
   },
   {
    "duration": 44,
    "start_time": "2021-09-16T19:43:08.755Z"
   },
   {
    "duration": 54,
    "start_time": "2021-09-16T19:43:08.804Z"
   },
   {
    "duration": 30,
    "start_time": "2021-09-16T19:43:08.861Z"
   },
   {
    "duration": 19,
    "start_time": "2021-09-16T19:43:08.894Z"
   },
   {
    "duration": 23,
    "start_time": "2021-09-16T19:43:08.955Z"
   },
   {
    "duration": 138,
    "start_time": "2021-09-16T19:43:08.981Z"
   },
   {
    "duration": 11,
    "start_time": "2021-09-16T19:43:09.122Z"
   },
   {
    "duration": 24,
    "start_time": "2021-09-16T19:43:09.138Z"
   },
   {
    "duration": 152,
    "start_time": "2021-09-16T19:43:09.165Z"
   },
   {
    "duration": 65,
    "start_time": "2021-09-16T19:43:09.320Z"
   },
   {
    "duration": 103,
    "start_time": "2021-09-16T19:43:16.630Z"
   },
   {
    "duration": 1756,
    "start_time": "2021-09-16T19:44:48.933Z"
   },
   {
    "duration": 1376,
    "start_time": "2021-09-16T19:44:55.876Z"
   },
   {
    "duration": 542,
    "start_time": "2021-09-16T19:45:02.959Z"
   },
   {
    "duration": 35,
    "start_time": "2021-09-16T19:45:03.504Z"
   },
   {
    "duration": 34,
    "start_time": "2021-09-16T19:45:03.543Z"
   },
   {
    "duration": 27,
    "start_time": "2021-09-16T19:45:03.579Z"
   },
   {
    "duration": 17,
    "start_time": "2021-09-16T19:45:03.608Z"
   },
   {
    "duration": 33,
    "start_time": "2021-09-16T19:45:03.628Z"
   },
   {
    "duration": 105,
    "start_time": "2021-09-16T19:45:03.663Z"
   },
   {
    "duration": 10,
    "start_time": "2021-09-16T19:45:03.771Z"
   },
   {
    "duration": 12,
    "start_time": "2021-09-16T19:45:03.784Z"
   },
   {
    "duration": 130,
    "start_time": "2021-09-16T19:45:03.798Z"
   },
   {
    "duration": 46,
    "start_time": "2021-09-16T19:45:03.930Z"
   },
   {
    "duration": 97,
    "start_time": "2021-09-16T19:45:10.675Z"
   },
   {
    "duration": 1420,
    "start_time": "2021-09-16T19:45:17.019Z"
   },
   {
    "duration": 524,
    "start_time": "2021-09-16T19:45:22.740Z"
   },
   {
    "duration": 40,
    "start_time": "2021-09-16T19:45:23.266Z"
   },
   {
    "duration": 62,
    "start_time": "2021-09-16T19:45:23.309Z"
   },
   {
    "duration": 25,
    "start_time": "2021-09-16T19:45:23.373Z"
   },
   {
    "duration": 16,
    "start_time": "2021-09-16T19:45:23.401Z"
   },
   {
    "duration": 51,
    "start_time": "2021-09-16T19:45:23.420Z"
   },
   {
    "duration": 123,
    "start_time": "2021-09-16T19:45:23.474Z"
   },
   {
    "duration": 13,
    "start_time": "2021-09-16T19:45:23.600Z"
   },
   {
    "duration": 10,
    "start_time": "2021-09-16T19:45:23.617Z"
   },
   {
    "duration": 163,
    "start_time": "2021-09-16T19:45:23.629Z"
   },
   {
    "duration": 66,
    "start_time": "2021-09-16T19:45:23.795Z"
   },
   {
    "duration": 445,
    "start_time": "2021-09-16T19:45:26.795Z"
   },
   {
    "duration": 1452,
    "start_time": "2021-09-16T19:45:29.267Z"
   },
   {
    "duration": 511,
    "start_time": "2021-09-16T19:45:35.116Z"
   },
   {
    "duration": 35,
    "start_time": "2021-09-16T19:45:35.630Z"
   },
   {
    "duration": 31,
    "start_time": "2021-09-16T19:45:35.669Z"
   },
   {
    "duration": 25,
    "start_time": "2021-09-16T19:45:35.703Z"
   },
   {
    "duration": 41,
    "start_time": "2021-09-16T19:45:35.730Z"
   },
   {
    "duration": 20,
    "start_time": "2021-09-16T19:45:35.773Z"
   },
   {
    "duration": 135,
    "start_time": "2021-09-16T19:45:35.796Z"
   },
   {
    "duration": 10,
    "start_time": "2021-09-16T19:45:35.933Z"
   },
   {
    "duration": 11,
    "start_time": "2021-09-16T19:45:35.956Z"
   },
   {
    "duration": 142,
    "start_time": "2021-09-16T19:45:35.969Z"
   },
   {
    "duration": 62,
    "start_time": "2021-09-16T19:45:36.114Z"
   },
   {
    "duration": 86,
    "start_time": "2021-09-16T19:46:26.602Z"
   },
   {
    "duration": 2650,
    "start_time": "2021-09-16T19:46:51.658Z"
   },
   {
    "duration": 506,
    "start_time": "2021-09-16T19:47:27.986Z"
   },
   {
    "duration": 35,
    "start_time": "2021-09-16T19:47:28.494Z"
   },
   {
    "duration": 30,
    "start_time": "2021-09-16T19:47:28.533Z"
   },
   {
    "duration": 26,
    "start_time": "2021-09-16T19:47:28.567Z"
   },
   {
    "duration": 16,
    "start_time": "2021-09-16T19:47:28.595Z"
   },
   {
    "duration": 49,
    "start_time": "2021-09-16T19:47:28.614Z"
   },
   {
    "duration": 114,
    "start_time": "2021-09-16T19:47:28.665Z"
   },
   {
    "duration": 10,
    "start_time": "2021-09-16T19:47:28.781Z"
   },
   {
    "duration": 13,
    "start_time": "2021-09-16T19:47:28.795Z"
   },
   {
    "duration": 160,
    "start_time": "2021-09-16T19:47:28.811Z"
   },
   {
    "duration": 38,
    "start_time": "2021-09-16T19:47:28.973Z"
   },
   {
    "duration": 97,
    "start_time": "2021-09-16T19:47:31.729Z"
   },
   {
    "duration": 2010,
    "start_time": "2021-09-16T19:49:06.864Z"
   },
   {
    "duration": 533,
    "start_time": "2021-09-16T19:49:14.384Z"
   },
   {
    "duration": 37,
    "start_time": "2021-09-16T19:49:14.920Z"
   },
   {
    "duration": 35,
    "start_time": "2021-09-16T19:49:14.961Z"
   },
   {
    "duration": 62,
    "start_time": "2021-09-16T19:49:15.000Z"
   },
   {
    "duration": 18,
    "start_time": "2021-09-16T19:49:15.065Z"
   },
   {
    "duration": 26,
    "start_time": "2021-09-16T19:49:15.087Z"
   },
   {
    "duration": 131,
    "start_time": "2021-09-16T19:49:15.116Z"
   },
   {
    "duration": 12,
    "start_time": "2021-09-16T19:49:15.250Z"
   },
   {
    "duration": 10,
    "start_time": "2021-09-16T19:49:15.267Z"
   },
   {
    "duration": 180,
    "start_time": "2021-09-16T19:49:15.280Z"
   },
   {
    "duration": 41,
    "start_time": "2021-09-16T19:49:15.463Z"
   },
   {
    "duration": 103,
    "start_time": "2021-09-16T19:49:18.815Z"
   },
   {
    "duration": 522,
    "start_time": "2021-09-16T19:49:34.464Z"
   },
   {
    "duration": 38,
    "start_time": "2021-09-16T19:49:34.989Z"
   },
   {
    "duration": 30,
    "start_time": "2021-09-16T19:49:35.030Z"
   },
   {
    "duration": 27,
    "start_time": "2021-09-16T19:49:35.063Z"
   },
   {
    "duration": 19,
    "start_time": "2021-09-16T19:49:35.093Z"
   },
   {
    "duration": 59,
    "start_time": "2021-09-16T19:49:35.115Z"
   },
   {
    "duration": 124,
    "start_time": "2021-09-16T19:49:35.177Z"
   },
   {
    "duration": 9,
    "start_time": "2021-09-16T19:49:35.304Z"
   },
   {
    "duration": 24,
    "start_time": "2021-09-16T19:49:35.317Z"
   },
   {
    "duration": 152,
    "start_time": "2021-09-16T19:49:35.343Z"
   },
   {
    "duration": 69,
    "start_time": "2021-09-16T19:49:35.497Z"
   },
   {
    "duration": 104,
    "start_time": "2021-09-16T19:49:39.958Z"
   },
   {
    "duration": 505,
    "start_time": "2021-09-16T19:49:58.055Z"
   },
   {
    "duration": 34,
    "start_time": "2021-09-16T19:49:58.563Z"
   },
   {
    "duration": 30,
    "start_time": "2021-09-16T19:49:58.599Z"
   },
   {
    "duration": 25,
    "start_time": "2021-09-16T19:49:58.656Z"
   },
   {
    "duration": 15,
    "start_time": "2021-09-16T19:49:58.684Z"
   },
   {
    "duration": 59,
    "start_time": "2021-09-16T19:49:58.702Z"
   },
   {
    "duration": 120,
    "start_time": "2021-09-16T19:49:58.763Z"
   },
   {
    "duration": 10,
    "start_time": "2021-09-16T19:49:58.885Z"
   },
   {
    "duration": 16,
    "start_time": "2021-09-16T19:49:58.899Z"
   },
   {
    "duration": 158,
    "start_time": "2021-09-16T19:49:58.917Z"
   },
   {
    "duration": 38,
    "start_time": "2021-09-16T19:49:59.077Z"
   },
   {
    "duration": 97,
    "start_time": "2021-09-16T19:50:00.822Z"
   },
   {
    "duration": 511,
    "start_time": "2021-09-16T19:50:07.566Z"
   },
   {
    "duration": 34,
    "start_time": "2021-09-16T19:50:08.080Z"
   },
   {
    "duration": 30,
    "start_time": "2021-09-16T19:50:08.118Z"
   },
   {
    "duration": 25,
    "start_time": "2021-09-16T19:50:08.156Z"
   },
   {
    "duration": 25,
    "start_time": "2021-09-16T19:50:08.183Z"
   },
   {
    "duration": 45,
    "start_time": "2021-09-16T19:50:08.211Z"
   },
   {
    "duration": 113,
    "start_time": "2021-09-16T19:50:08.259Z"
   },
   {
    "duration": 9,
    "start_time": "2021-09-16T19:50:08.374Z"
   },
   {
    "duration": 32,
    "start_time": "2021-09-16T19:50:08.388Z"
   },
   {
    "duration": 153,
    "start_time": "2021-09-16T19:50:08.423Z"
   },
   {
    "duration": 36,
    "start_time": "2021-09-16T19:50:08.578Z"
   },
   {
    "duration": 440,
    "start_time": "2021-09-16T19:50:10.111Z"
   },
   {
    "duration": 504,
    "start_time": "2021-09-16T19:50:34.183Z"
   },
   {
    "duration": 36,
    "start_time": "2021-09-16T19:50:34.689Z"
   },
   {
    "duration": 31,
    "start_time": "2021-09-16T19:50:34.727Z"
   },
   {
    "duration": 30,
    "start_time": "2021-09-16T19:50:34.760Z"
   },
   {
    "duration": 28,
    "start_time": "2021-09-16T19:50:34.793Z"
   },
   {
    "duration": 36,
    "start_time": "2021-09-16T19:50:34.824Z"
   },
   {
    "duration": 111,
    "start_time": "2021-09-16T19:50:34.862Z"
   },
   {
    "duration": 9,
    "start_time": "2021-09-16T19:50:34.976Z"
   },
   {
    "duration": 32,
    "start_time": "2021-09-16T19:50:34.989Z"
   },
   {
    "duration": 173,
    "start_time": "2021-09-16T19:50:35.024Z"
   },
   {
    "duration": 64,
    "start_time": "2021-09-16T19:50:35.199Z"
   },
   {
    "duration": 96,
    "start_time": "2021-09-16T19:50:36.237Z"
   },
   {
    "duration": 1455,
    "start_time": "2021-09-16T19:51:27.405Z"
   },
   {
    "duration": 492,
    "start_time": "2021-09-16T19:51:40.686Z"
   },
   {
    "duration": 34,
    "start_time": "2021-09-16T19:51:41.181Z"
   },
   {
    "duration": 29,
    "start_time": "2021-09-16T19:51:41.218Z"
   },
   {
    "duration": 29,
    "start_time": "2021-09-16T19:51:41.250Z"
   },
   {
    "duration": 16,
    "start_time": "2021-09-16T19:51:41.282Z"
   },
   {
    "duration": 56,
    "start_time": "2021-09-16T19:51:41.300Z"
   },
   {
    "duration": 108,
    "start_time": "2021-09-16T19:51:41.358Z"
   },
   {
    "duration": 10,
    "start_time": "2021-09-16T19:51:41.469Z"
   },
   {
    "duration": 29,
    "start_time": "2021-09-16T19:51:41.482Z"
   },
   {
    "duration": 150,
    "start_time": "2021-09-16T19:51:41.513Z"
   },
   {
    "duration": 37,
    "start_time": "2021-09-16T19:51:41.665Z"
   },
   {
    "duration": 90,
    "start_time": "2021-09-16T19:51:44.709Z"
   },
   {
    "duration": 522,
    "start_time": "2021-09-16T19:55:41.841Z"
   },
   {
    "duration": 36,
    "start_time": "2021-09-16T19:55:42.366Z"
   },
   {
    "duration": 31,
    "start_time": "2021-09-16T19:55:42.405Z"
   },
   {
    "duration": 26,
    "start_time": "2021-09-16T19:55:42.455Z"
   },
   {
    "duration": 16,
    "start_time": "2021-09-16T19:55:42.484Z"
   },
   {
    "duration": 58,
    "start_time": "2021-09-16T19:55:42.502Z"
   },
   {
    "duration": 111,
    "start_time": "2021-09-16T19:55:42.563Z"
   },
   {
    "duration": 10,
    "start_time": "2021-09-16T19:55:42.676Z"
   },
   {
    "duration": 24,
    "start_time": "2021-09-16T19:55:42.689Z"
   },
   {
    "duration": 158,
    "start_time": "2021-09-16T19:55:42.715Z"
   },
   {
    "duration": 38,
    "start_time": "2021-09-16T19:55:42.876Z"
   },
   {
    "duration": 124,
    "start_time": "2021-09-16T19:55:45.648Z"
   },
   {
    "duration": 1491,
    "start_time": "2021-09-17T09:03:49.304Z"
   },
   {
    "duration": 37,
    "start_time": "2021-09-17T09:03:50.797Z"
   },
   {
    "duration": 22,
    "start_time": "2021-09-17T09:03:50.836Z"
   },
   {
    "duration": 31,
    "start_time": "2021-09-17T09:03:50.860Z"
   },
   {
    "duration": 11,
    "start_time": "2021-09-17T09:03:50.893Z"
   },
   {
    "duration": 14,
    "start_time": "2021-09-17T09:03:50.906Z"
   },
   {
    "duration": 108,
    "start_time": "2021-09-17T09:03:50.922Z"
   },
   {
    "duration": 9,
    "start_time": "2021-09-17T09:03:51.032Z"
   },
   {
    "duration": 15,
    "start_time": "2021-09-17T09:03:51.043Z"
   },
   {
    "duration": 117,
    "start_time": "2021-09-17T09:03:51.060Z"
   },
   {
    "duration": 3,
    "start_time": "2021-09-17T09:04:13.260Z"
   },
   {
    "duration": 12,
    "start_time": "2021-09-17T09:07:41.567Z"
   },
   {
    "duration": 10,
    "start_time": "2021-09-17T09:07:53.832Z"
   },
   {
    "duration": 10,
    "start_time": "2021-09-17T09:08:46.304Z"
   },
   {
    "duration": 1101,
    "start_time": "2021-09-17T09:12:06.020Z"
   },
   {
    "duration": 122,
    "start_time": "2021-09-17T09:12:20.300Z"
   },
   {
    "duration": 34,
    "start_time": "2021-09-17T09:12:34.324Z"
   },
   {
    "duration": 40,
    "start_time": "2021-09-17T09:12:47.212Z"
   },
   {
    "duration": 34,
    "start_time": "2021-09-17T09:12:54.540Z"
   },
   {
    "duration": 32,
    "start_time": "2021-09-17T09:13:00.471Z"
   },
   {
    "duration": 27,
    "start_time": "2021-09-17T09:13:44.442Z"
   },
   {
    "duration": 26,
    "start_time": "2021-09-17T10:00:04.370Z"
   },
   {
    "duration": 83,
    "start_time": "2021-09-17T10:35:08.351Z"
   },
   {
    "duration": 73,
    "start_time": "2021-09-17T10:36:43.726Z"
   },
   {
    "duration": 1648,
    "start_time": "2021-09-17T10:37:24.691Z"
   },
   {
    "duration": 76,
    "start_time": "2021-09-17T10:37:31.712Z"
   },
   {
    "duration": 1610,
    "start_time": "2021-09-17T10:37:38.088Z"
   },
   {
    "duration": 395,
    "start_time": "2021-09-17T10:37:43.065Z"
   },
   {
    "duration": 25,
    "start_time": "2021-09-17T10:37:43.462Z"
   },
   {
    "duration": 22,
    "start_time": "2021-09-17T10:37:43.489Z"
   },
   {
    "duration": 19,
    "start_time": "2021-09-17T10:37:43.513Z"
   },
   {
    "duration": 11,
    "start_time": "2021-09-17T10:37:43.534Z"
   },
   {
    "duration": 42,
    "start_time": "2021-09-17T10:37:43.547Z"
   },
   {
    "duration": 68,
    "start_time": "2021-09-17T10:37:43.591Z"
   },
   {
    "duration": 20,
    "start_time": "2021-09-17T10:37:43.661Z"
   },
   {
    "duration": 9,
    "start_time": "2021-09-17T10:37:43.684Z"
   },
   {
    "duration": 109,
    "start_time": "2021-09-17T10:37:43.695Z"
   },
   {
    "duration": 21,
    "start_time": "2021-09-17T10:37:43.806Z"
   },
   {
    "duration": 49,
    "start_time": "2021-09-17T10:37:43.829Z"
   },
   {
    "duration": 385,
    "start_time": "2021-09-17T10:37:46.024Z"
   },
   {
    "duration": 1576,
    "start_time": "2021-09-17T10:38:00.096Z"
   },
   {
    "duration": 396,
    "start_time": "2021-09-17T10:38:05.496Z"
   },
   {
    "duration": 26,
    "start_time": "2021-09-17T10:38:05.894Z"
   },
   {
    "duration": 22,
    "start_time": "2021-09-17T10:38:05.922Z"
   },
   {
    "duration": 30,
    "start_time": "2021-09-17T10:38:05.946Z"
   },
   {
    "duration": 10,
    "start_time": "2021-09-17T10:38:05.978Z"
   },
   {
    "duration": 15,
    "start_time": "2021-09-17T10:38:05.990Z"
   },
   {
    "duration": 87,
    "start_time": "2021-09-17T10:38:06.007Z"
   },
   {
    "duration": 7,
    "start_time": "2021-09-17T10:38:06.096Z"
   },
   {
    "duration": 13,
    "start_time": "2021-09-17T10:38:06.106Z"
   },
   {
    "duration": 99,
    "start_time": "2021-09-17T10:38:06.121Z"
   },
   {
    "duration": 20,
    "start_time": "2021-09-17T10:38:06.222Z"
   },
   {
    "duration": 52,
    "start_time": "2021-09-17T10:38:06.244Z"
   },
   {
    "duration": 1462,
    "start_time": "2021-09-17T10:38:07.607Z"
   },
   {
    "duration": 62,
    "start_time": "2021-09-17T10:38:38.270Z"
   },
   {
    "duration": 59,
    "start_time": "2021-09-17T10:40:43.565Z"
   },
   {
    "duration": 2568,
    "start_time": "2021-09-17T10:42:47.347Z"
   },
   {
    "duration": 401,
    "start_time": "2021-09-17T10:42:54.203Z"
   },
   {
    "duration": 29,
    "start_time": "2021-09-17T10:42:54.607Z"
   },
   {
    "duration": 26,
    "start_time": "2021-09-17T10:42:54.639Z"
   },
   {
    "duration": 26,
    "start_time": "2021-09-17T10:42:54.667Z"
   },
   {
    "duration": 10,
    "start_time": "2021-09-17T10:42:54.695Z"
   },
   {
    "duration": 20,
    "start_time": "2021-09-17T10:42:54.707Z"
   },
   {
    "duration": 91,
    "start_time": "2021-09-17T10:42:54.729Z"
   },
   {
    "duration": 8,
    "start_time": "2021-09-17T10:42:54.822Z"
   },
   {
    "duration": 8,
    "start_time": "2021-09-17T10:42:54.832Z"
   },
   {
    "duration": 112,
    "start_time": "2021-09-17T10:42:54.842Z"
   },
   {
    "duration": 41,
    "start_time": "2021-09-17T10:42:54.955Z"
   },
   {
    "duration": 34,
    "start_time": "2021-09-17T10:42:54.998Z"
   },
   {
    "duration": 98,
    "start_time": "2021-09-17T10:42:55.035Z"
   },
   {
    "duration": 1560,
    "start_time": "2021-09-17T10:42:56.778Z"
   },
   {
    "duration": 41,
    "start_time": "2021-09-17T10:43:23.186Z"
   },
   {
    "duration": 42,
    "start_time": "2021-09-17T10:44:13.737Z"
   },
   {
    "duration": 69,
    "start_time": "2021-09-17T10:46:04.144Z"
   },
   {
    "duration": 19,
    "start_time": "2021-09-17T10:51:47.434Z"
   },
   {
    "duration": 15,
    "start_time": "2021-09-17T10:52:29.081Z"
   },
   {
    "duration": 15,
    "start_time": "2021-09-17T10:52:41.105Z"
   },
   {
    "duration": 15,
    "start_time": "2021-09-17T10:52:52.273Z"
   },
   {
    "duration": 17,
    "start_time": "2021-09-17T10:54:15.231Z"
   },
   {
    "duration": 2738,
    "start_time": "2021-09-17T10:55:42.190Z"
   },
   {
    "duration": 22,
    "start_time": "2021-09-17T10:55:56.750Z"
   },
   {
    "duration": 38,
    "start_time": "2021-09-17T10:57:54.820Z"
   },
   {
    "duration": 25,
    "start_time": "2021-09-17T11:06:40.395Z"
   },
   {
    "duration": 27,
    "start_time": "2021-09-17T11:08:46.434Z"
   },
   {
    "duration": 37,
    "start_time": "2021-09-17T11:15:20.788Z"
   },
   {
    "duration": 30,
    "start_time": "2021-09-17T11:16:03.018Z"
   },
   {
    "duration": 29,
    "start_time": "2021-09-17T11:16:19.098Z"
   },
   {
    "duration": 446,
    "start_time": "2021-09-17T11:16:30.306Z"
   },
   {
    "duration": 30,
    "start_time": "2021-09-17T11:16:30.754Z"
   },
   {
    "duration": 23,
    "start_time": "2021-09-17T11:16:30.787Z"
   },
   {
    "duration": 19,
    "start_time": "2021-09-17T11:16:30.812Z"
   },
   {
    "duration": 11,
    "start_time": "2021-09-17T11:16:30.833Z"
   },
   {
    "duration": 40,
    "start_time": "2021-09-17T11:16:30.845Z"
   },
   {
    "duration": 82,
    "start_time": "2021-09-17T11:16:30.887Z"
   },
   {
    "duration": 13,
    "start_time": "2021-09-17T11:16:30.971Z"
   },
   {
    "duration": 11,
    "start_time": "2021-09-17T11:16:30.987Z"
   },
   {
    "duration": 115,
    "start_time": "2021-09-17T11:16:31.001Z"
   },
   {
    "duration": 22,
    "start_time": "2021-09-17T11:16:31.118Z"
   },
   {
    "duration": 51,
    "start_time": "2021-09-17T11:16:31.142Z"
   },
   {
    "duration": 86,
    "start_time": "2021-09-17T11:16:31.194Z"
   },
   {
    "duration": 43,
    "start_time": "2021-09-17T11:16:31.282Z"
   },
   {
    "duration": 60,
    "start_time": "2021-09-17T11:16:31.327Z"
   },
   {
    "duration": 40,
    "start_time": "2021-09-17T11:16:31.390Z"
   },
   {
    "duration": 32,
    "start_time": "2021-09-17T11:16:35.937Z"
   },
   {
    "duration": 31,
    "start_time": "2021-09-17T11:17:11.994Z"
   },
   {
    "duration": 31,
    "start_time": "2021-09-17T11:17:29.017Z"
   },
   {
    "duration": 407,
    "start_time": "2021-09-17T11:17:39.649Z"
   },
   {
    "duration": 30,
    "start_time": "2021-09-17T11:17:40.059Z"
   },
   {
    "duration": 26,
    "start_time": "2021-09-17T11:17:40.091Z"
   },
   {
    "duration": 22,
    "start_time": "2021-09-17T11:17:40.119Z"
   },
   {
    "duration": 42,
    "start_time": "2021-09-17T11:17:40.144Z"
   },
   {
    "duration": 16,
    "start_time": "2021-09-17T11:17:40.188Z"
   },
   {
    "duration": 104,
    "start_time": "2021-09-17T11:17:40.206Z"
   },
   {
    "duration": 8,
    "start_time": "2021-09-17T11:17:40.312Z"
   },
   {
    "duration": 8,
    "start_time": "2021-09-17T11:17:40.323Z"
   },
   {
    "duration": 112,
    "start_time": "2021-09-17T11:17:40.333Z"
   },
   {
    "duration": 46,
    "start_time": "2021-09-17T11:17:40.447Z"
   },
   {
    "duration": 24,
    "start_time": "2021-09-17T11:17:40.494Z"
   },
   {
    "duration": 84,
    "start_time": "2021-09-17T11:17:40.519Z"
   },
   {
    "duration": 42,
    "start_time": "2021-09-17T11:17:40.605Z"
   },
   {
    "duration": 59,
    "start_time": "2021-09-17T11:17:40.649Z"
   },
   {
    "duration": 39,
    "start_time": "2021-09-17T11:17:40.709Z"
   },
   {
    "duration": 31,
    "start_time": "2021-09-17T11:18:09.153Z"
   },
   {
    "duration": 588,
    "start_time": "2021-09-17T11:21:00.713Z"
   },
   {
    "duration": 399,
    "start_time": "2021-09-17T11:21:07.693Z"
   },
   {
    "duration": 26,
    "start_time": "2021-09-17T11:21:08.094Z"
   },
   {
    "duration": 24,
    "start_time": "2021-09-17T11:21:08.122Z"
   },
   {
    "duration": 31,
    "start_time": "2021-09-17T11:21:08.148Z"
   },
   {
    "duration": 10,
    "start_time": "2021-09-17T11:21:08.181Z"
   },
   {
    "duration": 13,
    "start_time": "2021-09-17T11:21:08.193Z"
   },
   {
    "duration": 98,
    "start_time": "2021-09-17T11:21:08.208Z"
   },
   {
    "duration": 8,
    "start_time": "2021-09-17T11:21:08.308Z"
   },
   {
    "duration": 15,
    "start_time": "2021-09-17T11:21:08.318Z"
   },
   {
    "duration": 100,
    "start_time": "2021-09-17T11:21:08.335Z"
   },
   {
    "duration": 45,
    "start_time": "2021-09-17T11:21:08.437Z"
   },
   {
    "duration": 24,
    "start_time": "2021-09-17T11:21:08.484Z"
   },
   {
    "duration": 79,
    "start_time": "2021-09-17T11:21:08.510Z"
   },
   {
    "duration": 43,
    "start_time": "2021-09-17T11:21:08.590Z"
   },
   {
    "duration": 59,
    "start_time": "2021-09-17T11:21:08.634Z"
   },
   {
    "duration": 39,
    "start_time": "2021-09-17T11:21:08.695Z"
   },
   {
    "duration": 381,
    "start_time": "2021-09-17T11:21:13.548Z"
   },
   {
    "duration": 30,
    "start_time": "2021-09-17T11:21:35.925Z"
   },
   {
    "duration": 392,
    "start_time": "2021-09-17T11:21:45.180Z"
   },
   {
    "duration": 25,
    "start_time": "2021-09-17T11:21:45.574Z"
   },
   {
    "duration": 21,
    "start_time": "2021-09-17T11:21:45.601Z"
   },
   {
    "duration": 18,
    "start_time": "2021-09-17T11:21:45.624Z"
   },
   {
    "duration": 36,
    "start_time": "2021-09-17T11:21:45.643Z"
   },
   {
    "duration": 13,
    "start_time": "2021-09-17T11:21:45.681Z"
   },
   {
    "duration": 85,
    "start_time": "2021-09-17T11:21:45.696Z"
   },
   {
    "duration": 7,
    "start_time": "2021-09-17T11:21:45.782Z"
   },
   {
    "duration": 12,
    "start_time": "2021-09-17T11:21:45.792Z"
   },
   {
    "duration": 105,
    "start_time": "2021-09-17T11:21:45.805Z"
   },
   {
    "duration": 22,
    "start_time": "2021-09-17T11:21:45.912Z"
   },
   {
    "duration": 50,
    "start_time": "2021-09-17T11:21:45.935Z"
   },
   {
    "duration": 68,
    "start_time": "2021-09-17T11:21:45.986Z"
   },
   {
    "duration": 61,
    "start_time": "2021-09-17T11:21:46.056Z"
   },
   {
    "duration": 46,
    "start_time": "2021-09-17T11:21:46.119Z"
   },
   {
    "duration": 41,
    "start_time": "2021-09-17T11:21:46.177Z"
   },
   {
    "duration": 29,
    "start_time": "2021-09-17T11:21:50.573Z"
   },
   {
    "duration": 403,
    "start_time": "2021-09-17T11:22:12.644Z"
   },
   {
    "duration": 27,
    "start_time": "2021-09-17T11:22:13.049Z"
   },
   {
    "duration": 22,
    "start_time": "2021-09-17T11:22:13.079Z"
   },
   {
    "duration": 20,
    "start_time": "2021-09-17T11:22:13.103Z"
   },
   {
    "duration": 13,
    "start_time": "2021-09-17T11:22:13.124Z"
   },
   {
    "duration": 43,
    "start_time": "2021-09-17T11:22:13.139Z"
   },
   {
    "duration": 67,
    "start_time": "2021-09-17T11:22:13.184Z"
   },
   {
    "duration": 23,
    "start_time": "2021-09-17T11:22:13.253Z"
   },
   {
    "duration": 6,
    "start_time": "2021-09-17T11:22:13.279Z"
   },
   {
    "duration": 116,
    "start_time": "2021-09-17T11:22:13.287Z"
   },
   {
    "duration": 21,
    "start_time": "2021-09-17T11:22:13.406Z"
   },
   {
    "duration": 57,
    "start_time": "2021-09-17T11:22:13.429Z"
   },
   {
    "duration": 68,
    "start_time": "2021-09-17T11:22:13.488Z"
   },
   {
    "duration": 55,
    "start_time": "2021-09-17T11:22:13.558Z"
   },
   {
    "duration": 62,
    "start_time": "2021-09-17T11:22:13.616Z"
   },
   {
    "duration": 42,
    "start_time": "2021-09-17T11:22:13.680Z"
   },
   {
    "duration": 28,
    "start_time": "2021-09-17T11:22:16.540Z"
   },
   {
    "duration": 29,
    "start_time": "2021-09-17T11:26:06.553Z"
   },
   {
    "duration": 403,
    "start_time": "2021-09-17T11:26:17.654Z"
   },
   {
    "duration": 25,
    "start_time": "2021-09-17T11:26:18.059Z"
   },
   {
    "duration": 23,
    "start_time": "2021-09-17T11:26:18.086Z"
   },
   {
    "duration": 19,
    "start_time": "2021-09-17T11:26:18.110Z"
   },
   {
    "duration": 11,
    "start_time": "2021-09-17T11:26:18.131Z"
   },
   {
    "duration": 41,
    "start_time": "2021-09-17T11:26:18.144Z"
   },
   {
    "duration": 73,
    "start_time": "2021-09-17T11:26:18.187Z"
   },
   {
    "duration": 20,
    "start_time": "2021-09-17T11:26:18.262Z"
   },
   {
    "duration": 10,
    "start_time": "2021-09-17T11:26:18.285Z"
   },
   {
    "duration": 113,
    "start_time": "2021-09-17T11:26:18.297Z"
   },
   {
    "duration": 21,
    "start_time": "2021-09-17T11:26:18.412Z"
   },
   {
    "duration": 49,
    "start_time": "2021-09-17T11:26:18.435Z"
   },
   {
    "duration": 65,
    "start_time": "2021-09-17T11:26:18.486Z"
   },
   {
    "duration": 54,
    "start_time": "2021-09-17T11:26:18.553Z"
   },
   {
    "duration": 41,
    "start_time": "2021-09-17T11:26:18.609Z"
   },
   {
    "duration": 56,
    "start_time": "2021-09-17T11:26:18.652Z"
   },
   {
    "duration": 30,
    "start_time": "2021-09-17T11:26:18.709Z"
   },
   {
    "duration": 135,
    "start_time": "2021-09-17T11:26:18.741Z"
   },
   {
    "duration": 120,
    "start_time": "2021-09-17T11:41:19.649Z"
   },
   {
    "duration": 391,
    "start_time": "2021-09-17T11:41:51.408Z"
   },
   {
    "duration": 26,
    "start_time": "2021-09-17T11:41:51.801Z"
   },
   {
    "duration": 22,
    "start_time": "2021-09-17T11:41:51.830Z"
   },
   {
    "duration": 23,
    "start_time": "2021-09-17T11:41:51.855Z"
   },
   {
    "duration": 11,
    "start_time": "2021-09-17T11:41:51.880Z"
   },
   {
    "duration": 13,
    "start_time": "2021-09-17T11:41:51.893Z"
   },
   {
    "duration": 94,
    "start_time": "2021-09-17T11:41:51.908Z"
   },
   {
    "duration": 8,
    "start_time": "2021-09-17T11:41:52.004Z"
   },
   {
    "duration": 18,
    "start_time": "2021-09-17T11:41:52.014Z"
   },
   {
    "duration": 112,
    "start_time": "2021-09-17T11:41:52.035Z"
   },
   {
    "duration": 48,
    "start_time": "2021-09-17T11:41:52.149Z"
   },
   {
    "duration": 28,
    "start_time": "2021-09-17T11:41:52.198Z"
   },
   {
    "duration": 83,
    "start_time": "2021-09-17T11:41:52.228Z"
   },
   {
    "duration": 45,
    "start_time": "2021-09-17T11:41:52.313Z"
   },
   {
    "duration": 54,
    "start_time": "2021-09-17T11:41:52.359Z"
   },
   {
    "duration": 39,
    "start_time": "2021-09-17T11:41:52.415Z"
   },
   {
    "duration": 47,
    "start_time": "2021-09-17T11:41:52.456Z"
   },
   {
    "duration": 5959,
    "start_time": "2021-09-17T11:41:54.800Z"
   },
   {
    "duration": 400,
    "start_time": "2021-09-17T11:45:57.044Z"
   },
   {
    "duration": 26,
    "start_time": "2021-09-17T11:45:57.446Z"
   },
   {
    "duration": 24,
    "start_time": "2021-09-17T11:45:57.474Z"
   },
   {
    "duration": 19,
    "start_time": "2021-09-17T11:45:57.501Z"
   },
   {
    "duration": 11,
    "start_time": "2021-09-17T11:45:57.522Z"
   },
   {
    "duration": 15,
    "start_time": "2021-09-17T11:45:57.535Z"
   },
   {
    "duration": 73,
    "start_time": "2021-09-17T11:45:57.576Z"
   },
   {
    "duration": 9,
    "start_time": "2021-09-17T11:45:57.650Z"
   },
   {
    "duration": 6,
    "start_time": "2021-09-17T11:45:57.677Z"
   },
   {
    "duration": 112,
    "start_time": "2021-09-17T11:45:57.685Z"
   },
   {
    "duration": 20,
    "start_time": "2021-09-17T11:45:57.799Z"
   },
   {
    "duration": 24,
    "start_time": "2021-09-17T11:45:57.821Z"
   },
   {
    "duration": 88,
    "start_time": "2021-09-17T11:45:57.847Z"
   },
   {
    "duration": 56,
    "start_time": "2021-09-17T11:45:57.936Z"
   },
   {
    "duration": 45,
    "start_time": "2021-09-17T11:45:57.994Z"
   },
   {
    "duration": 62,
    "start_time": "2021-09-17T11:45:58.041Z"
   },
   {
    "duration": 30,
    "start_time": "2021-09-17T11:45:58.105Z"
   },
   {
    "duration": 4721,
    "start_time": "2021-09-17T11:46:00.932Z"
   },
   {
    "duration": 409,
    "start_time": "2021-09-17T11:46:57.163Z"
   },
   {
    "duration": 26,
    "start_time": "2021-09-17T11:46:57.574Z"
   },
   {
    "duration": 22,
    "start_time": "2021-09-17T11:46:57.602Z"
   },
   {
    "duration": 19,
    "start_time": "2021-09-17T11:46:57.627Z"
   },
   {
    "duration": 36,
    "start_time": "2021-09-17T11:46:57.648Z"
   },
   {
    "duration": 22,
    "start_time": "2021-09-17T11:46:57.686Z"
   },
   {
    "duration": 83,
    "start_time": "2021-09-17T11:46:57.710Z"
   },
   {
    "duration": 7,
    "start_time": "2021-09-17T11:46:57.795Z"
   },
   {
    "duration": 8,
    "start_time": "2021-09-17T11:46:57.805Z"
   },
   {
    "duration": 104,
    "start_time": "2021-09-17T11:46:57.815Z"
   },
   {
    "duration": 21,
    "start_time": "2021-09-17T11:46:57.921Z"
   },
   {
    "duration": 53,
    "start_time": "2021-09-17T11:46:57.944Z"
   },
   {
    "duration": 84,
    "start_time": "2021-09-17T11:46:57.999Z"
   },
   {
    "duration": 43,
    "start_time": "2021-09-17T11:46:58.085Z"
   },
   {
    "duration": 60,
    "start_time": "2021-09-17T11:46:58.129Z"
   },
   {
    "duration": 40,
    "start_time": "2021-09-17T11:46:58.190Z"
   },
   {
    "duration": 47,
    "start_time": "2021-09-17T11:46:58.231Z"
   },
   {
    "duration": 6276,
    "start_time": "2021-09-17T11:47:08.979Z"
   },
   {
    "duration": 402,
    "start_time": "2021-09-17T11:49:35.089Z"
   },
   {
    "duration": 28,
    "start_time": "2021-09-17T11:49:35.493Z"
   },
   {
    "duration": 24,
    "start_time": "2021-09-17T11:49:35.523Z"
   },
   {
    "duration": 33,
    "start_time": "2021-09-17T11:49:35.549Z"
   },
   {
    "duration": 12,
    "start_time": "2021-09-17T11:49:35.584Z"
   },
   {
    "duration": 24,
    "start_time": "2021-09-17T11:49:35.597Z"
   },
   {
    "duration": 94,
    "start_time": "2021-09-17T11:49:35.622Z"
   },
   {
    "duration": 7,
    "start_time": "2021-09-17T11:49:35.717Z"
   },
   {
    "duration": 28,
    "start_time": "2021-09-17T11:49:35.727Z"
   },
   {
    "duration": 99,
    "start_time": "2021-09-17T11:49:35.757Z"
   },
   {
    "duration": 38,
    "start_time": "2021-09-17T11:49:35.858Z"
   },
   {
    "duration": 26,
    "start_time": "2021-09-17T11:49:35.897Z"
   },
   {
    "duration": 100,
    "start_time": "2021-09-17T11:49:35.925Z"
   },
   {
    "duration": 54,
    "start_time": "2021-09-17T11:49:36.027Z"
   },
   {
    "duration": 42,
    "start_time": "2021-09-17T11:49:36.083Z"
   },
   {
    "duration": 58,
    "start_time": "2021-09-17T11:49:36.127Z"
   },
   {
    "duration": 30,
    "start_time": "2021-09-17T11:49:36.187Z"
   },
   {
    "duration": 247,
    "start_time": "2021-09-17T11:49:38.776Z"
   },
   {
    "duration": 237,
    "start_time": "2021-09-17T11:50:02.952Z"
   },
   {
    "duration": 240,
    "start_time": "2021-09-17T11:51:10.975Z"
   },
   {
    "duration": 408,
    "start_time": "2021-09-17T11:53:10.421Z"
   },
   {
    "duration": 28,
    "start_time": "2021-09-17T11:53:10.832Z"
   },
   {
    "duration": 23,
    "start_time": "2021-09-17T11:53:10.863Z"
   },
   {
    "duration": 24,
    "start_time": "2021-09-17T11:53:10.888Z"
   },
   {
    "duration": 13,
    "start_time": "2021-09-17T11:53:10.914Z"
   },
   {
    "duration": 23,
    "start_time": "2021-09-17T11:53:10.929Z"
   },
   {
    "duration": 73,
    "start_time": "2021-09-17T11:53:10.977Z"
   },
   {
    "duration": 7,
    "start_time": "2021-09-17T11:53:11.053Z"
   },
   {
    "duration": 5,
    "start_time": "2021-09-17T11:53:11.077Z"
   },
   {
    "duration": 110,
    "start_time": "2021-09-17T11:53:11.084Z"
   },
   {
    "duration": 22,
    "start_time": "2021-09-17T11:53:11.196Z"
   },
   {
    "duration": 24,
    "start_time": "2021-09-17T11:53:11.219Z"
   },
   {
    "duration": 95,
    "start_time": "2021-09-17T11:53:11.245Z"
   },
   {
    "duration": 59,
    "start_time": "2021-09-17T11:53:11.341Z"
   },
   {
    "duration": 43,
    "start_time": "2021-09-17T11:53:11.402Z"
   },
   {
    "duration": 61,
    "start_time": "2021-09-17T11:53:11.448Z"
   },
   {
    "duration": 30,
    "start_time": "2021-09-17T11:53:31.765Z"
   },
   {
    "duration": 247,
    "start_time": "2021-09-17T11:53:39.132Z"
   },
   {
    "duration": 246,
    "start_time": "2021-09-17T11:53:48.700Z"
   },
   {
    "duration": 242,
    "start_time": "2021-09-17T12:15:13.184Z"
   },
   {
    "duration": 11755,
    "start_time": "2021-09-17T13:01:58.954Z"
   },
   {
    "duration": 351,
    "start_time": "2021-09-17T13:02:26.540Z"
   },
   {
    "duration": 25,
    "start_time": "2021-09-17T13:02:56.514Z"
   },
   {
    "duration": 6,
    "start_time": "2021-09-17T13:03:30.113Z"
   },
   {
    "duration": 24,
    "start_time": "2021-09-17T13:03:39.041Z"
   },
   {
    "duration": 359,
    "start_time": "2021-09-17T13:06:50.095Z"
   },
   {
    "duration": 20,
    "start_time": "2021-09-17T13:06:57.957Z"
   },
   {
    "duration": 26,
    "start_time": "2021-09-17T13:08:11.764Z"
   },
   {
    "duration": 20,
    "start_time": "2021-09-17T13:08:18.405Z"
   },
   {
    "duration": 25,
    "start_time": "2021-09-17T13:08:45.372Z"
   },
   {
    "duration": 20,
    "start_time": "2021-09-17T13:09:44.044Z"
   },
   {
    "duration": 386,
    "start_time": "2021-09-17T13:09:49.379Z"
   },
   {
    "duration": 25,
    "start_time": "2021-09-17T13:09:49.767Z"
   },
   {
    "duration": 29,
    "start_time": "2021-09-17T13:09:49.794Z"
   },
   {
    "duration": 18,
    "start_time": "2021-09-17T13:09:49.825Z"
   },
   {
    "duration": 32,
    "start_time": "2021-09-17T13:09:49.845Z"
   },
   {
    "duration": 13,
    "start_time": "2021-09-17T13:09:49.879Z"
   },
   {
    "duration": 86,
    "start_time": "2021-09-17T13:09:49.893Z"
   },
   {
    "duration": 8,
    "start_time": "2021-09-17T13:09:49.980Z"
   },
   {
    "duration": 26,
    "start_time": "2021-09-17T13:09:49.991Z"
   },
   {
    "duration": 106,
    "start_time": "2021-09-17T13:09:50.019Z"
   },
   {
    "duration": 21,
    "start_time": "2021-09-17T13:09:50.127Z"
   },
   {
    "duration": 47,
    "start_time": "2021-09-17T13:09:50.150Z"
   },
   {
    "duration": 80,
    "start_time": "2021-09-17T13:09:50.198Z"
   },
   {
    "duration": 43,
    "start_time": "2021-09-17T13:09:50.279Z"
   },
   {
    "duration": 63,
    "start_time": "2021-09-17T13:09:50.324Z"
   },
   {
    "duration": 40,
    "start_time": "2021-09-17T13:09:50.388Z"
   },
   {
    "duration": 28,
    "start_time": "2021-09-17T13:09:50.429Z"
   },
   {
    "duration": 252,
    "start_time": "2021-09-17T13:09:50.476Z"
   },
   {
    "duration": 19,
    "start_time": "2021-09-17T13:09:50.730Z"
   },
   {
    "duration": 25,
    "start_time": "2021-09-17T13:11:20.745Z"
   },
   {
    "duration": 14,
    "start_time": "2021-09-17T13:12:41.465Z"
   },
   {
    "duration": 17,
    "start_time": "2021-09-17T13:15:46.301Z"
   },
   {
    "duration": 25,
    "start_time": "2021-09-17T13:16:18.548Z"
   },
   {
    "duration": 19,
    "start_time": "2021-09-17T13:22:23.773Z"
   },
   {
    "duration": 663,
    "start_time": "2021-09-17T13:24:32.267Z"
   },
   {
    "duration": 9734,
    "start_time": "2021-09-17T13:27:23.528Z"
   },
   {
    "duration": 674,
    "start_time": "2021-09-17T13:29:35.768Z"
   },
   {
    "duration": 713,
    "start_time": "2021-09-17T13:30:13.487Z"
   },
   {
    "duration": 340,
    "start_time": "2021-09-17T13:30:24.630Z"
   },
   {
    "duration": 350,
    "start_time": "2021-09-17T13:31:00.731Z"
   },
   {
    "duration": 703,
    "start_time": "2021-09-17T13:32:15.900Z"
   },
   {
    "duration": 364,
    "start_time": "2021-09-17T13:32:22.924Z"
   },
   {
    "duration": 344,
    "start_time": "2021-09-17T13:32:45.004Z"
   },
   {
    "duration": 425,
    "start_time": "2021-09-17T13:32:51.044Z"
   },
   {
    "duration": 411,
    "start_time": "2021-09-17T13:33:50.843Z"
   },
   {
    "duration": 346,
    "start_time": "2021-09-17T13:34:01.410Z"
   },
   {
    "duration": 630,
    "start_time": "2021-09-17T13:37:21.680Z"
   },
   {
    "duration": 381,
    "start_time": "2021-09-17T13:39:30.629Z"
   },
   {
    "duration": 9334,
    "start_time": "2021-09-17T13:41:03.044Z"
   },
   {
    "duration": 368,
    "start_time": "2021-09-17T13:41:21.012Z"
   },
   {
    "duration": 625,
    "start_time": "2021-09-17T13:42:38.914Z"
   },
   {
    "duration": 366,
    "start_time": "2021-09-17T13:42:46.106Z"
   },
   {
    "duration": 9535,
    "start_time": "2021-09-17T13:43:19.274Z"
   },
   {
    "duration": 480,
    "start_time": "2021-09-17T13:43:42.065Z"
   },
   {
    "duration": 370,
    "start_time": "2021-09-17T13:51:27.685Z"
   },
   {
    "duration": 389,
    "start_time": "2021-09-17T13:51:39.820Z"
   },
   {
    "duration": 367,
    "start_time": "2021-09-17T13:51:46.740Z"
   },
   {
    "duration": 345,
    "start_time": "2021-09-17T13:52:44.236Z"
   },
   {
    "duration": 9916,
    "start_time": "2021-09-17T13:52:50.211Z"
   },
   {
    "duration": 391,
    "start_time": "2021-09-17T13:53:12.211Z"
   },
   {
    "duration": 375,
    "start_time": "2021-09-17T13:55:32.984Z"
   },
   {
    "duration": 397,
    "start_time": "2021-09-17T13:55:52.416Z"
   },
   {
    "duration": 590,
    "start_time": "2021-09-17T13:59:15.115Z"
   },
   {
    "duration": 388,
    "start_time": "2021-09-17T13:59:24.812Z"
   },
   {
    "duration": 417,
    "start_time": "2021-09-17T13:59:57.859Z"
   },
   {
    "duration": 363,
    "start_time": "2021-09-17T14:00:15.187Z"
   },
   {
    "duration": 404,
    "start_time": "2021-09-17T14:00:41.530Z"
   },
   {
    "duration": 115,
    "start_time": "2021-09-17T14:02:25.888Z"
   },
   {
    "duration": 195,
    "start_time": "2021-09-17T14:02:32.847Z"
   },
   {
    "duration": 200,
    "start_time": "2021-09-17T14:04:25.910Z"
   },
   {
    "duration": 316,
    "start_time": "2021-09-17T14:04:41.773Z"
   },
   {
    "duration": 322,
    "start_time": "2021-09-17T14:04:53.549Z"
   },
   {
    "duration": 312,
    "start_time": "2021-09-17T14:05:17.885Z"
   },
   {
    "duration": 10194,
    "start_time": "2021-09-17T14:05:26.782Z"
   },
   {
    "duration": 323,
    "start_time": "2021-09-17T14:05:55.140Z"
   },
   {
    "duration": 241,
    "start_time": "2021-09-17T14:06:04.100Z"
   },
   {
    "duration": 251,
    "start_time": "2021-09-17T14:06:12.756Z"
   },
   {
    "duration": 319,
    "start_time": "2021-09-17T14:06:53.762Z"
   },
   {
    "duration": 9332,
    "start_time": "2021-09-17T14:11:45.614Z"
   },
   {
    "duration": 308,
    "start_time": "2021-09-17T14:11:57.534Z"
   },
   {
    "duration": 495,
    "start_time": "2021-09-17T14:13:36.117Z"
   },
   {
    "duration": 328,
    "start_time": "2021-09-17T14:13:57.251Z"
   },
   {
    "duration": 358,
    "start_time": "2021-09-17T14:14:20.923Z"
   },
   {
    "duration": 351,
    "start_time": "2021-09-17T14:14:28.898Z"
   },
   {
    "duration": 364,
    "start_time": "2021-09-17T14:15:06.858Z"
   },
   {
    "duration": 546,
    "start_time": "2021-09-17T14:15:17.674Z"
   },
   {
    "duration": 442,
    "start_time": "2021-09-17T14:16:54.409Z"
   },
   {
    "duration": 470,
    "start_time": "2021-09-17T14:17:05.120Z"
   },
   {
    "duration": 436,
    "start_time": "2021-09-17T14:19:12.110Z"
   },
   {
    "duration": 320,
    "start_time": "2021-09-17T14:19:20.054Z"
   },
   {
    "duration": 291,
    "start_time": "2021-09-17T14:24:06.217Z"
   },
   {
    "duration": 467,
    "start_time": "2021-09-17T14:24:47.744Z"
   },
   {
    "duration": 300,
    "start_time": "2021-09-17T14:24:58.545Z"
   },
   {
    "duration": 884,
    "start_time": "2021-09-17T14:29:05.878Z"
   },
   {
    "duration": 517,
    "start_time": "2021-09-17T14:29:22.476Z"
   },
   {
    "duration": 9188,
    "start_time": "2021-09-17T14:29:53.182Z"
   },
   {
    "duration": 509,
    "start_time": "2021-09-17T14:32:39.041Z"
   },
   {
    "duration": 381,
    "start_time": "2021-09-17T14:33:45.535Z"
   },
   {
    "duration": 596,
    "start_time": "2021-09-17T14:34:17.016Z"
   },
   {
    "duration": 351,
    "start_time": "2021-09-17T14:34:24.000Z"
   },
   {
    "duration": 207,
    "start_time": "2021-09-17T14:35:04.751Z"
   },
   {
    "duration": 309,
    "start_time": "2021-09-17T14:35:10.049Z"
   },
   {
    "duration": 277,
    "start_time": "2021-09-17T14:35:55.470Z"
   },
   {
    "duration": 9511,
    "start_time": "2021-09-17T14:36:18.413Z"
   },
   {
    "duration": 280,
    "start_time": "2021-09-17T14:37:44.532Z"
   },
   {
    "duration": 279,
    "start_time": "2021-09-17T14:43:01.166Z"
   },
   {
    "duration": 367,
    "start_time": "2021-09-17T14:43:32.230Z"
   },
   {
    "duration": 2603,
    "start_time": "2021-09-18T10:47:53.026Z"
   },
   {
    "duration": 40,
    "start_time": "2021-09-18T10:47:55.633Z"
   },
   {
    "duration": 46,
    "start_time": "2021-09-18T10:47:55.677Z"
   },
   {
    "duration": 26,
    "start_time": "2021-09-18T10:47:55.726Z"
   },
   {
    "duration": 16,
    "start_time": "2021-09-18T10:47:55.754Z"
   },
   {
    "duration": 53,
    "start_time": "2021-09-18T10:47:55.772Z"
   },
   {
    "duration": 116,
    "start_time": "2021-09-18T10:47:55.827Z"
   },
   {
    "duration": 10,
    "start_time": "2021-09-18T10:47:55.945Z"
   },
   {
    "duration": 11,
    "start_time": "2021-09-18T10:47:55.959Z"
   },
   {
    "duration": 163,
    "start_time": "2021-09-18T10:47:55.973Z"
   },
   {
    "duration": 34,
    "start_time": "2021-09-18T10:47:56.139Z"
   },
   {
    "duration": 66,
    "start_time": "2021-09-18T10:47:56.176Z"
   },
   {
    "duration": 125,
    "start_time": "2021-09-18T10:47:56.245Z"
   },
   {
    "duration": 74,
    "start_time": "2021-09-18T10:47:56.373Z"
   },
   {
    "duration": 76,
    "start_time": "2021-09-18T10:47:56.449Z"
   },
   {
    "duration": 61,
    "start_time": "2021-09-18T10:47:56.527Z"
   },
   {
    "duration": 71,
    "start_time": "2021-09-18T10:47:56.590Z"
   },
   {
    "duration": 408,
    "start_time": "2021-09-18T10:47:56.664Z"
   },
   {
    "duration": 436,
    "start_time": "2021-09-18T10:48:11.051Z"
   },
   {
    "duration": 575,
    "start_time": "2021-09-18T10:51:42.535Z"
   },
   {
    "duration": 423,
    "start_time": "2021-09-18T10:52:31.965Z"
   },
   {
    "duration": 157,
    "start_time": "2021-09-18T10:54:18.652Z"
   },
   {
    "duration": 830,
    "start_time": "2021-09-18T10:54:33.343Z"
   },
   {
    "duration": 528,
    "start_time": "2021-09-18T10:55:13.730Z"
   },
   {
    "duration": 1074,
    "start_time": "2021-09-18T10:58:07.232Z"
   },
   {
    "duration": 996,
    "start_time": "2021-09-18T10:58:48.023Z"
   },
   {
    "duration": 546,
    "start_time": "2021-09-18T10:59:49.294Z"
   },
   {
    "duration": 524,
    "start_time": "2021-09-18T10:59:55.367Z"
   },
   {
    "duration": 571,
    "start_time": "2021-09-18T11:14:47.479Z"
   },
   {
    "duration": 763,
    "start_time": "2021-09-18T11:16:37.734Z"
   },
   {
    "duration": 819,
    "start_time": "2021-09-18T11:16:53.797Z"
   },
   {
    "duration": 838,
    "start_time": "2021-09-18T11:17:36.204Z"
   },
   {
    "duration": 921,
    "start_time": "2021-09-18T11:17:47.940Z"
   },
   {
    "duration": 1239,
    "start_time": "2021-09-18T11:30:17.087Z"
   },
   {
    "duration": 1321,
    "start_time": "2021-09-18T11:32:47.527Z"
   },
   {
    "duration": 1313,
    "start_time": "2021-09-18T11:34:10.029Z"
   },
   {
    "duration": 818,
    "start_time": "2021-09-18T11:37:12.002Z"
   },
   {
    "duration": 642,
    "start_time": "2021-09-18T11:37:41.146Z"
   },
   {
    "duration": 38,
    "start_time": "2021-09-18T11:37:41.792Z"
   },
   {
    "duration": 35,
    "start_time": "2021-09-18T11:37:41.834Z"
   },
   {
    "duration": 57,
    "start_time": "2021-09-18T11:37:41.872Z"
   },
   {
    "duration": 20,
    "start_time": "2021-09-18T11:37:41.932Z"
   },
   {
    "duration": 23,
    "start_time": "2021-09-18T11:37:41.955Z"
   },
   {
    "duration": 112,
    "start_time": "2021-09-18T11:37:42.017Z"
   },
   {
    "duration": 11,
    "start_time": "2021-09-18T11:37:42.131Z"
   },
   {
    "duration": 11,
    "start_time": "2021-09-18T11:37:42.146Z"
   },
   {
    "duration": 179,
    "start_time": "2021-09-18T11:37:42.160Z"
   },
   {
    "duration": 32,
    "start_time": "2021-09-18T11:37:42.342Z"
   },
   {
    "duration": 69,
    "start_time": "2021-09-18T11:37:42.376Z"
   },
   {
    "duration": 125,
    "start_time": "2021-09-18T11:37:42.448Z"
   },
   {
    "duration": 74,
    "start_time": "2021-09-18T11:37:42.576Z"
   },
   {
    "duration": 78,
    "start_time": "2021-09-18T11:37:42.652Z"
   },
   {
    "duration": 67,
    "start_time": "2021-09-18T11:37:42.732Z"
   },
   {
    "duration": 70,
    "start_time": "2021-09-18T11:37:42.817Z"
   },
   {
    "duration": 703,
    "start_time": "2021-09-18T11:37:42.890Z"
   },
   {
    "duration": 1469,
    "start_time": "2021-09-18T11:37:43.596Z"
   },
   {
    "duration": 1436,
    "start_time": "2021-09-18T11:38:12.937Z"
   },
   {
    "duration": 850,
    "start_time": "2021-09-18T11:58:15.013Z"
   },
   {
    "duration": 837,
    "start_time": "2021-09-18T11:58:27.820Z"
   },
   {
    "duration": 827,
    "start_time": "2021-09-18T12:02:42.960Z"
   },
   {
    "duration": 904,
    "start_time": "2021-09-18T12:17:43.050Z"
   },
   {
    "duration": 916,
    "start_time": "2021-09-18T12:20:50.702Z"
   },
   {
    "duration": 528,
    "start_time": "2021-09-18T12:21:18.023Z"
   },
   {
    "duration": 36,
    "start_time": "2021-09-18T12:21:18.554Z"
   },
   {
    "duration": 31,
    "start_time": "2021-09-18T12:21:18.593Z"
   },
   {
    "duration": 27,
    "start_time": "2021-09-18T12:21:18.627Z"
   },
   {
    "duration": 17,
    "start_time": "2021-09-18T12:21:18.656Z"
   },
   {
    "duration": 56,
    "start_time": "2021-09-18T12:21:18.676Z"
   },
   {
    "duration": 133,
    "start_time": "2021-09-18T12:21:18.736Z"
   },
   {
    "duration": 13,
    "start_time": "2021-09-18T12:21:18.871Z"
   },
   {
    "duration": 29,
    "start_time": "2021-09-18T12:21:18.889Z"
   },
   {
    "duration": 159,
    "start_time": "2021-09-18T12:21:18.922Z"
   },
   {
    "duration": 53,
    "start_time": "2021-09-18T12:21:19.083Z"
   },
   {
    "duration": 38,
    "start_time": "2021-09-18T12:21:19.138Z"
   },
   {
    "duration": 122,
    "start_time": "2021-09-18T12:21:19.179Z"
   },
   {
    "duration": 65,
    "start_time": "2021-09-18T12:21:19.303Z"
   },
   {
    "duration": 77,
    "start_time": "2021-09-18T12:21:19.371Z"
   },
   {
    "duration": 74,
    "start_time": "2021-09-18T12:21:19.450Z"
   },
   {
    "duration": 65,
    "start_time": "2021-09-18T12:21:19.526Z"
   },
   {
    "duration": 463,
    "start_time": "2021-09-18T12:21:19.594Z"
   },
   {
    "duration": 827,
    "start_time": "2021-09-18T12:21:21.897Z"
   },
   {
    "duration": 798,
    "start_time": "2021-09-18T12:21:26.629Z"
   },
   {
    "duration": 797,
    "start_time": "2021-09-18T12:21:49.877Z"
   },
   {
    "duration": 831,
    "start_time": "2021-09-18T12:24:27.234Z"
   },
   {
    "duration": 552,
    "start_time": "2021-09-18T15:50:55.767Z"
   },
   {
    "duration": 34,
    "start_time": "2021-09-18T15:50:56.322Z"
   },
   {
    "duration": 57,
    "start_time": "2021-09-18T15:50:56.359Z"
   },
   {
    "duration": 26,
    "start_time": "2021-09-18T15:50:56.419Z"
   },
   {
    "duration": 142,
    "start_time": "2021-09-18T15:50:56.448Z"
   },
   {
    "duration": 31,
    "start_time": "2021-09-18T15:50:56.593Z"
   },
   {
    "duration": 122,
    "start_time": "2021-09-18T15:50:56.626Z"
   },
   {
    "duration": 11,
    "start_time": "2021-09-18T15:50:56.750Z"
   },
   {
    "duration": 15,
    "start_time": "2021-09-18T15:50:56.765Z"
   },
   {
    "duration": 157,
    "start_time": "2021-09-18T15:50:56.783Z"
   },
   {
    "duration": 29,
    "start_time": "2021-09-18T15:50:56.943Z"
   },
   {
    "duration": 65,
    "start_time": "2021-09-18T15:50:56.974Z"
   },
   {
    "duration": 109,
    "start_time": "2021-09-18T15:50:57.042Z"
   },
   {
    "duration": 73,
    "start_time": "2021-09-18T15:50:57.153Z"
   },
   {
    "duration": 61,
    "start_time": "2021-09-18T15:50:57.228Z"
   },
   {
    "duration": 83,
    "start_time": "2021-09-18T15:50:57.292Z"
   },
   {
    "duration": 61,
    "start_time": "2021-09-18T15:50:57.378Z"
   },
   {
    "duration": 433,
    "start_time": "2021-09-18T15:50:57.442Z"
   },
   {
    "duration": 862,
    "start_time": "2021-09-18T15:50:59.949Z"
   },
   {
    "duration": 856,
    "start_time": "2021-09-18T15:51:11.525Z"
   },
   {
    "duration": 874,
    "start_time": "2021-09-18T15:51:59.348Z"
   },
   {
    "duration": 829,
    "start_time": "2021-09-18T15:52:27.987Z"
   },
   {
    "duration": 810,
    "start_time": "2021-09-18T15:53:46.138Z"
   },
   {
    "duration": 952,
    "start_time": "2021-09-18T15:55:09.665Z"
   },
   {
    "duration": 830,
    "start_time": "2021-09-18T15:57:35.015Z"
   },
   {
    "duration": 598,
    "start_time": "2021-09-18T16:01:59.363Z"
   },
   {
    "duration": 557,
    "start_time": "2021-09-18T16:02:34.849Z"
   },
   {
    "duration": 650,
    "start_time": "2021-09-18T16:02:39.290Z"
   },
   {
    "duration": 566,
    "start_time": "2021-09-18T16:02:46.169Z"
   },
   {
    "duration": 625,
    "start_time": "2021-09-18T16:02:53.601Z"
   },
   {
    "duration": 825,
    "start_time": "2021-09-18T16:03:00.515Z"
   },
   {
    "duration": 805,
    "start_time": "2021-09-18T16:03:08.449Z"
   },
   {
    "duration": 900,
    "start_time": "2021-09-18T16:24:56.525Z"
   },
   {
    "duration": 1183,
    "start_time": "2021-09-18T16:25:04.499Z"
   },
   {
    "duration": 6625,
    "start_time": "2021-09-18T16:25:19.115Z"
   },
   {
    "duration": 960,
    "start_time": "2021-09-18T16:25:28.259Z"
   },
   {
    "duration": 775,
    "start_time": "2021-09-18T16:25:35.643Z"
   },
   {
    "duration": 888,
    "start_time": "2021-09-18T16:40:50.836Z"
   },
   {
    "duration": 571,
    "start_time": "2021-09-18T16:41:00.203Z"
   },
   {
    "duration": 624,
    "start_time": "2021-09-18T16:47:06.765Z"
   },
   {
    "duration": 571,
    "start_time": "2021-09-18T16:47:35.301Z"
   },
   {
    "duration": 534,
    "start_time": "2021-09-18T16:52:13.777Z"
   },
   {
    "duration": 510,
    "start_time": "2021-09-18T16:52:26.568Z"
   },
   {
    "duration": 680,
    "start_time": "2021-09-18T16:52:35.288Z"
   },
   {
    "duration": 564,
    "start_time": "2021-09-18T16:52:43.896Z"
   },
   {
    "duration": 505,
    "start_time": "2021-09-18T16:55:09.590Z"
   },
   {
    "duration": 683,
    "start_time": "2021-09-18T16:56:06.836Z"
   },
   {
    "duration": 7263,
    "start_time": "2021-09-18T18:47:44.214Z"
   },
   {
    "duration": 45,
    "start_time": "2021-09-18T18:47:52.405Z"
   },
   {
    "duration": 8,
    "start_time": "2021-09-18T18:48:17.014Z"
   },
   {
    "duration": 11,
    "start_time": "2021-09-18T18:49:03.148Z"
   },
   {
    "duration": 12,
    "start_time": "2021-09-18T18:49:25.219Z"
   },
   {
    "duration": 10,
    "start_time": "2021-09-18T19:00:48.137Z"
   },
   {
    "duration": 13,
    "start_time": "2021-09-18T19:02:48.750Z"
   },
   {
    "duration": 12,
    "start_time": "2021-09-18T19:19:43.502Z"
   },
   {
    "duration": 886,
    "start_time": "2021-09-18T19:44:01.958Z"
   },
   {
    "duration": 889,
    "start_time": "2021-09-18T19:44:37.181Z"
   },
   {
    "duration": 927,
    "start_time": "2021-09-18T19:45:34.109Z"
   },
   {
    "duration": 1026,
    "start_time": "2021-09-18T19:46:07.908Z"
   },
   {
    "duration": 172,
    "start_time": "2021-09-18T20:46:00.384Z"
   },
   {
    "duration": 128,
    "start_time": "2021-09-18T20:46:07.561Z"
   },
   {
    "duration": 575,
    "start_time": "2021-09-18T20:49:39.926Z"
   },
   {
    "duration": 34,
    "start_time": "2021-09-18T20:49:40.504Z"
   },
   {
    "duration": 32,
    "start_time": "2021-09-18T20:49:40.541Z"
   },
   {
    "duration": 55,
    "start_time": "2021-09-18T20:49:40.575Z"
   },
   {
    "duration": 17,
    "start_time": "2021-09-18T20:49:40.632Z"
   },
   {
    "duration": 20,
    "start_time": "2021-09-18T20:49:40.651Z"
   },
   {
    "duration": 138,
    "start_time": "2021-09-18T20:49:40.674Z"
   },
   {
    "duration": 11,
    "start_time": "2021-09-18T20:49:40.816Z"
   },
   {
    "duration": 11,
    "start_time": "2021-09-18T20:49:40.831Z"
   },
   {
    "duration": 179,
    "start_time": "2021-09-18T20:49:40.845Z"
   },
   {
    "duration": 29,
    "start_time": "2021-09-18T20:49:41.026Z"
   },
   {
    "duration": 67,
    "start_time": "2021-09-18T20:49:41.058Z"
   },
   {
    "duration": 109,
    "start_time": "2021-09-18T20:49:41.128Z"
   },
   {
    "duration": 57,
    "start_time": "2021-09-18T20:49:41.239Z"
   },
   {
    "duration": 69,
    "start_time": "2021-09-18T20:49:41.298Z"
   },
   {
    "duration": 82,
    "start_time": "2021-09-18T20:49:41.370Z"
   },
   {
    "duration": 61,
    "start_time": "2021-09-18T20:49:41.455Z"
   },
   {
    "duration": 400,
    "start_time": "2021-09-18T20:49:41.518Z"
   },
   {
    "duration": 996,
    "start_time": "2021-09-18T20:49:41.920Z"
   },
   {
    "duration": 836,
    "start_time": "2021-09-18T20:49:42.919Z"
   },
   {
    "duration": 919,
    "start_time": "2021-09-18T20:49:43.757Z"
   },
   {
    "duration": 14,
    "start_time": "2021-09-18T20:49:44.679Z"
   },
   {
    "duration": 15,
    "start_time": "2021-09-18T20:49:44.717Z"
   },
   {
    "duration": 1362,
    "start_time": "2021-09-19T12:29:53.080Z"
   },
   {
    "duration": 28,
    "start_time": "2021-09-19T12:29:54.444Z"
   },
   {
    "duration": 21,
    "start_time": "2021-09-19T12:29:54.473Z"
   },
   {
    "duration": 17,
    "start_time": "2021-09-19T12:29:54.496Z"
   },
   {
    "duration": 9,
    "start_time": "2021-09-19T12:29:54.514Z"
   },
   {
    "duration": 11,
    "start_time": "2021-09-19T12:29:54.525Z"
   },
   {
    "duration": 98,
    "start_time": "2021-09-19T12:29:54.537Z"
   },
   {
    "duration": 8,
    "start_time": "2021-09-19T12:29:54.638Z"
   },
   {
    "duration": 10,
    "start_time": "2021-09-19T12:29:54.647Z"
   },
   {
    "duration": 91,
    "start_time": "2021-09-19T12:29:54.659Z"
   },
   {
    "duration": 48,
    "start_time": "2021-09-19T12:29:54.752Z"
   },
   {
    "duration": 23,
    "start_time": "2021-09-19T12:29:54.801Z"
   },
   {
    "duration": 97,
    "start_time": "2021-09-19T12:29:54.825Z"
   },
   {
    "duration": 43,
    "start_time": "2021-09-19T12:29:54.924Z"
   },
   {
    "duration": 55,
    "start_time": "2021-09-19T12:29:54.968Z"
   },
   {
    "duration": 35,
    "start_time": "2021-09-19T12:29:55.025Z"
   },
   {
    "duration": 43,
    "start_time": "2021-09-19T12:29:55.062Z"
   },
   {
    "duration": 229,
    "start_time": "2021-09-19T12:29:55.107Z"
   },
   {
    "duration": 566,
    "start_time": "2021-09-19T12:29:55.338Z"
   },
   {
    "duration": 517,
    "start_time": "2021-09-19T12:29:55.906Z"
   },
   {
    "duration": 547,
    "start_time": "2021-09-19T12:29:56.425Z"
   },
   {
    "duration": 8,
    "start_time": "2021-09-19T12:29:56.974Z"
   },
   {
    "duration": 19,
    "start_time": "2021-09-19T12:29:56.984Z"
   },
   {
    "duration": 1380,
    "start_time": "2021-09-19T12:30:04.196Z"
   },
   {
    "duration": 29,
    "start_time": "2021-09-19T12:30:05.578Z"
   },
   {
    "duration": 21,
    "start_time": "2021-09-19T12:30:05.609Z"
   },
   {
    "duration": 17,
    "start_time": "2021-09-19T12:30:05.632Z"
   },
   {
    "duration": 10,
    "start_time": "2021-09-19T12:30:05.651Z"
   },
   {
    "duration": 43,
    "start_time": "2021-09-19T12:30:05.662Z"
   },
   {
    "duration": 73,
    "start_time": "2021-09-19T12:30:05.707Z"
   },
   {
    "duration": 19,
    "start_time": "2021-09-19T12:30:05.783Z"
   },
   {
    "duration": 8,
    "start_time": "2021-09-19T12:30:05.804Z"
   },
   {
    "duration": 102,
    "start_time": "2021-09-19T12:30:05.814Z"
   },
   {
    "duration": 28,
    "start_time": "2021-09-19T12:30:05.918Z"
   },
   {
    "duration": 24,
    "start_time": "2021-09-19T12:30:05.947Z"
   },
   {
    "duration": 89,
    "start_time": "2021-09-19T12:30:05.999Z"
   },
   {
    "duration": 49,
    "start_time": "2021-09-19T12:30:06.090Z"
   },
   {
    "duration": 42,
    "start_time": "2021-09-19T12:30:06.141Z"
   },
   {
    "duration": 38,
    "start_time": "2021-09-19T12:30:06.200Z"
   },
   {
    "duration": 28,
    "start_time": "2021-09-19T12:30:06.240Z"
   },
   {
    "duration": 249,
    "start_time": "2021-09-19T12:30:06.270Z"
   },
   {
    "duration": 571,
    "start_time": "2021-09-19T12:30:06.521Z"
   },
   {
    "duration": 524,
    "start_time": "2021-09-19T12:30:07.094Z"
   },
   {
    "duration": 589,
    "start_time": "2021-09-19T12:30:07.619Z"
   },
   {
    "duration": 10,
    "start_time": "2021-09-19T12:30:08.210Z"
   },
   {
    "duration": 10,
    "start_time": "2021-09-19T12:30:08.224Z"
   },
   {
    "duration": 1302,
    "start_time": "2021-09-19T12:32:41.362Z"
   },
   {
    "duration": 406,
    "start_time": "2021-09-19T12:32:43.427Z"
   },
   {
    "duration": 26,
    "start_time": "2021-09-19T12:32:43.835Z"
   },
   {
    "duration": 21,
    "start_time": "2021-09-19T12:32:43.862Z"
   },
   {
    "duration": 17,
    "start_time": "2021-09-19T12:32:43.914Z"
   },
   {
    "duration": 11,
    "start_time": "2021-09-19T12:32:44.074Z"
   },
   {
    "duration": 13,
    "start_time": "2021-09-19T12:32:44.241Z"
   },
   {
    "duration": 69,
    "start_time": "2021-09-19T12:32:45.975Z"
   },
   {
    "duration": 8,
    "start_time": "2021-09-19T12:32:46.200Z"
   },
   {
    "duration": 6,
    "start_time": "2021-09-19T12:32:46.414Z"
   },
   {
    "duration": 1425,
    "start_time": "2021-09-19T12:35:06.347Z"
   },
   {
    "duration": 28,
    "start_time": "2021-09-19T12:35:07.774Z"
   },
   {
    "duration": 20,
    "start_time": "2021-09-19T12:35:07.804Z"
   },
   {
    "duration": 18,
    "start_time": "2021-09-19T12:35:07.825Z"
   },
   {
    "duration": 10,
    "start_time": "2021-09-19T12:35:07.844Z"
   },
   {
    "duration": 13,
    "start_time": "2021-09-19T12:35:08.108Z"
   },
   {
    "duration": 6,
    "start_time": "2021-09-19T12:35:22.469Z"
   },
   {
    "duration": 7,
    "start_time": "2021-09-19T12:35:31.153Z"
   },
   {
    "duration": 1370,
    "start_time": "2021-09-19T12:37:07.289Z"
   },
   {
    "duration": 27,
    "start_time": "2021-09-19T12:37:08.662Z"
   },
   {
    "duration": 21,
    "start_time": "2021-09-19T12:37:08.691Z"
   },
   {
    "duration": 17,
    "start_time": "2021-09-19T12:37:08.714Z"
   },
   {
    "duration": 10,
    "start_time": "2021-09-19T12:37:08.732Z"
   },
   {
    "duration": 11,
    "start_time": "2021-09-19T12:37:08.744Z"
   },
   {
    "duration": 108,
    "start_time": "2021-09-19T12:37:08.756Z"
   },
   {
    "duration": 8,
    "start_time": "2021-09-19T12:37:08.867Z"
   },
   {
    "duration": 8,
    "start_time": "2021-09-19T12:37:08.877Z"
   },
   {
    "duration": 84,
    "start_time": "2021-09-19T12:37:08.886Z"
   },
   {
    "duration": 52,
    "start_time": "2021-09-19T12:37:08.971Z"
   },
   {
    "duration": 21,
    "start_time": "2021-09-19T12:37:09.025Z"
   },
   {
    "duration": 91,
    "start_time": "2021-09-19T12:37:09.048Z"
   },
   {
    "duration": 43,
    "start_time": "2021-09-19T12:37:09.140Z"
   },
   {
    "duration": 56,
    "start_time": "2021-09-19T12:37:09.185Z"
   },
   {
    "duration": 38,
    "start_time": "2021-09-19T12:37:09.243Z"
   },
   {
    "duration": 43,
    "start_time": "2021-09-19T12:37:09.282Z"
   },
   {
    "duration": 232,
    "start_time": "2021-09-19T12:37:09.327Z"
   },
   {
    "duration": 565,
    "start_time": "2021-09-19T12:37:09.560Z"
   },
   {
    "duration": 503,
    "start_time": "2021-09-19T12:37:10.126Z"
   },
   {
    "duration": 555,
    "start_time": "2021-09-19T12:37:10.631Z"
   },
   {
    "duration": 16,
    "start_time": "2021-09-19T12:37:11.188Z"
   },
   {
    "duration": 29,
    "start_time": "2021-09-19T12:37:11.206Z"
   },
   {
    "duration": 334,
    "start_time": "2021-09-19T19:29:27.945Z"
   },
   {
    "duration": 1965,
    "start_time": "2021-09-19T19:33:00.978Z"
   },
   {
    "duration": 40,
    "start_time": "2021-09-19T19:33:02.946Z"
   },
   {
    "duration": 31,
    "start_time": "2021-09-19T19:33:02.988Z"
   },
   {
    "duration": 27,
    "start_time": "2021-09-19T19:33:03.021Z"
   },
   {
    "duration": 45,
    "start_time": "2021-09-19T19:33:03.050Z"
   },
   {
    "duration": 25,
    "start_time": "2021-09-19T19:33:03.097Z"
   },
   {
    "duration": 496,
    "start_time": "2021-09-19T19:33:06.587Z"
   },
   {
    "duration": 834,
    "start_time": "2021-09-19T19:33:24.179Z"
   },
   {
    "duration": 41,
    "start_time": "2021-09-19T19:35:36.449Z"
   },
   {
    "duration": 540,
    "start_time": "2021-09-19T19:40:10.914Z"
   },
   {
    "duration": 35,
    "start_time": "2021-09-19T19:40:14.444Z"
   },
   {
    "duration": 35,
    "start_time": "2021-09-19T19:40:17.307Z"
   },
   {
    "duration": 29,
    "start_time": "2021-09-19T19:40:55.235Z"
   },
   {
    "duration": 19,
    "start_time": "2021-09-19T19:40:57.347Z"
   },
   {
    "duration": 23,
    "start_time": "2021-09-19T19:41:00.579Z"
   },
   {
    "duration": 118,
    "start_time": "2021-09-19T19:41:03.818Z"
   },
   {
    "duration": 538,
    "start_time": "2021-09-19T19:42:17.899Z"
   },
   {
    "duration": 36,
    "start_time": "2021-09-19T19:42:18.441Z"
   },
   {
    "duration": 30,
    "start_time": "2021-09-19T19:42:18.480Z"
   },
   {
    "duration": 26,
    "start_time": "2021-09-19T19:42:18.513Z"
   },
   {
    "duration": 45,
    "start_time": "2021-09-19T19:42:18.541Z"
   },
   {
    "duration": 20,
    "start_time": "2021-09-19T19:42:18.589Z"
   },
   {
    "duration": 142,
    "start_time": "2021-09-19T19:42:18.611Z"
   },
   {
    "duration": 3,
    "start_time": "2021-09-19T19:42:18.756Z"
   },
   {
    "duration": 543,
    "start_time": "2021-09-19T19:42:25.652Z"
   },
   {
    "duration": 38,
    "start_time": "2021-09-19T19:42:26.198Z"
   },
   {
    "duration": 53,
    "start_time": "2021-09-19T19:42:26.240Z"
   },
   {
    "duration": 30,
    "start_time": "2021-09-19T19:42:26.297Z"
   },
   {
    "duration": 52,
    "start_time": "2021-09-19T19:42:26.330Z"
   },
   {
    "duration": 22,
    "start_time": "2021-09-19T19:42:26.385Z"
   },
   {
    "duration": 141,
    "start_time": "2021-09-19T19:42:26.409Z"
   },
   {
    "duration": 3,
    "start_time": "2021-09-19T19:42:26.552Z"
   },
   {
    "duration": 26,
    "start_time": "2021-09-19T19:42:26.558Z"
   },
   {
    "duration": 134,
    "start_time": "2021-09-19T19:42:31.050Z"
   },
   {
    "duration": 15,
    "start_time": "2021-09-19T19:47:38.092Z"
   },
   {
    "duration": 31,
    "start_time": "2021-09-19T19:53:58.597Z"
   },
   {
    "duration": 34,
    "start_time": "2021-09-19T19:54:31.509Z"
   },
   {
    "duration": 451,
    "start_time": "2021-09-19T19:57:02.571Z"
   },
   {
    "duration": 594,
    "start_time": "2021-09-19T19:57:26.443Z"
   },
   {
    "duration": 439,
    "start_time": "2021-09-19T19:57:36.314Z"
   },
   {
    "duration": 569,
    "start_time": "2021-09-19T19:57:41.970Z"
   },
   {
    "duration": 609,
    "start_time": "2021-09-19T19:57:53.186Z"
   },
   {
    "duration": 306,
    "start_time": "2021-09-19T20:14:21.554Z"
   },
   {
    "duration": 1143,
    "start_time": "2021-09-19T20:14:42.498Z"
   },
   {
    "duration": 538,
    "start_time": "2021-09-19T20:14:52.683Z"
   },
   {
    "duration": 35,
    "start_time": "2021-09-19T20:14:53.224Z"
   },
   {
    "duration": 29,
    "start_time": "2021-09-19T20:14:53.262Z"
   },
   {
    "duration": 25,
    "start_time": "2021-09-19T20:14:53.294Z"
   },
   {
    "duration": 17,
    "start_time": "2021-09-19T20:14:53.322Z"
   },
   {
    "duration": 58,
    "start_time": "2021-09-19T20:14:53.341Z"
   },
   {
    "duration": 139,
    "start_time": "2021-09-19T20:14:53.402Z"
   },
   {
    "duration": 3,
    "start_time": "2021-09-19T20:14:53.545Z"
   },
   {
    "duration": 30,
    "start_time": "2021-09-19T20:14:53.552Z"
   },
   {
    "duration": 6,
    "start_time": "2021-09-19T20:14:56.074Z"
   },
   {
    "duration": 957,
    "start_time": "2021-09-19T20:15:01.593Z"
   },
   {
    "duration": 6,
    "start_time": "2021-09-19T20:15:09.649Z"
   },
   {
    "duration": 1104,
    "start_time": "2021-09-19T20:15:11.881Z"
   },
   {
    "duration": 9,
    "start_time": "2021-09-19T20:15:33.121Z"
   },
   {
    "duration": 7,
    "start_time": "2021-09-19T20:15:51.944Z"
   },
   {
    "duration": 1128,
    "start_time": "2021-09-19T20:15:53.761Z"
   },
   {
    "duration": 7,
    "start_time": "2021-09-19T20:16:04.305Z"
   },
   {
    "duration": 953,
    "start_time": "2021-09-19T20:16:06.305Z"
   },
   {
    "duration": 7,
    "start_time": "2021-09-19T20:16:24.000Z"
   },
   {
    "duration": 938,
    "start_time": "2021-09-19T20:16:27.207Z"
   },
   {
    "duration": 1019,
    "start_time": "2021-09-19T20:17:19.359Z"
   },
   {
    "duration": 7,
    "start_time": "2021-09-19T20:17:24.151Z"
   },
   {
    "duration": 936,
    "start_time": "2021-09-19T20:17:26.439Z"
   },
   {
    "duration": 971,
    "start_time": "2021-09-19T20:17:45.598Z"
   },
   {
    "duration": 267,
    "start_time": "2021-09-19T20:18:09.102Z"
   },
   {
    "duration": 7,
    "start_time": "2021-09-19T20:18:12.534Z"
   },
   {
    "duration": 947,
    "start_time": "2021-09-19T20:18:14.830Z"
   },
   {
    "duration": 1032,
    "start_time": "2021-09-19T20:18:19.782Z"
   },
   {
    "duration": 6,
    "start_time": "2021-09-19T20:18:42.103Z"
   },
   {
    "duration": 945,
    "start_time": "2021-09-19T20:18:44.469Z"
   },
   {
    "duration": 934,
    "start_time": "2021-09-19T20:21:40.339Z"
   },
   {
    "duration": 29,
    "start_time": "2021-09-19T20:23:36.937Z"
   },
   {
    "duration": 22,
    "start_time": "2021-09-19T20:24:42.225Z"
   },
   {
    "duration": 320,
    "start_time": "2021-09-19T20:25:01.648Z"
   },
   {
    "duration": 279,
    "start_time": "2021-09-19T20:25:05.143Z"
   },
   {
    "duration": 284,
    "start_time": "2021-09-19T20:25:08.919Z"
   },
   {
    "duration": 14,
    "start_time": "2021-09-19T20:25:18.927Z"
   },
   {
    "duration": 16,
    "start_time": "2021-09-19T20:25:25.608Z"
   },
   {
    "duration": 23,
    "start_time": "2021-09-19T20:27:04.814Z"
   },
   {
    "duration": 7,
    "start_time": "2021-09-19T20:30:37.243Z"
   },
   {
    "duration": 993,
    "start_time": "2021-09-19T20:30:39.323Z"
   },
   {
    "duration": 1102,
    "start_time": "2021-09-19T20:30:44.714Z"
   },
   {
    "duration": 1017,
    "start_time": "2021-09-19T20:47:51.177Z"
   },
   {
    "duration": 1016,
    "start_time": "2021-09-19T20:48:31.808Z"
   },
   {
    "duration": 536,
    "start_time": "2021-09-19T21:13:20.348Z"
   },
   {
    "duration": 35,
    "start_time": "2021-09-19T21:13:20.886Z"
   },
   {
    "duration": 30,
    "start_time": "2021-09-19T21:13:20.924Z"
   },
   {
    "duration": 26,
    "start_time": "2021-09-19T21:13:20.982Z"
   },
   {
    "duration": 16,
    "start_time": "2021-09-19T21:13:21.010Z"
   },
   {
    "duration": 53,
    "start_time": "2021-09-19T21:13:21.029Z"
   },
   {
    "duration": 119,
    "start_time": "2021-09-19T21:13:21.085Z"
   },
   {
    "duration": 3,
    "start_time": "2021-09-19T21:13:21.207Z"
   },
   {
    "duration": 31,
    "start_time": "2021-09-19T21:13:21.214Z"
   },
   {
    "duration": 22,
    "start_time": "2021-09-19T21:13:21.249Z"
   },
   {
    "duration": 1133,
    "start_time": "2021-09-19T21:13:21.275Z"
   },
   {
    "duration": 1125,
    "start_time": "2021-09-19T21:13:22.410Z"
   },
   {
    "duration": 158,
    "start_time": "2021-09-19T21:13:23.538Z"
   },
   {
    "duration": 32,
    "start_time": "2021-09-19T21:13:23.698Z"
   },
   {
    "duration": 65,
    "start_time": "2021-09-19T21:13:23.732Z"
   },
   {
    "duration": 108,
    "start_time": "2021-09-19T21:13:23.800Z"
   },
   {
    "duration": 72,
    "start_time": "2021-09-19T21:13:23.910Z"
   },
   {
    "duration": 61,
    "start_time": "2021-09-19T21:13:23.984Z"
   },
   {
    "duration": 83,
    "start_time": "2021-09-19T21:13:24.047Z"
   },
   {
    "duration": 57,
    "start_time": "2021-09-19T21:13:24.133Z"
   },
   {
    "duration": 406,
    "start_time": "2021-09-19T21:13:24.192Z"
   },
   {
    "duration": 1111,
    "start_time": "2021-09-19T21:15:55.733Z"
   },
   {
    "duration": 1145,
    "start_time": "2021-09-19T21:16:00.189Z"
   },
   {
    "duration": 1331,
    "start_time": "2021-09-19T21:16:08.453Z"
   },
   {
    "duration": 1287,
    "start_time": "2021-09-19T21:16:18.157Z"
   },
   {
    "duration": 1347,
    "start_time": "2021-09-19T21:16:22.854Z"
   },
   {
    "duration": 1171,
    "start_time": "2021-09-19T21:16:38.013Z"
   },
   {
    "duration": 1156,
    "start_time": "2021-09-19T21:16:46.532Z"
   },
   {
    "duration": 1193,
    "start_time": "2021-09-19T21:16:50.381Z"
   },
   {
    "duration": 18,
    "start_time": "2021-09-19T21:24:52.293Z"
   },
   {
    "duration": 24,
    "start_time": "2021-09-19T21:25:25.565Z"
   },
   {
    "duration": 513,
    "start_time": "2021-09-19T21:27:06.934Z"
   },
   {
    "duration": 35,
    "start_time": "2021-09-19T21:27:07.450Z"
   },
   {
    "duration": 30,
    "start_time": "2021-09-19T21:27:07.488Z"
   },
   {
    "duration": 25,
    "start_time": "2021-09-19T21:27:07.521Z"
   },
   {
    "duration": 45,
    "start_time": "2021-09-19T21:27:07.549Z"
   },
   {
    "duration": 20,
    "start_time": "2021-09-19T21:27:07.597Z"
   },
   {
    "duration": 153,
    "start_time": "2021-09-19T21:27:07.620Z"
   },
   {
    "duration": 7,
    "start_time": "2021-09-19T21:27:07.775Z"
   },
   {
    "duration": 11,
    "start_time": "2021-09-19T21:27:07.786Z"
   },
   {
    "duration": 6,
    "start_time": "2021-09-19T21:27:07.800Z"
   },
   {
    "duration": 1041,
    "start_time": "2021-09-19T21:27:07.808Z"
   },
   {
    "duration": 1107,
    "start_time": "2021-09-19T21:27:08.852Z"
   },
   {
    "duration": 164,
    "start_time": "2021-09-19T21:27:09.962Z"
   },
   {
    "duration": 60,
    "start_time": "2021-09-19T21:27:10.129Z"
   },
   {
    "duration": 39,
    "start_time": "2021-09-19T21:27:10.191Z"
   },
   {
    "duration": 138,
    "start_time": "2021-09-19T21:27:10.233Z"
   },
   {
    "duration": 66,
    "start_time": "2021-09-19T21:27:10.374Z"
   },
   {
    "duration": 83,
    "start_time": "2021-09-19T21:27:10.443Z"
   },
   {
    "duration": 77,
    "start_time": "2021-09-19T21:27:10.528Z"
   },
   {
    "duration": 44,
    "start_time": "2021-09-19T21:27:10.608Z"
   },
   {
    "duration": 430,
    "start_time": "2021-09-19T21:27:10.655Z"
   },
   {
    "duration": 1368,
    "start_time": "2021-09-19T21:27:11.088Z"
   },
   {
    "duration": 1106,
    "start_time": "2021-09-19T21:27:12.459Z"
   },
   {
    "duration": 1316,
    "start_time": "2021-09-19T21:27:13.567Z"
   },
   {
    "duration": 253,
    "start_time": "2021-09-19T21:27:51.761Z"
   },
   {
    "duration": 650,
    "start_time": "2021-09-19T21:28:00.921Z"
   },
   {
    "duration": 19,
    "start_time": "2021-09-19T21:28:07.370Z"
   },
   {
    "duration": 19,
    "start_time": "2021-09-19T21:28:14.361Z"
   },
   {
    "duration": 19,
    "start_time": "2021-09-19T21:32:08.781Z"
   },
   {
    "duration": 15,
    "start_time": "2021-09-19T21:32:31.053Z"
   },
   {
    "duration": 17,
    "start_time": "2021-09-19T21:32:38.245Z"
   },
   {
    "duration": 265,
    "start_time": "2021-09-19T21:35:27.370Z"
   },
   {
    "duration": 91,
    "start_time": "2021-09-19T21:35:50.330Z"
   },
   {
    "duration": 286,
    "start_time": "2021-09-19T21:35:58.280Z"
   },
   {
    "duration": 289,
    "start_time": "2021-09-19T21:36:25.034Z"
   },
   {
    "duration": 346,
    "start_time": "2021-09-19T21:36:36.570Z"
   },
   {
    "duration": 284,
    "start_time": "2021-09-19T21:36:47.217Z"
   },
   {
    "duration": 15,
    "start_time": "2021-09-19T21:37:00.840Z"
   },
   {
    "duration": 15,
    "start_time": "2021-09-19T21:37:18.016Z"
   },
   {
    "duration": 307,
    "start_time": "2021-09-19T21:37:26.160Z"
   },
   {
    "duration": 335,
    "start_time": "2021-09-19T21:37:51.111Z"
   },
   {
    "duration": 17,
    "start_time": "2021-09-19T21:37:57.921Z"
   },
   {
    "duration": 14,
    "start_time": "2021-09-19T21:38:10.983Z"
   },
   {
    "duration": 17,
    "start_time": "2021-09-19T21:38:16.287Z"
   },
   {
    "duration": 18,
    "start_time": "2021-09-19T21:39:25.318Z"
   },
   {
    "duration": 16,
    "start_time": "2021-09-19T21:39:45.670Z"
   },
   {
    "duration": 18,
    "start_time": "2021-09-19T21:40:19.821Z"
   },
   {
    "duration": 16,
    "start_time": "2021-09-19T21:40:28.805Z"
   },
   {
    "duration": 17,
    "start_time": "2021-09-19T21:40:36.284Z"
   },
   {
    "duration": 18,
    "start_time": "2021-09-19T21:40:52.725Z"
   },
   {
    "duration": 17,
    "start_time": "2021-09-19T21:42:11.699Z"
   },
   {
    "duration": 16,
    "start_time": "2021-09-19T21:42:25.042Z"
   },
   {
    "duration": 16,
    "start_time": "2021-09-19T21:42:29.043Z"
   },
   {
    "duration": 17,
    "start_time": "2021-09-19T21:42:45.082Z"
   },
   {
    "duration": 17,
    "start_time": "2021-09-19T21:42:58.698Z"
   },
   {
    "duration": 19,
    "start_time": "2021-09-19T21:43:02.866Z"
   },
   {
    "duration": 558,
    "start_time": "2021-09-19T21:47:52.670Z"
   },
   {
    "duration": 35,
    "start_time": "2021-09-19T21:47:53.230Z"
   },
   {
    "duration": 31,
    "start_time": "2021-09-19T21:47:53.268Z"
   },
   {
    "duration": 26,
    "start_time": "2021-09-19T21:47:53.301Z"
   },
   {
    "duration": 52,
    "start_time": "2021-09-19T21:47:53.330Z"
   },
   {
    "duration": 22,
    "start_time": "2021-09-19T21:47:53.385Z"
   },
   {
    "duration": 142,
    "start_time": "2021-09-19T21:47:53.410Z"
   },
   {
    "duration": 2,
    "start_time": "2021-09-19T21:47:53.556Z"
   },
   {
    "duration": 23,
    "start_time": "2021-09-19T21:47:53.561Z"
   },
   {
    "duration": 5,
    "start_time": "2021-09-19T21:47:53.586Z"
   },
   {
    "duration": 1050,
    "start_time": "2021-09-19T21:47:53.593Z"
   },
   {
    "duration": 1015,
    "start_time": "2021-09-19T21:47:54.646Z"
   },
   {
    "duration": 149,
    "start_time": "2021-09-19T21:47:55.663Z"
   },
   {
    "duration": 33,
    "start_time": "2021-09-19T21:47:55.814Z"
   },
   {
    "duration": 65,
    "start_time": "2021-09-19T21:47:55.850Z"
   },
   {
    "duration": 123,
    "start_time": "2021-09-19T21:47:55.918Z"
   },
   {
    "duration": 72,
    "start_time": "2021-09-19T21:47:56.044Z"
   },
   {
    "duration": 71,
    "start_time": "2021-09-19T21:47:56.119Z"
   },
   {
    "duration": 60,
    "start_time": "2021-09-19T21:47:56.193Z"
   },
   {
    "duration": 63,
    "start_time": "2021-09-19T21:47:56.255Z"
   },
   {
    "duration": 438,
    "start_time": "2021-09-19T21:47:56.321Z"
   },
   {
    "duration": 1758,
    "start_time": "2021-09-19T21:47:56.761Z"
   },
   {
    "duration": 1214,
    "start_time": "2021-09-19T21:47:58.523Z"
   },
   {
    "duration": 1276,
    "start_time": "2021-09-19T21:47:59.740Z"
   },
   {
    "duration": 18,
    "start_time": "2021-09-19T21:48:01.018Z"
   },
   {
    "duration": 45,
    "start_time": "2021-09-19T21:48:01.039Z"
   },
   {
    "duration": 2010,
    "start_time": "2021-09-19T22:28:24.573Z"
   },
   {
    "duration": 41,
    "start_time": "2021-09-19T22:28:26.586Z"
   },
   {
    "duration": 44,
    "start_time": "2021-09-19T22:28:26.630Z"
   },
   {
    "duration": 30,
    "start_time": "2021-09-19T22:28:26.678Z"
   },
   {
    "duration": 17,
    "start_time": "2021-09-19T22:28:26.711Z"
   },
   {
    "duration": 54,
    "start_time": "2021-09-19T22:28:26.731Z"
   },
   {
    "duration": 151,
    "start_time": "2021-09-19T22:28:26.788Z"
   },
   {
    "duration": 3,
    "start_time": "2021-09-19T22:28:26.943Z"
   },
   {
    "duration": 18,
    "start_time": "2021-09-19T22:28:26.950Z"
   },
   {
    "duration": 8,
    "start_time": "2021-09-19T22:28:26.971Z"
   },
   {
    "duration": 1091,
    "start_time": "2021-09-19T22:28:26.981Z"
   },
   {
    "duration": 1043,
    "start_time": "2021-09-19T22:28:28.074Z"
   },
   {
    "duration": 155,
    "start_time": "2021-09-19T22:28:29.120Z"
   },
   {
    "duration": 39,
    "start_time": "2021-09-19T22:28:29.277Z"
   },
   {
    "duration": 72,
    "start_time": "2021-09-19T22:28:29.318Z"
   },
   {
    "duration": 181,
    "start_time": "2021-09-19T22:28:29.392Z"
   },
   {
    "duration": 108,
    "start_time": "2021-09-19T22:28:29.576Z"
   },
   {
    "duration": 108,
    "start_time": "2021-09-19T22:28:29.687Z"
   },
   {
    "duration": 106,
    "start_time": "2021-09-19T22:28:29.798Z"
   },
   {
    "duration": 86,
    "start_time": "2021-09-19T22:28:29.908Z"
   },
   {
    "duration": 681,
    "start_time": "2021-09-19T22:28:29.997Z"
   },
   {
    "duration": 2208,
    "start_time": "2021-09-19T22:28:30.681Z"
   },
   {
    "duration": 1699,
    "start_time": "2021-09-19T22:28:32.895Z"
   },
   {
    "duration": 1874,
    "start_time": "2021-09-19T22:28:34.598Z"
   },
   {
    "duration": 24,
    "start_time": "2021-09-19T22:28:36.475Z"
   },
   {
    "duration": 24,
    "start_time": "2021-09-19T22:28:36.502Z"
   },
   {
    "duration": 1849,
    "start_time": "2022-03-04T11:35:31.349Z"
   },
   {
    "duration": 38,
    "start_time": "2022-03-04T11:35:33.201Z"
   },
   {
    "duration": 33,
    "start_time": "2022-03-04T11:35:33.242Z"
   },
   {
    "duration": 26,
    "start_time": "2022-03-04T11:35:33.278Z"
   },
   {
    "duration": 48,
    "start_time": "2022-03-04T11:35:33.307Z"
   },
   {
    "duration": 20,
    "start_time": "2022-03-04T11:35:33.358Z"
   },
   {
    "duration": 139,
    "start_time": "2022-03-04T11:35:33.380Z"
   },
   {
    "duration": 3,
    "start_time": "2022-03-04T11:35:33.522Z"
   },
   {
    "duration": 25,
    "start_time": "2022-03-04T11:35:33.528Z"
   },
   {
    "duration": 7,
    "start_time": "2022-03-04T11:35:33.555Z"
   },
   {
    "duration": 1015,
    "start_time": "2022-03-04T11:35:33.564Z"
   },
   {
    "duration": 976,
    "start_time": "2022-03-04T11:35:34.582Z"
   },
   {
    "duration": 143,
    "start_time": "2022-03-04T11:35:35.560Z"
   },
   {
    "duration": 61,
    "start_time": "2022-03-04T11:35:35.705Z"
   },
   {
    "duration": 39,
    "start_time": "2022-03-04T11:35:35.768Z"
   },
   {
    "duration": 141,
    "start_time": "2022-03-04T11:35:35.810Z"
   },
   {
    "duration": 61,
    "start_time": "2022-03-04T11:35:35.954Z"
   },
   {
    "duration": 83,
    "start_time": "2022-03-04T11:35:36.018Z"
   },
   {
    "duration": 74,
    "start_time": "2022-03-04T11:35:36.104Z"
   },
   {
    "duration": 47,
    "start_time": "2022-03-04T11:35:36.180Z"
   },
   {
    "duration": 89,
    "start_time": "2022-03-04T11:35:36.229Z"
   },
   {
    "duration": -928,
    "start_time": "2022-03-04T11:35:37.248Z"
   },
   {
    "duration": -928,
    "start_time": "2022-03-04T11:35:37.250Z"
   },
   {
    "duration": -929,
    "start_time": "2022-03-04T11:35:37.252Z"
   },
   {
    "duration": -936,
    "start_time": "2022-03-04T11:35:37.261Z"
   },
   {
    "duration": -937,
    "start_time": "2022-03-04T11:35:37.264Z"
   },
   {
    "duration": 1652,
    "start_time": "2022-03-04T11:36:36.773Z"
   },
   {
    "duration": 37,
    "start_time": "2022-03-04T11:36:38.427Z"
   },
   {
    "duration": 29,
    "start_time": "2022-03-04T11:36:38.467Z"
   },
   {
    "duration": 52,
    "start_time": "2022-03-04T11:36:38.499Z"
   },
   {
    "duration": 16,
    "start_time": "2022-03-04T11:36:38.553Z"
   },
   {
    "duration": 20,
    "start_time": "2022-03-04T11:36:38.571Z"
   },
   {
    "duration": 142,
    "start_time": "2022-03-04T11:36:38.594Z"
   },
   {
    "duration": 2,
    "start_time": "2022-03-04T11:36:38.739Z"
   },
   {
    "duration": 8,
    "start_time": "2022-03-04T11:36:38.753Z"
   },
   {
    "duration": 8,
    "start_time": "2022-03-04T11:36:38.764Z"
   },
   {
    "duration": 1004,
    "start_time": "2022-03-04T11:36:38.774Z"
   },
   {
    "duration": 974,
    "start_time": "2022-03-04T11:36:39.781Z"
   },
   {
    "duration": 134,
    "start_time": "2022-03-04T11:36:40.758Z"
   },
   {
    "duration": 32,
    "start_time": "2022-03-04T11:36:40.895Z"
   },
   {
    "duration": 37,
    "start_time": "2022-03-04T11:36:40.951Z"
   },
   {
    "duration": 121,
    "start_time": "2022-03-04T11:36:40.990Z"
   },
   {
    "duration": 73,
    "start_time": "2022-03-04T11:36:41.114Z"
   },
   {
    "duration": 73,
    "start_time": "2022-03-04T11:36:41.189Z"
   },
   {
    "duration": 61,
    "start_time": "2022-03-04T11:36:41.265Z"
   },
   {
    "duration": 63,
    "start_time": "2022-03-04T11:36:41.329Z"
   },
   {
    "duration": 403,
    "start_time": "2022-03-04T11:36:41.395Z"
   },
   {
    "duration": 1384,
    "start_time": "2022-03-04T11:36:41.801Z"
   },
   {
    "duration": 1076,
    "start_time": "2022-03-04T11:36:43.189Z"
   },
   {
    "duration": 1170,
    "start_time": "2022-03-04T11:36:44.268Z"
   },
   {
    "duration": 19,
    "start_time": "2022-03-04T11:36:45.452Z"
   },
   {
    "duration": 16,
    "start_time": "2022-03-04T11:36:45.473Z"
   },
   {
    "duration": 6317,
    "start_time": "2022-03-04T11:40:28.053Z"
   },
   {
    "duration": 51,
    "start_time": "2022-03-04T11:40:34.373Z"
   },
   {
    "duration": 34,
    "start_time": "2022-03-04T11:40:34.432Z"
   },
   {
    "duration": 26,
    "start_time": "2022-03-04T11:40:34.468Z"
   },
   {
    "duration": 16,
    "start_time": "2022-03-04T11:40:34.496Z"
   },
   {
    "duration": 19,
    "start_time": "2022-03-04T11:40:34.514Z"
   },
   {
    "duration": 120,
    "start_time": "2022-03-04T11:40:34.536Z"
   },
   {
    "duration": 3,
    "start_time": "2022-03-04T11:40:34.659Z"
   },
   {
    "duration": 11,
    "start_time": "2022-03-04T11:40:34.664Z"
   },
   {
    "duration": 6,
    "start_time": "2022-03-04T11:40:34.677Z"
   },
   {
    "duration": 1001,
    "start_time": "2022-03-04T11:40:34.685Z"
   },
   {
    "duration": 1445,
    "start_time": "2022-03-04T11:40:35.689Z"
   },
   {
    "duration": 123,
    "start_time": "2022-03-04T11:40:37.136Z"
   },
   {
    "duration": 33,
    "start_time": "2022-03-04T11:40:37.262Z"
   },
   {
    "duration": 38,
    "start_time": "2022-03-04T11:40:37.297Z"
   },
   {
    "duration": 138,
    "start_time": "2022-03-04T11:40:37.338Z"
   },
   {
    "duration": 64,
    "start_time": "2022-03-04T11:40:37.478Z"
   },
   {
    "duration": 61,
    "start_time": "2022-03-04T11:40:37.552Z"
   },
   {
    "duration": 66,
    "start_time": "2022-03-04T11:40:37.615Z"
   },
   {
    "duration": 44,
    "start_time": "2022-03-04T11:40:37.683Z"
   },
   {
    "duration": 390,
    "start_time": "2022-03-04T11:40:37.729Z"
   },
   {
    "duration": 1334,
    "start_time": "2022-03-04T11:40:38.123Z"
   },
   {
    "duration": 1033,
    "start_time": "2022-03-04T11:40:39.460Z"
   },
   {
    "duration": 1132,
    "start_time": "2022-03-04T11:40:40.495Z"
   },
   {
    "duration": 22,
    "start_time": "2022-03-04T11:40:41.629Z"
   },
   {
    "duration": 16,
    "start_time": "2022-03-04T11:40:41.653Z"
   }
  ],
  "kernelspec": {
   "display_name": "Python 3 (ipykernel)",
   "language": "python",
   "name": "python3"
  },
  "language_info": {
   "codemirror_mode": {
    "name": "ipython",
    "version": 3
   },
   "file_extension": ".py",
   "mimetype": "text/x-python",
   "name": "python",
   "nbconvert_exporter": "python",
   "pygments_lexer": "ipython3",
   "version": "3.9.7"
  },
  "toc": {
   "base_numbering": 1,
   "nav_menu": {},
   "number_sections": true,
   "sideBar": true,
   "skip_h1_title": true,
   "title_cell": "Table of Contents",
   "title_sidebar": "Contents",
   "toc_cell": false,
   "toc_position": {},
   "toc_section_display": true,
   "toc_window_display": true
  }
 },
 "nbformat": 4,
 "nbformat_minor": 2
}
